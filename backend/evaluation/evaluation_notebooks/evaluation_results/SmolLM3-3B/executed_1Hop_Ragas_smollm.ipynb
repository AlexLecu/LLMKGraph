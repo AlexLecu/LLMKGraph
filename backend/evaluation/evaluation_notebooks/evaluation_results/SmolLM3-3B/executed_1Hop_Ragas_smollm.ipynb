{
 "cells": [
  {
   "cell_type": "code",
   "execution_count": 1,
   "id": "12d5b393-f61e-4811-b970-cc6da6dacfce",
   "metadata": {
    "execution": {
     "iopub.execute_input": "2025-09-26T09:15:42.485502Z",
     "iopub.status.busy": "2025-09-26T09:15:42.485300Z",
     "iopub.status.idle": "2025-09-26T09:15:45.492215Z",
     "shell.execute_reply": "2025-09-26T09:15:45.491933Z"
    },
    "papermill": {
     "duration": 3.013616,
     "end_time": "2025-09-26T09:15:45.492967",
     "exception": false,
     "start_time": "2025-09-26T09:15:42.479351",
     "status": "completed"
    },
    "tags": []
   },
   "outputs": [
    {
     "data": {
      "text/plain": [
       "True"
      ]
     },
     "execution_count": 1,
     "metadata": {},
     "output_type": "execute_result"
    }
   ],
   "source": [
    "import pandas as pd\n",
    "import ast\n",
    "from ragas import evaluate\n",
    "from ragas.metrics import Faithfulness, AnswerRelevancy, ContextRecall\n",
    "from ragas import EvaluationDataset\n",
    "from datasets import Dataset\n",
    "from dotenv import load_dotenv\n",
    "from ragas.metrics import (\n",
    "    answer_correctness,\n",
    "    answer_relevancy,\n",
    "    faithfulness,\n",
    "    context_precision,\n",
    "    context_recall,\n",
    "    answer_similarity,\n",
    ")\n",
    "import os\n",
    "\n",
    "load_dotenv()"
   ]
  },
  {
   "cell_type": "code",
   "execution_count": 2,
   "id": "83f78bd9-52c5-40ef-ab8e-5e573944b5b5",
   "metadata": {
    "execution": {
     "iopub.execute_input": "2025-09-26T09:15:45.495406Z",
     "iopub.status.busy": "2025-09-26T09:15:45.495302Z",
     "iopub.status.idle": "2025-09-26T09:15:45.497459Z",
     "shell.execute_reply": "2025-09-26T09:15:45.497269Z"
    },
    "papermill": {
     "duration": 0.003842,
     "end_time": "2025-09-26T09:15:45.498054",
     "exception": false,
     "start_time": "2025-09-26T09:15:45.494212",
     "status": "completed"
    },
    "tags": []
   },
   "outputs": [],
   "source": [
    "def parse_context(context):\n",
    "    try:\n",
    "        if isinstance(context, list):\n",
    "            return [str(c) for c in context]\n",
    "        if isinstance(context, str):\n",
    "            context = context.strip()\n",
    "            parsed = ast.literal_eval(context)\n",
    "            if isinstance(parsed, list):\n",
    "                return [str(item) for item in parsed]\n",
    "            else:\n",
    "                return [str(parsed)]\n",
    "        return [str(context)]\n",
    "    except (ValueError, SyntaxError) as e:\n",
    "        print(f\"Warning: Failed to parse context '{context}' with error: {e}\")\n",
    "        return [str(context)]\n"
   ]
  },
  {
   "cell_type": "code",
   "execution_count": 3,
   "id": "75dfdf66-f7da-4e75-b13a-1b0e18dda893",
   "metadata": {
    "execution": {
     "iopub.execute_input": "2025-09-26T09:15:45.499764Z",
     "iopub.status.busy": "2025-09-26T09:15:45.499676Z",
     "iopub.status.idle": "2025-09-26T09:15:45.501166Z",
     "shell.execute_reply": "2025-09-26T09:15:45.500998Z"
    },
    "papermill": {
     "duration": 0.002925,
     "end_time": "2025-09-26T09:15:45.501694",
     "exception": false,
     "start_time": "2025-09-26T09:15:45.498769",
     "status": "completed"
    },
    "tags": []
   },
   "outputs": [],
   "source": [
    "import re\n",
    "\n",
    "def remove_think_tags(response):\n",
    "    cleaned_content = re.sub(r'<think>.*?</think>', '', response, flags=re.DOTALL)\n",
    "\n",
    "    return cleaned_content"
   ]
  },
  {
   "cell_type": "code",
   "execution_count": 4,
   "id": "5c962c96-5ba7-4ae1-a2a7-0aa5cd2bab77",
   "metadata": {
    "execution": {
     "iopub.execute_input": "2025-09-26T09:15:45.503241Z",
     "iopub.status.busy": "2025-09-26T09:15:45.503166Z",
     "iopub.status.idle": "2025-09-26T09:15:45.511231Z",
     "shell.execute_reply": "2025-09-26T09:15:45.511009Z"
    },
    "papermill": {
     "duration": 0.009454,
     "end_time": "2025-09-26T09:15:45.511788",
     "exception": false,
     "start_time": "2025-09-26T09:15:45.502334",
     "status": "completed"
    },
    "tags": []
   },
   "outputs": [],
   "source": [
    "df = pd.read_csv('data/1hop_ragas.csv')\n",
    "\n",
    "df = df.rename(columns={'context': 'retrieved_contexts'})\n",
    "df = df.rename(columns={'generated_answer': 'response'})"
   ]
  },
  {
   "cell_type": "code",
   "execution_count": 5,
   "id": "b7d1b5e8-9208-4cf9-a81c-f200b449a15d",
   "metadata": {
    "execution": {
     "iopub.execute_input": "2025-09-26T09:15:45.513653Z",
     "iopub.status.busy": "2025-09-26T09:15:45.513565Z",
     "iopub.status.idle": "2025-09-26T09:15:45.518867Z",
     "shell.execute_reply": "2025-09-26T09:15:45.518682Z"
    },
    "papermill": {
     "duration": 0.006887,
     "end_time": "2025-09-26T09:15:45.519400",
     "exception": false,
     "start_time": "2025-09-26T09:15:45.512513",
     "status": "completed"
    },
    "tags": []
   },
   "outputs": [],
   "source": [
    "df['retrieved_contexts'] = df['retrieved_contexts'].apply(parse_context)"
   ]
  },
  {
   "cell_type": "code",
   "execution_count": 6,
   "id": "44c57947-8e8e-42d6-bcae-03112c3708ea",
   "metadata": {
    "execution": {
     "iopub.execute_input": "2025-09-26T09:15:45.521491Z",
     "iopub.status.busy": "2025-09-26T09:15:45.521328Z",
     "iopub.status.idle": "2025-09-26T09:15:45.523863Z",
     "shell.execute_reply": "2025-09-26T09:15:45.523572Z"
    },
    "papermill": {
     "duration": 0.004206,
     "end_time": "2025-09-26T09:15:45.524476",
     "exception": false,
     "start_time": "2025-09-26T09:15:45.520270",
     "status": "completed"
    },
    "tags": []
   },
   "outputs": [],
   "source": [
    "df['response'] = df['response'].apply(remove_think_tags)"
   ]
  },
  {
   "cell_type": "code",
   "execution_count": 7,
   "id": "807cb567-d6ed-4807-b709-c1ef53c64f4b",
   "metadata": {
    "execution": {
     "iopub.execute_input": "2025-09-26T09:15:45.526559Z",
     "iopub.status.busy": "2025-09-26T09:15:45.526477Z",
     "iopub.status.idle": "2025-09-26T09:15:45.533521Z",
     "shell.execute_reply": "2025-09-26T09:15:45.533266Z"
    },
    "papermill": {
     "duration": 0.009142,
     "end_time": "2025-09-26T09:15:45.534561",
     "exception": false,
     "start_time": "2025-09-26T09:15:45.525419",
     "status": "completed"
    },
    "tags": []
   },
   "outputs": [],
   "source": [
    "evaluation_dataset = Dataset.from_pandas(df)"
   ]
  },
  {
   "cell_type": "code",
   "execution_count": 8,
   "id": "c754fc54-2160-42d5-93ef-e6c715bf2cc9",
   "metadata": {
    "execution": {
     "iopub.execute_input": "2025-09-26T09:15:45.536919Z",
     "iopub.status.busy": "2025-09-26T09:15:45.536808Z",
     "iopub.status.idle": "2025-09-26T09:30:53.580795Z",
     "shell.execute_reply": "2025-09-26T09:30:53.579501Z"
    },
    "papermill": {
     "duration": 908.048742,
     "end_time": "2025-09-26T09:30:53.584384",
     "exception": false,
     "start_time": "2025-09-26T09:15:45.535642",
     "status": "completed"
    },
    "tags": []
   },
   "outputs": [
    {
     "data": {
      "application/vnd.jupyter.widget-view+json": {
       "model_id": "85c8da78358f4947842a2d1e77b035f9",
       "version_major": 2,
       "version_minor": 0
      },
      "text/plain": [
       "Evaluating:   0%|          | 0/3000 [00:00<?, ?it/s]"
      ]
     },
     "metadata": {},
     "output_type": "display_data"
    },
    {
     "name": "stderr",
     "output_type": "stream",
     "text": [
      "Exception raised in Job[7]: IndexError(list index out of range)\n"
     ]
    },
    {
     "name": "stderr",
     "output_type": "stream",
     "text": [
      "Exception raised in Job[13]: IndexError(list index out of range)\n"
     ]
    },
    {
     "name": "stderr",
     "output_type": "stream",
     "text": [
      "Exception raised in Job[1]: IndexError(list index out of range)\n"
     ]
    },
    {
     "name": "stderr",
     "output_type": "stream",
     "text": [
      "Exception raised in Job[169]: IndexError(list index out of range)\n"
     ]
    },
    {
     "name": "stderr",
     "output_type": "stream",
     "text": [
      "Exception raised in Job[415]: IndexError(list index out of range)\n"
     ]
    },
    {
     "name": "stderr",
     "output_type": "stream",
     "text": [
      "Exception raised in Job[439]: IndexError(list index out of range)\n"
     ]
    },
    {
     "name": "stderr",
     "output_type": "stream",
     "text": [
      "Exception raised in Job[679]: IndexError(list index out of range)\n"
     ]
    },
    {
     "name": "stderr",
     "output_type": "stream",
     "text": [
      "Exception raised in Job[751]: IndexError(list index out of range)\n"
     ]
    },
    {
     "name": "stderr",
     "output_type": "stream",
     "text": [
      "Exception raised in Job[817]: IndexError(list index out of range)\n"
     ]
    },
    {
     "name": "stderr",
     "output_type": "stream",
     "text": [
      "Exception raised in Job[1327]: IndexError(list index out of range)\n"
     ]
    },
    {
     "name": "stderr",
     "output_type": "stream",
     "text": [
      "Exception raised in Job[1399]: IndexError(list index out of range)\n"
     ]
    },
    {
     "name": "stderr",
     "output_type": "stream",
     "text": [
      "Exception raised in Job[1447]: IndexError(list index out of range)\n"
     ]
    },
    {
     "name": "stderr",
     "output_type": "stream",
     "text": [
      "Exception raised in Job[1513]: IndexError(list index out of range)\n"
     ]
    },
    {
     "name": "stderr",
     "output_type": "stream",
     "text": [
      "Exception raised in Job[1909]: IndexError(list index out of range)\n"
     ]
    },
    {
     "name": "stderr",
     "output_type": "stream",
     "text": [
      "Exception raised in Job[2077]: IndexError(list index out of range)\n"
     ]
    },
    {
     "name": "stderr",
     "output_type": "stream",
     "text": [
      "Exception raised in Job[2143]: IndexError(list index out of range)\n"
     ]
    },
    {
     "name": "stderr",
     "output_type": "stream",
     "text": [
      "Exception raised in Job[2203]: IndexError(list index out of range)\n"
     ]
    },
    {
     "name": "stderr",
     "output_type": "stream",
     "text": [
      "Exception raised in Job[2227]: IndexError(list index out of range)\n"
     ]
    },
    {
     "name": "stderr",
     "output_type": "stream",
     "text": [
      "Exception raised in Job[2293]: IndexError(list index out of range)\n"
     ]
    },
    {
     "name": "stderr",
     "output_type": "stream",
     "text": [
      "Exception raised in Job[2395]: IndexError(list index out of range)\n"
     ]
    },
    {
     "name": "stderr",
     "output_type": "stream",
     "text": [
      "Exception raised in Job[2611]: IndexError(list index out of range)\n"
     ]
    },
    {
     "name": "stderr",
     "output_type": "stream",
     "text": [
      "Exception raised in Job[2623]: IndexError(list index out of range)\n"
     ]
    },
    {
     "name": "stderr",
     "output_type": "stream",
     "text": [
      "Exception raised in Job[2737]: IndexError(list index out of range)\n"
     ]
    },
    {
     "name": "stderr",
     "output_type": "stream",
     "text": [
      "Exception raised in Job[2833]: IndexError(list index out of range)\n"
     ]
    },
    {
     "name": "stderr",
     "output_type": "stream",
     "text": [
      "Exception raised in Job[2845]: IndexError(list index out of range)\n"
     ]
    },
    {
     "name": "stderr",
     "output_type": "stream",
     "text": [
      "Exception raised in Job[2983]: IndexError(list index out of range)\n"
     ]
    }
   ],
   "source": [
    "result = evaluate(\n",
    "    dataset=evaluation_dataset,\n",
    "    metrics=[\n",
    "        answer_correctness,\n",
    "        answer_relevancy,\n",
    "        answer_similarity,\n",
    "        faithfulness,\n",
    "        context_precision,\n",
    "        context_recall,\n",
    "    ])"
   ]
  },
  {
   "cell_type": "code",
   "execution_count": 9,
   "id": "ef459d14-b7fc-44ad-8a72-1d3d478ec533",
   "metadata": {
    "execution": {
     "iopub.execute_input": "2025-09-26T09:30:53.601279Z",
     "iopub.status.busy": "2025-09-26T09:30:53.600895Z",
     "iopub.status.idle": "2025-09-26T09:30:53.610499Z",
     "shell.execute_reply": "2025-09-26T09:30:53.610268Z"
    },
    "papermill": {
     "duration": 0.018419,
     "end_time": "2025-09-26T09:30:53.611192",
     "exception": false,
     "start_time": "2025-09-26T09:30:53.592773",
     "status": "completed"
    },
    "tags": []
   },
   "outputs": [
    {
     "data": {
      "text/plain": [
       "{'answer_correctness': 0.5441, 'answer_relevancy': 0.9223, 'answer_similarity': 0.9143, 'faithfulness': 0.9141, 'context_precision': 0.7280, 'context_recall': 0.5110}"
      ]
     },
     "execution_count": 9,
     "metadata": {},
     "output_type": "execute_result"
    }
   ],
   "source": [
    "result"
   ]
  },
  {
   "cell_type": "code",
   "execution_count": 10,
   "id": "fb0f4e07-02c9-48d1-8ef8-d7ada4f1c3b1",
   "metadata": {
    "execution": {
     "iopub.execute_input": "2025-09-26T09:30:53.614055Z",
     "iopub.status.busy": "2025-09-26T09:30:53.613967Z",
     "iopub.status.idle": "2025-09-26T09:30:53.618429Z",
     "shell.execute_reply": "2025-09-26T09:30:53.618202Z"
    },
    "papermill": {
     "duration": 0.006471,
     "end_time": "2025-09-26T09:30:53.619013",
     "exception": false,
     "start_time": "2025-09-26T09:30:53.612542",
     "status": "completed"
    },
    "tags": []
   },
   "outputs": [],
   "source": [
    "results_df = result.to_pandas()"
   ]
  },
  {
   "cell_type": "code",
   "execution_count": 11,
   "id": "236fdb91-0727-4e92-b049-265f4fef6bcb",
   "metadata": {
    "execution": {
     "iopub.execute_input": "2025-09-26T09:30:53.622522Z",
     "iopub.status.busy": "2025-09-26T09:30:53.622405Z",
     "iopub.status.idle": "2025-09-26T09:30:53.641706Z",
     "shell.execute_reply": "2025-09-26T09:30:53.641358Z"
    },
    "papermill": {
     "duration": 0.021875,
     "end_time": "2025-09-26T09:30:53.642457",
     "exception": false,
     "start_time": "2025-09-26T09:30:53.620582",
     "status": "completed"
    },
    "tags": []
   },
   "outputs": [],
   "source": [
    "results_df.to_csv('1hop_ragas_smollm_evaluation.csv', index=False)"
   ]
  }
 ],
 "metadata": {
  "kernelspec": {
   "display_name": "Python 3 (ipykernel)",
   "language": "python",
   "name": "python3"
  },
  "language_info": {
   "codemirror_mode": {
    "name": "ipython",
    "version": 3
   },
   "file_extension": ".py",
   "mimetype": "text/x-python",
   "name": "python",
   "nbconvert_exporter": "python",
   "pygments_lexer": "ipython3",
   "version": "3.10.16"
  },
  "papermill": {
   "default_parameters": {},
   "duration": 914.419076,
   "end_time": "2025-09-26T09:30:56.266193",
   "environment_variables": {},
   "exception": null,
   "input_path": "/Users/alexlecu/PycharmProjects/LLMKGraph/backend/evaluation/evaluation_notebooks/evaluation_results/SmolLM3-3B/1Hop_Ragas_smollm.ipynb",
   "output_path": "./ragas_results_hf_executed_notebooks/executed_1Hop_Ragas_smollm.ipynb",
   "parameters": {},
   "start_time": "2025-09-26T09:15:41.847117",
   "version": "2.6.0"
  },
  "widgets": {
   "application/vnd.jupyter.widget-state+json": {
    "state": {
     "40030f628d4e496293ced9cffa1e21eb": {
      "model_module": "@jupyter-widgets/base",
      "model_module_version": "2.0.0",
      "model_name": "LayoutModel",
      "state": {
       "_model_module": "@jupyter-widgets/base",
       "_model_module_version": "2.0.0",
       "_model_name": "LayoutModel",
       "_view_count": null,
       "_view_module": "@jupyter-widgets/base",
       "_view_module_version": "2.0.0",
       "_view_name": "LayoutView",
       "align_content": null,
       "align_items": null,
       "align_self": null,
       "border_bottom": null,
       "border_left": null,
       "border_right": null,
       "border_top": null,
       "bottom": null,
       "display": null,
       "flex": null,
       "flex_flow": null,
       "grid_area": null,
       "grid_auto_columns": null,
       "grid_auto_flow": null,
       "grid_auto_rows": null,
       "grid_column": null,
       "grid_gap": null,
       "grid_row": null,
       "grid_template_areas": null,
       "grid_template_columns": null,
       "grid_template_rows": null,
       "height": null,
       "justify_content": null,
       "justify_items": null,
       "left": null,
       "margin": null,
       "max_height": null,
       "max_width": null,
       "min_height": null,
       "min_width": null,
       "object_fit": null,
       "object_position": null,
       "order": null,
       "overflow": null,
       "padding": null,
       "right": null,
       "top": null,
       "visibility": null,
       "width": null
      }
     },
     "5ace19c46b5a4c1dbaf82721a353d15a": {
      "model_module": "@jupyter-widgets/controls",
      "model_module_version": "2.0.0",
      "model_name": "HTMLStyleModel",
      "state": {
       "_model_module": "@jupyter-widgets/controls",
       "_model_module_version": "2.0.0",
       "_model_name": "HTMLStyleModel",
       "_view_count": null,
       "_view_module": "@jupyter-widgets/base",
       "_view_module_version": "2.0.0",
       "_view_name": "StyleView",
       "background": null,
       "description_width": "",
       "font_size": null,
       "text_color": null
      }
     },
     "7d5dbb9a8b894d46bb443599fd1c8f16": {
      "model_module": "@jupyter-widgets/base",
      "model_module_version": "2.0.0",
      "model_name": "LayoutModel",
      "state": {
       "_model_module": "@jupyter-widgets/base",
       "_model_module_version": "2.0.0",
       "_model_name": "LayoutModel",
       "_view_count": null,
       "_view_module": "@jupyter-widgets/base",
       "_view_module_version": "2.0.0",
       "_view_name": "LayoutView",
       "align_content": null,
       "align_items": null,
       "align_self": null,
       "border_bottom": null,
       "border_left": null,
       "border_right": null,
       "border_top": null,
       "bottom": null,
       "display": null,
       "flex": null,
       "flex_flow": null,
       "grid_area": null,
       "grid_auto_columns": null,
       "grid_auto_flow": null,
       "grid_auto_rows": null,
       "grid_column": null,
       "grid_gap": null,
       "grid_row": null,
       "grid_template_areas": null,
       "grid_template_columns": null,
       "grid_template_rows": null,
       "height": null,
       "justify_content": null,
       "justify_items": null,
       "left": null,
       "margin": null,
       "max_height": null,
       "max_width": null,
       "min_height": null,
       "min_width": null,
       "object_fit": null,
       "object_position": null,
       "order": null,
       "overflow": null,
       "padding": null,
       "right": null,
       "top": null,
       "visibility": null,
       "width": null
      }
     },
     "7d855a6fd6704ab29abc548e5ccd88b0": {
      "model_module": "@jupyter-widgets/base",
      "model_module_version": "2.0.0",
      "model_name": "LayoutModel",
      "state": {
       "_model_module": "@jupyter-widgets/base",
       "_model_module_version": "2.0.0",
       "_model_name": "LayoutModel",
       "_view_count": null,
       "_view_module": "@jupyter-widgets/base",
       "_view_module_version": "2.0.0",
       "_view_name": "LayoutView",
       "align_content": null,
       "align_items": null,
       "align_self": null,
       "border_bottom": null,
       "border_left": null,
       "border_right": null,
       "border_top": null,
       "bottom": null,
       "display": null,
       "flex": null,
       "flex_flow": null,
       "grid_area": null,
       "grid_auto_columns": null,
       "grid_auto_flow": null,
       "grid_auto_rows": null,
       "grid_column": null,
       "grid_gap": null,
       "grid_row": null,
       "grid_template_areas": null,
       "grid_template_columns": null,
       "grid_template_rows": null,
       "height": null,
       "justify_content": null,
       "justify_items": null,
       "left": null,
       "margin": null,
       "max_height": null,
       "max_width": null,
       "min_height": null,
       "min_width": null,
       "object_fit": null,
       "object_position": null,
       "order": null,
       "overflow": null,
       "padding": null,
       "right": null,
       "top": null,
       "visibility": null,
       "width": null
      }
     },
     "85c8da78358f4947842a2d1e77b035f9": {
      "model_module": "@jupyter-widgets/controls",
      "model_module_version": "2.0.0",
      "model_name": "HBoxModel",
      "state": {
       "_dom_classes": [],
       "_model_module": "@jupyter-widgets/controls",
       "_model_module_version": "2.0.0",
       "_model_name": "HBoxModel",
       "_view_count": null,
       "_view_module": "@jupyter-widgets/controls",
       "_view_module_version": "2.0.0",
       "_view_name": "HBoxView",
       "box_style": "",
       "children": [
        "IPY_MODEL_868fb57949a84e2e8838973d623a59aa",
        "IPY_MODEL_eb28b2ed77f744be8540b79f77ab53a3",
        "IPY_MODEL_d5ba495c893844949310c8c69ca7dcbe"
       ],
       "layout": "IPY_MODEL_b714e34b096b4b12bbd988230a27f0b0",
       "tabbable": null,
       "tooltip": null
      }
     },
     "868fb57949a84e2e8838973d623a59aa": {
      "model_module": "@jupyter-widgets/controls",
      "model_module_version": "2.0.0",
      "model_name": "HTMLModel",
      "state": {
       "_dom_classes": [],
       "_model_module": "@jupyter-widgets/controls",
       "_model_module_version": "2.0.0",
       "_model_name": "HTMLModel",
       "_view_count": null,
       "_view_module": "@jupyter-widgets/controls",
       "_view_module_version": "2.0.0",
       "_view_name": "HTMLView",
       "description": "",
       "description_allow_html": false,
       "layout": "IPY_MODEL_7d855a6fd6704ab29abc548e5ccd88b0",
       "placeholder": "​",
       "style": "IPY_MODEL_d5ff72990101424483e41de9259f1ed4",
       "tabbable": null,
       "tooltip": null,
       "value": "Evaluating: 100%"
      }
     },
     "99a0150eec4c4143a1d7a301b73d61d6": {
      "model_module": "@jupyter-widgets/controls",
      "model_module_version": "2.0.0",
      "model_name": "ProgressStyleModel",
      "state": {
       "_model_module": "@jupyter-widgets/controls",
       "_model_module_version": "2.0.0",
       "_model_name": "ProgressStyleModel",
       "_view_count": null,
       "_view_module": "@jupyter-widgets/base",
       "_view_module_version": "2.0.0",
       "_view_name": "StyleView",
       "bar_color": null,
       "description_width": ""
      }
     },
     "b714e34b096b4b12bbd988230a27f0b0": {
      "model_module": "@jupyter-widgets/base",
      "model_module_version": "2.0.0",
      "model_name": "LayoutModel",
      "state": {
       "_model_module": "@jupyter-widgets/base",
       "_model_module_version": "2.0.0",
       "_model_name": "LayoutModel",
       "_view_count": null,
       "_view_module": "@jupyter-widgets/base",
       "_view_module_version": "2.0.0",
       "_view_name": "LayoutView",
       "align_content": null,
       "align_items": null,
       "align_self": null,
       "border_bottom": null,
       "border_left": null,
       "border_right": null,
       "border_top": null,
       "bottom": null,
       "display": null,
       "flex": null,
       "flex_flow": null,
       "grid_area": null,
       "grid_auto_columns": null,
       "grid_auto_flow": null,
       "grid_auto_rows": null,
       "grid_column": null,
       "grid_gap": null,
       "grid_row": null,
       "grid_template_areas": null,
       "grid_template_columns": null,
       "grid_template_rows": null,
       "height": null,
       "justify_content": null,
       "justify_items": null,
       "left": null,
       "margin": null,
       "max_height": null,
       "max_width": null,
       "min_height": null,
       "min_width": null,
       "object_fit": null,
       "object_position": null,
       "order": null,
       "overflow": null,
       "padding": null,
       "right": null,
       "top": null,
       "visibility": null,
       "width": null
      }
     },
     "d5ba495c893844949310c8c69ca7dcbe": {
      "model_module": "@jupyter-widgets/controls",
      "model_module_version": "2.0.0",
      "model_name": "HTMLModel",
      "state": {
       "_dom_classes": [],
       "_model_module": "@jupyter-widgets/controls",
       "_model_module_version": "2.0.0",
       "_model_name": "HTMLModel",
       "_view_count": null,
       "_view_module": "@jupyter-widgets/controls",
       "_view_module_version": "2.0.0",
       "_view_name": "HTMLView",
       "description": "",
       "description_allow_html": false,
       "layout": "IPY_MODEL_40030f628d4e496293ced9cffa1e21eb",
       "placeholder": "​",
       "style": "IPY_MODEL_5ace19c46b5a4c1dbaf82721a353d15a",
       "tabbable": null,
       "tooltip": null,
       "value": " 3000/3000 [15:06&lt;00:00,  6.41s/it]"
      }
     },
     "d5ff72990101424483e41de9259f1ed4": {
      "model_module": "@jupyter-widgets/controls",
      "model_module_version": "2.0.0",
      "model_name": "HTMLStyleModel",
      "state": {
       "_model_module": "@jupyter-widgets/controls",
       "_model_module_version": "2.0.0",
       "_model_name": "HTMLStyleModel",
       "_view_count": null,
       "_view_module": "@jupyter-widgets/base",
       "_view_module_version": "2.0.0",
       "_view_name": "StyleView",
       "background": null,
       "description_width": "",
       "font_size": null,
       "text_color": null
      }
     },
     "eb28b2ed77f744be8540b79f77ab53a3": {
      "model_module": "@jupyter-widgets/controls",
      "model_module_version": "2.0.0",
      "model_name": "FloatProgressModel",
      "state": {
       "_dom_classes": [],
       "_model_module": "@jupyter-widgets/controls",
       "_model_module_version": "2.0.0",
       "_model_name": "FloatProgressModel",
       "_view_count": null,
       "_view_module": "@jupyter-widgets/controls",
       "_view_module_version": "2.0.0",
       "_view_name": "ProgressView",
       "bar_style": "success",
       "description": "",
       "description_allow_html": false,
       "layout": "IPY_MODEL_7d5dbb9a8b894d46bb443599fd1c8f16",
       "max": 3000.0,
       "min": 0.0,
       "orientation": "horizontal",
       "style": "IPY_MODEL_99a0150eec4c4143a1d7a301b73d61d6",
       "tabbable": null,
       "tooltip": null,
       "value": 3000.0
      }
     }
    },
    "version_major": 2,
    "version_minor": 0
   }
  }
 },
 "nbformat": 4,
 "nbformat_minor": 5
}