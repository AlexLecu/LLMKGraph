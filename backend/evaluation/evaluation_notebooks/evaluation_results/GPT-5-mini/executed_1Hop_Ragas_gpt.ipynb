{
 "cells": [
  {
   "cell_type": "code",
   "execution_count": 1,
   "id": "12d5b393-f61e-4811-b970-cc6da6dacfce",
   "metadata": {
    "execution": {
     "iopub.execute_input": "2025-09-16T18:58:18.134978Z",
     "iopub.status.busy": "2025-09-16T18:58:18.134499Z",
     "iopub.status.idle": "2025-09-16T18:58:20.479399Z",
     "shell.execute_reply": "2025-09-16T18:58:20.479141Z"
    },
    "papermill": {
     "duration": 2.351404,
     "end_time": "2025-09-16T18:58:20.480062",
     "exception": false,
     "start_time": "2025-09-16T18:58:18.128658",
     "status": "completed"
    },
    "tags": []
   },
   "outputs": [
    {
     "data": {
      "text/plain": [
       "True"
      ]
     },
     "execution_count": 1,
     "metadata": {},
     "output_type": "execute_result"
    }
   ],
   "source": [
    "import pandas as pd\n",
    "import ast\n",
    "from ragas import evaluate\n",
    "from ragas.metrics import Faithfulness, AnswerRelevancy, ContextRecall\n",
    "from ragas import EvaluationDataset\n",
    "from datasets import Dataset\n",
    "from dotenv import load_dotenv\n",
    "from ragas.metrics import (\n",
    "    answer_correctness,\n",
    "    answer_relevancy,\n",
    "    faithfulness,\n",
    "    context_precision,\n",
    "    context_recall,\n",
    "    answer_similarity,\n",
    ")\n",
    "import os\n",
    "\n",
    "load_dotenv()"
   ]
  },
  {
   "cell_type": "code",
   "execution_count": 2,
   "id": "83f78bd9-52c5-40ef-ab8e-5e573944b5b5",
   "metadata": {
    "execution": {
     "iopub.execute_input": "2025-09-16T18:58:20.482097Z",
     "iopub.status.busy": "2025-09-16T18:58:20.481827Z",
     "iopub.status.idle": "2025-09-16T18:58:20.484206Z",
     "shell.execute_reply": "2025-09-16T18:58:20.484016Z"
    },
    "papermill": {
     "duration": 0.003909,
     "end_time": "2025-09-16T18:58:20.484783",
     "exception": false,
     "start_time": "2025-09-16T18:58:20.480874",
     "status": "completed"
    },
    "tags": []
   },
   "outputs": [],
   "source": [
    "def parse_context(context):\n",
    "    try:\n",
    "        if isinstance(context, list):\n",
    "            return [str(c) for c in context]\n",
    "        if isinstance(context, str):\n",
    "            context = context.strip()\n",
    "            parsed = ast.literal_eval(context)\n",
    "            if isinstance(parsed, list):\n",
    "                return [str(item) for item in parsed]\n",
    "            else:\n",
    "                return [str(parsed)]\n",
    "        return [str(context)]\n",
    "    except (ValueError, SyntaxError) as e:\n",
    "        print(f\"Warning: Failed to parse context '{context}' with error: {e}\")\n",
    "        return [str(context)]\n"
   ]
  },
  {
   "cell_type": "code",
   "execution_count": 3,
   "id": "5c962c96-5ba7-4ae1-a2a7-0aa5cd2bab77",
   "metadata": {
    "execution": {
     "iopub.execute_input": "2025-09-16T18:58:20.486344Z",
     "iopub.status.busy": "2025-09-16T18:58:20.486265Z",
     "iopub.status.idle": "2025-09-16T18:58:20.492520Z",
     "shell.execute_reply": "2025-09-16T18:58:20.492281Z"
    },
    "papermill": {
     "duration": 0.007654,
     "end_time": "2025-09-16T18:58:20.493082",
     "exception": false,
     "start_time": "2025-09-16T18:58:20.485428",
     "status": "completed"
    },
    "tags": []
   },
   "outputs": [],
   "source": [
    "df = pd.read_csv('data/1hop_ragas.csv')\n",
    "\n",
    "df = df.rename(columns={'context': 'retrieved_contexts'})\n",
    "df = df.rename(columns={'generated_answer': 'response'})"
   ]
  },
  {
   "cell_type": "code",
   "execution_count": 4,
   "id": "b7d1b5e8-9208-4cf9-a81c-f200b449a15d",
   "metadata": {
    "execution": {
     "iopub.execute_input": "2025-09-16T18:58:20.494641Z",
     "iopub.status.busy": "2025-09-16T18:58:20.494566Z",
     "iopub.status.idle": "2025-09-16T18:58:20.498107Z",
     "shell.execute_reply": "2025-09-16T18:58:20.497921Z"
    },
    "papermill": {
     "duration": 0.004985,
     "end_time": "2025-09-16T18:58:20.498713",
     "exception": false,
     "start_time": "2025-09-16T18:58:20.493728",
     "status": "completed"
    },
    "tags": []
   },
   "outputs": [],
   "source": [
    "df['retrieved_contexts'] = df['retrieved_contexts'].apply(parse_context)"
   ]
  },
  {
   "cell_type": "code",
   "execution_count": 5,
   "id": "807cb567-d6ed-4807-b709-c1ef53c64f4b",
   "metadata": {
    "execution": {
     "iopub.execute_input": "2025-09-16T18:58:20.500253Z",
     "iopub.status.busy": "2025-09-16T18:58:20.500193Z",
     "iopub.status.idle": "2025-09-16T18:58:20.504976Z",
     "shell.execute_reply": "2025-09-16T18:58:20.504744Z"
    },
    "papermill": {
     "duration": 0.006151,
     "end_time": "2025-09-16T18:58:20.505509",
     "exception": false,
     "start_time": "2025-09-16T18:58:20.499358",
     "status": "completed"
    },
    "tags": []
   },
   "outputs": [],
   "source": [
    "evaluation_dataset = Dataset.from_pandas(df)"
   ]
  },
  {
   "cell_type": "code",
   "execution_count": 6,
   "id": "c754fc54-2160-42d5-93ef-e6c715bf2cc9",
   "metadata": {
    "execution": {
     "iopub.execute_input": "2025-09-16T18:58:20.507169Z",
     "iopub.status.busy": "2025-09-16T18:58:20.507022Z",
     "iopub.status.idle": "2025-09-16T19:14:48.887854Z",
     "shell.execute_reply": "2025-09-16T19:14:48.886152Z"
    },
    "papermill": {
     "duration": 988.385235,
     "end_time": "2025-09-16T19:14:48.891394",
     "exception": false,
     "start_time": "2025-09-16T18:58:20.506159",
     "status": "completed"
    },
    "tags": []
   },
   "outputs": [
    {
     "data": {
      "application/vnd.jupyter.widget-view+json": {
       "model_id": "b8e8a9f28bd540c8b0fdd569916850aa",
       "version_major": 2,
       "version_minor": 0
      },
      "text/plain": [
       "Evaluating:   0%|          | 0/3000 [00:00<?, ?it/s]"
      ]
     },
     "metadata": {},
     "output_type": "display_data"
    },
    {
     "name": "stderr",
     "output_type": "stream",
     "text": [
      "Exception raised in Job[1]: IndexError(list index out of range)\n"
     ]
    },
    {
     "name": "stderr",
     "output_type": "stream",
     "text": [
      "Exception raised in Job[13]: IndexError(list index out of range)\n"
     ]
    },
    {
     "name": "stderr",
     "output_type": "stream",
     "text": [
      "Exception raised in Job[7]: IndexError(list index out of range)\n"
     ]
    },
    {
     "name": "stderr",
     "output_type": "stream",
     "text": [
      "Exception raised in Job[85]: IndexError(list index out of range)\n"
     ]
    },
    {
     "name": "stderr",
     "output_type": "stream",
     "text": [
      "Exception raised in Job[235]: IndexError(list index out of range)\n"
     ]
    },
    {
     "name": "stderr",
     "output_type": "stream",
     "text": [
      "Exception raised in Job[259]: IndexError(list index out of range)\n"
     ]
    },
    {
     "name": "stderr",
     "output_type": "stream",
     "text": [
      "Exception raised in Job[295]: IndexError(list index out of range)\n"
     ]
    },
    {
     "name": "stderr",
     "output_type": "stream",
     "text": [
      "Exception raised in Job[325]: IndexError(list index out of range)\n"
     ]
    },
    {
     "name": "stderr",
     "output_type": "stream",
     "text": [
      "Exception raised in Job[343]: IndexError(list index out of range)\n"
     ]
    },
    {
     "name": "stderr",
     "output_type": "stream",
     "text": [
      "Exception raised in Job[385]: IndexError(list index out of range)\n"
     ]
    },
    {
     "name": "stderr",
     "output_type": "stream",
     "text": [
      "Exception raised in Job[409]: IndexError(list index out of range)\n"
     ]
    },
    {
     "name": "stderr",
     "output_type": "stream",
     "text": [
      "Exception raised in Job[661]: IndexError(list index out of range)\n"
     ]
    },
    {
     "name": "stderr",
     "output_type": "stream",
     "text": [
      "Exception raised in Job[793]: IndexError(list index out of range)\n"
     ]
    },
    {
     "name": "stderr",
     "output_type": "stream",
     "text": [
      "Exception raised in Job[973]: IndexError(list index out of range)\n"
     ]
    },
    {
     "name": "stderr",
     "output_type": "stream",
     "text": [
      "Exception raised in Job[1063]: IndexError(list index out of range)\n"
     ]
    },
    {
     "name": "stderr",
     "output_type": "stream",
     "text": [
      "Exception raised in Job[1075]: IndexError(list index out of range)\n"
     ]
    },
    {
     "name": "stderr",
     "output_type": "stream",
     "text": [
      "Exception raised in Job[1333]: IndexError(list index out of range)\n"
     ]
    },
    {
     "name": "stderr",
     "output_type": "stream",
     "text": [
      "Exception raised in Job[1783]: IndexError(list index out of range)\n"
     ]
    },
    {
     "name": "stderr",
     "output_type": "stream",
     "text": [
      "Exception raised in Job[1825]: IndexError(list index out of range)\n"
     ]
    },
    {
     "name": "stderr",
     "output_type": "stream",
     "text": [
      "Exception raised in Job[1837]: IndexError(list index out of range)\n"
     ]
    },
    {
     "name": "stderr",
     "output_type": "stream",
     "text": [
      "Exception raised in Job[1903]: IndexError(list index out of range)\n"
     ]
    },
    {
     "name": "stderr",
     "output_type": "stream",
     "text": [
      "Exception raised in Job[2179]: IndexError(list index out of range)\n"
     ]
    },
    {
     "name": "stderr",
     "output_type": "stream",
     "text": [
      "Exception raised in Job[2269]: IndexError(list index out of range)\n"
     ]
    },
    {
     "name": "stderr",
     "output_type": "stream",
     "text": [
      "Exception raised in Job[2359]: IndexError(list index out of range)\n"
     ]
    },
    {
     "name": "stderr",
     "output_type": "stream",
     "text": [
      "Exception raised in Job[2383]: IndexError(list index out of range)\n"
     ]
    },
    {
     "name": "stderr",
     "output_type": "stream",
     "text": [
      "Exception raised in Job[2521]: IndexError(list index out of range)\n"
     ]
    },
    {
     "name": "stderr",
     "output_type": "stream",
     "text": [
      "Exception raised in Job[2545]: IndexError(list index out of range)\n"
     ]
    },
    {
     "name": "stderr",
     "output_type": "stream",
     "text": [
      "Exception raised in Job[2695]: IndexError(list index out of range)\n"
     ]
    },
    {
     "name": "stderr",
     "output_type": "stream",
     "text": [
      "Exception raised in Job[2749]: IndexError(list index out of range)\n"
     ]
    },
    {
     "name": "stderr",
     "output_type": "stream",
     "text": [
      "Exception raised in Job[2989]: IndexError(list index out of range)\n"
     ]
    }
   ],
   "source": [
    "result = evaluate(\n",
    "    dataset=evaluation_dataset,\n",
    "    metrics=[\n",
    "        answer_correctness,\n",
    "        answer_relevancy,\n",
    "        answer_similarity,\n",
    "        faithfulness,\n",
    "        context_precision,\n",
    "        context_recall,\n",
    "    ])"
   ]
  },
  {
   "cell_type": "code",
   "execution_count": 7,
   "id": "ef459d14-b7fc-44ad-8a72-1d3d478ec533",
   "metadata": {
    "execution": {
     "iopub.execute_input": "2025-09-16T19:14:48.910233Z",
     "iopub.status.busy": "2025-09-16T19:14:48.909907Z",
     "iopub.status.idle": "2025-09-16T19:14:48.914092Z",
     "shell.execute_reply": "2025-09-16T19:14:48.913616Z"
    },
    "papermill": {
     "duration": 0.012237,
     "end_time": "2025-09-16T19:14:48.915181",
     "exception": false,
     "start_time": "2025-09-16T19:14:48.902944",
     "status": "completed"
    },
    "tags": []
   },
   "outputs": [
    {
     "data": {
      "text/plain": [
       "{'answer_correctness': 0.5253, 'answer_relevancy': 0.9038, 'answer_similarity': 0.9149, 'faithfulness': 0.9678, 'context_precision': 0.7960, 'context_recall': 0.6420}"
      ]
     },
     "execution_count": 7,
     "metadata": {},
     "output_type": "execute_result"
    }
   ],
   "source": [
    "result"
   ]
  },
  {
   "cell_type": "code",
   "execution_count": 8,
   "id": "fb0f4e07-02c9-48d1-8ef8-d7ada4f1c3b1",
   "metadata": {
    "execution": {
     "iopub.execute_input": "2025-09-16T19:14:48.924032Z",
     "iopub.status.busy": "2025-09-16T19:14:48.923710Z",
     "iopub.status.idle": "2025-09-16T19:14:48.930313Z",
     "shell.execute_reply": "2025-09-16T19:14:48.929914Z"
    },
    "papermill": {
     "duration": 0.012307,
     "end_time": "2025-09-16T19:14:48.931471",
     "exception": false,
     "start_time": "2025-09-16T19:14:48.919164",
     "status": "completed"
    },
    "tags": []
   },
   "outputs": [],
   "source": [
    "results_df = result.to_pandas()"
   ]
  },
  {
   "cell_type": "code",
   "execution_count": 9,
   "id": "236fdb91-0727-4e92-b049-265f4fef6bcb",
   "metadata": {
    "execution": {
     "iopub.execute_input": "2025-09-16T19:14:48.937735Z",
     "iopub.status.busy": "2025-09-16T19:14:48.937571Z",
     "iopub.status.idle": "2025-09-16T19:14:48.952759Z",
     "shell.execute_reply": "2025-09-16T19:14:48.952419Z"
    },
    "papermill": {
     "duration": 0.01888,
     "end_time": "2025-09-16T19:14:48.953554",
     "exception": false,
     "start_time": "2025-09-16T19:14:48.934674",
     "status": "completed"
    },
    "tags": []
   },
   "outputs": [],
   "source": [
    "results_df.to_csv('1hop_ragas_evaluation.csv', index=False)"
   ]
  }
 ],
 "metadata": {
  "kernelspec": {
   "display_name": "Python 3 (ipykernel)",
   "language": "python",
   "name": "python3"
  },
  "language_info": {
   "codemirror_mode": {
    "name": "ipython",
    "version": 3
   },
   "file_extension": ".py",
   "mimetype": "text/x-python",
   "name": "python",
   "nbconvert_exporter": "python",
   "pygments_lexer": "ipython3",
   "version": "3.10.16"
  },
  "papermill": {
   "default_parameters": {},
   "duration": 994.172457,
   "end_time": "2025-09-16T19:14:51.580722",
   "environment_variables": {},
   "exception": null,
   "input_path": "/Users/alexlecu/PycharmProjects/LLMKGraph/backend/evaluation/evaluation_notebooks/evaluation_results/GPT-5-mini/1Hop_Ragas_gpt.ipynb",
   "output_path": "./all_ragas_results_executed_notebooks_last/executed_1Hop_Ragas_gpt.ipynb",
   "parameters": {},
   "start_time": "2025-09-16T18:58:17.408265",
   "version": "2.6.0"
  },
  "widgets": {
   "application/vnd.jupyter.widget-state+json": {
    "state": {
     "18b1d5d59131477aa52a718133190510": {
      "model_module": "@jupyter-widgets/controls",
      "model_module_version": "2.0.0",
      "model_name": "ProgressStyleModel",
      "state": {
       "_model_module": "@jupyter-widgets/controls",
       "_model_module_version": "2.0.0",
       "_model_name": "ProgressStyleModel",
       "_view_count": null,
       "_view_module": "@jupyter-widgets/base",
       "_view_module_version": "2.0.0",
       "_view_name": "StyleView",
       "bar_color": null,
       "description_width": ""
      }
     },
     "33da6e3cd43b4054ada3a604f4b51da3": {
      "model_module": "@jupyter-widgets/base",
      "model_module_version": "2.0.0",
      "model_name": "LayoutModel",
      "state": {
       "_model_module": "@jupyter-widgets/base",
       "_model_module_version": "2.0.0",
       "_model_name": "LayoutModel",
       "_view_count": null,
       "_view_module": "@jupyter-widgets/base",
       "_view_module_version": "2.0.0",
       "_view_name": "LayoutView",
       "align_content": null,
       "align_items": null,
       "align_self": null,
       "border_bottom": null,
       "border_left": null,
       "border_right": null,
       "border_top": null,
       "bottom": null,
       "display": null,
       "flex": null,
       "flex_flow": null,
       "grid_area": null,
       "grid_auto_columns": null,
       "grid_auto_flow": null,
       "grid_auto_rows": null,
       "grid_column": null,
       "grid_gap": null,
       "grid_row": null,
       "grid_template_areas": null,
       "grid_template_columns": null,
       "grid_template_rows": null,
       "height": null,
       "justify_content": null,
       "justify_items": null,
       "left": null,
       "margin": null,
       "max_height": null,
       "max_width": null,
       "min_height": null,
       "min_width": null,
       "object_fit": null,
       "object_position": null,
       "order": null,
       "overflow": null,
       "padding": null,
       "right": null,
       "top": null,
       "visibility": null,
       "width": null
      }
     },
     "3d488ff258994a98bff174ee47c002e1": {
      "model_module": "@jupyter-widgets/controls",
      "model_module_version": "2.0.0",
      "model_name": "HTMLStyleModel",
      "state": {
       "_model_module": "@jupyter-widgets/controls",
       "_model_module_version": "2.0.0",
       "_model_name": "HTMLStyleModel",
       "_view_count": null,
       "_view_module": "@jupyter-widgets/base",
       "_view_module_version": "2.0.0",
       "_view_name": "StyleView",
       "background": null,
       "description_width": "",
       "font_size": null,
       "text_color": null
      }
     },
     "4ed0276c0ddf4c24bf33b19439d1d552": {
      "model_module": "@jupyter-widgets/controls",
      "model_module_version": "2.0.0",
      "model_name": "FloatProgressModel",
      "state": {
       "_dom_classes": [],
       "_model_module": "@jupyter-widgets/controls",
       "_model_module_version": "2.0.0",
       "_model_name": "FloatProgressModel",
       "_view_count": null,
       "_view_module": "@jupyter-widgets/controls",
       "_view_module_version": "2.0.0",
       "_view_name": "ProgressView",
       "bar_style": "success",
       "description": "",
       "description_allow_html": false,
       "layout": "IPY_MODEL_33da6e3cd43b4054ada3a604f4b51da3",
       "max": 3000.0,
       "min": 0.0,
       "orientation": "horizontal",
       "style": "IPY_MODEL_18b1d5d59131477aa52a718133190510",
       "tabbable": null,
       "tooltip": null,
       "value": 3000.0
      }
     },
     "5b50ef84cf2845e9b3138b169d53fadd": {
      "model_module": "@jupyter-widgets/base",
      "model_module_version": "2.0.0",
      "model_name": "LayoutModel",
      "state": {
       "_model_module": "@jupyter-widgets/base",
       "_model_module_version": "2.0.0",
       "_model_name": "LayoutModel",
       "_view_count": null,
       "_view_module": "@jupyter-widgets/base",
       "_view_module_version": "2.0.0",
       "_view_name": "LayoutView",
       "align_content": null,
       "align_items": null,
       "align_self": null,
       "border_bottom": null,
       "border_left": null,
       "border_right": null,
       "border_top": null,
       "bottom": null,
       "display": null,
       "flex": null,
       "flex_flow": null,
       "grid_area": null,
       "grid_auto_columns": null,
       "grid_auto_flow": null,
       "grid_auto_rows": null,
       "grid_column": null,
       "grid_gap": null,
       "grid_row": null,
       "grid_template_areas": null,
       "grid_template_columns": null,
       "grid_template_rows": null,
       "height": null,
       "justify_content": null,
       "justify_items": null,
       "left": null,
       "margin": null,
       "max_height": null,
       "max_width": null,
       "min_height": null,
       "min_width": null,
       "object_fit": null,
       "object_position": null,
       "order": null,
       "overflow": null,
       "padding": null,
       "right": null,
       "top": null,
       "visibility": null,
       "width": null
      }
     },
     "b1cbd6fcca7e49d0b361b4aec02b8e5d": {
      "model_module": "@jupyter-widgets/controls",
      "model_module_version": "2.0.0",
      "model_name": "HTMLModel",
      "state": {
       "_dom_classes": [],
       "_model_module": "@jupyter-widgets/controls",
       "_model_module_version": "2.0.0",
       "_model_name": "HTMLModel",
       "_view_count": null,
       "_view_module": "@jupyter-widgets/controls",
       "_view_module_version": "2.0.0",
       "_view_name": "HTMLView",
       "description": "",
       "description_allow_html": false,
       "layout": "IPY_MODEL_5b50ef84cf2845e9b3138b169d53fadd",
       "placeholder": "​",
       "style": "IPY_MODEL_3d488ff258994a98bff174ee47c002e1",
       "tabbable": null,
       "tooltip": null,
       "value": "Evaluating: 100%"
      }
     },
     "b57778f084c04feca6fcec8f7e13b4a8": {
      "model_module": "@jupyter-widgets/base",
      "model_module_version": "2.0.0",
      "model_name": "LayoutModel",
      "state": {
       "_model_module": "@jupyter-widgets/base",
       "_model_module_version": "2.0.0",
       "_model_name": "LayoutModel",
       "_view_count": null,
       "_view_module": "@jupyter-widgets/base",
       "_view_module_version": "2.0.0",
       "_view_name": "LayoutView",
       "align_content": null,
       "align_items": null,
       "align_self": null,
       "border_bottom": null,
       "border_left": null,
       "border_right": null,
       "border_top": null,
       "bottom": null,
       "display": null,
       "flex": null,
       "flex_flow": null,
       "grid_area": null,
       "grid_auto_columns": null,
       "grid_auto_flow": null,
       "grid_auto_rows": null,
       "grid_column": null,
       "grid_gap": null,
       "grid_row": null,
       "grid_template_areas": null,
       "grid_template_columns": null,
       "grid_template_rows": null,
       "height": null,
       "justify_content": null,
       "justify_items": null,
       "left": null,
       "margin": null,
       "max_height": null,
       "max_width": null,
       "min_height": null,
       "min_width": null,
       "object_fit": null,
       "object_position": null,
       "order": null,
       "overflow": null,
       "padding": null,
       "right": null,
       "top": null,
       "visibility": null,
       "width": null
      }
     },
     "b8e8a9f28bd540c8b0fdd569916850aa": {
      "model_module": "@jupyter-widgets/controls",
      "model_module_version": "2.0.0",
      "model_name": "HBoxModel",
      "state": {
       "_dom_classes": [],
       "_model_module": "@jupyter-widgets/controls",
       "_model_module_version": "2.0.0",
       "_model_name": "HBoxModel",
       "_view_count": null,
       "_view_module": "@jupyter-widgets/controls",
       "_view_module_version": "2.0.0",
       "_view_name": "HBoxView",
       "box_style": "",
       "children": [
        "IPY_MODEL_b1cbd6fcca7e49d0b361b4aec02b8e5d",
        "IPY_MODEL_4ed0276c0ddf4c24bf33b19439d1d552",
        "IPY_MODEL_e06787fadc4747339f442e1199a03fb4"
       ],
       "layout": "IPY_MODEL_b57778f084c04feca6fcec8f7e13b4a8",
       "tabbable": null,
       "tooltip": null
      }
     },
     "c680c163f7d24da39222059591511df7": {
      "model_module": "@jupyter-widgets/controls",
      "model_module_version": "2.0.0",
      "model_name": "HTMLStyleModel",
      "state": {
       "_model_module": "@jupyter-widgets/controls",
       "_model_module_version": "2.0.0",
       "_model_name": "HTMLStyleModel",
       "_view_count": null,
       "_view_module": "@jupyter-widgets/base",
       "_view_module_version": "2.0.0",
       "_view_name": "StyleView",
       "background": null,
       "description_width": "",
       "font_size": null,
       "text_color": null
      }
     },
     "c89e241209304151852ddcb304bf167c": {
      "model_module": "@jupyter-widgets/base",
      "model_module_version": "2.0.0",
      "model_name": "LayoutModel",
      "state": {
       "_model_module": "@jupyter-widgets/base",
       "_model_module_version": "2.0.0",
       "_model_name": "LayoutModel",
       "_view_count": null,
       "_view_module": "@jupyter-widgets/base",
       "_view_module_version": "2.0.0",
       "_view_name": "LayoutView",
       "align_content": null,
       "align_items": null,
       "align_self": null,
       "border_bottom": null,
       "border_left": null,
       "border_right": null,
       "border_top": null,
       "bottom": null,
       "display": null,
       "flex": null,
       "flex_flow": null,
       "grid_area": null,
       "grid_auto_columns": null,
       "grid_auto_flow": null,
       "grid_auto_rows": null,
       "grid_column": null,
       "grid_gap": null,
       "grid_row": null,
       "grid_template_areas": null,
       "grid_template_columns": null,
       "grid_template_rows": null,
       "height": null,
       "justify_content": null,
       "justify_items": null,
       "left": null,
       "margin": null,
       "max_height": null,
       "max_width": null,
       "min_height": null,
       "min_width": null,
       "object_fit": null,
       "object_position": null,
       "order": null,
       "overflow": null,
       "padding": null,
       "right": null,
       "top": null,
       "visibility": null,
       "width": null
      }
     },
     "e06787fadc4747339f442e1199a03fb4": {
      "model_module": "@jupyter-widgets/controls",
      "model_module_version": "2.0.0",
      "model_name": "HTMLModel",
      "state": {
       "_dom_classes": [],
       "_model_module": "@jupyter-widgets/controls",
       "_model_module_version": "2.0.0",
       "_model_name": "HTMLModel",
       "_view_count": null,
       "_view_module": "@jupyter-widgets/controls",
       "_view_module_version": "2.0.0",
       "_view_name": "HTMLView",
       "description": "",
       "description_allow_html": false,
       "layout": "IPY_MODEL_c89e241209304151852ddcb304bf167c",
       "placeholder": "​",
       "style": "IPY_MODEL_c680c163f7d24da39222059591511df7",
       "tabbable": null,
       "tooltip": null,
       "value": " 3000/3000 [16:26&lt;00:00,  1.04s/it]"
      }
     }
    },
    "version_major": 2,
    "version_minor": 0
   }
  }
 },
 "nbformat": 4,
 "nbformat_minor": 5
}