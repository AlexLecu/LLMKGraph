{
 "cells": [
  {
   "cell_type": "code",
   "execution_count": 1,
   "id": "12d5b393-f61e-4811-b970-cc6da6dacfce",
   "metadata": {
    "execution": {
     "iopub.execute_input": "2025-05-23T10:33:36.956623Z",
     "iopub.status.busy": "2025-05-23T10:33:36.956172Z",
     "iopub.status.idle": "2025-05-23T10:33:38.345402Z",
     "shell.execute_reply": "2025-05-23T10:33:38.345168Z"
    },
    "papermill": {
     "duration": 1.395655,
     "end_time": "2025-05-23T10:33:38.346070",
     "exception": false,
     "start_time": "2025-05-23T10:33:36.950415",
     "status": "completed"
    },
    "tags": []
   },
   "outputs": [
    {
     "data": {
      "text/plain": [
       "True"
      ]
     },
     "execution_count": 1,
     "metadata": {},
     "output_type": "execute_result"
    }
   ],
   "source": [
    "import pandas as pd\n",
    "import ast\n",
    "from ragas import evaluate\n",
    "from ragas.metrics import Faithfulness, AnswerRelevancy, ContextRecall\n",
    "from ragas import EvaluationDataset\n",
    "from datasets import Dataset\n",
    "from dotenv import load_dotenv\n",
    "from ragas.metrics import (\n",
    "    answer_correctness,\n",
    "    answer_relevancy,\n",
    "    faithfulness,\n",
    "    context_precision,\n",
    "    context_recall,\n",
    "    answer_similarity,\n",
    ")\n",
    "import os\n",
    "\n",
    "load_dotenv()"
   ]
  },
  {
   "cell_type": "code",
   "execution_count": 2,
   "id": "83f78bd9-52c5-40ef-ab8e-5e573944b5b5",
   "metadata": {
    "execution": {
     "iopub.execute_input": "2025-05-23T10:33:38.347915Z",
     "iopub.status.busy": "2025-05-23T10:33:38.347785Z",
     "iopub.status.idle": "2025-05-23T10:33:38.349798Z",
     "shell.execute_reply": "2025-05-23T10:33:38.349631Z"
    },
    "papermill": {
     "duration": 0.003492,
     "end_time": "2025-05-23T10:33:38.350372",
     "exception": false,
     "start_time": "2025-05-23T10:33:38.346880",
     "status": "completed"
    },
    "tags": []
   },
   "outputs": [],
   "source": [
    "def parse_context(context):\n",
    "    try:\n",
    "        if isinstance(context, list):\n",
    "            return [str(c) for c in context]\n",
    "        if isinstance(context, str):\n",
    "            context = context.strip()\n",
    "            parsed = ast.literal_eval(context)\n",
    "            if isinstance(parsed, list):\n",
    "                return [str(item) for item in parsed]\n",
    "            else:\n",
    "                return [str(parsed)]\n",
    "        return [str(context)]\n",
    "    except (ValueError, SyntaxError) as e:\n",
    "        print(f\"Warning: Failed to parse context '{context}' with error: {e}\")\n",
    "        return [str(context)]\n"
   ]
  },
  {
   "cell_type": "code",
   "execution_count": 3,
   "id": "5c962c96-5ba7-4ae1-a2a7-0aa5cd2bab77",
   "metadata": {
    "execution": {
     "iopub.execute_input": "2025-05-23T10:33:38.351810Z",
     "iopub.status.busy": "2025-05-23T10:33:38.351737Z",
     "iopub.status.idle": "2025-05-23T10:33:38.358389Z",
     "shell.execute_reply": "2025-05-23T10:33:38.358173Z"
    },
    "papermill": {
     "duration": 0.008088,
     "end_time": "2025-05-23T10:33:38.359044",
     "exception": false,
     "start_time": "2025-05-23T10:33:38.350956",
     "status": "completed"
    },
    "tags": []
   },
   "outputs": [],
   "source": [
    "df = pd.read_csv('/Users/alexlecu/Documents/ExecutedNotebook_Llama3.2+CSVs/New/ragas_2hop_evaluation_data.csv')\n",
    "\n",
    "df = df.rename(columns={'context': 'retrieved_contexts'})\n",
    "df = df.rename(columns={'generated_answer': 'response'})"
   ]
  },
  {
   "cell_type": "code",
   "execution_count": 4,
   "id": "b7d1b5e8-9208-4cf9-a81c-f200b449a15d",
   "metadata": {
    "execution": {
     "iopub.execute_input": "2025-05-23T10:33:38.361168Z",
     "iopub.status.busy": "2025-05-23T10:33:38.361086Z",
     "iopub.status.idle": "2025-05-23T10:33:38.365051Z",
     "shell.execute_reply": "2025-05-23T10:33:38.364866Z"
    },
    "papermill": {
     "duration": 0.005847,
     "end_time": "2025-05-23T10:33:38.365583",
     "exception": false,
     "start_time": "2025-05-23T10:33:38.359736",
     "status": "completed"
    },
    "tags": []
   },
   "outputs": [],
   "source": [
    "df['retrieved_contexts'] = df['retrieved_contexts'].apply(parse_context)"
   ]
  },
  {
   "cell_type": "code",
   "execution_count": 5,
   "id": "807cb567-d6ed-4807-b709-c1ef53c64f4b",
   "metadata": {
    "execution": {
     "iopub.execute_input": "2025-05-23T10:33:38.367038Z",
     "iopub.status.busy": "2025-05-23T10:33:38.366962Z",
     "iopub.status.idle": "2025-05-23T10:33:38.372108Z",
     "shell.execute_reply": "2025-05-23T10:33:38.371884Z"
    },
    "papermill": {
     "duration": 0.006511,
     "end_time": "2025-05-23T10:33:38.372678",
     "exception": false,
     "start_time": "2025-05-23T10:33:38.366167",
     "status": "completed"
    },
    "tags": []
   },
   "outputs": [],
   "source": [
    "evaluation_dataset = Dataset.from_pandas(df)"
   ]
  },
  {
   "cell_type": "code",
   "execution_count": 6,
   "id": "c754fc54-2160-42d5-93ef-e6c715bf2cc9",
   "metadata": {
    "execution": {
     "iopub.execute_input": "2025-05-23T10:33:38.374280Z",
     "iopub.status.busy": "2025-05-23T10:33:38.374205Z",
     "iopub.status.idle": "2025-05-23T10:53:33.921058Z",
     "shell.execute_reply": "2025-05-23T10:53:33.920397Z"
    },
    "papermill": {
     "duration": 1195.549267,
     "end_time": "2025-05-23T10:53:33.922609",
     "exception": false,
     "start_time": "2025-05-23T10:33:38.373342",
     "status": "completed"
    },
    "tags": []
   },
   "outputs": [
    {
     "data": {
      "application/vnd.jupyter.widget-view+json": {
       "model_id": "d5adfaf3babd4ed49ddbd5036b8065aa",
       "version_major": 2,
       "version_minor": 0
      },
      "text/plain": [
       "Evaluating:   0%|          | 0/3000 [00:00<?, ?it/s]"
      ]
     },
     "metadata": {},
     "output_type": "display_data"
    }
   ],
   "source": [
    "result = evaluate(\n",
    "    dataset=evaluation_dataset,\n",
    "    metrics=[\n",
    "        answer_correctness,\n",
    "        answer_relevancy,\n",
    "        answer_similarity,\n",
    "        faithfulness,\n",
    "        context_precision,\n",
    "        context_recall,\n",
    "    ])"
   ]
  },
  {
   "cell_type": "code",
   "execution_count": 7,
   "id": "ef459d14-b7fc-44ad-8a72-1d3d478ec533",
   "metadata": {
    "execution": {
     "iopub.execute_input": "2025-05-23T10:53:33.930724Z",
     "iopub.status.busy": "2025-05-23T10:53:33.930443Z",
     "iopub.status.idle": "2025-05-23T10:53:33.934819Z",
     "shell.execute_reply": "2025-05-23T10:53:33.934207Z"
    },
    "papermill": {
     "duration": 0.011391,
     "end_time": "2025-05-23T10:53:33.936708",
     "exception": false,
     "start_time": "2025-05-23T10:53:33.925317",
     "status": "completed"
    },
    "tags": []
   },
   "outputs": [
    {
     "data": {
      "text/plain": [
       "{'answer_correctness': 0.5482, 'answer_relevancy': 0.9032, 'semantic_similarity': 0.9231, 'faithfulness': 0.8576, 'context_precision': 0.8900, 'context_recall': 0.5020}"
      ]
     },
     "execution_count": 7,
     "metadata": {},
     "output_type": "execute_result"
    }
   ],
   "source": [
    "result"
   ]
  },
  {
   "cell_type": "code",
   "execution_count": 8,
   "id": "fb0f4e07-02c9-48d1-8ef8-d7ada4f1c3b1",
   "metadata": {
    "execution": {
     "iopub.execute_input": "2025-05-23T10:53:33.942888Z",
     "iopub.status.busy": "2025-05-23T10:53:33.942645Z",
     "iopub.status.idle": "2025-05-23T10:53:33.949752Z",
     "shell.execute_reply": "2025-05-23T10:53:33.949379Z"
    },
    "papermill": {
     "duration": 0.010992,
     "end_time": "2025-05-23T10:53:33.950605",
     "exception": false,
     "start_time": "2025-05-23T10:53:33.939613",
     "status": "completed"
    },
    "tags": []
   },
   "outputs": [],
   "source": [
    "results_df = result.to_pandas()"
   ]
  },
  {
   "cell_type": "code",
   "execution_count": 9,
   "id": "236fdb91-0727-4e92-b049-265f4fef6bcb",
   "metadata": {
    "execution": {
     "iopub.execute_input": "2025-05-23T10:53:33.954559Z",
     "iopub.status.busy": "2025-05-23T10:53:33.954410Z",
     "iopub.status.idle": "2025-05-23T10:53:33.969578Z",
     "shell.execute_reply": "2025-05-23T10:53:33.969219Z"
    },
    "papermill": {
     "duration": 0.018063,
     "end_time": "2025-05-23T10:53:33.970600",
     "exception": false,
     "start_time": "2025-05-23T10:53:33.952537",
     "status": "completed"
    },
    "tags": []
   },
   "outputs": [],
   "source": [
    "results_df.to_csv('2hop_ragas_evaluation.csv', index=False)"
   ]
  }
 ],
 "metadata": {
  "kernelspec": {
   "display_name": "Python 3 (ipykernel)",
   "language": "python",
   "name": "python3"
  },
  "language_info": {
   "codemirror_mode": {
    "name": "ipython",
    "version": 3
   },
   "file_extension": ".py",
   "mimetype": "text/x-python",
   "name": "python",
   "nbconvert_exporter": "python",
   "pygments_lexer": "ipython3",
   "version": "3.10.16"
  },
  "papermill": {
   "default_parameters": {},
   "duration": 1200.186784,
   "end_time": "2025-05-23T10:53:36.592420",
   "environment_variables": {},
   "exception": null,
   "input_path": "/Users/alexlecu/PycharmProjects/LLMKGraph/backend/evaluation/evaluation_notebooks/evaluation_results/2Hop_Ragas.ipynb",
   "output_path": "./executed_notebooks_ragas_final/executed_2Hop_Ragas.ipynb",
   "parameters": {},
   "start_time": "2025-05-23T10:33:36.405636",
   "version": "2.6.0"
  },
  "widgets": {
   "application/vnd.jupyter.widget-state+json": {
    "state": {
     "0e04810a7ec14fb29a34c62cc1db34c8": {
      "model_module": "@jupyter-widgets/base",
      "model_module_version": "2.0.0",
      "model_name": "LayoutModel",
      "state": {
       "_model_module": "@jupyter-widgets/base",
       "_model_module_version": "2.0.0",
       "_model_name": "LayoutModel",
       "_view_count": null,
       "_view_module": "@jupyter-widgets/base",
       "_view_module_version": "2.0.0",
       "_view_name": "LayoutView",
       "align_content": null,
       "align_items": null,
       "align_self": null,
       "border_bottom": null,
       "border_left": null,
       "border_right": null,
       "border_top": null,
       "bottom": null,
       "display": null,
       "flex": null,
       "flex_flow": null,
       "grid_area": null,
       "grid_auto_columns": null,
       "grid_auto_flow": null,
       "grid_auto_rows": null,
       "grid_column": null,
       "grid_gap": null,
       "grid_row": null,
       "grid_template_areas": null,
       "grid_template_columns": null,
       "grid_template_rows": null,
       "height": null,
       "justify_content": null,
       "justify_items": null,
       "left": null,
       "margin": null,
       "max_height": null,
       "max_width": null,
       "min_height": null,
       "min_width": null,
       "object_fit": null,
       "object_position": null,
       "order": null,
       "overflow": null,
       "padding": null,
       "right": null,
       "top": null,
       "visibility": null,
       "width": null
      }
     },
     "184da774be704ddeaa3d896c9a0453af": {
      "model_module": "@jupyter-widgets/base",
      "model_module_version": "2.0.0",
      "model_name": "LayoutModel",
      "state": {
       "_model_module": "@jupyter-widgets/base",
       "_model_module_version": "2.0.0",
       "_model_name": "LayoutModel",
       "_view_count": null,
       "_view_module": "@jupyter-widgets/base",
       "_view_module_version": "2.0.0",
       "_view_name": "LayoutView",
       "align_content": null,
       "align_items": null,
       "align_self": null,
       "border_bottom": null,
       "border_left": null,
       "border_right": null,
       "border_top": null,
       "bottom": null,
       "display": null,
       "flex": null,
       "flex_flow": null,
       "grid_area": null,
       "grid_auto_columns": null,
       "grid_auto_flow": null,
       "grid_auto_rows": null,
       "grid_column": null,
       "grid_gap": null,
       "grid_row": null,
       "grid_template_areas": null,
       "grid_template_columns": null,
       "grid_template_rows": null,
       "height": null,
       "justify_content": null,
       "justify_items": null,
       "left": null,
       "margin": null,
       "max_height": null,
       "max_width": null,
       "min_height": null,
       "min_width": null,
       "object_fit": null,
       "object_position": null,
       "order": null,
       "overflow": null,
       "padding": null,
       "right": null,
       "top": null,
       "visibility": null,
       "width": null
      }
     },
     "4794799955ef42de9dcfe1ddfbbf6285": {
      "model_module": "@jupyter-widgets/controls",
      "model_module_version": "2.0.0",
      "model_name": "HTMLStyleModel",
      "state": {
       "_model_module": "@jupyter-widgets/controls",
       "_model_module_version": "2.0.0",
       "_model_name": "HTMLStyleModel",
       "_view_count": null,
       "_view_module": "@jupyter-widgets/base",
       "_view_module_version": "2.0.0",
       "_view_name": "StyleView",
       "background": null,
       "description_width": "",
       "font_size": null,
       "text_color": null
      }
     },
     "4976cf9a9bbe4793a70d1ad349069212": {
      "model_module": "@jupyter-widgets/controls",
      "model_module_version": "2.0.0",
      "model_name": "HTMLStyleModel",
      "state": {
       "_model_module": "@jupyter-widgets/controls",
       "_model_module_version": "2.0.0",
       "_model_name": "HTMLStyleModel",
       "_view_count": null,
       "_view_module": "@jupyter-widgets/base",
       "_view_module_version": "2.0.0",
       "_view_name": "StyleView",
       "background": null,
       "description_width": "",
       "font_size": null,
       "text_color": null
      }
     },
     "4d104f2aa8eb41c6859a54c1f08d5a0e": {
      "model_module": "@jupyter-widgets/base",
      "model_module_version": "2.0.0",
      "model_name": "LayoutModel",
      "state": {
       "_model_module": "@jupyter-widgets/base",
       "_model_module_version": "2.0.0",
       "_model_name": "LayoutModel",
       "_view_count": null,
       "_view_module": "@jupyter-widgets/base",
       "_view_module_version": "2.0.0",
       "_view_name": "LayoutView",
       "align_content": null,
       "align_items": null,
       "align_self": null,
       "border_bottom": null,
       "border_left": null,
       "border_right": null,
       "border_top": null,
       "bottom": null,
       "display": null,
       "flex": null,
       "flex_flow": null,
       "grid_area": null,
       "grid_auto_columns": null,
       "grid_auto_flow": null,
       "grid_auto_rows": null,
       "grid_column": null,
       "grid_gap": null,
       "grid_row": null,
       "grid_template_areas": null,
       "grid_template_columns": null,
       "grid_template_rows": null,
       "height": null,
       "justify_content": null,
       "justify_items": null,
       "left": null,
       "margin": null,
       "max_height": null,
       "max_width": null,
       "min_height": null,
       "min_width": null,
       "object_fit": null,
       "object_position": null,
       "order": null,
       "overflow": null,
       "padding": null,
       "right": null,
       "top": null,
       "visibility": null,
       "width": null
      }
     },
     "61285fbb56224a3c860218ef7a544732": {
      "model_module": "@jupyter-widgets/controls",
      "model_module_version": "2.0.0",
      "model_name": "FloatProgressModel",
      "state": {
       "_dom_classes": [],
       "_model_module": "@jupyter-widgets/controls",
       "_model_module_version": "2.0.0",
       "_model_name": "FloatProgressModel",
       "_view_count": null,
       "_view_module": "@jupyter-widgets/controls",
       "_view_module_version": "2.0.0",
       "_view_name": "ProgressView",
       "bar_style": "success",
       "description": "",
       "description_allow_html": false,
       "layout": "IPY_MODEL_cde44b6d7c5649979de10e3a7ae0d42f",
       "max": 3000.0,
       "min": 0.0,
       "orientation": "horizontal",
       "style": "IPY_MODEL_64c4a17aa2ea45e494e7647cb2504395",
       "tabbable": null,
       "tooltip": null,
       "value": 3000.0
      }
     },
     "64c4a17aa2ea45e494e7647cb2504395": {
      "model_module": "@jupyter-widgets/controls",
      "model_module_version": "2.0.0",
      "model_name": "ProgressStyleModel",
      "state": {
       "_model_module": "@jupyter-widgets/controls",
       "_model_module_version": "2.0.0",
       "_model_name": "ProgressStyleModel",
       "_view_count": null,
       "_view_module": "@jupyter-widgets/base",
       "_view_module_version": "2.0.0",
       "_view_name": "StyleView",
       "bar_color": null,
       "description_width": ""
      }
     },
     "6942036d70ce47289cd0c04467baf9f1": {
      "model_module": "@jupyter-widgets/controls",
      "model_module_version": "2.0.0",
      "model_name": "HTMLModel",
      "state": {
       "_dom_classes": [],
       "_model_module": "@jupyter-widgets/controls",
       "_model_module_version": "2.0.0",
       "_model_name": "HTMLModel",
       "_view_count": null,
       "_view_module": "@jupyter-widgets/controls",
       "_view_module_version": "2.0.0",
       "_view_name": "HTMLView",
       "description": "",
       "description_allow_html": false,
       "layout": "IPY_MODEL_0e04810a7ec14fb29a34c62cc1db34c8",
       "placeholder": "​",
       "style": "IPY_MODEL_4794799955ef42de9dcfe1ddfbbf6285",
       "tabbable": null,
       "tooltip": null,
       "value": "Evaluating: 100%"
      }
     },
     "bd222f1d52344b4bb51163b979a8f0fd": {
      "model_module": "@jupyter-widgets/controls",
      "model_module_version": "2.0.0",
      "model_name": "HTMLModel",
      "state": {
       "_dom_classes": [],
       "_model_module": "@jupyter-widgets/controls",
       "_model_module_version": "2.0.0",
       "_model_name": "HTMLModel",
       "_view_count": null,
       "_view_module": "@jupyter-widgets/controls",
       "_view_module_version": "2.0.0",
       "_view_name": "HTMLView",
       "description": "",
       "description_allow_html": false,
       "layout": "IPY_MODEL_184da774be704ddeaa3d896c9a0453af",
       "placeholder": "​",
       "style": "IPY_MODEL_4976cf9a9bbe4793a70d1ad349069212",
       "tabbable": null,
       "tooltip": null,
       "value": " 3000/3000 [19:45&lt;00:00,  1.83s/it]"
      }
     },
     "cde44b6d7c5649979de10e3a7ae0d42f": {
      "model_module": "@jupyter-widgets/base",
      "model_module_version": "2.0.0",
      "model_name": "LayoutModel",
      "state": {
       "_model_module": "@jupyter-widgets/base",
       "_model_module_version": "2.0.0",
       "_model_name": "LayoutModel",
       "_view_count": null,
       "_view_module": "@jupyter-widgets/base",
       "_view_module_version": "2.0.0",
       "_view_name": "LayoutView",
       "align_content": null,
       "align_items": null,
       "align_self": null,
       "border_bottom": null,
       "border_left": null,
       "border_right": null,
       "border_top": null,
       "bottom": null,
       "display": null,
       "flex": null,
       "flex_flow": null,
       "grid_area": null,
       "grid_auto_columns": null,
       "grid_auto_flow": null,
       "grid_auto_rows": null,
       "grid_column": null,
       "grid_gap": null,
       "grid_row": null,
       "grid_template_areas": null,
       "grid_template_columns": null,
       "grid_template_rows": null,
       "height": null,
       "justify_content": null,
       "justify_items": null,
       "left": null,
       "margin": null,
       "max_height": null,
       "max_width": null,
       "min_height": null,
       "min_width": null,
       "object_fit": null,
       "object_position": null,
       "order": null,
       "overflow": null,
       "padding": null,
       "right": null,
       "top": null,
       "visibility": null,
       "width": null
      }
     },
     "d5adfaf3babd4ed49ddbd5036b8065aa": {
      "model_module": "@jupyter-widgets/controls",
      "model_module_version": "2.0.0",
      "model_name": "HBoxModel",
      "state": {
       "_dom_classes": [],
       "_model_module": "@jupyter-widgets/controls",
       "_model_module_version": "2.0.0",
       "_model_name": "HBoxModel",
       "_view_count": null,
       "_view_module": "@jupyter-widgets/controls",
       "_view_module_version": "2.0.0",
       "_view_name": "HBoxView",
       "box_style": "",
       "children": [
        "IPY_MODEL_6942036d70ce47289cd0c04467baf9f1",
        "IPY_MODEL_61285fbb56224a3c860218ef7a544732",
        "IPY_MODEL_bd222f1d52344b4bb51163b979a8f0fd"
       ],
       "layout": "IPY_MODEL_4d104f2aa8eb41c6859a54c1f08d5a0e",
       "tabbable": null,
       "tooltip": null
      }
     }
    },
    "version_major": 2,
    "version_minor": 0
   }
  }
 },
 "nbformat": 4,
 "nbformat_minor": 5
}