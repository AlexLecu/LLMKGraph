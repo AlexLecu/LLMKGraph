{
 "cells": [
  {
   "cell_type": "code",
   "execution_count": 1,
   "id": "12d5b393-f61e-4811-b970-cc6da6dacfce",
   "metadata": {
    "execution": {
     "iopub.execute_input": "2025-09-16T18:13:38.459994Z",
     "iopub.status.busy": "2025-09-16T18:13:38.459229Z",
     "iopub.status.idle": "2025-09-16T18:13:40.835228Z",
     "shell.execute_reply": "2025-09-16T18:13:40.834952Z"
    },
    "papermill": {
     "duration": 2.384336,
     "end_time": "2025-09-16T18:13:40.835912",
     "exception": false,
     "start_time": "2025-09-16T18:13:38.451576",
     "status": "completed"
    },
    "tags": []
   },
   "outputs": [
    {
     "data": {
      "text/plain": [
       "True"
      ]
     },
     "execution_count": 1,
     "metadata": {},
     "output_type": "execute_result"
    }
   ],
   "source": [
    "import pandas as pd\n",
    "import ast\n",
    "from ragas import evaluate\n",
    "from ragas.metrics import Faithfulness, AnswerRelevancy, ContextRecall\n",
    "from ragas import EvaluationDataset\n",
    "from datasets import Dataset\n",
    "from dotenv import load_dotenv\n",
    "from ragas.metrics import (\n",
    "    answer_correctness,\n",
    "    answer_relevancy,\n",
    "    faithfulness,\n",
    "    context_precision,\n",
    "    context_recall,\n",
    "    answer_similarity,\n",
    ")\n",
    "import os\n",
    "\n",
    "load_dotenv()"
   ]
  },
  {
   "cell_type": "code",
   "execution_count": 2,
   "id": "83f78bd9-52c5-40ef-ab8e-5e573944b5b5",
   "metadata": {
    "execution": {
     "iopub.execute_input": "2025-09-16T18:13:40.838185Z",
     "iopub.status.busy": "2025-09-16T18:13:40.837879Z",
     "iopub.status.idle": "2025-09-16T18:13:40.840424Z",
     "shell.execute_reply": "2025-09-16T18:13:40.840187Z"
    },
    "papermill": {
     "duration": 0.004227,
     "end_time": "2025-09-16T18:13:40.841052",
     "exception": false,
     "start_time": "2025-09-16T18:13:40.836825",
     "status": "completed"
    },
    "tags": []
   },
   "outputs": [],
   "source": [
    "def parse_context(context):\n",
    "    try:\n",
    "        if isinstance(context, list):\n",
    "            return [str(c) for c in context]\n",
    "        if isinstance(context, str):\n",
    "            context = context.strip()\n",
    "            parsed = ast.literal_eval(context)\n",
    "            if isinstance(parsed, list):\n",
    "                return [str(item) for item in parsed]\n",
    "            else:\n",
    "                return [str(parsed)]\n",
    "        return [str(context)]\n",
    "    except (ValueError, SyntaxError) as e:\n",
    "        print(f\"Warning: Failed to parse context '{context}' with error: {e}\")\n",
    "        return [str(context)]\n"
   ]
  },
  {
   "cell_type": "code",
   "execution_count": 3,
   "id": "5c962c96-5ba7-4ae1-a2a7-0aa5cd2bab77",
   "metadata": {
    "execution": {
     "iopub.execute_input": "2025-09-16T18:13:40.842987Z",
     "iopub.status.busy": "2025-09-16T18:13:40.842904Z",
     "iopub.status.idle": "2025-09-16T18:13:40.851972Z",
     "shell.execute_reply": "2025-09-16T18:13:40.851767Z"
    },
    "papermill": {
     "duration": 0.010627,
     "end_time": "2025-09-16T18:13:40.852555",
     "exception": false,
     "start_time": "2025-09-16T18:13:40.841928",
     "status": "completed"
    },
    "tags": []
   },
   "outputs": [],
   "source": [
    "df = pd.read_csv('data/2hop_ragas.csv')\n",
    "\n",
    "df = df.rename(columns={'context': 'retrieved_contexts'})\n",
    "df = df.rename(columns={'generated_answer': 'response'})"
   ]
  },
  {
   "cell_type": "code",
   "execution_count": 4,
   "id": "b7d1b5e8-9208-4cf9-a81c-f200b449a15d",
   "metadata": {
    "execution": {
     "iopub.execute_input": "2025-09-16T18:13:40.854428Z",
     "iopub.status.busy": "2025-09-16T18:13:40.854298Z",
     "iopub.status.idle": "2025-09-16T18:13:40.859161Z",
     "shell.execute_reply": "2025-09-16T18:13:40.858927Z"
    },
    "papermill": {
     "duration": 0.006512,
     "end_time": "2025-09-16T18:13:40.859736",
     "exception": false,
     "start_time": "2025-09-16T18:13:40.853224",
     "status": "completed"
    },
    "tags": []
   },
   "outputs": [],
   "source": [
    "df['retrieved_contexts'] = df['retrieved_contexts'].apply(parse_context)"
   ]
  },
  {
   "cell_type": "code",
   "execution_count": 5,
   "id": "807cb567-d6ed-4807-b709-c1ef53c64f4b",
   "metadata": {
    "execution": {
     "iopub.execute_input": "2025-09-16T18:13:40.861726Z",
     "iopub.status.busy": "2025-09-16T18:13:40.861635Z",
     "iopub.status.idle": "2025-09-16T18:13:40.867201Z",
     "shell.execute_reply": "2025-09-16T18:13:40.867004Z"
    },
    "papermill": {
     "duration": 0.007142,
     "end_time": "2025-09-16T18:13:40.867774",
     "exception": false,
     "start_time": "2025-09-16T18:13:40.860632",
     "status": "completed"
    },
    "tags": []
   },
   "outputs": [],
   "source": [
    "evaluation_dataset = Dataset.from_pandas(df)"
   ]
  },
  {
   "cell_type": "code",
   "execution_count": 6,
   "id": "c754fc54-2160-42d5-93ef-e6c715bf2cc9",
   "metadata": {
    "execution": {
     "iopub.execute_input": "2025-09-16T18:13:40.869612Z",
     "iopub.status.busy": "2025-09-16T18:13:40.869534Z",
     "iopub.status.idle": "2025-09-16T18:29:07.306509Z",
     "shell.execute_reply": "2025-09-16T18:29:07.304968Z"
    },
    "papermill": {
     "duration": 926.441348,
     "end_time": "2025-09-16T18:29:07.309925",
     "exception": false,
     "start_time": "2025-09-16T18:13:40.868577",
     "status": "completed"
    },
    "tags": []
   },
   "outputs": [
    {
     "data": {
      "application/vnd.jupyter.widget-view+json": {
       "model_id": "8fe897f3a9034b67a568eb46c2ee1124",
       "version_major": 2,
       "version_minor": 0
      },
      "text/plain": [
       "Evaluating:   0%|          | 0/3000 [00:00<?, ?it/s]"
      ]
     },
     "metadata": {},
     "output_type": "display_data"
    },
    {
     "name": "stderr",
     "output_type": "stream",
     "text": [
      "Exception raised in Job[1]: IndexError(list index out of range)\n"
     ]
    },
    {
     "name": "stderr",
     "output_type": "stream",
     "text": [
      "Exception raised in Job[13]: IndexError(list index out of range)\n"
     ]
    },
    {
     "name": "stderr",
     "output_type": "stream",
     "text": [
      "Exception raised in Job[7]: IndexError(list index out of range)\n"
     ]
    },
    {
     "name": "stderr",
     "output_type": "stream",
     "text": [
      "Exception raised in Job[73]: IndexError(list index out of range)\n"
     ]
    },
    {
     "name": "stderr",
     "output_type": "stream",
     "text": [
      "Exception raised in Job[247]: IndexError(list index out of range)\n"
     ]
    },
    {
     "name": "stderr",
     "output_type": "stream",
     "text": [
      "Exception raised in Job[289]: IndexError(list index out of range)\n"
     ]
    },
    {
     "name": "stderr",
     "output_type": "stream",
     "text": [
      "Exception raised in Job[403]: IndexError(list index out of range)\n"
     ]
    },
    {
     "name": "stderr",
     "output_type": "stream",
     "text": [
      "Exception raised in Job[457]: IndexError(list index out of range)\n"
     ]
    },
    {
     "name": "stderr",
     "output_type": "stream",
     "text": [
      "Exception raised in Job[535]: IndexError(list index out of range)\n"
     ]
    },
    {
     "name": "stderr",
     "output_type": "stream",
     "text": [
      "Exception raised in Job[763]: IndexError(list index out of range)\n"
     ]
    },
    {
     "name": "stderr",
     "output_type": "stream",
     "text": [
      "Exception raised in Job[877]: IndexError(list index out of range)\n"
     ]
    },
    {
     "name": "stderr",
     "output_type": "stream",
     "text": [
      "Exception raised in Job[943]: IndexError(list index out of range)\n"
     ]
    },
    {
     "name": "stderr",
     "output_type": "stream",
     "text": [
      "Exception raised in Job[1111]: IndexError(list index out of range)\n"
     ]
    },
    {
     "name": "stderr",
     "output_type": "stream",
     "text": [
      "Exception raised in Job[1129]: IndexError(list index out of range)\n"
     ]
    },
    {
     "name": "stderr",
     "output_type": "stream",
     "text": [
      "Exception raised in Job[1141]: IndexError(list index out of range)\n"
     ]
    },
    {
     "name": "stderr",
     "output_type": "stream",
     "text": [
      "Exception raised in Job[1153]: IndexError(list index out of range)\n"
     ]
    },
    {
     "name": "stderr",
     "output_type": "stream",
     "text": [
      "Exception raised in Job[1201]: IndexError(list index out of range)\n"
     ]
    },
    {
     "name": "stderr",
     "output_type": "stream",
     "text": [
      "Exception raised in Job[1213]: IndexError(list index out of range)\n"
     ]
    },
    {
     "name": "stderr",
     "output_type": "stream",
     "text": [
      "Exception raised in Job[1255]: IndexError(list index out of range)\n"
     ]
    },
    {
     "name": "stderr",
     "output_type": "stream",
     "text": [
      "Exception raised in Job[1339]: IndexError(list index out of range)\n"
     ]
    },
    {
     "name": "stderr",
     "output_type": "stream",
     "text": [
      "Exception raised in Job[1633]: IndexError(list index out of range)\n"
     ]
    },
    {
     "name": "stderr",
     "output_type": "stream",
     "text": [
      "Exception raised in Job[1693]: IndexError(list index out of range)\n"
     ]
    },
    {
     "name": "stderr",
     "output_type": "stream",
     "text": [
      "Exception raised in Job[1741]: IndexError(list index out of range)\n"
     ]
    },
    {
     "name": "stderr",
     "output_type": "stream",
     "text": [
      "Exception raised in Job[1789]: IndexError(list index out of range)\n"
     ]
    },
    {
     "name": "stderr",
     "output_type": "stream",
     "text": [
      "Exception raised in Job[1909]: IndexError(list index out of range)\n"
     ]
    },
    {
     "name": "stderr",
     "output_type": "stream",
     "text": [
      "Exception raised in Job[1939]: IndexError(list index out of range)\n"
     ]
    },
    {
     "name": "stderr",
     "output_type": "stream",
     "text": [
      "Exception raised in Job[1951]: IndexError(list index out of range)\n"
     ]
    },
    {
     "name": "stderr",
     "output_type": "stream",
     "text": [
      "Exception raised in Job[2047]: IndexError(list index out of range)\n"
     ]
    },
    {
     "name": "stderr",
     "output_type": "stream",
     "text": [
      "Exception raised in Job[2113]: IndexError(list index out of range)\n"
     ]
    },
    {
     "name": "stderr",
     "output_type": "stream",
     "text": [
      "Exception raised in Job[2143]: IndexError(list index out of range)\n"
     ]
    },
    {
     "name": "stderr",
     "output_type": "stream",
     "text": [
      "Exception raised in Job[2197]: IndexError(list index out of range)\n"
     ]
    },
    {
     "name": "stderr",
     "output_type": "stream",
     "text": [
      "Exception raised in Job[2215]: IndexError(list index out of range)\n"
     ]
    },
    {
     "name": "stderr",
     "output_type": "stream",
     "text": [
      "Exception raised in Job[2257]: IndexError(list index out of range)\n"
     ]
    },
    {
     "name": "stderr",
     "output_type": "stream",
     "text": [
      "Exception raised in Job[2299]: IndexError(list index out of range)\n"
     ]
    },
    {
     "name": "stderr",
     "output_type": "stream",
     "text": [
      "Exception raised in Job[2347]: IndexError(list index out of range)\n"
     ]
    },
    {
     "name": "stderr",
     "output_type": "stream",
     "text": [
      "Exception raised in Job[2401]: IndexError(list index out of range)\n"
     ]
    },
    {
     "name": "stderr",
     "output_type": "stream",
     "text": [
      "Exception raised in Job[2461]: IndexError(list index out of range)\n"
     ]
    },
    {
     "name": "stderr",
     "output_type": "stream",
     "text": [
      "Exception raised in Job[2755]: IndexError(list index out of range)\n"
     ]
    }
   ],
   "source": [
    "result = evaluate(\n",
    "    dataset=evaluation_dataset,\n",
    "    metrics=[\n",
    "        answer_correctness,\n",
    "        answer_relevancy,\n",
    "        answer_similarity,\n",
    "        faithfulness,\n",
    "        context_precision,\n",
    "        context_recall,\n",
    "    ])"
   ]
  },
  {
   "cell_type": "code",
   "execution_count": 7,
   "id": "ef459d14-b7fc-44ad-8a72-1d3d478ec533",
   "metadata": {
    "execution": {
     "iopub.execute_input": "2025-09-16T18:29:07.324228Z",
     "iopub.status.busy": "2025-09-16T18:29:07.323866Z",
     "iopub.status.idle": "2025-09-16T18:29:07.329538Z",
     "shell.execute_reply": "2025-09-16T18:29:07.328985Z"
    },
    "papermill": {
     "duration": 0.013479,
     "end_time": "2025-09-16T18:29:07.330989",
     "exception": false,
     "start_time": "2025-09-16T18:29:07.317510",
     "status": "completed"
    },
    "tags": []
   },
   "outputs": [
    {
     "data": {
      "text/plain": [
       "{'answer_correctness': 0.5712, 'answer_relevancy': 0.9196, 'answer_similarity': 0.9109, 'faithfulness': 0.9028, 'context_precision': 0.9260, 'context_recall': 0.5150}"
      ]
     },
     "execution_count": 7,
     "metadata": {},
     "output_type": "execute_result"
    }
   ],
   "source": [
    "result"
   ]
  },
  {
   "cell_type": "code",
   "execution_count": 8,
   "id": "fb0f4e07-02c9-48d1-8ef8-d7ada4f1c3b1",
   "metadata": {
    "execution": {
     "iopub.execute_input": "2025-09-16T18:29:07.338810Z",
     "iopub.status.busy": "2025-09-16T18:29:07.338475Z",
     "iopub.status.idle": "2025-09-16T18:29:07.346955Z",
     "shell.execute_reply": "2025-09-16T18:29:07.346650Z"
    },
    "papermill": {
     "duration": 0.013082,
     "end_time": "2025-09-16T18:29:07.347838",
     "exception": false,
     "start_time": "2025-09-16T18:29:07.334756",
     "status": "completed"
    },
    "tags": []
   },
   "outputs": [],
   "source": [
    "results_df = result.to_pandas()"
   ]
  },
  {
   "cell_type": "code",
   "execution_count": 9,
   "id": "236fdb91-0727-4e92-b049-265f4fef6bcb",
   "metadata": {
    "execution": {
     "iopub.execute_input": "2025-09-16T18:29:07.353694Z",
     "iopub.status.busy": "2025-09-16T18:29:07.353553Z",
     "iopub.status.idle": "2025-09-16T18:29:07.370835Z",
     "shell.execute_reply": "2025-09-16T18:29:07.370544Z"
    },
    "papermill": {
     "duration": 0.02098,
     "end_time": "2025-09-16T18:29:07.371574",
     "exception": false,
     "start_time": "2025-09-16T18:29:07.350594",
     "status": "completed"
    },
    "tags": []
   },
   "outputs": [],
   "source": [
    "results_df.to_csv('2hop_ragas_evaluation.csv', index=False)"
   ]
  }
 ],
 "metadata": {
  "kernelspec": {
   "display_name": "Python 3 (ipykernel)",
   "language": "python",
   "name": "python3"
  },
  "language_info": {
   "codemirror_mode": {
    "name": "ipython",
    "version": 3
   },
   "file_extension": ".py",
   "mimetype": "text/x-python",
   "name": "python",
   "nbconvert_exporter": "python",
   "pygments_lexer": "ipython3",
   "version": "3.10.16"
  },
  "papermill": {
   "default_parameters": {},
   "duration": 932.247017,
   "end_time": "2025-09-16T18:29:09.994100",
   "environment_variables": {},
   "exception": null,
   "input_path": "/Users/alexlecu/PycharmProjects/LLMKGraph/backend/evaluation/evaluation_notebooks/evaluation_results/Mistral-7B/2Hop_Ragas_mistral7b.ipynb",
   "output_path": "./all_ragas_results_executed_notebooks_last/executed_2Hop_Ragas_mistral7b.ipynb",
   "parameters": {},
   "start_time": "2025-09-16T18:13:37.747083",
   "version": "2.6.0"
  },
  "widgets": {
   "application/vnd.jupyter.widget-state+json": {
    "state": {
     "0932bb1fa7634170a92b46546babd352": {
      "model_module": "@jupyter-widgets/controls",
      "model_module_version": "2.0.0",
      "model_name": "ProgressStyleModel",
      "state": {
       "_model_module": "@jupyter-widgets/controls",
       "_model_module_version": "2.0.0",
       "_model_name": "ProgressStyleModel",
       "_view_count": null,
       "_view_module": "@jupyter-widgets/base",
       "_view_module_version": "2.0.0",
       "_view_name": "StyleView",
       "bar_color": null,
       "description_width": ""
      }
     },
     "2571ffaf3a88411d9652da8addf4ce03": {
      "model_module": "@jupyter-widgets/base",
      "model_module_version": "2.0.0",
      "model_name": "LayoutModel",
      "state": {
       "_model_module": "@jupyter-widgets/base",
       "_model_module_version": "2.0.0",
       "_model_name": "LayoutModel",
       "_view_count": null,
       "_view_module": "@jupyter-widgets/base",
       "_view_module_version": "2.0.0",
       "_view_name": "LayoutView",
       "align_content": null,
       "align_items": null,
       "align_self": null,
       "border_bottom": null,
       "border_left": null,
       "border_right": null,
       "border_top": null,
       "bottom": null,
       "display": null,
       "flex": null,
       "flex_flow": null,
       "grid_area": null,
       "grid_auto_columns": null,
       "grid_auto_flow": null,
       "grid_auto_rows": null,
       "grid_column": null,
       "grid_gap": null,
       "grid_row": null,
       "grid_template_areas": null,
       "grid_template_columns": null,
       "grid_template_rows": null,
       "height": null,
       "justify_content": null,
       "justify_items": null,
       "left": null,
       "margin": null,
       "max_height": null,
       "max_width": null,
       "min_height": null,
       "min_width": null,
       "object_fit": null,
       "object_position": null,
       "order": null,
       "overflow": null,
       "padding": null,
       "right": null,
       "top": null,
       "visibility": null,
       "width": null
      }
     },
     "28efe3cb1d2d4286a1559b1a9f27f37e": {
      "model_module": "@jupyter-widgets/base",
      "model_module_version": "2.0.0",
      "model_name": "LayoutModel",
      "state": {
       "_model_module": "@jupyter-widgets/base",
       "_model_module_version": "2.0.0",
       "_model_name": "LayoutModel",
       "_view_count": null,
       "_view_module": "@jupyter-widgets/base",
       "_view_module_version": "2.0.0",
       "_view_name": "LayoutView",
       "align_content": null,
       "align_items": null,
       "align_self": null,
       "border_bottom": null,
       "border_left": null,
       "border_right": null,
       "border_top": null,
       "bottom": null,
       "display": null,
       "flex": null,
       "flex_flow": null,
       "grid_area": null,
       "grid_auto_columns": null,
       "grid_auto_flow": null,
       "grid_auto_rows": null,
       "grid_column": null,
       "grid_gap": null,
       "grid_row": null,
       "grid_template_areas": null,
       "grid_template_columns": null,
       "grid_template_rows": null,
       "height": null,
       "justify_content": null,
       "justify_items": null,
       "left": null,
       "margin": null,
       "max_height": null,
       "max_width": null,
       "min_height": null,
       "min_width": null,
       "object_fit": null,
       "object_position": null,
       "order": null,
       "overflow": null,
       "padding": null,
       "right": null,
       "top": null,
       "visibility": null,
       "width": null
      }
     },
     "449a85031d734aa792097ee66420c63c": {
      "model_module": "@jupyter-widgets/controls",
      "model_module_version": "2.0.0",
      "model_name": "HTMLStyleModel",
      "state": {
       "_model_module": "@jupyter-widgets/controls",
       "_model_module_version": "2.0.0",
       "_model_name": "HTMLStyleModel",
       "_view_count": null,
       "_view_module": "@jupyter-widgets/base",
       "_view_module_version": "2.0.0",
       "_view_name": "StyleView",
       "background": null,
       "description_width": "",
       "font_size": null,
       "text_color": null
      }
     },
     "46ab77fc11bd4280858cff96c0a38dfe": {
      "model_module": "@jupyter-widgets/controls",
      "model_module_version": "2.0.0",
      "model_name": "HTMLModel",
      "state": {
       "_dom_classes": [],
       "_model_module": "@jupyter-widgets/controls",
       "_model_module_version": "2.0.0",
       "_model_name": "HTMLModel",
       "_view_count": null,
       "_view_module": "@jupyter-widgets/controls",
       "_view_module_version": "2.0.0",
       "_view_name": "HTMLView",
       "description": "",
       "description_allow_html": false,
       "layout": "IPY_MODEL_9514668e837f42b79f9cfbb4f89cf317",
       "placeholder": "​",
       "style": "IPY_MODEL_449a85031d734aa792097ee66420c63c",
       "tabbable": null,
       "tooltip": null,
       "value": " 3000/3000 [15:24&lt;00:00, 16.78s/it]"
      }
     },
     "7c45f6f045e944b384efe8afb970d68b": {
      "model_module": "@jupyter-widgets/controls",
      "model_module_version": "2.0.0",
      "model_name": "FloatProgressModel",
      "state": {
       "_dom_classes": [],
       "_model_module": "@jupyter-widgets/controls",
       "_model_module_version": "2.0.0",
       "_model_name": "FloatProgressModel",
       "_view_count": null,
       "_view_module": "@jupyter-widgets/controls",
       "_view_module_version": "2.0.0",
       "_view_name": "ProgressView",
       "bar_style": "success",
       "description": "",
       "description_allow_html": false,
       "layout": "IPY_MODEL_f983d99e14b74c77b8e74c19d4195705",
       "max": 3000.0,
       "min": 0.0,
       "orientation": "horizontal",
       "style": "IPY_MODEL_0932bb1fa7634170a92b46546babd352",
       "tabbable": null,
       "tooltip": null,
       "value": 3000.0
      }
     },
     "8fe897f3a9034b67a568eb46c2ee1124": {
      "model_module": "@jupyter-widgets/controls",
      "model_module_version": "2.0.0",
      "model_name": "HBoxModel",
      "state": {
       "_dom_classes": [],
       "_model_module": "@jupyter-widgets/controls",
       "_model_module_version": "2.0.0",
       "_model_name": "HBoxModel",
       "_view_count": null,
       "_view_module": "@jupyter-widgets/controls",
       "_view_module_version": "2.0.0",
       "_view_name": "HBoxView",
       "box_style": "",
       "children": [
        "IPY_MODEL_f2dec49ff2a34c57b4202f5e1c6bc2dc",
        "IPY_MODEL_7c45f6f045e944b384efe8afb970d68b",
        "IPY_MODEL_46ab77fc11bd4280858cff96c0a38dfe"
       ],
       "layout": "IPY_MODEL_2571ffaf3a88411d9652da8addf4ce03",
       "tabbable": null,
       "tooltip": null
      }
     },
     "9514668e837f42b79f9cfbb4f89cf317": {
      "model_module": "@jupyter-widgets/base",
      "model_module_version": "2.0.0",
      "model_name": "LayoutModel",
      "state": {
       "_model_module": "@jupyter-widgets/base",
       "_model_module_version": "2.0.0",
       "_model_name": "LayoutModel",
       "_view_count": null,
       "_view_module": "@jupyter-widgets/base",
       "_view_module_version": "2.0.0",
       "_view_name": "LayoutView",
       "align_content": null,
       "align_items": null,
       "align_self": null,
       "border_bottom": null,
       "border_left": null,
       "border_right": null,
       "border_top": null,
       "bottom": null,
       "display": null,
       "flex": null,
       "flex_flow": null,
       "grid_area": null,
       "grid_auto_columns": null,
       "grid_auto_flow": null,
       "grid_auto_rows": null,
       "grid_column": null,
       "grid_gap": null,
       "grid_row": null,
       "grid_template_areas": null,
       "grid_template_columns": null,
       "grid_template_rows": null,
       "height": null,
       "justify_content": null,
       "justify_items": null,
       "left": null,
       "margin": null,
       "max_height": null,
       "max_width": null,
       "min_height": null,
       "min_width": null,
       "object_fit": null,
       "object_position": null,
       "order": null,
       "overflow": null,
       "padding": null,
       "right": null,
       "top": null,
       "visibility": null,
       "width": null
      }
     },
     "f2dec49ff2a34c57b4202f5e1c6bc2dc": {
      "model_module": "@jupyter-widgets/controls",
      "model_module_version": "2.0.0",
      "model_name": "HTMLModel",
      "state": {
       "_dom_classes": [],
       "_model_module": "@jupyter-widgets/controls",
       "_model_module_version": "2.0.0",
       "_model_name": "HTMLModel",
       "_view_count": null,
       "_view_module": "@jupyter-widgets/controls",
       "_view_module_version": "2.0.0",
       "_view_name": "HTMLView",
       "description": "",
       "description_allow_html": false,
       "layout": "IPY_MODEL_28efe3cb1d2d4286a1559b1a9f27f37e",
       "placeholder": "​",
       "style": "IPY_MODEL_f71fc567ed26478e9dbaad4605615c4a",
       "tabbable": null,
       "tooltip": null,
       "value": "Evaluating: 100%"
      }
     },
     "f71fc567ed26478e9dbaad4605615c4a": {
      "model_module": "@jupyter-widgets/controls",
      "model_module_version": "2.0.0",
      "model_name": "HTMLStyleModel",
      "state": {
       "_model_module": "@jupyter-widgets/controls",
       "_model_module_version": "2.0.0",
       "_model_name": "HTMLStyleModel",
       "_view_count": null,
       "_view_module": "@jupyter-widgets/base",
       "_view_module_version": "2.0.0",
       "_view_name": "StyleView",
       "background": null,
       "description_width": "",
       "font_size": null,
       "text_color": null
      }
     },
     "f983d99e14b74c77b8e74c19d4195705": {
      "model_module": "@jupyter-widgets/base",
      "model_module_version": "2.0.0",
      "model_name": "LayoutModel",
      "state": {
       "_model_module": "@jupyter-widgets/base",
       "_model_module_version": "2.0.0",
       "_model_name": "LayoutModel",
       "_view_count": null,
       "_view_module": "@jupyter-widgets/base",
       "_view_module_version": "2.0.0",
       "_view_name": "LayoutView",
       "align_content": null,
       "align_items": null,
       "align_self": null,
       "border_bottom": null,
       "border_left": null,
       "border_right": null,
       "border_top": null,
       "bottom": null,
       "display": null,
       "flex": null,
       "flex_flow": null,
       "grid_area": null,
       "grid_auto_columns": null,
       "grid_auto_flow": null,
       "grid_auto_rows": null,
       "grid_column": null,
       "grid_gap": null,
       "grid_row": null,
       "grid_template_areas": null,
       "grid_template_columns": null,
       "grid_template_rows": null,
       "height": null,
       "justify_content": null,
       "justify_items": null,
       "left": null,
       "margin": null,
       "max_height": null,
       "max_width": null,
       "min_height": null,
       "min_width": null,
       "object_fit": null,
       "object_position": null,
       "order": null,
       "overflow": null,
       "padding": null,
       "right": null,
       "top": null,
       "visibility": null,
       "width": null
      }
     }
    },
    "version_major": 2,
    "version_minor": 0
   }
  }
 },
 "nbformat": 4,
 "nbformat_minor": 5
}