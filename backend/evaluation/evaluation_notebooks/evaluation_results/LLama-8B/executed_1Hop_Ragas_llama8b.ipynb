{
 "cells": [
  {
   "cell_type": "code",
   "execution_count": 1,
   "id": "12d5b393-f61e-4811-b970-cc6da6dacfce",
   "metadata": {
    "execution": {
     "iopub.execute_input": "2025-09-16T17:01:15.760548Z",
     "iopub.status.busy": "2025-09-16T17:01:15.760141Z",
     "iopub.status.idle": "2025-09-16T17:01:18.110774Z",
     "shell.execute_reply": "2025-09-16T17:01:18.110488Z"
    },
    "papermill": {
     "duration": 2.357142,
     "end_time": "2025-09-16T17:01:18.111616",
     "exception": false,
     "start_time": "2025-09-16T17:01:15.754474",
     "status": "completed"
    },
    "tags": []
   },
   "outputs": [
    {
     "data": {
      "text/plain": [
       "True"
      ]
     },
     "execution_count": 1,
     "metadata": {},
     "output_type": "execute_result"
    }
   ],
   "source": [
    "import pandas as pd\n",
    "import ast\n",
    "from ragas import evaluate\n",
    "from ragas.metrics import Faithfulness, AnswerRelevancy, ContextRecall\n",
    "from ragas import EvaluationDataset\n",
    "from datasets import Dataset\n",
    "from dotenv import load_dotenv\n",
    "from ragas.metrics import (\n",
    "    answer_correctness,\n",
    "    answer_relevancy,\n",
    "    faithfulness,\n",
    "    context_precision,\n",
    "    context_recall,\n",
    "    answer_similarity,\n",
    ")\n",
    "import os\n",
    "\n",
    "load_dotenv()"
   ]
  },
  {
   "cell_type": "code",
   "execution_count": 2,
   "id": "83f78bd9-52c5-40ef-ab8e-5e573944b5b5",
   "metadata": {
    "execution": {
     "iopub.execute_input": "2025-09-16T17:01:18.114190Z",
     "iopub.status.busy": "2025-09-16T17:01:18.113825Z",
     "iopub.status.idle": "2025-09-16T17:01:18.116185Z",
     "shell.execute_reply": "2025-09-16T17:01:18.115980Z"
    },
    "papermill": {
     "duration": 0.004053,
     "end_time": "2025-09-16T17:01:18.116823",
     "exception": false,
     "start_time": "2025-09-16T17:01:18.112770",
     "status": "completed"
    },
    "tags": []
   },
   "outputs": [],
   "source": [
    "def parse_context(context):\n",
    "    try:\n",
    "        if isinstance(context, list):\n",
    "            return [str(c) for c in context]\n",
    "        if isinstance(context, str):\n",
    "            context = context.strip()\n",
    "            parsed = ast.literal_eval(context)\n",
    "            if isinstance(parsed, list):\n",
    "                return [str(item) for item in parsed]\n",
    "            else:\n",
    "                return [str(parsed)]\n",
    "        return [str(context)]\n",
    "    except (ValueError, SyntaxError) as e:\n",
    "        print(f\"Warning: Failed to parse context '{context}' with error: {e}\")\n",
    "        return [str(context)]\n"
   ]
  },
  {
   "cell_type": "code",
   "execution_count": 3,
   "id": "5c962c96-5ba7-4ae1-a2a7-0aa5cd2bab77",
   "metadata": {
    "execution": {
     "iopub.execute_input": "2025-09-16T17:01:18.118430Z",
     "iopub.status.busy": "2025-09-16T17:01:18.118356Z",
     "iopub.status.idle": "2025-09-16T17:01:18.126621Z",
     "shell.execute_reply": "2025-09-16T17:01:18.126343Z"
    },
    "papermill": {
     "duration": 0.009723,
     "end_time": "2025-09-16T17:01:18.127228",
     "exception": false,
     "start_time": "2025-09-16T17:01:18.117505",
     "status": "completed"
    },
    "tags": []
   },
   "outputs": [],
   "source": [
    "df = pd.read_csv('data/1hop_ragas.csv')\n",
    "\n",
    "df = df.rename(columns={'context': 'retrieved_contexts'})\n",
    "df = df.rename(columns={'generated_answer': 'response'})"
   ]
  },
  {
   "cell_type": "code",
   "execution_count": 4,
   "id": "b7d1b5e8-9208-4cf9-a81c-f200b449a15d",
   "metadata": {
    "execution": {
     "iopub.execute_input": "2025-09-16T17:01:18.129395Z",
     "iopub.status.busy": "2025-09-16T17:01:18.129311Z",
     "iopub.status.idle": "2025-09-16T17:01:18.133327Z",
     "shell.execute_reply": "2025-09-16T17:01:18.133117Z"
    },
    "papermill": {
     "duration": 0.006166,
     "end_time": "2025-09-16T17:01:18.134106",
     "exception": false,
     "start_time": "2025-09-16T17:01:18.127940",
     "status": "completed"
    },
    "tags": []
   },
   "outputs": [],
   "source": [
    "df['retrieved_contexts'] = df['retrieved_contexts'].apply(parse_context)"
   ]
  },
  {
   "cell_type": "code",
   "execution_count": 5,
   "id": "807cb567-d6ed-4807-b709-c1ef53c64f4b",
   "metadata": {
    "execution": {
     "iopub.execute_input": "2025-09-16T17:01:18.136371Z",
     "iopub.status.busy": "2025-09-16T17:01:18.136281Z",
     "iopub.status.idle": "2025-09-16T17:01:18.143720Z",
     "shell.execute_reply": "2025-09-16T17:01:18.143455Z"
    },
    "papermill": {
     "duration": 0.009244,
     "end_time": "2025-09-16T17:01:18.144433",
     "exception": false,
     "start_time": "2025-09-16T17:01:18.135189",
     "status": "completed"
    },
    "tags": []
   },
   "outputs": [],
   "source": [
    "evaluation_dataset = Dataset.from_pandas(df)"
   ]
  },
  {
   "cell_type": "code",
   "execution_count": 6,
   "id": "c754fc54-2160-42d5-93ef-e6c715bf2cc9",
   "metadata": {
    "execution": {
     "iopub.execute_input": "2025-09-16T17:01:18.146625Z",
     "iopub.status.busy": "2025-09-16T17:01:18.146443Z",
     "iopub.status.idle": "2025-09-16T17:14:52.011300Z",
     "shell.execute_reply": "2025-09-16T17:14:52.009946Z"
    },
    "papermill": {
     "duration": 813.86961,
     "end_time": "2025-09-16T17:14:52.014856",
     "exception": false,
     "start_time": "2025-09-16T17:01:18.145246",
     "status": "completed"
    },
    "tags": []
   },
   "outputs": [
    {
     "data": {
      "application/vnd.jupyter.widget-view+json": {
       "model_id": "65b4f2658434456cad05bb50d1a2ad2c",
       "version_major": 2,
       "version_minor": 0
      },
      "text/plain": [
       "Evaluating:   0%|          | 0/3000 [00:00<?, ?it/s]"
      ]
     },
     "metadata": {},
     "output_type": "display_data"
    },
    {
     "name": "stderr",
     "output_type": "stream",
     "text": [
      "Exception raised in Job[13]: IndexError(list index out of range)\n"
     ]
    },
    {
     "name": "stderr",
     "output_type": "stream",
     "text": [
      "Exception raised in Job[7]: IndexError(list index out of range)\n"
     ]
    },
    {
     "name": "stderr",
     "output_type": "stream",
     "text": [
      "Exception raised in Job[1]: IndexError(list index out of range)\n"
     ]
    },
    {
     "name": "stderr",
     "output_type": "stream",
     "text": [
      "Exception raised in Job[25]: IndexError(list index out of range)\n"
     ]
    },
    {
     "name": "stderr",
     "output_type": "stream",
     "text": [
      "Exception raised in Job[127]: IndexError(list index out of range)\n"
     ]
    },
    {
     "name": "stderr",
     "output_type": "stream",
     "text": [
      "Exception raised in Job[199]: IndexError(list index out of range)\n"
     ]
    },
    {
     "name": "stderr",
     "output_type": "stream",
     "text": [
      "Exception raised in Job[265]: IndexError(list index out of range)\n"
     ]
    },
    {
     "name": "stderr",
     "output_type": "stream",
     "text": [
      "Exception raised in Job[397]: IndexError(list index out of range)\n"
     ]
    },
    {
     "name": "stderr",
     "output_type": "stream",
     "text": [
      "Exception raised in Job[445]: IndexError(list index out of range)\n"
     ]
    },
    {
     "name": "stderr",
     "output_type": "stream",
     "text": [
      "Exception raised in Job[505]: IndexError(list index out of range)\n"
     ]
    },
    {
     "name": "stderr",
     "output_type": "stream",
     "text": [
      "Exception raised in Job[607]: IndexError(list index out of range)\n"
     ]
    },
    {
     "name": "stderr",
     "output_type": "stream",
     "text": [
      "Exception raised in Job[679]: IndexError(list index out of range)\n"
     ]
    },
    {
     "name": "stderr",
     "output_type": "stream",
     "text": [
      "Exception raised in Job[727]: IndexError(list index out of range)\n"
     ]
    },
    {
     "name": "stderr",
     "output_type": "stream",
     "text": [
      "Exception raised in Job[799]: IndexError(list index out of range)\n"
     ]
    },
    {
     "name": "stderr",
     "output_type": "stream",
     "text": [
      "Exception raised in Job[841]: IndexError(list index out of range)\n"
     ]
    },
    {
     "name": "stderr",
     "output_type": "stream",
     "text": [
      "Exception raised in Job[979]: IndexError(list index out of range)\n"
     ]
    },
    {
     "name": "stderr",
     "output_type": "stream",
     "text": [
      "Exception raised in Job[1099]: IndexError(list index out of range)\n"
     ]
    },
    {
     "name": "stderr",
     "output_type": "stream",
     "text": [
      "Exception raised in Job[1147]: IndexError(list index out of range)\n"
     ]
    },
    {
     "name": "stderr",
     "output_type": "stream",
     "text": [
      "Exception raised in Job[1171]: IndexError(list index out of range)\n"
     ]
    },
    {
     "name": "stderr",
     "output_type": "stream",
     "text": [
      "Exception raised in Job[1189]: IndexError(list index out of range)\n"
     ]
    },
    {
     "name": "stderr",
     "output_type": "stream",
     "text": [
      "Exception raised in Job[1249]: IndexError(list index out of range)\n"
     ]
    },
    {
     "name": "stderr",
     "output_type": "stream",
     "text": [
      "Exception raised in Job[1285]: IndexError(list index out of range)\n"
     ]
    },
    {
     "name": "stderr",
     "output_type": "stream",
     "text": [
      "Exception raised in Job[1543]: IndexError(list index out of range)\n"
     ]
    },
    {
     "name": "stderr",
     "output_type": "stream",
     "text": [
      "Exception raised in Job[1681]: IndexError(list index out of range)\n"
     ]
    },
    {
     "name": "stderr",
     "output_type": "stream",
     "text": [
      "Exception raised in Job[1723]: IndexError(list index out of range)\n"
     ]
    },
    {
     "name": "stderr",
     "output_type": "stream",
     "text": [
      "Exception raised in Job[1861]: IndexError(list index out of range)\n"
     ]
    },
    {
     "name": "stderr",
     "output_type": "stream",
     "text": [
      "Exception raised in Job[1873]: IndexError(list index out of range)\n"
     ]
    },
    {
     "name": "stderr",
     "output_type": "stream",
     "text": [
      "Exception raised in Job[1915]: IndexError(list index out of range)\n"
     ]
    },
    {
     "name": "stderr",
     "output_type": "stream",
     "text": [
      "Exception raised in Job[2041]: IndexError(list index out of range)\n"
     ]
    },
    {
     "name": "stderr",
     "output_type": "stream",
     "text": [
      "Exception raised in Job[2077]: IndexError(list index out of range)\n"
     ]
    },
    {
     "name": "stderr",
     "output_type": "stream",
     "text": [
      "Exception raised in Job[2149]: IndexError(list index out of range)\n"
     ]
    },
    {
     "name": "stderr",
     "output_type": "stream",
     "text": [
      "Exception raised in Job[2173]: IndexError(list index out of range)\n"
     ]
    },
    {
     "name": "stderr",
     "output_type": "stream",
     "text": [
      "Exception raised in Job[2197]: IndexError(list index out of range)\n"
     ]
    },
    {
     "name": "stderr",
     "output_type": "stream",
     "text": [
      "Exception raised in Job[2353]: IndexError(list index out of range)\n"
     ]
    },
    {
     "name": "stderr",
     "output_type": "stream",
     "text": [
      "Exception raised in Job[2401]: IndexError(list index out of range)\n"
     ]
    },
    {
     "name": "stderr",
     "output_type": "stream",
     "text": [
      "Exception raised in Job[2455]: IndexError(list index out of range)\n"
     ]
    },
    {
     "name": "stderr",
     "output_type": "stream",
     "text": [
      "Exception raised in Job[2479]: IndexError(list index out of range)\n"
     ]
    },
    {
     "name": "stderr",
     "output_type": "stream",
     "text": [
      "Exception raised in Job[2545]: IndexError(list index out of range)\n"
     ]
    },
    {
     "name": "stderr",
     "output_type": "stream",
     "text": [
      "Exception raised in Job[2563]: IndexError(list index out of range)\n"
     ]
    },
    {
     "name": "stderr",
     "output_type": "stream",
     "text": [
      "Exception raised in Job[2635]: IndexError(list index out of range)\n"
     ]
    },
    {
     "name": "stderr",
     "output_type": "stream",
     "text": [
      "Exception raised in Job[2665]: IndexError(list index out of range)\n"
     ]
    },
    {
     "name": "stderr",
     "output_type": "stream",
     "text": [
      "Exception raised in Job[2755]: IndexError(list index out of range)\n"
     ]
    },
    {
     "name": "stderr",
     "output_type": "stream",
     "text": [
      "Exception raised in Job[2767]: IndexError(list index out of range)\n"
     ]
    },
    {
     "name": "stderr",
     "output_type": "stream",
     "text": [
      "Exception raised in Job[2815]: IndexError(list index out of range)\n"
     ]
    },
    {
     "name": "stderr",
     "output_type": "stream",
     "text": [
      "Exception raised in Job[2851]: IndexError(list index out of range)\n"
     ]
    },
    {
     "name": "stderr",
     "output_type": "stream",
     "text": [
      "Exception raised in Job[2947]: IndexError(list index out of range)\n"
     ]
    }
   ],
   "source": [
    "result = evaluate(\n",
    "    dataset=evaluation_dataset,\n",
    "    metrics=[\n",
    "        answer_correctness,\n",
    "        answer_relevancy,\n",
    "        answer_similarity,\n",
    "        faithfulness,\n",
    "        context_precision,\n",
    "        context_recall,\n",
    "    ])"
   ]
  },
  {
   "cell_type": "code",
   "execution_count": 7,
   "id": "ef459d14-b7fc-44ad-8a72-1d3d478ec533",
   "metadata": {
    "execution": {
     "iopub.execute_input": "2025-09-16T17:14:52.030997Z",
     "iopub.status.busy": "2025-09-16T17:14:52.030682Z",
     "iopub.status.idle": "2025-09-16T17:14:52.036460Z",
     "shell.execute_reply": "2025-09-16T17:14:52.035916Z"
    },
    "papermill": {
     "duration": 0.013698,
     "end_time": "2025-09-16T17:14:52.037705",
     "exception": false,
     "start_time": "2025-09-16T17:14:52.024007",
     "status": "completed"
    },
    "tags": []
   },
   "outputs": [
    {
     "data": {
      "text/plain": [
       "{'answer_correctness': 0.5779, 'answer_relevancy': 0.8930, 'answer_similarity': 0.9137, 'faithfulness': 0.9374, 'context_precision': 0.7360, 'context_recall': 0.4740}"
      ]
     },
     "execution_count": 7,
     "metadata": {},
     "output_type": "execute_result"
    }
   ],
   "source": [
    "result"
   ]
  },
  {
   "cell_type": "code",
   "execution_count": 8,
   "id": "fb0f4e07-02c9-48d1-8ef8-d7ada4f1c3b1",
   "metadata": {
    "execution": {
     "iopub.execute_input": "2025-09-16T17:14:52.045376Z",
     "iopub.status.busy": "2025-09-16T17:14:52.045159Z",
     "iopub.status.idle": "2025-09-16T17:14:52.053487Z",
     "shell.execute_reply": "2025-09-16T17:14:52.053174Z"
    },
    "papermill": {
     "duration": 0.012941,
     "end_time": "2025-09-16T17:14:52.054369",
     "exception": false,
     "start_time": "2025-09-16T17:14:52.041428",
     "status": "completed"
    },
    "tags": []
   },
   "outputs": [],
   "source": [
    "results_df = result.to_pandas()"
   ]
  },
  {
   "cell_type": "code",
   "execution_count": 9,
   "id": "236fdb91-0727-4e92-b049-265f4fef6bcb",
   "metadata": {
    "execution": {
     "iopub.execute_input": "2025-09-16T17:14:52.060966Z",
     "iopub.status.busy": "2025-09-16T17:14:52.060801Z",
     "iopub.status.idle": "2025-09-16T17:14:52.076273Z",
     "shell.execute_reply": "2025-09-16T17:14:52.076001Z"
    },
    "papermill": {
     "duration": 0.019414,
     "end_time": "2025-09-16T17:14:52.076989",
     "exception": false,
     "start_time": "2025-09-16T17:14:52.057575",
     "status": "completed"
    },
    "tags": []
   },
   "outputs": [],
   "source": [
    "results_df.to_csv('1hop_ragas_evaluation.csv', index=False)"
   ]
  }
 ],
 "metadata": {
  "kernelspec": {
   "display_name": "Python 3 (ipykernel)",
   "language": "python",
   "name": "python3"
  },
  "language_info": {
   "codemirror_mode": {
    "name": "ipython",
    "version": 3
   },
   "file_extension": ".py",
   "mimetype": "text/x-python",
   "name": "python",
   "nbconvert_exporter": "python",
   "pygments_lexer": "ipython3",
   "version": "3.10.16"
  },
  "papermill": {
   "default_parameters": {},
   "duration": 819.568359,
   "end_time": "2025-09-16T17:14:54.702236",
   "environment_variables": {},
   "exception": null,
   "input_path": "/Users/alexlecu/PycharmProjects/LLMKGraph/backend/evaluation/evaluation_notebooks/evaluation_results/LLama-8B/1Hop_Ragas_llama8b.ipynb",
   "output_path": "./all_ragas_results_executed_notebooks_last/executed_1Hop_Ragas_llama8b.ipynb",
   "parameters": {},
   "start_time": "2025-09-16T17:01:15.133877",
   "version": "2.6.0"
  },
  "widgets": {
   "application/vnd.jupyter.widget-state+json": {
    "state": {
     "1d2312d38c92445aae454e0ba42279b9": {
      "model_module": "@jupyter-widgets/base",
      "model_module_version": "2.0.0",
      "model_name": "LayoutModel",
      "state": {
       "_model_module": "@jupyter-widgets/base",
       "_model_module_version": "2.0.0",
       "_model_name": "LayoutModel",
       "_view_count": null,
       "_view_module": "@jupyter-widgets/base",
       "_view_module_version": "2.0.0",
       "_view_name": "LayoutView",
       "align_content": null,
       "align_items": null,
       "align_self": null,
       "border_bottom": null,
       "border_left": null,
       "border_right": null,
       "border_top": null,
       "bottom": null,
       "display": null,
       "flex": null,
       "flex_flow": null,
       "grid_area": null,
       "grid_auto_columns": null,
       "grid_auto_flow": null,
       "grid_auto_rows": null,
       "grid_column": null,
       "grid_gap": null,
       "grid_row": null,
       "grid_template_areas": null,
       "grid_template_columns": null,
       "grid_template_rows": null,
       "height": null,
       "justify_content": null,
       "justify_items": null,
       "left": null,
       "margin": null,
       "max_height": null,
       "max_width": null,
       "min_height": null,
       "min_width": null,
       "object_fit": null,
       "object_position": null,
       "order": null,
       "overflow": null,
       "padding": null,
       "right": null,
       "top": null,
       "visibility": null,
       "width": null
      }
     },
     "2aa2abf0ed674eaaa728b4fd08220a4a": {
      "model_module": "@jupyter-widgets/controls",
      "model_module_version": "2.0.0",
      "model_name": "HTMLModel",
      "state": {
       "_dom_classes": [],
       "_model_module": "@jupyter-widgets/controls",
       "_model_module_version": "2.0.0",
       "_model_name": "HTMLModel",
       "_view_count": null,
       "_view_module": "@jupyter-widgets/controls",
       "_view_module_version": "2.0.0",
       "_view_name": "HTMLView",
       "description": "",
       "description_allow_html": false,
       "layout": "IPY_MODEL_1d2312d38c92445aae454e0ba42279b9",
       "placeholder": "​",
       "style": "IPY_MODEL_a013b4583013494d871aaf9190413909",
       "tabbable": null,
       "tooltip": null,
       "value": " 3000/3000 [13:31&lt;00:00,  1.14it/s]"
      }
     },
     "43101a04c58a45fa9c33534d0ead9d7c": {
      "model_module": "@jupyter-widgets/controls",
      "model_module_version": "2.0.0",
      "model_name": "ProgressStyleModel",
      "state": {
       "_model_module": "@jupyter-widgets/controls",
       "_model_module_version": "2.0.0",
       "_model_name": "ProgressStyleModel",
       "_view_count": null,
       "_view_module": "@jupyter-widgets/base",
       "_view_module_version": "2.0.0",
       "_view_name": "StyleView",
       "bar_color": null,
       "description_width": ""
      }
     },
     "65b4f2658434456cad05bb50d1a2ad2c": {
      "model_module": "@jupyter-widgets/controls",
      "model_module_version": "2.0.0",
      "model_name": "HBoxModel",
      "state": {
       "_dom_classes": [],
       "_model_module": "@jupyter-widgets/controls",
       "_model_module_version": "2.0.0",
       "_model_name": "HBoxModel",
       "_view_count": null,
       "_view_module": "@jupyter-widgets/controls",
       "_view_module_version": "2.0.0",
       "_view_name": "HBoxView",
       "box_style": "",
       "children": [
        "IPY_MODEL_d5a753df7b5040a58114a0c4eba67c7f",
        "IPY_MODEL_ee5f4123eee84e3fbb4e4ac7de0cea1c",
        "IPY_MODEL_2aa2abf0ed674eaaa728b4fd08220a4a"
       ],
       "layout": "IPY_MODEL_8cb981a96b1a4ec7a53bfd8e2825f6ca",
       "tabbable": null,
       "tooltip": null
      }
     },
     "7e4ff3ac30b94ab990e36233a1cfd517": {
      "model_module": "@jupyter-widgets/controls",
      "model_module_version": "2.0.0",
      "model_name": "HTMLStyleModel",
      "state": {
       "_model_module": "@jupyter-widgets/controls",
       "_model_module_version": "2.0.0",
       "_model_name": "HTMLStyleModel",
       "_view_count": null,
       "_view_module": "@jupyter-widgets/base",
       "_view_module_version": "2.0.0",
       "_view_name": "StyleView",
       "background": null,
       "description_width": "",
       "font_size": null,
       "text_color": null
      }
     },
     "8cb981a96b1a4ec7a53bfd8e2825f6ca": {
      "model_module": "@jupyter-widgets/base",
      "model_module_version": "2.0.0",
      "model_name": "LayoutModel",
      "state": {
       "_model_module": "@jupyter-widgets/base",
       "_model_module_version": "2.0.0",
       "_model_name": "LayoutModel",
       "_view_count": null,
       "_view_module": "@jupyter-widgets/base",
       "_view_module_version": "2.0.0",
       "_view_name": "LayoutView",
       "align_content": null,
       "align_items": null,
       "align_self": null,
       "border_bottom": null,
       "border_left": null,
       "border_right": null,
       "border_top": null,
       "bottom": null,
       "display": null,
       "flex": null,
       "flex_flow": null,
       "grid_area": null,
       "grid_auto_columns": null,
       "grid_auto_flow": null,
       "grid_auto_rows": null,
       "grid_column": null,
       "grid_gap": null,
       "grid_row": null,
       "grid_template_areas": null,
       "grid_template_columns": null,
       "grid_template_rows": null,
       "height": null,
       "justify_content": null,
       "justify_items": null,
       "left": null,
       "margin": null,
       "max_height": null,
       "max_width": null,
       "min_height": null,
       "min_width": null,
       "object_fit": null,
       "object_position": null,
       "order": null,
       "overflow": null,
       "padding": null,
       "right": null,
       "top": null,
       "visibility": null,
       "width": null
      }
     },
     "a013b4583013494d871aaf9190413909": {
      "model_module": "@jupyter-widgets/controls",
      "model_module_version": "2.0.0",
      "model_name": "HTMLStyleModel",
      "state": {
       "_model_module": "@jupyter-widgets/controls",
       "_model_module_version": "2.0.0",
       "_model_name": "HTMLStyleModel",
       "_view_count": null,
       "_view_module": "@jupyter-widgets/base",
       "_view_module_version": "2.0.0",
       "_view_name": "StyleView",
       "background": null,
       "description_width": "",
       "font_size": null,
       "text_color": null
      }
     },
     "ac686c5fde714ac98e69284e3c072653": {
      "model_module": "@jupyter-widgets/base",
      "model_module_version": "2.0.0",
      "model_name": "LayoutModel",
      "state": {
       "_model_module": "@jupyter-widgets/base",
       "_model_module_version": "2.0.0",
       "_model_name": "LayoutModel",
       "_view_count": null,
       "_view_module": "@jupyter-widgets/base",
       "_view_module_version": "2.0.0",
       "_view_name": "LayoutView",
       "align_content": null,
       "align_items": null,
       "align_self": null,
       "border_bottom": null,
       "border_left": null,
       "border_right": null,
       "border_top": null,
       "bottom": null,
       "display": null,
       "flex": null,
       "flex_flow": null,
       "grid_area": null,
       "grid_auto_columns": null,
       "grid_auto_flow": null,
       "grid_auto_rows": null,
       "grid_column": null,
       "grid_gap": null,
       "grid_row": null,
       "grid_template_areas": null,
       "grid_template_columns": null,
       "grid_template_rows": null,
       "height": null,
       "justify_content": null,
       "justify_items": null,
       "left": null,
       "margin": null,
       "max_height": null,
       "max_width": null,
       "min_height": null,
       "min_width": null,
       "object_fit": null,
       "object_position": null,
       "order": null,
       "overflow": null,
       "padding": null,
       "right": null,
       "top": null,
       "visibility": null,
       "width": null
      }
     },
     "cdb1a344aa8247219a3d7b5817f1b272": {
      "model_module": "@jupyter-widgets/base",
      "model_module_version": "2.0.0",
      "model_name": "LayoutModel",
      "state": {
       "_model_module": "@jupyter-widgets/base",
       "_model_module_version": "2.0.0",
       "_model_name": "LayoutModel",
       "_view_count": null,
       "_view_module": "@jupyter-widgets/base",
       "_view_module_version": "2.0.0",
       "_view_name": "LayoutView",
       "align_content": null,
       "align_items": null,
       "align_self": null,
       "border_bottom": null,
       "border_left": null,
       "border_right": null,
       "border_top": null,
       "bottom": null,
       "display": null,
       "flex": null,
       "flex_flow": null,
       "grid_area": null,
       "grid_auto_columns": null,
       "grid_auto_flow": null,
       "grid_auto_rows": null,
       "grid_column": null,
       "grid_gap": null,
       "grid_row": null,
       "grid_template_areas": null,
       "grid_template_columns": null,
       "grid_template_rows": null,
       "height": null,
       "justify_content": null,
       "justify_items": null,
       "left": null,
       "margin": null,
       "max_height": null,
       "max_width": null,
       "min_height": null,
       "min_width": null,
       "object_fit": null,
       "object_position": null,
       "order": null,
       "overflow": null,
       "padding": null,
       "right": null,
       "top": null,
       "visibility": null,
       "width": null
      }
     },
     "d5a753df7b5040a58114a0c4eba67c7f": {
      "model_module": "@jupyter-widgets/controls",
      "model_module_version": "2.0.0",
      "model_name": "HTMLModel",
      "state": {
       "_dom_classes": [],
       "_model_module": "@jupyter-widgets/controls",
       "_model_module_version": "2.0.0",
       "_model_name": "HTMLModel",
       "_view_count": null,
       "_view_module": "@jupyter-widgets/controls",
       "_view_module_version": "2.0.0",
       "_view_name": "HTMLView",
       "description": "",
       "description_allow_html": false,
       "layout": "IPY_MODEL_cdb1a344aa8247219a3d7b5817f1b272",
       "placeholder": "​",
       "style": "IPY_MODEL_7e4ff3ac30b94ab990e36233a1cfd517",
       "tabbable": null,
       "tooltip": null,
       "value": "Evaluating: 100%"
      }
     },
     "ee5f4123eee84e3fbb4e4ac7de0cea1c": {
      "model_module": "@jupyter-widgets/controls",
      "model_module_version": "2.0.0",
      "model_name": "FloatProgressModel",
      "state": {
       "_dom_classes": [],
       "_model_module": "@jupyter-widgets/controls",
       "_model_module_version": "2.0.0",
       "_model_name": "FloatProgressModel",
       "_view_count": null,
       "_view_module": "@jupyter-widgets/controls",
       "_view_module_version": "2.0.0",
       "_view_name": "ProgressView",
       "bar_style": "success",
       "description": "",
       "description_allow_html": false,
       "layout": "IPY_MODEL_ac686c5fde714ac98e69284e3c072653",
       "max": 3000.0,
       "min": 0.0,
       "orientation": "horizontal",
       "style": "IPY_MODEL_43101a04c58a45fa9c33534d0ead9d7c",
       "tabbable": null,
       "tooltip": null,
       "value": 3000.0
      }
     }
    },
    "version_major": 2,
    "version_minor": 0
   }
  }
 },
 "nbformat": 4,
 "nbformat_minor": 5
}