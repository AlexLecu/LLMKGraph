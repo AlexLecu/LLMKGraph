{
 "cells": [
  {
   "cell_type": "code",
   "execution_count": null,
   "id": "c18df1d3-82e3-46fe-a4f8-0b5e33c77859",
   "metadata": {},
   "outputs": [],
   "source": [
    "import os\n",
    "import sys\n",
    "\n",
    "import json\n",
    "import pandas as pd\n",
    "from weaviate_rag.rag_system import GraphRAGSystem\n",
    "import ollama\n",
    "from ragas import evaluate\n",
    "from ragas.metrics import Faithfulness, AnswerRelevancy, ContextRecall\n",
    "import re\n",
    "from ragas import EvaluationDataset"
   ]
  },
  {
   "cell_type": "code",
   "execution_count": null,
   "id": "6844695c-8e49-4f4f-b8af-2b5352c9307c",
   "metadata": {},
   "outputs": [],
   "source": [
    "# Load your JSON data\n",
    "with open('/Users/alexlecu/PycharmProjects/LLMKGraph/backend/evaluation/data/grok_evaluation_datasets/1_Hop_OpenEnded_Questions.json', 'r') as f:\n",
    "    data = json.load(f)\n",
    "\n",
    "# Convert to DataFrame for RAGAS\n",
    "df = pd.DataFrame(data)\n",
    "df = df[['question', 'answer']]\n",
    "\n",
    "# Later, add retrieved contexts and generated answers after querying your RAG\n",
    "df['contexts'] = None  # Will be filled with retrieved passages\n",
    "df['generated_answer'] = None  # Will be filled with RAG responses"
   ]
  },
  {
   "cell_type": "code",
   "execution_count": null,
   "id": "ada43ab7-5ca5-4128-aa12-91e3ebbb9452",
   "metadata": {},
   "outputs": [],
   "source": [
    "questions = [entry['question'] for entry in data]\n",
    "ground_truths = [entry['answer'] for entry in data]"
   ]
  },
  {
   "cell_type": "code",
   "execution_count": null,
   "id": "b1e8b4ec-4b62-4102-9dbf-1ea0146831bb",
   "metadata": {},
   "outputs": [],
   "source": [
    "def retrieve(user_input):\n",
    "    analyzer = GraphRAGSystem(user_input)\n",
    "    context = analyzer.analyze()\n",
    "\n",
    "    return [context]"
   ]
  },
  {
   "cell_type": "code",
   "execution_count": null,
   "id": "02a59d8e-65ec-4501-9999-19a5bf8ddce8",
   "metadata": {},
   "outputs": [],
   "source": [
    "contexts = [retrieve(q) for q in questions]"
   ]
  },
  {
   "cell_type": "code",
   "execution_count": null,
   "id": "06d077bf-4e06-4452-853e-4c002d5ffe48",
   "metadata": {},
   "outputs": [],
   "source": [
    "def generate_answer(question, context, model):\n",
    "    system_prompt = f\"\"\"\n",
    "    You are a trusted medical research assistant specializing in age-related macular degeneration (AMD). Your task is to provide concise, accurate, and factual answers about AMD research, limited to one sentence, based on the following additional relevant data:\n",
    "    \n",
    "    {context}\n",
    "    \n",
    "    Please adhere to these guidelines when formulating your response:\n",
    "\n",
    "    1. Be Concise:\n",
    "    Provide a direct answer in one sentence, focusing on the most essential information without unnecessary elaboration.\n",
    "    2. Express Uncertainty Transparently:\n",
    "    If the available information is insufficient to answer confidently, acknowledge this and specify what additional data or details would be needed to provide a more complete response.\n",
    "    3. Maintain Accuracy and Integrity:\n",
    "    Base your answer solely on verified data and the provided context. Do not fabricate any information or references.\n",
    "    4. Communicate Professionally:\n",
    "    Present your response in a clear, well-organized, and professional manner, ensuring complex information is accessible and easy to understand.\n",
    "    \n",
    "    Begin your response below.\n",
    "    \"\"\"\n",
    "    \n",
    "    response = ollama.chat(\n",
    "        model=model,\n",
    "        messages=[\n",
    "            {\"role\": \"system\", \"content\": system_prompt},\n",
    "            {\"role\": \"user\", \"content\": question}\n",
    "        ],\n",
    "        stream=False,\n",
    "        options={\n",
    "            \"temperature\": 0.1,\n",
    "            \"top_k\": 50,\n",
    "            \"top_p\": 0.9\n",
    "        }\n",
    "    )\n",
    "    return response['message']['content']"
   ]
  },
  {
   "cell_type": "code",
   "execution_count": null,
   "id": "2a8985a2-ed24-4614-b018-21b522953894",
   "metadata": {},
   "outputs": [],
   "source": [
    "answers = [generate_answer(q, c, \"llama3.2\") for q, c in zip(questions, contexts)]"
   ]
  },
  {
   "cell_type": "code",
   "execution_count": null,
   "id": "813ae1e1-bbda-4a39-a6e0-ac42f0969dde",
   "metadata": {},
   "outputs": [],
   "source": [
    "def remove_think_tags(response):\n",
    "    cleaned_content = re.sub(r'<think>.*?</think>', '', response, flags=re.DOTALL)\n",
    "\n",
    "    return cleaned_content"
   ]
  },
  {
   "cell_type": "code",
   "execution_count": null,
   "id": "ef0a3c36-7dba-4998-b9e3-9b92caffff9b",
   "metadata": {},
   "outputs": [],
   "source": [
    "answers = [remove_think_tags(q) for q in answers]"
   ]
  },
  {
   "cell_type": "code",
   "execution_count": null,
   "id": "a7a808ca-de52-479f-bf17-1cdc7d5aea7c",
   "metadata": {},
   "outputs": [],
   "source": [
    "from datasets import Dataset\n",
    "\n",
    "evaluation_dataset = Dataset.from_dict({\n",
    "    \"user_input\": questions,\n",
    "    \"response\": answers,\n",
    "    \"reference\": ground_truths,\n",
    "    \"retrieved_contexts\": contexts\n",
    "})"
   ]
  },
  {
   "cell_type": "code",
   "execution_count": null,
   "id": "b5fcc50e-3de0-4168-95c6-6d971d948fe5",
   "metadata": {},
   "outputs": [],
   "source": [
    "from dotenv import load_dotenv\n",
    "import os\n",
    "\n",
    "load_dotenv()"
   ]
  },
  {
   "cell_type": "code",
   "execution_count": null,
   "id": "6b405b0a-ca6a-41bb-a9a8-841bc0e6e09f",
   "metadata": {},
   "outputs": [],
   "source": [
    "from langchain_openai import ChatOpenAI\n",
    "from ragas.llms import LangchainLLMWrapper\n",
    "\n",
    "llm = ChatOpenAI(model=\"gpt-4o-mini\")\n",
    "evaluator_llm = LangchainLLMWrapper(llm)"
   ]
  },
  {
   "cell_type": "code",
   "execution_count": null,
   "id": "62eeac55-29f0-460a-83b5-62eb18d04115",
   "metadata": {},
   "outputs": [],
   "source": [
    "from ragas import evaluate\n",
    "from ragas.metrics import LLMContextRecall, Faithfulness, FactualCorrectness\n",
    "\n",
    "result = evaluate(dataset=evaluation_dataset,metrics=[LLMContextRecall(), Faithfulness(), FactualCorrectness()],llm=evaluator_llm)\n"
   ]
  },
  {
   "cell_type": "code",
   "execution_count": null,
   "id": "7a54b60d-3714-4b38-8eb6-7274722f9d8d",
   "metadata": {},
   "outputs": [],
   "source": [
    "result"
   ]
  },
  {
   "cell_type": "code",
   "execution_count": null,
   "id": "9ec8af75-b512-4167-87a7-9f476dd38fe5",
   "metadata": {},
   "outputs": [],
   "source": [
    "evaluation_data = pd.DataFrame({\n",
    "    'question': questions,\n",
    "    'ground_truth': ground_truths,\n",
    "    'context': contexts,\n",
    "    'generated_answer': answers\n",
    "})\n",
    "\n",
    "evaluation_data.to_csv('ragas_1hop_evaluation_data.csv', index=False)"
   ]
  }
 ],
 "metadata": {
  "kernelspec": {
   "display_name": "Python 3 (ipykernel)",
   "language": "python",
   "name": "python3"
  },
  "language_info": {
   "codemirror_mode": {
    "name": "ipython",
    "version": 3
   },
   "file_extension": ".py",
   "mimetype": "text/x-python",
   "name": "python",
   "nbconvert_exporter": "python",
   "pygments_lexer": "ipython3",
   "version": "3.10.16"
  }
 },
 "nbformat": 4,
 "nbformat_minor": 5
}
