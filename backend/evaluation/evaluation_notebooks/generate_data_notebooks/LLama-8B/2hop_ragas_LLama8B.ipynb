{
 "cells": [
  {
   "cell_type": "code",
   "execution_count": null,
   "id": "fd9553a5-1ea8-4b62-8e31-29fefc3b4b3c",
   "metadata": {},
   "outputs": [],
   "source": [
    "import os\n",
    "import sys\n",
    "from dotenv import load_dotenv\n",
    "import json\n",
    "import pandas as pd\n",
    "from weaviate_rag.rag_system import GraphRAGSystem\n",
    "import ollama\n",
    "from ragas import evaluate\n",
    "from ragas.metrics import Faithfulness, AnswerRelevancy, ContextRecall\n",
    "import re\n",
    "import time\n",
    "from ragas import EvaluationDataset\n",
    "from together import Together\n",
    "\n",
    "# Initialize Together client\n",
    "load_dotenv()\n",
    "\n",
    "MODEL_NAME = \"meta-llama/Meta-Llama-3.1-8B-Instruct-Turbo\"\n",
    "TOGETHER_API_KEY = os.environ[\"TOGETHER_API_KEY\"]\n",
    "\n",
    "client = Together(api_key=TOGETHER_API_KEY)"
   ]
  },
  {
   "cell_type": "code",
   "execution_count": null,
   "id": "1d44c394-7ef0-4394-bfaa-bf268ab469dd",
   "metadata": {},
   "outputs": [],
   "source": [
    "# Load your JSON data\n",
    "with open('/Users/alexlecu/PycharmProjects/LLMKGraph/backend/evaluation/data/grok_evaluation_datasets/2_Hop_OpenEnded_Questions.json', 'r') as f:\n",
    "    data = json.load(f)"
   ]
  },
  {
   "cell_type": "code",
   "execution_count": null,
   "id": "ebd26693-feb0-4d41-a09a-806cf22bfaca",
   "metadata": {},
   "outputs": [],
   "source": [
    "questions = [entry['question'] for entry in data]\n",
    "ground_truths = [entry['answer'] for entry in data]"
   ]
  },
  {
   "cell_type": "code",
   "execution_count": null,
   "id": "ab3e384a-1997-4e30-a755-27658c95ee38",
   "metadata": {},
   "outputs": [],
   "source": [
    "model_config = {\n",
    "    'provider': 'together',\n",
    "    'model_name': MODEL_NAME,\n",
    "    'api_key': TOGETHER_API_KEY\n",
    "}\n",
    "\n",
    "def retrieve(user_input):\n",
    "    analyzer = GraphRAGSystem(user_input, model_config)\n",
    "    context = analyzer.analyze()\n",
    "\n",
    "    return [context]"
   ]
  },
  {
   "cell_type": "code",
   "execution_count": null,
   "id": "5e67c285-98a8-42dd-9365-aafeb8df3476",
   "metadata": {},
   "outputs": [],
   "source": [
    "contexts = [retrieve(q) for q in questions]"
   ]
  },
  {
   "cell_type": "code",
   "execution_count": null,
   "id": "98db5fb5-ddff-4376-8c78-5291f435df47",
   "metadata": {},
   "outputs": [],
   "source": [
    "def generate_answer(question, context, model=MODEL_NAME):\n",
    "    user_prompt = f\"\"\"\n",
    "    You are a trusted medical research assistant specializing in age-related macular degeneration (AMD). Your task is to provide concise, accurate, and factual answers about AMD research, limited to one sentence, based on the following additional relevant data:\n",
    "    \n",
    "    {context}\n",
    "    \n",
    "    Please adhere to these guidelines when formulating your response:\n",
    "\n",
    "    1. Be Concise:\n",
    "    Provide a direct answer in one sentence, focusing on the most essential information without unnecessary elaboration.\n",
    "    2. Express Uncertainty Transparently:\n",
    "    If the available information is insufficient to answer confidently, acknowledge this and specify what additional data or details would be needed to provide a more complete response.\n",
    "    3. Maintain Accuracy and Integrity:\n",
    "    Base your answer solely on verified data and the provided context. Do not fabricate any information or references.\n",
    "    4. Communicate Professionally:\n",
    "    Present your response in a clear, well-organized, and professional manner, ensuring complex information is accessible and easy to understand.\n",
    "\n",
    "    Question:\n",
    "    {question}\n",
    "\n",
    "    Begin your response below.\n",
    "    \"\"\"\n",
    "    \n",
    "    try:\n",
    "        response = client.chat.completions.create(\n",
    "            model=model,\n",
    "            messages=[\n",
    "                {\"role\": \"system\", \"content\": \"You are a medical knowledge assistant.\"},\n",
    "                {\"role\": \"user\", \"content\": user_prompt}\n",
    "            ],\n",
    "            temperature=0.1,\n",
    "            top_p=0.9,\n",
    "            max_tokens=200\n",
    "        )\n",
    "        return response.choices[0].message.content\n",
    "    except Exception as e:\n",
    "        print(f\"Error with Together API: {e}\")\n",
    "        time.sleep(1)  # Rate limiting\n",
    "        return None"
   ]
  },
  {
   "cell_type": "code",
   "execution_count": null,
   "id": "a91d7c38-4b90-422f-b5fa-e9ede6de3c99",
   "metadata": {},
   "outputs": [],
   "source": [
    "answers = [generate_answer(q, c) for q, c in zip(questions, contexts)]"
   ]
  },
  {
   "cell_type": "code",
   "execution_count": null,
   "id": "5111a7a0-fefd-4128-a5ac-9fa7d5be6300",
   "metadata": {},
   "outputs": [],
   "source": [
    "evaluation_data = pd.DataFrame({\n",
    "    'question': questions,\n",
    "    'ground_truth': ground_truths,\n",
    "    'context': contexts,\n",
    "    'generated_answer': answers\n",
    "})\n",
    "\n",
    "evaluation_data.to_csv('ragas_2hop_llama8b.csv', index=False)"
   ]
  }
 ],
 "metadata": {
  "kernelspec": {
   "display_name": "Python 3 (ipykernel)",
   "language": "python",
   "name": "python3"
  },
  "language_info": {
   "codemirror_mode": {
    "name": "ipython",
    "version": 3
   },
   "file_extension": ".py",
   "mimetype": "text/x-python",
   "name": "python",
   "nbconvert_exporter": "python",
   "pygments_lexer": "ipython3",
   "version": "3.10.16"
  }
 },
 "nbformat": 4,
 "nbformat_minor": 5
}
