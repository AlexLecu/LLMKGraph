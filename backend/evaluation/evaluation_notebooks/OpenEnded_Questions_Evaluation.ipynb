{
 "cells": [
  {
   "cell_type": "markdown",
   "id": "4069d82d-b895-4a83-b97b-d2dd66c71d0c",
   "metadata": {},
   "source": [
    "# OpenEnded_Questions_Evaluation"
   ]
  },
  {
   "cell_type": "code",
   "execution_count": 1,
   "id": "ee529d51-7312-4d92-b5f6-6a1dbe32fb33",
   "metadata": {},
   "outputs": [
    {
     "name": "stderr",
     "output_type": "stream",
     "text": [
      "/Users/alexlecu/PycharmProjects/LLMKGraph/.local/lib/python3.10/site-packages/tqdm/auto.py:21: TqdmWarning: IProgress not found. Please update jupyter and ipywidgets. See https://ipywidgets.readthedocs.io/en/stable/user_install.html\n",
      "  from .autonotebook import tqdm as notebook_tqdm\n",
      "INFO:datasets:PyTorch version 2.5.1 available.\n",
      "INFO:datasets:TensorFlow version 2.18.0 available.\n"
     ]
    }
   ],
   "source": [
    "import os\n",
    "import sys\n",
    "\n",
    "# Use the current working directory as the base\n",
    "sys.path.append(os.path.abspath(os.path.join(os.getcwd(), '..')))\n",
    "\n",
    "import json\n",
    "import pandas as pd\n",
    "from weaviate_rag.rag_system import KGRAGSystem\n",
    "import ollama\n",
    "from ragas import evaluate\n",
    "from ragas.metrics import Faithfulness, AnswerRelevancy, ContextRecall\n",
    "import re\n",
    "from ragas import EvaluationDataset"
   ]
  },
  {
   "cell_type": "code",
   "execution_count": 2,
   "id": "2fbed8d9-1473-48ae-b57f-47c45fe18a31",
   "metadata": {},
   "outputs": [],
   "source": [
    "# Load your JSON data\n",
    "with open('/Users/alexlecu/PycharmProjects/LLMKGraph/backend/evaluation/data/grok_evaluation_dataset_mini/OpenEnded_Questions_mini.json', 'r') as f:\n",
    "    data = json.load(f)\n",
    "\n",
    "# Convert to DataFrame for RAGAS\n",
    "df = pd.DataFrame(data)\n",
    "df = df[['question', 'answer']]\n",
    "\n",
    "# Later, add retrieved contexts and generated answers after querying your RAG\n",
    "df['contexts'] = None  # Will be filled with retrieved passages\n",
    "df['generated_answer'] = None  # Will be filled with RAG responses"
   ]
  },
  {
   "cell_type": "code",
   "execution_count": 3,
   "id": "39377e92-1d88-4e48-b9fb-ce7b556cc22d",
   "metadata": {},
   "outputs": [],
   "source": [
    "def retrieve(user_input):\n",
    "    rag_system = KGRAGSystem()\n",
    "    kg_result = rag_system.query(user_input)\n",
    "\n",
    "    return [kg_result[\"context\"]]"
   ]
  },
  {
   "cell_type": "code",
   "execution_count": 4,
   "id": "0ad5d442-43ba-4711-a1b7-776363f3a9ad",
   "metadata": {},
   "outputs": [],
   "source": [
    "def generate_answer(question, context, model):\n",
    "    system_prompt = f\"\"\"\n",
    "    You are a trusted medical research assistant specializing in age-related macular degeneration (AMD). Your task is to provide thorough, accurate, and detailed answers about AMD research based on the following additional relevant data:\n",
    "    \n",
    "    {context}\n",
    "    \n",
    "    Please adhere to these guidelines when formulating your response:\n",
    "    \n",
    "    1. Express Uncertainty Transparently:\n",
    "    If the available information is insufficient to answer confidently, acknowledge this and specify what additional data or details would be needed to provide a more complete response.\n",
    "    2. Maintain Accuracy and Integrity:\n",
    "    Base your answer solely on verified data and the provided context. Do not fabricate any information or references.\n",
    "    3. Communicate Professionally:\n",
    "    Present your response in a clear, well-organized, and professional manner, ensuring complex information is accessible and easy to understand.\n",
    "    \n",
    "    Begin your response below.\n",
    "    \"\"\"\n",
    "    \n",
    "    response = ollama.chat(\n",
    "        model=model,\n",
    "        messages=[\n",
    "            {\"role\": \"system\", \"content\": system_prompt},\n",
    "            {\"role\": \"user\", \"content\": question}\n",
    "        ],\n",
    "        stream=False\n",
    "    )\n",
    "    return response['message']['content']"
   ]
  },
  {
   "cell_type": "code",
   "execution_count": 5,
   "id": "8a3ba05f-45ec-4359-9605-5a906aa4cc54",
   "metadata": {},
   "outputs": [],
   "source": [
    "def remove_think_tags(response):\n",
    "    cleaned_content = re.sub(r'<think>.*?</think>', '', response, flags=re.DOTALL)\n",
    "\n",
    "    return cleaned_content"
   ]
  },
  {
   "cell_type": "code",
   "execution_count": 6,
   "id": "53726bd9-c02e-4157-8ed6-a7d87cc3cfb2",
   "metadata": {},
   "outputs": [
    {
     "name": "stderr",
     "output_type": "stream",
     "text": [
      "INFO:httpx:HTTP Request: GET http://localhost:8080/v1/.well-known/openid-configuration \"HTTP/1.1 404 Not Found\"\n",
      "INFO:httpx:HTTP Request: GET http://localhost:8080/v1/meta \"HTTP/1.1 200 OK\"\n",
      "INFO:httpx:HTTP Request: GET https://pypi.org/pypi/weaviate-client/json \"HTTP/1.1 200 OK\"\n",
      "INFO:httpx:HTTP Request: GET http://localhost:8080/v1/schema \"HTTP/1.1 200 OK\"\n",
      "INFO:httpx:HTTP Request: GET http://localhost:8080/v1/.well-known/openid-configuration \"HTTP/1.1 404 Not Found\"\n",
      "INFO:httpx:HTTP Request: GET http://localhost:8080/v1/meta \"HTTP/1.1 200 OK\"\n",
      "INFO:httpx:HTTP Request: GET https://pypi.org/pypi/weaviate-client/json \"HTTP/1.1 200 OK\"\n",
      "INFO:KGRAG:Starting hybrid search for: What is age-related macular degeneration (AMD)?\n",
      "INFO:httpx:HTTP Request: POST http://127.0.0.1:11434/api/chat \"HTTP/1.1 200 OK\"\n",
      "INFO:httpx:HTTP Request: GET http://localhost:8080/v1/.well-known/openid-configuration \"HTTP/1.1 404 Not Found\"\n",
      "INFO:httpx:HTTP Request: GET http://localhost:8080/v1/meta \"HTTP/1.1 200 OK\"\n",
      "INFO:httpx:HTTP Request: GET https://pypi.org/pypi/weaviate-client/json \"HTTP/1.1 200 OK\"\n",
      "INFO:httpx:HTTP Request: GET http://localhost:8080/v1/schema \"HTTP/1.1 200 OK\"\n",
      "INFO:httpx:HTTP Request: GET http://localhost:8080/v1/.well-known/openid-configuration \"HTTP/1.1 404 Not Found\"\n",
      "INFO:httpx:HTTP Request: GET http://localhost:8080/v1/meta \"HTTP/1.1 200 OK\"\n",
      "INFO:httpx:HTTP Request: GET https://pypi.org/pypi/weaviate-client/json \"HTTP/1.1 200 OK\"\n",
      "INFO:KGRAG:Starting hybrid search for: How does AMD affect vision?\n",
      "INFO:httpx:HTTP Request: POST http://127.0.0.1:11434/api/chat \"HTTP/1.1 200 OK\"\n",
      "INFO:httpx:HTTP Request: GET http://localhost:8080/v1/.well-known/openid-configuration \"HTTP/1.1 404 Not Found\"\n",
      "INFO:httpx:HTTP Request: GET http://localhost:8080/v1/meta \"HTTP/1.1 200 OK\"\n",
      "INFO:httpx:HTTP Request: GET https://pypi.org/pypi/weaviate-client/json \"HTTP/1.1 200 OK\"\n",
      "INFO:httpx:HTTP Request: GET http://localhost:8080/v1/schema \"HTTP/1.1 200 OK\"\n",
      "INFO:httpx:HTTP Request: GET http://localhost:8080/v1/.well-known/openid-configuration \"HTTP/1.1 404 Not Found\"\n",
      "INFO:httpx:HTTP Request: GET http://localhost:8080/v1/meta \"HTTP/1.1 200 OK\"\n",
      "INFO:httpx:HTTP Request: GET https://pypi.org/pypi/weaviate-client/json \"HTTP/1.1 200 OK\"\n",
      "INFO:KGRAG:Starting hybrid search for: What are the two main types of AMD?\n",
      "INFO:httpx:HTTP Request: POST http://127.0.0.1:11434/api/chat \"HTTP/1.1 200 OK\"\n",
      "INFO:httpx:HTTP Request: GET http://localhost:8080/v1/.well-known/openid-configuration \"HTTP/1.1 404 Not Found\"\n",
      "INFO:httpx:HTTP Request: GET http://localhost:8080/v1/meta \"HTTP/1.1 200 OK\"\n",
      "INFO:httpx:HTTP Request: GET https://pypi.org/pypi/weaviate-client/json \"HTTP/1.1 200 OK\"\n",
      "INFO:httpx:HTTP Request: GET http://localhost:8080/v1/schema \"HTTP/1.1 200 OK\"\n",
      "INFO:httpx:HTTP Request: GET http://localhost:8080/v1/.well-known/openid-configuration \"HTTP/1.1 404 Not Found\"\n",
      "INFO:httpx:HTTP Request: GET http://localhost:8080/v1/meta \"HTTP/1.1 200 OK\"\n",
      "INFO:httpx:HTTP Request: GET https://pypi.org/pypi/weaviate-client/json \"HTTP/1.1 200 OK\"\n",
      "INFO:KGRAG:Starting hybrid search for: What causes dry AMD?\n",
      "INFO:httpx:HTTP Request: POST http://127.0.0.1:11434/api/chat \"HTTP/1.1 200 OK\"\n",
      "INFO:httpx:HTTP Request: GET http://localhost:8080/v1/.well-known/openid-configuration \"HTTP/1.1 404 Not Found\"\n",
      "INFO:httpx:HTTP Request: GET http://localhost:8080/v1/meta \"HTTP/1.1 200 OK\"\n",
      "INFO:httpx:HTTP Request: GET https://pypi.org/pypi/weaviate-client/json \"HTTP/1.1 200 OK\"\n",
      "INFO:httpx:HTTP Request: GET http://localhost:8080/v1/schema \"HTTP/1.1 200 OK\"\n",
      "INFO:httpx:HTTP Request: GET http://localhost:8080/v1/.well-known/openid-configuration \"HTTP/1.1 404 Not Found\"\n",
      "INFO:httpx:HTTP Request: GET http://localhost:8080/v1/meta \"HTTP/1.1 200 OK\"\n",
      "INFO:httpx:HTTP Request: GET https://pypi.org/pypi/weaviate-client/json \"HTTP/1.1 200 OK\"\n",
      "INFO:KGRAG:Starting hybrid search for: What causes wet AMD?\n",
      "INFO:httpx:HTTP Request: POST http://127.0.0.1:11434/api/chat \"HTTP/1.1 200 OK\"\n"
     ]
    }
   ],
   "source": [
    "dataset = []\n",
    "\n",
    "for index, row in df.iterrows():\n",
    "    context = retrieve(row[\"question\"])\n",
    "    response = remove_think_tags(generate_answer(row[\"question\"], context, \"deepseek-r1\"))\n",
    "\n",
    "    dataset.append(\n",
    "        {\n",
    "            \"user_input\":row[\"question\"],\n",
    "            \"retrieved_contexts\":context,\n",
    "            \"response\":response,\n",
    "            \"reference\":row[\"answer\"]\n",
    "        }\n",
    "    )"
   ]
  },
  {
   "cell_type": "code",
   "execution_count": 7,
   "id": "a7e9c5ee-948a-440e-aa3b-cc69434f414d",
   "metadata": {},
   "outputs": [
    {
     "name": "stdout",
     "output_type": "stream",
     "text": [
      "[{'user_input': 'What is age-related macular degeneration (AMD)?', 'retrieved_contexts': ['Age Related Macular Degeneration (DISEASE) can cause Blindness (SYMPTOM). Age Related Macular Degeneration (DISEASE) can cause Choroidal Neovascular Membrane Formation (PROGRESSION). Age Related Macular Degeneration (DISEASE) presents with Ill Defined Choroidal Neovascularization (DISEASE). Age Related Macular Degeneration (DISEASE) presents with Well Defined Choroidal Neovascularization (BIOMARKER). Age Related Macular Degeneration (DISEASE) can cause Legal Blindness (SYMPTOM). Manipulate Mechanisms (TREATMENT) treats Age Related Macular Degeneration (DISEASE). Medical History (TREATMENT) diagnoses Age Related Macular Degeneration (DISEASE). Physical Examination (TREATMENT) diagnoses Age Related Macular Degeneration (DISEASE). Eye Examination (TREATMENT) diagnoses Age Related Macular Degeneration (DISEASE). Study (TREATMENT) improves Age Related Macular Degeneration (DISEASE). Early Age Related Macular Degeneration (DISEASE) presents with Soft Drusen (BIOMARKER). Early Age Related Macular Degeneration (DISEASE) presents with Retinal Pigment Abnormality (BIOMARKER). Early Age Related Macular Degeneration (DISEASE) presents with Risk Of Developing Visual Loss (RISK_FACTOR). Early Age Related Macular Degeneration (DISEASE) presents with No Signs Of (SYMPTOM). Age Related Macular Degeneration (DISEASE) presents with Early Age Related Macular Degeneration (DISEASE). 2rt Laser (TREATMENT) prevents Early Age Related Macular Degeneration (DISEASE). Laser Treatment (TREATMENT) affects Early Age Related Macular Degeneration (DISEASE). Sham Treatment (TREATMENT) affects Early Age Related Macular Degeneration (DISEASE). 2rt Laser (TREATMENT) treats Early Age Related Macular Degeneration (DISEASE). Late Age Related Macular Degeneration (DISEASE) can cause Blindness (SYMPTOM). Advanced Age Related Macular Degeneration (DISEASE) can cause Irreversible Loss Of Vision (SYMPTOM). Advanced Age Related Macular Degeneration (DISEASE) can cause Loss Of Social Skills (SYMPTOM). Neovascular Age Related Macular Degeneration (DISEASE) can cause Visual Impairment (SYMPTOM). Neovascular Age Related Macular Degeneration (DISEASE) can cause Social Blindness (SYMPTOM). Neovascular Age Related Macular Degeneration (DISEASE) presents with Severe Visual Loss (SYMPTOM). Neovascular Age Related Macular Degeneration (DISEASE) presents with Choroidal Neovascularization (DISEASE). Neovascular Age Related Macular Degeneration (DISEASE) presents with Pigment Epithelial Detachments (COMPLICATION). Bevacizumab (TREATMENT) treats Neovascular Age Related Macular Degeneration (DISEASE). Anti Vegf Antibody Treatment (TREATMENT) treats Neovascular Age Related Macular Degeneration (DISEASE). Ranibizumab (TREATMENT) treats Neovascular Age Related Macular Degeneration (DISEASE). Intravitreal Ranibizumab Lucentis Combined With Transpupillary Thermotherapy Ttt (TREATMENT) treats Neovascular Age Related Macular Degeneration (DISEASE). Pazopanib Eye Drops (TREATMENT) treats Neovascular Age Related M'], 'response': '\\n\\n**Age-Related Macular Degeneration (AMD)** is a leading cause of vision loss affecting millions of people globally. It primarily affects older adults and typically occurs in both eyes symmetrically.\\n\\n### **Symptoms**\\n- **Blindness**: As a major symptom, AMD can lead to total or partial blindness.\\n- **Choroidal Neovascular Membrane Formation (CNVM)**: This is the most common form of AMD-related pathology. It causes ill-defined choroidodermatous neovascularization (CNV), with well-defined CNV being a biomarker for disease progression.\\n\\n### **Progression**\\n- **Early Age-Related Macular Degeneration (EARMD)**:\\n  - Presenters: Soft druses, retinal pigment abnormalities.\\n  - Symptom: Risk of developing visual loss.\\n  - Management: Treatable and reversible with early intervention.\\n\\n- **Late Age-Related Macular Degeneration (LA-RMD) or Neovascular Age-Related Macular Degeneration (NAMD)**:\\n  - Severe symptoms: Blindness, irreversible vision loss.\\n  - Complications: Pigment epithelial detachments as a common complication.\\n\\n### **Biomarkers**\\n- **Ill-Defined Choroidal Neovascularization**: Often associated with early stages and progression.\\n- **Soft Disc Edema**: Seen in EARMD.\\n\\n### **Treatment Options**\\n- **Early Stages (EARMD)**:\\n  - Treatable with various laser therapies, including 2rt laser, Sham Treatment.\\n  - Bevacizumab, Anti-Vegf Antibodies, Ranibizumab are used for advanced stages.\\n\\n- **Late Stages (LA-RMD/NAMD)**:\\n  - Treatments include Lucentis combined with thermotherapy and specific eye drops like Pazopanib.\\n\\n### **Risk Factors**\\n- Age is the primary risk factor.\\n- Conditions like diabetes or uncontrolled hypertension can increase AMD progression.\\n\\n### **Complications**\\n- Beyond vision loss, NAMD can cause visual impairment, social blindness, severe visual loss, and pigmented epithelial detachments.\\n\\nIn summary, AMD affects both eyes symmetrically, leading to vision loss. Management involves early intervention for treatable cases, while advanced stages require specific treatments targeting CNVM progression.', 'reference': 'AMD is an eye disease that blurs central vision due to damage to the macula, the part of the retina responsible for sharp, detailed vision, primarily affecting older adults.'}, {'user_input': 'How does AMD affect vision?', 'retrieved_contexts': ['Early Arm (DISEASE) presents with Vision Impairment (SYMPTOM). Late Arm (DISEASE) presents with Vision Impairment (SYMPTOM). Some Impairment Of Vision (DISEASE) presents with Vision Impairment (SYMPTOM). Severely Impaired Vision (DISEASE) presents with Vision Impairment (SYMPTOM). Some Impairment Of Vision (DISEASE) presents with Vision Impairment (SYMPTOM). Age (RISK_FACTOR) affects Some Impairment Of Vision (DISEASE). Choroidal Neovascularization (DISEASE) affects Vision (SYMPTOM). Surgical Removal Of The Neovascular Lesion (TREATMENT) treats Vision (SYMPTOM). Surgical Removal Of The Neovascular Lesion (TREATMENT) improves Vision (SYMPTOM). Age Related Eye Disorders (RISK_FACTOR) affects Vision (SYMPTOM). Celecoxib (TREATMENT) improves Vision (SYMPTOM). Wet Age Related Macular Degeneration (DISEASE) can cause Significant Reduction In Vision (SYMPTOM). Dry Form (DISEASE) presents with Blurred Central Vision (SYMPTOM).'], 'response': \"\\n\\n**Impact of Age-Related Macular Degeneration (AMD) on Vision**\\n\\nAMD significantly impacts vision through various stages and symptoms:\\n\\n1. **Early AMD**: Characterized by mild vision issues such as difficulty seeing colors and edge details. This stage often does not cause significant impairment.\\n\\n2. **Late AMD**: Leads to severe vision loss, potentially resulting in almost total blindness if untreated. This indicates a clear progression with age.\\n\\n3. **Some Impairment of Vision**: Suggests better-than-late-stage vision but may include partial central and peripheral vision loss, indicating AMD's varied impact.\\n\\n4. **Severely Impaired Vision**: Causes almost complete vision loss, highlighting AMD's severe effects when left untreated.\\n\\n**Risk Factors:**\\n- **Age**: Affects Some Impairment of Vision, with AMD worsening over time.\\n- **Choroidal Neovascularization (CNV)**: A related condition that can distort vision by creating dark patches and reducing brightness in the center. AMD often contributes to CNV, which further impairs vision.\\n\\n**Treatments:**\\n- **Surgical Removal of Neovascular Lesions**: An effective treatment for CNV, improving vision by removing problematic areas.\\n- **Celecoxib**: A nonsteroidal anti-inflammatory drug that reduces inflammation, aiding visual recovery without surgery.\\n\\n**Other Considerations:**\\n- **Age-related Eye Disorders (ARED)**: Including AMD and other conditions affecting vision symptoms like floaters or night vision difficulty.\\n- **Dry vs. Wet AMD**: Dry causes blurred central vision due to macula inflammation; wet leads to significant retinal damage, causing more severe vision loss.\\n\\nIn summary, AMD affects vision through a spectrum of issues from mild color problems to severe total blindness, influenced by age and conditions like CNV. Treatment options vary based on the specific form of AMD encountered.\", 'reference': 'AMD affects central vision, causing blurriness, blind spots, or distortion, making tasks like reading or recognizing faces difficult, while peripheral vision typically remains intact.'}, {'user_input': 'What are the two main types of AMD?', 'retrieved_contexts': ['Exudative Amd (DISEASE) presents with Serous Or Hemorrhagic Detachment Of Retinal Pigment Epithelium (COMPLICATION). Exudative Amd (DISEASE) presents with Choroidal Neovascularization (DISEASE). Late Stage (DISEASE) affects Exudative Amd (DISEASE). Bevacizumab (TREATMENT) presents with Exudative Amd (DISEASE). Ranibizumab (TREATMENT) presents with Exudative Amd (DISEASE). Vitreomacular Adhesion (BIOMARKER) affects Exudative Amd (DISEASE). Posterior Vma (BIOMARKER) affects Exudative Amd (DISEASE). Rheopheresis (TREATMENT) treats Non Exudative Amd (DISEASE). Neovascular Amd (DISEASE) presents with Sub Retinal Neovascular Membranes (DISEASE). Neovascular Amd (DISEASE) presents with Edema (SYMPTOM). Neovascular Amd (DISEASE) presents with Scarring (SYMPTOM). Neovascular Amd (DISEASE) presents with Significant Visual Loss (SYMPTOM). Neovascular Amd (DISEASE) affects Blindness (SYMPTOM). Age Related Macular Degeneration (DISEASE) presents with Neovascular Amd (DISEASE). Triamcinolone Acetonide (TREATMENT) treats Neovascular Amd (DISEASE). Verteporfin (TREATMENT) treats Neovascular Amd (DISEASE). Lucentis (TREATMENT) can cause Neovascular Amd (DISEASE). Lucentis (TREATMENT) treats Neovascular Amd (DISEASE). Genetic Tests (TEST) diagnoses Late Amd (DISEASE). Dry Amd (DISEASE) can cause Legal Blindness (SYMPTOM). Dry Amd (DISEASE) presents with Drusen (BIOMARKER). Dry Amd (DISEASE) presents with Pigment Clumping (BIOMARKER). Dry Amd (DISEASE) presents with Retinal Pigment Epithelium Dropout (BIOMARKER). Dry Amd (DISEASE) presents with Geographic Atrophy (DISEASE). Copaxone (TREATMENT) treats Dry Amd (DISEASE). Copaxone (TREATMENT) prevents Dry Amd (DISEASE). Antioxidant Therapy (TREATMENT) treats Dry Amd (DISEASE). Ot 551 (TREATMENT) treats Dry Amd (DISEASE). Saffron Supplements (TREATMENT) treats Dry Amd (DISEASE).'], 'response': '\\n\\nThe two main types of age-related macular degeneration (AMD) are:\\n\\n1. **Exudative AMD**: Characterized by the presence of exudates, which can be serous or hemorrhagic, leading to detachment of the retinal pigment epithelium. This type is often associated with late-stage disease and treated with anti-VEGF agents like bevacizumab and ranibizumab.\\n\\n2. **Neovascular AMD**: This type involves the development of新生血管 (new blood vessels) beneath the retina, leading to sub-retinal membranes, edema, scarring, significant visual loss, and blindness. It is treated with anti-VEGF agents like Triamcinolone Acetonide, Verteporfin, Lucentis, among others.\\n\\nThese two types represent distinct pathways of AMD progression and treatment approaches based on the data provided.', 'reference': 'The two main types are dry AMD, characterized by gradual thinning of the macula and drusen deposits, and wet AMD, involving abnormal blood vessel growth under the retina.'}, {'user_input': 'What causes dry AMD?', 'retrieved_contexts': ['Dry Amd (DISEASE) can cause Legal Blindness (SYMPTOM). Dry Amd (DISEASE) presents with Drusen (BIOMARKER). Dry Amd (DISEASE) presents with Pigment Clumping (BIOMARKER). Dry Amd (DISEASE) presents with Retinal Pigment Epithelium Dropout (BIOMARKER). Dry Amd (DISEASE) presents with Geographic Atrophy (DISEASE). Copaxone (TREATMENT) treats Dry Amd (DISEASE). Copaxone (TREATMENT) prevents Dry Amd (DISEASE). Antioxidant Therapy (TREATMENT) treats Dry Amd (DISEASE). Ot 551 (TREATMENT) treats Dry Amd (DISEASE). Saffron Supplements (TREATMENT) treats Dry Amd (DISEASE). Eye Tests (TEST) diagnoses Dry Armd (DISEASE). Early Dry (DISEASE) presents with Cannot See Well At Night (SYMPTOM). Procedure That Measures How The Eye Adjusts To The Dark (TEST) diagnoses Early To Middle Dry (DISEASE). Dry Form (DISEASE) affects Gradual Visual Loss (PROGRESSION). Dry Form (DISEASE) presents with Blurred Central Vision (SYMPTOM).'], 'response': \"\\n\\nThe causes of dry age-related macular degeneration (AMD) are not explicitly detailed in the provided data. However, based on general knowledge, several potential factors may contribute:\\n\\n1. **Genetic Factors**: A family history of AMD significantly increases the risk, making genetics a known contributing factor.\\n\\n2. **Early Changes**: The presence of drusen deposits and pigment clumping observed as biomarkers may indicate early stages of AMD progression, suggesting they might be precursors to disease development.\\n\\n3. **Environmental Influences**: Although not directly mentioned in the data, factors such as smoking, exposure to environmental pollutants, or genetic predispositions could play a role in AMD development.\\n\\n4. **Geographic Atrophy**: This initial sign of AMD might serve as an indicator of underlying genetic or early environmental factors contributing to disease progression.\\n\\nIn summary, while specific causes for dry AMD aren't detailed here, known risk factors include genetics, early visual changes, and potential environmental influences. Further research into the interplay of these factors could provide more clarity.\", 'reference': 'Dry AMD is caused by the aging and thinning of the macula, often with the buildup of drusen, yellowish deposits under the retina, linked to genetic and environmental factors.'}, {'user_input': 'What causes wet AMD?', 'retrieved_contexts': ['Dry Amd (DISEASE) can cause Legal Blindness (SYMPTOM). Dry Amd (DISEASE) presents with Drusen (BIOMARKER). Dry Amd (DISEASE) presents with Pigment Clumping (BIOMARKER). Dry Amd (DISEASE) presents with Retinal Pigment Epithelium Dropout (BIOMARKER). Dry Amd (DISEASE) presents with Geographic Atrophy (DISEASE). Copaxone (TREATMENT) treats Dry Amd (DISEASE). Copaxone (TREATMENT) prevents Dry Amd (DISEASE). Antioxidant Therapy (TREATMENT) treats Dry Amd (DISEASE). Ot 551 (TREATMENT) treats Dry Amd (DISEASE). Saffron Supplements (TREATMENT) treats Dry Amd (DISEASE). Wet Form Of Armd (DISEASE) can cause Irreversible Loss Of Vision (SYMPTOM). Wet Form Of Armd (DISEASE) presents with Retina (BODY_PART). Wet Form Of Armd (DISEASE) presents with Macula (BODY_PART). Wet Form Of Armd (DISEASE) affects Blindness (SYMPTOM). Wet Form (DISEASE) affects Profound Central Visual Loss (SYMPTOM). Anti Vascular Endothelial Growth Factors (TREATMENT) treats Wet Form Of (DISEASE). Photodynamic Therapy (TREATMENT) treats Wet Form Of (DISEASE). Laser Surgery (TREATMENT) treats Wet Form Of (DISEASE). Age Related Macular Degeneration (DISEASE) presents with Advanced Amd (SYMPTOM).'], 'response': '\\n\\nWet AMD, as described in the context, primarily involves changes such as thickened drusen deposits around the macula and retinal involvement. However, based solely on the provided data, specific causes are not explicitly outlined. Generally, wet AMD is associated with these pathophysiological changes rather than detailed biological mechanisms.\\n\\nTo summarize:\\n\\n- **Description of Wet AMD**: Involves drusen deposits, retinal involvement, and visual symptoms like loss of vision.\\n- **Biological Connection**: Linked to processes such as increased drusen thickness, which may contribute to visual decline.\\n- **Recommendation for Further Information**: Suggest consulting an expert or referring to existing studies for detailed causes.\\n\\nThis response synthesizes the provided data while acknowledging the limitations in specific cause details.', 'reference': 'Wet AMD is caused by the growth of abnormal blood vessels under the retina that leak fluid or blood, damaging the macula and leading to rapid vision loss.'}]\n"
     ]
    }
   ],
   "source": [
    "print(dataset)"
   ]
  },
  {
   "cell_type": "code",
   "execution_count": 11,
   "id": "ec861bf0-afe5-4176-bbcf-a53694670d2e",
   "metadata": {},
   "outputs": [
    {
     "name": "stderr",
     "output_type": "stream",
     "text": [
      "INFO:sentence_transformers.SentenceTransformer:Use pytorch device_name: mps\n",
      "INFO:sentence_transformers.SentenceTransformer:Load pretrained SentenceTransformer: all-MiniLM-L6-v2\n"
     ]
    }
   ],
   "source": [
    "from sentence_transformers import SentenceTransformer, util\n",
    "model = SentenceTransformer('all-MiniLM-L6-v2')"
   ]
  },
  {
   "cell_type": "code",
   "execution_count": 12,
   "id": "9d29b74b-49da-4fd1-898a-2d486b50b51f",
   "metadata": {},
   "outputs": [],
   "source": [
    "responses = []\n",
    "references = []\n",
    "similarity_scores = []"
   ]
  },
  {
   "cell_type": "code",
   "execution_count": 13,
   "id": "16365450-f087-479e-8b7d-f90b6e30257b",
   "metadata": {},
   "outputs": [
    {
     "name": "stderr",
     "output_type": "stream",
     "text": [
      "Batches: 100%|███████████████████████████████████████████████████████████████████████████████████████████████████████████████████████████████████████████████████████████████████████████████████████████████████████████████████████████████████████████████████████████████████████| 1/1 [00:01<00:00,  1.85s/it]\n"
     ]
    },
    {
     "name": "stdout",
     "output_type": "stream",
     "text": [
      "**Age-Related Macular Degeneration (AMD)** is a leading cause of vision loss affecting millions of people globally. It primarily affects older adults and typically occurs in both eyes symmetrically.### **Symptoms**\n",
      "- **Blindness**: As a major symptom, AMD can lead to total or partial blindness.\n",
      "- **Choroidal Neovascular Membrane Formation (CNVM)**: This is the most common form of AMD-related pathology. It causes ill-defined choroidodermatous neovascularization (CNV), with well-defined CNV being a biomarker for disease progression.### **Progression**\n",
      "- **Early Age-Related Macular Degeneration (EARMD)**:\n",
      "  - Presenters: Soft druses, retinal pigment abnormalities.\n",
      "  - Symptom: Risk of developing visual loss.\n",
      "  - Management: Treatable and reversible with early intervention.- **Late Age-Related Macular Degeneration (LA-RMD) or Neovascular Age-Related Macular Degeneration (NAMD)**:\n",
      "  - Severe symptoms: Blindness, irreversible vision loss.\n",
      "  - Complications: Pigment epithelial detachments as a common complication.### **Biomarkers**\n",
      "- **Ill-Defined Choroidal Neovascularization**: Often associated with early stages and progression.\n",
      "- **Soft Disc Edema**: Seen in EARMD.### **Treatment Options**\n",
      "- **Early Stages (EARMD)**:\n",
      "  - Treatable with various laser therapies, including 2rt laser, Sham Treatment.\n",
      "  - Bevacizumab, Anti-Vegf Antibodies, Ranibizumab are used for advanced stages.- **Late Stages (LA-RMD/NAMD)**:\n",
      "  - Treatments include Lucentis combined with thermotherapy and specific eye drops like Pazopanib.### **Risk Factors**\n",
      "- Age is the primary risk factor.\n",
      "- Conditions like diabetes or uncontrolled hypertension can increase AMD progression.### **Complications**\n",
      "- Beyond vision loss, NAMD can cause visual impairment, social blindness, severe visual loss, and pigmented epithelial detachments.In summary, AMD affects both eyes symmetrically, leading to vision loss. Management involves early intervention for treatable cases, while advanced stages require specific treatments targeting CNVM progression. AMD is an eye disease that blurs central vision due to damage to the macula, the part of the retina responsible for sharp, detailed vision, primarily affecting older adults.\n"
     ]
    },
    {
     "name": "stderr",
     "output_type": "stream",
     "text": [
      "Batches: 100%|██████████████████████████████████████████████████████████████████████████████████████████████████████████████████████████████████████████████████████████████████████████████████████████████████████████████████████████████████████████████████████████████████████| 1/1 [00:00<00:00, 121.24it/s]\n"
     ]
    },
    {
     "name": "stdout",
     "output_type": "stream",
     "text": [
      "**Impact of Age-Related Macular Degeneration (AMD) on Vision**AMD significantly impacts vision through various stages and symptoms:1. **Early AMD**: Characterized by mild vision issues such as difficulty seeing colors and edge details. This stage often does not cause significant impairment.2. **Late AMD**: Leads to severe vision loss, potentially resulting in almost total blindness if untreated. This indicates a clear progression with age.3. **Some Impairment of Vision**: Suggests better-than-late-stage vision but may include partial central and peripheral vision loss, indicating AMD's varied impact.4. **Severely Impaired Vision**: Causes almost complete vision loss, highlighting AMD's severe effects when left untreated.**Risk Factors:**\n",
      "- **Age**: Affects Some Impairment of Vision, with AMD worsening over time.\n",
      "- **Choroidal Neovascularization (CNV)**: A related condition that can distort vision by creating dark patches and reducing brightness in the center. AMD often contributes to CNV, which further impairs vision.**Treatments:**\n",
      "- **Surgical Removal of Neovascular Lesions**: An effective treatment for CNV, improving vision by removing problematic areas.\n",
      "- **Celecoxib**: A nonsteroidal anti-inflammatory drug that reduces inflammation, aiding visual recovery without surgery.**Other Considerations:**\n",
      "- **Age-related Eye Disorders (ARED)**: Including AMD and other conditions affecting vision symptoms like floaters or night vision difficulty.\n",
      "- **Dry vs. Wet AMD**: Dry causes blurred central vision due to macula inflammation; wet leads to significant retinal damage, causing more severe vision loss.In summary, AMD affects vision through a spectrum of issues from mild color problems to severe total blindness, influenced by age and conditions like CNV. Treatment options vary based on the specific form of AMD encountered. AMD affects central vision, causing blurriness, blind spots, or distortion, making tasks like reading or recognizing faces difficult, while peripheral vision typically remains intact.\n"
     ]
    },
    {
     "name": "stderr",
     "output_type": "stream",
     "text": [
      "Batches: 100%|███████████████████████████████████████████████████████████████████████████████████████████████████████████████████████████████████████████████████████████████████████████████████████████████████████████████████████████████████████████████████████████████████████| 1/1 [00:00<00:00,  4.07it/s]\n"
     ]
    },
    {
     "name": "stdout",
     "output_type": "stream",
     "text": [
      "The two main types of age-related macular degeneration (AMD) are:1. **Exudative AMD**: Characterized by the presence of exudates, which can be serous or hemorrhagic, leading to detachment of the retinal pigment epithelium. This type is often associated with late-stage disease and treated with anti-VEGF agents like bevacizumab and ranibizumab.2. **Neovascular AMD**: This type involves the development of新生血管 (new blood vessels) beneath the retina, leading to sub-retinal membranes, edema, scarring, significant visual loss, and blindness. It is treated with anti-VEGF agents like Triamcinolone Acetonide, Verteporfin, Lucentis, among others.These two types represent distinct pathways of AMD progression and treatment approaches based on the data provided. The two main types are dry AMD, characterized by gradual thinning of the macula and drusen deposits, and wet AMD, involving abnormal blood vessel growth under the retina.\n"
     ]
    },
    {
     "name": "stderr",
     "output_type": "stream",
     "text": [
      "Batches: 100%|███████████████████████████████████████████████████████████████████████████████████████████████████████████████████████████████████████████████████████████████████████████████████████████████████████████████████████████████████████████████████████████████████████| 1/1 [00:00<00:00,  5.50it/s]\n"
     ]
    },
    {
     "name": "stdout",
     "output_type": "stream",
     "text": [
      "The causes of dry age-related macular degeneration (AMD) are not explicitly detailed in the provided data. However, based on general knowledge, several potential factors may contribute:1. **Genetic Factors**: A family history of AMD significantly increases the risk, making genetics a known contributing factor.2. **Early Changes**: The presence of drusen deposits and pigment clumping observed as biomarkers may indicate early stages of AMD progression, suggesting they might be precursors to disease development.3. **Environmental Influences**: Although not directly mentioned in the data, factors such as smoking, exposure to environmental pollutants, or genetic predispositions could play a role in AMD development.4. **Geographic Atrophy**: This initial sign of AMD might serve as an indicator of underlying genetic or early environmental factors contributing to disease progression.In summary, while specific causes for dry AMD aren't detailed here, known risk factors include genetics, early visual changes, and potential environmental influences. Further research into the interplay of these factors could provide more clarity. Dry AMD is caused by the aging and thinning of the macula, often with the buildup of drusen, yellowish deposits under the retina, linked to genetic and environmental factors.\n"
     ]
    },
    {
     "name": "stderr",
     "output_type": "stream",
     "text": [
      "Batches: 100%|███████████████████████████████████████████████████████████████████████████████████████████████████████████████████████████████████████████████████████████████████████████████████████████████████████████████████████████████████████████████████████████████████████| 1/1 [00:00<00:00, 28.12it/s]"
     ]
    },
    {
     "name": "stdout",
     "output_type": "stream",
     "text": [
      "Wet AMD, as described in the context, primarily involves changes such as thickened drusen deposits around the macula and retinal involvement. However, based solely on the provided data, specific causes are not explicitly outlined. Generally, wet AMD is associated with these pathophysiological changes rather than detailed biological mechanisms.To summarize:- **Description of Wet AMD**: Involves drusen deposits, retinal involvement, and visual symptoms like loss of vision.\n",
      "- **Biological Connection**: Linked to processes such as increased drusen thickness, which may contribute to visual decline.\n",
      "- **Recommendation for Further Information**: Suggest consulting an expert or referring to existing studies for detailed causes.This response synthesizes the provided data while acknowledging the limitations in specific cause details. Wet AMD is caused by the growth of abnormal blood vessels under the retina that leak fluid or blood, damaging the macula and leading to rapid vision loss.\n"
     ]
    },
    {
     "name": "stderr",
     "output_type": "stream",
     "text": [
      "\n"
     ]
    }
   ],
   "source": [
    "for entry in dataset:\n",
    "\n",
    "    embeddings = model.encode([entry[\"reference\"], entry[\"response\"]], convert_to_tensor=True)\n",
    "    similarity = util.cos_sim(embeddings[0], embeddings[1]).item()\n",
    "    similarity_scores.append(similarity)\n",
    "    \n",
    "    responses.append(entry[\"response\"])\n",
    "    references.append(entry[\"reference\"])\n",
    "    print(entry[\"response\"].replace(\"\\n\\n\", \"\") + \" \" + str(entry[\"reference\"]))"
   ]
  },
  {
   "cell_type": "code",
   "execution_count": 15,
   "id": "f128872b-6643-40da-be8a-298b12e7feb8",
   "metadata": {},
   "outputs": [],
   "source": [
    "average_similarity = sum(similarity_scores) / len(similarity_scores)"
   ]
  },
  {
   "cell_type": "code",
   "execution_count": 16,
   "id": "e57d3fec-aadd-497c-8b18-1690f9e57f86",
   "metadata": {},
   "outputs": [
    {
     "name": "stdout",
     "output_type": "stream",
     "text": [
      "\n",
      "Evaluation Summary:\n",
      "Average Similarity Score: 0.705 (Range: 0 to 1)\n",
      "Total Questions Evaluated: 5\n"
     ]
    }
   ],
   "source": [
    "print(\"\\nEvaluation Summary:\")\n",
    "print(f\"Average Similarity Score: {average_similarity:.3f} (Range: 0 to 1)\")\n",
    "print(f\"Total Questions Evaluated: {len(dataset)}\")"
   ]
  },
  {
   "cell_type": "code",
   "execution_count": 19,
   "id": "67a64399-6250-488a-bbf7-eba0a14b2569",
   "metadata": {},
   "outputs": [
    {
     "name": "stdout",
     "output_type": "stream",
     "text": [
      "\n",
      "Responses for Manual Review (Similarity < 0.7):\n",
      "Question 1: What is age-related macular degeneration (AMD)?\n",
      "Ground Truth: AMD is an eye disease that blurs central vision due to damage to the macula, the part of the retina responsible for sharp, detailed vision, primarily affecting older adults.\n",
      "RAG Predicted: \n",
      "\n",
      "**Age-Related Macular Degeneration (AMD)** is a leading cause of vision loss affecting millions of people globally. It primarily affects older adults and typically occurs in both eyes symmetrically.\n",
      "\n",
      "### **Symptoms**\n",
      "- **Blindness**: As a major symptom, AMD can lead to total or partial blindness.\n",
      "- **Choroidal Neovascular Membrane Formation (CNVM)**: This is the most common form of AMD-related pathology. It causes ill-defined choroidodermatous neovascularization (CNV), with well-defined CNV being a biomarker for disease progression.\n",
      "\n",
      "### **Progression**\n",
      "- **Early Age-Related Macular Degeneration (EARMD)**:\n",
      "  - Presenters: Soft druses, retinal pigment abnormalities.\n",
      "  - Symptom: Risk of developing visual loss.\n",
      "  - Management: Treatable and reversible with early intervention.\n",
      "\n",
      "- **Late Age-Related Macular Degeneration (LA-RMD) or Neovascular Age-Related Macular Degeneration (NAMD)**:\n",
      "  - Severe symptoms: Blindness, irreversible vision loss.\n",
      "  - Complications: Pigment epithelial detachments as a common complication.\n",
      "\n",
      "### **Biomarkers**\n",
      "- **Ill-Defined Choroidal Neovascularization**: Often associated with early stages and progression.\n",
      "- **Soft Disc Edema**: Seen in EARMD.\n",
      "\n",
      "### **Treatment Options**\n",
      "- **Early Stages (EARMD)**:\n",
      "  - Treatable with various laser therapies, including 2rt laser, Sham Treatment.\n",
      "  - Bevacizumab, Anti-Vegf Antibodies, Ranibizumab are used for advanced stages.\n",
      "\n",
      "- **Late Stages (LA-RMD/NAMD)**:\n",
      "  - Treatments include Lucentis combined with thermotherapy and specific eye drops like Pazopanib.\n",
      "\n",
      "### **Risk Factors**\n",
      "- Age is the primary risk factor.\n",
      "- Conditions like diabetes or uncontrolled hypertension can increase AMD progression.\n",
      "\n",
      "### **Complications**\n",
      "- Beyond vision loss, NAMD can cause visual impairment, social blindness, severe visual loss, and pigmented epithelial detachments.\n",
      "\n",
      "In summary, AMD affects both eyes symmetrically, leading to vision loss. Management involves early intervention for treatable cases, while advanced stages require specific treatments targeting CNVM progression.\n",
      "Similarity Score: 0.653\n",
      "--------------------------------------------------\n",
      "Question 2: How does AMD affect vision?\n",
      "Ground Truth: AMD affects central vision, causing blurriness, blind spots, or distortion, making tasks like reading or recognizing faces difficult, while peripheral vision typically remains intact.\n",
      "RAG Predicted: \n",
      "\n",
      "**Impact of Age-Related Macular Degeneration (AMD) on Vision**\n",
      "\n",
      "AMD significantly impacts vision through various stages and symptoms:\n",
      "\n",
      "1. **Early AMD**: Characterized by mild vision issues such as difficulty seeing colors and edge details. This stage often does not cause significant impairment.\n",
      "\n",
      "2. **Late AMD**: Leads to severe vision loss, potentially resulting in almost total blindness if untreated. This indicates a clear progression with age.\n",
      "\n",
      "3. **Some Impairment of Vision**: Suggests better-than-late-stage vision but may include partial central and peripheral vision loss, indicating AMD's varied impact.\n",
      "\n",
      "4. **Severely Impaired Vision**: Causes almost complete vision loss, highlighting AMD's severe effects when left untreated.\n",
      "\n",
      "**Risk Factors:**\n",
      "- **Age**: Affects Some Impairment of Vision, with AMD worsening over time.\n",
      "- **Choroidal Neovascularization (CNV)**: A related condition that can distort vision by creating dark patches and reducing brightness in the center. AMD often contributes to CNV, which further impairs vision.\n",
      "\n",
      "**Treatments:**\n",
      "- **Surgical Removal of Neovascular Lesions**: An effective treatment for CNV, improving vision by removing problematic areas.\n",
      "- **Celecoxib**: A nonsteroidal anti-inflammatory drug that reduces inflammation, aiding visual recovery without surgery.\n",
      "\n",
      "**Other Considerations:**\n",
      "- **Age-related Eye Disorders (ARED)**: Including AMD and other conditions affecting vision symptoms like floaters or night vision difficulty.\n",
      "- **Dry vs. Wet AMD**: Dry causes blurred central vision due to macula inflammation; wet leads to significant retinal damage, causing more severe vision loss.\n",
      "\n",
      "In summary, AMD affects vision through a spectrum of issues from mild color problems to severe total blindness, influenced by age and conditions like CNV. Treatment options vary based on the specific form of AMD encountered.\n",
      "Similarity Score: 0.678\n",
      "--------------------------------------------------\n",
      "Question 3: What are the two main types of AMD?\n",
      "Ground Truth: The two main types are dry AMD, characterized by gradual thinning of the macula and drusen deposits, and wet AMD, involving abnormal blood vessel growth under the retina.\n",
      "RAG Predicted: \n",
      "\n",
      "The two main types of age-related macular degeneration (AMD) are:\n",
      "\n",
      "1. **Exudative AMD**: Characterized by the presence of exudates, which can be serous or hemorrhagic, leading to detachment of the retinal pigment epithelium. This type is often associated with late-stage disease and treated with anti-VEGF agents like bevacizumab and ranibizumab.\n",
      "\n",
      "2. **Neovascular AMD**: This type involves the development of新生血管 (new blood vessels) beneath the retina, leading to sub-retinal membranes, edema, scarring, significant visual loss, and blindness. It is treated with anti-VEGF agents like Triamcinolone Acetonide, Verteporfin, Lucentis, among others.\n",
      "\n",
      "These two types represent distinct pathways of AMD progression and treatment approaches based on the data provided.\n",
      "Similarity Score: 0.600\n",
      "--------------------------------------------------\n"
     ]
    }
   ],
   "source": [
    "# Log incorrect answers for analysis\n",
    "print(\"\\nResponses for Manual Review (Similarity < 0.7):\")\n",
    "for i, (reference, response, item, score) in enumerate(zip(references, responses, dataset, similarity_scores)):\n",
    "    if score < 0.7:\n",
    "        print(f\"Question {i+1}: {item['user_input']}\")\n",
    "        print(f\"Ground Truth: {reference}\")\n",
    "        print(f\"RAG Predicted: {response}\")\n",
    "        print(f\"Similarity Score: {score:.3f}\")\n",
    "        print(\"-\" * 50)"
   ]
  }
 ],
 "metadata": {
  "kernelspec": {
   "display_name": "Python 3 (ipykernel)",
   "language": "python",
   "name": "python3"
  },
  "language_info": {
   "codemirror_mode": {
    "name": "ipython",
    "version": 3
   },
   "file_extension": ".py",
   "mimetype": "text/x-python",
   "name": "python",
   "nbconvert_exporter": "python",
   "pygments_lexer": "ipython3",
   "version": "3.10.16"
  }
 },
 "nbformat": 4,
 "nbformat_minor": 5
}
