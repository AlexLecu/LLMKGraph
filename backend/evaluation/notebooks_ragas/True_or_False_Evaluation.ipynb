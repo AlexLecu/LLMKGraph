{
 "cells": [
  {
   "cell_type": "markdown",
   "id": "2f4b4210-b3ad-4d83-aa28-9deba637b672",
   "metadata": {},
   "source": [
    "# True or False Questions - Evaluation"
   ]
  },
  {
   "cell_type": "code",
   "execution_count": 41,
   "id": "db8c5751-9b50-47a9-a366-e5d31b08ae7c",
   "metadata": {},
   "outputs": [],
   "source": [
    "import os\n",
    "import sys\n",
    "\n",
    "# Use the current working directory as the base\n",
    "sys.path.append(os.path.abspath(os.path.join(os.getcwd(), '..')))\n",
    "\n",
    "import json\n",
    "import pandas as pd\n",
    "from weaviate_rag.rag_system import KGRAGSystem\n",
    "import ollama\n",
    "from ragas import evaluate\n",
    "from ragas.metrics import Faithfulness, AnswerRelevancy, ContextRecall\n",
    "import re\n",
    "from ragas import EvaluationDataset"
   ]
  },
  {
   "cell_type": "code",
   "execution_count": 10,
   "id": "dfff8007-75ee-4a48-8884-3839b5f670ef",
   "metadata": {},
   "outputs": [],
   "source": [
    "# Load your JSON data\n",
    "with open('/Users/alexlecu/PycharmProjects/LLMKGraph/backend/evaluation/data/grok_evaluation_dataset_mini/True_or_False_questions_mini.json', 'r') as f:\n",
    "    data = json.load(f)\n",
    "\n",
    "# Convert to DataFrame for RAGAS\n",
    "df = pd.DataFrame(data)\n",
    "df = df[['question', 'answer']]\n",
    "\n",
    "# Later, add retrieved contexts and generated answers after querying your RAG\n",
    "df['contexts'] = None  # Will be filled with retrieved passages\n",
    "df['generated_answer'] = None  # Will be filled with RAG responses"
   ]
  },
  {
   "cell_type": "code",
   "execution_count": 22,
   "id": "ad7ac7c4-0024-45f4-b22d-61e6d1ade8e5",
   "metadata": {},
   "outputs": [],
   "source": [
    "def retrieve(user_input):\n",
    "    rag_system = KGRAGSystem()\n",
    "    kg_result = rag_system.query(user_input)\n",
    "\n",
    "    return [kg_result[\"context\"]]"
   ]
  },
  {
   "cell_type": "code",
   "execution_count": 28,
   "id": "6036aa09-b2d9-4040-919e-1835e15183dd",
   "metadata": {},
   "outputs": [],
   "source": [
    "def generate_answer(question, context, model):\n",
    "    system_prompt = f\"\"\"\n",
    "    You are a trusted medical research assistant specializing in age-related macular degeneration (AMD). Your task is to provide thorough, accurate, and detailed answers about AMD research based on the following additional relevant data:\n",
    "    \n",
    "    {context}\n",
    "    \n",
    "    Please adhere to these guidelines when formulating your response:\n",
    "    \n",
    "    1. Express Uncertainty Transparently:\n",
    "    If the available information is insufficient to answer confidently, acknowledge this and specify what additional data or details would be needed to provide a more complete response.\n",
    "    2. Maintain Accuracy and Integrity:\n",
    "    Base your answer solely on verified data and the provided context. Do not fabricate any information or references.\n",
    "    3. Communicate Professionally:\n",
    "    Present your response in a clear, well-organized, and professional manner, ensuring complex information is accessible and easy to understand.\n",
    "    \n",
    "    Important: Respond only with \"True\" or \"False.\" Do not include additional information beyond this.\n",
    "    \"\"\"\n",
    "    \n",
    "    response = ollama.chat(\n",
    "        model=model,\n",
    "        messages=[\n",
    "            {\"role\": \"system\", \"content\": system_prompt},\n",
    "            {\"role\": \"user\", \"content\": question}\n",
    "        ],\n",
    "        stream=False\n",
    "    )\n",
    "    return response['message']['content']"
   ]
  },
  {
   "cell_type": "code",
   "execution_count": 38,
   "id": "e149a145-01df-4383-9b44-28ac455f902d",
   "metadata": {},
   "outputs": [],
   "source": [
    "def remove_think_tags(response):\n",
    "    cleaned_content = re.sub(r'<think>.*?</think>', '', response, flags=re.DOTALL)\n",
    "\n",
    "    return cleaned_content"
   ]
  },
  {
   "cell_type": "code",
   "execution_count": 39,
   "id": "cfae3a9f-5fe5-4d82-94b2-949e1b5e4cc4",
   "metadata": {},
   "outputs": [
    {
     "name": "stderr",
     "output_type": "stream",
     "text": [
      "INFO:httpx:HTTP Request: GET http://localhost:8080/v1/.well-known/openid-configuration \"HTTP/1.1 404 Not Found\"\n",
      "INFO:httpx:HTTP Request: GET http://localhost:8080/v1/meta \"HTTP/1.1 200 OK\"\n",
      "INFO:httpx:HTTP Request: GET https://pypi.org/pypi/weaviate-client/json \"HTTP/1.1 200 OK\"\n",
      "INFO:httpx:HTTP Request: GET http://localhost:8080/v1/schema \"HTTP/1.1 200 OK\"\n",
      "INFO:httpx:HTTP Request: GET http://localhost:8080/v1/.well-known/openid-configuration \"HTTP/1.1 404 Not Found\"\n",
      "INFO:httpx:HTTP Request: GET http://localhost:8080/v1/meta \"HTTP/1.1 200 OK\"\n",
      "INFO:httpx:HTTP Request: GET https://pypi.org/pypi/weaviate-client/json \"HTTP/1.1 200 OK\"\n",
      "INFO:KGRAG:Starting hybrid search for: Age-related macular degeneration (AMD) affects the cornea of the eye.\n",
      "INFO:httpx:HTTP Request: POST http://127.0.0.1:11434/api/chat \"HTTP/1.1 200 OK\"\n",
      "INFO:httpx:HTTP Request: GET http://localhost:8080/v1/.well-known/openid-configuration \"HTTP/1.1 404 Not Found\"\n",
      "INFO:httpx:HTTP Request: GET http://localhost:8080/v1/meta \"HTTP/1.1 200 OK\"\n",
      "INFO:httpx:HTTP Request: GET https://pypi.org/pypi/weaviate-client/json \"HTTP/1.1 200 OK\"\n",
      "INFO:httpx:HTTP Request: GET http://localhost:8080/v1/schema \"HTTP/1.1 200 OK\"\n",
      "INFO:httpx:HTTP Request: GET http://localhost:8080/v1/.well-known/openid-configuration \"HTTP/1.1 404 Not Found\"\n",
      "INFO:httpx:HTTP Request: GET http://localhost:8080/v1/meta \"HTTP/1.1 200 OK\"\n",
      "INFO:httpx:HTTP Request: GET https://pypi.org/pypi/weaviate-client/json \"HTTP/1.1 200 OK\"\n",
      "INFO:KGRAG:Starting hybrid search for: AMD is a leading cause of vision loss in people over 50.\n",
      "INFO:httpx:HTTP Request: POST http://127.0.0.1:11434/api/chat \"HTTP/1.1 200 OK\"\n",
      "INFO:httpx:HTTP Request: GET http://localhost:8080/v1/.well-known/openid-configuration \"HTTP/1.1 404 Not Found\"\n",
      "INFO:httpx:HTTP Request: GET http://localhost:8080/v1/meta \"HTTP/1.1 200 OK\"\n",
      "INFO:httpx:HTTP Request: GET https://pypi.org/pypi/weaviate-client/json \"HTTP/1.1 200 OK\"\n",
      "INFO:httpx:HTTP Request: GET http://localhost:8080/v1/schema \"HTTP/1.1 200 OK\"\n",
      "INFO:httpx:HTTP Request: GET http://localhost:8080/v1/.well-known/openid-configuration \"HTTP/1.1 404 Not Found\"\n",
      "INFO:httpx:HTTP Request: GET http://localhost:8080/v1/meta \"HTTP/1.1 200 OK\"\n",
      "INFO:httpx:HTTP Request: GET https://pypi.org/pypi/weaviate-client/json \"HTTP/1.1 200 OK\"\n",
      "INFO:KGRAG:Starting hybrid search for: Dry AMD is more common than wet AMD.\n",
      "INFO:httpx:HTTP Request: POST http://127.0.0.1:11434/api/chat \"HTTP/1.1 200 OK\"\n",
      "INFO:httpx:HTTP Request: GET http://localhost:8080/v1/.well-known/openid-configuration \"HTTP/1.1 404 Not Found\"\n",
      "INFO:httpx:HTTP Request: GET http://localhost:8080/v1/meta \"HTTP/1.1 200 OK\"\n",
      "INFO:httpx:HTTP Request: GET https://pypi.org/pypi/weaviate-client/json \"HTTP/1.1 200 OK\"\n",
      "INFO:httpx:HTTP Request: GET http://localhost:8080/v1/schema \"HTTP/1.1 200 OK\"\n",
      "INFO:httpx:HTTP Request: GET http://localhost:8080/v1/.well-known/openid-configuration \"HTTP/1.1 404 Not Found\"\n",
      "INFO:httpx:HTTP Request: GET http://localhost:8080/v1/meta \"HTTP/1.1 200 OK\"\n",
      "INFO:httpx:HTTP Request: GET https://pypi.org/pypi/weaviate-client/json \"HTTP/1.1 200 OK\"\n",
      "INFO:KGRAG:Starting hybrid search for: Wet AMD progresses more slowly than dry AMD.\n",
      "INFO:httpx:HTTP Request: POST http://127.0.0.1:11434/api/chat \"HTTP/1.1 200 OK\"\n",
      "INFO:httpx:HTTP Request: GET http://localhost:8080/v1/.well-known/openid-configuration \"HTTP/1.1 404 Not Found\"\n",
      "INFO:httpx:HTTP Request: GET http://localhost:8080/v1/meta \"HTTP/1.1 200 OK\"\n",
      "INFO:httpx:HTTP Request: GET https://pypi.org/pypi/weaviate-client/json \"HTTP/1.1 200 OK\"\n",
      "INFO:httpx:HTTP Request: GET http://localhost:8080/v1/schema \"HTTP/1.1 200 OK\"\n",
      "INFO:httpx:HTTP Request: GET http://localhost:8080/v1/.well-known/openid-configuration \"HTTP/1.1 404 Not Found\"\n",
      "INFO:httpx:HTTP Request: GET http://localhost:8080/v1/meta \"HTTP/1.1 200 OK\"\n",
      "INFO:httpx:HTTP Request: GET https://pypi.org/pypi/weaviate-client/json \"HTTP/1.1 200 OK\"\n",
      "INFO:KGRAG:Starting hybrid search for: Smoking increases the risk of developing AMD.\n",
      "INFO:httpx:HTTP Request: POST http://127.0.0.1:11434/api/chat \"HTTP/1.1 200 OK\"\n"
     ]
    }
   ],
   "source": [
    "dataset = []\n",
    "\n",
    "for index, row in df.iterrows():\n",
    "    context = retrieve(row[\"question\"])\n",
    "    response = remove_think_tags(generate_answer(row[\"question\"], context, \"deepseek-r1\"))\n",
    "\n",
    "    dataset.append(\n",
    "        {\n",
    "            \"user_input\":row[\"question\"],\n",
    "            \"retrieved_contexts\":context,\n",
    "            \"response\":response,\n",
    "            \"reference\":row[\"answer\"]\n",
    "        }\n",
    "    )"
   ]
  },
  {
   "cell_type": "code",
   "execution_count": 40,
   "id": "5fa3ca12-a9c1-4cab-add4-126d428c5d53",
   "metadata": {},
   "outputs": [
    {
     "name": "stdout",
     "output_type": "stream",
     "text": [
      "[{'user_input': 'Age-related macular degeneration (AMD) affects the cornea of the eye.', 'retrieved_contexts': ['Age Related Macular Degeneration (DISEASE) can cause Blindness (SYMPTOM). Age Related Macular Degeneration (DISEASE) can cause Choroidal Neovascular Membrane Formation (PROGRESSION). Age Related Macular Degeneration (DISEASE) presents with Ill Defined Choroidal Neovascularization (DISEASE). Age Related Macular Degeneration (DISEASE) presents with Well Defined Choroidal Neovascularization (BIOMARKER). Age Related Macular Degeneration (DISEASE) can cause Legal Blindness (SYMPTOM). Manipulate Mechanisms (TREATMENT) treats Age Related Macular Degeneration (DISEASE). Medical History (TREATMENT) diagnoses Age Related Macular Degeneration (DISEASE). Physical Examination (TREATMENT) diagnoses Age Related Macular Degeneration (DISEASE). Eye Examination (TREATMENT) diagnoses Age Related Macular Degeneration (DISEASE). Study (TREATMENT) improves Age Related Macular Degeneration (DISEASE). Neovascular Age Related Macular Degeneration (DISEASE) can cause Visual Impairment (SYMPTOM). Neovascular Age Related Macular Degeneration (DISEASE) can cause Social Blindness (SYMPTOM). Neovascular Age Related Macular Degeneration (DISEASE) presents with Severe Visual Loss (SYMPTOM). Neovascular Age Related Macular Degeneration (DISEASE) presents with Choroidal Neovascularization (DISEASE). Neovascular Age Related Macular Degeneration (DISEASE) presents with Pigment Epithelial Detachments (COMPLICATION). Bevacizumab (TREATMENT) treats Neovascular Age Related Macular Degeneration (DISEASE). Anti Vegf Antibody Treatment (TREATMENT) treats Neovascular Age Related Macular Degeneration (DISEASE). Ranibizumab (TREATMENT) treats Neovascular Age Related Macular Degeneration (DISEASE). Intravitreal Ranibizumab Lucentis Combined With Transpupillary Thermotherapy Ttt (TREATMENT) treats Neovascular Age Related Macular Degeneration (DISEASE). Pazopanib Eye Drops (TREATMENT) treats Neovascular Age Related Macular Degeneration (DISEASE). Early Age Related Macular Degeneration (DISEASE) presents with Soft Drusen (BIOMARKER). Early Age Related Macular Degeneration (DISEASE) presents with Retinal Pigment Abnormality (BIOMARKER). Early Age Related Macular Degeneration (DISEASE) presents with Risk Of Developing Visual Loss (RISK_FACTOR). Early Age Related Macular Degeneration (DISEASE) presents with No Signs Of (SYMPTOM). Age Related Macular Degeneration (DISEASE) presents with Early Age Related Macular Degeneration (DISEASE). 2rt Laser (TREATMENT) prevents Early Age Related Macular Degeneration (DISEASE). Laser Treatment (TREATMENT) affects Early Age Related Macular Degeneration (DISEASE). Sham Treatment (TREATMENT) affects Early Age Related Macular Degeneration (DISEASE). 2rt Laser (TREATMENT) treats Early Age Related Macular Degeneration (DISEASE). Late Age Related Macular Degeneration (DISEASE) can cause Blindness (SYMPTOM). Advanced Age Related Macular Degeneration (DISEASE) can cause Irreversible Loss Of Vision (SYMPTOM). Advanced Age Related Macular Degeneration (DISEASE) can cause Lo'], 'response': '\\n\\nFalse', 'reference': False}, {'user_input': 'AMD is a leading cause of vision loss in people over 50.', 'retrieved_contexts': ['Choroidal Neovascularization (DISEASE) can cause Severe Loss Of Vision (SYMPTOM). Wet Age Related Macular Degeneration (DISEASE) can cause Severe Loss Of Vision (SYMPTOM). Corticosteroid Injection (TREATMENT) prevents Severe Vision Loss (SYMPTOM). Wet Age Related Macular Degeneration (DISEASE) can cause Severe Vision Loss (SYMPTOM). Wet Age Related Macular Degeneration (DISEASE) aggravates Severe Vision Loss (SYMPTOM). Age Related Macular Degeneration (DISEASE) presents with Moderate Vision Loss (SYMPTOM). Ill Defined Choroidal Neovascularization (DISEASE) aggravates Vision Loss (SYMPTOM). Age Related Macular Degeneration (DISEASE) can cause Vision Loss (SYMPTOM). Age Related Macular Degeneration (DISEASE) can cause Vision Loss (SYMPTOM). Age Related Macular Degeneration (DISEASE) can cause Vision Loss (SYMPTOM). Photodynamic Therapy (TREATMENT) prevents Vision Loss (SYMPTOM). Age Related Macular Degeneration (DISEASE) can cause Severe And Irreversible Loss Of Vision (SYMPTOM).'], 'response': '\\n\\nFalse', 'reference': True}, {'user_input': 'Dry AMD is more common than wet AMD.', 'retrieved_contexts': ['Dry Amd (DISEASE) can cause Legal Blindness (SYMPTOM). Dry Amd (DISEASE) presents with Drusen (BIOMARKER). Dry Amd (DISEASE) presents with Pigment Clumping (BIOMARKER). Dry Amd (DISEASE) presents with Retinal Pigment Epithelium Dropout (BIOMARKER). Dry Amd (DISEASE) presents with Geographic Atrophy (DISEASE). Copaxone (TREATMENT) treats Dry Amd (DISEASE). Copaxone (TREATMENT) prevents Dry Amd (DISEASE). Antioxidant Therapy (TREATMENT) treats Dry Amd (DISEASE). Ot 551 (TREATMENT) treats Dry Amd (DISEASE). Saffron Supplements (TREATMENT) treats Dry Amd (DISEASE). Eye Tests (TEST) diagnoses Dry Armd (DISEASE). Early Dry (DISEASE) presents with Cannot See Well At Night (SYMPTOM). Intravitreal Injection (TREATMENT) prevents Recurrence Of Wet (COMPLICATION). Wet Form (DISEASE) affects Profound Central Visual Loss (SYMPTOM).'], 'response': '\\n\\nFalse', 'reference': True}, {'user_input': 'Wet AMD progresses more slowly than dry AMD.', 'retrieved_contexts': ['Dry Amd (DISEASE) can cause Legal Blindness (SYMPTOM). Dry Amd (DISEASE) presents with Drusen (BIOMARKER). Dry Amd (DISEASE) presents with Pigment Clumping (BIOMARKER). Dry Amd (DISEASE) presents with Retinal Pigment Epithelium Dropout (BIOMARKER). Dry Amd (DISEASE) presents with Geographic Atrophy (DISEASE). Copaxone (TREATMENT) treats Dry Amd (DISEASE). Copaxone (TREATMENT) prevents Dry Amd (DISEASE). Antioxidant Therapy (TREATMENT) treats Dry Amd (DISEASE). Ot 551 (TREATMENT) treats Dry Amd (DISEASE). Saffron Supplements (TREATMENT) treats Dry Amd (DISEASE). Copaxone (TREATMENT) prevents Conversion Of Dry To Wet (PROGRESSION). Intravitreal Injection (TREATMENT) prevents Recurrence Of Wet (COMPLICATION). Early Dry (DISEASE) presents with Cannot See Well At Night (SYMPTOM). Wet Form Of Armd (DISEASE) can cause Irreversible Loss Of Vision (SYMPTOM). Wet Form Of Armd (DISEASE) presents with Retina (BODY_PART). Wet Form Of Armd (DISEASE) presents with Macula (BODY_PART). Wet Form Of Armd (DISEASE) affects Blindness (SYMPTOM).'], 'response': '\\n\\nFalse', 'reference': False}, {'user_input': 'Smoking increases the risk of developing AMD.', 'retrieved_contexts': ['Smoking (RISK_FACTOR) can cause Developing Arm (RISK_FACTOR). Apoe (GENE) affects Amd Risk (RISK_FACTOR). Cfh (GENE) affects Amd Risk (RISK_FACTOR). Amrs2 Htra 1 (GENE) affects Amd Risk (RISK_FACTOR). Cx3cr1 (GENE) affects Amd Risk (RISK_FACTOR). Neovascular Amd (DISEASE) presents with Sub Retinal Neovascular Membranes (DISEASE). Neovascular Amd (DISEASE) presents with Edema (SYMPTOM). Neovascular Amd (DISEASE) presents with Scarring (SYMPTOM). Neovascular Amd (DISEASE) presents with Significant Visual Loss (SYMPTOM). Neovascular Amd (DISEASE) affects Blindness (SYMPTOM). Age Related Macular Degeneration (DISEASE) presents with Neovascular Amd (DISEASE). Triamcinolone Acetonide (TREATMENT) treats Neovascular Amd (DISEASE). Verteporfin (TREATMENT) treats Neovascular Amd (DISEASE). Lucentis (TREATMENT) can cause Neovascular Amd (DISEASE). Lucentis (TREATMENT) treats Neovascular Amd (DISEASE). Genetic Tests (TEST) diagnoses Late Amd (DISEASE). Exudative Amd (DISEASE) presents with Serous Or Hemorrhagic Detachment Of Retinal Pigment Epithelium (COMPLICATION). Exudative Amd (DISEASE) presents with Choroidal Neovascularization (DISEASE). Late Stage (DISEASE) affects Exudative Amd (DISEASE). Bevacizumab (TREATMENT) presents with Exudative Amd (DISEASE). Ranibizumab (TREATMENT) presents with Exudative Amd (DISEASE). Vitreomacular Adhesion (BIOMARKER) affects Exudative Amd (DISEASE). Posterior Vma (BIOMARKER) affects Exudative Amd (DISEASE).'], 'response': '\\n\\nFalse', 'reference': True}]\n"
     ]
    }
   ],
   "source": [
    "print(dataset)"
   ]
  },
  {
   "cell_type": "code",
   "execution_count": 77,
   "id": "6fa820f2-13b5-495b-b905-859a2717b284",
   "metadata": {},
   "outputs": [],
   "source": [
    "responses = []\n",
    "references = []"
   ]
  },
  {
   "cell_type": "code",
   "execution_count": 78,
   "id": "91b0b880-ce67-4548-9fe5-6765ba5e6786",
   "metadata": {},
   "outputs": [
    {
     "name": "stdout",
     "output_type": "stream",
     "text": [
      "False False\n",
      "False True\n",
      "False True\n",
      "False False\n",
      "False True\n"
     ]
    }
   ],
   "source": [
    "for entry in dataset:\n",
    "    responses.append(bool(entry[\"response\"].replace(\"\\n\\n\", \"\")))\n",
    "    references.append(entry[\"reference\"])\n",
    "    print(entry[\"response\"].replace(\"\\n\\n\", \"\") + \" \" + str(entry[\"reference\"]))"
   ]
  },
  {
   "cell_type": "code",
   "execution_count": 79,
   "id": "3d51b361-bb23-482e-94b3-8260e0bd0de1",
   "metadata": {},
   "outputs": [
    {
     "name": "stdout",
     "output_type": "stream",
     "text": [
      "[True, True, True, True, True]\n",
      "[False, True, True, False, True]\n",
      "<class 'bool'>\n",
      "<class 'bool'>\n"
     ]
    }
   ],
   "source": [
    "print(responses)\n",
    "print(references)\n",
    "\n",
    "print(type(responses[1]))\n",
    "print(type(references[1]))"
   ]
  },
  {
   "cell_type": "code",
   "execution_count": 80,
   "id": "8b4c79d4-b78c-4356-bc95-28843455efda",
   "metadata": {},
   "outputs": [],
   "source": [
    "from sklearn.metrics import accuracy_score, precision_score, recall_score, f1_score\n",
    "\n",
    "# Calculate metrics\n",
    "accuracy = accuracy_score(references, responses)\n",
    "precision = precision_score(references, responses)\n",
    "recall = recall_score(references, responses)\n",
    "f1 = f1_score(references, responses)"
   ]
  },
  {
   "cell_type": "code",
   "execution_count": 82,
   "id": "aebe83a8-8833-4629-a2ef-6aecfc0b311b",
   "metadata": {},
   "outputs": [
    {
     "name": "stdout",
     "output_type": "stream",
     "text": [
      "\n",
      "Evaluation Metrics:\n",
      "Accuracy: 0.60 (60.0%)\n",
      "Precision: 0.60\n",
      "Recall: 1.00\n",
      "F1-Score: 0.75\n"
     ]
    }
   ],
   "source": [
    "# Print evaluation results\n",
    "print(\"\\nEvaluation Metrics:\")\n",
    "print(f\"Accuracy: {accuracy:.2f} ({accuracy * 100:.1f}%)\")\n",
    "print(f\"Precision: {precision:.2f}\")\n",
    "print(f\"Recall: {recall:.2f}\")\n",
    "print(f\"F1-Score: {f1:.2f}\")"
   ]
  },
  {
   "cell_type": "code",
   "execution_count": 92,
   "id": "cbf2b490-708f-498c-8f6d-5fe02d7538f0",
   "metadata": {},
   "outputs": [
    {
     "name": "stdout",
     "output_type": "stream",
     "text": [
      "\n",
      "Incorrect Answers:\n",
      "Question 1: Age-related macular degeneration (AMD) affects the cornea of the eye.\n",
      "Ground Truth: False, RAG Predicted: True\n",
      "--------------------------------------------------\n",
      "Question 4: Wet AMD progresses more slowly than dry AMD.\n",
      "Ground Truth: False, RAG Predicted: True\n",
      "--------------------------------------------------\n"
     ]
    }
   ],
   "source": [
    "# Log incorrect answers for analysis\n",
    "print(\"\\nIncorrect Answers:\")\n",
    "for i, (reference, response, item) in enumerate(zip(references, responses, dataset)):\n",
    "    if response != reference:\n",
    "        print(f\"Question {i+1}: {item['user_input']}\")\n",
    "        print(f\"Ground Truth: {reference}, RAG Predicted: {response}\")\n",
    "        print(\"-\" * 50)"
   ]
  }
 ],
 "metadata": {
  "kernelspec": {
   "display_name": "Python 3 (ipykernel)",
   "language": "python",
   "name": "python3"
  },
  "language_info": {
   "codemirror_mode": {
    "name": "ipython",
    "version": 3
   },
   "file_extension": ".py",
   "mimetype": "text/x-python",
   "name": "python",
   "nbconvert_exporter": "python",
   "pygments_lexer": "ipython3",
   "version": "3.10.16"
  }
 },
 "nbformat": 4,
 "nbformat_minor": 5
}
