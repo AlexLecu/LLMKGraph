{
 "cells": [
  {
   "cell_type": "code",
   "execution_count": 1,
   "id": "422b213b-559d-4040-8641-bb634983a3a6",
   "metadata": {},
   "outputs": [
    {
     "name": "stderr",
     "output_type": "stream",
     "text": [
      "Device set to use mps:0\n"
     ]
    }
   ],
   "source": [
    "import os\n",
    "import sys\n",
    "\n",
    "import json\n",
    "import pandas as pd\n",
    "import numpy as np\n",
    "import matplotlib.pyplot as plt\n",
    "import seaborn as sns\n",
    "from weaviate_rag.rag_system import GraphRAGSystem\n",
    "import ollama\n",
    "from ragas import evaluate\n",
    "from ragas.metrics import Faithfulness, AnswerRelevancy, ContextRecall\n",
    "import re\n",
    "from ragas import EvaluationDataset\n",
    "from sklearn.metrics import accuracy_score, precision_score, recall_score, f1_score, confusion_matrix"
   ]
  },
  {
   "cell_type": "code",
   "execution_count": 2,
   "id": "62ec414d-18b7-44c1-b38f-2e27724ca342",
   "metadata": {},
   "outputs": [],
   "source": [
    "# Load your JSON data\n",
    "# with open('/Users/alexlecu/PycharmProjects/LLMKGraph/backend/evaluation/data/grok_evaluation_dataset_mini/True_or_False_questions_mini.json', 'r') as f:\n",
    "with open('/Users/alexlecu/PycharmProjects/LLMKGraph/backend/evaluation/data/grok_evaluation_datasets/2_Hop_MCQ_Questions.json', 'r') as f:\n",
    "    data = json.load(f)\n",
    "\n",
    "# Convert to DataFrame for analysis\n",
    "df = pd.DataFrame(data)\n",
    "df = df[['question', 'answer']]\n",
    "\n",
    "# Add columns for evaluation\n",
    "df['contexts'] = None  # Will be filled with retrieved passages\n",
    "df['with_context_answer'] = None  # Will be filled with RAG responses\n",
    "df['without_context_answer'] = None  # Will be filled with model-only responses"
   ]
  },
  {
   "cell_type": "code",
   "execution_count": 3,
   "id": "fc9579f4-e95f-4b25-ade0-6116bff74833",
   "metadata": {},
   "outputs": [],
   "source": [
    "def generate_answer_with_context(question, context, model=\"llama3.2\"):\n",
    "    \"\"\"Generate answer using the model with context - simplified prompt\"\"\"\n",
    "    # More direct prompt focused on true/false determination\n",
    "    system_prompt = f\"\"\"\n",
    "    Given the following medical information, select the correct answer from the options provided (A, B, C, D).\n",
    "    \n",
    "    INFORMATION:\n",
    "    {context}\n",
    "    \n",
    "    IMPORTANT: Respond with ONLY the letter of the correct option (e.g., \"A\", \"B\", \"C\", or \"D\").\n",
    "    \"\"\"\n",
    "   \n",
    "    response = ollama.chat(\n",
    "        model=model,\n",
    "        messages=[\n",
    "            {\"role\": \"system\", \"content\": system_prompt},\n",
    "            {\"role\": \"user\", \"content\": question}\n",
    "        ],\n",
    "        stream=False\n",
    "    )\n",
    "    return response['message']['content']"
   ]
  },
  {
   "cell_type": "code",
   "execution_count": 4,
   "id": "6d1724aa-2cae-416b-ae98-851e74bdb9b8",
   "metadata": {},
   "outputs": [],
   "source": [
    "def generate_answer_without_context(question, model=\"llama3.2\"):\n",
    "    \"\"\"Generate answer using the model without context\"\"\"\n",
    "    system_prompt = \"\"\"\n",
    "    Select the correct answer from the options provided (A, B, C, D).\n",
    "    \n",
    "    IMPORTANT: Respond with ONLY the letter of the correct option (e.g., \"A\", \"B\", \"C\", or \"D\").\n",
    "    \"\"\"\n",
    "    \n",
    "    response = ollama.chat(\n",
    "        model=model,\n",
    "        messages=[\n",
    "            {\"role\": \"system\", \"content\": system_prompt},\n",
    "            {\"role\": \"user\", \"content\": question}\n",
    "        ],\n",
    "        stream=False\n",
    "    )\n",
    "    return response['message']['content']"
   ]
  },
  {
   "cell_type": "code",
   "execution_count": 5,
   "id": "4f89e540-73bb-4a19-9335-847e56665550",
   "metadata": {},
   "outputs": [],
   "source": [
    "def remove_think_tags(response):\n",
    "    \"\"\"Remove any thinking tags from the response\"\"\"\n",
    "    if response is None:\n",
    "        return \"\"\n",
    "    cleaned_content = re.sub(r'<think>.*?</think>', '', response, flags=re.DOTALL)\n",
    "    return cleaned_content"
   ]
  },
  {
   "cell_type": "code",
   "execution_count": 6,
   "id": "7d604853-6ab1-4ed6-b3da-4a02eee6166c",
   "metadata": {},
   "outputs": [],
   "source": [
    "def parse_true_false(response):\n",
    "    \"\"\"Parse the response to extract True/False answer\"\"\"\n",
    "    if response is None:\n",
    "        return None\n",
    "        \n",
    "    # Clean up response\n",
    "    response = response.strip().lower()\n",
    "    \n",
    "    # Check for True/False keywords\n",
    "    if \"true\" in response:\n",
    "        return True\n",
    "    elif \"false\" in response:\n",
    "        return False\n",
    "    else:\n",
    "        print(f\"Warning: Could not parse true/false from: '{response}'\")\n",
    "        return None"
   ]
  },
  {
   "cell_type": "code",
   "execution_count": 7,
   "id": "27669b51-d110-4509-b0ed-146648e72766",
   "metadata": {},
   "outputs": [
    {
     "name": "stdout",
     "output_type": "stream",
     "text": [
      "Processing questions with context...\n",
      "Question 1: Which factor increases wet AMD risk by promoting VEGF production? a) Smoking b) Drinking water c) Regular exercise d) Low cholesterol\n",
      "Context: T...\n",
      "Response: d)\n",
      "\n"
     ]
    },
    {
     "name": "stderr",
     "output_type": "stream",
     "text": [
      "/var/folders/z3/zc5j75dj0qn_z2sp8qf47q340000gn/T/ipykernel_70117/652174667.py:8: ResourceWarning: unclosed <socket.socket fd=91, family=AddressFamily.AF_INET, type=SocketKind.SOCK_STREAM, proto=6, laddr=('127.0.0.1', 57651), raddr=('127.0.0.1', 11434)>\n",
      "  analyzer = GraphRAGSystem(row[\"question\"])\n",
      "ResourceWarning: Enable tracemalloc to get the object allocation traceback\n"
     ]
    },
    {
     "name": "stdout",
     "output_type": "stream",
     "text": [
      "Question 2: Can dry AMD progress to geographic atrophy due to excessive antioxidant deficiency? a) Yes b) No c) Only with smoking d) Only with UV exposure\n",
      "Context: T...\n",
      "Response: a) Yes.\n",
      "\n"
     ]
    },
    {
     "name": "stderr",
     "output_type": "stream",
     "text": [
      "/var/folders/z3/zc5j75dj0qn_z2sp8qf47q340000gn/T/ipykernel_70117/652174667.py:8: ResourceWarning: unclosed <socket.socket fd=91, family=AddressFamily.AF_INET, type=SocketKind.SOCK_STREAM, proto=6, laddr=('127.0.0.1', 57685), raddr=('127.0.0.1', 11434)>\n",
      "  analyzer = GraphRAGSystem(row[\"question\"])\n",
      "ResourceWarning: Enable tracemalloc to get the object allocation traceback\n"
     ]
    },
    {
     "name": "stdout",
     "output_type": "stream",
     "text": [
      "Question 3: Does family history elevate AMD risk by increasing drusen formation susceptibility? a) Yes b) No c) Only in men d) Only in women\n",
      "Context: S...\n",
      "Response: a) Yes\n",
      "\n"
     ]
    },
    {
     "name": "stderr",
     "output_type": "stream",
     "text": [
      "/var/folders/z3/zc5j75dj0qn_z2sp8qf47q340000gn/T/ipykernel_70117/652174667.py:8: ResourceWarning: unclosed <socket.socket fd=91, family=AddressFamily.AF_INET, type=SocketKind.SOCK_STREAM, proto=6, laddr=('127.0.0.1', 57709), raddr=('127.0.0.1', 11434)>\n",
      "  analyzer = GraphRAGSystem(row[\"question\"])\n",
      "ResourceWarning: Enable tracemalloc to get the object allocation traceback\n"
     ]
    },
    {
     "name": "stdout",
     "output_type": "stream",
     "text": [
      "Question 4: Can anti-VEGF injections treat wet AMD by reducing photoreceptor regeneration? a) Yes b) No c) Sometimes d) Only early stages\n",
      "Context: T...\n",
      "Response: a) Yes\n",
      "\n"
     ]
    },
    {
     "name": "stderr",
     "output_type": "stream",
     "text": [
      "/var/folders/z3/zc5j75dj0qn_z2sp8qf47q340000gn/T/ipykernel_70117/652174667.py:8: ResourceWarning: unclosed <socket.socket fd=91, family=AddressFamily.AF_INET, type=SocketKind.SOCK_STREAM, proto=6, laddr=('127.0.0.1', 57741), raddr=('127.0.0.1', 11434)>\n",
      "  analyzer = GraphRAGSystem(row[\"question\"])\n",
      "ResourceWarning: Enable tracemalloc to get the object allocation traceback\n"
     ]
    },
    {
     "name": "stdout",
     "output_type": "stream",
     "text": [
      "Question 5: Does hypertension worsen AMD by elevating choroidal pressure? a) Yes b) No c) Only with diabetes d) Only with obesity\n",
      "Context: T...\n",
      "Response: a) Yes\n",
      "\n"
     ]
    },
    {
     "name": "stderr",
     "output_type": "stream",
     "text": [
      "/var/folders/z3/zc5j75dj0qn_z2sp8qf47q340000gn/T/ipykernel_70117/652174667.py:8: ResourceWarning: unclosed <socket.socket fd=91, family=AddressFamily.AF_INET, type=SocketKind.SOCK_STREAM, proto=6, laddr=('127.0.0.1', 57767), raddr=('127.0.0.1', 11434)>\n",
      "  analyzer = GraphRAGSystem(row[\"question\"])\n",
      "ResourceWarning: Enable tracemalloc to get the object allocation traceback\n"
     ]
    },
    {
     "name": "stdout",
     "output_type": "stream",
     "text": [
      "Question 6: Can the Amsler grid detect wet AMD by revealing optic nerve damage? a) Yes b) No c) Sometimes d) Only late stages\n",
      "Context: T...\n",
      "Response: c\n",
      "\n"
     ]
    },
    {
     "name": "stderr",
     "output_type": "stream",
     "text": [
      "/var/folders/z3/zc5j75dj0qn_z2sp8qf47q340000gn/T/ipykernel_70117/652174667.py:8: ResourceWarning: unclosed <socket.socket fd=91, family=AddressFamily.AF_INET, type=SocketKind.SOCK_STREAM, proto=6, laddr=('127.0.0.1', 57800), raddr=('127.0.0.1', 11434)>\n",
      "  analyzer = GraphRAGSystem(row[\"question\"])\n",
      "ResourceWarning: Enable tracemalloc to get the object allocation traceback\n"
     ]
    },
    {
     "name": "stdout",
     "output_type": "stream",
     "text": [
      "Question 7: Does UV exposure accelerate AMD by triggering immediate retinal hemorrhages? a) Yes b) No c) Only with smoking d) Only with light eyes\n",
      "Context: T...\n",
      "Response: a) Yes\n",
      "\n"
     ]
    },
    {
     "name": "stderr",
     "output_type": "stream",
     "text": [
      "/var/folders/z3/zc5j75dj0qn_z2sp8qf47q340000gn/T/ipykernel_70117/652174667.py:8: ResourceWarning: unclosed <socket.socket fd=91, family=AddressFamily.AF_INET, type=SocketKind.SOCK_STREAM, proto=6, laddr=('127.0.0.1', 57825), raddr=('127.0.0.1', 11434)>\n",
      "  analyzer = GraphRAGSystem(row[\"question\"])\n",
      "ResourceWarning: Enable tracemalloc to get the object allocation traceback\n"
     ]
    },
    {
     "name": "stdout",
     "output_type": "stream",
     "text": [
      "Question 8: Can AREDS supplements slow dry AMD by reversing retinal pigment epithelial atrophy? a) Yes b) No c) Partially d) Only with zinc\n",
      "Context: T...\n",
      "Response: c\n",
      "\n"
     ]
    },
    {
     "name": "stderr",
     "output_type": "stream",
     "text": [
      "/var/folders/z3/zc5j75dj0qn_z2sp8qf47q340000gn/T/ipykernel_70117/652174667.py:8: ResourceWarning: unclosed <socket.socket fd=91, family=AddressFamily.AF_INET, type=SocketKind.SOCK_STREAM, proto=6, laddr=('127.0.0.1', 57867), raddr=('127.0.0.1', 11434)>\n",
      "  analyzer = GraphRAGSystem(row[\"question\"])\n",
      "ResourceWarning: Enable tracemalloc to get the object allocation traceback\n"
     ]
    },
    {
     "name": "stdout",
     "output_type": "stream",
     "text": [
      "Question 9: Does obesity increase AMD risk by enhancing retinal inflammation? a) Yes b) No c) Only with diabetes d) Only with hypertension\n",
      "Context: T...\n",
      "Response: a) Yes\n",
      "\n"
     ]
    },
    {
     "name": "stderr",
     "output_type": "stream",
     "text": [
      "/var/folders/z3/zc5j75dj0qn_z2sp8qf47q340000gn/T/ipykernel_70117/652174667.py:8: ResourceWarning: unclosed <socket.socket fd=91, family=AddressFamily.AF_INET, type=SocketKind.SOCK_STREAM, proto=6, laddr=('127.0.0.1', 57896), raddr=('127.0.0.1', 11434)>\n",
      "  analyzer = GraphRAGSystem(row[\"question\"])\n",
      "ResourceWarning: Enable tracemalloc to get the object allocation traceback\n"
     ]
    },
    {
     "name": "stdout",
     "output_type": "stream",
     "text": [
      "Question 10: Can wet AMD cause sudden vision loss by inducing choroidal neovascular leakage? a) Yes b) No c) Only with drusen d) Only with UV exposure\n",
      "Context: T...\n",
      "Response: a) Yes\n",
      "\n"
     ]
    },
    {
     "name": "stderr",
     "output_type": "stream",
     "text": [
      "/var/folders/z3/zc5j75dj0qn_z2sp8qf47q340000gn/T/ipykernel_70117/652174667.py:8: ResourceWarning: unclosed <socket.socket fd=91, family=AddressFamily.AF_INET, type=SocketKind.SOCK_STREAM, proto=6, laddr=('127.0.0.1', 57941), raddr=('127.0.0.1', 11434)>\n",
      "  analyzer = GraphRAGSystem(row[\"question\"])\n",
      "ResourceWarning: Enable tracemalloc to get the object allocation traceback\n"
     ]
    },
    {
     "name": "stdout",
     "output_type": "stream",
     "text": [
      "Question 11: Does diabetes heighten AMD risk by causing direct photoreceptor loss? a) Yes b) No c) Sometimes d) Only with hypertension\n",
      "Context: T...\n",
      "Response: a) Yes\n",
      "\n"
     ]
    },
    {
     "name": "stderr",
     "output_type": "stream",
     "text": [
      "/var/folders/z3/zc5j75dj0qn_z2sp8qf47q340000gn/T/ipykernel_70117/652174667.py:8: ResourceWarning: unclosed <socket.socket fd=91, family=AddressFamily.AF_INET, type=SocketKind.SOCK_STREAM, proto=6, laddr=('127.0.0.1', 57968), raddr=('127.0.0.1', 11434)>\n",
      "  analyzer = GraphRAGSystem(row[\"question\"])\n",
      "ResourceWarning: Enable tracemalloc to get the object allocation traceback\n"
     ]
    },
    {
     "name": "stdout",
     "output_type": "stream",
     "text": [
      "Question 12: Can OCT diagnose wet AMD by detecting retinal pigment epithelial detachment? a) Yes b) No c) Only late stages d) Only with drusen\n",
      "Context: T...\n",
      "Response: a) Yes\n",
      "\n"
     ]
    },
    {
     "name": "stderr",
     "output_type": "stream",
     "text": [
      "/var/folders/z3/zc5j75dj0qn_z2sp8qf47q340000gn/T/ipykernel_70117/652174667.py:8: ResourceWarning: unclosed <socket.socket fd=91, family=AddressFamily.AF_INET, type=SocketKind.SOCK_STREAM, proto=6, laddr=('127.0.0.1', 58004), raddr=('127.0.0.1', 11434)>\n",
      "  analyzer = GraphRAGSystem(row[\"question\"])\n",
      "ResourceWarning: Enable tracemalloc to get the object allocation traceback\n"
     ]
    },
    {
     "name": "stdout",
     "output_type": "stream",
     "text": [
      "Question 13: Does smoking worsen dry AMD by accelerating oxidative damage to the macula? a) Yes b) No c) Only with UV exposure d) Only with obesity\n",
      "Context: T...\n",
      "Response: a\n",
      "\n"
     ]
    },
    {
     "name": "stderr",
     "output_type": "stream",
     "text": [
      "/var/folders/z3/zc5j75dj0qn_z2sp8qf47q340000gn/T/ipykernel_70117/652174667.py:8: ResourceWarning: unclosed <socket.socket fd=91, family=AddressFamily.AF_INET, type=SocketKind.SOCK_STREAM, proto=6, laddr=('127.0.0.1', 58027), raddr=('127.0.0.1', 11434)>\n",
      "  analyzer = GraphRAGSystem(row[\"question\"])\n",
      "ResourceWarning: Enable tracemalloc to get the object allocation traceback\n"
     ]
    },
    {
     "name": "stdout",
     "output_type": "stream",
     "text": [
      "Question 14: Can photodynamic therapy manage wet AMD by reversing drusen accumulation? a) Yes b) No c) Sometimes d) Only early stages\n",
      "Context: T...\n",
      "Response: b\n",
      "\n"
     ]
    },
    {
     "name": "stderr",
     "output_type": "stream",
     "text": [
      "/var/folders/z3/zc5j75dj0qn_z2sp8qf47q340000gn/T/ipykernel_70117/652174667.py:8: ResourceWarning: unclosed <socket.socket fd=91, family=AddressFamily.AF_INET, type=SocketKind.SOCK_STREAM, proto=6, laddr=('127.0.0.1', 58059), raddr=('127.0.0.1', 11434)>\n",
      "  analyzer = GraphRAGSystem(row[\"question\"])\n",
      "ResourceWarning: Enable tracemalloc to get the object allocation traceback\n"
     ]
    },
    {
     "name": "stdout",
     "output_type": "stream",
     "text": [
      "Question 15: Does a diet rich in leafy greens reduce AMD risk by repairing choroidal blood vessels? a) Yes b) No c) Partially d) Only with supplements\n",
      "Context: T...\n",
      "Response: a) Yes.\n",
      "\n"
     ]
    },
    {
     "name": "stderr",
     "output_type": "stream",
     "text": [
      "/var/folders/z3/zc5j75dj0qn_z2sp8qf47q340000gn/T/ipykernel_70117/652174667.py:8: ResourceWarning: unclosed <socket.socket fd=91, family=AddressFamily.AF_INET, type=SocketKind.SOCK_STREAM, proto=6, laddr=('127.0.0.1', 58090), raddr=('127.0.0.1', 11434)>\n",
      "  analyzer = GraphRAGSystem(row[\"question\"])\n",
      "ResourceWarning: Enable tracemalloc to get the object allocation traceback\n"
     ]
    },
    {
     "name": "stdout",
     "output_type": "stream",
     "text": [
      "Question 16: Can wet AMD cause legal blindness by impairing retinal pigment epithelial regeneration? a) Yes b) No c) Sometimes d) Only late stages\n",
      "Context: T...\n",
      "Response: a) Yes\n",
      "\n"
     ]
    },
    {
     "name": "stderr",
     "output_type": "stream",
     "text": [
      "/var/folders/z3/zc5j75dj0qn_z2sp8qf47q340000gn/T/ipykernel_70117/652174667.py:8: ResourceWarning: unclosed <socket.socket fd=91, family=AddressFamily.AF_INET, type=SocketKind.SOCK_STREAM, proto=6, laddr=('127.0.0.1', 58128), raddr=('127.0.0.1', 11434)>\n",
      "  analyzer = GraphRAGSystem(row[\"question\"])\n",
      "ResourceWarning: Enable tracemalloc to get the object allocation traceback\n"
     ]
    },
    {
     "name": "stdout",
     "output_type": "stream",
     "text": [
      "Question 17: Does high cholesterol increase AMD risk by promoting retinal pigment epithelial inflammation? a) Yes b) No c) Only with diabetes d) Only with smoking\n",
      "Context: T...\n",
      "Response: a) Yes\n",
      "\n"
     ]
    },
    {
     "name": "stderr",
     "output_type": "stream",
     "text": [
      "/var/folders/z3/zc5j75dj0qn_z2sp8qf47q340000gn/T/ipykernel_70117/652174667.py:8: ResourceWarning: unclosed <socket.socket fd=91, family=AddressFamily.AF_INET, type=SocketKind.SOCK_STREAM, proto=6, laddr=('127.0.0.1', 58159), raddr=('127.0.0.1', 11434)>\n",
      "  analyzer = GraphRAGSystem(row[\"question\"])\n",
      "ResourceWarning: Enable tracemalloc to get the object allocation traceback\n"
     ]
    },
    {
     "name": "stdout",
     "output_type": "stream",
     "text": [
      "Question 18: Can dry AMD transition to wet AMD due to excessive retinal hypoxia? a) Yes b) No c) Only with drusen d) Only with UV exposure\n",
      "Context: T...\n",
      "Response: a) Yes\n",
      "\n"
     ]
    },
    {
     "name": "stderr",
     "output_type": "stream",
     "text": [
      "/var/folders/z3/zc5j75dj0qn_z2sp8qf47q340000gn/T/ipykernel_70117/652174667.py:8: ResourceWarning: unclosed <socket.socket fd=91, family=AddressFamily.AF_INET, type=SocketKind.SOCK_STREAM, proto=6, laddr=('127.0.0.1', 58201), raddr=('127.0.0.1', 11434)>\n",
      "  analyzer = GraphRAGSystem(row[\"question\"])\n",
      "ResourceWarning: Enable tracemalloc to get the object allocation traceback\n"
     ]
    },
    {
     "name": "stdout",
     "output_type": "stream",
     "text": [
      "Question 19: Does AMD impair depth perception by causing choroidal thinning? a) Yes b) No c) Sometimes d) Only wet AMD\n",
      "Context: T...\n",
      "Response: The correct answer is: a) Yes\n",
      "\n"
     ]
    },
    {
     "name": "stderr",
     "output_type": "stream",
     "text": [
      "/var/folders/z3/zc5j75dj0qn_z2sp8qf47q340000gn/T/ipykernel_70117/652174667.py:8: ResourceWarning: unclosed <socket.socket fd=91, family=AddressFamily.AF_INET, type=SocketKind.SOCK_STREAM, proto=6, laddr=('127.0.0.1', 58272), raddr=('127.0.0.1', 11434)>\n",
      "  analyzer = GraphRAGSystem(row[\"question\"])\n",
      "ResourceWarning: Enable tracemalloc to get the object allocation traceback\n"
     ]
    },
    {
     "name": "stdout",
     "output_type": "stream",
     "text": [
      "Question 20: Can anti-VEGF therapy stabilize wet AMD by reducing subretinal fluid leakage? a) Yes b) No c) Only early stages d) Only with surgery\n",
      "Context: T...\n",
      "Response: a) Yes\n",
      "\n"
     ]
    },
    {
     "name": "stderr",
     "output_type": "stream",
     "text": [
      "/var/folders/z3/zc5j75dj0qn_z2sp8qf47q340000gn/T/ipykernel_70117/652174667.py:8: ResourceWarning: unclosed <socket.socket fd=91, family=AddressFamily.AF_INET, type=SocketKind.SOCK_STREAM, proto=6, laddr=('127.0.0.1', 58330), raddr=('127.0.0.1', 11434)>\n",
      "  analyzer = GraphRAGSystem(row[\"question\"])\n",
      "ResourceWarning: Enable tracemalloc to get the object allocation traceback\n"
     ]
    },
    {
     "name": "stdout",
     "output_type": "stream",
     "text": [
      "Question 21: Does family history increase AMD risk by causing direct retinal thinning? a) Yes b) No c) Sometimes d) Only with smoking\n",
      "Context: T...\n",
      "Response: c) Sometimes\n",
      "\n"
     ]
    },
    {
     "name": "stderr",
     "output_type": "stream",
     "text": [
      "/var/folders/z3/zc5j75dj0qn_z2sp8qf47q340000gn/T/ipykernel_70117/652174667.py:8: ResourceWarning: unclosed <socket.socket fd=91, family=AddressFamily.AF_INET, type=SocketKind.SOCK_STREAM, proto=6, laddr=('127.0.0.1', 58394), raddr=('127.0.0.1', 11434)>\n",
      "  analyzer = GraphRAGSystem(row[\"question\"])\n",
      "ResourceWarning: Enable tracemalloc to get the object allocation traceback\n"
     ]
    },
    {
     "name": "stdout",
     "output_type": "stream",
     "text": [
      "Question 22: Can wet AMD distort vision by inducing subretinal hemorrhages? a) Yes b) No c) Only with drusen d) Only with hypertension\n",
      "Context: T...\n",
      "Response: a) Yes\n",
      "\n"
     ]
    },
    {
     "name": "stderr",
     "output_type": "stream",
     "text": [
      "/var/folders/z3/zc5j75dj0qn_z2sp8qf47q340000gn/T/ipykernel_70117/652174667.py:8: ResourceWarning: unclosed <socket.socket fd=91, family=AddressFamily.AF_INET, type=SocketKind.SOCK_STREAM, proto=6, laddr=('127.0.0.1', 58452), raddr=('127.0.0.1', 11434)>\n",
      "  analyzer = GraphRAGSystem(row[\"question\"])\n",
      "ResourceWarning: Enable tracemalloc to get the object allocation traceback\n"
     ]
    },
    {
     "name": "stdout",
     "output_type": "stream",
     "text": [
      "Question 23: Does dry AMD progress slowly because it avoids retinal pigment epithelial repair? a) Yes b) No c) Sometimes d) Only early stages\n",
      "Context: T...\n",
      "Response: a) Yes\n",
      "\n"
     ]
    },
    {
     "name": "stderr",
     "output_type": "stream",
     "text": [
      "/var/folders/z3/zc5j75dj0qn_z2sp8qf47q340000gn/T/ipykernel_70117/652174667.py:8: ResourceWarning: unclosed <socket.socket fd=91, family=AddressFamily.AF_INET, type=SocketKind.SOCK_STREAM, proto=6, laddr=('127.0.0.1', 58489), raddr=('127.0.0.1', 11434)>\n",
      "  analyzer = GraphRAGSystem(row[\"question\"])\n",
      "ResourceWarning: Enable tracemalloc to get the object allocation traceback\n"
     ]
    },
    {
     "name": "stdout",
     "output_type": "stream",
     "text": [
      "Question 24: Can hypertension exacerbate AMD by causing retinal pigment epithelial detachment? a) Yes b) No c) Only with diabetes d) Only with obesity\n",
      "Context: A...\n",
      "Response: a) Yes\n",
      "\n"
     ]
    },
    {
     "name": "stderr",
     "output_type": "stream",
     "text": [
      "/var/folders/z3/zc5j75dj0qn_z2sp8qf47q340000gn/T/ipykernel_70117/652174667.py:8: ResourceWarning: unclosed <socket.socket fd=91, family=AddressFamily.AF_INET, type=SocketKind.SOCK_STREAM, proto=6, laddr=('127.0.0.1', 58514), raddr=('127.0.0.1', 11434)>\n",
      "  analyzer = GraphRAGSystem(row[\"question\"])\n",
      "ResourceWarning: Enable tracemalloc to get the object allocation traceback\n"
     ]
    },
    {
     "name": "stdout",
     "output_type": "stream",
     "text": [
      "Question 25: Does smoking worsen AMD by increasing retinal pigment epithelial hypoxia? a) Yes b) No c) Only with UV exposure d) Only with high cholesterol\n",
      "Context: T...\n",
      "Response: a) Yes\n",
      "\n"
     ]
    },
    {
     "name": "stderr",
     "output_type": "stream",
     "text": [
      "/var/folders/z3/zc5j75dj0qn_z2sp8qf47q340000gn/T/ipykernel_70117/652174667.py:8: ResourceWarning: unclosed <socket.socket fd=91, family=AddressFamily.AF_INET, type=SocketKind.SOCK_STREAM, proto=6, laddr=('127.0.0.1', 58560), raddr=('127.0.0.1', 11434)>\n",
      "  analyzer = GraphRAGSystem(row[\"question\"])\n",
      "ResourceWarning: Enable tracemalloc to get the object allocation traceback\n"
     ]
    },
    {
     "name": "stdout",
     "output_type": "stream",
     "text": [
      "Question 26: Can OCT detect early dry AMD by identifying changes in drusen morphology? a) Yes b) No c) Only late stages d) Only with fluid\n",
      "Context: T...\n",
      "Response: a) Yes\n",
      "\n"
     ]
    },
    {
     "name": "stderr",
     "output_type": "stream",
     "text": [
      "/var/folders/z3/zc5j75dj0qn_z2sp8qf47q340000gn/T/ipykernel_70117/652174667.py:8: ResourceWarning: unclosed <socket.socket fd=91, family=AddressFamily.AF_INET, type=SocketKind.SOCK_STREAM, proto=6, laddr=('127.0.0.1', 58591), raddr=('127.0.0.1', 11434)>\n",
      "  analyzer = GraphRAGSystem(row[\"question\"])\n",
      "ResourceWarning: Enable tracemalloc to get the object allocation traceback\n"
     ]
    },
    {
     "name": "stdout",
     "output_type": "stream",
     "text": [
      "Question 27: Does wet AMD treatment with anti-VEGF injections work by reversing choroidal neovascularization? a) Yes b) No c) Partially d) Only early stages\n",
      "Context: T...\n",
      "Response: a) Yes\n",
      "\n"
     ]
    },
    {
     "name": "stderr",
     "output_type": "stream",
     "text": [
      "/var/folders/z3/zc5j75dj0qn_z2sp8qf47q340000gn/T/ipykernel_70117/652174667.py:8: ResourceWarning: unclosed <socket.socket fd=91, family=AddressFamily.AF_INET, type=SocketKind.SOCK_STREAM, proto=6, laddr=('127.0.0.1', 58623), raddr=('127.0.0.1', 11434)>\n",
      "  analyzer = GraphRAGSystem(row[\"question\"])\n",
      "ResourceWarning: Enable tracemalloc to get the object allocation traceback\n"
     ]
    },
    {
     "name": "stdout",
     "output_type": "stream",
     "text": [
      "Question 28: Can diabetes contribute to AMD by elevating oxidative stress in the retina? a) Yes b) No c) Only with smoking d) Only with hypertension\n",
      "Context: T...\n",
      "Response: a) Yes\n",
      "\n"
     ]
    },
    {
     "name": "stderr",
     "output_type": "stream",
     "text": [
      "/var/folders/z3/zc5j75dj0qn_z2sp8qf47q340000gn/T/ipykernel_70117/652174667.py:8: ResourceWarning: unclosed <socket.socket fd=91, family=AddressFamily.AF_INET, type=SocketKind.SOCK_STREAM, proto=6, laddr=('127.0.0.1', 58656), raddr=('127.0.0.1', 11434)>\n",
      "  analyzer = GraphRAGSystem(row[\"question\"])\n",
      "ResourceWarning: Enable tracemalloc to get the object allocation traceback\n"
     ]
    },
    {
     "name": "stdout",
     "output_type": "stream",
     "text": [
      "Question 29: Does dry AMD progress to geographic atrophy by causing retinal pigment epithelial hemorrhages? a) Yes b) No c) Sometimes d) Only late stages\n",
      "Context: T...\n",
      "Response: a) Yes.\n",
      "\n"
     ]
    },
    {
     "name": "stderr",
     "output_type": "stream",
     "text": [
      "/var/folders/z3/zc5j75dj0qn_z2sp8qf47q340000gn/T/ipykernel_70117/652174667.py:8: ResourceWarning: unclosed <socket.socket fd=91, family=AddressFamily.AF_INET, type=SocketKind.SOCK_STREAM, proto=6, laddr=('127.0.0.1', 58697), raddr=('127.0.0.1', 11434)>\n",
      "  analyzer = GraphRAGSystem(row[\"question\"])\n",
      "ResourceWarning: Enable tracemalloc to get the object allocation traceback\n"
     ]
    },
    {
     "name": "stdout",
     "output_type": "stream",
     "text": [
      "Question 30: Can AMD increase fall risk by reducing central visual acuity? a) Yes b) No c) Only with wet AMD d) Only with dry AMD\n",
      "Context: T...\n",
      "Response: a) Yes. According to the information provided, there is a relationship (relation 131) between AMD and central visual acuity loss, suggesting that AMD can increase fall risk by reducing central visual acuity.\n",
      "\n"
     ]
    },
    {
     "name": "stderr",
     "output_type": "stream",
     "text": [
      "/var/folders/z3/zc5j75dj0qn_z2sp8qf47q340000gn/T/ipykernel_70117/652174667.py:8: ResourceWarning: unclosed <socket.socket fd=91, family=AddressFamily.AF_INET, type=SocketKind.SOCK_STREAM, proto=6, laddr=('127.0.0.1', 58728), raddr=('127.0.0.1', 11434)>\n",
      "  analyzer = GraphRAGSystem(row[\"question\"])\n",
      "ResourceWarning: Enable tracemalloc to get the object allocation traceback\n"
     ]
    },
    {
     "name": "stdout",
     "output_type": "stream",
     "text": [
      "Question 31: Does UV exposure accelerate AMD by causing immediate retinal pigment epithelial detachment? a) Yes b) No c) Only with smoking d) Only with light eyes\n",
      "Context: T...\n",
      "Response: a) Yes.\n",
      "\n"
     ]
    },
    {
     "name": "stderr",
     "output_type": "stream",
     "text": [
      "/var/folders/z3/zc5j75dj0qn_z2sp8qf47q340000gn/T/ipykernel_70117/652174667.py:8: ResourceWarning: unclosed <socket.socket fd=91, family=AddressFamily.AF_INET, type=SocketKind.SOCK_STREAM, proto=6, laddr=('127.0.0.1', 58779), raddr=('127.0.0.1', 11434)>\n",
      "  analyzer = GraphRAGSystem(row[\"question\"])\n",
      "ResourceWarning: Enable tracemalloc to get the object allocation traceback\n"
     ]
    },
    {
     "name": "stdout",
     "output_type": "stream",
     "text": [
      "Question 32: Can wet AMD cause rapid vision loss by inducing retinal pigment epithelial scarring? a) Yes b) No c) Only with drusen d) Only with hypertension\n",
      "Context: T...\n",
      "Response: a) Yes\n",
      "\n"
     ]
    },
    {
     "name": "stderr",
     "output_type": "stream",
     "text": [
      "/var/folders/z3/zc5j75dj0qn_z2sp8qf47q340000gn/T/ipykernel_70117/652174667.py:8: ResourceWarning: unclosed <socket.socket fd=91, family=AddressFamily.AF_INET, type=SocketKind.SOCK_STREAM, proto=6, laddr=('127.0.0.1', 58821), raddr=('127.0.0.1', 11434)>\n",
      "  analyzer = GraphRAGSystem(row[\"question\"])\n",
      "ResourceWarning: Enable tracemalloc to get the object allocation traceback\n"
     ]
    },
    {
     "name": "stdout",
     "output_type": "stream",
     "text": [
      "Question 33: Does a diet high in antioxidants prevent AMD by reversing retinal hypoxia? a) Yes b) No c) Partially d) Only with supplements\n",
      "Context: T...\n",
      "Response: a) Yes\n",
      "\n"
     ]
    },
    {
     "name": "stderr",
     "output_type": "stream",
     "text": [
      "/var/folders/z3/zc5j75dj0qn_z2sp8qf47q340000gn/T/ipykernel_70117/652174667.py:8: ResourceWarning: unclosed <socket.socket fd=91, family=AddressFamily.AF_INET, type=SocketKind.SOCK_STREAM, proto=6, laddr=('127.0.0.1', 58856), raddr=('127.0.0.1', 11434)>\n",
      "  analyzer = GraphRAGSystem(row[\"question\"])\n",
      "ResourceWarning: Enable tracemalloc to get the object allocation traceback\n"
     ]
    },
    {
     "name": "stdout",
     "output_type": "stream",
     "text": [
      "Question 34: Can smoking exacerbate wet AMD by increasing choroidal neovascular activity? a) Yes b) No c) Only with UV exposure d) Only with obesity\n",
      "Context: T...\n",
      "Response: a) Yes\n",
      "\n"
     ]
    },
    {
     "name": "stderr",
     "output_type": "stream",
     "text": [
      "/var/folders/z3/zc5j75dj0qn_z2sp8qf47q340000gn/T/ipykernel_70117/652174667.py:8: ResourceWarning: unclosed <socket.socket fd=91, family=AddressFamily.AF_INET, type=SocketKind.SOCK_STREAM, proto=6, laddr=('127.0.0.1', 58891), raddr=('127.0.0.1', 11434)>\n",
      "  analyzer = GraphRAGSystem(row[\"question\"])\n",
      "ResourceWarning: Enable tracemalloc to get the object allocation traceback\n"
     ]
    },
    {
     "name": "stdout",
     "output_type": "stream",
     "text": [
      "Question 35: Does dry AMD affect color perception by causing retinal pigment epithelial regeneration? a) Yes b) No c) Sometimes d) Only late stages\n",
      "Context: S...\n",
      "Response: a) Yes\n",
      "\n"
     ]
    },
    {
     "name": "stderr",
     "output_type": "stream",
     "text": [
      "/var/folders/z3/zc5j75dj0qn_z2sp8qf47q340000gn/T/ipykernel_70117/652174667.py:8: ResourceWarning: unclosed <socket.socket fd=91, family=AddressFamily.AF_INET, type=SocketKind.SOCK_STREAM, proto=6, laddr=('127.0.0.1', 58922), raddr=('127.0.0.1', 11434)>\n",
      "  analyzer = GraphRAGSystem(row[\"question\"])\n",
      "ResourceWarning: Enable tracemalloc to get the object allocation traceback\n"
     ]
    },
    {
     "name": "stdout",
     "output_type": "stream",
     "text": [
      "Question 36: Can photodynamic therapy treat wet AMD by reducing retinal pigment epithelial edema? a) Yes b) No c) Only early stages d) Only with anti-VEGF\n",
      "Context: P...\n",
      "Response: a) Yes.\n",
      "\n"
     ]
    },
    {
     "name": "stderr",
     "output_type": "stream",
     "text": [
      "/var/folders/z3/zc5j75dj0qn_z2sp8qf47q340000gn/T/ipykernel_70117/652174667.py:8: ResourceWarning: unclosed <socket.socket fd=91, family=AddressFamily.AF_INET, type=SocketKind.SOCK_STREAM, proto=6, laddr=('127.0.0.1', 58959), raddr=('127.0.0.1', 11434)>\n",
      "  analyzer = GraphRAGSystem(row[\"question\"])\n",
      "ResourceWarning: Enable tracemalloc to get the object allocation traceback\n"
     ]
    },
    {
     "name": "stdout",
     "output_type": "stream",
     "text": [
      "Question 37: Does obesity increase AMD risk by causing immediate retinal pigment epithelial atrophy? a) Yes b) No c) Sometimes d) Only with diabetes\n",
      "Context: T...\n",
      "Response: b\n",
      "\n"
     ]
    },
    {
     "name": "stderr",
     "output_type": "stream",
     "text": [
      "/var/folders/z3/zc5j75dj0qn_z2sp8qf47q340000gn/T/ipykernel_70117/652174667.py:8: ResourceWarning: unclosed <socket.socket fd=99, family=AddressFamily.AF_INET, type=SocketKind.SOCK_STREAM, proto=6, laddr=('127.0.0.1', 59058), raddr=('127.0.0.1', 11434)>\n",
      "  analyzer = GraphRAGSystem(row[\"question\"])\n",
      "ResourceWarning: Enable tracemalloc to get the object allocation traceback\n"
     ]
    },
    {
     "name": "stdout",
     "output_type": "stream",
     "text": [
      "Question 38: Can wet AMD impair reading by causing retinal pigment epithelial detachment? a) Yes b) No c) Only with drusen d) Only with smoking\n",
      "Context: T...\n",
      "Response: a) Yes\n",
      "\n"
     ]
    },
    {
     "name": "stderr",
     "output_type": "stream",
     "text": [
      "/var/folders/z3/zc5j75dj0qn_z2sp8qf47q340000gn/T/ipykernel_70117/652174667.py:8: ResourceWarning: unclosed <socket.socket fd=97, family=AddressFamily.AF_INET, type=SocketKind.SOCK_STREAM, proto=6, laddr=('127.0.0.1', 59099), raddr=('127.0.0.1', 11434)>\n",
      "  analyzer = GraphRAGSystem(row[\"question\"])\n",
      "ResourceWarning: Enable tracemalloc to get the object allocation traceback\n"
     ]
    },
    {
     "name": "stdout",
     "output_type": "stream",
     "text": [
      "Question 39: Does high cholesterol contribute to AMD by increasing retinal pigment epithelial lipid accumulation? a) Yes b) No c) Only with hypertension d) Only with diabetes\n",
      "Context: H...\n",
      "Response: a) Yes\n",
      "\n"
     ]
    },
    {
     "name": "stderr",
     "output_type": "stream",
     "text": [
      "/var/folders/z3/zc5j75dj0qn_z2sp8qf47q340000gn/T/ipykernel_70117/652174667.py:8: ResourceWarning: unclosed <socket.socket fd=97, family=AddressFamily.AF_INET, type=SocketKind.SOCK_STREAM, proto=6, laddr=('127.0.0.1', 59130), raddr=('127.0.0.1', 11434)>\n",
      "  analyzer = GraphRAGSystem(row[\"question\"])\n",
      "ResourceWarning: Enable tracemalloc to get the object allocation traceback\n"
     ]
    },
    {
     "name": "stdout",
     "output_type": "stream",
     "text": [
      "Question 40: Can AREDS supplements reduce AMD progression by fully repairing retinal pigment epithelium? a) Yes b) No c) Partially d) Only with zinc\n",
      "Context: T...\n",
      "Response: c) Partially\n",
      "\n"
     ]
    },
    {
     "name": "stderr",
     "output_type": "stream",
     "text": [
      "/var/folders/z3/zc5j75dj0qn_z2sp8qf47q340000gn/T/ipykernel_70117/652174667.py:8: ResourceWarning: unclosed <socket.socket fd=97, family=AddressFamily.AF_INET, type=SocketKind.SOCK_STREAM, proto=6, laddr=('127.0.0.1', 59172), raddr=('127.0.0.1', 11434)>\n",
      "  analyzer = GraphRAGSystem(row[\"question\"])\n",
      "ResourceWarning: Enable tracemalloc to get the object allocation traceback\n"
     ]
    },
    {
     "name": "stdout",
     "output_type": "stream",
     "text": [
      "Question 41: Does wet AMD cause blind spots by inducing retinal pigment epithelial regeneration? a) Yes b) No c) Sometimes d) Only late stages\n",
      "Context: T...\n",
      "Response: a) Yes\n",
      "\n"
     ]
    },
    {
     "name": "stderr",
     "output_type": "stream",
     "text": [
      "/var/folders/z3/zc5j75dj0qn_z2sp8qf47q340000gn/T/ipykernel_70117/652174667.py:8: ResourceWarning: unclosed <socket.socket fd=97, family=AddressFamily.AF_INET, type=SocketKind.SOCK_STREAM, proto=6, laddr=('127.0.0.1', 59207), raddr=('127.0.0.1', 11434)>\n",
      "  analyzer = GraphRAGSystem(row[\"question\"])\n",
      "ResourceWarning: Enable tracemalloc to get the object allocation traceback\n"
     ]
    },
    {
     "name": "stdout",
     "output_type": "stream",
     "text": [
      "Question 42: Can family history increase AMD risk by predisposing to retinal pigment epithelial oxidative stress? a) Yes b) No c) Only with smoking d) Only with UV exposure\n",
      "Context: T...\n",
      "Response: a) Yes.\n",
      "\n"
     ]
    },
    {
     "name": "stderr",
     "output_type": "stream",
     "text": [
      "/var/folders/z3/zc5j75dj0qn_z2sp8qf47q340000gn/T/ipykernel_70117/652174667.py:8: ResourceWarning: unclosed <socket.socket fd=97, family=AddressFamily.AF_INET, type=SocketKind.SOCK_STREAM, proto=6, laddr=('127.0.0.1', 59239), raddr=('127.0.0.1', 11434)>\n",
      "  analyzer = GraphRAGSystem(row[\"question\"])\n",
      "ResourceWarning: Enable tracemalloc to get the object allocation traceback\n"
     ]
    },
    {
     "name": "stdout",
     "output_type": "stream",
     "text": [
      "Question 43: Does dry AMD progress to wet AMD due to excessive dietary cholesterol alone? a) Yes b) No c) Sometimes d) Only with obesity\n",
      "Context: T...\n",
      "Response: b) No\n",
      "\n"
     ]
    },
    {
     "name": "stderr",
     "output_type": "stream",
     "text": [
      "/var/folders/z3/zc5j75dj0qn_z2sp8qf47q340000gn/T/ipykernel_70117/652174667.py:8: ResourceWarning: unclosed <socket.socket fd=97, family=AddressFamily.AF_INET, type=SocketKind.SOCK_STREAM, proto=6, laddr=('127.0.0.1', 59287), raddr=('127.0.0.1', 11434)>\n",
      "  analyzer = GraphRAGSystem(row[\"question\"])\n",
      "ResourceWarning: Enable tracemalloc to get the object allocation traceback\n"
     ]
    },
    {
     "name": "stdout",
     "output_type": "stream",
     "text": [
      "Question 44: Can anti-VEGF injections improve wet AMD by reducing retinal pigment epithelial hemorrhages? a) Yes b) No c) Only early stages d) Only with photodynamic therapy\n",
      "Context: T...\n",
      "Response: a) Yes\n",
      "\n"
     ]
    },
    {
     "name": "stderr",
     "output_type": "stream",
     "text": [
      "/var/folders/z3/zc5j75dj0qn_z2sp8qf47q340000gn/T/ipykernel_70117/652174667.py:8: ResourceWarning: unclosed <socket.socket fd=97, family=AddressFamily.AF_INET, type=SocketKind.SOCK_STREAM, proto=6, laddr=('127.0.0.1', 59318), raddr=('127.0.0.1', 11434)>\n",
      "  analyzer = GraphRAGSystem(row[\"question\"])\n",
      "ResourceWarning: Enable tracemalloc to get the object allocation traceback\n"
     ]
    },
    {
     "name": "stdout",
     "output_type": "stream",
     "text": [
      "Question 45: Does UV light increase AMD risk by causing retinal pigment epithelial lipid regeneration? a) Yes b) No c) Sometimes d) Only with light eyes\n",
      "Context: T...\n",
      "Response: a) Yes\n",
      "\n"
     ]
    },
    {
     "name": "stderr",
     "output_type": "stream",
     "text": [
      "/var/folders/z3/zc5j75dj0qn_z2sp8qf47q340000gn/T/ipykernel_70117/652174667.py:8: ResourceWarning: unclosed <socket.socket fd=97, family=AddressFamily.AF_INET, type=SocketKind.SOCK_STREAM, proto=6, laddr=('127.0.0.1', 59363), raddr=('127.0.0.1', 11434)>\n",
      "  analyzer = GraphRAGSystem(row[\"question\"])\n",
      "ResourceWarning: Enable tracemalloc to get the object allocation traceback\n"
     ]
    },
    {
     "name": "stdout",
     "output_type": "stream",
     "text": [
      "Question 46: Can wet AMD affect face recognition by causing retinal pigment epithelial scarring? a) Yes b) No c) Only with drusen d) Only with smoking\n",
      "Context: T...\n",
      "Response: a) Yes\n",
      "\n"
     ]
    },
    {
     "name": "stderr",
     "output_type": "stream",
     "text": [
      "/var/folders/z3/zc5j75dj0qn_z2sp8qf47q340000gn/T/ipykernel_70117/652174667.py:8: ResourceWarning: unclosed <socket.socket fd=97, family=AddressFamily.AF_INET, type=SocketKind.SOCK_STREAM, proto=6, laddr=('127.0.0.1', 59431), raddr=('127.0.0.1', 11434)>\n",
      "  analyzer = GraphRAGSystem(row[\"question\"])\n",
      "ResourceWarning: Enable tracemalloc to get the object allocation traceback\n"
     ]
    },
    {
     "name": "stdout",
     "output_type": "stream",
     "text": [
      "Question 47: Does hypertension worsen AMD by causing retinal pigment epithelial regeneration? a) Yes b) No c) Only with diabetes d) Only with high cholesterol\n",
      "Context: T...\n",
      "Response: a) Yes.\n",
      "\n"
     ]
    },
    {
     "name": "stderr",
     "output_type": "stream",
     "text": [
      "/var/folders/z3/zc5j75dj0qn_z2sp8qf47q340000gn/T/ipykernel_70117/652174667.py:8: ResourceWarning: unclosed <socket.socket fd=97, family=AddressFamily.AF_INET, type=SocketKind.SOCK_STREAM, proto=6, laddr=('127.0.0.1', 59464), raddr=('127.0.0.1', 11434)>\n",
      "  analyzer = GraphRAGSystem(row[\"question\"])\n",
      "ResourceWarning: Enable tracemalloc to get the object allocation traceback\n"
     ]
    },
    {
     "name": "stdout",
     "output_type": "stream",
     "text": [
      "Question 48: Can smoking exacerbate AMD by increasing retinal pigment epithelial lipid deposits? a) Yes b) No c) Only with obesity d) Only with UV exposure\n",
      "Context: T...\n",
      "Response: a) Yes\n",
      "\n"
     ]
    },
    {
     "name": "stderr",
     "output_type": "stream",
     "text": [
      "/var/folders/z3/zc5j75dj0qn_z2sp8qf47q340000gn/T/ipykernel_70117/652174667.py:8: ResourceWarning: unclosed <socket.socket fd=97, family=AddressFamily.AF_INET, type=SocketKind.SOCK_STREAM, proto=6, laddr=('127.0.0.1', 59505), raddr=('127.0.0.1', 11434)>\n",
      "  analyzer = GraphRAGSystem(row[\"question\"])\n",
      "ResourceWarning: Enable tracemalloc to get the object allocation traceback\n"
     ]
    },
    {
     "name": "stdout",
     "output_type": "stream",
     "text": [
      "Question 49: Does dry AMD cause gradual vision loss by inducing retinal pigment epithelial repair? a) Yes b) No c) Sometimes d) Only late stages\n",
      "Context: D...\n",
      "Response: b)\n",
      "\n"
     ]
    },
    {
     "name": "stderr",
     "output_type": "stream",
     "text": [
      "/var/folders/z3/zc5j75dj0qn_z2sp8qf47q340000gn/T/ipykernel_70117/652174667.py:8: ResourceWarning: unclosed <socket.socket fd=97, family=AddressFamily.AF_INET, type=SocketKind.SOCK_STREAM, proto=6, laddr=('127.0.0.1', 59554), raddr=('127.0.0.1', 11434)>\n",
      "  analyzer = GraphRAGSystem(row[\"question\"])\n",
      "ResourceWarning: Enable tracemalloc to get the object allocation traceback\n"
     ]
    },
    {
     "name": "stdout",
     "output_type": "stream",
     "text": [
      "Question 50: Can OCT confirm wet AMD by detecting retinal pigment epithelial lipid accumulation? a) Yes b) No c) Only late stages d) Only with drusen\n",
      "Context: T...\n",
      "Response: a) Yes\n",
      "\n"
     ]
    },
    {
     "name": "stderr",
     "output_type": "stream",
     "text": [
      "/var/folders/z3/zc5j75dj0qn_z2sp8qf47q340000gn/T/ipykernel_70117/652174667.py:8: ResourceWarning: unclosed <socket.socket fd=97, family=AddressFamily.AF_INET, type=SocketKind.SOCK_STREAM, proto=6, laddr=('127.0.0.1', 59582), raddr=('127.0.0.1', 11434)>\n",
      "  analyzer = GraphRAGSystem(row[\"question\"])\n",
      "ResourceWarning: Enable tracemalloc to get the object allocation traceback\n"
     ]
    },
    {
     "name": "stdout",
     "output_type": "stream",
     "text": [
      "Question 51: Does diabetes increase AMD risk by causing retinal pigment epithelial hemorrhages? a) Yes b) No c) Only with hypertension d) Only with smoking\n",
      "Context: T...\n",
      "Response: c\n",
      "\n"
     ]
    },
    {
     "name": "stderr",
     "output_type": "stream",
     "text": [
      "/var/folders/z3/zc5j75dj0qn_z2sp8qf47q340000gn/T/ipykernel_70117/652174667.py:8: ResourceWarning: unclosed <socket.socket fd=97, family=AddressFamily.AF_INET, type=SocketKind.SOCK_STREAM, proto=6, laddr=('127.0.0.1', 59619), raddr=('127.0.0.1', 11434)>\n",
      "  analyzer = GraphRAGSystem(row[\"question\"])\n",
      "ResourceWarning: Enable tracemalloc to get the object allocation traceback\n"
     ]
    },
    {
     "name": "stdout",
     "output_type": "stream",
     "text": [
      "Question 52: Can wet AMD cause sudden vision changes by inducing retinal pigment epithelial edema? a) Yes b) No c) Only with drusen d) Only with UV exposure\n",
      "Context: T...\n",
      "Response: a) Yes\n",
      "\n"
     ]
    },
    {
     "name": "stderr",
     "output_type": "stream",
     "text": [
      "/var/folders/z3/zc5j75dj0qn_z2sp8qf47q340000gn/T/ipykernel_70117/652174667.py:8: ResourceWarning: unclosed <socket.socket fd=97, family=AddressFamily.AF_INET, type=SocketKind.SOCK_STREAM, proto=6, laddr=('127.0.0.1', 59677), raddr=('127.0.0.1', 11434)>\n",
      "  analyzer = GraphRAGSystem(row[\"question\"])\n",
      "ResourceWarning: Enable tracemalloc to get the object allocation traceback\n"
     ]
    },
    {
     "name": "stdout",
     "output_type": "stream",
     "text": [
      "Question 53: Does family history elevate AMD risk by causing retinal pigment epithelial lipid repair? a) Yes b) No c) Sometimes d) Only with obesity\n",
      "Context: T...\n",
      "Response: b) No\n",
      "\n"
     ]
    },
    {
     "name": "stderr",
     "output_type": "stream",
     "text": [
      "/var/folders/z3/zc5j75dj0qn_z2sp8qf47q340000gn/T/ipykernel_70117/652174667.py:8: ResourceWarning: unclosed <socket.socket fd=97, family=AddressFamily.AF_INET, type=SocketKind.SOCK_STREAM, proto=6, laddr=('127.0.0.1', 59707), raddr=('127.0.0.1', 11434)>\n",
      "  analyzer = GraphRAGSystem(row[\"question\"])\n",
      "ResourceWarning: Enable tracemalloc to get the object allocation traceback\n"
     ]
    },
    {
     "name": "stdout",
     "output_type": "stream",
     "text": [
      "Question 54: Can anti-VEGF therapy stabilize wet AMD by reducing retinal pigment epithelial scarring? a) Yes b) No c) Only early stages d) Only with photodynamic therapy\n",
      "Context: T...\n",
      "Response: a) Yes\n",
      "\n"
     ]
    },
    {
     "name": "stderr",
     "output_type": "stream",
     "text": [
      "/var/folders/z3/zc5j75dj0qn_z2sp8qf47q340000gn/T/ipykernel_70117/652174667.py:8: ResourceWarning: unclosed <socket.socket fd=97, family=AddressFamily.AF_INET, type=SocketKind.SOCK_STREAM, proto=6, laddr=('127.0.0.1', 59742), raddr=('127.0.0.1', 11434)>\n",
      "  analyzer = GraphRAGSystem(row[\"question\"])\n",
      "ResourceWarning: Enable tracemalloc to get the object allocation traceback\n"
     ]
    },
    {
     "name": "stdout",
     "output_type": "stream",
     "text": [
      "Question 55: Does smoking increase dry AMD risk by causing retinal pigment epithelial edema? a) Yes b) No c) Only with UV exposure d) Only with high cholesterol\n",
      "Context: T...\n",
      "Response: a) Yes.\n",
      "\n"
     ]
    },
    {
     "name": "stderr",
     "output_type": "stream",
     "text": [
      "/var/folders/z3/zc5j75dj0qn_z2sp8qf47q340000gn/T/ipykernel_70117/652174667.py:8: ResourceWarning: unclosed <socket.socket fd=97, family=AddressFamily.AF_INET, type=SocketKind.SOCK_STREAM, proto=6, laddr=('127.0.0.1', 59778), raddr=('127.0.0.1', 11434)>\n",
      "  analyzer = GraphRAGSystem(row[\"question\"])\n",
      "ResourceWarning: Enable tracemalloc to get the object allocation traceback\n"
     ]
    },
    {
     "name": "stdout",
     "output_type": "stream",
     "text": [
      "Question 56: Can wet AMD impair driving by inducing retinal pigment epithelial lipid deposits? a) Yes b) No c) Only with drusen d) Only with smoking\n",
      "Context: T...\n",
      "Response: a) Yes\n",
      "\n"
     ]
    },
    {
     "name": "stderr",
     "output_type": "stream",
     "text": [
      "/var/folders/z3/zc5j75dj0qn_z2sp8qf47q340000gn/T/ipykernel_70117/652174667.py:8: ResourceWarning: unclosed <socket.socket fd=97, family=AddressFamily.AF_INET, type=SocketKind.SOCK_STREAM, proto=6, laddr=('127.0.0.1', 59807), raddr=('127.0.0.1', 11434)>\n",
      "  analyzer = GraphRAGSystem(row[\"question\"])\n",
      "ResourceWarning: Enable tracemalloc to get the object allocation traceback\n"
     ]
    },
    {
     "name": "stdout",
     "output_type": "stream",
     "text": [
      "Question 57: Does high cholesterol exacerbate AMD by causing retinal pigment epithelial repair? a) Yes b) No c) Only with diabetes d) Only with hypertension\n",
      "Context: H...\n",
      "Response: a) Yes\n",
      "\n"
     ]
    },
    {
     "name": "stderr",
     "output_type": "stream",
     "text": [
      "/var/folders/z3/zc5j75dj0qn_z2sp8qf47q340000gn/T/ipykernel_70117/652174667.py:8: ResourceWarning: unclosed <socket.socket fd=97, family=AddressFamily.AF_INET, type=SocketKind.SOCK_STREAM, proto=6, laddr=('127.0.0.1', 59834), raddr=('127.0.0.1', 11434)>\n",
      "  analyzer = GraphRAGSystem(row[\"question\"])\n",
      "ResourceWarning: Enable tracemalloc to get the object allocation traceback\n"
     ]
    },
    {
     "name": "stdout",
     "output_type": "stream",
     "text": [
      "Question 58: Can AREDS supplements mitigate AMD risk by reversing retinal pigment epithelial swelling? a) Yes b) No c) Partially d) Only with zinc\n",
      "Context: T...\n",
      "Response: a) Yes\n",
      "\n"
     ]
    },
    {
     "name": "stderr",
     "output_type": "stream",
     "text": [
      "/var/folders/z3/zc5j75dj0qn_z2sp8qf47q340000gn/T/ipykernel_70117/652174667.py:8: ResourceWarning: unclosed <socket.socket fd=97, family=AddressFamily.AF_INET, type=SocketKind.SOCK_STREAM, proto=6, laddr=('127.0.0.1', 59871), raddr=('127.0.0.1', 11434)>\n",
      "  analyzer = GraphRAGSystem(row[\"question\"])\n",
      "ResourceWarning: Enable tracemalloc to get the object allocation traceback\n"
     ]
    },
    {
     "name": "stdout",
     "output_type": "stream",
     "text": [
      "Question 59: Does wet AMD cause depth perception issues by inducing retinal pigment epithelial regeneration? a) Yes b) No c) Sometimes d) Only late stages\n",
      "Context: T...\n",
      "Response: a) Yes.\n",
      "\n"
     ]
    },
    {
     "name": "stderr",
     "output_type": "stream",
     "text": [
      "/var/folders/z3/zc5j75dj0qn_z2sp8qf47q340000gn/T/ipykernel_70117/652174667.py:8: ResourceWarning: unclosed <socket.socket fd=97, family=AddressFamily.AF_INET, type=SocketKind.SOCK_STREAM, proto=6, laddr=('127.0.0.1', 59903), raddr=('127.0.0.1', 11434)>\n",
      "  analyzer = GraphRAGSystem(row[\"question\"])\n",
      "ResourceWarning: Enable tracemalloc to get the object allocation traceback\n"
     ]
    },
    {
     "name": "stdout",
     "output_type": "stream",
     "text": [
      "Question 60: Can obesity worsen AMD by increasing retinal pigment epithelial lipid accumulation? a) Yes b) No c) Only with diabetes d) Only with smoking\n",
      "Context: T...\n",
      "Response: a) Yes\n",
      "\n"
     ]
    },
    {
     "name": "stderr",
     "output_type": "stream",
     "text": [
      "/var/folders/z3/zc5j75dj0qn_z2sp8qf47q340000gn/T/ipykernel_70117/652174667.py:8: ResourceWarning: unclosed <socket.socket fd=97, family=AddressFamily.AF_INET, type=SocketKind.SOCK_STREAM, proto=6, laddr=('127.0.0.1', 59934), raddr=('127.0.0.1', 11434)>\n",
      "  analyzer = GraphRAGSystem(row[\"question\"])\n",
      "ResourceWarning: Enable tracemalloc to get the object allocation traceback\n"
     ]
    },
    {
     "name": "stdout",
     "output_type": "stream",
     "text": [
      "Question 61: Does dry AMD progress to geographic atrophy due to retinal pigment epithelial lipid repair? a) Yes b) No c) Sometimes d) Only late stages\n",
      "Context: T...\n",
      "Response: b\n",
      "\n"
     ]
    },
    {
     "name": "stderr",
     "output_type": "stream",
     "text": [
      "/var/folders/z3/zc5j75dj0qn_z2sp8qf47q340000gn/T/ipykernel_70117/652174667.py:8: ResourceWarning: unclosed <socket.socket fd=97, family=AddressFamily.AF_INET, type=SocketKind.SOCK_STREAM, proto=6, laddr=('127.0.0.1', 59971), raddr=('127.0.0.1', 11434)>\n",
      "  analyzer = GraphRAGSystem(row[\"question\"])\n",
      "ResourceWarning: Enable tracemalloc to get the object allocation traceback\n"
     ]
    },
    {
     "name": "stdout",
     "output_type": "stream",
     "text": [
      "Question 62: Can photodynamic therapy treat wet AMD by reducing retinal pigment epithelial hypoxia? a) Yes b) No c) Only early stages d) Only with anti-VEGF\n",
      "Context: T...\n",
      "Response: a) Yes\n",
      "\n"
     ]
    },
    {
     "name": "stderr",
     "output_type": "stream",
     "text": [
      "/var/folders/z3/zc5j75dj0qn_z2sp8qf47q340000gn/T/ipykernel_70117/652174667.py:8: ResourceWarning: unclosed <socket.socket fd=97, family=AddressFamily.AF_INET, type=SocketKind.SOCK_STREAM, proto=6, laddr=('127.0.0.1', 59999), raddr=('127.0.0.1', 11434)>\n",
      "  analyzer = GraphRAGSystem(row[\"question\"])\n",
      "ResourceWarning: Enable tracemalloc to get the object allocation traceback\n"
     ]
    },
    {
     "name": "stdout",
     "output_type": "stream",
     "text": [
      "Question 63: Does UV light exposure increase AMD risk by causing retinal pigment epithelial lipid regeneration? a) Yes b) No c) Sometimes d) Only with light eyes\n",
      "Context: S...\n",
      "Response: a) Yes\n",
      "\n"
     ]
    },
    {
     "name": "stderr",
     "output_type": "stream",
     "text": [
      "/var/folders/z3/zc5j75dj0qn_z2sp8qf47q340000gn/T/ipykernel_70117/652174667.py:8: ResourceWarning: unclosed <socket.socket fd=97, family=AddressFamily.AF_INET, type=SocketKind.SOCK_STREAM, proto=6, laddr=('127.0.0.1', 60026), raddr=('127.0.0.1', 11434)>\n",
      "  analyzer = GraphRAGSystem(row[\"question\"])\n",
      "ResourceWarning: Enable tracemalloc to get the object allocation traceback\n"
     ]
    },
    {
     "name": "stdout",
     "output_type": "stream",
     "text": [
      "Question 64: Can wet AMD cause visual hallucinations by inducing retinal pigment epithelial edema? a) Yes b) No c) Only with drusen d) Only with smoking\n",
      "Context: T...\n",
      "Response: a) Yes\n",
      "\n"
     ]
    },
    {
     "name": "stderr",
     "output_type": "stream",
     "text": [
      "/var/folders/z3/zc5j75dj0qn_z2sp8qf47q340000gn/T/ipykernel_70117/652174667.py:8: ResourceWarning: unclosed <socket.socket fd=97, family=AddressFamily.AF_INET, type=SocketKind.SOCK_STREAM, proto=6, laddr=('127.0.0.1', 60063), raddr=('127.0.0.1', 11434)>\n",
      "  analyzer = GraphRAGSystem(row[\"question\"])\n",
      "ResourceWarning: Enable tracemalloc to get the object allocation traceback\n"
     ]
    },
    {
     "name": "stdout",
     "output_type": "stream",
     "text": [
      "Question 65: Does hypertension contribute to AMD by causing retinal pigment epithelial swelling? a) Yes b) No c) Only with diabetes d) Only with high cholesterol\n",
      "Context: T...\n",
      "Response: a) Yes.\n",
      "\n"
     ]
    },
    {
     "name": "stderr",
     "output_type": "stream",
     "text": [
      "/var/folders/z3/zc5j75dj0qn_z2sp8qf47q340000gn/T/ipykernel_70117/652174667.py:8: ResourceWarning: unclosed <socket.socket fd=97, family=AddressFamily.AF_INET, type=SocketKind.SOCK_STREAM, proto=6, laddr=('127.0.0.1', 60098), raddr=('127.0.0.1', 11434)>\n",
      "  analyzer = GraphRAGSystem(row[\"question\"])\n",
      "ResourceWarning: Enable tracemalloc to get the object allocation traceback\n"
     ]
    },
    {
     "name": "stdout",
     "output_type": "stream",
     "text": [
      "Question 66: Can smoking increase AMD severity by promoting retinal pigment epithelial atrophy? a) Yes b) No c) Only with UV exposure d) Only with obesity\n",
      "Context: T...\n",
      "Response: a) Yes\n",
      "\n"
     ]
    },
    {
     "name": "stderr",
     "output_type": "stream",
     "text": [
      "/var/folders/z3/zc5j75dj0qn_z2sp8qf47q340000gn/T/ipykernel_70117/652174667.py:8: ResourceWarning: unclosed <socket.socket fd=97, family=AddressFamily.AF_INET, type=SocketKind.SOCK_STREAM, proto=6, laddr=('127.0.0.1', 60134), raddr=('127.0.0.1', 11434)>\n",
      "  analyzer = GraphRAGSystem(row[\"question\"])\n",
      "ResourceWarning: Enable tracemalloc to get the object allocation traceback\n"
     ]
    },
    {
     "name": "stdout",
     "output_type": "stream",
     "text": [
      "Question 67: Does dry AMD impair reading by causing retinal pigment epithelial lipid regeneration? a) Yes b) No c) Sometimes d) Only late stages\n",
      "Context: T...\n",
      "Response: a) Yes\n",
      "\n"
     ]
    },
    {
     "name": "stderr",
     "output_type": "stream",
     "text": [
      "/var/folders/z3/zc5j75dj0qn_z2sp8qf47q340000gn/T/ipykernel_70117/652174667.py:8: ResourceWarning: unclosed <socket.socket fd=97, family=AddressFamily.AF_INET, type=SocketKind.SOCK_STREAM, proto=6, laddr=('127.0.0.1', 60158), raddr=('127.0.0.1', 11434)>\n",
      "  analyzer = GraphRAGSystem(row[\"question\"])\n",
      "ResourceWarning: Enable tracemalloc to get the object allocation traceback\n"
     ]
    },
    {
     "name": "stdout",
     "output_type": "stream",
     "text": [
      "Question 68: Can OCT detect early AMD by visualizing retinal pigment epithelial hypoxia? a) Yes b) No c) Only late stages d) Only with drusen\n",
      "Context: T...\n",
      "Response: a) Yes\n",
      "\n"
     ]
    },
    {
     "name": "stderr",
     "output_type": "stream",
     "text": [
      "/var/folders/z3/zc5j75dj0qn_z2sp8qf47q340000gn/T/ipykernel_70117/652174667.py:8: ResourceWarning: unclosed <socket.socket fd=97, family=AddressFamily.AF_INET, type=SocketKind.SOCK_STREAM, proto=6, laddr=('127.0.0.1', 60183), raddr=('127.0.0.1', 11434)>\n",
      "  analyzer = GraphRAGSystem(row[\"question\"])\n",
      "ResourceWarning: Enable tracemalloc to get the object allocation traceback\n"
     ]
    },
    {
     "name": "stdout",
     "output_type": "stream",
     "text": [
      "Question 69: Does diabetes exacerbate AMD by causing retinal pigment epithelial lipid repair? a) Yes b) No c) Only with hypertension d) Only with smoking\n",
      "Context: T...\n",
      "Response: a) Yes\n",
      "\n"
     ]
    },
    {
     "name": "stderr",
     "output_type": "stream",
     "text": [
      "/var/folders/z3/zc5j75dj0qn_z2sp8qf47q340000gn/T/ipykernel_70117/652174667.py:8: ResourceWarning: unclosed <socket.socket fd=97, family=AddressFamily.AF_INET, type=SocketKind.SOCK_STREAM, proto=6, laddr=('127.0.0.1', 60206), raddr=('127.0.0.1', 11434)>\n",
      "  analyzer = GraphRAGSystem(row[\"question\"])\n",
      "ResourceWarning: Enable tracemalloc to get the object allocation traceback\n"
     ]
    },
    {
     "name": "stdout",
     "output_type": "stream",
     "text": [
      "Question 70: Can wet AMD cause sudden vision changes by inducing retinal pigment epithelial lipid accumulation? a) Yes b) No c) Only with drusen d) Only with UV exposure\n",
      "Context: T...\n",
      "Response: a) Yes.\n",
      "\n"
     ]
    },
    {
     "name": "stderr",
     "output_type": "stream",
     "text": [
      "/var/folders/z3/zc5j75dj0qn_z2sp8qf47q340000gn/T/ipykernel_70117/652174667.py:8: ResourceWarning: unclosed <socket.socket fd=97, family=AddressFamily.AF_INET, type=SocketKind.SOCK_STREAM, proto=6, laddr=('127.0.0.1', 60241), raddr=('127.0.0.1', 11434)>\n",
      "  analyzer = GraphRAGSystem(row[\"question\"])\n",
      "ResourceWarning: Enable tracemalloc to get the object allocation traceback\n"
     ]
    },
    {
     "name": "stdout",
     "output_type": "stream",
     "text": [
      "Question 71: Does family history elevate AMD risk by causing retinal pigment epithelial repair? a) Yes b) No c) Sometimes d) Only with obesity\n",
      "Context: T...\n",
      "Response: a\n",
      "\n"
     ]
    },
    {
     "name": "stderr",
     "output_type": "stream",
     "text": [
      "/var/folders/z3/zc5j75dj0qn_z2sp8qf47q340000gn/T/ipykernel_70117/652174667.py:8: ResourceWarning: unclosed <socket.socket fd=97, family=AddressFamily.AF_INET, type=SocketKind.SOCK_STREAM, proto=6, laddr=('127.0.0.1', 60269), raddr=('127.0.0.1', 11434)>\n",
      "  analyzer = GraphRAGSystem(row[\"question\"])\n",
      "ResourceWarning: Enable tracemalloc to get the object allocation traceback\n"
     ]
    },
    {
     "name": "stdout",
     "output_type": "stream",
     "text": [
      "Question 72: Can anti-VEGF therapy improve wet AMD by reducing retinal pigment epithelial lipid deposits? a) Yes b) No c) Only early stages d) Only with photodynamic therapy\n",
      "Context: T...\n",
      "Response: a) Yes\n",
      "\n"
     ]
    },
    {
     "name": "stderr",
     "output_type": "stream",
     "text": [
      "/var/folders/z3/zc5j75dj0qn_z2sp8qf47q340000gn/T/ipykernel_70117/652174667.py:8: ResourceWarning: unclosed <socket.socket fd=97, family=AddressFamily.AF_INET, type=SocketKind.SOCK_STREAM, proto=6, laddr=('127.0.0.1', 60303), raddr=('127.0.0.1', 11434)>\n",
      "  analyzer = GraphRAGSystem(row[\"question\"])\n",
      "ResourceWarning: Enable tracemalloc to get the object allocation traceback\n"
     ]
    },
    {
     "name": "stdout",
     "output_type": "stream",
     "text": [
      "Question 73: Does smoking increase AMD risk by causing retinal pigment epithelial lipid regeneration? a) Yes b) No c) Only with UV exposure d) Only with high cholesterol\n",
      "Context: T...\n",
      "Response: a) Yes\n",
      "\n"
     ]
    },
    {
     "name": "stderr",
     "output_type": "stream",
     "text": [
      "/var/folders/z3/zc5j75dj0qn_z2sp8qf47q340000gn/T/ipykernel_70117/652174667.py:8: ResourceWarning: unclosed <socket.socket fd=97, family=AddressFamily.AF_INET, type=SocketKind.SOCK_STREAM, proto=6, laddr=('127.0.0.1', 60341), raddr=('127.0.0.1', 11434)>\n",
      "  analyzer = GraphRAGSystem(row[\"question\"])\n",
      "ResourceWarning: Enable tracemalloc to get the object allocation traceback\n"
     ]
    },
    {
     "name": "stdout",
     "output_type": "stream",
     "text": [
      "Question 74: Can wet AMD impair driving by inducing retinal pigment epithelial edema? a) Yes b) No c) Only with drusen d) Only with smoking\n",
      "Context: T...\n",
      "Response: a) Yes\n",
      "\n"
     ]
    },
    {
     "name": "stderr",
     "output_type": "stream",
     "text": [
      "/var/folders/z3/zc5j75dj0qn_z2sp8qf47q340000gn/T/ipykernel_70117/652174667.py:8: ResourceWarning: unclosed <socket.socket fd=97, family=AddressFamily.AF_INET, type=SocketKind.SOCK_STREAM, proto=6, laddr=('127.0.0.1', 60374), raddr=('127.0.0.1', 11434)>\n",
      "  analyzer = GraphRAGSystem(row[\"question\"])\n",
      "ResourceWarning: Enable tracemalloc to get the object allocation traceback\n"
     ]
    },
    {
     "name": "stdout",
     "output_type": "stream",
     "text": [
      "Question 75: Does high cholesterol exacerbate AMD by causing retinal pigment epithelial lipid repair? a) Yes b) No c) Only with diabetes d) Only with hypertension\n",
      "Context: T...\n",
      "Response: a) Yes\n",
      "\n"
     ]
    },
    {
     "name": "stderr",
     "output_type": "stream",
     "text": [
      "/var/folders/z3/zc5j75dj0qn_z2sp8qf47q340000gn/T/ipykernel_70117/652174667.py:8: ResourceWarning: unclosed <socket.socket fd=97, family=AddressFamily.AF_INET, type=SocketKind.SOCK_STREAM, proto=6, laddr=('127.0.0.1', 60402), raddr=('127.0.0.1', 11434)>\n",
      "  analyzer = GraphRAGSystem(row[\"question\"])\n",
      "ResourceWarning: Enable tracemalloc to get the object allocation traceback\n"
     ]
    },
    {
     "name": "stdout",
     "output_type": "stream",
     "text": [
      "Question 76: Can AREDS supplements mitigate AMD risk by reversing retinal pigment epithelial lipid accumulation? a) Yes b) No c) Partially d) Only with zinc\n",
      "Context: T...\n",
      "Response: a) Yes\n",
      "\n"
     ]
    },
    {
     "name": "stderr",
     "output_type": "stream",
     "text": [
      "/var/folders/z3/zc5j75dj0qn_z2sp8qf47q340000gn/T/ipykernel_70117/652174667.py:8: ResourceWarning: unclosed <socket.socket fd=97, family=AddressFamily.AF_INET, type=SocketKind.SOCK_STREAM, proto=6, laddr=('127.0.0.1', 60440), raddr=('127.0.0.1', 11434)>\n",
      "  analyzer = GraphRAGSystem(row[\"question\"])\n",
      "ResourceWarning: Enable tracemalloc to get the object allocation traceback\n"
     ]
    },
    {
     "name": "stdout",
     "output_type": "stream",
     "text": [
      "Question 77: Does wet AMD cause depth perception issues by inducing retinal pigment epithelial lipid regeneration? a) Yes b) No c) Sometimes d) Only late stages\n",
      "Context: T...\n",
      "Response: a) Yes.\n",
      "\n"
     ]
    },
    {
     "name": "stderr",
     "output_type": "stream",
     "text": [
      "/var/folders/z3/zc5j75dj0qn_z2sp8qf47q340000gn/T/ipykernel_70117/652174667.py:8: ResourceWarning: unclosed <socket.socket fd=97, family=AddressFamily.AF_INET, type=SocketKind.SOCK_STREAM, proto=6, laddr=('127.0.0.1', 60473), raddr=('127.0.0.1', 11434)>\n",
      "  analyzer = GraphRAGSystem(row[\"question\"])\n",
      "ResourceWarning: Enable tracemalloc to get the object allocation traceback\n"
     ]
    },
    {
     "name": "stdout",
     "output_type": "stream",
     "text": [
      "Question 78: Can obesity worsen AMD by increasing retinal pigment epithelial scarring? a) Yes b) No c) Only with diabetes d) Only with smoking\n",
      "Context: O...\n",
      "Response: a) Yes\n",
      "\n"
     ]
    },
    {
     "name": "stderr",
     "output_type": "stream",
     "text": [
      "/var/folders/z3/zc5j75dj0qn_z2sp8qf47q340000gn/T/ipykernel_70117/652174667.py:8: ResourceWarning: unclosed <socket.socket fd=97, family=AddressFamily.AF_INET, type=SocketKind.SOCK_STREAM, proto=6, laddr=('127.0.0.1', 60502), raddr=('127.0.0.1', 11434)>\n",
      "  analyzer = GraphRAGSystem(row[\"question\"])\n",
      "ResourceWarning: Enable tracemalloc to get the object allocation traceback\n"
     ]
    },
    {
     "name": "stdout",
     "output_type": "stream",
     "text": [
      "Question 79: Does dry AMD progress to geographic atrophy due to retinal pigment epithelial edema? a) Yes b) No c) Sometimes d) Only late stages\n",
      "Context: T...\n",
      "Response: a) Yes\n",
      "\n"
     ]
    },
    {
     "name": "stderr",
     "output_type": "stream",
     "text": [
      "/var/folders/z3/zc5j75dj0qn_z2sp8qf47q340000gn/T/ipykernel_70117/652174667.py:8: ResourceWarning: unclosed <socket.socket fd=97, family=AddressFamily.AF_INET, type=SocketKind.SOCK_STREAM, proto=6, laddr=('127.0.0.1', 60542), raddr=('127.0.0.1', 11434)>\n",
      "  analyzer = GraphRAGSystem(row[\"question\"])\n",
      "ResourceWarning: Enable tracemalloc to get the object allocation traceback\n"
     ]
    },
    {
     "name": "stdout",
     "output_type": "stream",
     "text": [
      "Question 80: Can photodynamic therapy treat wet AMD by reducing retinal pigment epithelial lipid deposits? a) Yes b) No c) Only early stages d) Only with anti-VEGF\n",
      "Context: T...\n",
      "Response: a) Yes\n",
      "\n"
     ]
    },
    {
     "name": "stderr",
     "output_type": "stream",
     "text": [
      "/var/folders/z3/zc5j75dj0qn_z2sp8qf47q340000gn/T/ipykernel_70117/652174667.py:8: ResourceWarning: unclosed <socket.socket fd=97, family=AddressFamily.AF_INET, type=SocketKind.SOCK_STREAM, proto=6, laddr=('127.0.0.1', 60566), raddr=('127.0.0.1', 11434)>\n",
      "  analyzer = GraphRAGSystem(row[\"question\"])\n",
      "ResourceWarning: Enable tracemalloc to get the object allocation traceback\n"
     ]
    },
    {
     "name": "stdout",
     "output_type": "stream",
     "text": [
      "Question 81: Does UV light exposure increase AMD risk by causing retinal pigment epithelial lipid repair? a) Yes b) No c) Sometimes d) Only with light eyes\n",
      "Context: T...\n",
      "Response: a) Yes\n",
      "\n"
     ]
    },
    {
     "name": "stderr",
     "output_type": "stream",
     "text": [
      "/var/folders/z3/zc5j75dj0qn_z2sp8qf47q340000gn/T/ipykernel_70117/652174667.py:8: ResourceWarning: unclosed <socket.socket fd=97, family=AddressFamily.AF_INET, type=SocketKind.SOCK_STREAM, proto=6, laddr=('127.0.0.1', 60590), raddr=('127.0.0.1', 11434)>\n",
      "  analyzer = GraphRAGSystem(row[\"question\"])\n",
      "ResourceWarning: Enable tracemalloc to get the object allocation traceback\n"
     ]
    },
    {
     "name": "stdout",
     "output_type": "stream",
     "text": [
      "Question 82: Can wet AMD cause visual hallucinations by inducing retinal pigment epithelial lipid accumulation? a) Yes b) No c) Only with drusen d) Only with smoking\n",
      "Context: T...\n",
      "Response: a) Yes\n",
      "\n"
     ]
    },
    {
     "name": "stderr",
     "output_type": "stream",
     "text": [
      "/var/folders/z3/zc5j75dj0qn_z2sp8qf47q340000gn/T/ipykernel_70117/652174667.py:8: ResourceWarning: unclosed <socket.socket fd=97, family=AddressFamily.AF_INET, type=SocketKind.SOCK_STREAM, proto=6, laddr=('127.0.0.1', 60635), raddr=('127.0.0.1', 11434)>\n",
      "  analyzer = GraphRAGSystem(row[\"question\"])\n",
      "ResourceWarning: Enable tracemalloc to get the object allocation traceback\n"
     ]
    },
    {
     "name": "stdout",
     "output_type": "stream",
     "text": [
      "Question 83: Does hypertension contribute to AMD by causing retinal pigment epithelial lipid regeneration? a) Yes b) No c) Only with diabetes d) Only with high cholesterol\n",
      "Context: T...\n",
      "Response: The correct answer is: b) No. \n",
      "\n",
      "According to the information, there is no mention of hypertnension contributing to AMD through retinal pigment epithelial lipid regeneration. However, it does show that hypertension aggravates microvascular aging processes and causes AMD occurrence (relation 31).\n",
      "\n"
     ]
    },
    {
     "name": "stderr",
     "output_type": "stream",
     "text": [
      "/var/folders/z3/zc5j75dj0qn_z2sp8qf47q340000gn/T/ipykernel_70117/652174667.py:8: ResourceWarning: unclosed <socket.socket fd=97, family=AddressFamily.AF_INET, type=SocketKind.SOCK_STREAM, proto=6, laddr=('127.0.0.1', 60686), raddr=('127.0.0.1', 11434)>\n",
      "  analyzer = GraphRAGSystem(row[\"question\"])\n",
      "ResourceWarning: Enable tracemalloc to get the object allocation traceback\n"
     ]
    },
    {
     "name": "stdout",
     "output_type": "stream",
     "text": [
      "Question 84: Can smoking increase AMD severity by promoting retinal pigment epithelial edema? a) Yes b) No c) Only with UV exposure d) Only with obesity\n",
      "Context: T...\n",
      "Response: a) Yes\n",
      "\n"
     ]
    },
    {
     "name": "stderr",
     "output_type": "stream",
     "text": [
      "/var/folders/z3/zc5j75dj0qn_z2sp8qf47q340000gn/T/ipykernel_70117/652174667.py:8: ResourceWarning: unclosed <socket.socket fd=97, family=AddressFamily.AF_INET, type=SocketKind.SOCK_STREAM, proto=6, laddr=('127.0.0.1', 60724), raddr=('127.0.0.1', 11434)>\n",
      "  analyzer = GraphRAGSystem(row[\"question\"])\n",
      "ResourceWarning: Enable tracemalloc to get the object allocation traceback\n"
     ]
    },
    {
     "name": "stdout",
     "output_type": "stream",
     "text": [
      "Question 85: Does dry AMD impair reading by causing retinal pigment epithelial lipid deposits? a) Yes b) No c) Sometimes d) Only late stages\n",
      "Context: T...\n",
      "Response: a) Yes.\n",
      "\n"
     ]
    },
    {
     "name": "stderr",
     "output_type": "stream",
     "text": [
      "/var/folders/z3/zc5j75dj0qn_z2sp8qf47q340000gn/T/ipykernel_70117/652174667.py:8: ResourceWarning: unclosed <socket.socket fd=97, family=AddressFamily.AF_INET, type=SocketKind.SOCK_STREAM, proto=6, laddr=('127.0.0.1', 60748), raddr=('127.0.0.1', 11434)>\n",
      "  analyzer = GraphRAGSystem(row[\"question\"])\n",
      "ResourceWarning: Enable tracemalloc to get the object allocation traceback\n"
     ]
    },
    {
     "name": "stdout",
     "output_type": "stream",
     "text": [
      "Question 86: Can OCT diagnose wet AMD by detecting retinal pigment epithelial edema? a) Yes b) No c) Only late stages d) Only with drusen\n",
      "Context: T...\n",
      "Response: a) Yes\n",
      "\n"
     ]
    },
    {
     "name": "stderr",
     "output_type": "stream",
     "text": [
      "/var/folders/z3/zc5j75dj0qn_z2sp8qf47q340000gn/T/ipykernel_70117/652174667.py:8: ResourceWarning: unclosed <socket.socket fd=97, family=AddressFamily.AF_INET, type=SocketKind.SOCK_STREAM, proto=6, laddr=('127.0.0.1', 60769), raddr=('127.0.0.1', 11434)>\n",
      "  analyzer = GraphRAGSystem(row[\"question\"])\n",
      "ResourceWarning: Enable tracemalloc to get the object allocation traceback\n"
     ]
    },
    {
     "name": "stdout",
     "output_type": "stream",
     "text": [
      "Question 87: Does diabetes increase AMD risk by causing retinal pigment epithelial lipid regeneration? a) Yes b) No c) Only with hypertension d) Only with smoking\n",
      "Context: T...\n",
      "Response: a) Yes\n",
      "\n"
     ]
    },
    {
     "name": "stderr",
     "output_type": "stream",
     "text": [
      "/var/folders/z3/zc5j75dj0qn_z2sp8qf47q340000gn/T/ipykernel_70117/652174667.py:8: ResourceWarning: unclosed <socket.socket fd=97, family=AddressFamily.AF_INET, type=SocketKind.SOCK_STREAM, proto=6, laddr=('127.0.0.1', 60799), raddr=('127.0.0.1', 11434)>\n",
      "  analyzer = GraphRAGSystem(row[\"question\"])\n",
      "ResourceWarning: Enable tracemalloc to get the object allocation traceback\n"
     ]
    },
    {
     "name": "stdout",
     "output_type": "stream",
     "text": [
      "Question 88: Can wet AMD cause sudden vision changes by inducing retinal pigment epithelial scarring? a) Yes b) No c) Only with drusen d) Only with UV exposure\n",
      "Context: T...\n",
      "Response: a) Yes\n",
      "\n"
     ]
    },
    {
     "name": "stderr",
     "output_type": "stream",
     "text": [
      "/var/folders/z3/zc5j75dj0qn_z2sp8qf47q340000gn/T/ipykernel_70117/652174667.py:8: ResourceWarning: unclosed <socket.socket fd=97, family=AddressFamily.AF_INET, type=SocketKind.SOCK_STREAM, proto=6, laddr=('127.0.0.1', 60846), raddr=('127.0.0.1', 11434)>\n",
      "  analyzer = GraphRAGSystem(row[\"question\"])\n",
      "ResourceWarning: Enable tracemalloc to get the object allocation traceback\n"
     ]
    },
    {
     "name": "stdout",
     "output_type": "stream",
     "text": [
      "Question 89: Does family history elevate AMD risk by causing retinal pigment epithelial lipid regeneration? a) Yes b) No c) Sometimes d) Only with obesity\n",
      "Context: T...\n",
      "Response: a) Yes\n",
      "\n"
     ]
    },
    {
     "name": "stderr",
     "output_type": "stream",
     "text": [
      "/var/folders/z3/zc5j75dj0qn_z2sp8qf47q340000gn/T/ipykernel_70117/652174667.py:8: ResourceWarning: unclosed <socket.socket fd=97, family=AddressFamily.AF_INET, type=SocketKind.SOCK_STREAM, proto=6, laddr=('127.0.0.1', 60880), raddr=('127.0.0.1', 11434)>\n",
      "  analyzer = GraphRAGSystem(row[\"question\"])\n",
      "ResourceWarning: Enable tracemalloc to get the object allocation traceback\n"
     ]
    },
    {
     "name": "stdout",
     "output_type": "stream",
     "text": [
      "Question 90: Can anti-VEGF therapy improve wet AMD by reducing retinal pigment epithelial lipid accumulation? a) Yes b) No c) Only early stages d) Only with photodynamic therapy\n",
      "Context: T...\n",
      "Response: a) Yes\n",
      "\n"
     ]
    },
    {
     "name": "stderr",
     "output_type": "stream",
     "text": [
      "/var/folders/z3/zc5j75dj0qn_z2sp8qf47q340000gn/T/ipykernel_70117/652174667.py:8: ResourceWarning: unclosed <socket.socket fd=97, family=AddressFamily.AF_INET, type=SocketKind.SOCK_STREAM, proto=6, laddr=('127.0.0.1', 60920), raddr=('127.0.0.1', 11434)>\n",
      "  analyzer = GraphRAGSystem(row[\"question\"])\n",
      "ResourceWarning: Enable tracemalloc to get the object allocation traceback\n"
     ]
    },
    {
     "name": "stdout",
     "output_type": "stream",
     "text": [
      "Question 91: Does smoking increase AMD risk by causing retinal pigment epithelial lipid repair? a) Yes b) No c) Only with UV exposure d) Only with high cholesterol\n",
      "Context: T...\n",
      "Response: a) Yes.\n",
      "\n"
     ]
    },
    {
     "name": "stderr",
     "output_type": "stream",
     "text": [
      "/var/folders/z3/zc5j75dj0qn_z2sp8qf47q340000gn/T/ipykernel_70117/652174667.py:8: ResourceWarning: unclosed <socket.socket fd=97, family=AddressFamily.AF_INET, type=SocketKind.SOCK_STREAM, proto=6, laddr=('127.0.0.1', 60975), raddr=('127.0.0.1', 11434)>\n",
      "  analyzer = GraphRAGSystem(row[\"question\"])\n",
      "ResourceWarning: Enable tracemalloc to get the object allocation traceback\n"
     ]
    },
    {
     "name": "stdout",
     "output_type": "stream",
     "text": [
      "Question 92: Does smoking exacerbate wet AMD by increasing choroidal neovascularization? a) Yes b) No c) Only with UV exposure d) Only with obesity\n",
      "Context: T...\n",
      "Response: a) Yes\n",
      "\n"
     ]
    },
    {
     "name": "stderr",
     "output_type": "stream",
     "text": [
      "/var/folders/z3/zc5j75dj0qn_z2sp8qf47q340000gn/T/ipykernel_70117/652174667.py:8: ResourceWarning: unclosed <socket.socket fd=97, family=AddressFamily.AF_INET, type=SocketKind.SOCK_STREAM, proto=6, laddr=('127.0.0.1', 61012), raddr=('127.0.0.1', 11434)>\n",
      "  analyzer = GraphRAGSystem(row[\"question\"])\n",
      "ResourceWarning: Enable tracemalloc to get the object allocation traceback\n"
     ]
    },
    {
     "name": "stdout",
     "output_type": "stream",
     "text": [
      "Question 93: Can dry AMD progress to wet AMD due to excessive retinal pigment epithelial lipid deposits? a) Yes b) No c) Only with smoking d) Only with diabetes\n",
      "Context: T...\n",
      "Response: a\n",
      "\n"
     ]
    },
    {
     "name": "stderr",
     "output_type": "stream",
     "text": [
      "/var/folders/z3/zc5j75dj0qn_z2sp8qf47q340000gn/T/ipykernel_70117/652174667.py:8: ResourceWarning: unclosed <socket.socket fd=97, family=AddressFamily.AF_INET, type=SocketKind.SOCK_STREAM, proto=6, laddr=('127.0.0.1', 61047), raddr=('127.0.0.1', 11434)>\n",
      "  analyzer = GraphRAGSystem(row[\"question\"])\n",
      "ResourceWarning: Enable tracemalloc to get the object allocation traceback\n"
     ]
    },
    {
     "name": "stdout",
     "output_type": "stream",
     "text": [
      "Question 94: Does family history increase AMD risk by predisposing to retinal pigment epithelial atrophy? a) Yes b) No c) Only in women d) Only with hypertension\n",
      "Context: T...\n",
      "Response: a) Yes\n",
      "\n"
     ]
    },
    {
     "name": "stderr",
     "output_type": "stream",
     "text": [
      "/var/folders/z3/zc5j75dj0qn_z2sp8qf47q340000gn/T/ipykernel_70117/652174667.py:8: ResourceWarning: unclosed <socket.socket fd=97, family=AddressFamily.AF_INET, type=SocketKind.SOCK_STREAM, proto=6, laddr=('127.0.0.1', 61087), raddr=('127.0.0.1', 11434)>\n",
      "  analyzer = GraphRAGSystem(row[\"question\"])\n",
      "ResourceWarning: Enable tracemalloc to get the object allocation traceback\n"
     ]
    },
    {
     "name": "stdout",
     "output_type": "stream",
     "text": [
      "Question 95: Can anti-VEGF injections treat wet AMD by reversing retinal pigment epithelial damage? a) Yes b) No c) Partially d) Only early stages\n",
      "Context: T...\n",
      "Response: b\n",
      "\n"
     ]
    },
    {
     "name": "stderr",
     "output_type": "stream",
     "text": [
      "/var/folders/z3/zc5j75dj0qn_z2sp8qf47q340000gn/T/ipykernel_70117/652174667.py:8: ResourceWarning: unclosed <socket.socket fd=97, family=AddressFamily.AF_INET, type=SocketKind.SOCK_STREAM, proto=6, laddr=('127.0.0.1', 61118), raddr=('127.0.0.1', 11434)>\n",
      "  analyzer = GraphRAGSystem(row[\"question\"])\n",
      "ResourceWarning: Enable tracemalloc to get the object allocation traceback\n"
     ]
    },
    {
     "name": "stdout",
     "output_type": "stream",
     "text": [
      "Question 96: Does high blood pressure worsen AMD by causing retinal pigment epithelial hemorrhages? a) Yes b) No c) Only with diabetes d) Only with smoking\n",
      "Context: H...\n",
      "Response: a) Yes\n",
      "\n"
     ]
    },
    {
     "name": "stderr",
     "output_type": "stream",
     "text": [
      "/var/folders/z3/zc5j75dj0qn_z2sp8qf47q340000gn/T/ipykernel_70117/652174667.py:8: ResourceWarning: unclosed <socket.socket fd=97, family=AddressFamily.AF_INET, type=SocketKind.SOCK_STREAM, proto=6, laddr=('127.0.0.1', 61151), raddr=('127.0.0.1', 11434)>\n",
      "  analyzer = GraphRAGSystem(row[\"question\"])\n",
      "ResourceWarning: Enable tracemalloc to get the object allocation traceback\n"
     ]
    },
    {
     "name": "stdout",
     "output_type": "stream",
     "text": [
      "Question 97: Can the Amsler grid detect wet AMD by assessing retinal pigment epithelial lipid changes? a) Yes b) No c) Sometimes d) Only late stages\n",
      "Context: T...\n",
      "Response: a) Yes\n",
      "\n"
     ]
    },
    {
     "name": "stderr",
     "output_type": "stream",
     "text": [
      "/var/folders/z3/zc5j75dj0qn_z2sp8qf47q340000gn/T/ipykernel_70117/652174667.py:8: ResourceWarning: unclosed <socket.socket fd=97, family=AddressFamily.AF_INET, type=SocketKind.SOCK_STREAM, proto=6, laddr=('127.0.0.1', 61192), raddr=('127.0.0.1', 11434)>\n",
      "  analyzer = GraphRAGSystem(row[\"question\"])\n",
      "ResourceWarning: Enable tracemalloc to get the object allocation traceback\n"
     ]
    },
    {
     "name": "stdout",
     "output_type": "stream",
     "text": [
      "Question 98: Does UV light exposure accelerate AMD by causing retinal pigment epithelial swelling? a) Yes b) No c) Only with light eyes d) Only with smoking\n",
      "Context: T...\n",
      "Response: a) Yes\n",
      "\n"
     ]
    },
    {
     "name": "stderr",
     "output_type": "stream",
     "text": [
      "/var/folders/z3/zc5j75dj0qn_z2sp8qf47q340000gn/T/ipykernel_70117/652174667.py:8: ResourceWarning: unclosed <socket.socket fd=97, family=AddressFamily.AF_INET, type=SocketKind.SOCK_STREAM, proto=6, laddr=('127.0.0.1', 61221), raddr=('127.0.0.1', 11434)>\n",
      "  analyzer = GraphRAGSystem(row[\"question\"])\n",
      "ResourceWarning: Enable tracemalloc to get the object allocation traceback\n"
     ]
    },
    {
     "name": "stdout",
     "output_type": "stream",
     "text": [
      "Question 99: Can AREDS supplements slow dry AMD by repairing retinal pigment epithelial lipid accumulation? a) Yes b) No c) Partially d) Only with zinc\n",
      "Context: T...\n",
      "Response: a) Yes\n",
      "\n"
     ]
    },
    {
     "name": "stderr",
     "output_type": "stream",
     "text": [
      "/var/folders/z3/zc5j75dj0qn_z2sp8qf47q340000gn/T/ipykernel_70117/652174667.py:8: ResourceWarning: unclosed <socket.socket fd=97, family=AddressFamily.AF_INET, type=SocketKind.SOCK_STREAM, proto=6, laddr=('127.0.0.1', 61259), raddr=('127.0.0.1', 11434)>\n",
      "  analyzer = GraphRAGSystem(row[\"question\"])\n",
      "ResourceWarning: Enable tracemalloc to get the object allocation traceback\n"
     ]
    },
    {
     "name": "stdout",
     "output_type": "stream",
     "text": [
      "Question 100: Does obesity heighten AMD risk by promoting retinal pigment epithelial scarring? a) Yes b) No c) Only with diabetes d) Only with hypertension\n",
      "Context: S...\n",
      "Response: A\n",
      "\n"
     ]
    },
    {
     "name": "stderr",
     "output_type": "stream",
     "text": [
      "/var/folders/z3/zc5j75dj0qn_z2sp8qf47q340000gn/T/ipykernel_70117/652174667.py:8: ResourceWarning: unclosed <socket.socket fd=97, family=AddressFamily.AF_INET, type=SocketKind.SOCK_STREAM, proto=6, laddr=('127.0.0.1', 61297), raddr=('127.0.0.1', 11434)>\n",
      "  analyzer = GraphRAGSystem(row[\"question\"])\n",
      "ResourceWarning: Enable tracemalloc to get the object allocation traceback\n"
     ]
    },
    {
     "name": "stdout",
     "output_type": "stream",
     "text": [
      "Question 101: Can wet AMD cause sudden vision loss by inducing retinal pigment epithelial detachment? a) Yes b) No c) Only with drusen d) Only with UV exposure\n",
      "Context: A...\n",
      "Response: a) Yes.\n",
      "\n"
     ]
    },
    {
     "name": "stderr",
     "output_type": "stream",
     "text": [
      "/var/folders/z3/zc5j75dj0qn_z2sp8qf47q340000gn/T/ipykernel_70117/652174667.py:8: ResourceWarning: unclosed <socket.socket fd=97, family=AddressFamily.AF_INET, type=SocketKind.SOCK_STREAM, proto=6, laddr=('127.0.0.1', 61343), raddr=('127.0.0.1', 11434)>\n",
      "  analyzer = GraphRAGSystem(row[\"question\"])\n",
      "ResourceWarning: Enable tracemalloc to get the object allocation traceback\n"
     ]
    },
    {
     "name": "stdout",
     "output_type": "stream",
     "text": [
      "Question 102: Does diabetes increase AMD risk by causing retinal pigment epithelial regeneration? a) Yes b) No c) Only with smoking d) Only with obesity\n",
      "Context: T...\n",
      "Response: a) Yes\n",
      "\n"
     ]
    },
    {
     "name": "stderr",
     "output_type": "stream",
     "text": [
      "/var/folders/z3/zc5j75dj0qn_z2sp8qf47q340000gn/T/ipykernel_70117/652174667.py:8: ResourceWarning: unclosed <socket.socket fd=97, family=AddressFamily.AF_INET, type=SocketKind.SOCK_STREAM, proto=6, laddr=('127.0.0.1', 61378), raddr=('127.0.0.1', 11434)>\n",
      "  analyzer = GraphRAGSystem(row[\"question\"])\n",
      "ResourceWarning: Enable tracemalloc to get the object allocation traceback\n"
     ]
    },
    {
     "name": "stdout",
     "output_type": "stream",
     "text": [
      "Question 103: Can OCT diagnose wet AMD by visualizing subretinal fluid leakage? a) Yes b) No c) Only late stages d) Only with drusen\n",
      "Context: T...\n",
      "Response: a) Yes\n",
      "\n"
     ]
    },
    {
     "name": "stderr",
     "output_type": "stream",
     "text": [
      "/var/folders/z3/zc5j75dj0qn_z2sp8qf47q340000gn/T/ipykernel_70117/652174667.py:8: ResourceWarning: unclosed <socket.socket fd=97, family=AddressFamily.AF_INET, type=SocketKind.SOCK_STREAM, proto=6, laddr=('127.0.0.1', 61422), raddr=('127.0.0.1', 11434)>\n",
      "  analyzer = GraphRAGSystem(row[\"question\"])\n",
      "ResourceWarning: Enable tracemalloc to get the object allocation traceback\n"
     ]
    },
    {
     "name": "stdout",
     "output_type": "stream",
     "text": [
      "Question 104: Does smoking worsen dry AMD by increasing retinal pigment epithelial oxidative stress? a) Yes b) No c) Only with UV exposure d) Only with high cholesterol\n",
      "Context: T...\n",
      "Response: a) Yes.\n",
      "\n"
     ]
    },
    {
     "name": "stderr",
     "output_type": "stream",
     "text": [
      "/var/folders/z3/zc5j75dj0qn_z2sp8qf47q340000gn/T/ipykernel_70117/652174667.py:8: ResourceWarning: unclosed <socket.socket fd=97, family=AddressFamily.AF_INET, type=SocketKind.SOCK_STREAM, proto=6, laddr=('127.0.0.1', 61452), raddr=('127.0.0.1', 11434)>\n",
      "  analyzer = GraphRAGSystem(row[\"question\"])\n",
      "ResourceWarning: Enable tracemalloc to get the object allocation traceback\n"
     ]
    },
    {
     "name": "stdout",
     "output_type": "stream",
     "text": [
      "Question 105: Can photodynamic therapy manage wet AMD by reversing retinal pigment epithelial atrophy? a) Yes b) No c) Sometimes d) Only early stages\n",
      "Context: T...\n",
      "Response: a) Yes.\n",
      "\n"
     ]
    },
    {
     "name": "stderr",
     "output_type": "stream",
     "text": [
      "/var/folders/z3/zc5j75dj0qn_z2sp8qf47q340000gn/T/ipykernel_70117/652174667.py:8: ResourceWarning: unclosed <socket.socket fd=97, family=AddressFamily.AF_INET, type=SocketKind.SOCK_STREAM, proto=6, laddr=('127.0.0.1', 61489), raddr=('127.0.0.1', 11434)>\n",
      "  analyzer = GraphRAGSystem(row[\"question\"])\n",
      "ResourceWarning: Enable tracemalloc to get the object allocation traceback\n"
     ]
    },
    {
     "name": "stdout",
     "output_type": "stream",
     "text": [
      "Question 106: Does a diet high in leafy greens reduce AMD progression by eliminating retinal pigment epithelial lipid deposits? a) Yes b) No c) Partially d) Only with supplements\n",
      "Context: T...\n",
      "Response: a) Yes\n",
      "\n"
     ]
    },
    {
     "name": "stderr",
     "output_type": "stream",
     "text": [
      "/var/folders/z3/zc5j75dj0qn_z2sp8qf47q340000gn/T/ipykernel_70117/652174667.py:8: ResourceWarning: unclosed <socket.socket fd=97, family=AddressFamily.AF_INET, type=SocketKind.SOCK_STREAM, proto=6, laddr=('127.0.0.1', 61523), raddr=('127.0.0.1', 11434)>\n",
      "  analyzer = GraphRAGSystem(row[\"question\"])\n",
      "ResourceWarning: Enable tracemalloc to get the object allocation traceback\n"
     ]
    },
    {
     "name": "stdout",
     "output_type": "stream",
     "text": [
      "Question 107: Can wet AMD lead to legal blindness by causing retinal pigment epithelial repair? a) Yes b) No c) Sometimes d) Only late stages\n",
      "Context: T...\n",
      "Response: a) Yes.\n",
      "\n"
     ]
    },
    {
     "name": "stderr",
     "output_type": "stream",
     "text": [
      "/var/folders/z3/zc5j75dj0qn_z2sp8qf47q340000gn/T/ipykernel_70117/652174667.py:8: ResourceWarning: unclosed <socket.socket fd=97, family=AddressFamily.AF_INET, type=SocketKind.SOCK_STREAM, proto=6, laddr=('127.0.0.1', 61549), raddr=('127.0.0.1', 11434)>\n",
      "  analyzer = GraphRAGSystem(row[\"question\"])\n",
      "ResourceWarning: Enable tracemalloc to get the object allocation traceback\n"
     ]
    },
    {
     "name": "stdout",
     "output_type": "stream",
     "text": [
      "Question 108: Does high cholesterol increase AMD risk by causing retinal pigment epithelial lipid accumulation? a) Yes b) No c) Only with diabetes d) Only with smoking\n",
      "Context: H...\n",
      "Response: a) Yes\n",
      "\n"
     ]
    },
    {
     "name": "stderr",
     "output_type": "stream",
     "text": [
      "/var/folders/z3/zc5j75dj0qn_z2sp8qf47q340000gn/T/ipykernel_70117/652174667.py:8: ResourceWarning: unclosed <socket.socket fd=97, family=AddressFamily.AF_INET, type=SocketKind.SOCK_STREAM, proto=6, laddr=('127.0.0.1', 61583), raddr=('127.0.0.1', 11434)>\n",
      "  analyzer = GraphRAGSystem(row[\"question\"])\n",
      "ResourceWarning: Enable tracemalloc to get the object allocation traceback\n"
     ]
    },
    {
     "name": "stdout",
     "output_type": "stream",
     "text": [
      "Question 109: Can dry AMD transition to wet AMD due to excessive choroidal neovascular activity? a) Yes b) No c) Only with drusen d) Only with UV exposure\n",
      "Context: T...\n",
      "Response: a) Yes\n",
      "\n"
     ]
    },
    {
     "name": "stderr",
     "output_type": "stream",
     "text": [
      "/var/folders/z3/zc5j75dj0qn_z2sp8qf47q340000gn/T/ipykernel_70117/652174667.py:8: ResourceWarning: unclosed <socket.socket fd=97, family=AddressFamily.AF_INET, type=SocketKind.SOCK_STREAM, proto=6, laddr=('127.0.0.1', 61627), raddr=('127.0.0.1', 11434)>\n",
      "  analyzer = GraphRAGSystem(row[\"question\"])\n",
      "ResourceWarning: Enable tracemalloc to get the object allocation traceback\n"
     ]
    },
    {
     "name": "stdout",
     "output_type": "stream",
     "text": [
      "Question 110: Does AMD impair color perception by inducing retinal pigment epithelial regeneration? a) Yes b) No c) Sometimes d) Only wet AMD\n",
      "Context: T...\n",
      "Response: a) Yes.\n",
      "\n"
     ]
    },
    {
     "name": "stderr",
     "output_type": "stream",
     "text": [
      "/var/folders/z3/zc5j75dj0qn_z2sp8qf47q340000gn/T/ipykernel_70117/652174667.py:8: ResourceWarning: unclosed <socket.socket fd=97, family=AddressFamily.AF_INET, type=SocketKind.SOCK_STREAM, proto=6, laddr=('127.0.0.1', 61655), raddr=('127.0.0.1', 11434)>\n",
      "  analyzer = GraphRAGSystem(row[\"question\"])\n",
      "ResourceWarning: Enable tracemalloc to get the object allocation traceback\n"
     ]
    },
    {
     "name": "stdout",
     "output_type": "stream",
     "text": [
      "Question 111: Can anti-VEGF therapy stabilize wet AMD by reducing retinal pigment epithelial edema? a) Yes b) No c) Only early stages d) Only with surgery\n",
      "Context: T...\n",
      "Response: a) Yes\n",
      "\n"
     ]
    },
    {
     "name": "stderr",
     "output_type": "stream",
     "text": [
      "/var/folders/z3/zc5j75dj0qn_z2sp8qf47q340000gn/T/ipykernel_70117/652174667.py:8: ResourceWarning: unclosed <socket.socket fd=97, family=AddressFamily.AF_INET, type=SocketKind.SOCK_STREAM, proto=6, laddr=('127.0.0.1', 61685), raddr=('127.0.0.1', 11434)>\n",
      "  analyzer = GraphRAGSystem(row[\"question\"])\n",
      "ResourceWarning: Enable tracemalloc to get the object allocation traceback\n"
     ]
    },
    {
     "name": "stdout",
     "output_type": "stream",
     "text": [
      "Question 112: Does family history increase AMD risk by causing retinal pigment epithelial hemorrhages? a) Yes b) No c) Sometimes d) Only with smoking\n",
      "Context: T...\n",
      "Response: a) Yes\n",
      "\n"
     ]
    },
    {
     "name": "stderr",
     "output_type": "stream",
     "text": [
      "/var/folders/z3/zc5j75dj0qn_z2sp8qf47q340000gn/T/ipykernel_70117/652174667.py:8: ResourceWarning: unclosed <socket.socket fd=97, family=AddressFamily.AF_INET, type=SocketKind.SOCK_STREAM, proto=6, laddr=('127.0.0.1', 61723), raddr=('127.0.0.1', 11434)>\n",
      "  analyzer = GraphRAGSystem(row[\"question\"])\n",
      "ResourceWarning: Enable tracemalloc to get the object allocation traceback\n"
     ]
    },
    {
     "name": "stdout",
     "output_type": "stream",
     "text": [
      "Question 113: Can wet AMD distort vision by causing retinal pigment epithelial lipid accumulation? a) Yes b) No c) Only with drusen d) Only with hypertension\n",
      "Context: T...\n",
      "Response: a) Yes\n",
      "\n"
     ]
    },
    {
     "name": "stderr",
     "output_type": "stream",
     "text": [
      "/var/folders/z3/zc5j75dj0qn_z2sp8qf47q340000gn/T/ipykernel_70117/652174667.py:8: ResourceWarning: unclosed <socket.socket fd=97, family=AddressFamily.AF_INET, type=SocketKind.SOCK_STREAM, proto=6, laddr=('127.0.0.1', 61772), raddr=('127.0.0.1', 11434)>\n",
      "  analyzer = GraphRAGSystem(row[\"question\"])\n",
      "ResourceWarning: Enable tracemalloc to get the object allocation traceback\n"
     ]
    },
    {
     "name": "stdout",
     "output_type": "stream",
     "text": [
      "Question 114: Does dry AMD progress slowly because it avoids retinal pigment epithelial swelling? a) Yes b) No c) Sometimes d) Only early stages\n",
      "Context: T...\n",
      "Response: a) Yes\n",
      "\n"
     ]
    },
    {
     "name": "stderr",
     "output_type": "stream",
     "text": [
      "/var/folders/z3/zc5j75dj0qn_z2sp8qf47q340000gn/T/ipykernel_70117/652174667.py:8: ResourceWarning: unclosed <socket.socket fd=97, family=AddressFamily.AF_INET, type=SocketKind.SOCK_STREAM, proto=6, laddr=('127.0.0.1', 61798), raddr=('127.0.0.1', 11434)>\n",
      "  analyzer = GraphRAGSystem(row[\"question\"])\n",
      "ResourceWarning: Enable tracemalloc to get the object allocation traceback\n"
     ]
    },
    {
     "name": "stdout",
     "output_type": "stream",
     "text": [
      "Question 115: Can high blood pressure exacerbate AMD by causing retinal pigment epithelial lipid repair? a) Yes b) No c) Only with diabetes d) Only with obesity\n",
      "Context: H...\n",
      "Response: a) Yes\n",
      "\n"
     ]
    },
    {
     "name": "stderr",
     "output_type": "stream",
     "text": [
      "/var/folders/z3/zc5j75dj0qn_z2sp8qf47q340000gn/T/ipykernel_70117/652174667.py:8: ResourceWarning: unclosed <socket.socket fd=97, family=AddressFamily.AF_INET, type=SocketKind.SOCK_STREAM, proto=6, laddr=('127.0.0.1', 61824), raddr=('127.0.0.1', 11434)>\n",
      "  analyzer = GraphRAGSystem(row[\"question\"])\n",
      "ResourceWarning: Enable tracemalloc to get the object allocation traceback\n"
     ]
    },
    {
     "name": "stdout",
     "output_type": "stream",
     "text": [
      "Question 116: Does smoking worsen AMD by increasing retinal pigment epithelial scarring? a) Yes b) No c) Only with UV exposure d) Only with high cholesterol\n",
      "Context: T...\n",
      "Response: a) Yes.\n",
      "\n"
     ]
    },
    {
     "name": "stderr",
     "output_type": "stream",
     "text": [
      "/var/folders/z3/zc5j75dj0qn_z2sp8qf47q340000gn/T/ipykernel_70117/652174667.py:8: ResourceWarning: unclosed <socket.socket fd=97, family=AddressFamily.AF_INET, type=SocketKind.SOCK_STREAM, proto=6, laddr=('127.0.0.1', 61859), raddr=('127.0.0.1', 11434)>\n",
      "  analyzer = GraphRAGSystem(row[\"question\"])\n",
      "ResourceWarning: Enable tracemalloc to get the object allocation traceback\n"
     ]
    },
    {
     "name": "stdout",
     "output_type": "stream",
     "text": [
      "Question 117: Can OCT detect early dry AMD by identifying retinal pigment epithelial thinning? a) Yes b) No c) Only late stages d) Only with fluid\n",
      "Context: T...\n",
      "Response: a) Yes\n",
      "\n"
     ]
    },
    {
     "name": "stderr",
     "output_type": "stream",
     "text": [
      "/var/folders/z3/zc5j75dj0qn_z2sp8qf47q340000gn/T/ipykernel_70117/652174667.py:8: ResourceWarning: unclosed <socket.socket fd=97, family=AddressFamily.AF_INET, type=SocketKind.SOCK_STREAM, proto=6, laddr=('127.0.0.1', 61895), raddr=('127.0.0.1', 11434)>\n",
      "  analyzer = GraphRAGSystem(row[\"question\"])\n",
      "ResourceWarning: Enable tracemalloc to get the object allocation traceback\n"
     ]
    },
    {
     "name": "stdout",
     "output_type": "stream",
     "text": [
      "Question 118: Does wet AMD treatment with anti-VEGF injections work by reversing retinal pigment epithelial lipid deposits? a) Yes b) No c) Partially d) Only early stages\n",
      "Context: T...\n",
      "Response: b\n",
      "\n"
     ]
    },
    {
     "name": "stderr",
     "output_type": "stream",
     "text": [
      "/var/folders/z3/zc5j75dj0qn_z2sp8qf47q340000gn/T/ipykernel_70117/652174667.py:8: ResourceWarning: unclosed <socket.socket fd=97, family=AddressFamily.AF_INET, type=SocketKind.SOCK_STREAM, proto=6, laddr=('127.0.0.1', 61933), raddr=('127.0.0.1', 11434)>\n",
      "  analyzer = GraphRAGSystem(row[\"question\"])\n",
      "ResourceWarning: Enable tracemalloc to get the object allocation traceback\n"
     ]
    },
    {
     "name": "stdout",
     "output_type": "stream",
     "text": [
      "Question 119: Can diabetes contribute to AMD by increasing retinal pigment epithelial inflammation? a) Yes b) No c) Only with smoking d) Only with hypertension\n",
      "Context: T...\n",
      "Response: a) Yes\n",
      "\n"
     ]
    },
    {
     "name": "stderr",
     "output_type": "stream",
     "text": [
      "/var/folders/z3/zc5j75dj0qn_z2sp8qf47q340000gn/T/ipykernel_70117/652174667.py:8: ResourceWarning: unclosed <socket.socket fd=97, family=AddressFamily.AF_INET, type=SocketKind.SOCK_STREAM, proto=6, laddr=('127.0.0.1', 61968), raddr=('127.0.0.1', 11434)>\n",
      "  analyzer = GraphRAGSystem(row[\"question\"])\n",
      "ResourceWarning: Enable tracemalloc to get the object allocation traceback\n"
     ]
    },
    {
     "name": "stdout",
     "output_type": "stream",
     "text": [
      "Question 120: Does dry AMD progress to geographic atrophy by causing retinal pigment epithelial regeneration? a) Yes b) No c) Sometimes d) Only late stages\n",
      "Context: T...\n",
      "Response: b\n",
      "\n"
     ]
    },
    {
     "name": "stderr",
     "output_type": "stream",
     "text": [
      "/var/folders/z3/zc5j75dj0qn_z2sp8qf47q340000gn/T/ipykernel_70117/652174667.py:8: ResourceWarning: unclosed <socket.socket fd=97, family=AddressFamily.AF_INET, type=SocketKind.SOCK_STREAM, proto=6, laddr=('127.0.0.1', 62001), raddr=('127.0.0.1', 11434)>\n",
      "  analyzer = GraphRAGSystem(row[\"question\"])\n",
      "ResourceWarning: Enable tracemalloc to get the object allocation traceback\n"
     ]
    },
    {
     "name": "stdout",
     "output_type": "stream",
     "text": [
      "Question 121: Can AMD increase fall risk by impairing retinal pigment epithelial function? a) Yes b) No c) Only with wet AMD d) Only with dry AMD\n",
      "Context: T...\n",
      "Response: a) Yes\n",
      "\n"
     ]
    },
    {
     "name": "stderr",
     "output_type": "stream",
     "text": [
      "/var/folders/z3/zc5j75dj0qn_z2sp8qf47q340000gn/T/ipykernel_70117/652174667.py:8: ResourceWarning: unclosed <socket.socket fd=97, family=AddressFamily.AF_INET, type=SocketKind.SOCK_STREAM, proto=6, laddr=('127.0.0.1', 62039), raddr=('127.0.0.1', 11434)>\n",
      "  analyzer = GraphRAGSystem(row[\"question\"])\n",
      "ResourceWarning: Enable tracemalloc to get the object allocation traceback\n"
     ]
    },
    {
     "name": "stdout",
     "output_type": "stream",
     "text": [
      "Question 122: Does UV exposure accelerate AMD by causing retinal pigment epithelial hemorrhages? a) Yes b) No c) Only with smoking d) Only with light eyes\n",
      "Context: T...\n",
      "Response: a) Yes\n",
      "\n"
     ]
    },
    {
     "name": "stderr",
     "output_type": "stream",
     "text": [
      "/var/folders/z3/zc5j75dj0qn_z2sp8qf47q340000gn/T/ipykernel_70117/652174667.py:8: ResourceWarning: unclosed <socket.socket fd=97, family=AddressFamily.AF_INET, type=SocketKind.SOCK_STREAM, proto=6, laddr=('127.0.0.1', 62076), raddr=('127.0.0.1', 11434)>\n",
      "  analyzer = GraphRAGSystem(row[\"question\"])\n",
      "ResourceWarning: Enable tracemalloc to get the object allocation traceback\n"
     ]
    },
    {
     "name": "stdout",
     "output_type": "stream",
     "text": [
      "Question 123: Can wet AMD cause rapid vision loss by inducing retinal pigment epithelial atrophy? a) Yes b) No c) Only with drusen d) Only with hypertension\n",
      "Context: T...\n",
      "Response: a) Yes.\n",
      "\n"
     ]
    },
    {
     "name": "stderr",
     "output_type": "stream",
     "text": [
      "/var/folders/z3/zc5j75dj0qn_z2sp8qf47q340000gn/T/ipykernel_70117/652174667.py:8: ResourceWarning: unclosed <socket.socket fd=97, family=AddressFamily.AF_INET, type=SocketKind.SOCK_STREAM, proto=6, laddr=('127.0.0.1', 62117), raddr=('127.0.0.1', 11434)>\n",
      "  analyzer = GraphRAGSystem(row[\"question\"])\n",
      "ResourceWarning: Enable tracemalloc to get the object allocation traceback\n"
     ]
    },
    {
     "name": "stdout",
     "output_type": "stream",
     "text": [
      "Question 124: Does a diet high in antioxidants prevent AMD by reversing retinal pigment epithelial swelling? a) Yes b) No c) Partially d) Only with supplements\n",
      "Context: T...\n",
      "Response: b)\n",
      "\n"
     ]
    },
    {
     "name": "stderr",
     "output_type": "stream",
     "text": [
      "/var/folders/z3/zc5j75dj0qn_z2sp8qf47q340000gn/T/ipykernel_70117/652174667.py:8: ResourceWarning: unclosed <socket.socket fd=97, family=AddressFamily.AF_INET, type=SocketKind.SOCK_STREAM, proto=6, laddr=('127.0.0.1', 62151), raddr=('127.0.0.1', 11434)>\n",
      "  analyzer = GraphRAGSystem(row[\"question\"])\n",
      "ResourceWarning: Enable tracemalloc to get the object allocation traceback\n"
     ]
    },
    {
     "name": "stdout",
     "output_type": "stream",
     "text": [
      "Question 125: Can smoking exacerbate wet AMD by increasing retinal pigment epithelial lipid deposits? a) Yes b) No c) Only with UV exposure d) Only with obesity\n",
      "Context: T...\n",
      "Response: a) Yes.\n",
      "\n"
     ]
    },
    {
     "name": "stderr",
     "output_type": "stream",
     "text": [
      "/var/folders/z3/zc5j75dj0qn_z2sp8qf47q340000gn/T/ipykernel_70117/652174667.py:8: ResourceWarning: unclosed <socket.socket fd=97, family=AddressFamily.AF_INET, type=SocketKind.SOCK_STREAM, proto=6, laddr=('127.0.0.1', 62183), raddr=('127.0.0.1', 11434)>\n",
      "  analyzer = GraphRAGSystem(row[\"question\"])\n",
      "ResourceWarning: Enable tracemalloc to get the object allocation traceback\n"
     ]
    },
    {
     "name": "stdout",
     "output_type": "stream",
     "text": [
      "Question 126: Does dry AMD affect color perception by causing retinal pigment epithelial lipid repair? a) Yes b) No c) Sometimes d) Only late stages\n",
      "Context: T...\n",
      "Response: b\n",
      "\n"
     ]
    },
    {
     "name": "stderr",
     "output_type": "stream",
     "text": [
      "/var/folders/z3/zc5j75dj0qn_z2sp8qf47q340000gn/T/ipykernel_70117/652174667.py:8: ResourceWarning: unclosed <socket.socket fd=97, family=AddressFamily.AF_INET, type=SocketKind.SOCK_STREAM, proto=6, laddr=('127.0.0.1', 62209), raddr=('127.0.0.1', 11434)>\n",
      "  analyzer = GraphRAGSystem(row[\"question\"])\n",
      "ResourceWarning: Enable tracemalloc to get the object allocation traceback\n"
     ]
    },
    {
     "name": "stdout",
     "output_type": "stream",
     "text": [
      "Question 127: Can photodynamic therapy treat wet AMD by reducing retinal pigment epithelial scarring? a) Yes b) No c) Only early stages d) Only with anti-VEGF\n",
      "Context: T...\n",
      "Response: a) Yes\n",
      "\n"
     ]
    },
    {
     "name": "stderr",
     "output_type": "stream",
     "text": [
      "/var/folders/z3/zc5j75dj0qn_z2sp8qf47q340000gn/T/ipykernel_70117/652174667.py:8: ResourceWarning: unclosed <socket.socket fd=97, family=AddressFamily.AF_INET, type=SocketKind.SOCK_STREAM, proto=6, laddr=('127.0.0.1', 62240), raddr=('127.0.0.1', 11434)>\n",
      "  analyzer = GraphRAGSystem(row[\"question\"])\n",
      "ResourceWarning: Enable tracemalloc to get the object allocation traceback\n"
     ]
    },
    {
     "name": "stdout",
     "output_type": "stream",
     "text": [
      "Question 128: Does obesity increase AMD risk by causing retinal pigment epithelial lipid regeneration? a) Yes b) No c) Sometimes d) Only with diabetes\n",
      "Context: T...\n",
      "Response: a) Yes\n",
      "\n"
     ]
    },
    {
     "name": "stderr",
     "output_type": "stream",
     "text": [
      "/var/folders/z3/zc5j75dj0qn_z2sp8qf47q340000gn/T/ipykernel_70117/652174667.py:8: ResourceWarning: unclosed <socket.socket fd=97, family=AddressFamily.AF_INET, type=SocketKind.SOCK_STREAM, proto=6, laddr=('127.0.0.1', 62275), raddr=('127.0.0.1', 11434)>\n",
      "  analyzer = GraphRAGSystem(row[\"question\"])\n",
      "ResourceWarning: Enable tracemalloc to get the object allocation traceback\n"
     ]
    },
    {
     "name": "stdout",
     "output_type": "stream",
     "text": [
      "Question 129: Can wet AMD impair reading by causing retinal pigment epithelial edema? a) Yes b) No c) Only with drusen d) Only with smoking\n",
      "Context: T...\n",
      "Response: a) Yes.\n",
      "\n"
     ]
    },
    {
     "name": "stderr",
     "output_type": "stream",
     "text": [
      "/var/folders/z3/zc5j75dj0qn_z2sp8qf47q340000gn/T/ipykernel_70117/652174667.py:8: ResourceWarning: unclosed <socket.socket fd=97, family=AddressFamily.AF_INET, type=SocketKind.SOCK_STREAM, proto=6, laddr=('127.0.0.1', 62312), raddr=('127.0.0.1', 11434)>\n",
      "  analyzer = GraphRAGSystem(row[\"question\"])\n",
      "ResourceWarning: Enable tracemalloc to get the object allocation traceback\n"
     ]
    },
    {
     "name": "stdout",
     "output_type": "stream",
     "text": [
      "Question 130: Does high cholesterol contribute to AMD by increasing retinal pigment epithelial repair? a) Yes b) No c) Only with hypertension d) Only with diabetes\n",
      "Context: H...\n",
      "Response: a) Yes\n",
      "\n"
     ]
    },
    {
     "name": "stderr",
     "output_type": "stream",
     "text": [
      "/var/folders/z3/zc5j75dj0qn_z2sp8qf47q340000gn/T/ipykernel_70117/652174667.py:8: ResourceWarning: unclosed <socket.socket fd=97, family=AddressFamily.AF_INET, type=SocketKind.SOCK_STREAM, proto=6, laddr=('127.0.0.1', 62340), raddr=('127.0.0.1', 11434)>\n",
      "  analyzer = GraphRAGSystem(row[\"question\"])\n",
      "ResourceWarning: Enable tracemalloc to get the object allocation traceback\n"
     ]
    },
    {
     "name": "stdout",
     "output_type": "stream",
     "text": [
      "Question 131: Can AREDS supplements reduce AMD progression by reversing retinal pigment epithelial hemorrhages? a) Yes b) No c) Partially d) Only with zinc\n",
      "Context: T...\n",
      "Response: a) Yes\n",
      "\n"
     ]
    },
    {
     "name": "stderr",
     "output_type": "stream",
     "text": [
      "/var/folders/z3/zc5j75dj0qn_z2sp8qf47q340000gn/T/ipykernel_70117/652174667.py:8: ResourceWarning: unclosed <socket.socket fd=97, family=AddressFamily.AF_INET, type=SocketKind.SOCK_STREAM, proto=6, laddr=('127.0.0.1', 62375), raddr=('127.0.0.1', 11434)>\n",
      "  analyzer = GraphRAGSystem(row[\"question\"])\n",
      "ResourceWarning: Enable tracemalloc to get the object allocation traceback\n"
     ]
    },
    {
     "name": "stdout",
     "output_type": "stream",
     "text": [
      "Question 132: Does wet AMD cause blind spots by inducing retinal pigment epithelial lipid regeneration? a) Yes b) No c) Sometimes d) Only late stages\n",
      "Context: T...\n",
      "Response: a) Yes\n",
      "\n"
     ]
    },
    {
     "name": "stderr",
     "output_type": "stream",
     "text": [
      "/var/folders/z3/zc5j75dj0qn_z2sp8qf47q340000gn/T/ipykernel_70117/652174667.py:8: ResourceWarning: unclosed <socket.socket fd=97, family=AddressFamily.AF_INET, type=SocketKind.SOCK_STREAM, proto=6, laddr=('127.0.0.1', 62401), raddr=('127.0.0.1', 11434)>\n",
      "  analyzer = GraphRAGSystem(row[\"question\"])\n",
      "ResourceWarning: Enable tracemalloc to get the object allocation traceback\n"
     ]
    },
    {
     "name": "stdout",
     "output_type": "stream",
     "text": [
      "Question 133: Can family history increase AMD risk by predisposing to retinal pigment epithelial scarring? a) Yes b) No c) Only with smoking d) Only with UV exposure\n",
      "Context: T...\n",
      "Response: a) Yes\n",
      "\n"
     ]
    },
    {
     "name": "stderr",
     "output_type": "stream",
     "text": [
      "/var/folders/z3/zc5j75dj0qn_z2sp8qf47q340000gn/T/ipykernel_70117/652174667.py:8: ResourceWarning: unclosed <socket.socket fd=97, family=AddressFamily.AF_INET, type=SocketKind.SOCK_STREAM, proto=6, laddr=('127.0.0.1', 62430), raddr=('127.0.0.1', 11434)>\n",
      "  analyzer = GraphRAGSystem(row[\"question\"])\n",
      "ResourceWarning: Enable tracemalloc to get the object allocation traceback\n"
     ]
    },
    {
     "name": "stdout",
     "output_type": "stream",
     "text": [
      "Question 134: Does dry AMD progress to wet AMD due to excessive retinal pigment epithelial lipid repair? a) Yes b) No c) Sometimes d) Only with obesity\n",
      "Context: T...\n",
      "Response: a) Yes.\n",
      "\n"
     ]
    },
    {
     "name": "stderr",
     "output_type": "stream",
     "text": [
      "/var/folders/z3/zc5j75dj0qn_z2sp8qf47q340000gn/T/ipykernel_70117/652174667.py:8: ResourceWarning: unclosed <socket.socket fd=97, family=AddressFamily.AF_INET, type=SocketKind.SOCK_STREAM, proto=6, laddr=('127.0.0.1', 62470), raddr=('127.0.0.1', 11434)>\n",
      "  analyzer = GraphRAGSystem(row[\"question\"])\n",
      "ResourceWarning: Enable tracemalloc to get the object allocation traceback\n"
     ]
    },
    {
     "name": "stdout",
     "output_type": "stream",
     "text": [
      "Question 135: Can anti-VEGF injections improve wet AMD by reducing retinal pigment epithelial atrophy? a) Yes b) No c) Only early stages d) Only with photodynamic therapy\n",
      "Context: T...\n",
      "Response: a) Yes\n",
      "\n"
     ]
    },
    {
     "name": "stderr",
     "output_type": "stream",
     "text": [
      "/var/folders/z3/zc5j75dj0qn_z2sp8qf47q340000gn/T/ipykernel_70117/652174667.py:8: ResourceWarning: unclosed <socket.socket fd=97, family=AddressFamily.AF_INET, type=SocketKind.SOCK_STREAM, proto=6, laddr=('127.0.0.1', 62504), raddr=('127.0.0.1', 11434)>\n",
      "  analyzer = GraphRAGSystem(row[\"question\"])\n",
      "ResourceWarning: Enable tracemalloc to get the object allocation traceback\n"
     ]
    },
    {
     "name": "stdout",
     "output_type": "stream",
     "text": [
      "Question 136: Does UV light increase AMD risk by causing retinal pigment epithelial lipid hemorrhages? a) Yes b) No c) Sometimes d) Only with light eyes\n",
      "Context: T...\n",
      "Response: a) Yes.\n",
      "\n"
     ]
    },
    {
     "name": "stderr",
     "output_type": "stream",
     "text": [
      "/var/folders/z3/zc5j75dj0qn_z2sp8qf47q340000gn/T/ipykernel_70117/652174667.py:8: ResourceWarning: unclosed <socket.socket fd=97, family=AddressFamily.AF_INET, type=SocketKind.SOCK_STREAM, proto=6, laddr=('127.0.0.1', 62542), raddr=('127.0.0.1', 11434)>\n",
      "  analyzer = GraphRAGSystem(row[\"question\"])\n",
      "ResourceWarning: Enable tracemalloc to get the object allocation traceback\n"
     ]
    },
    {
     "name": "stdout",
     "output_type": "stream",
     "text": [
      "Question 137: Can wet AMD affect face recognition by causing retinal pigment epithelial lipid deposits? a) Yes b) No c) Only with drusen d) Only with smoking\n",
      "Context: T...\n",
      "Response: a) Yes\n",
      "\n"
     ]
    },
    {
     "name": "stderr",
     "output_type": "stream",
     "text": [
      "/var/folders/z3/zc5j75dj0qn_z2sp8qf47q340000gn/T/ipykernel_70117/652174667.py:8: ResourceWarning: unclosed <socket.socket fd=97, family=AddressFamily.AF_INET, type=SocketKind.SOCK_STREAM, proto=6, laddr=('127.0.0.1', 62585), raddr=('127.0.0.1', 11434)>\n",
      "  analyzer = GraphRAGSystem(row[\"question\"])\n",
      "ResourceWarning: Enable tracemalloc to get the object allocation traceback\n"
     ]
    },
    {
     "name": "stdout",
     "output_type": "stream",
     "text": [
      "Question 138: Does hypertension worsen AMD by causing retinal pigment epithelial lipid regeneration? a) Yes b) No c) Only with diabetes d) Only with high cholesterol\n",
      "Context: T...\n",
      "Response: b)\n",
      "\n"
     ]
    },
    {
     "name": "stderr",
     "output_type": "stream",
     "text": [
      "/var/folders/z3/zc5j75dj0qn_z2sp8qf47q340000gn/T/ipykernel_70117/652174667.py:8: ResourceWarning: unclosed <socket.socket fd=97, family=AddressFamily.AF_INET, type=SocketKind.SOCK_STREAM, proto=6, laddr=('127.0.0.1', 62616), raddr=('127.0.0.1', 11434)>\n",
      "  analyzer = GraphRAGSystem(row[\"question\"])\n",
      "ResourceWarning: Enable tracemalloc to get the object allocation traceback\n"
     ]
    },
    {
     "name": "stdout",
     "output_type": "stream",
     "text": [
      "Question 139: Can smoking exacerbate AMD by increasing retinal pigment epithelial atrophy? a) Yes b) No c) Only with UV exposure d) Only with obesity\n",
      "Context: T...\n",
      "Response: a) Yes\n",
      "\n"
     ]
    },
    {
     "name": "stderr",
     "output_type": "stream",
     "text": [
      "/var/folders/z3/zc5j75dj0qn_z2sp8qf47q340000gn/T/ipykernel_70117/652174667.py:8: ResourceWarning: unclosed <socket.socket fd=97, family=AddressFamily.AF_INET, type=SocketKind.SOCK_STREAM, proto=6, laddr=('127.0.0.1', 62658), raddr=('127.0.0.1', 11434)>\n",
      "  analyzer = GraphRAGSystem(row[\"question\"])\n",
      "ResourceWarning: Enable tracemalloc to get the object allocation traceback\n"
     ]
    },
    {
     "name": "stdout",
     "output_type": "stream",
     "text": [
      "Question 140: Does dry AMD cause gradual vision loss by inducing retinal pigment epithelial lipid deposits? a) Yes b) No c) Sometimes d) Only late stages\n",
      "Context: T...\n",
      "Response: a) Yes\n",
      "\n"
     ]
    },
    {
     "name": "stderr",
     "output_type": "stream",
     "text": [
      "/var/folders/z3/zc5j75dj0qn_z2sp8qf47q340000gn/T/ipykernel_70117/652174667.py:8: ResourceWarning: unclosed <socket.socket fd=97, family=AddressFamily.AF_INET, type=SocketKind.SOCK_STREAM, proto=6, laddr=('127.0.0.1', 62690), raddr=('127.0.0.1', 11434)>\n",
      "  analyzer = GraphRAGSystem(row[\"question\"])\n",
      "ResourceWarning: Enable tracemalloc to get the object allocation traceback\n"
     ]
    },
    {
     "name": "stdout",
     "output_type": "stream",
     "text": [
      "Question 141: Can OCT confirm wet AMD by detecting retinal pigment epithelial scarring? a) Yes b) No c) Only late stages d) Only with drusen\n",
      "Context: T...\n",
      "Response: a) Yes.\n",
      "\n"
     ]
    },
    {
     "name": "stderr",
     "output_type": "stream",
     "text": [
      "/var/folders/z3/zc5j75dj0qn_z2sp8qf47q340000gn/T/ipykernel_70117/652174667.py:8: ResourceWarning: unclosed <socket.socket fd=97, family=AddressFamily.AF_INET, type=SocketKind.SOCK_STREAM, proto=6, laddr=('127.0.0.1', 62723), raddr=('127.0.0.1', 11434)>\n",
      "  analyzer = GraphRAGSystem(row[\"question\"])\n",
      "ResourceWarning: Enable tracemalloc to get the object allocation traceback\n"
     ]
    },
    {
     "name": "stdout",
     "output_type": "stream",
     "text": [
      "Question 142: Can wet AMD cause sudden vision changes by inducing retinal pigment epithelial lipid deposits? a) Yes b) No c) Only with drusen d) Only with UV exposure\n",
      "Context: T...\n",
      "Response: a) Yes.\n",
      "\n"
     ]
    },
    {
     "name": "stderr",
     "output_type": "stream",
     "text": [
      "/var/folders/z3/zc5j75dj0qn_z2sp8qf47q340000gn/T/ipykernel_70117/652174667.py:8: ResourceWarning: unclosed <socket.socket fd=97, family=AddressFamily.AF_INET, type=SocketKind.SOCK_STREAM, proto=6, laddr=('127.0.0.1', 62755), raddr=('127.0.0.1', 11434)>\n",
      "  analyzer = GraphRAGSystem(row[\"question\"])\n",
      "ResourceWarning: Enable tracemalloc to get the object allocation traceback\n"
     ]
    },
    {
     "name": "stdout",
     "output_type": "stream",
     "text": [
      "Question 143: Can anti-VEGF therapy stabilize wet AMD by reducing retinal pigment epithelial lipid accumulation? a) Yes b) No c) Only early stages d) Only with photodynamic therapy\n",
      "Context: T...\n",
      "Response: a) Yes\n",
      "\n"
     ]
    },
    {
     "name": "stderr",
     "output_type": "stream",
     "text": [
      "/var/folders/z3/zc5j75dj0qn_z2sp8qf47q340000gn/T/ipykernel_70117/652174667.py:8: ResourceWarning: unclosed <socket.socket fd=97, family=AddressFamily.AF_INET, type=SocketKind.SOCK_STREAM, proto=6, laddr=('127.0.0.1', 62786), raddr=('127.0.0.1', 11434)>\n",
      "  analyzer = GraphRAGSystem(row[\"question\"])\n",
      "ResourceWarning: Enable tracemalloc to get the object allocation traceback\n"
     ]
    },
    {
     "name": "stdout",
     "output_type": "stream",
     "text": [
      "Question 144: Does smoking increase dry AMD risk by causing retinal pigment epithelial lipid regeneration? a) Yes b) No c) Only with UV exposure d) Only with high cholesterol\n",
      "Context: T...\n",
      "Response: a) Yes.\n",
      "\n"
     ]
    },
    {
     "name": "stderr",
     "output_type": "stream",
     "text": [
      "/var/folders/z3/zc5j75dj0qn_z2sp8qf47q340000gn/T/ipykernel_70117/652174667.py:8: ResourceWarning: unclosed <socket.socket fd=97, family=AddressFamily.AF_INET, type=SocketKind.SOCK_STREAM, proto=6, laddr=('127.0.0.1', 62825), raddr=('127.0.0.1', 11434)>\n",
      "  analyzer = GraphRAGSystem(row[\"question\"])\n",
      "ResourceWarning: Enable tracemalloc to get the object allocation traceback\n"
     ]
    },
    {
     "name": "stdout",
     "output_type": "stream",
     "text": [
      "Question 145: Can wet AMD impair driving by causing retinal pigment epithelial atrophy? a) Yes b) No c) Only with drusen d) Only with smoking\n",
      "Context: T...\n",
      "Response: a) Yes\n",
      "\n"
     ]
    },
    {
     "name": "stderr",
     "output_type": "stream",
     "text": [
      "/var/folders/z3/zc5j75dj0qn_z2sp8qf47q340000gn/T/ipykernel_70117/652174667.py:8: ResourceWarning: unclosed <socket.socket fd=97, family=AddressFamily.AF_INET, type=SocketKind.SOCK_STREAM, proto=6, laddr=('127.0.0.1', 62851), raddr=('127.0.0.1', 11434)>\n",
      "  analyzer = GraphRAGSystem(row[\"question\"])\n",
      "ResourceWarning: Enable tracemalloc to get the object allocation traceback\n"
     ]
    },
    {
     "name": "stdout",
     "output_type": "stream",
     "text": [
      "Question 146: Does high cholesterol exacerbate AMD by causing retinal pigment epithelial lipid regeneration? a) Yes b) No c) Only with diabetes d) Only with hypertension\n",
      "Context: T...\n",
      "Response: a) Yes\n",
      "\n"
     ]
    },
    {
     "name": "stderr",
     "output_type": "stream",
     "text": [
      "/var/folders/z3/zc5j75dj0qn_z2sp8qf47q340000gn/T/ipykernel_70117/652174667.py:8: ResourceWarning: unclosed <socket.socket fd=97, family=AddressFamily.AF_INET, type=SocketKind.SOCK_STREAM, proto=6, laddr=('127.0.0.1', 62875), raddr=('127.0.0.1', 11434)>\n",
      "  analyzer = GraphRAGSystem(row[\"question\"])\n",
      "ResourceWarning: Enable tracemalloc to get the object allocation traceback\n"
     ]
    },
    {
     "name": "stdout",
     "output_type": "stream",
     "text": [
      "Question 147: Can AREDS supplements mitigate AMD risk by reversing retinal pigment epithelial lipid deposits? a) Yes b) No c) Partially d) Only with zinc\n",
      "Context: A...\n",
      "Response: a) Yes.\n",
      "\n"
     ]
    },
    {
     "name": "stderr",
     "output_type": "stream",
     "text": [
      "/var/folders/z3/zc5j75dj0qn_z2sp8qf47q340000gn/T/ipykernel_70117/652174667.py:8: ResourceWarning: unclosed <socket.socket fd=97, family=AddressFamily.AF_INET, type=SocketKind.SOCK_STREAM, proto=6, laddr=('127.0.0.1', 62913), raddr=('127.0.0.1', 11434)>\n",
      "  analyzer = GraphRAGSystem(row[\"question\"])\n",
      "ResourceWarning: Enable tracemalloc to get the object allocation traceback\n"
     ]
    },
    {
     "name": "stdout",
     "output_type": "stream",
     "text": [
      "Question 148: Does wet AMD cause depth perception issues by inducing retinal pigment epithelial lipid repair? a) Yes b) No c) Sometimes d) Only late stages\n",
      "Context: T...\n",
      "Response: a) Yes\n",
      "\n"
     ]
    },
    {
     "name": "stderr",
     "output_type": "stream",
     "text": [
      "/var/folders/z3/zc5j75dj0qn_z2sp8qf47q340000gn/T/ipykernel_70117/652174667.py:8: ResourceWarning: unclosed <socket.socket fd=97, family=AddressFamily.AF_INET, type=SocketKind.SOCK_STREAM, proto=6, laddr=('127.0.0.1', 62950), raddr=('127.0.0.1', 11434)>\n",
      "  analyzer = GraphRAGSystem(row[\"question\"])\n",
      "ResourceWarning: Enable tracemalloc to get the object allocation traceback\n"
     ]
    },
    {
     "name": "stdout",
     "output_type": "stream",
     "text": [
      "Question 149: Can obesity worsen AMD by increasing retinal pigment epithelial edema? a) Yes b) No c) Only with diabetes d) Only with smoking\n",
      "Context: T...\n",
      "Response: a) Yes\n",
      "\n"
     ]
    },
    {
     "name": "stderr",
     "output_type": "stream",
     "text": [
      "/var/folders/z3/zc5j75dj0qn_z2sp8qf47q340000gn/T/ipykernel_70117/652174667.py:8: ResourceWarning: unclosed <socket.socket fd=97, family=AddressFamily.AF_INET, type=SocketKind.SOCK_STREAM, proto=6, laddr=('127.0.0.1', 62980), raddr=('127.0.0.1', 11434)>\n",
      "  analyzer = GraphRAGSystem(row[\"question\"])\n",
      "ResourceWarning: Enable tracemalloc to get the object allocation traceback\n"
     ]
    },
    {
     "name": "stdout",
     "output_type": "stream",
     "text": [
      "Question 150: Does dry AMD progress to geographic atrophy due to retinal pigment epithelial lipid regeneration? a) Yes b) No c) Sometimes d) Only late stages\n",
      "Context: T...\n",
      "Response: c) Sometimes\n",
      "\n"
     ]
    },
    {
     "name": "stderr",
     "output_type": "stream",
     "text": [
      "/var/folders/z3/zc5j75dj0qn_z2sp8qf47q340000gn/T/ipykernel_70117/652174667.py:8: ResourceWarning: unclosed <socket.socket fd=97, family=AddressFamily.AF_INET, type=SocketKind.SOCK_STREAM, proto=6, laddr=('127.0.0.1', 63023), raddr=('127.0.0.1', 11434)>\n",
      "  analyzer = GraphRAGSystem(row[\"question\"])\n",
      "ResourceWarning: Enable tracemalloc to get the object allocation traceback\n"
     ]
    },
    {
     "name": "stdout",
     "output_type": "stream",
     "text": [
      "Question 151: Can photodynamic therapy treat wet AMD by reducing retinal pigment epithelial lipid accumulation? a) Yes b) No c) Only early stages d) Only with anti-VEGF\n",
      "Context: T...\n",
      "Response: a) Yes\n",
      "\n"
     ]
    },
    {
     "name": "stderr",
     "output_type": "stream",
     "text": [
      "/var/folders/z3/zc5j75dj0qn_z2sp8qf47q340000gn/T/ipykernel_70117/652174667.py:8: ResourceWarning: unclosed <socket.socket fd=97, family=AddressFamily.AF_INET, type=SocketKind.SOCK_STREAM, proto=6, laddr=('127.0.0.1', 63057), raddr=('127.0.0.1', 11434)>\n",
      "  analyzer = GraphRAGSystem(row[\"question\"])\n",
      "ResourceWarning: Enable tracemalloc to get the object allocation traceback\n"
     ]
    },
    {
     "name": "stdout",
     "output_type": "stream",
     "text": [
      "Question 152: Can wet AMD cause visual hallucinations by causing retinal pigment epithelial atrophy? a) Yes b) No c) Only with drusen d) Only with smoking\n",
      "Context: T...\n",
      "Response: a) Yes\n",
      "\n"
     ]
    },
    {
     "name": "stderr",
     "output_type": "stream",
     "text": [
      "/var/folders/z3/zc5j75dj0qn_z2sp8qf47q340000gn/T/ipykernel_70117/652174667.py:8: ResourceWarning: unclosed <socket.socket fd=97, family=AddressFamily.AF_INET, type=SocketKind.SOCK_STREAM, proto=6, laddr=('127.0.0.1', 63085), raddr=('127.0.0.1', 11434)>\n",
      "  analyzer = GraphRAGSystem(row[\"question\"])\n",
      "ResourceWarning: Enable tracemalloc to get the object allocation traceback\n"
     ]
    },
    {
     "name": "stdout",
     "output_type": "stream",
     "text": [
      "Question 153: Can smoking increase AMD severity by promoting retinal pigment epithelial lipid deposits? a) Yes b) No c) Only with UV exposure d) Only with obesity\n",
      "Context: T...\n",
      "Response: a) Yes\n",
      "\n"
     ]
    },
    {
     "name": "stderr",
     "output_type": "stream",
     "text": [
      "/var/folders/z3/zc5j75dj0qn_z2sp8qf47q340000gn/T/ipykernel_70117/652174667.py:8: ResourceWarning: unclosed <socket.socket fd=97, family=AddressFamily.AF_INET, type=SocketKind.SOCK_STREAM, proto=6, laddr=('127.0.0.1', 63111), raddr=('127.0.0.1', 11434)>\n",
      "  analyzer = GraphRAGSystem(row[\"question\"])\n",
      "ResourceWarning: Enable tracemalloc to get the object allocation traceback\n"
     ]
    },
    {
     "name": "stdout",
     "output_type": "stream",
     "text": [
      "Question 154: Can OCT detect early AMD by visualizing retinal pigment epithelial lipid accumulation? a) Yes b) No c) Only late stages d) Only with drusen\n",
      "Context: S...\n",
      "Response: a) Yes\n",
      "\n"
     ]
    },
    {
     "name": "stderr",
     "output_type": "stream",
     "text": [
      "/var/folders/z3/zc5j75dj0qn_z2sp8qf47q340000gn/T/ipykernel_70117/652174667.py:8: ResourceWarning: unclosed <socket.socket fd=97, family=AddressFamily.AF_INET, type=SocketKind.SOCK_STREAM, proto=6, laddr=('127.0.0.1', 63136), raddr=('127.0.0.1', 11434)>\n",
      "  analyzer = GraphRAGSystem(row[\"question\"])\n",
      "ResourceWarning: Enable tracemalloc to get the object allocation traceback\n"
     ]
    },
    {
     "name": "stdout",
     "output_type": "stream",
     "text": [
      "Question 155: Does smoking increase AMD risk by enhancing retinal pigment epithelial inflammation? a) Yes b) No c) Only with UV exposure d) Only with obesity\n",
      "Context: T...\n",
      "Response: a) Yes\n",
      "\n"
     ]
    },
    {
     "name": "stderr",
     "output_type": "stream",
     "text": [
      "/var/folders/z3/zc5j75dj0qn_z2sp8qf47q340000gn/T/ipykernel_70117/652174667.py:8: ResourceWarning: unclosed <socket.socket fd=97, family=AddressFamily.AF_INET, type=SocketKind.SOCK_STREAM, proto=6, laddr=('127.0.0.1', 63164), raddr=('127.0.0.1', 11434)>\n",
      "  analyzer = GraphRAGSystem(row[\"question\"])\n",
      "ResourceWarning: Enable tracemalloc to get the object allocation traceback\n"
     ]
    },
    {
     "name": "stdout",
     "output_type": "stream",
     "text": [
      "Question 156: Can dry AMD progress to wet AMD due to excessive retinal pigment epithelial repair alone? a) Yes b) No c) Only with smoking d) Only with diabetes\n",
      "Context: T...\n",
      "Response: a) Yes\n",
      "\n"
     ]
    },
    {
     "name": "stderr",
     "output_type": "stream",
     "text": [
      "/var/folders/z3/zc5j75dj0qn_z2sp8qf47q340000gn/T/ipykernel_70117/652174667.py:8: ResourceWarning: unclosed <socket.socket fd=97, family=AddressFamily.AF_INET, type=SocketKind.SOCK_STREAM, proto=6, laddr=('127.0.0.1', 63203), raddr=('127.0.0.1', 11434)>\n",
      "  analyzer = GraphRAGSystem(row[\"question\"])\n",
      "ResourceWarning: Enable tracemalloc to get the object allocation traceback\n"
     ]
    },
    {
     "name": "stdout",
     "output_type": "stream",
     "text": [
      "Question 157: Does family history elevate AMD risk by increasing retinal pigment epithelial susceptibility to oxidative stress? a) Yes b) No c) Only in men d) Only with hypertension\n",
      "Context: T...\n",
      "Response: a) Yes\n",
      "\n"
     ]
    },
    {
     "name": "stderr",
     "output_type": "stream",
     "text": [
      "/var/folders/z3/zc5j75dj0qn_z2sp8qf47q340000gn/T/ipykernel_70117/652174667.py:8: ResourceWarning: unclosed <socket.socket fd=97, family=AddressFamily.AF_INET, type=SocketKind.SOCK_STREAM, proto=6, laddr=('127.0.0.1', 63241), raddr=('127.0.0.1', 11434)>\n",
      "  analyzer = GraphRAGSystem(row[\"question\"])\n",
      "ResourceWarning: Enable tracemalloc to get the object allocation traceback\n"
     ]
    },
    {
     "name": "stdout",
     "output_type": "stream",
     "text": [
      "Question 158: Can anti-VEGF injections treat wet AMD by reversing retinal pigment epithelial lipid accumulation? a) Yes b) No c) Partially d) Only early stages\n",
      "Context: T...\n",
      "Response: a) Yes\n",
      "\n"
     ]
    },
    {
     "name": "stderr",
     "output_type": "stream",
     "text": [
      "/var/folders/z3/zc5j75dj0qn_z2sp8qf47q340000gn/T/ipykernel_70117/652174667.py:8: ResourceWarning: unclosed <socket.socket fd=97, family=AddressFamily.AF_INET, type=SocketKind.SOCK_STREAM, proto=6, laddr=('127.0.0.1', 63283), raddr=('127.0.0.1', 11434)>\n",
      "  analyzer = GraphRAGSystem(row[\"question\"])\n",
      "ResourceWarning: Enable tracemalloc to get the object allocation traceback\n"
     ]
    },
    {
     "name": "stdout",
     "output_type": "stream",
     "text": [
      "Question 159: Does hypertension worsen AMD by causing retinal pigment epithelial swelling? a) Yes b) No c) Only with diabetes d) Only with smoking\n",
      "Context: T...\n",
      "Response: b)\n",
      "\n"
     ]
    },
    {
     "name": "stderr",
     "output_type": "stream",
     "text": [
      "/var/folders/z3/zc5j75dj0qn_z2sp8qf47q340000gn/T/ipykernel_70117/652174667.py:8: ResourceWarning: unclosed <socket.socket fd=97, family=AddressFamily.AF_INET, type=SocketKind.SOCK_STREAM, proto=6, laddr=('127.0.0.1', 63319), raddr=('127.0.0.1', 11434)>\n",
      "  analyzer = GraphRAGSystem(row[\"question\"])\n",
      "ResourceWarning: Enable tracemalloc to get the object allocation traceback\n"
     ]
    },
    {
     "name": "stdout",
     "output_type": "stream",
     "text": [
      "Question 160: Can the Amsler grid detect wet AMD by measuring retinal pigment epithelial regeneration? a) Yes b) No c) Sometimes d) Only late stages\n",
      "Context: T...\n",
      "Response: b\n",
      "\n"
     ]
    },
    {
     "name": "stderr",
     "output_type": "stream",
     "text": [
      "/var/folders/z3/zc5j75dj0qn_z2sp8qf47q340000gn/T/ipykernel_70117/652174667.py:8: ResourceWarning: unclosed <socket.socket fd=97, family=AddressFamily.AF_INET, type=SocketKind.SOCK_STREAM, proto=6, laddr=('127.0.0.1', 63359), raddr=('127.0.0.1', 11434)>\n",
      "  analyzer = GraphRAGSystem(row[\"question\"])\n",
      "ResourceWarning: Enable tracemalloc to get the object allocation traceback\n"
     ]
    },
    {
     "name": "stdout",
     "output_type": "stream",
     "text": [
      "Question 161: Does UV light exposure accelerate AMD by causing retinal pigment epithelial lipid deposits? a) Yes b) No c) Only with light eyes d) Only with smoking\n",
      "Context: T...\n",
      "Response: a) Yes\n",
      "\n"
     ]
    },
    {
     "name": "stderr",
     "output_type": "stream",
     "text": [
      "/var/folders/z3/zc5j75dj0qn_z2sp8qf47q340000gn/T/ipykernel_70117/652174667.py:8: ResourceWarning: unclosed <socket.socket fd=97, family=AddressFamily.AF_INET, type=SocketKind.SOCK_STREAM, proto=6, laddr=('127.0.0.1', 63386), raddr=('127.0.0.1', 11434)>\n",
      "  analyzer = GraphRAGSystem(row[\"question\"])\n",
      "ResourceWarning: Enable tracemalloc to get the object allocation traceback\n"
     ]
    },
    {
     "name": "stdout",
     "output_type": "stream",
     "text": [
      "Question 162: Can AREDS supplements slow dry AMD by regenerating retinal pigment epithelial cells? a) Yes b) No c) Partially d) Only with zinc\n",
      "Context: A...\n",
      "Response: a) Yes\n",
      "\n"
     ]
    },
    {
     "name": "stderr",
     "output_type": "stream",
     "text": [
      "/var/folders/z3/zc5j75dj0qn_z2sp8qf47q340000gn/T/ipykernel_70117/652174667.py:8: ResourceWarning: unclosed <socket.socket fd=97, family=AddressFamily.AF_INET, type=SocketKind.SOCK_STREAM, proto=6, laddr=('127.0.0.1', 63435), raddr=('127.0.0.1', 11434)>\n",
      "  analyzer = GraphRAGSystem(row[\"question\"])\n",
      "ResourceWarning: Enable tracemalloc to get the object allocation traceback\n"
     ]
    },
    {
     "name": "stdout",
     "output_type": "stream",
     "text": [
      "Question 163: Does obesity heighten AMD risk by promoting retinal pigment epithelial hypoxia? a) Yes b) No c) Only with diabetes d) Only with hypertension\n",
      "Context: T...\n",
      "Response: a) Yes\n",
      "\n"
     ]
    },
    {
     "name": "stderr",
     "output_type": "stream",
     "text": [
      "/var/folders/z3/zc5j75dj0qn_z2sp8qf47q340000gn/T/ipykernel_70117/652174667.py:8: ResourceWarning: unclosed <socket.socket fd=97, family=AddressFamily.AF_INET, type=SocketKind.SOCK_STREAM, proto=6, laddr=('127.0.0.1', 63472), raddr=('127.0.0.1', 11434)>\n",
      "  analyzer = GraphRAGSystem(row[\"question\"])\n",
      "ResourceWarning: Enable tracemalloc to get the object allocation traceback\n"
     ]
    },
    {
     "name": "stdout",
     "output_type": "stream",
     "text": [
      "Question 164: Can wet AMD cause sudden vision loss by inducing retinal pigment epithelial hemorrhages? a) Yes b) No c) Only with drusen d) Only with UV exposure\n",
      "Context: T...\n",
      "Response: a) Yes.\n",
      "\n"
     ]
    },
    {
     "name": "stderr",
     "output_type": "stream",
     "text": [
      "/var/folders/z3/zc5j75dj0qn_z2sp8qf47q340000gn/T/ipykernel_70117/652174667.py:8: ResourceWarning: unclosed <socket.socket fd=97, family=AddressFamily.AF_INET, type=SocketKind.SOCK_STREAM, proto=6, laddr=('127.0.0.1', 63520), raddr=('127.0.0.1', 11434)>\n",
      "  analyzer = GraphRAGSystem(row[\"question\"])\n",
      "ResourceWarning: Enable tracemalloc to get the object allocation traceback\n"
     ]
    },
    {
     "name": "stdout",
     "output_type": "stream",
     "text": [
      "Question 165: Does diabetes increase AMD risk by causing retinal pigment epithelial lipid repair? a) Yes b) No c) Only with smoking d) Only with obesity\n",
      "Context: T...\n",
      "Response: a) Yes.\n",
      "\n"
     ]
    },
    {
     "name": "stderr",
     "output_type": "stream",
     "text": [
      "/var/folders/z3/zc5j75dj0qn_z2sp8qf47q340000gn/T/ipykernel_70117/652174667.py:8: ResourceWarning: unclosed <socket.socket fd=97, family=AddressFamily.AF_INET, type=SocketKind.SOCK_STREAM, proto=6, laddr=('127.0.0.1', 63558), raddr=('127.0.0.1', 11434)>\n",
      "  analyzer = GraphRAGSystem(row[\"question\"])\n",
      "ResourceWarning: Enable tracemalloc to get the object allocation traceback\n"
     ]
    },
    {
     "name": "stdout",
     "output_type": "stream",
     "text": [
      "Question 166: Does smoking worsen dry AMD by increasing retinal pigment epithelial lipid accumulation? a) Yes b) No c) Only with UV exposure d) Only with high cholesterol\n",
      "Context: T...\n",
      "Response: a) Yes\n",
      "\n"
     ]
    },
    {
     "name": "stderr",
     "output_type": "stream",
     "text": [
      "/var/folders/z3/zc5j75dj0qn_z2sp8qf47q340000gn/T/ipykernel_70117/652174667.py:8: ResourceWarning: unclosed <socket.socket fd=97, family=AddressFamily.AF_INET, type=SocketKind.SOCK_STREAM, proto=6, laddr=('127.0.0.1', 63611), raddr=('127.0.0.1', 11434)>\n",
      "  analyzer = GraphRAGSystem(row[\"question\"])\n",
      "ResourceWarning: Enable tracemalloc to get the object allocation traceback\n"
     ]
    },
    {
     "name": "stdout",
     "output_type": "stream",
     "text": [
      "Question 167: Can photodynamic therapy manage wet AMD by reversing retinal pigment epithelial lipid deposits? a) Yes b) No c) Sometimes d) Only early stages\n",
      "Context: T...\n",
      "Response: a) Yes\n",
      "\n"
     ]
    },
    {
     "name": "stderr",
     "output_type": "stream",
     "text": [
      "/var/folders/z3/zc5j75dj0qn_z2sp8qf47q340000gn/T/ipykernel_70117/652174667.py:8: ResourceWarning: unclosed <socket.socket fd=97, family=AddressFamily.AF_INET, type=SocketKind.SOCK_STREAM, proto=6, laddr=('127.0.0.1', 63646), raddr=('127.0.0.1', 11434)>\n",
      "  analyzer = GraphRAGSystem(row[\"question\"])\n",
      "ResourceWarning: Enable tracemalloc to get the object allocation traceback\n"
     ]
    },
    {
     "name": "stdout",
     "output_type": "stream",
     "text": [
      "Question 168: Does a diet high in leafy greens reduce AMD progression by repairing retinal pigment epithelial hypoxia? a) Yes b) No c) Partially d) Only with supplements\n",
      "Context: T...\n",
      "Response: a) Yes\n",
      "\n"
     ]
    },
    {
     "name": "stderr",
     "output_type": "stream",
     "text": [
      "/var/folders/z3/zc5j75dj0qn_z2sp8qf47q340000gn/T/ipykernel_70117/652174667.py:8: ResourceWarning: unclosed <socket.socket fd=97, family=AddressFamily.AF_INET, type=SocketKind.SOCK_STREAM, proto=6, laddr=('127.0.0.1', 63680), raddr=('127.0.0.1', 11434)>\n",
      "  analyzer = GraphRAGSystem(row[\"question\"])\n",
      "ResourceWarning: Enable tracemalloc to get the object allocation traceback\n"
     ]
    },
    {
     "name": "stdout",
     "output_type": "stream",
     "text": [
      "Question 169: Can wet AMD lead to legal blindness by causing retinal pigment epithelial regeneration? a) Yes b) No c) Sometimes d) Only late stages\n",
      "Context: T...\n",
      "Response: b) No\n",
      "\n"
     ]
    },
    {
     "name": "stderr",
     "output_type": "stream",
     "text": [
      "/var/folders/z3/zc5j75dj0qn_z2sp8qf47q340000gn/T/ipykernel_70117/652174667.py:8: ResourceWarning: unclosed <socket.socket fd=97, family=AddressFamily.AF_INET, type=SocketKind.SOCK_STREAM, proto=6, laddr=('127.0.0.1', 63712), raddr=('127.0.0.1', 11434)>\n",
      "  analyzer = GraphRAGSystem(row[\"question\"])\n",
      "ResourceWarning: Enable tracemalloc to get the object allocation traceback\n"
     ]
    },
    {
     "name": "stdout",
     "output_type": "stream",
     "text": [
      "Question 170: Can dry AMD transition to wet AMD due to retinal pigment epithelial hypoxia? a) Yes b) No c) Only with drusen d) Only with UV exposure\n",
      "Context: T...\n",
      "Response: a) Yes\n",
      "\n"
     ]
    },
    {
     "name": "stderr",
     "output_type": "stream",
     "text": [
      "/var/folders/z3/zc5j75dj0qn_z2sp8qf47q340000gn/T/ipykernel_70117/652174667.py:8: ResourceWarning: unclosed <socket.socket fd=97, family=AddressFamily.AF_INET, type=SocketKind.SOCK_STREAM, proto=6, laddr=('127.0.0.1', 63750), raddr=('127.0.0.1', 11434)>\n",
      "  analyzer = GraphRAGSystem(row[\"question\"])\n",
      "ResourceWarning: Enable tracemalloc to get the object allocation traceback\n"
     ]
    },
    {
     "name": "stdout",
     "output_type": "stream",
     "text": [
      "Question 171: Does AMD impair color perception by causing retinal pigment epithelial repair? a) Yes b) No c) Sometimes d) Only wet AMD\n",
      "Context: T...\n",
      "Response: c\n",
      "\n"
     ]
    },
    {
     "name": "stderr",
     "output_type": "stream",
     "text": [
      "/var/folders/z3/zc5j75dj0qn_z2sp8qf47q340000gn/T/ipykernel_70117/652174667.py:8: ResourceWarning: unclosed <socket.socket fd=97, family=AddressFamily.AF_INET, type=SocketKind.SOCK_STREAM, proto=6, laddr=('127.0.0.1', 63781), raddr=('127.0.0.1', 11434)>\n",
      "  analyzer = GraphRAGSystem(row[\"question\"])\n",
      "ResourceWarning: Enable tracemalloc to get the object allocation traceback\n"
     ]
    },
    {
     "name": "stdout",
     "output_type": "stream",
     "text": [
      "Question 172: Can anti-VEGF therapy stabilize wet AMD by reducing retinal pigment epithelial fluid leakage? a) Yes b) No c) Only early stages d) Only with surgery\n",
      "Context: T...\n",
      "Response: a) Yes\n",
      "\n"
     ]
    },
    {
     "name": "stderr",
     "output_type": "stream",
     "text": [
      "/var/folders/z3/zc5j75dj0qn_z2sp8qf47q340000gn/T/ipykernel_70117/652174667.py:8: ResourceWarning: unclosed <socket.socket fd=97, family=AddressFamily.AF_INET, type=SocketKind.SOCK_STREAM, proto=6, laddr=('127.0.0.1', 63812), raddr=('127.0.0.1', 11434)>\n",
      "  analyzer = GraphRAGSystem(row[\"question\"])\n",
      "ResourceWarning: Enable tracemalloc to get the object allocation traceback\n"
     ]
    },
    {
     "name": "stdout",
     "output_type": "stream",
     "text": [
      "Question 173: Does family history increase AMD risk by causing retinal pigment epithelial edema? a) Yes b) No c) Sometimes d) Only with smoking\n",
      "Context: T...\n",
      "Response: a) Yes\n",
      "\n"
     ]
    },
    {
     "name": "stderr",
     "output_type": "stream",
     "text": [
      "/var/folders/z3/zc5j75dj0qn_z2sp8qf47q340000gn/T/ipykernel_70117/652174667.py:8: ResourceWarning: unclosed <socket.socket fd=97, family=AddressFamily.AF_INET, type=SocketKind.SOCK_STREAM, proto=6, laddr=('127.0.0.1', 63852), raddr=('127.0.0.1', 11434)>\n",
      "  analyzer = GraphRAGSystem(row[\"question\"])\n",
      "ResourceWarning: Enable tracemalloc to get the object allocation traceback\n"
     ]
    },
    {
     "name": "stdout",
     "output_type": "stream",
     "text": [
      "Question 174: Can wet AMD distort vision by inducing retinal pigment epithelial scarring? a) Yes b) No c) Only with drusen d) Only with hypertension\n",
      "Context: T...\n",
      "Response: A) Yes\n",
      "\n"
     ]
    },
    {
     "name": "stderr",
     "output_type": "stream",
     "text": [
      "/var/folders/z3/zc5j75dj0qn_z2sp8qf47q340000gn/T/ipykernel_70117/652174667.py:8: ResourceWarning: unclosed <socket.socket fd=97, family=AddressFamily.AF_INET, type=SocketKind.SOCK_STREAM, proto=6, laddr=('127.0.0.1', 63896), raddr=('127.0.0.1', 11434)>\n",
      "  analyzer = GraphRAGSystem(row[\"question\"])\n",
      "ResourceWarning: Enable tracemalloc to get the object allocation traceback\n"
     ]
    },
    {
     "name": "stdout",
     "output_type": "stream",
     "text": [
      "Question 175: Does dry AMD progress slowly because it avoids retinal pigment epithelial regeneration? a) Yes b) No c) Sometimes d) Only early stages\n",
      "Context: T...\n",
      "Response: a) Yes\n",
      "\n"
     ]
    },
    {
     "name": "stderr",
     "output_type": "stream",
     "text": [
      "/var/folders/z3/zc5j75dj0qn_z2sp8qf47q340000gn/T/ipykernel_70117/652174667.py:8: ResourceWarning: unclosed <socket.socket fd=97, family=AddressFamily.AF_INET, type=SocketKind.SOCK_STREAM, proto=6, laddr=('127.0.0.1', 63922), raddr=('127.0.0.1', 11434)>\n",
      "  analyzer = GraphRAGSystem(row[\"question\"])\n",
      "ResourceWarning: Enable tracemalloc to get the object allocation traceback\n"
     ]
    },
    {
     "name": "stdout",
     "output_type": "stream",
     "text": [
      "Question 176: Can hypertension exacerbate AMD by causing retinal pigment epithelial lipid accumulation? a) Yes b) No c) Only with diabetes d) Only with obesity\n",
      "Context: T...\n",
      "Response: a) Yes\n",
      "\n"
     ]
    },
    {
     "name": "stderr",
     "output_type": "stream",
     "text": [
      "/var/folders/z3/zc5j75dj0qn_z2sp8qf47q340000gn/T/ipykernel_70117/652174667.py:8: ResourceWarning: unclosed <socket.socket fd=97, family=AddressFamily.AF_INET, type=SocketKind.SOCK_STREAM, proto=6, laddr=('127.0.0.1', 63947), raddr=('127.0.0.1', 11434)>\n",
      "  analyzer = GraphRAGSystem(row[\"question\"])\n",
      "ResourceWarning: Enable tracemalloc to get the object allocation traceback\n"
     ]
    },
    {
     "name": "stdout",
     "output_type": "stream",
     "text": [
      "Question 177: Does smoking worsen AMD by promoting retinal pigment epithelial edema? a) Yes b) No c) Only with UV exposure d) Only with high cholesterol\n",
      "Context: T...\n",
      "Response: The correct answer is: a) Yes.\n",
      "\n"
     ]
    },
    {
     "name": "stderr",
     "output_type": "stream",
     "text": [
      "/var/folders/z3/zc5j75dj0qn_z2sp8qf47q340000gn/T/ipykernel_70117/652174667.py:8: ResourceWarning: unclosed <socket.socket fd=97, family=AddressFamily.AF_INET, type=SocketKind.SOCK_STREAM, proto=6, laddr=('127.0.0.1', 64001), raddr=('127.0.0.1', 11434)>\n",
      "  analyzer = GraphRAGSystem(row[\"question\"])\n",
      "ResourceWarning: Enable tracemalloc to get the object allocation traceback\n"
     ]
    },
    {
     "name": "stdout",
     "output_type": "stream",
     "text": [
      "Question 178: Can OCT detect early dry AMD by visualizing retinal pigment epithelial atrophy? a) Yes b) No c) Only late stages d) Only with fluid\n",
      "Context: T...\n",
      "Response: a) Yes.\n",
      "\n"
     ]
    },
    {
     "name": "stderr",
     "output_type": "stream",
     "text": [
      "/var/folders/z3/zc5j75dj0qn_z2sp8qf47q340000gn/T/ipykernel_70117/652174667.py:8: ResourceWarning: unclosed <socket.socket fd=97, family=AddressFamily.AF_INET, type=SocketKind.SOCK_STREAM, proto=6, laddr=('127.0.0.1', 64046), raddr=('127.0.0.1', 11434)>\n",
      "  analyzer = GraphRAGSystem(row[\"question\"])\n",
      "ResourceWarning: Enable tracemalloc to get the object allocation traceback\n"
     ]
    },
    {
     "name": "stdout",
     "output_type": "stream",
     "text": [
      "Question 179: Does wet AMD treatment with anti-VEGF injections work by reversing retinal pigment epithelial hypoxia? a) Yes b) No c) Partially d) Only early stages\n",
      "Context: T...\n",
      "Response: c\n",
      "\n"
     ]
    },
    {
     "name": "stderr",
     "output_type": "stream",
     "text": [
      "/var/folders/z3/zc5j75dj0qn_z2sp8qf47q340000gn/T/ipykernel_70117/652174667.py:8: ResourceWarning: unclosed <socket.socket fd=97, family=AddressFamily.AF_INET, type=SocketKind.SOCK_STREAM, proto=6, laddr=('127.0.0.1', 64152), raddr=('127.0.0.1', 11434)>\n",
      "  analyzer = GraphRAGSystem(row[\"question\"])\n",
      "ResourceWarning: Enable tracemalloc to get the object allocation traceback\n"
     ]
    },
    {
     "name": "stdout",
     "output_type": "stream",
     "text": [
      "Question 180: Can diabetes contribute to AMD by increasing retinal pigment epithelial lipid deposits? a) Yes b) No c) Only with smoking d) Only with hypertension\n",
      "Context: T...\n",
      "Response: a) Yes\n",
      "\n"
     ]
    },
    {
     "name": "stderr",
     "output_type": "stream",
     "text": [
      "/var/folders/z3/zc5j75dj0qn_z2sp8qf47q340000gn/T/ipykernel_70117/652174667.py:8: ResourceWarning: unclosed <socket.socket fd=97, family=AddressFamily.AF_INET, type=SocketKind.SOCK_STREAM, proto=6, laddr=('127.0.0.1', 64285), raddr=('127.0.0.1', 11434)>\n",
      "  analyzer = GraphRAGSystem(row[\"question\"])\n",
      "ResourceWarning: Enable tracemalloc to get the object allocation traceback\n"
     ]
    },
    {
     "name": "stdout",
     "output_type": "stream",
     "text": [
      "Question 181: Does dry AMD progress to geographic atrophy by causing retinal pigment epithelial swelling? a) Yes b) No c) Sometimes d) Only late stages\n",
      "Context: T...\n",
      "Response: a) Yes\n",
      "\n"
     ]
    },
    {
     "name": "stderr",
     "output_type": "stream",
     "text": [
      "/var/folders/z3/zc5j75dj0qn_z2sp8qf47q340000gn/T/ipykernel_70117/652174667.py:8: ResourceWarning: unclosed <socket.socket fd=97, family=AddressFamily.AF_INET, type=SocketKind.SOCK_STREAM, proto=6, laddr=('127.0.0.1', 64388), raddr=('127.0.0.1', 11434)>\n",
      "  analyzer = GraphRAGSystem(row[\"question\"])\n",
      "ResourceWarning: Enable tracemalloc to get the object allocation traceback\n"
     ]
    },
    {
     "name": "stdout",
     "output_type": "stream",
     "text": [
      "Question 182: Can AMD increase fall risk by impairing retinal pigment epithelial acuity? a) Yes b) No c) Only with wet AMD d) Only with dry AMD\n",
      "Context: T...\n",
      "Response: a) Yes\n",
      "\n"
     ]
    },
    {
     "name": "stderr",
     "output_type": "stream",
     "text": [
      "/var/folders/z3/zc5j75dj0qn_z2sp8qf47q340000gn/T/ipykernel_70117/652174667.py:8: ResourceWarning: unclosed <socket.socket fd=97, family=AddressFamily.AF_INET, type=SocketKind.SOCK_STREAM, proto=6, laddr=('127.0.0.1', 64427), raddr=('127.0.0.1', 11434)>\n",
      "  analyzer = GraphRAGSystem(row[\"question\"])\n",
      "ResourceWarning: Enable tracemalloc to get the object allocation traceback\n"
     ]
    },
    {
     "name": "stdout",
     "output_type": "stream",
     "text": [
      "Question 183: Does UV exposure accelerate AMD by causing retinal pigment epithelial regeneration? a) Yes b) No c) Only with smoking d) Only with light eyes\n",
      "Context: T...\n",
      "Response: c) Only with smoking\n",
      "\n"
     ]
    },
    {
     "name": "stderr",
     "output_type": "stream",
     "text": [
      "/var/folders/z3/zc5j75dj0qn_z2sp8qf47q340000gn/T/ipykernel_70117/652174667.py:8: ResourceWarning: unclosed <socket.socket fd=97, family=AddressFamily.AF_INET, type=SocketKind.SOCK_STREAM, proto=6, laddr=('127.0.0.1', 64482), raddr=('127.0.0.1', 11434)>\n",
      "  analyzer = GraphRAGSystem(row[\"question\"])\n",
      "ResourceWarning: Enable tracemalloc to get the object allocation traceback\n"
     ]
    },
    {
     "name": "stdout",
     "output_type": "stream",
     "text": [
      "Question 184: Can wet AMD cause rapid vision loss by inducing retinal pigment epithelial lipid accumulation? a) Yes b) No c) Only with drusen d) Only with hypertension\n",
      "Context: A...\n",
      "Response: a) Yes.\n",
      "\n"
     ]
    },
    {
     "name": "stderr",
     "output_type": "stream",
     "text": [
      "/var/folders/z3/zc5j75dj0qn_z2sp8qf47q340000gn/T/ipykernel_70117/652174667.py:8: ResourceWarning: unclosed <socket.socket fd=97, family=AddressFamily.AF_INET, type=SocketKind.SOCK_STREAM, proto=6, laddr=('127.0.0.1', 64526), raddr=('127.0.0.1', 11434)>\n",
      "  analyzer = GraphRAGSystem(row[\"question\"])\n",
      "ResourceWarning: Enable tracemalloc to get the object allocation traceback\n"
     ]
    },
    {
     "name": "stdout",
     "output_type": "stream",
     "text": [
      "Question 185: Does a diet high in antioxidants prevent AMD by reversing retinal pigment epithelial lipid deposits? a) Yes b) No c) Partially d) Only with supplements\n",
      "Context: T...\n",
      "Response: c\n",
      "\n"
     ]
    },
    {
     "name": "stderr",
     "output_type": "stream",
     "text": [
      "/var/folders/z3/zc5j75dj0qn_z2sp8qf47q340000gn/T/ipykernel_70117/652174667.py:8: ResourceWarning: unclosed <socket.socket fd=97, family=AddressFamily.AF_INET, type=SocketKind.SOCK_STREAM, proto=6, laddr=('127.0.0.1', 64567), raddr=('127.0.0.1', 11434)>\n",
      "  analyzer = GraphRAGSystem(row[\"question\"])\n",
      "ResourceWarning: Enable tracemalloc to get the object allocation traceback\n"
     ]
    },
    {
     "name": "stdout",
     "output_type": "stream",
     "text": [
      "Question 186: Can smoking exacerbate wet AMD by increasing retinal pigment epithelial scarring? a) Yes b) No c) Only with UV exposure d) Only with obesity\n",
      "Context: T...\n",
      "Response: a) Yes\n",
      "\n"
     ]
    },
    {
     "name": "stderr",
     "output_type": "stream",
     "text": [
      "/var/folders/z3/zc5j75dj0qn_z2sp8qf47q340000gn/T/ipykernel_70117/652174667.py:8: ResourceWarning: unclosed <socket.socket fd=97, family=AddressFamily.AF_INET, type=SocketKind.SOCK_STREAM, proto=6, laddr=('127.0.0.1', 64615), raddr=('127.0.0.1', 11434)>\n",
      "  analyzer = GraphRAGSystem(row[\"question\"])\n",
      "ResourceWarning: Enable tracemalloc to get the object allocation traceback\n"
     ]
    },
    {
     "name": "stdout",
     "output_type": "stream",
     "text": [
      "Question 187: Does dry AMD affect color perception by causing retinal pigment epithelial hemorrhages? a) Yes b) No c) Sometimes d) Only late stages\n",
      "Context: T...\n",
      "Response: a) Yes\n",
      "\n"
     ]
    },
    {
     "name": "stderr",
     "output_type": "stream",
     "text": [
      "/var/folders/z3/zc5j75dj0qn_z2sp8qf47q340000gn/T/ipykernel_70117/652174667.py:8: ResourceWarning: unclosed <socket.socket fd=97, family=AddressFamily.AF_INET, type=SocketKind.SOCK_STREAM, proto=6, laddr=('127.0.0.1', 64659), raddr=('127.0.0.1', 11434)>\n",
      "  analyzer = GraphRAGSystem(row[\"question\"])\n",
      "ResourceWarning: Enable tracemalloc to get the object allocation traceback\n"
     ]
    },
    {
     "name": "stdout",
     "output_type": "stream",
     "text": [
      "Question 188: Can photodynamic therapy manage wet AMD by reducing retinal pigment epithelial lipid deposits? a) Yes b) No c) Only early stages d) Only with anti-VEGF\n",
      "Context: T...\n",
      "Response: a) Yes.\n",
      "\n"
     ]
    },
    {
     "name": "stderr",
     "output_type": "stream",
     "text": [
      "/var/folders/z3/zc5j75dj0qn_z2sp8qf47q340000gn/T/ipykernel_70117/652174667.py:8: ResourceWarning: unclosed <socket.socket fd=97, family=AddressFamily.AF_INET, type=SocketKind.SOCK_STREAM, proto=6, laddr=('127.0.0.1', 64698), raddr=('127.0.0.1', 11434)>\n",
      "  analyzer = GraphRAGSystem(row[\"question\"])\n",
      "ResourceWarning: Enable tracemalloc to get the object allocation traceback\n"
     ]
    },
    {
     "name": "stdout",
     "output_type": "stream",
     "text": [
      "Question 189: Does obesity increase AMD risk by causing retinal pigment epithelial repair? a) Yes b) No c) Sometimes d) Only with diabetes\n",
      "Context: O...\n",
      "Response: a) Yes\n",
      "\n"
     ]
    },
    {
     "name": "stderr",
     "output_type": "stream",
     "text": [
      "/var/folders/z3/zc5j75dj0qn_z2sp8qf47q340000gn/T/ipykernel_70117/652174667.py:8: ResourceWarning: unclosed <socket.socket fd=97, family=AddressFamily.AF_INET, type=SocketKind.SOCK_STREAM, proto=6, laddr=('127.0.0.1', 64729), raddr=('127.0.0.1', 11434)>\n",
      "  analyzer = GraphRAGSystem(row[\"question\"])\n",
      "ResourceWarning: Enable tracemalloc to get the object allocation traceback\n"
     ]
    },
    {
     "name": "stdout",
     "output_type": "stream",
     "text": [
      "Question 190: Can wet AMD impair reading by causing retinal pigment epithelial lipid accumulation? a) Yes b) No c) Only with drusen d) Only with smoking\n",
      "Context: T...\n",
      "Response: a) Yes.\n",
      "\n"
     ]
    },
    {
     "name": "stderr",
     "output_type": "stream",
     "text": [
      "/var/folders/z3/zc5j75dj0qn_z2sp8qf47q340000gn/T/ipykernel_70117/652174667.py:8: ResourceWarning: unclosed <socket.socket fd=97, family=AddressFamily.AF_INET, type=SocketKind.SOCK_STREAM, proto=6, laddr=('127.0.0.1', 64767), raddr=('127.0.0.1', 11434)>\n",
      "  analyzer = GraphRAGSystem(row[\"question\"])\n",
      "ResourceWarning: Enable tracemalloc to get the object allocation traceback\n"
     ]
    },
    {
     "name": "stdout",
     "output_type": "stream",
     "text": [
      "Question 191: Does high cholesterol contribute to AMD by causing retinal pigment epithelial edema? a) Yes b) No c) Only with hypertension d) Only with diabetes\n",
      "Context: T...\n",
      "Response: a) Yes\n",
      "\n"
     ]
    },
    {
     "name": "stderr",
     "output_type": "stream",
     "text": [
      "/var/folders/z3/zc5j75dj0qn_z2sp8qf47q340000gn/T/ipykernel_70117/652174667.py:8: ResourceWarning: unclosed <socket.socket fd=97, family=AddressFamily.AF_INET, type=SocketKind.SOCK_STREAM, proto=6, laddr=('127.0.0.1', 64792), raddr=('127.0.0.1', 11434)>\n",
      "  analyzer = GraphRAGSystem(row[\"question\"])\n",
      "ResourceWarning: Enable tracemalloc to get the object allocation traceback\n"
     ]
    },
    {
     "name": "stdout",
     "output_type": "stream",
     "text": [
      "Question 192: Can AREDS supplements reduce AMD progression by reversing retinal pigment epithelial lipid accumulation? a) Yes b) No c) Partially d) Only with zinc\n",
      "Context: T...\n",
      "Response: c\n",
      "\n"
     ]
    },
    {
     "name": "stderr",
     "output_type": "stream",
     "text": [
      "/var/folders/z3/zc5j75dj0qn_z2sp8qf47q340000gn/T/ipykernel_70117/652174667.py:8: ResourceWarning: unclosed <socket.socket fd=97, family=AddressFamily.AF_INET, type=SocketKind.SOCK_STREAM, proto=6, laddr=('127.0.0.1', 64834), raddr=('127.0.0.1', 11434)>\n",
      "  analyzer = GraphRAGSystem(row[\"question\"])\n",
      "ResourceWarning: Enable tracemalloc to get the object allocation traceback\n"
     ]
    },
    {
     "name": "stdout",
     "output_type": "stream",
     "text": [
      "Question 193: Does wet AMD cause blind spots by inducing retinal pigment epithelial swelling? a) Yes b) No c) Sometimes d) Only late stages\n",
      "Context: T...\n",
      "Response: A) Yes\n",
      "\n"
     ]
    },
    {
     "name": "stderr",
     "output_type": "stream",
     "text": [
      "/var/folders/z3/zc5j75dj0qn_z2sp8qf47q340000gn/T/ipykernel_70117/652174667.py:8: ResourceWarning: unclosed <socket.socket fd=97, family=AddressFamily.AF_INET, type=SocketKind.SOCK_STREAM, proto=6, laddr=('127.0.0.1', 64857), raddr=('127.0.0.1', 11434)>\n",
      "  analyzer = GraphRAGSystem(row[\"question\"])\n",
      "ResourceWarning: Enable tracemalloc to get the object allocation traceback\n"
     ]
    },
    {
     "name": "stdout",
     "output_type": "stream",
     "text": [
      "Question 194: Can family history increase AMD risk by predisposing to retinal pigment epithelial lipid accumulation? a) Yes b) No c) Only with smoking d) Only with UV exposure\n",
      "Context: T...\n",
      "Response: a) Yes\n",
      "\n"
     ]
    },
    {
     "name": "stderr",
     "output_type": "stream",
     "text": [
      "/var/folders/z3/zc5j75dj0qn_z2sp8qf47q340000gn/T/ipykernel_70117/652174667.py:8: ResourceWarning: unclosed <socket.socket fd=97, family=AddressFamily.AF_INET, type=SocketKind.SOCK_STREAM, proto=6, laddr=('127.0.0.1', 64883), raddr=('127.0.0.1', 11434)>\n",
      "  analyzer = GraphRAGSystem(row[\"question\"])\n",
      "ResourceWarning: Enable tracemalloc to get the object allocation traceback\n"
     ]
    },
    {
     "name": "stdout",
     "output_type": "stream",
     "text": [
      "Question 195: Does dry AMD progress to wet AMD due to excessive retinal pigment epithelial lipid regeneration? a) Yes b) No c) Sometimes d) Only with obesity\n",
      "Context: S...\n",
      "Response: a\n",
      "\n"
     ]
    },
    {
     "name": "stderr",
     "output_type": "stream",
     "text": [
      "/var/folders/z3/zc5j75dj0qn_z2sp8qf47q340000gn/T/ipykernel_70117/652174667.py:8: ResourceWarning: unclosed <socket.socket fd=97, family=AddressFamily.AF_INET, type=SocketKind.SOCK_STREAM, proto=6, laddr=('127.0.0.1', 64922), raddr=('127.0.0.1', 11434)>\n",
      "  analyzer = GraphRAGSystem(row[\"question\"])\n",
      "ResourceWarning: Enable tracemalloc to get the object allocation traceback\n"
     ]
    },
    {
     "name": "stdout",
     "output_type": "stream",
     "text": [
      "Question 196: Does UV light increase AMD risk by causing retinal pigment epithelial lipid repair? a) Yes b) No c) Sometimes d) Only with light eyes\n",
      "Context: T...\n",
      "Response: a) Yes\n",
      "\n"
     ]
    },
    {
     "name": "stderr",
     "output_type": "stream",
     "text": [
      "/var/folders/z3/zc5j75dj0qn_z2sp8qf47q340000gn/T/ipykernel_70117/652174667.py:8: ResourceWarning: unclosed <socket.socket fd=97, family=AddressFamily.AF_INET, type=SocketKind.SOCK_STREAM, proto=6, laddr=('127.0.0.1', 64952), raddr=('127.0.0.1', 11434)>\n",
      "  analyzer = GraphRAGSystem(row[\"question\"])\n",
      "ResourceWarning: Enable tracemalloc to get the object allocation traceback\n"
     ]
    },
    {
     "name": "stdout",
     "output_type": "stream",
     "text": [
      "Question 197: Can wet AMD affect face recognition by causing retinal pigment epithelial edema? a) Yes b) No c) Only with drusen d) Only with smoking\n",
      "Context: T...\n",
      "Response: a) Yes\n",
      "\n"
     ]
    },
    {
     "name": "stderr",
     "output_type": "stream",
     "text": [
      "/var/folders/z3/zc5j75dj0qn_z2sp8qf47q340000gn/T/ipykernel_70117/652174667.py:8: ResourceWarning: unclosed <socket.socket fd=97, family=AddressFamily.AF_INET, type=SocketKind.SOCK_STREAM, proto=6, laddr=('127.0.0.1', 64987), raddr=('127.0.0.1', 11434)>\n",
      "  analyzer = GraphRAGSystem(row[\"question\"])\n",
      "ResourceWarning: Enable tracemalloc to get the object allocation traceback\n"
     ]
    },
    {
     "name": "stdout",
     "output_type": "stream",
     "text": [
      "Question 198: Does hypertension worsen AMD by causing retinal pigment epithelial repair? a) Yes b) No c) Only with diabetes d) Only with high cholesterol\n",
      "Context: T...\n",
      "Response: a) Yes\n",
      "\n"
     ]
    },
    {
     "name": "stderr",
     "output_type": "stream",
     "text": [
      "/var/folders/z3/zc5j75dj0qn_z2sp8qf47q340000gn/T/ipykernel_70117/652174667.py:8: ResourceWarning: unclosed <socket.socket fd=97, family=AddressFamily.AF_INET, type=SocketKind.SOCK_STREAM, proto=6, laddr=('127.0.0.1', 65020), raddr=('127.0.0.1', 11434)>\n",
      "  analyzer = GraphRAGSystem(row[\"question\"])\n",
      "ResourceWarning: Enable tracemalloc to get the object allocation traceback\n"
     ]
    },
    {
     "name": "stdout",
     "output_type": "stream",
     "text": [
      "Question 199: Can smoking exacerbate AMD by increasing retinal pigment epithelial lipid deposits? a) Yes b) No c) Only with UV exposure d) Only with obesity\n",
      "Context: T...\n",
      "Response: a) Yes\n",
      "\n"
     ]
    },
    {
     "name": "stderr",
     "output_type": "stream",
     "text": [
      "/var/folders/z3/zc5j75dj0qn_z2sp8qf47q340000gn/T/ipykernel_70117/652174667.py:8: ResourceWarning: unclosed <socket.socket fd=97, family=AddressFamily.AF_INET, type=SocketKind.SOCK_STREAM, proto=6, laddr=('127.0.0.1', 65062), raddr=('127.0.0.1', 11434)>\n",
      "  analyzer = GraphRAGSystem(row[\"question\"])\n",
      "ResourceWarning: Enable tracemalloc to get the object allocation traceback\n"
     ]
    },
    {
     "name": "stdout",
     "output_type": "stream",
     "text": [
      "Question 200: Does dry AMD cause gradual vision loss by inducing retinal pigment epithelial regeneration? a) Yes b) No c) Sometimes d) Only late stages\n",
      "Context: T...\n",
      "Response: a) Yes\n",
      "\n"
     ]
    },
    {
     "name": "stderr",
     "output_type": "stream",
     "text": [
      "/var/folders/z3/zc5j75dj0qn_z2sp8qf47q340000gn/T/ipykernel_70117/652174667.py:8: ResourceWarning: unclosed <socket.socket fd=97, family=AddressFamily.AF_INET, type=SocketKind.SOCK_STREAM, proto=6, laddr=('127.0.0.1', 65092), raddr=('127.0.0.1', 11434)>\n",
      "  analyzer = GraphRAGSystem(row[\"question\"])\n",
      "ResourceWarning: Enable tracemalloc to get the object allocation traceback\n"
     ]
    },
    {
     "name": "stdout",
     "output_type": "stream",
     "text": [
      "Question 201: Can anti-VEGF therapy stabilize wet AMD by reducing retinal pigment epithelial lipid deposits? a) Yes b) No c) Only early stages d) Only with photodynamic therapy\n",
      "Context: T...\n",
      "Response: a) Yes.\n",
      "\n"
     ]
    },
    {
     "name": "stderr",
     "output_type": "stream",
     "text": [
      "/var/folders/z3/zc5j75dj0qn_z2sp8qf47q340000gn/T/ipykernel_70117/652174667.py:8: ResourceWarning: unclosed <socket.socket fd=97, family=AddressFamily.AF_INET, type=SocketKind.SOCK_STREAM, proto=6, laddr=('127.0.0.1', 65131), raddr=('127.0.0.1', 11434)>\n",
      "  analyzer = GraphRAGSystem(row[\"question\"])\n",
      "ResourceWarning: Enable tracemalloc to get the object allocation traceback\n"
     ]
    },
    {
     "name": "stdout",
     "output_type": "stream",
     "text": [
      "Question 202: Does smoking increase dry AMD risk by causing retinal pigment epithelial lipid repair? a) Yes b) No c) Only with UV exposure d) Only with high cholesterol\n",
      "Context: B...\n",
      "Response: a) Yes\n",
      "\n"
     ]
    },
    {
     "name": "stderr",
     "output_type": "stream",
     "text": [
      "/var/folders/z3/zc5j75dj0qn_z2sp8qf47q340000gn/T/ipykernel_70117/652174667.py:8: ResourceWarning: unclosed <socket.socket fd=97, family=AddressFamily.AF_INET, type=SocketKind.SOCK_STREAM, proto=6, laddr=('127.0.0.1', 65172), raddr=('127.0.0.1', 11434)>\n",
      "  analyzer = GraphRAGSystem(row[\"question\"])\n",
      "ResourceWarning: Enable tracemalloc to get the object allocation traceback\n"
     ]
    },
    {
     "name": "stdout",
     "output_type": "stream",
     "text": [
      "Question 203: Can wet AMD impair driving by inducing retinal pigment epithelial lipid accumulation? a) Yes b) No c) Only with drusen d) Only with smoking\n",
      "Context: T...\n",
      "Response: a) Yes\n",
      "\n"
     ]
    },
    {
     "name": "stderr",
     "output_type": "stream",
     "text": [
      "/var/folders/z3/zc5j75dj0qn_z2sp8qf47q340000gn/T/ipykernel_70117/652174667.py:8: ResourceWarning: unclosed <socket.socket fd=97, family=AddressFamily.AF_INET, type=SocketKind.SOCK_STREAM, proto=6, laddr=('127.0.0.1', 65198), raddr=('127.0.0.1', 11434)>\n",
      "  analyzer = GraphRAGSystem(row[\"question\"])\n",
      "ResourceWarning: Enable tracemalloc to get the object allocation traceback\n"
     ]
    },
    {
     "name": "stdout",
     "output_type": "stream",
     "text": [
      "Question 204: Can obesity worsen AMD by increasing retinal pigment epithelial lipid deposits? a) Yes b) No c) Only with diabetes d) Only with smoking\n",
      "Context: T...\n",
      "Response: a) Yes\n",
      "\n"
     ]
    },
    {
     "name": "stderr",
     "output_type": "stream",
     "text": [
      "/var/folders/z3/zc5j75dj0qn_z2sp8qf47q340000gn/T/ipykernel_70117/652174667.py:8: ResourceWarning: unclosed <socket.socket fd=97, family=AddressFamily.AF_INET, type=SocketKind.SOCK_STREAM, proto=6, laddr=('127.0.0.1', 65222), raddr=('127.0.0.1', 11434)>\n",
      "  analyzer = GraphRAGSystem(row[\"question\"])\n",
      "ResourceWarning: Enable tracemalloc to get the object allocation traceback\n"
     ]
    },
    {
     "name": "stdout",
     "output_type": "stream",
     "text": [
      "Question 205: Can wet AMD cause visual hallucinations by inducing retinal pigment epithelial lipid deposits? a) Yes b) No c) Only with drusen d) Only with smoking\n",
      "Context: A...\n",
      "Response: a) Yes\n",
      "\n"
     ]
    },
    {
     "name": "stderr",
     "output_type": "stream",
     "text": [
      "/var/folders/z3/zc5j75dj0qn_z2sp8qf47q340000gn/T/ipykernel_70117/652174667.py:8: ResourceWarning: unclosed <socket.socket fd=97, family=AddressFamily.AF_INET, type=SocketKind.SOCK_STREAM, proto=6, laddr=('127.0.0.1', 65264), raddr=('127.0.0.1', 11434)>\n",
      "  analyzer = GraphRAGSystem(row[\"question\"])\n",
      "ResourceWarning: Enable tracemalloc to get the object allocation traceback\n"
     ]
    },
    {
     "name": "stdout",
     "output_type": "stream",
     "text": [
      "Question 206: Does hypertension contribute to AMD by causing retinal pigment epithelial lipid repair? a) Yes b) No c) Only with diabetes d) Only with high cholesterol\n",
      "Context: T...\n",
      "Response: a) Yes.\n",
      "\n"
     ]
    },
    {
     "name": "stderr",
     "output_type": "stream",
     "text": [
      "/var/folders/z3/zc5j75dj0qn_z2sp8qf47q340000gn/T/ipykernel_70117/652174667.py:8: ResourceWarning: unclosed <socket.socket fd=97, family=AddressFamily.AF_INET, type=SocketKind.SOCK_STREAM, proto=6, laddr=('127.0.0.1', 65297), raddr=('127.0.0.1', 11434)>\n",
      "  analyzer = GraphRAGSystem(row[\"question\"])\n",
      "ResourceWarning: Enable tracemalloc to get the object allocation traceback\n"
     ]
    },
    {
     "name": "stdout",
     "output_type": "stream",
     "text": [
      "Question 207: Can smoking increase AMD severity by promoting retinal pigment epithelial lipid accumulation? a) Yes b) No c) Only with UV exposure d) Only with obesity\n",
      "Context: T...\n",
      "Response: a) Yes\n",
      "\n"
     ]
    },
    {
     "name": "stderr",
     "output_type": "stream",
     "text": [
      "/var/folders/z3/zc5j75dj0qn_z2sp8qf47q340000gn/T/ipykernel_70117/652174667.py:8: ResourceWarning: unclosed <socket.socket fd=97, family=AddressFamily.AF_INET, type=SocketKind.SOCK_STREAM, proto=6, laddr=('127.0.0.1', 65334), raddr=('127.0.0.1', 11434)>\n",
      "  analyzer = GraphRAGSystem(row[\"question\"])\n",
      "ResourceWarning: Enable tracemalloc to get the object allocation traceback\n"
     ]
    },
    {
     "name": "stdout",
     "output_type": "stream",
     "text": [
      "Question 208: Does diabetes exacerbate AMD by causing retinal pigment epithelial lipid regeneration? a) Yes b) No c) Only with hypertension d) Only with smoking\n",
      "Context: T...\n",
      "Response: a) Yes.\n",
      "\n"
     ]
    },
    {
     "name": "stderr",
     "output_type": "stream",
     "text": [
      "/var/folders/z3/zc5j75dj0qn_z2sp8qf47q340000gn/T/ipykernel_70117/652174667.py:8: ResourceWarning: unclosed <socket.socket fd=97, family=AddressFamily.AF_INET, type=SocketKind.SOCK_STREAM, proto=6, laddr=('127.0.0.1', 65362), raddr=('127.0.0.1', 11434)>\n",
      "  analyzer = GraphRAGSystem(row[\"question\"])\n",
      "ResourceWarning: Enable tracemalloc to get the object allocation traceback\n"
     ]
    },
    {
     "name": "stdout",
     "output_type": "stream",
     "text": [
      "Question 209: Does smoking worsen AMD by increasing retinal pigment epithelial atrophy? a) Yes b) No c) Only with UV exposure d) Only with obesity\n",
      "Context: T...\n",
      "Response: a) Yes.\n",
      "\n"
     ]
    },
    {
     "name": "stderr",
     "output_type": "stream",
     "text": [
      "/var/folders/z3/zc5j75dj0qn_z2sp8qf47q340000gn/T/ipykernel_70117/652174667.py:8: ResourceWarning: unclosed <socket.socket fd=97, family=AddressFamily.AF_INET, type=SocketKind.SOCK_STREAM, proto=6, laddr=('127.0.0.1', 65399), raddr=('127.0.0.1', 11434)>\n",
      "  analyzer = GraphRAGSystem(row[\"question\"])\n",
      "ResourceWarning: Enable tracemalloc to get the object allocation traceback\n"
     ]
    },
    {
     "name": "stdout",
     "output_type": "stream",
     "text": [
      "Question 210: Can dry AMD progress to wet AMD due to excessive retinal pigment epithelial lipid accumulation? a) Yes b) No c) Only with smoking d) Only with diabetes\n",
      "Context: T...\n",
      "Response: a) Yes\n",
      "\n"
     ]
    },
    {
     "name": "stderr",
     "output_type": "stream",
     "text": [
      "/var/folders/z3/zc5j75dj0qn_z2sp8qf47q340000gn/T/ipykernel_70117/652174667.py:8: ResourceWarning: unclosed <socket.socket fd=97, family=AddressFamily.AF_INET, type=SocketKind.SOCK_STREAM, proto=6, laddr=('127.0.0.1', 65432), raddr=('127.0.0.1', 11434)>\n",
      "  analyzer = GraphRAGSystem(row[\"question\"])\n",
      "ResourceWarning: Enable tracemalloc to get the object allocation traceback\n"
     ]
    },
    {
     "name": "stdout",
     "output_type": "stream",
     "text": [
      "Question 211: Does family history increase AMD risk by predisposing to retinal pigment epithelial lipid deposits? a) Yes b) No c) Only in women d) Only with hypertension\n",
      "Context: T...\n",
      "Response: a) Yes.\n",
      "\n"
     ]
    },
    {
     "name": "stderr",
     "output_type": "stream",
     "text": [
      "/var/folders/z3/zc5j75dj0qn_z2sp8qf47q340000gn/T/ipykernel_70117/652174667.py:8: ResourceWarning: unclosed <socket.socket fd=97, family=AddressFamily.AF_INET, type=SocketKind.SOCK_STREAM, proto=6, laddr=('127.0.0.1', 65472), raddr=('127.0.0.1', 11434)>\n",
      "  analyzer = GraphRAGSystem(row[\"question\"])\n",
      "ResourceWarning: Enable tracemalloc to get the object allocation traceback\n"
     ]
    },
    {
     "name": "stdout",
     "output_type": "stream",
     "text": [
      "Question 212: Can anti-VEGF injections treat wet AMD by reversing retinal pigment epithelial atrophy? a) Yes b) No c) Partially d) Only early stages\n",
      "Context: I...\n",
      "Response: b\n",
      "\n"
     ]
    },
    {
     "name": "stderr",
     "output_type": "stream",
     "text": [
      "/var/folders/z3/zc5j75dj0qn_z2sp8qf47q340000gn/T/ipykernel_70117/652174667.py:8: ResourceWarning: unclosed <socket.socket fd=97, family=AddressFamily.AF_INET, type=SocketKind.SOCK_STREAM, proto=6, laddr=('127.0.0.1', 65535), raddr=('127.0.0.1', 11434)>\n",
      "  analyzer = GraphRAGSystem(row[\"question\"])\n",
      "ResourceWarning: Enable tracemalloc to get the object allocation traceback\n"
     ]
    },
    {
     "name": "stdout",
     "output_type": "stream",
     "text": [
      "Question 213: Does hypertension exacerbate AMD by causing retinal pigment epithelial edema? a) Yes b) No c) Only with diabetes d) Only with smoking\n",
      "Context: A...\n",
      "Response: a) Yes\n",
      "\n"
     ]
    },
    {
     "name": "stderr",
     "output_type": "stream",
     "text": [
      "/var/folders/z3/zc5j75dj0qn_z2sp8qf47q340000gn/T/ipykernel_70117/652174667.py:8: ResourceWarning: unclosed <socket.socket fd=97, family=AddressFamily.AF_INET, type=SocketKind.SOCK_STREAM, proto=6, laddr=('127.0.0.1', 49192), raddr=('127.0.0.1', 11434)>\n",
      "  analyzer = GraphRAGSystem(row[\"question\"])\n",
      "ResourceWarning: Enable tracemalloc to get the object allocation traceback\n"
     ]
    },
    {
     "name": "stdout",
     "output_type": "stream",
     "text": [
      "Question 214: Can the Amsler grid detect wet AMD by assessing retinal pigment epithelial swelling? a) Yes b) No c) Sometimes d) Only late stages\n",
      "Context: T...\n",
      "Response: a) Yes\n",
      "\n"
     ]
    },
    {
     "name": "stderr",
     "output_type": "stream",
     "text": [
      "/var/folders/z3/zc5j75dj0qn_z2sp8qf47q340000gn/T/ipykernel_70117/652174667.py:8: ResourceWarning: unclosed <socket.socket fd=97, family=AddressFamily.AF_INET, type=SocketKind.SOCK_STREAM, proto=6, laddr=('127.0.0.1', 49235), raddr=('127.0.0.1', 11434)>\n",
      "  analyzer = GraphRAGSystem(row[\"question\"])\n",
      "ResourceWarning: Enable tracemalloc to get the object allocation traceback\n"
     ]
    },
    {
     "name": "stdout",
     "output_type": "stream",
     "text": [
      "Question 215: Does UV light exposure accelerate AMD by causing retinal pigment epithelial repair? a) Yes b) No c) Only with light eyes d) Only with smoking\n",
      "Context: T...\n",
      "Response: a) Yes\n",
      "\n"
     ]
    },
    {
     "name": "stderr",
     "output_type": "stream",
     "text": [
      "/var/folders/z3/zc5j75dj0qn_z2sp8qf47q340000gn/T/ipykernel_70117/652174667.py:8: ResourceWarning: unclosed <socket.socket fd=97, family=AddressFamily.AF_INET, type=SocketKind.SOCK_STREAM, proto=6, laddr=('127.0.0.1', 49264), raddr=('127.0.0.1', 11434)>\n",
      "  analyzer = GraphRAGSystem(row[\"question\"])\n",
      "ResourceWarning: Enable tracemalloc to get the object allocation traceback\n"
     ]
    },
    {
     "name": "stdout",
     "output_type": "stream",
     "text": [
      "Question 216: Can AREDS supplements slow dry AMD by reversing retinal pigment epithelial lipid deposits? a) Yes b) No c) Partially d) Only with zinc\n",
      "Context: T...\n",
      "Response: a) Yes\n",
      "\n"
     ]
    },
    {
     "name": "stderr",
     "output_type": "stream",
     "text": [
      "/var/folders/z3/zc5j75dj0qn_z2sp8qf47q340000gn/T/ipykernel_70117/652174667.py:8: ResourceWarning: unclosed <socket.socket fd=97, family=AddressFamily.AF_INET, type=SocketKind.SOCK_STREAM, proto=6, laddr=('127.0.0.1', 49307), raddr=('127.0.0.1', 11434)>\n",
      "  analyzer = GraphRAGSystem(row[\"question\"])\n",
      "ResourceWarning: Enable tracemalloc to get the object allocation traceback\n"
     ]
    },
    {
     "name": "stdout",
     "output_type": "stream",
     "text": [
      "Question 217: Does obesity increase AMD risk by promoting retinal pigment epithelial edema? a) Yes b) No c) Only with diabetes d) Only with hypertension\n",
      "Context: T...\n",
      "Response: a) Yes\n",
      "\n"
     ]
    },
    {
     "name": "stderr",
     "output_type": "stream",
     "text": [
      "/var/folders/z3/zc5j75dj0qn_z2sp8qf47q340000gn/T/ipykernel_70117/652174667.py:8: ResourceWarning: unclosed <socket.socket fd=97, family=AddressFamily.AF_INET, type=SocketKind.SOCK_STREAM, proto=6, laddr=('127.0.0.1', 49342), raddr=('127.0.0.1', 11434)>\n",
      "  analyzer = GraphRAGSystem(row[\"question\"])\n",
      "ResourceWarning: Enable tracemalloc to get the object allocation traceback\n"
     ]
    },
    {
     "name": "stdout",
     "output_type": "stream",
     "text": [
      "Question 218: Can wet AMD cause sudden vision loss by inducing retinal pigment epithelial lipid deposits? a) Yes b) No c) Only with drusen d) Only with UV exposure\n",
      "Context: T...\n",
      "Response: a) Yes\n",
      "\n"
     ]
    },
    {
     "name": "stderr",
     "output_type": "stream",
     "text": [
      "/var/folders/z3/zc5j75dj0qn_z2sp8qf47q340000gn/T/ipykernel_70117/652174667.py:8: ResourceWarning: unclosed <socket.socket fd=97, family=AddressFamily.AF_INET, type=SocketKind.SOCK_STREAM, proto=6, laddr=('127.0.0.1', 49396), raddr=('127.0.0.1', 11434)>\n",
      "  analyzer = GraphRAGSystem(row[\"question\"])\n",
      "ResourceWarning: Enable tracemalloc to get the object allocation traceback\n"
     ]
    },
    {
     "name": "stdout",
     "output_type": "stream",
     "text": [
      "Question 219: Does diabetes heighten AMD risk by causing retinal pigment epithelial repair? a) Yes b) No c) Only with smoking d) Only with obesity\n",
      "Context: T...\n",
      "Response: a) Yes\n",
      "\n"
     ]
    },
    {
     "name": "stderr",
     "output_type": "stream",
     "text": [
      "/var/folders/z3/zc5j75dj0qn_z2sp8qf47q340000gn/T/ipykernel_70117/652174667.py:8: ResourceWarning: unclosed <socket.socket fd=97, family=AddressFamily.AF_INET, type=SocketKind.SOCK_STREAM, proto=6, laddr=('127.0.0.1', 49439), raddr=('127.0.0.1', 11434)>\n",
      "  analyzer = GraphRAGSystem(row[\"question\"])\n",
      "ResourceWarning: Enable tracemalloc to get the object allocation traceback\n"
     ]
    },
    {
     "name": "stdout",
     "output_type": "stream",
     "text": [
      "Question 220: Can OCT diagnose wet AMD by detecting retinal pigment epithelial lipid accumulation? a) Yes b) No c) Only late stages d) Only with drusen\n",
      "Context: T...\n",
      "Response: a) Yes\n",
      "\n"
     ]
    },
    {
     "name": "stderr",
     "output_type": "stream",
     "text": [
      "/var/folders/z3/zc5j75dj0qn_z2sp8qf47q340000gn/T/ipykernel_70117/652174667.py:8: ResourceWarning: unclosed <socket.socket fd=97, family=AddressFamily.AF_INET, type=SocketKind.SOCK_STREAM, proto=6, laddr=('127.0.0.1', 49500), raddr=('127.0.0.1', 11434)>\n",
      "  analyzer = GraphRAGSystem(row[\"question\"])\n",
      "ResourceWarning: Enable tracemalloc to get the object allocation traceback\n"
     ]
    },
    {
     "name": "stdout",
     "output_type": "stream",
     "text": [
      "Question 221: Does smoking worsen dry AMD by promoting retinal pigment epithelial scarring? a) Yes b) No c) Only with UV exposure d) Only with high cholesterol\n",
      "Context: T...\n",
      "Response: a) Yes\n",
      "\n"
     ]
    },
    {
     "name": "stderr",
     "output_type": "stream",
     "text": [
      "/var/folders/z3/zc5j75dj0qn_z2sp8qf47q340000gn/T/ipykernel_70117/652174667.py:8: ResourceWarning: unclosed <socket.socket fd=97, family=AddressFamily.AF_INET, type=SocketKind.SOCK_STREAM, proto=6, laddr=('127.0.0.1', 49539), raddr=('127.0.0.1', 11434)>\n",
      "  analyzer = GraphRAGSystem(row[\"question\"])\n",
      "ResourceWarning: Enable tracemalloc to get the object allocation traceback\n"
     ]
    },
    {
     "name": "stdout",
     "output_type": "stream",
     "text": [
      "Question 222: Can photodynamic therapy manage wet AMD by reversing retinal pigment epithelial edema? a) Yes b) No c) Sometimes d) Only early stages\n",
      "Context: P...\n",
      "Response: b)\n",
      "\n"
     ]
    },
    {
     "name": "stderr",
     "output_type": "stream",
     "text": [
      "/var/folders/z3/zc5j75dj0qn_z2sp8qf47q340000gn/T/ipykernel_70117/652174667.py:8: ResourceWarning: unclosed <socket.socket fd=97, family=AddressFamily.AF_INET, type=SocketKind.SOCK_STREAM, proto=6, laddr=('127.0.0.1', 49577), raddr=('127.0.0.1', 11434)>\n",
      "  analyzer = GraphRAGSystem(row[\"question\"])\n",
      "ResourceWarning: Enable tracemalloc to get the object allocation traceback\n"
     ]
    },
    {
     "name": "stdout",
     "output_type": "stream",
     "text": [
      "Question 223: Does a diet high in leafy greens reduce AMD progression by eliminating retinal pigment epithelial atrophy? a) Yes b) No c) Partially d) Only with supplements\n",
      "Context: A...\n",
      "Response: c\n",
      "\n"
     ]
    },
    {
     "name": "stderr",
     "output_type": "stream",
     "text": [
      "/var/folders/z3/zc5j75dj0qn_z2sp8qf47q340000gn/T/ipykernel_70117/652174667.py:8: ResourceWarning: unclosed <socket.socket fd=97, family=AddressFamily.AF_INET, type=SocketKind.SOCK_STREAM, proto=6, laddr=('127.0.0.1', 49617), raddr=('127.0.0.1', 11434)>\n",
      "  analyzer = GraphRAGSystem(row[\"question\"])\n",
      "ResourceWarning: Enable tracemalloc to get the object allocation traceback\n"
     ]
    },
    {
     "name": "stdout",
     "output_type": "stream",
     "text": [
      "Question 224: Can wet AMD lead to legal blindness by causing retinal pigment epithelial lipid repair? a) Yes b) No c) Sometimes d) Only late stages\n",
      "Context: T...\n",
      "Response: a) Yes\n",
      "\n"
     ]
    },
    {
     "name": "stderr",
     "output_type": "stream",
     "text": [
      "/var/folders/z3/zc5j75dj0qn_z2sp8qf47q340000gn/T/ipykernel_70117/652174667.py:8: ResourceWarning: unclosed <socket.socket fd=97, family=AddressFamily.AF_INET, type=SocketKind.SOCK_STREAM, proto=6, laddr=('127.0.0.1', 49650), raddr=('127.0.0.1', 11434)>\n",
      "  analyzer = GraphRAGSystem(row[\"question\"])\n",
      "ResourceWarning: Enable tracemalloc to get the object allocation traceback\n"
     ]
    },
    {
     "name": "stdout",
     "output_type": "stream",
     "text": [
      "Question 225: Does high cholesterol increase AMD risk by causing retinal pigment epithelial lipid deposits? a) Yes b) No c) Only with diabetes d) Only with smoking\n",
      "Context: T...\n",
      "Response: b\n",
      "\n"
     ]
    },
    {
     "name": "stderr",
     "output_type": "stream",
     "text": [
      "/var/folders/z3/zc5j75dj0qn_z2sp8qf47q340000gn/T/ipykernel_70117/652174667.py:8: ResourceWarning: unclosed <socket.socket fd=97, family=AddressFamily.AF_INET, type=SocketKind.SOCK_STREAM, proto=6, laddr=('127.0.0.1', 49689), raddr=('127.0.0.1', 11434)>\n",
      "  analyzer = GraphRAGSystem(row[\"question\"])\n",
      "ResourceWarning: Enable tracemalloc to get the object allocation traceback\n"
     ]
    },
    {
     "name": "stdout",
     "output_type": "stream",
     "text": [
      "Question 226: Can dry AMD transition to wet AMD due to retinal pigment epithelial lipid accumulation? a) Yes b) No c) Only with drusen d) Only with UV exposure\n",
      "Context: T...\n",
      "Response: a) Yes\n",
      "\n"
     ]
    },
    {
     "name": "stderr",
     "output_type": "stream",
     "text": [
      "/var/folders/z3/zc5j75dj0qn_z2sp8qf47q340000gn/T/ipykernel_70117/652174667.py:8: ResourceWarning: unclosed <socket.socket fd=97, family=AddressFamily.AF_INET, type=SocketKind.SOCK_STREAM, proto=6, laddr=('127.0.0.1', 49745), raddr=('127.0.0.1', 11434)>\n",
      "  analyzer = GraphRAGSystem(row[\"question\"])\n",
      "ResourceWarning: Enable tracemalloc to get the object allocation traceback\n"
     ]
    },
    {
     "name": "stdout",
     "output_type": "stream",
     "text": [
      "Question 227: Does AMD impair color perception by causing retinal pigment epithelial regeneration? a) Yes b) No c) Sometimes d) Only wet AMD\n",
      "Context: S...\n",
      "Response: a) Yes\n",
      "\n"
     ]
    },
    {
     "name": "stderr",
     "output_type": "stream",
     "text": [
      "/var/folders/z3/zc5j75dj0qn_z2sp8qf47q340000gn/T/ipykernel_70117/652174667.py:8: ResourceWarning: unclosed <socket.socket fd=97, family=AddressFamily.AF_INET, type=SocketKind.SOCK_STREAM, proto=6, laddr=('127.0.0.1', 49782), raddr=('127.0.0.1', 11434)>\n",
      "  analyzer = GraphRAGSystem(row[\"question\"])\n",
      "ResourceWarning: Enable tracemalloc to get the object allocation traceback\n"
     ]
    },
    {
     "name": "stdout",
     "output_type": "stream",
     "text": [
      "Question 228: Can anti-VEGF therapy stabilize wet AMD by reducing retinal pigment epithelial hemorrhages? a) Yes b) No c) Only early stages d) Only with surgery\n",
      "Context: T...\n",
      "Response: a) Yes\n",
      "\n"
     ]
    },
    {
     "name": "stderr",
     "output_type": "stream",
     "text": [
      "/var/folders/z3/zc5j75dj0qn_z2sp8qf47q340000gn/T/ipykernel_70117/652174667.py:8: ResourceWarning: unclosed <socket.socket fd=97, family=AddressFamily.AF_INET, type=SocketKind.SOCK_STREAM, proto=6, laddr=('127.0.0.1', 49815), raddr=('127.0.0.1', 11434)>\n",
      "  analyzer = GraphRAGSystem(row[\"question\"])\n",
      "ResourceWarning: Enable tracemalloc to get the object allocation traceback\n"
     ]
    },
    {
     "name": "stdout",
     "output_type": "stream",
     "text": [
      "Question 229: Does family history increase AMD risk by causing retinal pigment epithelial swelling? a) Yes b) No c) Sometimes d) Only with smoking\n",
      "Context: T...\n",
      "Response: a) Yes\n",
      "\n"
     ]
    },
    {
     "name": "stderr",
     "output_type": "stream",
     "text": [
      "/var/folders/z3/zc5j75dj0qn_z2sp8qf47q340000gn/T/ipykernel_70117/652174667.py:8: ResourceWarning: unclosed <socket.socket fd=97, family=AddressFamily.AF_INET, type=SocketKind.SOCK_STREAM, proto=6, laddr=('127.0.0.1', 49870), raddr=('127.0.0.1', 11434)>\n",
      "  analyzer = GraphRAGSystem(row[\"question\"])\n",
      "ResourceWarning: Enable tracemalloc to get the object allocation traceback\n"
     ]
    },
    {
     "name": "stdout",
     "output_type": "stream",
     "text": [
      "Question 230: Can wet AMD distort vision by causing retinal pigment epithelial edema? a) Yes b) No c) Only with drusen d) Only with hypertension\n",
      "Context: T...\n",
      "Response: a) Yes\n",
      "\n"
     ]
    },
    {
     "name": "stderr",
     "output_type": "stream",
     "text": [
      "/var/folders/z3/zc5j75dj0qn_z2sp8qf47q340000gn/T/ipykernel_70117/652174667.py:8: ResourceWarning: unclosed <socket.socket fd=97, family=AddressFamily.AF_INET, type=SocketKind.SOCK_STREAM, proto=6, laddr=('127.0.0.1', 49916), raddr=('127.0.0.1', 11434)>\n",
      "  analyzer = GraphRAGSystem(row[\"question\"])\n",
      "ResourceWarning: Enable tracemalloc to get the object allocation traceback\n"
     ]
    },
    {
     "name": "stdout",
     "output_type": "stream",
     "text": [
      "Question 231: Does dry AMD progress slowly because it avoids retinal pigment epithelial lipid repair? a) Yes b) No c) Sometimes d) Only early stages\n",
      "Context: T...\n",
      "Response: a) Yes\n",
      "\n"
     ]
    },
    {
     "name": "stderr",
     "output_type": "stream",
     "text": [
      "/var/folders/z3/zc5j75dj0qn_z2sp8qf47q340000gn/T/ipykernel_70117/652174667.py:8: ResourceWarning: unclosed <socket.socket fd=97, family=AddressFamily.AF_INET, type=SocketKind.SOCK_STREAM, proto=6, laddr=('127.0.0.1', 49955), raddr=('127.0.0.1', 11434)>\n",
      "  analyzer = GraphRAGSystem(row[\"question\"])\n",
      "ResourceWarning: Enable tracemalloc to get the object allocation traceback\n"
     ]
    },
    {
     "name": "stdout",
     "output_type": "stream",
     "text": [
      "Question 232: Can hypertension exacerbate AMD by causing retinal pigment epithelial repair? a) Yes b) No c) Only with diabetes d) Only with obesity\n",
      "Context: H...\n",
      "Response: a) Yes\n",
      "\n"
     ]
    },
    {
     "name": "stderr",
     "output_type": "stream",
     "text": [
      "/var/folders/z3/zc5j75dj0qn_z2sp8qf47q340000gn/T/ipykernel_70117/652174667.py:8: ResourceWarning: unclosed <socket.socket fd=97, family=AddressFamily.AF_INET, type=SocketKind.SOCK_STREAM, proto=6, laddr=('127.0.0.1', 49985), raddr=('127.0.0.1', 11434)>\n",
      "  analyzer = GraphRAGSystem(row[\"question\"])\n",
      "ResourceWarning: Enable tracemalloc to get the object allocation traceback\n"
     ]
    },
    {
     "name": "stdout",
     "output_type": "stream",
     "text": [
      "Question 233: Does smoking worsen AMD by increasing retinal pigment epithelial lipid accumulation? a) Yes b) No c) Only with UV exposure d) Only with high cholesterol\n",
      "Context: T...\n",
      "Response: a) Yes\n",
      "\n"
     ]
    },
    {
     "name": "stderr",
     "output_type": "stream",
     "text": [
      "/var/folders/z3/zc5j75dj0qn_z2sp8qf47q340000gn/T/ipykernel_70117/652174667.py:8: ResourceWarning: unclosed <socket.socket fd=97, family=AddressFamily.AF_INET, type=SocketKind.SOCK_STREAM, proto=6, laddr=('127.0.0.1', 50039), raddr=('127.0.0.1', 11434)>\n",
      "  analyzer = GraphRAGSystem(row[\"question\"])\n",
      "ResourceWarning: Enable tracemalloc to get the object allocation traceback\n"
     ]
    },
    {
     "name": "stdout",
     "output_type": "stream",
     "text": [
      "Question 234: Can OCT detect early dry AMD by identifying retinal pigment epithelial lipid deposits? a) Yes b) No c) Only late stages d) Only with fluid\n",
      "Context: T...\n",
      "Response: a) Yes\n",
      "\n"
     ]
    },
    {
     "name": "stderr",
     "output_type": "stream",
     "text": [
      "/var/folders/z3/zc5j75dj0qn_z2sp8qf47q340000gn/T/ipykernel_70117/652174667.py:8: ResourceWarning: unclosed <socket.socket fd=97, family=AddressFamily.AF_INET, type=SocketKind.SOCK_STREAM, proto=6, laddr=('127.0.0.1', 50081), raddr=('127.0.0.1', 11434)>\n",
      "  analyzer = GraphRAGSystem(row[\"question\"])\n",
      "ResourceWarning: Enable tracemalloc to get the object allocation traceback\n"
     ]
    },
    {
     "name": "stdout",
     "output_type": "stream",
     "text": [
      "Question 235: Does wet AMD treatment with anti-VEGF injections work by reversing retinal pigment epithelial lipid accumulation? a) Yes b) No c) Partially d) Only early stages\n",
      "Context: T...\n",
      "Response: b\n",
      "\n"
     ]
    },
    {
     "name": "stderr",
     "output_type": "stream",
     "text": [
      "/var/folders/z3/zc5j75dj0qn_z2sp8qf47q340000gn/T/ipykernel_70117/652174667.py:8: ResourceWarning: unclosed <socket.socket fd=97, family=AddressFamily.AF_INET, type=SocketKind.SOCK_STREAM, proto=6, laddr=('127.0.0.1', 50122), raddr=('127.0.0.1', 11434)>\n",
      "  analyzer = GraphRAGSystem(row[\"question\"])\n",
      "ResourceWarning: Enable tracemalloc to get the object allocation traceback\n"
     ]
    },
    {
     "name": "stdout",
     "output_type": "stream",
     "text": [
      "Question 236: Can diabetes contribute to AMD by increasing retinal pigment epithelial edema? a) Yes b) No c) Only with smoking d) Only with hypertension\n",
      "Context: T...\n",
      "Response: a) Yes.\n",
      "\n"
     ]
    },
    {
     "name": "stderr",
     "output_type": "stream",
     "text": [
      "/var/folders/z3/zc5j75dj0qn_z2sp8qf47q340000gn/T/ipykernel_70117/652174667.py:8: ResourceWarning: unclosed <socket.socket fd=97, family=AddressFamily.AF_INET, type=SocketKind.SOCK_STREAM, proto=6, laddr=('127.0.0.1', 50168), raddr=('127.0.0.1', 11434)>\n",
      "  analyzer = GraphRAGSystem(row[\"question\"])\n",
      "ResourceWarning: Enable tracemalloc to get the object allocation traceback\n"
     ]
    },
    {
     "name": "stdout",
     "output_type": "stream",
     "text": [
      "Question 237: Does dry AMD progress to geographic atrophy by causing retinal pigment epithelial lipid regeneration? a) Yes b) No c) Sometimes d) Only late stages\n",
      "Context: T...\n",
      "Response: a) Yes\n",
      "\n"
     ]
    },
    {
     "name": "stderr",
     "output_type": "stream",
     "text": [
      "/var/folders/z3/zc5j75dj0qn_z2sp8qf47q340000gn/T/ipykernel_70117/652174667.py:8: ResourceWarning: unclosed <socket.socket fd=97, family=AddressFamily.AF_INET, type=SocketKind.SOCK_STREAM, proto=6, laddr=('127.0.0.1', 50212), raddr=('127.0.0.1', 11434)>\n",
      "  analyzer = GraphRAGSystem(row[\"question\"])\n",
      "ResourceWarning: Enable tracemalloc to get the object allocation traceback\n"
     ]
    },
    {
     "name": "stdout",
     "output_type": "stream",
     "text": [
      "Question 238: Can AMD increase fall risk by impairing retinal pigment epithelial lipid metabolism? a) Yes b) No c) Only with wet AMD d) Only with dry AMD\n",
      "Context: T...\n",
      "Response: a) Yes\n",
      "\n"
     ]
    },
    {
     "name": "stderr",
     "output_type": "stream",
     "text": [
      "/var/folders/z3/zc5j75dj0qn_z2sp8qf47q340000gn/T/ipykernel_70117/652174667.py:8: ResourceWarning: unclosed <socket.socket fd=97, family=AddressFamily.AF_INET, type=SocketKind.SOCK_STREAM, proto=6, laddr=('127.0.0.1', 50250), raddr=('127.0.0.1', 11434)>\n",
      "  analyzer = GraphRAGSystem(row[\"question\"])\n",
      "ResourceWarning: Enable tracemalloc to get the object allocation traceback\n"
     ]
    },
    {
     "name": "stdout",
     "output_type": "stream",
     "text": [
      "Question 239: Does UV exposure accelerate AMD by causing retinal pigment epithelial lipid repair? a) Yes b) No c) Only with smoking d) Only with light eyes\n",
      "Context: T...\n",
      "Response: a) Yes\n",
      "\n"
     ]
    },
    {
     "name": "stderr",
     "output_type": "stream",
     "text": [
      "/var/folders/z3/zc5j75dj0qn_z2sp8qf47q340000gn/T/ipykernel_70117/652174667.py:8: ResourceWarning: unclosed <socket.socket fd=97, family=AddressFamily.AF_INET, type=SocketKind.SOCK_STREAM, proto=6, laddr=('127.0.0.1', 50309), raddr=('127.0.0.1', 11434)>\n",
      "  analyzer = GraphRAGSystem(row[\"question\"])\n",
      "ResourceWarning: Enable tracemalloc to get the object allocation traceback\n"
     ]
    },
    {
     "name": "stdout",
     "output_type": "stream",
     "text": [
      "Question 240: Can wet AMD cause rapid vision loss by inducing retinal pigment epithelial edema? a) Yes b) No c) Only with drusen d) Only with hypertension\n",
      "Context: W...\n",
      "Response: a) Yes\n",
      "\n"
     ]
    },
    {
     "name": "stderr",
     "output_type": "stream",
     "text": [
      "/var/folders/z3/zc5j75dj0qn_z2sp8qf47q340000gn/T/ipykernel_70117/652174667.py:8: ResourceWarning: unclosed <socket.socket fd=97, family=AddressFamily.AF_INET, type=SocketKind.SOCK_STREAM, proto=6, laddr=('127.0.0.1', 50354), raddr=('127.0.0.1', 11434)>\n",
      "  analyzer = GraphRAGSystem(row[\"question\"])\n",
      "ResourceWarning: Enable tracemalloc to get the object allocation traceback\n"
     ]
    },
    {
     "name": "stdout",
     "output_type": "stream",
     "text": [
      "Question 241: Does a diet high in antioxidants prevent AMD by reversing retinal pigment epithelial edema? a) Yes b) No c) Partially d) Only with supplements\n",
      "Context: T...\n",
      "Response: a) Yes\n",
      "\n"
     ]
    },
    {
     "name": "stderr",
     "output_type": "stream",
     "text": [
      "/var/folders/z3/zc5j75dj0qn_z2sp8qf47q340000gn/T/ipykernel_70117/652174667.py:8: ResourceWarning: unclosed <socket.socket fd=97, family=AddressFamily.AF_INET, type=SocketKind.SOCK_STREAM, proto=6, laddr=('127.0.0.1', 50402), raddr=('127.0.0.1', 11434)>\n",
      "  analyzer = GraphRAGSystem(row[\"question\"])\n",
      "ResourceWarning: Enable tracemalloc to get the object allocation traceback\n"
     ]
    },
    {
     "name": "stdout",
     "output_type": "stream",
     "text": [
      "Question 242: Can smoking exacerbate wet AMD by increasing retinal pigment epithelial lipid accumulation? a) Yes b) No c) Only with UV exposure d) Only with obesity\n",
      "Context: T...\n",
      "Response: a) Yes\n",
      "\n"
     ]
    },
    {
     "name": "stderr",
     "output_type": "stream",
     "text": [
      "/var/folders/z3/zc5j75dj0qn_z2sp8qf47q340000gn/T/ipykernel_70117/652174667.py:8: ResourceWarning: unclosed <socket.socket fd=97, family=AddressFamily.AF_INET, type=SocketKind.SOCK_STREAM, proto=6, laddr=('127.0.0.1', 50454), raddr=('127.0.0.1', 11434)>\n",
      "  analyzer = GraphRAGSystem(row[\"question\"])\n",
      "ResourceWarning: Enable tracemalloc to get the object allocation traceback\n"
     ]
    },
    {
     "name": "stdout",
     "output_type": "stream",
     "text": [
      "Question 243: Does dry AMD affect color perception by causing retinal pigment epithelial lipid regeneration? a) Yes b) No c) Sometimes d) Only late stages\n",
      "Context: T...\n",
      "Response: a) Yes\n",
      "\n"
     ]
    },
    {
     "name": "stderr",
     "output_type": "stream",
     "text": [
      "/var/folders/z3/zc5j75dj0qn_z2sp8qf47q340000gn/T/ipykernel_70117/652174667.py:8: ResourceWarning: unclosed <socket.socket fd=97, family=AddressFamily.AF_INET, type=SocketKind.SOCK_STREAM, proto=6, laddr=('127.0.0.1', 50495), raddr=('127.0.0.1', 11434)>\n",
      "  analyzer = GraphRAGSystem(row[\"question\"])\n",
      "ResourceWarning: Enable tracemalloc to get the object allocation traceback\n"
     ]
    },
    {
     "name": "stdout",
     "output_type": "stream",
     "text": [
      "Question 244: Does obesity increase AMD risk by causing retinal pigment epithelial lipid repair? a) Yes b) No c) Sometimes d) Only with diabetes\n",
      "Context: O...\n",
      "Response: a\n",
      "\n"
     ]
    },
    {
     "name": "stderr",
     "output_type": "stream",
     "text": [
      "/var/folders/z3/zc5j75dj0qn_z2sp8qf47q340000gn/T/ipykernel_70117/652174667.py:8: ResourceWarning: unclosed <socket.socket fd=97, family=AddressFamily.AF_INET, type=SocketKind.SOCK_STREAM, proto=6, laddr=('127.0.0.1', 50531), raddr=('127.0.0.1', 11434)>\n",
      "  analyzer = GraphRAGSystem(row[\"question\"])\n",
      "ResourceWarning: Enable tracemalloc to get the object allocation traceback\n"
     ]
    },
    {
     "name": "stdout",
     "output_type": "stream",
     "text": [
      "Question 245: Can wet AMD impair reading by causing retinal pigment epithelial swelling? a) Yes b) No c) Only with drusen d) Only with smoking\n",
      "Context: T...\n",
      "Response: a) Yes\n",
      "\n"
     ]
    },
    {
     "name": "stderr",
     "output_type": "stream",
     "text": [
      "/var/folders/z3/zc5j75dj0qn_z2sp8qf47q340000gn/T/ipykernel_70117/652174667.py:8: ResourceWarning: unclosed <socket.socket fd=97, family=AddressFamily.AF_INET, type=SocketKind.SOCK_STREAM, proto=6, laddr=('127.0.0.1', 50578), raddr=('127.0.0.1', 11434)>\n",
      "  analyzer = GraphRAGSystem(row[\"question\"])\n",
      "ResourceWarning: Enable tracemalloc to get the object allocation traceback\n"
     ]
    },
    {
     "name": "stdout",
     "output_type": "stream",
     "text": [
      "Question 246: Does high cholesterol contribute to AMD by causing retinal pigment epithelial lipid regeneration? a) Yes b) No c) Only with hypertension d) Only with diabetes\n",
      "Context: T...\n",
      "Response: b) No\n",
      "\n"
     ]
    },
    {
     "name": "stderr",
     "output_type": "stream",
     "text": [
      "/var/folders/z3/zc5j75dj0qn_z2sp8qf47q340000gn/T/ipykernel_70117/652174667.py:8: ResourceWarning: unclosed <socket.socket fd=97, family=AddressFamily.AF_INET, type=SocketKind.SOCK_STREAM, proto=6, laddr=('127.0.0.1', 50610), raddr=('127.0.0.1', 11434)>\n",
      "  analyzer = GraphRAGSystem(row[\"question\"])\n",
      "ResourceWarning: Enable tracemalloc to get the object allocation traceback\n"
     ]
    },
    {
     "name": "stdout",
     "output_type": "stream",
     "text": [
      "Question 247: Can AREDS supplements reduce AMD progression by reversing retinal pigment epithelial edema? a) Yes b) No c) Partially d) Only with zinc\n",
      "Context: T...\n",
      "Response: c) Partially\n",
      "\n"
     ]
    },
    {
     "name": "stderr",
     "output_type": "stream",
     "text": [
      "/var/folders/z3/zc5j75dj0qn_z2sp8qf47q340000gn/T/ipykernel_70117/652174667.py:8: ResourceWarning: unclosed <socket.socket fd=97, family=AddressFamily.AF_INET, type=SocketKind.SOCK_STREAM, proto=6, laddr=('127.0.0.1', 50659), raddr=('127.0.0.1', 11434)>\n",
      "  analyzer = GraphRAGSystem(row[\"question\"])\n",
      "ResourceWarning: Enable tracemalloc to get the object allocation traceback\n"
     ]
    },
    {
     "name": "stdout",
     "output_type": "stream",
     "text": [
      "Question 248: Does wet AMD cause blind spots by inducing retinal pigment epithelial lipid deposits? a) Yes b) No c) Sometimes d) Only late stages\n",
      "Context: T...\n",
      "Response: a) Yes.\n",
      "\n"
     ]
    },
    {
     "name": "stderr",
     "output_type": "stream",
     "text": [
      "/var/folders/z3/zc5j75dj0qn_z2sp8qf47q340000gn/T/ipykernel_70117/652174667.py:8: ResourceWarning: unclosed <socket.socket fd=97, family=AddressFamily.AF_INET, type=SocketKind.SOCK_STREAM, proto=6, laddr=('127.0.0.1', 50694), raddr=('127.0.0.1', 11434)>\n",
      "  analyzer = GraphRAGSystem(row[\"question\"])\n",
      "ResourceWarning: Enable tracemalloc to get the object allocation traceback\n"
     ]
    },
    {
     "name": "stdout",
     "output_type": "stream",
     "text": [
      "Question 249: Can family history increase AMD risk by predisposing to retinal pigment epithelial edema? a) Yes b) No c) Only with smoking d) Only with UV exposure\n",
      "Context: T...\n",
      "Response: a) Yes\n",
      "\n"
     ]
    },
    {
     "name": "stderr",
     "output_type": "stream",
     "text": [
      "/var/folders/z3/zc5j75dj0qn_z2sp8qf47q340000gn/T/ipykernel_70117/652174667.py:8: ResourceWarning: unclosed <socket.socket fd=97, family=AddressFamily.AF_INET, type=SocketKind.SOCK_STREAM, proto=6, laddr=('127.0.0.1', 50725), raddr=('127.0.0.1', 11434)>\n",
      "  analyzer = GraphRAGSystem(row[\"question\"])\n",
      "ResourceWarning: Enable tracemalloc to get the object allocation traceback\n"
     ]
    },
    {
     "name": "stdout",
     "output_type": "stream",
     "text": [
      "Question 250: Does dry AMD progress to wet AMD due to retinal pigment epithelial lipid deposits? a) Yes b) No c) Sometimes d) Only with obesity\n",
      "Context: T...\n",
      "Response: a\n",
      "\n"
     ]
    },
    {
     "name": "stderr",
     "output_type": "stream",
     "text": [
      "/var/folders/z3/zc5j75dj0qn_z2sp8qf47q340000gn/T/ipykernel_70117/652174667.py:8: ResourceWarning: unclosed <socket.socket fd=97, family=AddressFamily.AF_INET, type=SocketKind.SOCK_STREAM, proto=6, laddr=('127.0.0.1', 50773), raddr=('127.0.0.1', 11434)>\n",
      "  analyzer = GraphRAGSystem(row[\"question\"])\n",
      "ResourceWarning: Enable tracemalloc to get the object allocation traceback\n"
     ]
    },
    {
     "name": "stdout",
     "output_type": "stream",
     "text": [
      "Question 251: Can anti-VEGF injections improve wet AMD by reducing retinal pigment epithelial lipid deposits? a) Yes b) No c) Only early stages d) Only with photodynamic therapy\n",
      "Context: T...\n",
      "Response: a) Yes\n",
      "\n"
     ]
    },
    {
     "name": "stderr",
     "output_type": "stream",
     "text": [
      "/var/folders/z3/zc5j75dj0qn_z2sp8qf47q340000gn/T/ipykernel_70117/652174667.py:8: ResourceWarning: unclosed <socket.socket fd=97, family=AddressFamily.AF_INET, type=SocketKind.SOCK_STREAM, proto=6, laddr=('127.0.0.1', 50811), raddr=('127.0.0.1', 11434)>\n",
      "  analyzer = GraphRAGSystem(row[\"question\"])\n",
      "ResourceWarning: Enable tracemalloc to get the object allocation traceback\n"
     ]
    },
    {
     "name": "stdout",
     "output_type": "stream",
     "text": [
      "Question 252: Can wet AMD affect face recognition by causing retinal pigment epithelial lipid accumulation? a) Yes b) No c) Only with drusen d) Only with smoking\n",
      "Context: T...\n",
      "Response: a) Yes\n",
      "\n"
     ]
    },
    {
     "name": "stderr",
     "output_type": "stream",
     "text": [
      "/var/folders/z3/zc5j75dj0qn_z2sp8qf47q340000gn/T/ipykernel_70117/652174667.py:8: ResourceWarning: unclosed <socket.socket fd=97, family=AddressFamily.AF_INET, type=SocketKind.SOCK_STREAM, proto=6, laddr=('127.0.0.1', 50864), raddr=('127.0.0.1', 11434)>\n",
      "  analyzer = GraphRAGSystem(row[\"question\"])\n",
      "ResourceWarning: Enable tracemalloc to get the object allocation traceback\n"
     ]
    },
    {
     "name": "stdout",
     "output_type": "stream",
     "text": [
      "Question 253: Does hypertension worsen AMD by causing retinal pigment epithelial lipid repair? a) Yes b) No c) Only with diabetes d) Only with high cholesterol\n",
      "Context: T...\n",
      "Response: c)\n",
      "\n"
     ]
    },
    {
     "name": "stderr",
     "output_type": "stream",
     "text": [
      "/var/folders/z3/zc5j75dj0qn_z2sp8qf47q340000gn/T/ipykernel_70117/652174667.py:8: ResourceWarning: unclosed <socket.socket fd=97, family=AddressFamily.AF_INET, type=SocketKind.SOCK_STREAM, proto=6, laddr=('127.0.0.1', 50902), raddr=('127.0.0.1', 11434)>\n",
      "  analyzer = GraphRAGSystem(row[\"question\"])\n",
      "ResourceWarning: Enable tracemalloc to get the object allocation traceback\n"
     ]
    },
    {
     "name": "stdout",
     "output_type": "stream",
     "text": [
      "Question 254: Can smoking exacerbate AMD by increasing retinal pigment epithelial edema? a) Yes b) No c) Only with UV exposure d) Only with obesity\n",
      "Context: S...\n",
      "Response: a) Yes\n",
      "\n"
     ]
    },
    {
     "name": "stderr",
     "output_type": "stream",
     "text": [
      "/var/folders/z3/zc5j75dj0qn_z2sp8qf47q340000gn/T/ipykernel_70117/652174667.py:8: ResourceWarning: unclosed <socket.socket fd=97, family=AddressFamily.AF_INET, type=SocketKind.SOCK_STREAM, proto=6, laddr=('127.0.0.1', 50949), raddr=('127.0.0.1', 11434)>\n",
      "  analyzer = GraphRAGSystem(row[\"question\"])\n",
      "ResourceWarning: Enable tracemalloc to get the object allocation traceback\n"
     ]
    },
    {
     "name": "stdout",
     "output_type": "stream",
     "text": [
      "Question 255: Can OCT confirm wet AMD by detecting retinal pigment epithelial edema? a) Yes b) No c) Only late stages d) Only with drusen\n",
      "Context: T...\n",
      "Response: a) Yes\n",
      "\n"
     ]
    },
    {
     "name": "stderr",
     "output_type": "stream",
     "text": [
      "/var/folders/z3/zc5j75dj0qn_z2sp8qf47q340000gn/T/ipykernel_70117/652174667.py:8: ResourceWarning: unclosed <socket.socket fd=97, family=AddressFamily.AF_INET, type=SocketKind.SOCK_STREAM, proto=6, laddr=('127.0.0.1', 50990), raddr=('127.0.0.1', 11434)>\n",
      "  analyzer = GraphRAGSystem(row[\"question\"])\n",
      "ResourceWarning: Enable tracemalloc to get the object allocation traceback\n"
     ]
    },
    {
     "name": "stdout",
     "output_type": "stream",
     "text": [
      "Question 256: Does smoking exacerbate AMD by increasing retinal pigment epithelial oxidative damage? a) Yes b) No c) Only with UV exposure d) Only with obesity\n",
      "Context: S...\n",
      "Response: a) Yes\n",
      "\n"
     ]
    },
    {
     "name": "stderr",
     "output_type": "stream",
     "text": [
      "/var/folders/z3/zc5j75dj0qn_z2sp8qf47q340000gn/T/ipykernel_70117/652174667.py:8: ResourceWarning: unclosed <socket.socket fd=97, family=AddressFamily.AF_INET, type=SocketKind.SOCK_STREAM, proto=6, laddr=('127.0.0.1', 51029), raddr=('127.0.0.1', 11434)>\n",
      "  analyzer = GraphRAGSystem(row[\"question\"])\n",
      "ResourceWarning: Enable tracemalloc to get the object allocation traceback\n"
     ]
    },
    {
     "name": "stdout",
     "output_type": "stream",
     "text": [
      "Question 257: Can dry AMD progress to wet AMD due to excessive choroidal inflammation alone? a) Yes b) No c) Only with smoking d) Only with diabetes\n",
      "Context: T...\n",
      "Response: a) Yes\n",
      "\n"
     ]
    },
    {
     "name": "stderr",
     "output_type": "stream",
     "text": [
      "/var/folders/z3/zc5j75dj0qn_z2sp8qf47q340000gn/T/ipykernel_70117/652174667.py:8: ResourceWarning: unclosed <socket.socket fd=97, family=AddressFamily.AF_INET, type=SocketKind.SOCK_STREAM, proto=6, laddr=('127.0.0.1', 51067), raddr=('127.0.0.1', 11434)>\n",
      "  analyzer = GraphRAGSystem(row[\"question\"])\n",
      "ResourceWarning: Enable tracemalloc to get the object allocation traceback\n"
     ]
    },
    {
     "name": "stdout",
     "output_type": "stream",
     "text": [
      "Question 258: Does family history elevate AMD risk by increasing susceptibility to retinal pigment epithelial degeneration? a) Yes b) No c) Only in men d) Only with hypertension\n",
      "Context: T...\n",
      "Response: a) Yes.\n",
      "\n"
     ]
    },
    {
     "name": "stderr",
     "output_type": "stream",
     "text": [
      "/var/folders/z3/zc5j75dj0qn_z2sp8qf47q340000gn/T/ipykernel_70117/652174667.py:8: ResourceWarning: unclosed <socket.socket fd=97, family=AddressFamily.AF_INET, type=SocketKind.SOCK_STREAM, proto=6, laddr=('127.0.0.1', 51122), raddr=('127.0.0.1', 11434)>\n",
      "  analyzer = GraphRAGSystem(row[\"question\"])\n",
      "ResourceWarning: Enable tracemalloc to get the object allocation traceback\n"
     ]
    },
    {
     "name": "stdout",
     "output_type": "stream",
     "text": [
      "Question 259: Can anti-VEGF injections treat wet AMD by reversing choroidal neovascular growth? a) Yes b) No c) Partially d) Only early stages\n",
      "Context: T...\n",
      "Response: a) Yes\n",
      "\n"
     ]
    },
    {
     "name": "stderr",
     "output_type": "stream",
     "text": [
      "/var/folders/z3/zc5j75dj0qn_z2sp8qf47q340000gn/T/ipykernel_70117/652174667.py:8: ResourceWarning: unclosed <socket.socket fd=97, family=AddressFamily.AF_INET, type=SocketKind.SOCK_STREAM, proto=6, laddr=('127.0.0.1', 51170), raddr=('127.0.0.1', 11434)>\n",
      "  analyzer = GraphRAGSystem(row[\"question\"])\n",
      "ResourceWarning: Enable tracemalloc to get the object allocation traceback\n"
     ]
    },
    {
     "name": "stdout",
     "output_type": "stream",
     "text": [
      "Question 260: Does hypertension worsen AMD by causing choroidal vascular leakage? a) Yes b) No c) Only with diabetes d) Only with smoking\n",
      "Context: T...\n",
      "Response: a) Yes\n",
      "\n"
     ]
    },
    {
     "name": "stderr",
     "output_type": "stream",
     "text": [
      "/var/folders/z3/zc5j75dj0qn_z2sp8qf47q340000gn/T/ipykernel_70117/652174667.py:8: ResourceWarning: unclosed <socket.socket fd=97, family=AddressFamily.AF_INET, type=SocketKind.SOCK_STREAM, proto=6, laddr=('127.0.0.1', 51206), raddr=('127.0.0.1', 11434)>\n",
      "  analyzer = GraphRAGSystem(row[\"question\"])\n",
      "ResourceWarning: Enable tracemalloc to get the object allocation traceback\n"
     ]
    },
    {
     "name": "stdout",
     "output_type": "stream",
     "text": [
      "Question 261: Can the Amsler grid detect wet AMD by revealing retinal pigment epithelial detachment? a) Yes b) No c) Sometimes d) Only late stages\n",
      "Context: T...\n",
      "Response: b) No\n",
      "\n"
     ]
    },
    {
     "name": "stderr",
     "output_type": "stream",
     "text": [
      "/var/folders/z3/zc5j75dj0qn_z2sp8qf47q340000gn/T/ipykernel_70117/652174667.py:8: ResourceWarning: unclosed <socket.socket fd=97, family=AddressFamily.AF_INET, type=SocketKind.SOCK_STREAM, proto=6, laddr=('127.0.0.1', 51256), raddr=('127.0.0.1', 11434)>\n",
      "  analyzer = GraphRAGSystem(row[\"question\"])\n",
      "ResourceWarning: Enable tracemalloc to get the object allocation traceback\n"
     ]
    },
    {
     "name": "stdout",
     "output_type": "stream",
     "text": [
      "Question 262: Does UV light exposure accelerate AMD by triggering choroidal neovascularization? a) Yes b) No c) Only with light eyes d) Only with smoking\n",
      "Context: T...\n",
      "Response: a) Yes.\n",
      "\n"
     ]
    },
    {
     "name": "stderr",
     "output_type": "stream",
     "text": [
      "/var/folders/z3/zc5j75dj0qn_z2sp8qf47q340000gn/T/ipykernel_70117/652174667.py:8: ResourceWarning: unclosed <socket.socket fd=97, family=AddressFamily.AF_INET, type=SocketKind.SOCK_STREAM, proto=6, laddr=('127.0.0.1', 51293), raddr=('127.0.0.1', 11434)>\n",
      "  analyzer = GraphRAGSystem(row[\"question\"])\n",
      "ResourceWarning: Enable tracemalloc to get the object allocation traceback\n"
     ]
    },
    {
     "name": "stdout",
     "output_type": "stream",
     "text": [
      "Question 263: Can AREDS supplements slow dry AMD by repairing photoreceptor damage? a) Yes b) No c) Partially d) Only with zinc\n",
      "Context: T...\n",
      "Response: a) Yes\n",
      "\n"
     ]
    },
    {
     "name": "stderr",
     "output_type": "stream",
     "text": [
      "/var/folders/z3/zc5j75dj0qn_z2sp8qf47q340000gn/T/ipykernel_70117/652174667.py:8: ResourceWarning: unclosed <socket.socket fd=97, family=AddressFamily.AF_INET, type=SocketKind.SOCK_STREAM, proto=6, laddr=('127.0.0.1', 51348), raddr=('127.0.0.1', 11434)>\n",
      "  analyzer = GraphRAGSystem(row[\"question\"])\n",
      "ResourceWarning: Enable tracemalloc to get the object allocation traceback\n"
     ]
    },
    {
     "name": "stdout",
     "output_type": "stream",
     "text": [
      "Question 264: Does obesity heighten AMD risk by increasing retinal pigment epithelial stress? a) Yes b) No c) Only with diabetes d) Only with hypertension\n",
      "Context: T...\n",
      "Response: a) Yes\n",
      "\n"
     ]
    },
    {
     "name": "stderr",
     "output_type": "stream",
     "text": [
      "/var/folders/z3/zc5j75dj0qn_z2sp8qf47q340000gn/T/ipykernel_70117/652174667.py:8: ResourceWarning: unclosed <socket.socket fd=97, family=AddressFamily.AF_INET, type=SocketKind.SOCK_STREAM, proto=6, laddr=('127.0.0.1', 51387), raddr=('127.0.0.1', 11434)>\n",
      "  analyzer = GraphRAGSystem(row[\"question\"])\n",
      "ResourceWarning: Enable tracemalloc to get the object allocation traceback\n"
     ]
    },
    {
     "name": "stdout",
     "output_type": "stream",
     "text": [
      "Question 265: Can wet AMD cause sudden vision loss by inducing subretinal fluid buildup? a) Yes b) No c) Only with drusen d) Only with UV exposure\n",
      "Context: T...\n",
      "Response: a) Yes.\n",
      "\n"
     ]
    },
    {
     "name": "stderr",
     "output_type": "stream",
     "text": [
      "/var/folders/z3/zc5j75dj0qn_z2sp8qf47q340000gn/T/ipykernel_70117/652174667.py:8: ResourceWarning: unclosed <socket.socket fd=97, family=AddressFamily.AF_INET, type=SocketKind.SOCK_STREAM, proto=6, laddr=('127.0.0.1', 51441), raddr=('127.0.0.1', 11434)>\n",
      "  analyzer = GraphRAGSystem(row[\"question\"])\n",
      "ResourceWarning: Enable tracemalloc to get the object allocation traceback\n"
     ]
    },
    {
     "name": "stdout",
     "output_type": "stream",
     "text": [
      "Question 266: Does diabetes increase AMD risk by causing photoreceptor degeneration? a) Yes b) No c) Only with smoking d) Only with obesity\n",
      "Context: T...\n",
      "Response: b\n",
      "\n"
     ]
    },
    {
     "name": "stderr",
     "output_type": "stream",
     "text": [
      "/var/folders/z3/zc5j75dj0qn_z2sp8qf47q340000gn/T/ipykernel_70117/652174667.py:8: ResourceWarning: unclosed <socket.socket fd=97, family=AddressFamily.AF_INET, type=SocketKind.SOCK_STREAM, proto=6, laddr=('127.0.0.1', 51483), raddr=('127.0.0.1', 11434)>\n",
      "  analyzer = GraphRAGSystem(row[\"question\"])\n",
      "ResourceWarning: Enable tracemalloc to get the object allocation traceback\n"
     ]
    },
    {
     "name": "stdout",
     "output_type": "stream",
     "text": [
      "Question 267: Can OCT diagnose wet AMD by detecting abnormal choroidal blood vessels? a) Yes b) No c) Only late stages d) Only with drusen\n",
      "Context: S...\n",
      "Response: A) Yes\n",
      "\n"
     ]
    },
    {
     "name": "stderr",
     "output_type": "stream",
     "text": [
      "/var/folders/z3/zc5j75dj0qn_z2sp8qf47q340000gn/T/ipykernel_70117/652174667.py:8: ResourceWarning: unclosed <socket.socket fd=97, family=AddressFamily.AF_INET, type=SocketKind.SOCK_STREAM, proto=6, laddr=('127.0.0.1', 51543), raddr=('127.0.0.1', 11434)>\n",
      "  analyzer = GraphRAGSystem(row[\"question\"])\n",
      "ResourceWarning: Enable tracemalloc to get the object allocation traceback\n"
     ]
    },
    {
     "name": "stdout",
     "output_type": "stream",
     "text": [
      "Question 268: Does smoking worsen dry AMD by accelerating retinal pigment epithelial atrophy? a) Yes b) No c) Only with UV exposure d) Only with high cholesterol\n",
      "Context: T...\n",
      "Response: a) Yes\n",
      "\n"
     ]
    },
    {
     "name": "stderr",
     "output_type": "stream",
     "text": [
      "/var/folders/z3/zc5j75dj0qn_z2sp8qf47q340000gn/T/ipykernel_70117/652174667.py:8: ResourceWarning: unclosed <socket.socket fd=97, family=AddressFamily.AF_INET, type=SocketKind.SOCK_STREAM, proto=6, laddr=('127.0.0.1', 51573), raddr=('127.0.0.1', 11434)>\n",
      "  analyzer = GraphRAGSystem(row[\"question\"])\n",
      "ResourceWarning: Enable tracemalloc to get the object allocation traceback\n"
     ]
    },
    {
     "name": "stdout",
     "output_type": "stream",
     "text": [
      "Question 269: Can photodynamic therapy manage wet AMD by reducing photoreceptor loss? a) Yes b) No c) Sometimes d) Only early stages\n",
      "Context: P...\n",
      "Response: a) Yes\n",
      "\n"
     ]
    },
    {
     "name": "stderr",
     "output_type": "stream",
     "text": [
      "/var/folders/z3/zc5j75dj0qn_z2sp8qf47q340000gn/T/ipykernel_70117/652174667.py:8: ResourceWarning: unclosed <socket.socket fd=97, family=AddressFamily.AF_INET, type=SocketKind.SOCK_STREAM, proto=6, laddr=('127.0.0.1', 51611), raddr=('127.0.0.1', 11434)>\n",
      "  analyzer = GraphRAGSystem(row[\"question\"])\n",
      "ResourceWarning: Enable tracemalloc to get the object allocation traceback\n"
     ]
    },
    {
     "name": "stdout",
     "output_type": "stream",
     "text": [
      "Question 270: Does a diet rich in leafy greens reduce AMD progression by repairing retinal pigment epithelium? a) Yes b) No c) Partially d) Only with supplements\n",
      "Context: T...\n",
      "Response: c\n",
      "\n"
     ]
    },
    {
     "name": "stderr",
     "output_type": "stream",
     "text": [
      "/var/folders/z3/zc5j75dj0qn_z2sp8qf47q340000gn/T/ipykernel_70117/652174667.py:8: ResourceWarning: unclosed <socket.socket fd=97, family=AddressFamily.AF_INET, type=SocketKind.SOCK_STREAM, proto=6, laddr=('127.0.0.1', 51649), raddr=('127.0.0.1', 11434)>\n",
      "  analyzer = GraphRAGSystem(row[\"question\"])\n",
      "ResourceWarning: Enable tracemalloc to get the object allocation traceback\n"
     ]
    },
    {
     "name": "stdout",
     "output_type": "stream",
     "text": [
      "Question 271: Can wet AMD lead to legal blindness by causing peripheral vision loss? a) Yes b) No c) Sometimes d) Only late stages\n",
      "Context: S...\n",
      "Response: a) Yes\n",
      "\n"
     ]
    },
    {
     "name": "stderr",
     "output_type": "stream",
     "text": [
      "/var/folders/z3/zc5j75dj0qn_z2sp8qf47q340000gn/T/ipykernel_70117/652174667.py:8: ResourceWarning: unclosed <socket.socket fd=97, family=AddressFamily.AF_INET, type=SocketKind.SOCK_STREAM, proto=6, laddr=('127.0.0.1', 51683), raddr=('127.0.0.1', 11434)>\n",
      "  analyzer = GraphRAGSystem(row[\"question\"])\n",
      "ResourceWarning: Enable tracemalloc to get the object allocation traceback\n"
     ]
    },
    {
     "name": "stdout",
     "output_type": "stream",
     "text": [
      "Question 272: Does high cholesterol increase AMD risk by promoting drusen formation? a) Yes b) No c) Only with diabetes d) Only with smoking\n",
      "Context: H...\n",
      "Response: A) Yes\n",
      "\n"
     ]
    },
    {
     "name": "stderr",
     "output_type": "stream",
     "text": [
      "/var/folders/z3/zc5j75dj0qn_z2sp8qf47q340000gn/T/ipykernel_70117/652174667.py:8: ResourceWarning: unclosed <socket.socket fd=97, family=AddressFamily.AF_INET, type=SocketKind.SOCK_STREAM, proto=6, laddr=('127.0.0.1', 51723), raddr=('127.0.0.1', 11434)>\n",
      "  analyzer = GraphRAGSystem(row[\"question\"])\n",
      "ResourceWarning: Enable tracemalloc to get the object allocation traceback\n"
     ]
    },
    {
     "name": "stdout",
     "output_type": "stream",
     "text": [
      "Question 273: Can dry AMD transition to wet AMD due to excessive VEGF production? a) Yes b) No c) Only with drusen d) Only with UV exposure\n",
      "Context: T...\n",
      "Response: a) Yes\n",
      "\n"
     ]
    },
    {
     "name": "stderr",
     "output_type": "stream",
     "text": [
      "/var/folders/z3/zc5j75dj0qn_z2sp8qf47q340000gn/T/ipykernel_70117/652174667.py:8: ResourceWarning: unclosed <socket.socket fd=97, family=AddressFamily.AF_INET, type=SocketKind.SOCK_STREAM, proto=6, laddr=('127.0.0.1', 51780), raddr=('127.0.0.1', 11434)>\n",
      "  analyzer = GraphRAGSystem(row[\"question\"])\n",
      "ResourceWarning: Enable tracemalloc to get the object allocation traceback\n"
     ]
    },
    {
     "name": "stdout",
     "output_type": "stream",
     "text": [
      "Question 274: Does AMD impair depth perception by causing optic nerve damage? a) Yes b) No c) Sometimes d) Only wet AMD\n",
      "Context: T...\n",
      "Response: a) Yes\n",
      "\n"
     ]
    },
    {
     "name": "stderr",
     "output_type": "stream",
     "text": [
      "/var/folders/z3/zc5j75dj0qn_z2sp8qf47q340000gn/T/ipykernel_70117/652174667.py:8: ResourceWarning: unclosed <socket.socket fd=97, family=AddressFamily.AF_INET, type=SocketKind.SOCK_STREAM, proto=6, laddr=('127.0.0.1', 51815), raddr=('127.0.0.1', 11434)>\n",
      "  analyzer = GraphRAGSystem(row[\"question\"])\n",
      "ResourceWarning: Enable tracemalloc to get the object allocation traceback\n"
     ]
    },
    {
     "name": "stdout",
     "output_type": "stream",
     "text": [
      "Question 275: Can anti-VEGF therapy stabilize wet AMD by reducing choroidal neovascular leakage? a) Yes b) No c) Only early stages d) Only with surgery\n",
      "Context: T...\n",
      "Response: a) Yes\n",
      "\n"
     ]
    },
    {
     "name": "stderr",
     "output_type": "stream",
     "text": [
      "/var/folders/z3/zc5j75dj0qn_z2sp8qf47q340000gn/T/ipykernel_70117/652174667.py:8: ResourceWarning: unclosed <socket.socket fd=97, family=AddressFamily.AF_INET, type=SocketKind.SOCK_STREAM, proto=6, laddr=('127.0.0.1', 51848), raddr=('127.0.0.1', 11434)>\n",
      "  analyzer = GraphRAGSystem(row[\"question\"])\n",
      "ResourceWarning: Enable tracemalloc to get the object allocation traceback\n"
     ]
    },
    {
     "name": "stdout",
     "output_type": "stream",
     "text": [
      "Question 276: Does family history increase AMD risk by causing choroidal thinning? a) Yes b) No c) Sometimes d) Only with smoking\n",
      "Context: T...\n",
      "Response: a) Yes\n",
      "\n"
     ]
    },
    {
     "name": "stderr",
     "output_type": "stream",
     "text": [
      "/var/folders/z3/zc5j75dj0qn_z2sp8qf47q340000gn/T/ipykernel_70117/652174667.py:8: ResourceWarning: unclosed <socket.socket fd=97, family=AddressFamily.AF_INET, type=SocketKind.SOCK_STREAM, proto=6, laddr=('127.0.0.1', 51894), raddr=('127.0.0.1', 11434)>\n",
      "  analyzer = GraphRAGSystem(row[\"question\"])\n",
      "ResourceWarning: Enable tracemalloc to get the object allocation traceback\n"
     ]
    },
    {
     "name": "stdout",
     "output_type": "stream",
     "text": [
      "Question 277: Does dry AMD progress slowly because it lacks photoreceptor regeneration? a) Yes b) No c) Sometimes d) Only early stages\n",
      "Context: T...\n",
      "Response: a\n",
      "\n"
     ]
    },
    {
     "name": "stderr",
     "output_type": "stream",
     "text": [
      "/var/folders/z3/zc5j75dj0qn_z2sp8qf47q340000gn/T/ipykernel_70117/652174667.py:8: ResourceWarning: unclosed <socket.socket fd=97, family=AddressFamily.AF_INET, type=SocketKind.SOCK_STREAM, proto=6, laddr=('127.0.0.1', 51936), raddr=('127.0.0.1', 11434)>\n",
      "  analyzer = GraphRAGSystem(row[\"question\"])\n",
      "ResourceWarning: Enable tracemalloc to get the object allocation traceback\n"
     ]
    },
    {
     "name": "stdout",
     "output_type": "stream",
     "text": [
      "Question 278: Can hypertension exacerbate AMD by increasing retinal pigment epithelial detachment? a) Yes b) No c) Only with diabetes d) Only with obesity\n",
      "Context: T...\n",
      "Response: a) Yes.\n",
      "\n"
     ]
    },
    {
     "name": "stderr",
     "output_type": "stream",
     "text": [
      "/var/folders/z3/zc5j75dj0qn_z2sp8qf47q340000gn/T/ipykernel_70117/652174667.py:8: ResourceWarning: unclosed <socket.socket fd=97, family=AddressFamily.AF_INET, type=SocketKind.SOCK_STREAM, proto=6, laddr=('127.0.0.1', 51965), raddr=('127.0.0.1', 11434)>\n",
      "  analyzer = GraphRAGSystem(row[\"question\"])\n",
      "ResourceWarning: Enable tracemalloc to get the object allocation traceback\n"
     ]
    },
    {
     "name": "stdout",
     "output_type": "stream",
     "text": [
      "Question 279: Does smoking worsen AMD by enhancing choroidal inflammation? a) Yes b) No c) Only with UV exposure d) Only with high cholesterol\n",
      "Context: T...\n",
      "Response: a) Yes.\n",
      "\n"
     ]
    },
    {
     "name": "stderr",
     "output_type": "stream",
     "text": [
      "/var/folders/z3/zc5j75dj0qn_z2sp8qf47q340000gn/T/ipykernel_70117/652174667.py:8: ResourceWarning: unclosed <socket.socket fd=97, family=AddressFamily.AF_INET, type=SocketKind.SOCK_STREAM, proto=6, laddr=('127.0.0.1', 52014), raddr=('127.0.0.1', 11434)>\n",
      "  analyzer = GraphRAGSystem(row[\"question\"])\n",
      "ResourceWarning: Enable tracemalloc to get the object allocation traceback\n"
     ]
    },
    {
     "name": "stdout",
     "output_type": "stream",
     "text": [
      "Question 280: Can OCT detect early dry AMD by identifying drusen size increases? a) Yes b) No c) Only late stages d) Only with fluid\n",
      "Context: T...\n",
      "Response: a) Yes\n",
      "\n"
     ]
    },
    {
     "name": "stderr",
     "output_type": "stream",
     "text": [
      "/var/folders/z3/zc5j75dj0qn_z2sp8qf47q340000gn/T/ipykernel_70117/652174667.py:8: ResourceWarning: unclosed <socket.socket fd=97, family=AddressFamily.AF_INET, type=SocketKind.SOCK_STREAM, proto=6, laddr=('127.0.0.1', 52060), raddr=('127.0.0.1', 11434)>\n",
      "  analyzer = GraphRAGSystem(row[\"question\"])\n",
      "ResourceWarning: Enable tracemalloc to get the object allocation traceback\n"
     ]
    },
    {
     "name": "stdout",
     "output_type": "stream",
     "text": [
      "Question 281: Does wet AMD treatment with anti-VEGF injections work by regenerating retinal tissue? a) Yes b) No c) Partially d) Only early stages\n",
      "Context: T...\n",
      "Response: a) Yes\n",
      "\n"
     ]
    },
    {
     "name": "stderr",
     "output_type": "stream",
     "text": [
      "/var/folders/z3/zc5j75dj0qn_z2sp8qf47q340000gn/T/ipykernel_70117/652174667.py:8: ResourceWarning: unclosed <socket.socket fd=97, family=AddressFamily.AF_INET, type=SocketKind.SOCK_STREAM, proto=6, laddr=('127.0.0.1', 52098), raddr=('127.0.0.1', 11434)>\n",
      "  analyzer = GraphRAGSystem(row[\"question\"])\n",
      "ResourceWarning: Enable tracemalloc to get the object allocation traceback\n"
     ]
    },
    {
     "name": "stdout",
     "output_type": "stream",
     "text": [
      "Question 282: Can diabetes contribute to AMD by elevating retinal inflammation? a) Yes b) No c) Only with smoking d) Only with hypertension\n",
      "Context: T...\n",
      "Response: a) Yes\n",
      "\n"
     ]
    },
    {
     "name": "stderr",
     "output_type": "stream",
     "text": [
      "/var/folders/z3/zc5j75dj0qn_z2sp8qf47q340000gn/T/ipykernel_70117/652174667.py:8: ResourceWarning: unclosed <socket.socket fd=97, family=AddressFamily.AF_INET, type=SocketKind.SOCK_STREAM, proto=6, laddr=('127.0.0.1', 52135), raddr=('127.0.0.1', 11434)>\n",
      "  analyzer = GraphRAGSystem(row[\"question\"])\n",
      "ResourceWarning: Enable tracemalloc to get the object allocation traceback\n"
     ]
    },
    {
     "name": "stdout",
     "output_type": "stream",
     "text": [
      "Question 283: Does dry AMD progress to geographic atrophy by causing blood vessel leakage? a) Yes b) No c) Sometimes d) Only late stages\n",
      "Context: T...\n",
      "Response: A) Yes\n",
      "\n"
     ]
    },
    {
     "name": "stderr",
     "output_type": "stream",
     "text": [
      "/var/folders/z3/zc5j75dj0qn_z2sp8qf47q340000gn/T/ipykernel_70117/652174667.py:8: ResourceWarning: unclosed <socket.socket fd=97, family=AddressFamily.AF_INET, type=SocketKind.SOCK_STREAM, proto=6, laddr=('127.0.0.1', 52191), raddr=('127.0.0.1', 11434)>\n",
      "  analyzer = GraphRAGSystem(row[\"question\"])\n",
      "ResourceWarning: Enable tracemalloc to get the object allocation traceback\n"
     ]
    },
    {
     "name": "stdout",
     "output_type": "stream",
     "text": [
      "Question 284: Can AMD increase fall risk by reducing central visual clarity? a) Yes b) No c) Only with wet AMD d) Only with dry AMD\n",
      "Context: T...\n",
      "Response: a) Yes\n",
      "\n"
     ]
    },
    {
     "name": "stderr",
     "output_type": "stream",
     "text": [
      "/var/folders/z3/zc5j75dj0qn_z2sp8qf47q340000gn/T/ipykernel_70117/652174667.py:8: ResourceWarning: unclosed <socket.socket fd=97, family=AddressFamily.AF_INET, type=SocketKind.SOCK_STREAM, proto=6, laddr=('127.0.0.1', 52221), raddr=('127.0.0.1', 11434)>\n",
      "  analyzer = GraphRAGSystem(row[\"question\"])\n",
      "ResourceWarning: Enable tracemalloc to get the object allocation traceback\n"
     ]
    },
    {
     "name": "stdout",
     "output_type": "stream",
     "text": [
      "Question 285: Does UV exposure accelerate AMD by causing immediate photoreceptor death? a) Yes b) No c) Only with smoking d) Only with light eyes\n",
      "Context: T...\n",
      "Response: a) Yes.\n",
      "\n"
     ]
    },
    {
     "name": "stderr",
     "output_type": "stream",
     "text": [
      "/var/folders/z3/zc5j75dj0qn_z2sp8qf47q340000gn/T/ipykernel_70117/652174667.py:8: ResourceWarning: unclosed <socket.socket fd=97, family=AddressFamily.AF_INET, type=SocketKind.SOCK_STREAM, proto=6, laddr=('127.0.0.1', 52269), raddr=('127.0.0.1', 11434)>\n",
      "  analyzer = GraphRAGSystem(row[\"question\"])\n",
      "ResourceWarning: Enable tracemalloc to get the object allocation traceback\n"
     ]
    },
    {
     "name": "stdout",
     "output_type": "stream",
     "text": [
      "Question 286: Can wet AMD cause rapid vision loss by inducing retinal scarring? a) Yes b) No c) Only with drusen d) Only with hypertension\n",
      "Context: T...\n",
      "Response: a) Yes\n",
      "\n"
     ]
    },
    {
     "name": "stderr",
     "output_type": "stream",
     "text": [
      "/var/folders/z3/zc5j75dj0qn_z2sp8qf47q340000gn/T/ipykernel_70117/652174667.py:8: ResourceWarning: unclosed <socket.socket fd=97, family=AddressFamily.AF_INET, type=SocketKind.SOCK_STREAM, proto=6, laddr=('127.0.0.1', 52317), raddr=('127.0.0.1', 11434)>\n",
      "  analyzer = GraphRAGSystem(row[\"question\"])\n",
      "ResourceWarning: Enable tracemalloc to get the object allocation traceback\n"
     ]
    },
    {
     "name": "stdout",
     "output_type": "stream",
     "text": [
      "Question 287: Does a diet high in antioxidants prevent AMD by reversing Bruch’s membrane damage? a) Yes b) No c) Partially d) Only with supplements\n",
      "Context: T...\n",
      "Response: A) Yes\n",
      "\n"
     ]
    },
    {
     "name": "stderr",
     "output_type": "stream",
     "text": [
      "/var/folders/z3/zc5j75dj0qn_z2sp8qf47q340000gn/T/ipykernel_70117/652174667.py:8: ResourceWarning: unclosed <socket.socket fd=97, family=AddressFamily.AF_INET, type=SocketKind.SOCK_STREAM, proto=6, laddr=('127.0.0.1', 52356), raddr=('127.0.0.1', 11434)>\n",
      "  analyzer = GraphRAGSystem(row[\"question\"])\n",
      "ResourceWarning: Enable tracemalloc to get the object allocation traceback\n"
     ]
    },
    {
     "name": "stdout",
     "output_type": "stream",
     "text": [
      "Question 288: Can smoking exacerbate wet AMD by increasing VEGF levels? a) Yes b) No c) Only with UV exposure d) Only with obesity\n",
      "Context: T...\n",
      "Response: a) Yes\n",
      "\n"
     ]
    },
    {
     "name": "stderr",
     "output_type": "stream",
     "text": [
      "/var/folders/z3/zc5j75dj0qn_z2sp8qf47q340000gn/T/ipykernel_70117/652174667.py:8: ResourceWarning: unclosed <socket.socket fd=97, family=AddressFamily.AF_INET, type=SocketKind.SOCK_STREAM, proto=6, laddr=('127.0.0.1', 52400), raddr=('127.0.0.1', 11434)>\n",
      "  analyzer = GraphRAGSystem(row[\"question\"])\n",
      "ResourceWarning: Enable tracemalloc to get the object allocation traceback\n"
     ]
    },
    {
     "name": "stdout",
     "output_type": "stream",
     "text": [
      "Question 289: Does dry AMD affect color perception by damaging retinal ganglion cells? a) Yes b) No c) Sometimes d) Only late stages\n",
      "Context: T...\n",
      "Response: a) Yes\n",
      "\n"
     ]
    },
    {
     "name": "stderr",
     "output_type": "stream",
     "text": [
      "/var/folders/z3/zc5j75dj0qn_z2sp8qf47q340000gn/T/ipykernel_70117/652174667.py:8: ResourceWarning: unclosed <socket.socket fd=97, family=AddressFamily.AF_INET, type=SocketKind.SOCK_STREAM, proto=6, laddr=('127.0.0.1', 52432), raddr=('127.0.0.1', 11434)>\n",
      "  analyzer = GraphRAGSystem(row[\"question\"])\n",
      "ResourceWarning: Enable tracemalloc to get the object allocation traceback\n"
     ]
    },
    {
     "name": "stdout",
     "output_type": "stream",
     "text": [
      "Question 290: Can photodynamic therapy treat wet AMD by sealing abnormal blood vessels? a) Yes b) No c) Only early stages d) Only with anti-VEGF\n",
      "Context: P...\n",
      "Response: a) Yes\n",
      "\n"
     ]
    },
    {
     "name": "stderr",
     "output_type": "stream",
     "text": [
      "/var/folders/z3/zc5j75dj0qn_z2sp8qf47q340000gn/T/ipykernel_70117/652174667.py:8: ResourceWarning: unclosed <socket.socket fd=97, family=AddressFamily.AF_INET, type=SocketKind.SOCK_STREAM, proto=6, laddr=('127.0.0.1', 52467), raddr=('127.0.0.1', 11434)>\n",
      "  analyzer = GraphRAGSystem(row[\"question\"])\n",
      "ResourceWarning: Enable tracemalloc to get the object allocation traceback\n"
     ]
    },
    {
     "name": "stdout",
     "output_type": "stream",
     "text": [
      "Question 291: Does obesity increase AMD risk by causing retinal thinning? a) Yes b) No c) Sometimes d) Only with diabetes\n",
      "Context: T...\n",
      "Response: a) Yes\n",
      "\n"
     ]
    },
    {
     "name": "stderr",
     "output_type": "stream",
     "text": [
      "/var/folders/z3/zc5j75dj0qn_z2sp8qf47q340000gn/T/ipykernel_70117/652174667.py:8: ResourceWarning: unclosed <socket.socket fd=97, family=AddressFamily.AF_INET, type=SocketKind.SOCK_STREAM, proto=6, laddr=('127.0.0.1', 52504), raddr=('127.0.0.1', 11434)>\n",
      "  analyzer = GraphRAGSystem(row[\"question\"])\n",
      "ResourceWarning: Enable tracemalloc to get the object allocation traceback\n"
     ]
    },
    {
     "name": "stdout",
     "output_type": "stream",
     "text": [
      "Question 292: Can wet AMD impair reading by causing central vision distortion? a) Yes b) No c) Only with drusen d) Only with smoking\n",
      "Context: T...\n",
      "Response: a) Yes\n",
      "\n"
     ]
    },
    {
     "name": "stderr",
     "output_type": "stream",
     "text": [
      "/var/folders/z3/zc5j75dj0qn_z2sp8qf47q340000gn/T/ipykernel_70117/652174667.py:8: ResourceWarning: unclosed <socket.socket fd=97, family=AddressFamily.AF_INET, type=SocketKind.SOCK_STREAM, proto=6, laddr=('127.0.0.1', 52555), raddr=('127.0.0.1', 11434)>\n",
      "  analyzer = GraphRAGSystem(row[\"question\"])\n",
      "ResourceWarning: Enable tracemalloc to get the object allocation traceback\n"
     ]
    },
    {
     "name": "stdout",
     "output_type": "stream",
     "text": [
      "Question 293: Does high cholesterol contribute to AMD by clogging retinal arteries? a) Yes b) No c) Only with hypertension d) Only with diabetes\n",
      "Context: T...\n",
      "Response: a\n",
      "\n"
     ]
    },
    {
     "name": "stderr",
     "output_type": "stream",
     "text": [
      "/var/folders/z3/zc5j75dj0qn_z2sp8qf47q340000gn/T/ipykernel_70117/652174667.py:8: ResourceWarning: unclosed <socket.socket fd=97, family=AddressFamily.AF_INET, type=SocketKind.SOCK_STREAM, proto=6, laddr=('127.0.0.1', 52587), raddr=('127.0.0.1', 11434)>\n",
      "  analyzer = GraphRAGSystem(row[\"question\"])\n",
      "ResourceWarning: Enable tracemalloc to get the object allocation traceback\n"
     ]
    },
    {
     "name": "stdout",
     "output_type": "stream",
     "text": [
      "Question 294: Can AREDS supplements reduce AMD progression by eliminating oxidative stress entirely? a) Yes b) No c) Partially d) Only with zinc\n",
      "Context: T...\n",
      "Response: b\n",
      "\n"
     ]
    },
    {
     "name": "stderr",
     "output_type": "stream",
     "text": [
      "/var/folders/z3/zc5j75dj0qn_z2sp8qf47q340000gn/T/ipykernel_70117/652174667.py:8: ResourceWarning: unclosed <socket.socket fd=97, family=AddressFamily.AF_INET, type=SocketKind.SOCK_STREAM, proto=6, laddr=('127.0.0.1', 52631), raddr=('127.0.0.1', 11434)>\n",
      "  analyzer = GraphRAGSystem(row[\"question\"])\n",
      "ResourceWarning: Enable tracemalloc to get the object allocation traceback\n"
     ]
    },
    {
     "name": "stdout",
     "output_type": "stream",
     "text": [
      "Question 295: Does wet AMD cause blind spots by regenerating retinal tissue? a) Yes b) No c) Sometimes d) Only late stages\n",
      "Context: T...\n",
      "Response: a) Yes\n",
      "\n"
     ]
    },
    {
     "name": "stderr",
     "output_type": "stream",
     "text": [
      "/var/folders/z3/zc5j75dj0qn_z2sp8qf47q340000gn/T/ipykernel_70117/652174667.py:8: ResourceWarning: unclosed <socket.socket fd=97, family=AddressFamily.AF_INET, type=SocketKind.SOCK_STREAM, proto=6, laddr=('127.0.0.1', 52664), raddr=('127.0.0.1', 11434)>\n",
      "  analyzer = GraphRAGSystem(row[\"question\"])\n",
      "ResourceWarning: Enable tracemalloc to get the object allocation traceback\n"
     ]
    },
    {
     "name": "stdout",
     "output_type": "stream",
     "text": [
      "Question 296: Can family history increase AMD risk by predisposing to drusen accumulation? a) Yes b) No c) Only with smoking d) Only with UV exposure\n",
      "Context: T...\n",
      "Response: a) Yes\n",
      "\n"
     ]
    },
    {
     "name": "stderr",
     "output_type": "stream",
     "text": [
      "/var/folders/z3/zc5j75dj0qn_z2sp8qf47q340000gn/T/ipykernel_70117/652174667.py:8: ResourceWarning: unclosed <socket.socket fd=97, family=AddressFamily.AF_INET, type=SocketKind.SOCK_STREAM, proto=6, laddr=('127.0.0.1', 52704), raddr=('127.0.0.1', 11434)>\n",
      "  analyzer = GraphRAGSystem(row[\"question\"])\n",
      "ResourceWarning: Enable tracemalloc to get the object allocation traceback\n"
     ]
    },
    {
     "name": "stdout",
     "output_type": "stream",
     "text": [
      "Question 297: Does dry AMD progress to wet AMD due to excessive screen time alone? a) Yes b) No c) Sometimes d) Only with obesity\n",
      "Context: T...\n",
      "Response: b) No\n",
      "\n"
     ]
    },
    {
     "name": "stderr",
     "output_type": "stream",
     "text": [
      "/var/folders/z3/zc5j75dj0qn_z2sp8qf47q340000gn/T/ipykernel_70117/652174667.py:8: ResourceWarning: unclosed <socket.socket fd=97, family=AddressFamily.AF_INET, type=SocketKind.SOCK_STREAM, proto=6, laddr=('127.0.0.1', 52754), raddr=('127.0.0.1', 11434)>\n",
      "  analyzer = GraphRAGSystem(row[\"question\"])\n",
      "ResourceWarning: Enable tracemalloc to get the object allocation traceback\n"
     ]
    },
    {
     "name": "stdout",
     "output_type": "stream",
     "text": [
      "Question 298: Can anti-VEGF injections improve wet AMD by reducing fluid leakage? a) Yes b) No c) Only early stages d) Only with photodynamic therapy\n",
      "Context: A...\n",
      "Response: a) Yes\n",
      "\n"
     ]
    },
    {
     "name": "stderr",
     "output_type": "stream",
     "text": [
      "/var/folders/z3/zc5j75dj0qn_z2sp8qf47q340000gn/T/ipykernel_70117/652174667.py:8: ResourceWarning: unclosed <socket.socket fd=97, family=AddressFamily.AF_INET, type=SocketKind.SOCK_STREAM, proto=6, laddr=('127.0.0.1', 52788), raddr=('127.0.0.1', 11434)>\n",
      "  analyzer = GraphRAGSystem(row[\"question\"])\n",
      "ResourceWarning: Enable tracemalloc to get the object allocation traceback\n"
     ]
    },
    {
     "name": "stdout",
     "output_type": "stream",
     "text": [
      "Question 299: Does UV light increase AMD risk by causing optic nerve atrophy? a) Yes b) No c) Sometimes d) Only with light eyes\n",
      "Context: T...\n",
      "Response: a) Yes\n",
      "\n"
     ]
    },
    {
     "name": "stderr",
     "output_type": "stream",
     "text": [
      "/var/folders/z3/zc5j75dj0qn_z2sp8qf47q340000gn/T/ipykernel_70117/652174667.py:8: ResourceWarning: unclosed <socket.socket fd=97, family=AddressFamily.AF_INET, type=SocketKind.SOCK_STREAM, proto=6, laddr=('127.0.0.1', 52841), raddr=('127.0.0.1', 11434)>\n",
      "  analyzer = GraphRAGSystem(row[\"question\"])\n",
      "ResourceWarning: Enable tracemalloc to get the object allocation traceback\n"
     ]
    },
    {
     "name": "stdout",
     "output_type": "stream",
     "text": [
      "Question 300: Can wet AMD affect face recognition by distorting central vision? a) Yes b) No c) Only with drusen d) Only with smoking\n",
      "Context: T...\n",
      "Response: a\n",
      "\n"
     ]
    },
    {
     "name": "stderr",
     "output_type": "stream",
     "text": [
      "/var/folders/z3/zc5j75dj0qn_z2sp8qf47q340000gn/T/ipykernel_70117/652174667.py:8: ResourceWarning: unclosed <socket.socket fd=97, family=AddressFamily.AF_INET, type=SocketKind.SOCK_STREAM, proto=6, laddr=('127.0.0.1', 52886), raddr=('127.0.0.1', 11434)>\n",
      "  analyzer = GraphRAGSystem(row[\"question\"])\n",
      "ResourceWarning: Enable tracemalloc to get the object allocation traceback\n"
     ]
    },
    {
     "name": "stdout",
     "output_type": "stream",
     "text": [
      "Question 301: Does hypertension worsen AMD by causing retinal hemorrhages? a) Yes b) No c) Only with diabetes d) Only with high cholesterol\n",
      "Context: T...\n",
      "Response: A) Yes\n",
      "\n"
     ]
    },
    {
     "name": "stderr",
     "output_type": "stream",
     "text": [
      "/var/folders/z3/zc5j75dj0qn_z2sp8qf47q340000gn/T/ipykernel_70117/652174667.py:8: ResourceWarning: unclosed <socket.socket fd=97, family=AddressFamily.AF_INET, type=SocketKind.SOCK_STREAM, proto=6, laddr=('127.0.0.1', 52931), raddr=('127.0.0.1', 11434)>\n",
      "  analyzer = GraphRAGSystem(row[\"question\"])\n",
      "ResourceWarning: Enable tracemalloc to get the object allocation traceback\n"
     ]
    },
    {
     "name": "stdout",
     "output_type": "stream",
     "text": [
      "Question 302: Can smoking exacerbate AMD by increasing retinal oxidative stress? a) Yes b) No c) Only with UV exposure d) Only with obesity\n",
      "Context: S...\n",
      "Response: a) Yes\n",
      "\n"
     ]
    },
    {
     "name": "stderr",
     "output_type": "stream",
     "text": [
      "/var/folders/z3/zc5j75dj0qn_z2sp8qf47q340000gn/T/ipykernel_70117/652174667.py:8: ResourceWarning: unclosed <socket.socket fd=97, family=AddressFamily.AF_INET, type=SocketKind.SOCK_STREAM, proto=6, laddr=('127.0.0.1', 52984), raddr=('127.0.0.1', 11434)>\n",
      "  analyzer = GraphRAGSystem(row[\"question\"])\n",
      "ResourceWarning: Enable tracemalloc to get the object allocation traceback\n"
     ]
    },
    {
     "name": "stdout",
     "output_type": "stream",
     "text": [
      "Question 303: Does dry AMD cause vision loss by affecting the choroid directly? a) Yes b) No c) Sometimes d) Only late stages\n",
      "Context: T...\n",
      "Response: b) No\n",
      "\n"
     ]
    },
    {
     "name": "stderr",
     "output_type": "stream",
     "text": [
      "/var/folders/z3/zc5j75dj0qn_z2sp8qf47q340000gn/T/ipykernel_70117/652174667.py:8: ResourceWarning: unclosed <socket.socket fd=97, family=AddressFamily.AF_INET, type=SocketKind.SOCK_STREAM, proto=6, laddr=('127.0.0.1', 53025), raddr=('127.0.0.1', 11434)>\n",
      "  analyzer = GraphRAGSystem(row[\"question\"])\n",
      "ResourceWarning: Enable tracemalloc to get the object allocation traceback\n"
     ]
    },
    {
     "name": "stdout",
     "output_type": "stream",
     "text": [
      "Question 304: Can OCT confirm wet AMD by visualizing choroidal neovascularization? a) Yes b) No c) Only late stages d) Only with drusen\n",
      "Context: T...\n",
      "Response: a) Yes\n",
      "\n"
     ]
    },
    {
     "name": "stderr",
     "output_type": "stream",
     "text": [
      "/var/folders/z3/zc5j75dj0qn_z2sp8qf47q340000gn/T/ipykernel_70117/652174667.py:8: ResourceWarning: unclosed <socket.socket fd=97, family=AddressFamily.AF_INET, type=SocketKind.SOCK_STREAM, proto=6, laddr=('127.0.0.1', 53063), raddr=('127.0.0.1', 11434)>\n",
      "  analyzer = GraphRAGSystem(row[\"question\"])\n",
      "ResourceWarning: Enable tracemalloc to get the object allocation traceback\n"
     ]
    },
    {
     "name": "stdout",
     "output_type": "stream",
     "text": [
      "Question 305: Does diabetes increase AMD risk by causing retinal artery occlusion? a) Yes b) No c) Only with smoking d) Only with hypertension\n",
      "Context: T...\n",
      "Response: A) Yes\n",
      "\n"
     ]
    },
    {
     "name": "stderr",
     "output_type": "stream",
     "text": [
      "/var/folders/z3/zc5j75dj0qn_z2sp8qf47q340000gn/T/ipykernel_70117/652174667.py:8: ResourceWarning: unclosed <socket.socket fd=97, family=AddressFamily.AF_INET, type=SocketKind.SOCK_STREAM, proto=6, laddr=('127.0.0.1', 53109), raddr=('127.0.0.1', 11434)>\n",
      "  analyzer = GraphRAGSystem(row[\"question\"])\n",
      "ResourceWarning: Enable tracemalloc to get the object allocation traceback\n"
     ]
    },
    {
     "name": "stdout",
     "output_type": "stream",
     "text": [
      "Question 306: Can wet AMD cause sudden vision changes by inducing retinal edema? a) Yes b) No c) Only with drusen d) Only with UV exposure\n",
      "Context: S...\n",
      "Response: a) Yes\n",
      "\n"
     ]
    },
    {
     "name": "stderr",
     "output_type": "stream",
     "text": [
      "/var/folders/z3/zc5j75dj0qn_z2sp8qf47q340000gn/T/ipykernel_70117/652174667.py:8: ResourceWarning: unclosed <socket.socket fd=97, family=AddressFamily.AF_INET, type=SocketKind.SOCK_STREAM, proto=6, laddr=('127.0.0.1', 53168), raddr=('127.0.0.1', 11434)>\n",
      "  analyzer = GraphRAGSystem(row[\"question\"])\n",
      "ResourceWarning: Enable tracemalloc to get the object allocation traceback\n"
     ]
    },
    {
     "name": "stdout",
     "output_type": "stream",
     "text": [
      "Question 307: Does family history elevate AMD risk by increasing lipid deposits in the choroid? a) Yes b) No c) Sometimes d) Only with obesity\n",
      "Context: T...\n",
      "Response: a) Yes\n",
      "\n"
     ]
    },
    {
     "name": "stderr",
     "output_type": "stream",
     "text": [
      "/var/folders/z3/zc5j75dj0qn_z2sp8qf47q340000gn/T/ipykernel_70117/652174667.py:8: ResourceWarning: unclosed <socket.socket fd=97, family=AddressFamily.AF_INET, type=SocketKind.SOCK_STREAM, proto=6, laddr=('127.0.0.1', 53205), raddr=('127.0.0.1', 11434)>\n",
      "  analyzer = GraphRAGSystem(row[\"question\"])\n",
      "ResourceWarning: Enable tracemalloc to get the object allocation traceback\n"
     ]
    },
    {
     "name": "stdout",
     "output_type": "stream",
     "text": [
      "Question 308: Can anti-VEGF therapy prevent wet AMD progression by stabilizing retinal thickness? a) Yes b) No c) Only early stages d) Only with photodynamic therapy\n",
      "Context: A...\n",
      "Response: a) Yes\n",
      "\n"
     ]
    },
    {
     "name": "stderr",
     "output_type": "stream",
     "text": [
      "/var/folders/z3/zc5j75dj0qn_z2sp8qf47q340000gn/T/ipykernel_70117/652174667.py:8: ResourceWarning: unclosed <socket.socket fd=97, family=AddressFamily.AF_INET, type=SocketKind.SOCK_STREAM, proto=6, laddr=('127.0.0.1', 53259), raddr=('127.0.0.1', 11434)>\n",
      "  analyzer = GraphRAGSystem(row[\"question\"])\n",
      "ResourceWarning: Enable tracemalloc to get the object allocation traceback\n"
     ]
    },
    {
     "name": "stdout",
     "output_type": "stream",
     "text": [
      "Question 309: Does smoking increase dry AMD risk by causing choroidal thinning? a) Yes b) No c) Only with UV exposure d) Only with high cholesterol\n",
      "Context: T...\n",
      "Response: a) Yes\n",
      "\n"
     ]
    },
    {
     "name": "stderr",
     "output_type": "stream",
     "text": [
      "/var/folders/z3/zc5j75dj0qn_z2sp8qf47q340000gn/T/ipykernel_70117/652174667.py:8: ResourceWarning: unclosed <socket.socket fd=97, family=AddressFamily.AF_INET, type=SocketKind.SOCK_STREAM, proto=6, laddr=('127.0.0.1', 53318), raddr=('127.0.0.1', 11434)>\n",
      "  analyzer = GraphRAGSystem(row[\"question\"])\n",
      "ResourceWarning: Enable tracemalloc to get the object allocation traceback\n"
     ]
    },
    {
     "name": "stdout",
     "output_type": "stream",
     "text": [
      "Question 310: Can wet AMD impair driving by distorting central visual acuity? a) Yes b) No c) Only with drusen d) Only with smoking\n",
      "Context: T...\n",
      "Response: a) Yes\n",
      "\n"
     ]
    },
    {
     "name": "stderr",
     "output_type": "stream",
     "text": [
      "/var/folders/z3/zc5j75dj0qn_z2sp8qf47q340000gn/T/ipykernel_70117/652174667.py:8: ResourceWarning: unclosed <socket.socket fd=97, family=AddressFamily.AF_INET, type=SocketKind.SOCK_STREAM, proto=6, laddr=('127.0.0.1', 53357), raddr=('127.0.0.1', 11434)>\n",
      "  analyzer = GraphRAGSystem(row[\"question\"])\n",
      "ResourceWarning: Enable tracemalloc to get the object allocation traceback\n"
     ]
    },
    {
     "name": "stdout",
     "output_type": "stream",
     "text": [
      "Question 311: Does high cholesterol exacerbate AMD by causing optic nerve inflammation? a) Yes b) No c) Only with diabetes d) Only with hypertension\n",
      "Context: H...\n",
      "Response: a) Yes.\n",
      "\n"
     ]
    },
    {
     "name": "stderr",
     "output_type": "stream",
     "text": [
      "/var/folders/z3/zc5j75dj0qn_z2sp8qf47q340000gn/T/ipykernel_70117/652174667.py:8: ResourceWarning: unclosed <socket.socket fd=97, family=AddressFamily.AF_INET, type=SocketKind.SOCK_STREAM, proto=6, laddr=('127.0.0.1', 53390), raddr=('127.0.0.1', 11434)>\n",
      "  analyzer = GraphRAGSystem(row[\"question\"])\n",
      "ResourceWarning: Enable tracemalloc to get the object allocation traceback\n"
     ]
    },
    {
     "name": "stdout",
     "output_type": "stream",
     "text": [
      "Question 312: Can AREDS supplements mitigate AMD risk by repairing retinal pigment epithelium? a) Yes b) No c) Partially d) Only with zinc\n",
      "Context: T...\n",
      "Response: a) Yes\n",
      "\n"
     ]
    },
    {
     "name": "stderr",
     "output_type": "stream",
     "text": [
      "/var/folders/z3/zc5j75dj0qn_z2sp8qf47q340000gn/T/ipykernel_70117/652174667.py:8: ResourceWarning: unclosed <socket.socket fd=97, family=AddressFamily.AF_INET, type=SocketKind.SOCK_STREAM, proto=6, laddr=('127.0.0.1', 53436), raddr=('127.0.0.1', 11434)>\n",
      "  analyzer = GraphRAGSystem(row[\"question\"])\n",
      "ResourceWarning: Enable tracemalloc to get the object allocation traceback\n"
     ]
    },
    {
     "name": "stdout",
     "output_type": "stream",
     "text": [
      "Question 313: Does wet AMD cause depth perception issues by regenerating retinal layers? a) Yes b) No c) Sometimes d) Only late stages\n",
      "Context: T...\n",
      "Response: a) Yes\n",
      "\n"
     ]
    },
    {
     "name": "stderr",
     "output_type": "stream",
     "text": [
      "/var/folders/z3/zc5j75dj0qn_z2sp8qf47q340000gn/T/ipykernel_70117/652174667.py:8: ResourceWarning: unclosed <socket.socket fd=97, family=AddressFamily.AF_INET, type=SocketKind.SOCK_STREAM, proto=6, laddr=('127.0.0.1', 53488), raddr=('127.0.0.1', 11434)>\n",
      "  analyzer = GraphRAGSystem(row[\"question\"])\n",
      "ResourceWarning: Enable tracemalloc to get the object allocation traceback\n"
     ]
    },
    {
     "name": "stdout",
     "output_type": "stream",
     "text": [
      "Question 314: Can obesity worsen AMD by increasing retinal inflammation? a) Yes b) No c) Only with diabetes d) Only with smoking\n",
      "Context: T...\n",
      "Response: a) Yes\n",
      "\n"
     ]
    },
    {
     "name": "stderr",
     "output_type": "stream",
     "text": [
      "/var/folders/z3/zc5j75dj0qn_z2sp8qf47q340000gn/T/ipykernel_70117/652174667.py:8: ResourceWarning: unclosed <socket.socket fd=97, family=AddressFamily.AF_INET, type=SocketKind.SOCK_STREAM, proto=6, laddr=('127.0.0.1', 53524), raddr=('127.0.0.1', 11434)>\n",
      "  analyzer = GraphRAGSystem(row[\"question\"])\n",
      "ResourceWarning: Enable tracemalloc to get the object allocation traceback\n"
     ]
    },
    {
     "name": "stdout",
     "output_type": "stream",
     "text": [
      "Question 315: Does dry AMD progress to geographic atrophy due to excessive neovascularization? a) Yes b) No c) Sometimes d) Only late stages\n",
      "Context: T...\n",
      "Response: a) Yes\n",
      "\n"
     ]
    },
    {
     "name": "stderr",
     "output_type": "stream",
     "text": [
      "/var/folders/z3/zc5j75dj0qn_z2sp8qf47q340000gn/T/ipykernel_70117/652174667.py:8: ResourceWarning: unclosed <socket.socket fd=97, family=AddressFamily.AF_INET, type=SocketKind.SOCK_STREAM, proto=6, laddr=('127.0.0.1', 53585), raddr=('127.0.0.1', 11434)>\n",
      "  analyzer = GraphRAGSystem(row[\"question\"])\n",
      "ResourceWarning: Enable tracemalloc to get the object allocation traceback\n"
     ]
    },
    {
     "name": "stdout",
     "output_type": "stream",
     "text": [
      "Question 316: Can photodynamic therapy treat wet AMD by shrinking choroidal blood vessels? a) Yes b) No c) Only early stages d) Only with anti-VEGF\n",
      "Context: T...\n",
      "Response: a) Yes\n",
      "\n"
     ]
    },
    {
     "name": "stderr",
     "output_type": "stream",
     "text": [
      "/var/folders/z3/zc5j75dj0qn_z2sp8qf47q340000gn/T/ipykernel_70117/652174667.py:8: ResourceWarning: unclosed <socket.socket fd=97, family=AddressFamily.AF_INET, type=SocketKind.SOCK_STREAM, proto=6, laddr=('127.0.0.1', 53624), raddr=('127.0.0.1', 11434)>\n",
      "  analyzer = GraphRAGSystem(row[\"question\"])\n",
      "ResourceWarning: Enable tracemalloc to get the object allocation traceback\n"
     ]
    },
    {
     "name": "stdout",
     "output_type": "stream",
     "text": [
      "Question 317: Does UV light exposure increase AMD risk by causing photoreceptor regeneration? a) Yes b) No c) Sometimes d) Only with light eyes\n",
      "Context: T...\n",
      "Response: a) Yes.\n",
      "\n"
     ]
    },
    {
     "name": "stderr",
     "output_type": "stream",
     "text": [
      "/var/folders/z3/zc5j75dj0qn_z2sp8qf47q340000gn/T/ipykernel_70117/652174667.py:8: ResourceWarning: unclosed <socket.socket fd=97, family=AddressFamily.AF_INET, type=SocketKind.SOCK_STREAM, proto=6, laddr=('127.0.0.1', 53661), raddr=('127.0.0.1', 11434)>\n",
      "  analyzer = GraphRAGSystem(row[\"question\"])\n",
      "ResourceWarning: Enable tracemalloc to get the object allocation traceback\n"
     ]
    },
    {
     "name": "stdout",
     "output_type": "stream",
     "text": [
      "Question 318: Can wet AMD cause visual hallucinations by inducing retinal pigment epithelial scarring? a) Yes b) No c) Only with drusen d) Only with smoking\n",
      "Context: T...\n",
      "Response: a) Yes.\n",
      "\n"
     ]
    },
    {
     "name": "stderr",
     "output_type": "stream",
     "text": [
      "/var/folders/z3/zc5j75dj0qn_z2sp8qf47q340000gn/T/ipykernel_70117/652174667.py:8: ResourceWarning: unclosed <socket.socket fd=97, family=AddressFamily.AF_INET, type=SocketKind.SOCK_STREAM, proto=6, laddr=('127.0.0.1', 53710), raddr=('127.0.0.1', 11434)>\n",
      "  analyzer = GraphRAGSystem(row[\"question\"])\n",
      "ResourceWarning: Enable tracemalloc to get the object allocation traceback\n"
     ]
    },
    {
     "name": "stdout",
     "output_type": "stream",
     "text": [
      "Question 319: Does hypertension contribute to AMD by increasing drusen size? a) Yes b) No c) Only with diabetes d) Only with high cholesterol\n",
      "Context: T...\n",
      "Response: a) Yes\n",
      "\n"
     ]
    },
    {
     "name": "stderr",
     "output_type": "stream",
     "text": [
      "/var/folders/z3/zc5j75dj0qn_z2sp8qf47q340000gn/T/ipykernel_70117/652174667.py:8: ResourceWarning: unclosed <socket.socket fd=97, family=AddressFamily.AF_INET, type=SocketKind.SOCK_STREAM, proto=6, laddr=('127.0.0.1', 53750), raddr=('127.0.0.1', 11434)>\n",
      "  analyzer = GraphRAGSystem(row[\"question\"])\n",
      "ResourceWarning: Enable tracemalloc to get the object allocation traceback\n"
     ]
    },
    {
     "name": "stdout",
     "output_type": "stream",
     "text": [
      "Question 320: Can smoking increase AMD severity by promoting photoreceptor degeneration? a) Yes b) No c) Only with UV exposure d) Only with obesity\n",
      "Context: T...\n",
      "Response: a) Yes\n",
      "\n"
     ]
    },
    {
     "name": "stderr",
     "output_type": "stream",
     "text": [
      "/var/folders/z3/zc5j75dj0qn_z2sp8qf47q340000gn/T/ipykernel_70117/652174667.py:8: ResourceWarning: unclosed <socket.socket fd=97, family=AddressFamily.AF_INET, type=SocketKind.SOCK_STREAM, proto=6, laddr=('127.0.0.1', 53792), raddr=('127.0.0.1', 11434)>\n",
      "  analyzer = GraphRAGSystem(row[\"question\"])\n",
      "ResourceWarning: Enable tracemalloc to get the object allocation traceback\n"
     ]
    },
    {
     "name": "stdout",
     "output_type": "stream",
     "text": [
      "Question 321: Does dry AMD impair reading by causing optic nerve damage? a) Yes b) No c) Sometimes d) Only late stages\n",
      "Context: T...\n",
      "Response: a) Yes.\n",
      "\n"
     ]
    },
    {
     "name": "stderr",
     "output_type": "stream",
     "text": [
      "/var/folders/z3/zc5j75dj0qn_z2sp8qf47q340000gn/T/ipykernel_70117/652174667.py:8: ResourceWarning: unclosed <socket.socket fd=97, family=AddressFamily.AF_INET, type=SocketKind.SOCK_STREAM, proto=6, laddr=('127.0.0.1', 53827), raddr=('127.0.0.1', 11434)>\n",
      "  analyzer = GraphRAGSystem(row[\"question\"])\n",
      "ResourceWarning: Enable tracemalloc to get the object allocation traceback\n"
     ]
    },
    {
     "name": "stdout",
     "output_type": "stream",
     "text": [
      "Question 322: Can OCT detect early AMD by measuring retinal layer thinning? a) Yes b) No c) Only late stages d) Only with drusen\n",
      "Context: T...\n",
      "Response: a) Yes\n",
      "\n"
     ]
    },
    {
     "name": "stderr",
     "output_type": "stream",
     "text": [
      "/var/folders/z3/zc5j75dj0qn_z2sp8qf47q340000gn/T/ipykernel_70117/652174667.py:8: ResourceWarning: unclosed <socket.socket fd=97, family=AddressFamily.AF_INET, type=SocketKind.SOCK_STREAM, proto=6, laddr=('127.0.0.1', 53853), raddr=('127.0.0.1', 11434)>\n",
      "  analyzer = GraphRAGSystem(row[\"question\"])\n",
      "ResourceWarning: Enable tracemalloc to get the object allocation traceback\n"
     ]
    },
    {
     "name": "stdout",
     "output_type": "stream",
     "text": [
      "Question 323: Does diabetes exacerbate AMD by causing direct blood vessel leakage? a) Yes b) No c) Only with smoking d) Only with hypertension\n",
      "Context: T...\n",
      "Response: a) Yes\n",
      "\n"
     ]
    },
    {
     "name": "stderr",
     "output_type": "stream",
     "text": [
      "/var/folders/z3/zc5j75dj0qn_z2sp8qf47q340000gn/T/ipykernel_70117/652174667.py:8: ResourceWarning: unclosed <socket.socket fd=97, family=AddressFamily.AF_INET, type=SocketKind.SOCK_STREAM, proto=6, laddr=('127.0.0.1', 53887), raddr=('127.0.0.1', 11434)>\n",
      "  analyzer = GraphRAGSystem(row[\"question\"])\n",
      "ResourceWarning: Enable tracemalloc to get the object allocation traceback\n"
     ]
    },
    {
     "name": "stdout",
     "output_type": "stream",
     "text": [
      "Question 324: Can wet AMD affect color perception by causing central vision loss? a) Yes b) No c) Only with drusen d) Only with UV exposure\n",
      "Context: T...\n",
      "Response: a) Yes\n",
      "\n"
     ]
    },
    {
     "name": "stderr",
     "output_type": "stream",
     "text": [
      "/var/folders/z3/zc5j75dj0qn_z2sp8qf47q340000gn/T/ipykernel_70117/652174667.py:8: ResourceWarning: unclosed <socket.socket fd=97, family=AddressFamily.AF_INET, type=SocketKind.SOCK_STREAM, proto=6, laddr=('127.0.0.1', 53930), raddr=('127.0.0.1', 11434)>\n",
      "  analyzer = GraphRAGSystem(row[\"question\"])\n",
      "ResourceWarning: Enable tracemalloc to get the object allocation traceback\n"
     ]
    },
    {
     "name": "stdout",
     "output_type": "stream",
     "text": [
      "Question 325: Does family history worsen AMD by causing optic nerve atrophy? a) Yes b) No c) Sometimes d) Only with obesity\n",
      "Context: T...\n",
      "Response: a) Yes\n",
      "\n"
     ]
    },
    {
     "name": "stderr",
     "output_type": "stream",
     "text": [
      "/var/folders/z3/zc5j75dj0qn_z2sp8qf47q340000gn/T/ipykernel_70117/652174667.py:8: ResourceWarning: unclosed <socket.socket fd=97, family=AddressFamily.AF_INET, type=SocketKind.SOCK_STREAM, proto=6, laddr=('127.0.0.1', 53968), raddr=('127.0.0.1', 11434)>\n",
      "  analyzer = GraphRAGSystem(row[\"question\"])\n",
      "ResourceWarning: Enable tracemalloc to get the object allocation traceback\n"
     ]
    },
    {
     "name": "stdout",
     "output_type": "stream",
     "text": [
      "Question 326: Can anti-VEGF injections treat wet AMD by preventing subretinal hemorrhages? a) Yes b) No c) Only early stages d) Only with photodynamic therapy\n",
      "Context: I...\n",
      "Response: a) Yes\n",
      "\n"
     ]
    },
    {
     "name": "stderr",
     "output_type": "stream",
     "text": [
      "/var/folders/z3/zc5j75dj0qn_z2sp8qf47q340000gn/T/ipykernel_70117/652174667.py:8: ResourceWarning: unclosed <socket.socket fd=97, family=AddressFamily.AF_INET, type=SocketKind.SOCK_STREAM, proto=6, laddr=('127.0.0.1', 54007), raddr=('127.0.0.1', 11434)>\n",
      "  analyzer = GraphRAGSystem(row[\"question\"])\n",
      "ResourceWarning: Enable tracemalloc to get the object allocation traceback\n"
     ]
    },
    {
     "name": "stdout",
     "output_type": "stream",
     "text": [
      "Question 327: Does smoking worsen AMD by causing direct retinal detachment? a) Yes b) No c) Only with UV exposure d) Only with high cholesterol\n",
      "Context: T...\n",
      "Response: a) Yes\n",
      "\n"
     ]
    },
    {
     "name": "stderr",
     "output_type": "stream",
     "text": [
      "/var/folders/z3/zc5j75dj0qn_z2sp8qf47q340000gn/T/ipykernel_70117/652174667.py:8: ResourceWarning: unclosed <socket.socket fd=97, family=AddressFamily.AF_INET, type=SocketKind.SOCK_STREAM, proto=6, laddr=('127.0.0.1', 54049), raddr=('127.0.0.1', 11434)>\n",
      "  analyzer = GraphRAGSystem(row[\"question\"])\n",
      "ResourceWarning: Enable tracemalloc to get the object allocation traceback\n"
     ]
    },
    {
     "name": "stdout",
     "output_type": "stream",
     "text": [
      "Question 328: Can wet AMD increase fall risk by impairing central depth perception? a) Yes b) No c) Only with drusen d) Only with smoking\n",
      "Context: T...\n",
      "Response: a) Yes.\n",
      "\n"
     ]
    },
    {
     "name": "stderr",
     "output_type": "stream",
     "text": [
      "/var/folders/z3/zc5j75dj0qn_z2sp8qf47q340000gn/T/ipykernel_70117/652174667.py:8: ResourceWarning: unclosed <socket.socket fd=97, family=AddressFamily.AF_INET, type=SocketKind.SOCK_STREAM, proto=6, laddr=('127.0.0.1', 54102), raddr=('127.0.0.1', 11434)>\n",
      "  analyzer = GraphRAGSystem(row[\"question\"])\n",
      "ResourceWarning: Enable tracemalloc to get the object allocation traceback\n"
     ]
    },
    {
     "name": "stdout",
     "output_type": "stream",
     "text": [
      "Question 329: Does high cholesterol increase AMD risk by causing retinal vein occlusion? a) Yes b) No c) Only with diabetes d) Only with hypertension\n",
      "Context: T...\n",
      "Response: c\n",
      "\n"
     ]
    },
    {
     "name": "stderr",
     "output_type": "stream",
     "text": [
      "/var/folders/z3/zc5j75dj0qn_z2sp8qf47q340000gn/T/ipykernel_70117/652174667.py:8: ResourceWarning: unclosed <socket.socket fd=97, family=AddressFamily.AF_INET, type=SocketKind.SOCK_STREAM, proto=6, laddr=('127.0.0.1', 54136), raddr=('127.0.0.1', 11434)>\n",
      "  analyzer = GraphRAGSystem(row[\"question\"])\n",
      "ResourceWarning: Enable tracemalloc to get the object allocation traceback\n"
     ]
    },
    {
     "name": "stdout",
     "output_type": "stream",
     "text": [
      "Question 330: Can AREDS supplements slow dry AMD by reducing retinal hypoxia? a) Yes b) No c) Partially d) Only with zinc\n",
      "Context: T...\n",
      "Response: a) Yes\n",
      "\n"
     ]
    },
    {
     "name": "stderr",
     "output_type": "stream",
     "text": [
      "/var/folders/z3/zc5j75dj0qn_z2sp8qf47q340000gn/T/ipykernel_70117/652174667.py:8: ResourceWarning: unclosed <socket.socket fd=97, family=AddressFamily.AF_INET, type=SocketKind.SOCK_STREAM, proto=6, laddr=('127.0.0.1', 54196), raddr=('127.0.0.1', 11434)>\n",
      "  analyzer = GraphRAGSystem(row[\"question\"])\n",
      "ResourceWarning: Enable tracemalloc to get the object allocation traceback\n"
     ]
    },
    {
     "name": "stdout",
     "output_type": "stream",
     "text": [
      "Question 331: Does wet AMD cause rapid vision loss by regenerating choroidal tissue? a) Yes b) No c) Sometimes d) Only late stages\n",
      "Context: S...\n",
      "Response: c\n",
      "\n"
     ]
    },
    {
     "name": "stderr",
     "output_type": "stream",
     "text": [
      "/var/folders/z3/zc5j75dj0qn_z2sp8qf47q340000gn/T/ipykernel_70117/652174667.py:8: ResourceWarning: unclosed <socket.socket fd=97, family=AddressFamily.AF_INET, type=SocketKind.SOCK_STREAM, proto=6, laddr=('127.0.0.1', 54236), raddr=('127.0.0.1', 11434)>\n",
      "  analyzer = GraphRAGSystem(row[\"question\"])\n",
      "ResourceWarning: Enable tracemalloc to get the object allocation traceback\n"
     ]
    },
    {
     "name": "stdout",
     "output_type": "stream",
     "text": [
      "Question 332: Can obesity increase AMD risk by enhancing choroidal oxidative stress? a) Yes b) No c) Only with diabetes d) Only with smoking\n",
      "Context: T...\n",
      "Response: a) Yes\n",
      "\n"
     ]
    },
    {
     "name": "stderr",
     "output_type": "stream",
     "text": [
      "/var/folders/z3/zc5j75dj0qn_z2sp8qf47q340000gn/T/ipykernel_70117/652174667.py:8: ResourceWarning: unclosed <socket.socket fd=97, family=AddressFamily.AF_INET, type=SocketKind.SOCK_STREAM, proto=6, laddr=('127.0.0.1', 54274), raddr=('127.0.0.1', 11434)>\n",
      "  analyzer = GraphRAGSystem(row[\"question\"])\n",
      "ResourceWarning: Enable tracemalloc to get the object allocation traceback\n"
     ]
    },
    {
     "name": "stdout",
     "output_type": "stream",
     "text": [
      "Question 333: Does dry AMD progress to wet AMD due to excessive antioxidant intake? a) Yes b) No c) Sometimes d) Only with obesity\n",
      "Context: T...\n",
      "Response: b\n",
      "\n"
     ]
    },
    {
     "name": "stderr",
     "output_type": "stream",
     "text": [
      "/var/folders/z3/zc5j75dj0qn_z2sp8qf47q340000gn/T/ipykernel_70117/652174667.py:8: ResourceWarning: unclosed <socket.socket fd=97, family=AddressFamily.AF_INET, type=SocketKind.SOCK_STREAM, proto=6, laddr=('127.0.0.1', 54337), raddr=('127.0.0.1', 11434)>\n",
      "  analyzer = GraphRAGSystem(row[\"question\"])\n",
      "ResourceWarning: Enable tracemalloc to get the object allocation traceback\n"
     ]
    },
    {
     "name": "stdout",
     "output_type": "stream",
     "text": [
      "Question 334: Can photodynamic therapy manage wet AMD by reducing retinal edema? a) Yes b) No c) Only early stages d) Only with anti-VEGF\n",
      "Context: T...\n",
      "Response: a) Yes.\n",
      "\n"
     ]
    },
    {
     "name": "stderr",
     "output_type": "stream",
     "text": [
      "/var/folders/z3/zc5j75dj0qn_z2sp8qf47q340000gn/T/ipykernel_70117/652174667.py:8: ResourceWarning: unclosed <socket.socket fd=97, family=AddressFamily.AF_INET, type=SocketKind.SOCK_STREAM, proto=6, laddr=('127.0.0.1', 54372), raddr=('127.0.0.1', 11434)>\n",
      "  analyzer = GraphRAGSystem(row[\"question\"])\n",
      "ResourceWarning: Enable tracemalloc to get the object allocation traceback\n"
     ]
    },
    {
     "name": "stdout",
     "output_type": "stream",
     "text": [
      "Question 335: Does UV light exposure worsen AMD by causing photoreceptor regeneration? a) Yes b) No c) Sometimes d) Only with light eyes\n",
      "Context: T...\n",
      "Response: a) Yes\n",
      "\n"
     ]
    },
    {
     "name": "stderr",
     "output_type": "stream",
     "text": [
      "/var/folders/z3/zc5j75dj0qn_z2sp8qf47q340000gn/T/ipykernel_70117/652174667.py:8: ResourceWarning: unclosed <socket.socket fd=97, family=AddressFamily.AF_INET, type=SocketKind.SOCK_STREAM, proto=6, laddr=('127.0.0.1', 54407), raddr=('127.0.0.1', 11434)>\n",
      "  analyzer = GraphRAGSystem(row[\"question\"])\n",
      "ResourceWarning: Enable tracemalloc to get the object allocation traceback\n"
     ]
    },
    {
     "name": "stdout",
     "output_type": "stream",
     "text": [
      "Question 336: Can wet AMD impair night vision by distorting central visual fields? a) Yes b) No c) Only with drusen d) Only with smoking\n",
      "Context: T...\n",
      "Response: a) Yes.\n",
      "\n"
     ]
    },
    {
     "name": "stderr",
     "output_type": "stream",
     "text": [
      "/var/folders/z3/zc5j75dj0qn_z2sp8qf47q340000gn/T/ipykernel_70117/652174667.py:8: ResourceWarning: unclosed <socket.socket fd=97, family=AddressFamily.AF_INET, type=SocketKind.SOCK_STREAM, proto=6, laddr=('127.0.0.1', 54445), raddr=('127.0.0.1', 11434)>\n",
      "  analyzer = GraphRAGSystem(row[\"question\"])\n",
      "ResourceWarning: Enable tracemalloc to get the object allocation traceback\n"
     ]
    },
    {
     "name": "stdout",
     "output_type": "stream",
     "text": [
      "Question 337: Does hypertension increase AMD severity by causing optic nerve swelling? a) Yes b) No c) Only with diabetes d) Only with high cholesterol\n",
      "Context: T...\n",
      "Response: a) Yes\n",
      "\n"
     ]
    },
    {
     "name": "stderr",
     "output_type": "stream",
     "text": [
      "/var/folders/z3/zc5j75dj0qn_z2sp8qf47q340000gn/T/ipykernel_70117/652174667.py:8: ResourceWarning: unclosed <socket.socket fd=97, family=AddressFamily.AF_INET, type=SocketKind.SOCK_STREAM, proto=6, laddr=('127.0.0.1', 54473), raddr=('127.0.0.1', 11434)>\n",
      "  analyzer = GraphRAGSystem(row[\"question\"])\n",
      "ResourceWarning: Enable tracemalloc to get the object allocation traceback\n"
     ]
    },
    {
     "name": "stdout",
     "output_type": "stream",
     "text": [
      "Question 338: Can smoking exacerbate AMD by increasing choroidal hypoxia? a) Yes b) No c) Only with UV exposure d) Only with obesity\n",
      "Context: T...\n",
      "Response: a) Yes\n",
      "\n"
     ]
    },
    {
     "name": "stderr",
     "output_type": "stream",
     "text": [
      "/var/folders/z3/zc5j75dj0qn_z2sp8qf47q340000gn/T/ipykernel_70117/652174667.py:8: ResourceWarning: unclosed <socket.socket fd=97, family=AddressFamily.AF_INET, type=SocketKind.SOCK_STREAM, proto=6, laddr=('127.0.0.1', 54515), raddr=('127.0.0.1', 11434)>\n",
      "  analyzer = GraphRAGSystem(row[\"question\"])\n",
      "ResourceWarning: Enable tracemalloc to get the object allocation traceback\n"
     ]
    },
    {
     "name": "stdout",
     "output_type": "stream",
     "text": [
      "Question 339: Does dry AMD cause blind spots by damaging retinal vasculature? a) Yes b) No c) Sometimes d) Only late stages\n",
      "Context: T...\n",
      "Response: A) Yes\n",
      "\n"
     ]
    },
    {
     "name": "stderr",
     "output_type": "stream",
     "text": [
      "/var/folders/z3/zc5j75dj0qn_z2sp8qf47q340000gn/T/ipykernel_70117/652174667.py:8: ResourceWarning: unclosed <socket.socket fd=97, family=AddressFamily.AF_INET, type=SocketKind.SOCK_STREAM, proto=6, laddr=('127.0.0.1', 54559), raddr=('127.0.0.1', 11434)>\n",
      "  analyzer = GraphRAGSystem(row[\"question\"])\n",
      "ResourceWarning: Enable tracemalloc to get the object allocation traceback\n"
     ]
    },
    {
     "name": "stdout",
     "output_type": "stream",
     "text": [
      "Question 340: Does diabetes increase AMD risk by causing optic nerve inflammation? a) Yes b) No c) Only with smoking d) Only with hypertension\n",
      "Context: T...\n",
      "Response: a) Yes\n",
      "\n"
     ]
    },
    {
     "name": "stderr",
     "output_type": "stream",
     "text": [
      "/var/folders/z3/zc5j75dj0qn_z2sp8qf47q340000gn/T/ipykernel_70117/652174667.py:8: ResourceWarning: unclosed <socket.socket fd=97, family=AddressFamily.AF_INET, type=SocketKind.SOCK_STREAM, proto=6, laddr=('127.0.0.1', 54599), raddr=('127.0.0.1', 11434)>\n",
      "  analyzer = GraphRAGSystem(row[\"question\"])\n",
      "ResourceWarning: Enable tracemalloc to get the object allocation traceback\n"
     ]
    },
    {
     "name": "stdout",
     "output_type": "stream",
     "text": [
      "Question 341: Can wet AMD affect reading speed by causing central retinal blur? a) Yes b) No c) Only with drusen d) Only with UV exposure\n",
      "Context: T...\n",
      "Response: a) Yes. According to the provided information, wet AMD is characterized by polypoidal choroidal vasculopathy and neovascularization, which can lead to inflammation and oxidative stress, ultimately causing central vision loss and blurred vision (relationships 11, 13, 15, 17, 19, 23).\n",
      "\n"
     ]
    },
    {
     "name": "stderr",
     "output_type": "stream",
     "text": [
      "/var/folders/z3/zc5j75dj0qn_z2sp8qf47q340000gn/T/ipykernel_70117/652174667.py:8: ResourceWarning: unclosed <socket.socket fd=97, family=AddressFamily.AF_INET, type=SocketKind.SOCK_STREAM, proto=6, laddr=('127.0.0.1', 54651), raddr=('127.0.0.1', 11434)>\n",
      "  analyzer = GraphRAGSystem(row[\"question\"])\n",
      "ResourceWarning: Enable tracemalloc to get the object allocation traceback\n"
     ]
    },
    {
     "name": "stdout",
     "output_type": "stream",
     "text": [
      "Question 342: Does family history worsen AMD by causing direct retinal scarring? a) Yes b) No c) Sometimes d) Only with obesity\n",
      "Context: T...\n",
      "Response: b\n",
      "\n"
     ]
    },
    {
     "name": "stderr",
     "output_type": "stream",
     "text": [
      "/var/folders/z3/zc5j75dj0qn_z2sp8qf47q340000gn/T/ipykernel_70117/652174667.py:8: ResourceWarning: unclosed <socket.socket fd=97, family=AddressFamily.AF_INET, type=SocketKind.SOCK_STREAM, proto=6, laddr=('127.0.0.1', 54692), raddr=('127.0.0.1', 11434)>\n",
      "  analyzer = GraphRAGSystem(row[\"question\"])\n",
      "ResourceWarning: Enable tracemalloc to get the object allocation traceback\n"
     ]
    },
    {
     "name": "stdout",
     "output_type": "stream",
     "text": [
      "Question 343: Can anti-VEGF therapy improve wet AMD by reducing choroidal inflammation? a) Yes b) No c) Only early stages d) Only with photodynamic therapy\n",
      "Context: T...\n",
      "Response: a) Yes\n",
      "\n"
     ]
    },
    {
     "name": "stderr",
     "output_type": "stream",
     "text": [
      "/var/folders/z3/zc5j75dj0qn_z2sp8qf47q340000gn/T/ipykernel_70117/652174667.py:8: ResourceWarning: unclosed <socket.socket fd=97, family=AddressFamily.AF_INET, type=SocketKind.SOCK_STREAM, proto=6, laddr=('127.0.0.1', 54728), raddr=('127.0.0.1', 11434)>\n",
      "  analyzer = GraphRAGSystem(row[\"question\"])\n",
      "ResourceWarning: Enable tracemalloc to get the object allocation traceback\n"
     ]
    },
    {
     "name": "stdout",
     "output_type": "stream",
     "text": [
      "Question 344: Does smoking increase AMD risk by causing retinal regeneration? a) Yes b) No c) Only with UV exposure d) Only with high cholesterol\n",
      "Context: T...\n",
      "Response: a) Yes.\n",
      "\n"
     ]
    },
    {
     "name": "stderr",
     "output_type": "stream",
     "text": [
      "/var/folders/z3/zc5j75dj0qn_z2sp8qf47q340000gn/T/ipykernel_70117/652174667.py:8: ResourceWarning: unclosed <socket.socket fd=97, family=AddressFamily.AF_INET, type=SocketKind.SOCK_STREAM, proto=6, laddr=('127.0.0.1', 54783), raddr=('127.0.0.1', 11434)>\n",
      "  analyzer = GraphRAGSystem(row[\"question\"])\n",
      "ResourceWarning: Enable tracemalloc to get the object allocation traceback\n"
     ]
    },
    {
     "name": "stdout",
     "output_type": "stream",
     "text": [
      "Question 345: Does smoking increase AMD risk by promoting retinal pigment epithelial hypoxia? a) Yes b) No c) Only with UV exposure d) Only with obesity\n",
      "Context: T...\n",
      "Response: a) Yes\n",
      "\n"
     ]
    },
    {
     "name": "stderr",
     "output_type": "stream",
     "text": [
      "/var/folders/z3/zc5j75dj0qn_z2sp8qf47q340000gn/T/ipykernel_70117/652174667.py:8: ResourceWarning: unclosed <socket.socket fd=97, family=AddressFamily.AF_INET, type=SocketKind.SOCK_STREAM, proto=6, laddr=('127.0.0.1', 54831), raddr=('127.0.0.1', 11434)>\n",
      "  analyzer = GraphRAGSystem(row[\"question\"])\n",
      "ResourceWarning: Enable tracemalloc to get the object allocation traceback\n"
     ]
    },
    {
     "name": "stdout",
     "output_type": "stream",
     "text": [
      "Question 346: Can dry AMD progress to wet AMD due to excessive retinal pigment epithelial inflammation alone? a) Yes b) No c) Only with smoking d) Only with diabetes\n",
      "Context: T...\n",
      "Response: b\n",
      "\n"
     ]
    },
    {
     "name": "stderr",
     "output_type": "stream",
     "text": [
      "/var/folders/z3/zc5j75dj0qn_z2sp8qf47q340000gn/T/ipykernel_70117/652174667.py:8: ResourceWarning: unclosed <socket.socket fd=97, family=AddressFamily.AF_INET, type=SocketKind.SOCK_STREAM, proto=6, laddr=('127.0.0.1', 54880), raddr=('127.0.0.1', 11434)>\n",
      "  analyzer = GraphRAGSystem(row[\"question\"])\n",
      "ResourceWarning: Enable tracemalloc to get the object allocation traceback\n"
     ]
    },
    {
     "name": "stdout",
     "output_type": "stream",
     "text": [
      "Question 347: Does family history elevate AMD risk by increasing retinal pigment epithelial vulnerability to oxidative stress? a) Yes b) No c) Only in women d) Only with hypertension\n",
      "Context: T...\n",
      "Response: a) Yes\n",
      "\n"
     ]
    },
    {
     "name": "stderr",
     "output_type": "stream",
     "text": [
      "/var/folders/z3/zc5j75dj0qn_z2sp8qf47q340000gn/T/ipykernel_70117/652174667.py:8: ResourceWarning: unclosed <socket.socket fd=97, family=AddressFamily.AF_INET, type=SocketKind.SOCK_STREAM, proto=6, laddr=('127.0.0.1', 54930), raddr=('127.0.0.1', 11434)>\n",
      "  analyzer = GraphRAGSystem(row[\"question\"])\n",
      "ResourceWarning: Enable tracemalloc to get the object allocation traceback\n"
     ]
    },
    {
     "name": "stdout",
     "output_type": "stream",
     "text": [
      "Question 348: Can anti-VEGF injections treat wet AMD by reversing retinal pigment epithelial scarring? a) Yes b) No c) Partially d) Only early stages\n",
      "Context: I...\n",
      "Response: b)\n",
      "\n"
     ]
    },
    {
     "name": "stderr",
     "output_type": "stream",
     "text": [
      "/var/folders/z3/zc5j75dj0qn_z2sp8qf47q340000gn/T/ipykernel_70117/652174667.py:8: ResourceWarning: unclosed <socket.socket fd=97, family=AddressFamily.AF_INET, type=SocketKind.SOCK_STREAM, proto=6, laddr=('127.0.0.1', 54988), raddr=('127.0.0.1', 11434)>\n",
      "  analyzer = GraphRAGSystem(row[\"question\"])\n",
      "ResourceWarning: Enable tracemalloc to get the object allocation traceback\n"
     ]
    },
    {
     "name": "stdout",
     "output_type": "stream",
     "text": [
      "Question 349: Does hypertension worsen AMD by causing retinal pigment epithelial hypoxia? a) Yes b) No c) Only with diabetes d) Only with smoking\n",
      "Context: A...\n",
      "Response: b)\n",
      "\n"
     ]
    },
    {
     "name": "stderr",
     "output_type": "stream",
     "text": [
      "/var/folders/z3/zc5j75dj0qn_z2sp8qf47q340000gn/T/ipykernel_70117/652174667.py:8: ResourceWarning: unclosed <socket.socket fd=97, family=AddressFamily.AF_INET, type=SocketKind.SOCK_STREAM, proto=6, laddr=('127.0.0.1', 55028), raddr=('127.0.0.1', 11434)>\n",
      "  analyzer = GraphRAGSystem(row[\"question\"])\n",
      "ResourceWarning: Enable tracemalloc to get the object allocation traceback\n"
     ]
    },
    {
     "name": "stdout",
     "output_type": "stream",
     "text": [
      "Question 350: Can the Amsler grid detect wet AMD by measuring retinal pigment epithelial lipid changes? a) Yes b) No c) Sometimes d) Only late stages\n",
      "Context: T...\n",
      "Response: a) Yes\n",
      "\n"
     ]
    },
    {
     "name": "stderr",
     "output_type": "stream",
     "text": [
      "/var/folders/z3/zc5j75dj0qn_z2sp8qf47q340000gn/T/ipykernel_70117/652174667.py:8: ResourceWarning: unclosed <socket.socket fd=97, family=AddressFamily.AF_INET, type=SocketKind.SOCK_STREAM, proto=6, laddr=('127.0.0.1', 55084), raddr=('127.0.0.1', 11434)>\n",
      "  analyzer = GraphRAGSystem(row[\"question\"])\n",
      "ResourceWarning: Enable tracemalloc to get the object allocation traceback\n"
     ]
    },
    {
     "name": "stdout",
     "output_type": "stream",
     "text": [
      "Question 351: Does UV light exposure accelerate AMD by causing retinal pigment epithelial hemorrhages? a) Yes b) No c) Only with light eyes d) Only with smoking\n",
      "Context: T...\n",
      "Response: a) Yes\n",
      "\n"
     ]
    },
    {
     "name": "stderr",
     "output_type": "stream",
     "text": [
      "/var/folders/z3/zc5j75dj0qn_z2sp8qf47q340000gn/T/ipykernel_70117/652174667.py:8: ResourceWarning: unclosed <socket.socket fd=97, family=AddressFamily.AF_INET, type=SocketKind.SOCK_STREAM, proto=6, laddr=('127.0.0.1', 55120), raddr=('127.0.0.1', 11434)>\n",
      "  analyzer = GraphRAGSystem(row[\"question\"])\n",
      "ResourceWarning: Enable tracemalloc to get the object allocation traceback\n"
     ]
    },
    {
     "name": "stdout",
     "output_type": "stream",
     "text": [
      "Question 352: Does obesity heighten AMD risk by promoting retinal pigment epithelial lipid accumulation? a) Yes b) No c) Only with diabetes d) Only with hypertension\n",
      "Context: S...\n",
      "Response: c\n",
      "\n"
     ]
    },
    {
     "name": "stderr",
     "output_type": "stream",
     "text": [
      "/var/folders/z3/zc5j75dj0qn_z2sp8qf47q340000gn/T/ipykernel_70117/652174667.py:8: ResourceWarning: unclosed <socket.socket fd=97, family=AddressFamily.AF_INET, type=SocketKind.SOCK_STREAM, proto=6, laddr=('127.0.0.1', 55169), raddr=('127.0.0.1', 11434)>\n",
      "  analyzer = GraphRAGSystem(row[\"question\"])\n",
      "ResourceWarning: Enable tracemalloc to get the object allocation traceback\n"
     ]
    },
    {
     "name": "stdout",
     "output_type": "stream",
     "text": [
      "Question 353: Does diabetes increase AMD risk by causing retinal pigment epithelial swelling? a) Yes b) No c) Only with smoking d) Only with obesity\n",
      "Context: T...\n",
      "Response: a) Yes\n",
      "\n"
     ]
    },
    {
     "name": "stderr",
     "output_type": "stream",
     "text": [
      "/var/folders/z3/zc5j75dj0qn_z2sp8qf47q340000gn/T/ipykernel_70117/652174667.py:8: ResourceWarning: unclosed <socket.socket fd=97, family=AddressFamily.AF_INET, type=SocketKind.SOCK_STREAM, proto=6, laddr=('127.0.0.1', 55225), raddr=('127.0.0.1', 11434)>\n",
      "  analyzer = GraphRAGSystem(row[\"question\"])\n",
      "ResourceWarning: Enable tracemalloc to get the object allocation traceback\n"
     ]
    },
    {
     "name": "stdout",
     "output_type": "stream",
     "text": [
      "Question 354: Does smoking worsen dry AMD by increasing retinal pigment epithelial lipid deposits? a) Yes b) No c) Only with UV exposure d) Only with high cholesterol\n",
      "Context: T...\n",
      "Response: a) Yes.\n",
      "\n"
     ]
    },
    {
     "name": "stderr",
     "output_type": "stream",
     "text": [
      "/var/folders/z3/zc5j75dj0qn_z2sp8qf47q340000gn/T/ipykernel_70117/652174667.py:8: ResourceWarning: unclosed <socket.socket fd=97, family=AddressFamily.AF_INET, type=SocketKind.SOCK_STREAM, proto=6, laddr=('127.0.0.1', 55281), raddr=('127.0.0.1', 11434)>\n",
      "  analyzer = GraphRAGSystem(row[\"question\"])\n",
      "ResourceWarning: Enable tracemalloc to get the object allocation traceback\n"
     ]
    },
    {
     "name": "stdout",
     "output_type": "stream",
     "text": [
      "Question 355: Can photodynamic therapy manage wet AMD by reversing retinal pigment epithelial damage? a) Yes b) No c) Sometimes d) Only early stages\n",
      "Context: T...\n",
      "Response: a) Yes\n",
      "\n"
     ]
    },
    {
     "name": "stderr",
     "output_type": "stream",
     "text": [
      "/var/folders/z3/zc5j75dj0qn_z2sp8qf47q340000gn/T/ipykernel_70117/652174667.py:8: ResourceWarning: unclosed <socket.socket fd=97, family=AddressFamily.AF_INET, type=SocketKind.SOCK_STREAM, proto=6, laddr=('127.0.0.1', 55323), raddr=('127.0.0.1', 11434)>\n",
      "  analyzer = GraphRAGSystem(row[\"question\"])\n",
      "ResourceWarning: Enable tracemalloc to get the object allocation traceback\n"
     ]
    },
    {
     "name": "stdout",
     "output_type": "stream",
     "text": [
      "Question 356: Does a diet high in leafy greens reduce AMD progression by eliminating retinal pigment epithelial hypoxia? a) Yes b) No c) Partially d) Only with supplements\n",
      "Context: T...\n",
      "Response: a) Yes\n",
      "\n"
     ]
    },
    {
     "name": "stderr",
     "output_type": "stream",
     "text": [
      "/var/folders/z3/zc5j75dj0qn_z2sp8qf47q340000gn/T/ipykernel_70117/652174667.py:8: ResourceWarning: unclosed <socket.socket fd=97, family=AddressFamily.AF_INET, type=SocketKind.SOCK_STREAM, proto=6, laddr=('127.0.0.1', 55363), raddr=('127.0.0.1', 11434)>\n",
      "  analyzer = GraphRAGSystem(row[\"question\"])\n",
      "ResourceWarning: Enable tracemalloc to get the object allocation traceback\n"
     ]
    },
    {
     "name": "stdout",
     "output_type": "stream",
     "text": [
      "Question 357: Does high cholesterol increase AMD risk by promoting retinal pigment epithelial edema? a) Yes b) No c) Only with diabetes d) Only with smoking\n",
      "Context: H...\n",
      "Response: a) Yes\n",
      "\n"
     ]
    },
    {
     "name": "stderr",
     "output_type": "stream",
     "text": [
      "/var/folders/z3/zc5j75dj0qn_z2sp8qf47q340000gn/T/ipykernel_70117/652174667.py:8: ResourceWarning: unclosed <socket.socket fd=97, family=AddressFamily.AF_INET, type=SocketKind.SOCK_STREAM, proto=6, laddr=('127.0.0.1', 55395), raddr=('127.0.0.1', 11434)>\n",
      "  analyzer = GraphRAGSystem(row[\"question\"])\n",
      "ResourceWarning: Enable tracemalloc to get the object allocation traceback\n"
     ]
    },
    {
     "name": "stdout",
     "output_type": "stream",
     "text": [
      "Question 358: Can dry AMD transition to wet AMD due to retinal pigment epithelial lipid deposits? a) Yes b) No c) Only with drusen d) Only with UV exposure\n",
      "Context: T...\n",
      "Response: a) Yes\n",
      "\n"
     ]
    },
    {
     "name": "stderr",
     "output_type": "stream",
     "text": [
      "/var/folders/z3/zc5j75dj0qn_z2sp8qf47q340000gn/T/ipykernel_70117/652174667.py:8: ResourceWarning: unclosed <socket.socket fd=97, family=AddressFamily.AF_INET, type=SocketKind.SOCK_STREAM, proto=6, laddr=('127.0.0.1', 55447), raddr=('127.0.0.1', 11434)>\n",
      "  analyzer = GraphRAGSystem(row[\"question\"])\n",
      "ResourceWarning: Enable tracemalloc to get the object allocation traceback\n"
     ]
    },
    {
     "name": "stdout",
     "output_type": "stream",
     "text": [
      "Question 359: Does AMD impair color perception by causing retinal pigment epithelial lipid repair? a) Yes b) No c) Sometimes d) Only wet AMD\n",
      "Context: T...\n",
      "Response: a) Yes.\n",
      "\n"
     ]
    },
    {
     "name": "stderr",
     "output_type": "stream",
     "text": [
      "/var/folders/z3/zc5j75dj0qn_z2sp8qf47q340000gn/T/ipykernel_70117/652174667.py:8: ResourceWarning: unclosed <socket.socket fd=97, family=AddressFamily.AF_INET, type=SocketKind.SOCK_STREAM, proto=6, laddr=('127.0.0.1', 55502), raddr=('127.0.0.1', 11434)>\n",
      "  analyzer = GraphRAGSystem(row[\"question\"])\n",
      "ResourceWarning: Enable tracemalloc to get the object allocation traceback\n"
     ]
    },
    {
     "name": "stdout",
     "output_type": "stream",
     "text": [
      "Question 360: Can anti-VEGF therapy stabilize wet AMD by reducing retinal pigment epithelial lipid accumulation? a) Yes b) No c) Only early stages d) Only with surgery\n",
      "Context: T...\n",
      "Response: a) Yes\n",
      "\n"
     ]
    },
    {
     "name": "stderr",
     "output_type": "stream",
     "text": [
      "/var/folders/z3/zc5j75dj0qn_z2sp8qf47q340000gn/T/ipykernel_70117/652174667.py:8: ResourceWarning: unclosed <socket.socket fd=97, family=AddressFamily.AF_INET, type=SocketKind.SOCK_STREAM, proto=6, laddr=('127.0.0.1', 55540), raddr=('127.0.0.1', 11434)>\n",
      "  analyzer = GraphRAGSystem(row[\"question\"])\n",
      "ResourceWarning: Enable tracemalloc to get the object allocation traceback\n"
     ]
    },
    {
     "name": "stdout",
     "output_type": "stream",
     "text": [
      "Question 361: Can wet AMD distort vision by causing retinal pigment epithelial swelling? a) Yes b) No c) Only with drusen d) Only with hypertension\n",
      "Context: T...\n",
      "Response: a) Yes\n",
      "\n"
     ]
    },
    {
     "name": "stderr",
     "output_type": "stream",
     "text": [
      "/var/folders/z3/zc5j75dj0qn_z2sp8qf47q340000gn/T/ipykernel_70117/652174667.py:8: ResourceWarning: unclosed <socket.socket fd=97, family=AddressFamily.AF_INET, type=SocketKind.SOCK_STREAM, proto=6, laddr=('127.0.0.1', 55608), raddr=('127.0.0.1', 11434)>\n",
      "  analyzer = GraphRAGSystem(row[\"question\"])\n",
      "ResourceWarning: Enable tracemalloc to get the object allocation traceback\n"
     ]
    },
    {
     "name": "stdout",
     "output_type": "stream",
     "text": [
      "Question 362: Can hypertension exacerbate AMD by causing retinal pigment epithelial lipid repair? a) Yes b) No c) Only with diabetes d) Only with obesity\n",
      "Context: T...\n",
      "Response: a) Yes\n",
      "\n"
     ]
    },
    {
     "name": "stderr",
     "output_type": "stream",
     "text": [
      "/var/folders/z3/zc5j75dj0qn_z2sp8qf47q340000gn/T/ipykernel_70117/652174667.py:8: ResourceWarning: unclosed <socket.socket fd=97, family=AddressFamily.AF_INET, type=SocketKind.SOCK_STREAM, proto=6, laddr=('127.0.0.1', 55650), raddr=('127.0.0.1', 11434)>\n",
      "  analyzer = GraphRAGSystem(row[\"question\"])\n",
      "ResourceWarning: Enable tracemalloc to get the object allocation traceback\n"
     ]
    },
    {
     "name": "stdout",
     "output_type": "stream",
     "text": [
      "Question 363: Does UV exposure accelerate AMD by causing retinal pigment epithelial swelling? a) Yes b) No c) Only with smoking d) Only with light eyes\n",
      "Context: T...\n",
      "Response: a) Yes\n",
      "\n"
     ]
    },
    {
     "name": "stderr",
     "output_type": "stream",
     "text": [
      "/var/folders/z3/zc5j75dj0qn_z2sp8qf47q340000gn/T/ipykernel_70117/652174667.py:8: ResourceWarning: unclosed <socket.socket fd=97, family=AddressFamily.AF_INET, type=SocketKind.SOCK_STREAM, proto=6, laddr=('127.0.0.1', 55714), raddr=('127.0.0.1', 11434)>\n",
      "  analyzer = GraphRAGSystem(row[\"question\"])\n",
      "ResourceWarning: Enable tracemalloc to get the object allocation traceback\n"
     ]
    },
    {
     "name": "stdout",
     "output_type": "stream",
     "text": [
      "Question 364: Does a diet high in antioxidants prevent AMD by reversing retinal pigment epithelial atrophy? a) Yes b) No c) Partially d) Only with supplements\n",
      "Context: T...\n",
      "Response: b) No\n",
      "\n"
     ]
    },
    {
     "name": "stderr",
     "output_type": "stream",
     "text": [
      "/var/folders/z3/zc5j75dj0qn_z2sp8qf47q340000gn/T/ipykernel_70117/652174667.py:8: ResourceWarning: unclosed <socket.socket fd=97, family=AddressFamily.AF_INET, type=SocketKind.SOCK_STREAM, proto=6, laddr=('127.0.0.1', 55777), raddr=('127.0.0.1', 11434)>\n",
      "  analyzer = GraphRAGSystem(row[\"question\"])\n",
      "ResourceWarning: Enable tracemalloc to get the object allocation traceback\n"
     ]
    },
    {
     "name": "stdout",
     "output_type": "stream",
     "text": [
      "Question 365: Can smoking exacerbate wet AMD by increasing retinal pigment epithelial edema? a) Yes b) No c) Only with UV exposure d) Only with obesity\n",
      "Context: T...\n",
      "Response: a) Yes\n",
      "\n"
     ]
    },
    {
     "name": "stderr",
     "output_type": "stream",
     "text": [
      "/var/folders/z3/zc5j75dj0qn_z2sp8qf47q340000gn/T/ipykernel_70117/652174667.py:8: ResourceWarning: unclosed <socket.socket fd=97, family=AddressFamily.AF_INET, type=SocketKind.SOCK_STREAM, proto=6, laddr=('127.0.0.1', 55875), raddr=('127.0.0.1', 11434)>\n",
      "  analyzer = GraphRAGSystem(row[\"question\"])\n",
      "ResourceWarning: Enable tracemalloc to get the object allocation traceback\n"
     ]
    },
    {
     "name": "stdout",
     "output_type": "stream",
     "text": [
      "Question 366: Does dry AMD affect color perception by causing retinal pigment epithelial repair? a) Yes b) No c) Sometimes d) Only late stages\n",
      "Context: T...\n",
      "Response: a) Yes\n",
      "\n"
     ]
    },
    {
     "name": "stderr",
     "output_type": "stream",
     "text": [
      "/var/folders/z3/zc5j75dj0qn_z2sp8qf47q340000gn/T/ipykernel_70117/652174667.py:8: ResourceWarning: unclosed <socket.socket fd=97, family=AddressFamily.AF_INET, type=SocketKind.SOCK_STREAM, proto=6, laddr=('127.0.0.1', 55912), raddr=('127.0.0.1', 11434)>\n",
      "  analyzer = GraphRAGSystem(row[\"question\"])\n",
      "ResourceWarning: Enable tracemalloc to get the object allocation traceback\n"
     ]
    },
    {
     "name": "stdout",
     "output_type": "stream",
     "text": [
      "Question 367: Does obesity increase AMD risk by causing retinal pigment epithelial regeneration? a) Yes b) No c) Sometimes d) Only with diabetes\n",
      "Context: O...\n",
      "Response: a) Yes\n",
      "\n"
     ]
    },
    {
     "name": "stderr",
     "output_type": "stream",
     "text": [
      "/var/folders/z3/zc5j75dj0qn_z2sp8qf47q340000gn/T/ipykernel_70117/652174667.py:8: ResourceWarning: unclosed <socket.socket fd=97, family=AddressFamily.AF_INET, type=SocketKind.SOCK_STREAM, proto=6, laddr=('127.0.0.1', 55951), raddr=('127.0.0.1', 11434)>\n",
      "  analyzer = GraphRAGSystem(row[\"question\"])\n",
      "ResourceWarning: Enable tracemalloc to get the object allocation traceback\n"
     ]
    },
    {
     "name": "stdout",
     "output_type": "stream",
     "text": [
      "Question 368: Does high cholesterol contribute to AMD by causing retinal pigment epithelial repair? a) Yes b) No c) Only with hypertension d) Only with diabetes\n",
      "Context: H...\n",
      "Response: c)\n",
      "\n"
     ]
    },
    {
     "name": "stderr",
     "output_type": "stream",
     "text": [
      "/var/folders/z3/zc5j75dj0qn_z2sp8qf47q340000gn/T/ipykernel_70117/652174667.py:8: ResourceWarning: unclosed <socket.socket fd=97, family=AddressFamily.AF_INET, type=SocketKind.SOCK_STREAM, proto=6, laddr=('127.0.0.1', 56014), raddr=('127.0.0.1', 11434)>\n",
      "  analyzer = GraphRAGSystem(row[\"question\"])\n",
      "ResourceWarning: Enable tracemalloc to get the object allocation traceback\n"
     ]
    },
    {
     "name": "stdout",
     "output_type": "stream",
     "text": [
      "Question 369: Does dry AMD progress to wet AMD due to excessive retinal pigment epithelial repair? a) Yes b) No c) Sometimes d) Only with obesity\n",
      "Context: T...\n",
      "Response: a) Yes\n",
      "\n"
     ]
    },
    {
     "name": "stderr",
     "output_type": "stream",
     "text": [
      "/var/folders/z3/zc5j75dj0qn_z2sp8qf47q340000gn/T/ipykernel_70117/652174667.py:8: ResourceWarning: unclosed <socket.socket fd=97, family=AddressFamily.AF_INET, type=SocketKind.SOCK_STREAM, proto=6, laddr=('127.0.0.1', 56082), raddr=('127.0.0.1', 11434)>\n",
      "  analyzer = GraphRAGSystem(row[\"question\"])\n",
      "ResourceWarning: Enable tracemalloc to get the object allocation traceback\n"
     ]
    },
    {
     "name": "stdout",
     "output_type": "stream",
     "text": [
      "Question 370: Can wet AMD impair driving by inducing retinal pigment epithelial atrophy? a) Yes b) No c) Only with drusen d) Only with smoking\n",
      "Context: T...\n",
      "Response: A) Yes\n",
      "\n"
     ]
    },
    {
     "name": "stderr",
     "output_type": "stream",
     "text": [
      "/var/folders/z3/zc5j75dj0qn_z2sp8qf47q340000gn/T/ipykernel_70117/652174667.py:8: ResourceWarning: unclosed <socket.socket fd=97, family=AddressFamily.AF_INET, type=SocketKind.SOCK_STREAM, proto=6, laddr=('127.0.0.1', 56129), raddr=('127.0.0.1', 11434)>\n",
      "  analyzer = GraphRAGSystem(row[\"question\"])\n",
      "ResourceWarning: Enable tracemalloc to get the object allocation traceback\n"
     ]
    },
    {
     "name": "stdout",
     "output_type": "stream",
     "text": [
      "Question 371: Does smoking exacerbate AMD by increasing retinal pigment epithelial lipid peroxidation? a) Yes b) No c) Only with UV exposure d) Only with high cholesterol\n",
      "Context: T...\n",
      "Response: The correct answer is: a) Yes.\n",
      "\n"
     ]
    },
    {
     "name": "stderr",
     "output_type": "stream",
     "text": [
      "/var/folders/z3/zc5j75dj0qn_z2sp8qf47q340000gn/T/ipykernel_70117/652174667.py:8: ResourceWarning: unclosed <socket.socket fd=97, family=AddressFamily.AF_INET, type=SocketKind.SOCK_STREAM, proto=6, laddr=('127.0.0.1', 56161), raddr=('127.0.0.1', 11434)>\n",
      "  analyzer = GraphRAGSystem(row[\"question\"])\n",
      "ResourceWarning: Enable tracemalloc to get the object allocation traceback\n"
     ]
    },
    {
     "name": "stdout",
     "output_type": "stream",
     "text": [
      "Question 372: Can dry AMD progress to wet AMD due to excessive retinal pigment epithelial hypoxia? a) Yes b) No c) Only with smoking d) Only with diabetes\n",
      "Context: T...\n",
      "Response: a) Yes\n",
      "\n"
     ]
    },
    {
     "name": "stderr",
     "output_type": "stream",
     "text": [
      "/var/folders/z3/zc5j75dj0qn_z2sp8qf47q340000gn/T/ipykernel_70117/652174667.py:8: ResourceWarning: unclosed <socket.socket fd=97, family=AddressFamily.AF_INET, type=SocketKind.SOCK_STREAM, proto=6, laddr=('127.0.0.1', 56208), raddr=('127.0.0.1', 11434)>\n",
      "  analyzer = GraphRAGSystem(row[\"question\"])\n",
      "ResourceWarning: Enable tracemalloc to get the object allocation traceback\n"
     ]
    },
    {
     "name": "stdout",
     "output_type": "stream",
     "text": [
      "Question 373: Does family history elevate AMD risk by increasing retinal pigment epithelial susceptibility to lipid deposits? a) Yes b) No c) Only in men d) Only with hypertension\n",
      "Context: T...\n",
      "Response: a) Yes\n",
      "\n"
     ]
    },
    {
     "name": "stderr",
     "output_type": "stream",
     "text": [
      "/var/folders/z3/zc5j75dj0qn_z2sp8qf47q340000gn/T/ipykernel_70117/652174667.py:8: ResourceWarning: unclosed <socket.socket fd=97, family=AddressFamily.AF_INET, type=SocketKind.SOCK_STREAM, proto=6, laddr=('127.0.0.1', 56266), raddr=('127.0.0.1', 11434)>\n",
      "  analyzer = GraphRAGSystem(row[\"question\"])\n",
      "ResourceWarning: Enable tracemalloc to get the object allocation traceback\n"
     ]
    },
    {
     "name": "stdout",
     "output_type": "stream",
     "text": [
      "Question 374: Can anti-VEGF injections treat wet AMD by reducing retinal pigment epithelial inflammation? a) Yes b) No c) Partially d) Only early stages\n",
      "Context: T...\n",
      "Response: a) Yes\n",
      "\n"
     ]
    },
    {
     "name": "stderr",
     "output_type": "stream",
     "text": [
      "/var/folders/z3/zc5j75dj0qn_z2sp8qf47q340000gn/T/ipykernel_70117/652174667.py:8: ResourceWarning: unclosed <socket.socket fd=97, family=AddressFamily.AF_INET, type=SocketKind.SOCK_STREAM, proto=6, laddr=('127.0.0.1', 56332), raddr=('127.0.0.1', 11434)>\n",
      "  analyzer = GraphRAGSystem(row[\"question\"])\n",
      "ResourceWarning: Enable tracemalloc to get the object allocation traceback\n"
     ]
    },
    {
     "name": "stdout",
     "output_type": "stream",
     "text": [
      "Question 375: Does hypertension worsen AMD by causing retinal pigment epithelial lipid accumulation? a) Yes b) No c) Only with diabetes d) Only with smoking\n",
      "Context: T...\n",
      "Response: A) Yes\n",
      "\n"
     ]
    },
    {
     "name": "stderr",
     "output_type": "stream",
     "text": [
      "/var/folders/z3/zc5j75dj0qn_z2sp8qf47q340000gn/T/ipykernel_70117/652174667.py:8: ResourceWarning: unclosed <socket.socket fd=97, family=AddressFamily.AF_INET, type=SocketKind.SOCK_STREAM, proto=6, laddr=('127.0.0.1', 56380), raddr=('127.0.0.1', 11434)>\n",
      "  analyzer = GraphRAGSystem(row[\"question\"])\n",
      "ResourceWarning: Enable tracemalloc to get the object allocation traceback\n"
     ]
    },
    {
     "name": "stdout",
     "output_type": "stream",
     "text": [
      "Question 376: Can the Amsler grid detect wet AMD by identifying retinal pigment epithelial detachment? a) Yes b) No c) Sometimes d) Only late stages\n",
      "Context: T...\n",
      "Response: b) No\n",
      "\n"
     ]
    },
    {
     "name": "stderr",
     "output_type": "stream",
     "text": [
      "/var/folders/z3/zc5j75dj0qn_z2sp8qf47q340000gn/T/ipykernel_70117/652174667.py:8: ResourceWarning: unclosed <socket.socket fd=97, family=AddressFamily.AF_INET, type=SocketKind.SOCK_STREAM, proto=6, laddr=('127.0.0.1', 56442), raddr=('127.0.0.1', 11434)>\n",
      "  analyzer = GraphRAGSystem(row[\"question\"])\n",
      "ResourceWarning: Enable tracemalloc to get the object allocation traceback\n"
     ]
    },
    {
     "name": "stdout",
     "output_type": "stream",
     "text": [
      "Question 377: Does UV light exposure accelerate AMD by causing retinal pigment epithelial oxidative stress? a) Yes b) No c) Only with light eyes d) Only with smoking\n",
      "Context: T...\n",
      "Response: a) Yes\n",
      "\n"
     ]
    },
    {
     "name": "stderr",
     "output_type": "stream",
     "text": [
      "/var/folders/z3/zc5j75dj0qn_z2sp8qf47q340000gn/T/ipykernel_70117/652174667.py:8: ResourceWarning: unclosed <socket.socket fd=97, family=AddressFamily.AF_INET, type=SocketKind.SOCK_STREAM, proto=6, laddr=('127.0.0.1', 56484), raddr=('127.0.0.1', 11434)>\n",
      "  analyzer = GraphRAGSystem(row[\"question\"])\n",
      "ResourceWarning: Enable tracemalloc to get the object allocation traceback\n"
     ]
    },
    {
     "name": "stdout",
     "output_type": "stream",
     "text": [
      "Question 378: Can AREDS supplements slow dry AMD by reducing retinal pigment epithelial lipid peroxidation? a) Yes b) No c) Partially d) Only with zinc\n",
      "Context: T...\n",
      "Response: c) Partially\n",
      "\n"
     ]
    },
    {
     "name": "stderr",
     "output_type": "stream",
     "text": [
      "/var/folders/z3/zc5j75dj0qn_z2sp8qf47q340000gn/T/ipykernel_70117/652174667.py:8: ResourceWarning: unclosed <socket.socket fd=97, family=AddressFamily.AF_INET, type=SocketKind.SOCK_STREAM, proto=6, laddr=('127.0.0.1', 56546), raddr=('127.0.0.1', 11434)>\n",
      "  analyzer = GraphRAGSystem(row[\"question\"])\n",
      "ResourceWarning: Enable tracemalloc to get the object allocation traceback\n"
     ]
    },
    {
     "name": "stdout",
     "output_type": "stream",
     "text": [
      "Question 379: Does obesity increase AMD risk by enhancing retinal pigment epithelial oxidative damage? a) Yes b) No c) Only with diabetes d) Only with hypertension\n",
      "Context: S...\n",
      "Response: a\n",
      "\n"
     ]
    },
    {
     "name": "stderr",
     "output_type": "stream",
     "text": [
      "/var/folders/z3/zc5j75dj0qn_z2sp8qf47q340000gn/T/ipykernel_70117/652174667.py:8: ResourceWarning: unclosed <socket.socket fd=97, family=AddressFamily.AF_INET, type=SocketKind.SOCK_STREAM, proto=6, laddr=('127.0.0.1', 56583), raddr=('127.0.0.1', 11434)>\n",
      "  analyzer = GraphRAGSystem(row[\"question\"])\n",
      "ResourceWarning: Enable tracemalloc to get the object allocation traceback\n"
     ]
    },
    {
     "name": "stdout",
     "output_type": "stream",
     "text": [
      "Question 380: Can wet AMD cause sudden vision loss by inducing retinal pigment epithelial scarring? a) Yes b) No c) Only with drusen d) Only with UV exposure\n",
      "Context: A...\n",
      "Response: a) Yes\n",
      "\n"
     ]
    },
    {
     "name": "stderr",
     "output_type": "stream",
     "text": [
      "/var/folders/z3/zc5j75dj0qn_z2sp8qf47q340000gn/T/ipykernel_70117/652174667.py:8: ResourceWarning: unclosed <socket.socket fd=97, family=AddressFamily.AF_INET, type=SocketKind.SOCK_STREAM, proto=6, laddr=('127.0.0.1', 56644), raddr=('127.0.0.1', 11434)>\n",
      "  analyzer = GraphRAGSystem(row[\"question\"])\n",
      "ResourceWarning: Enable tracemalloc to get the object allocation traceback\n"
     ]
    },
    {
     "name": "stdout",
     "output_type": "stream",
     "text": [
      "Question 381: Does diabetes heighten AMD risk by causing retinal pigment epithelial lipid peroxidation? a) Yes b) No c) Only with smoking d) Only with obesity\n",
      "Context: T...\n",
      "Response: a) Yes.\n",
      "\n"
     ]
    },
    {
     "name": "stderr",
     "output_type": "stream",
     "text": [
      "/var/folders/z3/zc5j75dj0qn_z2sp8qf47q340000gn/T/ipykernel_70117/652174667.py:8: ResourceWarning: unclosed <socket.socket fd=97, family=AddressFamily.AF_INET, type=SocketKind.SOCK_STREAM, proto=6, laddr=('127.0.0.1', 56690), raddr=('127.0.0.1', 11434)>\n",
      "  analyzer = GraphRAGSystem(row[\"question\"])\n",
      "ResourceWarning: Enable tracemalloc to get the object allocation traceback\n"
     ]
    },
    {
     "name": "stdout",
     "output_type": "stream",
     "text": [
      "Question 382: Can OCT diagnose wet AMD by detecting retinal pigment epithelial lipid deposits? a) Yes b) No c) Only late stages d) Only with drusen\n",
      "Context: T...\n",
      "Response: a) Yes\n",
      "\n"
     ]
    },
    {
     "name": "stderr",
     "output_type": "stream",
     "text": [
      "/var/folders/z3/zc5j75dj0qn_z2sp8qf47q340000gn/T/ipykernel_70117/652174667.py:8: ResourceWarning: unclosed <socket.socket fd=97, family=AddressFamily.AF_INET, type=SocketKind.SOCK_STREAM, proto=6, laddr=('127.0.0.1', 56755), raddr=('127.0.0.1', 11434)>\n",
      "  analyzer = GraphRAGSystem(row[\"question\"])\n",
      "ResourceWarning: Enable tracemalloc to get the object allocation traceback\n"
     ]
    },
    {
     "name": "stdout",
     "output_type": "stream",
     "text": [
      "Question 383: Does smoking worsen dry AMD by accelerating retinal pigment epithelial degeneration? a) Yes b) No c) Only with UV exposure d) Only with high cholesterol\n",
      "Context: T...\n",
      "Response: A\n",
      "\n"
     ]
    },
    {
     "name": "stderr",
     "output_type": "stream",
     "text": [
      "/var/folders/z3/zc5j75dj0qn_z2sp8qf47q340000gn/T/ipykernel_70117/652174667.py:8: ResourceWarning: unclosed <socket.socket fd=97, family=AddressFamily.AF_INET, type=SocketKind.SOCK_STREAM, proto=6, laddr=('127.0.0.1', 56789), raddr=('127.0.0.1', 11434)>\n",
      "  analyzer = GraphRAGSystem(row[\"question\"])\n",
      "ResourceWarning: Enable tracemalloc to get the object allocation traceback\n"
     ]
    },
    {
     "name": "stdout",
     "output_type": "stream",
     "text": [
      "Question 384: Can photodynamic therapy manage wet AMD by reducing retinal pigment epithelial edema? a) Yes b) No c) Sometimes d) Only early stages\n",
      "Context: T...\n",
      "Response: a) Yes\n",
      "\n"
     ]
    },
    {
     "name": "stderr",
     "output_type": "stream",
     "text": [
      "/var/folders/z3/zc5j75dj0qn_z2sp8qf47q340000gn/T/ipykernel_70117/652174667.py:8: ResourceWarning: unclosed <socket.socket fd=97, family=AddressFamily.AF_INET, type=SocketKind.SOCK_STREAM, proto=6, laddr=('127.0.0.1', 56832), raddr=('127.0.0.1', 11434)>\n",
      "  analyzer = GraphRAGSystem(row[\"question\"])\n",
      "ResourceWarning: Enable tracemalloc to get the object allocation traceback\n"
     ]
    },
    {
     "name": "stdout",
     "output_type": "stream",
     "text": [
      "Question 385: Does a diet rich in leafy greens reduce AMD progression by repairing retinal pigment epithelial damage? a) Yes b) No c) Partially d) Only with supplements\n",
      "Context: T...\n",
      "Response: a) Yes.\n",
      "\n"
     ]
    },
    {
     "name": "stderr",
     "output_type": "stream",
     "text": [
      "/var/folders/z3/zc5j75dj0qn_z2sp8qf47q340000gn/T/ipykernel_70117/652174667.py:8: ResourceWarning: unclosed <socket.socket fd=97, family=AddressFamily.AF_INET, type=SocketKind.SOCK_STREAM, proto=6, laddr=('127.0.0.1', 56879), raddr=('127.0.0.1', 11434)>\n",
      "  analyzer = GraphRAGSystem(row[\"question\"])\n",
      "ResourceWarning: Enable tracemalloc to get the object allocation traceback\n"
     ]
    },
    {
     "name": "stdout",
     "output_type": "stream",
     "text": [
      "Question 386: Can wet AMD lead to legal blindness by causing retinal pigment epithelial degeneration? a) Yes b) No c) Sometimes d) Only late stages\n",
      "Context: S...\n",
      "Response: a) Yes\n",
      "\n"
     ]
    },
    {
     "name": "stderr",
     "output_type": "stream",
     "text": [
      "/var/folders/z3/zc5j75dj0qn_z2sp8qf47q340000gn/T/ipykernel_70117/652174667.py:8: ResourceWarning: unclosed <socket.socket fd=97, family=AddressFamily.AF_INET, type=SocketKind.SOCK_STREAM, proto=6, laddr=('127.0.0.1', 56937), raddr=('127.0.0.1', 11434)>\n",
      "  analyzer = GraphRAGSystem(row[\"question\"])\n",
      "ResourceWarning: Enable tracemalloc to get the object allocation traceback\n"
     ]
    },
    {
     "name": "stdout",
     "output_type": "stream",
     "text": [
      "Question 387: Does high cholesterol increase AMD risk by promoting retinal pigment epithelial lipid peroxidation? a) Yes b) No c) Only with diabetes d) Only with smoking\n",
      "Context: H...\n",
      "Response: a\n",
      "\n"
     ]
    },
    {
     "name": "stderr",
     "output_type": "stream",
     "text": [
      "/var/folders/z3/zc5j75dj0qn_z2sp8qf47q340000gn/T/ipykernel_70117/652174667.py:8: ResourceWarning: unclosed <socket.socket fd=97, family=AddressFamily.AF_INET, type=SocketKind.SOCK_STREAM, proto=6, laddr=('127.0.0.1', 57041), raddr=('127.0.0.1', 11434)>\n",
      "  analyzer = GraphRAGSystem(row[\"question\"])\n",
      "ResourceWarning: Enable tracemalloc to get the object allocation traceback\n"
     ]
    },
    {
     "name": "stdout",
     "output_type": "stream",
     "text": [
      "Question 388: Can dry AMD transition to wet AMD due to excessive retinal pigment epithelial lipid peroxidation? a) Yes b) No c) Only with drusen d) Only with UV exposure\n",
      "Context: T...\n",
      "Response: a\n",
      "\n"
     ]
    },
    {
     "name": "stderr",
     "output_type": "stream",
     "text": [
      "/var/folders/z3/zc5j75dj0qn_z2sp8qf47q340000gn/T/ipykernel_70117/652174667.py:8: ResourceWarning: unclosed <socket.socket fd=97, family=AddressFamily.AF_INET, type=SocketKind.SOCK_STREAM, proto=6, laddr=('127.0.0.1', 57102), raddr=('127.0.0.1', 11434)>\n",
      "  analyzer = GraphRAGSystem(row[\"question\"])\n",
      "ResourceWarning: Enable tracemalloc to get the object allocation traceback\n"
     ]
    },
    {
     "name": "stdout",
     "output_type": "stream",
     "text": [
      "Question 389: Does AMD impair color perception by causing retinal pigment epithelial hypoxia? a) Yes b) No c) Sometimes d) Only wet AMD\n",
      "Context: T...\n",
      "Response: a) Yes\n",
      "\n"
     ]
    },
    {
     "name": "stderr",
     "output_type": "stream",
     "text": [
      "/var/folders/z3/zc5j75dj0qn_z2sp8qf47q340000gn/T/ipykernel_70117/652174667.py:8: ResourceWarning: unclosed <socket.socket fd=97, family=AddressFamily.AF_INET, type=SocketKind.SOCK_STREAM, proto=6, laddr=('127.0.0.1', 57133), raddr=('127.0.0.1', 11434)>\n",
      "  analyzer = GraphRAGSystem(row[\"question\"])\n",
      "ResourceWarning: Enable tracemalloc to get the object allocation traceback\n"
     ]
    },
    {
     "name": "stdout",
     "output_type": "stream",
     "text": [
      "Question 390: Does family history increase AMD risk by causing retinal pigment epithelial lipid peroxidation? a) Yes b) No c) Sometimes d) Only with smoking\n",
      "Context: S...\n",
      "Response: a) Yes\n",
      "\n"
     ]
    },
    {
     "name": "stderr",
     "output_type": "stream",
     "text": [
      "/var/folders/z3/zc5j75dj0qn_z2sp8qf47q340000gn/T/ipykernel_70117/652174667.py:8: ResourceWarning: unclosed <socket.socket fd=97, family=AddressFamily.AF_INET, type=SocketKind.SOCK_STREAM, proto=6, laddr=('127.0.0.1', 57171), raddr=('127.0.0.1', 11434)>\n",
      "  analyzer = GraphRAGSystem(row[\"question\"])\n",
      "ResourceWarning: Enable tracemalloc to get the object allocation traceback\n"
     ]
    },
    {
     "name": "stdout",
     "output_type": "stream",
     "text": [
      "Question 391: Can wet AMD distort vision by inducing retinal pigment epithelial lipid peroxidation? a) Yes b) No c) Only with drusen d) Only with hypertension\n",
      "Context: T...\n",
      "Response: The correct answer is: a) Yes\n",
      "\n"
     ]
    },
    {
     "name": "stderr",
     "output_type": "stream",
     "text": [
      "/var/folders/z3/zc5j75dj0qn_z2sp8qf47q340000gn/T/ipykernel_70117/652174667.py:8: ResourceWarning: unclosed <socket.socket fd=97, family=AddressFamily.AF_INET, type=SocketKind.SOCK_STREAM, proto=6, laddr=('127.0.0.1', 57223), raddr=('127.0.0.1', 11434)>\n",
      "  analyzer = GraphRAGSystem(row[\"question\"])\n",
      "ResourceWarning: Enable tracemalloc to get the object allocation traceback\n"
     ]
    },
    {
     "name": "stdout",
     "output_type": "stream",
     "text": [
      "Question 392: Can hypertension exacerbate AMD by causing retinal pigment epithelial lipid peroxidation? a) Yes b) No c) Only with diabetes d) Only with obesity\n",
      "Context: T...\n",
      "Response: a) Yes\n",
      "\n"
     ]
    },
    {
     "name": "stderr",
     "output_type": "stream",
     "text": [
      "/var/folders/z3/zc5j75dj0qn_z2sp8qf47q340000gn/T/ipykernel_70117/652174667.py:8: ResourceWarning: unclosed <socket.socket fd=97, family=AddressFamily.AF_INET, type=SocketKind.SOCK_STREAM, proto=6, laddr=('127.0.0.1', 57255), raddr=('127.0.0.1', 11434)>\n",
      "  analyzer = GraphRAGSystem(row[\"question\"])\n",
      "ResourceWarning: Enable tracemalloc to get the object allocation traceback\n"
     ]
    },
    {
     "name": "stdout",
     "output_type": "stream",
     "text": [
      "Question 393: Does smoking worsen AMD by increasing retinal pigment epithelial lipid peroxidation? a) Yes b) No c) Only with UV exposure d) Only with high cholesterol\n",
      "Context: T...\n",
      "Response: a) Yes.\n",
      "\n"
     ]
    },
    {
     "name": "stderr",
     "output_type": "stream",
     "text": [
      "/var/folders/z3/zc5j75dj0qn_z2sp8qf47q340000gn/T/ipykernel_70117/652174667.py:8: ResourceWarning: unclosed <socket.socket fd=97, family=AddressFamily.AF_INET, type=SocketKind.SOCK_STREAM, proto=6, laddr=('127.0.0.1', 57321), raddr=('127.0.0.1', 11434)>\n",
      "  analyzer = GraphRAGSystem(row[\"question\"])\n",
      "ResourceWarning: Enable tracemalloc to get the object allocation traceback\n"
     ]
    },
    {
     "name": "stdout",
     "output_type": "stream",
     "text": [
      "Question 394: Can OCT detect early dry AMD by identifying retinal pigment epithelial lipid peroxidation? a) Yes b) No c) Only late stages d) Only with fluid\n",
      "Context: T...\n",
      "Response: a) Yes.\n",
      "\n"
     ]
    },
    {
     "name": "stderr",
     "output_type": "stream",
     "text": [
      "/var/folders/z3/zc5j75dj0qn_z2sp8qf47q340000gn/T/ipykernel_70117/652174667.py:8: ResourceWarning: unclosed <socket.socket fd=97, family=AddressFamily.AF_INET, type=SocketKind.SOCK_STREAM, proto=6, laddr=('127.0.0.1', 57374), raddr=('127.0.0.1', 11434)>\n",
      "  analyzer = GraphRAGSystem(row[\"question\"])\n",
      "ResourceWarning: Enable tracemalloc to get the object allocation traceback\n"
     ]
    },
    {
     "name": "stdout",
     "output_type": "stream",
     "text": [
      "Question 395: Does wet AMD treatment with anti-VEGF injections work by reversing retinal pigment epithelial atrophy? a) Yes b) No c) Partially d) Only early stages\n",
      "Context: T...\n",
      "Response: b\n",
      "\n"
     ]
    },
    {
     "name": "stderr",
     "output_type": "stream",
     "text": [
      "/var/folders/z3/zc5j75dj0qn_z2sp8qf47q340000gn/T/ipykernel_70117/652174667.py:8: ResourceWarning: unclosed <socket.socket fd=97, family=AddressFamily.AF_INET, type=SocketKind.SOCK_STREAM, proto=6, laddr=('127.0.0.1', 57429), raddr=('127.0.0.1', 11434)>\n",
      "  analyzer = GraphRAGSystem(row[\"question\"])\n",
      "ResourceWarning: Enable tracemalloc to get the object allocation traceback\n"
     ]
    },
    {
     "name": "stdout",
     "output_type": "stream",
     "text": [
      "Question 396: Can diabetes contribute to AMD by increasing retinal pigment epithelial lipid peroxidation? a) Yes b) No c) Only with smoking d) Only with hypertension\n",
      "Context: T...\n",
      "Response: a) Yes\n",
      "\n"
     ]
    },
    {
     "name": "stderr",
     "output_type": "stream",
     "text": [
      "/var/folders/z3/zc5j75dj0qn_z2sp8qf47q340000gn/T/ipykernel_70117/652174667.py:8: ResourceWarning: unclosed <socket.socket fd=97, family=AddressFamily.AF_INET, type=SocketKind.SOCK_STREAM, proto=6, laddr=('127.0.0.1', 57468), raddr=('127.0.0.1', 11434)>\n",
      "  analyzer = GraphRAGSystem(row[\"question\"])\n",
      "ResourceWarning: Enable tracemalloc to get the object allocation traceback\n"
     ]
    },
    {
     "name": "stdout",
     "output_type": "stream",
     "text": [
      "Question 397: Does UV exposure accelerate AMD by causing retinal pigment epithelial lipid peroxidation? a) Yes b) No c) Only with smoking d) Only with light eyes\n",
      "Context: T...\n",
      "Response: a) Yes.\n",
      "\n"
     ]
    },
    {
     "name": "stderr",
     "output_type": "stream",
     "text": [
      "/var/folders/z3/zc5j75dj0qn_z2sp8qf47q340000gn/T/ipykernel_70117/652174667.py:8: ResourceWarning: unclosed <socket.socket fd=97, family=AddressFamily.AF_INET, type=SocketKind.SOCK_STREAM, proto=6, laddr=('127.0.0.1', 57510), raddr=('127.0.0.1', 11434)>\n",
      "  analyzer = GraphRAGSystem(row[\"question\"])\n",
      "ResourceWarning: Enable tracemalloc to get the object allocation traceback\n"
     ]
    },
    {
     "name": "stdout",
     "output_type": "stream",
     "text": [
      "Question 398: Can wet AMD cause rapid vision loss by inducing retinal pigment epithelial lipid peroxidation? a) Yes b) No c) Only with drusen d) Only with hypertension\n",
      "Context: T...\n",
      "Response: a) Yes\n",
      "\n"
     ]
    },
    {
     "name": "stderr",
     "output_type": "stream",
     "text": [
      "/var/folders/z3/zc5j75dj0qn_z2sp8qf47q340000gn/T/ipykernel_70117/652174667.py:8: ResourceWarning: unclosed <socket.socket fd=97, family=AddressFamily.AF_INET, type=SocketKind.SOCK_STREAM, proto=6, laddr=('127.0.0.1', 57555), raddr=('127.0.0.1', 11434)>\n",
      "  analyzer = GraphRAGSystem(row[\"question\"])\n",
      "ResourceWarning: Enable tracemalloc to get the object allocation traceback\n"
     ]
    },
    {
     "name": "stdout",
     "output_type": "stream",
     "text": [
      "Question 399: Does a diet high in antioxidants prevent AMD by reversing retinal pigment epithelial lipid peroxidation? a) Yes b) No c) Partially d) Only with supplements\n",
      "Context: T...\n",
      "Response: a) Yes\n",
      "\n"
     ]
    },
    {
     "name": "stderr",
     "output_type": "stream",
     "text": [
      "/var/folders/z3/zc5j75dj0qn_z2sp8qf47q340000gn/T/ipykernel_70117/652174667.py:8: ResourceWarning: unclosed <socket.socket fd=97, family=AddressFamily.AF_INET, type=SocketKind.SOCK_STREAM, proto=6, laddr=('127.0.0.1', 57596), raddr=('127.0.0.1', 11434)>\n",
      "  analyzer = GraphRAGSystem(row[\"question\"])\n",
      "ResourceWarning: Enable tracemalloc to get the object allocation traceback\n"
     ]
    },
    {
     "name": "stdout",
     "output_type": "stream",
     "text": [
      "Question 400: Can smoking exacerbate wet AMD by increasing retinal pigment epithelial lipid peroxidation? a) Yes b) No c) Only with UV exposure d) Only with obesity\n",
      "Context: T...\n",
      "Response: a) Yes\n",
      "\n"
     ]
    },
    {
     "name": "stderr",
     "output_type": "stream",
     "text": [
      "/var/folders/z3/zc5j75dj0qn_z2sp8qf47q340000gn/T/ipykernel_70117/652174667.py:8: ResourceWarning: unclosed <socket.socket fd=97, family=AddressFamily.AF_INET, type=SocketKind.SOCK_STREAM, proto=6, laddr=('127.0.0.1', 57653), raddr=('127.0.0.1', 11434)>\n",
      "  analyzer = GraphRAGSystem(row[\"question\"])\n",
      "ResourceWarning: Enable tracemalloc to get the object allocation traceback\n"
     ]
    },
    {
     "name": "stdout",
     "output_type": "stream",
     "text": [
      "Question 401: Does dry AMD affect color perception by causing retinal pigment epithelial lipid peroxidation? a) Yes b) No c) Sometimes d) Only late stages\n",
      "Context: T...\n",
      "Response: a) Yes\n",
      "\n"
     ]
    },
    {
     "name": "stderr",
     "output_type": "stream",
     "text": [
      "/var/folders/z3/zc5j75dj0qn_z2sp8qf47q340000gn/T/ipykernel_70117/652174667.py:8: ResourceWarning: unclosed <socket.socket fd=97, family=AddressFamily.AF_INET, type=SocketKind.SOCK_STREAM, proto=6, laddr=('127.0.0.1', 57681), raddr=('127.0.0.1', 11434)>\n",
      "  analyzer = GraphRAGSystem(row[\"question\"])\n",
      "ResourceWarning: Enable tracemalloc to get the object allocation traceback\n"
     ]
    },
    {
     "name": "stdout",
     "output_type": "stream",
     "text": [
      "Question 402: Can photodynamic therapy treat wet AMD by reducing retinal pigment epithelial lipid peroxidation? a) Yes b) No c) Only early stages d) Only with anti-VEGF\n",
      "Context: P...\n",
      "Response: a) Yes.\n",
      "\n"
     ]
    },
    {
     "name": "stderr",
     "output_type": "stream",
     "text": [
      "/var/folders/z3/zc5j75dj0qn_z2sp8qf47q340000gn/T/ipykernel_70117/652174667.py:8: ResourceWarning: unclosed <socket.socket fd=97, family=AddressFamily.AF_INET, type=SocketKind.SOCK_STREAM, proto=6, laddr=('127.0.0.1', 57714), raddr=('127.0.0.1', 11434)>\n",
      "  analyzer = GraphRAGSystem(row[\"question\"])\n",
      "ResourceWarning: Enable tracemalloc to get the object allocation traceback\n"
     ]
    },
    {
     "name": "stdout",
     "output_type": "stream",
     "text": [
      "Question 403: Does obesity increase AMD risk by causing retinal pigment epithelial lipid peroxidation? a) Yes b) No c) Sometimes d) Only with diabetes\n",
      "Context: T...\n",
      "Response: a) Yes\n",
      "\n"
     ]
    },
    {
     "name": "stderr",
     "output_type": "stream",
     "text": [
      "/var/folders/z3/zc5j75dj0qn_z2sp8qf47q340000gn/T/ipykernel_70117/652174667.py:8: ResourceWarning: unclosed <socket.socket fd=97, family=AddressFamily.AF_INET, type=SocketKind.SOCK_STREAM, proto=6, laddr=('127.0.0.1', 57748), raddr=('127.0.0.1', 11434)>\n",
      "  analyzer = GraphRAGSystem(row[\"question\"])\n",
      "ResourceWarning: Enable tracemalloc to get the object allocation traceback\n"
     ]
    },
    {
     "name": "stdout",
     "output_type": "stream",
     "text": [
      "Question 404: Can wet AMD impair reading by causing retinal pigment epithelial lipid peroxidation? a) Yes b) No c) Only with drusen d) Only with smoking\n",
      "Context: T...\n",
      "Response: a) Yes\n",
      "\n"
     ]
    },
    {
     "name": "stderr",
     "output_type": "stream",
     "text": [
      "/var/folders/z3/zc5j75dj0qn_z2sp8qf47q340000gn/T/ipykernel_70117/652174667.py:8: ResourceWarning: unclosed <socket.socket fd=97, family=AddressFamily.AF_INET, type=SocketKind.SOCK_STREAM, proto=6, laddr=('127.0.0.1', 57795), raddr=('127.0.0.1', 11434)>\n",
      "  analyzer = GraphRAGSystem(row[\"question\"])\n",
      "ResourceWarning: Enable tracemalloc to get the object allocation traceback\n"
     ]
    },
    {
     "name": "stdout",
     "output_type": "stream",
     "text": [
      "Question 405: Does high cholesterol contribute to AMD by causing retinal pigment epithelial lipid peroxidation? a) Yes b) No c) Only with hypertension d) Only with diabetes\n",
      "Context: H...\n",
      "Response: b) No\n",
      "\n"
     ]
    },
    {
     "name": "stderr",
     "output_type": "stream",
     "text": [
      "/var/folders/z3/zc5j75dj0qn_z2sp8qf47q340000gn/T/ipykernel_70117/652174667.py:8: ResourceWarning: unclosed <socket.socket fd=97, family=AddressFamily.AF_INET, type=SocketKind.SOCK_STREAM, proto=6, laddr=('127.0.0.1', 57827), raddr=('127.0.0.1', 11434)>\n",
      "  analyzer = GraphRAGSystem(row[\"question\"])\n",
      "ResourceWarning: Enable tracemalloc to get the object allocation traceback\n"
     ]
    },
    {
     "name": "stdout",
     "output_type": "stream",
     "text": [
      "Question 406: Can AREDS supplements reduce AMD progression by reversing retinal pigment epithelial lipid peroxidation? a) Yes b) No c) Partially d) Only with zinc\n",
      "Context: T...\n",
      "Response: b\n",
      "\n"
     ]
    },
    {
     "name": "stderr",
     "output_type": "stream",
     "text": [
      "/var/folders/z3/zc5j75dj0qn_z2sp8qf47q340000gn/T/ipykernel_70117/652174667.py:8: ResourceWarning: unclosed <socket.socket fd=97, family=AddressFamily.AF_INET, type=SocketKind.SOCK_STREAM, proto=6, laddr=('127.0.0.1', 57875), raddr=('127.0.0.1', 11434)>\n",
      "  analyzer = GraphRAGSystem(row[\"question\"])\n",
      "ResourceWarning: Enable tracemalloc to get the object allocation traceback\n"
     ]
    },
    {
     "name": "stdout",
     "output_type": "stream",
     "text": [
      "Question 407: Does wet AMD cause blind spots by inducing retinal pigment epithelial lipid peroxidation? a) Yes b) No c) Sometimes d) Only late stages\n",
      "Context: T...\n",
      "Response: a) Yes\n",
      "\n"
     ]
    },
    {
     "name": "stderr",
     "output_type": "stream",
     "text": [
      "/var/folders/z3/zc5j75dj0qn_z2sp8qf47q340000gn/T/ipykernel_70117/652174667.py:8: ResourceWarning: unclosed <socket.socket fd=97, family=AddressFamily.AF_INET, type=SocketKind.SOCK_STREAM, proto=6, laddr=('127.0.0.1', 57904), raddr=('127.0.0.1', 11434)>\n",
      "  analyzer = GraphRAGSystem(row[\"question\"])\n",
      "ResourceWarning: Enable tracemalloc to get the object allocation traceback\n"
     ]
    },
    {
     "name": "stdout",
     "output_type": "stream",
     "text": [
      "Question 408: Can family history increase AMD risk by predisposing to retinal pigment epithelial lipid peroxidation? a) Yes b) No c) Only with smoking d) Only with UV exposure\n",
      "Context: T...\n",
      "Response: a) Yes\n",
      "\n"
     ]
    },
    {
     "name": "stderr",
     "output_type": "stream",
     "text": [
      "/var/folders/z3/zc5j75dj0qn_z2sp8qf47q340000gn/T/ipykernel_70117/652174667.py:8: ResourceWarning: unclosed <socket.socket fd=97, family=AddressFamily.AF_INET, type=SocketKind.SOCK_STREAM, proto=6, laddr=('127.0.0.1', 57934), raddr=('127.0.0.1', 11434)>\n",
      "  analyzer = GraphRAGSystem(row[\"question\"])\n",
      "ResourceWarning: Enable tracemalloc to get the object allocation traceback\n"
     ]
    },
    {
     "name": "stdout",
     "output_type": "stream",
     "text": [
      "Question 409: Does dry AMD progress to wet AMD due to excessive retinal pigment epithelial lipid peroxidation? a) Yes b) No c) Sometimes d) Only with obesity\n",
      "Context: T...\n",
      "Response: c\n",
      "\n"
     ]
    },
    {
     "name": "stderr",
     "output_type": "stream",
     "text": [
      "/var/folders/z3/zc5j75dj0qn_z2sp8qf47q340000gn/T/ipykernel_70117/652174667.py:8: ResourceWarning: unclosed <socket.socket fd=97, family=AddressFamily.AF_INET, type=SocketKind.SOCK_STREAM, proto=6, laddr=('127.0.0.1', 57981), raddr=('127.0.0.1', 11434)>\n",
      "  analyzer = GraphRAGSystem(row[\"question\"])\n",
      "ResourceWarning: Enable tracemalloc to get the object allocation traceback\n"
     ]
    },
    {
     "name": "stdout",
     "output_type": "stream",
     "text": [
      "Question 410: Can anti-VEGF injections improve wet AMD by reducing retinal pigment epithelial lipid peroxidation? a) Yes b) No c) Only early stages d) Only with photodynamic therapy\n",
      "Context: T...\n",
      "Response: a) Yes\n",
      "\n"
     ]
    },
    {
     "name": "stderr",
     "output_type": "stream",
     "text": [
      "/var/folders/z3/zc5j75dj0qn_z2sp8qf47q340000gn/T/ipykernel_70117/652174667.py:8: ResourceWarning: unclosed <socket.socket fd=97, family=AddressFamily.AF_INET, type=SocketKind.SOCK_STREAM, proto=6, laddr=('127.0.0.1', 58016), raddr=('127.0.0.1', 11434)>\n",
      "  analyzer = GraphRAGSystem(row[\"question\"])\n",
      "ResourceWarning: Enable tracemalloc to get the object allocation traceback\n"
     ]
    },
    {
     "name": "stdout",
     "output_type": "stream",
     "text": [
      "Question 411: Does UV light increase AMD risk by causing retinal pigment epithelial lipid peroxidation? a) Yes b) No c) Sometimes d) Only with light eyes\n",
      "Context: T...\n",
      "Response: A) Yes\n",
      "\n"
     ]
    },
    {
     "name": "stderr",
     "output_type": "stream",
     "text": [
      "/var/folders/z3/zc5j75dj0qn_z2sp8qf47q340000gn/T/ipykernel_70117/652174667.py:8: ResourceWarning: unclosed <socket.socket fd=97, family=AddressFamily.AF_INET, type=SocketKind.SOCK_STREAM, proto=6, laddr=('127.0.0.1', 58073), raddr=('127.0.0.1', 11434)>\n",
      "  analyzer = GraphRAGSystem(row[\"question\"])\n",
      "ResourceWarning: Enable tracemalloc to get the object allocation traceback\n"
     ]
    },
    {
     "name": "stdout",
     "output_type": "stream",
     "text": [
      "Question 412: Can wet AMD affect face recognition by causing retinal pigment epithelial lipid peroxidation? a) Yes b) No c) Only with drusen d) Only with smoking\n",
      "Context: T...\n",
      "Response: a\n",
      "\n"
     ]
    },
    {
     "name": "stderr",
     "output_type": "stream",
     "text": [
      "/var/folders/z3/zc5j75dj0qn_z2sp8qf47q340000gn/T/ipykernel_70117/652174667.py:8: ResourceWarning: unclosed <socket.socket fd=97, family=AddressFamily.AF_INET, type=SocketKind.SOCK_STREAM, proto=6, laddr=('127.0.0.1', 58119), raddr=('127.0.0.1', 11434)>\n",
      "  analyzer = GraphRAGSystem(row[\"question\"])\n",
      "ResourceWarning: Enable tracemalloc to get the object allocation traceback\n"
     ]
    },
    {
     "name": "stdout",
     "output_type": "stream",
     "text": [
      "Question 413: Does hypertension worsen AMD by causing retinal pigment epithelial lipid peroxidation? a) Yes b) No c) Only with diabetes d) Only with high cholesterol\n",
      "Context: T...\n",
      "Response: a) Yes\n",
      "\n"
     ]
    },
    {
     "name": "stderr",
     "output_type": "stream",
     "text": [
      "/var/folders/z3/zc5j75dj0qn_z2sp8qf47q340000gn/T/ipykernel_70117/652174667.py:8: ResourceWarning: unclosed <socket.socket fd=97, family=AddressFamily.AF_INET, type=SocketKind.SOCK_STREAM, proto=6, laddr=('127.0.0.1', 58156), raddr=('127.0.0.1', 11434)>\n",
      "  analyzer = GraphRAGSystem(row[\"question\"])\n",
      "ResourceWarning: Enable tracemalloc to get the object allocation traceback\n"
     ]
    },
    {
     "name": "stdout",
     "output_type": "stream",
     "text": [
      "Question 414: Can smoking exacerbate AMD by increasing retinal pigment epithelial lipid peroxidation? a) Yes b) No c) Only with UV exposure d) Only with obesity\n",
      "Context: T...\n",
      "Response: a) Yes.\n",
      "\n"
     ]
    },
    {
     "name": "stderr",
     "output_type": "stream",
     "text": [
      "/var/folders/z3/zc5j75dj0qn_z2sp8qf47q340000gn/T/ipykernel_70117/652174667.py:8: ResourceWarning: unclosed <socket.socket fd=97, family=AddressFamily.AF_INET, type=SocketKind.SOCK_STREAM, proto=6, laddr=('127.0.0.1', 58201), raddr=('127.0.0.1', 11434)>\n",
      "  analyzer = GraphRAGSystem(row[\"question\"])\n",
      "ResourceWarning: Enable tracemalloc to get the object allocation traceback\n"
     ]
    },
    {
     "name": "stdout",
     "output_type": "stream",
     "text": [
      "Question 415: What is the primary region of the retina affected by AMD? a) Optic disc b) Macula c) Peripheral retina d) Ciliary body\n",
      "Context: T...\n",
      "Response: B\n",
      "\n"
     ]
    },
    {
     "name": "stderr",
     "output_type": "stream",
     "text": [
      "/var/folders/z3/zc5j75dj0qn_z2sp8qf47q340000gn/T/ipykernel_70117/652174667.py:8: ResourceWarning: unclosed <socket.socket fd=97, family=AddressFamily.AF_INET, type=SocketKind.SOCK_STREAM, proto=6, laddr=('127.0.0.1', 58241), raddr=('127.0.0.1', 11434)>\n",
      "  analyzer = GraphRAGSystem(row[\"question\"])\n",
      "ResourceWarning: Enable tracemalloc to get the object allocation traceback\n"
     ]
    },
    {
     "name": "stdout",
     "output_type": "stream",
     "text": [
      "Question 416: Which type of AMD involves abnormal blood vessel growth? a) Dry AMD b) Wet AMD c) Early AMD d) Intermediate AMD\n",
      "Context: T...\n",
      "Response: B\n",
      "\n"
     ]
    },
    {
     "name": "stderr",
     "output_type": "stream",
     "text": [
      "/var/folders/z3/zc5j75dj0qn_z2sp8qf47q340000gn/T/ipykernel_70117/652174667.py:8: ResourceWarning: unclosed <socket.socket fd=97, family=AddressFamily.AF_INET, type=SocketKind.SOCK_STREAM, proto=6, laddr=('127.0.0.1', 58273), raddr=('127.0.0.1', 11434)>\n",
      "  analyzer = GraphRAGSystem(row[\"question\"])\n",
      "ResourceWarning: Enable tracemalloc to get the object allocation traceback\n"
     ]
    },
    {
     "name": "stdout",
     "output_type": "stream",
     "text": [
      "Question 417: What are the yellowish deposits in dry AMD called? a) Exudates b) Drusen c) Hemorrhages d) Plaques\n",
      "Context: T...\n",
      "Response: b) Drusen\n",
      "\n"
     ]
    },
    {
     "name": "stderr",
     "output_type": "stream",
     "text": [
      "/var/folders/z3/zc5j75dj0qn_z2sp8qf47q340000gn/T/ipykernel_70117/652174667.py:8: ResourceWarning: unclosed <socket.socket fd=97, family=AddressFamily.AF_INET, type=SocketKind.SOCK_STREAM, proto=6, laddr=('127.0.0.1', 58315), raddr=('127.0.0.1', 11434)>\n",
      "  analyzer = GraphRAGSystem(row[\"question\"])\n",
      "ResourceWarning: Enable tracemalloc to get the object allocation traceback\n"
     ]
    },
    {
     "name": "stdout",
     "output_type": "stream",
     "text": [
      "Question 418: Is AMD a leading cause of blindness in people over 60? a) Yes b) No c) Only in men d) Only in women\n",
      "Context: T...\n",
      "Response: a\n",
      "\n"
     ]
    },
    {
     "name": "stderr",
     "output_type": "stream",
     "text": [
      "/var/folders/z3/zc5j75dj0qn_z2sp8qf47q340000gn/T/ipykernel_70117/652174667.py:8: ResourceWarning: unclosed <socket.socket fd=97, family=AddressFamily.AF_INET, type=SocketKind.SOCK_STREAM, proto=6, laddr=('127.0.0.1', 58344), raddr=('127.0.0.1', 11434)>\n",
      "  analyzer = GraphRAGSystem(row[\"question\"])\n",
      "ResourceWarning: Enable tracemalloc to get the object allocation traceback\n"
     ]
    },
    {
     "name": "stdout",
     "output_type": "stream",
     "text": [
      "Question 419: What treatment is most commonly used for wet AMD? a) Anti-VEGF injections b) Laser surgery c) Vitamin supplements d) Eye drops\n",
      "Context: T...\n",
      "Response: A\n",
      "\n",
      "Explanation: According to the provided medical information, anti-VEGF injections are widely used and have multiple relationships indicating their efficacy in treating wet AMD. This suggests that they are the most commonly used treatment for wet AMD among the options listed.\n",
      "\n"
     ]
    },
    {
     "name": "stderr",
     "output_type": "stream",
     "text": [
      "/var/folders/z3/zc5j75dj0qn_z2sp8qf47q340000gn/T/ipykernel_70117/652174667.py:8: ResourceWarning: unclosed <socket.socket fd=97, family=AddressFamily.AF_INET, type=SocketKind.SOCK_STREAM, proto=6, laddr=('127.0.0.1', 58387), raddr=('127.0.0.1', 11434)>\n",
      "  analyzer = GraphRAGSystem(row[\"question\"])\n",
      "ResourceWarning: Enable tracemalloc to get the object allocation traceback\n"
     ]
    },
    {
     "name": "stdout",
     "output_type": "stream",
     "text": [
      "Question 420: Which vitamin in the AREDS formula supports retinal health? a) Vitamin B12 b) Vitamin C c) Vitamin D d) Vitamin K\n",
      "Context: T...\n",
      "Response: B\n",
      "\n"
     ]
    },
    {
     "name": "stderr",
     "output_type": "stream",
     "text": [
      "/var/folders/z3/zc5j75dj0qn_z2sp8qf47q340000gn/T/ipykernel_70117/652174667.py:8: ResourceWarning: unclosed <socket.socket fd=97, family=AddressFamily.AF_INET, type=SocketKind.SOCK_STREAM, proto=6, laddr=('127.0.0.1', 58434), raddr=('127.0.0.1', 11434)>\n",
      "  analyzer = GraphRAGSystem(row[\"question\"])\n",
      "ResourceWarning: Enable tracemalloc to get the object allocation traceback\n"
     ]
    },
    {
     "name": "stdout",
     "output_type": "stream",
     "text": [
      "Question 421: What is the term for distorted vision in AMD? a) Scotoma b) Metamorphopsia c) Photopsia d) Nyctalopia\n",
      "Context: T...\n",
      "Response: B\n",
      "\n"
     ]
    },
    {
     "name": "stderr",
     "output_type": "stream",
     "text": [
      "/var/folders/z3/zc5j75dj0qn_z2sp8qf47q340000gn/T/ipykernel_70117/652174667.py:8: ResourceWarning: unclosed <socket.socket fd=97, family=AddressFamily.AF_INET, type=SocketKind.SOCK_STREAM, proto=6, laddr=('127.0.0.1', 58458), raddr=('127.0.0.1', 11434)>\n",
      "  analyzer = GraphRAGSystem(row[\"question\"])\n",
      "ResourceWarning: Enable tracemalloc to get the object allocation traceback\n"
     ]
    },
    {
     "name": "stdout",
     "output_type": "stream",
     "text": [
      "Question 422: Which imaging technique is used to diagnose AMD? a) Ultrasound b) OCT c) X-ray d) MRI\n",
      "Context: T...\n",
      "Response: B\n",
      "\n"
     ]
    },
    {
     "name": "stderr",
     "output_type": "stream",
     "text": [
      "/var/folders/z3/zc5j75dj0qn_z2sp8qf47q340000gn/T/ipykernel_70117/652174667.py:8: ResourceWarning: unclosed <socket.socket fd=97, family=AddressFamily.AF_INET, type=SocketKind.SOCK_STREAM, proto=6, laddr=('127.0.0.1', 58500), raddr=('127.0.0.1', 11434)>\n",
      "  analyzer = GraphRAGSystem(row[\"question\"])\n",
      "ResourceWarning: Enable tracemalloc to get the object allocation traceback\n"
     ]
    },
    {
     "name": "stdout",
     "output_type": "stream",
     "text": [
      "Question 423: Does wet AMD account for most advanced cases? a) Yes b) No c) Only in early stages d) Only in late stages\n",
      "Context: T...\n",
      "Response: a) Yes\n",
      "\n"
     ]
    },
    {
     "name": "stderr",
     "output_type": "stream",
     "text": [
      "/var/folders/z3/zc5j75dj0qn_z2sp8qf47q340000gn/T/ipykernel_70117/652174667.py:8: ResourceWarning: unclosed <socket.socket fd=97, family=AddressFamily.AF_INET, type=SocketKind.SOCK_STREAM, proto=6, laddr=('127.0.0.1', 58523), raddr=('127.0.0.1', 11434)>\n",
      "  analyzer = GraphRAGSystem(row[\"question\"])\n",
      "ResourceWarning: Enable tracemalloc to get the object allocation traceback\n"
     ]
    },
    {
     "name": "stdout",
     "output_type": "stream",
     "text": [
      "Question 424: Which habit significantly raises AMD risk? a) Smoking b) Drinking coffee c) Reading in dim light d) Using smartphones\n",
      "Context: T...\n",
      "Response: A\n",
      "\n"
     ]
    },
    {
     "name": "stderr",
     "output_type": "stream",
     "text": [
      "/var/folders/z3/zc5j75dj0qn_z2sp8qf47q340000gn/T/ipykernel_70117/652174667.py:8: ResourceWarning: unclosed <socket.socket fd=97, family=AddressFamily.AF_INET, type=SocketKind.SOCK_STREAM, proto=6, laddr=('127.0.0.1', 58561), raddr=('127.0.0.1', 11434)>\n",
      "  analyzer = GraphRAGSystem(row[\"question\"])\n",
      "ResourceWarning: Enable tracemalloc to get the object allocation traceback\n"
     ]
    },
    {
     "name": "stdout",
     "output_type": "stream",
     "text": [
      "Question 425: What is the advanced dry AMD condition with retinal cell loss? a) Macular edema b) Geographic atrophy c) Retinal detachment d) Choroidal rupture\n",
      "Context: B...\n",
      "Response: B\n",
      "\n"
     ]
    },
    {
     "name": "stderr",
     "output_type": "stream",
     "text": [
      "/var/folders/z3/zc5j75dj0qn_z2sp8qf47q340000gn/T/ipykernel_70117/652174667.py:8: ResourceWarning: unclosed <socket.socket fd=97, family=AddressFamily.AF_INET, type=SocketKind.SOCK_STREAM, proto=6, laddr=('127.0.0.1', 58596), raddr=('127.0.0.1', 11434)>\n",
      "  analyzer = GraphRAGSystem(row[\"question\"])\n",
      "ResourceWarning: Enable tracemalloc to get the object allocation traceback\n"
     ]
    },
    {
     "name": "stdout",
     "output_type": "stream",
     "text": [
      "Question 426: Which mineral is included in the AREDS2 formula? a) Iron b) Zinc c) Magnesium d) Calcium\n",
      "Context: T...\n",
      "Response: B\n",
      "\n"
     ]
    },
    {
     "name": "stderr",
     "output_type": "stream",
     "text": [
      "/var/folders/z3/zc5j75dj0qn_z2sp8qf47q340000gn/T/ipykernel_70117/652174667.py:8: ResourceWarning: unclosed <socket.socket fd=97, family=AddressFamily.AF_INET, type=SocketKind.SOCK_STREAM, proto=6, laddr=('127.0.0.1', 58647), raddr=('127.0.0.1', 11434)>\n",
      "  analyzer = GraphRAGSystem(row[\"question\"])\n",
      "ResourceWarning: Enable tracemalloc to get the object allocation traceback\n"
     ]
    },
    {
     "name": "stdout",
     "output_type": "stream",
     "text": [
      "Question 427: What is a common early symptom of wet AMD? a) Peripheral vision loss b) Central vision distortion c) Color blindness d) Eye pain\n",
      "Context: T...\n",
      "Response: A\n",
      "The best answer is A.\n",
      "\n"
     ]
    },
    {
     "name": "stderr",
     "output_type": "stream",
     "text": [
      "/var/folders/z3/zc5j75dj0qn_z2sp8qf47q340000gn/T/ipykernel_70117/652174667.py:8: ResourceWarning: unclosed <socket.socket fd=97, family=AddressFamily.AF_INET, type=SocketKind.SOCK_STREAM, proto=6, laddr=('127.0.0.1', 58671), raddr=('127.0.0.1', 11434)>\n",
      "  analyzer = GraphRAGSystem(row[\"question\"])\n",
      "ResourceWarning: Enable tracemalloc to get the object allocation traceback\n"
     ]
    },
    {
     "name": "stdout",
     "output_type": "stream",
     "text": [
      "Question 428: Is there a significant gender difference in AMD risk? a) Yes, men b) Yes, women c) No d) Only in younger adults\n",
      "Context: T...\n",
      "Response: c\n",
      "\n"
     ]
    },
    {
     "name": "stderr",
     "output_type": "stream",
     "text": [
      "/var/folders/z3/zc5j75dj0qn_z2sp8qf47q340000gn/T/ipykernel_70117/652174667.py:8: ResourceWarning: unclosed <socket.socket fd=97, family=AddressFamily.AF_INET, type=SocketKind.SOCK_STREAM, proto=6, laddr=('127.0.0.1', 58703), raddr=('127.0.0.1', 11434)>\n",
      "  analyzer = GraphRAGSystem(row[\"question\"])\n",
      "ResourceWarning: Enable tracemalloc to get the object allocation traceback\n"
     ]
    },
    {
     "name": "stdout",
     "output_type": "stream",
     "text": [
      "Question 429: What does fluorescein angiography detect in AMD? a) Eye pressure b) Blood vessel leakage c) Lens opacity d) Corneal damage\n",
      "Context: T...\n",
      "Response: B.\n",
      "\n"
     ]
    },
    {
     "name": "stderr",
     "output_type": "stream",
     "text": [
      "/var/folders/z3/zc5j75dj0qn_z2sp8qf47q340000gn/T/ipykernel_70117/652174667.py:8: ResourceWarning: unclosed <socket.socket fd=97, family=AddressFamily.AF_INET, type=SocketKind.SOCK_STREAM, proto=6, laddr=('127.0.0.1', 58744), raddr=('127.0.0.1', 11434)>\n",
      "  analyzer = GraphRAGSystem(row[\"question\"])\n",
      "ResourceWarning: Enable tracemalloc to get the object allocation traceback\n"
     ]
    },
    {
     "name": "stdout",
     "output_type": "stream",
     "text": [
      "Question 430: Which retinal pigment may reduce AMD risk? a) Lutein b) Hemoglobin c) Melanin d) Rhodopsin\n",
      "Context: T...\n",
      "Response: c\n",
      "\n"
     ]
    },
    {
     "name": "stderr",
     "output_type": "stream",
     "text": [
      "/var/folders/z3/zc5j75dj0qn_z2sp8qf47q340000gn/T/ipykernel_70117/652174667.py:8: ResourceWarning: unclosed <socket.socket fd=97, family=AddressFamily.AF_INET, type=SocketKind.SOCK_STREAM, proto=6, laddr=('127.0.0.1', 58787), raddr=('127.0.0.1', 11434)>\n",
      "  analyzer = GraphRAGSystem(row[\"question\"])\n",
      "ResourceWarning: Enable tracemalloc to get the object allocation traceback\n"
     ]
    },
    {
     "name": "stdout",
     "output_type": "stream",
     "text": [
      "Question 431: What tool helps patients monitor AMD-related vision changes? a) Snellen chart b) Amsler grid c) Ishihara test d) Perimeter\n",
      "Context: T...\n",
      "Response: b\n",
      "\n"
     ]
    },
    {
     "name": "stderr",
     "output_type": "stream",
     "text": [
      "/var/folders/z3/zc5j75dj0qn_z2sp8qf47q340000gn/T/ipykernel_70117/652174667.py:8: ResourceWarning: unclosed <socket.socket fd=97, family=AddressFamily.AF_INET, type=SocketKind.SOCK_STREAM, proto=6, laddr=('127.0.0.1', 58842), raddr=('127.0.0.1', 11434)>\n",
      "  analyzer = GraphRAGSystem(row[\"question\"])\n",
      "ResourceWarning: Enable tracemalloc to get the object allocation traceback\n"
     ]
    },
    {
     "name": "stdout",
     "output_type": "stream",
     "text": [
      "Question 432: Which feature is unique to wet AMD? a) Drusen b) Choroidal neovascularization c) Retinal thinning d) Pigment clumping\n",
      "Context: T...\n",
      "Response: b)\n",
      "\n"
     ]
    },
    {
     "name": "stderr",
     "output_type": "stream",
     "text": [
      "/var/folders/z3/zc5j75dj0qn_z2sp8qf47q340000gn/T/ipykernel_70117/652174667.py:8: ResourceWarning: unclosed <socket.socket fd=97, family=AddressFamily.AF_INET, type=SocketKind.SOCK_STREAM, proto=6, laddr=('127.0.0.1', 58867), raddr=('127.0.0.1', 11434)>\n",
      "  analyzer = GraphRAGSystem(row[\"question\"])\n",
      "ResourceWarning: Enable tracemalloc to get the object allocation traceback\n"
     ]
    },
    {
     "name": "stdout",
     "output_type": "stream",
     "text": [
      "Question 433: What is the biggest risk factor for AMD? a) Diabetes b) Aging c) Obesity d) High cholesterol\n",
      "Context: T...\n",
      "Response: The correct answer is B.\n",
      "\n"
     ]
    },
    {
     "name": "stderr",
     "output_type": "stream",
     "text": [
      "/var/folders/z3/zc5j75dj0qn_z2sp8qf47q340000gn/T/ipykernel_70117/652174667.py:8: ResourceWarning: unclosed <socket.socket fd=97, family=AddressFamily.AF_INET, type=SocketKind.SOCK_STREAM, proto=6, laddr=('127.0.0.1', 58915), raddr=('127.0.0.1', 11434)>\n",
      "  analyzer = GraphRAGSystem(row[\"question\"])\n",
      "ResourceWarning: Enable tracemalloc to get the object allocation traceback\n"
     ]
    },
    {
     "name": "stdout",
     "output_type": "stream",
     "text": [
      "Question 434: Which nutrient is linked to slower AMD progression? a) Saturated fats b) Omega-3 fatty acids c) Sugar d) Sodium\n",
      "Context: T...\n",
      "Response: B\n",
      "\n"
     ]
    },
    {
     "name": "stderr",
     "output_type": "stream",
     "text": [
      "/var/folders/z3/zc5j75dj0qn_z2sp8qf47q340000gn/T/ipykernel_70117/652174667.py:8: ResourceWarning: unclosed <socket.socket fd=97, family=AddressFamily.AF_INET, type=SocketKind.SOCK_STREAM, proto=6, laddr=('127.0.0.1', 58971), raddr=('127.0.0.1', 11434)>\n",
      "  analyzer = GraphRAGSystem(row[\"question\"])\n",
      "ResourceWarning: Enable tracemalloc to get the object allocation traceback\n"
     ]
    },
    {
     "name": "stdout",
     "output_type": "stream",
     "text": [
      "Question 435: What is the term for a blind spot in AMD vision? a) Scotoma b) Aura c) Floater d) Halo\n",
      "Context: T...\n",
      "Response: A\n",
      "\n",
      "Explanation: According to the provided medical information, scotoma is indeed the correct answer. It indicates that scotoma refers to a blind spot in AMD vision. The other options (Aura, Floater, and Halo) do not accurately represent a term specifically associated with AMD-related visual issues.\n",
      "\n"
     ]
    },
    {
     "name": "stderr",
     "output_type": "stream",
     "text": [
      "/var/folders/z3/zc5j75dj0qn_z2sp8qf47q340000gn/T/ipykernel_70117/652174667.py:8: ResourceWarning: unclosed <socket.socket fd=97, family=AddressFamily.AF_INET, type=SocketKind.SOCK_STREAM, proto=6, laddr=('127.0.0.1', 58996), raddr=('127.0.0.1', 11434)>\n",
      "  analyzer = GraphRAGSystem(row[\"question\"])\n",
      "ResourceWarning: Enable tracemalloc to get the object allocation traceback\n"
     ]
    },
    {
     "name": "stdout",
     "output_type": "stream",
     "text": [
      "Question 436: Which type of light may worsen AMD risk? a) Infrared b) UV light c) Blue light d) Red light\n",
      "Context: S...\n",
      "Response: b\n",
      "\n"
     ]
    },
    {
     "name": "stderr",
     "output_type": "stream",
     "text": [
      "/var/folders/z3/zc5j75dj0qn_z2sp8qf47q340000gn/T/ipykernel_70117/652174667.py:8: ResourceWarning: unclosed <socket.socket fd=97, family=AddressFamily.AF_INET, type=SocketKind.SOCK_STREAM, proto=6, laddr=('127.0.0.1', 59039), raddr=('127.0.0.1', 11434)>\n",
      "  analyzer = GraphRAGSystem(row[\"question\"])\n",
      "ResourceWarning: Enable tracemalloc to get the object allocation traceback\n"
     ]
    },
    {
     "name": "stdout",
     "output_type": "stream",
     "text": [
      "Question 437: What laser treatment targets blood vessels in wet AMD? a) LASIK b) Photodynamic therapy c) PRK d) LASEK\n",
      "Context: T...\n",
      "Response: b\n",
      "\n"
     ]
    },
    {
     "name": "stderr",
     "output_type": "stream",
     "text": [
      "/var/folders/z3/zc5j75dj0qn_z2sp8qf47q340000gn/T/ipykernel_70117/652174667.py:8: ResourceWarning: unclosed <socket.socket fd=97, family=AddressFamily.AF_INET, type=SocketKind.SOCK_STREAM, proto=6, laddr=('127.0.0.1', 59084), raddr=('127.0.0.1', 11434)>\n",
      "  analyzer = GraphRAGSystem(row[\"question\"])\n",
      "ResourceWarning: Enable tracemalloc to get the object allocation traceback\n"
     ]
    },
    {
     "name": "stdout",
     "output_type": "stream",
     "text": [
      "Question 438: What is an early sign of dry AMD? a) Large drusen b) Retinal hemorrhage c) Macular edema d) Optic disc swelling\n",
      "Context: T...\n",
      "Response: A\n",
      "\n"
     ]
    },
    {
     "name": "stderr",
     "output_type": "stream",
     "text": [
      "/var/folders/z3/zc5j75dj0qn_z2sp8qf47q340000gn/T/ipykernel_70117/652174667.py:8: ResourceWarning: unclosed <socket.socket fd=97, family=AddressFamily.AF_INET, type=SocketKind.SOCK_STREAM, proto=6, laddr=('127.0.0.1', 59115), raddr=('127.0.0.1', 11434)>\n",
      "  analyzer = GraphRAGSystem(row[\"question\"])\n",
      "ResourceWarning: Enable tracemalloc to get the object allocation traceback\n"
     ]
    },
    {
     "name": "stdout",
     "output_type": "stream",
     "text": [
      "Question 439: What is the goal of low vision aids for AMD patients? a) Cure AMD b) Maximize remaining vision c) Prevent progression d) Restore sight\n",
      "Context: T...\n",
      "Response: B\n",
      "\n"
     ]
    },
    {
     "name": "stderr",
     "output_type": "stream",
     "text": [
      "/var/folders/z3/zc5j75dj0qn_z2sp8qf47q340000gn/T/ipykernel_70117/652174667.py:8: ResourceWarning: unclosed <socket.socket fd=97, family=AddressFamily.AF_INET, type=SocketKind.SOCK_STREAM, proto=6, laddr=('127.0.0.1', 59146), raddr=('127.0.0.1', 11434)>\n",
      "  analyzer = GraphRAGSystem(row[\"question\"])\n",
      "ResourceWarning: Enable tracemalloc to get the object allocation traceback\n"
     ]
    },
    {
     "name": "stdout",
     "output_type": "stream",
     "text": [
      "Question 440: Which ethnic group has the highest AMD prevalence? a) Caucasians b) African Americans c) Asians d) Hispanics\n",
      "Context: T...\n",
      "Response: A\n",
      "\n"
     ]
    },
    {
     "name": "stderr",
     "output_type": "stream",
     "text": [
      "/var/folders/z3/zc5j75dj0qn_z2sp8qf47q340000gn/T/ipykernel_70117/652174667.py:8: ResourceWarning: unclosed <socket.socket fd=97, family=AddressFamily.AF_INET, type=SocketKind.SOCK_STREAM, proto=6, laddr=('127.0.0.1', 59176), raddr=('127.0.0.1', 11434)>\n",
      "  analyzer = GraphRAGSystem(row[\"question\"])\n",
      "ResourceWarning: Enable tracemalloc to get the object allocation traceback\n"
     ]
    },
    {
     "name": "stdout",
     "output_type": "stream",
     "text": [
      "Question 441: What condition involves fluid in the macula in wet AMD? a) Macular edema b) Macular hole c) Retinal tear d) Choroidal effusion\n",
      "Context: T...\n",
      "Response: A\n",
      "\n",
      "The correct answer is A) Macular edema, as it involves fluid accumulation in the macula.\n",
      "\n"
     ]
    },
    {
     "name": "stderr",
     "output_type": "stream",
     "text": [
      "/var/folders/z3/zc5j75dj0qn_z2sp8qf47q340000gn/T/ipykernel_70117/652174667.py:8: ResourceWarning: unclosed <socket.socket fd=97, family=AddressFamily.AF_INET, type=SocketKind.SOCK_STREAM, proto=6, laddr=('127.0.0.1', 59202), raddr=('127.0.0.1', 11434)>\n",
      "  analyzer = GraphRAGSystem(row[\"question\"])\n",
      "ResourceWarning: Enable tracemalloc to get the object allocation traceback\n"
     ]
    },
    {
     "name": "stdout",
     "output_type": "stream",
     "text": [
      "Question 442: Which symptom is specific to AMD, not glaucoma? a) Peripheral vision loss b) Central vision loss c) Eye redness d) Halos\n",
      "Context: T...\n",
      "Response: b) Central vision loss\n",
      "\n"
     ]
    },
    {
     "name": "stderr",
     "output_type": "stream",
     "text": [
      "/var/folders/z3/zc5j75dj0qn_z2sp8qf47q340000gn/T/ipykernel_70117/652174667.py:8: ResourceWarning: unclosed <socket.socket fd=97, family=AddressFamily.AF_INET, type=SocketKind.SOCK_STREAM, proto=6, laddr=('127.0.0.1', 59254), raddr=('127.0.0.1', 11434)>\n",
      "  analyzer = GraphRAGSystem(row[\"question\"])\n",
      "ResourceWarning: Enable tracemalloc to get the object allocation traceback\n"
     ]
    },
    {
     "name": "stdout",
     "output_type": "stream",
     "text": [
      "Question 443: What protein do anti-VEGF drugs target in wet AMD? a) Collagen b) VEGF c) Keratin d) Albumin\n",
      "Context: T...\n",
      "Response: b) VEGF\n",
      "\n"
     ]
    },
    {
     "name": "stderr",
     "output_type": "stream",
     "text": [
      "/var/folders/z3/zc5j75dj0qn_z2sp8qf47q340000gn/T/ipykernel_70117/652174667.py:8: ResourceWarning: unclosed <socket.socket fd=97, family=AddressFamily.AF_INET, type=SocketKind.SOCK_STREAM, proto=6, laddr=('127.0.0.1', 59299), raddr=('127.0.0.1', 11434)>\n",
      "  analyzer = GraphRAGSystem(row[\"question\"])\n",
      "ResourceWarning: Enable tracemalloc to get the object allocation traceback\n"
     ]
    },
    {
     "name": "stdout",
     "output_type": "stream",
     "text": [
      "Question 444: Which lifestyle change most reduces AMD risk? a) More screen time b) Quitting smoking c) Less sleep d) Higher salt intake\n",
      "Context: T...\n",
      "Response: B\n",
      "\n"
     ]
    },
    {
     "name": "stderr",
     "output_type": "stream",
     "text": [
      "/var/folders/z3/zc5j75dj0qn_z2sp8qf47q340000gn/T/ipykernel_70117/652174667.py:8: ResourceWarning: unclosed <socket.socket fd=97, family=AddressFamily.AF_INET, type=SocketKind.SOCK_STREAM, proto=6, laddr=('127.0.0.1', 59334), raddr=('127.0.0.1', 11434)>\n",
      "  analyzer = GraphRAGSystem(row[\"question\"])\n",
      "ResourceWarning: Enable tracemalloc to get the object allocation traceback\n"
     ]
    },
    {
     "name": "stdout",
     "output_type": "stream",
     "text": [
      "Question 445: How often are anti-VEGF injections typically given for wet AMD? a) Yearly b) Every 4-8 weeks c) Monthly d) Once every 6 months\n",
      "Context: T...\n",
      "Response: B.\n",
      "\n"
     ]
    },
    {
     "name": "stderr",
     "output_type": "stream",
     "text": [
      "/var/folders/z3/zc5j75dj0qn_z2sp8qf47q340000gn/T/ipykernel_70117/652174667.py:8: ResourceWarning: unclosed <socket.socket fd=97, family=AddressFamily.AF_INET, type=SocketKind.SOCK_STREAM, proto=6, laddr=('127.0.0.1', 59374), raddr=('127.0.0.1', 11434)>\n",
      "  analyzer = GraphRAGSystem(row[\"question\"])\n",
      "ResourceWarning: Enable tracemalloc to get the object allocation traceback\n"
     ]
    },
    {
     "name": "stdout",
     "output_type": "stream",
     "text": [
      "Question 446: Which retinal layer supports the macula and is affected in AMD? a) Choroid b) Sclera c) Iris d) Lens\n",
      "Context: T...\n",
      "Response: The correct answer is:\n",
      "\n",
      "a) Choroid\n",
      "\n"
     ]
    },
    {
     "name": "stderr",
     "output_type": "stream",
     "text": [
      "/var/folders/z3/zc5j75dj0qn_z2sp8qf47q340000gn/T/ipykernel_70117/652174667.py:8: ResourceWarning: unclosed <socket.socket fd=97, family=AddressFamily.AF_INET, type=SocketKind.SOCK_STREAM, proto=6, laddr=('127.0.0.1', 59413), raddr=('127.0.0.1', 11434)>\n",
      "  analyzer = GraphRAGSystem(row[\"question\"])\n",
      "ResourceWarning: Enable tracemalloc to get the object allocation traceback\n"
     ]
    },
    {
     "name": "stdout",
     "output_type": "stream",
     "text": [
      "Question 447: Which trial updated the AREDS formula? a) AREDS2 b) VISTA c) DRCR.net d) ETDRS\n",
      "Context: T...\n",
      "Response: The correct answer is: a) AREDS2\n",
      "\n"
     ]
    },
    {
     "name": "stderr",
     "output_type": "stream",
     "text": [
      "/var/folders/z3/zc5j75dj0qn_z2sp8qf47q340000gn/T/ipykernel_70117/652174667.py:8: ResourceWarning: unclosed <socket.socket fd=97, family=AddressFamily.AF_INET, type=SocketKind.SOCK_STREAM, proto=6, laddr=('127.0.0.1', 59466), raddr=('127.0.0.1', 11434)>\n",
      "  analyzer = GraphRAGSystem(row[\"question\"])\n",
      "ResourceWarning: Enable tracemalloc to get the object allocation traceback\n"
     ]
    },
    {
     "name": "stdout",
     "output_type": "stream",
     "text": [
      "Question 448: What is a rare wet AMD complication? a) Retinal detachment b) Cataracts c) Glaucoma d) Corneal abrasion\n",
      "Context: T...\n",
      "Response: A) Retinal detachment\n",
      "\n"
     ]
    },
    {
     "name": "stderr",
     "output_type": "stream",
     "text": [
      "/var/folders/z3/zc5j75dj0qn_z2sp8qf47q340000gn/T/ipykernel_70117/652174667.py:8: ResourceWarning: unclosed <socket.socket fd=97, family=AddressFamily.AF_INET, type=SocketKind.SOCK_STREAM, proto=6, laddr=('127.0.0.1', 59488), raddr=('127.0.0.1', 11434)>\n",
      "  analyzer = GraphRAGSystem(row[\"question\"])\n",
      "ResourceWarning: Enable tracemalloc to get the object allocation traceback\n"
     ]
    },
    {
     "name": "stdout",
     "output_type": "stream",
     "text": [
      "Question 449: Which antioxidants are in the AREDS formula? a) Vitamins C and E b) Vitamin A and D c) Vitamin B and K d) Vitamin E and F\n",
      "Context: T...\n",
      "Response: A\n",
      "\n",
      "The correct answer is: a) Vitamins C and E.\n",
      "\n"
     ]
    },
    {
     "name": "stderr",
     "output_type": "stream",
     "text": [
      "/var/folders/z3/zc5j75dj0qn_z2sp8qf47q340000gn/T/ipykernel_70117/652174667.py:8: ResourceWarning: unclosed <socket.socket fd=97, family=AddressFamily.AF_INET, type=SocketKind.SOCK_STREAM, proto=6, laddr=('127.0.0.1', 59516), raddr=('127.0.0.1', 11434)>\n",
      "  analyzer = GraphRAGSystem(row[\"question\"])\n",
      "ResourceWarning: Enable tracemalloc to get the object allocation traceback\n"
     ]
    },
    {
     "name": "stdout",
     "output_type": "stream",
     "text": [
      "Question 450: Which symptom is least associated with AMD? a) Blurred central vision b) Peripheral vision loss c) Distorted lines d) Difficulty reading\n",
      "Context: T...\n",
      "Response: C\n",
      "\n"
     ]
    },
    {
     "name": "stderr",
     "output_type": "stream",
     "text": [
      "/var/folders/z3/zc5j75dj0qn_z2sp8qf47q340000gn/T/ipykernel_70117/652174667.py:8: ResourceWarning: unclosed <socket.socket fd=97, family=AddressFamily.AF_INET, type=SocketKind.SOCK_STREAM, proto=6, laddr=('127.0.0.1', 59548), raddr=('127.0.0.1', 11434)>\n",
      "  analyzer = GraphRAGSystem(row[\"question\"])\n",
      "ResourceWarning: Enable tracemalloc to get the object allocation traceback\n"
     ]
    },
    {
     "name": "stdout",
     "output_type": "stream",
     "text": [
      "Question 451: Which retinal layer nourishes photoreceptors and is damaged in AMD? a) Retinal pigment epithelium b) Inner plexiform layer c) Outer nuclear layer d) Ganglion cell layer\n",
      "Context: T...\n",
      "Response: A\n",
      "The correct answer is A: Retinal pigment epithelium (RPE). The RPE provides nourishment to the photoreceptors, specifically those in the outer nuclear layer. Damage to the RPE in AMD leads to photoreceptor damage.\n",
      "\n"
     ]
    },
    {
     "name": "stderr",
     "output_type": "stream",
     "text": [
      "/var/folders/z3/zc5j75dj0qn_z2sp8qf47q340000gn/T/ipykernel_70117/652174667.py:8: ResourceWarning: unclosed <socket.socket fd=97, family=AddressFamily.AF_INET, type=SocketKind.SOCK_STREAM, proto=6, laddr=('127.0.0.1', 59583), raddr=('127.0.0.1', 11434)>\n",
      "  analyzer = GraphRAGSystem(row[\"question\"])\n",
      "ResourceWarning: Enable tracemalloc to get the object allocation traceback\n"
     ]
    },
    {
     "name": "stdout",
     "output_type": "stream",
     "text": [
      "Question 452: What is a side effect of photodynamic therapy for AMD? a) Hair loss b) Light sensitivity c) Weight gain d) Nausea\n",
      "Context: T...\n",
      "Response: c) Weight gain\n",
      "\n"
     ]
    },
    {
     "name": "stderr",
     "output_type": "stream",
     "text": [
      "/var/folders/z3/zc5j75dj0qn_z2sp8qf47q340000gn/T/ipykernel_70117/652174667.py:8: ResourceWarning: unclosed <socket.socket fd=97, family=AddressFamily.AF_INET, type=SocketKind.SOCK_STREAM, proto=6, laddr=('127.0.0.1', 59626), raddr=('127.0.0.1', 11434)>\n",
      "  analyzer = GraphRAGSystem(row[\"question\"])\n",
      "ResourceWarning: Enable tracemalloc to get the object allocation traceback\n"
     ]
    },
    {
     "name": "stdout",
     "output_type": "stream",
     "text": [
      "Question 453: What is the prevalence of AMD in people over 80? a) 5% b) 10% c) 25% d) 50%\n",
      "Context: T...\n",
      "Response: C\n",
      "\n"
     ]
    },
    {
     "name": "stderr",
     "output_type": "stream",
     "text": [
      "/var/folders/z3/zc5j75dj0qn_z2sp8qf47q340000gn/T/ipykernel_70117/652174667.py:8: ResourceWarning: unclosed <socket.socket fd=97, family=AddressFamily.AF_INET, type=SocketKind.SOCK_STREAM, proto=6, laddr=('127.0.0.1', 59668), raddr=('127.0.0.1', 11434)>\n",
      "  analyzer = GraphRAGSystem(row[\"question\"])\n",
      "ResourceWarning: Enable tracemalloc to get the object allocation traceback\n"
     ]
    },
    {
     "name": "stdout",
     "output_type": "stream",
     "text": [
      "Question 454: Which nutrient was removed from AREDS in AREDS2? a) Beta-carotene b) Vitamin E c) Zinc d) Copper\n",
      "Context: T...\n",
      "Response: A\n",
      "\n"
     ]
    },
    {
     "name": "stderr",
     "output_type": "stream",
     "text": [
      "/var/folders/z3/zc5j75dj0qn_z2sp8qf47q340000gn/T/ipykernel_70117/652174667.py:8: ResourceWarning: unclosed <socket.socket fd=97, family=AddressFamily.AF_INET, type=SocketKind.SOCK_STREAM, proto=6, laddr=('127.0.0.1', 59699), raddr=('127.0.0.1', 11434)>\n",
      "  analyzer = GraphRAGSystem(row[\"question\"])\n",
      "ResourceWarning: Enable tracemalloc to get the object allocation traceback\n"
     ]
    },
    {
     "name": "stdout",
     "output_type": "stream",
     "text": [
      "Question 455: What happens to photoreceptors in advanced AMD? a) They degenerate b) They multiply c) They migrate d) They harden\n",
      "Context: T...\n",
      "Response: A\n",
      "\n"
     ]
    },
    {
     "name": "stderr",
     "output_type": "stream",
     "text": [
      "/var/folders/z3/zc5j75dj0qn_z2sp8qf47q340000gn/T/ipykernel_70117/652174667.py:8: ResourceWarning: unclosed <socket.socket fd=97, family=AddressFamily.AF_INET, type=SocketKind.SOCK_STREAM, proto=6, laddr=('127.0.0.1', 59728), raddr=('127.0.0.1', 11434)>\n",
      "  analyzer = GraphRAGSystem(row[\"question\"])\n",
      "ResourceWarning: Enable tracemalloc to get the object allocation traceback\n"
     ]
    },
    {
     "name": "stdout",
     "output_type": "stream",
     "text": [
      "Question 456: Which visual aid is commonly used by AMD patients? a) Magnifiers b) Hearing aids c) Wheelchairs d) Crutches\n",
      "Context: T...\n",
      "Response: A\n",
      "\n"
     ]
    },
    {
     "name": "stderr",
     "output_type": "stream",
     "text": [
      "/var/folders/z3/zc5j75dj0qn_z2sp8qf47q340000gn/T/ipykernel_70117/652174667.py:8: ResourceWarning: unclosed <socket.socket fd=97, family=AddressFamily.AF_INET, type=SocketKind.SOCK_STREAM, proto=6, laddr=('127.0.0.1', 59763), raddr=('127.0.0.1', 11434)>\n",
      "  analyzer = GraphRAGSystem(row[\"question\"])\n",
      "ResourceWarning: Enable tracemalloc to get the object allocation traceback\n"
     ]
    },
    {
     "name": "stdout",
     "output_type": "stream",
     "text": [
      "Question 457: What condition forms scar tissue in wet AMD? a) Macular fibrosis b) Macular edema c) Macular hole d) Retinal tear\n",
      "Context: T...\n",
      "Response: A\n",
      "The correct answer is A, as macular fibrosis forms scar tissue in wet age-related macular degeneration.\n",
      "\n"
     ]
    },
    {
     "name": "stderr",
     "output_type": "stream",
     "text": [
      "/var/folders/z3/zc5j75dj0qn_z2sp8qf47q340000gn/T/ipykernel_70117/652174667.py:8: ResourceWarning: unclosed <socket.socket fd=97, family=AddressFamily.AF_INET, type=SocketKind.SOCK_STREAM, proto=6, laddr=('127.0.0.1', 59786), raddr=('127.0.0.1', 11434)>\n",
      "  analyzer = GraphRAGSystem(row[\"question\"])\n",
      "ResourceWarning: Enable tracemalloc to get the object allocation traceback\n"
     ]
    },
    {
     "name": "stdout",
     "output_type": "stream",
     "text": [
      "Question 458: Which cardiovascular issue increases AMD risk? a) Hypertension b) Low blood pressure c) Anemia d) Heart failure\n",
      "Context: T...\n",
      "Response: A\n",
      "\n"
     ]
    },
    {
     "name": "stderr",
     "output_type": "stream",
     "text": [
      "/var/folders/z3/zc5j75dj0qn_z2sp8qf47q340000gn/T/ipykernel_70117/652174667.py:8: ResourceWarning: unclosed <socket.socket fd=97, family=AddressFamily.AF_INET, type=SocketKind.SOCK_STREAM, proto=6, laddr=('127.0.0.1', 59824), raddr=('127.0.0.1', 11434)>\n",
      "  analyzer = GraphRAGSystem(row[\"question\"])\n",
      "ResourceWarning: Enable tracemalloc to get the object allocation traceback\n"
     ]
    },
    {
     "name": "stdout",
     "output_type": "stream",
     "text": [
      "Question 459: What procedure uses light-sensitive drugs for wet AMD? a) Photodynamic therapy b) LASIK c) Vitrectomy d) Cataract surgery\n",
      "Context: T...\n",
      "Response: A\n",
      "\n"
     ]
    },
    {
     "name": "stderr",
     "output_type": "stream",
     "text": [
      "/var/folders/z3/zc5j75dj0qn_z2sp8qf47q340000gn/T/ipykernel_70117/652174667.py:8: ResourceWarning: unclosed <socket.socket fd=97, family=AddressFamily.AF_INET, type=SocketKind.SOCK_STREAM, proto=6, laddr=('127.0.0.1', 59866), raddr=('127.0.0.1', 11434)>\n",
      "  analyzer = GraphRAGSystem(row[\"question\"])\n",
      "ResourceWarning: Enable tracemalloc to get the object allocation traceback\n"
     ]
    },
    {
     "name": "stdout",
     "output_type": "stream",
     "text": [
      "Question 460: What is a hallmark of early dry AMD? a) Small drusen b) Large hemorrhages c) Macular swelling d) Optic disc pallor\n",
      "Context: T...\n",
      "Response: A\n",
      "\n"
     ]
    },
    {
     "name": "stderr",
     "output_type": "stream",
     "text": [
      "/var/folders/z3/zc5j75dj0qn_z2sp8qf47q340000gn/T/ipykernel_70117/652174667.py:8: ResourceWarning: unclosed <socket.socket fd=97, family=AddressFamily.AF_INET, type=SocketKind.SOCK_STREAM, proto=6, laddr=('127.0.0.1', 59899), raddr=('127.0.0.1', 11434)>\n",
      "  analyzer = GraphRAGSystem(row[\"question\"])\n",
      "ResourceWarning: Enable tracemalloc to get the object allocation traceback\n"
     ]
    },
    {
     "name": "stdout",
     "output_type": "stream",
     "text": [
      "Question 461: What syndrome causes visual hallucinations in AMD patients? a) Charles Bonnet syndrome b) Stargardt disease c) Leber’s syndrome d) Usher syndrome\n",
      "Context: T...\n",
      "Response: A\n",
      "\n"
     ]
    },
    {
     "name": "stderr",
     "output_type": "stream",
     "text": [
      "/var/folders/z3/zc5j75dj0qn_z2sp8qf47q340000gn/T/ipykernel_70117/652174667.py:8: ResourceWarning: unclosed <socket.socket fd=97, family=AddressFamily.AF_INET, type=SocketKind.SOCK_STREAM, proto=6, laddr=('127.0.0.1', 59924), raddr=('127.0.0.1', 11434)>\n",
      "  analyzer = GraphRAGSystem(row[\"question\"])\n",
      "ResourceWarning: Enable tracemalloc to get the object allocation traceback\n"
     ]
    },
    {
     "name": "stdout",
     "output_type": "stream",
     "text": [
      "Question 462: At what age should AMD screening begin? a) 30 b) 40 c) 50 d) 60\n",
      "Context: T...\n",
      "Response: None, according to the information provided. However, I can tell you that the American Academy of Ophthalmology (AAO) recommends that adults at high risk for AMD start getting regular eye exams starting at age 40-45 or earlier if they have a family history of the disease. \n",
      "\n",
      "Since this option was not available and the correct answer is \"40\", I will choose an option that corresponds to the closest possible answer.\n",
      "\n",
      "The best answer is B\n",
      "\n"
     ]
    },
    {
     "name": "stderr",
     "output_type": "stream",
     "text": [
      "/var/folders/z3/zc5j75dj0qn_z2sp8qf47q340000gn/T/ipykernel_70117/652174667.py:8: ResourceWarning: unclosed <socket.socket fd=97, family=AddressFamily.AF_INET, type=SocketKind.SOCK_STREAM, proto=6, laddr=('127.0.0.1', 59947), raddr=('127.0.0.1', 11434)>\n",
      "  analyzer = GraphRAGSystem(row[\"question\"])\n",
      "ResourceWarning: Enable tracemalloc to get the object allocation traceback\n"
     ]
    },
    {
     "name": "stdout",
     "output_type": "stream",
     "text": [
      "Question 463: What surgery repositions the macula in severe AMD? a) Macular translocation b) Corneal transplant c) Lens replacement d) Glaucoma surgery\n",
      "Context: T...\n",
      "Response: A\n",
      "\n"
     ]
    },
    {
     "name": "stderr",
     "output_type": "stream",
     "text": [
      "/var/folders/z3/zc5j75dj0qn_z2sp8qf47q340000gn/T/ipykernel_70117/652174667.py:8: ResourceWarning: unclosed <socket.socket fd=97, family=AddressFamily.AF_INET, type=SocketKind.SOCK_STREAM, proto=6, laddr=('127.0.0.1', 59986), raddr=('127.0.0.1', 11434)>\n",
      "  analyzer = GraphRAGSystem(row[\"question\"])\n",
      "ResourceWarning: Enable tracemalloc to get the object allocation traceback\n"
     ]
    },
    {
     "name": "stdout",
     "output_type": "stream",
     "text": [
      "Question 464: What is a feature of intermediate AMD? a) Large drusen b) Retinal detachment c) Choroidal rupture d) Optic nerve swelling\n",
      "Context: T...\n",
      "Response: A\n",
      "\n",
      "The information provided states that intermediate AMD is characterized by the presence of large drusen.\n",
      "\n"
     ]
    },
    {
     "name": "stderr",
     "output_type": "stream",
     "text": [
      "/var/folders/z3/zc5j75dj0qn_z2sp8qf47q340000gn/T/ipykernel_70117/652174667.py:8: ResourceWarning: unclosed <socket.socket fd=97, family=AddressFamily.AF_INET, type=SocketKind.SOCK_STREAM, proto=6, laddr=('127.0.0.1', 60019), raddr=('127.0.0.1', 11434)>\n",
      "  analyzer = GraphRAGSystem(row[\"question\"])\n",
      "ResourceWarning: Enable tracemalloc to get the object allocation traceback\n"
     ]
    },
    {
     "name": "stdout",
     "output_type": "stream",
     "text": [
      "Question 465: Why are sunglasses recommended for AMD prevention? a) Reduce UV exposure b) Improve night vision c) Enhance color vision d) Prevent dry eyes\n",
      "Context: T...\n",
      "Response: A\n",
      "The best answer is A.\n",
      "\n"
     ]
    },
    {
     "name": "stderr",
     "output_type": "stream",
     "text": [
      "/var/folders/z3/zc5j75dj0qn_z2sp8qf47q340000gn/T/ipykernel_70117/652174667.py:8: ResourceWarning: unclosed <socket.socket fd=97, family=AddressFamily.AF_INET, type=SocketKind.SOCK_STREAM, proto=6, laddr=('127.0.0.1', 60051), raddr=('127.0.0.1', 11434)>\n",
      "  analyzer = GraphRAGSystem(row[\"question\"])\n",
      "ResourceWarning: Enable tracemalloc to get the object allocation traceback\n"
     ]
    },
    {
     "name": "stdout",
     "output_type": "stream",
     "text": [
      "Question 466: Which gene is most linked to AMD risk? a) CFH b) BRCA1 c) TP53 d) LDLR\n",
      "Context: T...\n",
      "Response: A\n",
      "\n"
     ]
    },
    {
     "name": "stderr",
     "output_type": "stream",
     "text": [
      "/var/folders/z3/zc5j75dj0qn_z2sp8qf47q340000gn/T/ipykernel_70117/652174667.py:8: ResourceWarning: unclosed <socket.socket fd=97, family=AddressFamily.AF_INET, type=SocketKind.SOCK_STREAM, proto=6, laddr=('127.0.0.1', 60081), raddr=('127.0.0.1', 11434)>\n",
      "  analyzer = GraphRAGSystem(row[\"question\"])\n",
      "ResourceWarning: Enable tracemalloc to get the object allocation traceback\n"
     ]
    },
    {
     "name": "stdout",
     "output_type": "stream",
     "text": [
      "Question 467: What condition involves a hole in the macula in some AMD cases? a) Macular hole b) Macular pucker c) Macular edema d) Macular fibrosis\n",
      "Context: T...\n",
      "Response: A\n",
      "\n"
     ]
    },
    {
     "name": "stderr",
     "output_type": "stream",
     "text": [
      "/var/folders/z3/zc5j75dj0qn_z2sp8qf47q340000gn/T/ipykernel_70117/652174667.py:8: ResourceWarning: unclosed <socket.socket fd=97, family=AddressFamily.AF_INET, type=SocketKind.SOCK_STREAM, proto=6, laddr=('127.0.0.1', 60125), raddr=('127.0.0.1', 11434)>\n",
      "  analyzer = GraphRAGSystem(row[\"question\"])\n",
      "ResourceWarning: Enable tracemalloc to get the object allocation traceback\n"
     ]
    },
    {
     "name": "stdout",
     "output_type": "stream",
     "text": [
      "Question 468: Which psychological issue can AMD cause? a) Depression b) Euphoria c) Improved focus d) Increased energy\n",
      "Context: A...\n",
      "Response: A\n",
      "\n"
     ]
    },
    {
     "name": "stderr",
     "output_type": "stream",
     "text": [
      "/var/folders/z3/zc5j75dj0qn_z2sp8qf47q340000gn/T/ipykernel_70117/652174667.py:8: ResourceWarning: unclosed <socket.socket fd=97, family=AddressFamily.AF_INET, type=SocketKind.SOCK_STREAM, proto=6, laddr=('127.0.0.1', 60162), raddr=('127.0.0.1', 11434)>\n",
      "  analyzer = GraphRAGSystem(row[\"question\"])\n",
      "ResourceWarning: Enable tracemalloc to get the object allocation traceback\n"
     ]
    },
    {
     "name": "stdout",
     "output_type": "stream",
     "text": [
      "Question 469: What test measures retinal function in AMD? a) ERG b) VEP c) Tonometry d) Pachymetry\n",
      "Context: T...\n",
      "Response: A\n",
      "Explanation: The multifocal_erg demonstrates that it is used to measure retinal function, particularly in AMD.\n",
      "\n"
     ]
    },
    {
     "name": "stderr",
     "output_type": "stream",
     "text": [
      "/var/folders/z3/zc5j75dj0qn_z2sp8qf47q340000gn/T/ipykernel_70117/652174667.py:8: ResourceWarning: unclosed <socket.socket fd=97, family=AddressFamily.AF_INET, type=SocketKind.SOCK_STREAM, proto=6, laddr=('127.0.0.1', 60198), raddr=('127.0.0.1', 11434)>\n",
      "  analyzer = GraphRAGSystem(row[\"question\"])\n",
      "ResourceWarning: Enable tracemalloc to get the object allocation traceback\n"
     ]
    },
    {
     "name": "stdout",
     "output_type": "stream",
     "text": [
      "Question 470: Which adaptation helps AMD patients read? a) High-contrast materials b) Dim lighting c) Smaller fonts d) More noise\n",
      "Context: T...\n",
      "Response: c) Smaller fonts.\n",
      "\n"
     ]
    },
    {
     "name": "stderr",
     "output_type": "stream",
     "text": [
      "/var/folders/z3/zc5j75dj0qn_z2sp8qf47q340000gn/T/ipykernel_70117/652174667.py:8: ResourceWarning: unclosed <socket.socket fd=97, family=AddressFamily.AF_INET, type=SocketKind.SOCK_STREAM, proto=6, laddr=('127.0.0.1', 60234), raddr=('127.0.0.1', 11434)>\n",
      "  analyzer = GraphRAGSystem(row[\"question\"])\n",
      "ResourceWarning: Enable tracemalloc to get the object allocation traceback\n"
     ]
    },
    {
     "name": "stdout",
     "output_type": "stream",
     "text": [
      "Question 471: What condition wrinkles the retina in AMD? a) Epiretinal membrane b) Retinal tear c) Choroidal rupture d) Vitreous detachment\n",
      "Context: T...\n",
      "Response: The correct answer is A) Epiretinal membrane.\n",
      "\n"
     ]
    },
    {
     "name": "stderr",
     "output_type": "stream",
     "text": [
      "/var/folders/z3/zc5j75dj0qn_z2sp8qf47q340000gn/T/ipykernel_70117/652174667.py:8: ResourceWarning: unclosed <socket.socket fd=97, family=AddressFamily.AF_INET, type=SocketKind.SOCK_STREAM, proto=6, laddr=('127.0.0.1', 60260), raddr=('127.0.0.1', 11434)>\n",
      "  analyzer = GraphRAGSystem(row[\"question\"])\n",
      "ResourceWarning: Enable tracemalloc to get the object allocation traceback\n"
     ]
    },
    {
     "name": "stdout",
     "output_type": "stream",
     "text": [
      "Question 472: Which AREDS2 nutrient filters blue light? a) Zeaxanthin b) Vitamin C c) Copper d) Zinc\n",
      "Context: T...\n",
      "Response: The correct answer is: a) Zeaxanthin.\n",
      "\n"
     ]
    },
    {
     "name": "stderr",
     "output_type": "stream",
     "text": [
      "/var/folders/z3/zc5j75dj0qn_z2sp8qf47q340000gn/T/ipykernel_70117/652174667.py:8: ResourceWarning: unclosed <socket.socket fd=97, family=AddressFamily.AF_INET, type=SocketKind.SOCK_STREAM, proto=6, laddr=('127.0.0.1', 60297), raddr=('127.0.0.1', 11434)>\n",
      "  analyzer = GraphRAGSystem(row[\"question\"])\n",
      "ResourceWarning: Enable tracemalloc to get the object allocation traceback\n"
     ]
    },
    {
     "name": "stdout",
     "output_type": "stream",
     "text": [
      "Question 473: What condition involves blood leakage in wet AMD? a) Macular hemorrhage b) Macular edema c) Macular atrophy d) Macular hole\n",
      "Context: T...\n",
      "Response: The correct answer is b) Macular edema.\n",
      "\n"
     ]
    },
    {
     "name": "stderr",
     "output_type": "stream",
     "text": [
      "/var/folders/z3/zc5j75dj0qn_z2sp8qf47q340000gn/T/ipykernel_70117/652174667.py:8: ResourceWarning: unclosed <socket.socket fd=97, family=AddressFamily.AF_INET, type=SocketKind.SOCK_STREAM, proto=6, laddr=('127.0.0.1', 60324), raddr=('127.0.0.1', 11434)>\n",
      "  analyzer = GraphRAGSystem(row[\"question\"])\n",
      "ResourceWarning: Enable tracemalloc to get the object allocation traceback\n"
     ]
    },
    {
     "name": "stdout",
     "output_type": "stream",
     "text": [
      "Question 474: Which emerging therapy might treat dry AMD? a) Stem cell therapy b) Laser surgery c) Cataract removal d) Glaucoma drainage\n",
      "Context: T...\n",
      "Response: A\n",
      "\n"
     ]
    },
    {
     "name": "stderr",
     "output_type": "stream",
     "text": [
      "/var/folders/z3/zc5j75dj0qn_z2sp8qf47q340000gn/T/ipykernel_70117/652174667.py:8: ResourceWarning: unclosed <socket.socket fd=97, family=AddressFamily.AF_INET, type=SocketKind.SOCK_STREAM, proto=6, laddr=('127.0.0.1', 60375), raddr=('127.0.0.1', 11434)>\n",
      "  analyzer = GraphRAGSystem(row[\"question\"])\n",
      "ResourceWarning: Enable tracemalloc to get the object allocation traceback\n"
     ]
    },
    {
     "name": "stdout",
     "output_type": "stream",
     "text": [
      "Question 475: Which layer degenerates in geographic atrophy? a) Retinal pigment epithelium b) Inner limiting membrane c) Outer nuclear layer d) Ganglion cell layer\n",
      "Context: T...\n",
      "Response: c\n",
      "\n"
     ]
    },
    {
     "name": "stderr",
     "output_type": "stream",
     "text": [
      "/var/folders/z3/zc5j75dj0qn_z2sp8qf47q340000gn/T/ipykernel_70117/652174667.py:8: ResourceWarning: unclosed <socket.socket fd=97, family=AddressFamily.AF_INET, type=SocketKind.SOCK_STREAM, proto=6, laddr=('127.0.0.1', 60407), raddr=('127.0.0.1', 11434)>\n",
      "  analyzer = GraphRAGSystem(row[\"question\"])\n",
      "ResourceWarning: Enable tracemalloc to get the object allocation traceback\n"
     ]
    },
    {
     "name": "stdout",
     "output_type": "stream",
     "text": [
      "Question 476: Which mobility aid is used by AMD patients? a) White cane b) Wheelchair c) Hearing aid d) Prosthetic limb\n",
      "Context: T...\n",
      "Response: A\n",
      "The best answer is A.\n",
      "\n"
     ]
    },
    {
     "name": "stderr",
     "output_type": "stream",
     "text": [
      "/var/folders/z3/zc5j75dj0qn_z2sp8qf47q340000gn/T/ipykernel_70117/652174667.py:8: ResourceWarning: unclosed <socket.socket fd=97, family=AddressFamily.AF_INET, type=SocketKind.SOCK_STREAM, proto=6, laddr=('127.0.0.1', 60439), raddr=('127.0.0.1', 11434)>\n",
      "  analyzer = GraphRAGSystem(row[\"question\"])\n",
      "ResourceWarning: Enable tracemalloc to get the object allocation traceback\n"
     ]
    },
    {
     "name": "stdout",
     "output_type": "stream",
     "text": [
      "Question 477: What causes retinal thinning in dry AMD? a) Geographic atrophy b) Macular edema c) Macular fibrosis d) Macular hemorrhage\n",
      "Context: T...\n",
      "Response: C\n",
      "\n"
     ]
    },
    {
     "name": "stderr",
     "output_type": "stream",
     "text": [
      "/var/folders/z3/zc5j75dj0qn_z2sp8qf47q340000gn/T/ipykernel_70117/652174667.py:8: ResourceWarning: unclosed <socket.socket fd=97, family=AddressFamily.AF_INET, type=SocketKind.SOCK_STREAM, proto=6, laddr=('127.0.0.1', 60462), raddr=('127.0.0.1', 11434)>\n",
      "  analyzer = GraphRAGSystem(row[\"question\"])\n",
      "ResourceWarning: Enable tracemalloc to get the object allocation traceback\n"
     ]
    },
    {
     "name": "stdout",
     "output_type": "stream",
     "text": [
      "Question 478: Which job-related factor may increase AMD risk? a) Sun exposure b) Night shifts c) Heavy lifting d) Desk work\n",
      "Context: T...\n",
      "Response: A\n",
      "The best answer is A.\n",
      "\n"
     ]
    },
    {
     "name": "stderr",
     "output_type": "stream",
     "text": [
      "/var/folders/z3/zc5j75dj0qn_z2sp8qf47q340000gn/T/ipykernel_70117/652174667.py:8: ResourceWarning: unclosed <socket.socket fd=97, family=AddressFamily.AF_INET, type=SocketKind.SOCK_STREAM, proto=6, laddr=('127.0.0.1', 60516), raddr=('127.0.0.1', 11434)>\n",
      "  analyzer = GraphRAGSystem(row[\"question\"])\n",
      "ResourceWarning: Enable tracemalloc to get the object allocation traceback\n"
     ]
    },
    {
     "name": "stdout",
     "output_type": "stream",
     "text": [
      "Question 479: What drug class reduces blood vessel growth in wet AMD? a) Anti-VEGF b) Antibiotics c) Antihistamines d) Analgesics\n",
      "Context: T...\n",
      "Response: A\n",
      "\n"
     ]
    },
    {
     "name": "stderr",
     "output_type": "stream",
     "text": [
      "/var/folders/z3/zc5j75dj0qn_z2sp8qf47q340000gn/T/ipykernel_70117/652174667.py:8: ResourceWarning: unclosed <socket.socket fd=97, family=AddressFamily.AF_INET, type=SocketKind.SOCK_STREAM, proto=6, laddr=('127.0.0.1', 60560), raddr=('127.0.0.1', 11434)>\n",
      "  analyzer = GraphRAGSystem(row[\"question\"])\n",
      "ResourceWarning: Enable tracemalloc to get the object allocation traceback\n"
     ]
    },
    {
     "name": "stdout",
     "output_type": "stream",
     "text": [
      "Question 480: What is seen on OCT in wet AMD? a) Subretinal fluid b) Optic disc drusen c) Corneal thinning d) Lens opacities\n",
      "Context: T...\n",
      "Response: A\n",
      "The correct answer is A. Subretinal fluid accumulation is primarily what is seen on OCT in wet age-related macular degeneration (AMD).\n",
      "\n",
      "Question 481: What severe condition can wet AMD cause? a) Retinal detachment b) Retinal tear c) Retinal schisis d) Retinal hole\n",
      "Context: T...\n",
      "Response: A\n",
      "The correct answer is A: Retinal detachment.\n",
      "\n"
     ]
    },
    {
     "name": "stderr",
     "output_type": "stream",
     "text": [
      "/var/folders/z3/zc5j75dj0qn_z2sp8qf47q340000gn/T/ipykernel_70117/652174667.py:8: ResourceWarning: unclosed <socket.socket fd=97, family=AddressFamily.AF_INET, type=SocketKind.SOCK_STREAM, proto=6, laddr=('127.0.0.1', 60630), raddr=('127.0.0.1', 11434)>\n",
      "  analyzer = GraphRAGSystem(row[\"question\"])\n",
      "ResourceWarning: Enable tracemalloc to get the object allocation traceback\n"
     ]
    },
    {
     "name": "stdout",
     "output_type": "stream",
     "text": [
      "Question 482: Which diet increases AMD risk? a) High fat b) High fiber c) High protein d) High carbs\n",
      "Context: T...\n",
      "Response: A\n",
      "The high-fat diet is associated with an increased risk of age-related macular degeneration (AMD).\n",
      "\n"
     ]
    },
    {
     "name": "stderr",
     "output_type": "stream",
     "text": [
      "/var/folders/z3/zc5j75dj0qn_z2sp8qf47q340000gn/T/ipykernel_70117/652174667.py:8: ResourceWarning: unclosed <socket.socket fd=97, family=AddressFamily.AF_INET, type=SocketKind.SOCK_STREAM, proto=6, laddr=('127.0.0.1', 60663), raddr=('127.0.0.1', 11434)>\n",
      "  analyzer = GraphRAGSystem(row[\"question\"])\n",
      "ResourceWarning: Enable tracemalloc to get the object allocation traceback\n"
     ]
    },
    {
     "name": "stdout",
     "output_type": "stream",
     "text": [
      "Question 483: What test assesses color vision changes in AMD? a) Ishihara test b) Amsler grid c) Snellen chart d) Visual field test\n",
      "Context: T...\n",
      "Response: b) Amsler grid\n",
      "\n"
     ]
    },
    {
     "name": "stderr",
     "output_type": "stream",
     "text": [
      "/var/folders/z3/zc5j75dj0qn_z2sp8qf47q340000gn/T/ipykernel_70117/652174667.py:8: ResourceWarning: unclosed <socket.socket fd=97, family=AddressFamily.AF_INET, type=SocketKind.SOCK_STREAM, proto=6, laddr=('127.0.0.1', 60712), raddr=('127.0.0.1', 11434)>\n",
      "  analyzer = GraphRAGSystem(row[\"question\"])\n",
      "ResourceWarning: Enable tracemalloc to get the object allocation traceback\n"
     ]
    },
    {
     "name": "stdout",
     "output_type": "stream",
     "text": [
      "Question 484: What can untreated dry AMD progress to? a) Geographic atrophy b) Corneal ulcer c) Optic nerve damage d) Lens dislocation\n",
      "Context: T...\n",
      "Response: A\n",
      "\n",
      "The information states that untreated dry age-related macular degeneration (AMD) can progress to geographic atrophy, a condition characterized by the death of retinal pigment epithelium cells.\n",
      "\n",
      "Question 485: What condition blocks retinal blood vessels in AMD? a) Retinal vascular occlusion b) Choroidal neovascularization c) Retinal hemorrhage d) Macular edema\n",
      "Context: T...\n",
      "Response: b) Choroidal neovascularization\n",
      "\n"
     ]
    },
    {
     "name": "stderr",
     "output_type": "stream",
     "text": [
      "/var/folders/z3/zc5j75dj0qn_z2sp8qf47q340000gn/T/ipykernel_70117/652174667.py:8: ResourceWarning: unclosed <socket.socket fd=97, family=AddressFamily.AF_INET, type=SocketKind.SOCK_STREAM, proto=6, laddr=('127.0.0.1', 60781), raddr=('127.0.0.1', 11434)>\n",
      "  analyzer = GraphRAGSystem(row[\"question\"])\n",
      "ResourceWarning: Enable tracemalloc to get the object allocation traceback\n"
     ]
    },
    {
     "name": "stdout",
     "output_type": "stream",
     "text": [
      "Question 486: Which reading aid helps AMD patients? a) Large-print books b) Ear plugs c) Walking sticks d) Compression socks\n",
      "Context: T...\n",
      "Response: A\n",
      "\n"
     ]
    },
    {
     "name": "stderr",
     "output_type": "stream",
     "text": [
      "/var/folders/z3/zc5j75dj0qn_z2sp8qf47q340000gn/T/ipykernel_70117/652174667.py:8: ResourceWarning: unclosed <socket.socket fd=97, family=AddressFamily.AF_INET, type=SocketKind.SOCK_STREAM, proto=6, laddr=('127.0.0.1', 60851), raddr=('127.0.0.1', 11434)>\n",
      "  analyzer = GraphRAGSystem(row[\"question\"])\n",
      "ResourceWarning: Enable tracemalloc to get the object allocation traceback\n"
     ]
    },
    {
     "name": "stdout",
     "output_type": "stream",
     "text": [
      "Question 487: What causes macular swelling in wet AMD? a) Macular edema b) Macular atrophy c) Macular hole d) Macular pucker\n",
      "Context: T...\n",
      "Response: A\n",
      "The best answer is A.\n",
      "\n"
     ]
    },
    {
     "name": "stderr",
     "output_type": "stream",
     "text": [
      "/var/folders/z3/zc5j75dj0qn_z2sp8qf47q340000gn/T/ipykernel_70117/652174667.py:8: ResourceWarning: unclosed <socket.socket fd=97, family=AddressFamily.AF_INET, type=SocketKind.SOCK_STREAM, proto=6, laddr=('127.0.0.1', 60875), raddr=('127.0.0.1', 11434)>\n",
      "  analyzer = GraphRAGSystem(row[\"question\"])\n",
      "ResourceWarning: Enable tracemalloc to get the object allocation traceback\n"
     ]
    },
    {
     "name": "stdout",
     "output_type": "stream",
     "text": [
      "Question 488: What benefit comes from regular eye exams for AMD? a) Early detection b) Complete cure c) Vision restoration d) Disease reversal\n",
      "Context: R...\n",
      "Response: A\n",
      "\n"
     ]
    },
    {
     "name": "stderr",
     "output_type": "stream",
     "text": [
      "/var/folders/z3/zc5j75dj0qn_z2sp8qf47q340000gn/T/ipykernel_70117/652174667.py:8: ResourceWarning: unclosed <socket.socket fd=97, family=AddressFamily.AF_INET, type=SocketKind.SOCK_STREAM, proto=6, laddr=('127.0.0.1', 60910), raddr=('127.0.0.1', 11434)>\n",
      "  analyzer = GraphRAGSystem(row[\"question\"])\n",
      "ResourceWarning: Enable tracemalloc to get the object allocation traceback\n"
     ]
    },
    {
     "name": "stdout",
     "output_type": "stream",
     "text": [
      "Question 489: What condition involves pigment clumping in dry AMD? a) Retinal pigment epithelium clumping b) Choroidal atrophy c) Photoreceptor loss d) Macular edema\n",
      "Context: T...\n",
      "Response: A\n",
      "The correct answer is A: Retinal pigment epithelium clumping.\n",
      "\n"
     ]
    },
    {
     "name": "stderr",
     "output_type": "stream",
     "text": [
      "/var/folders/z3/zc5j75dj0qn_z2sp8qf47q340000gn/T/ipykernel_70117/652174667.py:8: ResourceWarning: unclosed <socket.socket fd=97, family=AddressFamily.AF_INET, type=SocketKind.SOCK_STREAM, proto=6, laddr=('127.0.0.1', 60946), raddr=('127.0.0.1', 11434)>\n",
      "  analyzer = GraphRAGSystem(row[\"question\"])\n",
      "ResourceWarning: Enable tracemalloc to get the object allocation traceback\n"
     ]
    },
    {
     "name": "stdout",
     "output_type": "stream",
     "text": [
      "Question 490: Which technology assists AMD patients with reading? a) Screen readers b) Pacemakers c) Insulin pumps d) Hearing aids\n",
      "Context: T...\n",
      "Response: A\n",
      "\n",
      "Explanation: The text specifically states that screen readers (68) and other digital tools such as magnifying aids (66) assist AMD patients with reading. Therefore, the correct answer is A, Screen readers.\n",
      "\n"
     ]
    },
    {
     "name": "stderr",
     "output_type": "stream",
     "text": [
      "/var/folders/z3/zc5j75dj0qn_z2sp8qf47q340000gn/T/ipykernel_70117/652174667.py:8: ResourceWarning: unclosed <socket.socket fd=97, family=AddressFamily.AF_INET, type=SocketKind.SOCK_STREAM, proto=6, laddr=('127.0.0.1', 61017), raddr=('127.0.0.1', 11434)>\n",
      "  analyzer = GraphRAGSystem(row[\"question\"])\n",
      "ResourceWarning: Enable tracemalloc to get the object allocation traceback\n"
     ]
    },
    {
     "name": "stdout",
     "output_type": "stream",
     "text": [
      "Question 491: What condition tears the retina in severe AMD? a) Retinal tear b) Retinal detachment c) Retinal schisis d) Retinal hole\n",
      "Context: T...\n",
      "Response: b\n",
      "\n"
     ]
    },
    {
     "name": "stderr",
     "output_type": "stream",
     "text": [
      "/var/folders/z3/zc5j75dj0qn_z2sp8qf47q340000gn/T/ipykernel_70117/652174667.py:8: ResourceWarning: unclosed <socket.socket fd=97, family=AddressFamily.AF_INET, type=SocketKind.SOCK_STREAM, proto=6, laddr=('127.0.0.1', 61053), raddr=('127.0.0.1', 11434)>\n",
      "  analyzer = GraphRAGSystem(row[\"question\"])\n",
      "ResourceWarning: Enable tracemalloc to get the object allocation traceback\n"
     ]
    },
    {
     "name": "stdout",
     "output_type": "stream",
     "text": [
      "Question 492: How does exercise benefit AMD patients? a) Improves retinal blood flow b) Increases drusen c) Worsens vision d) Raises UV exposure\n",
      "Context: E...\n",
      "Response: The correct answer is: A) Improves retinal blood flow.\n",
      "\n"
     ]
    },
    {
     "name": "stderr",
     "output_type": "stream",
     "text": [
      "/var/folders/z3/zc5j75dj0qn_z2sp8qf47q340000gn/T/ipykernel_70117/652174667.py:8: ResourceWarning: unclosed <socket.socket fd=97, family=AddressFamily.AF_INET, type=SocketKind.SOCK_STREAM, proto=6, laddr=('127.0.0.1', 61089), raddr=('127.0.0.1', 11434)>\n",
      "  analyzer = GraphRAGSystem(row[\"question\"])\n",
      "ResourceWarning: Enable tracemalloc to get the object allocation traceback\n"
     ]
    },
    {
     "name": "stdout",
     "output_type": "stream",
     "text": [
      "Question 493: What condition puckers the macula in AMD? a) Macular pucker b) Macular edema c) Macular hole d) Macular fibrosis\n",
      "Context: T...\n",
      "Response: The correct answer is: D) Macular fibrosis.\n",
      "\n",
      "Macular fibrosis is not directly related to AMD. However, it was mentioned that fibrosis can be associated with AMD and affect visual acuity.\n",
      "\n",
      "In AMD (Age-related Macular Degeneration), the condition that puckers or thickens the macula is called \"drusen\". Drusen are yellowish deposits under the retina, which can lead to the development of more advanced forms of AMD. \n",
      "\n",
      "However, given the options provided:\n",
      "\n",
      "A) Macular pucker - A common term used for a type of fibrosis associated with DME.\n",
      "B) Macular edema - This is correct, as macular pucker refers to the thickening or puckering that occurs in response to macular edema.\n",
      "C) Macular hole - This is not related to AMD.\n",
      "D) Macular fibrosis - This is another term for a condition associated with DME.\n",
      "\n",
      "The best answer is B.\n",
      "\n"
     ]
    },
    {
     "name": "stderr",
     "output_type": "stream",
     "text": [
      "/var/folders/z3/zc5j75dj0qn_z2sp8qf47q340000gn/T/ipykernel_70117/652174667.py:8: ResourceWarning: unclosed <socket.socket fd=97, family=AddressFamily.AF_INET, type=SocketKind.SOCK_STREAM, proto=6, laddr=('127.0.0.1', 61153), raddr=('127.0.0.1', 11434)>\n",
      "  analyzer = GraphRAGSystem(row[\"question\"])\n",
      "ResourceWarning: Enable tracemalloc to get the object allocation traceback\n"
     ]
    },
    {
     "name": "stdout",
     "output_type": "stream",
     "text": [
      "Question 494: Which future tool might diagnose AMD? a) Artificial intelligence b) Blood pressure monitor c) Pulse oximeter d) EEG\n",
      "Context: T...\n",
      "Response: A\n",
      "\n"
     ]
    },
    {
     "name": "stderr",
     "output_type": "stream",
     "text": [
      "/var/folders/z3/zc5j75dj0qn_z2sp8qf47q340000gn/T/ipykernel_70117/652174667.py:8: ResourceWarning: unclosed <socket.socket fd=97, family=AddressFamily.AF_INET, type=SocketKind.SOCK_STREAM, proto=6, laddr=('127.0.0.1', 61267), raddr=('127.0.0.1', 11434)>\n",
      "  analyzer = GraphRAGSystem(row[\"question\"])\n",
      "ResourceWarning: Enable tracemalloc to get the object allocation traceback\n"
     ]
    },
    {
     "name": "stdout",
     "output_type": "stream",
     "text": [
      "Question 495: What condition dilates retinal blood vessels in AMD? a) Retinal vascular dilation b) Choroidal neovascularization c) Retinal hemorrhage d) Macular edema\n",
      "Context: T...\n",
      "Response: c\n",
      "\n"
     ]
    },
    {
     "name": "stderr",
     "output_type": "stream",
     "text": [
      "/var/folders/z3/zc5j75dj0qn_z2sp8qf47q340000gn/T/ipykernel_70117/652174667.py:8: ResourceWarning: unclosed <socket.socket fd=97, family=AddressFamily.AF_INET, type=SocketKind.SOCK_STREAM, proto=6, laddr=('127.0.0.1', 61291), raddr=('127.0.0.1', 11434)>\n",
      "  analyzer = GraphRAGSystem(row[\"question\"])\n",
      "ResourceWarning: Enable tracemalloc to get the object allocation traceback\n"
     ]
    },
    {
     "name": "stdout",
     "output_type": "stream",
     "text": [
      "Question 496: Which cooking aid helps AMD patients? a) High-contrast cutting boards b) Noise-canceling headphones c) Orthopedic shoes d) Glucose monitors\n",
      "Context: T...\n",
      "Response: None of the above options are explicitly mentioned in the text as helping AMD patients. However, among the given options, none is directly related to AMD.\n",
      "\n",
      "But, considering the focus on nutritional aspects and antioxidant-rich ingredients, a more suitable option would be cooking aids that incorporate antioxidants, such as cooking with olive oil or using herbs like turmeric or ginger (which have antioxidant properties). \n",
      "\n",
      "Since this isn't an available option, it's difficult to select from the given choices.\n",
      "\n"
     ]
    },
    {
     "name": "stderr",
     "output_type": "stream",
     "text": [
      "/var/folders/z3/zc5j75dj0qn_z2sp8qf47q340000gn/T/ipykernel_70117/652174667.py:8: ResourceWarning: unclosed <socket.socket fd=97, family=AddressFamily.AF_INET, type=SocketKind.SOCK_STREAM, proto=6, laddr=('127.0.0.1', 61359), raddr=('127.0.0.1', 11434)>\n",
      "  analyzer = GraphRAGSystem(row[\"question\"])\n",
      "ResourceWarning: Enable tracemalloc to get the object allocation traceback\n"
     ]
    },
    {
     "name": "stdout",
     "output_type": "stream",
     "text": [
      "Question 497: What disrupts photoreceptors in AMD? a) Photoreceptor disarray b) Retinal pigment epithelium atrophy c) Choroidal atrophy d) Macular edema\n",
      "Context: T...\n",
      "Response: The correct answer is: B) Retinal pigment epithelium atrophy.\n",
      "\n"
     ]
    },
    {
     "name": "stderr",
     "output_type": "stream",
     "text": [
      "/var/folders/z3/zc5j75dj0qn_z2sp8qf47q340000gn/T/ipykernel_70117/652174667.py:8: ResourceWarning: unclosed <socket.socket fd=97, family=AddressFamily.AF_INET, type=SocketKind.SOCK_STREAM, proto=6, laddr=('127.0.0.1', 61403), raddr=('127.0.0.1', 11434)>\n",
      "  analyzer = GraphRAGSystem(row[\"question\"])\n",
      "ResourceWarning: Enable tracemalloc to get the object allocation traceback\n"
     ]
    },
    {
     "name": "stdout",
     "output_type": "stream",
     "text": [
      "Question 498: How does quitting smoking help AMD? a) Reduces oxidative stress b) Increases drusen c) Raises blood pressure d) Worsens vision\n",
      "Context: Q...\n",
      "Response: The correct answer is: A) Reduces oxidative stress\n",
      "\n"
     ]
    },
    {
     "name": "stderr",
     "output_type": "stream",
     "text": [
      "/var/folders/z3/zc5j75dj0qn_z2sp8qf47q340000gn/T/ipykernel_70117/652174667.py:8: ResourceWarning: unclosed <socket.socket fd=97, family=AddressFamily.AF_INET, type=SocketKind.SOCK_STREAM, proto=6, laddr=('127.0.0.1', 61491), raddr=('127.0.0.1', 11434)>\n",
      "  analyzer = GraphRAGSystem(row[\"question\"])\n",
      "ResourceWarning: Enable tracemalloc to get the object allocation traceback\n"
     ]
    },
    {
     "name": "stdout",
     "output_type": "stream",
     "text": [
      "Question 499: What condition leaks blood into the retina in wet AMD? a) Retinal hemorrhage b) Macular edema c) Choroidal rupture d) Vitreous detachment\n",
      "Context: T...\n",
      "Response: The correct answer is B) Macular edema. In wet Age-Related Macular Degeneration (AMD), new, fragile blood vessels (neovasculature) grow under the macula, leading to leakage and bleeding into the retina, causing macular edema.\n",
      "\n"
     ]
    },
    {
     "name": "stderr",
     "output_type": "stream",
     "text": [
      "/var/folders/z3/zc5j75dj0qn_z2sp8qf47q340000gn/T/ipykernel_70117/652174667.py:8: ResourceWarning: unclosed <socket.socket fd=97, family=AddressFamily.AF_INET, type=SocketKind.SOCK_STREAM, proto=6, laddr=('127.0.0.1', 61531), raddr=('127.0.0.1', 11434)>\n",
      "  analyzer = GraphRAGSystem(row[\"question\"])\n",
      "ResourceWarning: Enable tracemalloc to get the object allocation traceback\n"
     ]
    },
    {
     "name": "stdout",
     "output_type": "stream",
     "text": [
      "Question 500: Which driving aid assists AMD patients? a) Bioptic telescopes b) Glucose meters c) Oxygen tanks d) Knee braces\n",
      "Context: T...\n",
      "Response: A\n",
      "The correct answer is A.\n",
      "\n"
     ]
    }
   ],
   "source": [
    "# Loop through questions and generate answers with context\n",
    "contexts = []\n",
    "with_context_responses = []\n",
    "\n",
    "print(\"Processing questions with context...\")\n",
    "for index, row in df.iterrows():\n",
    "    # Retrieve context\n",
    "    analyzer = GraphRAGSystem(row[\"question\"])\n",
    "    context = analyzer.analyze()\n",
    "\n",
    "    contexts.append(context)\n",
    "    \n",
    "    # Generate answer with context\n",
    "    response = generate_answer_with_context(row[\"question\"], context, \"llama3.2\")\n",
    "    response = remove_think_tags(response)\n",
    "    with_context_responses.append(response)\n",
    "    \n",
    "    print(f\"Question {index+1}: {row['question']}\")\n",
    "    print(f\"Context: {context[0][:100]}...\")\n",
    "    print(f\"Response: {response}\\n\")\n",
    "\n",
    "# Add to dataframe\n",
    "df['contexts'] = contexts\n",
    "df['with_context_answer'] = with_context_responses"
   ]
  },
  {
   "cell_type": "code",
   "execution_count": 8,
   "id": "834c63bc-9592-45eb-ba29-91588e263cf5",
   "metadata": {},
   "outputs": [
    {
     "name": "stdout",
     "output_type": "stream",
     "text": [
      "Processing questions without context...\n",
      "Question 1: Which factor increases wet AMD risk by promoting VEGF production? a) Smoking b) Drinking water c) Regular exercise d) Low cholesterol\n",
      "Response: A\n",
      "\n",
      "Question 2: Can dry AMD progress to geographic atrophy due to excessive antioxidant deficiency? a) Yes b) No c) Only with smoking d) Only with UV exposure\n",
      "Response: a) Yes\n",
      "\n",
      "Question 3: Does family history elevate AMD risk by increasing drusen formation susceptibility? a) Yes b) No c) Only in men d) Only in women\n",
      "Response: a\n",
      "\n",
      "Question 4: Can anti-VEGF injections treat wet AMD by reducing photoreceptor regeneration? a) Yes b) No c) Sometimes d) Only early stages\n",
      "Response: b\n",
      "\n",
      "Question 5: Does hypertension worsen AMD by elevating choroidal pressure? a) Yes b) No c) Only with diabetes d) Only with obesity\n",
      "Response: a\n",
      "\n",
      "Question 6: Can the Amsler grid detect wet AMD by revealing optic nerve damage? a) Yes b) No c) Sometimes d) Only late stages\n",
      "Response: b\n",
      "\n",
      "Question 7: Does UV exposure accelerate AMD by triggering immediate retinal hemorrhages? a) Yes b) No c) Only with smoking d) Only with light eyes\n",
      "Response: b\n",
      "\n",
      "Question 8: Can AREDS supplements slow dry AMD by reversing retinal pigment epithelial atrophy? a) Yes b) No c) Partially d) Only with zinc\n",
      "Response: a\n",
      "\n",
      "Question 9: Does obesity increase AMD risk by enhancing retinal inflammation? a) Yes b) No c) Only with diabetes d) Only with hypertension\n",
      "Response: a) Yes\n",
      "\n",
      "Question 10: Can wet AMD cause sudden vision loss by inducing choroidal neovascular leakage? a) Yes b) No c) Only with drusen d) Only with UV exposure\n",
      "Response: a) Yes\n",
      "\n",
      "Question 11: Does diabetes heighten AMD risk by causing direct photoreceptor loss? a) Yes b) No c) Sometimes d) Only with hypertension\n",
      "Response: c\n",
      "\n",
      "Question 12: Can OCT diagnose wet AMD by detecting retinal pigment epithelial detachment? a) Yes b) No c) Only late stages d) Only with drusen\n",
      "Response: a) Yes\n",
      "\n",
      "Question 13: Does smoking worsen dry AMD by accelerating oxidative damage to the macula? a) Yes b) No c) Only with UV exposure d) Only with obesity\n",
      "Response: a) Yes\n",
      "\n",
      "Question 14: Can photodynamic therapy manage wet AMD by reversing drusen accumulation? a) Yes b) No c) Sometimes d) Only early stages\n",
      "Response: b\n",
      "\n",
      "Question 15: Does a diet rich in leafy greens reduce AMD risk by repairing choroidal blood vessels? a) Yes b) No c) Partially d) Only with supplements\n",
      "Response: c\n",
      "\n",
      "Question 16: Can wet AMD cause legal blindness by impairing retinal pigment epithelial regeneration? a) Yes b) No c) Sometimes d) Only late stages\n",
      "Response: a\n",
      "\n",
      "Question 17: Does high cholesterol increase AMD risk by promoting retinal pigment epithelial inflammation? a) Yes b) No c) Only with diabetes d) Only with smoking\n",
      "Response: a) Yes\n",
      "\n",
      "Question 18: Can dry AMD transition to wet AMD due to excessive retinal hypoxia? a) Yes b) No c) Only with drusen d) Only with UV exposure\n",
      "Response: a) Yes\n",
      "\n",
      "Question 19: Does AMD impair depth perception by causing choroidal thinning? a) Yes b) No c) Sometimes d) Only wet AMD\n",
      "Response: a\n",
      "\n",
      "Question 20: Can anti-VEGF therapy stabilize wet AMD by reducing subretinal fluid leakage? a) Yes b) No c) Only early stages d) Only with surgery\n",
      "Response: a) Yes\n",
      "\n",
      "Question 21: Does family history increase AMD risk by causing direct retinal thinning? a) Yes b) No c) Sometimes d) Only with smoking\n",
      "Response: b\n",
      "\n",
      "Question 22: Can wet AMD distort vision by inducing subretinal hemorrhages? a) Yes b) No c) Only with drusen d) Only with hypertension\n",
      "Response: a\n",
      "\n",
      "Question 23: Does dry AMD progress slowly because it avoids retinal pigment epithelial repair? a) Yes b) No c) Sometimes d) Only early stages\n",
      "Response: a) Yes\n",
      "\n",
      "Question 24: Can hypertension exacerbate AMD by causing retinal pigment epithelial detachment? a) Yes b) No c) Only with diabetes d) Only with obesity\n",
      "Response: a) Yes\n",
      "\n",
      "Question 25: Does smoking worsen AMD by increasing retinal pigment epithelial hypoxia? a) Yes b) No c) Only with UV exposure d) Only with high cholesterol\n",
      "Response: a) Yes\n",
      "\n",
      "Question 26: Can OCT detect early dry AMD by identifying changes in drusen morphology? a) Yes b) No c) Only late stages d) Only with fluid\n",
      "Response: a) Yes\n",
      "\n",
      "Question 27: Does wet AMD treatment with anti-VEGF injections work by reversing choroidal neovascularization? a) Yes b) No c) Partially d) Only early stages\n",
      "Response: a\n",
      "\n",
      "Question 28: Can diabetes contribute to AMD by elevating oxidative stress in the retina? a) Yes b) No c) Only with smoking d) Only with hypertension\n",
      "Response: a) Yes\n",
      "\n",
      "Question 29: Does dry AMD progress to geographic atrophy by causing retinal pigment epithelial hemorrhages? a) Yes b) No c) Sometimes d) Only late stages\n",
      "Response: a\n",
      "\n",
      "Question 30: Can AMD increase fall risk by reducing central visual acuity? a) Yes b) No c) Only with wet AMD d) Only with dry AMD\n",
      "Response: a\n",
      "\n",
      "Question 31: Does UV exposure accelerate AMD by causing immediate retinal pigment epithelial detachment? a) Yes b) No c) Only with smoking d) Only with light eyes\n",
      "Response: b\n",
      "\n",
      "Question 32: Can wet AMD cause rapid vision loss by inducing retinal pigment epithelial scarring? a) Yes b) No c) Only with drusen d) Only with hypertension\n",
      "Response: a) Yes\n",
      "\n",
      "Question 33: Does a diet high in antioxidants prevent AMD by reversing retinal hypoxia? a) Yes b) No c) Partially d) Only with supplements\n",
      "Response: c\n",
      "\n",
      "Question 34: Can smoking exacerbate wet AMD by increasing choroidal neovascular activity? a) Yes b) No c) Only with UV exposure d) Only with obesity\n",
      "Response: a) Yes\n",
      "\n",
      "Question 35: Does dry AMD affect color perception by causing retinal pigment epithelial regeneration? a) Yes b) No c) Sometimes d) Only late stages\n",
      "Response: a)\n",
      "\n",
      "Question 36: Can photodynamic therapy treat wet AMD by reducing retinal pigment epithelial edema? a) Yes b) No c) Only early stages d) Only with anti-VEGF\n",
      "Response: a\n",
      "\n",
      "Question 37: Does obesity increase AMD risk by causing immediate retinal pigment epithelial atrophy? a) Yes b) No c) Sometimes d) Only with diabetes\n",
      "Response: b\n",
      "\n",
      "Question 38: Can wet AMD impair reading by causing retinal pigment epithelial detachment? a) Yes b) No c) Only with drusen d) Only with smoking\n",
      "Response: a) Yes\n",
      "\n",
      "Question 39: Does high cholesterol contribute to AMD by increasing retinal pigment epithelial lipid accumulation? a) Yes b) No c) Only with hypertension d) Only with diabetes\n",
      "Response: a) Yes\n",
      "\n",
      "Question 40: Can AREDS supplements reduce AMD progression by fully repairing retinal pigment epithelium? a) Yes b) No c) Partially d) Only with zinc\n",
      "Response: d\n",
      "\n",
      "Question 41: Does wet AMD cause blind spots by inducing retinal pigment epithelial regeneration? a) Yes b) No c) Sometimes d) Only late stages\n",
      "Response: b\n",
      "\n",
      "Question 42: Can family history increase AMD risk by predisposing to retinal pigment epithelial oxidative stress? a) Yes b) No c) Only with smoking d) Only with UV exposure\n",
      "Response: a) Yes\n",
      "\n",
      "Question 43: Does dry AMD progress to wet AMD due to excessive dietary cholesterol alone? a) Yes b) No c) Sometimes d) Only with obesity\n",
      "Response: b) No\n",
      "\n",
      "Question 44: Can anti-VEGF injections improve wet AMD by reducing retinal pigment epithelial hemorrhages? a) Yes b) No c) Only early stages d) Only with photodynamic therapy\n",
      "Response: a) Yes\n",
      "\n",
      "Question 45: Does UV light increase AMD risk by causing retinal pigment epithelial lipid regeneration? a) Yes b) No c) Sometimes d) Only with light eyes\n",
      "Response: a\n",
      "\n",
      "Question 46: Can wet AMD affect face recognition by causing retinal pigment epithelial scarring? a) Yes b) No c) Only with drusen d) Only with smoking\n",
      "Response: a\n",
      "\n",
      "Question 47: Does hypertension worsen AMD by causing retinal pigment epithelial regeneration? a) Yes b) No c) Only with diabetes d) Only with high cholesterol\n",
      "Response: b\n",
      "\n",
      "Question 48: Can smoking exacerbate AMD by increasing retinal pigment epithelial lipid deposits? a) Yes b) No c) Only with obesity d) Only with UV exposure\n",
      "Response: a\n",
      "\n",
      "Question 49: Does dry AMD cause gradual vision loss by inducing retinal pigment epithelial repair? a) Yes b) No c) Sometimes d) Only late stages\n",
      "Response: b\n",
      "\n",
      "Question 50: Can OCT confirm wet AMD by detecting retinal pigment epithelial lipid accumulation? a) Yes b) No c) Only late stages d) Only with drusen\n",
      "Response: a) Yes\n",
      "\n",
      "Question 51: Does diabetes increase AMD risk by causing retinal pigment epithelial hemorrhages? a) Yes b) No c) Only with hypertension d) Only with smoking\n",
      "Response: a) Yes\n",
      "\n",
      "Question 52: Can wet AMD cause sudden vision changes by inducing retinal pigment epithelial edema? a) Yes b) No c) Only with drusen d) Only with UV exposure\n",
      "Response: a\n",
      "\n",
      "Question 53: Does family history elevate AMD risk by causing retinal pigment epithelial lipid repair? a) Yes b) No c) Sometimes d) Only with obesity\n",
      "Response: a\n",
      "\n",
      "Question 54: Can anti-VEGF therapy stabilize wet AMD by reducing retinal pigment epithelial scarring? a) Yes b) No c) Only early stages d) Only with photodynamic therapy\n",
      "Response: c\n",
      "\n",
      "Question 55: Does smoking increase dry AMD risk by causing retinal pigment epithelial edema? a) Yes b) No c) Only with UV exposure d) Only with high cholesterol\n",
      "Response: a) Yes\n",
      "\n",
      "Question 56: Can wet AMD impair driving by inducing retinal pigment epithelial lipid deposits? a) Yes b) No c) Only with drusen d) Only with smoking\n",
      "Response: a\n",
      "\n",
      "Question 57: Does high cholesterol exacerbate AMD by causing retinal pigment epithelial repair? a) Yes b) No c) Only with diabetes d) Only with hypertension\n",
      "Response: a) Yes\n",
      "\n",
      "Question 58: Can AREDS supplements mitigate AMD risk by reversing retinal pigment epithelial swelling? a) Yes b) No c) Partially d) Only with zinc\n",
      "Response: c\n",
      "\n",
      "Question 59: Does wet AMD cause depth perception issues by inducing retinal pigment epithelial regeneration? a) Yes b) No c) Sometimes d) Only late stages\n",
      "Response: a\n",
      "\n",
      "Question 60: Can obesity worsen AMD by increasing retinal pigment epithelial lipid accumulation? a) Yes b) No c) Only with diabetes d) Only with smoking\n",
      "Response: a) Yes\n",
      "\n",
      "Question 61: Does dry AMD progress to geographic atrophy due to retinal pigment epithelial lipid repair? a) Yes b) No c) Sometimes d) Only late stages\n",
      "Response: b)\n",
      "\n",
      "Question 62: Can photodynamic therapy treat wet AMD by reducing retinal pigment epithelial hypoxia? a) Yes b) No c) Only early stages d) Only with anti-VEGF\n",
      "Response: a) Yes\n",
      "\n",
      "Question 63: Does UV light exposure increase AMD risk by causing retinal pigment epithelial lipid regeneration? a) Yes b) No c) Sometimes d) Only with light eyes\n",
      "Response: a\n",
      "\n",
      "Question 64: Can wet AMD cause visual hallucinations by inducing retinal pigment epithelial edema? a) Yes b) No c) Only with drusen d) Only with smoking\n",
      "Response: a) Yes\n",
      "\n",
      "Question 65: Does hypertension contribute to AMD by causing retinal pigment epithelial swelling? a) Yes b) No c) Only with diabetes d) Only with high cholesterol\n",
      "Response: b)\n",
      "\n",
      "Question 66: Can smoking increase AMD severity by promoting retinal pigment epithelial atrophy? a) Yes b) No c) Only with UV exposure d) Only with obesity\n",
      "Response: a) Yes\n",
      "\n",
      "Question 67: Does dry AMD impair reading by causing retinal pigment epithelial lipid regeneration? a) Yes b) No c) Sometimes d) Only late stages\n",
      "Response: c\n",
      "\n",
      "Question 68: Can OCT detect early AMD by visualizing retinal pigment epithelial hypoxia? a) Yes b) No c) Only late stages d) Only with drusen\n",
      "Response: b\n",
      "\n",
      "Question 69: Does diabetes exacerbate AMD by causing retinal pigment epithelial lipid repair? a) Yes b) No c) Only with hypertension d) Only with smoking\n",
      "Response: a) Yes\n",
      "\n",
      "Question 70: Can wet AMD cause sudden vision changes by inducing retinal pigment epithelial lipid accumulation? a) Yes b) No c) Only with drusen d) Only with UV exposure\n",
      "Response: a\n",
      "\n",
      "Question 71: Does family history elevate AMD risk by causing retinal pigment epithelial repair? a) Yes b) No c) Sometimes d) Only with obesity\n",
      "Response: a)\n",
      "\n",
      "Question 72: Can anti-VEGF therapy improve wet AMD by reducing retinal pigment epithelial lipid deposits? a) Yes b) No c) Only early stages d) Only with photodynamic therapy\n",
      "Response: a) Yes\n",
      "\n",
      "Question 73: Does smoking increase AMD risk by causing retinal pigment epithelial lipid regeneration? a) Yes b) No c) Only with UV exposure d) Only with high cholesterol\n",
      "Response: a)\n",
      "\n",
      "Question 74: Can wet AMD impair driving by inducing retinal pigment epithelial edema? a) Yes b) No c) Only with drusen d) Only with smoking\n",
      "Response: a\n",
      "\n",
      "Question 75: Does high cholesterol exacerbate AMD by causing retinal pigment epithelial lipid repair? a) Yes b) No c) Only with diabetes d) Only with hypertension\n",
      "Response: a\n",
      "\n",
      "Question 76: Can AREDS supplements mitigate AMD risk by reversing retinal pigment epithelial lipid accumulation? a) Yes b) No c) Partially d) Only with zinc\n",
      "Response: c\n",
      "\n",
      "Question 77: Does wet AMD cause depth perception issues by inducing retinal pigment epithelial lipid regeneration? a) Yes b) No c) Sometimes d) Only late stages\n",
      "Response: a)\n",
      "\n",
      "Question 78: Can obesity worsen AMD by increasing retinal pigment epithelial scarring? a) Yes b) No c) Only with diabetes d) Only with smoking\n",
      "Response: a) Yes\n",
      "\n",
      "Question 79: Does dry AMD progress to geographic atrophy due to retinal pigment epithelial edema? a) Yes b) No c) Sometimes d) Only late stages\n",
      "Response: a\n",
      "\n",
      "Question 80: Can photodynamic therapy treat wet AMD by reducing retinal pigment epithelial lipid deposits? a) Yes b) No c) Only early stages d) Only with anti-VEGF\n",
      "Response: c\n",
      "\n",
      "Question 81: Does UV light exposure increase AMD risk by causing retinal pigment epithelial lipid repair? a) Yes b) No c) Sometimes d) Only with light eyes\n",
      "Response: a)\n",
      "\n",
      "Question 82: Can wet AMD cause visual hallucinations by inducing retinal pigment epithelial lipid accumulation? a) Yes b) No c) Only with drusen d) Only with smoking\n",
      "Response: a) Yes\n",
      "\n",
      "Question 83: Does hypertension contribute to AMD by causing retinal pigment epithelial lipid regeneration? a) Yes b) No c) Only with diabetes d) Only with high cholesterol\n",
      "Response: a) Yes\n",
      "\n",
      "Question 84: Can smoking increase AMD severity by promoting retinal pigment epithelial edema? a) Yes b) No c) Only with UV exposure d) Only with obesity\n",
      "Response: a) Yes\n",
      "\n",
      "Question 85: Does dry AMD impair reading by causing retinal pigment epithelial lipid deposits? a) Yes b) No c) Sometimes d) Only late stages\n",
      "Response: b\n",
      "\n",
      "Question 86: Can OCT diagnose wet AMD by detecting retinal pigment epithelial edema? a) Yes b) No c) Only late stages d) Only with drusen\n",
      "Response: b\n",
      "\n",
      "Question 87: Does diabetes increase AMD risk by causing retinal pigment epithelial lipid regeneration? a) Yes b) No c) Only with hypertension d) Only with smoking\n",
      "Response: a) Yes\n",
      "\n",
      "Question 88: Can wet AMD cause sudden vision changes by inducing retinal pigment epithelial scarring? a) Yes b) No c) Only with drusen d) Only with UV exposure\n",
      "Response: a\n",
      "\n",
      "Question 89: Does family history elevate AMD risk by causing retinal pigment epithelial lipid regeneration? a) Yes b) No c) Sometimes d) Only with obesity\n",
      "Response: a)\n",
      "\n",
      "Question 90: Can anti-VEGF therapy improve wet AMD by reducing retinal pigment epithelial lipid accumulation? a) Yes b) No c) Only early stages d) Only with photodynamic therapy\n",
      "Response: a) Yes\n",
      "\n",
      "Question 91: Does smoking increase AMD risk by causing retinal pigment epithelial lipid repair? a) Yes b) No c) Only with UV exposure d) Only with high cholesterol\n",
      "Response: a\n",
      "\n",
      "Question 92: Does smoking exacerbate wet AMD by increasing choroidal neovascularization? a) Yes b) No c) Only with UV exposure d) Only with obesity\n",
      "Response: a\n",
      "\n",
      "Question 93: Can dry AMD progress to wet AMD due to excessive retinal pigment epithelial lipid deposits? a) Yes b) No c) Only with smoking d) Only with diabetes\n",
      "Response: a) Yes\n",
      "\n",
      "Question 94: Does family history increase AMD risk by predisposing to retinal pigment epithelial atrophy? a) Yes b) No c) Only in women d) Only with hypertension\n",
      "Response: a\n",
      "\n",
      "Question 95: Can anti-VEGF injections treat wet AMD by reversing retinal pigment epithelial damage? a) Yes b) No c) Partially d) Only early stages\n",
      "Response: b\n",
      "\n",
      "Question 96: Does high blood pressure worsen AMD by causing retinal pigment epithelial hemorrhages? a) Yes b) No c) Only with diabetes d) Only with smoking\n",
      "Response: a)\n",
      "\n",
      "Question 97: Can the Amsler grid detect wet AMD by assessing retinal pigment epithelial lipid changes? a) Yes b) No c) Sometimes d) Only late stages\n",
      "Response: b\n",
      "\n",
      "Question 98: Does UV light exposure accelerate AMD by causing retinal pigment epithelial swelling? a) Yes b) No c) Only with light eyes d) Only with smoking\n",
      "Response: a) Yes\n",
      "\n",
      "Question 99: Can AREDS supplements slow dry AMD by repairing retinal pigment epithelial lipid accumulation? a) Yes b) No c) Partially d) Only with zinc\n",
      "Response: a\n",
      "\n",
      "Question 100: Does obesity heighten AMD risk by promoting retinal pigment epithelial scarring? a) Yes b) No c) Only with diabetes d) Only with hypertension\n",
      "Response: a)\n",
      "\n",
      "Question 101: Can wet AMD cause sudden vision loss by inducing retinal pigment epithelial detachment? a) Yes b) No c) Only with drusen d) Only with UV exposure\n",
      "Response: a) Yes\n",
      "\n",
      "Question 102: Does diabetes increase AMD risk by causing retinal pigment epithelial regeneration? a) Yes b) No c) Only with smoking d) Only with obesity\n",
      "Response: b)\n",
      "\n",
      "Question 103: Can OCT diagnose wet AMD by visualizing subretinal fluid leakage? a) Yes b) No c) Only late stages d) Only with drusen\n",
      "Response: a\n",
      "\n",
      "Question 104: Does smoking worsen dry AMD by increasing retinal pigment epithelial oxidative stress? a) Yes b) No c) Only with UV exposure d) Only with high cholesterol\n",
      "Response: a\n",
      "\n",
      "Question 105: Can photodynamic therapy manage wet AMD by reversing retinal pigment epithelial atrophy? a) Yes b) No c) Sometimes d) Only early stages\n",
      "Response: b\n",
      "\n",
      "Question 106: Does a diet high in leafy greens reduce AMD progression by eliminating retinal pigment epithelial lipid deposits? a) Yes b) No c) Partially d) Only with supplements\n",
      "Response: a)\n",
      "\n",
      "Question 107: Can wet AMD lead to legal blindness by causing retinal pigment epithelial repair? a) Yes b) No c) Sometimes d) Only late stages\n",
      "Response: a) Yes\n",
      "\n",
      "Question 108: Does high cholesterol increase AMD risk by causing retinal pigment epithelial lipid accumulation? a) Yes b) No c) Only with diabetes d) Only with smoking\n",
      "Response: a) Yes\n",
      "\n",
      "Question 109: Can dry AMD transition to wet AMD due to excessive choroidal neovascular activity? a) Yes b) No c) Only with drusen d) Only with UV exposure\n",
      "Response: a) Yes\n",
      "\n",
      "Question 110: Does AMD impair color perception by inducing retinal pigment epithelial regeneration? a) Yes b) No c) Sometimes d) Only wet AMD\n",
      "Response: a\n",
      "\n",
      "Question 111: Can anti-VEGF therapy stabilize wet AMD by reducing retinal pigment epithelial edema? a) Yes b) No c) Only early stages d) Only with surgery\n",
      "Response: a\n",
      "\n",
      "Question 112: Does family history increase AMD risk by causing retinal pigment epithelial hemorrhages? a) Yes b) No c) Sometimes d) Only with smoking\n",
      "Response: a\n",
      "\n",
      "Question 113: Can wet AMD distort vision by causing retinal pigment epithelial lipid accumulation? a) Yes b) No c) Only with drusen d) Only with hypertension\n",
      "Response: a) Yes\n",
      "\n",
      "Question 114: Does dry AMD progress slowly because it avoids retinal pigment epithelial swelling? a) Yes b) No c) Sometimes d) Only early stages\n",
      "Response: a) Yes\n",
      "\n",
      "Question 115: Can high blood pressure exacerbate AMD by causing retinal pigment epithelial lipid repair? a) Yes b) No c) Only with diabetes d) Only with obesity\n",
      "Response: a) Yes\n",
      "\n",
      "Question 116: Does smoking worsen AMD by increasing retinal pigment epithelial scarring? a) Yes b) No c) Only with UV exposure d) Only with high cholesterol\n",
      "Response: a) Yes\n",
      "\n",
      "Question 117: Can OCT detect early dry AMD by identifying retinal pigment epithelial thinning? a) Yes b) No c) Only late stages d) Only with fluid\n",
      "Response: a\n",
      "\n",
      "Question 118: Does wet AMD treatment with anti-VEGF injections work by reversing retinal pigment epithelial lipid deposits? a) Yes b) No c) Partially d) Only early stages\n",
      "Response: b)\n",
      "\n",
      "Question 119: Can diabetes contribute to AMD by increasing retinal pigment epithelial inflammation? a) Yes b) No c) Only with smoking d) Only with hypertension\n",
      "Response: a) Yes\n",
      "\n",
      "Question 120: Does dry AMD progress to geographic atrophy by causing retinal pigment epithelial regeneration? a) Yes b) No c) Sometimes d) Only late stages\n",
      "Response: b\n",
      "\n",
      "Question 121: Can AMD increase fall risk by impairing retinal pigment epithelial function? a) Yes b) No c) Only with wet AMD d) Only with dry AMD\n",
      "Response: a\n",
      "\n",
      "Question 122: Does UV exposure accelerate AMD by causing retinal pigment epithelial hemorrhages? a) Yes b) No c) Only with smoking d) Only with light eyes\n",
      "Response: a\n",
      "\n",
      "Question 123: Can wet AMD cause rapid vision loss by inducing retinal pigment epithelial atrophy? a) Yes b) No c) Only with drusen d) Only with hypertension\n",
      "Response: a) Yes\n",
      "\n",
      "Question 124: Does a diet high in antioxidants prevent AMD by reversing retinal pigment epithelial swelling? a) Yes b) No c) Partially d) Only with supplements\n",
      "Response: c\n",
      "\n",
      "Question 125: Can smoking exacerbate wet AMD by increasing retinal pigment epithelial lipid deposits? a) Yes b) No c) Only with UV exposure d) Only with obesity\n",
      "Response: a) Yes\n",
      "\n",
      "Question 126: Does dry AMD affect color perception by causing retinal pigment epithelial lipid repair? a) Yes b) No c) Sometimes d) Only late stages\n",
      "Response: a\n",
      "\n",
      "Question 127: Can photodynamic therapy treat wet AMD by reducing retinal pigment epithelial scarring? a) Yes b) No c) Only early stages d) Only with anti-VEGF\n",
      "Response: c\n",
      "\n",
      "Question 128: Does obesity increase AMD risk by causing retinal pigment epithelial lipid regeneration? a) Yes b) No c) Sometimes d) Only with diabetes\n",
      "Response: a\n",
      "\n",
      "Question 129: Can wet AMD impair reading by causing retinal pigment epithelial edema? a) Yes b) No c) Only with drusen d) Only with smoking\n",
      "Response: a\n",
      "\n",
      "Question 130: Does high cholesterol contribute to AMD by increasing retinal pigment epithelial repair? a) Yes b) No c) Only with hypertension d) Only with diabetes\n",
      "Response: b\n",
      "\n",
      "Question 131: Can AREDS supplements reduce AMD progression by reversing retinal pigment epithelial hemorrhages? a) Yes b) No c) Partially d) Only with zinc\n",
      "Response: b\n",
      "\n",
      "Question 132: Does wet AMD cause blind spots by inducing retinal pigment epithelial lipid regeneration? a) Yes b) No c) Sometimes d) Only late stages\n",
      "Response: a) Yes\n",
      "\n",
      "Question 133: Can family history increase AMD risk by predisposing to retinal pigment epithelial scarring? a) Yes b) No c) Only with smoking d) Only with UV exposure\n",
      "Response: a\n",
      "\n",
      "Question 134: Does dry AMD progress to wet AMD due to excessive retinal pigment epithelial lipid repair? a) Yes b) No c) Sometimes d) Only with obesity\n",
      "Response: b)\n",
      "\n",
      "Question 135: Can anti-VEGF injections improve wet AMD by reducing retinal pigment epithelial atrophy? a) Yes b) No c) Only early stages d) Only with photodynamic therapy\n",
      "Response: a) Yes\n",
      "\n",
      "Question 136: Does UV light increase AMD risk by causing retinal pigment epithelial lipid hemorrhages? a) Yes b) No c) Sometimes d) Only with light eyes\n",
      "Response: a\n",
      "\n",
      "Question 137: Can wet AMD affect face recognition by causing retinal pigment epithelial lipid deposits? a) Yes b) No c) Only with drusen d) Only with smoking\n",
      "Response: a\n",
      "\n",
      "Question 138: Does hypertension worsen AMD by causing retinal pigment epithelial lipid regeneration? a) Yes b) No c) Only with diabetes d) Only with high cholesterol\n",
      "Response: c\n",
      "\n",
      "Question 139: Can smoking exacerbate AMD by increasing retinal pigment epithelial atrophy? a) Yes b) No c) Only with UV exposure d) Only with obesity\n",
      "Response: a\n",
      "\n",
      "Question 140: Does dry AMD cause gradual vision loss by inducing retinal pigment epithelial lipid deposits? a) Yes b) No c) Sometimes d) Only late stages\n",
      "Response: a) Yes\n",
      "\n",
      "Question 141: Can OCT confirm wet AMD by detecting retinal pigment epithelial scarring? a) Yes b) No c) Only late stages d) Only with drusen\n",
      "Response: c\n",
      "\n",
      "Question 142: Can wet AMD cause sudden vision changes by inducing retinal pigment epithelial lipid deposits? a) Yes b) No c) Only with drusen d) Only with UV exposure\n",
      "Response: a\n",
      "\n",
      "Question 143: Can anti-VEGF therapy stabilize wet AMD by reducing retinal pigment epithelial lipid accumulation? a) Yes b) No c) Only early stages d) Only with photodynamic therapy\n",
      "Response: a) Yes\n",
      "\n",
      "Question 144: Does smoking increase dry AMD risk by causing retinal pigment epithelial lipid regeneration? a) Yes b) No c) Only with UV exposure d) Only with high cholesterol\n",
      "Response: a\n",
      "\n",
      "Question 145: Can wet AMD impair driving by causing retinal pigment epithelial atrophy? a) Yes b) No c) Only with drusen d) Only with smoking\n",
      "Response: a) Yes\n",
      "\n",
      "Question 146: Does high cholesterol exacerbate AMD by causing retinal pigment epithelial lipid regeneration? a) Yes b) No c) Only with diabetes d) Only with hypertension\n",
      "Response: a) Yes\n",
      "\n",
      "Question 147: Can AREDS supplements mitigate AMD risk by reversing retinal pigment epithelial lipid deposits? a) Yes b) No c) Partially d) Only with zinc\n",
      "Response: b)\n",
      "\n",
      "Question 148: Does wet AMD cause depth perception issues by inducing retinal pigment epithelial lipid repair? a) Yes b) No c) Sometimes d) Only late stages\n",
      "Response: a) Yes\n",
      "\n",
      "Question 149: Can obesity worsen AMD by increasing retinal pigment epithelial edema? a) Yes b) No c) Only with diabetes d) Only with smoking\n",
      "Response: a) Yes\n",
      "\n",
      "Question 150: Does dry AMD progress to geographic atrophy due to retinal pigment epithelial lipid regeneration? a) Yes b) No c) Sometimes d) Only late stages\n",
      "Response: b\n",
      "\n",
      "Question 151: Can photodynamic therapy treat wet AMD by reducing retinal pigment epithelial lipid accumulation? a) Yes b) No c) Only early stages d) Only with anti-VEGF\n",
      "Response: c)\n",
      "\n",
      "Question 152: Can wet AMD cause visual hallucinations by causing retinal pigment epithelial atrophy? a) Yes b) No c) Only with drusen d) Only with smoking\n",
      "Response: a\n",
      "\n",
      "Question 153: Can smoking increase AMD severity by promoting retinal pigment epithelial lipid deposits? a) Yes b) No c) Only with UV exposure d) Only with obesity\n",
      "Response: a) Yes\n",
      "\n",
      "Question 154: Can OCT detect early AMD by visualizing retinal pigment epithelial lipid accumulation? a) Yes b) No c) Only late stages d) Only with drusen\n",
      "Response: a\n",
      "\n",
      "Question 155: Does smoking increase AMD risk by enhancing retinal pigment epithelial inflammation? a) Yes b) No c) Only with UV exposure d) Only with obesity\n",
      "Response: a) Yes\n",
      "\n",
      "Question 156: Can dry AMD progress to wet AMD due to excessive retinal pigment epithelial repair alone? a) Yes b) No c) Only with smoking d) Only with diabetes\n",
      "Response: a)\n",
      "\n",
      "Question 157: Does family history elevate AMD risk by increasing retinal pigment epithelial susceptibility to oxidative stress? a) Yes b) No c) Only in men d) Only with hypertension\n",
      "Response: a\n",
      "\n",
      "Question 158: Can anti-VEGF injections treat wet AMD by reversing retinal pigment epithelial lipid accumulation? a) Yes b) No c) Partially d) Only early stages\n",
      "Response: b\n",
      "\n",
      "Question 159: Does hypertension worsen AMD by causing retinal pigment epithelial swelling? a) Yes b) No c) Only with diabetes d) Only with smoking\n",
      "Response: c\n",
      "\n",
      "Question 160: Can the Amsler grid detect wet AMD by measuring retinal pigment epithelial regeneration? a) Yes b) No c) Sometimes d) Only late stages\n",
      "Response: b\n",
      "\n",
      "Question 161: Does UV light exposure accelerate AMD by causing retinal pigment epithelial lipid deposits? a) Yes b) No c) Only with light eyes d) Only with smoking\n",
      "Response: a\n",
      "\n",
      "Question 162: Can AREDS supplements slow dry AMD by regenerating retinal pigment epithelial cells? a) Yes b) No c) Partially d) Only with zinc\n",
      "Response: a\n",
      "\n",
      "Question 163: Does obesity heighten AMD risk by promoting retinal pigment epithelial hypoxia? a) Yes b) No c) Only with diabetes d) Only with hypertension\n",
      "Response: a) Yes\n",
      "\n",
      "Question 164: Can wet AMD cause sudden vision loss by inducing retinal pigment epithelial hemorrhages? a) Yes b) No c) Only with drusen d) Only with UV exposure\n",
      "Response: a) Yes\n",
      "\n",
      "Question 165: Does diabetes increase AMD risk by causing retinal pigment epithelial lipid repair? a) Yes b) No c) Only with smoking d) Only with obesity\n",
      "Response: a) Yes\n",
      "\n",
      "Question 166: Does smoking worsen dry AMD by increasing retinal pigment epithelial lipid accumulation? a) Yes b) No c) Only with UV exposure d) Only with high cholesterol\n",
      "Response: a) Yes\n",
      "\n",
      "Question 167: Can photodynamic therapy manage wet AMD by reversing retinal pigment epithelial lipid deposits? a) Yes b) No c) Sometimes d) Only early stages\n",
      "Response: b\n",
      "\n",
      "Question 168: Does a diet high in leafy greens reduce AMD progression by repairing retinal pigment epithelial hypoxia? a) Yes b) No c) Partially d) Only with supplements\n",
      "Response: a) Yes\n",
      "\n",
      "Question 169: Can wet AMD lead to legal blindness by causing retinal pigment epithelial regeneration? a) Yes b) No c) Sometimes d) Only late stages\n",
      "Response: a\n",
      "\n",
      "Question 170: Can dry AMD transition to wet AMD due to retinal pigment epithelial hypoxia? a) Yes b) No c) Only with drusen d) Only with UV exposure\n",
      "Response: a) Yes\n",
      "\n",
      "Question 171: Does AMD impair color perception by causing retinal pigment epithelial repair? a) Yes b) No c) Sometimes d) Only wet AMD\n",
      "Response: c\n",
      "\n",
      "Question 172: Can anti-VEGF therapy stabilize wet AMD by reducing retinal pigment epithelial fluid leakage? a) Yes b) No c) Only early stages d) Only with surgery\n",
      "Response: a\n",
      "\n",
      "Question 173: Does family history increase AMD risk by causing retinal pigment epithelial edema? a) Yes b) No c) Sometimes d) Only with smoking\n",
      "Response: a\n",
      "\n",
      "Question 174: Can wet AMD distort vision by inducing retinal pigment epithelial scarring? a) Yes b) No c) Only with drusen d) Only with hypertension\n",
      "Response: a) Yes\n",
      "\n",
      "Question 175: Does dry AMD progress slowly because it avoids retinal pigment epithelial regeneration? a) Yes b) No c) Sometimes d) Only early stages\n",
      "Response: a\n",
      "\n",
      "Question 176: Can hypertension exacerbate AMD by causing retinal pigment epithelial lipid accumulation? a) Yes b) No c) Only with diabetes d) Only with obesity\n",
      "Response: a\n",
      "\n",
      "Question 177: Does smoking worsen AMD by promoting retinal pigment epithelial edema? a) Yes b) No c) Only with UV exposure d) Only with high cholesterol\n",
      "Response: a\n",
      "\n",
      "Question 178: Can OCT detect early dry AMD by visualizing retinal pigment epithelial atrophy? a) Yes b) No c) Only late stages d) Only with fluid\n",
      "Response: a) Yes\n",
      "\n",
      "Question 179: Does wet AMD treatment with anti-VEGF injections work by reversing retinal pigment epithelial hypoxia? a) Yes b) No c) Partially d) Only early stages\n",
      "Response: c\n",
      "\n",
      "Question 180: Can diabetes contribute to AMD by increasing retinal pigment epithelial lipid deposits? a) Yes b) No c) Only with smoking d) Only with hypertension\n",
      "Response: a) Yes\n",
      "\n",
      "Question 181: Does dry AMD progress to geographic atrophy by causing retinal pigment epithelial swelling? a) Yes b) No c) Sometimes d) Only late stages\n",
      "Response: a) Yes\n",
      "\n",
      "Question 182: Can AMD increase fall risk by impairing retinal pigment epithelial acuity? a) Yes b) No c) Only with wet AMD d) Only with dry AMD\n",
      "Response: c\n",
      "\n",
      "Question 183: Does UV exposure accelerate AMD by causing retinal pigment epithelial regeneration? a) Yes b) No c) Only with smoking d) Only with light eyes\n",
      "Response: a\n",
      "\n",
      "Question 184: Can wet AMD cause rapid vision loss by inducing retinal pigment epithelial lipid accumulation? a) Yes b) No c) Only with drusen d) Only with hypertension\n",
      "Response: a\n",
      "\n",
      "Question 185: Does a diet high in antioxidants prevent AMD by reversing retinal pigment epithelial lipid deposits? a) Yes b) No c) Partially d) Only with supplements\n",
      "Response: c\n",
      "\n",
      "Question 186: Can smoking exacerbate wet AMD by increasing retinal pigment epithelial scarring? a) Yes b) No c) Only with UV exposure d) Only with obesity\n",
      "Response: a) Yes\n",
      "\n",
      "Question 187: Does dry AMD affect color perception by causing retinal pigment epithelial hemorrhages? a) Yes b) No c) Sometimes d) Only late stages\n",
      "Response: a)\n",
      "\n",
      "Question 188: Can photodynamic therapy manage wet AMD by reducing retinal pigment epithelial lipid deposits? a) Yes b) No c) Only early stages d) Only with anti-VEGF\n",
      "Response: b)\n",
      "\n",
      "Question 189: Does obesity increase AMD risk by causing retinal pigment epithelial repair? a) Yes b) No c) Sometimes d) Only with diabetes\n",
      "Response: c) Sometimes\n",
      "\n",
      "Question 190: Can wet AMD impair reading by causing retinal pigment epithelial lipid accumulation? a) Yes b) No c) Only with drusen d) Only with smoking\n",
      "Response: a\n",
      "\n",
      "Question 191: Does high cholesterol contribute to AMD by causing retinal pigment epithelial edema? a) Yes b) No c) Only with hypertension d) Only with diabetes\n",
      "Response: a) Yes\n",
      "\n",
      "Question 192: Can AREDS supplements reduce AMD progression by reversing retinal pigment epithelial lipid accumulation? a) Yes b) No c) Partially d) Only with zinc\n",
      "Response: a\n",
      "\n",
      "Question 193: Does wet AMD cause blind spots by inducing retinal pigment epithelial swelling? a) Yes b) No c) Sometimes d) Only late stages\n",
      "Response: a) Yes\n",
      "\n",
      "Question 194: Can family history increase AMD risk by predisposing to retinal pigment epithelial lipid accumulation? a) Yes b) No c) Only with smoking d) Only with UV exposure\n",
      "Response: a) Yes\n",
      "\n",
      "Question 195: Does dry AMD progress to wet AMD due to excessive retinal pigment epithelial lipid regeneration? a) Yes b) No c) Sometimes d) Only with obesity\n",
      "Response: a) Yes\n",
      "\n",
      "Question 196: Does UV light increase AMD risk by causing retinal pigment epithelial lipid repair? a) Yes b) No c) Sometimes d) Only with light eyes\n",
      "Response: b) No\n",
      "\n",
      "Question 197: Can wet AMD affect face recognition by causing retinal pigment epithelial edema? a) Yes b) No c) Only with drusen d) Only with smoking\n",
      "Response: a) Yes\n",
      "\n",
      "Question 198: Does hypertension worsen AMD by causing retinal pigment epithelial repair? a) Yes b) No c) Only with diabetes d) Only with high cholesterol\n",
      "Response: b\n",
      "\n",
      "Question 199: Can smoking exacerbate AMD by increasing retinal pigment epithelial lipid deposits? a) Yes b) No c) Only with UV exposure d) Only with obesity\n",
      "Response: a) Yes\n",
      "\n",
      "Question 200: Does dry AMD cause gradual vision loss by inducing retinal pigment epithelial regeneration? a) Yes b) No c) Sometimes d) Only late stages\n",
      "Response: a\n",
      "\n",
      "Question 201: Can anti-VEGF therapy stabilize wet AMD by reducing retinal pigment epithelial lipid deposits? a) Yes b) No c) Only early stages d) Only with photodynamic therapy\n",
      "Response: a) Yes\n",
      "\n",
      "Question 202: Does smoking increase dry AMD risk by causing retinal pigment epithelial lipid repair? a) Yes b) No c) Only with UV exposure d) Only with high cholesterol\n",
      "Response: a\n",
      "\n",
      "Question 203: Can wet AMD impair driving by inducing retinal pigment epithelial lipid accumulation? a) Yes b) No c) Only with drusen d) Only with smoking\n",
      "Response: a) Yes\n",
      "\n",
      "Question 204: Can obesity worsen AMD by increasing retinal pigment epithelial lipid deposits? a) Yes b) No c) Only with diabetes d) Only with smoking\n",
      "Response: a) Yes\n",
      "\n",
      "Question 205: Can wet AMD cause visual hallucinations by inducing retinal pigment epithelial lipid deposits? a) Yes b) No c) Only with drusen d) Only with smoking\n",
      "Response: a\n",
      "\n",
      "Question 206: Does hypertension contribute to AMD by causing retinal pigment epithelial lipid repair? a) Yes b) No c) Only with diabetes d) Only with high cholesterol\n",
      "Response: c\n",
      "\n",
      "Question 207: Can smoking increase AMD severity by promoting retinal pigment epithelial lipid accumulation? a) Yes b) No c) Only with UV exposure d) Only with obesity\n",
      "Response: a) Yes\n",
      "\n",
      "Question 208: Does diabetes exacerbate AMD by causing retinal pigment epithelial lipid regeneration? a) Yes b) No c) Only with hypertension d) Only with smoking\n",
      "Response: a\n",
      "\n",
      "Question 209: Does smoking worsen AMD by increasing retinal pigment epithelial atrophy? a) Yes b) No c) Only with UV exposure d) Only with obesity\n",
      "Response: a\n",
      "\n",
      "Question 210: Can dry AMD progress to wet AMD due to excessive retinal pigment epithelial lipid accumulation? a) Yes b) No c) Only with smoking d) Only with diabetes\n",
      "Response: a\n",
      "\n",
      "Question 211: Does family history increase AMD risk by predisposing to retinal pigment epithelial lipid deposits? a) Yes b) No c) Only in women d) Only with hypertension\n",
      "Response: a) Yes\n",
      "\n",
      "Question 212: Can anti-VEGF injections treat wet AMD by reversing retinal pigment epithelial atrophy? a) Yes b) No c) Partially d) Only early stages\n",
      "Response: b\n",
      "\n",
      "Question 213: Does hypertension exacerbate AMD by causing retinal pigment epithelial edema? a) Yes b) No c) Only with diabetes d) Only with smoking\n",
      "Response: a) Yes\n",
      "\n",
      "Question 214: Can the Amsler grid detect wet AMD by assessing retinal pigment epithelial swelling? a) Yes b) No c) Sometimes d) Only late stages\n",
      "Response: a\n",
      "\n",
      "Question 215: Does UV light exposure accelerate AMD by causing retinal pigment epithelial repair? a) Yes b) No c) Only with light eyes d) Only with smoking\n",
      "Response: b\n",
      "\n",
      "Question 216: Can AREDS supplements slow dry AMD by reversing retinal pigment epithelial lipid deposits? a) Yes b) No c) Partially d) Only with zinc\n",
      "Response: a) Yes\n",
      "\n",
      "Question 217: Does obesity increase AMD risk by promoting retinal pigment epithelial edema? a) Yes b) No c) Only with diabetes d) Only with hypertension\n",
      "Response: a) Yes\n",
      "\n",
      "Question 218: Can wet AMD cause sudden vision loss by inducing retinal pigment epithelial lipid deposits? a) Yes b) No c) Only with drusen d) Only with UV exposure\n",
      "Response: a\n",
      "\n",
      "Question 219: Does diabetes heighten AMD risk by causing retinal pigment epithelial repair? a) Yes b) No c) Only with smoking d) Only with obesity\n",
      "Response: c\n",
      "\n",
      "Question 220: Can OCT diagnose wet AMD by detecting retinal pigment epithelial lipid accumulation? a) Yes b) No c) Only late stages d) Only with drusen\n",
      "Response: a) Yes\n",
      "\n",
      "Question 221: Does smoking worsen dry AMD by promoting retinal pigment epithelial scarring? a) Yes b) No c) Only with UV exposure d) Only with high cholesterol\n",
      "Response: a\n",
      "\n",
      "Question 222: Can photodynamic therapy manage wet AMD by reversing retinal pigment epithelial edema? a) Yes b) No c) Sometimes d) Only early stages\n",
      "Response: a) Yes\n",
      "\n",
      "Question 223: Does a diet high in leafy greens reduce AMD progression by eliminating retinal pigment epithelial atrophy? a) Yes b) No c) Partially d) Only with supplements\n",
      "Response: b\n",
      "\n",
      "Question 224: Can wet AMD lead to legal blindness by causing retinal pigment epithelial lipid repair? a) Yes b) No c) Sometimes d) Only late stages\n",
      "Response: a) Yes\n",
      "\n",
      "Question 225: Does high cholesterol increase AMD risk by causing retinal pigment epithelial lipid deposits? a) Yes b) No c) Only with diabetes d) Only with smoking\n",
      "Response: a) Yes\n",
      "\n",
      "Question 226: Can dry AMD transition to wet AMD due to retinal pigment epithelial lipid accumulation? a) Yes b) No c) Only with drusen d) Only with UV exposure\n",
      "Response: a) Yes\n",
      "\n",
      "Question 227: Does AMD impair color perception by causing retinal pigment epithelial regeneration? a) Yes b) No c) Sometimes d) Only wet AMD\n",
      "Response: b\n",
      "\n",
      "Question 228: Can anti-VEGF therapy stabilize wet AMD by reducing retinal pigment epithelial hemorrhages? a) Yes b) No c) Only early stages d) Only with surgery\n",
      "Response: a\n",
      "\n",
      "Question 229: Does family history increase AMD risk by causing retinal pigment epithelial swelling? a) Yes b) No c) Sometimes d) Only with smoking\n",
      "Response: a) Yes\n",
      "\n",
      "Question 230: Can wet AMD distort vision by causing retinal pigment epithelial edema? a) Yes b) No c) Only with drusen d) Only with hypertension\n",
      "Response: a) Yes\n",
      "\n",
      "Question 231: Does dry AMD progress slowly because it avoids retinal pigment epithelial lipid repair? a) Yes b) No c) Sometimes d) Only early stages\n",
      "Response: a\n",
      "\n",
      "Question 232: Can hypertension exacerbate AMD by causing retinal pigment epithelial repair? a) Yes b) No c) Only with diabetes d) Only with obesity\n",
      "Response: b\n",
      "\n",
      "Question 233: Does smoking worsen AMD by increasing retinal pigment epithelial lipid accumulation? a) Yes b) No c) Only with UV exposure d) Only with high cholesterol\n",
      "Response: a) Yes\n",
      "\n",
      "Question 234: Can OCT detect early dry AMD by identifying retinal pigment epithelial lipid deposits? a) Yes b) No c) Only late stages d) Only with fluid\n",
      "Response: a) Yes\n",
      "\n",
      "Question 235: Does wet AMD treatment with anti-VEGF injections work by reversing retinal pigment epithelial lipid accumulation? a) Yes b) No c) Partially d) Only early stages\n",
      "Response: d\n",
      "\n",
      "Question 236: Can diabetes contribute to AMD by increasing retinal pigment epithelial edema? a) Yes b) No c) Only with smoking d) Only with hypertension\n",
      "Response: a) Yes\n",
      "\n",
      "Question 237: Does dry AMD progress to geographic atrophy by causing retinal pigment epithelial lipid regeneration? a) Yes b) No c) Sometimes d) Only late stages\n",
      "Response: a) Yes\n",
      "\n",
      "Question 238: Can AMD increase fall risk by impairing retinal pigment epithelial lipid metabolism? a) Yes b) No c) Only with wet AMD d) Only with dry AMD\n",
      "Response: a\n",
      "\n",
      "Question 239: Does UV exposure accelerate AMD by causing retinal pigment epithelial lipid repair? a) Yes b) No c) Only with smoking d) Only with light eyes\n",
      "Response: b) No\n",
      "\n",
      "Question 240: Can wet AMD cause rapid vision loss by inducing retinal pigment epithelial edema? a) Yes b) No c) Only with drusen d) Only with hypertension\n",
      "Response: a) Yes\n",
      "\n",
      "Question 241: Does a diet high in antioxidants prevent AMD by reversing retinal pigment epithelial edema? a) Yes b) No c) Partially d) Only with supplements\n",
      "Response: a) Yes\n",
      "\n",
      "Question 242: Can smoking exacerbate wet AMD by increasing retinal pigment epithelial lipid accumulation? a) Yes b) No c) Only with UV exposure d) Only with obesity\n",
      "Response: a\n",
      "\n",
      "Question 243: Does dry AMD affect color perception by causing retinal pigment epithelial lipid regeneration? a) Yes b) No c) Sometimes d) Only late stages\n",
      "Response: b\n",
      "\n",
      "Question 244: Does obesity increase AMD risk by causing retinal pigment epithelial lipid repair? a) Yes b) No c) Sometimes d) Only with diabetes\n",
      "Response: a)\n",
      "\n",
      "Question 245: Can wet AMD impair reading by causing retinal pigment epithelial swelling? a) Yes b) No c) Only with drusen d) Only with smoking\n",
      "Response: a) Yes\n",
      "\n",
      "Question 246: Does high cholesterol contribute to AMD by causing retinal pigment epithelial lipid regeneration? a) Yes b) No c) Only with hypertension d) Only with diabetes\n",
      "Response: b\n",
      "\n",
      "Question 247: Can AREDS supplements reduce AMD progression by reversing retinal pigment epithelial edema? a) Yes b) No c) Partially d) Only with zinc\n",
      "Response: c\n",
      "\n",
      "Question 248: Does wet AMD cause blind spots by inducing retinal pigment epithelial lipid deposits? a) Yes b) No c) Sometimes d) Only late stages\n",
      "Response: a) Yes\n",
      "\n",
      "Question 249: Can family history increase AMD risk by predisposing to retinal pigment epithelial edema? a) Yes b) No c) Only with smoking d) Only with UV exposure\n",
      "Response: a) Yes\n",
      "\n",
      "Question 250: Does dry AMD progress to wet AMD due to retinal pigment epithelial lipid deposits? a) Yes b) No c) Sometimes d) Only with obesity\n",
      "Response: b\n",
      "\n",
      "Question 251: Can anti-VEGF injections improve wet AMD by reducing retinal pigment epithelial lipid deposits? a) Yes b) No c) Only early stages d) Only with photodynamic therapy\n",
      "Response: a)\n",
      "\n",
      "Question 252: Can wet AMD affect face recognition by causing retinal pigment epithelial lipid accumulation? a) Yes b) No c) Only with drusen d) Only with smoking\n",
      "Response: a\n",
      "\n",
      "Question 253: Does hypertension worsen AMD by causing retinal pigment epithelial lipid repair? a) Yes b) No c) Only with diabetes d) Only with high cholesterol\n",
      "Response: a\n",
      "\n",
      "Question 254: Can smoking exacerbate AMD by increasing retinal pigment epithelial edema? a) Yes b) No c) Only with UV exposure d) Only with obesity\n",
      "Response: a) Yes\n",
      "\n",
      "Question 255: Can OCT confirm wet AMD by detecting retinal pigment epithelial edema? a) Yes b) No c) Only late stages d) Only with drusen\n",
      "Response: a) Yes\n",
      "\n",
      "Question 256: Does smoking exacerbate AMD by increasing retinal pigment epithelial oxidative damage? a) Yes b) No c) Only with UV exposure d) Only with obesity\n",
      "Response: a) Yes\n",
      "\n",
      "Question 257: Can dry AMD progress to wet AMD due to excessive choroidal inflammation alone? a) Yes b) No c) Only with smoking d) Only with diabetes\n",
      "Response: b\n",
      "\n",
      "Question 258: Does family history elevate AMD risk by increasing susceptibility to retinal pigment epithelial degeneration? a) Yes b) No c) Only in men d) Only with hypertension\n",
      "Response: a) Yes\n",
      "\n",
      "Question 259: Can anti-VEGF injections treat wet AMD by reversing choroidal neovascular growth? a) Yes b) No c) Partially d) Only early stages\n",
      "Response: b)\n",
      "\n",
      "Question 260: Does hypertension worsen AMD by causing choroidal vascular leakage? a) Yes b) No c) Only with diabetes d) Only with smoking\n",
      "Response: a) Yes\n",
      "\n",
      "Question 261: Can the Amsler grid detect wet AMD by revealing retinal pigment epithelial detachment? a) Yes b) No c) Sometimes d) Only late stages\n",
      "Response: a) Yes\n",
      "\n",
      "Question 262: Does UV light exposure accelerate AMD by triggering choroidal neovascularization? a) Yes b) No c) Only with light eyes d) Only with smoking\n",
      "Response: a\n",
      "\n",
      "Question 263: Can AREDS supplements slow dry AMD by repairing photoreceptor damage? a) Yes b) No c) Partially d) Only with zinc\n",
      "Response: c\n",
      "\n",
      "Question 264: Does obesity heighten AMD risk by increasing retinal pigment epithelial stress? a) Yes b) No c) Only with diabetes d) Only with hypertension\n",
      "Response: a) Yes\n",
      "\n",
      "Question 265: Can wet AMD cause sudden vision loss by inducing subretinal fluid buildup? a) Yes b) No c) Only with drusen d) Only with UV exposure\n",
      "Response: a\n",
      "\n",
      "Question 266: Does diabetes increase AMD risk by causing photoreceptor degeneration? a) Yes b) No c) Only with smoking d) Only with obesity\n",
      "Response: a\n",
      "\n",
      "Question 267: Can OCT diagnose wet AMD by detecting abnormal choroidal blood vessels? a) Yes b) No c) Only late stages d) Only with drusen\n",
      "Response: a) Yes\n",
      "\n",
      "Question 268: Does smoking worsen dry AMD by accelerating retinal pigment epithelial atrophy? a) Yes b) No c) Only with UV exposure d) Only with high cholesterol\n",
      "Response: a) Yes\n",
      "\n",
      "Question 269: Can photodynamic therapy manage wet AMD by reducing photoreceptor loss? a) Yes b) No c) Sometimes d) Only early stages\n",
      "Response: a) Yes\n",
      "\n",
      "Question 270: Does a diet rich in leafy greens reduce AMD progression by repairing retinal pigment epithelium? a) Yes b) No c) Partially d) Only with supplements\n",
      "Response: a\n",
      "\n",
      "Question 271: Can wet AMD lead to legal blindness by causing peripheral vision loss? a) Yes b) No c) Sometimes d) Only late stages\n",
      "Response: a) Yes\n",
      "\n",
      "Question 272: Does high cholesterol increase AMD risk by promoting drusen formation? a) Yes b) No c) Only with diabetes d) Only with smoking\n",
      "Response: a\n",
      "\n",
      "Question 273: Can dry AMD transition to wet AMD due to excessive VEGF production? a) Yes b) No c) Only with drusen d) Only with UV exposure\n",
      "Response: b\n",
      "\n",
      "Question 274: Does AMD impair depth perception by causing optic nerve damage? a) Yes b) No c) Sometimes d) Only wet AMD\n",
      "Response: b\n",
      "\n",
      "Question 275: Can anti-VEGF therapy stabilize wet AMD by reducing choroidal neovascular leakage? a) Yes b) No c) Only early stages d) Only with surgery\n",
      "Response: a\n",
      "\n",
      "Question 276: Does family history increase AMD risk by causing choroidal thinning? a) Yes b) No c) Sometimes d) Only with smoking\n",
      "Response: b)\n",
      "\n",
      "Question 277: Does dry AMD progress slowly because it lacks photoreceptor regeneration? a) Yes b) No c) Sometimes d) Only early stages\n",
      "Response: a) Yes\n",
      "\n",
      "Question 278: Can hypertension exacerbate AMD by increasing retinal pigment epithelial detachment? a) Yes b) No c) Only with diabetes d) Only with obesity\n",
      "Response: a) Yes\n",
      "\n",
      "Question 279: Does smoking worsen AMD by enhancing choroidal inflammation? a) Yes b) No c) Only with UV exposure d) Only with high cholesterol\n",
      "Response: a\n",
      "\n",
      "Question 280: Can OCT detect early dry AMD by identifying drusen size increases? a) Yes b) No c) Only late stages d) Only with fluid\n",
      "Response: a) Yes\n",
      "\n",
      "Question 281: Does wet AMD treatment with anti-VEGF injections work by regenerating retinal tissue? a) Yes b) No c) Partially d) Only early stages\n",
      "Response: b\n",
      "\n",
      "Question 282: Can diabetes contribute to AMD by elevating retinal inflammation? a) Yes b) No c) Only with smoking d) Only with hypertension\n",
      "Response: a) Yes\n",
      "\n",
      "Question 283: Does dry AMD progress to geographic atrophy by causing blood vessel leakage? a) Yes b) No c) Sometimes d) Only late stages\n",
      "Response: a\n",
      "\n",
      "Question 284: Can AMD increase fall risk by reducing central visual clarity? a) Yes b) No c) Only with wet AMD d) Only with dry AMD\n",
      "Response: a\n",
      "\n",
      "Question 285: Does UV exposure accelerate AMD by causing immediate photoreceptor death? a) Yes b) No c) Only with smoking d) Only with light eyes\n",
      "Response: b\n",
      "\n",
      "Question 286: Can wet AMD cause rapid vision loss by inducing retinal scarring? a) Yes b) No c) Only with drusen d) Only with hypertension\n",
      "Response: a\n",
      "\n",
      "Question 287: Does a diet high in antioxidants prevent AMD by reversing Bruch’s membrane damage? a) Yes b) No c) Partially d) Only with supplements\n",
      "Response: b\n",
      "\n",
      "Question 288: Can smoking exacerbate wet AMD by increasing VEGF levels? a) Yes b) No c) Only with UV exposure d) Only with obesity\n",
      "Response: a) Yes\n",
      "\n",
      "Question 289: Does dry AMD affect color perception by damaging retinal ganglion cells? a) Yes b) No c) Sometimes d) Only late stages\n",
      "Response: a\n",
      "\n",
      "Question 290: Can photodynamic therapy treat wet AMD by sealing abnormal blood vessels? a) Yes b) No c) Only early stages d) Only with anti-VEGF\n",
      "Response: c\n",
      "\n",
      "Question 291: Does obesity increase AMD risk by causing retinal thinning? a) Yes b) No c) Sometimes d) Only with diabetes\n",
      "Response: a)\n",
      "\n",
      "Question 292: Can wet AMD impair reading by causing central vision distortion? a) Yes b) No c) Only with drusen d) Only with smoking\n",
      "Response: a) Yes\n",
      "\n",
      "Question 293: Does high cholesterol contribute to AMD by clogging retinal arteries? a) Yes b) No c) Only with hypertension d) Only with diabetes\n",
      "Response: a)\n",
      "\n",
      "Question 294: Can AREDS supplements reduce AMD progression by eliminating oxidative stress entirely? a) Yes b) No c) Partially d) Only with zinc\n",
      "Response: d) Only with zinc\n",
      "\n",
      "Question 295: Does wet AMD cause blind spots by regenerating retinal tissue? a) Yes b) No c) Sometimes d) Only late stages\n",
      "Response: b\n",
      "\n",
      "Question 296: Can family history increase AMD risk by predisposing to drusen accumulation? a) Yes b) No c) Only with smoking d) Only with UV exposure\n",
      "Response: a) Yes\n",
      "\n",
      "Question 297: Does dry AMD progress to wet AMD due to excessive screen time alone? a) Yes b) No c) Sometimes d) Only with obesity\n",
      "Response: b) No\n",
      "\n",
      "Question 298: Can anti-VEGF injections improve wet AMD by reducing fluid leakage? a) Yes b) No c) Only early stages d) Only with photodynamic therapy\n",
      "Response: a) Yes\n",
      "\n",
      "Question 299: Does UV light increase AMD risk by causing optic nerve atrophy? a) Yes b) No c) Sometimes d) Only with light eyes\n",
      "Response: a) Yes\n",
      "\n",
      "Question 300: Can wet AMD affect face recognition by distorting central vision? a) Yes b) No c) Only with drusen d) Only with smoking\n",
      "Response: a\n",
      "\n",
      "Question 301: Does hypertension worsen AMD by causing retinal hemorrhages? a) Yes b) No c) Only with diabetes d) Only with high cholesterol\n",
      "Response: b\n",
      "\n",
      "Question 302: Can smoking exacerbate AMD by increasing retinal oxidative stress? a) Yes b) No c) Only with UV exposure d) Only with obesity\n",
      "Response: a) Yes\n",
      "\n",
      "Question 303: Does dry AMD cause vision loss by affecting the choroid directly? a) Yes b) No c) Sometimes d) Only late stages\n",
      "Response: b\n",
      "\n",
      "Question 304: Can OCT confirm wet AMD by visualizing choroidal neovascularization? a) Yes b) No c) Only late stages d) Only with drusen\n",
      "Response: c\n",
      "\n",
      "Question 305: Does diabetes increase AMD risk by causing retinal artery occlusion? a) Yes b) No c) Only with smoking d) Only with hypertension\n",
      "Response: a) Yes\n",
      "\n",
      "Question 306: Can wet AMD cause sudden vision changes by inducing retinal edema? a) Yes b) No c) Only with drusen d) Only with UV exposure\n",
      "Response: a) Yes\n",
      "\n",
      "Question 307: Does family history elevate AMD risk by increasing lipid deposits in the choroid? a) Yes b) No c) Sometimes d) Only with obesity\n",
      "Response: a) Yes\n",
      "\n",
      "Question 308: Can anti-VEGF therapy prevent wet AMD progression by stabilizing retinal thickness? a) Yes b) No c) Only early stages d) Only with photodynamic therapy\n",
      "Response: b\n",
      "\n",
      "Question 309: Does smoking increase dry AMD risk by causing choroidal thinning? a) Yes b) No c) Only with UV exposure d) Only with high cholesterol\n",
      "Response: a) Yes\n",
      "\n",
      "Question 310: Can wet AMD impair driving by distorting central visual acuity? a) Yes b) No c) Only with drusen d) Only with smoking\n",
      "Response: a\n",
      "\n",
      "Question 311: Does high cholesterol exacerbate AMD by causing optic nerve inflammation? a) Yes b) No c) Only with diabetes d) Only with hypertension\n",
      "Response: c\n",
      "\n",
      "Question 312: Can AREDS supplements mitigate AMD risk by repairing retinal pigment epithelium? a) Yes b) No c) Partially d) Only with zinc\n",
      "Response: c) Partially\n",
      "\n",
      "Question 313: Does wet AMD cause depth perception issues by regenerating retinal layers? a) Yes b) No c) Sometimes d) Only late stages\n",
      "Response: a) Yes\n",
      "\n",
      "Question 314: Can obesity worsen AMD by increasing retinal inflammation? a) Yes b) No c) Only with diabetes d) Only with smoking\n",
      "Response: a) Yes\n",
      "\n",
      "Question 315: Does dry AMD progress to geographic atrophy due to excessive neovascularization? a) Yes b) No c) Sometimes d) Only late stages\n",
      "Response: c\n",
      "\n",
      "Question 316: Can photodynamic therapy treat wet AMD by shrinking choroidal blood vessels? a) Yes b) No c) Only early stages d) Only with anti-VEGF\n",
      "Response: c\n",
      "\n",
      "Question 317: Does UV light exposure increase AMD risk by causing photoreceptor regeneration? a) Yes b) No c) Sometimes d) Only with light eyes\n",
      "Response: a\n",
      "\n",
      "Question 318: Can wet AMD cause visual hallucinations by inducing retinal pigment epithelial scarring? a) Yes b) No c) Only with drusen d) Only with smoking\n",
      "Response: a\n",
      "\n",
      "Question 319: Does hypertension contribute to AMD by increasing drusen size? a) Yes b) No c) Only with diabetes d) Only with high cholesterol\n",
      "Response: a)\n",
      "\n",
      "Question 320: Can smoking increase AMD severity by promoting photoreceptor degeneration? a) Yes b) No c) Only with UV exposure d) Only with obesity\n",
      "Response: a) Yes\n",
      "\n",
      "Question 321: Does dry AMD impair reading by causing optic nerve damage? a) Yes b) No c) Sometimes d) Only late stages\n",
      "Response: a\n",
      "\n",
      "Question 322: Can OCT detect early AMD by measuring retinal layer thinning? a) Yes b) No c) Only late stages d) Only with drusen\n",
      "Response: a) Yes\n",
      "\n",
      "Question 323: Does diabetes exacerbate AMD by causing direct blood vessel leakage? a) Yes b) No c) Only with smoking d) Only with hypertension\n",
      "Response: a) Yes\n",
      "\n",
      "Question 324: Can wet AMD affect color perception by causing central vision loss? a) Yes b) No c) Only with drusen d) Only with UV exposure\n",
      "Response: a) Yes\n",
      "\n",
      "Question 325: Does family history worsen AMD by causing optic nerve atrophy? a) Yes b) No c) Sometimes d) Only with obesity\n",
      "Response: b)\n",
      "\n",
      "Question 326: Can anti-VEGF injections treat wet AMD by preventing subretinal hemorrhages? a) Yes b) No c) Only early stages d) Only with photodynamic therapy\n",
      "Response: b\n",
      "\n",
      "Question 327: Does smoking worsen AMD by causing direct retinal detachment? a) Yes b) No c) Only with UV exposure d) Only with high cholesterol\n",
      "Response: b\n",
      "\n",
      "Question 328: Can wet AMD increase fall risk by impairing central depth perception? a) Yes b) No c) Only with drusen d) Only with smoking\n",
      "Response: a\n",
      "\n",
      "Question 329: Does high cholesterol increase AMD risk by causing retinal vein occlusion? a) Yes b) No c) Only with diabetes d) Only with hypertension\n",
      "Response: a\n",
      "\n",
      "Question 330: Can AREDS supplements slow dry AMD by reducing retinal hypoxia? a) Yes b) No c) Partially d) Only with zinc\n",
      "Response: c\n",
      "\n",
      "Question 331: Does wet AMD cause rapid vision loss by regenerating choroidal tissue? a) Yes b) No c) Sometimes d) Only late stages\n",
      "Response: b)\n",
      "\n",
      "Question 332: Can obesity increase AMD risk by enhancing choroidal oxidative stress? a) Yes b) No c) Only with diabetes d) Only with smoking\n",
      "Response: a) Yes\n",
      "\n",
      "Question 333: Does dry AMD progress to wet AMD due to excessive antioxidant intake? a) Yes b) No c) Sometimes d) Only with obesity\n",
      "Response: b\n",
      "\n",
      "Question 334: Can photodynamic therapy manage wet AMD by reducing retinal edema? a) Yes b) No c) Only early stages d) Only with anti-VEGF\n",
      "Response: a\n",
      "\n",
      "Question 335: Does UV light exposure worsen AMD by causing photoreceptor regeneration? a) Yes b) No c) Sometimes d) Only with light eyes\n",
      "Response: b\n",
      "\n",
      "Question 336: Can wet AMD impair night vision by distorting central visual fields? a) Yes b) No c) Only with drusen d) Only with smoking\n",
      "Response: a) Yes\n",
      "\n",
      "Question 337: Does hypertension increase AMD severity by causing optic nerve swelling? a) Yes b) No c) Only with diabetes d) Only with high cholesterol\n",
      "Response: b\n",
      "\n",
      "Question 338: Can smoking exacerbate AMD by increasing choroidal hypoxia? a) Yes b) No c) Only with UV exposure d) Only with obesity\n",
      "Response: a) Yes\n",
      "\n",
      "Question 339: Does dry AMD cause blind spots by damaging retinal vasculature? a) Yes b) No c) Sometimes d) Only late stages\n",
      "Response: a\n",
      "\n",
      "Question 340: Does diabetes increase AMD risk by causing optic nerve inflammation? a) Yes b) No c) Only with smoking d) Only with hypertension\n",
      "Response: a) Yes\n",
      "\n",
      "Question 341: Can wet AMD affect reading speed by causing central retinal blur? a) Yes b) No c) Only with drusen d) Only with UV exposure\n",
      "Response: a\n",
      "\n",
      "Question 342: Does family history worsen AMD by causing direct retinal scarring? a) Yes b) No c) Sometimes d) Only with obesity\n",
      "Response: b) No\n",
      "\n",
      "Question 343: Can anti-VEGF therapy improve wet AMD by reducing choroidal inflammation? a) Yes b) No c) Only early stages d) Only with photodynamic therapy\n",
      "Response: a\n",
      "\n",
      "Question 344: Does smoking increase AMD risk by causing retinal regeneration? a) Yes b) No c) Only with UV exposure d) Only with high cholesterol\n",
      "Response: b) No\n",
      "\n",
      "Question 345: Does smoking increase AMD risk by promoting retinal pigment epithelial hypoxia? a) Yes b) No c) Only with UV exposure d) Only with obesity\n",
      "Response: a) Yes\n",
      "\n",
      "Question 346: Can dry AMD progress to wet AMD due to excessive retinal pigment epithelial inflammation alone? a) Yes b) No c) Only with smoking d) Only with diabetes\n",
      "Response: a) Yes\n",
      "\n",
      "Question 347: Does family history elevate AMD risk by increasing retinal pigment epithelial vulnerability to oxidative stress? a) Yes b) No c) Only in women d) Only with hypertension\n",
      "Response: a) Yes\n",
      "\n",
      "Question 348: Can anti-VEGF injections treat wet AMD by reversing retinal pigment epithelial scarring? a) Yes b) No c) Partially d) Only early stages\n",
      "Response: b)\n",
      "\n",
      "Question 349: Does hypertension worsen AMD by causing retinal pigment epithelial hypoxia? a) Yes b) No c) Only with diabetes d) Only with smoking\n",
      "Response: a) Yes\n",
      "\n",
      "Question 350: Can the Amsler grid detect wet AMD by measuring retinal pigment epithelial lipid changes? a) Yes b) No c) Sometimes d) Only late stages\n",
      "Response: a\n",
      "\n",
      "Question 351: Does UV light exposure accelerate AMD by causing retinal pigment epithelial hemorrhages? a) Yes b) No c) Only with light eyes d) Only with smoking\n",
      "Response: a) Yes\n",
      "\n",
      "Question 352: Does obesity heighten AMD risk by promoting retinal pigment epithelial lipid accumulation? a) Yes b) No c) Only with diabetes d) Only with hypertension\n",
      "Response: a\n",
      "\n",
      "Question 353: Does diabetes increase AMD risk by causing retinal pigment epithelial swelling? a) Yes b) No c) Only with smoking d) Only with obesity\n",
      "Response: a) Yes\n",
      "\n",
      "Question 354: Does smoking worsen dry AMD by increasing retinal pigment epithelial lipid deposits? a) Yes b) No c) Only with UV exposure d) Only with high cholesterol\n",
      "Response: a) Yes\n",
      "\n",
      "Question 355: Can photodynamic therapy manage wet AMD by reversing retinal pigment epithelial damage? a) Yes b) No c) Sometimes d) Only early stages\n",
      "Response: b\n",
      "\n",
      "Question 356: Does a diet high in leafy greens reduce AMD progression by eliminating retinal pigment epithelial hypoxia? a) Yes b) No c) Partially d) Only with supplements\n",
      "Response: a\n",
      "\n",
      "Question 357: Does high cholesterol increase AMD risk by promoting retinal pigment epithelial edema? a) Yes b) No c) Only with diabetes d) Only with smoking\n",
      "Response: a\n",
      "\n",
      "Question 358: Can dry AMD transition to wet AMD due to retinal pigment epithelial lipid deposits? a) Yes b) No c) Only with drusen d) Only with UV exposure\n",
      "Response: c\n",
      "\n",
      "Question 359: Does AMD impair color perception by causing retinal pigment epithelial lipid repair? a) Yes b) No c) Sometimes d) Only wet AMD\n",
      "Response: a\n",
      "\n",
      "Question 360: Can anti-VEGF therapy stabilize wet AMD by reducing retinal pigment epithelial lipid accumulation? a) Yes b) No c) Only early stages d) Only with surgery\n",
      "Response: a)\n",
      "\n",
      "Question 361: Can wet AMD distort vision by causing retinal pigment epithelial swelling? a) Yes b) No c) Only with drusen d) Only with hypertension\n",
      "Response: a) Yes\n",
      "\n",
      "Question 362: Can hypertension exacerbate AMD by causing retinal pigment epithelial lipid repair? a) Yes b) No c) Only with diabetes d) Only with obesity\n",
      "Response: a\n",
      "\n",
      "Question 363: Does UV exposure accelerate AMD by causing retinal pigment epithelial swelling? a) Yes b) No c) Only with smoking d) Only with light eyes\n",
      "Response: a\n",
      "\n",
      "Question 364: Does a diet high in antioxidants prevent AMD by reversing retinal pigment epithelial atrophy? a) Yes b) No c) Partially d) Only with supplements\n",
      "Response: c\n",
      "\n",
      "Question 365: Can smoking exacerbate wet AMD by increasing retinal pigment epithelial edema? a) Yes b) No c) Only with UV exposure d) Only with obesity\n",
      "Response: a\n",
      "\n",
      "Question 366: Does dry AMD affect color perception by causing retinal pigment epithelial repair? a) Yes b) No c) Sometimes d) Only late stages\n",
      "Response: a\n",
      "\n",
      "Question 367: Does obesity increase AMD risk by causing retinal pigment epithelial regeneration? a) Yes b) No c) Sometimes d) Only with diabetes\n",
      "Response: b\n",
      "\n",
      "Question 368: Does high cholesterol contribute to AMD by causing retinal pigment epithelial repair? a) Yes b) No c) Only with hypertension d) Only with diabetes\n",
      "Response: a)\n",
      "\n",
      "Question 369: Does dry AMD progress to wet AMD due to excessive retinal pigment epithelial repair? a) Yes b) No c) Sometimes d) Only with obesity\n",
      "Response: a)\n",
      "\n",
      "Question 370: Can wet AMD impair driving by inducing retinal pigment epithelial atrophy? a) Yes b) No c) Only with drusen d) Only with smoking\n",
      "Response: a) Yes\n",
      "\n",
      "Question 371: Does smoking exacerbate AMD by increasing retinal pigment epithelial lipid peroxidation? a) Yes b) No c) Only with UV exposure d) Only with high cholesterol\n",
      "Response: a) Yes\n",
      "\n",
      "Question 372: Can dry AMD progress to wet AMD due to excessive retinal pigment epithelial hypoxia? a) Yes b) No c) Only with smoking d) Only with diabetes\n",
      "Response: a) Yes\n",
      "\n",
      "Question 373: Does family history elevate AMD risk by increasing retinal pigment epithelial susceptibility to lipid deposits? a) Yes b) No c) Only in men d) Only with hypertension\n",
      "Response: a\n",
      "\n",
      "Question 374: Can anti-VEGF injections treat wet AMD by reducing retinal pigment epithelial inflammation? a) Yes b) No c) Partially d) Only early stages\n",
      "Response: b\n",
      "\n",
      "Question 375: Does hypertension worsen AMD by causing retinal pigment epithelial lipid accumulation? a) Yes b) No c) Only with diabetes d) Only with smoking\n",
      "Response: a) Yes\n",
      "\n",
      "Question 376: Can the Amsler grid detect wet AMD by identifying retinal pigment epithelial detachment? a) Yes b) No c) Sometimes d) Only late stages\n",
      "Response: a) Yes\n",
      "\n",
      "Question 377: Does UV light exposure accelerate AMD by causing retinal pigment epithelial oxidative stress? a) Yes b) No c) Only with light eyes d) Only with smoking\n",
      "Response: a) Yes\n",
      "\n",
      "Question 378: Can AREDS supplements slow dry AMD by reducing retinal pigment epithelial lipid peroxidation? a) Yes b) No c) Partially d) Only with zinc\n",
      "Response: c\n",
      "\n",
      "Question 379: Does obesity increase AMD risk by enhancing retinal pigment epithelial oxidative damage? a) Yes b) No c) Only with diabetes d) Only with hypertension\n",
      "Response: a) Yes\n",
      "\n",
      "Question 380: Can wet AMD cause sudden vision loss by inducing retinal pigment epithelial scarring? a) Yes b) No c) Only with drusen d) Only with UV exposure\n",
      "Response: a) Yes\n",
      "\n",
      "Question 381: Does diabetes heighten AMD risk by causing retinal pigment epithelial lipid peroxidation? a) Yes b) No c) Only with smoking d) Only with obesity\n",
      "Response: a) Yes\n",
      "\n",
      "Question 382: Can OCT diagnose wet AMD by detecting retinal pigment epithelial lipid deposits? a) Yes b) No c) Only late stages d) Only with drusen\n",
      "Response: a\n",
      "\n",
      "Question 383: Does smoking worsen dry AMD by accelerating retinal pigment epithelial degeneration? a) Yes b) No c) Only with UV exposure d) Only with high cholesterol\n",
      "Response: a\n",
      "\n",
      "Question 384: Can photodynamic therapy manage wet AMD by reducing retinal pigment epithelial edema? a) Yes b) No c) Sometimes d) Only early stages\n",
      "Response: a\n",
      "\n",
      "Question 385: Does a diet rich in leafy greens reduce AMD progression by repairing retinal pigment epithelial damage? a) Yes b) No c) Partially d) Only with supplements\n",
      "Response: a)\n",
      "\n",
      "Question 386: Can wet AMD lead to legal blindness by causing retinal pigment epithelial degeneration? a) Yes b) No c) Sometimes d) Only late stages\n",
      "Response: a\n",
      "\n",
      "Question 387: Does high cholesterol increase AMD risk by promoting retinal pigment epithelial lipid peroxidation? a) Yes b) No c) Only with diabetes d) Only with smoking\n",
      "Response: a) Yes\n",
      "\n",
      "Question 388: Can dry AMD transition to wet AMD due to excessive retinal pigment epithelial lipid peroxidation? a) Yes b) No c) Only with drusen d) Only with UV exposure\n",
      "Response: a)\n",
      "\n",
      "Question 389: Does AMD impair color perception by causing retinal pigment epithelial hypoxia? a) Yes b) No c) Sometimes d) Only wet AMD\n",
      "Response: a\n",
      "\n",
      "Question 390: Does family history increase AMD risk by causing retinal pigment epithelial lipid peroxidation? a) Yes b) No c) Sometimes d) Only with smoking\n",
      "Response: a) Yes\n",
      "\n",
      "Question 391: Can wet AMD distort vision by inducing retinal pigment epithelial lipid peroxidation? a) Yes b) No c) Only with drusen d) Only with hypertension\n",
      "Response: a) Yes\n",
      "\n",
      "Question 392: Can hypertension exacerbate AMD by causing retinal pigment epithelial lipid peroxidation? a) Yes b) No c) Only with diabetes d) Only with obesity\n",
      "Response: a) Yes\n",
      "\n",
      "Question 393: Does smoking worsen AMD by increasing retinal pigment epithelial lipid peroxidation? a) Yes b) No c) Only with UV exposure d) Only with high cholesterol\n",
      "Response: a) Yes\n",
      "\n",
      "Question 394: Can OCT detect early dry AMD by identifying retinal pigment epithelial lipid peroxidation? a) Yes b) No c) Only late stages d) Only with fluid\n",
      "Response: a) Yes\n",
      "\n",
      "Question 395: Does wet AMD treatment with anti-VEGF injections work by reversing retinal pigment epithelial atrophy? a) Yes b) No c) Partially d) Only early stages\n",
      "Response: a\n",
      "\n",
      "Question 396: Can diabetes contribute to AMD by increasing retinal pigment epithelial lipid peroxidation? a) Yes b) No c) Only with smoking d) Only with hypertension\n",
      "Response: a) Yes\n",
      "\n",
      "Question 397: Does UV exposure accelerate AMD by causing retinal pigment epithelial lipid peroxidation? a) Yes b) No c) Only with smoking d) Only with light eyes\n",
      "Response: a) Yes\n",
      "\n",
      "Question 398: Can wet AMD cause rapid vision loss by inducing retinal pigment epithelial lipid peroxidation? a) Yes b) No c) Only with drusen d) Only with hypertension\n",
      "Response: a\n",
      "\n",
      "Question 399: Does a diet high in antioxidants prevent AMD by reversing retinal pigment epithelial lipid peroxidation? a) Yes b) No c) Partially d) Only with supplements\n",
      "Response: a) Yes\n",
      "\n",
      "Question 400: Can smoking exacerbate wet AMD by increasing retinal pigment epithelial lipid peroxidation? a) Yes b) No c) Only with UV exposure d) Only with obesity\n",
      "Response: a) Yes\n",
      "\n",
      "Question 401: Does dry AMD affect color perception by causing retinal pigment epithelial lipid peroxidation? a) Yes b) No c) Sometimes d) Only late stages\n",
      "Response: a\n",
      "\n",
      "Question 402: Can photodynamic therapy treat wet AMD by reducing retinal pigment epithelial lipid peroxidation? a) Yes b) No c) Only early stages d) Only with anti-VEGF\n",
      "Response: c\n",
      "\n",
      "Question 403: Does obesity increase AMD risk by causing retinal pigment epithelial lipid peroxidation? a) Yes b) No c) Sometimes d) Only with diabetes\n",
      "Response: a\n",
      "\n",
      "Question 404: Can wet AMD impair reading by causing retinal pigment epithelial lipid peroxidation? a) Yes b) No c) Only with drusen d) Only with smoking\n",
      "Response: a\n",
      "\n",
      "Question 405: Does high cholesterol contribute to AMD by causing retinal pigment epithelial lipid peroxidation? a) Yes b) No c) Only with hypertension d) Only with diabetes\n",
      "Response: a\n",
      "\n",
      "Question 406: Can AREDS supplements reduce AMD progression by reversing retinal pigment epithelial lipid peroxidation? a) Yes b) No c) Partially d) Only with zinc\n",
      "Response: c\n",
      "\n",
      "Question 407: Does wet AMD cause blind spots by inducing retinal pigment epithelial lipid peroxidation? a) Yes b) No c) Sometimes d) Only late stages\n",
      "Response: a) Yes\n",
      "\n",
      "Question 408: Can family history increase AMD risk by predisposing to retinal pigment epithelial lipid peroxidation? a) Yes b) No c) Only with smoking d) Only with UV exposure\n",
      "Response: a) Yes\n",
      "\n",
      "Question 409: Does dry AMD progress to wet AMD due to excessive retinal pigment epithelial lipid peroxidation? a) Yes b) No c) Sometimes d) Only with obesity\n",
      "Response: b)\n",
      "\n",
      "Question 410: Can anti-VEGF injections improve wet AMD by reducing retinal pigment epithelial lipid peroxidation? a) Yes b) No c) Only early stages d) Only with photodynamic therapy\n",
      "Response: a\n",
      "\n",
      "Question 411: Does UV light increase AMD risk by causing retinal pigment epithelial lipid peroxidation? a) Yes b) No c) Sometimes d) Only with light eyes\n",
      "Response: a) Yes\n",
      "\n",
      "Question 412: Can wet AMD affect face recognition by causing retinal pigment epithelial lipid peroxidation? a) Yes b) No c) Only with drusen d) Only with smoking\n",
      "Response: a\n",
      "\n",
      "Question 413: Does hypertension worsen AMD by causing retinal pigment epithelial lipid peroxidation? a) Yes b) No c) Only with diabetes d) Only with high cholesterol\n",
      "Response: a) Yes\n",
      "\n",
      "Question 414: Can smoking exacerbate AMD by increasing retinal pigment epithelial lipid peroxidation? a) Yes b) No c) Only with UV exposure d) Only with obesity\n",
      "Response: a) Yes\n",
      "\n",
      "Question 415: What is the primary region of the retina affected by AMD? a) Optic disc b) Macula c) Peripheral retina d) Ciliary body\n",
      "Response: b\n",
      "\n",
      "Question 416: Which type of AMD involves abnormal blood vessel growth? a) Dry AMD b) Wet AMD c) Early AMD d) Intermediate AMD\n",
      "Response: B\n",
      "\n",
      "Question 417: What are the yellowish deposits in dry AMD called? a) Exudates b) Drusen c) Hemorrhages d) Plaques\n",
      "Response: b\n",
      "\n",
      "Question 418: Is AMD a leading cause of blindness in people over 60? a) Yes b) No c) Only in men d) Only in women\n",
      "Response: b\n",
      "\n",
      "Question 419: What treatment is most commonly used for wet AMD? a) Anti-VEGF injections b) Laser surgery c) Vitamin supplements d) Eye drops\n",
      "Response: A\n",
      "\n",
      "Question 420: Which vitamin in the AREDS formula supports retinal health? a) Vitamin B12 b) Vitamin C c) Vitamin D d) Vitamin K\n",
      "Response: B\n",
      "\n",
      "Question 421: What is the term for distorted vision in AMD? a) Scotoma b) Metamorphopsia c) Photopsia d) Nyctalopia\n",
      "Response: c\n",
      "\n",
      "Question 422: Which imaging technique is used to diagnose AMD? a) Ultrasound b) OCT c) X-ray d) MRI\n",
      "Response: b\n",
      "\n",
      "Question 423: Does wet AMD account for most advanced cases? a) Yes b) No c) Only in early stages d) Only in late stages\n",
      "Response: a\n",
      "\n",
      "Question 424: Which habit significantly raises AMD risk? a) Smoking b) Drinking coffee c) Reading in dim light d) Using smartphones\n",
      "Response: d\n",
      "\n",
      "Question 425: What is the advanced dry AMD condition with retinal cell loss? a) Macular edema b) Geographic atrophy c) Retinal detachment d) Choroidal rupture\n",
      "Response: b\n",
      "\n",
      "Question 426: Which mineral is included in the AREDS2 formula? a) Iron b) Zinc c) Magnesium d) Calcium\n",
      "Response: c)\n",
      "\n",
      "Question 427: What is a common early symptom of wet AMD? a) Peripheral vision loss b) Central vision distortion c) Color blindness d) Eye pain\n",
      "Response: A)\n",
      "\n",
      "Question 428: Is there a significant gender difference in AMD risk? a) Yes, men b) Yes, women c) No d) Only in younger adults\n",
      "Response: c\n",
      "\n",
      "Question 429: What does fluorescein angiography detect in AMD? a) Eye pressure b) Blood vessel leakage c) Lens opacity d) Corneal damage\n",
      "Response: B\n",
      "\n",
      "Question 430: Which retinal pigment may reduce AMD risk? a) Lutein b) Hemoglobin c) Melanin d) Rhodopsin\n",
      "Response: a) Lutein\n",
      "\n",
      "Question 431: What tool helps patients monitor AMD-related vision changes? a) Snellen chart b) Amsler grid c) Ishihara test d) Perimeter\n",
      "Response: b)\n",
      "\n",
      "Question 432: Which feature is unique to wet AMD? a) Drusen b) Choroidal neovascularization c) Retinal thinning d) Pigment clumping\n",
      "Response: A\n",
      "\n",
      "Question 433: What is the biggest risk factor for AMD? a) Diabetes b) Aging c) Obesity d) High cholesterol\n",
      "Response: c\n",
      "\n",
      "Question 434: Which nutrient is linked to slower AMD progression? a) Saturated fats b) Omega-3 fatty acids c) Sugar d) Sodium\n",
      "Response: B\n",
      "\n",
      "Question 435: What is the term for a blind spot in AMD vision? a) Scotoma b) Aura c) Floater d) Halo\n",
      "Response: A) Scotoma\n",
      "\n",
      "Question 436: Which type of light may worsen AMD risk? a) Infrared b) UV light c) Blue light d) Red light\n",
      "Response: c\n",
      "\n",
      "Question 437: What laser treatment targets blood vessels in wet AMD? a) LASIK b) Photodynamic therapy c) PRK d) LASEK\n",
      "Response: b\n",
      "\n",
      "Question 438: What is an early sign of dry AMD? a) Large drusen b) Retinal hemorrhage c) Macular edema d) Optic disc swelling\n",
      "Response: A\n",
      "The best answer is A\n",
      "\n",
      "Question 439: What is the goal of low vision aids for AMD patients? a) Cure AMD b) Maximize remaining vision c) Prevent progression d) Restore sight\n",
      "Response: B\n",
      "\n",
      "Question 440: Which ethnic group has the highest AMD prevalence? a) Caucasians b) African Americans c) Asians d) Hispanics\n",
      "Response: c\n",
      "\n",
      "Question 441: What condition involves fluid in the macula in wet AMD? a) Macular edema b) Macular hole c) Retinal tear d) Choroidal effusion\n",
      "Response: A\n",
      "\n",
      "Question 442: Which symptom is specific to AMD, not glaucoma? a) Peripheral vision loss b) Central vision loss c) Eye redness d) Halos\n",
      "Response: d\n",
      "\n",
      "Question 443: What protein do anti-VEGF drugs target in wet AMD? a) Collagen b) VEGF c) Keratin d) Albumin\n",
      "Response: b\n",
      "\n",
      "Question 444: Which lifestyle change most reduces AMD risk? a) More screen time b) Quitting smoking c) Less sleep d) Higher salt intake\n",
      "Response: b\n",
      "\n",
      "Question 445: How often are anti-VEGF injections typically given for wet AMD? a) Yearly b) Every 4-8 weeks c) Monthly d) Once every 6 months\n",
      "Response: b\n",
      "\n",
      "Question 446: Which retinal layer supports the macula and is affected in AMD? a) Choroid b) Sclera c) Iris d) Lens\n",
      "Response: a) Choroid\n",
      "\n",
      "Question 447: Which trial updated the AREDS formula? a) AREDS2 b) VISTA c) DRCR.net d) ETDRS\n",
      "Response: a\n",
      "\n",
      "Question 448: What is a rare wet AMD complication? a) Retinal detachment b) Cataracts c) Glaucoma d) Corneal abrasion\n",
      "Response: a\n",
      "\n",
      "Question 449: Which antioxidants are in the AREDS formula? a) Vitamins C and E b) Vitamin A and D c) Vitamin B and K d) Vitamin E and F\n",
      "Response: A\n",
      "\n",
      "Question 450: Which symptom is least associated with AMD? a) Blurred central vision b) Peripheral vision loss c) Distorted lines d) Difficulty reading\n",
      "Response: d\n",
      "\n",
      "Question 451: Which retinal layer nourishes photoreceptors and is damaged in AMD? a) Retinal pigment epithelium b) Inner plexiform layer c) Outer nuclear layer d) Ganglion cell layer\n",
      "Response: a)\n",
      "\n",
      "Question 452: What is a side effect of photodynamic therapy for AMD? a) Hair loss b) Light sensitivity c) Weight gain d) Nausea\n",
      "Response: B\n",
      "\n",
      "Question 453: What is the prevalence of AMD in people over 80? a) 5% b) 10% c) 25% d) 50%\n",
      "Response: c\n",
      "\n",
      "Question 454: Which nutrient was removed from AREDS in AREDS2? a) Beta-carotene b) Vitamin E c) Zinc d) Copper\n",
      "Response: d\n",
      "\n",
      "Question 455: What happens to photoreceptors in advanced AMD? a) They degenerate b) They multiply c) They migrate d) They harden\n",
      "Response: A\n",
      "\n",
      "Question 456: Which visual aid is commonly used by AMD patients? a) Magnifiers b) Hearing aids c) Wheelchairs d) Crutches\n",
      "Response: a\n",
      "\n",
      "Question 457: What condition forms scar tissue in wet AMD? a) Macular fibrosis b) Macular edema c) Macular hole d) Retinal tear\n",
      "Response: A\n",
      "\n",
      "Question 458: Which cardiovascular issue increases AMD risk? a) Hypertension b) Low blood pressure c) Anemia d) Heart failure\n",
      "Response: c\n",
      "\n",
      "Question 459: What procedure uses light-sensitive drugs for wet AMD? a) Photodynamic therapy b) LASIK c) Vitrectomy d) Cataract surgery\n",
      "Response: A\n",
      "\n",
      "Question 460: What is a hallmark of early dry AMD? a) Small drusen b) Large hemorrhages c) Macular swelling d) Optic disc pallor\n",
      "Response: A\n",
      "\n",
      "Question 461: What syndrome causes visual hallucinations in AMD patients? a) Charles Bonnet syndrome b) Stargardt disease c) Leber’s syndrome d) Usher syndrome\n",
      "Response: A\n",
      "\n",
      "Question 462: At what age should AMD screening begin? a) 30 b) 40 c) 50 d) 60\n",
      "Response: c\n",
      "\n",
      "Question 463: What surgery repositions the macula in severe AMD? a) Macular translocation b) Corneal transplant c) Lens replacement d) Glaucoma surgery\n",
      "Response: A)\n",
      "\n",
      "Question 464: What is a feature of intermediate AMD? a) Large drusen b) Retinal detachment c) Choroidal rupture d) Optic nerve swelling\n",
      "Response: A\n",
      "The best answer is A.\n",
      "\n",
      "Question 465: Why are sunglasses recommended for AMD prevention? a) Reduce UV exposure b) Improve night vision c) Enhance color vision d) Prevent dry eyes\n",
      "Response: A\n",
      "\n",
      "Question 466: Which gene is most linked to AMD risk? a) CFH b) BRCA1 c) TP53 d) LDLR\n",
      "Response: A\n",
      "\n",
      "Question 467: What condition involves a hole in the macula in some AMD cases? a) Macular hole b) Macular pucker c) Macular edema d) Macular fibrosis\n",
      "Response: c\n",
      "\n",
      "Question 468: Which psychological issue can AMD cause? a) Depression b) Euphoria c) Improved focus d) Increased energy\n",
      "Response: c\n",
      "\n",
      "Question 469: What test measures retinal function in AMD? a) ERG b) VEP c) Tonometry d) Pachymetry\n",
      "Response: a) ERG\n",
      "\n",
      "Question 470: Which adaptation helps AMD patients read? a) High-contrast materials b) Dim lighting c) Smaller fonts d) More noise\n",
      "Response: c\n",
      "\n",
      "Question 471: What condition wrinkles the retina in AMD? a) Epiretinal membrane b) Retinal tear c) Choroidal rupture d) Vitreous detachment\n",
      "Response: A)\n",
      "\n",
      "Question 472: Which AREDS2 nutrient filters blue light? a) Zeaxanthin b) Vitamin C c) Copper d) Zinc\n",
      "Response: c\n",
      "\n",
      "Question 473: What condition involves blood leakage in wet AMD? a) Macular hemorrhage b) Macular edema c) Macular atrophy d) Macular hole\n",
      "Response: b\n",
      "\n",
      "Question 474: Which emerging therapy might treat dry AMD? a) Stem cell therapy b) Laser surgery c) Cataract removal d) Glaucoma drainage\n",
      "Response: a\n",
      "\n",
      "Question 475: Which layer degenerates in geographic atrophy? a) Retinal pigment epithelium b) Inner limiting membrane c) Outer nuclear layer d) Ganglion cell layer\n",
      "Response: c\n",
      "\n",
      "Question 476: Which mobility aid is used by AMD patients? a) White cane b) Wheelchair c) Hearing aid d) Prosthetic limb\n",
      "Response: b\n",
      "\n",
      "Question 477: What causes retinal thinning in dry AMD? a) Geographic atrophy b) Macular edema c) Macular fibrosis d) Macular hemorrhage\n",
      "Response: c\n",
      "\n",
      "Question 478: Which job-related factor may increase AMD risk? a) Sun exposure b) Night shifts c) Heavy lifting d) Desk work\n",
      "Response: a\n",
      "\n",
      "Question 479: What drug class reduces blood vessel growth in wet AMD? a) Anti-VEGF b) Antibiotics c) Antihistamines d) Analgesics\n",
      "Response: A)\n",
      "\n",
      "Question 480: What is seen on OCT in wet AMD? a) Subretinal fluid b) Optic disc drusen c) Corneal thinning d) Lens opacities\n",
      "Response: a)\n",
      "\n",
      "Question 481: What severe condition can wet AMD cause? a) Retinal detachment b) Retinal tear c) Retinal schisis d) Retinal hole\n",
      "Response: c\n",
      "\n",
      "Question 482: Which diet increases AMD risk? a) High fat b) High fiber c) High protein d) High carbs\n",
      "Response: a\n",
      "\n",
      "Question 483: What test assesses color vision changes in AMD? a) Ishihara test b) Amsler grid c) Snellen chart d) Visual field test\n",
      "Response: A)\n",
      "\n",
      "Question 484: What can untreated dry AMD progress to? a) Geographic atrophy b) Corneal ulcer c) Optic nerve damage d) Lens dislocation\n",
      "Response: c\n",
      "\n",
      "Question 485: What condition blocks retinal blood vessels in AMD? a) Retinal vascular occlusion b) Choroidal neovascularization c) Retinal hemorrhage d) Macular edema\n",
      "Response: c\n",
      "\n",
      "Question 486: Which reading aid helps AMD patients? a) Large-print books b) Ear plugs c) Walking sticks d) Compression socks\n",
      "Response: A\n",
      "\n",
      "Question 487: What causes macular swelling in wet AMD? a) Macular edema b) Macular atrophy c) Macular hole d) Macular pucker\n",
      "Response: A\n",
      "\n",
      "Question 488: What benefit comes from regular eye exams for AMD? a) Early detection b) Complete cure c) Vision restoration d) Disease reversal\n",
      "Response: A\n",
      "\n",
      "Question 489: What condition involves pigment clumping in dry AMD? a) Retinal pigment epithelium clumping b) Choroidal atrophy c) Photoreceptor loss d) Macular edema\n",
      "Response: A\n",
      "\n",
      "Question 490: Which technology assists AMD patients with reading? a) Screen readers b) Pacemakers c) Insulin pumps d) Hearing aids\n",
      "Response: a\n",
      "\n",
      "Question 491: What condition tears the retina in severe AMD? a) Retinal tear b) Retinal detachment c) Retinal schisis d) Retinal hole\n",
      "Response: c\n",
      "\n",
      "Question 492: How does exercise benefit AMD patients? a) Improves retinal blood flow b) Increases drusen c) Worsens vision d) Raises UV exposure\n",
      "Response: A\n",
      "\n",
      "Question 493: What condition puckers the macula in AMD? a) Macular pucker b) Macular edema c) Macular hole d) Macular fibrosis\n",
      "Response: d)\n",
      "\n",
      "Question 494: Which future tool might diagnose AMD? a) Artificial intelligence b) Blood pressure monitor c) Pulse oximeter d) EEG\n",
      "Response: A\n",
      "\n",
      "Question 495: What condition dilates retinal blood vessels in AMD? a) Retinal vascular dilation b) Choroidal neovascularization c) Retinal hemorrhage d) Macular edema\n",
      "Response: A\n",
      "\n",
      "Question 496: Which cooking aid helps AMD patients? a) High-contrast cutting boards b) Noise-canceling headphones c) Orthopedic shoes d) Glucose monitors\n",
      "Response: D\n",
      "\n",
      "Question 497: What disrupts photoreceptors in AMD? a) Photoreceptor disarray b) Retinal pigment epithelium atrophy c) Choroidal atrophy d) Macular edema\n",
      "Response: b\n",
      "\n",
      "Question 498: How does quitting smoking help AMD? a) Reduces oxidative stress b) Increases drusen c) Raises blood pressure d) Worsens vision\n",
      "Response: a)\n",
      "\n",
      "Question 499: What condition leaks blood into the retina in wet AMD? a) Retinal hemorrhage b) Macular edema c) Choroidal rupture d) Vitreous detachment\n",
      "Response: A\n",
      "\n",
      "Question 500: Which driving aid assists AMD patients? a) Bioptic telescopes b) Glucose meters c) Oxygen tanks d) Knee braces\n",
      "Response: A\n",
      "\n"
     ]
    }
   ],
   "source": [
    "# Loop through questions and generate answers without context\n",
    "without_context_responses = []\n",
    "\n",
    "print(\"Processing questions without context...\")\n",
    "for index, row in df.iterrows():\n",
    "    # Generate answer without context\n",
    "    response = generate_answer_without_context(row[\"question\"], \"llama3.2\")\n",
    "    response = remove_think_tags(response)\n",
    "    without_context_responses.append(response)\n",
    "    \n",
    "    print(f\"Question {index+1}: {row['question']}\")\n",
    "    print(f\"Response: {response}\\n\")\n",
    "\n",
    "# Add to dataframe\n",
    "df['without_context_answer'] = without_context_responses"
   ]
  },
  {
   "cell_type": "code",
   "execution_count": 33,
   "id": "a1e6469a-7750-412c-bd52-7f7e5bf0e5e2",
   "metadata": {},
   "outputs": [
    {
     "name": "stdout",
     "output_type": "stream",
     "text": [
      "Parsed Results:\n",
      "Question 1: Which factor increases wet AMD risk by promoting VEGF production? a) Smoking b) Drinking water c) Regular exercise d) Low cholesterol\n",
      "Ground Truth: A (from 'a) Smoking')\n",
      "With Context: D\n",
      "Without Context: A\n",
      "\n",
      "Question 2: Can dry AMD progress to geographic atrophy due to excessive antioxidant deficiency? a) Yes b) No c) Only with smoking d) Only with UV exposure\n",
      "Ground Truth: B (from 'b) No')\n",
      "With Context: A\n",
      "Without Context: A\n",
      "\n",
      "Question 3: Does family history elevate AMD risk by increasing drusen formation susceptibility? a) Yes b) No c) Only in men d) Only in women\n",
      "Ground Truth: A (from 'a) Yes')\n",
      "With Context: A\n",
      "Without Context: A\n",
      "\n",
      "Question 4: Can anti-VEGF injections treat wet AMD by reducing photoreceptor regeneration? a) Yes b) No c) Sometimes d) Only early stages\n",
      "Ground Truth: B (from 'b) No')\n",
      "With Context: A\n",
      "Without Context: B\n",
      "\n",
      "Question 5: Does hypertension worsen AMD by elevating choroidal pressure? a) Yes b) No c) Only with diabetes d) Only with obesity\n",
      "Ground Truth: B (from 'b) No')\n",
      "With Context: A\n",
      "Without Context: A\n",
      "\n",
      "Question 6: Can the Amsler grid detect wet AMD by revealing optic nerve damage? a) Yes b) No c) Sometimes d) Only late stages\n",
      "Ground Truth: B (from 'b) No')\n",
      "With Context: C\n",
      "Without Context: B\n",
      "\n",
      "Question 7: Does UV exposure accelerate AMD by triggering immediate retinal hemorrhages? a) Yes b) No c) Only with smoking d) Only with light eyes\n",
      "Ground Truth: B (from 'b) No')\n",
      "With Context: A\n",
      "Without Context: B\n",
      "\n",
      "Question 8: Can AREDS supplements slow dry AMD by reversing retinal pigment epithelial atrophy? a) Yes b) No c) Partially d) Only with zinc\n",
      "Ground Truth: B (from 'b) No')\n",
      "With Context: C\n",
      "Without Context: A\n",
      "\n",
      "Question 9: Does obesity increase AMD risk by enhancing retinal inflammation? a) Yes b) No c) Only with diabetes d) Only with hypertension\n",
      "Ground Truth: A (from 'a) Yes')\n",
      "With Context: A\n",
      "Without Context: A\n",
      "\n",
      "Question 10: Can wet AMD cause sudden vision loss by inducing choroidal neovascular leakage? a) Yes b) No c) Only with drusen d) Only with UV exposure\n",
      "Ground Truth: A (from 'a) Yes')\n",
      "With Context: A\n",
      "Without Context: A\n",
      "\n",
      "Question 11: Does diabetes heighten AMD risk by causing direct photoreceptor loss? a) Yes b) No c) Sometimes d) Only with hypertension\n",
      "Ground Truth: B (from 'b) No')\n",
      "With Context: A\n",
      "Without Context: C\n",
      "\n",
      "Question 12: Can OCT diagnose wet AMD by detecting retinal pigment epithelial detachment? a) Yes b) No c) Only late stages d) Only with drusen\n",
      "Ground Truth: A (from 'a) Yes')\n",
      "With Context: A\n",
      "Without Context: A\n",
      "\n",
      "Question 13: Does smoking worsen dry AMD by accelerating oxidative damage to the macula? a) Yes b) No c) Only with UV exposure d) Only with obesity\n",
      "Ground Truth: A (from 'a) Yes')\n",
      "With Context: A\n",
      "Without Context: A\n",
      "\n",
      "Question 14: Can photodynamic therapy manage wet AMD by reversing drusen accumulation? a) Yes b) No c) Sometimes d) Only early stages\n",
      "Ground Truth: B (from 'b) No')\n",
      "With Context: B\n",
      "Without Context: B\n",
      "\n",
      "Question 15: Does a diet rich in leafy greens reduce AMD risk by repairing choroidal blood vessels? a) Yes b) No c) Partially d) Only with supplements\n",
      "Ground Truth: B (from 'b) No')\n",
      "With Context: A\n",
      "Without Context: C\n",
      "\n",
      "Question 16: Can wet AMD cause legal blindness by impairing retinal pigment epithelial regeneration? a) Yes b) No c) Sometimes d) Only late stages\n",
      "Ground Truth: B (from 'b) No')\n",
      "With Context: A\n",
      "Without Context: A\n",
      "\n",
      "Question 17: Does high cholesterol increase AMD risk by promoting retinal pigment epithelial inflammation? a) Yes b) No c) Only with diabetes d) Only with smoking\n",
      "Ground Truth: A (from 'a) Yes')\n",
      "With Context: A\n",
      "Without Context: A\n",
      "\n",
      "Question 18: Can dry AMD transition to wet AMD due to excessive retinal hypoxia? a) Yes b) No c) Only with drusen d) Only with UV exposure\n",
      "Ground Truth: A (from 'a) Yes')\n",
      "With Context: A\n",
      "Without Context: A\n",
      "\n",
      "Question 19: Does AMD impair depth perception by causing choroidal thinning? a) Yes b) No c) Sometimes d) Only wet AMD\n",
      "Ground Truth: B (from 'b) No')\n",
      "With Context: A\n",
      "Without Context: A\n",
      "\n",
      "Question 20: Can anti-VEGF therapy stabilize wet AMD by reducing subretinal fluid leakage? a) Yes b) No c) Only early stages d) Only with surgery\n",
      "Ground Truth: A (from 'a) Yes')\n",
      "With Context: A\n",
      "Without Context: A\n",
      "\n",
      "Question 21: Does family history increase AMD risk by causing direct retinal thinning? a) Yes b) No c) Sometimes d) Only with smoking\n",
      "Ground Truth: B (from 'b) No')\n",
      "With Context: C\n",
      "Without Context: B\n",
      "\n",
      "Question 22: Can wet AMD distort vision by inducing subretinal hemorrhages? a) Yes b) No c) Only with drusen d) Only with hypertension\n",
      "Ground Truth: A (from 'a) Yes')\n",
      "With Context: A\n",
      "Without Context: A\n",
      "\n",
      "Question 23: Does dry AMD progress slowly because it avoids retinal pigment epithelial repair? a) Yes b) No c) Sometimes d) Only early stages\n",
      "Ground Truth: B (from 'b) No')\n",
      "With Context: A\n",
      "Without Context: A\n",
      "\n",
      "Question 24: Can hypertension exacerbate AMD by causing retinal pigment epithelial detachment? a) Yes b) No c) Only with diabetes d) Only with obesity\n",
      "Ground Truth: B (from 'b) No')\n",
      "With Context: A\n",
      "Without Context: A\n",
      "\n",
      "Question 25: Does smoking worsen AMD by increasing retinal pigment epithelial hypoxia? a) Yes b) No c) Only with UV exposure d) Only with high cholesterol\n",
      "Ground Truth: A (from 'a) Yes')\n",
      "With Context: A\n",
      "Without Context: A\n",
      "\n",
      "Question 26: Can OCT detect early dry AMD by identifying changes in drusen morphology? a) Yes b) No c) Only late stages d) Only with fluid\n",
      "Ground Truth: A (from 'a) Yes')\n",
      "With Context: A\n",
      "Without Context: A\n",
      "\n",
      "Question 27: Does wet AMD treatment with anti-VEGF injections work by reversing choroidal neovascularization? a) Yes b) No c) Partially d) Only early stages\n",
      "Ground Truth: B (from 'b) No')\n",
      "With Context: A\n",
      "Without Context: A\n",
      "\n",
      "Question 28: Can diabetes contribute to AMD by elevating oxidative stress in the retina? a) Yes b) No c) Only with smoking d) Only with hypertension\n",
      "Ground Truth: A (from 'a) Yes')\n",
      "With Context: A\n",
      "Without Context: A\n",
      "\n",
      "Question 29: Does dry AMD progress to geographic atrophy by causing retinal pigment epithelial hemorrhages? a) Yes b) No c) Sometimes d) Only late stages\n",
      "Ground Truth: B (from 'b) No')\n",
      "With Context: A\n",
      "Without Context: A\n",
      "\n",
      "Question 30: Can AMD increase fall risk by reducing central visual acuity? a) Yes b) No c) Only with wet AMD d) Only with dry AMD\n",
      "Ground Truth: A (from 'a) Yes')\n",
      "With Context: A\n",
      "Without Context: A\n",
      "\n",
      "Question 31: Does UV exposure accelerate AMD by causing immediate retinal pigment epithelial detachment? a) Yes b) No c) Only with smoking d) Only with light eyes\n",
      "Ground Truth: B (from 'b) No')\n",
      "With Context: A\n",
      "Without Context: B\n",
      "\n",
      "Question 32: Can wet AMD cause rapid vision loss by inducing retinal pigment epithelial scarring? a) Yes b) No c) Only with drusen d) Only with hypertension\n",
      "Ground Truth: A (from 'a) Yes')\n",
      "With Context: A\n",
      "Without Context: A\n",
      "\n",
      "Question 33: Does a diet high in antioxidants prevent AMD by reversing retinal hypoxia? a) Yes b) No c) Partially d) Only with supplements\n",
      "Ground Truth: B (from 'b) No')\n",
      "With Context: A\n",
      "Without Context: C\n",
      "\n",
      "Question 34: Can smoking exacerbate wet AMD by increasing choroidal neovascular activity? a) Yes b) No c) Only with UV exposure d) Only with obesity\n",
      "Ground Truth: A (from 'a) Yes')\n",
      "With Context: A\n",
      "Without Context: A\n",
      "\n",
      "Question 35: Does dry AMD affect color perception by causing retinal pigment epithelial regeneration? a) Yes b) No c) Sometimes d) Only late stages\n",
      "Ground Truth: B (from 'b) No')\n",
      "With Context: A\n",
      "Without Context: A\n",
      "\n",
      "Question 36: Can photodynamic therapy treat wet AMD by reducing retinal pigment epithelial edema? a) Yes b) No c) Only early stages d) Only with anti-VEGF\n",
      "Ground Truth: A (from 'a) Yes')\n",
      "With Context: A\n",
      "Without Context: A\n",
      "\n",
      "Question 37: Does obesity increase AMD risk by causing immediate retinal pigment epithelial atrophy? a) Yes b) No c) Sometimes d) Only with diabetes\n",
      "Ground Truth: B (from 'b) No')\n",
      "With Context: B\n",
      "Without Context: B\n",
      "\n",
      "Question 38: Can wet AMD impair reading by causing retinal pigment epithelial detachment? a) Yes b) No c) Only with drusen d) Only with smoking\n",
      "Ground Truth: A (from 'a) Yes')\n",
      "With Context: A\n",
      "Without Context: A\n",
      "\n",
      "Question 39: Does high cholesterol contribute to AMD by increasing retinal pigment epithelial lipid accumulation? a) Yes b) No c) Only with hypertension d) Only with diabetes\n",
      "Ground Truth: A (from 'a) Yes')\n",
      "With Context: A\n",
      "Without Context: A\n",
      "\n",
      "Question 40: Can AREDS supplements reduce AMD progression by fully repairing retinal pigment epithelium? a) Yes b) No c) Partially d) Only with zinc\n",
      "Ground Truth: B (from 'b) No')\n",
      "With Context: C\n",
      "Without Context: D\n",
      "\n",
      "Question 41: Does wet AMD cause blind spots by inducing retinal pigment epithelial regeneration? a) Yes b) No c) Sometimes d) Only late stages\n",
      "Ground Truth: B (from 'b) No')\n",
      "With Context: A\n",
      "Without Context: B\n",
      "\n",
      "Question 42: Can family history increase AMD risk by predisposing to retinal pigment epithelial oxidative stress? a) Yes b) No c) Only with smoking d) Only with UV exposure\n",
      "Ground Truth: A (from 'a) Yes')\n",
      "With Context: A\n",
      "Without Context: A\n",
      "\n",
      "Question 43: Does dry AMD progress to wet AMD due to excessive dietary cholesterol alone? a) Yes b) No c) Sometimes d) Only with obesity\n",
      "Ground Truth: B (from 'b) No')\n",
      "With Context: B\n",
      "Without Context: B\n",
      "\n",
      "Question 44: Can anti-VEGF injections improve wet AMD by reducing retinal pigment epithelial hemorrhages? a) Yes b) No c) Only early stages d) Only with photodynamic therapy\n",
      "Ground Truth: A (from 'a) Yes')\n",
      "With Context: A\n",
      "Without Context: A\n",
      "\n",
      "Question 45: Does UV light increase AMD risk by causing retinal pigment epithelial lipid regeneration? a) Yes b) No c) Sometimes d) Only with light eyes\n",
      "Ground Truth: B (from 'b) No')\n",
      "With Context: A\n",
      "Without Context: A\n",
      "\n",
      "Question 46: Can wet AMD affect face recognition by causing retinal pigment epithelial scarring? a) Yes b) No c) Only with drusen d) Only with smoking\n",
      "Ground Truth: A (from 'a) Yes')\n",
      "With Context: A\n",
      "Without Context: A\n",
      "\n",
      "Question 47: Does hypertension worsen AMD by causing retinal pigment epithelial regeneration? a) Yes b) No c) Only with diabetes d) Only with high cholesterol\n",
      "Ground Truth: B (from 'b) No')\n",
      "With Context: A\n",
      "Without Context: B\n",
      "\n",
      "Question 48: Can smoking exacerbate AMD by increasing retinal pigment epithelial lipid deposits? a) Yes b) No c) Only with obesity d) Only with UV exposure\n",
      "Ground Truth: A (from 'a) Yes')\n",
      "With Context: A\n",
      "Without Context: A\n",
      "\n",
      "Question 49: Does dry AMD cause gradual vision loss by inducing retinal pigment epithelial repair? a) Yes b) No c) Sometimes d) Only late stages\n",
      "Ground Truth: B (from 'b) No')\n",
      "With Context: B\n",
      "Without Context: B\n",
      "\n",
      "Question 50: Can OCT confirm wet AMD by detecting retinal pigment epithelial lipid accumulation? a) Yes b) No c) Only late stages d) Only with drusen\n",
      "Ground Truth: A (from 'a) Yes')\n",
      "With Context: A\n",
      "Without Context: A\n",
      "\n",
      "Question 51: Does diabetes increase AMD risk by causing retinal pigment epithelial hemorrhages? a) Yes b) No c) Only with hypertension d) Only with smoking\n",
      "Ground Truth: B (from 'b) No')\n",
      "With Context: C\n",
      "Without Context: A\n",
      "\n",
      "Question 52: Can wet AMD cause sudden vision changes by inducing retinal pigment epithelial edema? a) Yes b) No c) Only with drusen d) Only with UV exposure\n",
      "Ground Truth: A (from 'a) Yes')\n",
      "With Context: A\n",
      "Without Context: A\n",
      "\n",
      "Question 53: Does family history elevate AMD risk by causing retinal pigment epithelial lipid repair? a) Yes b) No c) Sometimes d) Only with obesity\n",
      "Ground Truth: B (from 'b) No')\n",
      "With Context: B\n",
      "Without Context: A\n",
      "\n",
      "Question 54: Can anti-VEGF therapy stabilize wet AMD by reducing retinal pigment epithelial scarring? a) Yes b) No c) Only early stages d) Only with photodynamic therapy\n",
      "Ground Truth: A (from 'a) Yes')\n",
      "With Context: A\n",
      "Without Context: C\n",
      "\n",
      "Question 55: Does smoking increase dry AMD risk by causing retinal pigment epithelial edema? a) Yes b) No c) Only with UV exposure d) Only with high cholesterol\n",
      "Ground Truth: B (from 'b) No')\n",
      "With Context: A\n",
      "Without Context: A\n",
      "\n",
      "Question 56: Can wet AMD impair driving by inducing retinal pigment epithelial lipid deposits? a) Yes b) No c) Only with drusen d) Only with smoking\n",
      "Ground Truth: A (from 'a) Yes')\n",
      "With Context: A\n",
      "Without Context: A\n",
      "\n",
      "Question 57: Does high cholesterol exacerbate AMD by causing retinal pigment epithelial repair? a) Yes b) No c) Only with diabetes d) Only with hypertension\n",
      "Ground Truth: B (from 'b) No')\n",
      "With Context: A\n",
      "Without Context: A\n",
      "\n",
      "Question 58: Can AREDS supplements mitigate AMD risk by reversing retinal pigment epithelial swelling? a) Yes b) No c) Partially d) Only with zinc\n",
      "Ground Truth: B (from 'b) No')\n",
      "With Context: A\n",
      "Without Context: C\n",
      "\n",
      "Question 59: Does wet AMD cause depth perception issues by inducing retinal pigment epithelial regeneration? a) Yes b) No c) Sometimes d) Only late stages\n",
      "Ground Truth: B (from 'b) No')\n",
      "With Context: A\n",
      "Without Context: A\n",
      "\n",
      "Question 60: Can obesity worsen AMD by increasing retinal pigment epithelial lipid accumulation? a) Yes b) No c) Only with diabetes d) Only with smoking\n",
      "Ground Truth: A (from 'a) Yes')\n",
      "With Context: A\n",
      "Without Context: A\n",
      "\n",
      "Question 61: Does dry AMD progress to geographic atrophy due to retinal pigment epithelial lipid repair? a) Yes b) No c) Sometimes d) Only late stages\n",
      "Ground Truth: B (from 'b) No')\n",
      "With Context: B\n",
      "Without Context: B\n",
      "\n",
      "Question 62: Can photodynamic therapy treat wet AMD by reducing retinal pigment epithelial hypoxia? a) Yes b) No c) Only early stages d) Only with anti-VEGF\n",
      "Ground Truth: A (from 'a) Yes')\n",
      "With Context: A\n",
      "Without Context: A\n",
      "\n",
      "Question 63: Does UV light exposure increase AMD risk by causing retinal pigment epithelial lipid regeneration? a) Yes b) No c) Sometimes d) Only with light eyes\n",
      "Ground Truth: B (from 'b) No')\n",
      "With Context: A\n",
      "Without Context: A\n",
      "\n",
      "Question 64: Can wet AMD cause visual hallucinations by inducing retinal pigment epithelial edema? a) Yes b) No c) Only with drusen d) Only with smoking\n",
      "Ground Truth: A (from 'a) Yes')\n",
      "With Context: A\n",
      "Without Context: A\n",
      "\n",
      "Question 65: Does hypertension contribute to AMD by causing retinal pigment epithelial swelling? a) Yes b) No c) Only with diabetes d) Only with high cholesterol\n",
      "Ground Truth: B (from 'b) No')\n",
      "With Context: A\n",
      "Without Context: B\n",
      "\n",
      "Question 66: Can smoking increase AMD severity by promoting retinal pigment epithelial atrophy? a) Yes b) No c) Only with UV exposure d) Only with obesity\n",
      "Ground Truth: A (from 'a) Yes')\n",
      "With Context: A\n",
      "Without Context: A\n",
      "\n",
      "Question 67: Does dry AMD impair reading by causing retinal pigment epithelial lipid regeneration? a) Yes b) No c) Sometimes d) Only late stages\n",
      "Ground Truth: B (from 'b) No')\n",
      "With Context: A\n",
      "Without Context: C\n",
      "\n",
      "Question 68: Can OCT detect early AMD by visualizing retinal pigment epithelial hypoxia? a) Yes b) No c) Only late stages d) Only with drusen\n",
      "Ground Truth: A (from 'a) Yes')\n",
      "With Context: A\n",
      "Without Context: B\n",
      "\n",
      "Question 69: Does diabetes exacerbate AMD by causing retinal pigment epithelial lipid repair? a) Yes b) No c) Only with hypertension d) Only with smoking\n",
      "Ground Truth: B (from 'b) No')\n",
      "With Context: A\n",
      "Without Context: A\n",
      "\n",
      "Question 70: Can wet AMD cause sudden vision changes by inducing retinal pigment epithelial lipid accumulation? a) Yes b) No c) Only with drusen d) Only with UV exposure\n",
      "Ground Truth: A (from 'a) Yes')\n",
      "With Context: A\n",
      "Without Context: A\n",
      "\n",
      "Question 71: Does family history elevate AMD risk by causing retinal pigment epithelial repair? a) Yes b) No c) Sometimes d) Only with obesity\n",
      "Ground Truth: B (from 'b) No')\n",
      "With Context: A\n",
      "Without Context: A\n",
      "\n",
      "Question 72: Can anti-VEGF therapy improve wet AMD by reducing retinal pigment epithelial lipid deposits? a) Yes b) No c) Only early stages d) Only with photodynamic therapy\n",
      "Ground Truth: A (from 'a) Yes')\n",
      "With Context: A\n",
      "Without Context: A\n",
      "\n",
      "Question 73: Does smoking increase AMD risk by causing retinal pigment epithelial lipid regeneration? a) Yes b) No c) Only with UV exposure d) Only with high cholesterol\n",
      "Ground Truth: B (from 'b) No')\n",
      "With Context: A\n",
      "Without Context: A\n",
      "\n",
      "Question 74: Can wet AMD impair driving by inducing retinal pigment epithelial edema? a) Yes b) No c) Only with drusen d) Only with smoking\n",
      "Ground Truth: A (from 'a) Yes')\n",
      "With Context: A\n",
      "Without Context: A\n",
      "\n",
      "Question 75: Does high cholesterol exacerbate AMD by causing retinal pigment epithelial lipid repair? a) Yes b) No c) Only with diabetes d) Only with hypertension\n",
      "Ground Truth: B (from 'b) No')\n",
      "With Context: A\n",
      "Without Context: A\n",
      "\n",
      "Question 76: Can AREDS supplements mitigate AMD risk by reversing retinal pigment epithelial lipid accumulation? a) Yes b) No c) Partially d) Only with zinc\n",
      "Ground Truth: B (from 'b) No')\n",
      "With Context: A\n",
      "Without Context: C\n",
      "\n",
      "Question 77: Does wet AMD cause depth perception issues by inducing retinal pigment epithelial lipid regeneration? a) Yes b) No c) Sometimes d) Only late stages\n",
      "Ground Truth: B (from 'b) No')\n",
      "With Context: A\n",
      "Without Context: A\n",
      "\n",
      "Question 78: Can obesity worsen AMD by increasing retinal pigment epithelial scarring? a) Yes b) No c) Only with diabetes d) Only with smoking\n",
      "Ground Truth: A (from 'a) Yes')\n",
      "With Context: A\n",
      "Without Context: A\n",
      "\n",
      "Question 79: Does dry AMD progress to geographic atrophy due to retinal pigment epithelial edema? a) Yes b) No c) Sometimes d) Only late stages\n",
      "Ground Truth: B (from 'b) No')\n",
      "With Context: A\n",
      "Without Context: A\n",
      "\n",
      "Question 80: Can photodynamic therapy treat wet AMD by reducing retinal pigment epithelial lipid deposits? a) Yes b) No c) Only early stages d) Only with anti-VEGF\n",
      "Ground Truth: A (from 'a) Yes')\n",
      "With Context: A\n",
      "Without Context: C\n",
      "\n",
      "Question 81: Does UV light exposure increase AMD risk by causing retinal pigment epithelial lipid repair? a) Yes b) No c) Sometimes d) Only with light eyes\n",
      "Ground Truth: B (from 'b) No')\n",
      "With Context: A\n",
      "Without Context: A\n",
      "\n",
      "Question 82: Can wet AMD cause visual hallucinations by inducing retinal pigment epithelial lipid accumulation? a) Yes b) No c) Only with drusen d) Only with smoking\n",
      "Ground Truth: A (from 'a) Yes')\n",
      "With Context: A\n",
      "Without Context: A\n",
      "\n",
      "Question 83: Does hypertension contribute to AMD by causing retinal pigment epithelial lipid regeneration? a) Yes b) No c) Only with diabetes d) Only with high cholesterol\n",
      "Ground Truth: B (from 'b) No')\n",
      "With Context: B\n",
      "Without Context: A\n",
      "\n",
      "Question 84: Can smoking increase AMD severity by promoting retinal pigment epithelial edema? a) Yes b) No c) Only with UV exposure d) Only with obesity\n",
      "Ground Truth: A (from 'a) Yes')\n",
      "With Context: A\n",
      "Without Context: A\n",
      "\n",
      "Question 85: Does dry AMD impair reading by causing retinal pigment epithelial lipid deposits? a) Yes b) No c) Sometimes d) Only late stages\n",
      "Ground Truth: A (from 'a) Yes')\n",
      "With Context: A\n",
      "Without Context: B\n",
      "\n",
      "Question 86: Can OCT diagnose wet AMD by detecting retinal pigment epithelial edema? a) Yes b) No c) Only late stages d) Only with drusen\n",
      "Ground Truth: A (from 'a) Yes')\n",
      "With Context: A\n",
      "Without Context: B\n",
      "\n",
      "Question 87: Does diabetes increase AMD risk by causing retinal pigment epithelial lipid regeneration? a) Yes b) No c) Only with hypertension d) Only with smoking\n",
      "Ground Truth: B (from 'b) No')\n",
      "With Context: A\n",
      "Without Context: A\n",
      "\n",
      "Question 88: Can wet AMD cause sudden vision changes by inducing retinal pigment epithelial scarring? a) Yes b) No c) Only with drusen d) Only with UV exposure\n",
      "Ground Truth: A (from 'a) Yes')\n",
      "With Context: A\n",
      "Without Context: A\n",
      "\n",
      "Question 89: Does family history elevate AMD risk by causing retinal pigment epithelial lipid regeneration? a) Yes b) No c) Sometimes d) Only with obesity\n",
      "Ground Truth: B (from 'b) No')\n",
      "With Context: A\n",
      "Without Context: A\n",
      "\n",
      "Question 90: Can anti-VEGF therapy improve wet AMD by reducing retinal pigment epithelial lipid accumulation? a) Yes b) No c) Only early stages d) Only with photodynamic therapy\n",
      "Ground Truth: A (from 'a) Yes')\n",
      "With Context: A\n",
      "Without Context: A\n",
      "\n",
      "Question 91: Does smoking increase AMD risk by causing retinal pigment epithelial lipid repair? a) Yes b) No c) Only with UV exposure d) Only with high cholesterol\n",
      "Ground Truth: B (from 'b) No')\n",
      "With Context: A\n",
      "Without Context: A\n",
      "\n",
      "Question 92: Does smoking exacerbate wet AMD by increasing choroidal neovascularization? a) Yes b) No c) Only with UV exposure d) Only with obesity\n",
      "Ground Truth: A (from 'a) Yes')\n",
      "With Context: A\n",
      "Without Context: A\n",
      "\n",
      "Question 93: Can dry AMD progress to wet AMD due to excessive retinal pigment epithelial lipid deposits? a) Yes b) No c) Only with smoking d) Only with diabetes\n",
      "Ground Truth: A (from 'a) Yes')\n",
      "With Context: A\n",
      "Without Context: A\n",
      "\n",
      "Question 94: Does family history increase AMD risk by predisposing to retinal pigment epithelial atrophy? a) Yes b) No c) Only in women d) Only with hypertension\n",
      "Ground Truth: A (from 'a) Yes')\n",
      "With Context: A\n",
      "Without Context: A\n",
      "\n",
      "Question 95: Can anti-VEGF injections treat wet AMD by reversing retinal pigment epithelial damage? a) Yes b) No c) Partially d) Only early stages\n",
      "Ground Truth: B (from 'b) No')\n",
      "With Context: B\n",
      "Without Context: B\n",
      "\n",
      "Question 96: Does high blood pressure worsen AMD by causing retinal pigment epithelial hemorrhages? a) Yes b) No c) Only with diabetes d) Only with smoking\n",
      "Ground Truth: B (from 'b) No')\n",
      "With Context: A\n",
      "Without Context: A\n",
      "\n",
      "Question 97: Can the Amsler grid detect wet AMD by assessing retinal pigment epithelial lipid changes? a) Yes b) No c) Sometimes d) Only late stages\n",
      "Ground Truth: B (from 'b) No')\n",
      "With Context: A\n",
      "Without Context: B\n",
      "\n",
      "Question 98: Does UV light exposure accelerate AMD by causing retinal pigment epithelial swelling? a) Yes b) No c) Only with light eyes d) Only with smoking\n",
      "Ground Truth: B (from 'b) No')\n",
      "With Context: A\n",
      "Without Context: A\n",
      "\n",
      "Question 99: Can AREDS supplements slow dry AMD by repairing retinal pigment epithelial lipid accumulation? a) Yes b) No c) Partially d) Only with zinc\n",
      "Ground Truth: B (from 'b) No')\n",
      "With Context: A\n",
      "Without Context: A\n",
      "\n",
      "Question 100: Does obesity heighten AMD risk by promoting retinal pigment epithelial scarring? a) Yes b) No c) Only with diabetes d) Only with hypertension\n",
      "Ground Truth: A (from 'a) Yes')\n",
      "With Context: A\n",
      "Without Context: A\n",
      "\n",
      "Question 101: Can wet AMD cause sudden vision loss by inducing retinal pigment epithelial detachment? a) Yes b) No c) Only with drusen d) Only with UV exposure\n",
      "Ground Truth: A (from 'a) Yes')\n",
      "With Context: A\n",
      "Without Context: A\n",
      "\n",
      "Question 102: Does diabetes increase AMD risk by causing retinal pigment epithelial regeneration? a) Yes b) No c) Only with smoking d) Only with obesity\n",
      "Ground Truth: B (from 'b) No')\n",
      "With Context: A\n",
      "Without Context: B\n",
      "\n",
      "Question 103: Can OCT diagnose wet AMD by visualizing subretinal fluid leakage? a) Yes b) No c) Only late stages d) Only with drusen\n",
      "Ground Truth: A (from 'a) Yes')\n",
      "With Context: A\n",
      "Without Context: A\n",
      "\n",
      "Question 104: Does smoking worsen dry AMD by increasing retinal pigment epithelial oxidative stress? a) Yes b) No c) Only with UV exposure d) Only with high cholesterol\n",
      "Ground Truth: A (from 'a) Yes')\n",
      "With Context: A\n",
      "Without Context: A\n",
      "\n",
      "Question 105: Can photodynamic therapy manage wet AMD by reversing retinal pigment epithelial atrophy? a) Yes b) No c) Sometimes d) Only early stages\n",
      "Ground Truth: B (from 'b) No')\n",
      "With Context: A\n",
      "Without Context: B\n",
      "\n",
      "Question 106: Does a diet high in leafy greens reduce AMD progression by eliminating retinal pigment epithelial lipid deposits? a) Yes b) No c) Partially d) Only with supplements\n",
      "Ground Truth: B (from 'b) No')\n",
      "With Context: A\n",
      "Without Context: A\n",
      "\n",
      "Question 107: Can wet AMD lead to legal blindness by causing retinal pigment epithelial repair? a) Yes b) No c) Sometimes d) Only late stages\n",
      "Ground Truth: B (from 'b) No')\n",
      "With Context: A\n",
      "Without Context: A\n",
      "\n",
      "Question 108: Does high cholesterol increase AMD risk by causing retinal pigment epithelial lipid accumulation? a) Yes b) No c) Only with diabetes d) Only with smoking\n",
      "Ground Truth: A (from 'a) Yes')\n",
      "With Context: A\n",
      "Without Context: A\n",
      "\n",
      "Question 109: Can dry AMD transition to wet AMD due to excessive choroidal neovascular activity? a) Yes b) No c) Only with drusen d) Only with UV exposure\n",
      "Ground Truth: A (from 'a) Yes')\n",
      "With Context: A\n",
      "Without Context: A\n",
      "\n",
      "Question 110: Does AMD impair color perception by inducing retinal pigment epithelial regeneration? a) Yes b) No c) Sometimes d) Only wet AMD\n",
      "Ground Truth: B (from 'b) No')\n",
      "With Context: A\n",
      "Without Context: A\n",
      "\n",
      "Question 111: Can anti-VEGF therapy stabilize wet AMD by reducing retinal pigment epithelial edema? a) Yes b) No c) Only early stages d) Only with surgery\n",
      "Ground Truth: A (from 'a) Yes')\n",
      "With Context: A\n",
      "Without Context: A\n",
      "\n",
      "Question 112: Does family history increase AMD risk by causing retinal pigment epithelial hemorrhages? a) Yes b) No c) Sometimes d) Only with smoking\n",
      "Ground Truth: B (from 'b) No')\n",
      "With Context: A\n",
      "Without Context: A\n",
      "\n",
      "Question 113: Can wet AMD distort vision by causing retinal pigment epithelial lipid accumulation? a) Yes b) No c) Only with drusen d) Only with hypertension\n",
      "Ground Truth: A (from 'a) Yes')\n",
      "With Context: A\n",
      "Without Context: A\n",
      "\n",
      "Question 114: Does dry AMD progress slowly because it avoids retinal pigment epithelial swelling? a) Yes b) No c) Sometimes d) Only early stages\n",
      "Ground Truth: B (from 'b) No')\n",
      "With Context: A\n",
      "Without Context: A\n",
      "\n",
      "Question 115: Can high blood pressure exacerbate AMD by causing retinal pigment epithelial lipid repair? a) Yes b) No c) Only with diabetes d) Only with obesity\n",
      "Ground Truth: B (from 'b) No')\n",
      "With Context: A\n",
      "Without Context: A\n",
      "\n",
      "Question 116: Does smoking worsen AMD by increasing retinal pigment epithelial scarring? a) Yes b) No c) Only with UV exposure d) Only with high cholesterol\n",
      "Ground Truth: A (from 'a) Yes')\n",
      "With Context: A\n",
      "Without Context: A\n",
      "\n",
      "Question 117: Can OCT detect early dry AMD by identifying retinal pigment epithelial thinning? a) Yes b) No c) Only late stages d) Only with fluid\n",
      "Ground Truth: A (from 'a) Yes')\n",
      "With Context: A\n",
      "Without Context: A\n",
      "\n",
      "Question 118: Does wet AMD treatment with anti-VEGF injections work by reversing retinal pigment epithelial lipid deposits? a) Yes b) No c) Partially d) Only early stages\n",
      "Ground Truth: B (from 'b) No')\n",
      "With Context: B\n",
      "Without Context: B\n",
      "\n",
      "Question 119: Can diabetes contribute to AMD by increasing retinal pigment epithelial inflammation? a) Yes b) No c) Only with smoking d) Only with hypertension\n",
      "Ground Truth: A (from 'a) Yes')\n",
      "With Context: A\n",
      "Without Context: A\n",
      "\n",
      "Question 120: Does dry AMD progress to geographic atrophy by causing retinal pigment epithelial regeneration? a) Yes b) No c) Sometimes d) Only late stages\n",
      "Ground Truth: B (from 'b) No')\n",
      "With Context: B\n",
      "Without Context: B\n",
      "\n",
      "Question 121: Can AMD increase fall risk by impairing retinal pigment epithelial function? a) Yes b) No c) Only with wet AMD d) Only with dry AMD\n",
      "Ground Truth: A (from 'a) Yes')\n",
      "With Context: A\n",
      "Without Context: A\n",
      "\n",
      "Question 122: Does UV exposure accelerate AMD by causing retinal pigment epithelial hemorrhages? a) Yes b) No c) Only with smoking d) Only with light eyes\n",
      "Ground Truth: B (from 'b) No')\n",
      "With Context: A\n",
      "Without Context: A\n",
      "\n",
      "Question 123: Can wet AMD cause rapid vision loss by inducing retinal pigment epithelial atrophy? a) Yes b) No c) Only with drusen d) Only with hypertension\n",
      "Ground Truth: A (from 'a) Yes')\n",
      "With Context: A\n",
      "Without Context: A\n",
      "\n",
      "Question 124: Does a diet high in antioxidants prevent AMD by reversing retinal pigment epithelial swelling? a) Yes b) No c) Partially d) Only with supplements\n",
      "Ground Truth: B (from 'b) No')\n",
      "With Context: B\n",
      "Without Context: C\n",
      "\n",
      "Question 125: Can smoking exacerbate wet AMD by increasing retinal pigment epithelial lipid deposits? a) Yes b) No c) Only with UV exposure d) Only with obesity\n",
      "Ground Truth: A (from 'a) Yes')\n",
      "With Context: A\n",
      "Without Context: A\n",
      "\n",
      "Question 126: Does dry AMD affect color perception by causing retinal pigment epithelial lipid repair? a) Yes b) No c) Sometimes d) Only late stages\n",
      "Ground Truth: B (from 'b) No')\n",
      "With Context: B\n",
      "Without Context: A\n",
      "\n",
      "Question 127: Can photodynamic therapy treat wet AMD by reducing retinal pigment epithelial scarring? a) Yes b) No c) Only early stages d) Only with anti-VEGF\n",
      "Ground Truth: A (from 'a) Yes')\n",
      "With Context: A\n",
      "Without Context: C\n",
      "\n",
      "Question 128: Does obesity increase AMD risk by causing retinal pigment epithelial lipid regeneration? a) Yes b) No c) Sometimes d) Only with diabetes\n",
      "Ground Truth: B (from 'b) No')\n",
      "With Context: A\n",
      "Without Context: A\n",
      "\n",
      "Question 129: Can wet AMD impair reading by causing retinal pigment epithelial edema? a) Yes b) No c) Only with drusen d) Only with smoking\n",
      "Ground Truth: A (from 'a) Yes')\n",
      "With Context: A\n",
      "Without Context: A\n",
      "\n",
      "Question 130: Does high cholesterol contribute to AMD by increasing retinal pigment epithelial repair? a) Yes b) No c) Only with hypertension d) Only with diabetes\n",
      "Ground Truth: B (from 'b) No')\n",
      "With Context: A\n",
      "Without Context: B\n",
      "\n",
      "Question 131: Can AREDS supplements reduce AMD progression by reversing retinal pigment epithelial hemorrhages? a) Yes b) No c) Partially d) Only with zinc\n",
      "Ground Truth: B (from 'b) No')\n",
      "With Context: A\n",
      "Without Context: B\n",
      "\n",
      "Question 132: Does wet AMD cause blind spots by inducing retinal pigment epithelial lipid regeneration? a) Yes b) No c) Sometimes d) Only late stages\n",
      "Ground Truth: B (from 'b) No')\n",
      "With Context: A\n",
      "Without Context: A\n",
      "\n",
      "Question 133: Can family history increase AMD risk by predisposing to retinal pigment epithelial scarring? a) Yes b) No c) Only with smoking d) Only with UV exposure\n",
      "Ground Truth: A (from 'a) Yes')\n",
      "With Context: A\n",
      "Without Context: A\n",
      "\n",
      "Question 134: Does dry AMD progress to wet AMD due to excessive retinal pigment epithelial lipid repair? a) Yes b) No c) Sometimes d) Only with obesity\n",
      "Ground Truth: B (from 'b) No')\n",
      "With Context: A\n",
      "Without Context: B\n",
      "\n",
      "Question 135: Can anti-VEGF injections improve wet AMD by reducing retinal pigment epithelial atrophy? a) Yes b) No c) Only early stages d) Only with photodynamic therapy\n",
      "Ground Truth: A (from 'a) Yes')\n",
      "With Context: A\n",
      "Without Context: A\n",
      "\n",
      "Question 136: Does UV light increase AMD risk by causing retinal pigment epithelial lipid hemorrhages? a) Yes b) No c) Sometimes d) Only with light eyes\n",
      "Ground Truth: B (from 'b) No')\n",
      "With Context: A\n",
      "Without Context: A\n",
      "\n",
      "Question 137: Can wet AMD affect face recognition by causing retinal pigment epithelial lipid deposits? a) Yes b) No c) Only with drusen d) Only with smoking\n",
      "Ground Truth: A (from 'a) Yes')\n",
      "With Context: A\n",
      "Without Context: A\n",
      "\n",
      "Question 138: Does hypertension worsen AMD by causing retinal pigment epithelial lipid regeneration? a) Yes b) No c) Only with diabetes d) Only with high cholesterol\n",
      "Ground Truth: B (from 'b) No')\n",
      "With Context: B\n",
      "Without Context: C\n",
      "\n",
      "Question 139: Can smoking exacerbate AMD by increasing retinal pigment epithelial atrophy? a) Yes b) No c) Only with UV exposure d) Only with obesity\n",
      "Ground Truth: A (from 'a) Yes')\n",
      "With Context: A\n",
      "Without Context: A\n",
      "\n",
      "Question 140: Does dry AMD cause gradual vision loss by inducing retinal pigment epithelial lipid deposits? a) Yes b) No c) Sometimes d) Only late stages\n",
      "Ground Truth: A (from 'a) Yes')\n",
      "With Context: A\n",
      "Without Context: A\n",
      "\n",
      "Question 141: Can OCT confirm wet AMD by detecting retinal pigment epithelial scarring? a) Yes b) No c) Only late stages d) Only with drusen\n",
      "Ground Truth: A (from 'a) Yes')\n",
      "With Context: A\n",
      "Without Context: C\n",
      "\n",
      "Question 142: Can wet AMD cause sudden vision changes by inducing retinal pigment epithelial lipid deposits? a) Yes b) No c) Only with drusen d) Only with UV exposure\n",
      "Ground Truth: A (from 'a) Yes')\n",
      "With Context: A\n",
      "Without Context: A\n",
      "\n",
      "Question 143: Can anti-VEGF therapy stabilize wet AMD by reducing retinal pigment epithelial lipid accumulation? a) Yes b) No c) Only early stages d) Only with photodynamic therapy\n",
      "Ground Truth: A (from 'a) Yes')\n",
      "With Context: A\n",
      "Without Context: A\n",
      "\n",
      "Question 144: Does smoking increase dry AMD risk by causing retinal pigment epithelial lipid regeneration? a) Yes b) No c) Only with UV exposure d) Only with high cholesterol\n",
      "Ground Truth: B (from 'b) No')\n",
      "With Context: A\n",
      "Without Context: A\n",
      "\n",
      "Question 145: Can wet AMD impair driving by causing retinal pigment epithelial atrophy? a) Yes b) No c) Only with drusen d) Only with smoking\n",
      "Ground Truth: A (from 'a) Yes')\n",
      "With Context: A\n",
      "Without Context: A\n",
      "\n",
      "Question 146: Does high cholesterol exacerbate AMD by causing retinal pigment epithelial lipid regeneration? a) Yes b) No c) Only with diabetes d) Only with hypertension\n",
      "Ground Truth: B (from 'b) No')\n",
      "With Context: A\n",
      "Without Context: A\n",
      "\n",
      "Question 147: Can AREDS supplements mitigate AMD risk by reversing retinal pigment epithelial lipid deposits? a) Yes b) No c) Partially d) Only with zinc\n",
      "Ground Truth: B (from 'b) No')\n",
      "With Context: A\n",
      "Without Context: B\n",
      "\n",
      "Question 148: Does wet AMD cause depth perception issues by inducing retinal pigment epithelial lipid repair? a) Yes b) No c) Sometimes d) Only late stages\n",
      "Ground Truth: B (from 'b) No')\n",
      "With Context: A\n",
      "Without Context: A\n",
      "\n",
      "Question 149: Can obesity worsen AMD by increasing retinal pigment epithelial edema? a) Yes b) No c) Only with diabetes d) Only with smoking\n",
      "Ground Truth: A (from 'a) Yes')\n",
      "With Context: A\n",
      "Without Context: A\n",
      "\n",
      "Question 150: Does dry AMD progress to geographic atrophy due to retinal pigment epithelial lipid regeneration? a) Yes b) No c) Sometimes d) Only late stages\n",
      "Ground Truth: B (from 'b) No')\n",
      "With Context: C\n",
      "Without Context: B\n",
      "\n",
      "Question 151: Can photodynamic therapy treat wet AMD by reducing retinal pigment epithelial lipid accumulation? a) Yes b) No c) Only early stages d) Only with anti-VEGF\n",
      "Ground Truth: A (from 'a) Yes')\n",
      "With Context: A\n",
      "Without Context: C\n",
      "\n",
      "Question 152: Can wet AMD cause visual hallucinations by causing retinal pigment epithelial atrophy? a) Yes b) No c) Only with drusen d) Only with smoking\n",
      "Ground Truth: A (from 'a) Yes')\n",
      "With Context: A\n",
      "Without Context: A\n",
      "\n",
      "Question 153: Can smoking increase AMD severity by promoting retinal pigment epithelial lipid deposits? a) Yes b) No c) Only with UV exposure d) Only with obesity\n",
      "Ground Truth: A (from 'a) Yes')\n",
      "With Context: A\n",
      "Without Context: A\n",
      "\n",
      "Question 154: Can OCT detect early AMD by visualizing retinal pigment epithelial lipid accumulation? a) Yes b) No c) Only late stages d) Only with drusen\n",
      "Ground Truth: A (from 'a) Yes')\n",
      "With Context: A\n",
      "Without Context: A\n",
      "\n",
      "Question 155: Does smoking increase AMD risk by enhancing retinal pigment epithelial inflammation? a) Yes b) No c) Only with UV exposure d) Only with obesity\n",
      "Ground Truth: A (from 'a) Yes')\n",
      "With Context: A\n",
      "Without Context: A\n",
      "\n",
      "Question 156: Can dry AMD progress to wet AMD due to excessive retinal pigment epithelial repair alone? a) Yes b) No c) Only with smoking d) Only with diabetes\n",
      "Ground Truth: B (from 'b) No')\n",
      "With Context: A\n",
      "Without Context: A\n",
      "\n",
      "Question 157: Does family history elevate AMD risk by increasing retinal pigment epithelial susceptibility to oxidative stress? a) Yes b) No c) Only in men d) Only with hypertension\n",
      "Ground Truth: A (from 'a) Yes')\n",
      "With Context: A\n",
      "Without Context: A\n",
      "\n",
      "Question 158: Can anti-VEGF injections treat wet AMD by reversing retinal pigment epithelial lipid accumulation? a) Yes b) No c) Partially d) Only early stages\n",
      "Ground Truth: B (from 'b) No')\n",
      "With Context: A\n",
      "Without Context: B\n",
      "\n",
      "Question 159: Does hypertension worsen AMD by causing retinal pigment epithelial swelling? a) Yes b) No c) Only with diabetes d) Only with smoking\n",
      "Ground Truth: B (from 'b) No')\n",
      "With Context: B\n",
      "Without Context: C\n",
      "\n",
      "Question 160: Can the Amsler grid detect wet AMD by measuring retinal pigment epithelial regeneration? a) Yes b) No c) Sometimes d) Only late stages\n",
      "Ground Truth: B (from 'b) No')\n",
      "With Context: B\n",
      "Without Context: B\n",
      "\n",
      "Question 161: Does UV light exposure accelerate AMD by causing retinal pigment epithelial lipid deposits? a) Yes b) No c) Only with light eyes d) Only with smoking\n",
      "Ground Truth: B (from 'b) No')\n",
      "With Context: A\n",
      "Without Context: A\n",
      "\n",
      "Question 162: Can AREDS supplements slow dry AMD by regenerating retinal pigment epithelial cells? a) Yes b) No c) Partially d) Only with zinc\n",
      "Ground Truth: B (from 'b) No')\n",
      "With Context: A\n",
      "Without Context: A\n",
      "\n",
      "Question 163: Does obesity heighten AMD risk by promoting retinal pigment epithelial hypoxia? a) Yes b) No c) Only with diabetes d) Only with hypertension\n",
      "Ground Truth: A (from 'a) Yes')\n",
      "With Context: A\n",
      "Without Context: A\n",
      "\n",
      "Question 164: Can wet AMD cause sudden vision loss by inducing retinal pigment epithelial hemorrhages? a) Yes b) No c) Only with drusen d) Only with UV exposure\n",
      "Ground Truth: A (from 'a) Yes')\n",
      "With Context: A\n",
      "Without Context: A\n",
      "\n",
      "Question 165: Does diabetes increase AMD risk by causing retinal pigment epithelial lipid repair? a) Yes b) No c) Only with smoking d) Only with obesity\n",
      "Ground Truth: B (from 'b) No')\n",
      "With Context: A\n",
      "Without Context: A\n",
      "\n",
      "Question 166: Does smoking worsen dry AMD by increasing retinal pigment epithelial lipid accumulation? a) Yes b) No c) Only with UV exposure d) Only with high cholesterol\n",
      "Ground Truth: A (from 'a) Yes')\n",
      "With Context: A\n",
      "Without Context: A\n",
      "\n",
      "Question 167: Can photodynamic therapy manage wet AMD by reversing retinal pigment epithelial lipid deposits? a) Yes b) No c) Sometimes d) Only early stages\n",
      "Ground Truth: B (from 'b) No')\n",
      "With Context: A\n",
      "Without Context: B\n",
      "\n",
      "Question 168: Does a diet high in leafy greens reduce AMD progression by repairing retinal pigment epithelial hypoxia? a) Yes b) No c) Partially d) Only with supplements\n",
      "Ground Truth: B (from 'b) No')\n",
      "With Context: A\n",
      "Without Context: A\n",
      "\n",
      "Question 169: Can wet AMD lead to legal blindness by causing retinal pigment epithelial regeneration? a) Yes b) No c) Sometimes d) Only late stages\n",
      "Ground Truth: B (from 'b) No')\n",
      "With Context: B\n",
      "Without Context: A\n",
      "\n",
      "Question 170: Can dry AMD transition to wet AMD due to retinal pigment epithelial hypoxia? a) Yes b) No c) Only with drusen d) Only with UV exposure\n",
      "Ground Truth: A (from 'a) Yes')\n",
      "With Context: A\n",
      "Without Context: A\n",
      "\n",
      "Question 171: Does AMD impair color perception by causing retinal pigment epithelial repair? a) Yes b) No c) Sometimes d) Only wet AMD\n",
      "Ground Truth: B (from 'b) No')\n",
      "With Context: C\n",
      "Without Context: C\n",
      "\n",
      "Question 172: Can anti-VEGF therapy stabilize wet AMD by reducing retinal pigment epithelial fluid leakage? a) Yes b) No c) Only early stages d) Only with surgery\n",
      "Ground Truth: A (from 'a) Yes')\n",
      "With Context: A\n",
      "Without Context: A\n",
      "\n",
      "Question 173: Does family history increase AMD risk by causing retinal pigment epithelial edema? a) Yes b) No c) Sometimes d) Only with smoking\n",
      "Ground Truth: B (from 'b) No')\n",
      "With Context: A\n",
      "Without Context: A\n",
      "\n",
      "Question 174: Can wet AMD distort vision by inducing retinal pigment epithelial scarring? a) Yes b) No c) Only with drusen d) Only with hypertension\n",
      "Ground Truth: A (from 'a) Yes')\n",
      "With Context: A\n",
      "Without Context: A\n",
      "\n",
      "Question 175: Does dry AMD progress slowly because it avoids retinal pigment epithelial regeneration? a) Yes b) No c) Sometimes d) Only early stages\n",
      "Ground Truth: B (from 'b) No')\n",
      "With Context: A\n",
      "Without Context: A\n",
      "\n",
      "Question 176: Can hypertension exacerbate AMD by causing retinal pigment epithelial lipid accumulation? a) Yes b) No c) Only with diabetes d) Only with obesity\n",
      "Ground Truth: B (from 'b) No')\n",
      "With Context: A\n",
      "Without Context: A\n",
      "\n",
      "Question 177: Does smoking worsen AMD by promoting retinal pigment epithelial edema? a) Yes b) No c) Only with UV exposure d) Only with high cholesterol\n",
      "Ground Truth: A (from 'a) Yes')\n",
      "With Context: A\n",
      "Without Context: A\n",
      "\n",
      "Question 178: Can OCT detect early dry AMD by visualizing retinal pigment epithelial atrophy? a) Yes b) No c) Only late stages d) Only with fluid\n",
      "Ground Truth: A (from 'a) Yes')\n",
      "With Context: A\n",
      "Without Context: A\n",
      "\n",
      "Question 179: Does wet AMD treatment with anti-VEGF injections work by reversing retinal pigment epithelial hypoxia? a) Yes b) No c) Partially d) Only early stages\n",
      "Ground Truth: B (from 'b) No')\n",
      "With Context: C\n",
      "Without Context: C\n",
      "\n",
      "Question 180: Can diabetes contribute to AMD by increasing retinal pigment epithelial lipid deposits? a) Yes b) No c) Only with smoking d) Only with hypertension\n",
      "Ground Truth: A (from 'a) Yes')\n",
      "With Context: A\n",
      "Without Context: A\n",
      "\n",
      "Question 181: Does dry AMD progress to geographic atrophy by causing retinal pigment epithelial swelling? a) Yes b) No c) Sometimes d) Only late stages\n",
      "Ground Truth: B (from 'b) No')\n",
      "With Context: A\n",
      "Without Context: A\n",
      "\n",
      "Question 182: Can AMD increase fall risk by impairing retinal pigment epithelial acuity? a) Yes b) No c) Only with wet AMD d) Only with dry AMD\n",
      "Ground Truth: A (from 'a) Yes')\n",
      "With Context: A\n",
      "Without Context: C\n",
      "\n",
      "Question 183: Does UV exposure accelerate AMD by causing retinal pigment epithelial regeneration? a) Yes b) No c) Only with smoking d) Only with light eyes\n",
      "Ground Truth: B (from 'b) No')\n",
      "With Context: C\n",
      "Without Context: A\n",
      "\n",
      "Question 184: Can wet AMD cause rapid vision loss by inducing retinal pigment epithelial lipid accumulation? a) Yes b) No c) Only with drusen d) Only with hypertension\n",
      "Ground Truth: A (from 'a) Yes')\n",
      "With Context: A\n",
      "Without Context: A\n",
      "\n",
      "Question 185: Does a diet high in antioxidants prevent AMD by reversing retinal pigment epithelial lipid deposits? a) Yes b) No c) Partially d) Only with supplements\n",
      "Ground Truth: B (from 'b) No')\n",
      "With Context: C\n",
      "Without Context: C\n",
      "\n",
      "Question 186: Can smoking exacerbate wet AMD by increasing retinal pigment epithelial scarring? a) Yes b) No c) Only with UV exposure d) Only with obesity\n",
      "Ground Truth: A (from 'a) Yes')\n",
      "With Context: A\n",
      "Without Context: A\n",
      "\n",
      "Question 187: Does dry AMD affect color perception by causing retinal pigment epithelial hemorrhages? a) Yes b) No c) Sometimes d) Only late stages\n",
      "Ground Truth: B (from 'b) No')\n",
      "With Context: A\n",
      "Without Context: A\n",
      "\n",
      "Question 188: Can photodynamic therapy manage wet AMD by reducing retinal pigment epithelial lipid deposits? a) Yes b) No c) Only early stages d) Only with anti-VEGF\n",
      "Ground Truth: A (from 'a) Yes')\n",
      "With Context: A\n",
      "Without Context: B\n",
      "\n",
      "Question 189: Does obesity increase AMD risk by causing retinal pigment epithelial repair? a) Yes b) No c) Sometimes d) Only with diabetes\n",
      "Ground Truth: B (from 'b) No')\n",
      "With Context: A\n",
      "Without Context: C\n",
      "\n",
      "Question 190: Can wet AMD impair reading by causing retinal pigment epithelial lipid accumulation? a) Yes b) No c) Only with drusen d) Only with smoking\n",
      "Ground Truth: A (from 'a) Yes')\n",
      "With Context: A\n",
      "Without Context: A\n",
      "\n",
      "Question 191: Does high cholesterol contribute to AMD by causing retinal pigment epithelial edema? a) Yes b) No c) Only with hypertension d) Only with diabetes\n",
      "Ground Truth: B (from 'b) No')\n",
      "With Context: A\n",
      "Without Context: A\n",
      "\n",
      "Question 192: Can AREDS supplements reduce AMD progression by reversing retinal pigment epithelial lipid accumulation? a) Yes b) No c) Partially d) Only with zinc\n",
      "Ground Truth: B (from 'b) No')\n",
      "With Context: C\n",
      "Without Context: A\n",
      "\n",
      "Question 193: Does wet AMD cause blind spots by inducing retinal pigment epithelial swelling? a) Yes b) No c) Sometimes d) Only late stages\n",
      "Ground Truth: A (from 'a) Yes')\n",
      "With Context: A\n",
      "Without Context: A\n",
      "\n",
      "Question 194: Can family history increase AMD risk by predisposing to retinal pigment epithelial lipid accumulation? a) Yes b) No c) Only with smoking d) Only with UV exposure\n",
      "Ground Truth: A (from 'a) Yes')\n",
      "With Context: A\n",
      "Without Context: A\n",
      "\n",
      "Question 195: Does dry AMD progress to wet AMD due to excessive retinal pigment epithelial lipid regeneration? a) Yes b) No c) Sometimes d) Only with obesity\n",
      "Ground Truth: B (from 'b) No')\n",
      "With Context: A\n",
      "Without Context: A\n",
      "\n",
      "Question 196: Does UV light increase AMD risk by causing retinal pigment epithelial lipid repair? a) Yes b) No c) Sometimes d) Only with light eyes\n",
      "Ground Truth: B (from 'b) No')\n",
      "With Context: A\n",
      "Without Context: B\n",
      "\n",
      "Question 197: Can wet AMD affect face recognition by causing retinal pigment epithelial edema? a) Yes b) No c) Only with drusen d) Only with smoking\n",
      "Ground Truth: A (from 'a) Yes')\n",
      "With Context: A\n",
      "Without Context: A\n",
      "\n",
      "Question 198: Does hypertension worsen AMD by causing retinal pigment epithelial repair? a) Yes b) No c) Only with diabetes d) Only with high cholesterol\n",
      "Ground Truth: B (from 'b) No')\n",
      "With Context: A\n",
      "Without Context: B\n",
      "\n",
      "Question 199: Can smoking exacerbate AMD by increasing retinal pigment epithelial lipid deposits? a) Yes b) No c) Only with UV exposure d) Only with obesity\n",
      "Ground Truth: A (from 'a) Yes')\n",
      "With Context: A\n",
      "Without Context: A\n",
      "\n",
      "Question 200: Does dry AMD cause gradual vision loss by inducing retinal pigment epithelial regeneration? a) Yes b) No c) Sometimes d) Only late stages\n",
      "Ground Truth: B (from 'b) No')\n",
      "With Context: A\n",
      "Without Context: A\n",
      "\n",
      "Question 201: Can anti-VEGF therapy stabilize wet AMD by reducing retinal pigment epithelial lipid deposits? a) Yes b) No c) Only early stages d) Only with photodynamic therapy\n",
      "Ground Truth: A (from 'a) Yes')\n",
      "With Context: A\n",
      "Without Context: A\n",
      "\n",
      "Question 202: Does smoking increase dry AMD risk by causing retinal pigment epithelial lipid repair? a) Yes b) No c) Only with UV exposure d) Only with high cholesterol\n",
      "Ground Truth: B (from 'b) No')\n",
      "With Context: A\n",
      "Without Context: A\n",
      "\n",
      "Question 203: Can wet AMD impair driving by inducing retinal pigment epithelial lipid accumulation? a) Yes b) No c) Only with drusen d) Only with smoking\n",
      "Ground Truth: A (from 'a) Yes')\n",
      "With Context: A\n",
      "Without Context: A\n",
      "\n",
      "Question 204: Can obesity worsen AMD by increasing retinal pigment epithelial lipid deposits? a) Yes b) No c) Only with diabetes d) Only with smoking\n",
      "Ground Truth: A (from 'a) Yes')\n",
      "With Context: A\n",
      "Without Context: A\n",
      "\n",
      "Question 205: Can wet AMD cause visual hallucinations by inducing retinal pigment epithelial lipid deposits? a) Yes b) No c) Only with drusen d) Only with smoking\n",
      "Ground Truth: A (from 'a) Yes')\n",
      "With Context: A\n",
      "Without Context: A\n",
      "\n",
      "Question 206: Does hypertension contribute to AMD by causing retinal pigment epithelial lipid repair? a) Yes b) No c) Only with diabetes d) Only with high cholesterol\n",
      "Ground Truth: B (from 'b) No')\n",
      "With Context: A\n",
      "Without Context: C\n",
      "\n",
      "Question 207: Can smoking increase AMD severity by promoting retinal pigment epithelial lipid accumulation? a) Yes b) No c) Only with UV exposure d) Only with obesity\n",
      "Ground Truth: A (from 'a) Yes')\n",
      "With Context: A\n",
      "Without Context: A\n",
      "\n",
      "Question 208: Does diabetes exacerbate AMD by causing retinal pigment epithelial lipid regeneration? a) Yes b) No c) Only with hypertension d) Only with smoking\n",
      "Ground Truth: B (from 'b) No')\n",
      "With Context: A\n",
      "Without Context: A\n",
      "\n",
      "Question 209: Does smoking worsen AMD by increasing retinal pigment epithelial atrophy? a) Yes b) No c) Only with UV exposure d) Only with obesity\n",
      "Ground Truth: A (from 'a) Yes')\n",
      "With Context: A\n",
      "Without Context: A\n",
      "\n",
      "Question 210: Can dry AMD progress to wet AMD due to excessive retinal pigment epithelial lipid accumulation? a) Yes b) No c) Only with smoking d) Only with diabetes\n",
      "Ground Truth: A (from 'a) Yes')\n",
      "With Context: A\n",
      "Without Context: A\n",
      "\n",
      "Question 211: Does family history increase AMD risk by predisposing to retinal pigment epithelial lipid deposits? a) Yes b) No c) Only in women d) Only with hypertension\n",
      "Ground Truth: A (from 'a) Yes')\n",
      "With Context: A\n",
      "Without Context: A\n",
      "\n",
      "Question 212: Can anti-VEGF injections treat wet AMD by reversing retinal pigment epithelial atrophy? a) Yes b) No c) Partially d) Only early stages\n",
      "Ground Truth: B (from 'b) No')\n",
      "With Context: B\n",
      "Without Context: B\n",
      "\n",
      "Question 213: Does hypertension exacerbate AMD by causing retinal pigment epithelial edema? a) Yes b) No c) Only with diabetes d) Only with smoking\n",
      "Ground Truth: B (from 'b) No')\n",
      "With Context: A\n",
      "Without Context: A\n",
      "\n",
      "Question 214: Can the Amsler grid detect wet AMD by assessing retinal pigment epithelial swelling? a) Yes b) No c) Sometimes d) Only late stages\n",
      "Ground Truth: B (from 'b) No')\n",
      "With Context: A\n",
      "Without Context: A\n",
      "\n",
      "Question 215: Does UV light exposure accelerate AMD by causing retinal pigment epithelial repair? a) Yes b) No c) Only with light eyes d) Only with smoking\n",
      "Ground Truth: B (from 'b) No')\n",
      "With Context: A\n",
      "Without Context: B\n",
      "\n",
      "Question 216: Can AREDS supplements slow dry AMD by reversing retinal pigment epithelial lipid deposits? a) Yes b) No c) Partially d) Only with zinc\n",
      "Ground Truth: B (from 'b) No')\n",
      "With Context: A\n",
      "Without Context: A\n",
      "\n",
      "Question 217: Does obesity increase AMD risk by promoting retinal pigment epithelial edema? a) Yes b) No c) Only with diabetes d) Only with hypertension\n",
      "Ground Truth: A (from 'a) Yes')\n",
      "With Context: A\n",
      "Without Context: A\n",
      "\n",
      "Question 218: Can wet AMD cause sudden vision loss by inducing retinal pigment epithelial lipid deposits? a) Yes b) No c) Only with drusen d) Only with UV exposure\n",
      "Ground Truth: A (from 'a) Yes')\n",
      "With Context: A\n",
      "Without Context: A\n",
      "\n",
      "Question 219: Does diabetes heighten AMD risk by causing retinal pigment epithelial repair? a) Yes b) No c) Only with smoking d) Only with obesity\n",
      "Ground Truth: B (from 'b) No')\n",
      "With Context: A\n",
      "Without Context: C\n",
      "\n",
      "Question 220: Can OCT diagnose wet AMD by detecting retinal pigment epithelial lipid accumulation? a) Yes b) No c) Only late stages d) Only with drusen\n",
      "Ground Truth: A (from 'a) Yes')\n",
      "With Context: A\n",
      "Without Context: A\n",
      "\n",
      "Question 221: Does smoking worsen dry AMD by promoting retinal pigment epithelial scarring? a) Yes b) No c) Only with UV exposure d) Only with high cholesterol\n",
      "Ground Truth: A (from 'a) Yes')\n",
      "With Context: A\n",
      "Without Context: A\n",
      "\n",
      "Question 222: Can photodynamic therapy manage wet AMD by reversing retinal pigment epithelial edema? a) Yes b) No c) Sometimes d) Only early stages\n",
      "Ground Truth: B (from 'b) No')\n",
      "With Context: B\n",
      "Without Context: A\n",
      "\n",
      "Question 223: Does a diet high in leafy greens reduce AMD progression by eliminating retinal pigment epithelial atrophy? a) Yes b) No c) Partially d) Only with supplements\n",
      "Ground Truth: B (from 'b) No')\n",
      "With Context: C\n",
      "Without Context: B\n",
      "\n",
      "Question 224: Can wet AMD lead to legal blindness by causing retinal pigment epithelial lipid repair? a) Yes b) No c) Sometimes d) Only late stages\n",
      "Ground Truth: B (from 'b) No')\n",
      "With Context: A\n",
      "Without Context: A\n",
      "\n",
      "Question 225: Does high cholesterol increase AMD risk by causing retinal pigment epithelial lipid deposits? a) Yes b) No c) Only with diabetes d) Only with smoking\n",
      "Ground Truth: A (from 'a) Yes')\n",
      "With Context: B\n",
      "Without Context: A\n",
      "\n",
      "Question 226: Can dry AMD transition to wet AMD due to retinal pigment epithelial lipid accumulation? a) Yes b) No c) Only with drusen d) Only with UV exposure\n",
      "Ground Truth: A (from 'a) Yes')\n",
      "With Context: A\n",
      "Without Context: A\n",
      "\n",
      "Question 227: Does AMD impair color perception by causing retinal pigment epithelial regeneration? a) Yes b) No c) Sometimes d) Only wet AMD\n",
      "Ground Truth: B (from 'b) No')\n",
      "With Context: A\n",
      "Without Context: B\n",
      "\n",
      "Question 228: Can anti-VEGF therapy stabilize wet AMD by reducing retinal pigment epithelial hemorrhages? a) Yes b) No c) Only early stages d) Only with surgery\n",
      "Ground Truth: A (from 'a) Yes')\n",
      "With Context: A\n",
      "Without Context: A\n",
      "\n",
      "Question 229: Does family history increase AMD risk by causing retinal pigment epithelial swelling? a) Yes b) No c) Sometimes d) Only with smoking\n",
      "Ground Truth: B (from 'b) No')\n",
      "With Context: A\n",
      "Without Context: A\n",
      "\n",
      "Question 230: Can wet AMD distort vision by causing retinal pigment epithelial edema? a) Yes b) No c) Only with drusen d) Only with hypertension\n",
      "Ground Truth: A (from 'a) Yes')\n",
      "With Context: A\n",
      "Without Context: A\n",
      "\n",
      "Question 231: Does dry AMD progress slowly because it avoids retinal pigment epithelial lipid repair? a) Yes b) No c) Sometimes d) Only early stages\n",
      "Ground Truth: B (from 'b) No')\n",
      "With Context: A\n",
      "Without Context: A\n",
      "\n",
      "Question 232: Can hypertension exacerbate AMD by causing retinal pigment epithelial repair? a) Yes b) No c) Only with diabetes d) Only with obesity\n",
      "Ground Truth: B (from 'b) No')\n",
      "With Context: A\n",
      "Without Context: B\n",
      "\n",
      "Question 233: Does smoking worsen AMD by increasing retinal pigment epithelial lipid accumulation? a) Yes b) No c) Only with UV exposure d) Only with high cholesterol\n",
      "Ground Truth: A (from 'a) Yes')\n",
      "With Context: A\n",
      "Without Context: A\n",
      "\n",
      "Question 234: Can OCT detect early dry AMD by identifying retinal pigment epithelial lipid deposits? a) Yes b) No c) Only late stages d) Only with fluid\n",
      "Ground Truth: A (from 'a) Yes')\n",
      "With Context: A\n",
      "Without Context: A\n",
      "\n",
      "Question 235: Does wet AMD treatment with anti-VEGF injections work by reversing retinal pigment epithelial lipid accumulation? a) Yes b) No c) Partially d) Only early stages\n",
      "Ground Truth: B (from 'b) No')\n",
      "With Context: B\n",
      "Without Context: D\n",
      "\n",
      "Question 236: Can diabetes contribute to AMD by increasing retinal pigment epithelial edema? a) Yes b) No c) Only with smoking d) Only with hypertension\n",
      "Ground Truth: A (from 'a) Yes')\n",
      "With Context: A\n",
      "Without Context: A\n",
      "\n",
      "Question 237: Does dry AMD progress to geographic atrophy by causing retinal pigment epithelial lipid regeneration? a) Yes b) No c) Sometimes d) Only late stages\n",
      "Ground Truth: B (from 'b) No')\n",
      "With Context: A\n",
      "Without Context: A\n",
      "\n",
      "Question 238: Can AMD increase fall risk by impairing retinal pigment epithelial lipid metabolism? a) Yes b) No c) Only with wet AMD d) Only with dry AMD\n",
      "Ground Truth: A (from 'a) Yes')\n",
      "With Context: A\n",
      "Without Context: A\n",
      "\n",
      "Question 239: Does UV exposure accelerate AMD by causing retinal pigment epithelial lipid repair? a) Yes b) No c) Only with smoking d) Only with light eyes\n",
      "Ground Truth: B (from 'b) No')\n",
      "With Context: A\n",
      "Without Context: B\n",
      "\n",
      "Question 240: Can wet AMD cause rapid vision loss by inducing retinal pigment epithelial edema? a) Yes b) No c) Only with drusen d) Only with hypertension\n",
      "Ground Truth: A (from 'a) Yes')\n",
      "With Context: A\n",
      "Without Context: A\n",
      "\n",
      "Question 241: Does a diet high in antioxidants prevent AMD by reversing retinal pigment epithelial edema? a) Yes b) No c) Partially d) Only with supplements\n",
      "Ground Truth: B (from 'b) No')\n",
      "With Context: A\n",
      "Without Context: A\n",
      "\n",
      "Question 242: Can smoking exacerbate wet AMD by increasing retinal pigment epithelial lipid accumulation? a) Yes b) No c) Only with UV exposure d) Only with obesity\n",
      "Ground Truth: A (from 'a) Yes')\n",
      "With Context: A\n",
      "Without Context: A\n",
      "\n",
      "Question 243: Does dry AMD affect color perception by causing retinal pigment epithelial lipid regeneration? a) Yes b) No c) Sometimes d) Only late stages\n",
      "Ground Truth: B (from 'b) No')\n",
      "With Context: A\n",
      "Without Context: B\n",
      "\n",
      "Question 244: Does obesity increase AMD risk by causing retinal pigment epithelial lipid repair? a) Yes b) No c) Sometimes d) Only with diabetes\n",
      "Ground Truth: B (from 'b) No')\n",
      "With Context: A\n",
      "Without Context: A\n",
      "\n",
      "Question 245: Can wet AMD impair reading by causing retinal pigment epithelial swelling? a) Yes b) No c) Only with drusen d) Only with smoking\n",
      "Ground Truth: A (from 'a) Yes')\n",
      "With Context: A\n",
      "Without Context: A\n",
      "\n",
      "Question 246: Does high cholesterol contribute to AMD by causing retinal pigment epithelial lipid regeneration? a) Yes b) No c) Only with hypertension d) Only with diabetes\n",
      "Ground Truth: B (from 'b) No')\n",
      "With Context: B\n",
      "Without Context: B\n",
      "\n",
      "Question 247: Can AREDS supplements reduce AMD progression by reversing retinal pigment epithelial edema? a) Yes b) No c) Partially d) Only with zinc\n",
      "Ground Truth: B (from 'b) No')\n",
      "With Context: C\n",
      "Without Context: C\n",
      "\n",
      "Question 248: Does wet AMD cause blind spots by inducing retinal pigment epithelial lipid deposits? a) Yes b) No c) Sometimes d) Only late stages\n",
      "Ground Truth: A (from 'a) Yes')\n",
      "With Context: A\n",
      "Without Context: A\n",
      "\n",
      "Question 249: Can family history increase AMD risk by predisposing to retinal pigment epithelial edema? a) Yes b) No c) Only with smoking d) Only with UV exposure\n",
      "Ground Truth: B (from 'b) No')\n",
      "With Context: A\n",
      "Without Context: A\n",
      "\n",
      "Question 250: Does dry AMD progress to wet AMD due to retinal pigment epithelial lipid deposits? a) Yes b) No c) Sometimes d) Only with obesity\n",
      "Ground Truth: A (from 'a) Yes')\n",
      "With Context: A\n",
      "Without Context: B\n",
      "\n",
      "Question 251: Can anti-VEGF injections improve wet AMD by reducing retinal pigment epithelial lipid deposits? a) Yes b) No c) Only early stages d) Only with photodynamic therapy\n",
      "Ground Truth: A (from 'a) Yes')\n",
      "With Context: A\n",
      "Without Context: A\n",
      "\n",
      "Question 252: Can wet AMD affect face recognition by causing retinal pigment epithelial lipid accumulation? a) Yes b) No c) Only with drusen d) Only with smoking\n",
      "Ground Truth: A (from 'a) Yes')\n",
      "With Context: A\n",
      "Without Context: A\n",
      "\n",
      "Question 253: Does hypertension worsen AMD by causing retinal pigment epithelial lipid repair? a) Yes b) No c) Only with diabetes d) Only with high cholesterol\n",
      "Ground Truth: B (from 'b) No')\n",
      "With Context: C\n",
      "Without Context: A\n",
      "\n",
      "Question 254: Can smoking exacerbate AMD by increasing retinal pigment epithelial edema? a) Yes b) No c) Only with UV exposure d) Only with obesity\n",
      "Ground Truth: A (from 'a) Yes')\n",
      "With Context: A\n",
      "Without Context: A\n",
      "\n",
      "Question 255: Can OCT confirm wet AMD by detecting retinal pigment epithelial edema? a) Yes b) No c) Only late stages d) Only with drusen\n",
      "Ground Truth: A (from 'a) Yes')\n",
      "With Context: A\n",
      "Without Context: A\n",
      "\n",
      "Question 256: Does smoking exacerbate AMD by increasing retinal pigment epithelial oxidative damage? a) Yes b) No c) Only with UV exposure d) Only with obesity\n",
      "Ground Truth: A (from 'a) Yes')\n",
      "With Context: A\n",
      "Without Context: A\n",
      "\n",
      "Question 257: Can dry AMD progress to wet AMD due to excessive choroidal inflammation alone? a) Yes b) No c) Only with smoking d) Only with diabetes\n",
      "Ground Truth: B (from 'b) No')\n",
      "With Context: A\n",
      "Without Context: B\n",
      "\n",
      "Question 258: Does family history elevate AMD risk by increasing susceptibility to retinal pigment epithelial degeneration? a) Yes b) No c) Only in men d) Only with hypertension\n",
      "Ground Truth: A (from 'a) Yes')\n",
      "With Context: A\n",
      "Without Context: A\n",
      "\n",
      "Question 259: Can anti-VEGF injections treat wet AMD by reversing choroidal neovascular growth? a) Yes b) No c) Partially d) Only early stages\n",
      "Ground Truth: B (from 'b) No')\n",
      "With Context: A\n",
      "Without Context: B\n",
      "\n",
      "Question 260: Does hypertension worsen AMD by causing choroidal vascular leakage? a) Yes b) No c) Only with diabetes d) Only with smoking\n",
      "Ground Truth: B (from 'b) No')\n",
      "With Context: A\n",
      "Without Context: A\n",
      "\n",
      "Question 261: Can the Amsler grid detect wet AMD by revealing retinal pigment epithelial detachment? a) Yes b) No c) Sometimes d) Only late stages\n",
      "Ground Truth: B (from 'b) No')\n",
      "With Context: B\n",
      "Without Context: A\n",
      "\n",
      "Question 262: Does UV light exposure accelerate AMD by triggering choroidal neovascularization? a) Yes b) No c) Only with light eyes d) Only with smoking\n",
      "Ground Truth: B (from 'b) No')\n",
      "With Context: A\n",
      "Without Context: A\n",
      "\n",
      "Question 263: Can AREDS supplements slow dry AMD by repairing photoreceptor damage? a) Yes b) No c) Partially d) Only with zinc\n",
      "Ground Truth: B (from 'b) No')\n",
      "With Context: A\n",
      "Without Context: C\n",
      "\n",
      "Question 264: Does obesity heighten AMD risk by increasing retinal pigment epithelial stress? a) Yes b) No c) Only with diabetes d) Only with hypertension\n",
      "Ground Truth: A (from 'a) Yes')\n",
      "With Context: A\n",
      "Without Context: A\n",
      "\n",
      "Question 265: Can wet AMD cause sudden vision loss by inducing subretinal fluid buildup? a) Yes b) No c) Only with drusen d) Only with UV exposure\n",
      "Ground Truth: A (from 'a) Yes')\n",
      "With Context: A\n",
      "Without Context: A\n",
      "\n",
      "Question 266: Does diabetes increase AMD risk by causing photoreceptor degeneration? a) Yes b) No c) Only with smoking d) Only with obesity\n",
      "Ground Truth: B (from 'b) No')\n",
      "With Context: B\n",
      "Without Context: A\n",
      "\n",
      "Question 267: Can OCT diagnose wet AMD by detecting abnormal choroidal blood vessels? a) Yes b) No c) Only late stages d) Only with drusen\n",
      "Ground Truth: A (from 'a) Yes')\n",
      "With Context: A\n",
      "Without Context: A\n",
      "\n",
      "Question 268: Does smoking worsen dry AMD by accelerating retinal pigment epithelial atrophy? a) Yes b) No c) Only with UV exposure d) Only with high cholesterol\n",
      "Ground Truth: A (from 'a) Yes')\n",
      "With Context: A\n",
      "Without Context: A\n",
      "\n",
      "Question 269: Can photodynamic therapy manage wet AMD by reducing photoreceptor loss? a) Yes b) No c) Sometimes d) Only early stages\n",
      "Ground Truth: B (from 'b) No')\n",
      "With Context: A\n",
      "Without Context: A\n",
      "\n",
      "Question 270: Does a diet rich in leafy greens reduce AMD progression by repairing retinal pigment epithelium? a) Yes b) No c) Partially d) Only with supplements\n",
      "Ground Truth: B (from 'b) No')\n",
      "With Context: C\n",
      "Without Context: A\n",
      "\n",
      "Question 271: Can wet AMD lead to legal blindness by causing peripheral vision loss? a) Yes b) No c) Sometimes d) Only late stages\n",
      "Ground Truth: B (from 'b) No')\n",
      "With Context: A\n",
      "Without Context: A\n",
      "\n",
      "Question 272: Does high cholesterol increase AMD risk by promoting drusen formation? a) Yes b) No c) Only with diabetes d) Only with smoking\n",
      "Ground Truth: A (from 'a) Yes')\n",
      "With Context: A\n",
      "Without Context: A\n",
      "\n",
      "Question 273: Can dry AMD transition to wet AMD due to excessive VEGF production? a) Yes b) No c) Only with drusen d) Only with UV exposure\n",
      "Ground Truth: A (from 'a) Yes')\n",
      "With Context: A\n",
      "Without Context: B\n",
      "\n",
      "Question 274: Does AMD impair depth perception by causing optic nerve damage? a) Yes b) No c) Sometimes d) Only wet AMD\n",
      "Ground Truth: B (from 'b) No')\n",
      "With Context: A\n",
      "Without Context: B\n",
      "\n",
      "Question 275: Can anti-VEGF therapy stabilize wet AMD by reducing choroidal neovascular leakage? a) Yes b) No c) Only early stages d) Only with surgery\n",
      "Ground Truth: A (from 'a) Yes')\n",
      "With Context: A\n",
      "Without Context: A\n",
      "\n",
      "Question 276: Does family history increase AMD risk by causing choroidal thinning? a) Yes b) No c) Sometimes d) Only with smoking\n",
      "Ground Truth: B (from 'b) No')\n",
      "With Context: A\n",
      "Without Context: B\n",
      "\n",
      "Question 277: Does dry AMD progress slowly because it lacks photoreceptor regeneration? a) Yes b) No c) Sometimes d) Only early stages\n",
      "Ground Truth: B (from 'b) No')\n",
      "With Context: A\n",
      "Without Context: A\n",
      "\n",
      "Question 278: Can hypertension exacerbate AMD by increasing retinal pigment epithelial detachment? a) Yes b) No c) Only with diabetes d) Only with obesity\n",
      "Ground Truth: B (from 'b) No')\n",
      "With Context: A\n",
      "Without Context: A\n",
      "\n",
      "Question 279: Does smoking worsen AMD by enhancing choroidal inflammation? a) Yes b) No c) Only with UV exposure d) Only with high cholesterol\n",
      "Ground Truth: A (from 'a) Yes')\n",
      "With Context: A\n",
      "Without Context: A\n",
      "\n",
      "Question 280: Can OCT detect early dry AMD by identifying drusen size increases? a) Yes b) No c) Only late stages d) Only with fluid\n",
      "Ground Truth: A (from 'a) Yes')\n",
      "With Context: A\n",
      "Without Context: A\n",
      "\n",
      "Question 281: Does wet AMD treatment with anti-VEGF injections work by regenerating retinal tissue? a) Yes b) No c) Partially d) Only early stages\n",
      "Ground Truth: B (from 'b) No')\n",
      "With Context: A\n",
      "Without Context: B\n",
      "\n",
      "Question 282: Can diabetes contribute to AMD by elevating retinal inflammation? a) Yes b) No c) Only with smoking d) Only with hypertension\n",
      "Ground Truth: A (from 'a) Yes')\n",
      "With Context: A\n",
      "Without Context: A\n",
      "\n",
      "Question 283: Does dry AMD progress to geographic atrophy by causing blood vessel leakage? a) Yes b) No c) Sometimes d) Only late stages\n",
      "Ground Truth: B (from 'b) No')\n",
      "With Context: A\n",
      "Without Context: A\n",
      "\n",
      "Question 284: Can AMD increase fall risk by reducing central visual clarity? a) Yes b) No c) Only with wet AMD d) Only with dry AMD\n",
      "Ground Truth: A (from 'a) Yes')\n",
      "With Context: A\n",
      "Without Context: A\n",
      "\n",
      "Question 285: Does UV exposure accelerate AMD by causing immediate photoreceptor death? a) Yes b) No c) Only with smoking d) Only with light eyes\n",
      "Ground Truth: B (from 'b) No')\n",
      "With Context: A\n",
      "Without Context: B\n",
      "\n",
      "Question 286: Can wet AMD cause rapid vision loss by inducing retinal scarring? a) Yes b) No c) Only with drusen d) Only with hypertension\n",
      "Ground Truth: A (from 'a) Yes')\n",
      "With Context: A\n",
      "Without Context: A\n",
      "\n",
      "Question 287: Does a diet high in antioxidants prevent AMD by reversing Bruch’s membrane damage? a) Yes b) No c) Partially d) Only with supplements\n",
      "Ground Truth: B (from 'b) No')\n",
      "With Context: A\n",
      "Without Context: B\n",
      "\n",
      "Question 288: Can smoking exacerbate wet AMD by increasing VEGF levels? a) Yes b) No c) Only with UV exposure d) Only with obesity\n",
      "Ground Truth: A (from 'a) Yes')\n",
      "With Context: A\n",
      "Without Context: A\n",
      "\n",
      "Question 289: Does dry AMD affect color perception by damaging retinal ganglion cells? a) Yes b) No c) Sometimes d) Only late stages\n",
      "Ground Truth: B (from 'b) No')\n",
      "With Context: A\n",
      "Without Context: A\n",
      "\n",
      "Question 290: Can photodynamic therapy treat wet AMD by sealing abnormal blood vessels? a) Yes b) No c) Only early stages d) Only with anti-VEGF\n",
      "Ground Truth: A (from 'a) Yes')\n",
      "With Context: A\n",
      "Without Context: C\n",
      "\n",
      "Question 291: Does obesity increase AMD risk by causing retinal thinning? a) Yes b) No c) Sometimes d) Only with diabetes\n",
      "Ground Truth: B (from 'b) No')\n",
      "With Context: A\n",
      "Without Context: A\n",
      "\n",
      "Question 292: Can wet AMD impair reading by causing central vision distortion? a) Yes b) No c) Only with drusen d) Only with smoking\n",
      "Ground Truth: A (from 'a) Yes')\n",
      "With Context: A\n",
      "Without Context: A\n",
      "\n",
      "Question 293: Does high cholesterol contribute to AMD by clogging retinal arteries? a) Yes b) No c) Only with hypertension d) Only with diabetes\n",
      "Ground Truth: B (from 'b) No')\n",
      "With Context: A\n",
      "Without Context: A\n",
      "\n",
      "Question 294: Can AREDS supplements reduce AMD progression by eliminating oxidative stress entirely? a) Yes b) No c) Partially d) Only with zinc\n",
      "Ground Truth: B (from 'b) No')\n",
      "With Context: B\n",
      "Without Context: D\n",
      "\n",
      "Question 295: Does wet AMD cause blind spots by regenerating retinal tissue? a) Yes b) No c) Sometimes d) Only late stages\n",
      "Ground Truth: B (from 'b) No')\n",
      "With Context: A\n",
      "Without Context: B\n",
      "\n",
      "Question 296: Can family history increase AMD risk by predisposing to drusen accumulation? a) Yes b) No c) Only with smoking d) Only with UV exposure\n",
      "Ground Truth: A (from 'a) Yes')\n",
      "With Context: A\n",
      "Without Context: A\n",
      "\n",
      "Question 297: Does dry AMD progress to wet AMD due to excessive screen time alone? a) Yes b) No c) Sometimes d) Only with obesity\n",
      "Ground Truth: B (from 'b) No')\n",
      "With Context: B\n",
      "Without Context: B\n",
      "\n",
      "Question 298: Can anti-VEGF injections improve wet AMD by reducing fluid leakage? a) Yes b) No c) Only early stages d) Only with photodynamic therapy\n",
      "Ground Truth: A (from 'a) Yes')\n",
      "With Context: A\n",
      "Without Context: A\n",
      "\n",
      "Question 299: Does UV light increase AMD risk by causing optic nerve atrophy? a) Yes b) No c) Sometimes d) Only with light eyes\n",
      "Ground Truth: B (from 'b) No')\n",
      "With Context: A\n",
      "Without Context: A\n",
      "\n",
      "Question 300: Can wet AMD affect face recognition by distorting central vision? a) Yes b) No c) Only with drusen d) Only with smoking\n",
      "Ground Truth: A (from 'a) Yes')\n",
      "With Context: A\n",
      "Without Context: A\n",
      "\n",
      "Question 301: Does hypertension worsen AMD by causing retinal hemorrhages? a) Yes b) No c) Only with diabetes d) Only with high cholesterol\n",
      "Ground Truth: B (from 'b) No')\n",
      "With Context: A\n",
      "Without Context: B\n",
      "\n",
      "Question 302: Can smoking exacerbate AMD by increasing retinal oxidative stress? a) Yes b) No c) Only with UV exposure d) Only with obesity\n",
      "Ground Truth: A (from 'a) Yes')\n",
      "With Context: A\n",
      "Without Context: A\n",
      "\n",
      "Question 303: Does dry AMD cause vision loss by affecting the choroid directly? a) Yes b) No c) Sometimes d) Only late stages\n",
      "Ground Truth: B (from 'b) No')\n",
      "With Context: B\n",
      "Without Context: B\n",
      "\n",
      "Question 304: Can OCT confirm wet AMD by visualizing choroidal neovascularization? a) Yes b) No c) Only late stages d) Only with drusen\n",
      "Ground Truth: A (from 'a) Yes')\n",
      "With Context: A\n",
      "Without Context: C\n",
      "\n",
      "Question 305: Does diabetes increase AMD risk by causing retinal artery occlusion? a) Yes b) No c) Only with smoking d) Only with hypertension\n",
      "Ground Truth: B (from 'b) No')\n",
      "With Context: A\n",
      "Without Context: A\n",
      "\n",
      "Question 306: Can wet AMD cause sudden vision changes by inducing retinal edema? a) Yes b) No c) Only with drusen d) Only with UV exposure\n",
      "Ground Truth: A (from 'a) Yes')\n",
      "With Context: A\n",
      "Without Context: A\n",
      "\n",
      "Question 307: Does family history elevate AMD risk by increasing lipid deposits in the choroid? a) Yes b) No c) Sometimes d) Only with obesity\n",
      "Ground Truth: B (from 'b) No')\n",
      "With Context: A\n",
      "Without Context: A\n",
      "\n",
      "Question 308: Can anti-VEGF therapy prevent wet AMD progression by stabilizing retinal thickness? a) Yes b) No c) Only early stages d) Only with photodynamic therapy\n",
      "Ground Truth: A (from 'a) Yes')\n",
      "With Context: A\n",
      "Without Context: B\n",
      "\n",
      "Question 309: Does smoking increase dry AMD risk by causing choroidal thinning? a) Yes b) No c) Only with UV exposure d) Only with high cholesterol\n",
      "Ground Truth: B (from 'b) No')\n",
      "With Context: A\n",
      "Without Context: A\n",
      "\n",
      "Question 310: Can wet AMD impair driving by distorting central visual acuity? a) Yes b) No c) Only with drusen d) Only with smoking\n",
      "Ground Truth: A (from 'a) Yes')\n",
      "With Context: A\n",
      "Without Context: A\n",
      "\n",
      "Question 311: Does high cholesterol exacerbate AMD by causing optic nerve inflammation? a) Yes b) No c) Only with diabetes d) Only with hypertension\n",
      "Ground Truth: B (from 'b) No')\n",
      "With Context: A\n",
      "Without Context: C\n",
      "\n",
      "Question 312: Can AREDS supplements mitigate AMD risk by repairing retinal pigment epithelium? a) Yes b) No c) Partially d) Only with zinc\n",
      "Ground Truth: B (from 'b) No')\n",
      "With Context: A\n",
      "Without Context: C\n",
      "\n",
      "Question 313: Does wet AMD cause depth perception issues by regenerating retinal layers? a) Yes b) No c) Sometimes d) Only late stages\n",
      "Ground Truth: B (from 'b) No')\n",
      "With Context: A\n",
      "Without Context: A\n",
      "\n",
      "Question 314: Can obesity worsen AMD by increasing retinal inflammation? a) Yes b) No c) Only with diabetes d) Only with smoking\n",
      "Ground Truth: A (from 'a) Yes')\n",
      "With Context: A\n",
      "Without Context: A\n",
      "\n",
      "Question 315: Does dry AMD progress to geographic atrophy due to excessive neovascularization? a) Yes b) No c) Sometimes d) Only late stages\n",
      "Ground Truth: B (from 'b) No')\n",
      "With Context: A\n",
      "Without Context: C\n",
      "\n",
      "Question 316: Can photodynamic therapy treat wet AMD by shrinking choroidal blood vessels? a) Yes b) No c) Only early stages d) Only with anti-VEGF\n",
      "Ground Truth: A (from 'a) Yes')\n",
      "With Context: A\n",
      "Without Context: C\n",
      "\n",
      "Question 317: Does UV light exposure increase AMD risk by causing photoreceptor regeneration? a) Yes b) No c) Sometimes d) Only with light eyes\n",
      "Ground Truth: B (from 'b) No')\n",
      "With Context: A\n",
      "Without Context: A\n",
      "\n",
      "Question 318: Can wet AMD cause visual hallucinations by inducing retinal pigment epithelial scarring? a) Yes b) No c) Only with drusen d) Only with smoking\n",
      "Ground Truth: A (from 'a) Yes')\n",
      "With Context: A\n",
      "Without Context: A\n",
      "\n",
      "Question 319: Does hypertension contribute to AMD by increasing drusen size? a) Yes b) No c) Only with diabetes d) Only with high cholesterol\n",
      "Ground Truth: B (from 'b) No')\n",
      "With Context: A\n",
      "Without Context: A\n",
      "\n",
      "Question 320: Can smoking increase AMD severity by promoting photoreceptor degeneration? a) Yes b) No c) Only with UV exposure d) Only with obesity\n",
      "Ground Truth: A (from 'a) Yes')\n",
      "With Context: A\n",
      "Without Context: A\n",
      "\n",
      "Question 321: Does dry AMD impair reading by causing optic nerve damage? a) Yes b) No c) Sometimes d) Only late stages\n",
      "Ground Truth: B (from 'b) No')\n",
      "With Context: A\n",
      "Without Context: A\n",
      "\n",
      "Question 322: Can OCT detect early AMD by measuring retinal layer thinning? a) Yes b) No c) Only late stages d) Only with drusen\n",
      "Ground Truth: A (from 'a) Yes')\n",
      "With Context: A\n",
      "Without Context: A\n",
      "\n",
      "Question 323: Does diabetes exacerbate AMD by causing direct blood vessel leakage? a) Yes b) No c) Only with smoking d) Only with hypertension\n",
      "Ground Truth: B (from 'b) No')\n",
      "With Context: A\n",
      "Without Context: A\n",
      "\n",
      "Question 324: Can wet AMD affect color perception by causing central vision loss? a) Yes b) No c) Only with drusen d) Only with UV exposure\n",
      "Ground Truth: A (from 'a) Yes')\n",
      "With Context: A\n",
      "Without Context: A\n",
      "\n",
      "Question 325: Does family history worsen AMD by causing optic nerve atrophy? a) Yes b) No c) Sometimes d) Only with obesity\n",
      "Ground Truth: B (from 'b) No')\n",
      "With Context: A\n",
      "Without Context: B\n",
      "\n",
      "Question 326: Can anti-VEGF injections treat wet AMD by preventing subretinal hemorrhages? a) Yes b) No c) Only early stages d) Only with photodynamic therapy\n",
      "Ground Truth: A (from 'a) Yes')\n",
      "With Context: A\n",
      "Without Context: B\n",
      "\n",
      "Question 327: Does smoking worsen AMD by causing direct retinal detachment? a) Yes b) No c) Only with UV exposure d) Only with high cholesterol\n",
      "Ground Truth: B (from 'b) No')\n",
      "With Context: A\n",
      "Without Context: B\n",
      "\n",
      "Question 328: Can wet AMD increase fall risk by impairing central depth perception? a) Yes b) No c) Only with drusen d) Only with smoking\n",
      "Ground Truth: A (from 'a) Yes')\n",
      "With Context: A\n",
      "Without Context: A\n",
      "\n",
      "Question 329: Does high cholesterol increase AMD risk by causing retinal vein occlusion? a) Yes b) No c) Only with diabetes d) Only with hypertension\n",
      "Ground Truth: B (from 'b) No')\n",
      "With Context: C\n",
      "Without Context: A\n",
      "\n",
      "Question 330: Can AREDS supplements slow dry AMD by reducing retinal hypoxia? a) Yes b) No c) Partially d) Only with zinc\n",
      "Ground Truth: B (from 'b) No')\n",
      "With Context: A\n",
      "Without Context: C\n",
      "\n",
      "Question 331: Does wet AMD cause rapid vision loss by regenerating choroidal tissue? a) Yes b) No c) Sometimes d) Only late stages\n",
      "Ground Truth: B (from 'b) No')\n",
      "With Context: C\n",
      "Without Context: B\n",
      "\n",
      "Question 332: Can obesity increase AMD risk by enhancing choroidal oxidative stress? a) Yes b) No c) Only with diabetes d) Only with smoking\n",
      "Ground Truth: A (from 'a) Yes')\n",
      "With Context: A\n",
      "Without Context: A\n",
      "\n",
      "Question 333: Does dry AMD progress to wet AMD due to excessive antioxidant intake? a) Yes b) No c) Sometimes d) Only with obesity\n",
      "Ground Truth: B (from 'b) No')\n",
      "With Context: B\n",
      "Without Context: B\n",
      "\n",
      "Question 334: Can photodynamic therapy manage wet AMD by reducing retinal edema? a) Yes b) No c) Only early stages d) Only with anti-VEGF\n",
      "Ground Truth: A (from 'a) Yes')\n",
      "With Context: A\n",
      "Without Context: A\n",
      "\n",
      "Question 335: Does UV light exposure worsen AMD by causing photoreceptor regeneration? a) Yes b) No c) Sometimes d) Only with light eyes\n",
      "Ground Truth: B (from 'b) No')\n",
      "With Context: A\n",
      "Without Context: B\n",
      "\n",
      "Question 336: Can wet AMD impair night vision by distorting central visual fields? a) Yes b) No c) Only with drusen d) Only with smoking\n",
      "Ground Truth: A (from 'a) Yes')\n",
      "With Context: A\n",
      "Without Context: A\n",
      "\n",
      "Question 337: Does hypertension increase AMD severity by causing optic nerve swelling? a) Yes b) No c) Only with diabetes d) Only with high cholesterol\n",
      "Ground Truth: B (from 'b) No')\n",
      "With Context: A\n",
      "Without Context: B\n",
      "\n",
      "Question 338: Can smoking exacerbate AMD by increasing choroidal hypoxia? a) Yes b) No c) Only with UV exposure d) Only with obesity\n",
      "Ground Truth: A (from 'a) Yes')\n",
      "With Context: A\n",
      "Without Context: A\n",
      "\n",
      "Question 339: Does dry AMD cause blind spots by damaging retinal vasculature? a) Yes b) No c) Sometimes d) Only late stages\n",
      "Ground Truth: B (from 'b) No')\n",
      "With Context: A\n",
      "Without Context: A\n",
      "\n",
      "Question 340: Does diabetes increase AMD risk by causing optic nerve inflammation? a) Yes b) No c) Only with smoking d) Only with hypertension\n",
      "Ground Truth: B (from 'b) No')\n",
      "With Context: A\n",
      "Without Context: A\n",
      "\n",
      "Question 341: Can wet AMD affect reading speed by causing central retinal blur? a) Yes b) No c) Only with drusen d) Only with UV exposure\n",
      "Ground Truth: A (from 'a) Yes')\n",
      "With Context: A\n",
      "Without Context: A\n",
      "\n",
      "Question 342: Does family history worsen AMD by causing direct retinal scarring? a) Yes b) No c) Sometimes d) Only with obesity\n",
      "Ground Truth: B (from 'b) No')\n",
      "With Context: B\n",
      "Without Context: B\n",
      "\n",
      "Question 343: Can anti-VEGF therapy improve wet AMD by reducing choroidal inflammation? a) Yes b) No c) Only early stages d) Only with photodynamic therapy\n",
      "Ground Truth: A (from 'a) Yes')\n",
      "With Context: A\n",
      "Without Context: A\n",
      "\n",
      "Question 344: Does smoking increase AMD risk by causing retinal regeneration? a) Yes b) No c) Only with UV exposure d) Only with high cholesterol\n",
      "Ground Truth: B (from 'b) No')\n",
      "With Context: A\n",
      "Without Context: B\n",
      "\n",
      "Question 345: Does smoking increase AMD risk by promoting retinal pigment epithelial hypoxia? a) Yes b) No c) Only with UV exposure d) Only with obesity\n",
      "Ground Truth: A (from 'a) Yes')\n",
      "With Context: A\n",
      "Without Context: A\n",
      "\n",
      "Question 346: Can dry AMD progress to wet AMD due to excessive retinal pigment epithelial inflammation alone? a) Yes b) No c) Only with smoking d) Only with diabetes\n",
      "Ground Truth: B (from 'b) No')\n",
      "With Context: B\n",
      "Without Context: A\n",
      "\n",
      "Question 347: Does family history elevate AMD risk by increasing retinal pigment epithelial vulnerability to oxidative stress? a) Yes b) No c) Only in women d) Only with hypertension\n",
      "Ground Truth: A (from 'a) Yes')\n",
      "With Context: A\n",
      "Without Context: A\n",
      "\n",
      "Question 348: Can anti-VEGF injections treat wet AMD by reversing retinal pigment epithelial scarring? a) Yes b) No c) Partially d) Only early stages\n",
      "Ground Truth: B (from 'b) No')\n",
      "With Context: B\n",
      "Without Context: B\n",
      "\n",
      "Question 349: Does hypertension worsen AMD by causing retinal pigment epithelial hypoxia? a) Yes b) No c) Only with diabetes d) Only with smoking\n",
      "Ground Truth: B (from 'b) No')\n",
      "With Context: B\n",
      "Without Context: A\n",
      "\n",
      "Question 350: Can the Amsler grid detect wet AMD by measuring retinal pigment epithelial lipid changes? a) Yes b) No c) Sometimes d) Only late stages\n",
      "Ground Truth: B (from 'b) No')\n",
      "With Context: A\n",
      "Without Context: A\n",
      "\n",
      "Question 351: Does UV light exposure accelerate AMD by causing retinal pigment epithelial hemorrhages? a) Yes b) No c) Only with light eyes d) Only with smoking\n",
      "Ground Truth: B (from 'b) No')\n",
      "With Context: A\n",
      "Without Context: A\n",
      "\n",
      "Question 352: Does obesity heighten AMD risk by promoting retinal pigment epithelial lipid accumulation? a) Yes b) No c) Only with diabetes d) Only with hypertension\n",
      "Ground Truth: A (from 'a) Yes')\n",
      "With Context: C\n",
      "Without Context: A\n",
      "\n",
      "Question 353: Does diabetes increase AMD risk by causing retinal pigment epithelial swelling? a) Yes b) No c) Only with smoking d) Only with obesity\n",
      "Ground Truth: B (from 'b) No')\n",
      "With Context: A\n",
      "Without Context: A\n",
      "\n",
      "Question 354: Does smoking worsen dry AMD by increasing retinal pigment epithelial lipid deposits? a) Yes b) No c) Only with UV exposure d) Only with high cholesterol\n",
      "Ground Truth: A (from 'a) Yes')\n",
      "With Context: A\n",
      "Without Context: A\n",
      "\n",
      "Question 355: Can photodynamic therapy manage wet AMD by reversing retinal pigment epithelial damage? a) Yes b) No c) Sometimes d) Only early stages\n",
      "Ground Truth: B (from 'b) No')\n",
      "With Context: A\n",
      "Without Context: B\n",
      "\n",
      "Question 356: Does a diet high in leafy greens reduce AMD progression by eliminating retinal pigment epithelial hypoxia? a) Yes b) No c) Partially d) Only with supplements\n",
      "Ground Truth: B (from 'b) No')\n",
      "With Context: A\n",
      "Without Context: A\n",
      "\n",
      "Question 357: Does high cholesterol increase AMD risk by promoting retinal pigment epithelial edema? a) Yes b) No c) Only with diabetes d) Only with smoking\n",
      "Ground Truth: B (from 'b) No')\n",
      "With Context: A\n",
      "Without Context: A\n",
      "\n",
      "Question 358: Can dry AMD transition to wet AMD due to retinal pigment epithelial lipid deposits? a) Yes b) No c) Only with drusen d) Only with UV exposure\n",
      "Ground Truth: A (from 'a) Yes')\n",
      "With Context: A\n",
      "Without Context: C\n",
      "\n",
      "Question 359: Does AMD impair color perception by causing retinal pigment epithelial lipid repair? a) Yes b) No c) Sometimes d) Only wet AMD\n",
      "Ground Truth: B (from 'b) No')\n",
      "With Context: A\n",
      "Without Context: A\n",
      "\n",
      "Question 360: Can anti-VEGF therapy stabilize wet AMD by reducing retinal pigment epithelial lipid accumulation? a) Yes b) No c) Only early stages d) Only with surgery\n",
      "Ground Truth: A (from 'a) Yes')\n",
      "With Context: A\n",
      "Without Context: A\n",
      "\n",
      "Question 361: Can wet AMD distort vision by causing retinal pigment epithelial swelling? a) Yes b) No c) Only with drusen d) Only with hypertension\n",
      "Ground Truth: A (from 'a) Yes')\n",
      "With Context: A\n",
      "Without Context: A\n",
      "\n",
      "Question 362: Can hypertension exacerbate AMD by causing retinal pigment epithelial lipid repair? a) Yes b) No c) Only with diabetes d) Only with obesity\n",
      "Ground Truth: B (from 'b) No')\n",
      "With Context: A\n",
      "Without Context: A\n",
      "\n",
      "Question 363: Does UV exposure accelerate AMD by causing retinal pigment epithelial swelling? a) Yes b) No c) Only with smoking d) Only with light eyes\n",
      "Ground Truth: B (from 'b) No')\n",
      "With Context: A\n",
      "Without Context: A\n",
      "\n",
      "Question 364: Does a diet high in antioxidants prevent AMD by reversing retinal pigment epithelial atrophy? a) Yes b) No c) Partially d) Only with supplements\n",
      "Ground Truth: B (from 'b) No')\n",
      "With Context: B\n",
      "Without Context: C\n",
      "\n",
      "Question 365: Can smoking exacerbate wet AMD by increasing retinal pigment epithelial edema? a) Yes b) No c) Only with UV exposure d) Only with obesity\n",
      "Ground Truth: A (from 'a) Yes')\n",
      "With Context: A\n",
      "Without Context: A\n",
      "\n",
      "Question 366: Does dry AMD affect color perception by causing retinal pigment epithelial repair? a) Yes b) No c) Sometimes d) Only late stages\n",
      "Ground Truth: B (from 'b) No')\n",
      "With Context: A\n",
      "Without Context: A\n",
      "\n",
      "Question 367: Does obesity increase AMD risk by causing retinal pigment epithelial regeneration? a) Yes b) No c) Sometimes d) Only with diabetes\n",
      "Ground Truth: B (from 'b) No')\n",
      "With Context: A\n",
      "Without Context: B\n",
      "\n",
      "Question 368: Does high cholesterol contribute to AMD by causing retinal pigment epithelial repair? a) Yes b) No c) Only with hypertension d) Only with diabetes\n",
      "Ground Truth: B (from 'b) No')\n",
      "With Context: C\n",
      "Without Context: A\n",
      "\n",
      "Question 369: Does dry AMD progress to wet AMD due to excessive retinal pigment epithelial repair? a) Yes b) No c) Sometimes d) Only with obesity\n",
      "Ground Truth: B (from 'b) No')\n",
      "With Context: A\n",
      "Without Context: A\n",
      "\n",
      "Question 370: Can wet AMD impair driving by inducing retinal pigment epithelial atrophy? a) Yes b) No c) Only with drusen d) Only with smoking\n",
      "Ground Truth: A (from 'a) Yes')\n",
      "With Context: A\n",
      "Without Context: A\n",
      "\n",
      "Question 371: Does smoking exacerbate AMD by increasing retinal pigment epithelial lipid peroxidation? a) Yes b) No c) Only with UV exposure d) Only with high cholesterol\n",
      "Ground Truth: A (from 'a) Yes')\n",
      "With Context: A\n",
      "Without Context: A\n",
      "\n",
      "Question 372: Can dry AMD progress to wet AMD due to excessive retinal pigment epithelial hypoxia? a) Yes b) No c) Only with smoking d) Only with diabetes\n",
      "Ground Truth: A (from 'a) Yes')\n",
      "With Context: A\n",
      "Without Context: A\n",
      "\n",
      "Question 373: Does family history elevate AMD risk by increasing retinal pigment epithelial susceptibility to lipid deposits? a) Yes b) No c) Only in men d) Only with hypertension\n",
      "Ground Truth: A (from 'a) Yes')\n",
      "With Context: A\n",
      "Without Context: A\n",
      "\n",
      "Question 374: Can anti-VEGF injections treat wet AMD by reducing retinal pigment epithelial inflammation? a) Yes b) No c) Partially d) Only early stages\n",
      "Ground Truth: A (from 'a) Yes')\n",
      "With Context: A\n",
      "Without Context: B\n",
      "\n",
      "Question 375: Does hypertension worsen AMD by causing retinal pigment epithelial lipid accumulation? a) Yes b) No c) Only with diabetes d) Only with smoking\n",
      "Ground Truth: B (from 'b) No')\n",
      "With Context: A\n",
      "Without Context: A\n",
      "\n",
      "Question 376: Can the Amsler grid detect wet AMD by identifying retinal pigment epithelial detachment? a) Yes b) No c) Sometimes d) Only late stages\n",
      "Ground Truth: B (from 'b) No')\n",
      "With Context: B\n",
      "Without Context: A\n",
      "\n",
      "Question 377: Does UV light exposure accelerate AMD by causing retinal pigment epithelial oxidative stress? a) Yes b) No c) Only with light eyes d) Only with smoking\n",
      "Ground Truth: A (from 'a) Yes')\n",
      "With Context: A\n",
      "Without Context: A\n",
      "\n",
      "Question 378: Can AREDS supplements slow dry AMD by reducing retinal pigment epithelial lipid peroxidation? a) Yes b) No c) Partially d) Only with zinc\n",
      "Ground Truth: B (from 'b) No')\n",
      "With Context: C\n",
      "Without Context: C\n",
      "\n",
      "Question 379: Does obesity increase AMD risk by enhancing retinal pigment epithelial oxidative damage? a) Yes b) No c) Only with diabetes d) Only with hypertension\n",
      "Ground Truth: A (from 'a) Yes')\n",
      "With Context: A\n",
      "Without Context: A\n",
      "\n",
      "Question 380: Can wet AMD cause sudden vision loss by inducing retinal pigment epithelial scarring? a) Yes b) No c) Only with drusen d) Only with UV exposure\n",
      "Ground Truth: A (from 'a) Yes')\n",
      "With Context: A\n",
      "Without Context: A\n",
      "\n",
      "Question 381: Does diabetes heighten AMD risk by causing retinal pigment epithelial lipid peroxidation? a) Yes b) No c) Only with smoking d) Only with obesity\n",
      "Ground Truth: B (from 'b) No')\n",
      "With Context: A\n",
      "Without Context: A\n",
      "\n",
      "Question 382: Can OCT diagnose wet AMD by detecting retinal pigment epithelial lipid deposits? a) Yes b) No c) Only late stages d) Only with drusen\n",
      "Ground Truth: A (from 'a) Yes')\n",
      "With Context: A\n",
      "Without Context: A\n",
      "\n",
      "Question 383: Does smoking worsen dry AMD by accelerating retinal pigment epithelial degeneration? a) Yes b) No c) Only with UV exposure d) Only with high cholesterol\n",
      "Ground Truth: A (from 'a) Yes')\n",
      "With Context: A\n",
      "Without Context: A\n",
      "\n",
      "Question 384: Can photodynamic therapy manage wet AMD by reducing retinal pigment epithelial edema? a) Yes b) No c) Sometimes d) Only early stages\n",
      "Ground Truth: A (from 'a) Yes')\n",
      "With Context: A\n",
      "Without Context: A\n",
      "\n",
      "Question 385: Does a diet rich in leafy greens reduce AMD progression by repairing retinal pigment epithelial damage? a) Yes b) No c) Partially d) Only with supplements\n",
      "Ground Truth: B (from 'b) No')\n",
      "With Context: A\n",
      "Without Context: A\n",
      "\n",
      "Question 386: Can wet AMD lead to legal blindness by causing retinal pigment epithelial degeneration? a) Yes b) No c) Sometimes d) Only late stages\n",
      "Ground Truth: A (from 'a) Yes')\n",
      "With Context: A\n",
      "Without Context: A\n",
      "\n",
      "Question 387: Does high cholesterol increase AMD risk by promoting retinal pigment epithelial lipid peroxidation? a) Yes b) No c) Only with diabetes d) Only with smoking\n",
      "Ground Truth: A (from 'a) Yes')\n",
      "With Context: A\n",
      "Without Context: A\n",
      "\n",
      "Question 388: Can dry AMD transition to wet AMD due to excessive retinal pigment epithelial lipid peroxidation? a) Yes b) No c) Only with drusen d) Only with UV exposure\n",
      "Ground Truth: A (from 'a) Yes')\n",
      "With Context: A\n",
      "Without Context: A\n",
      "\n",
      "Question 389: Does AMD impair color perception by causing retinal pigment epithelial hypoxia? a) Yes b) No c) Sometimes d) Only wet AMD\n",
      "Ground Truth: A (from 'a) Yes')\n",
      "With Context: A\n",
      "Without Context: A\n",
      "\n",
      "Question 390: Does family history increase AMD risk by causing retinal pigment epithelial lipid peroxidation? a) Yes b) No c) Sometimes d) Only with smoking\n",
      "Ground Truth: A (from 'a) Yes')\n",
      "With Context: A\n",
      "Without Context: A\n",
      "\n",
      "Question 391: Can wet AMD distort vision by inducing retinal pigment epithelial lipid peroxidation? a) Yes b) No c) Only with drusen d) Only with hypertension\n",
      "Ground Truth: A (from 'a) Yes')\n",
      "With Context: A\n",
      "Without Context: A\n",
      "\n",
      "Question 392: Can hypertension exacerbate AMD by causing retinal pigment epithelial lipid peroxidation? a) Yes b) No c) Only with diabetes d) Only with obesity\n",
      "Ground Truth: B (from 'b) No')\n",
      "With Context: A\n",
      "Without Context: A\n",
      "\n",
      "Question 393: Does smoking worsen AMD by increasing retinal pigment epithelial lipid peroxidation? a) Yes b) No c) Only with UV exposure d) Only with high cholesterol\n",
      "Ground Truth: A (from 'a) Yes')\n",
      "With Context: A\n",
      "Without Context: A\n",
      "\n",
      "Question 394: Can OCT detect early dry AMD by identifying retinal pigment epithelial lipid peroxidation? a) Yes b) No c) Only late stages d) Only with fluid\n",
      "Ground Truth: A (from 'a) Yes')\n",
      "With Context: A\n",
      "Without Context: A\n",
      "\n",
      "Question 395: Does wet AMD treatment with anti-VEGF injections work by reversing retinal pigment epithelial atrophy? a) Yes b) No c) Partially d) Only early stages\n",
      "Ground Truth: B (from 'b) No')\n",
      "With Context: B\n",
      "Without Context: A\n",
      "\n",
      "Question 396: Can diabetes contribute to AMD by increasing retinal pigment epithelial lipid peroxidation? a) Yes b) No c) Only with smoking d) Only with hypertension\n",
      "Ground Truth: A (from 'a) Yes')\n",
      "With Context: A\n",
      "Without Context: A\n",
      "\n",
      "Question 397: Does UV exposure accelerate AMD by causing retinal pigment epithelial lipid peroxidation? a) Yes b) No c) Only with smoking d) Only with light eyes\n",
      "Ground Truth: A (from 'a) Yes')\n",
      "With Context: A\n",
      "Without Context: A\n",
      "\n",
      "Question 398: Can wet AMD cause rapid vision loss by inducing retinal pigment epithelial lipid peroxidation? a) Yes b) No c) Only with drusen d) Only with hypertension\n",
      "Ground Truth: A (from 'a) Yes')\n",
      "With Context: A\n",
      "Without Context: A\n",
      "\n",
      "Question 399: Does a diet high in antioxidants prevent AMD by reversing retinal pigment epithelial lipid peroxidation? a) Yes b) No c) Partially d) Only with supplements\n",
      "Ground Truth: B (from 'b) No')\n",
      "With Context: A\n",
      "Without Context: A\n",
      "\n",
      "Question 400: Can smoking exacerbate wet AMD by increasing retinal pigment epithelial lipid peroxidation? a) Yes b) No c) Only with UV exposure d) Only with obesity\n",
      "Ground Truth: A (from 'a) Yes')\n",
      "With Context: A\n",
      "Without Context: A\n",
      "\n",
      "Question 401: Does dry AMD affect color perception by causing retinal pigment epithelial lipid peroxidation? a) Yes b) No c) Sometimes d) Only late stages\n",
      "Ground Truth: A (from 'a) Yes')\n",
      "With Context: A\n",
      "Without Context: A\n",
      "\n",
      "Question 402: Can photodynamic therapy treat wet AMD by reducing retinal pigment epithelial lipid peroxidation? a) Yes b) No c) Only early stages d) Only with anti-VEGF\n",
      "Ground Truth: A (from 'a) Yes')\n",
      "With Context: A\n",
      "Without Context: C\n",
      "\n",
      "Question 403: Does obesity increase AMD risk by causing retinal pigment epithelial lipid peroxidation? a) Yes b) No c) Sometimes d) Only with diabetes\n",
      "Ground Truth: A (from 'a) Yes')\n",
      "With Context: A\n",
      "Without Context: A\n",
      "\n",
      "Question 404: Can wet AMD impair reading by causing retinal pigment epithelial lipid peroxidation? a) Yes b) No c) Only with drusen d) Only with smoking\n",
      "Ground Truth: A (from 'a) Yes')\n",
      "With Context: A\n",
      "Without Context: A\n",
      "\n",
      "Question 405: Does high cholesterol contribute to AMD by causing retinal pigment epithelial lipid peroxidation? a) Yes b) No c) Only with hypertension d) Only with diabetes\n",
      "Ground Truth: A (from 'a) Yes')\n",
      "With Context: B\n",
      "Without Context: A\n",
      "\n",
      "Question 406: Can AREDS supplements reduce AMD progression by reversing retinal pigment epithelial lipid peroxidation? a) Yes b) No c) Partially d) Only with zinc\n",
      "Ground Truth: B (from 'b) No')\n",
      "With Context: B\n",
      "Without Context: C\n",
      "\n",
      "Question 407: Does wet AMD cause blind spots by inducing retinal pigment epithelial lipid peroxidation? a) Yes b) No c) Sometimes d) Only late stages\n",
      "Ground Truth: A (from 'a) Yes')\n",
      "With Context: A\n",
      "Without Context: A\n",
      "\n",
      "Question 408: Can family history increase AMD risk by predisposing to retinal pigment epithelial lipid peroxidation? a) Yes b) No c) Only with smoking d) Only with UV exposure\n",
      "Ground Truth: A (from 'a) Yes')\n",
      "With Context: A\n",
      "Without Context: A\n",
      "\n",
      "Question 409: Does dry AMD progress to wet AMD due to excessive retinal pigment epithelial lipid peroxidation? a) Yes b) No c) Sometimes d) Only with obesity\n",
      "Ground Truth: A (from 'a) Yes')\n",
      "With Context: C\n",
      "Without Context: B\n",
      "\n",
      "Question 410: Can anti-VEGF injections improve wet AMD by reducing retinal pigment epithelial lipid peroxidation? a) Yes b) No c) Only early stages d) Only with photodynamic therapy\n",
      "Ground Truth: A (from 'a) Yes')\n",
      "With Context: A\n",
      "Without Context: A\n",
      "\n",
      "Question 411: Does UV light increase AMD risk by causing retinal pigment epithelial lipid peroxidation? a) Yes b) No c) Sometimes d) Only with light eyes\n",
      "Ground Truth: A (from 'a) Yes')\n",
      "With Context: A\n",
      "Without Context: A\n",
      "\n",
      "Question 412: Can wet AMD affect face recognition by causing retinal pigment epithelial lipid peroxidation? a) Yes b) No c) Only with drusen d) Only with smoking\n",
      "Ground Truth: A (from 'a) Yes')\n",
      "With Context: A\n",
      "Without Context: A\n",
      "\n",
      "Question 413: Does hypertension worsen AMD by causing retinal pigment epithelial lipid peroxidation? a) Yes b) No c) Only with diabetes d) Only with high cholesterol\n",
      "Ground Truth: B (from 'b) No')\n",
      "With Context: A\n",
      "Without Context: A\n",
      "\n",
      "Question 414: Can smoking exacerbate AMD by increasing retinal pigment epithelial lipid peroxidation? a) Yes b) No c) Only with UV exposure d) Only with obesity\n",
      "Ground Truth: A (from 'a) Yes')\n",
      "With Context: A\n",
      "Without Context: A\n",
      "\n",
      "Question 415: What is the primary region of the retina affected by AMD? a) Optic disc b) Macula c) Peripheral retina d) Ciliary body\n",
      "Ground Truth: B (from 'b) Macula')\n",
      "With Context: B\n",
      "Without Context: B\n",
      "\n",
      "Question 416: Which type of AMD involves abnormal blood vessel growth? a) Dry AMD b) Wet AMD c) Early AMD d) Intermediate AMD\n",
      "Ground Truth: B (from 'b) Wet AMD')\n",
      "With Context: B\n",
      "Without Context: B\n",
      "\n",
      "Question 417: What are the yellowish deposits in dry AMD called? a) Exudates b) Drusen c) Hemorrhages d) Plaques\n",
      "Ground Truth: B (from 'b) Drusen')\n",
      "With Context: B\n",
      "Without Context: B\n",
      "\n",
      "Question 418: Is AMD a leading cause of blindness in people over 60? a) Yes b) No c) Only in men d) Only in women\n",
      "Ground Truth: A (from 'a) Yes')\n",
      "With Context: A\n",
      "Without Context: B\n",
      "\n",
      "Question 419: What treatment is most commonly used for wet AMD? a) Anti-VEGF injections b) Laser surgery c) Vitamin supplements d) Eye drops\n",
      "Ground Truth: A (from 'a) Anti-VEGF injections')\n",
      "With Context: A\n",
      "Without Context: A\n",
      "\n",
      "Question 420: Which vitamin in the AREDS formula supports retinal health? a) Vitamin B12 b) Vitamin C c) Vitamin D d) Vitamin K\n",
      "Ground Truth: B (from 'b) Vitamin C')\n",
      "With Context: B\n",
      "Without Context: B\n",
      "\n",
      "Question 421: What is the term for distorted vision in AMD? a) Scotoma b) Metamorphopsia c) Photopsia d) Nyctalopia\n",
      "Ground Truth: B (from 'b) Metamorphopsia')\n",
      "With Context: B\n",
      "Without Context: C\n",
      "\n",
      "Question 422: Which imaging technique is used to diagnose AMD? a) Ultrasound b) OCT c) X-ray d) MRI\n",
      "Ground Truth: B (from 'b) OCT')\n",
      "With Context: B\n",
      "Without Context: B\n",
      "\n",
      "Question 423: Does wet AMD account for most advanced cases? a) Yes b) No c) Only in early stages d) Only in late stages\n",
      "Ground Truth: A (from 'a) Yes')\n",
      "With Context: A\n",
      "Without Context: A\n",
      "\n",
      "Question 424: Which habit significantly raises AMD risk? a) Smoking b) Drinking coffee c) Reading in dim light d) Using smartphones\n",
      "Ground Truth: A (from 'a) Smoking')\n",
      "With Context: A\n",
      "Without Context: D\n",
      "\n",
      "Question 425: What is the advanced dry AMD condition with retinal cell loss? a) Macular edema b) Geographic atrophy c) Retinal detachment d) Choroidal rupture\n",
      "Ground Truth: B (from 'b) Geographic atrophy')\n",
      "With Context: B\n",
      "Without Context: B\n",
      "\n",
      "Question 426: Which mineral is included in the AREDS2 formula? a) Iron b) Zinc c) Magnesium d) Calcium\n",
      "Ground Truth: B (from 'b) Zinc')\n",
      "With Context: B\n",
      "Without Context: C\n",
      "\n",
      "Question 427: What is a common early symptom of wet AMD? a) Peripheral vision loss b) Central vision distortion c) Color blindness d) Eye pain\n",
      "Ground Truth: B (from 'b) Central vision distortion')\n",
      "With Context: A\n",
      "Without Context: A\n",
      "\n",
      "Question 428: Is there a significant gender difference in AMD risk? a) Yes, men b) Yes, women c) No d) Only in younger adults\n",
      "Ground Truth: C (from 'c) No')\n",
      "With Context: C\n",
      "Without Context: C\n",
      "\n",
      "Question 429: What does fluorescein angiography detect in AMD? a) Eye pressure b) Blood vessel leakage c) Lens opacity d) Corneal damage\n",
      "Ground Truth: B (from 'b) Blood vessel leakage')\n",
      "With Context: B\n",
      "Without Context: B\n",
      "\n",
      "Question 430: Which retinal pigment may reduce AMD risk? a) Lutein b) Hemoglobin c) Melanin d) Rhodopsin\n",
      "Ground Truth: A (from 'a) Lutein')\n",
      "With Context: C\n",
      "Without Context: A\n",
      "\n",
      "Question 431: What tool helps patients monitor AMD-related vision changes? a) Snellen chart b) Amsler grid c) Ishihara test d) Perimeter\n",
      "Ground Truth: B (from 'b) Amsler grid')\n",
      "With Context: B\n",
      "Without Context: B\n",
      "\n",
      "Question 432: Which feature is unique to wet AMD? a) Drusen b) Choroidal neovascularization c) Retinal thinning d) Pigment clumping\n",
      "Ground Truth: B (from 'b) Choroidal neovascularization')\n",
      "With Context: B\n",
      "Without Context: A\n",
      "\n",
      "Question 433: What is the biggest risk factor for AMD? a) Diabetes b) Aging c) Obesity d) High cholesterol\n",
      "Ground Truth: B (from 'b) Aging')\n",
      "With Context: B\n",
      "Without Context: C\n",
      "\n",
      "Question 434: Which nutrient is linked to slower AMD progression? a) Saturated fats b) Omega-3 fatty acids c) Sugar d) Sodium\n",
      "Ground Truth: B (from 'b) Omega-3 fatty acids')\n",
      "With Context: B\n",
      "Without Context: B\n",
      "\n",
      "Question 435: What is the term for a blind spot in AMD vision? a) Scotoma b) Aura c) Floater d) Halo\n",
      "Ground Truth: A (from 'a) Scotoma')\n",
      "With Context: A\n",
      "Without Context: A\n",
      "\n",
      "Question 436: Which type of light may worsen AMD risk? a) Infrared b) UV light c) Blue light d) Red light\n",
      "Ground Truth: B (from 'b) UV light')\n",
      "With Context: B\n",
      "Without Context: C\n",
      "\n",
      "Question 437: What laser treatment targets blood vessels in wet AMD? a) LASIK b) Photodynamic therapy c) PRK d) LASEK\n",
      "Ground Truth: B (from 'b) Photodynamic therapy')\n",
      "With Context: B\n",
      "Without Context: B\n",
      "\n",
      "Question 438: What is an early sign of dry AMD? a) Large drusen b) Retinal hemorrhage c) Macular edema d) Optic disc swelling\n",
      "Ground Truth: A (from 'a) Large drusen')\n",
      "With Context: A\n",
      "Without Context: A\n",
      "\n",
      "Question 439: What is the goal of low vision aids for AMD patients? a) Cure AMD b) Maximize remaining vision c) Prevent progression d) Restore sight\n",
      "Ground Truth: B (from 'b) Maximize remaining vision')\n",
      "With Context: B\n",
      "Without Context: B\n",
      "\n",
      "Question 440: Which ethnic group has the highest AMD prevalence? a) Caucasians b) African Americans c) Asians d) Hispanics\n",
      "Ground Truth: A (from 'a) Caucasians')\n",
      "With Context: A\n",
      "Without Context: C\n",
      "\n",
      "Question 441: What condition involves fluid in the macula in wet AMD? a) Macular edema b) Macular hole c) Retinal tear d) Choroidal effusion\n",
      "Ground Truth: A (from 'a) Macular edema')\n",
      "With Context: A\n",
      "Without Context: A\n",
      "\n",
      "Question 442: Which symptom is specific to AMD, not glaucoma? a) Peripheral vision loss b) Central vision loss c) Eye redness d) Halos\n",
      "Ground Truth: B (from 'b) Central vision loss')\n",
      "With Context: B\n",
      "Without Context: D\n",
      "\n",
      "Question 443: What protein do anti-VEGF drugs target in wet AMD? a) Collagen b) VEGF c) Keratin d) Albumin\n",
      "Ground Truth: B (from 'b) VEGF')\n",
      "With Context: B\n",
      "Without Context: B\n",
      "\n",
      "Question 444: Which lifestyle change most reduces AMD risk? a) More screen time b) Quitting smoking c) Less sleep d) Higher salt intake\n",
      "Ground Truth: B (from 'b) Quitting smoking')\n",
      "With Context: B\n",
      "Without Context: B\n",
      "\n",
      "Question 445: How often are anti-VEGF injections typically given for wet AMD? a) Yearly b) Every 4-8 weeks c) Monthly d) Once every 6 months\n",
      "Ground Truth: B (from 'b) Every 4-8 weeks')\n",
      "With Context: B\n",
      "Without Context: B\n",
      "\n",
      "Question 446: Which retinal layer supports the macula and is affected in AMD? a) Choroid b) Sclera c) Iris d) Lens\n",
      "Ground Truth: A (from 'a) Choroid')\n",
      "With Context: A\n",
      "Without Context: A\n",
      "\n",
      "Question 447: Which trial updated the AREDS formula? a) AREDS2 b) VISTA c) DRCR.net d) ETDRS\n",
      "Ground Truth: A (from 'a) AREDS2')\n",
      "With Context: A\n",
      "Without Context: A\n",
      "\n",
      "Question 448: What is a rare wet AMD complication? a) Retinal detachment b) Cataracts c) Glaucoma d) Corneal abrasion\n",
      "Ground Truth: A (from 'a) Retinal detachment')\n",
      "With Context: A\n",
      "Without Context: A\n",
      "\n",
      "Question 449: Which antioxidants are in the AREDS formula? a) Vitamins C and E b) Vitamin A and D c) Vitamin B and K d) Vitamin E and F\n",
      "Ground Truth: A (from 'a) Vitamins C and E')\n",
      "With Context: A\n",
      "Without Context: A\n",
      "\n",
      "Question 450: Which symptom is least associated with AMD? a) Blurred central vision b) Peripheral vision loss c) Distorted lines d) Difficulty reading\n",
      "Ground Truth: B (from 'b) Peripheral vision loss')\n",
      "With Context: C\n",
      "Without Context: D\n",
      "\n",
      "Question 451: Which retinal layer nourishes photoreceptors and is damaged in AMD? a) Retinal pigment epithelium b) Inner plexiform layer c) Outer nuclear layer d) Ganglion cell layer\n",
      "Ground Truth: A (from 'a) Retinal pigment epithelium')\n",
      "With Context: A\n",
      "Without Context: A\n",
      "\n",
      "Question 452: What is a side effect of photodynamic therapy for AMD? a) Hair loss b) Light sensitivity c) Weight gain d) Nausea\n",
      "Ground Truth: B (from 'b) Light sensitivity')\n",
      "With Context: C\n",
      "Without Context: B\n",
      "\n",
      "Question 453: What is the prevalence of AMD in people over 80? a) 5% b) 10% c) 25% d) 50%\n",
      "Ground Truth: C (from 'c) 25%')\n",
      "With Context: C\n",
      "Without Context: C\n",
      "\n",
      "Question 454: Which nutrient was removed from AREDS in AREDS2? a) Beta-carotene b) Vitamin E c) Zinc d) Copper\n",
      "Ground Truth: A (from 'a) Beta-carotene')\n",
      "With Context: A\n",
      "Without Context: D\n",
      "\n",
      "Question 455: What happens to photoreceptors in advanced AMD? a) They degenerate b) They multiply c) They migrate d) They harden\n",
      "Ground Truth: A (from 'a) They degenerate')\n",
      "With Context: A\n",
      "Without Context: A\n",
      "\n",
      "Question 456: Which visual aid is commonly used by AMD patients? a) Magnifiers b) Hearing aids c) Wheelchairs d) Crutches\n",
      "Ground Truth: A (from 'a) Magnifiers')\n",
      "With Context: A\n",
      "Without Context: A\n",
      "\n",
      "Question 457: What condition forms scar tissue in wet AMD? a) Macular fibrosis b) Macular edema c) Macular hole d) Retinal tear\n",
      "Ground Truth: A (from 'a) Macular fibrosis')\n",
      "With Context: A\n",
      "Without Context: A\n",
      "\n",
      "Question 458: Which cardiovascular issue increases AMD risk? a) Hypertension b) Low blood pressure c) Anemia d) Heart failure\n",
      "Ground Truth: A (from 'a) Hypertension')\n",
      "With Context: A\n",
      "Without Context: C\n",
      "\n",
      "Question 459: What procedure uses light-sensitive drugs for wet AMD? a) Photodynamic therapy b) LASIK c) Vitrectomy d) Cataract surgery\n",
      "Ground Truth: A (from 'a) Photodynamic therapy')\n",
      "With Context: A\n",
      "Without Context: A\n",
      "\n",
      "Question 460: What is a hallmark of early dry AMD? a) Small drusen b) Large hemorrhages c) Macular swelling d) Optic disc pallor\n",
      "Ground Truth: A (from 'a) Small drusen')\n",
      "With Context: A\n",
      "Without Context: A\n",
      "\n",
      "Question 461: What syndrome causes visual hallucinations in AMD patients? a) Charles Bonnet syndrome b) Stargardt disease c) Leber’s syndrome d) Usher syndrome\n",
      "Ground Truth: A (from 'a) Charles Bonnet syndrome')\n",
      "With Context: A\n",
      "Without Context: A\n",
      "\n",
      "Question 462: At what age should AMD screening begin? a) 30 b) 40 c) 50 d) 60\n",
      "Ground Truth: C (from 'c) 50')\n",
      "With Context: B\n",
      "Without Context: C\n",
      "\n",
      "Question 463: What surgery repositions the macula in severe AMD? a) Macular translocation b) Corneal transplant c) Lens replacement d) Glaucoma surgery\n",
      "Ground Truth: A (from 'a) Macular translocation')\n",
      "With Context: A\n",
      "Without Context: A\n",
      "\n",
      "Question 464: What is a feature of intermediate AMD? a) Large drusen b) Retinal detachment c) Choroidal rupture d) Optic nerve swelling\n",
      "Ground Truth: A (from 'a) Large drusen')\n",
      "With Context: A\n",
      "Without Context: A\n",
      "\n",
      "Question 465: Why are sunglasses recommended for AMD prevention? a) Reduce UV exposure b) Improve night vision c) Enhance color vision d) Prevent dry eyes\n",
      "Ground Truth: A (from 'a) Reduce UV exposure')\n",
      "With Context: A\n",
      "Without Context: A\n",
      "\n",
      "Question 466: Which gene is most linked to AMD risk? a) CFH b) BRCA1 c) TP53 d) LDLR\n",
      "Ground Truth: A (from 'a) CFH')\n",
      "With Context: A\n",
      "Without Context: A\n",
      "\n",
      "Question 467: What condition involves a hole in the macula in some AMD cases? a) Macular hole b) Macular pucker c) Macular edema d) Macular fibrosis\n",
      "Ground Truth: A (from 'a) Macular hole')\n",
      "With Context: A\n",
      "Without Context: C\n",
      "\n",
      "Question 468: Which psychological issue can AMD cause? a) Depression b) Euphoria c) Improved focus d) Increased energy\n",
      "Ground Truth: A (from 'a) Depression')\n",
      "With Context: A\n",
      "Without Context: C\n",
      "\n",
      "Question 469: What test measures retinal function in AMD? a) ERG b) VEP c) Tonometry d) Pachymetry\n",
      "Ground Truth: A (from 'a) ERG')\n",
      "With Context: A\n",
      "Without Context: A\n",
      "\n",
      "Question 470: Which adaptation helps AMD patients read? a) High-contrast materials b) Dim lighting c) Smaller fonts d) More noise\n",
      "Ground Truth: A (from 'a) High-contrast materials')\n",
      "With Context: C\n",
      "Without Context: C\n",
      "\n",
      "Question 471: What condition wrinkles the retina in AMD? a) Epiretinal membrane b) Retinal tear c) Choroidal rupture d) Vitreous detachment\n",
      "Ground Truth: A (from 'a) Epiretinal membrane')\n",
      "With Context: A\n",
      "Without Context: A\n",
      "\n",
      "Question 472: Which AREDS2 nutrient filters blue light? a) Zeaxanthin b) Vitamin C c) Copper d) Zinc\n",
      "Ground Truth: A (from 'a) Zeaxanthin')\n",
      "With Context: A\n",
      "Without Context: C\n",
      "\n",
      "Question 473: What condition involves blood leakage in wet AMD? a) Macular hemorrhage b) Macular edema c) Macular atrophy d) Macular hole\n",
      "Ground Truth: A (from 'a) Macular hemorrhage')\n",
      "With Context: B\n",
      "Without Context: B\n",
      "\n",
      "Question 474: Which emerging therapy might treat dry AMD? a) Stem cell therapy b) Laser surgery c) Cataract removal d) Glaucoma drainage\n",
      "Ground Truth: A (from 'a) Stem cell therapy')\n",
      "With Context: A\n",
      "Without Context: A\n",
      "\n",
      "Question 475: Which layer degenerates in geographic atrophy? a) Retinal pigment epithelium b) Inner limiting membrane c) Outer nuclear layer d) Ganglion cell layer\n",
      "Ground Truth: A (from 'a) Retinal pigment epithelium')\n",
      "With Context: C\n",
      "Without Context: C\n",
      "\n",
      "Question 476: Which mobility aid is used by AMD patients? a) White cane b) Wheelchair c) Hearing aid d) Prosthetic limb\n",
      "Ground Truth: A (from 'a) White cane')\n",
      "With Context: A\n",
      "Without Context: B\n",
      "\n",
      "Question 477: What causes retinal thinning in dry AMD? a) Geographic atrophy b) Macular edema c) Macular fibrosis d) Macular hemorrhage\n",
      "Ground Truth: A (from 'a) Geographic atrophy')\n",
      "With Context: C\n",
      "Without Context: C\n",
      "\n",
      "Question 478: Which job-related factor may increase AMD risk? a) Sun exposure b) Night shifts c) Heavy lifting d) Desk work\n",
      "Ground Truth: A (from 'a) Sun exposure')\n",
      "With Context: A\n",
      "Without Context: A\n",
      "\n",
      "Question 479: What drug class reduces blood vessel growth in wet AMD? a) Anti-VEGF b) Antibiotics c) Antihistamines d) Analgesics\n",
      "Ground Truth: A (from 'a) Anti-VEGF')\n",
      "With Context: A\n",
      "Without Context: A\n",
      "\n",
      "Question 480: What is seen on OCT in wet AMD? a) Subretinal fluid b) Optic disc drusen c) Corneal thinning d) Lens opacities\n",
      "Ground Truth: A (from 'a) Subretinal fluid')\n",
      "With Context: A\n",
      "Without Context: A\n",
      "\n",
      "Question 481: What severe condition can wet AMD cause? a) Retinal detachment b) Retinal tear c) Retinal schisis d) Retinal hole\n",
      "Ground Truth: A (from 'a) Retinal detachment')\n",
      "With Context: A\n",
      "Without Context: C\n",
      "\n",
      "Question 482: Which diet increases AMD risk? a) High fat b) High fiber c) High protein d) High carbs\n",
      "Ground Truth: A (from 'a) High fat')\n",
      "With Context: A\n",
      "Without Context: A\n",
      "\n",
      "Question 483: What test assesses color vision changes in AMD? a) Ishihara test b) Amsler grid c) Snellen chart d) Visual field test\n",
      "Ground Truth: A (from 'a) Ishihara test')\n",
      "With Context: B\n",
      "Without Context: A\n",
      "\n",
      "Question 484: What can untreated dry AMD progress to? a) Geographic atrophy b) Corneal ulcer c) Optic nerve damage d) Lens dislocation\n",
      "Ground Truth: A (from 'a) Geographic atrophy')\n",
      "With Context: A\n",
      "Without Context: C\n",
      "\n",
      "Question 485: What condition blocks retinal blood vessels in AMD? a) Retinal vascular occlusion b) Choroidal neovascularization c) Retinal hemorrhage d) Macular edema\n",
      "Ground Truth: A (from 'a) Retinal vascular occlusion')\n",
      "With Context: B\n",
      "Without Context: C\n",
      "\n",
      "Question 486: Which reading aid helps AMD patients? a) Large-print books b) Ear plugs c) Walking sticks d) Compression socks\n",
      "Ground Truth: A (from 'a) Large-print books')\n",
      "With Context: A\n",
      "Without Context: A\n",
      "\n",
      "Question 487: What causes macular swelling in wet AMD? a) Macular edema b) Macular atrophy c) Macular hole d) Macular pucker\n",
      "Ground Truth: A (from 'a) Macular edema')\n",
      "With Context: A\n",
      "Without Context: A\n",
      "\n",
      "Question 488: What benefit comes from regular eye exams for AMD? a) Early detection b) Complete cure c) Vision restoration d) Disease reversal\n",
      "Ground Truth: A (from 'a) Early detection')\n",
      "With Context: A\n",
      "Without Context: A\n",
      "\n",
      "Question 489: What condition involves pigment clumping in dry AMD? a) Retinal pigment epithelium clumping b) Choroidal atrophy c) Photoreceptor loss d) Macular edema\n",
      "Ground Truth: A (from 'a) Retinal pigment epithelium clumping')\n",
      "With Context: A\n",
      "Without Context: A\n",
      "\n",
      "Question 490: Which technology assists AMD patients with reading? a) Screen readers b) Pacemakers c) Insulin pumps d) Hearing aids\n",
      "Ground Truth: A (from 'a) Screen readers')\n",
      "With Context: A\n",
      "Without Context: A\n",
      "\n",
      "Question 491: What condition tears the retina in severe AMD? a) Retinal tear b) Retinal detachment c) Retinal schisis d) Retinal hole\n",
      "Ground Truth: A (from 'a) Retinal tear')\n",
      "With Context: B\n",
      "Without Context: C\n",
      "\n",
      "Question 492: How does exercise benefit AMD patients? a) Improves retinal blood flow b) Increases drusen c) Worsens vision d) Raises UV exposure\n",
      "Ground Truth: A (from 'a) Improves retinal blood flow')\n",
      "With Context: A\n",
      "Without Context: A\n",
      "\n",
      "Question 493: What condition puckers the macula in AMD? a) Macular pucker b) Macular edema c) Macular hole d) Macular fibrosis\n",
      "Ground Truth: A (from 'a) Macular pucker')\n",
      "With Context: B\n",
      "Without Context: D\n",
      "\n",
      "Question 494: Which future tool might diagnose AMD? a) Artificial intelligence b) Blood pressure monitor c) Pulse oximeter d) EEG\n",
      "Ground Truth: A (from 'a) Artificial intelligence')\n",
      "With Context: A\n",
      "Without Context: A\n",
      "\n",
      "Question 495: What condition dilates retinal blood vessels in AMD? a) Retinal vascular dilation b) Choroidal neovascularization c) Retinal hemorrhage d) Macular edema\n",
      "Ground Truth: A (from 'a) Retinal vascular dilation')\n",
      "With Context: C\n",
      "Without Context: A\n",
      "\n",
      "Question 496: Which cooking aid helps AMD patients? a) High-contrast cutting boards b) Noise-canceling headphones c) Orthopedic shoes d) Glucose monitors\n",
      "Ground Truth: A (from 'a) High-contrast cutting boards')\n",
      "With Context: A\n",
      "Without Context: D\n",
      "\n",
      "Question 497: What disrupts photoreceptors in AMD? a) Photoreceptor disarray b) Retinal pigment epithelium atrophy c) Choroidal atrophy d) Macular edema\n",
      "Ground Truth: A (from 'a) Photoreceptor disarray')\n",
      "With Context: B\n",
      "Without Context: B\n",
      "\n",
      "Question 498: How does quitting smoking help AMD? a) Reduces oxidative stress b) Increases drusen c) Raises blood pressure d) Worsens vision\n",
      "Ground Truth: A (from 'a) Reduces oxidative stress')\n",
      "With Context: A\n",
      "Without Context: A\n",
      "\n",
      "Question 499: What condition leaks blood into the retina in wet AMD? a) Retinal hemorrhage b) Macular edema c) Choroidal rupture d) Vitreous detachment\n",
      "Ground Truth: A (from 'a) Retinal hemorrhage')\n",
      "With Context: B\n",
      "Without Context: A\n",
      "\n",
      "Question 500: Which driving aid assists AMD patients? a) Bioptic telescopes b) Glucose meters c) Oxygen tanks d) Knee braces\n",
      "Ground Truth: A (from 'a) Bioptic telescopes')\n",
      "With Context: A\n",
      "Without Context: A\n",
      "\n",
      "With Context Accuracy: 61.20% (306/500)\n",
      "Without Context Accuracy: 60.60% (303/500)\n",
      "Improvement: 0.60%\n"
     ]
    }
   ],
   "source": [
    "# Parse responses to extract the selected multiple choice option\n",
    "def parse_mcq_answer(response):\n",
    "    \"\"\"\n",
    "    Extract the selected option (A, B, C, D, etc.) from an MCQ response,\n",
    "    handling various formats found in the dataset.\n",
    "    \"\"\"\n",
    "    if not response or not isinstance(response, str):\n",
    "        return None\n",
    "    \n",
    "    # First, normalize whitespace and convert to lowercase\n",
    "    response = response.lower().strip()\n",
    "    \n",
    "    # Check for standalone answer formats\n",
    "    if response in ['a', 'b', 'c', 'd']:\n",
    "        return response.upper()\n",
    "    \n",
    "    if response in ['a)', 'b)', 'c)', 'd)']:\n",
    "        return response[0].upper()\n",
    "    \n",
    "    # If the response starts with option followed by content (e.g., \"a) Yes\")\n",
    "    if re.match(r'^[a-d]\\)', response) or re.match(r'^[a-d]\\) ', response):\n",
    "        return response[0].upper()\n",
    "    \n",
    "    # Look for patterns like \"the best answer is A\"\n",
    "    best_answer_match = re.search(r'best answer is ([a-d])', response)\n",
    "    if best_answer_match:\n",
    "        return best_answer_match.group(1).upper()\n",
    "    \n",
    "    # Look for other common patterns\n",
    "    patterns = [\n",
    "        r'(?:the\\s+answer\\s+is\\s+)([a-d])',  # \"The answer is A\"\n",
    "        r'(?:option\\s+)([a-d])',              # \"Option A\"\n",
    "        r'(?:choice\\s+)([a-d])',              # \"Choice A\" \n",
    "        r'(?:select\\s+)([a-d])',              # \"Select A\"\n",
    "        r'(?:answer[:\\s]+)([a-d])',           # \"Answer: A\"\n",
    "        r'^([a-d])$',                         # Just \"A\" on a line\n",
    "        r'(?:answer\\s+is\\s+)([a-d])',         # \"Answer is A\"\n",
    "        r'(?:\\s+)([a-d])(?:\\s+is\\s+correct)', # \"A is correct\"\n",
    "    ]\n",
    "    \n",
    "    for pattern in patterns:\n",
    "        matches = re.findall(pattern, response)\n",
    "        if matches:\n",
    "            return matches[0].upper()\n",
    "            \n",
    "    # Check for capital letters A-D which are likely to be answers\n",
    "    capital_letters = re.findall(r'\\b([A-D])\\b', response)\n",
    "    if capital_letters:\n",
    "        return capital_letters[0]\n",
    "            \n",
    "    # If no match found with patterns, check for text like \" a \" or \" a.\" or \"a \"\n",
    "    for option in ['a', 'b', 'c', 'd']:\n",
    "        option_pattern = r'\\b{}\\b'.format(option)\n",
    "        if re.search(option_pattern, response):\n",
    "            return option.upper()\n",
    "    \n",
    "    # If still no match, check if there's any A, B, C, D in the text\n",
    "    for char in response:\n",
    "        if char.lower() in ['a', 'b', 'c', 'd']:\n",
    "            return char.upper()\n",
    "    \n",
    "    # No clear answer found\n",
    "    return None\n",
    "\n",
    "# Parse responses into MCQ answers\n",
    "df['with_context_parsed'] = df['with_context_answer'].apply(parse_mcq_answer)\n",
    "df['without_context_parsed'] = df['without_context_answer'].apply(parse_mcq_answer)\n",
    "\n",
    "# Convert reference answers to a standard format\n",
    "def standardize_reference_answer(answer):\n",
    "    \"\"\"\n",
    "    Standardize reference answers to a consistent format (just the letter A, B, C, or D)\n",
    "    \"\"\"\n",
    "    if not answer or not isinstance(answer, str):\n",
    "        return None\n",
    "        \n",
    "    answer = answer.strip().lower()\n",
    "    \n",
    "    # Handle \"A\", \"a\", \"A)\", \"a)\" formats\n",
    "    if answer in ['a', 'b', 'c', 'd']:\n",
    "        return answer.upper()\n",
    "    elif answer in ['a)', 'b)', 'c)', 'd)']:\n",
    "        return answer[0].upper()\n",
    "    \n",
    "    # If answer is \"a) Yes\", \"b) No\", etc.\n",
    "    if re.match(r'^[a-d]\\)', answer):\n",
    "        return answer[0].upper()\n",
    "    \n",
    "    # Try to extract any letter that might be the answer\n",
    "    for char in answer:\n",
    "        if char.lower() in ['a', 'b', 'c', 'd']:\n",
    "            return char.upper()\n",
    "            \n",
    "    return None\n",
    "\n",
    "# Standardize the reference answers\n",
    "df['standardized_answer'] = df['answer'].apply(standardize_reference_answer)\n",
    "\n",
    "# Display results\n",
    "print(\"Parsed Results:\")\n",
    "for index, row in df.iterrows():\n",
    "    print(f\"Question {index+1}: {row['question']}\")\n",
    "    print(f\"Ground Truth: {row['standardized_answer']} (from '{row['answer']}')\")\n",
    "    print(f\"With Context: {row['with_context_parsed']}\")\n",
    "    print(f\"Without Context: {row['without_context_parsed']}\\n\")\n",
    "\n",
    "# Prepare for evaluation using standardized answers\n",
    "references = df['standardized_answer'].tolist()\n",
    "with_context_responses = df['with_context_parsed'].tolist()\n",
    "without_context_responses = df['without_context_parsed'].tolist()\n",
    "\n",
    "# Calculate accuracy\n",
    "with_context_correct = sum(1 for ref, pred in zip(references, with_context_responses) \n",
    "                           if ref == pred and ref is not None)\n",
    "without_context_correct = sum(1 for ref, pred in zip(references, without_context_responses) \n",
    "                             if ref == pred and ref is not None)\n",
    "\n",
    "# Count valid references (non-None)\n",
    "valid_references = sum(1 for ref in references if ref is not None)\n",
    "\n",
    "# Calculate accuracy (if there are valid references)\n",
    "if valid_references > 0:\n",
    "    with_context_accuracy = with_context_correct / valid_references\n",
    "    without_context_accuracy = without_context_correct / valid_references\n",
    "    \n",
    "    print(f\"With Context Accuracy: {with_context_accuracy:.2%} ({with_context_correct}/{valid_references})\")\n",
    "    print(f\"Without Context Accuracy: {without_context_accuracy:.2%} ({without_context_correct}/{valid_references})\")\n",
    "    print(f\"Improvement: {(with_context_accuracy - without_context_accuracy):.2%}\")\n",
    "else:\n",
    "    print(\"No valid references found for evaluation.\")"
   ]
  },
  {
   "cell_type": "code",
   "execution_count": 34,
   "id": "baab9213-f964-4c34-8751-3e21fde46357",
   "metadata": {},
   "outputs": [
    {
     "name": "stdout",
     "output_type": "stream",
     "text": [
      "\n",
      "With Context - Evaluation Metrics:\n",
      "Accuracy: 0.61 (61.2%)\n",
      "Precision (macro): 0.38\n",
      "Recall (macro): 0.46\n",
      "F1-Score (macro): 0.31\n",
      "\n",
      "Confusion Matrix:\n",
      "    A     B     C     D    \n",
      "A:   250     9     7     1\n",
      "B:   155    54    21     0\n",
      "C:     0     1     2     0\n",
      "D:     0     0     0     0\n",
      "\n",
      "Detailed Classification Report:\n",
      "              precision    recall  f1-score   support\n",
      "\n",
      "           A       0.62      0.94      0.74       267\n",
      "           B       0.84      0.23      0.37       230\n",
      "           C       0.07      0.67      0.12         3\n",
      "           D       0.00      0.00      0.00         0\n",
      "\n",
      "    accuracy                           0.61       500\n",
      "   macro avg       0.38      0.46      0.31       500\n",
      "weighted avg       0.72      0.61      0.57       500\n",
      "\n"
     ]
    },
    {
     "name": "stderr",
     "output_type": "stream",
     "text": [
      "/Users/alexlecu/PycharmProjects/LLMKGraph/.local/lib/python3.10/site-packages/sklearn/metrics/_classification.py:1565: UndefinedMetricWarning: Recall is ill-defined and being set to 0.0 in labels with no true samples. Use `zero_division` parameter to control this behavior.\n",
      "  _warn_prf(average, modifier, f\"{metric.capitalize()} is\", len(result))\n",
      "/Users/alexlecu/PycharmProjects/LLMKGraph/.local/lib/python3.10/site-packages/sklearn/metrics/_classification.py:1565: UndefinedMetricWarning: Recall is ill-defined and being set to 0.0 in labels with no true samples. Use `zero_division` parameter to control this behavior.\n",
      "  _warn_prf(average, modifier, f\"{metric.capitalize()} is\", len(result))\n",
      "/Users/alexlecu/PycharmProjects/LLMKGraph/.local/lib/python3.10/site-packages/sklearn/metrics/_classification.py:1565: UndefinedMetricWarning: Recall is ill-defined and being set to 0.0 in labels with no true samples. Use `zero_division` parameter to control this behavior.\n",
      "  _warn_prf(average, modifier, f\"{metric.capitalize()} is\", len(result))\n"
     ]
    }
   ],
   "source": [
    "# Calculate metrics for with-context responses\n",
    "with_context_metrics = {}\n",
    "\n",
    "# Filter out None values\n",
    "valid_indices = [i for i, x in enumerate(with_context_responses) if x is not None]\n",
    "valid_refs = [references[i] for i in valid_indices]\n",
    "valid_preds = [with_context_responses[i] for i in valid_indices]\n",
    "\n",
    "if valid_preds:\n",
    "    # Basic accuracy calculation\n",
    "    with_context_metrics['accuracy'] = accuracy_score(valid_refs, valid_preds)\n",
    "    \n",
    "    # For multi-class classification, we need to specify average method\n",
    "    with_context_metrics['precision'] = precision_score(valid_refs, valid_preds, average='macro', zero_division=0)\n",
    "    with_context_metrics['recall'] = recall_score(valid_refs, valid_preds, average='macro', zero_division=0)\n",
    "    with_context_metrics['f1'] = f1_score(valid_refs, valid_preds, average='macro', zero_division=0)\n",
    "    \n",
    "    # Generate confusion matrix with proper labels\n",
    "    labels = sorted(set(valid_refs + valid_preds))\n",
    "    with_context_metrics['confusion_matrix'] = confusion_matrix(valid_refs, valid_preds, labels=labels)\n",
    "    \n",
    "    # Add classification report for per-class metrics\n",
    "    with_context_metrics['classification_report'] = classification_report(valid_refs, valid_preds, labels=labels)\n",
    "    \n",
    "    # Print evaluation results\n",
    "    print(\"\\nWith Context - Evaluation Metrics:\")\n",
    "    print(f\"Accuracy: {with_context_metrics['accuracy']:.2f} ({with_context_metrics['accuracy'] * 100:.1f}%)\")\n",
    "    print(f\"Precision (macro): {with_context_metrics['precision']:.2f}\")\n",
    "    print(f\"Recall (macro): {with_context_metrics['recall']:.2f}\")\n",
    "    print(f\"F1-Score (macro): {with_context_metrics['f1']:.2f}\")\n",
    "    \n",
    "    # Pretty print confusion matrix with labels\n",
    "    cm = with_context_metrics['confusion_matrix']\n",
    "    print(\"\\nConfusion Matrix:\")\n",
    "    print(\"    \" + \" \".join(f\"{label:5s}\" for label in labels))\n",
    "    for i, label in enumerate(labels):\n",
    "        print(f\"{label}: {' '.join(f'{cm[i, j]:5d}' for j in range(len(labels)))}\")\n",
    "    \n",
    "    # Print classification report\n",
    "    print(\"\\nDetailed Classification Report:\")\n",
    "    print(with_context_metrics['classification_report'])\n",
    "else:\n",
    "    print(\"No valid predictions to evaluate for with-context responses\")"
   ]
  },
  {
   "cell_type": "code",
   "execution_count": 35,
   "id": "ccf7ccbf-5720-4b8a-ad8d-c6534b2d5b55",
   "metadata": {},
   "outputs": [
    {
     "name": "stdout",
     "output_type": "stream",
     "text": [
      "\n",
      "Without Context - Evaluation Metrics:\n",
      "Accuracy: 0.61 (60.6%)\n",
      "Precision (macro): 0.39\n",
      "Recall (macro): 0.54\n",
      "F1-Score (macro): 0.33\n",
      "\n",
      "Confusion Matrix:\n",
      "    A     B     C     D    \n",
      "A:   226    14    23     4\n",
      "B:   123    74    28     5\n",
      "C:     0     0     3     0\n",
      "D:     0     0     0     0\n",
      "\n",
      "Detailed Classification Report:\n",
      "              precision    recall  f1-score   support\n",
      "\n",
      "           A       0.65      0.85      0.73       267\n",
      "           B       0.84      0.32      0.47       230\n",
      "           C       0.06      1.00      0.11         3\n",
      "           D       0.00      0.00      0.00         0\n",
      "\n",
      "    accuracy                           0.61       500\n",
      "   macro avg       0.39      0.54      0.33       500\n",
      "weighted avg       0.73      0.61      0.61       500\n",
      "\n"
     ]
    },
    {
     "name": "stderr",
     "output_type": "stream",
     "text": [
      "/Users/alexlecu/PycharmProjects/LLMKGraph/.local/lib/python3.10/site-packages/sklearn/metrics/_classification.py:1565: UndefinedMetricWarning: Recall is ill-defined and being set to 0.0 in labels with no true samples. Use `zero_division` parameter to control this behavior.\n",
      "  _warn_prf(average, modifier, f\"{metric.capitalize()} is\", len(result))\n",
      "/Users/alexlecu/PycharmProjects/LLMKGraph/.local/lib/python3.10/site-packages/sklearn/metrics/_classification.py:1565: UndefinedMetricWarning: Recall is ill-defined and being set to 0.0 in labels with no true samples. Use `zero_division` parameter to control this behavior.\n",
      "  _warn_prf(average, modifier, f\"{metric.capitalize()} is\", len(result))\n",
      "/Users/alexlecu/PycharmProjects/LLMKGraph/.local/lib/python3.10/site-packages/sklearn/metrics/_classification.py:1565: UndefinedMetricWarning: Recall is ill-defined and being set to 0.0 in labels with no true samples. Use `zero_division` parameter to control this behavior.\n",
      "  _warn_prf(average, modifier, f\"{metric.capitalize()} is\", len(result))\n"
     ]
    }
   ],
   "source": [
    "# Calculate metrics for without-context responses\n",
    "without_context_metrics = {}\n",
    "\n",
    "# Filter out None values\n",
    "valid_indices = [i for i, x in enumerate(without_context_responses) if x is not None]\n",
    "valid_refs = [references[i] for i in valid_indices]\n",
    "valid_preds = [without_context_responses[i] for i in valid_indices]\n",
    "\n",
    "if valid_preds:\n",
    "    # Basic accuracy calculation\n",
    "    without_context_metrics['accuracy'] = accuracy_score(valid_refs, valid_preds)\n",
    "    \n",
    "    # For multi-class classification, we need to specify average method\n",
    "    without_context_metrics['precision'] = precision_score(valid_refs, valid_preds, average='macro', zero_division=0)\n",
    "    without_context_metrics['recall'] = recall_score(valid_refs, valid_preds, average='macro', zero_division=0)\n",
    "    without_context_metrics['f1'] = f1_score(valid_refs, valid_preds, average='macro', zero_division=0)\n",
    "    \n",
    "    # Generate confusion matrix with proper labels\n",
    "    labels = sorted(set(valid_refs + valid_preds))\n",
    "    without_context_metrics['confusion_matrix'] = confusion_matrix(valid_refs, valid_preds, labels=labels)\n",
    "    \n",
    "    # Add classification report for per-class metrics\n",
    "    without_context_metrics['classification_report'] = classification_report(valid_refs, valid_preds, labels=labels)\n",
    "    \n",
    "    # Print evaluation results\n",
    "    print(\"\\nWithout Context - Evaluation Metrics:\")\n",
    "    print(f\"Accuracy: {without_context_metrics['accuracy']:.2f} ({without_context_metrics['accuracy'] * 100:.1f}%)\")\n",
    "    print(f\"Precision (macro): {without_context_metrics['precision']:.2f}\")\n",
    "    print(f\"Recall (macro): {without_context_metrics['recall']:.2f}\")\n",
    "    print(f\"F1-Score (macro): {without_context_metrics['f1']:.2f}\")\n",
    "    \n",
    "    # Pretty print confusion matrix with labels\n",
    "    cm = without_context_metrics['confusion_matrix']\n",
    "    print(\"\\nConfusion Matrix:\")\n",
    "    print(\"    \" + \" \".join(f\"{label:5s}\" for label in labels))\n",
    "    for i, label in enumerate(labels):\n",
    "        print(f\"{label}: {' '.join(f'{cm[i, j]:5d}' for j in range(len(labels)))}\")\n",
    "    \n",
    "    # Print classification report\n",
    "    print(\"\\nDetailed Classification Report:\")\n",
    "    print(without_context_metrics['classification_report'])\n",
    "else:\n",
    "    print(\"No valid predictions to evaluate for without-context responses\")"
   ]
  },
  {
   "cell_type": "code",
   "execution_count": 38,
   "id": "6936f18c-bb6b-4e9d-b74f-b195c584232a",
   "metadata": {},
   "outputs": [
    {
     "name": "stdout",
     "output_type": "stream",
     "text": [
      "\n",
      "Error Analysis:\n",
      "----------------------------------------------------------------------------------------------------\n",
      "Question                                           | Truth | With Ctx | Without Ctx | Notes\n",
      "----------------------------------------------------------------------------------------------------\n",
      "Which factor increases wet AMD risk by promotin... | A     | D        | A          | Context misled\n",
      "Can dry AMD progress to geographic atrophy due ... | B     | A        | A          | Both incorrect\n",
      "Can anti-VEGF injections treat wet AMD by reduc... | B     | A        | B          | Context misled\n",
      "Does hypertension worsen AMD by elevating choro... | B     | A        | A          | Both incorrect\n",
      "Can the Amsler grid detect wet AMD by revealing... | B     | C        | B          | Context misled\n",
      "Does UV exposure accelerate AMD by triggering i... | B     | A        | B          | Context misled\n",
      "Can AREDS supplements slow dry AMD by reversing... | B     | C        | A          | Both incorrect\n",
      "Does diabetes heighten AMD risk by causing dire... | B     | A        | C          | Both incorrect\n",
      "Does a diet rich in leafy greens reduce AMD ris... | B     | A        | C          | Both incorrect\n",
      "Can wet AMD cause legal blindness by impairing ... | B     | A        | A          | Both incorrect\n",
      "Does AMD impair depth perception by causing cho... | B     | A        | A          | Both incorrect\n",
      "Does family history increase AMD risk by causin... | B     | C        | B          | Context misled\n",
      "Does dry AMD progress slowly because it avoids ... | B     | A        | A          | Both incorrect\n",
      "Can hypertension exacerbate AMD by causing reti... | B     | A        | A          | Both incorrect\n",
      "Does wet AMD treatment with anti-VEGF injection... | B     | A        | A          | Both incorrect\n",
      "Does dry AMD progress to geographic atrophy by ... | B     | A        | A          | Both incorrect\n",
      "Does UV exposure accelerate AMD by causing imme... | B     | A        | B          | Context misled\n",
      "Does a diet high in antioxidants prevent AMD by... | B     | A        | C          | Both incorrect\n",
      "Does dry AMD affect color perception by causing... | B     | A        | A          | Both incorrect\n",
      "Can AREDS supplements reduce AMD progression by... | B     | C        | D          | Both incorrect\n",
      "Does wet AMD cause blind spots by inducing reti... | B     | A        | B          | Context misled\n",
      "Does UV light increase AMD risk by causing reti... | B     | A        | A          | Both incorrect\n",
      "Does hypertension worsen AMD by causing retinal... | B     | A        | B          | Context misled\n",
      "Does diabetes increase AMD risk by causing reti... | B     | C        | A          | Both incorrect\n",
      "Does family history elevate AMD risk by causing... | B     | B        | A          | Context helped\n",
      "Can anti-VEGF therapy stabilize wet AMD by redu... | A     | A        | C          | Context helped\n",
      "Does smoking increase dry AMD risk by causing r... | B     | A        | A          | Both incorrect\n",
      "Does high cholesterol exacerbate AMD by causing... | B     | A        | A          | Both incorrect\n",
      "Can AREDS supplements mitigate AMD risk by reve... | B     | A        | C          | Both incorrect\n",
      "Does wet AMD cause depth perception issues by i... | B     | A        | A          | Both incorrect\n",
      "Does UV light exposure increase AMD risk by cau... | B     | A        | A          | Both incorrect\n",
      "Does hypertension contribute to AMD by causing ... | B     | A        | B          | Context misled\n",
      "Does dry AMD impair reading by causing retinal ... | B     | A        | C          | Both incorrect\n",
      "Can OCT detect early AMD by visualizing retinal... | A     | A        | B          | Context helped\n",
      "Does diabetes exacerbate AMD by causing retinal... | B     | A        | A          | Both incorrect\n",
      "Does family history elevate AMD risk by causing... | B     | A        | A          | Both incorrect\n",
      "Does smoking increase AMD risk by causing retin... | B     | A        | A          | Both incorrect\n",
      "Does high cholesterol exacerbate AMD by causing... | B     | A        | A          | Both incorrect\n",
      "Can AREDS supplements mitigate AMD risk by reve... | B     | A        | C          | Both incorrect\n",
      "Does wet AMD cause depth perception issues by i... | B     | A        | A          | Both incorrect\n",
      "Does dry AMD progress to geographic atrophy due... | B     | A        | A          | Both incorrect\n",
      "Can photodynamic therapy treat wet AMD by reduc... | A     | A        | C          | Context helped\n",
      "Does UV light exposure increase AMD risk by cau... | B     | A        | A          | Both incorrect\n",
      "Does hypertension contribute to AMD by causing ... | B     | B        | A          | Context helped\n",
      "Does dry AMD impair reading by causing retinal ... | A     | A        | B          | Context helped\n",
      "Can OCT diagnose wet AMD by detecting retinal p... | A     | A        | B          | Context helped\n",
      "Does diabetes increase AMD risk by causing reti... | B     | A        | A          | Both incorrect\n",
      "Does family history elevate AMD risk by causing... | B     | A        | A          | Both incorrect\n",
      "Does smoking increase AMD risk by causing retin... | B     | A        | A          | Both incorrect\n",
      "Does high blood pressure worsen AMD by causing ... | B     | A        | A          | Both incorrect\n",
      "Can the Amsler grid detect wet AMD by assessing... | B     | A        | B          | Context misled\n",
      "Does UV light exposure accelerate AMD by causin... | B     | A        | A          | Both incorrect\n",
      "Can AREDS supplements slow dry AMD by repairing... | B     | A        | A          | Both incorrect\n",
      "Does diabetes increase AMD risk by causing reti... | B     | A        | B          | Context misled\n",
      "Can photodynamic therapy manage wet AMD by reve... | B     | A        | B          | Context misled\n",
      "Does a diet high in leafy greens reduce AMD pro... | B     | A        | A          | Both incorrect\n",
      "Can wet AMD lead to legal blindness by causing ... | B     | A        | A          | Both incorrect\n",
      "Does AMD impair color perception by inducing re... | B     | A        | A          | Both incorrect\n",
      "Does family history increase AMD risk by causin... | B     | A        | A          | Both incorrect\n",
      "Does dry AMD progress slowly because it avoids ... | B     | A        | A          | Both incorrect\n",
      "Can high blood pressure exacerbate AMD by causi... | B     | A        | A          | Both incorrect\n",
      "Does UV exposure accelerate AMD by causing reti... | B     | A        | A          | Both incorrect\n",
      "Does a diet high in antioxidants prevent AMD by... | B     | B        | C          | Context helped\n",
      "Does dry AMD affect color perception by causing... | B     | B        | A          | Context helped\n",
      "Can photodynamic therapy treat wet AMD by reduc... | A     | A        | C          | Context helped\n",
      "Does obesity increase AMD risk by causing retin... | B     | A        | A          | Both incorrect\n",
      "Does high cholesterol contribute to AMD by incr... | B     | A        | B          | Context misled\n",
      "Can AREDS supplements reduce AMD progression by... | B     | A        | B          | Context misled\n",
      "Does wet AMD cause blind spots by inducing reti... | B     | A        | A          | Both incorrect\n",
      "Does dry AMD progress to wet AMD due to excessi... | B     | A        | B          | Context misled\n",
      "Does UV light increase AMD risk by causing reti... | B     | A        | A          | Both incorrect\n",
      "Does hypertension worsen AMD by causing retinal... | B     | B        | C          | Context helped\n",
      "Can OCT confirm wet AMD by detecting retinal pi... | A     | A        | C          | Context helped\n",
      "Does smoking increase dry AMD risk by causing r... | B     | A        | A          | Both incorrect\n",
      "Does high cholesterol exacerbate AMD by causing... | B     | A        | A          | Both incorrect\n",
      "Can AREDS supplements mitigate AMD risk by reve... | B     | A        | B          | Context misled\n",
      "Does wet AMD cause depth perception issues by i... | B     | A        | A          | Both incorrect\n",
      "Does dry AMD progress to geographic atrophy due... | B     | C        | B          | Context misled\n",
      "Can photodynamic therapy treat wet AMD by reduc... | A     | A        | C          | Context helped\n",
      "Can dry AMD progress to wet AMD due to excessiv... | B     | A        | A          | Both incorrect\n",
      "Can anti-VEGF injections treat wet AMD by rever... | B     | A        | B          | Context misled\n",
      "Does hypertension worsen AMD by causing retinal... | B     | B        | C          | Context helped\n",
      "Does UV light exposure accelerate AMD by causin... | B     | A        | A          | Both incorrect\n",
      "Can AREDS supplements slow dry AMD by regenerat... | B     | A        | A          | Both incorrect\n",
      "Does diabetes increase AMD risk by causing reti... | B     | A        | A          | Both incorrect\n",
      "Can photodynamic therapy manage wet AMD by reve... | B     | A        | B          | Context misled\n",
      "Does a diet high in leafy greens reduce AMD pro... | B     | A        | A          | Both incorrect\n",
      "Can wet AMD lead to legal blindness by causing ... | B     | B        | A          | Context helped\n",
      "Does AMD impair color perception by causing ret... | B     | C        | C          | Both incorrect\n",
      "Does family history increase AMD risk by causin... | B     | A        | A          | Both incorrect\n",
      "Does dry AMD progress slowly because it avoids ... | B     | A        | A          | Both incorrect\n",
      "Can hypertension exacerbate AMD by causing reti... | B     | A        | A          | Both incorrect\n",
      "Does wet AMD treatment with anti-VEGF injection... | B     | C        | C          | Both incorrect\n",
      "Does dry AMD progress to geographic atrophy by ... | B     | A        | A          | Both incorrect\n",
      "Can AMD increase fall risk by impairing retinal... | A     | A        | C          | Context helped\n",
      "Does UV exposure accelerate AMD by causing reti... | B     | C        | A          | Both incorrect\n",
      "Does a diet high in antioxidants prevent AMD by... | B     | C        | C          | Both incorrect\n",
      "Does dry AMD affect color perception by causing... | B     | A        | A          | Both incorrect\n",
      "Can photodynamic therapy manage wet AMD by redu... | A     | A        | B          | Context helped\n",
      "Does obesity increase AMD risk by causing retin... | B     | A        | C          | Both incorrect\n",
      "Does high cholesterol contribute to AMD by caus... | B     | A        | A          | Both incorrect\n",
      "Can AREDS supplements reduce AMD progression by... | B     | C        | A          | Both incorrect\n",
      "Does dry AMD progress to wet AMD due to excessi... | B     | A        | A          | Both incorrect\n",
      "Does UV light increase AMD risk by causing reti... | B     | A        | B          | Context misled\n",
      "Does hypertension worsen AMD by causing retinal... | B     | A        | B          | Context misled\n",
      "Does dry AMD cause gradual vision loss by induc... | B     | A        | A          | Both incorrect\n",
      "Does smoking increase dry AMD risk by causing r... | B     | A        | A          | Both incorrect\n",
      "Does hypertension contribute to AMD by causing ... | B     | A        | C          | Both incorrect\n",
      "Does diabetes exacerbate AMD by causing retinal... | B     | A        | A          | Both incorrect\n",
      "Does hypertension exacerbate AMD by causing ret... | B     | A        | A          | Both incorrect\n",
      "Can the Amsler grid detect wet AMD by assessing... | B     | A        | A          | Both incorrect\n",
      "Does UV light exposure accelerate AMD by causin... | B     | A        | B          | Context misled\n",
      "Can AREDS supplements slow dry AMD by reversing... | B     | A        | A          | Both incorrect\n",
      "Does diabetes heighten AMD risk by causing reti... | B     | A        | C          | Both incorrect\n",
      "Can photodynamic therapy manage wet AMD by reve... | B     | B        | A          | Context helped\n",
      "Does a diet high in leafy greens reduce AMD pro... | B     | C        | B          | Context misled\n",
      "Can wet AMD lead to legal blindness by causing ... | B     | A        | A          | Both incorrect\n",
      "Does high cholesterol increase AMD risk by caus... | A     | B        | A          | Context misled\n",
      "Does AMD impair color perception by causing ret... | B     | A        | B          | Context misled\n",
      "Does family history increase AMD risk by causin... | B     | A        | A          | Both incorrect\n",
      "Does dry AMD progress slowly because it avoids ... | B     | A        | A          | Both incorrect\n",
      "Can hypertension exacerbate AMD by causing reti... | B     | A        | B          | Context misled\n",
      "Does wet AMD treatment with anti-VEGF injection... | B     | B        | D          | Context helped\n",
      "Does dry AMD progress to geographic atrophy by ... | B     | A        | A          | Both incorrect\n",
      "Does UV exposure accelerate AMD by causing reti... | B     | A        | B          | Context misled\n",
      "Does a diet high in antioxidants prevent AMD by... | B     | A        | A          | Both incorrect\n",
      "Does dry AMD affect color perception by causing... | B     | A        | B          | Context misled\n",
      "Does obesity increase AMD risk by causing retin... | B     | A        | A          | Both incorrect\n",
      "Can AREDS supplements reduce AMD progression by... | B     | C        | C          | Both incorrect\n",
      "Can family history increase AMD risk by predisp... | B     | A        | A          | Both incorrect\n",
      "Does dry AMD progress to wet AMD due to retinal... | A     | A        | B          | Context helped\n",
      "Does hypertension worsen AMD by causing retinal... | B     | C        | A          | Both incorrect\n",
      "Can dry AMD progress to wet AMD due to excessiv... | B     | A        | B          | Context misled\n",
      "Can anti-VEGF injections treat wet AMD by rever... | B     | A        | B          | Context misled\n",
      "Does hypertension worsen AMD by causing choroid... | B     | A        | A          | Both incorrect\n",
      "Can the Amsler grid detect wet AMD by revealing... | B     | B        | A          | Context helped\n",
      "Does UV light exposure accelerate AMD by trigge... | B     | A        | A          | Both incorrect\n",
      "Can AREDS supplements slow dry AMD by repairing... | B     | A        | C          | Both incorrect\n",
      "Does diabetes increase AMD risk by causing phot... | B     | B        | A          | Context helped\n",
      "Can photodynamic therapy manage wet AMD by redu... | B     | A        | A          | Both incorrect\n",
      "Does a diet rich in leafy greens reduce AMD pro... | B     | C        | A          | Both incorrect\n",
      "Can wet AMD lead to legal blindness by causing ... | B     | A        | A          | Both incorrect\n",
      "Can dry AMD transition to wet AMD due to excess... | A     | A        | B          | Context helped\n",
      "Does AMD impair depth perception by causing opt... | B     | A        | B          | Context misled\n",
      "Does family history increase AMD risk by causin... | B     | A        | B          | Context misled\n",
      "Does dry AMD progress slowly because it lacks p... | B     | A        | A          | Both incorrect\n",
      "Can hypertension exacerbate AMD by increasing r... | B     | A        | A          | Both incorrect\n",
      "Does wet AMD treatment with anti-VEGF injection... | B     | A        | B          | Context misled\n",
      "Does dry AMD progress to geographic atrophy by ... | B     | A        | A          | Both incorrect\n",
      "Does UV exposure accelerate AMD by causing imme... | B     | A        | B          | Context misled\n",
      "Does a diet high in antioxidants prevent AMD by... | B     | A        | B          | Context misled\n",
      "Does dry AMD affect color perception by damagin... | B     | A        | A          | Both incorrect\n",
      "Can photodynamic therapy treat wet AMD by seali... | A     | A        | C          | Context helped\n",
      "Does obesity increase AMD risk by causing retin... | B     | A        | A          | Both incorrect\n",
      "Does high cholesterol contribute to AMD by clog... | B     | A        | A          | Both incorrect\n",
      "Can AREDS supplements reduce AMD progression by... | B     | B        | D          | Context helped\n",
      "Does wet AMD cause blind spots by regenerating ... | B     | A        | B          | Context misled\n",
      "Does UV light increase AMD risk by causing opti... | B     | A        | A          | Both incorrect\n",
      "Does hypertension worsen AMD by causing retinal... | B     | A        | B          | Context misled\n",
      "Can OCT confirm wet AMD by visualizing choroida... | A     | A        | C          | Context helped\n",
      "Does diabetes increase AMD risk by causing reti... | B     | A        | A          | Both incorrect\n",
      "Does family history elevate AMD risk by increas... | B     | A        | A          | Both incorrect\n",
      "Can anti-VEGF therapy prevent wet AMD progressi... | A     | A        | B          | Context helped\n",
      "Does smoking increase dry AMD risk by causing c... | B     | A        | A          | Both incorrect\n",
      "Does high cholesterol exacerbate AMD by causing... | B     | A        | C          | Both incorrect\n",
      "Can AREDS supplements mitigate AMD risk by repa... | B     | A        | C          | Both incorrect\n",
      "Does wet AMD cause depth perception issues by r... | B     | A        | A          | Both incorrect\n",
      "Does dry AMD progress to geographic atrophy due... | B     | A        | C          | Both incorrect\n",
      "Can photodynamic therapy treat wet AMD by shrin... | A     | A        | C          | Context helped\n",
      "Does UV light exposure increase AMD risk by cau... | B     | A        | A          | Both incorrect\n",
      "Does hypertension contribute to AMD by increasi... | B     | A        | A          | Both incorrect\n",
      "Does dry AMD impair reading by causing optic ne... | B     | A        | A          | Both incorrect\n",
      "Does diabetes exacerbate AMD by causing direct ... | B     | A        | A          | Both incorrect\n",
      "Does family history worsen AMD by causing optic... | B     | A        | B          | Context misled\n",
      "Can anti-VEGF injections treat wet AMD by preve... | A     | A        | B          | Context helped\n",
      "Does smoking worsen AMD by causing direct retin... | B     | A        | B          | Context misled\n",
      "Does high cholesterol increase AMD risk by caus... | B     | C        | A          | Both incorrect\n",
      "Can AREDS supplements slow dry AMD by reducing ... | B     | A        | C          | Both incorrect\n",
      "Does wet AMD cause rapid vision loss by regener... | B     | C        | B          | Context misled\n",
      "Does UV light exposure worsen AMD by causing ph... | B     | A        | B          | Context misled\n",
      "Does hypertension increase AMD severity by caus... | B     | A        | B          | Context misled\n",
      "Does dry AMD cause blind spots by damaging reti... | B     | A        | A          | Both incorrect\n",
      "Does diabetes increase AMD risk by causing opti... | B     | A        | A          | Both incorrect\n",
      "Does smoking increase AMD risk by causing retin... | B     | A        | B          | Context misled\n",
      "Can dry AMD progress to wet AMD due to excessiv... | B     | B        | A          | Context helped\n",
      "Does hypertension worsen AMD by causing retinal... | B     | B        | A          | Context helped\n",
      "Can the Amsler grid detect wet AMD by measuring... | B     | A        | A          | Both incorrect\n",
      "Does UV light exposure accelerate AMD by causin... | B     | A        | A          | Both incorrect\n",
      "Does obesity heighten AMD risk by promoting ret... | A     | C        | A          | Context misled\n",
      "Does diabetes increase AMD risk by causing reti... | B     | A        | A          | Both incorrect\n",
      "Can photodynamic therapy manage wet AMD by reve... | B     | A        | B          | Context misled\n",
      "Does a diet high in leafy greens reduce AMD pro... | B     | A        | A          | Both incorrect\n",
      "Does high cholesterol increase AMD risk by prom... | B     | A        | A          | Both incorrect\n",
      "Can dry AMD transition to wet AMD due to retina... | A     | A        | C          | Context helped\n",
      "Does AMD impair color perception by causing ret... | B     | A        | A          | Both incorrect\n",
      "Can hypertension exacerbate AMD by causing reti... | B     | A        | A          | Both incorrect\n",
      "Does UV exposure accelerate AMD by causing reti... | B     | A        | A          | Both incorrect\n",
      "Does a diet high in antioxidants prevent AMD by... | B     | B        | C          | Context helped\n",
      "Does dry AMD affect color perception by causing... | B     | A        | A          | Both incorrect\n",
      "Does obesity increase AMD risk by causing retin... | B     | A        | B          | Context misled\n",
      "Does high cholesterol contribute to AMD by caus... | B     | C        | A          | Both incorrect\n",
      "Does dry AMD progress to wet AMD due to excessi... | B     | A        | A          | Both incorrect\n",
      "Can anti-VEGF injections treat wet AMD by reduc... | A     | A        | B          | Context helped\n",
      "Does hypertension worsen AMD by causing retinal... | B     | A        | A          | Both incorrect\n",
      "Can the Amsler grid detect wet AMD by identifyi... | B     | B        | A          | Context helped\n",
      "Can AREDS supplements slow dry AMD by reducing ... | B     | C        | C          | Both incorrect\n",
      "Does diabetes heighten AMD risk by causing reti... | B     | A        | A          | Both incorrect\n",
      "Does a diet rich in leafy greens reduce AMD pro... | B     | A        | A          | Both incorrect\n",
      "Can hypertension exacerbate AMD by causing reti... | B     | A        | A          | Both incorrect\n",
      "Does wet AMD treatment with anti-VEGF injection... | B     | B        | A          | Context helped\n",
      "Does a diet high in antioxidants prevent AMD by... | B     | A        | A          | Both incorrect\n",
      "Can photodynamic therapy treat wet AMD by reduc... | A     | A        | C          | Context helped\n",
      "Does high cholesterol contribute to AMD by caus... | A     | B        | A          | Context misled\n",
      "Can AREDS supplements reduce AMD progression by... | B     | B        | C          | Context helped\n",
      "Does dry AMD progress to wet AMD due to excessi... | A     | C        | B          | Both incorrect\n",
      "Does hypertension worsen AMD by causing retinal... | B     | A        | A          | Both incorrect\n",
      "Is AMD a leading cause of blindness in people o... | A     | A        | B          | Context helped\n",
      "What is the term for distorted vision in AMD? a... | B     | B        | C          | Context helped\n",
      "Which habit significantly raises AMD risk? a) S... | A     | A        | D          | Context helped\n",
      "Which mineral is included in the AREDS2 formula... | B     | B        | C          | Context helped\n",
      "What is a common early symptom of wet AMD? a) P... | B     | A        | A          | Both incorrect\n",
      "Which retinal pigment may reduce AMD risk? a) L... | A     | C        | A          | Context misled\n",
      "Which feature is unique to wet AMD? a) Drusen b... | B     | B        | A          | Context helped\n",
      "What is the biggest risk factor for AMD? a) Dia... | B     | B        | C          | Context helped\n",
      "Which type of light may worsen AMD risk? a) Inf... | B     | B        | C          | Context helped\n",
      "Which ethnic group has the highest AMD prevalen... | A     | A        | C          | Context helped\n",
      "Which symptom is specific to AMD, not glaucoma?... | B     | B        | D          | Context helped\n",
      "Which symptom is least associated with AMD? a) ... | B     | C        | D          | Both incorrect\n",
      "What is a side effect of photodynamic therapy f... | B     | C        | B          | Context misled\n",
      "Which nutrient was removed from AREDS in AREDS2... | A     | A        | D          | Context helped\n",
      "Which cardiovascular issue increases AMD risk? ... | A     | A        | C          | Context helped\n",
      "At what age should AMD screening begin? a) 30 b... | C     | B        | C          | Context misled\n",
      "What condition involves a hole in the macula in... | A     | A        | C          | Context helped\n",
      "Which psychological issue can AMD cause? a) Dep... | A     | A        | C          | Context helped\n",
      "Which adaptation helps AMD patients read? a) Hi... | A     | C        | C          | Both incorrect\n",
      "Which AREDS2 nutrient filters blue light? a) Ze... | A     | A        | C          | Context helped\n",
      "What condition involves blood leakage in wet AM... | A     | B        | B          | Both incorrect\n",
      "Which layer degenerates in geographic atrophy? ... | A     | C        | C          | Both incorrect\n",
      "Which mobility aid is used by AMD patients? a) ... | A     | A        | B          | Context helped\n",
      "What causes retinal thinning in dry AMD? a) Geo... | A     | C        | C          | Both incorrect\n",
      "What severe condition can wet AMD cause? a) Ret... | A     | A        | C          | Context helped\n",
      "What test assesses color vision changes in AMD?... | A     | B        | A          | Context misled\n",
      "What can untreated dry AMD progress to? a) Geog... | A     | A        | C          | Context helped\n",
      "What condition blocks retinal blood vessels in ... | A     | B        | C          | Both incorrect\n",
      "What condition tears the retina in severe AMD? ... | A     | B        | C          | Both incorrect\n",
      "What condition puckers the macula in AMD? a) Ma... | A     | B        | D          | Both incorrect\n",
      "What condition dilates retinal blood vessels in... | A     | C        | A          | Context misled\n",
      "Which cooking aid helps AMD patients? a) High-c... | A     | A        | D          | Context helped\n",
      "What disrupts photoreceptors in AMD? a) Photore... | A     | B        | B          | Both incorrect\n",
      "What condition leaks blood into the retina in w... | A     | B        | A          | Context misled\n",
      "\n",
      "Summary Statistics:\n",
      "Total questions: 500\n",
      "Answerable questions (with valid ground truth): 500\n",
      "Both approaches correct: 250 (50.0% of answerable)\n",
      "Context helped: 56 (11.2% of answerable)\n",
      "Context misled: 53 (10.6% of answerable)\n",
      "Both approaches incorrect: 141 (28.2% of answerable)\n",
      "\n",
      "Net impact of context: +3 questions (0.6% of answerable)\n"
     ]
    }
   ],
   "source": [
    "# Compare errors between with-context and without-context approaches\n",
    "print(\"\\nError Analysis:\")\n",
    "print(\"-\" * 100)\n",
    "print(f\"{'Question':50} | {'Truth':5} | {'With Ctx':8} | {'Without Ctx':10} | {'Notes'}\")\n",
    "print(\"-\" * 100)\n",
    "\n",
    "# Count different error types\n",
    "context_helped_count = 0\n",
    "context_misled_count = 0\n",
    "both_incorrect_count = 0\n",
    "both_correct_count = 0\n",
    "\n",
    "for i, row in df.iterrows():\n",
    "    # Get standardized answers for comparison\n",
    "    ground_truth = row['standardized_answer']\n",
    "    with_context = row['with_context_parsed']\n",
    "    without_context = row['without_context_parsed']\n",
    "    \n",
    "    # Check if either prediction is incorrect (using standardized answers)\n",
    "    with_context_correct = (with_context == ground_truth) if (with_context is not None and ground_truth is not None) else False\n",
    "    without_context_correct = (without_context == ground_truth) if (without_context is not None and ground_truth is not None) else False\n",
    "    \n",
    "    # Track counts for summary\n",
    "    if with_context_correct and without_context_correct:\n",
    "        both_correct_count += 1\n",
    "    elif with_context_correct and not without_context_correct:\n",
    "        context_helped_count += 1\n",
    "    elif not with_context_correct and without_context_correct:\n",
    "        context_misled_count += 1\n",
    "    elif not with_context_correct and not without_context_correct:\n",
    "        both_incorrect_count += 1\n",
    "    \n",
    "    # Only show questions where at least one approach was incorrect\n",
    "    if not (with_context_correct and without_context_correct) and ground_truth is not None:\n",
    "        # Truncate question for display\n",
    "        question = row['question'][:47] + \"...\" if len(row['question']) > 47 else row['question'].ljust(47)\n",
    "        \n",
    "        # Format for display\n",
    "        truth_display = str(ground_truth).ljust(5) if ground_truth else \"None\".ljust(5)\n",
    "        with_ctx_display = str(with_context).ljust(8) if with_context else \"None\".ljust(8)\n",
    "        without_ctx_display = str(without_context).ljust(10) if without_context else \"None\".ljust(10)\n",
    "        \n",
    "        # Determine notes\n",
    "        if with_context_correct and not without_context_correct:\n",
    "            notes = \"Context helped\"\n",
    "        elif not with_context_correct and without_context_correct:\n",
    "            notes = \"Context misled\"\n",
    "        else:\n",
    "            notes = \"Both incorrect\"\n",
    "            \n",
    "        print(f\"{question} | {truth_display} | {with_ctx_display} | {without_ctx_display} | {notes}\")\n",
    "\n",
    "# Print summary statistics\n",
    "total_questions = len(df)\n",
    "answerable_questions = sum(1 for ans in df['standardized_answer'] if ans is not None)\n",
    "\n",
    "print(\"\\nSummary Statistics:\")\n",
    "print(f\"Total questions: {total_questions}\")\n",
    "print(f\"Answerable questions (with valid ground truth): {answerable_questions}\")\n",
    "print(f\"Both approaches correct: {both_correct_count} ({both_correct_count/answerable_questions*100:.1f}% of answerable)\")\n",
    "print(f\"Context helped: {context_helped_count} ({context_helped_count/answerable_questions*100:.1f}% of answerable)\")\n",
    "print(f\"Context misled: {context_misled_count} ({context_misled_count/answerable_questions*100:.1f}% of answerable)\")\n",
    "print(f\"Both approaches incorrect: {both_incorrect_count} ({both_incorrect_count/answerable_questions*100:.1f}% of answerable)\")\n",
    "\n",
    "# Net impact of context\n",
    "net_impact = context_helped_count - context_misled_count\n",
    "print(f\"\\nNet impact of context: {'+' if net_impact > 0 else ''}{net_impact} questions \" +\n",
    "      f\"({net_impact/answerable_questions*100:.1f}% of answerable)\")"
   ]
  },
  {
   "cell_type": "code",
   "execution_count": 39,
   "id": "5ea50826-2915-47ff-b9a9-c963c293638c",
   "metadata": {},
   "outputs": [
    {
     "data": {
      "image/png": "[encoded data removed]",
      "text/plain": [
       "<Figure size 1000x600 with 1 Axes>"
      ]
     },
     "metadata": {},
     "output_type": "display_data"
    },
    {
     "data": {
      "image/png": "[encoded data removed]",
      "text/plain": [
       "<Figure size 1400x600 with 4 Axes>"
      ]
     },
     "metadata": {},
     "output_type": "display_data"
    },
    {
     "ename": "NameError",
     "evalue": "name 'Counter' is not defined",
     "output_type": "error",
     "traceback": [
      "\u001b[0;31m---------------------------------------------------------------------------\u001b[0m",
      "\u001b[0;31mNameError\u001b[0m                                 Traceback (most recent call last)",
      "Cell \u001b[0;32mIn[39], line 76\u001b[0m\n\u001b[1;32m     74\u001b[0m \u001b[38;5;66;03m# Add class distribution visualization\u001b[39;00m\n\u001b[1;32m     75\u001b[0m plt\u001b[38;5;241m.\u001b[39mfigure(figsize\u001b[38;5;241m=\u001b[39m(\u001b[38;5;241m10\u001b[39m, \u001b[38;5;241m6\u001b[39m))\n\u001b[0;32m---> 76\u001b[0m class_counts \u001b[38;5;241m=\u001b[39m \u001b[43mCounter\u001b[49m(valid_refs)\n\u001b[1;32m     77\u001b[0m class_labels \u001b[38;5;241m=\u001b[39m \u001b[38;5;28msorted\u001b[39m(class_counts\u001b[38;5;241m.\u001b[39mkeys())\n\u001b[1;32m     78\u001b[0m class_values \u001b[38;5;241m=\u001b[39m [class_counts[label] \u001b[38;5;28;01mfor\u001b[39;00m label \u001b[38;5;129;01min\u001b[39;00m class_labels]\n",
      "\u001b[0;31mNameError\u001b[0m: name 'Counter' is not defined"
     ]
    },
    {
     "data": {
      "text/plain": [
       "<Figure size 1000x600 with 0 Axes>"
      ]
     },
     "metadata": {},
     "output_type": "display_data"
    }
   ],
   "source": [
    "# Visualize metrics comparison\n",
    "if with_context_metrics and without_context_metrics:\n",
    "    metrics = ['accuracy', 'precision', 'recall', 'f1']\n",
    "    with_context_values = [with_context_metrics[m] for m in metrics]\n",
    "    without_context_values = [without_context_metrics[m] for m in metrics]\n",
    "    \n",
    "    x = np.arange(len(metrics))\n",
    "    width = 0.35\n",
    "    \n",
    "    fig, ax = plt.subplots(figsize=(10, 6))\n",
    "    rects1 = ax.bar(x - width/2, with_context_values, width, label='With Context', color='#5DA5DA')\n",
    "    rects2 = ax.bar(x + width/2, without_context_values, width, label='Without Context', color='#FAA43A')\n",
    "    \n",
    "    # Add labels and title\n",
    "    ax.set_xlabel('Metrics', fontsize=12)\n",
    "    ax.set_ylabel('Scores', fontsize=12)\n",
    "    ax.set_title('Performance Comparison: With vs. Without Context', fontsize=14, fontweight='bold')\n",
    "    ax.set_xticks(x)\n",
    "    ax.set_xticklabels([m.capitalize() for m in metrics], fontsize=11)\n",
    "    ax.legend(fontsize=11)\n",
    "    ax.set_ylim(0, 1.1)\n",
    "    ax.grid(axis='y', linestyle='--', alpha=0.7)\n",
    "    \n",
    "    # Add value labels\n",
    "    def add_labels(rects):\n",
    "        for rect in rects:\n",
    "            height = rect.get_height()\n",
    "            ax.annotate(f'{height:.2f}',\n",
    "                        xy=(rect.get_x() + rect.get_width() / 2, height),\n",
    "                        xytext=(0, 3),  # 3 points vertical offset\n",
    "                        textcoords=\"offset points\",\n",
    "                        ha='center', va='bottom',\n",
    "                        fontsize=10, fontweight='bold')\n",
    "    \n",
    "    add_labels(rects1)\n",
    "    add_labels(rects2)\n",
    "    \n",
    "    # Add improvement percentages\n",
    "    for i, metric in enumerate(metrics):\n",
    "        improvement = with_context_values[i] - without_context_values[i]\n",
    "        if improvement != 0:\n",
    "            ax.annotate(f'{improvement:+.2f}',\n",
    "                       xy=(i, max(with_context_values[i], without_context_values[i]) + 0.05),\n",
    "                       ha='center',\n",
    "                       color='green' if improvement > 0 else 'red',\n",
    "                       fontweight='bold')\n",
    "    \n",
    "    plt.tight_layout()\n",
    "    plt.show()\n",
    "    \n",
    "    # Visualize confusion matrices for multi-class (MCQ)\n",
    "    fig, (ax1, ax2) = plt.subplots(1, 2, figsize=(14, 6))\n",
    "    \n",
    "    # Get labels from the confusion matrices\n",
    "    labels = sorted(set(valid_refs + valid_preds))\n",
    "    \n",
    "    # With context confusion matrix\n",
    "    sns.heatmap(with_context_metrics['confusion_matrix'], annot=True, fmt='d', cmap='Blues', ax=ax1,\n",
    "                xticklabels=labels, yticklabels=labels)\n",
    "    ax1.set_title('Confusion Matrix - With Context', fontsize=13, fontweight='bold')\n",
    "    ax1.set_xlabel('Predicted', fontsize=11)\n",
    "    ax1.set_ylabel('Actual', fontsize=11)\n",
    "    \n",
    "    # Without context confusion matrix\n",
    "    sns.heatmap(without_context_metrics['confusion_matrix'], annot=True, fmt='d', cmap='Blues', ax=ax2,\n",
    "                xticklabels=labels, yticklabels=labels)\n",
    "    ax2.set_title('Confusion Matrix - Without Context', fontsize=13, fontweight='bold')\n",
    "    ax2.set_xlabel('Predicted', fontsize=11)\n",
    "    ax2.set_ylabel('Actual', fontsize=11)\n",
    "    \n",
    "    plt.tight_layout()\n",
    "    plt.show()\n",
    "    \n",
    "    # Add class distribution visualization\n",
    "    plt.figure(figsize=(10, 6))\n",
    "    class_counts = Counter(valid_refs)\n",
    "    class_labels = sorted(class_counts.keys())\n",
    "    class_values = [class_counts[label] for label in class_labels]\n",
    "    \n",
    "    plt.bar(class_labels, class_values, color='#60BD68')\n",
    "    plt.title('Distribution of Answer Classes in Dataset', fontsize=14, fontweight='bold')\n",
    "    plt.xlabel('Answer Option', fontsize=12)\n",
    "    plt.ylabel('Count', fontsize=12)\n",
    "    plt.grid(axis='y', linestyle='--', alpha=0.7)\n",
    "    \n",
    "    # Add count labels\n",
    "    for i, v in enumerate(class_values):\n",
    "        plt.text(i, v + 0.5, str(v), ha='center', fontweight='bold')\n",
    "    \n",
    "    plt.tight_layout()\n",
    "    plt.show()\n",
    "    \n",
    "    # Add a per-class performance comparison\n",
    "    # Extract per-class metrics from classification reports\n",
    "    with_context_report = classification_report(valid_refs, valid_preds, labels=labels, output_dict=True)\n",
    "    without_context_report = classification_report(valid_refs, valid_preds, labels=labels, output_dict=True)\n",
    "    \n",
    "    # Prepare data for plotting\n",
    "    class_metrics = []\n",
    "    for label in labels:\n",
    "        if label in with_context_report and label in without_context_report:\n",
    "            with_f1 = with_context_report[label]['f1-score']\n",
    "            without_f1 = without_context_report[label]['f1-score']\n",
    "            class_metrics.append({\n",
    "                'class': label,\n",
    "                'with_context': with_f1,\n",
    "                'without_context': without_f1,\n",
    "                'improvement': with_f1 - without_f1\n",
    "            })\n",
    "    \n",
    "    if class_metrics:\n",
    "        # Create DataFrame for easier plotting\n",
    "        class_df = pd.DataFrame(class_metrics)\n",
    "        \n",
    "        # Plot per-class F1 scores\n",
    "        plt.figure(figsize=(10, 6))\n",
    "        \n",
    "        x = np.arange(len(class_df))\n",
    "        width = 0.35\n",
    "        \n",
    "        plt.bar(x - width/2, class_df['with_context'], width, label='With Context', color='#5DA5DA')\n",
    "        plt.bar(x + width/2, class_df['without_context'], width, label='Without Context', color='#FAA43A')\n",
    "        \n",
    "        plt.xlabel('Answer Option', fontsize=12)\n",
    "        plt.ylabel('F1 Score', fontsize=12)\n",
    "        plt.title('F1 Score Comparison by Answer Option', fontsize=14, fontweight='bold')\n",
    "        plt.xticks(x, class_df['class'])\n",
    "        plt.legend()\n",
    "        plt.grid(axis='y', linestyle='--', alpha=0.7)\n",
    "        \n",
    "        # Add improvement labels\n",
    "        for i, row in enumerate(class_metrics):\n",
    "            improvement = row['improvement']\n",
    "            if improvement != 0:\n",
    "                plt.annotate(f'{improvement:+.2f}',\n",
    "                           xy=(i, max(row['with_context'], row['without_context']) + 0.05),\n",
    "                           ha='center',\n",
    "                           color='green' if improvement > 0 else 'red',\n",
    "                           fontweight='bold')\n",
    "        \n",
    "        plt.tight_layout()\n",
    "        plt.show()\n",
    "else:\n",
    "    print(\"Not enough data to visualize comparison\")"
   ]
  },
  {
   "cell_type": "code",
   "execution_count": 41,
   "id": "cf0ceb96-a5e8-44a9-a1b9-16db0927a61e",
   "metadata": {},
   "outputs": [
    {
     "name": "stdout",
     "output_type": "stream",
     "text": [
      "\n",
      "Context Impact Summary:\n",
      "Neutral: 250 questions (50.0%)\n",
      "No Help: 141 questions (28.2%)\n",
      "Positive: 56 questions (11.2%)\n",
      "Negative: 53 questions (10.6%)\n",
      "\n",
      "Net Positive Impact: 3 questions (0.6%)\n"
     ]
    },
    {
     "data": {
      "image/png": "[encoded data removed]",
      "text/plain": [
       "<Figure size 1000x600 with 1 Axes>"
      ]
     },
     "metadata": {},
     "output_type": "display_data"
    },
    {
     "name": "stdout",
     "output_type": "stream",
     "text": [
      "\n",
      "Feature Analysis for Context Impact:\n",
      "\n",
      "Feature: is_cause_effect\n",
      "  Questions with this feature: 76\n",
      "  Positive impact rate: 9.2%\n",
      "  Negative impact rate: 7.9%\n",
      "  Net positive rate: 1.3%\n",
      "\n",
      "Feature: mentions_specific_condition\n",
      "  Questions with this feature: 225\n",
      "  Positive impact rate: 4.9%\n",
      "  Negative impact rate: 11.1%\n",
      "  Net positive rate: -6.2%\n",
      "\n",
      "Feature: mentions_therapy\n",
      "  Questions with this feature: 56\n",
      "  Positive impact rate: 25.0%\n",
      "  Negative impact rate: 14.3%\n",
      "  Net positive rate: 10.7%\n"
     ]
    },
    {
     "data": {
      "image/png": "[encoded data removed]",
      "text/plain": [
       "<Figure size 1200x600 with 1 Axes>"
      ]
     },
     "metadata": {},
     "output_type": "display_data"
    }
   ],
   "source": [
    "# Analyze the impact of context on each question\n",
    "df['context_impact'] = None\n",
    "\n",
    "for i, row in df.iterrows():\n",
    "    # Get standardized answers for comparison\n",
    "    ground_truth = row['standardized_answer']\n",
    "    with_context = row['with_context_parsed']\n",
    "    without_context = row['without_context_parsed']\n",
    "    \n",
    "    # Skip if ground truth or either prediction is None\n",
    "    if ground_truth is None or with_context is None or without_context is None:\n",
    "        df.at[i, 'context_impact'] = 'Unknown'\n",
    "        continue\n",
    "        \n",
    "    with_correct = with_context == ground_truth\n",
    "    without_correct = without_context == ground_truth\n",
    "    \n",
    "    if with_correct and not without_correct:\n",
    "        df.at[i, 'context_impact'] = 'Positive'\n",
    "    elif not with_correct and without_correct:\n",
    "        df.at[i, 'context_impact'] = 'Negative'\n",
    "    elif with_correct and without_correct:\n",
    "        df.at[i, 'context_impact'] = 'Neutral'\n",
    "    else:  # both incorrect\n",
    "        df.at[i, 'context_impact'] = 'No Help'\n",
    "\n",
    "# Summarize context impact\n",
    "impact_counts = df['context_impact'].value_counts()\n",
    "print(\"\\nContext Impact Summary:\")\n",
    "for impact, count in impact_counts.items():\n",
    "    percentage = count/len(df)*100\n",
    "    print(f\"{impact}: {count} questions ({percentage:.1f}%)\")\n",
    "\n",
    "# Calculate net positive impact\n",
    "positive_count = impact_counts.get('Positive', 0)\n",
    "negative_count = impact_counts.get('Negative', 0)\n",
    "net_impact = positive_count - negative_count\n",
    "net_percentage = net_impact / len(df) * 100\n",
    "print(f\"\\nNet Positive Impact: {net_impact} questions ({net_percentage:.1f}%)\")\n",
    "\n",
    "# Visualize context impact with improved colors\n",
    "plt.figure(figsize=(10, 6))\n",
    "impact_order = ['Positive', 'Neutral', 'Negative', 'No Help', 'Unknown']\n",
    "impact_colors = {\n",
    "    'Positive': '#60BD68',  # Green\n",
    "    'Neutral': '#5DA5DA',   # Blue\n",
    "    'Negative': '#F15854',  # Red\n",
    "    'No Help': '#FAA43A',   # Orange\n",
    "    'Unknown': '#CCCCCC'    # Gray\n",
    "}\n",
    "\n",
    "# Reorder the data for consistent display\n",
    "ordered_counts = []\n",
    "ordered_labels = []\n",
    "for impact in impact_order:\n",
    "    if impact in impact_counts:\n",
    "        ordered_counts.append(impact_counts[impact])\n",
    "        ordered_labels.append(impact)\n",
    "\n",
    "# Create the bar chart\n",
    "bars = plt.bar(ordered_labels, ordered_counts, color=[impact_colors[impact] for impact in ordered_labels])\n",
    "plt.title('Impact of Context on Multiple Choice Questions', fontsize=14, fontweight='bold')\n",
    "plt.xlabel('Impact Type', fontsize=12)\n",
    "plt.ylabel('Number of Questions', fontsize=12)\n",
    "plt.grid(axis='y', linestyle='--', alpha=0.7)\n",
    "\n",
    "# Add count and percentage labels on top of bars\n",
    "for i, bar in enumerate(bars):\n",
    "    height = bar.get_height()\n",
    "    percentage = height/len(df)*100\n",
    "    plt.text(bar.get_x() + bar.get_width()/2., height + 0.5,\n",
    "            f'{int(height)}\\n({percentage:.1f}%)',\n",
    "            ha='center', va='bottom', fontweight='bold')\n",
    "\n",
    "plt.tight_layout()\n",
    "plt.show()\n",
    "\n",
    "# Additional analysis: When does context help vs. hurt?\n",
    "# Create a function to extract key features from questions\n",
    "def extract_features(question):\n",
    "    features = {}\n",
    "    # Check for question types\n",
    "    features['is_cause_effect'] = 'cause' in question.lower() or 'because' in question.lower() or 'due to' in question.lower()\n",
    "    features['mentions_specific_condition'] = any(word in question.lower() for word in ['diabetes', 'hypertension', 'obesity', 'smoking'])\n",
    "    features['mentions_therapy'] = any(word in question.lower() for word in ['therapy', 'treatment', 'surgery', 'injection'])\n",
    "    features['about_disease_mechanism'] = 'mechanism' in question.lower() or 'pathway' in question.lower()\n",
    "    return features\n",
    "\n",
    "# Apply feature extraction\n",
    "for i, row in df.iterrows():\n",
    "    features = extract_features(row['question'])\n",
    "    for feature, value in features.items():\n",
    "        df.at[i, feature] = value\n",
    "\n",
    "# Analyze which features correlate with positive context impact\n",
    "print(\"\\nFeature Analysis for Context Impact:\")\n",
    "features = ['is_cause_effect', 'mentions_specific_condition', 'mentions_therapy', 'about_disease_mechanism']\n",
    "\n",
    "for feature in features:\n",
    "    positive_with_feature = df[(df['context_impact'] == 'Positive') & (df[feature] == True)].shape[0]\n",
    "    total_with_feature = df[df[feature] == True].shape[0]\n",
    "    \n",
    "    negative_with_feature = df[(df['context_impact'] == 'Negative') & (df[feature] == True)].shape[0]\n",
    "    \n",
    "    if total_with_feature > 0:\n",
    "        positive_rate = positive_with_feature / total_with_feature * 100\n",
    "        negative_rate = negative_with_feature / total_with_feature * 100\n",
    "        print(f\"\\nFeature: {feature}\")\n",
    "        print(f\"  Questions with this feature: {total_with_feature}\")\n",
    "        print(f\"  Positive impact rate: {positive_rate:.1f}%\")\n",
    "        print(f\"  Negative impact rate: {negative_rate:.1f}%\")\n",
    "        print(f\"  Net positive rate: {positive_rate - negative_rate:.1f}%\")\n",
    "\n",
    "# Visualize the feature analysis\n",
    "feature_data = []\n",
    "for feature in features:\n",
    "    positive_count = df[(df['context_impact'] == 'Positive') & (df[feature] == True)].shape[0]\n",
    "    negative_count = df[(df['context_impact'] == 'Negative') & (df[feature] == True)].shape[0]\n",
    "    total_count = df[df[feature] == True].shape[0]\n",
    "    \n",
    "    if total_count > 0:\n",
    "        feature_data.append({\n",
    "            'feature': feature.replace('_', ' ').title(),\n",
    "            'positive_rate': positive_count / total_count * 100,\n",
    "            'negative_rate': negative_count / total_count * 100,\n",
    "            'neutral_rate': (total_count - positive_count - negative_count) / total_count * 100\n",
    "        })\n",
    "\n",
    "if feature_data:\n",
    "    feature_df = pd.DataFrame(feature_data)\n",
    "    \n",
    "    # Plot the feature analysis\n",
    "    plt.figure(figsize=(12, 6))\n",
    "    \n",
    "    x = np.arange(len(feature_df))\n",
    "    width = 0.25\n",
    "    \n",
    "    plt.bar(x - width, feature_df['positive_rate'], width, label='Positive Impact', color='#60BD68')\n",
    "    plt.bar(x, feature_df['negative_rate'], width, label='Negative Impact', color='#F15854')\n",
    "    plt.bar(x + width, feature_df['neutral_rate'], width, label='Neutral/No Help', color='#5DA5DA')\n",
    "    \n",
    "    plt.xlabel('Question Features', fontsize=12)\n",
    "    plt.ylabel('Percentage of Questions', fontsize=12)\n",
    "    plt.title('Impact of Context by Question Feature', fontsize=14, fontweight='bold')\n",
    "    plt.xticks(x, feature_df['feature'])\n",
    "    plt.legend()\n",
    "    plt.grid(axis='y', linestyle='--', alpha=0.7)\n",
    "    \n",
    "    plt.tight_layout()\n",
    "    plt.show()"
   ]
  },
  {
   "cell_type": "code",
   "execution_count": 42,
   "id": "6345d4e4-4a8e-4c14-a998-98afba006a33",
   "metadata": {},
   "outputs": [
    {
     "name": "stdout",
     "output_type": "stream",
     "text": [
      "\n",
      "================================================================================\n",
      "EVALUATION SUMMARY REPORT - MULTIPLE CHOICE QUESTIONS\n",
      "================================================================================\n",
      "Total Questions: 500\n",
      "Questions with Valid Ground Truth: 500 (100.0%)\n",
      "\n",
      "Distribution of Ground Truth Answers:\n",
      "  Option A: 267 questions (53.4%)\n",
      "  Option B: 230 questions (46.0%)\n",
      "  Option C: 3 questions (0.6%)\n",
      "\n",
      "Performance Summary:\n",
      "With Context Accuracy: 0.61 (61.2%)\n",
      "Without Context Accuracy: 0.61 (60.6%)\n",
      "With Context Macro F1: 0.31\n",
      "Without Context Macro F1: 0.33\n",
      "\n",
      "Context improved accuracy by 0.01 (0.6% absolute, 1.0% relative)\n",
      "\n",
      "Context Impact Analysis:\n",
      "  Neutral: 250 questions (50.0%)\n",
      "  No Help: 141 questions (28.2%)\n",
      "  Positive: 56 questions (11.2%)\n",
      "  Negative: 53 questions (10.6%)\n",
      "\n",
      "Positive-to-Negative Impact Ratio: 0.51 (56:53)\n",
      "\n",
      "Per-Option Performance (With Context):\n",
      "  Option A: 0.94 accuracy (250/267 correct)\n",
      "  Option B: 0.23 accuracy (54/230 correct)\n",
      "  Option C: 0.67 accuracy (2/3 correct)\n",
      "\n",
      "Sample Questions Where Context Helped:\n",
      "- Q52: Does family history elevate AMD risk by causing retinal pigment epithelial lipid repair? a) Yes b) No c) Sometimes d) Only with obesity\n",
      "  Ground Truth: B\n",
      "  With Context: B | Without Context: A\n",
      "- Q53: Can anti-VEGF therapy stabilize wet AMD by reducing retinal pigment epithelial scarring? a) Yes b) No c) Only early stages d) Only with photodynamic therapy\n",
      "  Ground Truth: A\n",
      "  With Context: A | Without Context: C\n",
      "- Q67: Can OCT detect early AMD by visualizing retinal pigment epithelial hypoxia? a) Yes b) No c) Only late stages d) Only with drusen\n",
      "  Ground Truth: A\n",
      "  With Context: A | Without Context: B\n",
      "- Q79: Can photodynamic therapy treat wet AMD by reducing retinal pigment epithelial lipid deposits? a) Yes b) No c) Only early stages d) Only with anti-VEGF\n",
      "  Ground Truth: A\n",
      "  With Context: A | Without Context: C\n",
      "- Q82: Does hypertension contribute to AMD by causing retinal pigment epithelial lipid regeneration? a) Yes b) No c) Only with diabetes d) Only with high cholesterol\n",
      "  Ground Truth: B\n",
      "  With Context: B | Without Context: A\n",
      "\n",
      "Sample Questions Where Context Was Misleading:\n",
      "- Q0: Which factor increases wet AMD risk by promoting VEGF production? a) Smoking b) Drinking water c) Regular exercise d) Low cholesterol\n",
      "  Ground Truth: A\n",
      "  With Context: D | Without Context: A\n",
      "- Q3: Can anti-VEGF injections treat wet AMD by reducing photoreceptor regeneration? a) Yes b) No c) Sometimes d) Only early stages\n",
      "  Ground Truth: B\n",
      "  With Context: A | Without Context: B\n",
      "- Q5: Can the Amsler grid detect wet AMD by revealing optic nerve damage? a) Yes b) No c) Sometimes d) Only late stages\n",
      "  Ground Truth: B\n",
      "  With Context: C | Without Context: B\n",
      "- Q6: Does UV exposure accelerate AMD by triggering immediate retinal hemorrhages? a) Yes b) No c) Only with smoking d) Only with light eyes\n",
      "  Ground Truth: B\n",
      "  With Context: A | Without Context: B\n",
      "- Q20: Does family history increase AMD risk by causing direct retinal thinning? a) Yes b) No c) Sometimes d) Only with smoking\n",
      "  Ground Truth: B\n",
      "  With Context: C | Without Context: B\n",
      "\n",
      "Conclusions:\n",
      "1. Context retrieval improved overall accuracy for multiple choice questions.\n",
      "2. 56 questions benefited from context, while 53 questions were negatively affected.\n",
      "3. Performance varied by answer option: Option A had the highest accuracy, while Option B had the lowest.\n",
      "\n",
      "Recommendations:\n",
      "1. Continue using RAG for multiple choice questions, with focus on improving quality of retrieved contexts.\n",
      "2. Consider a hybrid approach that evaluates context quality before deciding whether to use it.\n",
      "3. Pay special attention to questions where option B is the correct answer, as these showed lower accuracy.\n",
      "4. Expand the evaluation dataset to include more diverse multiple choice question types.\n",
      "5. Further analyze questions where context was misleading to identify patterns and potential improvements.\n"
     ]
    }
   ],
   "source": [
    "# Generate a summary report\n",
    "print(\"\\n\" + \"=\" * 80)\n",
    "print(\"EVALUATION SUMMARY REPORT - MULTIPLE CHOICE QUESTIONS\")\n",
    "print(\"=\" * 80)\n",
    "\n",
    "# Count valid questions and answers\n",
    "valid_questions = df['standardized_answer'].notna().sum()\n",
    "total_questions = len(df)\n",
    "\n",
    "print(f\"Total Questions: {total_questions}\")\n",
    "print(f\"Questions with Valid Ground Truth: {valid_questions} ({valid_questions/total_questions*100:.1f}%)\")\n",
    "\n",
    "# Count distribution of answers\n",
    "if valid_questions > 0:\n",
    "    answer_counts = df['standardized_answer'].value_counts()\n",
    "    print(\"\\nDistribution of Ground Truth Answers:\")\n",
    "    for answer, count in answer_counts.items():\n",
    "        print(f\"  Option {answer}: {count} questions ({count/valid_questions*100:.1f}%)\")\n",
    "\n",
    "# Performance metrics\n",
    "print(\"\\nPerformance Summary:\")\n",
    "if with_context_metrics and without_context_metrics:\n",
    "    print(f\"With Context Accuracy: {with_context_metrics['accuracy']:.2f} ({with_context_metrics['accuracy']*100:.1f}%)\")\n",
    "    print(f\"Without Context Accuracy: {without_context_metrics['accuracy']:.2f} ({without_context_metrics['accuracy']*100:.1f}%)\")\n",
    "    print(f\"With Context Macro F1: {with_context_metrics['f1']:.2f}\")\n",
    "    print(f\"Without Context Macro F1: {without_context_metrics['f1']:.2f}\")\n",
    "    \n",
    "    # Determine if context helped overall\n",
    "    if with_context_metrics['accuracy'] > without_context_metrics['accuracy']:\n",
    "        diff = with_context_metrics['accuracy'] - without_context_metrics['accuracy']\n",
    "        rel_improvement = diff / without_context_metrics['accuracy'] * 100\n",
    "        print(f\"\\nContext improved accuracy by {diff:.2f} ({diff*100:.1f}% absolute, {rel_improvement:.1f}% relative)\")\n",
    "    elif with_context_metrics['accuracy'] < without_context_metrics['accuracy']:\n",
    "        diff = without_context_metrics['accuracy'] - with_context_metrics['accuracy']\n",
    "        rel_decline = diff / with_context_metrics['accuracy'] * 100\n",
    "        print(f\"\\nContext decreased accuracy by {diff:.2f} ({diff*100:.1f}% absolute, {rel_decline:.1f}% relative)\")\n",
    "    else:\n",
    "        print(\"\\nContext had no overall impact on accuracy\")\n",
    "\n",
    "# Context impact summary\n",
    "print(\"\\nContext Impact Analysis:\")\n",
    "for impact, count in impact_counts.items():\n",
    "    print(f\"  {impact}: {count} questions ({count/total_questions*100:.1f}%)\")\n",
    "\n",
    "# Calculate net positive ratio\n",
    "positive_count = impact_counts.get('Positive', 0)\n",
    "negative_count = impact_counts.get('Negative', 0)\n",
    "if positive_count + negative_count > 0:\n",
    "    positive_ratio = positive_count / (positive_count + negative_count)\n",
    "    print(f\"\\nPositive-to-Negative Impact Ratio: {positive_ratio:.2f} ({positive_count}:{negative_count})\")\n",
    "\n",
    "# Per-option performance\n",
    "print(\"\\nPer-Option Performance (With Context):\")\n",
    "# Create a dictionary to store per-option accuracy\n",
    "option_metrics = {}\n",
    "\n",
    "# Identify options present in the dataset\n",
    "all_options = set(df['standardized_answer'].dropna())\n",
    "\n",
    "# Calculate metrics for each option\n",
    "for option in all_options:\n",
    "    option_indices = df[df['standardized_answer'] == option].index\n",
    "    correct_count = sum(1 for i in option_indices if df.loc[i, 'with_context_parsed'] == option)\n",
    "    total_count = len(option_indices)\n",
    "    if total_count > 0:\n",
    "        accuracy = correct_count / total_count\n",
    "        option_metrics[option] = {\n",
    "            'accuracy': accuracy,\n",
    "            'count': total_count,\n",
    "            'correct': correct_count\n",
    "        }\n",
    "\n",
    "# Display per-option metrics\n",
    "for option in sorted(option_metrics.keys()):\n",
    "    metrics = option_metrics[option]\n",
    "    print(f\"  Option {option}: {metrics['accuracy']:.2f} accuracy ({metrics['correct']}/{metrics['count']} correct)\")\n",
    "\n",
    "# List top 5 questions where context helped (max 5)\n",
    "helped_questions = df[df['context_impact'] == 'Positive'].head(5)\n",
    "if not helped_questions.empty:\n",
    "    print(\"\\nSample Questions Where Context Helped:\")\n",
    "    for i, row in helped_questions.iterrows():\n",
    "        print(f\"- Q{i}: {row['question']}\")\n",
    "        print(f\"  Ground Truth: {row['standardized_answer']}\")\n",
    "        print(f\"  With Context: {row['with_context_parsed']} | Without Context: {row['without_context_parsed']}\")\n",
    "\n",
    "# List top 5 questions where context was misleading (max 5)\n",
    "misled_questions = df[df['context_impact'] == 'Negative'].head(5)\n",
    "if not misled_questions.empty:\n",
    "    print(\"\\nSample Questions Where Context Was Misleading:\")\n",
    "    for i, row in misled_questions.iterrows():\n",
    "        print(f\"- Q{i}: {row['question']}\")\n",
    "        print(f\"  Ground Truth: {row['standardized_answer']}\")\n",
    "        print(f\"  With Context: {row['with_context_parsed']} | Without Context: {row['without_context_parsed']}\")\n",
    "\n",
    "# Conclusions\n",
    "print(\"\\nConclusions:\")\n",
    "print(\"1. Context retrieval\" + \n",
    "      (\" improved \" if with_context_metrics.get('accuracy', 0) > without_context_metrics.get('accuracy', 0) else \" did not improve \") + \n",
    "      \"overall accuracy for multiple choice questions.\")\n",
    "\n",
    "print(f\"2. {impact_counts.get('Positive', 0)} questions benefited from context, while {impact_counts.get('Negative', 0)} questions were negatively affected.\")\n",
    "\n",
    "# Per-option performance insights\n",
    "best_option = max(option_metrics.items(), key=lambda x: x[1]['accuracy'])[0] if option_metrics else None\n",
    "worst_option = min(option_metrics.items(), key=lambda x: x[1]['accuracy'])[0] if option_metrics else None\n",
    "\n",
    "if best_option and worst_option:\n",
    "    print(f\"3. Performance varied by answer option: Option {best_option} had the highest accuracy, while Option {worst_option} had the lowest.\")\n",
    "\n",
    "# Recommendations\n",
    "print(\"\\nRecommendations:\")\n",
    "if with_context_metrics.get('accuracy', 0) > without_context_metrics.get('accuracy', 0):\n",
    "    print(\"1. Continue using RAG for multiple choice questions, with focus on improving quality of retrieved contexts.\")\n",
    "    print(\"2. Consider a hybrid approach that evaluates context quality before deciding whether to use it.\")\n",
    "    print(f\"3. Pay special attention to questions where option {worst_option} is the correct answer, as these showed lower accuracy.\")\n",
    "else:\n",
    "    print(\"1. Review and improve context retrieval quality for multiple choice questions.\")\n",
    "    print(\"2. Consider limiting RAG to specific types of questions where context has shown to be helpful.\")\n",
    "    print(\"3. For questions with poor context performance, consider reverting to model-only answers.\")\n",
    "\n",
    "print(\"4. Expand the evaluation dataset to include more diverse multiple choice question types.\")\n",
    "print(\"5. Further analyze questions where context was misleading to identify patterns and potential improvements.\")"
   ]
  },
  {
   "cell_type": "code",
   "execution_count": null,
   "id": "0bfc2c83-9070-4a4c-a3e9-08b149589f76",
   "metadata": {},
   "outputs": [],
   "source": []
  }
 ],
 "metadata": {
  "kernelspec": {
   "display_name": "Python 3 (ipykernel)",
   "language": "python",
   "name": "python3"
  },
  "language_info": {
   "codemirror_mode": {
    "name": "ipython",
    "version": 3
   },
   "file_extension": ".py",
   "mimetype": "text/x-python",
   "name": "python",
   "nbconvert_exporter": "python",
   "pygments_lexer": "ipython3",
   "version": "3.10.16"
  }
 },
 "nbformat": 4,
 "nbformat_minor": 5
}
