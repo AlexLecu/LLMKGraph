{
 "cells": [
  {
   "cell_type": "code",
   "execution_count": 1,
   "id": "422b213b-559d-4040-8641-bb634983a3a6",
   "metadata": {},
   "outputs": [
    {
     "name": "stderr",
     "output_type": "stream",
     "text": [
      "Device set to use mps:0\n"
     ]
    }
   ],
   "source": [
    "import os\n",
    "import sys\n",
    "\n",
    "import json\n",
    "import pandas as pd\n",
    "import numpy as np\n",
    "import matplotlib.pyplot as plt\n",
    "import seaborn as sns\n",
    "from weaviate_rag.rag_system import GraphRAGSystem\n",
    "import ollama\n",
    "from ragas import evaluate\n",
    "from ragas.metrics import Faithfulness, AnswerRelevancy, ContextRecall\n",
    "import re\n",
    "from ragas import EvaluationDataset\n",
    "from sklearn.metrics import accuracy_score, precision_score, recall_score, f1_score, confusion_matrix"
   ]
  },
  {
   "cell_type": "code",
   "execution_count": 2,
   "id": "62ec414d-18b7-44c1-b38f-2e27724ca342",
   "metadata": {},
   "outputs": [],
   "source": [
    "# Load your JSON data\n",
    "# with open('/Users/alexlecu/PycharmProjects/LLMKGraph/backend/evaluation/data/grok_evaluation_dataset_mini/True_or_False_questions_mini.json', 'r') as f:\n",
    "with open('/Users/alexlecu/PycharmProjects/LLMKGraph/backend/evaluation/data/grok_evaluation_datasets/1_Hop_MCQ_Questions.json', 'r') as f:\n",
    "    data = json.load(f)\n",
    "\n",
    "# Convert to DataFrame for analysis\n",
    "df = pd.DataFrame(data)\n",
    "df = df[['question', 'answer']]\n",
    "\n",
    "# Add columns for evaluation\n",
    "df['contexts'] = None  # Will be filled with retrieved passages\n",
    "df['with_context_answer'] = None  # Will be filled with RAG responses\n",
    "df['without_context_answer'] = None  # Will be filled with model-only responses"
   ]
  },
  {
   "cell_type": "code",
   "execution_count": 3,
   "id": "fc9579f4-e95f-4b25-ade0-6116bff74833",
   "metadata": {},
   "outputs": [],
   "source": [
    "def generate_answer_with_context(question, context, model=\"llama3.2\"):\n",
    "    \"\"\"Generate answer using the model with context - simplified prompt\"\"\"\n",
    "    # More direct prompt focused on true/false determination\n",
    "    system_prompt = f\"\"\"\n",
    "    Given the following medical information, select the correct answer from the options provided (A, B, C, D).\n",
    "    \n",
    "    INFORMATION:\n",
    "    {context}\n",
    "    \n",
    "    IMPORTANT: Respond with ONLY the letter of the correct option (e.g., \"A\", \"B\", \"C\", or \"D\").\n",
    "    \"\"\"\n",
    "   \n",
    "    response = ollama.chat(\n",
    "        model=model,\n",
    "        messages=[\n",
    "            {\"role\": \"system\", \"content\": system_prompt},\n",
    "            {\"role\": \"user\", \"content\": question}\n",
    "        ],\n",
    "        stream=False\n",
    "    )\n",
    "    return response['message']['content']"
   ]
  },
  {
   "cell_type": "code",
   "execution_count": 4,
   "id": "6d1724aa-2cae-416b-ae98-851e74bdb9b8",
   "metadata": {},
   "outputs": [],
   "source": [
    "def generate_answer_without_context(question, model=\"llama3.2\"):\n",
    "    \"\"\"Generate answer using the model without context\"\"\"\n",
    "    system_prompt = \"\"\"\n",
    "    Select the correct answer from the options provided (A, B, C, D).\n",
    "    \n",
    "    IMPORTANT: Respond with ONLY the letter of the correct option (e.g., \"A\", \"B\", \"C\", or \"D\").\n",
    "    \"\"\"\n",
    "    \n",
    "    response = ollama.chat(\n",
    "        model=model,\n",
    "        messages=[\n",
    "            {\"role\": \"system\", \"content\": system_prompt},\n",
    "            {\"role\": \"user\", \"content\": question}\n",
    "        ],\n",
    "        stream=False\n",
    "    )\n",
    "    return response['message']['content']"
   ]
  },
  {
   "cell_type": "code",
   "execution_count": 5,
   "id": "4f89e540-73bb-4a19-9335-847e56665550",
   "metadata": {},
   "outputs": [],
   "source": [
    "def remove_think_tags(response):\n",
    "    \"\"\"Remove any thinking tags from the response\"\"\"\n",
    "    if response is None:\n",
    "        return \"\"\n",
    "    cleaned_content = re.sub(r'<think>.*?</think>', '', response, flags=re.DOTALL)\n",
    "    return cleaned_content"
   ]
  },
  {
   "cell_type": "code",
   "execution_count": 6,
   "id": "7d604853-6ab1-4ed6-b3da-4a02eee6166c",
   "metadata": {},
   "outputs": [],
   "source": [
    "def parse_true_false(response):\n",
    "    \"\"\"Parse the response to extract True/False answer\"\"\"\n",
    "    if response is None:\n",
    "        return None\n",
    "        \n",
    "    # Clean up response\n",
    "    response = response.strip().lower()\n",
    "    \n",
    "    # Check for True/False keywords\n",
    "    if \"true\" in response:\n",
    "        return True\n",
    "    elif \"false\" in response:\n",
    "        return False\n",
    "    else:\n",
    "        print(f\"Warning: Could not parse true/false from: '{response}'\")\n",
    "        return None"
   ]
  },
  {
   "cell_type": "code",
   "execution_count": 7,
   "id": "27669b51-d110-4509-b0ed-146648e72766",
   "metadata": {},
   "outputs": [
    {
     "name": "stdout",
     "output_type": "stream",
     "text": [
      "Processing questions with context...\n",
      "Question 1: Which retinal layer is most affected by AMD? a) Ganglion cell layer b) Macula c) Outer plexiform layer d) Choroid\n",
      "Context: T...\n",
      "Response: c\n",
      "\n"
     ]
    },
    {
     "name": "stderr",
     "output_type": "stream",
     "text": [
      "/var/folders/z3/zc5j75dj0qn_z2sp8qf47q340000gn/T/ipykernel_75411/652174667.py:8: ResourceWarning: unclosed <socket.socket fd=94, family=AddressFamily.AF_INET, type=SocketKind.SOCK_STREAM, proto=6, laddr=('127.0.0.1', 51087), raddr=('127.0.0.1', 11434)>\n",
      "  analyzer = GraphRAGSystem(row[\"question\"])\n",
      "ResourceWarning: Enable tracemalloc to get the object allocation traceback\n"
     ]
    },
    {
     "name": "stdout",
     "output_type": "stream",
     "text": [
      "Question 2: What is the primary visual symptom of wet AMD? a) Peripheral vision loss b) Sudden central vision distortion c) Color blindness d) Night blindness\n",
      "Context: T...\n",
      "Response: b) Sudden central vision distortion\n",
      "\n"
     ]
    },
    {
     "name": "stderr",
     "output_type": "stream",
     "text": [
      "/var/folders/z3/zc5j75dj0qn_z2sp8qf47q340000gn/T/ipykernel_75411/652174667.py:8: ResourceWarning: unclosed <socket.socket fd=94, family=AddressFamily.AF_INET, type=SocketKind.SOCK_STREAM, proto=6, laddr=('127.0.0.1', 51135), raddr=('127.0.0.1', 11434)>\n",
      "  analyzer = GraphRAGSystem(row[\"question\"])\n",
      "ResourceWarning: Enable tracemalloc to get the object allocation traceback\n"
     ]
    },
    {
     "name": "stdout",
     "output_type": "stream",
     "text": [
      "Question 3: Which condition is dry AMD most likely to progress to? a) Glaucoma b) Geographic atrophy c) Cataracts d) Retinal detachment\n",
      "Context: T...\n",
      "Response: B\n",
      "\n"
     ]
    },
    {
     "name": "stderr",
     "output_type": "stream",
     "text": [
      "/var/folders/z3/zc5j75dj0qn_z2sp8qf47q340000gn/T/ipykernel_75411/652174667.py:8: ResourceWarning: unclosed <socket.socket fd=94, family=AddressFamily.AF_INET, type=SocketKind.SOCK_STREAM, proto=6, laddr=('127.0.0.1', 51193), raddr=('127.0.0.1', 11434)>\n",
      "  analyzer = GraphRAGSystem(row[\"question\"])\n",
      "ResourceWarning: Enable tracemalloc to get the object allocation traceback\n"
     ]
    },
    {
     "name": "stdout",
     "output_type": "stream",
     "text": [
      "Question 4: What is a key environmental risk factor for AMD? a) High altitude b) Smoking c) Cold weather d) Noise exposure\n",
      "Context: T...\n",
      "Response: b) Smoking\n",
      "\n"
     ]
    },
    {
     "name": "stderr",
     "output_type": "stream",
     "text": [
      "/var/folders/z3/zc5j75dj0qn_z2sp8qf47q340000gn/T/ipykernel_75411/652174667.py:8: ResourceWarning: unclosed <socket.socket fd=94, family=AddressFamily.AF_INET, type=SocketKind.SOCK_STREAM, proto=6, laddr=('127.0.0.1', 51219), raddr=('127.0.0.1', 11434)>\n",
      "  analyzer = GraphRAGSystem(row[\"question\"])\n",
      "ResourceWarning: Enable tracemalloc to get the object allocation traceback\n"
     ]
    },
    {
     "name": "stdout",
     "output_type": "stream",
     "text": [
      "Question 5: Which type of AMD typically progresses more rapidly? a) Dry AMD b) Wet AMD c) Early AMD d) Intermediate AMD\n",
      "Context: T...\n",
      "Response: d) Intermediate AMD\n",
      "\n"
     ]
    },
    {
     "name": "stderr",
     "output_type": "stream",
     "text": [
      "/var/folders/z3/zc5j75dj0qn_z2sp8qf47q340000gn/T/ipykernel_75411/652174667.py:8: ResourceWarning: unclosed <socket.socket fd=94, family=AddressFamily.AF_INET, type=SocketKind.SOCK_STREAM, proto=6, laddr=('127.0.0.1', 51255), raddr=('127.0.0.1', 11434)>\n",
      "  analyzer = GraphRAGSystem(row[\"question\"])\n",
      "ResourceWarning: Enable tracemalloc to get the object allocation traceback\n"
     ]
    },
    {
     "name": "stdout",
     "output_type": "stream",
     "text": [
      "Question 6: What is the current status of a cure for advanced AMD? a) Fully curable b) Partially curable c) No cure exists d) Cure in trials\n",
      "Context: T...\n",
      "Response: c) No cure exists\n",
      "\n"
     ]
    },
    {
     "name": "stderr",
     "output_type": "stream",
     "text": [
      "/var/folders/z3/zc5j75dj0qn_z2sp8qf47q340000gn/T/ipykernel_75411/652174667.py:8: ResourceWarning: unclosed <socket.socket fd=94, family=AddressFamily.AF_INET, type=SocketKind.SOCK_STREAM, proto=6, laddr=('127.0.0.1', 51298), raddr=('127.0.0.1', 11434)>\n",
      "  analyzer = GraphRAGSystem(row[\"question\"])\n",
      "ResourceWarning: Enable tracemalloc to get the object allocation traceback\n"
     ]
    },
    {
     "name": "stdout",
     "output_type": "stream",
     "text": [
      "Question 7: Which therapy is commonly used for wet AMD? a) Anti-VEGF injections b) Topical steroids c) Acupuncture d) Hearing aids\n",
      "Context: T...\n",
      "Response: A\n",
      "The best answer is A.\n",
      "\n"
     ]
    },
    {
     "name": "stderr",
     "output_type": "stream",
     "text": [
      "/var/folders/z3/zc5j75dj0qn_z2sp8qf47q340000gn/T/ipykernel_75411/652174667.py:8: ResourceWarning: unclosed <socket.socket fd=94, family=AddressFamily.AF_INET, type=SocketKind.SOCK_STREAM, proto=6, laddr=('127.0.0.1', 51372), raddr=('127.0.0.1', 11434)>\n",
      "  analyzer = GraphRAGSystem(row[\"question\"])\n",
      "ResourceWarning: Enable tracemalloc to get the object allocation traceback\n"
     ]
    },
    {
     "name": "stdout",
     "output_type": "stream",
     "text": [
      "Question 8: Which vision type is least affected by AMD? a) Central vision b) Peripheral vision c) Depth perception d) Color vision\n",
      "Context: T...\n",
      "Response: B\n",
      "\n"
     ]
    },
    {
     "name": "stderr",
     "output_type": "stream",
     "text": [
      "/var/folders/z3/zc5j75dj0qn_z2sp8qf47q340000gn/T/ipykernel_75411/652174667.py:8: ResourceWarning: unclosed <socket.socket fd=94, family=AddressFamily.AF_INET, type=SocketKind.SOCK_STREAM, proto=6, laddr=('127.0.0.1', 51401), raddr=('127.0.0.1', 11434)>\n",
      "  analyzer = GraphRAGSystem(row[\"question\"])\n",
      "ResourceWarning: Enable tracemalloc to get the object allocation traceback\n"
     ]
    },
    {
     "name": "stdout",
     "output_type": "stream",
     "text": [
      "Question 9: What genetic factor increases AMD risk? a) Family history b) Hair color c) Blood type d) Height\n",
      "Context: T...\n",
      "Response: A\n",
      "The best answer is A.\n",
      "\n"
     ]
    },
    {
     "name": "stderr",
     "output_type": "stream",
     "text": [
      "/var/folders/z3/zc5j75dj0qn_z2sp8qf47q340000gn/T/ipykernel_75411/652174667.py:8: ResourceWarning: unclosed <socket.socket fd=94, family=AddressFamily.AF_INET, type=SocketKind.SOCK_STREAM, proto=6, laddr=('127.0.0.1', 51450), raddr=('127.0.0.1', 11434)>\n",
      "  analyzer = GraphRAGSystem(row[\"question\"])\n",
      "ResourceWarning: Enable tracemalloc to get the object allocation traceback\n"
     ]
    },
    {
     "name": "stdout",
     "output_type": "stream",
     "text": [
      "Question 10: Which diagnostic method is ineffective for AMD? a) OCT b) Amsler grid c) Blood pressure test d) Fundus photography\n",
      "Context: T...\n",
      "Response: d\n",
      "\n"
     ]
    },
    {
     "name": "stderr",
     "output_type": "stream",
     "text": [
      "/var/folders/z3/zc5j75dj0qn_z2sp8qf47q340000gn/T/ipykernel_75411/652174667.py:8: ResourceWarning: unclosed <socket.socket fd=94, family=AddressFamily.AF_INET, type=SocketKind.SOCK_STREAM, proto=6, laddr=('127.0.0.1', 51524), raddr=('127.0.0.1', 11434)>\n",
      "  analyzer = GraphRAGSystem(row[\"question\"])\n",
      "ResourceWarning: Enable tracemalloc to get the object allocation traceback\n"
     ]
    },
    {
     "name": "stdout",
     "output_type": "stream",
     "text": [
      "Question 11: What tool is used to monitor AMD-related distortion? a) Stethoscope b) Amsler grid c) Thermometer d) ECG\n",
      "Context: T...\n",
      "Response: B\n",
      "\n"
     ]
    },
    {
     "name": "stderr",
     "output_type": "stream",
     "text": [
      "/var/folders/z3/zc5j75dj0qn_z2sp8qf47q340000gn/T/ipykernel_75411/652174667.py:8: ResourceWarning: unclosed <socket.socket fd=94, family=AddressFamily.AF_INET, type=SocketKind.SOCK_STREAM, proto=6, laddr=('127.0.0.1', 51548), raddr=('127.0.0.1', 11434)>\n",
      "  analyzer = GraphRAGSystem(row[\"question\"])\n",
      "ResourceWarning: Enable tracemalloc to get the object allocation traceback\n"
     ]
    },
    {
     "name": "stdout",
     "output_type": "stream",
     "text": [
      "Question 12: Which AMD type is more prevalent? a) Wet AMD b) Dry AMD c) Both equally d) Neither\n",
      "Context: T...\n",
      "Response: c\n",
      "\n"
     ]
    },
    {
     "name": "stderr",
     "output_type": "stream",
     "text": [
      "/var/folders/z3/zc5j75dj0qn_z2sp8qf47q340000gn/T/ipykernel_75411/652174667.py:8: ResourceWarning: unclosed <socket.socket fd=94, family=AddressFamily.AF_INET, type=SocketKind.SOCK_STREAM, proto=6, laddr=('127.0.0.1', 51571), raddr=('127.0.0.1', 11434)>\n",
      "  analyzer = GraphRAGSystem(row[\"question\"])\n",
      "ResourceWarning: Enable tracemalloc to get the object allocation traceback\n"
     ]
    },
    {
     "name": "stdout",
     "output_type": "stream",
     "text": [
      "Question 13: What is the effect of sunglasses on AMD prevention? a) Fully prevents b) Reduces risk c) No effect d) Increases risk\n",
      "Context: T...\n",
      "Response: B\n",
      "\n"
     ]
    },
    {
     "name": "stderr",
     "output_type": "stream",
     "text": [
      "/var/folders/z3/zc5j75dj0qn_z2sp8qf47q340000gn/T/ipykernel_75411/652174667.py:8: ResourceWarning: unclosed <socket.socket fd=94, family=AddressFamily.AF_INET, type=SocketKind.SOCK_STREAM, proto=6, laddr=('127.0.0.1', 51599), raddr=('127.0.0.1', 11434)>\n",
      "  analyzer = GraphRAGSystem(row[\"question\"])\n",
      "ResourceWarning: Enable tracemalloc to get the object allocation traceback\n"
     ]
    },
    {
     "name": "stdout",
     "output_type": "stream",
     "text": [
      "Question 14: Which systemic condition heightens AMD risk? a) Asthma b) Diabetes c) Arthritis d) Migraines\n",
      "Context: T...\n",
      "Response: c\n",
      "\n"
     ]
    },
    {
     "name": "stderr",
     "output_type": "stream",
     "text": [
      "/var/folders/z3/zc5j75dj0qn_z2sp8qf47q340000gn/T/ipykernel_75411/652174667.py:8: ResourceWarning: unclosed <socket.socket fd=94, family=AddressFamily.AF_INET, type=SocketKind.SOCK_STREAM, proto=6, laddr=('127.0.0.1', 51628), raddr=('127.0.0.1', 11434)>\n",
      "  analyzer = GraphRAGSystem(row[\"question\"])\n",
      "ResourceWarning: Enable tracemalloc to get the object allocation traceback\n"
     ]
    },
    {
     "name": "stdout",
     "output_type": "stream",
     "text": [
      "Question 15: What is the primary treatment focus for dry AMD? a) Surgery b) Slowing progression c) Reversing damage d) Pain relief\n",
      "Context: T...\n",
      "Response: B\n",
      "\n"
     ]
    },
    {
     "name": "stderr",
     "output_type": "stream",
     "text": [
      "/var/folders/z3/zc5j75dj0qn_z2sp8qf47q340000gn/T/ipykernel_75411/652174667.py:8: ResourceWarning: unclosed <socket.socket fd=94, family=AddressFamily.AF_INET, type=SocketKind.SOCK_STREAM, proto=6, laddr=('127.0.0.1', 51683), raddr=('127.0.0.1', 11434)>\n",
      "  analyzer = GraphRAGSystem(row[\"question\"])\n",
      "ResourceWarning: Enable tracemalloc to get the object allocation traceback\n"
     ]
    },
    {
     "name": "stdout",
     "output_type": "stream",
     "text": [
      "Question 16: What retinal feature is characteristic of dry AMD? a) Fluid leakage b) Drusen deposits c) Blood vessel rupture d) Corneal opacity\n",
      "Context: T...\n",
      "Response: B\n",
      "\n"
     ]
    },
    {
     "name": "stderr",
     "output_type": "stream",
     "text": [
      "/var/folders/z3/zc5j75dj0qn_z2sp8qf47q340000gn/T/ipykernel_75411/652174667.py:8: ResourceWarning: unclosed <socket.socket fd=94, family=AddressFamily.AF_INET, type=SocketKind.SOCK_STREAM, proto=6, laddr=('127.0.0.1', 51720), raddr=('127.0.0.1', 11434)>\n",
      "  analyzer = GraphRAGSystem(row[\"question\"])\n",
      "ResourceWarning: Enable tracemalloc to get the object allocation traceback\n"
     ]
    },
    {
     "name": "stdout",
     "output_type": "stream",
     "text": [
      "Question 17: At what age does AMD risk significantly increase? a) 30 b) 40 c) 50 d) 60\n",
      "Context: T...\n",
      "Response: C\n",
      "\n"
     ]
    },
    {
     "name": "stderr",
     "output_type": "stream",
     "text": [
      "/var/folders/z3/zc5j75dj0qn_z2sp8qf47q340000gn/T/ipykernel_75411/652174667.py:8: ResourceWarning: unclosed <socket.socket fd=94, family=AddressFamily.AF_INET, type=SocketKind.SOCK_STREAM, proto=6, laddr=('127.0.0.1', 51744), raddr=('127.0.0.1', 11434)>\n",
      "  analyzer = GraphRAGSystem(row[\"question\"])\n",
      "ResourceWarning: Enable tracemalloc to get the object allocation traceback\n"
     ]
    },
    {
     "name": "stdout",
     "output_type": "stream",
     "text": [
      "Question 18: Which symptom is most associated with wet AMD? a) Gradual peripheral loss b) Sudden central blur c) Eye redness d) Floaters\n",
      "Context: T...\n",
      "Response: B\n",
      "\n"
     ]
    },
    {
     "name": "stderr",
     "output_type": "stream",
     "text": [
      "/var/folders/z3/zc5j75dj0qn_z2sp8qf47q340000gn/T/ipykernel_75411/652174667.py:8: ResourceWarning: unclosed <socket.socket fd=94, family=AddressFamily.AF_INET, type=SocketKind.SOCK_STREAM, proto=6, laddr=('127.0.0.1', 51774), raddr=('127.0.0.1', 11434)>\n",
      "  analyzer = GraphRAGSystem(row[\"question\"])\n",
      "ResourceWarning: Enable tracemalloc to get the object allocation traceback\n"
     ]
    },
    {
     "name": "stdout",
     "output_type": "stream",
     "text": [
      "Question 19: Is AMD transmissible between people? a) Yes, highly b) Yes, mildly c) No d) Only genetically\n",
      "Context: T...\n",
      "Response: c) No\n",
      "\n"
     ]
    },
    {
     "name": "stderr",
     "output_type": "stream",
     "text": [
      "/var/folders/z3/zc5j75dj0qn_z2sp8qf47q340000gn/T/ipykernel_75411/652174667.py:8: ResourceWarning: unclosed <socket.socket fd=94, family=AddressFamily.AF_INET, type=SocketKind.SOCK_STREAM, proto=6, laddr=('127.0.0.1', 51799), raddr=('127.0.0.1', 11434)>\n",
      "  analyzer = GraphRAGSystem(row[\"question\"])\n",
      "ResourceWarning: Enable tracemalloc to get the object allocation traceback\n"
     ]
    },
    {
     "name": "stdout",
     "output_type": "stream",
     "text": [
      "Question 20: Which lifestyle factor exacerbates AMD? a) Regular exercise b) Obesity c) Adequate sleep d) Hydration\n",
      "Context: T...\n",
      "Response: B\n",
      "\n"
     ]
    },
    {
     "name": "stderr",
     "output_type": "stream",
     "text": [
      "/var/folders/z3/zc5j75dj0qn_z2sp8qf47q340000gn/T/ipykernel_75411/652174667.py:8: ResourceWarning: unclosed <socket.socket fd=94, family=AddressFamily.AF_INET, type=SocketKind.SOCK_STREAM, proto=6, laddr=('127.0.0.1', 51824), raddr=('127.0.0.1', 11434)>\n",
      "  analyzer = GraphRAGSystem(row[\"question\"])\n",
      "ResourceWarning: Enable tracemalloc to get the object allocation traceback\n"
     ]
    },
    {
     "name": "stdout",
     "output_type": "stream",
     "text": [
      "Question 21: Can surgery fully reverse AMD damage? a) Yes b) No c) Sometimes d) Only early stages\n",
      "Context: T...\n",
      "Response: b\n",
      "\n"
     ]
    },
    {
     "name": "stderr",
     "output_type": "stream",
     "text": [
      "/var/folders/z3/zc5j75dj0qn_z2sp8qf47q340000gn/T/ipykernel_75411/652174667.py:8: ResourceWarning: unclosed <socket.socket fd=94, family=AddressFamily.AF_INET, type=SocketKind.SOCK_STREAM, proto=6, laddr=('127.0.0.1', 51863), raddr=('127.0.0.1', 11434)>\n",
      "  analyzer = GraphRAGSystem(row[\"question\"])\n",
      "ResourceWarning: Enable tracemalloc to get the object allocation traceback\n"
     ]
    },
    {
     "name": "stdout",
     "output_type": "stream",
     "text": [
      "Question 22: What visual ability does AMD often impair? a) Color perception b) Hearing acuity c) Taste sensitivity d) Peripheral motion\n",
      "Context: T...\n",
      "Response: D\n",
      "\n"
     ]
    },
    {
     "name": "stderr",
     "output_type": "stream",
     "text": [
      "/var/folders/z3/zc5j75dj0qn_z2sp8qf47q340000gn/T/ipykernel_75411/652174667.py:8: ResourceWarning: unclosed <socket.socket fd=94, family=AddressFamily.AF_INET, type=SocketKind.SOCK_STREAM, proto=6, laddr=('127.0.0.1', 51888), raddr=('127.0.0.1', 11434)>\n",
      "  analyzer = GraphRAGSystem(row[\"question\"])\n",
      "ResourceWarning: Enable tracemalloc to get the object allocation traceback\n"
     ]
    },
    {
     "name": "stdout",
     "output_type": "stream",
     "text": [
      "Question 23: Which is not a cause of AMD? a) Aging b) Genetics c) Screen time d) UV exposure\n",
      "Context: T...\n",
      "Response: A\n",
      "Explanation: While all options except \"A\" are causes or risk factors for Age-Related Macular Degeneration (AMD), option A, \"Aging\", is not the correct answer to this question as it has already been identified that aging is indeed a cause of AMD.\n",
      "\n"
     ]
    },
    {
     "name": "stderr",
     "output_type": "stream",
     "text": [
      "/var/folders/z3/zc5j75dj0qn_z2sp8qf47q340000gn/T/ipykernel_75411/652174667.py:8: ResourceWarning: unclosed <socket.socket fd=94, family=AddressFamily.AF_INET, type=SocketKind.SOCK_STREAM, proto=6, laddr=('127.0.0.1', 51911), raddr=('127.0.0.1', 11434)>\n",
      "  analyzer = GraphRAGSystem(row[\"question\"])\n",
      "ResourceWarning: Enable tracemalloc to get the object allocation traceback\n"
     ]
    },
    {
     "name": "stdout",
     "output_type": "stream",
     "text": [
      "Question 24: What imaging technique is critical for AMD diagnosis? a) X-ray b) MRI c) OCT d) Ultrasound\n",
      "Context: T...\n",
      "Response: c\n",
      "\n"
     ]
    },
    {
     "name": "stderr",
     "output_type": "stream",
     "text": [
      "/var/folders/z3/zc5j75dj0qn_z2sp8qf47q340000gn/T/ipykernel_75411/652174667.py:8: ResourceWarning: unclosed <socket.socket fd=94, family=AddressFamily.AF_INET, type=SocketKind.SOCK_STREAM, proto=6, laddr=('127.0.0.1', 51941), raddr=('127.0.0.1', 11434)>\n",
      "  analyzer = GraphRAGSystem(row[\"question\"])\n",
      "ResourceWarning: Enable tracemalloc to get the object allocation traceback\n"
     ]
    },
    {
     "name": "stdout",
     "output_type": "stream",
     "text": [
      "Question 25: What does wet AMD typically involve? a) Drusen reduction b) Fluid leakage c) Lens thickening d) Iris damage\n",
      "Context: S...\n",
      "Response: b\n",
      "\n"
     ]
    },
    {
     "name": "stderr",
     "output_type": "stream",
     "text": [
      "/var/folders/z3/zc5j75dj0qn_z2sp8qf47q340000gn/T/ipykernel_75411/652174667.py:8: ResourceWarning: unclosed <socket.socket fd=94, family=AddressFamily.AF_INET, type=SocketKind.SOCK_STREAM, proto=6, laddr=('127.0.0.1', 51963), raddr=('127.0.0.1', 11434)>\n",
      "  analyzer = GraphRAGSystem(row[\"question\"])\n",
      "ResourceWarning: Enable tracemalloc to get the object allocation traceback\n"
     ]
    },
    {
     "name": "stdout",
     "output_type": "stream",
     "text": [
      "Question 26: Which gender has a slightly higher AMD prevalence? a) Men b) Women c) Equal d) Unknown\n",
      "Context: T...\n",
      "Response: C\n",
      "\n"
     ]
    },
    {
     "name": "stderr",
     "output_type": "stream",
     "text": [
      "/var/folders/z3/zc5j75dj0qn_z2sp8qf47q340000gn/T/ipykernel_75411/652174667.py:8: ResourceWarning: unclosed <socket.socket fd=94, family=AddressFamily.AF_INET, type=SocketKind.SOCK_STREAM, proto=6, laddr=('127.0.0.1', 51983), raddr=('127.0.0.1', 11434)>\n",
      "  analyzer = GraphRAGSystem(row[\"question\"])\n",
      "ResourceWarning: Enable tracemalloc to get the object allocation traceback\n"
     ]
    },
    {
     "name": "stdout",
     "output_type": "stream",
     "text": [
      "Question 27: Are over-the-counter eye drops effective for AMD? a) Yes b) No c) Sometimes d) Only early stages\n",
      "Context: T...\n",
      "Response: b)\n",
      "\n"
     ]
    },
    {
     "name": "stderr",
     "output_type": "stream",
     "text": [
      "/var/folders/z3/zc5j75dj0qn_z2sp8qf47q340000gn/T/ipykernel_75411/652174667.py:8: ResourceWarning: unclosed <socket.socket fd=94, family=AddressFamily.AF_INET, type=SocketKind.SOCK_STREAM, proto=6, laddr=('127.0.0.1', 52006), raddr=('127.0.0.1', 11434)>\n",
      "  analyzer = GraphRAGSystem(row[\"question\"])\n",
      "ResourceWarning: Enable tracemalloc to get the object allocation traceback\n"
     ]
    },
    {
     "name": "stdout",
     "output_type": "stream",
     "text": [
      "Question 28: Which cardiovascular condition increases AMD risk? a) Low blood pressure b) Hypertension c) Arrhythmia d) Anemia\n",
      "Context: T...\n",
      "Response: B\n",
      "\n"
     ]
    },
    {
     "name": "stderr",
     "output_type": "stream",
     "text": [
      "/var/folders/z3/zc5j75dj0qn_z2sp8qf47q340000gn/T/ipykernel_75411/652174667.py:8: ResourceWarning: unclosed <socket.socket fd=94, family=AddressFamily.AF_INET, type=SocketKind.SOCK_STREAM, proto=6, laddr=('127.0.0.1', 52035), raddr=('127.0.0.1', 11434)>\n",
      "  analyzer = GraphRAGSystem(row[\"question\"])\n",
      "ResourceWarning: Enable tracemalloc to get the object allocation traceback\n"
     ]
    },
    {
     "name": "stdout",
     "output_type": "stream",
     "text": [
      "Question 29: What metabolic factor is linked to AMD? a) High cholesterol b) Low sodium c) High potassium d) Low glucose\n",
      "Context: T...\n",
      "Response: A\n",
      "\n"
     ]
    },
    {
     "name": "stderr",
     "output_type": "stream",
     "text": [
      "/var/folders/z3/zc5j75dj0qn_z2sp8qf47q340000gn/T/ipykernel_75411/652174667.py:8: ResourceWarning: unclosed <socket.socket fd=94, family=AddressFamily.AF_INET, type=SocketKind.SOCK_STREAM, proto=6, laddr=('127.0.0.1', 52070), raddr=('127.0.0.1', 11434)>\n",
      "  analyzer = GraphRAGSystem(row[\"question\"])\n",
      "ResourceWarning: Enable tracemalloc to get the object allocation traceback\n"
     ]
    },
    {
     "name": "stdout",
     "output_type": "stream",
     "text": [
      "Question 30: Can dietary fish oil alone halt AMD? a) Yes b) No c) Sometimes d) Only with supplements\n",
      "Context: T...\n",
      "Response: b)\n",
      "\n"
     ]
    },
    {
     "name": "stderr",
     "output_type": "stream",
     "text": [
      "/var/folders/z3/zc5j75dj0qn_z2sp8qf47q340000gn/T/ipykernel_75411/652174667.py:8: ResourceWarning: unclosed <socket.socket fd=94, family=AddressFamily.AF_INET, type=SocketKind.SOCK_STREAM, proto=6, laddr=('127.0.0.1', 52096), raddr=('127.0.0.1', 11434)>\n",
      "  analyzer = GraphRAGSystem(row[\"question\"])\n",
      "ResourceWarning: Enable tracemalloc to get the object allocation traceback\n"
     ]
    },
    {
     "name": "stdout",
     "output_type": "stream",
     "text": [
      "Question 31: Which eye structure remains unaffected by AMD? a) Macula b) Optic nerve c) Retinal pigment epithelium d) Choroid\n",
      "Context: T...\n",
      "Response: c\n",
      "\n"
     ]
    },
    {
     "name": "stderr",
     "output_type": "stream",
     "text": [
      "/var/folders/z3/zc5j75dj0qn_z2sp8qf47q340000gn/T/ipykernel_75411/652174667.py:8: ResourceWarning: unclosed <socket.socket fd=94, family=AddressFamily.AF_INET, type=SocketKind.SOCK_STREAM, proto=6, laddr=('127.0.0.1', 52121), raddr=('127.0.0.1', 11434)>\n",
      "  analyzer = GraphRAGSystem(row[\"question\"])\n",
      "ResourceWarning: Enable tracemalloc to get the object allocation traceback\n"
     ]
    },
    {
     "name": "stdout",
     "output_type": "stream",
     "text": [
      "Question 32: What therapy targets blood vessels in wet AMD? a) Chemotherapy b) Photodynamic therapy c) Radiation d) Massage\n",
      "Context: T...\n",
      "Response: B\n",
      "\n"
     ]
    },
    {
     "name": "stderr",
     "output_type": "stream",
     "text": [
      "/var/folders/z3/zc5j75dj0qn_z2sp8qf47q340000gn/T/ipykernel_75411/652174667.py:8: ResourceWarning: unclosed <socket.socket fd=94, family=AddressFamily.AF_INET, type=SocketKind.SOCK_STREAM, proto=6, laddr=('127.0.0.1', 52161), raddr=('127.0.0.1', 11434)>\n",
      "  analyzer = GraphRAGSystem(row[\"question\"])\n",
      "ResourceWarning: Enable tracemalloc to get the object allocation traceback\n"
     ]
    },
    {
     "name": "stdout",
     "output_type": "stream",
     "text": [
      "Question 33: Does AMD increase physical risks in the elderly? a) Falls b) Hearing loss c) Muscle weakness d) Appetite loss\n",
      "Context: T...\n",
      "Response: The correct answer is: All of the above.\n",
      "\n"
     ]
    },
    {
     "name": "stderr",
     "output_type": "stream",
     "text": [
      "/var/folders/z3/zc5j75dj0qn_z2sp8qf47q340000gn/T/ipykernel_75411/652174667.py:8: ResourceWarning: unclosed <socket.socket fd=94, family=AddressFamily.AF_INET, type=SocketKind.SOCK_STREAM, proto=6, laddr=('127.0.0.1', 52197), raddr=('127.0.0.1', 11434)>\n",
      "  analyzer = GraphRAGSystem(row[\"question\"])\n",
      "ResourceWarning: Enable tracemalloc to get the object allocation traceback\n"
     ]
    },
    {
     "name": "stdout",
     "output_type": "stream",
     "text": [
      "Question 34: Is AMD typically unilateral at onset? a) Yes b) No c) Always d) Rarely\n",
      "Context: T...\n",
      "Response: a) Yes.\n",
      "\n"
     ]
    },
    {
     "name": "stderr",
     "output_type": "stream",
     "text": [
      "/var/folders/z3/zc5j75dj0qn_z2sp8qf47q340000gn/T/ipykernel_75411/652174667.py:8: ResourceWarning: unclosed <socket.socket fd=94, family=AddressFamily.AF_INET, type=SocketKind.SOCK_STREAM, proto=6, laddr=('127.0.0.1', 52224), raddr=('127.0.0.1', 11434)>\n",
      "  analyzer = GraphRAGSystem(row[\"question\"])\n",
      "ResourceWarning: Enable tracemalloc to get the object allocation traceback\n"
     ]
    },
    {
     "name": "stdout",
     "output_type": "stream",
     "text": [
      "Question 35: What supplement regimen slows dry AMD? a) AREDS b) Multivitamins c) Calcium pills d) Iron tablets\n",
      "Context: T...\n",
      "Response: A\n",
      "\n"
     ]
    },
    {
     "name": "stderr",
     "output_type": "stream",
     "text": [
      "/var/folders/z3/zc5j75dj0qn_z2sp8qf47q340000gn/T/ipykernel_75411/652174667.py:8: ResourceWarning: unclosed <socket.socket fd=94, family=AddressFamily.AF_INET, type=SocketKind.SOCK_STREAM, proto=6, laddr=('127.0.0.1', 52248), raddr=('127.0.0.1', 11434)>\n",
      "  analyzer = GraphRAGSystem(row[\"question\"])\n",
      "ResourceWarning: Enable tracemalloc to get the object allocation traceback\n"
     ]
    },
    {
     "name": "stdout",
     "output_type": "stream",
     "text": [
      "Question 36: Which ethnicity has the highest AMD incidence? a) African Americans b) Caucasians c) Asians d) Hispanics\n",
      "Context: T...\n",
      "Response: c\n",
      "\n"
     ]
    },
    {
     "name": "stderr",
     "output_type": "stream",
     "text": [
      "/var/folders/z3/zc5j75dj0qn_z2sp8qf47q340000gn/T/ipykernel_75411/652174667.py:8: ResourceWarning: unclosed <socket.socket fd=94, family=AddressFamily.AF_INET, type=SocketKind.SOCK_STREAM, proto=6, laddr=('127.0.0.1', 52264), raddr=('127.0.0.1', 11434)>\n",
      "  analyzer = GraphRAGSystem(row[\"question\"])\n",
      "ResourceWarning: Enable tracemalloc to get the object allocation traceback\n"
     ]
    },
    {
     "name": "stdout",
     "output_type": "stream",
     "text": [
      "Question 37: Does wet AMD inevitably cause total blindness? a) Yes b) No c) Often d) Rarely\n",
      "Context: T...\n",
      "Response: b\n",
      "\n"
     ]
    },
    {
     "name": "stderr",
     "output_type": "stream",
     "text": [
      "/var/folders/z3/zc5j75dj0qn_z2sp8qf47q340000gn/T/ipykernel_75411/652174667.py:8: ResourceWarning: unclosed <socket.socket fd=94, family=AddressFamily.AF_INET, type=SocketKind.SOCK_STREAM, proto=6, laddr=('127.0.0.1', 52288), raddr=('127.0.0.1', 11434)>\n",
      "  analyzer = GraphRAGSystem(row[\"question\"])\n",
      "ResourceWarning: Enable tracemalloc to get the object allocation traceback\n"
     ]
    },
    {
     "name": "stdout",
     "output_type": "stream",
     "text": [
      "Question 38: What visual distortion is typical of AMD? a) Double vision b) Wavy lines c) Flashing lights d) Tunnel vision\n",
      "Context: T...\n",
      "Response: B\n",
      "\n"
     ]
    },
    {
     "name": "stderr",
     "output_type": "stream",
     "text": [
      "/var/folders/z3/zc5j75dj0qn_z2sp8qf47q340000gn/T/ipykernel_75411/652174667.py:8: ResourceWarning: unclosed <socket.socket fd=94, family=AddressFamily.AF_INET, type=SocketKind.SOCK_STREAM, proto=6, laddr=('127.0.0.1', 52314), raddr=('127.0.0.1', 11434)>\n",
      "  analyzer = GraphRAGSystem(row[\"question\"])\n",
      "ResourceWarning: Enable tracemalloc to get the object allocation traceback\n"
     ]
    },
    {
     "name": "stdout",
     "output_type": "stream",
     "text": [
      "Question 39: Is AMD caused by infectious agents? a) Yes b) No c) Sometimes d) Unknown\n",
      "Context: S...\n",
      "Response: b) No\n",
      "\n"
     ]
    },
    {
     "name": "stderr",
     "output_type": "stream",
     "text": [
      "/var/folders/z3/zc5j75dj0qn_z2sp8qf47q340000gn/T/ipykernel_75411/652174667.py:8: ResourceWarning: unclosed <socket.socket fd=94, family=AddressFamily.AF_INET, type=SocketKind.SOCK_STREAM, proto=6, laddr=('127.0.0.1', 52337), raddr=('127.0.0.1', 11434)>\n",
      "  analyzer = GraphRAGSystem(row[\"question\"])\n",
      "ResourceWarning: Enable tracemalloc to get the object allocation traceback\n"
     ]
    },
    {
     "name": "stdout",
     "output_type": "stream",
     "text": [
      "Question 40: Which functional ability does AMD impair? a) Depth perception b) Hearing sensitivity c) Olfactory detection d) Tactile response\n",
      "Context: T...\n",
      "Response: The correct answer is: None of the options are correct.\n",
      "\n",
      "However, according to the information provided, we can infer that AMD impairs:\n",
      "\n",
      "* Visual abilities\n",
      "\t+ Reading ability\n",
      "\t+ Driving ability\n",
      "\t+ General vision loss\n",
      "\t+ Spatial perception mobility\n",
      "\t+ Retinal sensitivity\n",
      "\t+ Central vision\n",
      "\t+ Other visual impairments\n",
      "\n",
      "The options do not mention any of these visual impairments.\n",
      "\n"
     ]
    },
    {
     "name": "stderr",
     "output_type": "stream",
     "text": [
      "/var/folders/z3/zc5j75dj0qn_z2sp8qf47q340000gn/T/ipykernel_75411/652174667.py:8: ResourceWarning: unclosed <socket.socket fd=94, family=AddressFamily.AF_INET, type=SocketKind.SOCK_STREAM, proto=6, laddr=('127.0.0.1', 52365), raddr=('127.0.0.1', 11434)>\n",
      "  analyzer = GraphRAGSystem(row[\"question\"])\n",
      "ResourceWarning: Enable tracemalloc to get the object allocation traceback\n"
     ]
    },
    {
     "name": "stdout",
     "output_type": "stream",
     "text": [
      "Question 41: Can AMD occur in young children? a) Yes b) No c) Rarely d) Only genetically\n",
      "Context: T...\n",
      "Response: a) Yes\n",
      "\n"
     ]
    },
    {
     "name": "stderr",
     "output_type": "stream",
     "text": [
      "/var/folders/z3/zc5j75dj0qn_z2sp8qf47q340000gn/T/ipykernel_75411/652174667.py:8: ResourceWarning: unclosed <socket.socket fd=94, family=AddressFamily.AF_INET, type=SocketKind.SOCK_STREAM, proto=6, laddr=('127.0.0.1', 52401), raddr=('127.0.0.1', 11434)>\n",
      "  analyzer = GraphRAGSystem(row[\"question\"])\n",
      "ResourceWarning: Enable tracemalloc to get the object allocation traceback\n"
     ]
    },
    {
     "name": "stdout",
     "output_type": "stream",
     "text": [
      "Question 42: Does AMD necessitate visual aids? a) Yes b) No c) Sometimes d) Never\n",
      "Context: T...\n",
      "Response: a) Yes\n",
      "\n"
     ]
    },
    {
     "name": "stderr",
     "output_type": "stream",
     "text": [
      "/var/folders/z3/zc5j75dj0qn_z2sp8qf47q340000gn/T/ipykernel_75411/652174667.py:8: ResourceWarning: unclosed <socket.socket fd=94, family=AddressFamily.AF_INET, type=SocketKind.SOCK_STREAM, proto=6, laddr=('127.0.0.1', 52426), raddr=('127.0.0.1', 11434)>\n",
      "  analyzer = GraphRAGSystem(row[\"question\"])\n",
      "ResourceWarning: Enable tracemalloc to get the object allocation traceback\n"
     ]
    },
    {
     "name": "stdout",
     "output_type": "stream",
     "text": [
      "Question 43: What environmental exposure is linked to AMD? a) Noise pollution b) UV light c) Air humidity d) Temperature extremes\n",
      "Context: T...\n",
      "Response: B\n",
      "\n"
     ]
    },
    {
     "name": "stderr",
     "output_type": "stream",
     "text": [
      "/var/folders/z3/zc5j75dj0qn_z2sp8qf47q340000gn/T/ipykernel_75411/652174667.py:8: ResourceWarning: unclosed <socket.socket fd=94, family=AddressFamily.AF_INET, type=SocketKind.SOCK_STREAM, proto=6, laddr=('127.0.0.1', 52440), raddr=('127.0.0.1', 11434)>\n",
      "  analyzer = GraphRAGSystem(row[\"question\"])\n",
      "ResourceWarning: Enable tracemalloc to get the object allocation traceback\n"
     ]
    },
    {
     "name": "stdout",
     "output_type": "stream",
     "text": [
      "Question 44: Can exercise alone reverse AMD? a) Yes b) No c) Partially d) Only early stages\n",
      "Context: T...\n",
      "Response: b) No\n",
      "\n"
     ]
    },
    {
     "name": "stderr",
     "output_type": "stream",
     "text": [
      "/var/folders/z3/zc5j75dj0qn_z2sp8qf47q340000gn/T/ipykernel_75411/652174667.py:8: ResourceWarning: unclosed <socket.socket fd=94, family=AddressFamily.AF_INET, type=SocketKind.SOCK_STREAM, proto=6, laddr=('127.0.0.1', 52465), raddr=('127.0.0.1', 11434)>\n",
      "  analyzer = GraphRAGSystem(row[\"question\"])\n",
      "ResourceWarning: Enable tracemalloc to get the object allocation traceback\n"
     ]
    },
    {
     "name": "stdout",
     "output_type": "stream",
     "text": [
      "Question 45: Which vision type is least impacted by AMD? a) Night vision b) Peripheral vision c) Central vision d) Contrast sensitivity\n",
      "Context: T...\n",
      "Response: d) Contrast sensitivity\n",
      "\n"
     ]
    },
    {
     "name": "stderr",
     "output_type": "stream",
     "text": [
      "/var/folders/z3/zc5j75dj0qn_z2sp8qf47q340000gn/T/ipykernel_75411/652174667.py:8: ResourceWarning: unclosed <socket.socket fd=94, family=AddressFamily.AF_INET, type=SocketKind.SOCK_STREAM, proto=6, laddr=('127.0.0.1', 52492), raddr=('127.0.0.1', 11434)>\n",
      "  analyzer = GraphRAGSystem(row[\"question\"])\n",
      "ResourceWarning: Enable tracemalloc to get the object allocation traceback\n"
     ]
    },
    {
     "name": "stdout",
     "output_type": "stream",
     "text": [
      "Question 46: What exam detects AMD? a) Blood draw b) Dilated eye exam c) Hearing test d) Skin biopsy\n",
      "Context: T...\n",
      "Response: B\n",
      "\n"
     ]
    },
    {
     "name": "stderr",
     "output_type": "stream",
     "text": [
      "/var/folders/z3/zc5j75dj0qn_z2sp8qf47q340000gn/T/ipykernel_75411/652174667.py:8: ResourceWarning: unclosed <socket.socket fd=94, family=AddressFamily.AF_INET, type=SocketKind.SOCK_STREAM, proto=6, laddr=('127.0.0.1', 52532), raddr=('127.0.0.1', 11434)>\n",
      "  analyzer = GraphRAGSystem(row[\"question\"])\n",
      "ResourceWarning: Enable tracemalloc to get the object allocation traceback\n"
     ]
    },
    {
     "name": "stdout",
     "output_type": "stream",
     "text": [
      "Question 47: Is dim light reading a cause of AMD? a) Yes b) No c) Sometimes d) Unknown\n",
      "Context: T...\n",
      "Response: a) Yes\n",
      "\n"
     ]
    },
    {
     "name": "stderr",
     "output_type": "stream",
     "text": [
      "/var/folders/z3/zc5j75dj0qn_z2sp8qf47q340000gn/T/ipykernel_75411/652174667.py:8: ResourceWarning: unclosed <socket.socket fd=94, family=AddressFamily.AF_INET, type=SocketKind.SOCK_STREAM, proto=6, laddr=('127.0.0.1', 52556), raddr=('127.0.0.1', 11434)>\n",
      "  analyzer = GraphRAGSystem(row[\"question\"])\n",
      "ResourceWarning: Enable tracemalloc to get the object allocation traceback\n"
     ]
    },
    {
     "name": "stdout",
     "output_type": "stream",
     "text": [
      "Question 48: Which daily task does AMD most impair? a) Face recognition b) Hearing conversations c) Smelling food d) Tasting flavors\n",
      "Context: T...\n",
      "Response: A\n",
      "\n"
     ]
    },
    {
     "name": "stderr",
     "output_type": "stream",
     "text": [
      "/var/folders/z3/zc5j75dj0qn_z2sp8qf47q340000gn/T/ipykernel_75411/652174667.py:8: ResourceWarning: unclosed <socket.socket fd=94, family=AddressFamily.AF_INET, type=SocketKind.SOCK_STREAM, proto=6, laddr=('127.0.0.1', 52579), raddr=('127.0.0.1', 11434)>\n",
      "  analyzer = GraphRAGSystem(row[\"question\"])\n",
      "ResourceWarning: Enable tracemalloc to get the object allocation traceback\n"
     ]
    },
    {
     "name": "stdout",
     "output_type": "stream",
     "text": [
      "Question 49: Are antibiotics effective against AMD? a) Yes b) No c) Sometimes d) Only wet AMD\n",
      "Context: T...\n",
      "Response: b) No\n",
      "\n"
     ]
    },
    {
     "name": "stderr",
     "output_type": "stream",
     "text": [
      "/var/folders/z3/zc5j75dj0qn_z2sp8qf47q340000gn/T/ipykernel_75411/652174667.py:8: ResourceWarning: unclosed <socket.socket fd=94, family=AddressFamily.AF_INET, type=SocketKind.SOCK_STREAM, proto=6, laddr=('127.0.0.1', 52599), raddr=('127.0.0.1', 11434)>\n",
      "  analyzer = GraphRAGSystem(row[\"question\"])\n",
      "ResourceWarning: Enable tracemalloc to get the object allocation traceback\n"
     ]
    },
    {
     "name": "stdout",
     "output_type": "stream",
     "text": [
      "Question 50: What demographic factor most influences AMD? a) Age b) Height c) Weight d) Hair color\n",
      "Context: T...\n",
      "Response: A\n",
      "\n"
     ]
    },
    {
     "name": "stderr",
     "output_type": "stream",
     "text": [
      "/var/folders/z3/zc5j75dj0qn_z2sp8qf47q340000gn/T/ipykernel_75411/652174667.py:8: ResourceWarning: unclosed <socket.socket fd=94, family=AddressFamily.AF_INET, type=SocketKind.SOCK_STREAM, proto=6, laddr=('127.0.0.1', 52624), raddr=('127.0.0.1', 11434)>\n",
      "  analyzer = GraphRAGSystem(row[\"question\"])\n",
      "ResourceWarning: Enable tracemalloc to get the object allocation traceback\n"
     ]
    },
    {
     "name": "stdout",
     "output_type": "stream",
     "text": [
      "Question 51: Which retinal change is specific to wet AMD? a) Drusen increase b) Choroidal neovascularization c) Optic disc swelling d) Lens opacity\n",
      "Context: T...\n",
      "Response: B\n",
      "\n"
     ]
    },
    {
     "name": "stderr",
     "output_type": "stream",
     "text": [
      "/var/folders/z3/zc5j75dj0qn_z2sp8qf47q340000gn/T/ipykernel_75411/652174667.py:8: ResourceWarning: unclosed <socket.socket fd=94, family=AddressFamily.AF_INET, type=SocketKind.SOCK_STREAM, proto=6, laddr=('127.0.0.1', 52644), raddr=('127.0.0.1', 11434)>\n",
      "  analyzer = GraphRAGSystem(row[\"question\"])\n",
      "ResourceWarning: Enable tracemalloc to get the object allocation traceback\n"
     ]
    },
    {
     "name": "stdout",
     "output_type": "stream",
     "text": [
      "Question 52: What is the effect of avoiding sunlight on AMD? a) Prevents completely b) Reduces risk c) No impact d) Worsens condition\n",
      "Context: T...\n",
      "Response: B.\n",
      "\n"
     ]
    },
    {
     "name": "stderr",
     "output_type": "stream",
     "text": [
      "/var/folders/z3/zc5j75dj0qn_z2sp8qf47q340000gn/T/ipykernel_75411/652174667.py:8: ResourceWarning: unclosed <socket.socket fd=94, family=AddressFamily.AF_INET, type=SocketKind.SOCK_STREAM, proto=6, laddr=('127.0.0.1', 52668), raddr=('127.0.0.1', 11434)>\n",
      "  analyzer = GraphRAGSystem(row[\"question\"])\n",
      "ResourceWarning: Enable tracemalloc to get the object allocation traceback\n"
     ]
    },
    {
     "name": "stdout",
     "output_type": "stream",
     "text": [
      "Question 53: Which nutrient is not part of AREDS? a) Vitamin C b) Vitamin E c) Vitamin D d) Zinc\n",
      "Context: T...\n",
      "Response: c)\n",
      "\n"
     ]
    },
    {
     "name": "stderr",
     "output_type": "stream",
     "text": [
      "/var/folders/z3/zc5j75dj0qn_z2sp8qf47q340000gn/T/ipykernel_75411/652174667.py:8: ResourceWarning: unclosed <socket.socket fd=94, family=AddressFamily.AF_INET, type=SocketKind.SOCK_STREAM, proto=6, laddr=('127.0.0.1', 52704), raddr=('127.0.0.1', 11434)>\n",
      "  analyzer = GraphRAGSystem(row[\"question\"])\n",
      "ResourceWarning: Enable tracemalloc to get the object allocation traceback\n"
     ]
    },
    {
     "name": "stdout",
     "output_type": "stream",
     "text": [
      "Question 54: What diagnostic sign does fluorescein angiography reveal in wet AMD? a) Drusen size b) Fluid leakage c) Lens clarity d) Corneal thickness\n",
      "Context: T...\n",
      "Response: B\n",
      "\n"
     ]
    },
    {
     "name": "stderr",
     "output_type": "stream",
     "text": [
      "/var/folders/z3/zc5j75dj0qn_z2sp8qf47q340000gn/T/ipykernel_75411/652174667.py:8: ResourceWarning: unclosed <socket.socket fd=94, family=AddressFamily.AF_INET, type=SocketKind.SOCK_STREAM, proto=6, laddr=('127.0.0.1', 52726), raddr=('127.0.0.1', 11434)>\n",
      "  analyzer = GraphRAGSystem(row[\"question\"])\n",
      "ResourceWarning: Enable tracemalloc to get the object allocation traceback\n"
     ]
    },
    {
     "name": "stdout",
     "output_type": "stream",
     "text": [
      "Question 55: Which region has higher AMD prevalence? a) Developing countries b) Developed countries c) Tropical areas d) Polar regions\n",
      "Context: T...\n",
      "Response: C\n",
      "\n"
     ]
    },
    {
     "name": "stderr",
     "output_type": "stream",
     "text": [
      "/var/folders/z3/zc5j75dj0qn_z2sp8qf47q340000gn/T/ipykernel_75411/652174667.py:8: ResourceWarning: unclosed <socket.socket fd=94, family=AddressFamily.AF_INET, type=SocketKind.SOCK_STREAM, proto=6, laddr=('127.0.0.1', 52756), raddr=('127.0.0.1', 11434)>\n",
      "  analyzer = GraphRAGSystem(row[\"question\"])\n",
      "ResourceWarning: Enable tracemalloc to get the object allocation traceback\n"
     ]
    },
    {
     "name": "stdout",
     "output_type": "stream",
     "text": [
      "Question 56: Can wet AMD be fully reversed? a) Yes b) No c) Sometimes d) Only early stages\n",
      "Context: T...\n",
      "Response: d) Only early stages\n",
      "\n"
     ]
    },
    {
     "name": "stderr",
     "output_type": "stream",
     "text": [
      "/var/folders/z3/zc5j75dj0qn_z2sp8qf47q340000gn/T/ipykernel_75411/652174667.py:8: ResourceWarning: unclosed <socket.socket fd=94, family=AddressFamily.AF_INET, type=SocketKind.SOCK_STREAM, proto=6, laddr=('127.0.0.1', 52780), raddr=('127.0.0.1', 11434)>\n",
      "  analyzer = GraphRAGSystem(row[\"question\"])\n",
      "ResourceWarning: Enable tracemalloc to get the object allocation traceback\n"
     ]
    },
    {
     "name": "stdout",
     "output_type": "stream",
     "text": [
      "Question 57: What retinal structure is central to AMD pathology? a) Optic disc b) Macula c) Fovea d) Peripheral retina\n",
      "Context: T...\n",
      "Response: b\n",
      "\n"
     ]
    },
    {
     "name": "stderr",
     "output_type": "stream",
     "text": [
      "/var/folders/z3/zc5j75dj0qn_z2sp8qf47q340000gn/T/ipykernel_75411/652174667.py:8: ResourceWarning: unclosed <socket.socket fd=94, family=AddressFamily.AF_INET, type=SocketKind.SOCK_STREAM, proto=6, laddr=('127.0.0.1', 52803), raddr=('127.0.0.1', 11434)>\n",
      "  analyzer = GraphRAGSystem(row[\"question\"])\n",
      "ResourceWarning: Enable tracemalloc to get the object allocation traceback\n"
     ]
    },
    {
     "name": "stdout",
     "output_type": "stream",
     "text": [
      "Question 58: Is poor hygiene a cause of AMD? a) Yes b) No c) Sometimes d) Unknown\n",
      "Context: S...\n",
      "Response: b\n",
      "\n"
     ]
    },
    {
     "name": "stderr",
     "output_type": "stream",
     "text": [
      "/var/folders/z3/zc5j75dj0qn_z2sp8qf47q340000gn/T/ipykernel_75411/652174667.py:8: ResourceWarning: unclosed <socket.socket fd=94, family=AddressFamily.AF_INET, type=SocketKind.SOCK_STREAM, proto=6, laddr=('127.0.0.1', 52825), raddr=('127.0.0.1', 11434)>\n",
      "  analyzer = GraphRAGSystem(row[\"question\"])\n",
      "ResourceWarning: Enable tracemalloc to get the object allocation traceback\n"
     ]
    },
    {
     "name": "stdout",
     "output_type": "stream",
     "text": [
      "Question 59: What assistive device helps AMD patients? a) Hearing aids b) Low vision aids c) Wheelchairs d) Inhalers\n",
      "Context: T...\n",
      "Response: B\n",
      "\n"
     ]
    },
    {
     "name": "stderr",
     "output_type": "stream",
     "text": [
      "/var/folders/z3/zc5j75dj0qn_z2sp8qf47q340000gn/T/ipykernel_75411/652174667.py:8: ResourceWarning: unclosed <socket.socket fd=94, family=AddressFamily.AF_INET, type=SocketKind.SOCK_STREAM, proto=6, laddr=('127.0.0.1', 52850), raddr=('127.0.0.1', 11434)>\n",
      "  analyzer = GraphRAGSystem(row[\"question\"])\n",
      "ResourceWarning: Enable tracemalloc to get the object allocation traceback\n"
     ]
    },
    {
     "name": "stdout",
     "output_type": "stream",
     "text": [
      "Question 60: Which daily activity is most affected by AMD? a) Driving b) Tasting food c) Hearing music d) Smelling flowers\n",
      "Context: T...\n",
      "Response: A\n",
      "\n"
     ]
    },
    {
     "name": "stderr",
     "output_type": "stream",
     "text": [
      "/var/folders/z3/zc5j75dj0qn_z2sp8qf47q340000gn/T/ipykernel_75411/652174667.py:8: ResourceWarning: unclosed <socket.socket fd=94, family=AddressFamily.AF_INET, type=SocketKind.SOCK_STREAM, proto=6, laddr=('127.0.0.1', 52870), raddr=('127.0.0.1', 11434)>\n",
      "  analyzer = GraphRAGSystem(row[\"question\"])\n",
      "ResourceWarning: Enable tracemalloc to get the object allocation traceback\n"
     ]
    },
    {
     "name": "stdout",
     "output_type": "stream",
     "text": [
      "Question 61: Does alcohol consumption directly cause AMD? a) Yes b) No c) Sometimes d) Only heavy use\n",
      "Context: T...\n",
      "Response: a) Yes\n",
      "\n"
     ]
    },
    {
     "name": "stderr",
     "output_type": "stream",
     "text": [
      "/var/folders/z3/zc5j75dj0qn_z2sp8qf47q340000gn/T/ipykernel_75411/652174667.py:8: ResourceWarning: unclosed <socket.socket fd=94, family=AddressFamily.AF_INET, type=SocketKind.SOCK_STREAM, proto=6, laddr=('127.0.0.1', 52892), raddr=('127.0.0.1', 11434)>\n",
      "  analyzer = GraphRAGSystem(row[\"question\"])\n",
      "ResourceWarning: Enable tracemalloc to get the object allocation traceback\n"
     ]
    },
    {
     "name": "stdout",
     "output_type": "stream",
     "text": [
      "Question 62: What hereditary factor contributes to AMD? a) Eye color b) Genetic predisposition c) Skin tone d) Hair texture\n",
      "Context: T...\n",
      "Response: B\n",
      "\n"
     ]
    },
    {
     "name": "stderr",
     "output_type": "stream",
     "text": [
      "/var/folders/z3/zc5j75dj0qn_z2sp8qf47q340000gn/T/ipykernel_75411/652174667.py:8: ResourceWarning: unclosed <socket.socket fd=94, family=AddressFamily.AF_INET, type=SocketKind.SOCK_STREAM, proto=6, laddr=('127.0.0.1', 52916), raddr=('127.0.0.1', 11434)>\n",
      "  analyzer = GraphRAGSystem(row[\"question\"])\n",
      "ResourceWarning: Enable tracemalloc to get the object allocation traceback\n"
     ]
    },
    {
     "name": "stdout",
     "output_type": "stream",
     "text": [
      "Question 63: Which retinal event occurs in wet AMD? a) Drusen dissolution b) Subretinal hemorrhage c) Optic nerve atrophy d) Lens detachment\n",
      "Context: T...\n",
      "Response: The correct answer is: B.\n",
      "\n"
     ]
    },
    {
     "name": "stderr",
     "output_type": "stream",
     "text": [
      "/var/folders/z3/zc5j75dj0qn_z2sp8qf47q340000gn/T/ipykernel_75411/652174667.py:8: ResourceWarning: unclosed <socket.socket fd=94, family=AddressFamily.AF_INET, type=SocketKind.SOCK_STREAM, proto=6, laddr=('127.0.0.1', 52941), raddr=('127.0.0.1', 11434)>\n",
      "  analyzer = GraphRAGSystem(row[\"question\"])\n",
      "ResourceWarning: Enable tracemalloc to get the object allocation traceback\n"
     ]
    },
    {
     "name": "stdout",
     "output_type": "stream",
     "text": [
      "Question 64: Is staring at bright lights a direct cause of AMD? a) Yes b) No c) Sometimes d) Unknown\n",
      "Context: T...\n",
      "Response: b\n",
      "\n"
     ]
    },
    {
     "name": "stderr",
     "output_type": "stream",
     "text": [
      "/var/folders/z3/zc5j75dj0qn_z2sp8qf47q340000gn/T/ipykernel_75411/652174667.py:8: ResourceWarning: unclosed <socket.socket fd=94, family=AddressFamily.AF_INET, type=SocketKind.SOCK_STREAM, proto=6, laddr=('127.0.0.1', 52965), raddr=('127.0.0.1', 11434)>\n",
      "  analyzer = GraphRAGSystem(row[\"question\"])\n",
      "ResourceWarning: Enable tracemalloc to get the object allocation traceback\n"
     ]
    },
    {
     "name": "stdout",
     "output_type": "stream",
     "text": [
      "Question 65: What screening method identifies AMD early? a) Blood test b) Eye exam c) Hearing test d) Skin scan\n",
      "Context: T...\n",
      "Response: B\n",
      "\n"
     ]
    },
    {
     "name": "stderr",
     "output_type": "stream",
     "text": [
      "/var/folders/z3/zc5j75dj0qn_z2sp8qf47q340000gn/T/ipykernel_75411/652174667.py:8: ResourceWarning: unclosed <socket.socket fd=94, family=AddressFamily.AF_INET, type=SocketKind.SOCK_STREAM, proto=6, laddr=('127.0.0.1', 52992), raddr=('127.0.0.1', 11434)>\n",
      "  analyzer = GraphRAGSystem(row[\"question\"])\n",
      "ResourceWarning: Enable tracemalloc to get the object allocation traceback\n"
     ]
    },
    {
     "name": "stdout",
     "output_type": "stream",
     "text": [
      "Question 66: Does AMD cause floaters as a primary symptom? a) Yes b) No c) Sometimes d) Only late stages\n",
      "Context: T...\n",
      "Response: a) Yes\n",
      "\n"
     ]
    },
    {
     "name": "stderr",
     "output_type": "stream",
     "text": [
      "/var/folders/z3/zc5j75dj0qn_z2sp8qf47q340000gn/T/ipykernel_75411/652174667.py:8: ResourceWarning: unclosed <socket.socket fd=94, family=AddressFamily.AF_INET, type=SocketKind.SOCK_STREAM, proto=6, laddr=('127.0.0.1', 53015), raddr=('127.0.0.1', 11434)>\n",
      "  analyzer = GraphRAGSystem(row[\"question\"])\n",
      "ResourceWarning: Enable tracemalloc to get the object allocation traceback\n"
     ]
    },
    {
     "name": "stdout",
     "output_type": "stream",
     "text": [
      "Question 67: Which eye trait may elevate AMD risk? a) Dark eyes b) Light eyes c) Myopia d) Astigmatism\n",
      "Context: T...\n",
      "Response: B\n",
      "\n"
     ]
    },
    {
     "name": "stderr",
     "output_type": "stream",
     "text": [
      "/var/folders/z3/zc5j75dj0qn_z2sp8qf47q340000gn/T/ipykernel_75411/652174667.py:8: ResourceWarning: unclosed <socket.socket fd=94, family=AddressFamily.AF_INET, type=SocketKind.SOCK_STREAM, proto=6, laddr=('127.0.0.1', 53041), raddr=('127.0.0.1', 11434)>\n",
      "  analyzer = GraphRAGSystem(row[\"question\"])\n",
      "ResourceWarning: Enable tracemalloc to get the object allocation traceback\n"
     ]
    },
    {
     "name": "stdout",
     "output_type": "stream",
     "text": [
      "Question 68: Can vitamin C alone cure AMD? a) Yes b) No c) Sometimes d) Only with zinc\n",
      "Context: V...\n",
      "Response: b)\n",
      "\n"
     ]
    },
    {
     "name": "stderr",
     "output_type": "stream",
     "text": [
      "/var/folders/z3/zc5j75dj0qn_z2sp8qf47q340000gn/T/ipykernel_75411/652174667.py:8: ResourceWarning: unclosed <socket.socket fd=94, family=AddressFamily.AF_INET, type=SocketKind.SOCK_STREAM, proto=6, laddr=('127.0.0.1', 53081), raddr=('127.0.0.1', 11434)>\n",
      "  analyzer = GraphRAGSystem(row[\"question\"])\n",
      "ResourceWarning: Enable tracemalloc to get the object allocation traceback\n"
     ]
    },
    {
     "name": "stdout",
     "output_type": "stream",
     "text": [
      "Question 69: What visual defect does AMD often produce? a) Peripheral tunnel b) Central blind spots c) Flashing lights d) Double images\n",
      "Context: T...\n",
      "Response: B\n",
      "\n"
     ]
    },
    {
     "name": "stderr",
     "output_type": "stream",
     "text": [
      "/var/folders/z3/zc5j75dj0qn_z2sp8qf47q340000gn/T/ipykernel_75411/652174667.py:8: ResourceWarning: unclosed <socket.socket fd=94, family=AddressFamily.AF_INET, type=SocketKind.SOCK_STREAM, proto=6, laddr=('127.0.0.1', 53104), raddr=('127.0.0.1', 11434)>\n",
      "  analyzer = GraphRAGSystem(row[\"question\"])\n",
      "ResourceWarning: Enable tracemalloc to get the object allocation traceback\n"
     ]
    },
    {
     "name": "stdout",
     "output_type": "stream",
     "text": [
      "Question 70: Is excessive sugar intake a direct AMD cause? a) Yes b) No c) Sometimes d) Unknown\n",
      "Context: T...\n",
      "Response: b)\n",
      "\n"
     ]
    },
    {
     "name": "stderr",
     "output_type": "stream",
     "text": [
      "/var/folders/z3/zc5j75dj0qn_z2sp8qf47q340000gn/T/ipykernel_75411/652174667.py:8: ResourceWarning: unclosed <socket.socket fd=94, family=AddressFamily.AF_INET, type=SocketKind.SOCK_STREAM, proto=6, laddr=('127.0.0.1', 53134), raddr=('127.0.0.1', 11434)>\n",
      "  analyzer = GraphRAGSystem(row[\"question\"])\n",
      "ResourceWarning: Enable tracemalloc to get the object allocation traceback\n"
     ]
    },
    {
     "name": "stdout",
     "output_type": "stream",
     "text": [
      "Question 71: What lifestyle change reduces AMD risk? a) More screen time b) Smoking cessation c) Less exercise d) High-fat diet\n",
      "Context: T...\n",
      "Response: B\n",
      "\n"
     ]
    },
    {
     "name": "stderr",
     "output_type": "stream",
     "text": [
      "/var/folders/z3/zc5j75dj0qn_z2sp8qf47q340000gn/T/ipykernel_75411/652174667.py:8: ResourceWarning: unclosed <socket.socket fd=94, family=AddressFamily.AF_INET, type=SocketKind.SOCK_STREAM, proto=6, laddr=('127.0.0.1', 53152), raddr=('127.0.0.1', 11434)>\n",
      "  analyzer = GraphRAGSystem(row[\"question\"])\n",
      "ResourceWarning: Enable tracemalloc to get the object allocation traceback\n"
     ]
    },
    {
     "name": "stdout",
     "output_type": "stream",
     "text": [
      "Question 72: Does AMD exclusively impair night vision? a) Yes b) No c) Sometimes d) Only wet AMD\n",
      "Context: T...\n",
      "Response: b\n",
      "\n"
     ]
    },
    {
     "name": "stderr",
     "output_type": "stream",
     "text": [
      "/var/folders/z3/zc5j75dj0qn_z2sp8qf47q340000gn/T/ipykernel_75411/652174667.py:8: ResourceWarning: unclosed <socket.socket fd=94, family=AddressFamily.AF_INET, type=SocketKind.SOCK_STREAM, proto=6, laddr=('127.0.0.1', 53188), raddr=('127.0.0.1', 11434)>\n",
      "  analyzer = GraphRAGSystem(row[\"question\"])\n",
      "ResourceWarning: Enable tracemalloc to get the object allocation traceback\n"
     ]
    },
    {
     "name": "stdout",
     "output_type": "stream",
     "text": [
      "Question 73: What retinal scan detects AMD? a) CT scan b) Retina scan c) PET scan d) MRI\n",
      "Context: T...\n",
      "Response: d\n",
      "\n"
     ]
    },
    {
     "name": "stderr",
     "output_type": "stream",
     "text": [
      "/var/folders/z3/zc5j75dj0qn_z2sp8qf47q340000gn/T/ipykernel_75411/652174667.py:8: ResourceWarning: unclosed <socket.socket fd=94, family=AddressFamily.AF_INET, type=SocketKind.SOCK_STREAM, proto=6, laddr=('127.0.0.1', 53216), raddr=('127.0.0.1', 11434)>\n",
      "  analyzer = GraphRAGSystem(row[\"question\"])\n",
      "ResourceWarning: Enable tracemalloc to get the object allocation traceback\n"
     ]
    },
    {
     "name": "stdout",
     "output_type": "stream",
     "text": [
      "Question 74: Can diet alone manage wet AMD? a) Yes b) No c) Sometimes d) Only early stages\n",
      "Context: T...\n",
      "Response: b\n",
      "\n"
     ]
    },
    {
     "name": "stderr",
     "output_type": "stream",
     "text": [
      "/var/folders/z3/zc5j75dj0qn_z2sp8qf47q340000gn/T/ipykernel_75411/652174667.py:8: ResourceWarning: unclosed <socket.socket fd=94, family=AddressFamily.AF_INET, type=SocketKind.SOCK_STREAM, proto=6, laddr=('127.0.0.1', 53238), raddr=('127.0.0.1', 11434)>\n",
      "  analyzer = GraphRAGSystem(row[\"question\"])\n",
      "ResourceWarning: Enable tracemalloc to get the object allocation traceback\n"
     ]
    },
    {
     "name": "stdout",
     "output_type": "stream",
     "text": [
      "Question 75: Which adaptation does AMD affect? a) Low light vision b) Hearing acuity c) Taste sensitivity d) Balance control\n",
      "Context: T...\n",
      "Response: A\n",
      "\n",
      "\n",
      "Explanation: The correct answer is A, because the primary effect of AMD (Age-related Macular Degeneration) on vision loss is low light vision.\n",
      "\n"
     ]
    },
    {
     "name": "stderr",
     "output_type": "stream",
     "text": [
      "/var/folders/z3/zc5j75dj0qn_z2sp8qf47q340000gn/T/ipykernel_75411/652174667.py:8: ResourceWarning: unclosed <socket.socket fd=94, family=AddressFamily.AF_INET, type=SocketKind.SOCK_STREAM, proto=6, laddr=('127.0.0.1', 53259), raddr=('127.0.0.1', 11434)>\n",
      "  analyzer = GraphRAGSystem(row[\"question\"])\n",
      "ResourceWarning: Enable tracemalloc to get the object allocation traceback\n"
     ]
    },
    {
     "name": "stdout",
     "output_type": "stream",
     "text": [
      "Question 76: Is lack of sleep a primary AMD cause? a) Yes b) No c) Sometimes d) Unknown\n",
      "Context: T...\n",
      "Response: b\n",
      "\n"
     ]
    },
    {
     "name": "stderr",
     "output_type": "stream",
     "text": [
      "/var/folders/z3/zc5j75dj0qn_z2sp8qf47q340000gn/T/ipykernel_75411/652174667.py:8: ResourceWarning: unclosed <socket.socket fd=94, family=AddressFamily.AF_INET, type=SocketKind.SOCK_STREAM, proto=6, laddr=('127.0.0.1', 53305), raddr=('127.0.0.1', 11434)>\n",
      "  analyzer = GraphRAGSystem(row[\"question\"])\n",
      "ResourceWarning: Enable tracemalloc to get the object allocation traceback\n"
     ]
    },
    {
     "name": "stdout",
     "output_type": "stream",
     "text": [
      "Question 77: What routine check monitors AMD? a) Blood test b) Eye checkup c) Hearing exam d) Skin test\n",
      "Context: T...\n",
      "Response: B\n",
      "\n"
     ]
    },
    {
     "name": "stderr",
     "output_type": "stream",
     "text": [
      "/var/folders/z3/zc5j75dj0qn_z2sp8qf47q340000gn/T/ipykernel_75411/652174667.py:8: ResourceWarning: unclosed <socket.socket fd=94, family=AddressFamily.AF_INET, type=SocketKind.SOCK_STREAM, proto=6, laddr=('127.0.0.1', 53331), raddr=('127.0.0.1', 11434)>\n",
      "  analyzer = GraphRAGSystem(row[\"question\"])\n",
      "ResourceWarning: Enable tracemalloc to get the object allocation traceback\n"
     ]
    },
    {
     "name": "stdout",
     "output_type": "stream",
     "text": [
      "Question 78: Does dry AMD cause retinal bleeding? a) Yes b) No c) Sometimes d) Only late stages\n",
      "Context: T...\n",
      "Response: c) Sometimes\n",
      "\n"
     ]
    },
    {
     "name": "stderr",
     "output_type": "stream",
     "text": [
      "/var/folders/z3/zc5j75dj0qn_z2sp8qf47q340000gn/T/ipykernel_75411/652174667.py:8: ResourceWarning: unclosed <socket.socket fd=94, family=AddressFamily.AF_INET, type=SocketKind.SOCK_STREAM, proto=6, laddr=('127.0.0.1', 53357), raddr=('127.0.0.1', 11434)>\n",
      "  analyzer = GraphRAGSystem(row[\"question\"])\n",
      "ResourceWarning: Enable tracemalloc to get the object allocation traceback\n"
     ]
    },
    {
     "name": "stdout",
     "output_type": "stream",
     "text": [
      "Question 79: Which group has lower AMD rates? a) Caucasians b) African Americans c) Asians d) Europeans\n",
      "Context: T...\n",
      "Response: a\n",
      "\n"
     ]
    },
    {
     "name": "stderr",
     "output_type": "stream",
     "text": [
      "/var/folders/z3/zc5j75dj0qn_z2sp8qf47q340000gn/T/ipykernel_75411/652174667.py:8: ResourceWarning: unclosed <socket.socket fd=94, family=AddressFamily.AF_INET, type=SocketKind.SOCK_STREAM, proto=6, laddr=('127.0.0.1', 53381), raddr=('127.0.0.1', 11434)>\n",
      "  analyzer = GraphRAGSystem(row[\"question\"])\n",
      "ResourceWarning: Enable tracemalloc to get the object allocation traceback\n"
     ]
    },
    {
     "name": "stdout",
     "output_type": "stream",
     "text": [
      "Question 80: Can AMD cause hallucinations in late stages? a) Yes b) No c) Rarely d) Only wet AMD\n",
      "Context: S...\n",
      "Response: a) Yes\n",
      "\n"
     ]
    },
    {
     "name": "stderr",
     "output_type": "stream",
     "text": [
      "/var/folders/z3/zc5j75dj0qn_z2sp8qf47q340000gn/T/ipykernel_75411/652174667.py:8: ResourceWarning: unclosed <socket.socket fd=94, family=AddressFamily.AF_INET, type=SocketKind.SOCK_STREAM, proto=6, laddr=('127.0.0.1', 53400), raddr=('127.0.0.1', 11434)>\n",
      "  analyzer = GraphRAGSystem(row[\"question\"])\n",
      "ResourceWarning: Enable tracemalloc to get the object allocation traceback\n"
     ]
    },
    {
     "name": "stdout",
     "output_type": "stream",
     "text": [
      "Question 81: Is AMD exclusive to those over 80? a) Yes b) No c) Usually d) Rarely\n",
      "Context: T...\n",
      "Response: b\n",
      "\n"
     ]
    },
    {
     "name": "stderr",
     "output_type": "stream",
     "text": [
      "/var/folders/z3/zc5j75dj0qn_z2sp8qf47q340000gn/T/ipykernel_75411/652174667.py:8: ResourceWarning: unclosed <socket.socket fd=94, family=AddressFamily.AF_INET, type=SocketKind.SOCK_STREAM, proto=6, laddr=('127.0.0.1', 53424), raddr=('127.0.0.1', 11434)>\n",
      "  analyzer = GraphRAGSystem(row[\"question\"])\n",
      "ResourceWarning: Enable tracemalloc to get the object allocation traceback\n"
     ]
    },
    {
     "name": "stdout",
     "output_type": "stream",
     "text": [
      "Question 82: What cellular process is linked to AMD? a) Oxidative stress b) Bone growth c) Muscle repair d) Skin regeneration\n",
      "Context: T...\n",
      "Response: A\n",
      "\n"
     ]
    },
    {
     "name": "stderr",
     "output_type": "stream",
     "text": [
      "/var/folders/z3/zc5j75dj0qn_z2sp8qf47q340000gn/T/ipykernel_75411/652174667.py:8: ResourceWarning: unclosed <socket.socket fd=94, family=AddressFamily.AF_INET, type=SocketKind.SOCK_STREAM, proto=6, laddr=('127.0.0.1', 53452), raddr=('127.0.0.1', 11434)>\n",
      "  analyzer = GraphRAGSystem(row[\"question\"])\n",
      "ResourceWarning: Enable tracemalloc to get the object allocation traceback\n"
     ]
    },
    {
     "name": "stdout",
     "output_type": "stream",
     "text": [
      "Question 83: Is acupuncture a standard AMD treatment? a) Yes b) No c) Sometimes d) Only experimental\n",
      "Context: T...\n",
      "Response: b\n",
      "\n"
     ]
    },
    {
     "name": "stderr",
     "output_type": "stream",
     "text": [
      "/var/folders/z3/zc5j75dj0qn_z2sp8qf47q340000gn/T/ipykernel_75411/652174667.py:8: ResourceWarning: unclosed <socket.socket fd=94, family=AddressFamily.AF_INET, type=SocketKind.SOCK_STREAM, proto=6, laddr=('127.0.0.1', 53477), raddr=('127.0.0.1', 11434)>\n",
      "  analyzer = GraphRAGSystem(row[\"question\"])\n",
      "ResourceWarning: Enable tracemalloc to get the object allocation traceback\n"
     ]
    },
    {
     "name": "stdout",
     "output_type": "stream",
     "text": [
      "Question 84: Which mental health issue may AMD increase? a) Depression b) Anxiety c) Memory loss d) All of the above\n",
      "Context: T...\n",
      "Response: d) All of the above\n",
      "\n"
     ]
    },
    {
     "name": "stderr",
     "output_type": "stream",
     "text": [
      "/var/folders/z3/zc5j75dj0qn_z2sp8qf47q340000gn/T/ipykernel_75411/652174667.py:8: ResourceWarning: unclosed <socket.socket fd=94, family=AddressFamily.AF_INET, type=SocketKind.SOCK_STREAM, proto=6, laddr=('127.0.0.1', 53496), raddr=('127.0.0.1', 11434)>\n",
      "  analyzer = GraphRAGSystem(row[\"question\"])\n",
      "ResourceWarning: Enable tracemalloc to get the object allocation traceback\n"
     ]
    },
    {
     "name": "stdout",
     "output_type": "stream",
     "text": [
      "Question 85: Do contact lenses cause AMD? a) Yes b) No c) Sometimes d) Only long-term use\n",
      "Context: S...\n",
      "Response: b\n",
      "\n"
     ]
    },
    {
     "name": "stderr",
     "output_type": "stream",
     "text": [
      "/var/folders/z3/zc5j75dj0qn_z2sp8qf47q340000gn/T/ipykernel_75411/652174667.py:8: ResourceWarning: unclosed <socket.socket fd=94, family=AddressFamily.AF_INET, type=SocketKind.SOCK_STREAM, proto=6, laddr=('127.0.0.1', 53527), raddr=('127.0.0.1', 11434)>\n",
      "  analyzer = GraphRAGSystem(row[\"question\"])\n",
      "ResourceWarning: Enable tracemalloc to get the object allocation traceback\n"
     ]
    },
    {
     "name": "stdout",
     "output_type": "stream",
     "text": [
      "Question 86: What photographic method aids AMD diagnosis? a) Fundus photography b) X-ray imaging c) Thermal imaging d) Ultrasound\n",
      "Context: T...\n",
      "Response: b\n",
      "\n"
     ]
    },
    {
     "name": "stderr",
     "output_type": "stream",
     "text": [
      "/var/folders/z3/zc5j75dj0qn_z2sp8qf47q340000gn/T/ipykernel_75411/652174667.py:8: ResourceWarning: unclosed <socket.socket fd=94, family=AddressFamily.AF_INET, type=SocketKind.SOCK_STREAM, proto=6, laddr=('127.0.0.1', 53552), raddr=('127.0.0.1', 11434)>\n",
      "  analyzer = GraphRAGSystem(row[\"question\"])\n",
      "ResourceWarning: Enable tracemalloc to get the object allocation traceback\n"
     ]
    },
    {
     "name": "stdout",
     "output_type": "stream",
     "text": [
      "Question 87: Does wet AMD cause retinal scarring? a) Yes b) No c) Rarely d) Only early stages\n",
      "Context: T...\n",
      "Response: a) Yes\n",
      "\n"
     ]
    },
    {
     "name": "stderr",
     "output_type": "stream",
     "text": [
      "/var/folders/z3/zc5j75dj0qn_z2sp8qf47q340000gn/T/ipykernel_75411/652174667.py:8: ResourceWarning: unclosed <socket.socket fd=94, family=AddressFamily.AF_INET, type=SocketKind.SOCK_STREAM, proto=6, laddr=('127.0.0.1', 53576), raddr=('127.0.0.1', 11434)>\n",
      "  analyzer = GraphRAGSystem(row[\"question\"])\n",
      "ResourceWarning: Enable tracemalloc to get the object allocation traceback\n"
     ]
    },
    {
     "name": "stdout",
     "output_type": "stream",
     "text": [
      "Question 88: Is vitamin D deficiency a direct AMD cause? a) Yes b) No c) Sometimes d) Unknown\n",
      "Context: T...\n",
      "Response: b) No\n",
      "\n"
     ]
    },
    {
     "name": "stderr",
     "output_type": "stream",
     "text": [
      "/var/folders/z3/zc5j75dj0qn_z2sp8qf47q340000gn/T/ipykernel_75411/652174667.py:8: ResourceWarning: unclosed <socket.socket fd=94, family=AddressFamily.AF_INET, type=SocketKind.SOCK_STREAM, proto=6, laddr=('127.0.0.1', 53599), raddr=('127.0.0.1', 11434)>\n",
      "  analyzer = GraphRAGSystem(row[\"question\"])\n",
      "ResourceWarning: Enable tracemalloc to get the object allocation traceback\n"
     ]
    },
    {
     "name": "stdout",
     "output_type": "stream",
     "text": [
      "Question 89: Which spatial ability does AMD affect? a) Distance judgment b) Sound localization c) Taste distinction d) Smell detection\n",
      "Context: T...\n",
      "Response: A\n",
      "\n"
     ]
    },
    {
     "name": "stderr",
     "output_type": "stream",
     "text": [
      "/var/folders/z3/zc5j75dj0qn_z2sp8qf47q340000gn/T/ipykernel_75411/652174667.py:8: ResourceWarning: unclosed <socket.socket fd=94, family=AddressFamily.AF_INET, type=SocketKind.SOCK_STREAM, proto=6, laddr=('127.0.0.1', 53619), raddr=('127.0.0.1', 11434)>\n",
      "  analyzer = GraphRAGSystem(row[\"question\"])\n",
      "ResourceWarning: Enable tracemalloc to get the object allocation traceback\n"
     ]
    },
    {
     "name": "stdout",
     "output_type": "stream",
     "text": [
      "Question 90: Does dry AMD always become wet AMD? a) Yes b) No c) Often d) Rarely\n",
      "Context: T...\n",
      "Response: b)\n",
      "\n"
     ]
    },
    {
     "name": "stderr",
     "output_type": "stream",
     "text": [
      "/var/folders/z3/zc5j75dj0qn_z2sp8qf47q340000gn/T/ipykernel_75411/652174667.py:8: ResourceWarning: unclosed <socket.socket fd=94, family=AddressFamily.AF_INET, type=SocketKind.SOCK_STREAM, proto=6, laddr=('127.0.0.1', 53641), raddr=('127.0.0.1', 11434)>\n",
      "  analyzer = GraphRAGSystem(row[\"question\"])\n",
      "ResourceWarning: Enable tracemalloc to get the object allocation traceback\n"
     ]
    },
    {
     "name": "stdout",
     "output_type": "stream",
     "text": [
      "Question 91: What is the estimated U.S. AMD case count? a) 1 million b) 5 million c) 11 million d) 20 million\n",
      "Context: T...\n",
      "Response: c) 11 million\n",
      "\n"
     ]
    },
    {
     "name": "stderr",
     "output_type": "stream",
     "text": [
      "/var/folders/z3/zc5j75dj0qn_z2sp8qf47q340000gn/T/ipykernel_75411/652174667.py:8: ResourceWarning: unclosed <socket.socket fd=94, family=AddressFamily.AF_INET, type=SocketKind.SOCK_STREAM, proto=6, laddr=('127.0.0.1', 53667), raddr=('127.0.0.1', 11434)>\n",
      "  analyzer = GraphRAGSystem(row[\"question\"])\n",
      "ResourceWarning: Enable tracemalloc to get the object allocation traceback\n"
     ]
    },
    {
     "name": "stdout",
     "output_type": "stream",
     "text": [
      "Question 92: Can avoiding all fats prevent wet AMD? a) Yes b) No c) Sometimes d) Only with diet\n",
      "Context: T...\n",
      "Response: b) No\n",
      "\n"
     ]
    },
    {
     "name": "stderr",
     "output_type": "stream",
     "text": [
      "/var/folders/z3/zc5j75dj0qn_z2sp8qf47q340000gn/T/ipykernel_75411/652174667.py:8: ResourceWarning: unclosed <socket.socket fd=94, family=AddressFamily.AF_INET, type=SocketKind.SOCK_STREAM, proto=6, laddr=('127.0.0.1', 53682), raddr=('127.0.0.1', 11434)>\n",
      "  analyzer = GraphRAGSystem(row[\"question\"])\n",
      "ResourceWarning: Enable tracemalloc to get the object allocation traceback\n"
     ]
    },
    {
     "name": "stdout",
     "output_type": "stream",
     "text": [
      "Question 93: Which retinal feature is most indicative of early dry AMD? a) Fluid leakage b) Drusen deposits c) Retinal tears d) Optic disc swelling\n",
      "Context: T...\n",
      "Response: B\n",
      "\n"
     ]
    },
    {
     "name": "stderr",
     "output_type": "stream",
     "text": [
      "/var/folders/z3/zc5j75dj0qn_z2sp8qf47q340000gn/T/ipykernel_75411/652174667.py:8: ResourceWarning: unclosed <socket.socket fd=94, family=AddressFamily.AF_INET, type=SocketKind.SOCK_STREAM, proto=6, laddr=('127.0.0.1', 53705), raddr=('127.0.0.1', 11434)>\n",
      "  analyzer = GraphRAGSystem(row[\"question\"])\n",
      "ResourceWarning: Enable tracemalloc to get the object allocation traceback\n"
     ]
    },
    {
     "name": "stdout",
     "output_type": "stream",
     "text": [
      "Question 94: What is a hallmark symptom of wet AMD? a) Gradual peripheral loss b) Wavy central vision c) Improved contrast d) Eye redness\n",
      "Context: T...\n",
      "Response: A\n",
      "\n"
     ]
    },
    {
     "name": "stderr",
     "output_type": "stream",
     "text": [
      "/var/folders/z3/zc5j75dj0qn_z2sp8qf47q340000gn/T/ipykernel_75411/652174667.py:8: ResourceWarning: unclosed <socket.socket fd=94, family=AddressFamily.AF_INET, type=SocketKind.SOCK_STREAM, proto=6, laddr=('127.0.0.1', 53725), raddr=('127.0.0.1', 11434)>\n",
      "  analyzer = GraphRAGSystem(row[\"question\"])\n",
      "ResourceWarning: Enable tracemalloc to get the object allocation traceback\n"
     ]
    },
    {
     "name": "stdout",
     "output_type": "stream",
     "text": [
      "Question 95: Which stage of dry AMD precedes geographic atrophy? a) Early b) Intermediate c) Advanced d) Initial\n",
      "Context: T...\n",
      "Response: A\n",
      "The information provided states that early/intermediate stages of AMD precede geographic atrophy, which is a more severe stage.\n",
      "\n"
     ]
    },
    {
     "name": "stderr",
     "output_type": "stream",
     "text": [
      "/var/folders/z3/zc5j75dj0qn_z2sp8qf47q340000gn/T/ipykernel_75411/652174667.py:8: ResourceWarning: unclosed <socket.socket fd=94, family=AddressFamily.AF_INET, type=SocketKind.SOCK_STREAM, proto=6, laddr=('127.0.0.1', 53765), raddr=('127.0.0.1', 11434)>\n",
      "  analyzer = GraphRAGSystem(row[\"question\"])\n",
      "ResourceWarning: Enable tracemalloc to get the object allocation traceback\n"
     ]
    },
    {
     "name": "stdout",
     "output_type": "stream",
     "text": [
      "Question 96: What habit significantly increases AMD risk? a) Drinking coffee b) Smoking c) Walking daily d) Reading books\n",
      "Context: T...\n",
      "Response: B\n",
      "\n"
     ]
    },
    {
     "name": "stderr",
     "output_type": "stream",
     "text": [
      "/var/folders/z3/zc5j75dj0qn_z2sp8qf47q340000gn/T/ipykernel_75411/652174667.py:8: ResourceWarning: unclosed <socket.socket fd=94, family=AddressFamily.AF_INET, type=SocketKind.SOCK_STREAM, proto=6, laddr=('127.0.0.1', 53790), raddr=('127.0.0.1', 11434)>\n",
      "  analyzer = GraphRAGSystem(row[\"question\"])\n",
      "ResourceWarning: Enable tracemalloc to get the object allocation traceback\n"
     ]
    },
    {
     "name": "stdout",
     "output_type": "stream",
     "text": [
      "Question 97: Which form of AMD is characterized by neovascularization? a) Dry AMD b) Wet AMD c) Early AMD d) Late AMD\n",
      "Context: T...\n",
      "Response: B\n",
      "\n"
     ]
    },
    {
     "name": "stderr",
     "output_type": "stream",
     "text": [
      "/var/folders/z3/zc5j75dj0qn_z2sp8qf47q340000gn/T/ipykernel_75411/652174667.py:8: ResourceWarning: unclosed <socket.socket fd=94, family=AddressFamily.AF_INET, type=SocketKind.SOCK_STREAM, proto=6, laddr=('127.0.0.1', 53816), raddr=('127.0.0.1', 11434)>\n",
      "  analyzer = GraphRAGSystem(row[\"question\"])\n",
      "ResourceWarning: Enable tracemalloc to get the object allocation traceback\n"
     ]
    },
    {
     "name": "stdout",
     "output_type": "stream",
     "text": [
      "Question 98: Is there a definitive cure for intermediate AMD? a) Yes b) No c) In development d) Only for wet AMD\n",
      "Context: T...\n",
      "Response: b) No\n",
      "\n"
     ]
    },
    {
     "name": "stderr",
     "output_type": "stream",
     "text": [
      "/var/folders/z3/zc5j75dj0qn_z2sp8qf47q340000gn/T/ipykernel_75411/652174667.py:8: ResourceWarning: unclosed <socket.socket fd=94, family=AddressFamily.AF_INET, type=SocketKind.SOCK_STREAM, proto=6, laddr=('127.0.0.1', 53856), raddr=('127.0.0.1', 11434)>\n",
      "  analyzer = GraphRAGSystem(row[\"question\"])\n",
      "ResourceWarning: Enable tracemalloc to get the object allocation traceback\n"
     ]
    },
    {
     "name": "stdout",
     "output_type": "stream",
     "text": [
      "Question 99: What injection targets wet AMD’s blood vessels? a) Insulin b) Anti-VEGF c) Steroids d) Antibiotics\n",
      "Context: T...\n",
      "Response: B\n",
      "\n"
     ]
    },
    {
     "name": "stderr",
     "output_type": "stream",
     "text": [
      "/var/folders/z3/zc5j75dj0qn_z2sp8qf47q340000gn/T/ipykernel_75411/652174667.py:8: ResourceWarning: unclosed <socket.socket fd=94, family=AddressFamily.AF_INET, type=SocketKind.SOCK_STREAM, proto=6, laddr=('127.0.0.1', 53883), raddr=('127.0.0.1', 11434)>\n",
      "  analyzer = GraphRAGSystem(row[\"question\"])\n",
      "ResourceWarning: Enable tracemalloc to get the object allocation traceback\n"
     ]
    },
    {
     "name": "stdout",
     "output_type": "stream",
     "text": [
      "Question 100: Which vision aspect is preserved longest in AMD? a) Central acuity b) Peripheral vision c) Color distinction d) Depth perception\n",
      "Context: A...\n",
      "Response: B\n",
      "\n"
     ]
    },
    {
     "name": "stderr",
     "output_type": "stream",
     "text": [
      "/var/folders/z3/zc5j75dj0qn_z2sp8qf47q340000gn/T/ipykernel_75411/652174667.py:8: ResourceWarning: unclosed <socket.socket fd=94, family=AddressFamily.AF_INET, type=SocketKind.SOCK_STREAM, proto=6, laddr=('127.0.0.1', 53909), raddr=('127.0.0.1', 11434)>\n",
      "  analyzer = GraphRAGSystem(row[\"question\"])\n",
      "ResourceWarning: Enable tracemalloc to get the object allocation traceback\n"
     ]
    },
    {
     "name": "stdout",
     "output_type": "stream",
     "text": [
      "Question 101: What hereditary trait is linked to AMD? a) Family history b) Eye shape c) Hair length d) Skin color\n",
      "Context: T...\n",
      "Response: A\n",
      "The best answer is A.\n",
      "\n"
     ]
    },
    {
     "name": "stderr",
     "output_type": "stream",
     "text": [
      "/var/folders/z3/zc5j75dj0qn_z2sp8qf47q340000gn/T/ipykernel_75411/652174667.py:8: ResourceWarning: unclosed <socket.socket fd=94, family=AddressFamily.AF_INET, type=SocketKind.SOCK_STREAM, proto=6, laddr=('127.0.0.1', 53939), raddr=('127.0.0.1', 11434)>\n",
      "  analyzer = GraphRAGSystem(row[\"question\"])\n",
      "ResourceWarning: Enable tracemalloc to get the object allocation traceback\n"
     ]
    },
    {
     "name": "stdout",
     "output_type": "stream",
     "text": [
      "Question 102: Which test is irrelevant for AMD diagnosis? a) OCT b) Skin biopsy c) Amsler grid d) Fluorescein angiography\n",
      "Context: T...\n",
      "Response: c) Amsler grid\n",
      "\n"
     ]
    },
    {
     "name": "stderr",
     "output_type": "stream",
     "text": [
      "/var/folders/z3/zc5j75dj0qn_z2sp8qf47q340000gn/T/ipykernel_75411/652174667.py:8: ResourceWarning: unclosed <socket.socket fd=94, family=AddressFamily.AF_INET, type=SocketKind.SOCK_STREAM, proto=6, laddr=('127.0.0.1', 53957), raddr=('127.0.0.1', 11434)>\n",
      "  analyzer = GraphRAGSystem(row[\"question\"])\n",
      "ResourceWarning: Enable tracemalloc to get the object allocation traceback\n"
     ]
    },
    {
     "name": "stdout",
     "output_type": "stream",
     "text": [
      "Question 103: What home tool monitors AMD progression? a) Thermometer b) Amsler grid c) Blood pressure cuff d) Pulse oximeter\n",
      "Context: T...\n",
      "Response: B\n",
      "\n"
     ]
    },
    {
     "name": "stderr",
     "output_type": "stream",
     "text": [
      "/var/folders/z3/zc5j75dj0qn_z2sp8qf47q340000gn/T/ipykernel_75411/652174667.py:8: ResourceWarning: unclosed <socket.socket fd=94, family=AddressFamily.AF_INET, type=SocketKind.SOCK_STREAM, proto=6, laddr=('127.0.0.1', 53980), raddr=('127.0.0.1', 11434)>\n",
      "  analyzer = GraphRAGSystem(row[\"question\"])\n",
      "ResourceWarning: Enable tracemalloc to get the object allocation traceback\n"
     ]
    },
    {
     "name": "stdout",
     "output_type": "stream",
     "text": [
      "Question 104: Which AMD type affects the majority of patients? a) Wet AMD b) Dry AMD c) Mixed AMD d) Neither\n",
      "Context: T...\n",
      "Response: B\n",
      "\n"
     ]
    },
    {
     "name": "stderr",
     "output_type": "stream",
     "text": [
      "/var/folders/z3/zc5j75dj0qn_z2sp8qf47q340000gn/T/ipykernel_75411/652174667.py:8: ResourceWarning: unclosed <socket.socket fd=94, family=AddressFamily.AF_INET, type=SocketKind.SOCK_STREAM, proto=6, laddr=('127.0.0.1', 54001), raddr=('127.0.0.1', 11434)>\n",
      "  analyzer = GraphRAGSystem(row[\"question\"])\n",
      "ResourceWarning: Enable tracemalloc to get the object allocation traceback\n"
     ]
    },
    {
     "name": "stdout",
     "output_type": "stream",
     "text": [
      "Question 105: Can UV-blocking sunglasses eliminate AMD risk? a) Yes b) No c) Partially d) Only with diet\n",
      "Context: T...\n",
      "Response: B\n",
      "\n"
     ]
    },
    {
     "name": "stderr",
     "output_type": "stream",
     "text": [
      "/var/folders/z3/zc5j75dj0qn_z2sp8qf47q340000gn/T/ipykernel_75411/652174667.py:8: ResourceWarning: unclosed <socket.socket fd=94, family=AddressFamily.AF_INET, type=SocketKind.SOCK_STREAM, proto=6, laddr=('127.0.0.1', 54032), raddr=('127.0.0.1', 11434)>\n",
      "  analyzer = GraphRAGSystem(row[\"question\"])\n",
      "ResourceWarning: Enable tracemalloc to get the object allocation traceback\n"
     ]
    },
    {
     "name": "stdout",
     "output_type": "stream",
     "text": [
      "Question 106: Which chronic illness is associated with higher AMD risk? a) Diabetes b) Allergies c) Bronchitis d) Osteoporosis\n",
      "Context: T...\n",
      "Response: a) Diabetes\n",
      "\n"
     ]
    },
    {
     "name": "stderr",
     "output_type": "stream",
     "text": [
      "/var/folders/z3/zc5j75dj0qn_z2sp8qf47q340000gn/T/ipykernel_75411/652174667.py:8: ResourceWarning: unclosed <socket.socket fd=94, family=AddressFamily.AF_INET, type=SocketKind.SOCK_STREAM, proto=6, laddr=('127.0.0.1', 54065), raddr=('127.0.0.1', 11434)>\n",
      "  analyzer = GraphRAGSystem(row[\"question\"])\n",
      "ResourceWarning: Enable tracemalloc to get the object allocation traceback\n"
     ]
    },
    {
     "name": "stdout",
     "output_type": "stream",
     "text": [
      "Question 107: What is the main goal of dry AMD management? a) Cure b) Slow progression c) Reverse vision loss d) Reduce pain\n",
      "Context: T...\n",
      "Response: c) Reverse vision loss\n",
      "\n"
     ]
    },
    {
     "name": "stderr",
     "output_type": "stream",
     "text": [
      "/var/folders/z3/zc5j75dj0qn_z2sp8qf47q340000gn/T/ipykernel_75411/652174667.py:8: ResourceWarning: unclosed <socket.socket fd=94, family=AddressFamily.AF_INET, type=SocketKind.SOCK_STREAM, proto=6, laddr=('127.0.0.1', 54097), raddr=('127.0.0.1', 11434)>\n",
      "  analyzer = GraphRAGSystem(row[\"question\"])\n",
      "ResourceWarning: Enable tracemalloc to get the object allocation traceback\n"
     ]
    },
    {
     "name": "stdout",
     "output_type": "stream",
     "text": [
      "Question 108: What accumulates in the retina in dry AMD? a) Blood clots b) Drusen c) Tears d) Calcium deposits\n",
      "Context: T...\n",
      "Response: B\n",
      "\n"
     ]
    },
    {
     "name": "stderr",
     "output_type": "stream",
     "text": [
      "/var/folders/z3/zc5j75dj0qn_z2sp8qf47q340000gn/T/ipykernel_75411/652174667.py:8: ResourceWarning: unclosed <socket.socket fd=94, family=AddressFamily.AF_INET, type=SocketKind.SOCK_STREAM, proto=6, laddr=('127.0.0.1', 54127), raddr=('127.0.0.1', 11434)>\n",
      "  analyzer = GraphRAGSystem(row[\"question\"])\n",
      "ResourceWarning: Enable tracemalloc to get the object allocation traceback\n"
     ]
    },
    {
     "name": "stdout",
     "output_type": "stream",
     "text": [
      "Question 109: What age group is most susceptible to AMD onset? a) 20-30 b) 30-40 c) 50-60 d) 60+\n",
      "Context: T...\n",
      "Response: c) 50-60\n",
      "\n"
     ]
    },
    {
     "name": "stderr",
     "output_type": "stream",
     "text": [
      "/var/folders/z3/zc5j75dj0qn_z2sp8qf47q340000gn/T/ipykernel_75411/652174667.py:8: ResourceWarning: unclosed <socket.socket fd=94, family=AddressFamily.AF_INET, type=SocketKind.SOCK_STREAM, proto=6, laddr=('127.0.0.1', 54153), raddr=('127.0.0.1', 11434)>\n",
      "  analyzer = GraphRAGSystem(row[\"question\"])\n",
      "ResourceWarning: Enable tracemalloc to get the object allocation traceback\n"
     ]
    },
    {
     "name": "stdout",
     "output_type": "stream",
     "text": [
      "Question 110: Which event is typical of wet AMD onset? a) Gradual drusen growth b) Sudden vision loss c) Peripheral blur d) Eye irritation\n",
      "Context: T...\n",
      "Response: B\n",
      "\n"
     ]
    },
    {
     "name": "stderr",
     "output_type": "stream",
     "text": [
      "/var/folders/z3/zc5j75dj0qn_z2sp8qf47q340000gn/T/ipykernel_75411/652174667.py:8: ResourceWarning: unclosed <socket.socket fd=94, family=AddressFamily.AF_INET, type=SocketKind.SOCK_STREAM, proto=6, laddr=('127.0.0.1', 54171), raddr=('127.0.0.1', 11434)>\n",
      "  analyzer = GraphRAGSystem(row[\"question\"])\n",
      "ResourceWarning: Enable tracemalloc to get the object allocation traceback\n"
     ]
    },
    {
     "name": "stdout",
     "output_type": "stream",
     "text": [
      "Question 111: Can AMD spread through contact? a) Yes b) No c) Rarely d) Only genetically\n",
      "Context: T...\n",
      "Response: a) Yes\n",
      "\n"
     ]
    },
    {
     "name": "stderr",
     "output_type": "stream",
     "text": [
      "/var/folders/z3/zc5j75dj0qn_z2sp8qf47q340000gn/T/ipykernel_75411/652174667.py:8: ResourceWarning: unclosed <socket.socket fd=94, family=AddressFamily.AF_INET, type=SocketKind.SOCK_STREAM, proto=6, laddr=('127.0.0.1', 54202), raddr=('127.0.0.1', 11434)>\n",
      "  analyzer = GraphRAGSystem(row[\"question\"])\n",
      "ResourceWarning: Enable tracemalloc to get the object allocation traceback\n"
     ]
    },
    {
     "name": "stdout",
     "output_type": "stream",
     "text": [
      "Question 112: Which metabolic state increases AMD likelihood? a) Obesity b) Low BMI c) High hydration d) Low cholesterol\n",
      "Context: T...\n",
      "Response: B\n",
      "\n"
     ]
    },
    {
     "name": "stderr",
     "output_type": "stream",
     "text": [
      "/var/folders/z3/zc5j75dj0qn_z2sp8qf47q340000gn/T/ipykernel_75411/652174667.py:8: ResourceWarning: unclosed <socket.socket fd=94, family=AddressFamily.AF_INET, type=SocketKind.SOCK_STREAM, proto=6, laddr=('127.0.0.1', 54228), raddr=('127.0.0.1', 11434)>\n",
      "  analyzer = GraphRAGSystem(row[\"question\"])\n",
      "ResourceWarning: Enable tracemalloc to get the object allocation traceback\n"
     ]
    },
    {
     "name": "stdout",
     "output_type": "stream",
     "text": [
      "Question 113: Is surgical intervention a cure for AMD? a) Yes b) No c) Partially d) Only wet AMD\n",
      "Context: T...\n",
      "Response: b\n",
      "\n"
     ]
    },
    {
     "name": "stderr",
     "output_type": "stream",
     "text": [
      "/var/folders/z3/zc5j75dj0qn_z2sp8qf47q340000gn/T/ipykernel_75411/652174667.py:8: ResourceWarning: unclosed <socket.socket fd=94, family=AddressFamily.AF_INET, type=SocketKind.SOCK_STREAM, proto=6, laddr=('127.0.0.1', 54249), raddr=('127.0.0.1', 11434)>\n",
      "  analyzer = GraphRAGSystem(row[\"question\"])\n",
      "ResourceWarning: Enable tracemalloc to get the object allocation traceback\n"
     ]
    },
    {
     "name": "stdout",
     "output_type": "stream",
     "text": [
      "Question 114: What visual function does AMD often alter? a) Color perception b) Auditory perception c) Taste sensitivity d) Peripheral speed\n",
      "Context: T...\n",
      "Response: d)\n",
      "\n"
     ]
    },
    {
     "name": "stderr",
     "output_type": "stream",
     "text": [
      "/var/folders/z3/zc5j75dj0qn_z2sp8qf47q340000gn/T/ipykernel_75411/652174667.py:8: ResourceWarning: unclosed <socket.socket fd=94, family=AddressFamily.AF_INET, type=SocketKind.SOCK_STREAM, proto=6, laddr=('127.0.0.1', 54275), raddr=('127.0.0.1', 11434)>\n",
      "  analyzer = GraphRAGSystem(row[\"question\"])\n",
      "ResourceWarning: Enable tracemalloc to get the object allocation traceback\n"
     ]
    },
    {
     "name": "stdout",
     "output_type": "stream",
     "text": [
      "Question 115: Does excessive computer use directly cause AMD? a) Yes b) No c) Sometimes d) Only prolonged use\n",
      "Context: T...\n",
      "Response: b\n",
      "\n"
     ]
    },
    {
     "name": "stderr",
     "output_type": "stream",
     "text": [
      "/var/folders/z3/zc5j75dj0qn_z2sp8qf47q340000gn/T/ipykernel_75411/652174667.py:8: ResourceWarning: unclosed <socket.socket fd=94, family=AddressFamily.AF_INET, type=SocketKind.SOCK_STREAM, proto=6, laddr=('127.0.0.1', 54299), raddr=('127.0.0.1', 11434)>\n",
      "  analyzer = GraphRAGSystem(row[\"question\"])\n",
      "ResourceWarning: Enable tracemalloc to get the object allocation traceback\n"
     ]
    },
    {
     "name": "stdout",
     "output_type": "stream",
     "text": [
      "Question 116: Which imaging method is essential for AMD evaluation? a) OCT b) CT scan c) MRI d) X-ray\n",
      "Context: T...\n",
      "Response: A\n",
      "\n"
     ]
    },
    {
     "name": "stderr",
     "output_type": "stream",
     "text": [
      "/var/folders/z3/zc5j75dj0qn_z2sp8qf47q340000gn/T/ipykernel_75411/652174667.py:8: ResourceWarning: unclosed <socket.socket fd=94, family=AddressFamily.AF_INET, type=SocketKind.SOCK_STREAM, proto=6, laddr=('127.0.0.1', 54321), raddr=('127.0.0.1', 11434)>\n",
      "  analyzer = GraphRAGSystem(row[\"question\"])\n",
      "ResourceWarning: Enable tracemalloc to get the object allocation traceback\n"
     ]
    },
    {
     "name": "stdout",
     "output_type": "stream",
     "text": [
      "Question 117: What does wet AMD frequently cause in the retina? a) Drusen shrinkage b) Subretinal fluid c) Lens clouding d) Optic nerve swelling\n",
      "Context: T...\n",
      "Response: B\n",
      "\n"
     ]
    },
    {
     "name": "stderr",
     "output_type": "stream",
     "text": [
      "/var/folders/z3/zc5j75dj0qn_z2sp8qf47q340000gn/T/ipykernel_75411/652174667.py:8: ResourceWarning: unclosed <socket.socket fd=94, family=AddressFamily.AF_INET, type=SocketKind.SOCK_STREAM, proto=6, laddr=('127.0.0.1', 54342), raddr=('127.0.0.1', 11434)>\n",
      "  analyzer = GraphRAGSystem(row[\"question\"])\n",
      "ResourceWarning: Enable tracemalloc to get the object allocation traceback\n"
     ]
    },
    {
     "name": "stdout",
     "output_type": "stream",
     "text": [
      "Question 118: Which demographic shows a slight AMD prevalence edge? a) Men b) Women c) No difference d) Children\n",
      "Context: T...\n",
      "Response: c) No difference\n",
      "\n"
     ]
    },
    {
     "name": "stderr",
     "output_type": "stream",
     "text": [
      "/var/folders/z3/zc5j75dj0qn_z2sp8qf47q340000gn/T/ipykernel_75411/652174667.py:8: ResourceWarning: unclosed <socket.socket fd=94, family=AddressFamily.AF_INET, type=SocketKind.SOCK_STREAM, proto=6, laddr=('127.0.0.1', 54373), raddr=('127.0.0.1', 11434)>\n",
      "  analyzer = GraphRAGSystem(row[\"question\"])\n",
      "ResourceWarning: Enable tracemalloc to get the object allocation traceback\n"
     ]
    },
    {
     "name": "stdout",
     "output_type": "stream",
     "text": [
      "Question 119: Are OTC eye drops a standard AMD treatment? a) Yes b) No c) Sometimes d) Only for dry AMD\n",
      "Context: S...\n",
      "Response: b\n",
      "\n"
     ]
    },
    {
     "name": "stderr",
     "output_type": "stream",
     "text": [
      "/var/folders/z3/zc5j75dj0qn_z2sp8qf47q340000gn/T/ipykernel_75411/652174667.py:8: ResourceWarning: unclosed <socket.socket fd=94, family=AddressFamily.AF_INET, type=SocketKind.SOCK_STREAM, proto=6, laddr=('127.0.0.1', 54388), raddr=('127.0.0.1', 11434)>\n",
      "  analyzer = GraphRAGSystem(row[\"question\"])\n",
      "ResourceWarning: Enable tracemalloc to get the object allocation traceback\n"
     ]
    },
    {
     "name": "stdout",
     "output_type": "stream",
     "text": [
      "Question 120: Which vascular condition is a known AMD risk factor? a) Hypotension b) Hypertension c) Varicose veins d) Anemia\n",
      "Context: T...\n",
      "Response: The correct answer is B) Hypertension.\n",
      "\n"
     ]
    },
    {
     "name": "stderr",
     "output_type": "stream",
     "text": [
      "/var/folders/z3/zc5j75dj0qn_z2sp8qf47q340000gn/T/ipykernel_75411/652174667.py:8: ResourceWarning: unclosed <socket.socket fd=94, family=AddressFamily.AF_INET, type=SocketKind.SOCK_STREAM, proto=6, laddr=('127.0.0.1', 54422), raddr=('127.0.0.1', 11434)>\n",
      "  analyzer = GraphRAGSystem(row[\"question\"])\n",
      "ResourceWarning: Enable tracemalloc to get the object allocation traceback\n"
     ]
    },
    {
     "name": "stdout",
     "output_type": "stream",
     "text": [
      "Question 121: What lipid-related condition correlates with AMD? a) High cholesterol b) Low triglycerides c) High HDL d) Low LDL\n",
      "Context: T...\n",
      "Response: c\n",
      "\n"
     ]
    },
    {
     "name": "stderr",
     "output_type": "stream",
     "text": [
      "/var/folders/z3/zc5j75dj0qn_z2sp8qf47q340000gn/T/ipykernel_75411/652174667.py:8: ResourceWarning: unclosed <socket.socket fd=94, family=AddressFamily.AF_INET, type=SocketKind.SOCK_STREAM, proto=6, laddr=('127.0.0.1', 54451), raddr=('127.0.0.1', 11434)>\n",
      "  analyzer = GraphRAGSystem(row[\"question\"])\n",
      "ResourceWarning: Enable tracemalloc to get the object allocation traceback\n"
     ]
    },
    {
     "name": "stdout",
     "output_type": "stream",
     "text": [
      "Question 122: Can omega-3 supplements alone prevent AMD? a) Yes b) No c) Partially d) Only with vitamins\n",
      "Context: T...\n",
      "Response: b) No\n",
      "\n"
     ]
    },
    {
     "name": "stderr",
     "output_type": "stream",
     "text": [
      "/var/folders/z3/zc5j75dj0qn_z2sp8qf47q340000gn/T/ipykernel_75411/652174667.py:8: ResourceWarning: unclosed <socket.socket fd=94, family=AddressFamily.AF_INET, type=SocketKind.SOCK_STREAM, proto=6, laddr=('127.0.0.1', 54474), raddr=('127.0.0.1', 11434)>\n",
      "  analyzer = GraphRAGSystem(row[\"question\"])\n",
      "ResourceWarning: Enable tracemalloc to get the object allocation traceback\n"
     ]
    },
    {
     "name": "stdout",
     "output_type": "stream",
     "text": [
      "Question 123: Which eye component is spared in AMD progression? a) Macula b) Optic nerve c) Retinal pigment epithelium d) Choroid\n",
      "Context: T...\n",
      "Response: B\n",
      "\n"
     ]
    },
    {
     "name": "stderr",
     "output_type": "stream",
     "text": [
      "/var/folders/z3/zc5j75dj0qn_z2sp8qf47q340000gn/T/ipykernel_75411/652174667.py:8: ResourceWarning: unclosed <socket.socket fd=94, family=AddressFamily.AF_INET, type=SocketKind.SOCK_STREAM, proto=6, laddr=('127.0.0.1', 54502), raddr=('127.0.0.1', 11434)>\n",
      "  analyzer = GraphRAGSystem(row[\"question\"])\n",
      "ResourceWarning: Enable tracemalloc to get the object allocation traceback\n"
     ]
    },
    {
     "name": "stdout",
     "output_type": "stream",
     "text": [
      "Question 124: What laser-based therapy treats wet AMD? a) LASIK b) Photodynamic therapy c) PRK d) Cataract surgery\n",
      "Context: T...\n",
      "Response: b)\n",
      "\n"
     ]
    },
    {
     "name": "stderr",
     "output_type": "stream",
     "text": [
      "/var/folders/z3/zc5j75dj0qn_z2sp8qf47q340000gn/T/ipykernel_75411/652174667.py:8: ResourceWarning: unclosed <socket.socket fd=94, family=AddressFamily.AF_INET, type=SocketKind.SOCK_STREAM, proto=6, laddr=('127.0.0.1', 54528), raddr=('127.0.0.1', 11434)>\n",
      "  analyzer = GraphRAGSystem(row[\"question\"])\n",
      "ResourceWarning: Enable tracemalloc to get the object allocation traceback\n"
     ]
    },
    {
     "name": "stdout",
     "output_type": "stream",
     "text": [
      "Question 125: Does AMD heighten accident risk in older adults? a) Falls b) Burns c) Cuts d) Bruises\n",
      "Context: T...\n",
      "Response: A\n",
      "\n"
     ]
    },
    {
     "name": "stderr",
     "output_type": "stream",
     "text": [
      "/var/folders/z3/zc5j75dj0qn_z2sp8qf47q340000gn/T/ipykernel_75411/652174667.py:8: ResourceWarning: unclosed <socket.socket fd=94, family=AddressFamily.AF_INET, type=SocketKind.SOCK_STREAM, proto=6, laddr=('127.0.0.1', 54563), raddr=('127.0.0.1', 11434)>\n",
      "  analyzer = GraphRAGSystem(row[\"question\"])\n",
      "ResourceWarning: Enable tracemalloc to get the object allocation traceback\n"
     ]
    },
    {
     "name": "stdout",
     "output_type": "stream",
     "text": [
      "Question 126: Is AMD typically confined to one eye initially? a) Yes b) No c) Always d) Rarely\n",
      "Context: T...\n",
      "Response: b) No\n",
      "\n"
     ]
    },
    {
     "name": "stderr",
     "output_type": "stream",
     "text": [
      "/var/folders/z3/zc5j75dj0qn_z2sp8qf47q340000gn/T/ipykernel_75411/652174667.py:8: ResourceWarning: unclosed <socket.socket fd=94, family=AddressFamily.AF_INET, type=SocketKind.SOCK_STREAM, proto=6, laddr=('127.0.0.1', 54592), raddr=('127.0.0.1', 11434)>\n",
      "  analyzer = GraphRAGSystem(row[\"question\"])\n",
      "ResourceWarning: Enable tracemalloc to get the object allocation traceback\n"
     ]
    },
    {
     "name": "stdout",
     "output_type": "stream",
     "text": [
      "Question 127: Which nutritional protocol aids dry AMD? a) AREDS b) Low-carb diet c) High-protein diet d) Vegan diet\n",
      "Context: T...\n",
      "Response: c\n",
      "\n"
     ]
    },
    {
     "name": "stderr",
     "output_type": "stream",
     "text": [
      "/var/folders/z3/zc5j75dj0qn_z2sp8qf47q340000gn/T/ipykernel_75411/652174667.py:8: ResourceWarning: unclosed <socket.socket fd=94, family=AddressFamily.AF_INET, type=SocketKind.SOCK_STREAM, proto=6, laddr=('127.0.0.1', 54620), raddr=('127.0.0.1', 11434)>\n",
      "  analyzer = GraphRAGSystem(row[\"question\"])\n",
      "ResourceWarning: Enable tracemalloc to get the object allocation traceback\n"
     ]
    },
    {
     "name": "stdout",
     "output_type": "stream",
     "text": [
      "Question 128: Which racial group has elevated AMD rates? a) Caucasians b) African Americans c) Asians d) Native Americans\n",
      "Context: T...\n",
      "Response: B\n",
      "\n"
     ]
    },
    {
     "name": "stderr",
     "output_type": "stream",
     "text": [
      "/var/folders/z3/zc5j75dj0qn_z2sp8qf47q340000gn/T/ipykernel_75411/652174667.py:8: ResourceWarning: unclosed <socket.socket fd=94, family=AddressFamily.AF_INET, type=SocketKind.SOCK_STREAM, proto=6, laddr=('127.0.0.1', 54642), raddr=('127.0.0.1', 11434)>\n",
      "  analyzer = GraphRAGSystem(row[\"question\"])\n",
      "ResourceWarning: Enable tracemalloc to get the object allocation traceback\n"
     ]
    },
    {
     "name": "stdout",
     "output_type": "stream",
     "text": [
      "Question 129: Does wet AMD always result in complete blindness? a) Yes b) No c) Often d) Rarely\n",
      "Context: T...\n",
      "Response: b\n",
      "\n"
     ]
    },
    {
     "name": "stderr",
     "output_type": "stream",
     "text": [
      "/var/folders/z3/zc5j75dj0qn_z2sp8qf47q340000gn/T/ipykernel_75411/652174667.py:8: ResourceWarning: unclosed <socket.socket fd=94, family=AddressFamily.AF_INET, type=SocketKind.SOCK_STREAM, proto=6, laddr=('127.0.0.1', 54660), raddr=('127.0.0.1', 11434)>\n",
      "  analyzer = GraphRAGSystem(row[\"question\"])\n",
      "ResourceWarning: Enable tracemalloc to get the object allocation traceback\n"
     ]
    },
    {
     "name": "stdout",
     "output_type": "stream",
     "text": [
      "Question 130: What visual anomaly does AMD commonly produce? a) Straight lines appear wavy b) Peripheral darkening c) Flashing spots d) Double vision\n",
      "Context: T...\n",
      "Response: B\n",
      "\n"
     ]
    },
    {
     "name": "stderr",
     "output_type": "stream",
     "text": [
      "/var/folders/z3/zc5j75dj0qn_z2sp8qf47q340000gn/T/ipykernel_75411/652174667.py:8: ResourceWarning: unclosed <socket.socket fd=94, family=AddressFamily.AF_INET, type=SocketKind.SOCK_STREAM, proto=6, laddr=('127.0.0.1', 54687), raddr=('127.0.0.1', 11434)>\n",
      "  analyzer = GraphRAGSystem(row[\"question\"])\n",
      "ResourceWarning: Enable tracemalloc to get the object allocation traceback\n"
     ]
    },
    {
     "name": "stdout",
     "output_type": "stream",
     "text": [
      "Question 131: Is AMD a bacterial condition? a) Yes b) No c) Sometimes d) Only wet AMD\n",
      "Context: T...\n",
      "Response: b\n",
      "\n"
     ]
    },
    {
     "name": "stderr",
     "output_type": "stream",
     "text": [
      "/var/folders/z3/zc5j75dj0qn_z2sp8qf47q340000gn/T/ipykernel_75411/652174667.py:8: ResourceWarning: unclosed <socket.socket fd=94, family=AddressFamily.AF_INET, type=SocketKind.SOCK_STREAM, proto=6, laddr=('127.0.0.1', 54715), raddr=('127.0.0.1', 11434)>\n",
      "  analyzer = GraphRAGSystem(row[\"question\"])\n",
      "ResourceWarning: Enable tracemalloc to get the object allocation traceback\n"
     ]
    },
    {
     "name": "stdout",
     "output_type": "stream",
     "text": [
      "Question 132: Which spatial skill does AMD disrupt? a) Depth perception b) Sound direction c) Smell intensity d) Touch sensitivity\n",
      "Context: T...\n",
      "Response: a) Depth perception\n",
      "\n"
     ]
    },
    {
     "name": "stderr",
     "output_type": "stream",
     "text": [
      "/var/folders/z3/zc5j75dj0qn_z2sp8qf47q340000gn/T/ipykernel_75411/652174667.py:8: ResourceWarning: unclosed <socket.socket fd=94, family=AddressFamily.AF_INET, type=SocketKind.SOCK_STREAM, proto=6, laddr=('127.0.0.1', 54739), raddr=('127.0.0.1', 11434)>\n",
      "  analyzer = GraphRAGSystem(row[\"question\"])\n",
      "ResourceWarning: Enable tracemalloc to get the object allocation traceback\n"
     ]
    },
    {
     "name": "stdout",
     "output_type": "stream",
     "text": [
      "Question 133: Can AMD affect preschool-aged children? a) Yes b) No c) Rarely d) Only with genetics\n",
      "Context: T...\n",
      "Response: a) Yes\n",
      "\n"
     ]
    },
    {
     "name": "stderr",
     "output_type": "stream",
     "text": [
      "/var/folders/z3/zc5j75dj0qn_z2sp8qf47q340000gn/T/ipykernel_75411/652174667.py:8: ResourceWarning: unclosed <socket.socket fd=94, family=AddressFamily.AF_INET, type=SocketKind.SOCK_STREAM, proto=6, laddr=('127.0.0.1', 54768), raddr=('127.0.0.1', 11434)>\n",
      "  analyzer = GraphRAGSystem(row[\"question\"])\n",
      "ResourceWarning: Enable tracemalloc to get the object allocation traceback\n"
     ]
    },
    {
     "name": "stdout",
     "output_type": "stream",
     "text": [
      "Question 134: Does AMD often require assistive devices? a) Yes b) No c) Sometimes d) Never\n",
      "Context: T...\n",
      "Response: A) Yes\n",
      "\n"
     ]
    },
    {
     "name": "stderr",
     "output_type": "stream",
     "text": [
      "/var/folders/z3/zc5j75dj0qn_z2sp8qf47q340000gn/T/ipykernel_75411/652174667.py:8: ResourceWarning: unclosed <socket.socket fd=94, family=AddressFamily.AF_INET, type=SocketKind.SOCK_STREAM, proto=6, laddr=('127.0.0.1', 54792), raddr=('127.0.0.1', 11434)>\n",
      "  analyzer = GraphRAGSystem(row[\"question\"])\n",
      "ResourceWarning: Enable tracemalloc to get the object allocation traceback\n"
     ]
    },
    {
     "name": "stdout",
     "output_type": "stream",
     "text": [
      "Question 135: What light exposure is an AMD risk factor? a) Blue light b) UV light c) Infrared light d) Visible light\n",
      "Context: T...\n",
      "Response: d\n",
      "\n"
     ]
    },
    {
     "name": "stderr",
     "output_type": "stream",
     "text": [
      "/var/folders/z3/zc5j75dj0qn_z2sp8qf47q340000gn/T/ipykernel_75411/652174667.py:8: ResourceWarning: unclosed <socket.socket fd=94, family=AddressFamily.AF_INET, type=SocketKind.SOCK_STREAM, proto=6, laddr=('127.0.0.1', 54816), raddr=('127.0.0.1', 11434)>\n",
      "  analyzer = GraphRAGSystem(row[\"question\"])\n",
      "ResourceWarning: Enable tracemalloc to get the object allocation traceback\n"
     ]
    },
    {
     "name": "stdout",
     "output_type": "stream",
     "text": [
      "Question 136: Can physical activity alone halt AMD? a) Yes b) No c) Partially d) Only early stages\n",
      "Context: T...\n",
      "Response: d) Only early stages\n",
      "\n"
     ]
    },
    {
     "name": "stderr",
     "output_type": "stream",
     "text": [
      "/var/folders/z3/zc5j75dj0qn_z2sp8qf47q340000gn/T/ipykernel_75411/652174667.py:8: ResourceWarning: unclosed <socket.socket fd=94, family=AddressFamily.AF_INET, type=SocketKind.SOCK_STREAM, proto=6, laddr=('127.0.0.1', 54852), raddr=('127.0.0.1', 11434)>\n",
      "  analyzer = GraphRAGSystem(row[\"question\"])\n",
      "ResourceWarning: Enable tracemalloc to get the object allocation traceback\n"
     ]
    },
    {
     "name": "stdout",
     "output_type": "stream",
     "text": [
      "Question 137: Which vision type is most preserved in AMD? a) Night vision b) Peripheral vision c) Central vision d) Contrast vision\n",
      "Context: T...\n",
      "Response: d) Contrast vision\n",
      "\n"
     ]
    },
    {
     "name": "stderr",
     "output_type": "stream",
     "text": [
      "/var/folders/z3/zc5j75dj0qn_z2sp8qf47q340000gn/T/ipykernel_75411/652174667.py:8: ResourceWarning: unclosed <socket.socket fd=94, family=AddressFamily.AF_INET, type=SocketKind.SOCK_STREAM, proto=6, laddr=('127.0.0.1', 54878), raddr=('127.0.0.1', 11434)>\n",
      "  analyzer = GraphRAGSystem(row[\"question\"])\n",
      "ResourceWarning: Enable tracemalloc to get the object allocation traceback\n"
     ]
    },
    {
     "name": "stdout",
     "output_type": "stream",
     "text": [
      "Question 138: What clinical procedure diagnoses AMD? a) Blood test b) Dilated eye exam c) Urine analysis d) ECG\n",
      "Context: T...\n",
      "Response: B\n",
      "\n"
     ]
    },
    {
     "name": "stderr",
     "output_type": "stream",
     "text": [
      "/var/folders/z3/zc5j75dj0qn_z2sp8qf47q340000gn/T/ipykernel_75411/652174667.py:8: ResourceWarning: unclosed <socket.socket fd=94, family=AddressFamily.AF_INET, type=SocketKind.SOCK_STREAM, proto=6, laddr=('127.0.0.1', 54912), raddr=('127.0.0.1', 11434)>\n",
      "  analyzer = GraphRAGSystem(row[\"question\"])\n",
      "ResourceWarning: Enable tracemalloc to get the object allocation traceback\n"
     ]
    },
    {
     "name": "stdout",
     "output_type": "stream",
     "text": [
      "Question 139: Does reading in low light cause AMD? a) Yes b) No c) Sometimes d) Only prolonged\n",
      "Context: T...\n",
      "Response: b\n",
      "\n"
     ]
    },
    {
     "name": "stderr",
     "output_type": "stream",
     "text": [
      "/var/folders/z3/zc5j75dj0qn_z2sp8qf47q340000gn/T/ipykernel_75411/652174667.py:8: ResourceWarning: unclosed <socket.socket fd=94, family=AddressFamily.AF_INET, type=SocketKind.SOCK_STREAM, proto=6, laddr=('127.0.0.1', 54934), raddr=('127.0.0.1', 11434)>\n",
      "  analyzer = GraphRAGSystem(row[\"question\"])\n",
      "ResourceWarning: Enable tracemalloc to get the object allocation traceback\n"
     ]
    },
    {
     "name": "stdout",
     "output_type": "stream",
     "text": [
      "Question 140: Which recognition task does AMD hinder? a) Face recognition b) Sound recognition c) Smell recognition d) Taste recognition\n",
      "Context: T...\n",
      "Response: A\n",
      "\n"
     ]
    },
    {
     "name": "stderr",
     "output_type": "stream",
     "text": [
      "/var/folders/z3/zc5j75dj0qn_z2sp8qf47q340000gn/T/ipykernel_75411/652174667.py:8: ResourceWarning: unclosed <socket.socket fd=94, family=AddressFamily.AF_INET, type=SocketKind.SOCK_STREAM, proto=6, laddr=('127.0.0.1', 54955), raddr=('127.0.0.1', 11434)>\n",
      "  analyzer = GraphRAGSystem(row[\"question\"])\n",
      "ResourceWarning: Enable tracemalloc to get the object allocation traceback\n"
     ]
    },
    {
     "name": "stdout",
     "output_type": "stream",
     "text": [
      "Question 141: Are antibiotics a viable AMD therapy? a) Yes b) No c) Sometimes d) Only for wet AMD\n",
      "Context: T...\n",
      "Response: b\n",
      "\n"
     ]
    },
    {
     "name": "stderr",
     "output_type": "stream",
     "text": [
      "/var/folders/z3/zc5j75dj0qn_z2sp8qf47q340000gn/T/ipykernel_75411/652174667.py:8: ResourceWarning: unclosed <socket.socket fd=94, family=AddressFamily.AF_INET, type=SocketKind.SOCK_STREAM, proto=6, laddr=('127.0.0.1', 54973), raddr=('127.0.0.1', 11434)>\n",
      "  analyzer = GraphRAGSystem(row[\"question\"])\n",
      "ResourceWarning: Enable tracemalloc to get the object allocation traceback\n"
     ]
    },
    {
     "name": "stdout",
     "output_type": "stream",
     "text": [
      "Question 142: What primary factor drives AMD prevalence? a) Age b) Diet c) Exercise d) Sleep\n",
      "Context: T...\n",
      "Response: B\n",
      "\n"
     ]
    },
    {
     "name": "stderr",
     "output_type": "stream",
     "text": [
      "/var/folders/z3/zc5j75dj0qn_z2sp8qf47q340000gn/T/ipykernel_75411/652174667.py:8: ResourceWarning: unclosed <socket.socket fd=94, family=AddressFamily.AF_INET, type=SocketKind.SOCK_STREAM, proto=6, laddr=('127.0.0.1', 54996), raddr=('127.0.0.1', 11434)>\n",
      "  analyzer = GraphRAGSystem(row[\"question\"])\n",
      "ResourceWarning: Enable tracemalloc to get the object allocation traceback\n"
     ]
    },
    {
     "name": "stdout",
     "output_type": "stream",
     "text": [
      "Question 143: Which process underlies wet AMD? a) Drusen growth b) Neovascularization c) Lens hardening d) Optic nerve damage\n",
      "Context: T...\n",
      "Response: B\n",
      "\n"
     ]
    },
    {
     "name": "stderr",
     "output_type": "stream",
     "text": [
      "/var/folders/z3/zc5j75dj0qn_z2sp8qf47q340000gn/T/ipykernel_75411/652174667.py:8: ResourceWarning: unclosed <socket.socket fd=94, family=AddressFamily.AF_INET, type=SocketKind.SOCK_STREAM, proto=6, laddr=('127.0.0.1', 55016), raddr=('127.0.0.1', 11434)>\n",
      "  analyzer = GraphRAGSystem(row[\"question\"])\n",
      "ResourceWarning: Enable tracemalloc to get the object allocation traceback\n"
     ]
    },
    {
     "name": "stdout",
     "output_type": "stream",
     "text": [
      "Question 144: Does avoiding all sunlight prevent AMD? a) Yes b) No c) Partially d) Only with sunglasses\n",
      "Context: T...\n",
      "Response: b\n",
      "\n"
     ]
    },
    {
     "name": "stderr",
     "output_type": "stream",
     "text": [
      "/var/folders/z3/zc5j75dj0qn_z2sp8qf47q340000gn/T/ipykernel_75411/652174667.py:8: ResourceWarning: unclosed <socket.socket fd=94, family=AddressFamily.AF_INET, type=SocketKind.SOCK_STREAM, proto=6, laddr=('127.0.0.1', 55047), raddr=('127.0.0.1', 11434)>\n",
      "  analyzer = GraphRAGSystem(row[\"question\"])\n",
      "ResourceWarning: Enable tracemalloc to get the object allocation traceback\n"
     ]
    },
    {
     "name": "stdout",
     "output_type": "stream",
     "text": [
      "Question 145: Which vitamin is excluded from AREDS formulation? a) Vitamin A b) Vitamin B12 c) Vitamin C d) Vitamin E\n",
      "Context: T...\n",
      "Response: c\n",
      "\n"
     ]
    },
    {
     "name": "stderr",
     "output_type": "stream",
     "text": [
      "/var/folders/z3/zc5j75dj0qn_z2sp8qf47q340000gn/T/ipykernel_75411/652174667.py:8: ResourceWarning: unclosed <socket.socket fd=94, family=AddressFamily.AF_INET, type=SocketKind.SOCK_STREAM, proto=6, laddr=('127.0.0.1', 55072), raddr=('127.0.0.1', 11434)>\n",
      "  analyzer = GraphRAGSystem(row[\"question\"])\n",
      "ResourceWarning: Enable tracemalloc to get the object allocation traceback\n"
     ]
    },
    {
     "name": "stdout",
     "output_type": "stream",
     "text": [
      "Question 146: What does fluorescein angiography highlight in wet AMD? a) Drusen density b) Vascular leakage c) Lens opacity d) Corneal thinning\n",
      "Context: T...\n",
      "Response: The correct answer is B, vascular leakage.\n",
      "\n"
     ]
    },
    {
     "name": "stderr",
     "output_type": "stream",
     "text": [
      "/var/folders/z3/zc5j75dj0qn_z2sp8qf47q340000gn/T/ipykernel_75411/652174667.py:8: ResourceWarning: unclosed <socket.socket fd=94, family=AddressFamily.AF_INET, type=SocketKind.SOCK_STREAM, proto=6, laddr=('127.0.0.1', 55094), raddr=('127.0.0.1', 11434)>\n",
      "  analyzer = GraphRAGSystem(row[\"question\"])\n",
      "ResourceWarning: Enable tracemalloc to get the object allocation traceback\n"
     ]
    },
    {
     "name": "stdout",
     "output_type": "stream",
     "text": [
      "Question 147: Which areas report higher AMD rates? a) Rural tropics b) Urban developed regions c) Arctic zones d) Desert climates\n",
      "Context: T...\n",
      "Response: D.\n",
      "\n"
     ]
    },
    {
     "name": "stderr",
     "output_type": "stream",
     "text": [
      "/var/folders/z3/zc5j75dj0qn_z2sp8qf47q340000gn/T/ipykernel_75411/652174667.py:8: ResourceWarning: unclosed <socket.socket fd=94, family=AddressFamily.AF_INET, type=SocketKind.SOCK_STREAM, proto=6, laddr=('127.0.0.1', 55119), raddr=('127.0.0.1', 11434)>\n",
      "  analyzer = GraphRAGSystem(row[\"question\"])\n",
      "ResourceWarning: Enable tracemalloc to get the object allocation traceback\n"
     ]
    },
    {
     "name": "stdout",
     "output_type": "stream",
     "text": [
      "Question 148: Can wet AMD damage be completely undone? a) Yes b) No c) Sometimes d) Only early stages\n",
      "Context: T...\n",
      "Response: b\n",
      "\n"
     ]
    },
    {
     "name": "stderr",
     "output_type": "stream",
     "text": [
      "/var/folders/z3/zc5j75dj0qn_z2sp8qf47q340000gn/T/ipykernel_75411/652174667.py:8: ResourceWarning: unclosed <socket.socket fd=94, family=AddressFamily.AF_INET, type=SocketKind.SOCK_STREAM, proto=6, laddr=('127.0.0.1', 55138), raddr=('127.0.0.1', 11434)>\n",
      "  analyzer = GraphRAGSystem(row[\"question\"])\n",
      "ResourceWarning: Enable tracemalloc to get the object allocation traceback\n"
     ]
    },
    {
     "name": "stdout",
     "output_type": "stream",
     "text": [
      "Question 149: What retinal region is central to AMD? a) Optic disc b) Macula c) Peripheral retina d) Ciliary body\n",
      "Context: T...\n",
      "Response: b\n",
      "\n"
     ]
    },
    {
     "name": "stderr",
     "output_type": "stream",
     "text": [
      "/var/folders/z3/zc5j75dj0qn_z2sp8qf47q340000gn/T/ipykernel_75411/652174667.py:8: ResourceWarning: unclosed <socket.socket fd=94, family=AddressFamily.AF_INET, type=SocketKind.SOCK_STREAM, proto=6, laddr=('127.0.0.1', 55158), raddr=('127.0.0.1', 11434)>\n",
      "  analyzer = GraphRAGSystem(row[\"question\"])\n",
      "ResourceWarning: Enable tracemalloc to get the object allocation traceback\n"
     ]
    },
    {
     "name": "stdout",
     "output_type": "stream",
     "text": [
      "Question 150: Is sanitation a direct AMD trigger? a) Yes b) No c) Sometimes d) Only poor hygiene\n",
      "Context: T...\n",
      "Response: b) No\n",
      "\n"
     ]
    },
    {
     "name": "stderr",
     "output_type": "stream",
     "text": [
      "/var/folders/z3/zc5j75dj0qn_z2sp8qf47q340000gn/T/ipykernel_75411/652174667.py:8: ResourceWarning: unclosed <socket.socket fd=94, family=AddressFamily.AF_INET, type=SocketKind.SOCK_STREAM, proto=6, laddr=('127.0.0.1', 55182), raddr=('127.0.0.1', 11434)>\n",
      "  analyzer = GraphRAGSystem(row[\"question\"])\n",
      "ResourceWarning: Enable tracemalloc to get the object allocation traceback\n"
     ]
    },
    {
     "name": "stdout",
     "output_type": "stream",
     "text": [
      "Question 151: What vision aid benefits AMD patients? a) Hearing aids b) Magnifiers c) Crutches d) Inhalers\n",
      "Context: T...\n",
      "Response: B\n",
      "\n"
     ]
    },
    {
     "name": "stderr",
     "output_type": "stream",
     "text": [
      "/var/folders/z3/zc5j75dj0qn_z2sp8qf47q340000gn/T/ipykernel_75411/652174667.py:8: ResourceWarning: unclosed <socket.socket fd=94, family=AddressFamily.AF_INET, type=SocketKind.SOCK_STREAM, proto=6, laddr=('127.0.0.1', 55202), raddr=('127.0.0.1', 11434)>\n",
      "  analyzer = GraphRAGSystem(row[\"question\"])\n",
      "ResourceWarning: Enable tracemalloc to get the object allocation traceback\n"
     ]
    },
    {
     "name": "stdout",
     "output_type": "stream",
     "text": [
      "Question 152: Which daily function does AMD most disrupt? a) Driving b) Hearing c) Tasting d) Smelling\n",
      "Context: T...\n",
      "Response: A\n",
      "\n"
     ]
    },
    {
     "name": "stderr",
     "output_type": "stream",
     "text": [
      "/var/folders/z3/zc5j75dj0qn_z2sp8qf47q340000gn/T/ipykernel_75411/652174667.py:8: ResourceWarning: unclosed <socket.socket fd=94, family=AddressFamily.AF_INET, type=SocketKind.SOCK_STREAM, proto=6, laddr=('127.0.0.1', 55222), raddr=('127.0.0.1', 11434)>\n",
      "  analyzer = GraphRAGSystem(row[\"question\"])\n",
      "ResourceWarning: Enable tracemalloc to get the object allocation traceback\n"
     ]
    },
    {
     "name": "stdout",
     "output_type": "stream",
     "text": [
      "Question 153: Does heavy drinking directly induce AMD? a) Yes b) No c) Sometimes d) Only with smoking\n",
      "Context: T...\n",
      "Response: b\n",
      "\n"
     ]
    },
    {
     "name": "stderr",
     "output_type": "stream",
     "text": [
      "/var/folders/z3/zc5j75dj0qn_z2sp8qf47q340000gn/T/ipykernel_75411/652174667.py:8: ResourceWarning: unclosed <socket.socket fd=94, family=AddressFamily.AF_INET, type=SocketKind.SOCK_STREAM, proto=6, laddr=('127.0.0.1', 55245), raddr=('127.0.0.1', 11434)>\n",
      "  analyzer = GraphRAGSystem(row[\"question\"])\n",
      "ResourceWarning: Enable tracemalloc to get the object allocation traceback\n"
     ]
    },
    {
     "name": "stdout",
     "output_type": "stream",
     "text": [
      "Question 154: What genetic link heightens AMD risk? a) Eye color b) Family history c) Skin type d) Hair density\n",
      "Context: T...\n",
      "Response: b\n",
      "\n"
     ]
    },
    {
     "name": "stderr",
     "output_type": "stream",
     "text": [
      "/var/folders/z3/zc5j75dj0qn_z2sp8qf47q340000gn/T/ipykernel_75411/652174667.py:8: ResourceWarning: unclosed <socket.socket fd=94, family=AddressFamily.AF_INET, type=SocketKind.SOCK_STREAM, proto=6, laddr=('127.0.0.1', 55272), raddr=('127.0.0.1', 11434)>\n",
      "  analyzer = GraphRAGSystem(row[\"question\"])\n",
      "ResourceWarning: Enable tracemalloc to get the object allocation traceback\n"
     ]
    },
    {
     "name": "stdout",
     "output_type": "stream",
     "text": [
      "Question 155: Which retinal complication occurs in wet AMD? a) Drusen reduction b) Subretinal hemorrhage c) Optic atrophy d) Lens detachment\n",
      "Context: T...\n",
      "Response: The correct answer is B) Subretinal hemorrhage.\n",
      "\n"
     ]
    },
    {
     "name": "stderr",
     "output_type": "stream",
     "text": [
      "/var/folders/z3/zc5j75dj0qn_z2sp8qf47q340000gn/T/ipykernel_75411/652174667.py:8: ResourceWarning: unclosed <socket.socket fd=94, family=AddressFamily.AF_INET, type=SocketKind.SOCK_STREAM, proto=6, laddr=('127.0.0.1', 55296), raddr=('127.0.0.1', 11434)>\n",
      "  analyzer = GraphRAGSystem(row[\"question\"])\n",
      "ResourceWarning: Enable tracemalloc to get the object allocation traceback\n"
     ]
    },
    {
     "name": "stdout",
     "output_type": "stream",
     "text": [
      "Question 156: Is bright light exposure a primary AMD cause? a) Yes b) No c) Sometimes d) Only prolonged\n",
      "Context: T...\n",
      "Response: a) Yes\n",
      "\n"
     ]
    },
    {
     "name": "stderr",
     "output_type": "stream",
     "text": [
      "/var/folders/z3/zc5j75dj0qn_z2sp8qf47q340000gn/T/ipykernel_75411/652174667.py:8: ResourceWarning: unclosed <socket.socket fd=94, family=AddressFamily.AF_INET, type=SocketKind.SOCK_STREAM, proto=6, laddr=('127.0.0.1', 55329), raddr=('127.0.0.1', 11434)>\n",
      "  analyzer = GraphRAGSystem(row[\"question\"])\n",
      "ResourceWarning: Enable tracemalloc to get the object allocation traceback\n"
     ]
    },
    {
     "name": "stdout",
     "output_type": "stream",
     "text": [
      "Question 157: What routine screening detects AMD early? a) Blood test b) Eye exam c) Hearing test d) Skin check\n",
      "Context: T...\n",
      "Response: B\n",
      "\n"
     ]
    },
    {
     "name": "stderr",
     "output_type": "stream",
     "text": [
      "/var/folders/z3/zc5j75dj0qn_z2sp8qf47q340000gn/T/ipykernel_75411/652174667.py:8: ResourceWarning: unclosed <socket.socket fd=94, family=AddressFamily.AF_INET, type=SocketKind.SOCK_STREAM, proto=6, laddr=('127.0.0.1', 55350), raddr=('127.0.0.1', 11434)>\n",
      "  analyzer = GraphRAGSystem(row[\"question\"])\n",
      "ResourceWarning: Enable tracemalloc to get the object allocation traceback\n"
     ]
    },
    {
     "name": "stdout",
     "output_type": "stream",
     "text": [
      "Question 158: Are floaters a common AMD symptom? a) Yes b) No c) Sometimes d) Only late stages\n",
      "Context: T...\n",
      "Response: a) Yes\n",
      "\n"
     ]
    },
    {
     "name": "stderr",
     "output_type": "stream",
     "text": [
      "/var/folders/z3/zc5j75dj0qn_z2sp8qf47q340000gn/T/ipykernel_75411/652174667.py:8: ResourceWarning: unclosed <socket.socket fd=94, family=AddressFamily.AF_INET, type=SocketKind.SOCK_STREAM, proto=6, laddr=('127.0.0.1', 55374), raddr=('127.0.0.1', 11434)>\n",
      "  analyzer = GraphRAGSystem(row[\"question\"])\n",
      "ResourceWarning: Enable tracemalloc to get the object allocation traceback\n"
     ]
    },
    {
     "name": "stdout",
     "output_type": "stream",
     "text": [
      "Question 159: Which iris color may correlate with AMD risk? a) Brown b) Blue c) Green d) Hazel\n",
      "Context: T...\n",
      "Response: d) Hazel\n",
      "\n"
     ]
    },
    {
     "name": "stderr",
     "output_type": "stream",
     "text": [
      "/var/folders/z3/zc5j75dj0qn_z2sp8qf47q340000gn/T/ipykernel_75411/652174667.py:8: ResourceWarning: unclosed <socket.socket fd=94, family=AddressFamily.AF_INET, type=SocketKind.SOCK_STREAM, proto=6, laddr=('127.0.0.1', 55395), raddr=('127.0.0.1', 11434)>\n",
      "  analyzer = GraphRAGSystem(row[\"question\"])\n",
      "ResourceWarning: Enable tracemalloc to get the object allocation traceback\n"
     ]
    },
    {
     "name": "stdout",
     "output_type": "stream",
     "text": [
      "Question 160: Can vitamin A alone reverse AMD? a) Yes b) No c) Sometimes d) Only with zinc\n",
      "Context: T...\n",
      "Response: b\n",
      "\n"
     ]
    },
    {
     "name": "stderr",
     "output_type": "stream",
     "text": [
      "/var/folders/z3/zc5j75dj0qn_z2sp8qf47q340000gn/T/ipykernel_75411/652174667.py:8: ResourceWarning: unclosed <socket.socket fd=94, family=AddressFamily.AF_INET, type=SocketKind.SOCK_STREAM, proto=6, laddr=('127.0.0.1', 55428), raddr=('127.0.0.1', 11434)>\n",
      "  analyzer = GraphRAGSystem(row[\"question\"])\n",
      "ResourceWarning: Enable tracemalloc to get the object allocation traceback\n"
     ]
    },
    {
     "name": "stdout",
     "output_type": "stream",
     "text": [
      "Question 161: What visual impairment does AMD frequently cause? a) Peripheral loss b) Central scotomas c) Flashing lights d) Double vision\n",
      "Context: T...\n",
      "Response: b) Central scotomas\n",
      "\n"
     ]
    },
    {
     "name": "stderr",
     "output_type": "stream",
     "text": [
      "/var/folders/z3/zc5j75dj0qn_z2sp8qf47q340000gn/T/ipykernel_75411/652174667.py:8: ResourceWarning: unclosed <socket.socket fd=94, family=AddressFamily.AF_INET, type=SocketKind.SOCK_STREAM, proto=6, laddr=('127.0.0.1', 55452), raddr=('127.0.0.1', 11434)>\n",
      "  analyzer = GraphRAGSystem(row[\"question\"])\n",
      "ResourceWarning: Enable tracemalloc to get the object allocation traceback\n"
     ]
    },
    {
     "name": "stdout",
     "output_type": "stream",
     "text": [
      "Question 162: Does high sugar consumption directly trigger AMD? a) Yes b) No c) Sometimes d) Only with obesity\n",
      "Context: H...\n",
      "Response: a) Yes\n",
      "\n"
     ]
    },
    {
     "name": "stderr",
     "output_type": "stream",
     "text": [
      "/var/folders/z3/zc5j75dj0qn_z2sp8qf47q340000gn/T/ipykernel_75411/652174667.py:8: ResourceWarning: unclosed <socket.socket fd=94, family=AddressFamily.AF_INET, type=SocketKind.SOCK_STREAM, proto=6, laddr=('127.0.0.1', 55479), raddr=('127.0.0.1', 11434)>\n",
      "  analyzer = GraphRAGSystem(row[\"question\"])\n",
      "ResourceWarning: Enable tracemalloc to get the object allocation traceback\n"
     ]
    },
    {
     "name": "stdout",
     "output_type": "stream",
     "text": [
      "Question 163: What behavioral change mitigates AMD risk? a) Increased smoking b) Quitting smoking c) Less sleep d) More screen time\n",
      "Context: T...\n",
      "Response: B\n",
      "\n"
     ]
    },
    {
     "name": "stderr",
     "output_type": "stream",
     "text": [
      "/var/folders/z3/zc5j75dj0qn_z2sp8qf47q340000gn/T/ipykernel_75411/652174667.py:8: ResourceWarning: unclosed <socket.socket fd=94, family=AddressFamily.AF_INET, type=SocketKind.SOCK_STREAM, proto=6, laddr=('127.0.0.1', 55505), raddr=('127.0.0.1', 11434)>\n",
      "  analyzer = GraphRAGSystem(row[\"question\"])\n",
      "ResourceWarning: Enable tracemalloc to get the object allocation traceback\n"
     ]
    },
    {
     "name": "stdout",
     "output_type": "stream",
     "text": [
      "Question 164: Is night vision the primary loss in AMD? a) Yes b) No c) Sometimes d) Only wet AMD\n",
      "Context: T...\n",
      "Response: a) Yes\n",
      "\n"
     ]
    },
    {
     "name": "stderr",
     "output_type": "stream",
     "text": [
      "/var/folders/z3/zc5j75dj0qn_z2sp8qf47q340000gn/T/ipykernel_75411/652174667.py:8: ResourceWarning: unclosed <socket.socket fd=94, family=AddressFamily.AF_INET, type=SocketKind.SOCK_STREAM, proto=6, laddr=('127.0.0.1', 55536), raddr=('127.0.0.1', 11434)>\n",
      "  analyzer = GraphRAGSystem(row[\"question\"])\n",
      "ResourceWarning: Enable tracemalloc to get the object allocation traceback\n"
     ]
    },
    {
     "name": "stdout",
     "output_type": "stream",
     "text": [
      "Question 165: What scan type is used for AMD detection? a) MRI b) Retina scan c) CT scan d) PET scan\n",
      "Context: T...\n",
      "Response: c\n",
      "\n"
     ]
    },
    {
     "name": "stderr",
     "output_type": "stream",
     "text": [
      "/var/folders/z3/zc5j75dj0qn_z2sp8qf47q340000gn/T/ipykernel_75411/652174667.py:8: ResourceWarning: unclosed <socket.socket fd=94, family=AddressFamily.AF_INET, type=SocketKind.SOCK_STREAM, proto=6, laddr=('127.0.0.1', 55565), raddr=('127.0.0.1', 11434)>\n",
      "  analyzer = GraphRAGSystem(row[\"question\"])\n",
      "ResourceWarning: Enable tracemalloc to get the object allocation traceback\n"
     ]
    },
    {
     "name": "stdout",
     "output_type": "stream",
     "text": [
      "Question 166: Can dietary changes alone control wet AMD? a) Yes b) No c) Sometimes d) Only early stages\n",
      "Context: D...\n",
      "Response: b) No\n",
      "\n"
     ]
    },
    {
     "name": "stderr",
     "output_type": "stream",
     "text": [
      "/var/folders/z3/zc5j75dj0qn_z2sp8qf47q340000gn/T/ipykernel_75411/652174667.py:8: ResourceWarning: unclosed <socket.socket fd=94, family=AddressFamily.AF_INET, type=SocketKind.SOCK_STREAM, proto=6, laddr=('127.0.0.1', 55588), raddr=('127.0.0.1', 11434)>\n",
      "  analyzer = GraphRAGSystem(row[\"question\"])\n",
      "ResourceWarning: Enable tracemalloc to get the object allocation traceback\n"
     ]
    },
    {
     "name": "stdout",
     "output_type": "stream",
     "text": [
      "Question 167: Which visual adaptation does AMD impair? a) Low-light adjustment b) Sound localization c) Taste acuity d) Balance control\n",
      "Context: T...\n",
      "Response: A\n",
      "\n"
     ]
    },
    {
     "name": "stderr",
     "output_type": "stream",
     "text": [
      "/var/folders/z3/zc5j75dj0qn_z2sp8qf47q340000gn/T/ipykernel_75411/652174667.py:8: ResourceWarning: unclosed <socket.socket fd=94, family=AddressFamily.AF_INET, type=SocketKind.SOCK_STREAM, proto=6, laddr=('127.0.0.1', 55611), raddr=('127.0.0.1', 11434)>\n",
      "  analyzer = GraphRAGSystem(row[\"question\"])\n",
      "ResourceWarning: Enable tracemalloc to get the object allocation traceback\n"
     ]
    },
    {
     "name": "stdout",
     "output_type": "stream",
     "text": [
      "Question 168: Is insufficient sleep a direct AMD cause? a) Yes b) No c) Sometimes d) Only chronic\n",
      "Context: T...\n",
      "Response: b\n",
      "\n"
     ]
    },
    {
     "name": "stderr",
     "output_type": "stream",
     "text": [
      "/var/folders/z3/zc5j75dj0qn_z2sp8qf47q340000gn/T/ipykernel_75411/652174667.py:8: ResourceWarning: unclosed <socket.socket fd=94, family=AddressFamily.AF_INET, type=SocketKind.SOCK_STREAM, proto=6, laddr=('127.0.0.1', 55628), raddr=('127.0.0.1', 11434)>\n",
      "  analyzer = GraphRAGSystem(row[\"question\"])\n",
      "ResourceWarning: Enable tracemalloc to get the object allocation traceback\n"
     ]
    },
    {
     "name": "stdout",
     "output_type": "stream",
     "text": [
      "Question 169: What regular assessment tracks AMD? a) Blood test b) Eye checkup c) Hearing exam d) Skin test\n",
      "Context: T...\n",
      "Response: B\n",
      "\n"
     ]
    },
    {
     "name": "stderr",
     "output_type": "stream",
     "text": [
      "/var/folders/z3/zc5j75dj0qn_z2sp8qf47q340000gn/T/ipykernel_75411/652174667.py:8: ResourceWarning: unclosed <socket.socket fd=94, family=AddressFamily.AF_INET, type=SocketKind.SOCK_STREAM, proto=6, laddr=('127.0.0.1', 55649), raddr=('127.0.0.1', 11434)>\n",
      "  analyzer = GraphRAGSystem(row[\"question\"])\n",
      "ResourceWarning: Enable tracemalloc to get the object allocation traceback\n"
     ]
    },
    {
     "name": "stdout",
     "output_type": "stream",
     "text": [
      "Question 170: Does dry AMD typically involve retinal hemorrhages? a) Yes b) No c) Sometimes d) Only late stages\n",
      "Context: T...\n",
      "Response: a) Yes\n",
      "\n"
     ]
    },
    {
     "name": "stderr",
     "output_type": "stream",
     "text": [
      "/var/folders/z3/zc5j75dj0qn_z2sp8qf47q340000gn/T/ipykernel_75411/652174667.py:8: ResourceWarning: unclosed <socket.socket fd=94, family=AddressFamily.AF_INET, type=SocketKind.SOCK_STREAM, proto=6, laddr=('127.0.0.1', 55673), raddr=('127.0.0.1', 11434)>\n",
      "  analyzer = GraphRAGSystem(row[\"question\"])\n",
      "ResourceWarning: Enable tracemalloc to get the object allocation traceback\n"
     ]
    },
    {
     "name": "stdout",
     "output_type": "stream",
     "text": [
      "Question 171: Which population has reduced AMD incidence? a) Caucasians b) African Americans c) Europeans d) Asians\n",
      "Context: T...\n",
      "Response: c\n",
      "\n"
     ]
    },
    {
     "name": "stderr",
     "output_type": "stream",
     "text": [
      "/var/folders/z3/zc5j75dj0qn_z2sp8qf47q340000gn/T/ipykernel_75411/652174667.py:8: ResourceWarning: unclosed <socket.socket fd=94, family=AddressFamily.AF_INET, type=SocketKind.SOCK_STREAM, proto=6, laddr=('127.0.0.1', 55698), raddr=('127.0.0.1', 11434)>\n",
      "  analyzer = GraphRAGSystem(row[\"question\"])\n",
      "ResourceWarning: Enable tracemalloc to get the object allocation traceback\n"
     ]
    },
    {
     "name": "stdout",
     "output_type": "stream",
     "text": [
      "Question 172: Can late-stage AMD lead to visual hallucinations? a) Yes b) No c) Rarely d) Only wet AMD\n",
      "Context: T...\n",
      "Response: a) Yes\n",
      "\n"
     ]
    },
    {
     "name": "stderr",
     "output_type": "stream",
     "text": [
      "/var/folders/z3/zc5j75dj0qn_z2sp8qf47q340000gn/T/ipykernel_75411/652174667.py:8: ResourceWarning: unclosed <socket.socket fd=94, family=AddressFamily.AF_INET, type=SocketKind.SOCK_STREAM, proto=6, laddr=('127.0.0.1', 55718), raddr=('127.0.0.1', 11434)>\n",
      "  analyzer = GraphRAGSystem(row[\"question\"])\n",
      "ResourceWarning: Enable tracemalloc to get the object allocation traceback\n"
     ]
    },
    {
     "name": "stdout",
     "output_type": "stream",
     "text": [
      "Question 173: Is AMD restricted to those over 80? a) Yes b) No c) Usually d) Rarely\n",
      "Context: T...\n",
      "Response: b\n",
      "\n"
     ]
    },
    {
     "name": "stderr",
     "output_type": "stream",
     "text": [
      "/var/folders/z3/zc5j75dj0qn_z2sp8qf47q340000gn/T/ipykernel_75411/652174667.py:8: ResourceWarning: unclosed <socket.socket fd=94, family=AddressFamily.AF_INET, type=SocketKind.SOCK_STREAM, proto=6, laddr=('127.0.0.1', 55743), raddr=('127.0.0.1', 11434)>\n",
      "  analyzer = GraphRAGSystem(row[\"question\"])\n",
      "ResourceWarning: Enable tracemalloc to get the object allocation traceback\n"
     ]
    },
    {
     "name": "stdout",
     "output_type": "stream",
     "text": [
      "Question 174: What biological process contributes to AMD? a) Oxidative stress b) Bone remodeling c) Muscle growth d) Skin repair\n",
      "Context: T...\n",
      "Response: A\n",
      "\n"
     ]
    },
    {
     "name": "stderr",
     "output_type": "stream",
     "text": [
      "/var/folders/z3/zc5j75dj0qn_z2sp8qf47q340000gn/T/ipykernel_75411/652174667.py:8: ResourceWarning: unclosed <socket.socket fd=94, family=AddressFamily.AF_INET, type=SocketKind.SOCK_STREAM, proto=6, laddr=('127.0.0.1', 55768), raddr=('127.0.0.1', 11434)>\n",
      "  analyzer = GraphRAGSystem(row[\"question\"])\n",
      "ResourceWarning: Enable tracemalloc to get the object allocation traceback\n"
     ]
    },
    {
     "name": "stdout",
     "output_type": "stream",
     "text": [
      "Question 175: Is massage therapy a recognized AMD treatment? a) Yes b) No c) Sometimes d) Only experimental\n",
      "Context: T...\n",
      "Response: b\n",
      "\n"
     ]
    },
    {
     "name": "stderr",
     "output_type": "stream",
     "text": [
      "/var/folders/z3/zc5j75dj0qn_z2sp8qf47q340000gn/T/ipykernel_75411/652174667.py:8: ResourceWarning: unclosed <socket.socket fd=94, family=AddressFamily.AF_INET, type=SocketKind.SOCK_STREAM, proto=6, laddr=('127.0.0.1', 55790), raddr=('127.0.0.1', 11434)>\n",
      "  analyzer = GraphRAGSystem(row[\"question\"])\n",
      "ResourceWarning: Enable tracemalloc to get the object allocation traceback\n"
     ]
    },
    {
     "name": "stdout",
     "output_type": "stream",
     "text": [
      "Question 176: Which emotional condition may AMD exacerbate? a) Depression b) Euphoria c) Confidence d) Alertness\n",
      "Context: T...\n",
      "Response: a) Depression\n",
      "\n"
     ]
    },
    {
     "name": "stderr",
     "output_type": "stream",
     "text": [
      "/var/folders/z3/zc5j75dj0qn_z2sp8qf47q340000gn/T/ipykernel_75411/652174667.py:8: ResourceWarning: unclosed <socket.socket fd=94, family=AddressFamily.AF_INET, type=SocketKind.SOCK_STREAM, proto=6, laddr=('127.0.0.1', 55814), raddr=('127.0.0.1', 11434)>\n",
      "  analyzer = GraphRAGSystem(row[\"question\"])\n",
      "ResourceWarning: Enable tracemalloc to get the object allocation traceback\n"
     ]
    },
    {
     "name": "stdout",
     "output_type": "stream",
     "text": [
      "Question 177: Do glasses directly cause AMD? a) Yes b) No c) Sometimes d) Only long-term use\n",
      "Context: T...\n",
      "Response: b)\n",
      "\n"
     ]
    },
    {
     "name": "stderr",
     "output_type": "stream",
     "text": [
      "/var/folders/z3/zc5j75dj0qn_z2sp8qf47q340000gn/T/ipykernel_75411/652174667.py:8: ResourceWarning: unclosed <socket.socket fd=94, family=AddressFamily.AF_INET, type=SocketKind.SOCK_STREAM, proto=6, laddr=('127.0.0.1', 55840), raddr=('127.0.0.1', 11434)>\n",
      "  analyzer = GraphRAGSystem(row[\"question\"])\n",
      "ResourceWarning: Enable tracemalloc to get the object allocation traceback\n"
     ]
    },
    {
     "name": "stdout",
     "output_type": "stream",
     "text": [
      "Question 178: What imaging technique supports AMD diagnosis? a) Fundus photography b) X-ray c) Thermal scan d) Ultrasound\n",
      "Context: T...\n",
      "Response: d\n",
      "\n"
     ]
    },
    {
     "name": "stderr",
     "output_type": "stream",
     "text": [
      "/var/folders/z3/zc5j75dj0qn_z2sp8qf47q340000gn/T/ipykernel_75411/652174667.py:8: ResourceWarning: unclosed <socket.socket fd=94, family=AddressFamily.AF_INET, type=SocketKind.SOCK_STREAM, proto=6, laddr=('127.0.0.1', 55865), raddr=('127.0.0.1', 11434)>\n",
      "  analyzer = GraphRAGSystem(row[\"question\"])\n",
      "ResourceWarning: Enable tracemalloc to get the object allocation traceback\n"
     ]
    },
    {
     "name": "stdout",
     "output_type": "stream",
     "text": [
      "Question 179: Does wet AMD often result in retinal scarring? a) Yes b) No c) Rarely d) Only early stages\n",
      "Context: T...\n",
      "Response: a) Yes\n",
      "\n"
     ]
    },
    {
     "name": "stderr",
     "output_type": "stream",
     "text": [
      "/var/folders/z3/zc5j75dj0qn_z2sp8qf47q340000gn/T/ipykernel_75411/652174667.py:8: ResourceWarning: unclosed <socket.socket fd=94, family=AddressFamily.AF_INET, type=SocketKind.SOCK_STREAM, proto=6, laddr=('127.0.0.1', 55890), raddr=('127.0.0.1', 11434)>\n",
      "  analyzer = GraphRAGSystem(row[\"question\"])\n",
      "ResourceWarning: Enable tracemalloc to get the object allocation traceback\n"
     ]
    },
    {
     "name": "stdout",
     "output_type": "stream",
     "text": [
      "Question 180: Is calcium deficiency a primary AMD cause? a) Yes b) No c) Sometimes d) Unknown\n",
      "Context: T...\n",
      "Response: d) Unknown\n",
      "\n"
     ]
    },
    {
     "name": "stderr",
     "output_type": "stream",
     "text": [
      "/var/folders/z3/zc5j75dj0qn_z2sp8qf47q340000gn/T/ipykernel_75411/652174667.py:8: ResourceWarning: unclosed <socket.socket fd=94, family=AddressFamily.AF_INET, type=SocketKind.SOCK_STREAM, proto=6, laddr=('127.0.0.1', 55920), raddr=('127.0.0.1', 11434)>\n",
      "  analyzer = GraphRAGSystem(row[\"question\"])\n",
      "ResourceWarning: Enable tracemalloc to get the object allocation traceback\n"
     ]
    },
    {
     "name": "stdout",
     "output_type": "stream",
     "text": [
      "Question 181: Which perceptual ability does AMD affect? a) Distance estimation b) Sound pitch c) Taste intensity d) Smell acuity\n",
      "Context: T...\n",
      "Response: A\n",
      "\n"
     ]
    },
    {
     "name": "stderr",
     "output_type": "stream",
     "text": [
      "/var/folders/z3/zc5j75dj0qn_z2sp8qf47q340000gn/T/ipykernel_75411/652174667.py:8: ResourceWarning: unclosed <socket.socket fd=94, family=AddressFamily.AF_INET, type=SocketKind.SOCK_STREAM, proto=6, laddr=('127.0.0.1', 55939), raddr=('127.0.0.1', 11434)>\n",
      "  analyzer = GraphRAGSystem(row[\"question\"])\n",
      "ResourceWarning: Enable tracemalloc to get the object allocation traceback\n"
     ]
    },
    {
     "name": "stdout",
     "output_type": "stream",
     "text": [
      "Question 182: Does dry AMD inevitably progress to wet AMD? a) Yes b) No c) Often d) Rarely\n",
      "Context: T...\n",
      "Response: b)\n",
      "\n"
     ]
    },
    {
     "name": "stderr",
     "output_type": "stream",
     "text": [
      "/var/folders/z3/zc5j75dj0qn_z2sp8qf47q340000gn/T/ipykernel_75411/652174667.py:8: ResourceWarning: unclosed <socket.socket fd=94, family=AddressFamily.AF_INET, type=SocketKind.SOCK_STREAM, proto=6, laddr=('127.0.0.1', 55972), raddr=('127.0.0.1', 11434)>\n",
      "  analyzer = GraphRAGSystem(row[\"question\"])\n",
      "ResourceWarning: Enable tracemalloc to get the object allocation traceback\n"
     ]
    },
    {
     "name": "stdout",
     "output_type": "stream",
     "text": [
      "Question 183: What is the approximate U.S. prevalence of AMD? a) 2 million b) 6 million c) 11 million d) 15 million\n",
      "Context: T...\n",
      "Response: c\n",
      "\n"
     ]
    },
    {
     "name": "stderr",
     "output_type": "stream",
     "text": [
      "/var/folders/z3/zc5j75dj0qn_z2sp8qf47q340000gn/T/ipykernel_75411/652174667.py:8: ResourceWarning: unclosed <socket.socket fd=94, family=AddressFamily.AF_INET, type=SocketKind.SOCK_STREAM, proto=6, laddr=('127.0.0.1', 55996), raddr=('127.0.0.1', 11434)>\n",
      "  analyzer = GraphRAGSystem(row[\"question\"])\n",
      "ResourceWarning: Enable tracemalloc to get the object allocation traceback\n"
     ]
    },
    {
     "name": "stdout",
     "output_type": "stream",
     "text": [
      "Question 184: Can avoiding all dairy prevent wet AMD? a) Yes b) No c) Sometimes d) Only with diet\n",
      "Context: T...\n",
      "Response: b) No\n",
      "\n"
     ]
    },
    {
     "name": "stderr",
     "output_type": "stream",
     "text": [
      "/var/folders/z3/zc5j75dj0qn_z2sp8qf47q340000gn/T/ipykernel_75411/652174667.py:8: ResourceWarning: unclosed <socket.socket fd=94, family=AddressFamily.AF_INET, type=SocketKind.SOCK_STREAM, proto=6, laddr=('127.0.0.1', 56023), raddr=('127.0.0.1', 11434)>\n",
      "  analyzer = GraphRAGSystem(row[\"question\"])\n",
      "ResourceWarning: Enable tracemalloc to get the object allocation traceback\n"
     ]
    },
    {
     "name": "stdout",
     "output_type": "stream",
     "text": [
      "Question 185: What retinal change is a hallmark of early AMD? a) Neovascularization b) Drusen accumulation c) Optic nerve atrophy d) Corneal thinning\n",
      "Context: T...\n",
      "Response: b\n",
      "\n"
     ]
    },
    {
     "name": "stderr",
     "output_type": "stream",
     "text": [
      "/var/folders/z3/zc5j75dj0qn_z2sp8qf47q340000gn/T/ipykernel_75411/652174667.py:8: ResourceWarning: unclosed <socket.socket fd=94, family=AddressFamily.AF_INET, type=SocketKind.SOCK_STREAM, proto=6, laddr=('127.0.0.1', 56049), raddr=('127.0.0.1', 11434)>\n",
      "  analyzer = GraphRAGSystem(row[\"question\"])\n",
      "ResourceWarning: Enable tracemalloc to get the object allocation traceback\n"
     ]
    },
    {
     "name": "stdout",
     "output_type": "stream",
     "text": [
      "Question 186: Which symptom distinguishes wet AMD from dry AMD? a) Gradual vision decline b) Sudden central distortion c) Peripheral haze d) Eye fatigue\n",
      "Context: T...\n",
      "Response: B\n",
      "\n"
     ]
    },
    {
     "name": "stderr",
     "output_type": "stream",
     "text": [
      "/var/folders/z3/zc5j75dj0qn_z2sp8qf47q340000gn/T/ipykernel_75411/652174667.py:8: ResourceWarning: unclosed <socket.socket fd=94, family=AddressFamily.AF_INET, type=SocketKind.SOCK_STREAM, proto=6, laddr=('127.0.0.1', 56071), raddr=('127.0.0.1', 11434)>\n",
      "  analyzer = GraphRAGSystem(row[\"question\"])\n",
      "ResourceWarning: Enable tracemalloc to get the object allocation traceback\n"
     ]
    },
    {
     "name": "stdout",
     "output_type": "stream",
     "text": [
      "Question 187: What is the final stage of advanced dry AMD? a) Choroidal rupture b) Geographic atrophy c) Retinal detachment d) Macular edema\n",
      "Context: T...\n",
      "Response: B\n",
      "\n"
     ]
    },
    {
     "name": "stderr",
     "output_type": "stream",
     "text": [
      "/var/folders/z3/zc5j75dj0qn_z2sp8qf47q340000gn/T/ipykernel_75411/652174667.py:8: ResourceWarning: unclosed <socket.socket fd=94, family=AddressFamily.AF_INET, type=SocketKind.SOCK_STREAM, proto=6, laddr=('127.0.0.1', 56106), raddr=('127.0.0.1', 11434)>\n",
      "  analyzer = GraphRAGSystem(row[\"question\"])\n",
      "ResourceWarning: Enable tracemalloc to get the object allocation traceback\n"
     ]
    },
    {
     "name": "stdout",
     "output_type": "stream",
     "text": [
      "Question 188: Which lifestyle choice is a significant AMD risk factor? a) Smoking b) Daily meditation c) Drinking tea d) Moderate exercise\n",
      "Context: T...\n",
      "Response: A\n",
      "\n"
     ]
    },
    {
     "name": "stderr",
     "output_type": "stream",
     "text": [
      "/var/folders/z3/zc5j75dj0qn_z2sp8qf47q340000gn/T/ipykernel_75411/652174667.py:8: ResourceWarning: unclosed <socket.socket fd=94, family=AddressFamily.AF_INET, type=SocketKind.SOCK_STREAM, proto=6, laddr=('127.0.0.1', 56139), raddr=('127.0.0.1', 11434)>\n",
      "  analyzer = GraphRAGSystem(row[\"question\"])\n",
      "ResourceWarning: Enable tracemalloc to get the object allocation traceback\n"
     ]
    },
    {
     "name": "stdout",
     "output_type": "stream",
     "text": [
      "Question 189: Which AMD type involves abnormal blood vessel growth? a) Early AMD b) Wet AMD c) Dry AMD d) Intermediate AMD\n",
      "Context: T...\n",
      "Response: D\n",
      "\n"
     ]
    },
    {
     "name": "stderr",
     "output_type": "stream",
     "text": [
      "/var/folders/z3/zc5j75dj0qn_z2sp8qf47q340000gn/T/ipykernel_75411/652174667.py:8: ResourceWarning: unclosed <socket.socket fd=94, family=AddressFamily.AF_INET, type=SocketKind.SOCK_STREAM, proto=6, laddr=('127.0.0.1', 56165), raddr=('127.0.0.1', 11434)>\n",
      "  analyzer = GraphRAGSystem(row[\"question\"])\n",
      "ResourceWarning: Enable tracemalloc to get the object allocation traceback\n"
     ]
    },
    {
     "name": "stdout",
     "output_type": "stream",
     "text": [
      "Question 190: Is there a complete cure for late-stage AMD? a) Yes b) No c) In trials d) Only for dry AMD\n",
      "Context: S...\n",
      "Response: b\n",
      "\n"
     ]
    },
    {
     "name": "stderr",
     "output_type": "stream",
     "text": [
      "/var/folders/z3/zc5j75dj0qn_z2sp8qf47q340000gn/T/ipykernel_75411/652174667.py:8: ResourceWarning: unclosed <socket.socket fd=94, family=AddressFamily.AF_INET, type=SocketKind.SOCK_STREAM, proto=6, laddr=('127.0.0.1', 56197), raddr=('127.0.0.1', 11434)>\n",
      "  analyzer = GraphRAGSystem(row[\"question\"])\n",
      "ResourceWarning: Enable tracemalloc to get the object allocation traceback\n"
     ]
    },
    {
     "name": "stdout",
     "output_type": "stream",
     "text": [
      "Question 191: What medication is a primary treatment for wet AMD? a) Anti-VEGF injections b) Painkillers c) Antihistamines d) Eye drops\n",
      "Context: T...\n",
      "Response: A\n",
      "\n"
     ]
    },
    {
     "name": "stderr",
     "output_type": "stream",
     "text": [
      "/var/folders/z3/zc5j75dj0qn_z2sp8qf47q340000gn/T/ipykernel_75411/652174667.py:8: ResourceWarning: unclosed <socket.socket fd=94, family=AddressFamily.AF_INET, type=SocketKind.SOCK_STREAM, proto=6, laddr=('127.0.0.1', 56223), raddr=('127.0.0.1', 11434)>\n",
      "  analyzer = GraphRAGSystem(row[\"question\"])\n",
      "ResourceWarning: Enable tracemalloc to get the object allocation traceback\n"
     ]
    },
    {
     "name": "stdout",
     "output_type": "stream",
     "text": [
      "Question 192: Which vision component is least impacted by AMD? a) Central vision b) Peripheral vision c) Contrast sensitivity d) Color acuity\n",
      "Context: T...\n",
      "Response: The correct answer is B) Peripheral vision.\n",
      "\n"
     ]
    },
    {
     "name": "stderr",
     "output_type": "stream",
     "text": [
      "/var/folders/z3/zc5j75dj0qn_z2sp8qf47q340000gn/T/ipykernel_75411/652174667.py:8: ResourceWarning: unclosed <socket.socket fd=94, family=AddressFamily.AF_INET, type=SocketKind.SOCK_STREAM, proto=6, laddr=('127.0.0.1', 56266), raddr=('127.0.0.1', 11434)>\n",
      "  analyzer = GraphRAGSystem(row[\"question\"])\n",
      "ResourceWarning: Enable tracemalloc to get the object allocation traceback\n"
     ]
    },
    {
     "name": "stdout",
     "output_type": "stream",
     "text": [
      "Question 193: What inherited factor raises AMD likelihood? a) Family history b) Eye size c) Hair type d) Skin texture\n",
      "Context: T...\n",
      "Response: A\n",
      "The best answer is A.\n",
      "\n"
     ]
    },
    {
     "name": "stderr",
     "output_type": "stream",
     "text": [
      "/var/folders/z3/zc5j75dj0qn_z2sp8qf47q340000gn/T/ipykernel_75411/652174667.py:8: ResourceWarning: unclosed <socket.socket fd=94, family=AddressFamily.AF_INET, type=SocketKind.SOCK_STREAM, proto=6, laddr=('127.0.0.1', 56298), raddr=('127.0.0.1', 11434)>\n",
      "  analyzer = GraphRAGSystem(row[\"question\"])\n",
      "ResourceWarning: Enable tracemalloc to get the object allocation traceback\n"
     ]
    },
    {
     "name": "stdout",
     "output_type": "stream",
     "text": [
      "Question 194: Which diagnostic approach is useless for AMD? a) Amsler grid b) OCT c) Hearing test d) Fundus photography\n",
      "Context: T...\n",
      "Response: C\n",
      "\n"
     ]
    },
    {
     "name": "stderr",
     "output_type": "stream",
     "text": [
      "/var/folders/z3/zc5j75dj0qn_z2sp8qf47q340000gn/T/ipykernel_75411/652174667.py:8: ResourceWarning: unclosed <socket.socket fd=94, family=AddressFamily.AF_INET, type=SocketKind.SOCK_STREAM, proto=6, laddr=('127.0.0.1', 56327), raddr=('127.0.0.1', 11434)>\n",
      "  analyzer = GraphRAGSystem(row[\"question\"])\n",
      "ResourceWarning: Enable tracemalloc to get the object allocation traceback\n"
     ]
    },
    {
     "name": "stdout",
     "output_type": "stream",
     "text": [
      "Question 195: What simple test tracks AMD-related vision changes? a) Blood sugar test b) Amsler grid c) Reflex test d) Temperature check\n",
      "Context: T...\n",
      "Response: B\n",
      "\n"
     ]
    },
    {
     "name": "stderr",
     "output_type": "stream",
     "text": [
      "/var/folders/z3/zc5j75dj0qn_z2sp8qf47q340000gn/T/ipykernel_75411/652174667.py:8: ResourceWarning: unclosed <socket.socket fd=94, family=AddressFamily.AF_INET, type=SocketKind.SOCK_STREAM, proto=6, laddr=('127.0.0.1', 56359), raddr=('127.0.0.1', 11434)>\n",
      "  analyzer = GraphRAGSystem(row[\"question\"])\n",
      "ResourceWarning: Enable tracemalloc to get the object allocation traceback\n"
     ]
    },
    {
     "name": "stdout",
     "output_type": "stream",
     "text": [
      "Question 196: Which AMD variant is most common among patients? a) Wet AMD b) Dry AMD c) Both equally d) Neither\n",
      "Context: T...\n",
      "Response: B\n",
      "\n"
     ]
    },
    {
     "name": "stderr",
     "output_type": "stream",
     "text": [
      "/var/folders/z3/zc5j75dj0qn_z2sp8qf47q340000gn/T/ipykernel_75411/652174667.py:8: ResourceWarning: unclosed <socket.socket fd=94, family=AddressFamily.AF_INET, type=SocketKind.SOCK_STREAM, proto=6, laddr=('127.0.0.1', 56379), raddr=('127.0.0.1', 11434)>\n",
      "  analyzer = GraphRAGSystem(row[\"question\"])\n",
      "ResourceWarning: Enable tracemalloc to get the object allocation traceback\n"
     ]
    },
    {
     "name": "stdout",
     "output_type": "stream",
     "text": [
      "Question 197: Can wearing sunglasses fully prevent AMD onset? a) Yes b) No c) Sometimes d) Only with diet\n",
      "Context: T...\n",
      "Response: b\n",
      "\n"
     ]
    },
    {
     "name": "stderr",
     "output_type": "stream",
     "text": [
      "/var/folders/z3/zc5j75dj0qn_z2sp8qf47q340000gn/T/ipykernel_75411/652174667.py:8: ResourceWarning: unclosed <socket.socket fd=94, family=AddressFamily.AF_INET, type=SocketKind.SOCK_STREAM, proto=6, laddr=('127.0.0.1', 56410), raddr=('127.0.0.1', 11434)>\n",
      "  analyzer = GraphRAGSystem(row[\"question\"])\n",
      "ResourceWarning: Enable tracemalloc to get the object allocation traceback\n"
     ]
    },
    {
     "name": "stdout",
     "output_type": "stream",
     "text": [
      "Question 198: Which metabolic disorder is tied to increased AMD risk? a) Diabetes b) Thyroid disease c) Anemia d) Gout\n",
      "Context: T...\n",
      "Response: D\n",
      "\n"
     ]
    },
    {
     "name": "stderr",
     "output_type": "stream",
     "text": [
      "/var/folders/z3/zc5j75dj0qn_z2sp8qf47q340000gn/T/ipykernel_75411/652174667.py:8: ResourceWarning: unclosed <socket.socket fd=94, family=AddressFamily.AF_INET, type=SocketKind.SOCK_STREAM, proto=6, laddr=('127.0.0.1', 56437), raddr=('127.0.0.1', 11434)>\n",
      "  analyzer = GraphRAGSystem(row[\"question\"])\n",
      "ResourceWarning: Enable tracemalloc to get the object allocation traceback\n"
     ]
    },
    {
     "name": "stdout",
     "output_type": "stream",
     "text": [
      "Question 199: What is the focus of dry AMD therapy? a) Full reversal b) Slowing progression c) Pain management d) Surgical repair\n",
      "Context: T...\n",
      "Response: b\n",
      "\n"
     ]
    },
    {
     "name": "stderr",
     "output_type": "stream",
     "text": [
      "/var/folders/z3/zc5j75dj0qn_z2sp8qf47q340000gn/T/ipykernel_75411/652174667.py:8: ResourceWarning: unclosed <socket.socket fd=94, family=AddressFamily.AF_INET, type=SocketKind.SOCK_STREAM, proto=6, laddr=('127.0.0.1', 56464), raddr=('127.0.0.1', 11434)>\n",
      "  analyzer = GraphRAGSystem(row[\"question\"])\n",
      "ResourceWarning: Enable tracemalloc to get the object allocation traceback\n"
     ]
    },
    {
     "name": "stdout",
     "output_type": "stream",
     "text": [
      "Question 200: What retinal deposit is typical in dry AMD? a) Blood clots b) Drusen c) Lipid plaques d) Calcium crystals\n",
      "Context: T...\n",
      "Response: B\n",
      "\n"
     ]
    },
    {
     "name": "stderr",
     "output_type": "stream",
     "text": [
      "/var/folders/z3/zc5j75dj0qn_z2sp8qf47q340000gn/T/ipykernel_75411/652174667.py:8: ResourceWarning: unclosed <socket.socket fd=94, family=AddressFamily.AF_INET, type=SocketKind.SOCK_STREAM, proto=6, laddr=('127.0.0.1', 56494), raddr=('127.0.0.1', 11434)>\n",
      "  analyzer = GraphRAGSystem(row[\"question\"])\n",
      "ResourceWarning: Enable tracemalloc to get the object allocation traceback\n"
     ]
    },
    {
     "name": "stdout",
     "output_type": "stream",
     "text": [
      "Question 201: At what age does AMD typically become more prevalent? a) 40 b) 50 c) 60 d) 70\n",
      "Context: T...\n",
      "Response: c\n",
      "\n"
     ]
    },
    {
     "name": "stderr",
     "output_type": "stream",
     "text": [
      "/var/folders/z3/zc5j75dj0qn_z2sp8qf47q340000gn/T/ipykernel_75411/652174667.py:8: ResourceWarning: unclosed <socket.socket fd=94, family=AddressFamily.AF_INET, type=SocketKind.SOCK_STREAM, proto=6, laddr=('127.0.0.1', 56521), raddr=('127.0.0.1', 11434)>\n",
      "  analyzer = GraphRAGSystem(row[\"question\"])\n",
      "ResourceWarning: Enable tracemalloc to get the object allocation traceback\n"
     ]
    },
    {
     "name": "stdout",
     "output_type": "stream",
     "text": [
      "Question 202: What marks the onset of wet AMD? a) Slow peripheral fade b) Rapid central blur c) Eye dryness d) Floaters\n",
      "Context: T...\n",
      "Response: B\n",
      "\n"
     ]
    },
    {
     "name": "stderr",
     "output_type": "stream",
     "text": [
      "/var/folders/z3/zc5j75dj0qn_z2sp8qf47q340000gn/T/ipykernel_75411/652174667.py:8: ResourceWarning: unclosed <socket.socket fd=94, family=AddressFamily.AF_INET, type=SocketKind.SOCK_STREAM, proto=6, laddr=('127.0.0.1', 56549), raddr=('127.0.0.1', 11434)>\n",
      "  analyzer = GraphRAGSystem(row[\"question\"])\n",
      "ResourceWarning: Enable tracemalloc to get the object allocation traceback\n"
     ]
    },
    {
     "name": "stdout",
     "output_type": "stream",
     "text": [
      "Question 203: Is AMD a contagious condition? a) Yes b) No c) Rarely d) Only through contact\n",
      "Context: T...\n",
      "Response: b)\n",
      "\n"
     ]
    },
    {
     "name": "stderr",
     "output_type": "stream",
     "text": [
      "/var/folders/z3/zc5j75dj0qn_z2sp8qf47q340000gn/T/ipykernel_75411/652174667.py:8: ResourceWarning: unclosed <socket.socket fd=94, family=AddressFamily.AF_INET, type=SocketKind.SOCK_STREAM, proto=6, laddr=('127.0.0.1', 56572), raddr=('127.0.0.1', 11434)>\n",
      "  analyzer = GraphRAGSystem(row[\"question\"])\n",
      "ResourceWarning: Enable tracemalloc to get the object allocation traceback\n"
     ]
    },
    {
     "name": "stdout",
     "output_type": "stream",
     "text": [
      "Question 204: Which body condition elevates AMD risk? a) Obesity b) Low weight c) High fitness d) Normal cholesterol\n",
      "Context: T...\n",
      "Response: A\n",
      "\n"
     ]
    },
    {
     "name": "stderr",
     "output_type": "stream",
     "text": [
      "/var/folders/z3/zc5j75dj0qn_z2sp8qf47q340000gn/T/ipykernel_75411/652174667.py:8: ResourceWarning: unclosed <socket.socket fd=94, family=AddressFamily.AF_INET, type=SocketKind.SOCK_STREAM, proto=6, laddr=('127.0.0.1', 56601), raddr=('127.0.0.1', 11434)>\n",
      "  analyzer = GraphRAGSystem(row[\"question\"])\n",
      "ResourceWarning: Enable tracemalloc to get the object allocation traceback\n"
     ]
    },
    {
     "name": "stdout",
     "output_type": "stream",
     "text": [
      "Question 205: Can surgery restore vision lost to AMD? a) Yes b) No c) Partially d) Only wet AMD\n",
      "Context: T...\n",
      "Response: c) Partially\n",
      "\n"
     ]
    },
    {
     "name": "stderr",
     "output_type": "stream",
     "text": [
      "/var/folders/z3/zc5j75dj0qn_z2sp8qf47q340000gn/T/ipykernel_75411/652174667.py:8: ResourceWarning: unclosed <socket.socket fd=94, family=AddressFamily.AF_INET, type=SocketKind.SOCK_STREAM, proto=6, laddr=('127.0.0.1', 56630), raddr=('127.0.0.1', 11434)>\n",
      "  analyzer = GraphRAGSystem(row[\"question\"])\n",
      "ResourceWarning: Enable tracemalloc to get the object allocation traceback\n"
     ]
    },
    {
     "name": "stdout",
     "output_type": "stream",
     "text": [
      "Question 206: What perceptual change does AMD often induce? a) Color distortion b) Sound muffling c) Taste alteration d) Peripheral narrowing\n",
      "Context: T...\n",
      "Response: d) Peripheral narrowing.\n",
      "\n"
     ]
    },
    {
     "name": "stderr",
     "output_type": "stream",
     "text": [
      "/var/folders/z3/zc5j75dj0qn_z2sp8qf47q340000gn/T/ipykernel_75411/652174667.py:8: ResourceWarning: unclosed <socket.socket fd=94, family=AddressFamily.AF_INET, type=SocketKind.SOCK_STREAM, proto=6, laddr=('127.0.0.1', 56662), raddr=('127.0.0.1', 11434)>\n",
      "  analyzer = GraphRAGSystem(row[\"question\"])\n",
      "ResourceWarning: Enable tracemalloc to get the object allocation traceback\n"
     ]
    },
    {
     "name": "stdout",
     "output_type": "stream",
     "text": [
      "Question 207: Is prolonged screen exposure a proven AMD cause? a) Yes b) No c) Sometimes d) Only with UV\n",
      "Context: T...\n",
      "Response: b\n",
      "\n"
     ]
    },
    {
     "name": "stderr",
     "output_type": "stream",
     "text": [
      "/var/folders/z3/zc5j75dj0qn_z2sp8qf47q340000gn/T/ipykernel_75411/652174667.py:8: ResourceWarning: unclosed <socket.socket fd=94, family=AddressFamily.AF_INET, type=SocketKind.SOCK_STREAM, proto=6, laddr=('127.0.0.1', 56691), raddr=('127.0.0.1', 11434)>\n",
      "  analyzer = GraphRAGSystem(row[\"question\"])\n",
      "ResourceWarning: Enable tracemalloc to get the object allocation traceback\n"
     ]
    },
    {
     "name": "stdout",
     "output_type": "stream",
     "text": [
      "Question 208: What advanced imaging confirms AMD? a) OCT b) MRI c) X-ray d) Ultrasound\n",
      "Context: T...\n",
      "Response: a) OCT\n",
      "\n"
     ]
    },
    {
     "name": "stderr",
     "output_type": "stream",
     "text": [
      "/var/folders/z3/zc5j75dj0qn_z2sp8qf47q340000gn/T/ipykernel_75411/652174667.py:8: ResourceWarning: unclosed <socket.socket fd=94, family=AddressFamily.AF_INET, type=SocketKind.SOCK_STREAM, proto=6, laddr=('127.0.0.1', 56713), raddr=('127.0.0.1', 11434)>\n",
      "  analyzer = GraphRAGSystem(row[\"question\"])\n",
      "ResourceWarning: Enable tracemalloc to get the object allocation traceback\n"
     ]
    },
    {
     "name": "stdout",
     "output_type": "stream",
     "text": [
      "Question 209: What retinal effect does wet AMD produce? a) Drusen dissolution b) Fluid buildup c) Lens opacity d) Optic nerve damage\n",
      "Context: T...\n",
      "Response: b\n",
      "\n"
     ]
    },
    {
     "name": "stderr",
     "output_type": "stream",
     "text": [
      "/var/folders/z3/zc5j75dj0qn_z2sp8qf47q340000gn/T/ipykernel_75411/652174667.py:8: ResourceWarning: unclosed <socket.socket fd=94, family=AddressFamily.AF_INET, type=SocketKind.SOCK_STREAM, proto=6, laddr=('127.0.0.1', 56736), raddr=('127.0.0.1', 11434)>\n",
      "  analyzer = GraphRAGSystem(row[\"question\"])\n",
      "ResourceWarning: Enable tracemalloc to get the object allocation traceback\n"
     ]
    },
    {
     "name": "stdout",
     "output_type": "stream",
     "text": [
      "Question 210: Which sex has a marginally higher AMD rate? a) Men b) Women c) Equal d) Unknown\n",
      "Context: T...\n",
      "Response: c\n",
      "\n"
     ]
    },
    {
     "name": "stderr",
     "output_type": "stream",
     "text": [
      "/var/folders/z3/zc5j75dj0qn_z2sp8qf47q340000gn/T/ipykernel_75411/652174667.py:8: ResourceWarning: unclosed <socket.socket fd=94, family=AddressFamily.AF_INET, type=SocketKind.SOCK_STREAM, proto=6, laddr=('127.0.0.1', 56761), raddr=('127.0.0.1', 11434)>\n",
      "  analyzer = GraphRAGSystem(row[\"question\"])\n",
      "ResourceWarning: Enable tracemalloc to get the object allocation traceback\n"
     ]
    },
    {
     "name": "stdout",
     "output_type": "stream",
     "text": [
      "Question 211: Are over-the-counter drops effective for AMD treatment? a) Yes b) No c) Sometimes d) Only dry AMD\n",
      "Context: T...\n",
      "Response: b\n",
      "\n"
     ]
    },
    {
     "name": "stderr",
     "output_type": "stream",
     "text": [
      "/var/folders/z3/zc5j75dj0qn_z2sp8qf47q340000gn/T/ipykernel_75411/652174667.py:8: ResourceWarning: unclosed <socket.socket fd=94, family=AddressFamily.AF_INET, type=SocketKind.SOCK_STREAM, proto=6, laddr=('127.0.0.1', 56788), raddr=('127.0.0.1', 11434)>\n",
      "  analyzer = GraphRAGSystem(row[\"question\"])\n",
      "ResourceWarning: Enable tracemalloc to get the object allocation traceback\n"
     ]
    },
    {
     "name": "stdout",
     "output_type": "stream",
     "text": [
      "Question 212: Which circulatory issue boosts AMD risk? a) Low pressure b) Hypertension c) Low pulse d) High oxygen\n",
      "Context: T...\n",
      "Response: b\n",
      "\n"
     ]
    },
    {
     "name": "stderr",
     "output_type": "stream",
     "text": [
      "/var/folders/z3/zc5j75dj0qn_z2sp8qf47q340000gn/T/ipykernel_75411/652174667.py:8: ResourceWarning: unclosed <socket.socket fd=94, family=AddressFamily.AF_INET, type=SocketKind.SOCK_STREAM, proto=6, laddr=('127.0.0.1', 56820), raddr=('127.0.0.1', 11434)>\n",
      "  analyzer = GraphRAGSystem(row[\"question\"])\n",
      "ResourceWarning: Enable tracemalloc to get the object allocation traceback\n"
     ]
    },
    {
     "name": "stdout",
     "output_type": "stream",
     "text": [
      "Question 213: What blood lipid level correlates with AMD? a) High cholesterol b) Low cholesterol c) High triglycerides d) Low HDL\n",
      "Context: T...\n",
      "Response: d) Low HDL\n",
      "\n"
     ]
    },
    {
     "name": "stderr",
     "output_type": "stream",
     "text": [
      "/var/folders/z3/zc5j75dj0qn_z2sp8qf47q340000gn/T/ipykernel_75411/652174667.py:8: ResourceWarning: unclosed <socket.socket fd=94, family=AddressFamily.AF_INET, type=SocketKind.SOCK_STREAM, proto=6, laddr=('127.0.0.1', 56856), raddr=('127.0.0.1', 11434)>\n",
      "  analyzer = GraphRAGSystem(row[\"question\"])\n",
      "ResourceWarning: Enable tracemalloc to get the object allocation traceback\n"
     ]
    },
    {
     "name": "stdout",
     "output_type": "stream",
     "text": [
      "Question 214: Can fish oil alone stop AMD progression? a) Yes b) No c) Partially d) Only with AREDS\n",
      "Context: T...\n",
      "Response: b) No\n",
      "\n"
     ]
    },
    {
     "name": "stderr",
     "output_type": "stream",
     "text": [
      "/var/folders/z3/zc5j75dj0qn_z2sp8qf47q340000gn/T/ipykernel_75411/652174667.py:8: ResourceWarning: unclosed <socket.socket fd=94, family=AddressFamily.AF_INET, type=SocketKind.SOCK_STREAM, proto=6, laddr=('127.0.0.1', 56882), raddr=('127.0.0.1', 11434)>\n",
      "  analyzer = GraphRAGSystem(row[\"question\"])\n",
      "ResourceWarning: Enable tracemalloc to get the object allocation traceback\n"
     ]
    },
    {
     "name": "stdout",
     "output_type": "stream",
     "text": [
      "Question 215: Which eye part is unaffected by AMD? a) Macula b) Optic nerve c) Choroid d) Retina\n",
      "Context: T...\n",
      "Response: d\n",
      "\n"
     ]
    },
    {
     "name": "stderr",
     "output_type": "stream",
     "text": [
      "/var/folders/z3/zc5j75dj0qn_z2sp8qf47q340000gn/T/ipykernel_75411/652174667.py:8: ResourceWarning: unclosed <socket.socket fd=94, family=AddressFamily.AF_INET, type=SocketKind.SOCK_STREAM, proto=6, laddr=('127.0.0.1', 56910), raddr=('127.0.0.1', 11434)>\n",
      "  analyzer = GraphRAGSystem(row[\"question\"])\n",
      "ResourceWarning: Enable tracemalloc to get the object allocation traceback\n"
     ]
    },
    {
     "name": "stdout",
     "output_type": "stream",
     "text": [
      "Question 216: What light-based treatment addresses wet AMD? a) LASIK b) Photodynamic therapy c) UV therapy d) Laser correction\n",
      "Context: T...\n",
      "Response: b\n",
      "\n"
     ]
    },
    {
     "name": "stderr",
     "output_type": "stream",
     "text": [
      "/var/folders/z3/zc5j75dj0qn_z2sp8qf47q340000gn/T/ipykernel_75411/652174667.py:8: ResourceWarning: unclosed <socket.socket fd=94, family=AddressFamily.AF_INET, type=SocketKind.SOCK_STREAM, proto=6, laddr=('127.0.0.1', 56939), raddr=('127.0.0.1', 11434)>\n",
      "  analyzer = GraphRAGSystem(row[\"question\"])\n",
      "ResourceWarning: Enable tracemalloc to get the object allocation traceback\n"
     ]
    },
    {
     "name": "stdout",
     "output_type": "stream",
     "text": [
      "Question 217: Does AMD elevate physical hazards for seniors? a) Falls b) Fractures c) Sprains d) Bruising\n",
      "Context: T...\n",
      "Response: A\n",
      "\n"
     ]
    },
    {
     "name": "stderr",
     "output_type": "stream",
     "text": [
      "/var/folders/z3/zc5j75dj0qn_z2sp8qf47q340000gn/T/ipykernel_75411/652174667.py:8: ResourceWarning: unclosed <socket.socket fd=94, family=AddressFamily.AF_INET, type=SocketKind.SOCK_STREAM, proto=6, laddr=('127.0.0.1', 56975), raddr=('127.0.0.1', 11434)>\n",
      "  analyzer = GraphRAGSystem(row[\"question\"])\n",
      "ResourceWarning: Enable tracemalloc to get the object allocation traceback\n"
     ]
    },
    {
     "name": "stdout",
     "output_type": "stream",
     "text": [
      "Question 218: Does AMD usually start in one eye only? a) Yes b) No c) Always d) Rarely\n",
      "Context: T...\n",
      "Response: a) Yes\n",
      "\n"
     ]
    },
    {
     "name": "stderr",
     "output_type": "stream",
     "text": [
      "/var/folders/z3/zc5j75dj0qn_z2sp8qf47q340000gn/T/ipykernel_75411/652174667.py:8: ResourceWarning: unclosed <socket.socket fd=94, family=AddressFamily.AF_INET, type=SocketKind.SOCK_STREAM, proto=6, laddr=('127.0.0.1', 57002), raddr=('127.0.0.1', 11434)>\n",
      "  analyzer = GraphRAGSystem(row[\"question\"])\n",
      "ResourceWarning: Enable tracemalloc to get the object allocation traceback\n"
     ]
    },
    {
     "name": "stdout",
     "output_type": "stream",
     "text": [
      "Question 219: What supplement formula helps manage dry AMD? a) AREDS b) High-dose calcium c) Iron supplements d) Protein shakes\n",
      "Context: T...\n",
      "Response: A\n",
      "\n"
     ]
    },
    {
     "name": "stderr",
     "output_type": "stream",
     "text": [
      "/var/folders/z3/zc5j75dj0qn_z2sp8qf47q340000gn/T/ipykernel_75411/652174667.py:8: ResourceWarning: unclosed <socket.socket fd=94, family=AddressFamily.AF_INET, type=SocketKind.SOCK_STREAM, proto=6, laddr=('127.0.0.1', 57032), raddr=('127.0.0.1', 11434)>\n",
      "  analyzer = GraphRAGSystem(row[\"question\"])\n",
      "ResourceWarning: Enable tracemalloc to get the object allocation traceback\n"
     ]
    },
    {
     "name": "stdout",
     "output_type": "stream",
     "text": [
      "Question 220: Which population has the highest AMD prevalence? a) Caucasians b) African Americans c) Asians d) Latinos\n",
      "Context: T...\n",
      "Response: c\n",
      "\n"
     ]
    },
    {
     "name": "stderr",
     "output_type": "stream",
     "text": [
      "/var/folders/z3/zc5j75dj0qn_z2sp8qf47q340000gn/T/ipykernel_75411/652174667.py:8: ResourceWarning: unclosed <socket.socket fd=94, family=AddressFamily.AF_INET, type=SocketKind.SOCK_STREAM, proto=6, laddr=('127.0.0.1', 57056), raddr=('127.0.0.1', 11434)>\n",
      "  analyzer = GraphRAGSystem(row[\"question\"])\n",
      "ResourceWarning: Enable tracemalloc to get the object allocation traceback\n"
     ]
    },
    {
     "name": "stdout",
     "output_type": "stream",
     "text": [
      "Question 221: Does wet AMD guarantee total vision loss? a) Yes b) No c) Often d) Rarely\n",
      "Context: T...\n",
      "Response: b) No\n",
      "\n"
     ]
    },
    {
     "name": "stderr",
     "output_type": "stream",
     "text": [
      "/var/folders/z3/zc5j75dj0qn_z2sp8qf47q340000gn/T/ipykernel_75411/652174667.py:8: ResourceWarning: unclosed <socket.socket fd=94, family=AddressFamily.AF_INET, type=SocketKind.SOCK_STREAM, proto=6, laddr=('127.0.0.1', 57081), raddr=('127.0.0.1', 11434)>\n",
      "  analyzer = GraphRAGSystem(row[\"question\"])\n",
      "ResourceWarning: Enable tracemalloc to get the object allocation traceback\n"
     ]
    },
    {
     "name": "stdout",
     "output_type": "stream",
     "text": [
      "Question 222: What visual effect does AMD often cause? a) Wavy lines b) Peripheral loss c) Flickering lights d) Blurred edges\n",
      "Context: A...\n",
      "Response: b\n",
      "\n"
     ]
    },
    {
     "name": "stderr",
     "output_type": "stream",
     "text": [
      "/var/folders/z3/zc5j75dj0qn_z2sp8qf47q340000gn/T/ipykernel_75411/652174667.py:8: ResourceWarning: unclosed <socket.socket fd=94, family=AddressFamily.AF_INET, type=SocketKind.SOCK_STREAM, proto=6, laddr=('127.0.0.1', 57119), raddr=('127.0.0.1', 11434)>\n",
      "  analyzer = GraphRAGSystem(row[\"question\"])\n",
      "ResourceWarning: Enable tracemalloc to get the object allocation traceback\n"
     ]
    },
    {
     "name": "stdout",
     "output_type": "stream",
     "text": [
      "Question 223: Is AMD a viral disease? a) Yes b) No c) Sometimes d) Only wet AMD\n",
      "Context: T...\n",
      "Response: b\n",
      "\n"
     ]
    },
    {
     "name": "stderr",
     "output_type": "stream",
     "text": [
      "/var/folders/z3/zc5j75dj0qn_z2sp8qf47q340000gn/T/ipykernel_75411/652174667.py:8: ResourceWarning: unclosed <socket.socket fd=94, family=AddressFamily.AF_INET, type=SocketKind.SOCK_STREAM, proto=6, laddr=('127.0.0.1', 57147), raddr=('127.0.0.1', 11434)>\n",
      "  analyzer = GraphRAGSystem(row[\"question\"])\n",
      "ResourceWarning: Enable tracemalloc to get the object allocation traceback\n"
     ]
    },
    {
     "name": "stdout",
     "output_type": "stream",
     "text": [
      "Question 224: Which spatial perception does AMD alter? a) Depth perception b) Sound location c) Smell direction d) Touch precision\n",
      "Context: T...\n",
      "Response: a) Depth perception.\n",
      "\n"
     ]
    },
    {
     "name": "stderr",
     "output_type": "stream",
     "text": [
      "/var/folders/z3/zc5j75dj0qn_z2sp8qf47q340000gn/T/ipykernel_75411/652174667.py:8: ResourceWarning: unclosed <socket.socket fd=94, family=AddressFamily.AF_INET, type=SocketKind.SOCK_STREAM, proto=6, laddr=('127.0.0.1', 57177), raddr=('127.0.0.1', 11434)>\n",
      "  analyzer = GraphRAGSystem(row[\"question\"])\n",
      "ResourceWarning: Enable tracemalloc to get the object allocation traceback\n"
     ]
    },
    {
     "name": "stdout",
     "output_type": "stream",
     "text": [
      "Question 225: Can AMD occur in infants? a) Yes b) No c) Rarely d) Only genetically\n",
      "Context: S...\n",
      "Response: A) Yes\n",
      "\n"
     ]
    },
    {
     "name": "stderr",
     "output_type": "stream",
     "text": [
      "/var/folders/z3/zc5j75dj0qn_z2sp8qf47q340000gn/T/ipykernel_75411/652174667.py:8: ResourceWarning: unclosed <socket.socket fd=94, family=AddressFamily.AF_INET, type=SocketKind.SOCK_STREAM, proto=6, laddr=('127.0.0.1', 57199), raddr=('127.0.0.1', 11434)>\n",
      "  analyzer = GraphRAGSystem(row[\"question\"])\n",
      "ResourceWarning: Enable tracemalloc to get the object allocation traceback\n"
     ]
    },
    {
     "name": "stdout",
     "output_type": "stream",
     "text": [
      "Question 226: Does AMD typically require optical aids? a) Yes b) No c) Sometimes d) Never\n",
      "Context: T...\n",
      "Response: a) Yes\n",
      "\n"
     ]
    },
    {
     "name": "stderr",
     "output_type": "stream",
     "text": [
      "/var/folders/z3/zc5j75dj0qn_z2sp8qf47q340000gn/T/ipykernel_75411/652174667.py:8: ResourceWarning: unclosed <socket.socket fd=94, family=AddressFamily.AF_INET, type=SocketKind.SOCK_STREAM, proto=6, laddr=('127.0.0.1', 57224), raddr=('127.0.0.1', 11434)>\n",
      "  analyzer = GraphRAGSystem(row[\"question\"])\n",
      "ResourceWarning: Enable tracemalloc to get the object allocation traceback\n"
     ]
    },
    {
     "name": "stdout",
     "output_type": "stream",
     "text": [
      "Question 227: What environmental factor contributes to AMD? a) Noise b) UV light c) Humidity d) Cold\n",
      "Context: T...\n",
      "Response: c)\n",
      "\n"
     ]
    },
    {
     "name": "stderr",
     "output_type": "stream",
     "text": [
      "/var/folders/z3/zc5j75dj0qn_z2sp8qf47q340000gn/T/ipykernel_75411/652174667.py:8: ResourceWarning: unclosed <socket.socket fd=94, family=AddressFamily.AF_INET, type=SocketKind.SOCK_STREAM, proto=6, laddr=('127.0.0.1', 57246), raddr=('127.0.0.1', 11434)>\n",
      "  analyzer = GraphRAGSystem(row[\"question\"])\n",
      "ResourceWarning: Enable tracemalloc to get the object allocation traceback\n"
     ]
    },
    {
     "name": "stdout",
     "output_type": "stream",
     "text": [
      "Question 228: Can exercise alone cure AMD? a) Yes b) No c) Partially d) Only early stages\n",
      "Context: T...\n",
      "Response: b\n",
      "\n"
     ]
    },
    {
     "name": "stderr",
     "output_type": "stream",
     "text": [
      "/var/folders/z3/zc5j75dj0qn_z2sp8qf47q340000gn/T/ipykernel_75411/652174667.py:8: ResourceWarning: unclosed <socket.socket fd=94, family=AddressFamily.AF_INET, type=SocketKind.SOCK_STREAM, proto=6, laddr=('127.0.0.1', 57269), raddr=('127.0.0.1', 11434)>\n",
      "  analyzer = GraphRAGSystem(row[\"question\"])\n",
      "ResourceWarning: Enable tracemalloc to get the object allocation traceback\n"
     ]
    },
    {
     "name": "stdout",
     "output_type": "stream",
     "text": [
      "Question 229: Which vision aspect remains most intact with AMD? a) Central vision b) Peripheral vision c) Night vision d) Color vision\n",
      "Context: T...\n",
      "Response: B\n",
      "\n"
     ]
    },
    {
     "name": "stderr",
     "output_type": "stream",
     "text": [
      "/var/folders/z3/zc5j75dj0qn_z2sp8qf47q340000gn/T/ipykernel_75411/652174667.py:8: ResourceWarning: unclosed <socket.socket fd=94, family=AddressFamily.AF_INET, type=SocketKind.SOCK_STREAM, proto=6, laddr=('127.0.0.1', 57294), raddr=('127.0.0.1', 11434)>\n",
      "  analyzer = GraphRAGSystem(row[\"question\"])\n",
      "ResourceWarning: Enable tracemalloc to get the object allocation traceback\n"
     ]
    },
    {
     "name": "stdout",
     "output_type": "stream",
     "text": [
      "Question 230: What exam confirms AMD presence? a) Blood test b) Dilated eye exam c) Hearing test d) Skin test\n",
      "Context: T...\n",
      "Response: b\n",
      "\n"
     ]
    },
    {
     "name": "stderr",
     "output_type": "stream",
     "text": [
      "/var/folders/z3/zc5j75dj0qn_z2sp8qf47q340000gn/T/ipykernel_75411/652174667.py:8: ResourceWarning: unclosed <socket.socket fd=94, family=AddressFamily.AF_INET, type=SocketKind.SOCK_STREAM, proto=6, laddr=('127.0.0.1', 57319), raddr=('127.0.0.1', 11434)>\n",
      "  analyzer = GraphRAGSystem(row[\"question\"])\n",
      "ResourceWarning: Enable tracemalloc to get the object allocation traceback\n"
     ]
    },
    {
     "name": "stdout",
     "output_type": "stream",
     "text": [
      "Question 231: Does dim lighting directly cause AMD? a) Yes b) No c) Sometimes d) Only prolonged\n",
      "Context: T...\n",
      "Response: b\n",
      "\n"
     ]
    },
    {
     "name": "stderr",
     "output_type": "stream",
     "text": [
      "/var/folders/z3/zc5j75dj0qn_z2sp8qf47q340000gn/T/ipykernel_75411/652174667.py:8: ResourceWarning: unclosed <socket.socket fd=94, family=AddressFamily.AF_INET, type=SocketKind.SOCK_STREAM, proto=6, laddr=('127.0.0.1', 57343), raddr=('127.0.0.1', 11434)>\n",
      "  analyzer = GraphRAGSystem(row[\"question\"])\n",
      "ResourceWarning: Enable tracemalloc to get the object allocation traceback\n"
     ]
    },
    {
     "name": "stdout",
     "output_type": "stream",
     "text": [
      "Question 232: Which identification task does AMD complicate? a) Face recognition b) Sound identification c) Smell identification d) Taste identification\n",
      "Context: T...\n",
      "Response: A\n",
      "\n"
     ]
    },
    {
     "name": "stderr",
     "output_type": "stream",
     "text": [
      "/var/folders/z3/zc5j75dj0qn_z2sp8qf47q340000gn/T/ipykernel_75411/652174667.py:8: ResourceWarning: unclosed <socket.socket fd=94, family=AddressFamily.AF_INET, type=SocketKind.SOCK_STREAM, proto=6, laddr=('127.0.0.1', 57368), raddr=('127.0.0.1', 11434)>\n",
      "  analyzer = GraphRAGSystem(row[\"question\"])\n",
      "ResourceWarning: Enable tracemalloc to get the object allocation traceback\n"
     ]
    },
    {
     "name": "stdout",
     "output_type": "stream",
     "text": [
      "Question 233: Are antibiotics a standard AMD treatment? a) Yes b) No c) Sometimes d) Only for wet AMD\n",
      "Context: T...\n",
      "Response: b\n",
      "\n"
     ]
    },
    {
     "name": "stderr",
     "output_type": "stream",
     "text": [
      "/var/folders/z3/zc5j75dj0qn_z2sp8qf47q340000gn/T/ipykernel_75411/652174667.py:8: ResourceWarning: unclosed <socket.socket fd=94, family=AddressFamily.AF_INET, type=SocketKind.SOCK_STREAM, proto=6, laddr=('127.0.0.1', 57393), raddr=('127.0.0.1', 11434)>\n",
      "  analyzer = GraphRAGSystem(row[\"question\"])\n",
      "ResourceWarning: Enable tracemalloc to get the object allocation traceback\n"
     ]
    },
    {
     "name": "stdout",
     "output_type": "stream",
     "text": [
      "Question 234: What demographic trait most affects AMD risk? a) Age b) Height c) Weight d) Eye color\n",
      "Context: T...\n",
      "Response: A\n",
      "\n"
     ]
    },
    {
     "name": "stderr",
     "output_type": "stream",
     "text": [
      "/var/folders/z3/zc5j75dj0qn_z2sp8qf47q340000gn/T/ipykernel_75411/652174667.py:8: ResourceWarning: unclosed <socket.socket fd=94, family=AddressFamily.AF_INET, type=SocketKind.SOCK_STREAM, proto=6, laddr=('127.0.0.1', 57415), raddr=('127.0.0.1', 11434)>\n",
      "  analyzer = GraphRAGSystem(row[\"question\"])\n",
      "ResourceWarning: Enable tracemalloc to get the object allocation traceback\n"
     ]
    },
    {
     "name": "stdout",
     "output_type": "stream",
     "text": [
      "Question 235: Which retinal event defines wet AMD? a) Drusen increase b) Neovascularization c) Optic nerve swelling d) Lens clouding\n",
      "Context: T...\n",
      "Response: B\n",
      "\n"
     ]
    },
    {
     "name": "stderr",
     "output_type": "stream",
     "text": [
      "/var/folders/z3/zc5j75dj0qn_z2sp8qf47q340000gn/T/ipykernel_75411/652174667.py:8: ResourceWarning: unclosed <socket.socket fd=94, family=AddressFamily.AF_INET, type=SocketKind.SOCK_STREAM, proto=6, laddr=('127.0.0.1', 57450), raddr=('127.0.0.1', 11434)>\n",
      "  analyzer = GraphRAGSystem(row[\"question\"])\n",
      "ResourceWarning: Enable tracemalloc to get the object allocation traceback\n"
     ]
    },
    {
     "name": "stdout",
     "output_type": "stream",
     "text": [
      "Question 236: Can total sunlight avoidance prevent AMD? a) Yes b) No c) Partially d) Only with diet\n",
      "Context: T...\n",
      "Response: b)\n",
      "\n"
     ]
    },
    {
     "name": "stderr",
     "output_type": "stream",
     "text": [
      "/var/folders/z3/zc5j75dj0qn_z2sp8qf47q340000gn/T/ipykernel_75411/652174667.py:8: ResourceWarning: unclosed <socket.socket fd=94, family=AddressFamily.AF_INET, type=SocketKind.SOCK_STREAM, proto=6, laddr=('127.0.0.1', 57475), raddr=('127.0.0.1', 11434)>\n",
      "  analyzer = GraphRAGSystem(row[\"question\"])\n",
      "ResourceWarning: Enable tracemalloc to get the object allocation traceback\n"
     ]
    },
    {
     "name": "stdout",
     "output_type": "stream",
     "text": [
      "Question 237: Which nutrient is absent from AREDS supplements? a) Vitamin C b) Vitamin E c) Vitamin K d) Zinc\n",
      "Context: T...\n",
      "Response: c\n",
      "\n"
     ]
    },
    {
     "name": "stderr",
     "output_type": "stream",
     "text": [
      "/var/folders/z3/zc5j75dj0qn_z2sp8qf47q340000gn/T/ipykernel_75411/652174667.py:8: ResourceWarning: unclosed <socket.socket fd=94, family=AddressFamily.AF_INET, type=SocketKind.SOCK_STREAM, proto=6, laddr=('127.0.0.1', 57493), raddr=('127.0.0.1', 11434)>\n",
      "  analyzer = GraphRAGSystem(row[\"question\"])\n",
      "ResourceWarning: Enable tracemalloc to get the object allocation traceback\n"
     ]
    },
    {
     "name": "stdout",
     "output_type": "stream",
     "text": [
      "Question 238: What does fluorescein angiography detect in wet AMD? a) Drusen size b) Blood vessel leakage c) Lens clarity d) Corneal damage\n",
      "Context: F...\n",
      "Response: B\n",
      "\n"
     ]
    },
    {
     "name": "stderr",
     "output_type": "stream",
     "text": [
      "/var/folders/z3/zc5j75dj0qn_z2sp8qf47q340000gn/T/ipykernel_75411/652174667.py:8: ResourceWarning: unclosed <socket.socket fd=94, family=AddressFamily.AF_INET, type=SocketKind.SOCK_STREAM, proto=6, laddr=('127.0.0.1', 57519), raddr=('127.0.0.1', 11434)>\n",
      "  analyzer = GraphRAGSystem(row[\"question\"])\n",
      "ResourceWarning: Enable tracemalloc to get the object allocation traceback\n"
     ]
    },
    {
     "name": "stdout",
     "output_type": "stream",
     "text": [
      "Question 239: Which regions see higher AMD incidence? a) Tropical rural b) Developed urban c) Arctic rural d) Desert urban\n",
      "Context: T...\n",
      "Response: c)\n",
      "\n"
     ]
    },
    {
     "name": "stderr",
     "output_type": "stream",
     "text": [
      "/var/folders/z3/zc5j75dj0qn_z2sp8qf47q340000gn/T/ipykernel_75411/652174667.py:8: ResourceWarning: unclosed <socket.socket fd=94, family=AddressFamily.AF_INET, type=SocketKind.SOCK_STREAM, proto=6, laddr=('127.0.0.1', 57549), raddr=('127.0.0.1', 11434)>\n",
      "  analyzer = GraphRAGSystem(row[\"question\"])\n",
      "ResourceWarning: Enable tracemalloc to get the object allocation traceback\n"
     ]
    },
    {
     "name": "stdout",
     "output_type": "stream",
     "text": [
      "Question 240: Can wet AMD be fully reversed with current treatments? a) Yes b) No c) Sometimes d) Only early stages\n",
      "Context: T...\n",
      "Response: b\n",
      "\n"
     ]
    },
    {
     "name": "stderr",
     "output_type": "stream",
     "text": [
      "/var/folders/z3/zc5j75dj0qn_z2sp8qf47q340000gn/T/ipykernel_75411/652174667.py:8: ResourceWarning: unclosed <socket.socket fd=94, family=AddressFamily.AF_INET, type=SocketKind.SOCK_STREAM, proto=6, laddr=('127.0.0.1', 57568), raddr=('127.0.0.1', 11434)>\n",
      "  analyzer = GraphRAGSystem(row[\"question\"])\n",
      "ResourceWarning: Enable tracemalloc to get the object allocation traceback\n"
     ]
    },
    {
     "name": "stdout",
     "output_type": "stream",
     "text": [
      "Question 241: What retinal area is primarily involved in AMD? a) Optic disc b) Macula c) Peripheral retina d) Iris\n",
      "Context: T...\n",
      "Response: B\n",
      "\n"
     ]
    },
    {
     "name": "stderr",
     "output_type": "stream",
     "text": [
      "/var/folders/z3/zc5j75dj0qn_z2sp8qf47q340000gn/T/ipykernel_75411/652174667.py:8: ResourceWarning: unclosed <socket.socket fd=94, family=AddressFamily.AF_INET, type=SocketKind.SOCK_STREAM, proto=6, laddr=('127.0.0.1', 57595), raddr=('127.0.0.1', 11434)>\n",
      "  analyzer = GraphRAGSystem(row[\"question\"])\n",
      "ResourceWarning: Enable tracemalloc to get the object allocation traceback\n"
     ]
    },
    {
     "name": "stdout",
     "output_type": "stream",
     "text": [
      "Question 242: Is poor hygiene a direct cause of AMD? a) Yes b) No c) Sometimes d) Only severe cases\n",
      "Context: T...\n",
      "Response: b) No\n",
      "\n"
     ]
    },
    {
     "name": "stderr",
     "output_type": "stream",
     "text": [
      "/var/folders/z3/zc5j75dj0qn_z2sp8qf47q340000gn/T/ipykernel_75411/652174667.py:8: ResourceWarning: unclosed <socket.socket fd=94, family=AddressFamily.AF_INET, type=SocketKind.SOCK_STREAM, proto=6, laddr=('127.0.0.1', 57625), raddr=('127.0.0.1', 11434)>\n",
      "  analyzer = GraphRAGSystem(row[\"question\"])\n",
      "ResourceWarning: Enable tracemalloc to get the object allocation traceback\n"
     ]
    },
    {
     "name": "stdout",
     "output_type": "stream",
     "text": [
      "Question 243: What device assists AMD-related vision loss? a) Hearing aids b) Low vision aids c) Braces d) Pacemakers\n",
      "Context: T...\n",
      "Response: B\n",
      "\n"
     ]
    },
    {
     "name": "stderr",
     "output_type": "stream",
     "text": [
      "/var/folders/z3/zc5j75dj0qn_z2sp8qf47q340000gn/T/ipykernel_75411/652174667.py:8: ResourceWarning: unclosed <socket.socket fd=94, family=AddressFamily.AF_INET, type=SocketKind.SOCK_STREAM, proto=6, laddr=('127.0.0.1', 57648), raddr=('127.0.0.1', 11434)>\n",
      "  analyzer = GraphRAGSystem(row[\"question\"])\n",
      "ResourceWarning: Enable tracemalloc to get the object allocation traceback\n"
     ]
    },
    {
     "name": "stdout",
     "output_type": "stream",
     "text": [
      "Question 244: Which daily activity does AMD most impair? a) Driving b) Listening c) Tasting d) Smelling\n",
      "Context: T...\n",
      "Response: A\n",
      "\n"
     ]
    },
    {
     "name": "stderr",
     "output_type": "stream",
     "text": [
      "/var/folders/z3/zc5j75dj0qn_z2sp8qf47q340000gn/T/ipykernel_75411/652174667.py:8: ResourceWarning: unclosed <socket.socket fd=94, family=AddressFamily.AF_INET, type=SocketKind.SOCK_STREAM, proto=6, laddr=('127.0.0.1', 57671), raddr=('127.0.0.1', 11434)>\n",
      "  analyzer = GraphRAGSystem(row[\"question\"])\n",
      "ResourceWarning: Enable tracemalloc to get the object allocation traceback\n"
     ]
    },
    {
     "name": "stdout",
     "output_type": "stream",
     "text": [
      "Question 245: Does excessive alcohol directly trigger AMD? a) Yes b) No c) Sometimes d) Only with smoking\n",
      "Context: T...\n",
      "Response: b)\n",
      "\n"
     ]
    },
    {
     "name": "stderr",
     "output_type": "stream",
     "text": [
      "/var/folders/z3/zc5j75dj0qn_z2sp8qf47q340000gn/T/ipykernel_75411/652174667.py:8: ResourceWarning: unclosed <socket.socket fd=94, family=AddressFamily.AF_INET, type=SocketKind.SOCK_STREAM, proto=6, laddr=('127.0.0.1', 57694), raddr=('127.0.0.1', 11434)>\n",
      "  analyzer = GraphRAGSystem(row[\"question\"])\n",
      "ResourceWarning: Enable tracemalloc to get the object allocation traceback\n"
     ]
    },
    {
     "name": "stdout",
     "output_type": "stream",
     "text": [
      "Question 246: What genetic predisposition increases AMD risk? a) Eye color b) Family history c) Skin pigmentation d) Hair thickness\n",
      "Context: T...\n",
      "Response: B\n",
      "\n"
     ]
    },
    {
     "name": "stderr",
     "output_type": "stream",
     "text": [
      "/var/folders/z3/zc5j75dj0qn_z2sp8qf47q340000gn/T/ipykernel_75411/652174667.py:8: ResourceWarning: unclosed <socket.socket fd=94, family=AddressFamily.AF_INET, type=SocketKind.SOCK_STREAM, proto=6, laddr=('127.0.0.1', 57714), raddr=('127.0.0.1', 11434)>\n",
      "  analyzer = GraphRAGSystem(row[\"question\"])\n",
      "ResourceWarning: Enable tracemalloc to get the object allocation traceback\n"
     ]
    },
    {
     "name": "stdout",
     "output_type": "stream",
     "text": [
      "Question 247: Which retinal issue is specific to wet AMD? a) Drusen growth b) Subretinal hemorrhage c) Optic nerve thinning d) Lens detachment\n",
      "Context: T...\n",
      "Response: B.\n",
      "\n"
     ]
    },
    {
     "name": "stderr",
     "output_type": "stream",
     "text": [
      "/var/folders/z3/zc5j75dj0qn_z2sp8qf47q340000gn/T/ipykernel_75411/652174667.py:8: ResourceWarning: unclosed <socket.socket fd=94, family=AddressFamily.AF_INET, type=SocketKind.SOCK_STREAM, proto=6, laddr=('127.0.0.1', 57747), raddr=('127.0.0.1', 11434)>\n",
      "  analyzer = GraphRAGSystem(row[\"question\"])\n",
      "ResourceWarning: Enable tracemalloc to get the object allocation traceback\n"
     ]
    },
    {
     "name": "stdout",
     "output_type": "stream",
     "text": [
      "Question 248: Is staring at screens a primary AMD cause? a) Yes b) No c) Sometimes d) Only prolonged\n",
      "Context: T...\n",
      "Response: b\n",
      "\n"
     ]
    },
    {
     "name": "stderr",
     "output_type": "stream",
     "text": [
      "/var/folders/z3/zc5j75dj0qn_z2sp8qf47q340000gn/T/ipykernel_75411/652174667.py:8: ResourceWarning: unclosed <socket.socket fd=94, family=AddressFamily.AF_INET, type=SocketKind.SOCK_STREAM, proto=6, laddr=('127.0.0.1', 57777), raddr=('127.0.0.1', 11434)>\n",
      "  analyzer = GraphRAGSystem(row[\"question\"])\n",
      "ResourceWarning: Enable tracemalloc to get the object allocation traceback\n"
     ]
    },
    {
     "name": "stdout",
     "output_type": "stream",
     "text": [
      "Question 249: What regular checkup identifies AMD early? a) Blood test b) Eye exam c) Hearing test d) Skin exam\n",
      "Context: T...\n",
      "Response: b\n",
      "\n"
     ]
    },
    {
     "name": "stderr",
     "output_type": "stream",
     "text": [
      "/var/folders/z3/zc5j75dj0qn_z2sp8qf47q340000gn/T/ipykernel_75411/652174667.py:8: ResourceWarning: unclosed <socket.socket fd=94, family=AddressFamily.AF_INET, type=SocketKind.SOCK_STREAM, proto=6, laddr=('127.0.0.1', 57797), raddr=('127.0.0.1', 11434)>\n",
      "  analyzer = GraphRAGSystem(row[\"question\"])\n",
      "ResourceWarning: Enable tracemalloc to get the object allocation traceback\n"
     ]
    },
    {
     "name": "stdout",
     "output_type": "stream",
     "text": [
      "Question 250: Are floaters a typical AMD symptom? a) Yes b) No c) Sometimes d) Only late stages\n",
      "Context: T...\n",
      "Response: a) Yes\n",
      "\n"
     ]
    },
    {
     "name": "stderr",
     "output_type": "stream",
     "text": [
      "/var/folders/z3/zc5j75dj0qn_z2sp8qf47q340000gn/T/ipykernel_75411/652174667.py:8: ResourceWarning: unclosed <socket.socket fd=94, family=AddressFamily.AF_INET, type=SocketKind.SOCK_STREAM, proto=6, laddr=('127.0.0.1', 57819), raddr=('127.0.0.1', 11434)>\n",
      "  analyzer = GraphRAGSystem(row[\"question\"])\n",
      "ResourceWarning: Enable tracemalloc to get the object allocation traceback\n"
     ]
    },
    {
     "name": "stdout",
     "output_type": "stream",
     "text": [
      "Question 251: Which eye color may heighten AMD risk? a) Brown b) Blue c) Green d) Gray\n",
      "Context: T...\n",
      "Response: A\n",
      "\n"
     ]
    },
    {
     "name": "stderr",
     "output_type": "stream",
     "text": [
      "/var/folders/z3/zc5j75dj0qn_z2sp8qf47q340000gn/T/ipykernel_75411/652174667.py:8: ResourceWarning: unclosed <socket.socket fd=94, family=AddressFamily.AF_INET, type=SocketKind.SOCK_STREAM, proto=6, laddr=('127.0.0.1', 57844), raddr=('127.0.0.1', 11434)>\n",
      "  analyzer = GraphRAGSystem(row[\"question\"])\n",
      "ResourceWarning: Enable tracemalloc to get the object allocation traceback\n"
     ]
    },
    {
     "name": "stdout",
     "output_type": "stream",
     "text": [
      "Question 252: Can vitamin E alone cure AMD? a) Yes b) No c) Sometimes d) Only with zinc\n",
      "Context: T...\n",
      "Response: b)\n",
      "\n"
     ]
    },
    {
     "name": "stderr",
     "output_type": "stream",
     "text": [
      "/var/folders/z3/zc5j75dj0qn_z2sp8qf47q340000gn/T/ipykernel_75411/652174667.py:8: ResourceWarning: unclosed <socket.socket fd=94, family=AddressFamily.AF_INET, type=SocketKind.SOCK_STREAM, proto=6, laddr=('127.0.0.1', 57873), raddr=('127.0.0.1', 11434)>\n",
      "  analyzer = GraphRAGSystem(row[\"question\"])\n",
      "ResourceWarning: Enable tracemalloc to get the object allocation traceback\n"
     ]
    },
    {
     "name": "stdout",
     "output_type": "stream",
     "text": [
      "Question 253: What vision defect is common in AMD? a) Peripheral blur b) Central blind spots c) Flashing lights d) Double images\n",
      "Context: T...\n",
      "Response: B\n",
      "\n"
     ]
    },
    {
     "name": "stderr",
     "output_type": "stream",
     "text": [
      "/var/folders/z3/zc5j75dj0qn_z2sp8qf47q340000gn/T/ipykernel_75411/652174667.py:8: ResourceWarning: unclosed <socket.socket fd=94, family=AddressFamily.AF_INET, type=SocketKind.SOCK_STREAM, proto=6, laddr=('127.0.0.1', 57901), raddr=('127.0.0.1', 11434)>\n",
      "  analyzer = GraphRAGSystem(row[\"question\"])\n",
      "ResourceWarning: Enable tracemalloc to get the object allocation traceback\n"
     ]
    },
    {
     "name": "stdout",
     "output_type": "stream",
     "text": [
      "Question 254: Does high fat intake directly cause AMD? a) Yes b) No c) Sometimes d) Only with obesity\n",
      "Context: T...\n",
      "Response: a) Yes\n",
      "\n"
     ]
    },
    {
     "name": "stderr",
     "output_type": "stream",
     "text": [
      "/var/folders/z3/zc5j75dj0qn_z2sp8qf47q340000gn/T/ipykernel_75411/652174667.py:8: ResourceWarning: unclosed <socket.socket fd=94, family=AddressFamily.AF_INET, type=SocketKind.SOCK_STREAM, proto=6, laddr=('127.0.0.1', 57926), raddr=('127.0.0.1', 11434)>\n",
      "  analyzer = GraphRAGSystem(row[\"question\"])\n",
      "ResourceWarning: Enable tracemalloc to get the object allocation traceback\n"
     ]
    },
    {
     "name": "stdout",
     "output_type": "stream",
     "text": [
      "Question 255: What lifestyle adjustment lowers AMD risk? a) More smoking b) Quitting smoking c) Less exercise d) High sugar diet\n",
      "Context: T...\n",
      "Response: b\n",
      "\n"
     ]
    },
    {
     "name": "stderr",
     "output_type": "stream",
     "text": [
      "/var/folders/z3/zc5j75dj0qn_z2sp8qf47q340000gn/T/ipykernel_75411/652174667.py:8: ResourceWarning: unclosed <socket.socket fd=94, family=AddressFamily.AF_INET, type=SocketKind.SOCK_STREAM, proto=6, laddr=('127.0.0.1', 57955), raddr=('127.0.0.1', 11434)>\n",
      "  analyzer = GraphRAGSystem(row[\"question\"])\n",
      "ResourceWarning: Enable tracemalloc to get the object allocation traceback\n"
     ]
    },
    {
     "name": "stdout",
     "output_type": "stream",
     "text": [
      "Question 256: Is night vision loss the main AMD effect? a) Yes b) No c) Sometimes d) Only wet AMD\n",
      "Context: T...\n",
      "Response: a) Yes\n",
      "\n"
     ]
    },
    {
     "name": "stderr",
     "output_type": "stream",
     "text": [
      "/var/folders/z3/zc5j75dj0qn_z2sp8qf47q340000gn/T/ipykernel_75411/652174667.py:8: ResourceWarning: unclosed <socket.socket fd=94, family=AddressFamily.AF_INET, type=SocketKind.SOCK_STREAM, proto=6, laddr=('127.0.0.1', 57987), raddr=('127.0.0.1', 11434)>\n",
      "  analyzer = GraphRAGSystem(row[\"question\"])\n",
      "ResourceWarning: Enable tracemalloc to get the object allocation traceback\n"
     ]
    },
    {
     "name": "stdout",
     "output_type": "stream",
     "text": [
      "Question 257: What retinal imaging aids AMD diagnosis? a) CT scan b) Retina scan c) MRI d) PET scan\n",
      "Context: T...\n",
      "Response: c) MRI\n",
      "\n"
     ]
    },
    {
     "name": "stderr",
     "output_type": "stream",
     "text": [
      "/var/folders/z3/zc5j75dj0qn_z2sp8qf47q340000gn/T/ipykernel_75411/652174667.py:8: ResourceWarning: unclosed <socket.socket fd=94, family=AddressFamily.AF_INET, type=SocketKind.SOCK_STREAM, proto=6, laddr=('127.0.0.1', 58015), raddr=('127.0.0.1', 11434)>\n",
      "  analyzer = GraphRAGSystem(row[\"question\"])\n",
      "ResourceWarning: Enable tracemalloc to get the object allocation traceback\n"
     ]
    },
    {
     "name": "stdout",
     "output_type": "stream",
     "text": [
      "Question 258: Can diet alone reverse wet AMD? a) Yes b) No c) Sometimes d) Only early stages\n",
      "Context: T...\n",
      "Response: b\n",
      "\n"
     ]
    },
    {
     "name": "stderr",
     "output_type": "stream",
     "text": [
      "/var/folders/z3/zc5j75dj0qn_z2sp8qf47q340000gn/T/ipykernel_75411/652174667.py:8: ResourceWarning: unclosed <socket.socket fd=94, family=AddressFamily.AF_INET, type=SocketKind.SOCK_STREAM, proto=6, laddr=('127.0.0.1', 58034), raddr=('127.0.0.1', 11434)>\n",
      "  analyzer = GraphRAGSystem(row[\"question\"])\n",
      "ResourceWarning: Enable tracemalloc to get the object allocation traceback\n"
     ]
    },
    {
     "name": "stdout",
     "output_type": "stream",
     "text": [
      "Question 259: Which visual skill does AMD affect? a) Low-light vision b) Sound detection c) Taste perception d) Balance\n",
      "Context: T...\n",
      "Response: The correct answer is: D) Balance.\n",
      "\n"
     ]
    },
    {
     "name": "stderr",
     "output_type": "stream",
     "text": [
      "/var/folders/z3/zc5j75dj0qn_z2sp8qf47q340000gn/T/ipykernel_75411/652174667.py:8: ResourceWarning: unclosed <socket.socket fd=94, family=AddressFamily.AF_INET, type=SocketKind.SOCK_STREAM, proto=6, laddr=('127.0.0.1', 58053), raddr=('127.0.0.1', 11434)>\n",
      "  analyzer = GraphRAGSystem(row[\"question\"])\n",
      "ResourceWarning: Enable tracemalloc to get the object allocation traceback\n"
     ]
    },
    {
     "name": "stdout",
     "output_type": "stream",
     "text": [
      "Question 260: Is sleep deprivation a direct AMD cause? a) Yes b) No c) Sometimes d) Only chronic\n",
      "Context: T...\n",
      "Response: b) No\n",
      "\n"
     ]
    },
    {
     "name": "stderr",
     "output_type": "stream",
     "text": [
      "/var/folders/z3/zc5j75dj0qn_z2sp8qf47q340000gn/T/ipykernel_75411/652174667.py:8: ResourceWarning: unclosed <socket.socket fd=94, family=AddressFamily.AF_INET, type=SocketKind.SOCK_STREAM, proto=6, laddr=('127.0.0.1', 58078), raddr=('127.0.0.1', 11434)>\n",
      "  analyzer = GraphRAGSystem(row[\"question\"])\n",
      "ResourceWarning: Enable tracemalloc to get the object allocation traceback\n"
     ]
    },
    {
     "name": "stdout",
     "output_type": "stream",
     "text": [
      "Question 261: What routine evaluation monitors AMD? a) Blood test b) Eye checkup c) Hearing exam d) Skin test\n",
      "Context: T...\n",
      "Response: B\n",
      "\n"
     ]
    },
    {
     "name": "stderr",
     "output_type": "stream",
     "text": [
      "/var/folders/z3/zc5j75dj0qn_z2sp8qf47q340000gn/T/ipykernel_75411/652174667.py:8: ResourceWarning: unclosed <socket.socket fd=94, family=AddressFamily.AF_INET, type=SocketKind.SOCK_STREAM, proto=6, laddr=('127.0.0.1', 58097), raddr=('127.0.0.1', 11434)>\n",
      "  analyzer = GraphRAGSystem(row[\"question\"])\n",
      "ResourceWarning: Enable tracemalloc to get the object allocation traceback\n"
     ]
    },
    {
     "name": "stdout",
     "output_type": "stream",
     "text": [
      "Question 262: Does dry AMD typically cause retinal bleeding? a) Yes b) No c) Sometimes d) Only late stages\n",
      "Context: T...\n",
      "Response: b)\n",
      "\n"
     ]
    },
    {
     "name": "stderr",
     "output_type": "stream",
     "text": [
      "/var/folders/z3/zc5j75dj0qn_z2sp8qf47q340000gn/T/ipykernel_75411/652174667.py:8: ResourceWarning: unclosed <socket.socket fd=94, family=AddressFamily.AF_INET, type=SocketKind.SOCK_STREAM, proto=6, laddr=('127.0.0.1', 58119), raddr=('127.0.0.1', 11434)>\n",
      "  analyzer = GraphRAGSystem(row[\"question\"])\n",
      "ResourceWarning: Enable tracemalloc to get the object allocation traceback\n"
     ]
    },
    {
     "name": "stdout",
     "output_type": "stream",
     "text": [
      "Question 263: Which group has lower AMD prevalence? a) Caucasians b) African Americans c) Asians d) Europeans\n",
      "Context: T...\n",
      "Response: c\n",
      "\n"
     ]
    },
    {
     "name": "stderr",
     "output_type": "stream",
     "text": [
      "/var/folders/z3/zc5j75dj0qn_z2sp8qf47q340000gn/T/ipykernel_75411/652174667.py:8: ResourceWarning: unclosed <socket.socket fd=94, family=AddressFamily.AF_INET, type=SocketKind.SOCK_STREAM, proto=6, laddr=('127.0.0.1', 58145), raddr=('127.0.0.1', 11434)>\n",
      "  analyzer = GraphRAGSystem(row[\"question\"])\n",
      "ResourceWarning: Enable tracemalloc to get the object allocation traceback\n"
     ]
    },
    {
     "name": "stdout",
     "output_type": "stream",
     "text": [
      "Question 264: Can advanced AMD lead to visual hallucinations? a) Yes b) No c) Rarely d) Only wet AMD\n",
      "Context: T...\n",
      "Response: a) Yes\n",
      "\n"
     ]
    },
    {
     "name": "stderr",
     "output_type": "stream",
     "text": [
      "/var/folders/z3/zc5j75dj0qn_z2sp8qf47q340000gn/T/ipykernel_75411/652174667.py:8: ResourceWarning: unclosed <socket.socket fd=94, family=AddressFamily.AF_INET, type=SocketKind.SOCK_STREAM, proto=6, laddr=('127.0.0.1', 58170), raddr=('127.0.0.1', 11434)>\n",
      "  analyzer = GraphRAGSystem(row[\"question\"])\n",
      "ResourceWarning: Enable tracemalloc to get the object allocation traceback\n"
     ]
    },
    {
     "name": "stdout",
     "output_type": "stream",
     "text": [
      "Question 265: Is AMD limited to those over 80? a) Yes b) No c) Usually d) Rarely\n",
      "Context: S...\n",
      "Response: b) No\n",
      "\n"
     ]
    },
    {
     "name": "stderr",
     "output_type": "stream",
     "text": [
      "/var/folders/z3/zc5j75dj0qn_z2sp8qf47q340000gn/T/ipykernel_75411/652174667.py:8: ResourceWarning: unclosed <socket.socket fd=94, family=AddressFamily.AF_INET, type=SocketKind.SOCK_STREAM, proto=6, laddr=('127.0.0.1', 58192), raddr=('127.0.0.1', 11434)>\n",
      "  analyzer = GraphRAGSystem(row[\"question\"])\n",
      "ResourceWarning: Enable tracemalloc to get the object allocation traceback\n"
     ]
    },
    {
     "name": "stdout",
     "output_type": "stream",
     "text": [
      "Question 266: What cellular stress is linked to AMD? a) Oxidative stress b) Bone stress c) Muscle stress d) Skin stress\n",
      "Context: T...\n",
      "Response: A\n",
      "\n"
     ]
    },
    {
     "name": "stderr",
     "output_type": "stream",
     "text": [
      "/var/folders/z3/zc5j75dj0qn_z2sp8qf47q340000gn/T/ipykernel_75411/652174667.py:8: ResourceWarning: unclosed <socket.socket fd=94, family=AddressFamily.AF_INET, type=SocketKind.SOCK_STREAM, proto=6, laddr=('127.0.0.1', 58214), raddr=('127.0.0.1', 11434)>\n",
      "  analyzer = GraphRAGSystem(row[\"question\"])\n",
      "ResourceWarning: Enable tracemalloc to get the object allocation traceback\n"
     ]
    },
    {
     "name": "stdout",
     "output_type": "stream",
     "text": [
      "Question 267: Is herbal therapy a standard AMD cure? a) Yes b) No c) Sometimes d) Only experimental\n",
      "Context: T...\n",
      "Response: d) Only experimental\n",
      "\n"
     ]
    },
    {
     "name": "stderr",
     "output_type": "stream",
     "text": [
      "/var/folders/z3/zc5j75dj0qn_z2sp8qf47q340000gn/T/ipykernel_75411/652174667.py:8: ResourceWarning: unclosed <socket.socket fd=94, family=AddressFamily.AF_INET, type=SocketKind.SOCK_STREAM, proto=6, laddr=('127.0.0.1', 58239), raddr=('127.0.0.1', 11434)>\n",
      "  analyzer = GraphRAGSystem(row[\"question\"])\n",
      "ResourceWarning: Enable tracemalloc to get the object allocation traceback\n"
     ]
    },
    {
     "name": "stdout",
     "output_type": "stream",
     "text": [
      "Question 268: Which psychological issue may AMD worsen? a) Depression b) Happiness c) Focus d) Energy\n",
      "Context: T...\n",
      "Response: The correct answer is a) Depression.\n",
      "\n"
     ]
    },
    {
     "name": "stderr",
     "output_type": "stream",
     "text": [
      "/var/folders/z3/zc5j75dj0qn_z2sp8qf47q340000gn/T/ipykernel_75411/652174667.py:8: ResourceWarning: unclosed <socket.socket fd=94, family=AddressFamily.AF_INET, type=SocketKind.SOCK_STREAM, proto=6, laddr=('127.0.0.1', 58264), raddr=('127.0.0.1', 11434)>\n",
      "  analyzer = GraphRAGSystem(row[\"question\"])\n",
      "ResourceWarning: Enable tracemalloc to get the object allocation traceback\n"
     ]
    },
    {
     "name": "stdout",
     "output_type": "stream",
     "text": [
      "Question 269: Do contact lenses directly induce AMD? a) Yes b) No c) Sometimes d) Only long-term\n",
      "Context: T...\n",
      "Response: b\n",
      "\n"
     ]
    },
    {
     "name": "stderr",
     "output_type": "stream",
     "text": [
      "/var/folders/z3/zc5j75dj0qn_z2sp8qf47q340000gn/T/ipykernel_75411/652174667.py:8: ResourceWarning: unclosed <socket.socket fd=94, family=AddressFamily.AF_INET, type=SocketKind.SOCK_STREAM, proto=6, laddr=('127.0.0.1', 58290), raddr=('127.0.0.1', 11434)>\n",
      "  analyzer = GraphRAGSystem(row[\"question\"])\n",
      "ResourceWarning: Enable tracemalloc to get the object allocation traceback\n"
     ]
    },
    {
     "name": "stdout",
     "output_type": "stream",
     "text": [
      "Question 270: What photographic technique assists AMD diagnosis? a) Fundus photography b) X-ray c) Infrared scan d) Ultrasound\n",
      "Context: T...\n",
      "Response: A\n",
      "The best answer is A.\n",
      "\n"
     ]
    },
    {
     "name": "stderr",
     "output_type": "stream",
     "text": [
      "/var/folders/z3/zc5j75dj0qn_z2sp8qf47q340000gn/T/ipykernel_75411/652174667.py:8: ResourceWarning: unclosed <socket.socket fd=94, family=AddressFamily.AF_INET, type=SocketKind.SOCK_STREAM, proto=6, laddr=('127.0.0.1', 58309), raddr=('127.0.0.1', 11434)>\n",
      "  analyzer = GraphRAGSystem(row[\"question\"])\n",
      "ResourceWarning: Enable tracemalloc to get the object allocation traceback\n"
     ]
    },
    {
     "name": "stdout",
     "output_type": "stream",
     "text": [
      "Question 271: Does wet AMD frequently cause retinal scarring? a) Yes b) No c) Rarely d) Only early stages\n",
      "Context: S...\n",
      "Response: a) Yes\n",
      "\n"
     ]
    },
    {
     "name": "stderr",
     "output_type": "stream",
     "text": [
      "/var/folders/z3/zc5j75dj0qn_z2sp8qf47q340000gn/T/ipykernel_75411/652174667.py:8: ResourceWarning: unclosed <socket.socket fd=94, family=AddressFamily.AF_INET, type=SocketKind.SOCK_STREAM, proto=6, laddr=('127.0.0.1', 58332), raddr=('127.0.0.1', 11434)>\n",
      "  analyzer = GraphRAGSystem(row[\"question\"])\n",
      "ResourceWarning: Enable tracemalloc to get the object allocation traceback\n"
     ]
    },
    {
     "name": "stdout",
     "output_type": "stream",
     "text": [
      "Question 272: Is vitamin B12 deficiency a direct AMD cause? a) Yes b) No c) Sometimes d) Unknown\n",
      "Context: T...\n",
      "Response: b\n",
      "\n"
     ]
    },
    {
     "name": "stderr",
     "output_type": "stream",
     "text": [
      "/var/folders/z3/zc5j75dj0qn_z2sp8qf47q340000gn/T/ipykernel_75411/652174667.py:8: ResourceWarning: unclosed <socket.socket fd=94, family=AddressFamily.AF_INET, type=SocketKind.SOCK_STREAM, proto=6, laddr=('127.0.0.1', 58357), raddr=('127.0.0.1', 11434)>\n",
      "  analyzer = GraphRAGSystem(row[\"question\"])\n",
      "ResourceWarning: Enable tracemalloc to get the object allocation traceback\n"
     ]
    },
    {
     "name": "stdout",
     "output_type": "stream",
     "text": [
      "Question 273: Which spatial skill does AMD disrupt? a) Distance judgment b) Sound direction c) Taste distinction d) Smell detection\n",
      "Context: T...\n",
      "Response: The correct answer is: a) Distance judgment.\n",
      "\n"
     ]
    },
    {
     "name": "stderr",
     "output_type": "stream",
     "text": [
      "/var/folders/z3/zc5j75dj0qn_z2sp8qf47q340000gn/T/ipykernel_75411/652174667.py:8: ResourceWarning: unclosed <socket.socket fd=94, family=AddressFamily.AF_INET, type=SocketKind.SOCK_STREAM, proto=6, laddr=('127.0.0.1', 58376), raddr=('127.0.0.1', 11434)>\n",
      "  analyzer = GraphRAGSystem(row[\"question\"])\n",
      "ResourceWarning: Enable tracemalloc to get the object allocation traceback\n"
     ]
    },
    {
     "name": "stdout",
     "output_type": "stream",
     "text": [
      "Question 274: Does dry AMD always progress to wet AMD? a) Yes b) No c) Often d) Rarely\n",
      "Context: T...\n",
      "Response: b\n",
      "\n"
     ]
    },
    {
     "name": "stderr",
     "output_type": "stream",
     "text": [
      "/var/folders/z3/zc5j75dj0qn_z2sp8qf47q340000gn/T/ipykernel_75411/652174667.py:8: ResourceWarning: unclosed <socket.socket fd=94, family=AddressFamily.AF_INET, type=SocketKind.SOCK_STREAM, proto=6, laddr=('127.0.0.1', 58400), raddr=('127.0.0.1', 11434)>\n",
      "  analyzer = GraphRAGSystem(row[\"question\"])\n",
      "ResourceWarning: Enable tracemalloc to get the object allocation traceback\n"
     ]
    },
    {
     "name": "stdout",
     "output_type": "stream",
     "text": [
      "Question 275: What is the estimated U.S. AMD prevalence? a) 3 million b) 7 million c) 11 million d) 18 million\n",
      "Context: T...\n",
      "Response: c\n",
      "\n"
     ]
    },
    {
     "name": "stderr",
     "output_type": "stream",
     "text": [
      "/var/folders/z3/zc5j75dj0qn_z2sp8qf47q340000gn/T/ipykernel_75411/652174667.py:8: ResourceWarning: unclosed <socket.socket fd=94, family=AddressFamily.AF_INET, type=SocketKind.SOCK_STREAM, proto=6, laddr=('127.0.0.1', 58426), raddr=('127.0.0.1', 11434)>\n",
      "  analyzer = GraphRAGSystem(row[\"question\"])\n",
      "ResourceWarning: Enable tracemalloc to get the object allocation traceback\n"
     ]
    },
    {
     "name": "stdout",
     "output_type": "stream",
     "text": [
      "Question 276: Can avoiding all protein prevent wet AMD? a) Yes b) No c) Sometimes d) Only with diet\n",
      "Context: T...\n",
      "Response: b) No\n",
      "\n"
     ]
    },
    {
     "name": "stderr",
     "output_type": "stream",
     "text": [
      "/var/folders/z3/zc5j75dj0qn_z2sp8qf47q340000gn/T/ipykernel_75411/652174667.py:8: ResourceWarning: unclosed <socket.socket fd=94, family=AddressFamily.AF_INET, type=SocketKind.SOCK_STREAM, proto=6, laddr=('127.0.0.1', 58445), raddr=('127.0.0.1', 11434)>\n",
      "  analyzer = GraphRAGSystem(row[\"question\"])\n",
      "ResourceWarning: Enable tracemalloc to get the object allocation traceback\n"
     ]
    },
    {
     "name": "stdout",
     "output_type": "stream",
     "text": [
      "Question 277: Which retinal sign is most associated with intermediate AMD? a) Fluid buildup b) Large drusen c) Optic nerve damage d) Corneal haze\n",
      "Context: T...\n",
      "Response: A\n",
      "\n",
      "\n",
      "    The correct answer is A, as fluid buildup is more commonly associated with intermediate AMD.\n",
      "\n"
     ]
    },
    {
     "name": "stderr",
     "output_type": "stream",
     "text": [
      "/var/folders/z3/zc5j75dj0qn_z2sp8qf47q340000gn/T/ipykernel_75411/652174667.py:8: ResourceWarning: unclosed <socket.socket fd=94, family=AddressFamily.AF_INET, type=SocketKind.SOCK_STREAM, proto=6, laddr=('127.0.0.1', 58468), raddr=('127.0.0.1', 11434)>\n",
      "  analyzer = GraphRAGSystem(row[\"question\"])\n",
      "ResourceWarning: Enable tracemalloc to get the object allocation traceback\n"
     ]
    },
    {
     "name": "stdout",
     "output_type": "stream",
     "text": [
      "Question 278: What is a distinguishing feature of wet AMD onset? a) Slow peripheral loss b) Rapid central distortion c) Color enhancement d) Eye irritation\n",
      "Context: T...\n",
      "Response: B\n",
      "\n"
     ]
    },
    {
     "name": "stderr",
     "output_type": "stream",
     "text": [
      "/var/folders/z3/zc5j75dj0qn_z2sp8qf47q340000gn/T/ipykernel_75411/652174667.py:8: ResourceWarning: unclosed <socket.socket fd=94, family=AddressFamily.AF_INET, type=SocketKind.SOCK_STREAM, proto=6, laddr=('127.0.0.1', 58490), raddr=('127.0.0.1', 11434)>\n",
      "  analyzer = GraphRAGSystem(row[\"question\"])\n",
      "ResourceWarning: Enable tracemalloc to get the object allocation traceback\n"
     ]
    },
    {
     "name": "stdout",
     "output_type": "stream",
     "text": [
      "Question 279: What advanced condition does dry AMD potentially lead to? a) Retinal tear b) Geographic atrophy c) Glaucoma d) Cataract\n",
      "Context: T...\n",
      "Response: B\n",
      "\n"
     ]
    },
    {
     "name": "stderr",
     "output_type": "stream",
     "text": [
      "/var/folders/z3/zc5j75dj0qn_z2sp8qf47q340000gn/T/ipykernel_75411/652174667.py:8: ResourceWarning: unclosed <socket.socket fd=94, family=AddressFamily.AF_INET, type=SocketKind.SOCK_STREAM, proto=6, laddr=('127.0.0.1', 58519), raddr=('127.0.0.1', 11434)>\n",
      "  analyzer = GraphRAGSystem(row[\"question\"])\n",
      "ResourceWarning: Enable tracemalloc to get the object allocation traceback\n"
     ]
    },
    {
     "name": "stdout",
     "output_type": "stream",
     "text": [
      "Question 280: Which behavior is a well-established AMD risk? a) Smoking b) Yoga c) Drinking water d) Light exercise\n",
      "Context: T...\n",
      "Response: A\n",
      "\n"
     ]
    },
    {
     "name": "stderr",
     "output_type": "stream",
     "text": [
      "/var/folders/z3/zc5j75dj0qn_z2sp8qf47q340000gn/T/ipykernel_75411/652174667.py:8: ResourceWarning: unclosed <socket.socket fd=94, family=AddressFamily.AF_INET, type=SocketKind.SOCK_STREAM, proto=6, laddr=('127.0.0.1', 58547), raddr=('127.0.0.1', 11434)>\n",
      "  analyzer = GraphRAGSystem(row[\"question\"])\n",
      "ResourceWarning: Enable tracemalloc to get the object allocation traceback\n"
     ]
    },
    {
     "name": "stdout",
     "output_type": "stream",
     "text": [
      "Question 281: Which AMD form features choroidal neovascularization? a) Dry AMD b) Wet AMD c) Early AMD d) Late dry AMD\n",
      "Context: T...\n",
      "Response: B\n",
      "\n"
     ]
    },
    {
     "name": "stderr",
     "output_type": "stream",
     "text": [
      "/var/folders/z3/zc5j75dj0qn_z2sp8qf47q340000gn/T/ipykernel_75411/652174667.py:8: ResourceWarning: unclosed <socket.socket fd=94, family=AddressFamily.AF_INET, type=SocketKind.SOCK_STREAM, proto=6, laddr=('127.0.0.1', 58569), raddr=('127.0.0.1', 11434)>\n",
      "  analyzer = GraphRAGSystem(row[\"question\"])\n",
      "ResourceWarning: Enable tracemalloc to get the object allocation traceback\n"
     ]
    },
    {
     "name": "stdout",
     "output_type": "stream",
     "text": [
      "Question 282: Is there a definitive cure for AMD as of 2025? a) Yes b) No c) In trials d) Only wet AMD\n",
      "Context: T...\n",
      "Response: b\n",
      "\n"
     ]
    },
    {
     "name": "stderr",
     "output_type": "stream",
     "text": [
      "/var/folders/z3/zc5j75dj0qn_z2sp8qf47q340000gn/T/ipykernel_75411/652174667.py:8: ResourceWarning: unclosed <socket.socket fd=94, family=AddressFamily.AF_INET, type=SocketKind.SOCK_STREAM, proto=6, laddr=('127.0.0.1', 58614), raddr=('127.0.0.1', 11434)>\n",
      "  analyzer = GraphRAGSystem(row[\"question\"])\n",
      "ResourceWarning: Enable tracemalloc to get the object allocation traceback\n"
     ]
    },
    {
     "name": "stdout",
     "output_type": "stream",
     "text": [
      "Question 283: What drug class treats wet AMD by targeting blood vessels? a) Anti-VEGF b) Antibiotics c) Steroids d) Analgesics\n",
      "Context: T...\n",
      "Response: A\n",
      "\n"
     ]
    },
    {
     "name": "stderr",
     "output_type": "stream",
     "text": [
      "/var/folders/z3/zc5j75dj0qn_z2sp8qf47q340000gn/T/ipykernel_75411/652174667.py:8: ResourceWarning: unclosed <socket.socket fd=94, family=AddressFamily.AF_INET, type=SocketKind.SOCK_STREAM, proto=6, laddr=('127.0.0.1', 58648), raddr=('127.0.0.1', 11434)>\n",
      "  analyzer = GraphRAGSystem(row[\"question\"])\n",
      "ResourceWarning: Enable tracemalloc to get the object allocation traceback\n"
     ]
    },
    {
     "name": "stdout",
     "output_type": "stream",
     "text": [
      "Question 284: Which visual field is most preserved in AMD? a) Central b) Peripheral c) Color d) Depth\n",
      "Context: T...\n",
      "Response: c) Color.\n",
      "\n"
     ]
    },
    {
     "name": "stderr",
     "output_type": "stream",
     "text": [
      "/var/folders/z3/zc5j75dj0qn_z2sp8qf47q340000gn/T/ipykernel_75411/652174667.py:8: ResourceWarning: unclosed <socket.socket fd=94, family=AddressFamily.AF_INET, type=SocketKind.SOCK_STREAM, proto=6, laddr=('127.0.0.1', 58677), raddr=('127.0.0.1', 11434)>\n",
      "  analyzer = GraphRAGSystem(row[\"question\"])\n",
      "ResourceWarning: Enable tracemalloc to get the object allocation traceback\n"
     ]
    },
    {
     "name": "stdout",
     "output_type": "stream",
     "text": [
      "Question 285: What familial trait heightens AMD risk? a) Family history b) Eye shape c) Skin tone d) Hair color\n",
      "Context: T...\n",
      "Response: b\n",
      "\n"
     ]
    },
    {
     "name": "stderr",
     "output_type": "stream",
     "text": [
      "/var/folders/z3/zc5j75dj0qn_z2sp8qf47q340000gn/T/ipykernel_75411/652174667.py:8: ResourceWarning: unclosed <socket.socket fd=94, family=AddressFamily.AF_INET, type=SocketKind.SOCK_STREAM, proto=6, laddr=('127.0.0.1', 58703), raddr=('127.0.0.1', 11434)>\n",
      "  analyzer = GraphRAGSystem(row[\"question\"])\n",
      "ResourceWarning: Enable tracemalloc to get the object allocation traceback\n"
     ]
    },
    {
     "name": "stdout",
     "output_type": "stream",
     "text": [
      "Question 286: Which method is not used to diagnose AMD? a) OCT b) Amsler grid c) Lung function test d) Fundus photography\n",
      "Context: T...\n",
      "Response: c) Lung function test.\n",
      "\n"
     ]
    },
    {
     "name": "stderr",
     "output_type": "stream",
     "text": [
      "/var/folders/z3/zc5j75dj0qn_z2sp8qf47q340000gn/T/ipykernel_75411/652174667.py:8: ResourceWarning: unclosed <socket.socket fd=94, family=AddressFamily.AF_INET, type=SocketKind.SOCK_STREAM, proto=6, laddr=('127.0.0.1', 58719), raddr=('127.0.0.1', 11434)>\n",
      "  analyzer = GraphRAGSystem(row[\"question\"])\n",
      "ResourceWarning: Enable tracemalloc to get the object allocation traceback\n"
     ]
    },
    {
     "name": "stdout",
     "output_type": "stream",
     "text": [
      "Question 287: What patient tool monitors AMD symptoms at home? a) Blood pressure monitor b) Amsler grid c) Thermometer d) Glucose meter\n",
      "Context: T...\n",
      "Response: b) Amsler grid\n",
      "\n"
     ]
    },
    {
     "name": "stderr",
     "output_type": "stream",
     "text": [
      "/var/folders/z3/zc5j75dj0qn_z2sp8qf47q340000gn/T/ipykernel_75411/652174667.py:8: ResourceWarning: unclosed <socket.socket fd=94, family=AddressFamily.AF_INET, type=SocketKind.SOCK_STREAM, proto=6, laddr=('127.0.0.1', 58744), raddr=('127.0.0.1', 11434)>\n",
      "  analyzer = GraphRAGSystem(row[\"question\"])\n",
      "ResourceWarning: Enable tracemalloc to get the object allocation traceback\n"
     ]
    },
    {
     "name": "stdout",
     "output_type": "stream",
     "text": [
      "Question 288: Which AMD type dominates in prevalence? a) Wet AMD b) Dry AMD c) Both equally d) Neither\n",
      "Context: T...\n",
      "Response: A\n",
      "\n"
     ]
    },
    {
     "name": "stderr",
     "output_type": "stream",
     "text": [
      "/var/folders/z3/zc5j75dj0qn_z2sp8qf47q340000gn/T/ipykernel_75411/652174667.py:8: ResourceWarning: unclosed <socket.socket fd=94, family=AddressFamily.AF_INET, type=SocketKind.SOCK_STREAM, proto=6, laddr=('127.0.0.1', 58774), raddr=('127.0.0.1', 11434)>\n",
      "  analyzer = GraphRAGSystem(row[\"question\"])\n",
      "ResourceWarning: Enable tracemalloc to get the object allocation traceback\n"
     ]
    },
    {
     "name": "stdout",
     "output_type": "stream",
     "text": [
      "Question 289: Can UV protection eliminate AMD risk entirely? a) Yes b) No c) Partially d) Only with diet\n",
      "Context: S...\n",
      "Response: c\n",
      "\n"
     ]
    },
    {
     "name": "stderr",
     "output_type": "stream",
     "text": [
      "/var/folders/z3/zc5j75dj0qn_z2sp8qf47q340000gn/T/ipykernel_75411/652174667.py:8: ResourceWarning: unclosed <socket.socket fd=94, family=AddressFamily.AF_INET, type=SocketKind.SOCK_STREAM, proto=6, laddr=('127.0.0.1', 58804), raddr=('127.0.0.1', 11434)>\n",
      "  analyzer = GraphRAGSystem(row[\"question\"])\n",
      "ResourceWarning: Enable tracemalloc to get the object allocation traceback\n"
     ]
    },
    {
     "name": "stdout",
     "output_type": "stream",
     "text": [
      "Question 290: Which systemic disease correlates with higher AMD risk? a) Diabetes b) Asthma c) Arthritis d) Flu\n",
      "Context: T...\n",
      "Response: A is correct\n",
      "\n"
     ]
    },
    {
     "name": "stderr",
     "output_type": "stream",
     "text": [
      "/var/folders/z3/zc5j75dj0qn_z2sp8qf47q340000gn/T/ipykernel_75411/652174667.py:8: ResourceWarning: unclosed <socket.socket fd=94, family=AddressFamily.AF_INET, type=SocketKind.SOCK_STREAM, proto=6, laddr=('127.0.0.1', 58841), raddr=('127.0.0.1', 11434)>\n",
      "  analyzer = GraphRAGSystem(row[\"question\"])\n",
      "ResourceWarning: Enable tracemalloc to get the object allocation traceback\n"
     ]
    },
    {
     "name": "stdout",
     "output_type": "stream",
     "text": [
      "Question 291: What is the primary aim of dry AMD management? a) Cure b) Slow progression c) Reverse damage d) Relieve discomfort\n",
      "Context: T...\n",
      "Response: B\n",
      "\n"
     ]
    },
    {
     "name": "stderr",
     "output_type": "stream",
     "text": [
      "/var/folders/z3/zc5j75dj0qn_z2sp8qf47q340000gn/T/ipykernel_75411/652174667.py:8: ResourceWarning: unclosed <socket.socket fd=94, family=AddressFamily.AF_INET, type=SocketKind.SOCK_STREAM, proto=6, laddr=('127.0.0.1', 58872), raddr=('127.0.0.1', 11434)>\n",
      "  analyzer = GraphRAGSystem(row[\"question\"])\n",
      "ResourceWarning: Enable tracemalloc to get the object allocation traceback\n"
     ]
    },
    {
     "name": "stdout",
     "output_type": "stream",
     "text": [
      "Question 292: What retinal marker is prominent in dry AMD? a) Blood leakage b) Drusen c) Nerve swelling d) Lens opacity\n",
      "Context: T...\n",
      "Response: B\n",
      "\n"
     ]
    },
    {
     "name": "stderr",
     "output_type": "stream",
     "text": [
      "/var/folders/z3/zc5j75dj0qn_z2sp8qf47q340000gn/T/ipykernel_75411/652174667.py:8: ResourceWarning: unclosed <socket.socket fd=94, family=AddressFamily.AF_INET, type=SocketKind.SOCK_STREAM, proto=6, laddr=('127.0.0.1', 58907), raddr=('127.0.0.1', 11434)>\n",
      "  analyzer = GraphRAGSystem(row[\"question\"])\n",
      "ResourceWarning: Enable tracemalloc to get the object allocation traceback\n"
     ]
    },
    {
     "name": "stdout",
     "output_type": "stream",
     "text": [
      "Question 293: Above what age does AMD risk sharply rise? a) 40 b) 50 c) 60 d) 70\n",
      "Context: T...\n",
      "Response: c) 60\n",
      "\n"
     ]
    },
    {
     "name": "stderr",
     "output_type": "stream",
     "text": [
      "/var/folders/z3/zc5j75dj0qn_z2sp8qf47q340000gn/T/ipykernel_75411/652174667.py:8: ResourceWarning: unclosed <socket.socket fd=94, family=AddressFamily.AF_INET, type=SocketKind.SOCK_STREAM, proto=6, laddr=('127.0.0.1', 58936), raddr=('127.0.0.1', 11434)>\n",
      "  analyzer = GraphRAGSystem(row[\"question\"])\n",
      "ResourceWarning: Enable tracemalloc to get the object allocation traceback\n"
     ]
    },
    {
     "name": "stdout",
     "output_type": "stream",
     "text": [
      "Question 294: What is a key indicator of wet AMD onset? a) Gradual blur b) Sudden vision drop c) Peripheral fade d) Eye redness\n",
      "Context: T...\n",
      "Response: A) Gradual blur\n",
      "\n"
     ]
    },
    {
     "name": "stderr",
     "output_type": "stream",
     "text": [
      "/var/folders/z3/zc5j75dj0qn_z2sp8qf47q340000gn/T/ipykernel_75411/652174667.py:8: ResourceWarning: unclosed <socket.socket fd=94, family=AddressFamily.AF_INET, type=SocketKind.SOCK_STREAM, proto=6, laddr=('127.0.0.1', 58978), raddr=('127.0.0.1', 11434)>\n",
      "  analyzer = GraphRAGSystem(row[\"question\"])\n",
      "ResourceWarning: Enable tracemalloc to get the object allocation traceback\n"
     ]
    },
    {
     "name": "stdout",
     "output_type": "stream",
     "text": [
      "Question 295: Is AMD communicable between individuals? a) Yes b) No c) Rarely d) Only genetically\n",
      "Context: T...\n",
      "Response: b\n",
      "\n"
     ]
    },
    {
     "name": "stderr",
     "output_type": "stream",
     "text": [
      "/var/folders/z3/zc5j75dj0qn_z2sp8qf47q340000gn/T/ipykernel_75411/652174667.py:8: ResourceWarning: unclosed <socket.socket fd=94, family=AddressFamily.AF_INET, type=SocketKind.SOCK_STREAM, proto=6, laddr=('127.0.0.1', 59033), raddr=('127.0.0.1', 11434)>\n",
      "  analyzer = GraphRAGSystem(row[\"question\"])\n",
      "ResourceWarning: Enable tracemalloc to get the object allocation traceback\n"
     ]
    },
    {
     "name": "stdout",
     "output_type": "stream",
     "text": [
      "Question 296: Which physical state increases AMD risk? a) Obesity b) Low weight c) High fitness d) Normal BMI\n",
      "Context: T...\n",
      "Response: A\n",
      "\n"
     ]
    },
    {
     "name": "stderr",
     "output_type": "stream",
     "text": [
      "/var/folders/z3/zc5j75dj0qn_z2sp8qf47q340000gn/T/ipykernel_75411/652174667.py:8: ResourceWarning: unclosed <socket.socket fd=94, family=AddressFamily.AF_INET, type=SocketKind.SOCK_STREAM, proto=6, laddr=('127.0.0.1', 59065), raddr=('127.0.0.1', 11434)>\n",
      "  analyzer = GraphRAGSystem(row[\"question\"])\n",
      "ResourceWarning: Enable tracemalloc to get the object allocation traceback\n"
     ]
    },
    {
     "name": "stdout",
     "output_type": "stream",
     "text": [
      "Question 297: Can surgery fully correct AMD vision loss? a) Yes b) No c) Partially d) Only wet AMD\n",
      "Context: T...\n",
      "Response: b\n",
      "\n"
     ]
    },
    {
     "name": "stderr",
     "output_type": "stream",
     "text": [
      "/var/folders/z3/zc5j75dj0qn_z2sp8qf47q340000gn/T/ipykernel_75411/652174667.py:8: ResourceWarning: unclosed <socket.socket fd=94, family=AddressFamily.AF_INET, type=SocketKind.SOCK_STREAM, proto=6, laddr=('127.0.0.1', 59105), raddr=('127.0.0.1', 11434)>\n",
      "  analyzer = GraphRAGSystem(row[\"question\"])\n",
      "ResourceWarning: Enable tracemalloc to get the object allocation traceback\n"
     ]
    },
    {
     "name": "stdout",
     "output_type": "stream",
     "text": [
      "Question 298: What visual change is common with AMD? a) Color distortion b) Sound distortion c) Taste change d) Peripheral loss\n",
      "Context: T...\n",
      "Response: d) Peripheral loss\n",
      "\n"
     ]
    },
    {
     "name": "stderr",
     "output_type": "stream",
     "text": [
      "/var/folders/z3/zc5j75dj0qn_z2sp8qf47q340000gn/T/ipykernel_75411/652174667.py:8: ResourceWarning: unclosed <socket.socket fd=94, family=AddressFamily.AF_INET, type=SocketKind.SOCK_STREAM, proto=6, laddr=('127.0.0.1', 59148), raddr=('127.0.0.1', 11434)>\n",
      "  analyzer = GraphRAGSystem(row[\"question\"])\n",
      "ResourceWarning: Enable tracemalloc to get the object allocation traceback\n"
     ]
    },
    {
     "name": "stdout",
     "output_type": "stream",
     "text": [
      "Question 299: Does excessive TV watching directly cause AMD? a) Yes b) No c) Sometimes d) Only prolonged\n",
      "Context: T...\n",
      "Response: b\n",
      "\n"
     ]
    },
    {
     "name": "stderr",
     "output_type": "stream",
     "text": [
      "/var/folders/z3/zc5j75dj0qn_z2sp8qf47q340000gn/T/ipykernel_75411/652174667.py:8: ResourceWarning: unclosed <socket.socket fd=94, family=AddressFamily.AF_INET, type=SocketKind.SOCK_STREAM, proto=6, laddr=('127.0.0.1', 59179), raddr=('127.0.0.1', 11434)>\n",
      "  analyzer = GraphRAGSystem(row[\"question\"])\n",
      "ResourceWarning: Enable tracemalloc to get the object allocation traceback\n"
     ]
    },
    {
     "name": "stdout",
     "output_type": "stream",
     "text": [
      "Question 300: What imaging technology is vital for AMD detection? a) OCT b) X-ray c) MRI d) CT scan\n",
      "Context: T...\n",
      "Response: A\n",
      "The best answer is A.\n",
      "\n"
     ]
    },
    {
     "name": "stderr",
     "output_type": "stream",
     "text": [
      "/var/folders/z3/zc5j75dj0qn_z2sp8qf47q340000gn/T/ipykernel_75411/652174667.py:8: ResourceWarning: unclosed <socket.socket fd=94, family=AddressFamily.AF_INET, type=SocketKind.SOCK_STREAM, proto=6, laddr=('127.0.0.1', 59209), raddr=('127.0.0.1', 11434)>\n",
      "  analyzer = GraphRAGSystem(row[\"question\"])\n",
      "ResourceWarning: Enable tracemalloc to get the object allocation traceback\n"
     ]
    },
    {
     "name": "stdout",
     "output_type": "stream",
     "text": [
      "Question 301: What does wet AMD often introduce to the retina? a) Drusen reduction b) Fluid leakage c) Lens thickening d) Optic nerve swelling\n",
      "Context: T...\n",
      "Response: b\n",
      "\n"
     ]
    },
    {
     "name": "stderr",
     "output_type": "stream",
     "text": [
      "/var/folders/z3/zc5j75dj0qn_z2sp8qf47q340000gn/T/ipykernel_75411/652174667.py:8: ResourceWarning: unclosed <socket.socket fd=94, family=AddressFamily.AF_INET, type=SocketKind.SOCK_STREAM, proto=6, laddr=('127.0.0.1', 59230), raddr=('127.0.0.1', 11434)>\n",
      "  analyzer = GraphRAGSystem(row[\"question\"])\n",
      "ResourceWarning: Enable tracemalloc to get the object allocation traceback\n"
     ]
    },
    {
     "name": "stdout",
     "output_type": "stream",
     "text": [
      "Question 302: Which gender shows a slight AMD prevalence increase? a) Men b) Women c) Equal d) Unknown\n",
      "Context: T...\n",
      "Response: c\n",
      "\n"
     ]
    },
    {
     "name": "stderr",
     "output_type": "stream",
     "text": [
      "/var/folders/z3/zc5j75dj0qn_z2sp8qf47q340000gn/T/ipykernel_75411/652174667.py:8: ResourceWarning: unclosed <socket.socket fd=94, family=AddressFamily.AF_INET, type=SocketKind.SOCK_STREAM, proto=6, laddr=('127.0.0.1', 59253), raddr=('127.0.0.1', 11434)>\n",
      "  analyzer = GraphRAGSystem(row[\"question\"])\n",
      "ResourceWarning: Enable tracemalloc to get the object allocation traceback\n"
     ]
    },
    {
     "name": "stdout",
     "output_type": "stream",
     "text": [
      "Question 303: Are over-the-counter eye drops a cure for AMD? a) Yes b) No c) Sometimes d) Only dry AMD\n",
      "Context: T...\n",
      "Response: b\n",
      "\n"
     ]
    },
    {
     "name": "stderr",
     "output_type": "stream",
     "text": [
      "/var/folders/z3/zc5j75dj0qn_z2sp8qf47q340000gn/T/ipykernel_75411/652174667.py:8: ResourceWarning: unclosed <socket.socket fd=94, family=AddressFamily.AF_INET, type=SocketKind.SOCK_STREAM, proto=6, laddr=('127.0.0.1', 59275), raddr=('127.0.0.1', 11434)>\n",
      "  analyzer = GraphRAGSystem(row[\"question\"])\n",
      "ResourceWarning: Enable tracemalloc to get the object allocation traceback\n"
     ]
    },
    {
     "name": "stdout",
     "output_type": "stream",
     "text": [
      "Question 304: Which cardiovascular factor elevates AMD risk? a) Low pressure b) Hypertension c) Low heart rate d) High oxygen\n",
      "Context: T...\n",
      "Response: b) Hypertension\n",
      "\n"
     ]
    },
    {
     "name": "stderr",
     "output_type": "stream",
     "text": [
      "/var/folders/z3/zc5j75dj0qn_z2sp8qf47q340000gn/T/ipykernel_75411/652174667.py:8: ResourceWarning: unclosed <socket.socket fd=94, family=AddressFamily.AF_INET, type=SocketKind.SOCK_STREAM, proto=6, laddr=('127.0.0.1', 59311), raddr=('127.0.0.1', 11434)>\n",
      "  analyzer = GraphRAGSystem(row[\"question\"])\n",
      "ResourceWarning: Enable tracemalloc to get the object allocation traceback\n"
     ]
    },
    {
     "name": "stdout",
     "output_type": "stream",
     "text": [
      "Question 305: What lipid condition is linked to AMD risk? a) High cholesterol b) Low cholesterol c) High LDL d) Low triglycerides\n",
      "Context: T...\n",
      "Response: B\n",
      "\n"
     ]
    },
    {
     "name": "stderr",
     "output_type": "stream",
     "text": [
      "/var/folders/z3/zc5j75dj0qn_z2sp8qf47q340000gn/T/ipykernel_75411/652174667.py:8: ResourceWarning: unclosed <socket.socket fd=94, family=AddressFamily.AF_INET, type=SocketKind.SOCK_STREAM, proto=6, laddr=('127.0.0.1', 59357), raddr=('127.0.0.1', 11434)>\n",
      "  analyzer = GraphRAGSystem(row[\"question\"])\n",
      "ResourceWarning: Enable tracemalloc to get the object allocation traceback\n"
     ]
    },
    {
     "name": "stdout",
     "output_type": "stream",
     "text": [
      "Question 306: Can dietary zinc alone prevent AMD? a) Yes b) No c) Partially d) Only with AREDS\n",
      "Context: S...\n",
      "Response: b) No\n",
      "\n"
     ]
    },
    {
     "name": "stderr",
     "output_type": "stream",
     "text": [
      "/var/folders/z3/zc5j75dj0qn_z2sp8qf47q340000gn/T/ipykernel_75411/652174667.py:8: ResourceWarning: unclosed <socket.socket fd=94, family=AddressFamily.AF_INET, type=SocketKind.SOCK_STREAM, proto=6, laddr=('127.0.0.1', 59384), raddr=('127.0.0.1', 11434)>\n",
      "  analyzer = GraphRAGSystem(row[\"question\"])\n",
      "ResourceWarning: Enable tracemalloc to get the object allocation traceback\n"
     ]
    },
    {
     "name": "stdout",
     "output_type": "stream",
     "text": [
      "Question 307: Which eye structure is typically spared in AMD? a) Macula b) Optic nerve c) Choroid d) Retina\n",
      "Context: T...\n",
      "Response: c\n",
      "\n"
     ]
    },
    {
     "name": "stderr",
     "output_type": "stream",
     "text": [
      "/var/folders/z3/zc5j75dj0qn_z2sp8qf47q340000gn/T/ipykernel_75411/652174667.py:8: ResourceWarning: unclosed <socket.socket fd=94, family=AddressFamily.AF_INET, type=SocketKind.SOCK_STREAM, proto=6, laddr=('127.0.0.1', 59418), raddr=('127.0.0.1', 11434)>\n",
      "  analyzer = GraphRAGSystem(row[\"question\"])\n",
      "ResourceWarning: Enable tracemalloc to get the object allocation traceback\n"
     ]
    },
    {
     "name": "stdout",
     "output_type": "stream",
     "text": [
      "Question 308: What therapy uses light to treat wet AMD? a) LASIK b) Photodynamic therapy c) UV therapy d) Laser surgery\n",
      "Context: T...\n",
      "Response: B\n",
      "\n"
     ]
    },
    {
     "name": "stderr",
     "output_type": "stream",
     "text": [
      "/var/folders/z3/zc5j75dj0qn_z2sp8qf47q340000gn/T/ipykernel_75411/652174667.py:8: ResourceWarning: unclosed <socket.socket fd=94, family=AddressFamily.AF_INET, type=SocketKind.SOCK_STREAM, proto=6, laddr=('127.0.0.1', 59446), raddr=('127.0.0.1', 11434)>\n",
      "  analyzer = GraphRAGSystem(row[\"question\"])\n",
      "ResourceWarning: Enable tracemalloc to get the object allocation traceback\n"
     ]
    },
    {
     "name": "stdout",
     "output_type": "stream",
     "text": [
      "Question 309: Does AMD increase specific risks for the elderly? a) Falls b) Hearing loss c) Muscle strain d) Skin rash\n",
      "Context: T...\n",
      "Response: A\n",
      "\n",
      "\n",
      "Explanation: The statement in question asks if AMD increases specific risks for the elderly. According to the information, AMD indeed increases risks for the elderly, including increased mobility issues (falls), sensory impairments (hearing loss), musculoskeletal problems (muscle strain), and dermatological conditions (skin rash).\n",
      "\n"
     ]
    },
    {
     "name": "stderr",
     "output_type": "stream",
     "text": [
      "/var/folders/z3/zc5j75dj0qn_z2sp8qf47q340000gn/T/ipykernel_75411/652174667.py:8: ResourceWarning: unclosed <socket.socket fd=94, family=AddressFamily.AF_INET, type=SocketKind.SOCK_STREAM, proto=6, laddr=('127.0.0.1', 59481), raddr=('127.0.0.1', 11434)>\n",
      "  analyzer = GraphRAGSystem(row[\"question\"])\n",
      "ResourceWarning: Enable tracemalloc to get the object allocation traceback\n"
     ]
    },
    {
     "name": "stdout",
     "output_type": "stream",
     "text": [
      "Question 310: Is AMD usually unilateral at first? a) Yes b) No c) Always d) Rarely\n",
      "Context: T...\n",
      "Response: b) No\n",
      "\n"
     ]
    },
    {
     "name": "stderr",
     "output_type": "stream",
     "text": [
      "/var/folders/z3/zc5j75dj0qn_z2sp8qf47q340000gn/T/ipykernel_75411/652174667.py:8: ResourceWarning: unclosed <socket.socket fd=94, family=AddressFamily.AF_INET, type=SocketKind.SOCK_STREAM, proto=6, laddr=('127.0.0.1', 59518), raddr=('127.0.0.1', 11434)>\n",
      "  analyzer = GraphRAGSystem(row[\"question\"])\n",
      "ResourceWarning: Enable tracemalloc to get the object allocation traceback\n"
     ]
    },
    {
     "name": "stdout",
     "output_type": "stream",
     "text": [
      "Question 311: What supplement plan supports dry AMD management? a) AREDS b) High-dose vitamin D c) Calcium tablets d) Protein supplements\n",
      "Context: T...\n",
      "Response: A\n",
      "\n"
     ]
    },
    {
     "name": "stderr",
     "output_type": "stream",
     "text": [
      "/var/folders/z3/zc5j75dj0qn_z2sp8qf47q340000gn/T/ipykernel_75411/652174667.py:8: ResourceWarning: unclosed <socket.socket fd=94, family=AddressFamily.AF_INET, type=SocketKind.SOCK_STREAM, proto=6, laddr=('127.0.0.1', 59544), raddr=('127.0.0.1', 11434)>\n",
      "  analyzer = GraphRAGSystem(row[\"question\"])\n",
      "ResourceWarning: Enable tracemalloc to get the object allocation traceback\n"
     ]
    },
    {
     "name": "stdout",
     "output_type": "stream",
     "text": [
      "Question 312: Which ethnic group has a higher AMD incidence? a) Caucasians b) African Americans c) Asians d) Hispanics\n",
      "Context: T...\n",
      "Response: c) Asians\n",
      "\n"
     ]
    },
    {
     "name": "stderr",
     "output_type": "stream",
     "text": [
      "/var/folders/z3/zc5j75dj0qn_z2sp8qf47q340000gn/T/ipykernel_75411/652174667.py:8: ResourceWarning: unclosed <socket.socket fd=94, family=AddressFamily.AF_INET, type=SocketKind.SOCK_STREAM, proto=6, laddr=('127.0.0.1', 59570), raddr=('127.0.0.1', 11434)>\n",
      "  analyzer = GraphRAGSystem(row[\"question\"])\n",
      "ResourceWarning: Enable tracemalloc to get the object allocation traceback\n"
     ]
    },
    {
     "name": "stdout",
     "output_type": "stream",
     "text": [
      "Question 313: Does wet AMD always lead to complete blindness? a) Yes b) No c) Often d) Rarely\n",
      "Context: T...\n",
      "Response: b\n",
      "\n"
     ]
    },
    {
     "name": "stderr",
     "output_type": "stream",
     "text": [
      "/var/folders/z3/zc5j75dj0qn_z2sp8qf47q340000gn/T/ipykernel_75411/652174667.py:8: ResourceWarning: unclosed <socket.socket fd=94, family=AddressFamily.AF_INET, type=SocketKind.SOCK_STREAM, proto=6, laddr=('127.0.0.1', 59595), raddr=('127.0.0.1', 11434)>\n",
      "  analyzer = GraphRAGSystem(row[\"question\"])\n",
      "ResourceWarning: Enable tracemalloc to get the object allocation traceback\n"
     ]
    },
    {
     "name": "stdout",
     "output_type": "stream",
     "text": [
      "Question 314: What visual alteration does AMD frequently cause? a) Wavy lines b) Peripheral tunnel c) Flashing lights d) Double vision\n",
      "Context: T...\n",
      "Response: A\n",
      "\n"
     ]
    },
    {
     "name": "stderr",
     "output_type": "stream",
     "text": [
      "/var/folders/z3/zc5j75dj0qn_z2sp8qf47q340000gn/T/ipykernel_75411/652174667.py:8: ResourceWarning: unclosed <socket.socket fd=94, family=AddressFamily.AF_INET, type=SocketKind.SOCK_STREAM, proto=6, laddr=('127.0.0.1', 59625), raddr=('127.0.0.1', 11434)>\n",
      "  analyzer = GraphRAGSystem(row[\"question\"])\n",
      "ResourceWarning: Enable tracemalloc to get the object allocation traceback\n"
     ]
    },
    {
     "name": "stdout",
     "output_type": "stream",
     "text": [
      "Question 315: Is AMD caused by fungal infection? a) Yes b) No c) Sometimes d) Only wet AMD\n",
      "Context: T...\n",
      "Response: b)\n",
      "\n"
     ]
    },
    {
     "name": "stderr",
     "output_type": "stream",
     "text": [
      "/var/folders/z3/zc5j75dj0qn_z2sp8qf47q340000gn/T/ipykernel_75411/652174667.py:8: ResourceWarning: unclosed <socket.socket fd=94, family=AddressFamily.AF_INET, type=SocketKind.SOCK_STREAM, proto=6, laddr=('127.0.0.1', 59660), raddr=('127.0.0.1', 11434)>\n",
      "  analyzer = GraphRAGSystem(row[\"question\"])\n",
      "ResourceWarning: Enable tracemalloc to get the object allocation traceback\n"
     ]
    },
    {
     "name": "stdout",
     "output_type": "stream",
     "text": [
      "Question 316: Which visual ability does AMD impair? a) Depth perception b) Sound perception c) Taste perception d) Smell perception\n",
      "Context: T...\n",
      "Response: A\n",
      "\n"
     ]
    },
    {
     "name": "stderr",
     "output_type": "stream",
     "text": [
      "/var/folders/z3/zc5j75dj0qn_z2sp8qf47q340000gn/T/ipykernel_75411/652174667.py:8: ResourceWarning: unclosed <socket.socket fd=94, family=AddressFamily.AF_INET, type=SocketKind.SOCK_STREAM, proto=6, laddr=('127.0.0.1', 59689), raddr=('127.0.0.1', 11434)>\n",
      "  analyzer = GraphRAGSystem(row[\"question\"])\n",
      "ResourceWarning: Enable tracemalloc to get the object allocation traceback\n"
     ]
    },
    {
     "name": "stdout",
     "output_type": "stream",
     "text": [
      "Question 317: Can AMD affect young children? a) Yes b) No c) Rarely d) Only with genetics\n",
      "Context: S...\n",
      "Response: a) Yes\n",
      "\n"
     ]
    },
    {
     "name": "stderr",
     "output_type": "stream",
     "text": [
      "/var/folders/z3/zc5j75dj0qn_z2sp8qf47q340000gn/T/ipykernel_75411/652174667.py:8: ResourceWarning: unclosed <socket.socket fd=94, family=AddressFamily.AF_INET, type=SocketKind.SOCK_STREAM, proto=6, laddr=('127.0.0.1', 59718), raddr=('127.0.0.1', 11434)>\n",
      "  analyzer = GraphRAGSystem(row[\"question\"])\n",
      "ResourceWarning: Enable tracemalloc to get the object allocation traceback\n"
     ]
    },
    {
     "name": "stdout",
     "output_type": "stream",
     "text": [
      "Question 318: Does AMD often necessitate vision aids? a) Yes b) No c) Sometimes d) Never\n",
      "Context: S...\n",
      "Response: a\n",
      "\n"
     ]
    },
    {
     "name": "stderr",
     "output_type": "stream",
     "text": [
      "/var/folders/z3/zc5j75dj0qn_z2sp8qf47q340000gn/T/ipykernel_75411/652174667.py:8: ResourceWarning: unclosed <socket.socket fd=94, family=AddressFamily.AF_INET, type=SocketKind.SOCK_STREAM, proto=6, laddr=('127.0.0.1', 59748), raddr=('127.0.0.1', 11434)>\n",
      "  analyzer = GraphRAGSystem(row[\"question\"])\n",
      "ResourceWarning: Enable tracemalloc to get the object allocation traceback\n"
     ]
    },
    {
     "name": "stdout",
     "output_type": "stream",
     "text": [
      "Question 319: What light exposure increases AMD risk? a) UV light b) Infrared light c) Blue light d) Visible light\n",
      "Context: T...\n",
      "Response: c\n",
      "\n"
     ]
    },
    {
     "name": "stderr",
     "output_type": "stream",
     "text": [
      "/var/folders/z3/zc5j75dj0qn_z2sp8qf47q340000gn/T/ipykernel_75411/652174667.py:8: ResourceWarning: unclosed <socket.socket fd=94, family=AddressFamily.AF_INET, type=SocketKind.SOCK_STREAM, proto=6, laddr=('127.0.0.1', 59774), raddr=('127.0.0.1', 11434)>\n",
      "  analyzer = GraphRAGSystem(row[\"question\"])\n",
      "ResourceWarning: Enable tracemalloc to get the object allocation traceback\n"
     ]
    },
    {
     "name": "stdout",
     "output_type": "stream",
     "text": [
      "Question 320: Can physical fitness alone reverse AMD? a) Yes b) No c) Partially d) Only early stages\n",
      "Context: P...\n",
      "Response: b) No\n",
      "\n"
     ]
    },
    {
     "name": "stderr",
     "output_type": "stream",
     "text": [
      "/var/folders/z3/zc5j75dj0qn_z2sp8qf47q340000gn/T/ipykernel_75411/652174667.py:8: ResourceWarning: unclosed <socket.socket fd=94, family=AddressFamily.AF_INET, type=SocketKind.SOCK_STREAM, proto=6, laddr=('127.0.0.1', 59814), raddr=('127.0.0.1', 11434)>\n",
      "  analyzer = GraphRAGSystem(row[\"question\"])\n",
      "ResourceWarning: Enable tracemalloc to get the object allocation traceback\n"
     ]
    },
    {
     "name": "stdout",
     "output_type": "stream",
     "text": [
      "Question 321: Which vision type is least altered by AMD? a) Central vision b) Peripheral vision c) Night vision d) Color vision\n",
      "Context: T...\n",
      "Response: B\n",
      "\n"
     ]
    },
    {
     "name": "stderr",
     "output_type": "stream",
     "text": [
      "/var/folders/z3/zc5j75dj0qn_z2sp8qf47q340000gn/T/ipykernel_75411/652174667.py:8: ResourceWarning: unclosed <socket.socket fd=94, family=AddressFamily.AF_INET, type=SocketKind.SOCK_STREAM, proto=6, laddr=('127.0.0.1', 59851), raddr=('127.0.0.1', 11434)>\n",
      "  analyzer = GraphRAGSystem(row[\"question\"])\n",
      "ResourceWarning: Enable tracemalloc to get the object allocation traceback\n"
     ]
    },
    {
     "name": "stdout",
     "output_type": "stream",
     "text": [
      "Question 322: What procedure is key to AMD diagnosis? a) Blood test b) Dilated eye exam c) Hearing test d) Skin biopsy\n",
      "Context: T...\n",
      "Response: B\n",
      "\n"
     ]
    },
    {
     "name": "stderr",
     "output_type": "stream",
     "text": [
      "/var/folders/z3/zc5j75dj0qn_z2sp8qf47q340000gn/T/ipykernel_75411/652174667.py:8: ResourceWarning: unclosed <socket.socket fd=94, family=AddressFamily.AF_INET, type=SocketKind.SOCK_STREAM, proto=6, laddr=('127.0.0.1', 59890), raddr=('127.0.0.1', 11434)>\n",
      "  analyzer = GraphRAGSystem(row[\"question\"])\n",
      "ResourceWarning: Enable tracemalloc to get the object allocation traceback\n"
     ]
    },
    {
     "name": "stdout",
     "output_type": "stream",
     "text": [
      "Question 323: Does reading in dim light directly induce AMD? a) Yes b) No c) Sometimes d) Only prolonged\n",
      "Context: T...\n",
      "Response: b\n",
      "\n"
     ]
    },
    {
     "name": "stderr",
     "output_type": "stream",
     "text": [
      "/var/folders/z3/zc5j75dj0qn_z2sp8qf47q340000gn/T/ipykernel_75411/652174667.py:8: ResourceWarning: unclosed <socket.socket fd=94, family=AddressFamily.AF_INET, type=SocketKind.SOCK_STREAM, proto=6, laddr=('127.0.0.1', 59917), raddr=('127.0.0.1', 11434)>\n",
      "  analyzer = GraphRAGSystem(row[\"question\"])\n",
      "ResourceWarning: Enable tracemalloc to get the object allocation traceback\n"
     ]
    },
    {
     "name": "stdout",
     "output_type": "stream",
     "text": [
      "Question 324: Which recognition skill does AMD disrupt? a) Face recognition b) Sound recognition c) Smell recognition d) Taste recognition\n",
      "Context: T...\n",
      "Response: A\n",
      "\n"
     ]
    },
    {
     "name": "stderr",
     "output_type": "stream",
     "text": [
      "/var/folders/z3/zc5j75dj0qn_z2sp8qf47q340000gn/T/ipykernel_75411/652174667.py:8: ResourceWarning: unclosed <socket.socket fd=94, family=AddressFamily.AF_INET, type=SocketKind.SOCK_STREAM, proto=6, laddr=('127.0.0.1', 59947), raddr=('127.0.0.1', 11434)>\n",
      "  analyzer = GraphRAGSystem(row[\"question\"])\n",
      "ResourceWarning: Enable tracemalloc to get the object allocation traceback\n"
     ]
    },
    {
     "name": "stdout",
     "output_type": "stream",
     "text": [
      "Question 325: Which retinal layer shows early signs of AMD? a) Inner plexiform b) Retinal pigment epithelium c) Ganglion cell layer d) Cornea\n",
      "Context: T...\n",
      "Response: B\n",
      "\n"
     ]
    },
    {
     "name": "stderr",
     "output_type": "stream",
     "text": [
      "/var/folders/z3/zc5j75dj0qn_z2sp8qf47q340000gn/T/ipykernel_75411/652174667.py:8: ResourceWarning: unclosed <socket.socket fd=94, family=AddressFamily.AF_INET, type=SocketKind.SOCK_STREAM, proto=6, laddr=('127.0.0.1', 59975), raddr=('127.0.0.1', 11434)>\n",
      "  analyzer = GraphRAGSystem(row[\"question\"])\n",
      "ResourceWarning: Enable tracemalloc to get the object allocation traceback\n"
     ]
    },
    {
     "name": "stdout",
     "output_type": "stream",
     "text": [
      "Question 326: What is a primary visual clue of wet AMD? a) Peripheral shadow b) Central wavy lines c) Enhanced night vision d) Eye strain\n",
      "Context: T...\n",
      "Response: B\n",
      "\n"
     ]
    },
    {
     "name": "stderr",
     "output_type": "stream",
     "text": [
      "/var/folders/z3/zc5j75dj0qn_z2sp8qf47q340000gn/T/ipykernel_75411/652174667.py:8: ResourceWarning: unclosed <socket.socket fd=94, family=AddressFamily.AF_INET, type=SocketKind.SOCK_STREAM, proto=6, laddr=('127.0.0.1', 60006), raddr=('127.0.0.1', 11434)>\n",
      "  analyzer = GraphRAGSystem(row[\"question\"])\n",
      "ResourceWarning: Enable tracemalloc to get the object allocation traceback\n"
     ]
    },
    {
     "name": "stdout",
     "output_type": "stream",
     "text": [
      "Question 327: What is the end-stage outcome of severe dry AMD? a) Macular hole b) Geographic atrophy c) Retinal detachment d) Choroidal hemorrhage\n",
      "Context: T...\n",
      "Response: B\n",
      "\n"
     ]
    },
    {
     "name": "stderr",
     "output_type": "stream",
     "text": [
      "/var/folders/z3/zc5j75dj0qn_z2sp8qf47q340000gn/T/ipykernel_75411/652174667.py:8: ResourceWarning: unclosed <socket.socket fd=94, family=AddressFamily.AF_INET, type=SocketKind.SOCK_STREAM, proto=6, laddr=('127.0.0.1', 60036), raddr=('127.0.0.1', 11434)>\n",
      "  analyzer = GraphRAGSystem(row[\"question\"])\n",
      "ResourceWarning: Enable tracemalloc to get the object allocation traceback\n"
     ]
    },
    {
     "name": "stdout",
     "output_type": "stream",
     "text": [
      "Question 328: Which habit is a proven AMD risk factor? a) Smoking b) Swimming c) Reading daily d) Drinking juice\n",
      "Context: T...\n",
      "Response: A\n",
      "\n"
     ]
    },
    {
     "name": "stderr",
     "output_type": "stream",
     "text": [
      "/var/folders/z3/zc5j75dj0qn_z2sp8qf47q340000gn/T/ipykernel_75411/652174667.py:8: ResourceWarning: unclosed <socket.socket fd=94, family=AddressFamily.AF_INET, type=SocketKind.SOCK_STREAM, proto=6, laddr=('127.0.0.1', 60067), raddr=('127.0.0.1', 11434)>\n",
      "  analyzer = GraphRAGSystem(row[\"question\"])\n",
      "ResourceWarning: Enable tracemalloc to get the object allocation traceback\n"
     ]
    },
    {
     "name": "stdout",
     "output_type": "stream",
     "text": [
      "Question 329: Which AMD type is marked by blood vessel proliferation? a) Early AMD b) Wet AMD c) Dry AMD d) Intermediate AMD\n",
      "Context: T...\n",
      "Response: B\n",
      "\n"
     ]
    },
    {
     "name": "stderr",
     "output_type": "stream",
     "text": [
      "/var/folders/z3/zc5j75dj0qn_z2sp8qf47q340000gn/T/ipykernel_75411/652174667.py:8: ResourceWarning: unclosed <socket.socket fd=94, family=AddressFamily.AF_INET, type=SocketKind.SOCK_STREAM, proto=6, laddr=('127.0.0.1', 60101), raddr=('127.0.0.1', 11434)>\n",
      "  analyzer = GraphRAGSystem(row[\"question\"])\n",
      "ResourceWarning: Enable tracemalloc to get the object allocation traceback\n"
     ]
    },
    {
     "name": "stdout",
     "output_type": "stream",
     "text": [
      "Question 330: Is there a known cure for advanced AMD today? a) Yes b) No c) Under testing d) Only for wet AMD\n",
      "Context: T...\n",
      "Response: b\n",
      "\n"
     ]
    },
    {
     "name": "stderr",
     "output_type": "stream",
     "text": [
      "/var/folders/z3/zc5j75dj0qn_z2sp8qf47q340000gn/T/ipykernel_75411/652174667.py:8: ResourceWarning: unclosed <socket.socket fd=94, family=AddressFamily.AF_INET, type=SocketKind.SOCK_STREAM, proto=6, laddr=('127.0.0.1', 60141), raddr=('127.0.0.1', 11434)>\n",
      "  analyzer = GraphRAGSystem(row[\"question\"])\n",
      "ResourceWarning: Enable tracemalloc to get the object allocation traceback\n"
     ]
    },
    {
     "name": "stdout",
     "output_type": "stream",
     "text": [
      "Question 331: What injection therapy is standard for wet AMD? a) Anti-VEGF b) Insulin c) Cortisone d) Antibiotics\n",
      "Context: T...\n",
      "Response: A\n",
      "\n"
     ]
    },
    {
     "name": "stderr",
     "output_type": "stream",
     "text": [
      "/var/folders/z3/zc5j75dj0qn_z2sp8qf47q340000gn/T/ipykernel_75411/652174667.py:8: ResourceWarning: unclosed <socket.socket fd=94, family=AddressFamily.AF_INET, type=SocketKind.SOCK_STREAM, proto=6, laddr=('127.0.0.1', 60184), raddr=('127.0.0.1', 11434)>\n",
      "  analyzer = GraphRAGSystem(row[\"question\"])\n",
      "ResourceWarning: Enable tracemalloc to get the object allocation traceback\n"
     ]
    },
    {
     "name": "stdout",
     "output_type": "stream",
     "text": [
      "Question 332: Which vision area is typically spared in AMD? a) Central b) Peripheral c) Color d) Contrast\n",
      "Context: T...\n",
      "Response: d) Contrast\n",
      "\n"
     ]
    },
    {
     "name": "stderr",
     "output_type": "stream",
     "text": [
      "/var/folders/z3/zc5j75dj0qn_z2sp8qf47q340000gn/T/ipykernel_75411/652174667.py:8: ResourceWarning: unclosed <socket.socket fd=94, family=AddressFamily.AF_INET, type=SocketKind.SOCK_STREAM, proto=6, laddr=('127.0.0.1', 60217), raddr=('127.0.0.1', 11434)>\n",
      "  analyzer = GraphRAGSystem(row[\"question\"])\n",
      "ResourceWarning: Enable tracemalloc to get the object allocation traceback\n"
     ]
    },
    {
     "name": "stdout",
     "output_type": "stream",
     "text": [
      "Question 333: What genetic element increases AMD likelihood? a) Family history b) Eye size c) Hair length d) Blood group\n",
      "Context: T...\n",
      "Response: A) Family history\n",
      "\n"
     ]
    },
    {
     "name": "stderr",
     "output_type": "stream",
     "text": [
      "/var/folders/z3/zc5j75dj0qn_z2sp8qf47q340000gn/T/ipykernel_75411/652174667.py:8: ResourceWarning: unclosed <socket.socket fd=94, family=AddressFamily.AF_INET, type=SocketKind.SOCK_STREAM, proto=6, laddr=('127.0.0.1', 60251), raddr=('127.0.0.1', 11434)>\n",
      "  analyzer = GraphRAGSystem(row[\"question\"])\n",
      "ResourceWarning: Enable tracemalloc to get the object allocation traceback\n"
     ]
    },
    {
     "name": "stdout",
     "output_type": "stream",
     "text": [
      "Question 334: Which test is irrelevant for AMD screening? a) OCT b) Bone density scan c) Amsler grid d) Fluorescein angiography\n",
      "Context: T...\n",
      "Response: c) Amsler grid\n",
      "\n"
     ]
    },
    {
     "name": "stderr",
     "output_type": "stream",
     "text": [
      "/var/folders/z3/zc5j75dj0qn_z2sp8qf47q340000gn/T/ipykernel_75411/652174667.py:8: ResourceWarning: unclosed <socket.socket fd=94, family=AddressFamily.AF_INET, type=SocketKind.SOCK_STREAM, proto=6, laddr=('127.0.0.1', 60271), raddr=('127.0.0.1', 11434)>\n",
      "  analyzer = GraphRAGSystem(row[\"question\"])\n",
      "ResourceWarning: Enable tracemalloc to get the object allocation traceback\n"
     ]
    },
    {
     "name": "stdout",
     "output_type": "stream",
     "text": [
      "Question 335: What self-test helps monitor AMD progression? a) Pulse check b) Amsler grid c) Blood sugar test d) Reflex test\n",
      "Context: T...\n",
      "Response: B.\n",
      "\n"
     ]
    },
    {
     "name": "stderr",
     "output_type": "stream",
     "text": [
      "/var/folders/z3/zc5j75dj0qn_z2sp8qf47q340000gn/T/ipykernel_75411/652174667.py:8: ResourceWarning: unclosed <socket.socket fd=94, family=AddressFamily.AF_INET, type=SocketKind.SOCK_STREAM, proto=6, laddr=('127.0.0.1', 60310), raddr=('127.0.0.1', 11434)>\n",
      "  analyzer = GraphRAGSystem(row[\"question\"])\n",
      "ResourceWarning: Enable tracemalloc to get the object allocation traceback\n"
     ]
    },
    {
     "name": "stdout",
     "output_type": "stream",
     "text": [
      "Question 336: Which AMD form is most widespread? a) Wet AMD b) Dry AMD c) Both equal d) Neither\n",
      "Context: T...\n",
      "Response: A\n",
      "\n"
     ]
    },
    {
     "name": "stderr",
     "output_type": "stream",
     "text": [
      "/var/folders/z3/zc5j75dj0qn_z2sp8qf47q340000gn/T/ipykernel_75411/652174667.py:8: ResourceWarning: unclosed <socket.socket fd=94, family=AddressFamily.AF_INET, type=SocketKind.SOCK_STREAM, proto=6, laddr=('127.0.0.1', 60338), raddr=('127.0.0.1', 11434)>\n",
      "  analyzer = GraphRAGSystem(row[\"question\"])\n",
      "ResourceWarning: Enable tracemalloc to get the object allocation traceback\n"
     ]
    },
    {
     "name": "stdout",
     "output_type": "stream",
     "text": [
      "Question 337: Can UV-blocking glasses fully prevent AMD? a) Yes b) No c) Sometimes d) Only with diet\n",
      "Context: T...\n",
      "Response: b\n",
      "\n"
     ]
    },
    {
     "name": "stderr",
     "output_type": "stream",
     "text": [
      "/var/folders/z3/zc5j75dj0qn_z2sp8qf47q340000gn/T/ipykernel_75411/652174667.py:8: ResourceWarning: unclosed <socket.socket fd=94, family=AddressFamily.AF_INET, type=SocketKind.SOCK_STREAM, proto=6, laddr=('127.0.0.1', 60368), raddr=('127.0.0.1', 11434)>\n",
      "  analyzer = GraphRAGSystem(row[\"question\"])\n",
      "ResourceWarning: Enable tracemalloc to get the object allocation traceback\n"
     ]
    },
    {
     "name": "stdout",
     "output_type": "stream",
     "text": [
      "Question 338: Which chronic condition is linked to elevated AMD risk? a) Diabetes b) Eczema c) Migraines d) Sinusitis\n",
      "Context: B...\n",
      "Response: A\n",
      "\n"
     ]
    },
    {
     "name": "stderr",
     "output_type": "stream",
     "text": [
      "/var/folders/z3/zc5j75dj0qn_z2sp8qf47q340000gn/T/ipykernel_75411/652174667.py:8: ResourceWarning: unclosed <socket.socket fd=94, family=AddressFamily.AF_INET, type=SocketKind.SOCK_STREAM, proto=6, laddr=('127.0.0.1', 60400), raddr=('127.0.0.1', 11434)>\n",
      "  analyzer = GraphRAGSystem(row[\"question\"])\n",
      "ResourceWarning: Enable tracemalloc to get the object allocation traceback\n"
     ]
    },
    {
     "name": "stdout",
     "output_type": "stream",
     "text": [
      "Question 339: What is the main therapeutic goal for dry AMD? a) Full cure b) Slow progression c) Vision restoration d) Symptom relief\n",
      "Context: T...\n",
      "Response: B\n",
      "\n"
     ]
    },
    {
     "name": "stderr",
     "output_type": "stream",
     "text": [
      "/var/folders/z3/zc5j75dj0qn_z2sp8qf47q340000gn/T/ipykernel_75411/652174667.py:8: ResourceWarning: unclosed <socket.socket fd=94, family=AddressFamily.AF_INET, type=SocketKind.SOCK_STREAM, proto=6, laddr=('127.0.0.1', 60426), raddr=('127.0.0.1', 11434)>\n",
      "  analyzer = GraphRAGSystem(row[\"question\"])\n",
      "ResourceWarning: Enable tracemalloc to get the object allocation traceback\n"
     ]
    },
    {
     "name": "stdout",
     "output_type": "stream",
     "text": [
      "Question 340: What retinal deposit characterizes dry AMD? a) Blood clots b) Drusen c) Fatty plaques d) Calcium deposits\n",
      "Context: T...\n",
      "Response: D\n",
      "\n"
     ]
    },
    {
     "name": "stderr",
     "output_type": "stream",
     "text": [
      "/var/folders/z3/zc5j75dj0qn_z2sp8qf47q340000gn/T/ipykernel_75411/652174667.py:8: ResourceWarning: unclosed <socket.socket fd=94, family=AddressFamily.AF_INET, type=SocketKind.SOCK_STREAM, proto=6, laddr=('127.0.0.1', 60466), raddr=('127.0.0.1', 11434)>\n",
      "  analyzer = GraphRAGSystem(row[\"question\"])\n",
      "ResourceWarning: Enable tracemalloc to get the object allocation traceback\n"
     ]
    },
    {
     "name": "stdout",
     "output_type": "stream",
     "text": [
      "Question 341: At what age does AMD risk significantly escalate? a) 30 b) 40 c) 50 d) 60\n",
      "Context: T...\n",
      "Response: B\n",
      "\n"
     ]
    },
    {
     "name": "stderr",
     "output_type": "stream",
     "text": [
      "/var/folders/z3/zc5j75dj0qn_z2sp8qf47q340000gn/T/ipykernel_75411/652174667.py:8: ResourceWarning: unclosed <socket.socket fd=94, family=AddressFamily.AF_INET, type=SocketKind.SOCK_STREAM, proto=6, laddr=('127.0.0.1', 60493), raddr=('127.0.0.1', 11434)>\n",
      "  analyzer = GraphRAGSystem(row[\"question\"])\n",
      "ResourceWarning: Enable tracemalloc to get the object allocation traceback\n"
     ]
    },
    {
     "name": "stdout",
     "output_type": "stream",
     "text": [
      "Question 342: What signals the start of wet AMD? a) Gradual peripheral fade b) Sudden central blur c) Eye dryness d) Floaters\n",
      "Context: T...\n",
      "Response: B\n",
      "\n"
     ]
    },
    {
     "name": "stderr",
     "output_type": "stream",
     "text": [
      "/var/folders/z3/zc5j75dj0qn_z2sp8qf47q340000gn/T/ipykernel_75411/652174667.py:8: ResourceWarning: unclosed <socket.socket fd=94, family=AddressFamily.AF_INET, type=SocketKind.SOCK_STREAM, proto=6, laddr=('127.0.0.1', 60527), raddr=('127.0.0.1', 11434)>\n",
      "  analyzer = GraphRAGSystem(row[\"question\"])\n",
      "ResourceWarning: Enable tracemalloc to get the object allocation traceback\n"
     ]
    },
    {
     "name": "stdout",
     "output_type": "stream",
     "text": [
      "Question 343: Can AMD be transmitted person-to-person? a) Yes b) No c) Rarely d) Only genetically\n",
      "Context: S...\n",
      "Response: a) Yes\n",
      "\n"
     ]
    },
    {
     "name": "stderr",
     "output_type": "stream",
     "text": [
      "/var/folders/z3/zc5j75dj0qn_z2sp8qf47q340000gn/T/ipykernel_75411/652174667.py:8: ResourceWarning: unclosed <socket.socket fd=94, family=AddressFamily.AF_INET, type=SocketKind.SOCK_STREAM, proto=6, laddr=('127.0.0.1', 60550), raddr=('127.0.0.1', 11434)>\n",
      "  analyzer = GraphRAGSystem(row[\"question\"])\n",
      "ResourceWarning: Enable tracemalloc to get the object allocation traceback\n"
     ]
    },
    {
     "name": "stdout",
     "output_type": "stream",
     "text": [
      "Question 344: Which weight condition raises AMD risk? a) Obesity b) Underweight c) Normal weight d) High muscle mass\n",
      "Context: T...\n",
      "Response: c\n",
      "\n"
     ]
    },
    {
     "name": "stderr",
     "output_type": "stream",
     "text": [
      "/var/folders/z3/zc5j75dj0qn_z2sp8qf47q340000gn/T/ipykernel_75411/652174667.py:8: ResourceWarning: unclosed <socket.socket fd=94, family=AddressFamily.AF_INET, type=SocketKind.SOCK_STREAM, proto=6, laddr=('127.0.0.1', 60580), raddr=('127.0.0.1', 11434)>\n",
      "  analyzer = GraphRAGSystem(row[\"question\"])\n",
      "ResourceWarning: Enable tracemalloc to get the object allocation traceback\n"
     ]
    },
    {
     "name": "stdout",
     "output_type": "stream",
     "text": [
      "Question 345: Can surgery fully reverse AMD effects? a) Yes b) No c) Partially d) Only wet AMD\n",
      "Context: T...\n",
      "Response: c\n",
      "\n"
     ]
    },
    {
     "name": "stderr",
     "output_type": "stream",
     "text": [
      "/var/folders/z3/zc5j75dj0qn_z2sp8qf47q340000gn/T/ipykernel_75411/652174667.py:8: ResourceWarning: unclosed <socket.socket fd=94, family=AddressFamily.AF_INET, type=SocketKind.SOCK_STREAM, proto=6, laddr=('127.0.0.1', 60618), raddr=('127.0.0.1', 11434)>\n",
      "  analyzer = GraphRAGSystem(row[\"question\"])\n",
      "ResourceWarning: Enable tracemalloc to get the object allocation traceback\n"
     ]
    },
    {
     "name": "stdout",
     "output_type": "stream",
     "text": [
      "Question 346: What visual skill does AMD often compromise? a) Color perception b) Hearing clarity c) Taste sensitivity d) Peripheral motion\n",
      "Context: T...\n",
      "Response: A\n",
      "\n"
     ]
    },
    {
     "name": "stderr",
     "output_type": "stream",
     "text": [
      "/var/folders/z3/zc5j75dj0qn_z2sp8qf47q340000gn/T/ipykernel_75411/652174667.py:8: ResourceWarning: unclosed <socket.socket fd=94, family=AddressFamily.AF_INET, type=SocketKind.SOCK_STREAM, proto=6, laddr=('127.0.0.1', 60653), raddr=('127.0.0.1', 11434)>\n",
      "  analyzer = GraphRAGSystem(row[\"question\"])\n",
      "ResourceWarning: Enable tracemalloc to get the object allocation traceback\n"
     ]
    },
    {
     "name": "stdout",
     "output_type": "stream",
     "text": [
      "Question 347: Does heavy smartphone use directly trigger AMD? a) Yes b) No c) Sometimes d) Only prolonged\n",
      "Context: T...\n",
      "Response: b)\n",
      "\n"
     ]
    },
    {
     "name": "stderr",
     "output_type": "stream",
     "text": [
      "/var/folders/z3/zc5j75dj0qn_z2sp8qf47q340000gn/T/ipykernel_75411/652174667.py:8: ResourceWarning: unclosed <socket.socket fd=94, family=AddressFamily.AF_INET, type=SocketKind.SOCK_STREAM, proto=6, laddr=('127.0.0.1', 60685), raddr=('127.0.0.1', 11434)>\n",
      "  analyzer = GraphRAGSystem(row[\"question\"])\n",
      "ResourceWarning: Enable tracemalloc to get the object allocation traceback\n"
     ]
    },
    {
     "name": "stdout",
     "output_type": "stream",
     "text": [
      "Question 348: What imaging tool is critical for AMD diagnosis? a) OCT b) MRI c) X-ray d) Ultrasound\n",
      "Context: T...\n",
      "Response: A\n",
      "\n"
     ]
    },
    {
     "name": "stderr",
     "output_type": "stream",
     "text": [
      "/var/folders/z3/zc5j75dj0qn_z2sp8qf47q340000gn/T/ipykernel_75411/652174667.py:8: ResourceWarning: unclosed <socket.socket fd=94, family=AddressFamily.AF_INET, type=SocketKind.SOCK_STREAM, proto=6, laddr=('127.0.0.1', 60709), raddr=('127.0.0.1', 11434)>\n",
      "  analyzer = GraphRAGSystem(row[\"question\"])\n",
      "ResourceWarning: Enable tracemalloc to get the object allocation traceback\n"
     ]
    },
    {
     "name": "stdout",
     "output_type": "stream",
     "text": [
      "Question 349: What does wet AMD typically cause in the retina? a) Drusen shrinkage b) Fluid leakage c) Lens opacity d) Optic nerve damage\n",
      "Context: T...\n",
      "Response: B\n",
      "\n"
     ]
    },
    {
     "name": "stderr",
     "output_type": "stream",
     "text": [
      "/var/folders/z3/zc5j75dj0qn_z2sp8qf47q340000gn/T/ipykernel_75411/652174667.py:8: ResourceWarning: unclosed <socket.socket fd=94, family=AddressFamily.AF_INET, type=SocketKind.SOCK_STREAM, proto=6, laddr=('127.0.0.1', 60731), raddr=('127.0.0.1', 11434)>\n",
      "  analyzer = GraphRAGSystem(row[\"question\"])\n",
      "ResourceWarning: Enable tracemalloc to get the object allocation traceback\n"
     ]
    },
    {
     "name": "stdout",
     "output_type": "stream",
     "text": [
      "Question 350: Which gender has a slightly higher AMD incidence? a) Men b) Women c) Equal d) Unknown\n",
      "Context: T...\n",
      "Response: B\n",
      "\n"
     ]
    },
    {
     "name": "stderr",
     "output_type": "stream",
     "text": [
      "/var/folders/z3/zc5j75dj0qn_z2sp8qf47q340000gn/T/ipykernel_75411/652174667.py:8: ResourceWarning: unclosed <socket.socket fd=94, family=AddressFamily.AF_INET, type=SocketKind.SOCK_STREAM, proto=6, laddr=('127.0.0.1', 60767), raddr=('127.0.0.1', 11434)>\n",
      "  analyzer = GraphRAGSystem(row[\"question\"])\n",
      "ResourceWarning: Enable tracemalloc to get the object allocation traceback\n"
     ]
    },
    {
     "name": "stdout",
     "output_type": "stream",
     "text": [
      "Question 351: Are over-the-counter eye drops effective against AMD? a) Yes b) No c) Sometimes d) Only dry AMD\n",
      "Context: T...\n",
      "Response: b\n",
      "\n"
     ]
    },
    {
     "name": "stderr",
     "output_type": "stream",
     "text": [
      "/var/folders/z3/zc5j75dj0qn_z2sp8qf47q340000gn/T/ipykernel_75411/652174667.py:8: ResourceWarning: unclosed <socket.socket fd=94, family=AddressFamily.AF_INET, type=SocketKind.SOCK_STREAM, proto=6, laddr=('127.0.0.1', 60795), raddr=('127.0.0.1', 11434)>\n",
      "  analyzer = GraphRAGSystem(row[\"question\"])\n",
      "ResourceWarning: Enable tracemalloc to get the object allocation traceback\n"
     ]
    },
    {
     "name": "stdout",
     "output_type": "stream",
     "text": [
      "Question 352: Which vascular condition heightens AMD risk? a) Hypotension b) Hypertension c) Low pulse d) High oxygen\n",
      "Context: T...\n",
      "Response: A is incorrect, C is incorrect, and D is incorrect.\n",
      "\n",
      "The correct answer is B: Hypertension.\n",
      "\n"
     ]
    },
    {
     "name": "stderr",
     "output_type": "stream",
     "text": [
      "/var/folders/z3/zc5j75dj0qn_z2sp8qf47q340000gn/T/ipykernel_75411/652174667.py:8: ResourceWarning: unclosed <socket.socket fd=94, family=AddressFamily.AF_INET, type=SocketKind.SOCK_STREAM, proto=6, laddr=('127.0.0.1', 60830), raddr=('127.0.0.1', 11434)>\n",
      "  analyzer = GraphRAGSystem(row[\"question\"])\n",
      "ResourceWarning: Enable tracemalloc to get the object allocation traceback\n"
     ]
    },
    {
     "name": "stdout",
     "output_type": "stream",
     "text": [
      "Question 353: What lipid profile is associated with AMD? a) High cholesterol b) Low cholesterol c) High HDL d) Low LDL\n",
      "Context: T...\n",
      "Response: d) Low LDL\n",
      "\n"
     ]
    },
    {
     "name": "stderr",
     "output_type": "stream",
     "text": [
      "/var/folders/z3/zc5j75dj0qn_z2sp8qf47q340000gn/T/ipykernel_75411/652174667.py:8: ResourceWarning: unclosed <socket.socket fd=94, family=AddressFamily.AF_INET, type=SocketKind.SOCK_STREAM, proto=6, laddr=('127.0.0.1', 60868), raddr=('127.0.0.1', 11434)>\n",
      "  analyzer = GraphRAGSystem(row[\"question\"])\n",
      "ResourceWarning: Enable tracemalloc to get the object allocation traceback\n"
     ]
    },
    {
     "name": "stdout",
     "output_type": "stream",
     "text": [
      "Question 354: Can omega-3 intake alone halt AMD? a) Yes b) No c) Partially d) Only with vitamins\n",
      "Context: T...\n",
      "Response: b\n",
      "\n"
     ]
    },
    {
     "name": "stderr",
     "output_type": "stream",
     "text": [
      "/var/folders/z3/zc5j75dj0qn_z2sp8qf47q340000gn/T/ipykernel_75411/652174667.py:8: ResourceWarning: unclosed <socket.socket fd=94, family=AddressFamily.AF_INET, type=SocketKind.SOCK_STREAM, proto=6, laddr=('127.0.0.1', 60889), raddr=('127.0.0.1', 11434)>\n",
      "  analyzer = GraphRAGSystem(row[\"question\"])\n",
      "ResourceWarning: Enable tracemalloc to get the object allocation traceback\n"
     ]
    },
    {
     "name": "stdout",
     "output_type": "stream",
     "text": [
      "Question 355: Which eye structure is generally unaffected by AMD? a) Macula b) Optic nerve c) Choroid d) Retina\n",
      "Context: S...\n",
      "Response: d)\n",
      "\n"
     ]
    },
    {
     "name": "stderr",
     "output_type": "stream",
     "text": [
      "/var/folders/z3/zc5j75dj0qn_z2sp8qf47q340000gn/T/ipykernel_75411/652174667.py:8: ResourceWarning: unclosed <socket.socket fd=94, family=AddressFamily.AF_INET, type=SocketKind.SOCK_STREAM, proto=6, laddr=('127.0.0.1', 60920), raddr=('127.0.0.1', 11434)>\n",
      "  analyzer = GraphRAGSystem(row[\"question\"])\n",
      "ResourceWarning: Enable tracemalloc to get the object allocation traceback\n"
     ]
    },
    {
     "name": "stdout",
     "output_type": "stream",
     "text": [
      "Question 356: What light-activated therapy treats wet AMD? a) LASIK b) Photodynamic therapy c) UV exposure d) Laser correction\n",
      "Context: T...\n",
      "Response: B\n",
      "\n"
     ]
    },
    {
     "name": "stderr",
     "output_type": "stream",
     "text": [
      "/var/folders/z3/zc5j75dj0qn_z2sp8qf47q340000gn/T/ipykernel_75411/652174667.py:8: ResourceWarning: unclosed <socket.socket fd=94, family=AddressFamily.AF_INET, type=SocketKind.SOCK_STREAM, proto=6, laddr=('127.0.0.1', 60960), raddr=('127.0.0.1', 11434)>\n",
      "  analyzer = GraphRAGSystem(row[\"question\"])\n",
      "ResourceWarning: Enable tracemalloc to get the object allocation traceback\n"
     ]
    },
    {
     "name": "stdout",
     "output_type": "stream",
     "text": [
      "Question 357: Does AMD elevate accident risk in older adults? a) Falls b) Cuts c) Burns d) Sprains\n",
      "Context: T...\n",
      "Response: A\n",
      "\n"
     ]
    },
    {
     "name": "stderr",
     "output_type": "stream",
     "text": [
      "/var/folders/z3/zc5j75dj0qn_z2sp8qf47q340000gn/T/ipykernel_75411/652174667.py:8: ResourceWarning: unclosed <socket.socket fd=94, family=AddressFamily.AF_INET, type=SocketKind.SOCK_STREAM, proto=6, laddr=('127.0.0.1', 60992), raddr=('127.0.0.1', 11434)>\n",
      "  analyzer = GraphRAGSystem(row[\"question\"])\n",
      "ResourceWarning: Enable tracemalloc to get the object allocation traceback\n"
     ]
    },
    {
     "name": "stdout",
     "output_type": "stream",
     "text": [
      "Question 358: Is AMD typically limited to one eye at onset? a) Yes b) No c) Always d) Rarely\n",
      "Context: T...\n",
      "Response: b\n",
      "\n"
     ]
    },
    {
     "name": "stderr",
     "output_type": "stream",
     "text": [
      "/var/folders/z3/zc5j75dj0qn_z2sp8qf47q340000gn/T/ipykernel_75411/652174667.py:8: ResourceWarning: unclosed <socket.socket fd=94, family=AddressFamily.AF_INET, type=SocketKind.SOCK_STREAM, proto=6, laddr=('127.0.0.1', 61026), raddr=('127.0.0.1', 11434)>\n",
      "  analyzer = GraphRAGSystem(row[\"question\"])\n",
      "ResourceWarning: Enable tracemalloc to get the object allocation traceback\n"
     ]
    },
    {
     "name": "stdout",
     "output_type": "stream",
     "text": [
      "Question 359: What nutritional strategy aids dry AMD? a) AREDS b) High-carb diet c) Low-fat diet d) Vitamin B12\n",
      "Context: T...\n",
      "Response: A\n",
      "The correct answer is A) AREDS. The Age-Related Eye Disease Study (AREDS) is a well-established nutritional strategy that recommends supplementation with vitamins C and E, as well as zinc and copper, to aid in the prevention and treatment of dry age-related macular degeneration (AMD).\n",
      "\n"
     ]
    },
    {
     "name": "stderr",
     "output_type": "stream",
     "text": [
      "/var/folders/z3/zc5j75dj0qn_z2sp8qf47q340000gn/T/ipykernel_75411/652174667.py:8: ResourceWarning: unclosed <socket.socket fd=94, family=AddressFamily.AF_INET, type=SocketKind.SOCK_STREAM, proto=6, laddr=('127.0.0.1', 61055), raddr=('127.0.0.1', 11434)>\n",
      "  analyzer = GraphRAGSystem(row[\"question\"])\n",
      "ResourceWarning: Enable tracemalloc to get the object allocation traceback\n"
     ]
    },
    {
     "name": "stdout",
     "output_type": "stream",
     "text": [
      "Question 360: Which racial group faces higher AMD rates? a) Caucasians b) African Americans c) Asians d) Native Americans\n",
      "Context: T...\n",
      "Response: B\n",
      "\n"
     ]
    },
    {
     "name": "stderr",
     "output_type": "stream",
     "text": [
      "/var/folders/z3/zc5j75dj0qn_z2sp8qf47q340000gn/T/ipykernel_75411/652174667.py:8: ResourceWarning: unclosed <socket.socket fd=94, family=AddressFamily.AF_INET, type=SocketKind.SOCK_STREAM, proto=6, laddr=('127.0.0.1', 61086), raddr=('127.0.0.1', 11434)>\n",
      "  analyzer = GraphRAGSystem(row[\"question\"])\n",
      "ResourceWarning: Enable tracemalloc to get the object allocation traceback\n"
     ]
    },
    {
     "name": "stdout",
     "output_type": "stream",
     "text": [
      "Question 361: What visual distortion is frequent in AMD? a) Wavy lines b) Peripheral blur c) Flashing spots d) Double vision\n",
      "Context: T...\n",
      "Response: The correct answer is B, Peripheral blur.\n",
      "\n"
     ]
    },
    {
     "name": "stderr",
     "output_type": "stream",
     "text": [
      "/var/folders/z3/zc5j75dj0qn_z2sp8qf47q340000gn/T/ipykernel_75411/652174667.py:8: ResourceWarning: unclosed <socket.socket fd=94, family=AddressFamily.AF_INET, type=SocketKind.SOCK_STREAM, proto=6, laddr=('127.0.0.1', 61112), raddr=('127.0.0.1', 11434)>\n",
      "  analyzer = GraphRAGSystem(row[\"question\"])\n",
      "ResourceWarning: Enable tracemalloc to get the object allocation traceback\n"
     ]
    },
    {
     "name": "stdout",
     "output_type": "stream",
     "text": [
      "Question 362: Is AMD a bacterial infection? a) Yes b) No c) Sometimes d) Only wet AMD\n",
      "Context: T...\n",
      "Response: b\n",
      "\n"
     ]
    },
    {
     "name": "stderr",
     "output_type": "stream",
     "text": [
      "/var/folders/z3/zc5j75dj0qn_z2sp8qf47q340000gn/T/ipykernel_75411/652174667.py:8: ResourceWarning: unclosed <socket.socket fd=94, family=AddressFamily.AF_INET, type=SocketKind.SOCK_STREAM, proto=6, laddr=('127.0.0.1', 61147), raddr=('127.0.0.1', 11434)>\n",
      "  analyzer = GraphRAGSystem(row[\"question\"])\n",
      "ResourceWarning: Enable tracemalloc to get the object allocation traceback\n"
     ]
    },
    {
     "name": "stdout",
     "output_type": "stream",
     "text": [
      "Question 363: Which spatial ability does AMD affect? a) Depth perception b) Sound direction c) Smell intensity d) Touch accuracy\n",
      "Context: T...\n",
      "Response: The correct answer is: a) Depth perception\n",
      "\n"
     ]
    },
    {
     "name": "stderr",
     "output_type": "stream",
     "text": [
      "/var/folders/z3/zc5j75dj0qn_z2sp8qf47q340000gn/T/ipykernel_75411/652174667.py:8: ResourceWarning: unclosed <socket.socket fd=94, family=AddressFamily.AF_INET, type=SocketKind.SOCK_STREAM, proto=6, laddr=('127.0.0.1', 61177), raddr=('127.0.0.1', 11434)>\n",
      "  analyzer = GraphRAGSystem(row[\"question\"])\n",
      "ResourceWarning: Enable tracemalloc to get the object allocation traceback\n"
     ]
    },
    {
     "name": "stdout",
     "output_type": "stream",
     "text": [
      "Question 364: Can AMD occur in toddlers? a) Yes b) No c) Rarely d) Only genetically\n",
      "Context: T...\n",
      "Response: a) Yes\n",
      "\n"
     ]
    },
    {
     "name": "stderr",
     "output_type": "stream",
     "text": [
      "/var/folders/z3/zc5j75dj0qn_z2sp8qf47q340000gn/T/ipykernel_75411/652174667.py:8: ResourceWarning: unclosed <socket.socket fd=94, family=AddressFamily.AF_INET, type=SocketKind.SOCK_STREAM, proto=6, laddr=('127.0.0.1', 61209), raddr=('127.0.0.1', 11434)>\n",
      "  analyzer = GraphRAGSystem(row[\"question\"])\n",
      "ResourceWarning: Enable tracemalloc to get the object allocation traceback\n"
     ]
    },
    {
     "name": "stdout",
     "output_type": "stream",
     "text": [
      "Question 365: Does AMD commonly require visual assistance? a) Yes b) No c) Sometimes d) Never\n",
      "Context: T...\n",
      "Response: a) Yes\n",
      "\n"
     ]
    },
    {
     "name": "stderr",
     "output_type": "stream",
     "text": [
      "/var/folders/z3/zc5j75dj0qn_z2sp8qf47q340000gn/T/ipykernel_75411/652174667.py:8: ResourceWarning: unclosed <socket.socket fd=94, family=AddressFamily.AF_INET, type=SocketKind.SOCK_STREAM, proto=6, laddr=('127.0.0.1', 61236), raddr=('127.0.0.1', 11434)>\n",
      "  analyzer = GraphRAGSystem(row[\"question\"])\n",
      "ResourceWarning: Enable tracemalloc to get the object allocation traceback\n"
     ]
    },
    {
     "name": "stdout",
     "output_type": "stream",
     "text": [
      "Question 366: What environmental exposure is tied to AMD risk? a) Noise b) UV light c) Cold air d) Dust\n",
      "Context: T...\n",
      "Response: b) UV light\n",
      "\n"
     ]
    },
    {
     "name": "stderr",
     "output_type": "stream",
     "text": [
      "/var/folders/z3/zc5j75dj0qn_z2sp8qf47q340000gn/T/ipykernel_75411/652174667.py:8: ResourceWarning: unclosed <socket.socket fd=94, family=AddressFamily.AF_INET, type=SocketKind.SOCK_STREAM, proto=6, laddr=('127.0.0.1', 61263), raddr=('127.0.0.1', 11434)>\n",
      "  analyzer = GraphRAGSystem(row[\"question\"])\n",
      "ResourceWarning: Enable tracemalloc to get the object allocation traceback\n"
     ]
    },
    {
     "name": "stdout",
     "output_type": "stream",
     "text": [
      "Question 367: Can exercise alone stop AMD progression? a) Yes b) No c) Partially d) Only early stages\n",
      "Context: T...\n",
      "Response: b\n",
      "\n"
     ]
    },
    {
     "name": "stderr",
     "output_type": "stream",
     "text": [
      "/var/folders/z3/zc5j75dj0qn_z2sp8qf47q340000gn/T/ipykernel_75411/652174667.py:8: ResourceWarning: unclosed <socket.socket fd=94, family=AddressFamily.AF_INET, type=SocketKind.SOCK_STREAM, proto=6, laddr=('127.0.0.1', 61296), raddr=('127.0.0.1', 11434)>\n",
      "  analyzer = GraphRAGSystem(row[\"question\"])\n",
      "ResourceWarning: Enable tracemalloc to get the object allocation traceback\n"
     ]
    },
    {
     "name": "stdout",
     "output_type": "stream",
     "text": [
      "Question 368: Which vision type is most intact in AMD? a) Central b) Peripheral c) Night d) Color\n",
      "Context: T...\n",
      "Response: c\n",
      "\n"
     ]
    },
    {
     "name": "stderr",
     "output_type": "stream",
     "text": [
      "/var/folders/z3/zc5j75dj0qn_z2sp8qf47q340000gn/T/ipykernel_75411/652174667.py:8: ResourceWarning: unclosed <socket.socket fd=94, family=AddressFamily.AF_INET, type=SocketKind.SOCK_STREAM, proto=6, laddr=('127.0.0.1', 61320), raddr=('127.0.0.1', 11434)>\n",
      "  analyzer = GraphRAGSystem(row[\"question\"])\n",
      "ResourceWarning: Enable tracemalloc to get the object allocation traceback\n"
     ]
    },
    {
     "name": "stdout",
     "output_type": "stream",
     "text": [
      "Question 369: What clinical exam detects AMD? a) Blood test b) Dilated eye exam c) Hearing test d) Skin test\n",
      "Context: T...\n",
      "Response: B\n",
      "\n"
     ]
    },
    {
     "name": "stderr",
     "output_type": "stream",
     "text": [
      "/var/folders/z3/zc5j75dj0qn_z2sp8qf47q340000gn/T/ipykernel_75411/652174667.py:8: ResourceWarning: unclosed <socket.socket fd=94, family=AddressFamily.AF_INET, type=SocketKind.SOCK_STREAM, proto=6, laddr=('127.0.0.1', 61350), raddr=('127.0.0.1', 11434)>\n",
      "  analyzer = GraphRAGSystem(row[\"question\"])\n",
      "ResourceWarning: Enable tracemalloc to get the object allocation traceback\n"
     ]
    },
    {
     "name": "stdout",
     "output_type": "stream",
     "text": [
      "Question 370: Does low-light reading cause AMD? a) Yes b) No c) Sometimes d) Only prolonged\n",
      "Context: T...\n",
      "Response: b)\n",
      "\n"
     ]
    },
    {
     "name": "stderr",
     "output_type": "stream",
     "text": [
      "/var/folders/z3/zc5j75dj0qn_z2sp8qf47q340000gn/T/ipykernel_75411/652174667.py:8: ResourceWarning: unclosed <socket.socket fd=94, family=AddressFamily.AF_INET, type=SocketKind.SOCK_STREAM, proto=6, laddr=('127.0.0.1', 61370), raddr=('127.0.0.1', 11434)>\n",
      "  analyzer = GraphRAGSystem(row[\"question\"])\n",
      "ResourceWarning: Enable tracemalloc to get the object allocation traceback\n"
     ]
    },
    {
     "name": "stdout",
     "output_type": "stream",
     "text": [
      "Question 371: Which identification task does AMD hinder? a) Face recognition b) Sound identification c) Smell identification d) Taste identification\n",
      "Context: T...\n",
      "Response: A\n",
      "\n",
      "Explanation: The information states that relationships 3, 5, and 7 establish a direct link between AMD and its impact on an individual's ability to identify faces. There is no mention of AMD affecting sound or smell identifications, making those options (b, c, and d) incorrect.\n",
      "\n"
     ]
    },
    {
     "name": "stderr",
     "output_type": "stream",
     "text": [
      "/var/folders/z3/zc5j75dj0qn_z2sp8qf47q340000gn/T/ipykernel_75411/652174667.py:8: ResourceWarning: unclosed <socket.socket fd=94, family=AddressFamily.AF_INET, type=SocketKind.SOCK_STREAM, proto=6, laddr=('127.0.0.1', 61401), raddr=('127.0.0.1', 11434)>\n",
      "  analyzer = GraphRAGSystem(row[\"question\"])\n",
      "ResourceWarning: Enable tracemalloc to get the object allocation traceback\n"
     ]
    },
    {
     "name": "stdout",
     "output_type": "stream",
     "text": [
      "Question 372: Are antibiotics effective for AMD treatment? a) Yes b) No c) Sometimes d) Only for wet AMD\n",
      "Context: T...\n",
      "Response: b) No\n",
      "\n"
     ]
    },
    {
     "name": "stderr",
     "output_type": "stream",
     "text": [
      "/var/folders/z3/zc5j75dj0qn_z2sp8qf47q340000gn/T/ipykernel_75411/652174667.py:8: ResourceWarning: unclosed <socket.socket fd=94, family=AddressFamily.AF_INET, type=SocketKind.SOCK_STREAM, proto=6, laddr=('127.0.0.1', 61428), raddr=('127.0.0.1', 11434)>\n",
      "  analyzer = GraphRAGSystem(row[\"question\"])\n",
      "ResourceWarning: Enable tracemalloc to get the object allocation traceback\n"
     ]
    },
    {
     "name": "stdout",
     "output_type": "stream",
     "text": [
      "Question 373: What demographic factor most drives AMD? a) Age b) Height c) Weight d) Hair color\n",
      "Context: T...\n",
      "Response: A\n",
      "\n"
     ]
    },
    {
     "name": "stderr",
     "output_type": "stream",
     "text": [
      "/var/folders/z3/zc5j75dj0qn_z2sp8qf47q340000gn/T/ipykernel_75411/652174667.py:8: ResourceWarning: unclosed <socket.socket fd=94, family=AddressFamily.AF_INET, type=SocketKind.SOCK_STREAM, proto=6, laddr=('127.0.0.1', 61450), raddr=('127.0.0.1', 11434)>\n",
      "  analyzer = GraphRAGSystem(row[\"question\"])\n",
      "ResourceWarning: Enable tracemalloc to get the object allocation traceback\n"
     ]
    },
    {
     "name": "stdout",
     "output_type": "stream",
     "text": [
      "Question 374: Which retinal process defines wet AMD? a) Drusen increase b) Neovascularization c) Optic nerve thinning d) Lens hardening\n",
      "Context: T...\n",
      "Response: B\n",
      "\n"
     ]
    },
    {
     "name": "stderr",
     "output_type": "stream",
     "text": [
      "/var/folders/z3/zc5j75dj0qn_z2sp8qf47q340000gn/T/ipykernel_75411/652174667.py:8: ResourceWarning: unclosed <socket.socket fd=94, family=AddressFamily.AF_INET, type=SocketKind.SOCK_STREAM, proto=6, laddr=('127.0.0.1', 61481), raddr=('127.0.0.1', 11434)>\n",
      "  analyzer = GraphRAGSystem(row[\"question\"])\n",
      "ResourceWarning: Enable tracemalloc to get the object allocation traceback\n"
     ]
    },
    {
     "name": "stdout",
     "output_type": "stream",
     "text": [
      "Question 375: Can avoiding sunlight entirely prevent AMD? a) Yes b) No c) Partially d) Only with diet\n",
      "Context: T...\n",
      "Response: d) Only with diet\n",
      "\n"
     ]
    },
    {
     "name": "stderr",
     "output_type": "stream",
     "text": [
      "/var/folders/z3/zc5j75dj0qn_z2sp8qf47q340000gn/T/ipykernel_75411/652174667.py:8: ResourceWarning: unclosed <socket.socket fd=94, family=AddressFamily.AF_INET, type=SocketKind.SOCK_STREAM, proto=6, laddr=('127.0.0.1', 61516), raddr=('127.0.0.1', 11434)>\n",
      "  analyzer = GraphRAGSystem(row[\"question\"])\n",
      "ResourceWarning: Enable tracemalloc to get the object allocation traceback\n"
     ]
    },
    {
     "name": "stdout",
     "output_type": "stream",
     "text": [
      "Question 376: Which vitamin is not in the AREDS formula? a) Vitamin C b) Vitamin E c) Vitamin D d) Zinc\n",
      "Context: T...\n",
      "Response: d\n",
      "\n"
     ]
    },
    {
     "name": "stderr",
     "output_type": "stream",
     "text": [
      "/var/folders/z3/zc5j75dj0qn_z2sp8qf47q340000gn/T/ipykernel_75411/652174667.py:8: ResourceWarning: unclosed <socket.socket fd=94, family=AddressFamily.AF_INET, type=SocketKind.SOCK_STREAM, proto=6, laddr=('127.0.0.1', 61550), raddr=('127.0.0.1', 11434)>\n",
      "  analyzer = GraphRAGSystem(row[\"question\"])\n",
      "ResourceWarning: Enable tracemalloc to get the object allocation traceback\n"
     ]
    },
    {
     "name": "stdout",
     "output_type": "stream",
     "text": [
      "Question 377: What does fluorescein angiography reveal in wet AMD? a) Drusen density b) Vascular leakage c) Lens clarity d) Corneal thickness\n",
      "Context: F...\n",
      "Response: B\n",
      "\n"
     ]
    },
    {
     "name": "stderr",
     "output_type": "stream",
     "text": [
      "/var/folders/z3/zc5j75dj0qn_z2sp8qf47q340000gn/T/ipykernel_75411/652174667.py:8: ResourceWarning: unclosed <socket.socket fd=94, family=AddressFamily.AF_INET, type=SocketKind.SOCK_STREAM, proto=6, laddr=('127.0.0.1', 61579), raddr=('127.0.0.1', 11434)>\n",
      "  analyzer = GraphRAGSystem(row[\"question\"])\n",
      "ResourceWarning: Enable tracemalloc to get the object allocation traceback\n"
     ]
    },
    {
     "name": "stdout",
     "output_type": "stream",
     "text": [
      "Question 378: Which areas have higher AMD rates? a) Rural tropics b) Developed urban c) Arctic zones d) Desert regions\n",
      "Context: T...\n",
      "Response: The correct answer is: D\n",
      "\n"
     ]
    },
    {
     "name": "stderr",
     "output_type": "stream",
     "text": [
      "/var/folders/z3/zc5j75dj0qn_z2sp8qf47q340000gn/T/ipykernel_75411/652174667.py:8: ResourceWarning: unclosed <socket.socket fd=94, family=AddressFamily.AF_INET, type=SocketKind.SOCK_STREAM, proto=6, laddr=('127.0.0.1', 61614), raddr=('127.0.0.1', 11434)>\n",
      "  analyzer = GraphRAGSystem(row[\"question\"])\n",
      "ResourceWarning: Enable tracemalloc to get the object allocation traceback\n"
     ]
    },
    {
     "name": "stdout",
     "output_type": "stream",
     "text": [
      "Question 379: Can wet AMD be completely reversed today? a) Yes b) No c) Sometimes d) Only early stages\n",
      "Context: T...\n",
      "Response: b\n",
      "\n"
     ]
    },
    {
     "name": "stderr",
     "output_type": "stream",
     "text": [
      "/var/folders/z3/zc5j75dj0qn_z2sp8qf47q340000gn/T/ipykernel_75411/652174667.py:8: ResourceWarning: unclosed <socket.socket fd=94, family=AddressFamily.AF_INET, type=SocketKind.SOCK_STREAM, proto=6, laddr=('127.0.0.1', 61639), raddr=('127.0.0.1', 11434)>\n",
      "  analyzer = GraphRAGSystem(row[\"question\"])\n",
      "ResourceWarning: Enable tracemalloc to get the object allocation traceback\n"
     ]
    },
    {
     "name": "stdout",
     "output_type": "stream",
     "text": [
      "Question 380: What retinal region does AMD target? a) Optic disc b) Macula c) Peripheral retina d) Ciliary body\n",
      "Context: T...\n",
      "Response: b\n",
      "\n"
     ]
    },
    {
     "name": "stderr",
     "output_type": "stream",
     "text": [
      "/var/folders/z3/zc5j75dj0qn_z2sp8qf47q340000gn/T/ipykernel_75411/652174667.py:8: ResourceWarning: unclosed <socket.socket fd=94, family=AddressFamily.AF_INET, type=SocketKind.SOCK_STREAM, proto=6, laddr=('127.0.0.1', 61663), raddr=('127.0.0.1', 11434)>\n",
      "  analyzer = GraphRAGSystem(row[\"question\"])\n",
      "ResourceWarning: Enable tracemalloc to get the object allocation traceback\n"
     ]
    },
    {
     "name": "stdout",
     "output_type": "stream",
     "text": [
      "Question 381: Is poor sanitation a direct AMD cause? a) Yes b) No c) Sometimes d) Only severe cases\n",
      "Context: T...\n",
      "Response: b\n",
      "\n"
     ]
    },
    {
     "name": "stderr",
     "output_type": "stream",
     "text": [
      "/var/folders/z3/zc5j75dj0qn_z2sp8qf47q340000gn/T/ipykernel_75411/652174667.py:8: ResourceWarning: unclosed <socket.socket fd=94, family=AddressFamily.AF_INET, type=SocketKind.SOCK_STREAM, proto=6, laddr=('127.0.0.1', 61688), raddr=('127.0.0.1', 11434)>\n",
      "  analyzer = GraphRAGSystem(row[\"question\"])\n",
      "ResourceWarning: Enable tracemalloc to get the object allocation traceback\n"
     ]
    },
    {
     "name": "stdout",
     "output_type": "stream",
     "text": [
      "Question 382: What aid helps AMD vision loss? a) Hearing aids b) Magnifiers c) Crutches d) Inhalers\n",
      "Context: L...\n",
      "Response: B\n",
      "\n"
     ]
    },
    {
     "name": "stderr",
     "output_type": "stream",
     "text": [
      "/var/folders/z3/zc5j75dj0qn_z2sp8qf47q340000gn/T/ipykernel_75411/652174667.py:8: ResourceWarning: unclosed <socket.socket fd=94, family=AddressFamily.AF_INET, type=SocketKind.SOCK_STREAM, proto=6, laddr=('127.0.0.1', 61715), raddr=('127.0.0.1', 11434)>\n",
      "  analyzer = GraphRAGSystem(row[\"question\"])\n",
      "ResourceWarning: Enable tracemalloc to get the object allocation traceback\n"
     ]
    },
    {
     "name": "stdout",
     "output_type": "stream",
     "text": [
      "Question 383: Which daily task does AMD most affect? a) Driving b) Hearing c) Tasting d) Smelling\n",
      "Context: T...\n",
      "Response: A\n",
      "\n"
     ]
    },
    {
     "name": "stderr",
     "output_type": "stream",
     "text": [
      "/var/folders/z3/zc5j75dj0qn_z2sp8qf47q340000gn/T/ipykernel_75411/652174667.py:8: ResourceWarning: unclosed <socket.socket fd=94, family=AddressFamily.AF_INET, type=SocketKind.SOCK_STREAM, proto=6, laddr=('127.0.0.1', 61743), raddr=('127.0.0.1', 11434)>\n",
      "  analyzer = GraphRAGSystem(row[\"question\"])\n",
      "ResourceWarning: Enable tracemalloc to get the object allocation traceback\n"
     ]
    },
    {
     "name": "stdout",
     "output_type": "stream",
     "text": [
      "Question 384: Does excessive caffeine directly cause AMD? a) Yes b) No c) Sometimes d) Only with smoking\n",
      "Context: T...\n",
      "Response: b) No\n",
      "\n"
     ]
    },
    {
     "name": "stderr",
     "output_type": "stream",
     "text": [
      "/var/folders/z3/zc5j75dj0qn_z2sp8qf47q340000gn/T/ipykernel_75411/652174667.py:8: ResourceWarning: unclosed <socket.socket fd=94, family=AddressFamily.AF_INET, type=SocketKind.SOCK_STREAM, proto=6, laddr=('127.0.0.1', 61768), raddr=('127.0.0.1', 11434)>\n",
      "  analyzer = GraphRAGSystem(row[\"question\"])\n",
      "ResourceWarning: Enable tracemalloc to get the object allocation traceback\n"
     ]
    },
    {
     "name": "stdout",
     "output_type": "stream",
     "text": [
      "Question 385: What genetic factor boosts AMD risk? a) Eye color b) Family history c) Skin type d) Hair density\n",
      "Context: T...\n",
      "Response: B\n",
      "\n"
     ]
    },
    {
     "name": "stderr",
     "output_type": "stream",
     "text": [
      "/var/folders/z3/zc5j75dj0qn_z2sp8qf47q340000gn/T/ipykernel_75411/652174667.py:8: ResourceWarning: unclosed <socket.socket fd=94, family=AddressFamily.AF_INET, type=SocketKind.SOCK_STREAM, proto=6, laddr=('127.0.0.1', 61801), raddr=('127.0.0.1', 11434)>\n",
      "  analyzer = GraphRAGSystem(row[\"question\"])\n",
      "ResourceWarning: Enable tracemalloc to get the object allocation traceback\n"
     ]
    },
    {
     "name": "stdout",
     "output_type": "stream",
     "text": [
      "Question 386: Which retinal event occurs in wet AMD? a) Drusen reduction b) Subretinal hemorrhage c) Optic atrophy d) Lens detachment\n",
      "Context: T...\n",
      "Response: B\n",
      "\n"
     ]
    },
    {
     "name": "stderr",
     "output_type": "stream",
     "text": [
      "/var/folders/z3/zc5j75dj0qn_z2sp8qf47q340000gn/T/ipykernel_75411/652174667.py:8: ResourceWarning: unclosed <socket.socket fd=94, family=AddressFamily.AF_INET, type=SocketKind.SOCK_STREAM, proto=6, laddr=('127.0.0.1', 61839), raddr=('127.0.0.1', 11434)>\n",
      "  analyzer = GraphRAGSystem(row[\"question\"])\n",
      "ResourceWarning: Enable tracemalloc to get the object allocation traceback\n"
     ]
    },
    {
     "name": "stdout",
     "output_type": "stream",
     "text": [
      "Question 387: Is bright light exposure a direct AMD trigger? a) Yes b) No c) Sometimes d) Only prolonged\n",
      "Context: B...\n",
      "Response: a) Yes\n",
      "\n"
     ]
    },
    {
     "name": "stderr",
     "output_type": "stream",
     "text": [
      "/var/folders/z3/zc5j75dj0qn_z2sp8qf47q340000gn/T/ipykernel_75411/652174667.py:8: ResourceWarning: unclosed <socket.socket fd=94, family=AddressFamily.AF_INET, type=SocketKind.SOCK_STREAM, proto=6, laddr=('127.0.0.1', 61867), raddr=('127.0.0.1', 11434)>\n",
      "  analyzer = GraphRAGSystem(row[\"question\"])\n",
      "ResourceWarning: Enable tracemalloc to get the object allocation traceback\n"
     ]
    },
    {
     "name": "stdout",
     "output_type": "stream",
     "text": [
      "Question 388: What screening detects AMD early? a) Blood test b) Eye exam c) Hearing test d) Skin check\n",
      "Context: T...\n",
      "Response: B\n",
      "\n"
     ]
    },
    {
     "name": "stderr",
     "output_type": "stream",
     "text": [
      "/var/folders/z3/zc5j75dj0qn_z2sp8qf47q340000gn/T/ipykernel_75411/652174667.py:8: ResourceWarning: unclosed <socket.socket fd=94, family=AddressFamily.AF_INET, type=SocketKind.SOCK_STREAM, proto=6, laddr=('127.0.0.1', 61892), raddr=('127.0.0.1', 11434)>\n",
      "  analyzer = GraphRAGSystem(row[\"question\"])\n",
      "ResourceWarning: Enable tracemalloc to get the object allocation traceback\n"
     ]
    },
    {
     "name": "stdout",
     "output_type": "stream",
     "text": [
      "Question 389: Are floaters a primary AMD symptom? a) Yes b) No c) Sometimes d) Only late stages\n",
      "Context: T...\n",
      "Response: b) No\n",
      "\n"
     ]
    },
    {
     "name": "stderr",
     "output_type": "stream",
     "text": [
      "/var/folders/z3/zc5j75dj0qn_z2sp8qf47q340000gn/T/ipykernel_75411/652174667.py:8: ResourceWarning: unclosed <socket.socket fd=94, family=AddressFamily.AF_INET, type=SocketKind.SOCK_STREAM, proto=6, laddr=('127.0.0.1', 61920), raddr=('127.0.0.1', 11434)>\n",
      "  analyzer = GraphRAGSystem(row[\"question\"])\n",
      "ResourceWarning: Enable tracemalloc to get the object allocation traceback\n"
     ]
    },
    {
     "name": "stdout",
     "output_type": "stream",
     "text": [
      "Question 390: Which eye trait may increase AMD risk? a) Dark eyes b) Light eyes c) Myopia d) Hyperopia\n",
      "Context: T...\n",
      "Response: a)\n",
      "\n"
     ]
    },
    {
     "name": "stderr",
     "output_type": "stream",
     "text": [
      "/var/folders/z3/zc5j75dj0qn_z2sp8qf47q340000gn/T/ipykernel_75411/652174667.py:8: ResourceWarning: unclosed <socket.socket fd=94, family=AddressFamily.AF_INET, type=SocketKind.SOCK_STREAM, proto=6, laddr=('127.0.0.1', 61944), raddr=('127.0.0.1', 11434)>\n",
      "  analyzer = GraphRAGSystem(row[\"question\"])\n",
      "ResourceWarning: Enable tracemalloc to get the object allocation traceback\n"
     ]
    },
    {
     "name": "stdout",
     "output_type": "stream",
     "text": [
      "Question 391: Can vitamin C alone stop AMD? a) Yes b) No c) Sometimes d) Only with zinc\n",
      "Context: T...\n",
      "Response: b) No\n",
      "\n"
     ]
    },
    {
     "name": "stderr",
     "output_type": "stream",
     "text": [
      "/var/folders/z3/zc5j75dj0qn_z2sp8qf47q340000gn/T/ipykernel_75411/652174667.py:8: ResourceWarning: unclosed <socket.socket fd=94, family=AddressFamily.AF_INET, type=SocketKind.SOCK_STREAM, proto=6, laddr=('127.0.0.1', 61996), raddr=('127.0.0.1', 11434)>\n",
      "  analyzer = GraphRAGSystem(row[\"question\"])\n",
      "ResourceWarning: Enable tracemalloc to get the object allocation traceback\n"
     ]
    },
    {
     "name": "stdout",
     "output_type": "stream",
     "text": [
      "Question 392: What visual issue does AMD often create? a) Peripheral loss b) Central scotomas c) Flashing lights d) Double vision\n",
      "Context: T...\n",
      "Response: b is incorrect, The information states that central vision is affected with AMD. \n",
      "a is correct and b's equivalent,  peripheral loss or peripheral blindness.\n",
      "\n",
      "The best answer is A\n",
      "\n"
     ]
    },
    {
     "name": "stderr",
     "output_type": "stream",
     "text": [
      "/var/folders/z3/zc5j75dj0qn_z2sp8qf47q340000gn/T/ipykernel_75411/652174667.py:8: ResourceWarning: unclosed <socket.socket fd=94, family=AddressFamily.AF_INET, type=SocketKind.SOCK_STREAM, proto=6, laddr=('127.0.0.1', 62027), raddr=('127.0.0.1', 11434)>\n",
      "  analyzer = GraphRAGSystem(row[\"question\"])\n",
      "ResourceWarning: Enable tracemalloc to get the object allocation traceback\n"
     ]
    },
    {
     "name": "stdout",
     "output_type": "stream",
     "text": [
      "Question 393: Can AMD occur in toddlers? a) Yes b) No c) Rarely d) Only with genetics\n",
      "Context: T...\n",
      "Response: a) Yes\n",
      "\n"
     ]
    },
    {
     "name": "stderr",
     "output_type": "stream",
     "text": [
      "/var/folders/z3/zc5j75dj0qn_z2sp8qf47q340000gn/T/ipykernel_75411/652174667.py:8: ResourceWarning: unclosed <socket.socket fd=94, family=AddressFamily.AF_INET, type=SocketKind.SOCK_STREAM, proto=6, laddr=('127.0.0.1', 62064), raddr=('127.0.0.1', 11434)>\n",
      "  analyzer = GraphRAGSystem(row[\"question\"])\n",
      "ResourceWarning: Enable tracemalloc to get the object allocation traceback\n"
     ]
    },
    {
     "name": "stdout",
     "output_type": "stream",
     "text": [
      "Question 394: Which retinal feature is an early indicator of AMD? a) Choroidal rupture b) Small drusen c) Optic disc swelling d) Corneal opacity\n",
      "Context: T...\n",
      "Response: B\n",
      "\n"
     ]
    },
    {
     "name": "stderr",
     "output_type": "stream",
     "text": [
      "/var/folders/z3/zc5j75dj0qn_z2sp8qf47q340000gn/T/ipykernel_75411/652174667.py:8: ResourceWarning: unclosed <socket.socket fd=94, family=AddressFamily.AF_INET, type=SocketKind.SOCK_STREAM, proto=6, laddr=('127.0.0.1', 62091), raddr=('127.0.0.1', 11434)>\n",
      "  analyzer = GraphRAGSystem(row[\"question\"])\n",
      "ResourceWarning: Enable tracemalloc to get the object allocation traceback\n"
     ]
    },
    {
     "name": "stdout",
     "output_type": "stream",
     "text": [
      "Question 395: What symptom is most characteristic of wet AMD onset? a) Gradual peripheral blur b) Sudden central distortion c) Improved color vision d) Eye redness\n",
      "Context: T...\n",
      "Response: B\n",
      "\n"
     ]
    },
    {
     "name": "stderr",
     "output_type": "stream",
     "text": [
      "/var/folders/z3/zc5j75dj0qn_z2sp8qf47q340000gn/T/ipykernel_75411/652174667.py:8: ResourceWarning: unclosed <socket.socket fd=94, family=AddressFamily.AF_INET, type=SocketKind.SOCK_STREAM, proto=6, laddr=('127.0.0.1', 62122), raddr=('127.0.0.1', 11434)>\n",
      "  analyzer = GraphRAGSystem(row[\"question\"])\n",
      "ResourceWarning: Enable tracemalloc to get the object allocation traceback\n"
     ]
    },
    {
     "name": "stdout",
     "output_type": "stream",
     "text": [
      "Question 396: What is the advanced stage of dry AMD progression? a) Retinal tear b) Geographic atrophy c) Macular edema d) Glaucoma\n",
      "Context: T...\n",
      "Response: B\n",
      "\n"
     ]
    },
    {
     "name": "stderr",
     "output_type": "stream",
     "text": [
      "/var/folders/z3/zc5j75dj0qn_z2sp8qf47q340000gn/T/ipykernel_75411/652174667.py:8: ResourceWarning: unclosed <socket.socket fd=94, family=AddressFamily.AF_INET, type=SocketKind.SOCK_STREAM, proto=6, laddr=('127.0.0.1', 62172), raddr=('127.0.0.1', 11434)>\n",
      "  analyzer = GraphRAGSystem(row[\"question\"])\n",
      "ResourceWarning: Enable tracemalloc to get the object allocation traceback\n"
     ]
    },
    {
     "name": "stdout",
     "output_type": "stream",
     "text": [
      "Question 397: Which lifestyle factor significantly raises AMD risk? a) Smoking b) Jogging c) Drinking tea d) Writing\n",
      "Context: T...\n",
      "Response: A\n",
      "\n"
     ]
    },
    {
     "name": "stderr",
     "output_type": "stream",
     "text": [
      "/var/folders/z3/zc5j75dj0qn_z2sp8qf47q340000gn/T/ipykernel_75411/652174667.py:8: ResourceWarning: unclosed <socket.socket fd=94, family=AddressFamily.AF_INET, type=SocketKind.SOCK_STREAM, proto=6, laddr=('127.0.0.1', 62207), raddr=('127.0.0.1', 11434)>\n",
      "  analyzer = GraphRAGSystem(row[\"question\"])\n",
      "ResourceWarning: Enable tracemalloc to get the object allocation traceback\n"
     ]
    },
    {
     "name": "stdout",
     "output_type": "stream",
     "text": [
      "Question 398: Which AMD type involves new blood vessel growth? a) Dry AMD b) Wet AMD c) Early AMD d) Intermediate AMD\n",
      "Context: T...\n",
      "Response: B\n",
      "\n"
     ]
    },
    {
     "name": "stderr",
     "output_type": "stream",
     "text": [
      "/var/folders/z3/zc5j75dj0qn_z2sp8qf47q340000gn/T/ipykernel_75411/652174667.py:8: ResourceWarning: unclosed <socket.socket fd=94, family=AddressFamily.AF_INET, type=SocketKind.SOCK_STREAM, proto=6, laddr=('127.0.0.1', 62250), raddr=('127.0.0.1', 11434)>\n",
      "  analyzer = GraphRAGSystem(row[\"question\"])\n",
      "ResourceWarning: Enable tracemalloc to get the object allocation traceback\n"
     ]
    },
    {
     "name": "stdout",
     "output_type": "stream",
     "text": [
      "Question 399: Is there a complete cure for AMD as of March 2025? a) Yes b) No c) In trials d) Only for dry AMD\n",
      "Context: T...\n",
      "Response: b\n",
      "\n"
     ]
    },
    {
     "name": "stderr",
     "output_type": "stream",
     "text": [
      "/var/folders/z3/zc5j75dj0qn_z2sp8qf47q340000gn/T/ipykernel_75411/652174667.py:8: ResourceWarning: unclosed <socket.socket fd=94, family=AddressFamily.AF_INET, type=SocketKind.SOCK_STREAM, proto=6, laddr=('127.0.0.1', 62284), raddr=('127.0.0.1', 11434)>\n",
      "  analyzer = GraphRAGSystem(row[\"question\"])\n",
      "ResourceWarning: Enable tracemalloc to get the object allocation traceback\n"
     ]
    },
    {
     "name": "stdout",
     "output_type": "stream",
     "text": [
      "Question 400: What treatment targets wet AMD’s vascular growth? a) Anti-VEGF injections b) Painkillers c) Eye drops d) Antihistamines\n",
      "Context: T...\n",
      "Response: A\n",
      "\n"
     ]
    },
    {
     "name": "stderr",
     "output_type": "stream",
     "text": [
      "/var/folders/z3/zc5j75dj0qn_z2sp8qf47q340000gn/T/ipykernel_75411/652174667.py:8: ResourceWarning: unclosed <socket.socket fd=94, family=AddressFamily.AF_INET, type=SocketKind.SOCK_STREAM, proto=6, laddr=('127.0.0.1', 62320), raddr=('127.0.0.1', 11434)>\n",
      "  analyzer = GraphRAGSystem(row[\"question\"])\n",
      "ResourceWarning: Enable tracemalloc to get the object allocation traceback\n"
     ]
    },
    {
     "name": "stdout",
     "output_type": "stream",
     "text": [
      "Question 401: Which vision aspect is least affected by AMD? a) Central vision b) Peripheral vision c) Depth perception d) Color vision\n",
      "Context: T...\n",
      "Response: C\n",
      "\n"
     ]
    },
    {
     "name": "stderr",
     "output_type": "stream",
     "text": [
      "/var/folders/z3/zc5j75dj0qn_z2sp8qf47q340000gn/T/ipykernel_75411/652174667.py:8: ResourceWarning: unclosed <socket.socket fd=94, family=AddressFamily.AF_INET, type=SocketKind.SOCK_STREAM, proto=6, laddr=('127.0.0.1', 62367), raddr=('127.0.0.1', 11434)>\n",
      "  analyzer = GraphRAGSystem(row[\"question\"])\n",
      "ResourceWarning: Enable tracemalloc to get the object allocation traceback\n"
     ]
    },
    {
     "name": "stdout",
     "output_type": "stream",
     "text": [
      "Question 402: What inherited trait increases AMD risk? a) Family history b) Eye shape c) Skin tone d) Hair texture\n",
      "Context: T...\n",
      "Response: A\n",
      "The best answer is A.\n",
      "\n"
     ]
    },
    {
     "name": "stderr",
     "output_type": "stream",
     "text": [
      "/var/folders/z3/zc5j75dj0qn_z2sp8qf47q340000gn/T/ipykernel_75411/652174667.py:8: ResourceWarning: unclosed <socket.socket fd=94, family=AddressFamily.AF_INET, type=SocketKind.SOCK_STREAM, proto=6, laddr=('127.0.0.1', 62408), raddr=('127.0.0.1', 11434)>\n",
      "  analyzer = GraphRAGSystem(row[\"question\"])\n",
      "ResourceWarning: Enable tracemalloc to get the object allocation traceback\n"
     ]
    },
    {
     "name": "stdout",
     "output_type": "stream",
     "text": [
      "Question 403: Which diagnostic method is unrelated to AMD? a) OCT b) Amsler grid c) Liver function test d) Fundus photography\n",
      "Context: T...\n",
      "Response: c) Liver function test\n",
      "\n"
     ]
    },
    {
     "name": "stderr",
     "output_type": "stream",
     "text": [
      "/var/folders/z3/zc5j75dj0qn_z2sp8qf47q340000gn/T/ipykernel_75411/652174667.py:8: ResourceWarning: unclosed <socket.socket fd=94, family=AddressFamily.AF_INET, type=SocketKind.SOCK_STREAM, proto=6, laddr=('127.0.0.1', 62440), raddr=('127.0.0.1', 11434)>\n",
      "  analyzer = GraphRAGSystem(row[\"question\"])\n",
      "ResourceWarning: Enable tracemalloc to get the object allocation traceback\n"
     ]
    },
    {
     "name": "stdout",
     "output_type": "stream",
     "text": [
      "Question 404: What simple tool tracks AMD-related vision changes? a) Thermometer b) Amsler grid c) Blood pressure monitor d) Heart rate tracker\n",
      "Context: T...\n",
      "Response: B\n",
      "\n"
     ]
    },
    {
     "name": "stderr",
     "output_type": "stream",
     "text": [
      "/var/folders/z3/zc5j75dj0qn_z2sp8qf47q340000gn/T/ipykernel_75411/652174667.py:8: ResourceWarning: unclosed <socket.socket fd=94, family=AddressFamily.AF_INET, type=SocketKind.SOCK_STREAM, proto=6, laddr=('127.0.0.1', 62466), raddr=('127.0.0.1', 11434)>\n",
      "  analyzer = GraphRAGSystem(row[\"question\"])\n",
      "ResourceWarning: Enable tracemalloc to get the object allocation traceback\n"
     ]
    },
    {
     "name": "stdout",
     "output_type": "stream",
     "text": [
      "Question 405: Which AMD variant is most common? a) Wet AMD b) Dry AMD c) Both equally d) Neither\n",
      "Context: T...\n",
      "Response: B\n",
      "\n"
     ]
    },
    {
     "name": "stderr",
     "output_type": "stream",
     "text": [
      "/var/folders/z3/zc5j75dj0qn_z2sp8qf47q340000gn/T/ipykernel_75411/652174667.py:8: ResourceWarning: unclosed <socket.socket fd=94, family=AddressFamily.AF_INET, type=SocketKind.SOCK_STREAM, proto=6, laddr=('127.0.0.1', 62484), raddr=('127.0.0.1', 11434)>\n",
      "  analyzer = GraphRAGSystem(row[\"question\"])\n",
      "ResourceWarning: Enable tracemalloc to get the object allocation traceback\n"
     ]
    },
    {
     "name": "stdout",
     "output_type": "stream",
     "text": [
      "Question 406: Can sunglasses completely eliminate AMD risk? a) Yes b) No c) Partially d) Only with diet\n",
      "Context: T...\n",
      "Response: b)\n",
      "\n"
     ]
    },
    {
     "name": "stderr",
     "output_type": "stream",
     "text": [
      "/var/folders/z3/zc5j75dj0qn_z2sp8qf47q340000gn/T/ipykernel_75411/652174667.py:8: ResourceWarning: unclosed <socket.socket fd=94, family=AddressFamily.AF_INET, type=SocketKind.SOCK_STREAM, proto=6, laddr=('127.0.0.1', 62514), raddr=('127.0.0.1', 11434)>\n",
      "  analyzer = GraphRAGSystem(row[\"question\"])\n",
      "ResourceWarning: Enable tracemalloc to get the object allocation traceback\n"
     ]
    },
    {
     "name": "stdout",
     "output_type": "stream",
     "text": [
      "Question 407: Which metabolic condition is associated with higher AMD risk? a) Diabetes b) Allergies c) Asthma d) Thyroid issues\n",
      "Context: T...\n",
      "Response: b\n",
      "\n"
     ]
    },
    {
     "name": "stderr",
     "output_type": "stream",
     "text": [
      "/var/folders/z3/zc5j75dj0qn_z2sp8qf47q340000gn/T/ipykernel_75411/652174667.py:8: ResourceWarning: unclosed <socket.socket fd=94, family=AddressFamily.AF_INET, type=SocketKind.SOCK_STREAM, proto=6, laddr=('127.0.0.1', 62548), raddr=('127.0.0.1', 11434)>\n",
      "  analyzer = GraphRAGSystem(row[\"question\"])\n",
      "ResourceWarning: Enable tracemalloc to get the object allocation traceback\n"
     ]
    },
    {
     "name": "stdout",
     "output_type": "stream",
     "text": [
      "Question 408: What is the primary focus of dry AMD treatment? a) Cure b) Slow progression c) Reverse vision loss d) Pain relief\n",
      "Context: T...\n",
      "Response: b\n",
      "\n"
     ]
    },
    {
     "name": "stderr",
     "output_type": "stream",
     "text": [
      "/var/folders/z3/zc5j75dj0qn_z2sp8qf47q340000gn/T/ipykernel_75411/652174667.py:8: ResourceWarning: unclosed <socket.socket fd=94, family=AddressFamily.AF_INET, type=SocketKind.SOCK_STREAM, proto=6, laddr=('127.0.0.1', 62578), raddr=('127.0.0.1', 11434)>\n",
      "  analyzer = GraphRAGSystem(row[\"question\"])\n",
      "ResourceWarning: Enable tracemalloc to get the object allocation traceback\n"
     ]
    },
    {
     "name": "stdout",
     "output_type": "stream",
     "text": [
      "Question 409: What is the primary part of the eye affected by AMD? a) Cornea b) Macula c) Optic nerve d) Lens\n",
      "Context: T...\n",
      "Response: b\n",
      "\n"
     ]
    },
    {
     "name": "stderr",
     "output_type": "stream",
     "text": [
      "/var/folders/z3/zc5j75dj0qn_z2sp8qf47q340000gn/T/ipykernel_75411/652174667.py:8: ResourceWarning: unclosed <socket.socket fd=94, family=AddressFamily.AF_INET, type=SocketKind.SOCK_STREAM, proto=6, laddr=('127.0.0.1', 62611), raddr=('127.0.0.1', 11434)>\n",
      "  analyzer = GraphRAGSystem(row[\"question\"])\n",
      "ResourceWarning: Enable tracemalloc to get the object allocation traceback\n"
     ]
    },
    {
     "name": "stdout",
     "output_type": "stream",
     "text": [
      "Question 410: Which type of AMD is characterized by the growth of abnormal blood vessels? a) Dry AMD b) Wet AMD c) Intermediate AMD d) Early AMD\n",
      "Context: T...\n",
      "Response: B\n",
      "\n"
     ]
    },
    {
     "name": "stderr",
     "output_type": "stream",
     "text": [
      "/var/folders/z3/zc5j75dj0qn_z2sp8qf47q340000gn/T/ipykernel_75411/652174667.py:8: ResourceWarning: unclosed <socket.socket fd=94, family=AddressFamily.AF_INET, type=SocketKind.SOCK_STREAM, proto=6, laddr=('127.0.0.1', 62663), raddr=('127.0.0.1', 11434)>\n",
      "  analyzer = GraphRAGSystem(row[\"question\"])\n",
      "ResourceWarning: Enable tracemalloc to get the object allocation traceback\n"
     ]
    },
    {
     "name": "stdout",
     "output_type": "stream",
     "text": [
      "Question 411: What is the yellowish deposit commonly found in the retina of dry AMD patients? a) Hemorrhages b) Drusen c) Exudates d) Plaques\n",
      "Context: T...\n",
      "Response: B\n",
      "\n"
     ]
    },
    {
     "name": "stderr",
     "output_type": "stream",
     "text": [
      "/var/folders/z3/zc5j75dj0qn_z2sp8qf47q340000gn/T/ipykernel_75411/652174667.py:8: ResourceWarning: unclosed <socket.socket fd=94, family=AddressFamily.AF_INET, type=SocketKind.SOCK_STREAM, proto=6, laddr=('127.0.0.1', 62701), raddr=('127.0.0.1', 11434)>\n",
      "  analyzer = GraphRAGSystem(row[\"question\"])\n",
      "ResourceWarning: Enable tracemalloc to get the object allocation traceback\n"
     ]
    },
    {
     "name": "stdout",
     "output_type": "stream",
     "text": [
      "Question 412: Which of the following is a leading cause of blindness in people over 60 in developed countries? a) Glaucoma b) Cataracts c) AMD d) Diabetic retinopathy\n",
      "Context: T...\n",
      "Response: c\n",
      "\n"
     ]
    },
    {
     "name": "stderr",
     "output_type": "stream",
     "text": [
      "/var/folders/z3/zc5j75dj0qn_z2sp8qf47q340000gn/T/ipykernel_75411/652174667.py:8: ResourceWarning: unclosed <socket.socket fd=94, family=AddressFamily.AF_INET, type=SocketKind.SOCK_STREAM, proto=6, laddr=('127.0.0.1', 62735), raddr=('127.0.0.1', 11434)>\n",
      "  analyzer = GraphRAGSystem(row[\"question\"])\n",
      "ResourceWarning: Enable tracemalloc to get the object allocation traceback\n"
     ]
    },
    {
     "name": "stdout",
     "output_type": "stream",
     "text": [
      "Question 413: What is the most widely used treatment to stop blood vessel leakage in wet AMD? a) Anti-VEGF injections b) Antibiotics c) Steroid drops d) Vitamin supplements\n",
      "Context: T...\n",
      "Response: A\n",
      "\n"
     ]
    },
    {
     "name": "stderr",
     "output_type": "stream",
     "text": [
      "/var/folders/z3/zc5j75dj0qn_z2sp8qf47q340000gn/T/ipykernel_75411/652174667.py:8: ResourceWarning: unclosed <socket.socket fd=94, family=AddressFamily.AF_INET, type=SocketKind.SOCK_STREAM, proto=6, laddr=('127.0.0.1', 62772), raddr=('127.0.0.1', 11434)>\n",
      "  analyzer = GraphRAGSystem(row[\"question\"])\n",
      "ResourceWarning: Enable tracemalloc to get the object allocation traceback\n"
     ]
    },
    {
     "name": "stdout",
     "output_type": "stream",
     "text": [
      "Question 414: Which vitamin is included in the AREDS formula to help slow AMD progression? a) Vitamin K b) Vitamin E c) Vitamin B6 d) Vitamin D\n",
      "Context: T...\n",
      "Response: B\n",
      "\n"
     ]
    },
    {
     "name": "stderr",
     "output_type": "stream",
     "text": [
      "/var/folders/z3/zc5j75dj0qn_z2sp8qf47q340000gn/T/ipykernel_75411/652174667.py:8: ResourceWarning: unclosed <socket.socket fd=94, family=AddressFamily.AF_INET, type=SocketKind.SOCK_STREAM, proto=6, laddr=('127.0.0.1', 62804), raddr=('127.0.0.1', 11434)>\n",
      "  analyzer = GraphRAGSystem(row[\"question\"])\n",
      "ResourceWarning: Enable tracemalloc to get the object allocation traceback\n"
     ]
    },
    {
     "name": "stdout",
     "output_type": "stream",
     "text": [
      "Question 415: What is the term for the wavy appearance of straight lines in wet AMD? a) Scotoma b) Metamorphopsia c) Photopsia d) Nyctalopia\n",
      "Context: T...\n",
      "Response: B\n",
      "\n"
     ]
    },
    {
     "name": "stderr",
     "output_type": "stream",
     "text": [
      "/var/folders/z3/zc5j75dj0qn_z2sp8qf47q340000gn/T/ipykernel_75411/652174667.py:8: ResourceWarning: unclosed <socket.socket fd=94, family=AddressFamily.AF_INET, type=SocketKind.SOCK_STREAM, proto=6, laddr=('127.0.0.1', 62832), raddr=('127.0.0.1', 11434)>\n",
      "  analyzer = GraphRAGSystem(row[\"question\"])\n",
      "ResourceWarning: Enable tracemalloc to get the object allocation traceback\n"
     ]
    },
    {
     "name": "stdout",
     "output_type": "stream",
     "text": [
      "Question 416: Which imaging method provides a detailed cross-sectional view of the retina in AMD diagnosis? a) Fundus photography b) Optical Coherence Tomography (OCT) c) Fluorescein angiography d) Ultrasound\n",
      "Context: T...\n",
      "Response: B\n",
      "\n"
     ]
    },
    {
     "name": "stderr",
     "output_type": "stream",
     "text": [
      "/var/folders/z3/zc5j75dj0qn_z2sp8qf47q340000gn/T/ipykernel_75411/652174667.py:8: ResourceWarning: unclosed <socket.socket fd=94, family=AddressFamily.AF_INET, type=SocketKind.SOCK_STREAM, proto=6, laddr=('127.0.0.1', 62858), raddr=('127.0.0.1', 11434)>\n",
      "  analyzer = GraphRAGSystem(row[\"question\"])\n",
      "ResourceWarning: Enable tracemalloc to get the object allocation traceback\n"
     ]
    },
    {
     "name": "stdout",
     "output_type": "stream",
     "text": [
      "Question 417: What percentage of AMD cases progress to the advanced stage within 10 years? a) 5-10% b) 15-20% c) 25-30% d) 40-50%\n",
      "Context: S...\n",
      "Response: A\n",
      "\n"
     ]
    },
    {
     "name": "stderr",
     "output_type": "stream",
     "text": [
      "/var/folders/z3/zc5j75dj0qn_z2sp8qf47q340000gn/T/ipykernel_75411/652174667.py:8: ResourceWarning: unclosed <socket.socket fd=94, family=AddressFamily.AF_INET, type=SocketKind.SOCK_STREAM, proto=6, laddr=('127.0.0.1', 62897), raddr=('127.0.0.1', 11434)>\n",
      "  analyzer = GraphRAGSystem(row[\"question\"])\n",
      "ResourceWarning: Enable tracemalloc to get the object allocation traceback\n"
     ]
    },
    {
     "name": "stdout",
     "output_type": "stream",
     "text": [
      "Question 418: Which environmental factor is strongly associated with an increased risk of AMD? a) Smoking b) High altitude c) Cold weather d) Loud noise\n",
      "Context: S...\n",
      "Response: A\n",
      "\n",
      "Explanation: According to the information provided, smoking is explicitly listed as a key environmental factor that contributes to the risk of AMD. While other options such as high altitude and cold weather may also be relevant, there is no direct association mentioned between these factors and AMD in the context of this passage.\n",
      "\n"
     ]
    },
    {
     "name": "stderr",
     "output_type": "stream",
     "text": [
      "/var/folders/z3/zc5j75dj0qn_z2sp8qf47q340000gn/T/ipykernel_75411/652174667.py:8: ResourceWarning: unclosed <socket.socket fd=94, family=AddressFamily.AF_INET, type=SocketKind.SOCK_STREAM, proto=6, laddr=('127.0.0.1', 62926), raddr=('127.0.0.1', 11434)>\n",
      "  analyzer = GraphRAGSystem(row[\"question\"])\n",
      "ResourceWarning: Enable tracemalloc to get the object allocation traceback\n"
     ]
    },
    {
     "name": "stdout",
     "output_type": "stream",
     "text": [
      "Question 419: What is the name of the advanced form of dry AMD that causes cell death in the retina? a) Choroidal neovascularization b) Geographic atrophy c) Macular edema d) Retinal detachment\n",
      "Context: T...\n",
      "Response: b\n",
      "\n"
     ]
    },
    {
     "name": "stderr",
     "output_type": "stream",
     "text": [
      "/var/folders/z3/zc5j75dj0qn_z2sp8qf47q340000gn/T/ipykernel_75411/652174667.py:8: ResourceWarning: unclosed <socket.socket fd=94, family=AddressFamily.AF_INET, type=SocketKind.SOCK_STREAM, proto=6, laddr=('127.0.0.1', 62985), raddr=('127.0.0.1', 11434)>\n",
      "  analyzer = GraphRAGSystem(row[\"question\"])\n",
      "ResourceWarning: Enable tracemalloc to get the object allocation traceback\n"
     ]
    },
    {
     "name": "stdout",
     "output_type": "stream",
     "text": [
      "Question 420: Which mineral is part of the AREDS2 formula for AMD? a) Iron b) Zinc c) Calcium d) Magnesium\n",
      "Context: T...\n",
      "Response: b\n",
      "\n"
     ]
    },
    {
     "name": "stderr",
     "output_type": "stream",
     "text": [
      "/var/folders/z3/zc5j75dj0qn_z2sp8qf47q340000gn/T/ipykernel_75411/652174667.py:8: ResourceWarning: unclosed <socket.socket fd=94, family=AddressFamily.AF_INET, type=SocketKind.SOCK_STREAM, proto=6, laddr=('127.0.0.1', 63042), raddr=('127.0.0.1', 11434)>\n",
      "  analyzer = GraphRAGSystem(row[\"question\"])\n",
      "ResourceWarning: Enable tracemalloc to get the object allocation traceback\n"
     ]
    },
    {
     "name": "stdout",
     "output_type": "stream",
     "text": [
      "Question 421: What is the typical first sign of wet AMD noticed by patients? a) Blurred peripheral vision b) Distorted central vision c) Flashing lights d) Double vision\n",
      "Context: T...\n",
      "Response: A)\n",
      "\n",
      "    Blurred peripheral vision (option A) is less relevant as a typical first sign compared to the more severe impact on central vision.\n",
      "\n"
     ]
    },
    {
     "name": "stderr",
     "output_type": "stream",
     "text": [
      "/var/folders/z3/zc5j75dj0qn_z2sp8qf47q340000gn/T/ipykernel_75411/652174667.py:8: ResourceWarning: unclosed <socket.socket fd=94, family=AddressFamily.AF_INET, type=SocketKind.SOCK_STREAM, proto=6, laddr=('127.0.0.1', 63085), raddr=('127.0.0.1', 11434)>\n",
      "  analyzer = GraphRAGSystem(row[\"question\"])\n",
      "ResourceWarning: Enable tracemalloc to get the object allocation traceback\n"
     ]
    },
    {
     "name": "stdout",
     "output_type": "stream",
     "text": [
      "Question 422: Which group has a higher risk of developing AMD? a) Men b) Women c) No significant gender difference d) Children\n",
      "Context: T...\n",
      "Response: c\n",
      "\n"
     ]
    },
    {
     "name": "stderr",
     "output_type": "stream",
     "text": [
      "/var/folders/z3/zc5j75dj0qn_z2sp8qf47q340000gn/T/ipykernel_75411/652174667.py:8: ResourceWarning: unclosed <socket.socket fd=94, family=AddressFamily.AF_INET, type=SocketKind.SOCK_STREAM, proto=6, laddr=('127.0.0.1', 63124), raddr=('127.0.0.1', 11434)>\n",
      "  analyzer = GraphRAGSystem(row[\"question\"])\n",
      "ResourceWarning: Enable tracemalloc to get the object allocation traceback\n"
     ]
    },
    {
     "name": "stdout",
     "output_type": "stream",
     "text": [
      "Question 423: What is the purpose of fluorescein angiography in AMD diagnosis? a) To measure eye pressure b) To visualize blood vessel leakage c) To assess corneal thickness d) To evaluate lens clarity\n",
      "Context: T...\n",
      "Response: B\n",
      "\n"
     ]
    },
    {
     "name": "stderr",
     "output_type": "stream",
     "text": [
      "/var/folders/z3/zc5j75dj0qn_z2sp8qf47q340000gn/T/ipykernel_75411/652174667.py:8: ResourceWarning: unclosed <socket.socket fd=94, family=AddressFamily.AF_INET, type=SocketKind.SOCK_STREAM, proto=6, laddr=('127.0.0.1', 63154), raddr=('127.0.0.1', 11434)>\n",
      "  analyzer = GraphRAGSystem(row[\"question\"])\n",
      "ResourceWarning: Enable tracemalloc to get the object allocation traceback\n"
     ]
    },
    {
     "name": "stdout",
     "output_type": "stream",
     "text": [
      "Question 424: Which antioxidant pigment in the retina may protect against AMD? a) Lutein b) Melanin c) Hemoglobin d) Chlorophyll\n",
      "Context: T...\n",
      "Response: A\n",
      "\n"
     ]
    },
    {
     "name": "stderr",
     "output_type": "stream",
     "text": [
      "/var/folders/z3/zc5j75dj0qn_z2sp8qf47q340000gn/T/ipykernel_75411/652174667.py:8: ResourceWarning: unclosed <socket.socket fd=94, family=AddressFamily.AF_INET, type=SocketKind.SOCK_STREAM, proto=6, laddr=('127.0.0.1', 63189), raddr=('127.0.0.1', 11434)>\n",
      "  analyzer = GraphRAGSystem(row[\"question\"])\n",
      "ResourceWarning: Enable tracemalloc to get the object allocation traceback\n"
     ]
    },
    {
     "name": "stdout",
     "output_type": "stream",
     "text": [
      "Question 425: What is the name of the grid used to detect vision distortion in AMD? a) Snellen chart b) Amsler grid c) Ishihara plate d) Pelli-Robson chart\n",
      "Context: T...\n",
      "Response: B\n",
      "\n"
     ]
    },
    {
     "name": "stderr",
     "output_type": "stream",
     "text": [
      "/var/folders/z3/zc5j75dj0qn_z2sp8qf47q340000gn/T/ipykernel_75411/652174667.py:8: ResourceWarning: unclosed <socket.socket fd=94, family=AddressFamily.AF_INET, type=SocketKind.SOCK_STREAM, proto=6, laddr=('127.0.0.1', 63226), raddr=('127.0.0.1', 11434)>\n",
      "  analyzer = GraphRAGSystem(row[\"question\"])\n",
      "ResourceWarning: Enable tracemalloc to get the object allocation traceback\n"
     ]
    },
    {
     "name": "stdout",
     "output_type": "stream",
     "text": [
      "Question 426: Which condition is a hallmark of wet AMD but not dry AMD? a) Drusen formation b) Choroidal neovascularization c) Retinal thinning d) Pigment clumping\n",
      "Context: T...\n",
      "Response: b\n",
      "\n"
     ]
    },
    {
     "name": "stderr",
     "output_type": "stream",
     "text": [
      "/var/folders/z3/zc5j75dj0qn_z2sp8qf47q340000gn/T/ipykernel_75411/652174667.py:8: ResourceWarning: unclosed <socket.socket fd=94, family=AddressFamily.AF_INET, type=SocketKind.SOCK_STREAM, proto=6, laddr=('127.0.0.1', 63254), raddr=('127.0.0.1', 11434)>\n",
      "  analyzer = GraphRAGSystem(row[\"question\"])\n",
      "ResourceWarning: Enable tracemalloc to get the object allocation traceback\n"
     ]
    },
    {
     "name": "stdout",
     "output_type": "stream",
     "text": [
      "Question 427: What is the leading risk factor for AMD? a) Diabetes b) Aging c) High cholesterol d) Alcohol consumption\n",
      "Context: T...\n",
      "Response: c\n",
      "\n"
     ]
    },
    {
     "name": "stderr",
     "output_type": "stream",
     "text": [
      "/var/folders/z3/zc5j75dj0qn_z2sp8qf47q340000gn/T/ipykernel_75411/652174667.py:8: ResourceWarning: unclosed <socket.socket fd=94, family=AddressFamily.AF_INET, type=SocketKind.SOCK_STREAM, proto=6, laddr=('127.0.0.1', 63297), raddr=('127.0.0.1', 11434)>\n",
      "  analyzer = GraphRAGSystem(row[\"question\"])\n",
      "ResourceWarning: Enable tracemalloc to get the object allocation traceback\n"
     ]
    },
    {
     "name": "stdout",
     "output_type": "stream",
     "text": [
      "Question 428: Which dietary component is linked to a lower risk of AMD progression? a) Saturated fats b) Omega-3 fatty acids c) Simple sugars d) Caffeine\n",
      "Context: T...\n",
      "Response: B\n",
      "\n"
     ]
    },
    {
     "name": "stderr",
     "output_type": "stream",
     "text": [
      "/var/folders/z3/zc5j75dj0qn_z2sp8qf47q340000gn/T/ipykernel_75411/652174667.py:8: ResourceWarning: unclosed <socket.socket fd=94, family=AddressFamily.AF_INET, type=SocketKind.SOCK_STREAM, proto=6, laddr=('127.0.0.1', 63344), raddr=('127.0.0.1', 11434)>\n",
      "  analyzer = GraphRAGSystem(row[\"question\"])\n",
      "ResourceWarning: Enable tracemalloc to get the object allocation traceback\n"
     ]
    },
    {
     "name": "stdout",
     "output_type": "stream",
     "text": [
      "Question 429: What is the term for the central blind spot caused by advanced AMD? a) Scotoma b) Glaucoma c) Floaters d) Aura\n",
      "Context: T...\n",
      "Response: A\n",
      "\n"
     ]
    },
    {
     "name": "stderr",
     "output_type": "stream",
     "text": [
      "/var/folders/z3/zc5j75dj0qn_z2sp8qf47q340000gn/T/ipykernel_75411/652174667.py:8: ResourceWarning: unclosed <socket.socket fd=94, family=AddressFamily.AF_INET, type=SocketKind.SOCK_STREAM, proto=6, laddr=('127.0.0.1', 63375), raddr=('127.0.0.1', 11434)>\n",
      "  analyzer = GraphRAGSystem(row[\"question\"])\n",
      "ResourceWarning: Enable tracemalloc to get the object allocation traceback\n"
     ]
    },
    {
     "name": "stdout",
     "output_type": "stream",
     "text": [
      "Question 430: Which type of light exposure may increase the risk of AMD? a) Infrared b) Ultraviolet (UV) c) Red light d) Green light\n",
      "Context: T...\n",
      "Response: B\n",
      "\n"
     ]
    },
    {
     "name": "stderr",
     "output_type": "stream",
     "text": [
      "/var/folders/z3/zc5j75dj0qn_z2sp8qf47q340000gn/T/ipykernel_75411/652174667.py:8: ResourceWarning: unclosed <socket.socket fd=94, family=AddressFamily.AF_INET, type=SocketKind.SOCK_STREAM, proto=6, laddr=('127.0.0.1', 63412), raddr=('127.0.0.1', 11434)>\n",
      "  analyzer = GraphRAGSystem(row[\"question\"])\n",
      "ResourceWarning: Enable tracemalloc to get the object allocation traceback\n"
     ]
    },
    {
     "name": "stdout",
     "output_type": "stream",
     "text": [
      "Question 431: What is the name of the laser treatment used to destroy abnormal blood vessels in wet AMD? a) Photodynamic therapy b) LASIK c) PRK d) LASEK\n",
      "Context: T...\n",
      "Response: A\n",
      "\n",
      "Photodynamic therapy is the correct answer.\n",
      "\n"
     ]
    },
    {
     "name": "stderr",
     "output_type": "stream",
     "text": [
      "/var/folders/z3/zc5j75dj0qn_z2sp8qf47q340000gn/T/ipykernel_75411/652174667.py:8: ResourceWarning: unclosed <socket.socket fd=94, family=AddressFamily.AF_INET, type=SocketKind.SOCK_STREAM, proto=6, laddr=('127.0.0.1', 63458), raddr=('127.0.0.1', 11434)>\n",
      "  analyzer = GraphRAGSystem(row[\"question\"])\n",
      "ResourceWarning: Enable tracemalloc to get the object allocation traceback\n"
     ]
    },
    {
     "name": "stdout",
     "output_type": "stream",
     "text": [
      "Question 432: Which of the following is a common early finding in dry AMD? a) Large drusen b) Retinal hemorrhage c) Macular edema d) Optic disc swelling\n",
      "Context: T...\n",
      "Response: A\n",
      "The best answer is A.\n",
      "\n"
     ]
    },
    {
     "name": "stderr",
     "output_type": "stream",
     "text": [
      "/var/folders/z3/zc5j75dj0qn_z2sp8qf47q340000gn/T/ipykernel_75411/652174667.py:8: ResourceWarning: unclosed <socket.socket fd=94, family=AddressFamily.AF_INET, type=SocketKind.SOCK_STREAM, proto=6, laddr=('127.0.0.1', 63495), raddr=('127.0.0.1', 11434)>\n",
      "  analyzer = GraphRAGSystem(row[\"question\"])\n",
      "ResourceWarning: Enable tracemalloc to get the object allocation traceback\n"
     ]
    },
    {
     "name": "stdout",
     "output_type": "stream",
     "text": [
      "Question 433: What is the primary goal of low vision rehabilitation for AMD patients? a) Restore full vision b) Prevent further vision loss c) Maximize remaining vision d) Cure the disease\n",
      "Context: T...\n",
      "Response: c\n",
      "\n"
     ]
    },
    {
     "name": "stderr",
     "output_type": "stream",
     "text": [
      "/var/folders/z3/zc5j75dj0qn_z2sp8qf47q340000gn/T/ipykernel_75411/652174667.py:8: ResourceWarning: unclosed <socket.socket fd=94, family=AddressFamily.AF_INET, type=SocketKind.SOCK_STREAM, proto=6, laddr=('127.0.0.1', 63525), raddr=('127.0.0.1', 11434)>\n",
      "  analyzer = GraphRAGSystem(row[\"question\"])\n",
      "ResourceWarning: Enable tracemalloc to get the object allocation traceback\n"
     ]
    },
    {
     "name": "stdout",
     "output_type": "stream",
     "text": [
      "Question 434: Which ethnic group has the highest prevalence of AMD? a) Caucasians b) African Americans c) Asians d) Native Americans\n",
      "Context: T...\n",
      "Response: A\n",
      "\n"
     ]
    },
    {
     "name": "stderr",
     "output_type": "stream",
     "text": [
      "/var/folders/z3/zc5j75dj0qn_z2sp8qf47q340000gn/T/ipykernel_75411/652174667.py:8: ResourceWarning: unclosed <socket.socket fd=94, family=AddressFamily.AF_INET, type=SocketKind.SOCK_STREAM, proto=6, laddr=('127.0.0.1', 63565), raddr=('127.0.0.1', 11434)>\n",
      "  analyzer = GraphRAGSystem(row[\"question\"])\n",
      "ResourceWarning: Enable tracemalloc to get the object allocation traceback\n"
     ]
    },
    {
     "name": "stdout",
     "output_type": "stream",
     "text": [
      "Question 435: What is the name of the fluid accumulation in the macula seen in wet AMD? a) Macular edema b) Vitreous hemorrhage c) Retinal detachment d) Choroidal effusion\n",
      "Context: A...\n",
      "Response: A\n",
      "\n"
     ]
    },
    {
     "name": "stderr",
     "output_type": "stream",
     "text": [
      "/var/folders/z3/zc5j75dj0qn_z2sp8qf47q340000gn/T/ipykernel_75411/652174667.py:8: ResourceWarning: unclosed <socket.socket fd=94, family=AddressFamily.AF_INET, type=SocketKind.SOCK_STREAM, proto=6, laddr=('127.0.0.1', 63601), raddr=('127.0.0.1', 11434)>\n",
      "  analyzer = GraphRAGSystem(row[\"question\"])\n",
      "ResourceWarning: Enable tracemalloc to get the object allocation traceback\n"
     ]
    },
    {
     "name": "stdout",
     "output_type": "stream",
     "text": [
      "Question 436: Which of the following is a symptom of AMD rather than glaucoma? a) Loss of peripheral vision b) Loss of central vision c) Eye pain d) Halos around lights\n",
      "Context: T...\n",
      "Response: B\n",
      "\n"
     ]
    },
    {
     "name": "stderr",
     "output_type": "stream",
     "text": [
      "/var/folders/z3/zc5j75dj0qn_z2sp8qf47q340000gn/T/ipykernel_75411/652174667.py:8: ResourceWarning: unclosed <socket.socket fd=94, family=AddressFamily.AF_INET, type=SocketKind.SOCK_STREAM, proto=6, laddr=('127.0.0.1', 63635), raddr=('127.0.0.1', 11434)>\n",
      "  analyzer = GraphRAGSystem(row[\"question\"])\n",
      "ResourceWarning: Enable tracemalloc to get the object allocation traceback\n"
     ]
    },
    {
     "name": "stdout",
     "output_type": "stream",
     "text": [
      "Question 437: What is the name of the protein targeted by anti-VEGF drugs in wet AMD? a) Collagen b) Vascular endothelial growth factor c) Keratin d) Elastin\n",
      "Context: T...\n",
      "Response: b) Vascular endothelial growth factor\n",
      "\n"
     ]
    },
    {
     "name": "stderr",
     "output_type": "stream",
     "text": [
      "/var/folders/z3/zc5j75dj0qn_z2sp8qf47q340000gn/T/ipykernel_75411/652174667.py:8: ResourceWarning: unclosed <socket.socket fd=94, family=AddressFamily.AF_INET, type=SocketKind.SOCK_STREAM, proto=6, laddr=('127.0.0.1', 63694), raddr=('127.0.0.1', 11434)>\n",
      "  analyzer = GraphRAGSystem(row[\"question\"])\n",
      "ResourceWarning: Enable tracemalloc to get the object allocation traceback\n"
     ]
    },
    {
     "name": "stdout",
     "output_type": "stream",
     "text": [
      "Question 438: Which lifestyle change is most effective in reducing AMD risk? a) Reducing salt intake b) Quitting smoking c) Drinking more coffee d) Increasing screen time\n",
      "Context: T...\n",
      "Response: B\n",
      "\n"
     ]
    },
    {
     "name": "stderr",
     "output_type": "stream",
     "text": [
      "/var/folders/z3/zc5j75dj0qn_z2sp8qf47q340000gn/T/ipykernel_75411/652174667.py:8: ResourceWarning: unclosed <socket.socket fd=94, family=AddressFamily.AF_INET, type=SocketKind.SOCK_STREAM, proto=6, laddr=('127.0.0.1', 63727), raddr=('127.0.0.1', 11434)>\n",
      "  analyzer = GraphRAGSystem(row[\"question\"])\n",
      "ResourceWarning: Enable tracemalloc to get the object allocation traceback\n"
     ]
    },
    {
     "name": "stdout",
     "output_type": "stream",
     "text": [
      "Question 439: What is the typical frequency of anti-VEGF injections for wet AMD? a) Once a year b) Every 4-8 weeks c) Every 6 months d) Once every 2 years\n",
      "Context: I...\n",
      "Response: b)\n",
      "\n"
     ]
    },
    {
     "name": "stderr",
     "output_type": "stream",
     "text": [
      "/var/folders/z3/zc5j75dj0qn_z2sp8qf47q340000gn/T/ipykernel_75411/652174667.py:8: ResourceWarning: unclosed <socket.socket fd=94, family=AddressFamily.AF_INET, type=SocketKind.SOCK_STREAM, proto=6, laddr=('127.0.0.1', 63762), raddr=('127.0.0.1', 11434)>\n",
      "  analyzer = GraphRAGSystem(row[\"question\"])\n",
      "ResourceWarning: Enable tracemalloc to get the object allocation traceback\n"
     ]
    },
    {
     "name": "stdout",
     "output_type": "stream",
     "text": [
      "Question 440: Which part of the retina nourishes the macula and is implicated in wet AMD? a) Choroid b) Sclera c) Iris d) Ciliary body\n",
      "Context: T...\n",
      "Response: A\n",
      "The correct answer is A. The choroid plays a crucial role in nourishing the macula, which is essential for vision. The choroid's blood supply supports the macula, while its disease can lead to age-related macular degeneration (AMD).\n",
      "\n"
     ]
    },
    {
     "name": "stderr",
     "output_type": "stream",
     "text": [
      "/var/folders/z3/zc5j75dj0qn_z2sp8qf47q340000gn/T/ipykernel_75411/652174667.py:8: ResourceWarning: unclosed <socket.socket fd=94, family=AddressFamily.AF_INET, type=SocketKind.SOCK_STREAM, proto=6, laddr=('127.0.0.1', 63805), raddr=('127.0.0.1', 11434)>\n",
      "  analyzer = GraphRAGSystem(row[\"question\"])\n",
      "ResourceWarning: Enable tracemalloc to get the object allocation traceback\n"
     ]
    },
    {
     "name": "stdout",
     "output_type": "stream",
     "text": [
      "Question 441: What is the name of the clinical trial that refined the AREDS formula? a) AREDS2 b) DRCR.net c) ETDRS d) VISTA\n",
      "Context: T...\n",
      "Response: C\n",
      "\n"
     ]
    },
    {
     "name": "stderr",
     "output_type": "stream",
     "text": [
      "/var/folders/z3/zc5j75dj0qn_z2sp8qf47q340000gn/T/ipykernel_75411/652174667.py:8: ResourceWarning: unclosed <socket.socket fd=94, family=AddressFamily.AF_INET, type=SocketKind.SOCK_STREAM, proto=6, laddr=('127.0.0.1', 63849), raddr=('127.0.0.1', 11434)>\n",
      "  analyzer = GraphRAGSystem(row[\"question\"])\n",
      "ResourceWarning: Enable tracemalloc to get the object allocation traceback\n"
     ]
    },
    {
     "name": "stdout",
     "output_type": "stream",
     "text": [
      "Question 442: Which of the following is a rare complication of wet AMD? a) Retinal detachment b) Cataract formation c) Corneal abrasion d) Optic neuritis\n",
      "Context: T...\n",
      "Response: The correct answer is: c) Corneal abrasion.\n",
      "\n"
     ]
    },
    {
     "name": "stderr",
     "output_type": "stream",
     "text": [
      "/var/folders/z3/zc5j75dj0qn_z2sp8qf47q340000gn/T/ipykernel_75411/652174667.py:8: ResourceWarning: unclosed <socket.socket fd=94, family=AddressFamily.AF_INET, type=SocketKind.SOCK_STREAM, proto=6, laddr=('127.0.0.1', 63874), raddr=('127.0.0.1', 11434)>\n",
      "  analyzer = GraphRAGSystem(row[\"question\"])\n",
      "ResourceWarning: Enable tracemalloc to get the object allocation traceback\n"
     ]
    },
    {
     "name": "stdout",
     "output_type": "stream",
     "text": [
      "Question 443: What is the primary source of antioxidants in the AREDS formula? a) Fruits b) Vitamins C and E c) Fish oil d) Dairy\n",
      "Context: T...\n",
      "Response: b)\n",
      "\n"
     ]
    },
    {
     "name": "stderr",
     "output_type": "stream",
     "text": [
      "/var/folders/z3/zc5j75dj0qn_z2sp8qf47q340000gn/T/ipykernel_75411/652174667.py:8: ResourceWarning: unclosed <socket.socket fd=94, family=AddressFamily.AF_INET, type=SocketKind.SOCK_STREAM, proto=6, laddr=('127.0.0.1', 63904), raddr=('127.0.0.1', 11434)>\n",
      "  analyzer = GraphRAGSystem(row[\"question\"])\n",
      "ResourceWarning: Enable tracemalloc to get the object allocation traceback\n"
     ]
    },
    {
     "name": "stdout",
     "output_type": "stream",
     "text": [
      "Question 444: Which symptom is NOT typically associated with AMD? a) Difficulty recognizing faces b) Distorted vision c) Peripheral vision loss d) Trouble reading fine print\n",
      "Context: T...\n",
      "Response: c\n",
      "\n"
     ]
    },
    {
     "name": "stderr",
     "output_type": "stream",
     "text": [
      "/var/folders/z3/zc5j75dj0qn_z2sp8qf47q340000gn/T/ipykernel_75411/652174667.py:8: ResourceWarning: unclosed <socket.socket fd=94, family=AddressFamily.AF_INET, type=SocketKind.SOCK_STREAM, proto=6, laddr=('127.0.0.1', 63930), raddr=('127.0.0.1', 11434)>\n",
      "  analyzer = GraphRAGSystem(row[\"question\"])\n",
      "ResourceWarning: Enable tracemalloc to get the object allocation traceback\n"
     ]
    },
    {
     "name": "stdout",
     "output_type": "stream",
     "text": [
      "Question 445: What is the name of the retinal layer that supports photoreceptors and is damaged in AMD? a) Retinal pigment epithelium b) Ganglion cell layer c) Inner nuclear layer d) Outer plexiform layer\n",
      "Context: T...\n",
      "Response: A\n",
      "\n",
      "The correct answer is \"a) Retinal pigment epithelium\". The retinal pigment epithelium (RPE) plays a crucial role in supporting photoreceptors and is damaged in age-related macular degeneration (AMD).\n",
      "\n"
     ]
    },
    {
     "name": "stderr",
     "output_type": "stream",
     "text": [
      "/var/folders/z3/zc5j75dj0qn_z2sp8qf47q340000gn/T/ipykernel_75411/652174667.py:8: ResourceWarning: unclosed <socket.socket fd=94, family=AddressFamily.AF_INET, type=SocketKind.SOCK_STREAM, proto=6, laddr=('127.0.0.1', 63964), raddr=('127.0.0.1', 11434)>\n",
      "  analyzer = GraphRAGSystem(row[\"question\"])\n",
      "ResourceWarning: Enable tracemalloc to get the object allocation traceback\n"
     ]
    },
    {
     "name": "stdout",
     "output_type": "stream",
     "text": [
      "Question 446: Which of the following is a potential side effect of photodynamic therapy for AMD? a) Increased appetite b) Temporary light sensitivity c) Hair loss d) Joint pain\n",
      "Context: P...\n",
      "Response: B\n",
      "\n"
     ]
    },
    {
     "name": "stderr",
     "output_type": "stream",
     "text": [
      "/var/folders/z3/zc5j75dj0qn_z2sp8qf47q340000gn/T/ipykernel_75411/652174667.py:8: ResourceWarning: unclosed <socket.socket fd=94, family=AddressFamily.AF_INET, type=SocketKind.SOCK_STREAM, proto=6, laddr=('127.0.0.1', 64009), raddr=('127.0.0.1', 11434)>\n",
      "  analyzer = GraphRAGSystem(row[\"question\"])\n",
      "ResourceWarning: Enable tracemalloc to get the object allocation traceback\n"
     ]
    },
    {
     "name": "stdout",
     "output_type": "stream",
     "text": [
      "Question 447: What is the estimated prevalence of AMD in people over 80? a) 5% b) 10% c) 25% d) 50%\n",
      "Context: S...\n",
      "Response: c\n",
      "\n"
     ]
    },
    {
     "name": "stderr",
     "output_type": "stream",
     "text": [
      "/var/folders/z3/zc5j75dj0qn_z2sp8qf47q340000gn/T/ipykernel_75411/652174667.py:8: ResourceWarning: unclosed <socket.socket fd=94, family=AddressFamily.AF_INET, type=SocketKind.SOCK_STREAM, proto=6, laddr=('127.0.0.1', 64041), raddr=('127.0.0.1', 11434)>\n",
      "  analyzer = GraphRAGSystem(row[\"question\"])\n",
      "ResourceWarning: Enable tracemalloc to get the object allocation traceback\n"
     ]
    },
    {
     "name": "stdout",
     "output_type": "stream",
     "text": [
      "Question 448: Which nutrient was removed from the original AREDS formula in AREDS2? a) Beta-carotene b) Vitamin C c) Zinc d) Vitamin E\n",
      "Context: T...\n",
      "Response: a) Beta-carotene\n",
      "\n"
     ]
    },
    {
     "name": "stderr",
     "output_type": "stream",
     "text": [
      "/var/folders/z3/zc5j75dj0qn_z2sp8qf47q340000gn/T/ipykernel_75411/652174667.py:8: ResourceWarning: unclosed <socket.socket fd=94, family=AddressFamily.AF_INET, type=SocketKind.SOCK_STREAM, proto=6, laddr=('127.0.0.1', 64074), raddr=('127.0.0.1', 11434)>\n",
      "  analyzer = GraphRAGSystem(row[\"question\"])\n",
      "ResourceWarning: Enable tracemalloc to get the object allocation traceback\n"
     ]
    },
    {
     "name": "stdout",
     "output_type": "stream",
     "text": [
      "Question 449: What is the term for the death of photoreceptors in advanced AMD? a) Photoreceptor degeneration b) Retinal necrosis c) Choroidal atrophy d) Optic atrophy\n",
      "Context: T...\n",
      "Response: A) Photoreceptor degeneration.\n",
      "\n"
     ]
    },
    {
     "name": "stderr",
     "output_type": "stream",
     "text": [
      "/var/folders/z3/zc5j75dj0qn_z2sp8qf47q340000gn/T/ipykernel_75411/652174667.py:8: ResourceWarning: unclosed <socket.socket fd=94, family=AddressFamily.AF_INET, type=SocketKind.SOCK_STREAM, proto=6, laddr=('127.0.0.1', 64108), raddr=('127.0.0.1', 11434)>\n",
      "  analyzer = GraphRAGSystem(row[\"question\"])\n",
      "ResourceWarning: Enable tracemalloc to get the object allocation traceback\n"
     ]
    },
    {
     "name": "stdout",
     "output_type": "stream",
     "text": [
      "Question 450: Which of the following is a common visual aid for AMD patients? a) Hearing aids b) Magnifiers c) Pacemakers d) Crutches\n",
      "Context: T...\n",
      "Response: B\n",
      "\n"
     ]
    },
    {
     "name": "stderr",
     "output_type": "stream",
     "text": [
      "/var/folders/z3/zc5j75dj0qn_z2sp8qf47q340000gn/T/ipykernel_75411/652174667.py:8: ResourceWarning: unclosed <socket.socket fd=94, family=AddressFamily.AF_INET, type=SocketKind.SOCK_STREAM, proto=6, laddr=('127.0.0.1', 64156), raddr=('127.0.0.1', 11434)>\n",
      "  analyzer = GraphRAGSystem(row[\"question\"])\n",
      "ResourceWarning: Enable tracemalloc to get the object allocation traceback\n"
     ]
    },
    {
     "name": "stdout",
     "output_type": "stream",
     "text": [
      "Question 451: What is the name of the condition where scar tissue forms in the macula in wet AMD? a) Macular fibrosis b) Macular edema c) Macular hole d) Macular atrophy\n",
      "Context: T...\n",
      "Response: A\n",
      "\n",
      "Explanation: According to the provided medical information, the correct answer is \"Macular fibrosis\". This option is directly related to scar tissue formation, which is mentioned as a key aspect of wet AMD pathology.\n",
      "\n"
     ]
    },
    {
     "name": "stderr",
     "output_type": "stream",
     "text": [
      "/var/folders/z3/zc5j75dj0qn_z2sp8qf47q340000gn/T/ipykernel_75411/652174667.py:8: ResourceWarning: unclosed <socket.socket fd=94, family=AddressFamily.AF_INET, type=SocketKind.SOCK_STREAM, proto=6, laddr=('127.0.0.1', 64178), raddr=('127.0.0.1', 11434)>\n",
      "  analyzer = GraphRAGSystem(row[\"question\"])\n",
      "ResourceWarning: Enable tracemalloc to get the object allocation traceback\n"
     ]
    },
    {
     "name": "stdout",
     "output_type": "stream",
     "text": [
      "Question 452: Which cardiovascular condition is a risk factor for AMD? a) Hypertension b) Low blood pressure c) Anemia d) Thrombosis\n",
      "Context: T...\n",
      "Response: A\n",
      "\n"
     ]
    },
    {
     "name": "stderr",
     "output_type": "stream",
     "text": [
      "/var/folders/z3/zc5j75dj0qn_z2sp8qf47q340000gn/T/ipykernel_75411/652174667.py:8: ResourceWarning: unclosed <socket.socket fd=94, family=AddressFamily.AF_INET, type=SocketKind.SOCK_STREAM, proto=6, laddr=('127.0.0.1', 64224), raddr=('127.0.0.1', 11434)>\n",
      "  analyzer = GraphRAGSystem(row[\"question\"])\n",
      "ResourceWarning: Enable tracemalloc to get the object allocation traceback\n"
     ]
    },
    {
     "name": "stdout",
     "output_type": "stream",
     "text": [
      "Question 453: What is the name of the procedure that uses light-sensitive drugs to treat wet AMD? a) Laser photocoagulation b) Photodynamic therapy c) Vitrectomy d) Scleral buckle\n",
      "Context: T...\n",
      "Response: B\n",
      "\n"
     ]
    },
    {
     "name": "stderr",
     "output_type": "stream",
     "text": [
      "/var/folders/z3/zc5j75dj0qn_z2sp8qf47q340000gn/T/ipykernel_75411/652174667.py:8: ResourceWarning: unclosed <socket.socket fd=94, family=AddressFamily.AF_INET, type=SocketKind.SOCK_STREAM, proto=6, laddr=('127.0.0.1', 64255), raddr=('127.0.0.1', 11434)>\n",
      "  analyzer = GraphRAGSystem(row[\"question\"])\n",
      "ResourceWarning: Enable tracemalloc to get the object allocation traceback\n"
     ]
    },
    {
     "name": "stdout",
     "output_type": "stream",
     "text": [
      "Question 454: Which of the following is a hallmark of early dry AMD on examination? a) Small drusen b) Large hemorrhages c) Macular swelling d) Optic disc pallor\n",
      "Context: T...\n",
      "Response: A\n",
      "The correct answer is A: Small drusen. According to the provided information, small drusen are hallmarks of early dry age-related macular degeneration (AMD).\n",
      "\n"
     ]
    },
    {
     "name": "stderr",
     "output_type": "stream",
     "text": [
      "/var/folders/z3/zc5j75dj0qn_z2sp8qf47q340000gn/T/ipykernel_75411/652174667.py:8: ResourceWarning: unclosed <socket.socket fd=94, family=AddressFamily.AF_INET, type=SocketKind.SOCK_STREAM, proto=6, laddr=('127.0.0.1', 64292), raddr=('127.0.0.1', 11434)>\n",
      "  analyzer = GraphRAGSystem(row[\"question\"])\n",
      "ResourceWarning: Enable tracemalloc to get the object allocation traceback\n"
     ]
    },
    {
     "name": "stdout",
     "output_type": "stream",
     "text": [
      "Question 455: What is the name of the visual hallucination syndrome sometimes seen in AMD patients? a) Charles Bonnet syndrome b) Stargardt disease c) Leber's congenital amaurosis d) Retinitis pigmentosa\n",
      "Context: T...\n",
      "Response: A\n",
      "\n",
      "The correct answer is \"a\" (Charles Bonnet syndrome).\n",
      "\n"
     ]
    },
    {
     "name": "stderr",
     "output_type": "stream",
     "text": [
      "/var/folders/z3/zc5j75dj0qn_z2sp8qf47q340000gn/T/ipykernel_75411/652174667.py:8: ResourceWarning: unclosed <socket.socket fd=94, family=AddressFamily.AF_INET, type=SocketKind.SOCK_STREAM, proto=6, laddr=('127.0.0.1', 64323), raddr=('127.0.0.1', 11434)>\n",
      "  analyzer = GraphRAGSystem(row[\"question\"])\n",
      "ResourceWarning: Enable tracemalloc to get the object allocation traceback\n"
     ]
    },
    {
     "name": "stdout",
     "output_type": "stream",
     "text": [
      "Question 456: Which of the following is a recommended screening age for AMD? a) 30 b) 40 c) 50 d) 60\n",
      "Context: T...\n",
      "Response: C\n",
      "\n"
     ]
    },
    {
     "name": "stderr",
     "output_type": "stream",
     "text": [
      "/var/folders/z3/zc5j75dj0qn_z2sp8qf47q340000gn/T/ipykernel_75411/652174667.py:8: ResourceWarning: unclosed <socket.socket fd=94, family=AddressFamily.AF_INET, type=SocketKind.SOCK_STREAM, proto=6, laddr=('127.0.0.1', 64379), raddr=('127.0.0.1', 11434)>\n",
      "  analyzer = GraphRAGSystem(row[\"question\"])\n",
      "ResourceWarning: Enable tracemalloc to get the object allocation traceback\n"
     ]
    },
    {
     "name": "stdout",
     "output_type": "stream",
     "text": [
      "Question 457: What is the name of the surgery occasionally used to move the macula in severe AMD? a) Macular translocation b) Corneal transplant c) Lens replacement d) Trabeculectomy\n",
      "Context: T...\n",
      "Response: A\n",
      "The correct answer is A, as macular translocation is indeed the surgical procedure that occasionally involves moving the macula in cases of severe AMD.\n",
      "\n"
     ]
    },
    {
     "name": "stderr",
     "output_type": "stream",
     "text": [
      "/var/folders/z3/zc5j75dj0qn_z2sp8qf47q340000gn/T/ipykernel_75411/652174667.py:8: ResourceWarning: unclosed <socket.socket fd=94, family=AddressFamily.AF_INET, type=SocketKind.SOCK_STREAM, proto=6, laddr=('127.0.0.1', 64410), raddr=('127.0.0.1', 11434)>\n",
      "  analyzer = GraphRAGSystem(row[\"question\"])\n",
      "ResourceWarning: Enable tracemalloc to get the object allocation traceback\n"
     ]
    },
    {
     "name": "stdout",
     "output_type": "stream",
     "text": [
      "Question 458: Which of the following is a common finding in intermediate AMD? a) Large drusen b) Retinal detachment c) Choroidal rupture d) Optic nerve swelling\n",
      "Context: T...\n",
      "Response: The correct answer is A: Large drusen. \n",
      "\n",
      "Intermediate age-related macular degeneration (AMD) is characterized by the presence of large drusen, which are yellow deposits under the retina that can lead to visual impairment. The other options listed are typically associated with more advanced or severe forms of AMD, such as neovascular AMD.\n",
      "\n"
     ]
    },
    {
     "name": "stderr",
     "output_type": "stream",
     "text": [
      "/var/folders/z3/zc5j75dj0qn_z2sp8qf47q340000gn/T/ipykernel_75411/652174667.py:8: ResourceWarning: unclosed <socket.socket fd=94, family=AddressFamily.AF_INET, type=SocketKind.SOCK_STREAM, proto=6, laddr=('127.0.0.1', 64442), raddr=('127.0.0.1', 11434)>\n",
      "  analyzer = GraphRAGSystem(row[\"question\"])\n",
      "ResourceWarning: Enable tracemalloc to get the object allocation traceback\n"
     ]
    },
    {
     "name": "stdout",
     "output_type": "stream",
     "text": [
      "Question 459: What is the primary purpose of sunglasses in AMD prevention? a) Improve night vision b) Reduce UV exposure c) Enhance color perception d) Prevent dry eyes\n",
      "Context: T...\n",
      "Response: B\n",
      "\n"
     ]
    },
    {
     "name": "stderr",
     "output_type": "stream",
     "text": [
      "/var/folders/z3/zc5j75dj0qn_z2sp8qf47q340000gn/T/ipykernel_75411/652174667.py:8: ResourceWarning: unclosed <socket.socket fd=94, family=AddressFamily.AF_INET, type=SocketKind.SOCK_STREAM, proto=6, laddr=('127.0.0.1', 64482), raddr=('127.0.0.1', 11434)>\n",
      "  analyzer = GraphRAGSystem(row[\"question\"])\n",
      "ResourceWarning: Enable tracemalloc to get the object allocation traceback\n"
     ]
    },
    {
     "name": "stdout",
     "output_type": "stream",
     "text": [
      "Question 460: Which gene mutation is most commonly linked to AMD risk? a) CFH b) BRCA2 c) TP53 d) LDLR\n",
      "Context: T...\n",
      "Response: A\n",
      "\n"
     ]
    },
    {
     "name": "stderr",
     "output_type": "stream",
     "text": [
      "/var/folders/z3/zc5j75dj0qn_z2sp8qf47q340000gn/T/ipykernel_75411/652174667.py:8: ResourceWarning: unclosed <socket.socket fd=94, family=AddressFamily.AF_INET, type=SocketKind.SOCK_STREAM, proto=6, laddr=('127.0.0.1', 64512), raddr=('127.0.0.1', 11434)>\n",
      "  analyzer = GraphRAGSystem(row[\"question\"])\n",
      "ResourceWarning: Enable tracemalloc to get the object allocation traceback\n"
     ]
    },
    {
     "name": "stdout",
     "output_type": "stream",
     "text": [
      "Question 461: What is the name of the condition where the macula develops a hole, sometimes linked to AMD? a) Macular hole b) Macular pucker c) Macular edema d) Macular fibrosis\n",
      "Context: T...\n",
      "Response: A\n",
      "\n",
      "Explanation: The correct answer is A. Macular hole.\n",
      "\n"
     ]
    },
    {
     "name": "stderr",
     "output_type": "stream",
     "text": [
      "/var/folders/z3/zc5j75dj0qn_z2sp8qf47q340000gn/T/ipykernel_75411/652174667.py:8: ResourceWarning: unclosed <socket.socket fd=94, family=AddressFamily.AF_INET, type=SocketKind.SOCK_STREAM, proto=6, laddr=('127.0.0.1', 64546), raddr=('127.0.0.1', 11434)>\n",
      "  analyzer = GraphRAGSystem(row[\"question\"])\n",
      "ResourceWarning: Enable tracemalloc to get the object allocation traceback\n"
     ]
    },
    {
     "name": "stdout",
     "output_type": "stream",
     "text": [
      "Question 462: Which of the following is a potential psychological effect of AMD? a) Increased confidence b) Depression c) Improved memory d) Enhanced concentration\n",
      "Context: S...\n",
      "Response: b) Depression\n",
      "\n"
     ]
    },
    {
     "name": "stderr",
     "output_type": "stream",
     "text": [
      "/var/folders/z3/zc5j75dj0qn_z2sp8qf47q340000gn/T/ipykernel_75411/652174667.py:8: ResourceWarning: unclosed <socket.socket fd=94, family=AddressFamily.AF_INET, type=SocketKind.SOCK_STREAM, proto=6, laddr=('127.0.0.1', 64594), raddr=('127.0.0.1', 11434)>\n",
      "  analyzer = GraphRAGSystem(row[\"question\"])\n",
      "ResourceWarning: Enable tracemalloc to get the object allocation traceback\n"
     ]
    },
    {
     "name": "stdout",
     "output_type": "stream",
     "text": [
      "Question 463: What is the name of the test that evaluates retinal function in AMD? a) Electroretinogram (ERG) b) Visual evoked potential (VEP) c) Tonometry d) Pachymetry\n",
      "Context: T...\n",
      "Response: A\n",
      "\n"
     ]
    },
    {
     "name": "stderr",
     "output_type": "stream",
     "text": [
      "/var/folders/z3/zc5j75dj0qn_z2sp8qf47q340000gn/T/ipykernel_75411/652174667.py:8: ResourceWarning: unclosed <socket.socket fd=94, family=AddressFamily.AF_INET, type=SocketKind.SOCK_STREAM, proto=6, laddr=('127.0.0.1', 64621), raddr=('127.0.0.1', 11434)>\n",
      "  analyzer = GraphRAGSystem(row[\"question\"])\n",
      "ResourceWarning: Enable tracemalloc to get the object allocation traceback\n"
     ]
    },
    {
     "name": "stdout",
     "output_type": "stream",
     "text": [
      "Question 464: Which of the following is a common adaptive strategy for AMD patients? a) Using high-contrast materials b) Avoiding bright lights c) Reducing physical activity d) Limiting social interaction\n",
      "Context: T...\n",
      "Response: c\n",
      "\n"
     ]
    },
    {
     "name": "stderr",
     "output_type": "stream",
     "text": [
      "/var/folders/z3/zc5j75dj0qn_z2sp8qf47q340000gn/T/ipykernel_75411/652174667.py:8: ResourceWarning: unclosed <socket.socket fd=94, family=AddressFamily.AF_INET, type=SocketKind.SOCK_STREAM, proto=6, laddr=('127.0.0.1', 64656), raddr=('127.0.0.1', 11434)>\n",
      "  analyzer = GraphRAGSystem(row[\"question\"])\n",
      "ResourceWarning: Enable tracemalloc to get the object allocation traceback\n"
     ]
    },
    {
     "name": "stdout",
     "output_type": "stream",
     "text": [
      "Question 465: What is the name of the condition where the retina wrinkles in AMD? a) Epiretinal membrane b) Retinal tear c) Choroidal rupture d) Vitreous detachment\n",
      "Context: T...\n",
      "Response: A\n",
      "The correct answer is A, Epiretinal membrane.\n",
      "\n"
     ]
    },
    {
     "name": "stderr",
     "output_type": "stream",
     "text": [
      "/var/folders/z3/zc5j75dj0qn_z2sp8qf47q340000gn/T/ipykernel_75411/652174667.py:8: ResourceWarning: unclosed <socket.socket fd=94, family=AddressFamily.AF_INET, type=SocketKind.SOCK_STREAM, proto=6, laddr=('127.0.0.1', 64682), raddr=('127.0.0.1', 11434)>\n",
      "  analyzer = GraphRAGSystem(row[\"question\"])\n",
      "ResourceWarning: Enable tracemalloc to get the object allocation traceback\n"
     ]
    },
    {
     "name": "stdout",
     "output_type": "stream",
     "text": [
      "Question 466: Which nutrient in the AREDS2 formula helps filter blue light? a) Zeaxanthin b) Vitamin C c) Copper d) Zinc\n",
      "Context: T...\n",
      "Response: a)\n",
      "\n"
     ]
    },
    {
     "name": "stderr",
     "output_type": "stream",
     "text": [
      "/var/folders/z3/zc5j75dj0qn_z2sp8qf47q340000gn/T/ipykernel_75411/652174667.py:8: ResourceWarning: unclosed <socket.socket fd=94, family=AddressFamily.AF_INET, type=SocketKind.SOCK_STREAM, proto=6, laddr=('127.0.0.1', 64713), raddr=('127.0.0.1', 11434)>\n",
      "  analyzer = GraphRAGSystem(row[\"question\"])\n",
      "ResourceWarning: Enable tracemalloc to get the object allocation traceback\n"
     ]
    },
    {
     "name": "stdout",
     "output_type": "stream",
     "text": [
      "Question 467: What is the name of the condition where blood leaks into the retina in wet AMD? a) Macular hemorrhage b) Macular edema c) Macular atrophy d) Macular hole\n",
      "Context: T...\n",
      "Response: B\n",
      "\n"
     ]
    },
    {
     "name": "stderr",
     "output_type": "stream",
     "text": [
      "/var/folders/z3/zc5j75dj0qn_z2sp8qf47q340000gn/T/ipykernel_75411/652174667.py:8: ResourceWarning: unclosed <socket.socket fd=94, family=AddressFamily.AF_INET, type=SocketKind.SOCK_STREAM, proto=6, laddr=('127.0.0.1', 64737), raddr=('127.0.0.1', 11434)>\n",
      "  analyzer = GraphRAGSystem(row[\"question\"])\n",
      "ResourceWarning: Enable tracemalloc to get the object allocation traceback\n"
     ]
    },
    {
     "name": "stdout",
     "output_type": "stream",
     "text": [
      "Question 468: Which of the following is a potential future therapy for dry AMD? a) Stem cell therapy b) Laser surgery c) Cataract removal d) Glaucoma drainage\n",
      "Context: T...\n",
      "Response: A\n",
      "The best answer is A.\n",
      "\n"
     ]
    },
    {
     "name": "stderr",
     "output_type": "stream",
     "text": [
      "/var/folders/z3/zc5j75dj0qn_z2sp8qf47q340000gn/T/ipykernel_75411/652174667.py:8: ResourceWarning: unclosed <socket.socket fd=94, family=AddressFamily.AF_INET, type=SocketKind.SOCK_STREAM, proto=6, laddr=('127.0.0.1', 64782), raddr=('127.0.0.1', 11434)>\n",
      "  analyzer = GraphRAGSystem(row[\"question\"])\n",
      "ResourceWarning: Enable tracemalloc to get the object allocation traceback\n"
     ]
    },
    {
     "name": "stdout",
     "output_type": "stream",
     "text": [
      "Question 469: What is the name of the retinal layer that degenerates in geographic atrophy? a) Retinal pigment epithelium b) Inner limiting membrane c) Outer nuclear layer d) Ganglion cell layer\n",
      "Context: T...\n",
      "Response: A\n",
      "\n",
      "\n",
      "The correct answer is A, as geographic atrophy is characterized by the degeneration of the outer nuclear layer.\n",
      "\n"
     ]
    },
    {
     "name": "stderr",
     "output_type": "stream",
     "text": [
      "/var/folders/z3/zc5j75dj0qn_z2sp8qf47q340000gn/T/ipykernel_75411/652174667.py:8: ResourceWarning: unclosed <socket.socket fd=94, family=AddressFamily.AF_INET, type=SocketKind.SOCK_STREAM, proto=6, laddr=('127.0.0.1', 64821), raddr=('127.0.0.1', 11434)>\n",
      "  analyzer = GraphRAGSystem(row[\"question\"])\n",
      "ResourceWarning: Enable tracemalloc to get the object allocation traceback\n"
     ]
    },
    {
     "name": "stdout",
     "output_type": "stream",
     "text": [
      "Question 470: Which of the following is a common mobility aid for AMD patients? a) White cane b) Wheelchair c) Hearing aid d) Prosthetic limb\n",
      "Context: T...\n",
      "Response: d\n",
      "\n"
     ]
    },
    {
     "name": "stderr",
     "output_type": "stream",
     "text": [
      "/var/folders/z3/zc5j75dj0qn_z2sp8qf47q340000gn/T/ipykernel_75411/652174667.py:8: ResourceWarning: unclosed <socket.socket fd=94, family=AddressFamily.AF_INET, type=SocketKind.SOCK_STREAM, proto=6, laddr=('127.0.0.1', 64852), raddr=('127.0.0.1', 11434)>\n",
      "  analyzer = GraphRAGSystem(row[\"question\"])\n",
      "ResourceWarning: Enable tracemalloc to get the object allocation traceback\n"
     ]
    },
    {
     "name": "stdout",
     "output_type": "stream",
     "text": [
      "Question 471: What is the name of the condition where the macula thins in dry AMD? a) Geographic atrophy b) Macular edema c) Macular fibrosis d) Macular hemorrhage\n",
      "Context: B...\n",
      "Response: A\n",
      "\n",
      "Explanation: The correct answer is (a) Geographic atrophy, as it is the condition where the macula thins due to dry AMD.\n",
      "\n"
     ]
    },
    {
     "name": "stderr",
     "output_type": "stream",
     "text": [
      "/var/folders/z3/zc5j75dj0qn_z2sp8qf47q340000gn/T/ipykernel_75411/652174667.py:8: ResourceWarning: unclosed <socket.socket fd=94, family=AddressFamily.AF_INET, type=SocketKind.SOCK_STREAM, proto=6, laddr=('127.0.0.1', 64880), raddr=('127.0.0.1', 11434)>\n",
      "  analyzer = GraphRAGSystem(row[\"question\"])\n",
      "ResourceWarning: Enable tracemalloc to get the object allocation traceback\n"
     ]
    },
    {
     "name": "stdout",
     "output_type": "stream",
     "text": [
      "Question 472: Which occupational factor may increase AMD risk? a) Prolonged sun exposure b) Night shift work c) Heavy lifting d) Sedentary work\n",
      "Context: T...\n",
      "Response: A\n",
      "\n"
     ]
    },
    {
     "name": "stderr",
     "output_type": "stream",
     "text": [
      "/var/folders/z3/zc5j75dj0qn_z2sp8qf47q340000gn/T/ipykernel_75411/652174667.py:8: ResourceWarning: unclosed <socket.socket fd=94, family=AddressFamily.AF_INET, type=SocketKind.SOCK_STREAM, proto=6, laddr=('127.0.0.1', 64933), raddr=('127.0.0.1', 11434)>\n",
      "  analyzer = GraphRAGSystem(row[\"question\"])\n",
      "ResourceWarning: Enable tracemalloc to get the object allocation traceback\n"
     ]
    },
    {
     "name": "stdout",
     "output_type": "stream",
     "text": [
      "Question 473: What is the name of the drug class used to reduce blood vessel growth in wet AMD? a) Anti-VEGF b) Antibiotics c) Antihistamines d) Analgesics\n",
      "Context: T...\n",
      "Response: A\n",
      "The correct answer is A, as it refers to drugs targeting vascular endothelial growth factor (VEGF).\n",
      "\n"
     ]
    },
    {
     "name": "stderr",
     "output_type": "stream",
     "text": [
      "/var/folders/z3/zc5j75dj0qn_z2sp8qf47q340000gn/T/ipykernel_75411/652174667.py:8: ResourceWarning: unclosed <socket.socket fd=94, family=AddressFamily.AF_INET, type=SocketKind.SOCK_STREAM, proto=6, laddr=('127.0.0.1', 64970), raddr=('127.0.0.1', 11434)>\n",
      "  analyzer = GraphRAGSystem(row[\"question\"])\n",
      "ResourceWarning: Enable tracemalloc to get the object allocation traceback\n"
     ]
    },
    {
     "name": "stdout",
     "output_type": "stream",
     "text": [
      "Question 474: Which of the following is a common finding in wet AMD on OCT imaging? a) Subretinal fluid b) Optic disc drusen c) Corneal thinning d) Lens opacities\n",
      "Context: T...\n",
      "Response: A\n",
      "The correct answer is A, subretinal fluid.\n",
      "\n"
     ]
    },
    {
     "name": "stderr",
     "output_type": "stream",
     "text": [
      "/var/folders/z3/zc5j75dj0qn_z2sp8qf47q340000gn/T/ipykernel_75411/652174667.py:8: ResourceWarning: unclosed <socket.socket fd=94, family=AddressFamily.AF_INET, type=SocketKind.SOCK_STREAM, proto=6, laddr=('127.0.0.1', 64998), raddr=('127.0.0.1', 11434)>\n",
      "  analyzer = GraphRAGSystem(row[\"question\"])\n",
      "ResourceWarning: Enable tracemalloc to get the object allocation traceback\n"
     ]
    },
    {
     "name": "stdout",
     "output_type": "stream",
     "text": [
      "Question 475: What is the name of the condition where the retina detaches in severe wet AMD? a) Retinal detachment b) Retinal tear c) Retinal schisis d) Retinal hole\n",
      "Context: T...\n",
      "Response: A\n",
      "\n"
     ]
    },
    {
     "name": "stderr",
     "output_type": "stream",
     "text": [
      "/var/folders/z3/zc5j75dj0qn_z2sp8qf47q340000gn/T/ipykernel_75411/652174667.py:8: ResourceWarning: unclosed <socket.socket fd=94, family=AddressFamily.AF_INET, type=SocketKind.SOCK_STREAM, proto=6, laddr=('127.0.0.1', 65030), raddr=('127.0.0.1', 11434)>\n",
      "  analyzer = GraphRAGSystem(row[\"question\"])\n",
      "ResourceWarning: Enable tracemalloc to get the object allocation traceback\n"
     ]
    },
    {
     "name": "stdout",
     "output_type": "stream",
     "text": [
      "Question 476: Which dietary habit is linked to a higher risk of AMD? a) High fat intake b) High fiber intake c) High protein intake d) High carbohydrate intake\n",
      "Context: A...\n",
      "Response: A\n",
      "\n"
     ]
    },
    {
     "name": "stderr",
     "output_type": "stream",
     "text": [
      "/var/folders/z3/zc5j75dj0qn_z2sp8qf47q340000gn/T/ipykernel_75411/652174667.py:8: ResourceWarning: unclosed <socket.socket fd=94, family=AddressFamily.AF_INET, type=SocketKind.SOCK_STREAM, proto=6, laddr=('127.0.0.1', 65053), raddr=('127.0.0.1', 11434)>\n",
      "  analyzer = GraphRAGSystem(row[\"question\"])\n",
      "ResourceWarning: Enable tracemalloc to get the object allocation traceback\n"
     ]
    },
    {
     "name": "stdout",
     "output_type": "stream",
     "text": [
      "Question 477: What is the name of the test that assesses color vision, sometimes affected in AMD? a) Ishihara test b) Amsler grid c) Snellen chart d) Visual field test\n",
      "Context: T...\n",
      "Response: A \n",
      "\n",
      "Explanation: The Ishihara test is a specific type of visual test used to assess color vision. In people with age-related macular degeneration (AMD), color vision can be affected, making the Ishihara test an important tool in their diagnosis and monitoring.\n",
      "\n"
     ]
    },
    {
     "name": "stderr",
     "output_type": "stream",
     "text": [
      "/var/folders/z3/zc5j75dj0qn_z2sp8qf47q340000gn/T/ipykernel_75411/652174667.py:8: ResourceWarning: unclosed <socket.socket fd=94, family=AddressFamily.AF_INET, type=SocketKind.SOCK_STREAM, proto=6, laddr=('127.0.0.1', 65080), raddr=('127.0.0.1', 11434)>\n",
      "  analyzer = GraphRAGSystem(row[\"question\"])\n",
      "ResourceWarning: Enable tracemalloc to get the object allocation traceback\n"
     ]
    },
    {
     "name": "stdout",
     "output_type": "stream",
     "text": [
      "Question 478: Which of the following is a potential complication of untreated dry AMD? a) Progression to geographic atrophy b) Corneal ulcer c) Optic nerve damage d) Lens dislocation\n",
      "Context: T...\n",
      "Response: A\n",
      "The correct answer is A, as it is stated that \"untreated dry AMD can lead to progression of geographic atrophy\".\n",
      "\n"
     ]
    },
    {
     "name": "stderr",
     "output_type": "stream",
     "text": [
      "/var/folders/z3/zc5j75dj0qn_z2sp8qf47q340000gn/T/ipykernel_75411/652174667.py:8: ResourceWarning: unclosed <socket.socket fd=94, family=AddressFamily.AF_INET, type=SocketKind.SOCK_STREAM, proto=6, laddr=('127.0.0.1', 65119), raddr=('127.0.0.1', 11434)>\n",
      "  analyzer = GraphRAGSystem(row[\"question\"])\n",
      "ResourceWarning: Enable tracemalloc to get the object allocation traceback\n"
     ]
    },
    {
     "name": "stdout",
     "output_type": "stream",
     "text": [
      "Question 479: What is the name of the condition where the retina's blood vessels occlude in AMD? a) Retinal vascular occlusion b) Choroidal neovascularization c) Retinal hemorrhage d) Macular edema\n",
      "Context: T...\n",
      "Response: B\n",
      "\n"
     ]
    },
    {
     "name": "stderr",
     "output_type": "stream",
     "text": [
      "/var/folders/z3/zc5j75dj0qn_z2sp8qf47q340000gn/T/ipykernel_75411/652174667.py:8: ResourceWarning: unclosed <socket.socket fd=94, family=AddressFamily.AF_INET, type=SocketKind.SOCK_STREAM, proto=6, laddr=('127.0.0.1', 65153), raddr=('127.0.0.1', 11434)>\n",
      "  analyzer = GraphRAGSystem(row[\"question\"])\n",
      "ResourceWarning: Enable tracemalloc to get the object allocation traceback\n"
     ]
    },
    {
     "name": "stdout",
     "output_type": "stream",
     "text": [
      "Question 480: Which of the following is a common reading aid for AMD patients? a) Large-print books b) Ear plugs c) Walking sticks d) Compression socks\n",
      "Context: T...\n",
      "Response: A\n",
      "\n"
     ]
    },
    {
     "name": "stderr",
     "output_type": "stream",
     "text": [
      "/var/folders/z3/zc5j75dj0qn_z2sp8qf47q340000gn/T/ipykernel_75411/652174667.py:8: ResourceWarning: unclosed <socket.socket fd=94, family=AddressFamily.AF_INET, type=SocketKind.SOCK_STREAM, proto=6, laddr=('127.0.0.1', 65195), raddr=('127.0.0.1', 11434)>\n",
      "  analyzer = GraphRAGSystem(row[\"question\"])\n",
      "ResourceWarning: Enable tracemalloc to get the object allocation traceback\n"
     ]
    },
    {
     "name": "stdout",
     "output_type": "stream",
     "text": [
      "Question 481: What is the name of the condition where the macula swells in wet AMD? a) Macular edema b) Macular atrophy c) Macular hole d) Macular pucker\n",
      "Context: T...\n",
      "Response: A\n",
      "The correct answer is A: Macular edema.\n",
      "\n"
     ]
    },
    {
     "name": "stderr",
     "output_type": "stream",
     "text": [
      "/var/folders/z3/zc5j75dj0qn_z2sp8qf47q340000gn/T/ipykernel_75411/652174667.py:8: ResourceWarning: unclosed <socket.socket fd=94, family=AddressFamily.AF_INET, type=SocketKind.SOCK_STREAM, proto=6, laddr=('127.0.0.1', 65222), raddr=('127.0.0.1', 11434)>\n",
      "  analyzer = GraphRAGSystem(row[\"question\"])\n",
      "ResourceWarning: Enable tracemalloc to get the object allocation traceback\n"
     ]
    },
    {
     "name": "stdout",
     "output_type": "stream",
     "text": [
      "Question 482: Which of the following is a potential benefit of regular eye exams for AMD? a) Early detection b) Complete cure c) Vision restoration d) Disease reversal\n",
      "Context: R...\n",
      "Response: A\n",
      "\n"
     ]
    },
    {
     "name": "stderr",
     "output_type": "stream",
     "text": [
      "/var/folders/z3/zc5j75dj0qn_z2sp8qf47q340000gn/T/ipykernel_75411/652174667.py:8: ResourceWarning: unclosed <socket.socket fd=94, family=AddressFamily.AF_INET, type=SocketKind.SOCK_STREAM, proto=6, laddr=('127.0.0.1', 65264), raddr=('127.0.0.1', 11434)>\n",
      "  analyzer = GraphRAGSystem(row[\"question\"])\n",
      "ResourceWarning: Enable tracemalloc to get the object allocation traceback\n"
     ]
    },
    {
     "name": "stdout",
     "output_type": "stream",
     "text": [
      "Question 483: What is the name of the condition where the retina's pigment clumps in dry AMD? a) Pigment epithelial detachment b) Retinal pigment epithelium clumping c) Choroidal atrophy d) Photoreceptor loss\n",
      "Context: T...\n",
      "Response: A is incorrect because that term refers to a different medical condition. \n",
      "B is correct, as it states the relationship of RPE dysfunction in dry AMD. \n",
      "C and D are not present.\n",
      "\n"
     ]
    },
    {
     "name": "stderr",
     "output_type": "stream",
     "text": [
      "/var/folders/z3/zc5j75dj0qn_z2sp8qf47q340000gn/T/ipykernel_75411/652174667.py:8: ResourceWarning: unclosed <socket.socket fd=94, family=AddressFamily.AF_INET, type=SocketKind.SOCK_STREAM, proto=6, laddr=('127.0.0.1', 65298), raddr=('127.0.0.1', 11434)>\n",
      "  analyzer = GraphRAGSystem(row[\"question\"])\n",
      "ResourceWarning: Enable tracemalloc to get the object allocation traceback\n"
     ]
    },
    {
     "name": "stdout",
     "output_type": "stream",
     "text": [
      "Question 484: Which of the following is a common adaptive technology for AMD patients? a) Screen readers b) Pacemakers c) Insulin pumps d) Hearing aids\n",
      "Context: T...\n",
      "Response: A\n",
      "The best answer is A.\n",
      "\n"
     ]
    },
    {
     "name": "stderr",
     "output_type": "stream",
     "text": [
      "/var/folders/z3/zc5j75dj0qn_z2sp8qf47q340000gn/T/ipykernel_75411/652174667.py:8: ResourceWarning: unclosed <socket.socket fd=94, family=AddressFamily.AF_INET, type=SocketKind.SOCK_STREAM, proto=6, laddr=('127.0.0.1', 65348), raddr=('127.0.0.1', 11434)>\n",
      "  analyzer = GraphRAGSystem(row[\"question\"])\n",
      "ResourceWarning: Enable tracemalloc to get the object allocation traceback\n"
     ]
    },
    {
     "name": "stdout",
     "output_type": "stream",
     "text": [
      "Question 485: What is the name of the condition where the retina tears in severe AMD? a) Retinal tear b) Retinal detachment c) Retinal schisis d) Retinal hole\n",
      "Context: T...\n",
      "Response: The correct answer is (b) Retinal detachment.\n",
      "\n"
     ]
    },
    {
     "name": "stderr",
     "output_type": "stream",
     "text": [
      "/var/folders/z3/zc5j75dj0qn_z2sp8qf47q340000gn/T/ipykernel_75411/652174667.py:8: ResourceWarning: unclosed <socket.socket fd=94, family=AddressFamily.AF_INET, type=SocketKind.SOCK_STREAM, proto=6, laddr=('127.0.0.1', 65371), raddr=('127.0.0.1', 11434)>\n",
      "  analyzer = GraphRAGSystem(row[\"question\"])\n",
      "ResourceWarning: Enable tracemalloc to get the object allocation traceback\n"
     ]
    },
    {
     "name": "stdout",
     "output_type": "stream",
     "text": [
      "Question 486: Which of the following is a potential benefit of exercise for AMD? a) Improved retinal blood flow b) Increased drusen formation c) Higher UV exposure d) Reduced antioxidant levels\n",
      "Context: T...\n",
      "Response: A\n",
      "The correct answer is A: Improved retinal blood flow. According to relationship 22, physical exercise improves retinal health, which can be related to improved retinal blood flow.\n",
      "\n"
     ]
    },
    {
     "name": "stderr",
     "output_type": "stream",
     "text": [
      "/var/folders/z3/zc5j75dj0qn_z2sp8qf47q340000gn/T/ipykernel_75411/652174667.py:8: ResourceWarning: unclosed <socket.socket fd=94, family=AddressFamily.AF_INET, type=SocketKind.SOCK_STREAM, proto=6, laddr=('127.0.0.1', 65400), raddr=('127.0.0.1', 11434)>\n",
      "  analyzer = GraphRAGSystem(row[\"question\"])\n",
      "ResourceWarning: Enable tracemalloc to get the object allocation traceback\n"
     ]
    },
    {
     "name": "stdout",
     "output_type": "stream",
     "text": [
      "Question 487: What is the name of the condition where the macula puckers in AMD? a) Macular pucker b) Macular edema c) Macular hole d) Macular fibrosis\n",
      "Context: A...\n",
      "Response: A\n",
      "\n"
     ]
    },
    {
     "name": "stderr",
     "output_type": "stream",
     "text": [
      "/var/folders/z3/zc5j75dj0qn_z2sp8qf47q340000gn/T/ipykernel_75411/652174667.py:8: ResourceWarning: unclosed <socket.socket fd=94, family=AddressFamily.AF_INET, type=SocketKind.SOCK_STREAM, proto=6, laddr=('127.0.0.1', 65442), raddr=('127.0.0.1', 11434)>\n",
      "  analyzer = GraphRAGSystem(row[\"question\"])\n",
      "ResourceWarning: Enable tracemalloc to get the object allocation traceback\n"
     ]
    },
    {
     "name": "stdout",
     "output_type": "stream",
     "text": [
      "Question 488: Which of the following is a potential future diagnostic tool for AMD? a) Artificial intelligence b) Blood pressure monitoring c) Pulse oximetry d) EEG\n",
      "Context: T...\n",
      "Response: A\n",
      "\n"
     ]
    },
    {
     "name": "stderr",
     "output_type": "stream",
     "text": [
      "/var/folders/z3/zc5j75dj0qn_z2sp8qf47q340000gn/T/ipykernel_75411/652174667.py:8: ResourceWarning: unclosed <socket.socket fd=94, family=AddressFamily.AF_INET, type=SocketKind.SOCK_STREAM, proto=6, laddr=('127.0.0.1', 65483), raddr=('127.0.0.1', 11434)>\n",
      "  analyzer = GraphRAGSystem(row[\"question\"])\n",
      "ResourceWarning: Enable tracemalloc to get the object allocation traceback\n"
     ]
    },
    {
     "name": "stdout",
     "output_type": "stream",
     "text": [
      "Question 489: What is the name of the condition where the retina's blood vessels dilate in AMD? a) Retinal vascular dilation b) Choroidal neovascularization c) Retinal hemorrhage d) Macular edema\n",
      "Context: T...\n",
      "Response: A)\n",
      "\n",
      "Explanation: The correct answer is \"Retinal vascular dilation\" because it refers to the condition where the retinal blood vessels dilate, which is involved in non-exudative AMD. However, since there's no option that directly corresponds with this description and is specific to only one type of AMD, I am going to choose a better match based on the overall options given.\n",
      "\n",
      "The correct answer can be inferred from another option, A) Retinal vascular dilation, but a different condition listed is more closely associated with AMD: Choroidal neovascularization. However, none of these choices directly states that \"retinal vascular dilation\" is what happens in AMD. Nonetheless, looking at the provided options, we're left with little information.\n",
      "\n"
     ]
    },
    {
     "name": "stderr",
     "output_type": "stream",
     "text": [
      "/var/folders/z3/zc5j75dj0qn_z2sp8qf47q340000gn/T/ipykernel_75411/652174667.py:8: ResourceWarning: unclosed <socket.socket fd=94, family=AddressFamily.AF_INET, type=SocketKind.SOCK_STREAM, proto=6, laddr=('127.0.0.1', 65513), raddr=('127.0.0.1', 11434)>\n",
      "  analyzer = GraphRAGSystem(row[\"question\"])\n",
      "ResourceWarning: Enable tracemalloc to get the object allocation traceback\n"
     ]
    },
    {
     "name": "stdout",
     "output_type": "stream",
     "text": [
      "Question 490: Which of the following is a common cooking aid for AMD patients? a) High-contrast cutting boards b) Noise-canceling headphones c) Orthopedic shoes d) Blood glucose monitors\n",
      "Context: T...\n",
      "Response: A\n",
      "\n"
     ]
    },
    {
     "name": "stderr",
     "output_type": "stream",
     "text": [
      "/var/folders/z3/zc5j75dj0qn_z2sp8qf47q340000gn/T/ipykernel_75411/652174667.py:8: ResourceWarning: unclosed <socket.socket fd=94, family=AddressFamily.AF_INET, type=SocketKind.SOCK_STREAM, proto=6, laddr=('127.0.0.1', 49185), raddr=('127.0.0.1', 11434)>\n",
      "  analyzer = GraphRAGSystem(row[\"question\"])\n",
      "ResourceWarning: Enable tracemalloc to get the object allocation traceback\n"
     ]
    },
    {
     "name": "stdout",
     "output_type": "stream",
     "text": [
      "Question 491: What is the name of the condition where the retina's photoreceptors disorganize in AMD? a) Photoreceptor disarray b) Retinal pigment epithelium atrophy c) Choroidal atrophy d) Macular edema\n",
      "Context: T...\n",
      "Response: A\n",
      "\n",
      "The correct answer is A. In age-related macular degeneration (AMD), the condition where the retina's photoreceptors disorganize is called \"photoreceptor disarray\" or \"retinal layer thinning.\" This term refers to the disruption of the normal retinal architecture, which can lead to vision loss in AMD patients.\n",
      "\n"
     ]
    },
    {
     "name": "stderr",
     "output_type": "stream",
     "text": [
      "/var/folders/z3/zc5j75dj0qn_z2sp8qf47q340000gn/T/ipykernel_75411/652174667.py:8: ResourceWarning: unclosed <socket.socket fd=94, family=AddressFamily.AF_INET, type=SocketKind.SOCK_STREAM, proto=6, laddr=('127.0.0.1', 49210), raddr=('127.0.0.1', 11434)>\n",
      "  analyzer = GraphRAGSystem(row[\"question\"])\n",
      "ResourceWarning: Enable tracemalloc to get the object allocation traceback\n"
     ]
    },
    {
     "name": "stdout",
     "output_type": "stream",
     "text": [
      "Question 492: Which of the following is a potential benefit of quitting smoking for AMD? a) Reduced oxidative stress b) Increased drusen c) Higher blood pressure d) Worsened vision\n",
      "Context: Q...\n",
      "Response: A\n",
      "The best answer is A.\n",
      "\n"
     ]
    },
    {
     "name": "stderr",
     "output_type": "stream",
     "text": [
      "/var/folders/z3/zc5j75dj0qn_z2sp8qf47q340000gn/T/ipykernel_75411/652174667.py:8: ResourceWarning: unclosed <socket.socket fd=94, family=AddressFamily.AF_INET, type=SocketKind.SOCK_STREAM, proto=6, laddr=('127.0.0.1', 49272), raddr=('127.0.0.1', 11434)>\n",
      "  analyzer = GraphRAGSystem(row[\"question\"])\n",
      "ResourceWarning: Enable tracemalloc to get the object allocation traceback\n"
     ]
    },
    {
     "name": "stdout",
     "output_type": "stream",
     "text": [
      "Question 493: What is the name of the condition where the retina's blood leaks in wet AMD? a) Retinal hemorrhage b) Macular edema c) Choroidal rupture d) Vitreous detachment\n",
      "Context: T...\n",
      "Response: The correct answer is B, Macular edema. \n",
      "\n",
      "Note: While retinal hemorrhages can occur in the context of wet AMD, it's not the condition where the retina's blood leaks itself. The term \"macular edema\" refers to fluid accumulation in the macula (the part of the retina responsible for central vision), which is a common complication of wet AMD.\n",
      "\n"
     ]
    },
    {
     "name": "stderr",
     "output_type": "stream",
     "text": [
      "/var/folders/z3/zc5j75dj0qn_z2sp8qf47q340000gn/T/ipykernel_75411/652174667.py:8: ResourceWarning: unclosed <socket.socket fd=94, family=AddressFamily.AF_INET, type=SocketKind.SOCK_STREAM, proto=6, laddr=('127.0.0.1', 49311), raddr=('127.0.0.1', 11434)>\n",
      "  analyzer = GraphRAGSystem(row[\"question\"])\n",
      "ResourceWarning: Enable tracemalloc to get the object allocation traceback\n"
     ]
    },
    {
     "name": "stdout",
     "output_type": "stream",
     "text": [
      "Question 494: Which of the following is a common driving aid for AMD patients? a) Bioptic telescopes b) Glucose meters c) Oxygen tanks d) Knee braces\n",
      "Context: F...\n",
      "Response: A\n",
      "\n"
     ]
    },
    {
     "name": "stderr",
     "output_type": "stream",
     "text": [
      "/var/folders/z3/zc5j75dj0qn_z2sp8qf47q340000gn/T/ipykernel_75411/652174667.py:8: ResourceWarning: unclosed <socket.socket fd=94, family=AddressFamily.AF_INET, type=SocketKind.SOCK_STREAM, proto=6, laddr=('127.0.0.1', 49355), raddr=('127.0.0.1', 11434)>\n",
      "  analyzer = GraphRAGSystem(row[\"question\"])\n",
      "ResourceWarning: Enable tracemalloc to get the object allocation traceback\n"
     ]
    },
    {
     "name": "stdout",
     "output_type": "stream",
     "text": [
      "Question 495: What is the name of the condition where the retina's pigment overgrows in dry AMD? a) Retinal pigment epithelium hyperplasia b) Choroidal atrophy c) Photoreceptor degeneration d) Macular edema\n",
      "Context: T...\n",
      "Response: A\n",
      "\n",
      "The correct answer is A: Retinal pigment epithelium hyperplasia. In the dry form of age-related macular degeneration (AMD), the retinal pigment epithelium (RPE) can undergo a process called hyperplasia, where it overgrows and thickens, leading to scarring and vision loss.\n",
      "\n"
     ]
    },
    {
     "name": "stderr",
     "output_type": "stream",
     "text": [
      "/var/folders/z3/zc5j75dj0qn_z2sp8qf47q340000gn/T/ipykernel_75411/652174667.py:8: ResourceWarning: unclosed <socket.socket fd=94, family=AddressFamily.AF_INET, type=SocketKind.SOCK_STREAM, proto=6, laddr=('127.0.0.1', 49384), raddr=('127.0.0.1', 11434)>\n",
      "  analyzer = GraphRAGSystem(row[\"question\"])\n",
      "ResourceWarning: Enable tracemalloc to get the object allocation traceback\n"
     ]
    },
    {
     "name": "stdout",
     "output_type": "stream",
     "text": [
      "Question 496: Which of the following is a potential benefit of leafy greens for AMD? a) Increased antioxidants b) Higher cholesterol c) Reduced blood flow d) Increased UV damage\n",
      "Context: T...\n",
      "Response: A\n",
      "The best answer is A.\n",
      "\n"
     ]
    },
    {
     "name": "stderr",
     "output_type": "stream",
     "text": [
      "/var/folders/z3/zc5j75dj0qn_z2sp8qf47q340000gn/T/ipykernel_75411/652174667.py:8: ResourceWarning: unclosed <socket.socket fd=94, family=AddressFamily.AF_INET, type=SocketKind.SOCK_STREAM, proto=6, laddr=('127.0.0.1', 49467), raddr=('127.0.0.1', 11434)>\n",
      "  analyzer = GraphRAGSystem(row[\"question\"])\n",
      "ResourceWarning: Enable tracemalloc to get the object allocation traceback\n"
     ]
    },
    {
     "name": "stdout",
     "output_type": "stream",
     "text": [
      "Question 497: What is the name of the condition where the retina's layers fold in AMD? a) Retinal fold b) Macular pucker c) Epiretinal membrane d) All of the above\n",
      "Context: T...\n",
      "Response: d) All of the above\n",
      "\n"
     ]
    },
    {
     "name": "stderr",
     "output_type": "stream",
     "text": [
      "/var/folders/z3/zc5j75dj0qn_z2sp8qf47q340000gn/T/ipykernel_75411/652174667.py:8: ResourceWarning: unclosed <socket.socket fd=94, family=AddressFamily.AF_INET, type=SocketKind.SOCK_STREAM, proto=6, laddr=('127.0.0.1', 49494), raddr=('127.0.0.1', 11434)>\n",
      "  analyzer = GraphRAGSystem(row[\"question\"])\n",
      "ResourceWarning: Enable tracemalloc to get the object allocation traceback\n"
     ]
    },
    {
     "name": "stdout",
     "output_type": "stream",
     "text": [
      "Question 498: Which of the following is a potential future treatment for wet AMD? a) Gene therapy b) Antibiotic therapy c) Chemotherapy d) Radiation therapy\n",
      "Context: T...\n",
      "Response: A\n",
      "\n"
     ]
    },
    {
     "name": "stderr",
     "output_type": "stream",
     "text": [
      "/var/folders/z3/zc5j75dj0qn_z2sp8qf47q340000gn/T/ipykernel_75411/652174667.py:8: ResourceWarning: unclosed <socket.socket fd=94, family=AddressFamily.AF_INET, type=SocketKind.SOCK_STREAM, proto=6, laddr=('127.0.0.1', 49531), raddr=('127.0.0.1', 11434)>\n",
      "  analyzer = GraphRAGSystem(row[\"question\"])\n",
      "ResourceWarning: Enable tracemalloc to get the object allocation traceback\n"
     ]
    },
    {
     "name": "stdout",
     "output_type": "stream",
     "text": [
      "Question 499: What is the name of the condition where the retina's blood vessels leak fluid in AMD? a) Retinal vascular leakage b) Choroidal neovascularization c) Retinal tear d) Macular atrophy\n",
      "Context: T...\n",
      "Response: A)\n",
      "\n",
      "Explanation: The correct answer, \"Retinal vascular leakage\", refers to the process by which the retina's blood vessels become leaky and allow fluid to accumulate in the macula. This is a characteristic feature of neovascular age-related macular degeneration (AMD).\n",
      "\n"
     ]
    },
    {
     "name": "stderr",
     "output_type": "stream",
     "text": [
      "/var/folders/z3/zc5j75dj0qn_z2sp8qf47q340000gn/T/ipykernel_75411/652174667.py:8: ResourceWarning: unclosed <socket.socket fd=94, family=AddressFamily.AF_INET, type=SocketKind.SOCK_STREAM, proto=6, laddr=('127.0.0.1', 49563), raddr=('127.0.0.1', 11434)>\n",
      "  analyzer = GraphRAGSystem(row[\"question\"])\n",
      "ResourceWarning: Enable tracemalloc to get the object allocation traceback\n"
     ]
    },
    {
     "name": "stdout",
     "output_type": "stream",
     "text": [
      "Question 500: Which of the following is a common occupational therapy goal for AMD patients? a) Adapting to vision loss b) Increasing muscle strength c) Improving lung capacity d) Enhancing taste perception\n",
      "Context: T...\n",
      "Response: A\n",
      "\n"
     ]
    }
   ],
   "source": [
    "# Loop through questions and generate answers with context\n",
    "contexts = []\n",
    "with_context_responses = []\n",
    "\n",
    "print(\"Processing questions with context...\")\n",
    "for index, row in df.iterrows():\n",
    "    # Retrieve context\n",
    "    analyzer = GraphRAGSystem(row[\"question\"])\n",
    "    context = analyzer.analyze()\n",
    "\n",
    "    contexts.append(context)\n",
    "    \n",
    "    # Generate answer with context\n",
    "    response = generate_answer_with_context(row[\"question\"], context, \"llama3.2\")\n",
    "    response = remove_think_tags(response)\n",
    "    with_context_responses.append(response)\n",
    "    \n",
    "    print(f\"Question {index+1}: {row['question']}\")\n",
    "    print(f\"Context: {context[0][:100]}...\")\n",
    "    print(f\"Response: {response}\\n\")\n",
    "\n",
    "# Add to dataframe\n",
    "df['contexts'] = contexts\n",
    "df['with_context_answer'] = with_context_responses"
   ]
  },
  {
   "cell_type": "code",
   "execution_count": 8,
   "id": "834c63bc-9592-45eb-ba29-91588e263cf5",
   "metadata": {},
   "outputs": [
    {
     "name": "stdout",
     "output_type": "stream",
     "text": [
      "Processing questions without context...\n",
      "Question 1: Which retinal layer is most affected by AMD? a) Ganglion cell layer b) Macula c) Outer plexiform layer d) Choroid\n",
      "Response: b\n",
      "\n",
      "Question 2: What is the primary visual symptom of wet AMD? a) Peripheral vision loss b) Sudden central vision distortion c) Color blindness d) Night blindness\n",
      "Response: c\n",
      "\n",
      "Question 3: Which condition is dry AMD most likely to progress to? a) Glaucoma b) Geographic atrophy c) Cataracts d) Retinal detachment\n",
      "Response: c\n",
      "\n",
      "Question 4: What is a key environmental risk factor for AMD? a) High altitude b) Smoking c) Cold weather d) Noise exposure\n",
      "Response: B\n",
      "\n",
      "Question 5: Which type of AMD typically progresses more rapidly? a) Dry AMD b) Wet AMD c) Early AMD d) Intermediate AMD\n",
      "Response: c\n",
      "\n",
      "Question 6: What is the current status of a cure for advanced AMD? a) Fully curable b) Partially curable c) No cure exists d) Cure in trials\n",
      "Response: d\n",
      "\n",
      "Question 7: Which therapy is commonly used for wet AMD? a) Anti-VEGF injections b) Topical steroids c) Acupuncture d) Hearing aids\n",
      "Response: A\n",
      "\n",
      "Question 8: Which vision type is least affected by AMD? a) Central vision b) Peripheral vision c) Depth perception d) Color vision\n",
      "Response: d\n",
      "\n",
      "Question 9: What genetic factor increases AMD risk? a) Family history b) Hair color c) Blood type d) Height\n",
      "Response: A\n",
      "\n",
      "Question 10: Which diagnostic method is ineffective for AMD? a) OCT b) Amsler grid c) Blood pressure test d) Fundus photography\n",
      "Response: c\n",
      "\n",
      "Question 11: What tool is used to monitor AMD-related distortion? a) Stethoscope b) Amsler grid c) Thermometer d) ECG\n",
      "Response: b\n",
      "\n",
      "Question 12: Which AMD type is more prevalent? a) Wet AMD b) Dry AMD c) Both equally d) Neither\n",
      "Response: a\n",
      "\n",
      "Question 13: What is the effect of sunglasses on AMD prevention? a) Fully prevents b) Reduces risk c) No effect d) Increases risk\n",
      "Response: c)\n",
      "\n",
      "Question 14: Which systemic condition heightens AMD risk? a) Asthma b) Diabetes c) Arthritis d) Migraines\n",
      "Response: b\n",
      "\n",
      "Question 15: What is the primary treatment focus for dry AMD? a) Surgery b) Slowing progression c) Reversing damage d) Pain relief\n",
      "Response: c\n",
      "\n",
      "Question 16: What retinal feature is characteristic of dry AMD? a) Fluid leakage b) Drusen deposits c) Blood vessel rupture d) Corneal opacity\n",
      "Response: A) Fluid leakage\n",
      "\n",
      "Question 17: At what age does AMD risk significantly increase? a) 30 b) 40 c) 50 d) 60\n",
      "Response: c\n",
      "\n",
      "Question 18: Which symptom is most associated with wet AMD? a) Gradual peripheral loss b) Sudden central blur c) Eye redness d) Floaters\n",
      "Response: d\n",
      "\n",
      "Question 19: Is AMD transmissible between people? a) Yes, highly b) Yes, mildly c) No d) Only genetically\n",
      "Response: c\n",
      "\n",
      "Question 20: Which lifestyle factor exacerbates AMD? a) Regular exercise b) Obesity c) Adequate sleep d) Hydration\n",
      "Response: c\n",
      "\n",
      "Question 21: Can surgery fully reverse AMD damage? a) Yes b) No c) Sometimes d) Only early stages\n",
      "Response: b\n",
      "\n",
      "Question 22: What visual ability does AMD often impair? a) Color perception b) Hearing acuity c) Taste sensitivity d) Peripheral motion\n",
      "Response: d\n",
      "\n",
      "Question 23: Which is not a cause of AMD? a) Aging b) Genetics c) Screen time d) UV exposure\n",
      "Response: A\n",
      "\n",
      "Question 24: What imaging technique is critical for AMD diagnosis? a) X-ray b) MRI c) OCT d) Ultrasound\n",
      "Response: c)\n",
      "\n",
      "Question 25: What does wet AMD typically involve? a) Drusen reduction b) Fluid leakage c) Lens thickening d) Iris damage\n",
      "Response: b\n",
      "\n",
      "Question 26: Which gender has a slightly higher AMD prevalence? a) Men b) Women c) Equal d) Unknown\n",
      "Response: c\n",
      "\n",
      "Question 27: Are over-the-counter eye drops effective for AMD? a) Yes b) No c) Sometimes d) Only early stages\n",
      "Response: b\n",
      "\n",
      "Question 28: Which cardiovascular condition increases AMD risk? a) Low blood pressure b) Hypertension c) Arrhythmia d) Anemia\n",
      "Response: c\n",
      "\n",
      "Question 29: What metabolic factor is linked to AMD? a) High cholesterol b) Low sodium c) High potassium d) Low glucose\n",
      "Response: c\n",
      "\n",
      "Question 30: Can dietary fish oil alone halt AMD? a) Yes b) No c) Sometimes d) Only with supplements\n",
      "Response: b)\n",
      "\n",
      "Question 31: Which eye structure remains unaffected by AMD? a) Macula b) Optic nerve c) Retinal pigment epithelium d) Choroid\n",
      "Response: d\n",
      "\n",
      "Question 32: What therapy targets blood vessels in wet AMD? a) Chemotherapy b) Photodynamic therapy c) Radiation d) Massage\n",
      "Response: B\n",
      "\n",
      "Question 33: Does AMD increase physical risks in the elderly? a) Falls b) Hearing loss c) Muscle weakness d) Appetite loss\n",
      "Response: c\n",
      "\n",
      "Question 34: Is AMD typically unilateral at onset? a) Yes b) No c) Always d) Rarely\n",
      "Response: b)\n",
      "\n",
      "Question 35: What supplement regimen slows dry AMD? a) AREDS b) Multivitamins c) Calcium pills d) Iron tablets\n",
      "Response: A\n",
      "\n",
      "Question 36: Which ethnicity has the highest AMD incidence? a) African Americans b) Caucasians c) Asians d) Hispanics\n",
      "Response: A\n",
      "\n",
      "Question 37: Does wet AMD inevitably cause total blindness? a) Yes b) No c) Often d) Rarely\n",
      "Response: b) No\n",
      "\n",
      "Question 38: What visual distortion is typical of AMD? a) Double vision b) Wavy lines c) Flashing lights d) Tunnel vision\n",
      "Response: c\n",
      "\n",
      "Question 39: Is AMD caused by infectious agents? a) Yes b) No c) Sometimes d) Unknown\n",
      "Response: b\n",
      "\n",
      "Question 40: Which functional ability does AMD impair? a) Depth perception b) Hearing sensitivity c) Olfactory detection d) Tactile response\n",
      "Response: d\n",
      "\n",
      "Question 41: Can AMD occur in young children? a) Yes b) No c) Rarely d) Only genetically\n",
      "Response: a) Yes\n",
      "\n",
      "Question 42: Does AMD necessitate visual aids? a) Yes b) No c) Sometimes d) Never\n",
      "Response: b\n",
      "\n",
      "Question 43: What environmental exposure is linked to AMD? a) Noise pollution b) UV light c) Air humidity d) Temperature extremes\n",
      "Response: B\n",
      "\n",
      "Question 44: Can exercise alone reverse AMD? a) Yes b) No c) Partially d) Only early stages\n",
      "Response: d) Only early stages\n",
      "\n",
      "Question 45: Which vision type is least impacted by AMD? a) Night vision b) Peripheral vision c) Central vision d) Contrast sensitivity\n",
      "Response: d\n",
      "\n",
      "Question 46: What exam detects AMD? a) Blood draw b) Dilated eye exam c) Hearing test d) Skin biopsy\n",
      "Response: b\n",
      "\n",
      "Question 47: Is dim light reading a cause of AMD? a) Yes b) No c) Sometimes d) Unknown\n",
      "Response: c\n",
      "\n",
      "Question 48: Which daily task does AMD most impair? a) Face recognition b) Hearing conversations c) Smelling food d) Tasting flavors\n",
      "Response: a) Face recognition\n",
      "\n",
      "Question 49: Are antibiotics effective against AMD? a) Yes b) No c) Sometimes d) Only wet AMD\n",
      "Response: b)\n",
      "\n",
      "Question 50: What demographic factor most influences AMD? a) Age b) Height c) Weight d) Hair color\n",
      "Response: a\n",
      "\n",
      "Question 51: Which retinal change is specific to wet AMD? a) Drusen increase b) Choroidal neovascularization c) Optic disc swelling d) Lens opacity\n",
      "Response: B\n",
      "\n",
      "Question 52: What is the effect of avoiding sunlight on AMD? a) Prevents completely b) Reduces risk c) No impact d) Worsens condition\n",
      "Response: c\n",
      "\n",
      "Question 53: Which nutrient is not part of AREDS? a) Vitamin C b) Vitamin E c) Vitamin D d) Zinc\n",
      "Response: d\n",
      "\n",
      "Question 54: What diagnostic sign does fluorescein angiography reveal in wet AMD? a) Drusen size b) Fluid leakage c) Lens clarity d) Corneal thickness\n",
      "Response: B\n",
      "\n",
      "Question 55: Which region has higher AMD prevalence? a) Developing countries b) Developed countries c) Tropical areas d) Polar regions\n",
      "Response: c\n",
      "\n",
      "Question 56: Can wet AMD be fully reversed? a) Yes b) No c) Sometimes d) Only early stages\n",
      "Response: d\n",
      "\n",
      "Question 57: What retinal structure is central to AMD pathology? a) Optic disc b) Macula c) Fovea d) Peripheral retina\n",
      "Response: c\n",
      "\n",
      "Question 58: Is poor hygiene a cause of AMD? a) Yes b) No c) Sometimes d) Unknown\n",
      "Response: b)\n",
      "\n",
      "Question 59: What assistive device helps AMD patients? a) Hearing aids b) Low vision aids c) Wheelchairs d) Inhalers\n",
      "Response: b\n",
      "\n",
      "Question 60: Which daily activity is most affected by AMD? a) Driving b) Tasting food c) Hearing music d) Smelling flowers\n",
      "Response: A\n",
      "\n",
      "Question 61: Does alcohol consumption directly cause AMD? a) Yes b) No c) Sometimes d) Only heavy use\n",
      "Response: b) No\n",
      "\n",
      "Question 62: What hereditary factor contributes to AMD? a) Eye color b) Genetic predisposition c) Skin tone d) Hair texture\n",
      "Response: B\n",
      "\n",
      "Question 63: Which retinal event occurs in wet AMD? a) Drusen dissolution b) Subretinal hemorrhage c) Optic nerve atrophy d) Lens detachment\n",
      "Response: b\n",
      "\n",
      "Question 64: Is staring at bright lights a direct cause of AMD? a) Yes b) No c) Sometimes d) Unknown\n",
      "Response: b)\n",
      "\n",
      "Question 65: What screening method identifies AMD early? a) Blood test b) Eye exam c) Hearing test d) Skin scan\n",
      "Response: b\n",
      "\n",
      "Question 66: Does AMD cause floaters as a primary symptom? a) Yes b) No c) Sometimes d) Only late stages\n",
      "Response: a\n",
      "\n",
      "Question 67: Which eye trait may elevate AMD risk? a) Dark eyes b) Light eyes c) Myopia d) Astigmatism\n",
      "Response: d\n",
      "\n",
      "Question 68: Can vitamin C alone cure AMD? a) Yes b) No c) Sometimes d) Only with zinc\n",
      "Response: b\n",
      "\n",
      "Question 69: What visual defect does AMD often produce? a) Peripheral tunnel b) Central blind spots c) Flashing lights d) Double images\n",
      "Response: d\n",
      "\n",
      "Question 70: Is excessive sugar intake a direct AMD cause? a) Yes b) No c) Sometimes d) Unknown\n",
      "Response: b\n",
      "\n",
      "Question 71: What lifestyle change reduces AMD risk? a) More screen time b) Smoking cessation c) Less exercise d) High-fat diet\n",
      "Response: b\n",
      "\n",
      "Question 72: Does AMD exclusively impair night vision? a) Yes b) No c) Sometimes d) Only wet AMD\n",
      "Response: b\n",
      "\n",
      "Question 73: What retinal scan detects AMD? a) CT scan b) Retina scan c) PET scan d) MRI\n",
      "Response: b)\n",
      "\n",
      "Question 74: Can diet alone manage wet AMD? a) Yes b) No c) Sometimes d) Only early stages\n",
      "Response: b)\n",
      "\n",
      "Question 75: Which adaptation does AMD affect? a) Low light vision b) Hearing acuity c) Taste sensitivity d) Balance control\n",
      "Response: c\n",
      "\n",
      "Question 76: Is lack of sleep a primary AMD cause? a) Yes b) No c) Sometimes d) Unknown\n",
      "Response: b\n",
      "\n",
      "Question 77: What routine check monitors AMD? a) Blood test b) Eye checkup c) Hearing exam d) Skin test\n",
      "Response: c\n",
      "\n",
      "Question 78: Does dry AMD cause retinal bleeding? a) Yes b) No c) Sometimes d) Only late stages\n",
      "Response: c\n",
      "\n",
      "Question 79: Which group has lower AMD rates? a) Caucasians b) African Americans c) Asians d) Europeans\n",
      "Response: c\n",
      "\n",
      "Question 80: Can AMD cause hallucinations in late stages? a) Yes b) No c) Rarely d) Only wet AMD\n",
      "Response: a\n",
      "\n",
      "Question 81: Is AMD exclusive to those over 80? a) Yes b) No c) Usually d) Rarely\n",
      "Response: b\n",
      "\n",
      "Question 82: What cellular process is linked to AMD? a) Oxidative stress b) Bone growth c) Muscle repair d) Skin regeneration\n",
      "Response: A\n",
      "\n",
      "Question 83: Is acupuncture a standard AMD treatment? a) Yes b) No c) Sometimes d) Only experimental\n",
      "Response: d\n",
      "\n",
      "Question 84: Which mental health issue may AMD increase? a) Depression b) Anxiety c) Memory loss d) All of the above\n",
      "Response: d) All of the above\n",
      "\n",
      "Question 85: Do contact lenses cause AMD? a) Yes b) No c) Sometimes d) Only long-term use\n",
      "Response: b\n",
      "\n",
      "Question 86: What photographic method aids AMD diagnosis? a) Fundus photography b) X-ray imaging c) Thermal imaging d) Ultrasound\n",
      "Response: a\n",
      "\n",
      "Question 87: Does wet AMD cause retinal scarring? a) Yes b) No c) Rarely d) Only early stages\n",
      "Response: a\n",
      "\n",
      "Question 88: Is vitamin D deficiency a direct AMD cause? a) Yes b) No c) Sometimes d) Unknown\n",
      "Response: b\n",
      "\n",
      "Question 89: Which spatial ability does AMD affect? a) Distance judgment b) Sound localization c) Taste distinction d) Smell detection\n",
      "Response: A\n",
      "\n",
      "Question 90: Does dry AMD always become wet AMD? a) Yes b) No c) Often d) Rarely\n",
      "Response: b) No\n",
      "\n",
      "Question 91: What is the estimated U.S. AMD case count? a) 1 million b) 5 million c) 11 million d) 20 million\n",
      "Response: c\n",
      "\n",
      "Question 92: Can avoiding all fats prevent wet AMD? a) Yes b) No c) Sometimes d) Only with diet\n",
      "Response: b\n",
      "\n",
      "Question 93: Which retinal feature is most indicative of early dry AMD? a) Fluid leakage b) Drusen deposits c) Retinal tears d) Optic disc swelling\n",
      "Response: c\n",
      "\n",
      "Question 94: What is a hallmark symptom of wet AMD? a) Gradual peripheral loss b) Wavy central vision c) Improved contrast d) Eye redness\n",
      "Response: A\n",
      "\n",
      "Question 95: Which stage of dry AMD precedes geographic atrophy? a) Early b) Intermediate c) Advanced d) Initial\n",
      "Response: d) Initial\n",
      "\n",
      "Question 96: What habit significantly increases AMD risk? a) Drinking coffee b) Smoking c) Walking daily d) Reading books\n",
      "Response: c\n",
      "\n",
      "Question 97: Which form of AMD is characterized by neovascularization? a) Dry AMD b) Wet AMD c) Early AMD d) Late AMD\n",
      "Response: B\n",
      "\n",
      "Question 98: Is there a definitive cure for intermediate AMD? a) Yes b) No c) In development d) Only for wet AMD\n",
      "Response: c\n",
      "\n",
      "Question 99: What injection targets wet AMD’s blood vessels? a) Insulin b) Anti-VEGF c) Steroids d) Antibiotics\n",
      "Response: B\n",
      "\n",
      "Question 100: Which vision aspect is preserved longest in AMD? a) Central acuity b) Peripheral vision c) Color distinction d) Depth perception\n",
      "Response: b\n",
      "\n",
      "Question 101: What hereditary trait is linked to AMD? a) Family history b) Eye shape c) Hair length d) Skin color\n",
      "Response: A\n",
      "\n",
      "Question 102: Which test is irrelevant for AMD diagnosis? a) OCT b) Skin biopsy c) Amsler grid d) Fluorescein angiography\n",
      "Response: c\n",
      "\n",
      "Question 103: What home tool monitors AMD progression? a) Thermometer b) Amsler grid c) Blood pressure cuff d) Pulse oximeter\n",
      "Response: b\n",
      "\n",
      "Question 104: Which AMD type affects the majority of patients? a) Wet AMD b) Dry AMD c) Mixed AMD d) Neither\n",
      "Response: b\n",
      "\n",
      "Question 105: Can UV-blocking sunglasses eliminate AMD risk? a) Yes b) No c) Partially d) Only with diet\n",
      "Response: b) No\n",
      "\n",
      "Question 106: Which chronic illness is associated with higher AMD risk? a) Diabetes b) Allergies c) Bronchitis d) Osteoporosis\n",
      "Response: a)\n",
      "\n",
      "Question 107: What is the main goal of dry AMD management? a) Cure b) Slow progression c) Reverse vision loss d) Reduce pain\n",
      "Response: c\n",
      "\n",
      "Question 108: What accumulates in the retina in dry AMD? a) Blood clots b) Drusen c) Tears d) Calcium deposits\n",
      "Response: B\n",
      "\n",
      "Question 109: What age group is most susceptible to AMD onset? a) 20-30 b) 30-40 c) 50-60 d) 60+\n",
      "Response: d) 60+\n",
      "\n",
      "Question 110: Which event is typical of wet AMD onset? a) Gradual drusen growth b) Sudden vision loss c) Peripheral blur d) Eye irritation\n",
      "Response: c\n",
      "\n",
      "Question 111: Can AMD spread through contact? a) Yes b) No c) Rarely d) Only genetically\n",
      "Response: a) Yes\n",
      "\n",
      "Question 112: Which metabolic state increases AMD likelihood? a) Obesity b) Low BMI c) High hydration d) Low cholesterol\n",
      "Response: d\n",
      "\n",
      "Question 113: Is surgical intervention a cure for AMD? a) Yes b) No c) Partially d) Only wet AMD\n",
      "Response: b\n",
      "\n",
      "Question 114: What visual function does AMD often alter? a) Color perception b) Auditory perception c) Taste sensitivity d) Peripheral speed\n",
      "Response: d\n",
      "\n",
      "Question 115: Does excessive computer use directly cause AMD? a) Yes b) No c) Sometimes d) Only prolonged use\n",
      "Response: b)\n",
      "\n",
      "Question 116: Which imaging method is essential for AMD evaluation? a) OCT b) CT scan c) MRI d) X-ray\n",
      "Response: A\n",
      "\n",
      "Question 117: What does wet AMD frequently cause in the retina? a) Drusen shrinkage b) Subretinal fluid c) Lens clouding d) Optic nerve swelling\n",
      "Response: b\n",
      "\n",
      "Question 118: Which demographic shows a slight AMD prevalence edge? a) Men b) Women c) No difference d) Children\n",
      "Response: a\n",
      "\n",
      "Question 119: Are OTC eye drops a standard AMD treatment? a) Yes b) No c) Sometimes d) Only for dry AMD\n",
      "Response: b\n",
      "\n",
      "Question 120: Which vascular condition is a known AMD risk factor? a) Hypotension b) Hypertension c) Varicose veins d) Anemia\n",
      "Response: d\n",
      "\n",
      "Question 121: What lipid-related condition correlates with AMD? a) High cholesterol b) Low triglycerides c) High HDL d) Low LDL\n",
      "Response: d\n",
      "\n",
      "Question 122: Can omega-3 supplements alone prevent AMD? a) Yes b) No c) Partially d) Only with vitamins\n",
      "Response: b)\n",
      "\n",
      "Question 123: Which eye component is spared in AMD progression? a) Macula b) Optic nerve c) Retinal pigment epithelium d) Choroid\n",
      "Response: d) Choroid\n",
      "\n",
      "Question 124: What laser-based therapy treats wet AMD? a) LASIK b) Photodynamic therapy c) PRK d) Cataract surgery\n",
      "Response: b\n",
      "\n",
      "Question 125: Does AMD heighten accident risk in older adults? a) Falls b) Burns c) Cuts d) Bruises\n",
      "Response: a\n",
      "\n",
      "Question 126: Is AMD typically confined to one eye initially? a) Yes b) No c) Always d) Rarely\n",
      "Response: a\n",
      "\n",
      "Question 127: Which nutritional protocol aids dry AMD? a) AREDS b) Low-carb diet c) High-protein diet d) Vegan diet\n",
      "Response: A) AREDS\n",
      "\n",
      "Question 128: Which racial group has elevated AMD rates? a) Caucasians b) African Americans c) Asians d) Native Americans\n",
      "Response: b\n",
      "\n",
      "Question 129: Does wet AMD always result in complete blindness? a) Yes b) No c) Often d) Rarely\n",
      "Response: b)\n",
      "\n",
      "Question 130: What visual anomaly does AMD commonly produce? a) Straight lines appear wavy b) Peripheral darkening c) Flashing spots d) Double vision\n",
      "Response: c\n",
      "\n",
      "Question 131: Is AMD a bacterial condition? a) Yes b) No c) Sometimes d) Only wet AMD\n",
      "Response: b\n",
      "\n",
      "Question 132: Which spatial skill does AMD disrupt? a) Depth perception b) Sound direction c) Smell intensity d) Touch sensitivity\n",
      "Response: a\n",
      "\n",
      "Question 133: Can AMD affect preschool-aged children? a) Yes b) No c) Rarely d) Only with genetics\n",
      "Response: a) Yes\n",
      "\n",
      "Question 134: Does AMD often require assistive devices? a) Yes b) No c) Sometimes d) Never\n",
      "Response: b\n",
      "\n",
      "Question 135: What light exposure is an AMD risk factor? a) Blue light b) UV light c) Infrared light d) Visible light\n",
      "Response: a\n",
      "\n",
      "Question 136: Can physical activity alone halt AMD? a) Yes b) No c) Partially d) Only early stages\n",
      "Response: b\n",
      "\n",
      "Question 137: Which vision type is most preserved in AMD? a) Night vision b) Peripheral vision c) Central vision d) Contrast vision\n",
      "Response: c\n",
      "\n",
      "Question 138: What clinical procedure diagnoses AMD? a) Blood test b) Dilated eye exam c) Urine analysis d) ECG\n",
      "Response: b\n",
      "\n",
      "Question 139: Does reading in low light cause AMD? a) Yes b) No c) Sometimes d) Only prolonged\n",
      "Response: b\n",
      "\n",
      "Question 140: Which recognition task does AMD hinder? a) Face recognition b) Sound recognition c) Smell recognition d) Taste recognition\n",
      "Response: a\n",
      "\n",
      "Question 141: Are antibiotics a viable AMD therapy? a) Yes b) No c) Sometimes d) Only for wet AMD\n",
      "Response: b\n",
      "\n",
      "Question 142: What primary factor drives AMD prevalence? a) Age b) Diet c) Exercise d) Sleep\n",
      "Response: A\n",
      "\n",
      "Question 143: Which process underlies wet AMD? a) Drusen growth b) Neovascularization c) Lens hardening d) Optic nerve damage\n",
      "Response: B\n",
      "\n",
      "Question 144: Does avoiding all sunlight prevent AMD? a) Yes b) No c) Partially d) Only with sunglasses\n",
      "Response: b\n",
      "\n",
      "Question 145: Which vitamin is excluded from AREDS formulation? a) Vitamin A b) Vitamin B12 c) Vitamin C d) Vitamin E\n",
      "Response: c\n",
      "\n",
      "Question 146: What does fluorescein angiography highlight in wet AMD? a) Drusen density b) Vascular leakage c) Lens opacity d) Corneal thinning\n",
      "Response: B\n",
      "\n",
      "Question 147: Which areas report higher AMD rates? a) Rural tropics b) Urban developed regions c) Arctic zones d) Desert climates\n",
      "Response: B\n",
      "\n",
      "Question 148: Can wet AMD damage be completely undone? a) Yes b) No c) Sometimes d) Only early stages\n",
      "Response: b) No\n",
      "\n",
      "Question 149: What retinal region is central to AMD? a) Optic disc b) Macula c) Peripheral retina d) Ciliary body\n",
      "Response: b\n",
      "\n",
      "Question 150: Is sanitation a direct AMD trigger? a) Yes b) No c) Sometimes d) Only poor hygiene\n",
      "Response: b)\n",
      "\n",
      "Question 151: What vision aid benefits AMD patients? a) Hearing aids b) Magnifiers c) Crutches d) Inhalers\n",
      "Response: b\n",
      "\n",
      "Question 152: Which daily function does AMD most disrupt? a) Driving b) Hearing c) Tasting d) Smelling\n",
      "Response: d\n",
      "\n",
      "Question 153: Does heavy drinking directly induce AMD? a) Yes b) No c) Sometimes d) Only with smoking\n",
      "Response: b\n",
      "\n",
      "Question 154: What genetic link heightens AMD risk? a) Eye color b) Family history c) Skin type d) Hair density\n",
      "Response: b\n",
      "\n",
      "Question 155: Which retinal complication occurs in wet AMD? a) Drusen reduction b) Subretinal hemorrhage c) Optic atrophy d) Lens detachment\n",
      "Response: B\n",
      "\n",
      "Question 156: Is bright light exposure a primary AMD cause? a) Yes b) No c) Sometimes d) Only prolonged\n",
      "Response: b\n",
      "\n",
      "Question 157: What routine screening detects AMD early? a) Blood test b) Eye exam c) Hearing test d) Skin check\n",
      "Response: b\n",
      "\n",
      "Question 158: Are floaters a common AMD symptom? a) Yes b) No c) Sometimes d) Only late stages\n",
      "Response: c\n",
      "\n",
      "Question 159: Which iris color may correlate with AMD risk? a) Brown b) Blue c) Green d) Hazel\n",
      "Response: d\n",
      "\n",
      "Question 160: Can vitamin A alone reverse AMD? a) Yes b) No c) Sometimes d) Only with zinc\n",
      "Response: b) No\n",
      "\n",
      "Question 161: What visual impairment does AMD frequently cause? a) Peripheral loss b) Central scotomas c) Flashing lights d) Double vision\n",
      "Response: c\n",
      "\n",
      "Question 162: Does high sugar consumption directly trigger AMD? a) Yes b) No c) Sometimes d) Only with obesity\n",
      "Response: b\n",
      "\n",
      "Question 163: What behavioral change mitigates AMD risk? a) Increased smoking b) Quitting smoking c) Less sleep d) More screen time\n",
      "Response: B\n",
      "\n",
      "Question 164: Is night vision the primary loss in AMD? a) Yes b) No c) Sometimes d) Only wet AMD\n",
      "Response: b\n",
      "\n",
      "Question 165: What scan type is used for AMD detection? a) MRI b) Retina scan c) CT scan d) PET scan\n",
      "Response: c\n",
      "\n",
      "Question 166: Can dietary changes alone control wet AMD? a) Yes b) No c) Sometimes d) Only early stages\n",
      "Response: b\n",
      "\n",
      "Question 167: Which visual adaptation does AMD impair? a) Low-light adjustment b) Sound localization c) Taste acuity d) Balance control\n",
      "Response: A\n",
      "\n",
      "Question 168: Is insufficient sleep a direct AMD cause? a) Yes b) No c) Sometimes d) Only chronic\n",
      "Response: b)\n",
      "\n",
      "Question 169: What regular assessment tracks AMD? a) Blood test b) Eye checkup c) Hearing exam d) Skin test\n",
      "Response: b\n",
      "\n",
      "Question 170: Does dry AMD typically involve retinal hemorrhages? a) Yes b) No c) Sometimes d) Only late stages\n",
      "Response: b\n",
      "\n",
      "Question 171: Which population has reduced AMD incidence? a) Caucasians b) African Americans c) Europeans d) Asians\n",
      "Response: d\n",
      "\n",
      "Question 172: Can late-stage AMD lead to visual hallucinations? a) Yes b) No c) Rarely d) Only wet AMD\n",
      "Response: a) Yes\n",
      "\n",
      "Question 173: Is AMD restricted to those over 80? a) Yes b) No c) Usually d) Rarely\n",
      "Response: b\n",
      "\n",
      "Question 174: What biological process contributes to AMD? a) Oxidative stress b) Bone remodeling c) Muscle growth d) Skin repair\n",
      "Response: A\n",
      "\n",
      "Question 175: Is massage therapy a recognized AMD treatment? a) Yes b) No c) Sometimes d) Only experimental\n",
      "Response: b\n",
      "\n",
      "Question 176: Which emotional condition may AMD exacerbate? a) Depression b) Euphoria c) Confidence d) Alertness\n",
      "Response: A\n",
      "\n",
      "Question 177: Do glasses directly cause AMD? a) Yes b) No c) Sometimes d) Only long-term use\n",
      "Response: b\n",
      "\n",
      "Question 178: What imaging technique supports AMD diagnosis? a) Fundus photography b) X-ray c) Thermal scan d) Ultrasound\n",
      "Response: A\n",
      "\n",
      "Question 179: Does wet AMD often result in retinal scarring? a) Yes b) No c) Rarely d) Only early stages\n",
      "Response: a\n",
      "\n",
      "Question 180: Is calcium deficiency a primary AMD cause? a) Yes b) No c) Sometimes d) Unknown\n",
      "Response: b\n",
      "\n",
      "Question 181: Which perceptual ability does AMD affect? a) Distance estimation b) Sound pitch c) Taste intensity d) Smell acuity\n",
      "Response: d) Smell acuity\n",
      "\n",
      "Question 182: Does dry AMD inevitably progress to wet AMD? a) Yes b) No c) Often d) Rarely\n",
      "Response: b\n",
      "\n",
      "Question 183: What is the approximate U.S. prevalence of AMD? a) 2 million b) 6 million c) 11 million d) 15 million\n",
      "Response: d\n",
      "\n",
      "Question 184: Can avoiding all dairy prevent wet AMD? a) Yes b) No c) Sometimes d) Only with diet\n",
      "Response: d\n",
      "\n",
      "Question 185: What retinal change is a hallmark of early AMD? a) Neovascularization b) Drusen accumulation c) Optic nerve atrophy d) Corneal thinning\n",
      "Response: c\n",
      "\n",
      "Question 186: Which symptom distinguishes wet AMD from dry AMD? a) Gradual vision decline b) Sudden central distortion c) Peripheral haze d) Eye fatigue\n",
      "Response: c\n",
      "\n",
      "Question 187: What is the final stage of advanced dry AMD? a) Choroidal rupture b) Geographic atrophy c) Retinal detachment d) Macular edema\n",
      "Response: b\n",
      "\n",
      "Question 188: Which lifestyle choice is a significant AMD risk factor? a) Smoking b) Daily meditation c) Drinking tea d) Moderate exercise\n",
      "Response: A\n",
      "\n",
      "Question 189: Which AMD type involves abnormal blood vessel growth? a) Early AMD b) Wet AMD c) Dry AMD d) Intermediate AMD\n",
      "Response: B\n",
      "\n",
      "Question 190: Is there a complete cure for late-stage AMD? a) Yes b) No c) In trials d) Only for dry AMD\n",
      "Response: c\n",
      "\n",
      "Question 191: What medication is a primary treatment for wet AMD? a) Anti-VEGF injections b) Painkillers c) Antihistamines d) Eye drops\n",
      "Response: A\n",
      "\n",
      "Question 192: Which vision component is least impacted by AMD? a) Central vision b) Peripheral vision c) Contrast sensitivity d) Color acuity\n",
      "Response: c\n",
      "\n",
      "Question 193: What inherited factor raises AMD likelihood? a) Family history b) Eye size c) Hair type d) Skin texture\n",
      "Response: a) Family history\n",
      "\n",
      "Question 194: Which diagnostic approach is useless for AMD? a) Amsler grid b) OCT c) Hearing test d) Fundus photography\n",
      "Response: d\n",
      "\n",
      "Question 195: What simple test tracks AMD-related vision changes? a) Blood sugar test b) Amsler grid c) Reflex test d) Temperature check\n",
      "Response: b)\n",
      "\n",
      "Question 196: Which AMD variant is most common among patients? a) Wet AMD b) Dry AMD c) Both equally d) Neither\n",
      "Response: A)\n",
      "\n",
      "Question 197: Can wearing sunglasses fully prevent AMD onset? a) Yes b) No c) Sometimes d) Only with diet\n",
      "Response: b) No\n",
      "\n",
      "Question 198: Which metabolic disorder is tied to increased AMD risk? a) Diabetes b) Thyroid disease c) Anemia d) Gout\n",
      "Response: a) Diabetes\n",
      "\n",
      "Question 199: What is the focus of dry AMD therapy? a) Full reversal b) Slowing progression c) Pain management d) Surgical repair\n",
      "Response: b\n",
      "\n",
      "Question 200: What retinal deposit is typical in dry AMD? a) Blood clots b) Drusen c) Lipid plaques d) Calcium crystals\n",
      "Response: b\n",
      "\n",
      "Question 201: At what age does AMD typically become more prevalent? a) 40 b) 50 c) 60 d) 70\n",
      "Response: c\n",
      "\n",
      "Question 202: What marks the onset of wet AMD? a) Slow peripheral fade b) Rapid central blur c) Eye dryness d) Floaters\n",
      "Response: c\n",
      "\n",
      "Question 203: Is AMD a contagious condition? a) Yes b) No c) Rarely d) Only through contact\n",
      "Response: a\n",
      "\n",
      "Question 204: Which body condition elevates AMD risk? a) Obesity b) Low weight c) High fitness d) Normal cholesterol\n",
      "Response: A\n",
      "\n",
      "Question 205: Can surgery restore vision lost to AMD? a) Yes b) No c) Partially d) Only wet AMD\n",
      "Response: d\n",
      "\n",
      "Question 206: What perceptual change does AMD often induce? a) Color distortion b) Sound muffling c) Taste alteration d) Peripheral narrowing\n",
      "Response: d\n",
      "\n",
      "Question 207: Is prolonged screen exposure a proven AMD cause? a) Yes b) No c) Sometimes d) Only with UV\n",
      "Response: b\n",
      "\n",
      "Question 208: What advanced imaging confirms AMD? a) OCT b) MRI c) X-ray d) Ultrasound\n",
      "Response: a) OCT\n",
      "\n",
      "Question 209: What retinal effect does wet AMD produce? a) Drusen dissolution b) Fluid buildup c) Lens opacity d) Optic nerve damage\n",
      "Response: a\n",
      "\n",
      "Question 210: Which sex has a marginally higher AMD rate? a) Men b) Women c) Equal d) Unknown\n",
      "Response: c\n",
      "\n",
      "Question 211: Are over-the-counter drops effective for AMD treatment? a) Yes b) No c) Sometimes d) Only dry AMD\n",
      "Response: d\n",
      "\n",
      "Question 212: Which circulatory issue boosts AMD risk? a) Low pressure b) Hypertension c) Low pulse d) High oxygen\n",
      "Response: b\n",
      "\n",
      "Question 213: What blood lipid level correlates with AMD? a) High cholesterol b) Low cholesterol c) High triglycerides d) Low HDL\n",
      "Response: A\n",
      "\n",
      "Question 214: Can fish oil alone stop AMD progression? a) Yes b) No c) Partially d) Only with AREDS\n",
      "Response: b)\n",
      "\n",
      "Question 215: Which eye part is unaffected by AMD? a) Macula b) Optic nerve c) Choroid d) Retina\n",
      "Response: d\n",
      "\n",
      "Question 216: What light-based treatment addresses wet AMD? a) LASIK b) Photodynamic therapy c) UV therapy d) Laser correction\n",
      "Response: B\n",
      "\n",
      "Question 217: Does AMD elevate physical hazards for seniors? a) Falls b) Fractures c) Sprains d) Bruising\n",
      "Response: c\n",
      "\n",
      "Question 218: Does AMD usually start in one eye only? a) Yes b) No c) Always d) Rarely\n",
      "Response: a\n",
      "\n",
      "Question 219: What supplement formula helps manage dry AMD? a) AREDS b) High-dose calcium c) Iron supplements d) Protein shakes\n",
      "Response: A) AREDS\n",
      "\n",
      "Question 220: Which population has the highest AMD prevalence? a) Caucasians b) African Americans c) Asians d) Latinos\n",
      "Response: d\n",
      "\n",
      "Question 221: Does wet AMD guarantee total vision loss? a) Yes b) No c) Often d) Rarely\n",
      "Response: b)\n",
      "\n",
      "Question 222: What visual effect does AMD often cause? a) Wavy lines b) Peripheral loss c) Flickering lights d) Blurred edges\n",
      "Response: c)\n",
      "\n",
      "Question 223: Is AMD a viral disease? a) Yes b) No c) Sometimes d) Only wet AMD\n",
      "Response: b\n",
      "\n",
      "Question 224: Which spatial perception does AMD alter? a) Depth perception b) Sound location c) Smell direction d) Touch precision\n",
      "Response: A\n",
      "\n",
      "Question 225: Can AMD occur in infants? a) Yes b) No c) Rarely d) Only genetically\n",
      "Response: a) Yes\n",
      "\n",
      "Question 226: Does AMD typically require optical aids? a) Yes b) No c) Sometimes d) Never\n",
      "Response: b\n",
      "\n",
      "Question 227: What environmental factor contributes to AMD? a) Noise b) UV light c) Humidity d) Cold\n",
      "Response: b\n",
      "\n",
      "Question 228: Can exercise alone cure AMD? a) Yes b) No c) Partially d) Only early stages\n",
      "Response: b) No\n",
      "\n",
      "Question 229: Which vision aspect remains most intact with AMD? a) Central vision b) Peripheral vision c) Night vision d) Color vision\n",
      "Response: d\n",
      "\n",
      "Question 230: What exam confirms AMD presence? a) Blood test b) Dilated eye exam c) Hearing test d) Skin test\n",
      "Response: b\n",
      "\n",
      "Question 231: Does dim lighting directly cause AMD? a) Yes b) No c) Sometimes d) Only prolonged\n",
      "Response: b\n",
      "\n",
      "Question 232: Which identification task does AMD complicate? a) Face recognition b) Sound identification c) Smell identification d) Taste identification\n",
      "Response: a\n",
      "\n",
      "Question 233: Are antibiotics a standard AMD treatment? a) Yes b) No c) Sometimes d) Only for wet AMD\n",
      "Response: b)\n",
      "\n",
      "Question 234: What demographic trait most affects AMD risk? a) Age b) Height c) Weight d) Eye color\n",
      "Response: a) Age\n",
      "\n",
      "Question 235: Which retinal event defines wet AMD? a) Drusen increase b) Neovascularization c) Optic nerve swelling d) Lens clouding\n",
      "Response: b\n",
      "\n",
      "Question 236: Can total sunlight avoidance prevent AMD? a) Yes b) No c) Partially d) Only with diet\n",
      "Response: b)\n",
      "\n",
      "Question 237: Which nutrient is absent from AREDS supplements? a) Vitamin C b) Vitamin E c) Vitamin K d) Zinc\n",
      "Response: d\n",
      "\n",
      "Question 238: What does fluorescein angiography detect in wet AMD? a) Drusen size b) Blood vessel leakage c) Lens clarity d) Corneal damage\n",
      "Response: B\n",
      "\n",
      "Question 239: Which regions see higher AMD incidence? a) Tropical rural b) Developed urban c) Arctic rural d) Desert urban\n",
      "Response: c\n",
      "\n",
      "Question 240: Can wet AMD be fully reversed with current treatments? a) Yes b) No c) Sometimes d) Only early stages\n",
      "Response: b)\n",
      "\n",
      "Question 241: What retinal area is primarily involved in AMD? a) Optic disc b) Macula c) Peripheral retina d) Iris\n",
      "Response: b\n",
      "\n",
      "Question 242: Is poor hygiene a direct cause of AMD? a) Yes b) No c) Sometimes d) Only severe cases\n",
      "Response: b\n",
      "\n",
      "Question 243: What device assists AMD-related vision loss? a) Hearing aids b) Low vision aids c) Braces d) Pacemakers\n",
      "Response: b\n",
      "\n",
      "Question 244: Which daily activity does AMD most impair? a) Driving b) Listening c) Tasting d) Smelling\n",
      "Response: A\n",
      "\n",
      "Question 245: Does excessive alcohol directly trigger AMD? a) Yes b) No c) Sometimes d) Only with smoking\n",
      "Response: b) No\n",
      "\n",
      "Question 246: What genetic predisposition increases AMD risk? a) Eye color b) Family history c) Skin pigmentation d) Hair thickness\n",
      "Response: B\n",
      "\n",
      "Question 247: Which retinal issue is specific to wet AMD? a) Drusen growth b) Subretinal hemorrhage c) Optic nerve thinning d) Lens detachment\n",
      "Response: c\n",
      "\n",
      "Question 248: Is staring at screens a primary AMD cause? a) Yes b) No c) Sometimes d) Only prolonged\n",
      "Response: b\n",
      "\n",
      "Question 249: What regular checkup identifies AMD early? a) Blood test b) Eye exam c) Hearing test d) Skin exam\n",
      "Response: c\n",
      "\n",
      "Question 250: Are floaters a typical AMD symptom? a) Yes b) No c) Sometimes d) Only late stages\n",
      "Response: c\n",
      "\n",
      "Question 251: Which eye color may heighten AMD risk? a) Brown b) Blue c) Green d) Gray\n",
      "Response: d\n",
      "\n",
      "Question 252: Can vitamin E alone cure AMD? a) Yes b) No c) Sometimes d) Only with zinc\n",
      "Response: b)\n",
      "\n",
      "Question 253: What vision defect is common in AMD? a) Peripheral blur b) Central blind spots c) Flashing lights d) Double images\n",
      "Response: c\n",
      "\n",
      "Question 254: Does high fat intake directly cause AMD? a) Yes b) No c) Sometimes d) Only with obesity\n",
      "Response: b\n",
      "\n",
      "Question 255: What lifestyle adjustment lowers AMD risk? a) More smoking b) Quitting smoking c) Less exercise d) High sugar diet\n",
      "Response: b\n",
      "\n",
      "Question 256: Is night vision loss the main AMD effect? a) Yes b) No c) Sometimes d) Only wet AMD\n",
      "Response: b) No\n",
      "\n",
      "Question 257: What retinal imaging aids AMD diagnosis? a) CT scan b) Retina scan c) MRI d) PET scan\n",
      "Response: b)\n",
      "\n",
      "Question 258: Can diet alone reverse wet AMD? a) Yes b) No c) Sometimes d) Only early stages\n",
      "Response: b)\n",
      "\n",
      "Question 259: Which visual skill does AMD affect? a) Low-light vision b) Sound detection c) Taste perception d) Balance\n",
      "Response: a\n",
      "\n",
      "Question 260: Is sleep deprivation a direct AMD cause? a) Yes b) No c) Sometimes d) Only chronic\n",
      "Response: a\n",
      "\n",
      "Question 261: What routine evaluation monitors AMD? a) Blood test b) Eye checkup c) Hearing exam d) Skin test\n",
      "Response: b)\n",
      "\n",
      "Question 262: Does dry AMD typically cause retinal bleeding? a) Yes b) No c) Sometimes d) Only late stages\n",
      "Response: b\n",
      "\n",
      "Question 263: Which group has lower AMD prevalence? a) Caucasians b) African Americans c) Asians d) Europeans\n",
      "Response: c\n",
      "\n",
      "Question 264: Can advanced AMD lead to visual hallucinations? a) Yes b) No c) Rarely d) Only wet AMD\n",
      "Response: a) Yes\n",
      "\n",
      "Question 265: Is AMD limited to those over 80? a) Yes b) No c) Usually d) Rarely\n",
      "Response: b\n",
      "\n",
      "Question 266: What cellular stress is linked to AMD? a) Oxidative stress b) Bone stress c) Muscle stress d) Skin stress\n",
      "Response: A\n",
      "\n",
      "Question 267: Is herbal therapy a standard AMD cure? a) Yes b) No c) Sometimes d) Only experimental\n",
      "Response: d) Only experimental\n",
      "\n",
      "Question 268: Which psychological issue may AMD worsen? a) Depression b) Happiness c) Focus d) Energy\n",
      "Response: a) Depression\n",
      "\n",
      "Question 269: Do contact lenses directly induce AMD? a) Yes b) No c) Sometimes d) Only long-term\n",
      "Response: b\n",
      "\n",
      "Question 270: What photographic technique assists AMD diagnosis? a) Fundus photography b) X-ray c) Infrared scan d) Ultrasound\n",
      "Response: a\n",
      "\n",
      "Question 271: Does wet AMD frequently cause retinal scarring? a) Yes b) No c) Rarely d) Only early stages\n",
      "Response: a) Yes\n",
      "\n",
      "Question 272: Is vitamin B12 deficiency a direct AMD cause? a) Yes b) No c) Sometimes d) Unknown\n",
      "Response: b\n",
      "\n",
      "Question 273: Which spatial skill does AMD disrupt? a) Distance judgment b) Sound direction c) Taste distinction d) Smell detection\n",
      "Response: A\n",
      "\n",
      "Question 274: Does dry AMD always progress to wet AMD? a) Yes b) No c) Often d) Rarely\n",
      "Response: b)\n",
      "\n",
      "Question 275: What is the estimated U.S. AMD prevalence? a) 3 million b) 7 million c) 11 million d) 18 million\n",
      "Response: d\n",
      "\n",
      "Question 276: Can avoiding all protein prevent wet AMD? a) Yes b) No c) Sometimes d) Only with diet\n",
      "Response: b) No\n",
      "\n",
      "Question 277: Which retinal sign is most associated with intermediate AMD? a) Fluid buildup b) Large drusen c) Optic nerve damage d) Corneal haze\n",
      "Response: B\n",
      "\n",
      "Question 278: What is a distinguishing feature of wet AMD onset? a) Slow peripheral loss b) Rapid central distortion c) Color enhancement d) Eye irritation\n",
      "Response: A\n",
      "\n",
      "Question 279: What advanced condition does dry AMD potentially lead to? a) Retinal tear b) Geographic atrophy c) Glaucoma d) Cataract\n",
      "Response: B\n",
      "\n",
      "Question 280: Which behavior is a well-established AMD risk? a) Smoking b) Yoga c) Drinking water d) Light exercise\n",
      "Response: a) Smoking\n",
      "\n",
      "Question 281: Which AMD form features choroidal neovascularization? a) Dry AMD b) Wet AMD c) Early AMD d) Late dry AMD\n",
      "Response: B\n",
      "\n",
      "Question 282: Is there a definitive cure for AMD as of 2025? a) Yes b) No c) In trials d) Only wet AMD\n",
      "Response: c\n",
      "\n",
      "Question 283: What drug class treats wet AMD by targeting blood vessels? a) Anti-VEGF b) Antibiotics c) Steroids d) Analgesics\n",
      "Response: A)\n",
      "\n",
      "Question 284: Which visual field is most preserved in AMD? a) Central b) Peripheral c) Color d) Depth\n",
      "Response: c\n",
      "\n",
      "Question 285: What familial trait heightens AMD risk? a) Family history b) Eye shape c) Skin tone d) Hair color\n",
      "Response: a\n",
      "\n",
      "Question 286: Which method is not used to diagnose AMD? a) OCT b) Amsler grid c) Lung function test d) Fundus photography\n",
      "Response: c\n",
      "\n",
      "Question 287: What patient tool monitors AMD symptoms at home? a) Blood pressure monitor b) Amsler grid c) Thermometer d) Glucose meter\n",
      "Response: b)\n",
      "\n",
      "Question 288: Which AMD type dominates in prevalence? a) Wet AMD b) Dry AMD c) Both equally d) Neither\n",
      "Response: b\n",
      "\n",
      "Question 289: Can UV protection eliminate AMD risk entirely? a) Yes b) No c) Partially d) Only with diet\n",
      "Response: b) No\n",
      "\n",
      "Question 290: Which systemic disease correlates with higher AMD risk? a) Diabetes b) Asthma c) Arthritis d) Flu\n",
      "Response: c\n",
      "\n",
      "Question 291: What is the primary aim of dry AMD management? a) Cure b) Slow progression c) Reverse damage d) Relieve discomfort\n",
      "Response: c\n",
      "\n",
      "Question 292: What retinal marker is prominent in dry AMD? a) Blood leakage b) Drusen c) Nerve swelling d) Lens opacity\n",
      "Response: b) Drusen\n",
      "\n",
      "Question 293: Above what age does AMD risk sharply rise? a) 40 b) 50 c) 60 d) 70\n",
      "Response: d\n",
      "\n",
      "Question 294: What is a key indicator of wet AMD onset? a) Gradual blur b) Sudden vision drop c) Peripheral fade d) Eye redness\n",
      "Response: c\n",
      "\n",
      "Question 295: Is AMD communicable between individuals? a) Yes b) No c) Rarely d) Only genetically\n",
      "Response: b\n",
      "\n",
      "Question 296: Which physical state increases AMD risk? a) Obesity b) Low weight c) High fitness d) Normal BMI\n",
      "Response: a)\n",
      "\n",
      "Question 297: Can surgery fully correct AMD vision loss? a) Yes b) No c) Partially d) Only wet AMD\n",
      "Response: b\n",
      "\n",
      "Question 298: What visual change is common with AMD? a) Color distortion b) Sound distortion c) Taste change d) Peripheral loss\n",
      "Response: d)\n",
      "\n",
      "Question 299: Does excessive TV watching directly cause AMD? a) Yes b) No c) Sometimes d) Only prolonged\n",
      "Response: b) No\n",
      "\n",
      "Question 300: What imaging technology is vital for AMD detection? a) OCT b) X-ray c) MRI d) CT scan\n",
      "Response: a\n",
      "\n",
      "Question 301: What does wet AMD often introduce to the retina? a) Drusen reduction b) Fluid leakage c) Lens thickening d) Optic nerve swelling\n",
      "Response: b\n",
      "\n",
      "Question 302: Which gender shows a slight AMD prevalence increase? a) Men b) Women c) Equal d) Unknown\n",
      "Response: a) Men\n",
      "\n",
      "Question 303: Are over-the-counter eye drops a cure for AMD? a) Yes b) No c) Sometimes d) Only dry AMD\n",
      "Response: b)\n",
      "\n",
      "Question 304: Which cardiovascular factor elevates AMD risk? a) Low pressure b) Hypertension c) Low heart rate d) High oxygen\n",
      "Response: c\n",
      "\n",
      "Question 305: What lipid condition is linked to AMD risk? a) High cholesterol b) Low cholesterol c) High LDL d) Low triglycerides\n",
      "Response: A\n",
      "\n",
      "Question 306: Can dietary zinc alone prevent AMD? a) Yes b) No c) Partially d) Only with AREDS\n",
      "Response: b)\n",
      "\n",
      "Question 307: Which eye structure is typically spared in AMD? a) Macula b) Optic nerve c) Choroid d) Retina\n",
      "Response: c\n",
      "\n",
      "Question 308: What therapy uses light to treat wet AMD? a) LASIK b) Photodynamic therapy c) UV therapy d) Laser surgery\n",
      "Response: B\n",
      "\n",
      "Question 309: Does AMD increase specific risks for the elderly? a) Falls b) Hearing loss c) Muscle strain d) Skin rash\n",
      "Response: b\n",
      "\n",
      "Question 310: Is AMD usually unilateral at first? a) Yes b) No c) Always d) Rarely\n",
      "Response: a) Yes\n",
      "\n",
      "Question 311: What supplement plan supports dry AMD management? a) AREDS b) High-dose vitamin D c) Calcium tablets d) Protein supplements\n",
      "Response: A\n",
      "\n",
      "Question 312: Which ethnic group has a higher AMD incidence? a) Caucasians b) African Americans c) Asians d) Hispanics\n",
      "Response: c\n",
      "\n",
      "Question 313: Does wet AMD always lead to complete blindness? a) Yes b) No c) Often d) Rarely\n",
      "Response: b)\n",
      "\n",
      "Question 314: What visual alteration does AMD frequently cause? a) Wavy lines b) Peripheral tunnel c) Flashing lights d) Double vision\n",
      "Response: b\n",
      "\n",
      "Question 315: Is AMD caused by fungal infection? a) Yes b) No c) Sometimes d) Only wet AMD\n",
      "Response: b\n",
      "\n",
      "Question 316: Which visual ability does AMD impair? a) Depth perception b) Sound perception c) Taste perception d) Smell perception\n",
      "Response: A\n",
      "\n",
      "Question 317: Can AMD affect young children? a) Yes b) No c) Rarely d) Only with genetics\n",
      "Response: a) Yes\n",
      "\n",
      "Question 318: Does AMD often necessitate vision aids? a) Yes b) No c) Sometimes d) Never\n",
      "Response: b\n",
      "\n",
      "Question 319: What light exposure increases AMD risk? a) UV light b) Infrared light c) Blue light d) Visible light\n",
      "Response: c\n",
      "\n",
      "Question 320: Can physical fitness alone reverse AMD? a) Yes b) No c) Partially d) Only early stages\n",
      "Response: b\n",
      "\n",
      "Question 321: Which vision type is least altered by AMD? a) Central vision b) Peripheral vision c) Night vision d) Color vision\n",
      "Response: d\n",
      "\n",
      "Question 322: What procedure is key to AMD diagnosis? a) Blood test b) Dilated eye exam c) Hearing test d) Skin biopsy\n",
      "Response: b\n",
      "\n",
      "Question 323: Does reading in dim light directly induce AMD? a) Yes b) No c) Sometimes d) Only prolonged\n",
      "Response: b) No\n",
      "\n",
      "Question 324: Which recognition skill does AMD disrupt? a) Face recognition b) Sound recognition c) Smell recognition d) Taste recognition\n",
      "Response: c\n",
      "\n",
      "Question 325: Which retinal layer shows early signs of AMD? a) Inner plexiform b) Retinal pigment epithelium c) Ganglion cell layer d) Cornea\n",
      "Response: b\n",
      "\n",
      "Question 326: What is a primary visual clue of wet AMD? a) Peripheral shadow b) Central wavy lines c) Enhanced night vision d) Eye strain\n",
      "Response: c\n",
      "\n",
      "Question 327: What is the end-stage outcome of severe dry AMD? a) Macular hole b) Geographic atrophy c) Retinal detachment d) Choroidal hemorrhage\n",
      "Response: b\n",
      "\n",
      "Question 328: Which habit is a proven AMD risk factor? a) Smoking b) Swimming c) Reading daily d) Drinking juice\n",
      "Response: c\n",
      "\n",
      "Question 329: Which AMD type is marked by blood vessel proliferation? a) Early AMD b) Wet AMD c) Dry AMD d) Intermediate AMD\n",
      "Response: b\n",
      "\n",
      "Question 330: Is there a known cure for advanced AMD today? a) Yes b) No c) Under testing d) Only for wet AMD\n",
      "Response: b\n",
      "\n",
      "Question 331: What injection therapy is standard for wet AMD? a) Anti-VEGF b) Insulin c) Cortisone d) Antibiotics\n",
      "Response: A\n",
      "\n",
      "Question 332: Which vision area is typically spared in AMD? a) Central b) Peripheral c) Color d) Contrast\n",
      "Response: c\n",
      "\n",
      "Question 333: What genetic element increases AMD likelihood? a) Family history b) Eye size c) Hair length d) Blood group\n",
      "Response: A) Family history\n",
      "\n",
      "Question 334: Which test is irrelevant for AMD screening? a) OCT b) Bone density scan c) Amsler grid d) Fluorescein angiography\n",
      "Response: b\n",
      "\n",
      "Question 335: What self-test helps monitor AMD progression? a) Pulse check b) Amsler grid c) Blood sugar test d) Reflex test\n",
      "Response: b\n",
      "\n",
      "Question 336: Which AMD form is most widespread? a) Wet AMD b) Dry AMD c) Both equal d) Neither\n",
      "Response: B\n",
      "\n",
      "Question 337: Can UV-blocking glasses fully prevent AMD? a) Yes b) No c) Sometimes d) Only with diet\n",
      "Response: b\n",
      "\n",
      "Question 338: Which chronic condition is linked to elevated AMD risk? a) Diabetes b) Eczema c) Migraines d) Sinusitis\n",
      "Response: c\n",
      "\n",
      "Question 339: What is the main therapeutic goal for dry AMD? a) Full cure b) Slow progression c) Vision restoration d) Symptom relief\n",
      "Response: b\n",
      "\n",
      "Question 340: What retinal deposit characterizes dry AMD? a) Blood clots b) Drusen c) Fatty plaques d) Calcium deposits\n",
      "Response: b\n",
      "\n",
      "Question 341: At what age does AMD risk significantly escalate? a) 30 b) 40 c) 50 d) 60\n",
      "Response: c\n",
      "\n",
      "Question 342: What signals the start of wet AMD? a) Gradual peripheral fade b) Sudden central blur c) Eye dryness d) Floaters\n",
      "Response: A)\n",
      "\n",
      "Question 343: Can AMD be transmitted person-to-person? a) Yes b) No c) Rarely d) Only genetically\n",
      "Response: b) No\n",
      "\n",
      "Question 344: Which weight condition raises AMD risk? a) Obesity b) Underweight c) Normal weight d) High muscle mass\n",
      "Response: d\n",
      "\n",
      "Question 345: Can surgery fully reverse AMD effects? a) Yes b) No c) Partially d) Only wet AMD\n",
      "Response: b)\n",
      "\n",
      "Question 346: What visual skill does AMD often compromise? a) Color perception b) Hearing clarity c) Taste sensitivity d) Peripheral motion\n",
      "Response: d\n",
      "\n",
      "Question 347: Does heavy smartphone use directly trigger AMD? a) Yes b) No c) Sometimes d) Only prolonged\n",
      "Response: b\n",
      "\n",
      "Question 348: What imaging tool is critical for AMD diagnosis? a) OCT b) MRI c) X-ray d) Ultrasound\n",
      "Response: a) OCT\n",
      "\n",
      "Question 349: What does wet AMD typically cause in the retina? a) Drusen shrinkage b) Fluid leakage c) Lens opacity d) Optic nerve damage\n",
      "Response: b\n",
      "\n",
      "Question 350: Which gender has a slightly higher AMD incidence? a) Men b) Women c) Equal d) Unknown\n",
      "Response: c\n",
      "\n",
      "Question 351: Are over-the-counter eye drops effective against AMD? a) Yes b) No c) Sometimes d) Only dry AMD\n",
      "Response: b\n",
      "\n",
      "Question 352: Which vascular condition heightens AMD risk? a) Hypotension b) Hypertension c) Low pulse d) High oxygen\n",
      "Response: b\n",
      "\n",
      "Question 353: What lipid profile is associated with AMD? a) High cholesterol b) Low cholesterol c) High HDL d) Low LDL\n",
      "Response: d\n",
      "\n",
      "Question 354: Can omega-3 intake alone halt AMD? a) Yes b) No c) Partially d) Only with vitamins\n",
      "Response: b\n",
      "\n",
      "Question 355: Which eye structure is generally unaffected by AMD? a) Macula b) Optic nerve c) Choroid d) Retina\n",
      "Response: d\n",
      "\n",
      "Question 356: What light-activated therapy treats wet AMD? a) LASIK b) Photodynamic therapy c) UV exposure d) Laser correction\n",
      "Response: B\n",
      "\n",
      "Question 357: Does AMD elevate accident risk in older adults? a) Falls b) Cuts c) Burns d) Sprains\n",
      "Response: a) Falls\n",
      "\n",
      "Question 358: Is AMD typically limited to one eye at onset? a) Yes b) No c) Always d) Rarely\n",
      "Response: b\n",
      "\n",
      "Question 359: What nutritional strategy aids dry AMD? a) AREDS b) High-carb diet c) Low-fat diet d) Vitamin B12\n",
      "Response: A) AREDS\n",
      "\n",
      "Question 360: Which racial group faces higher AMD rates? a) Caucasians b) African Americans c) Asians d) Native Americans\n",
      "Response: b)\n",
      "\n",
      "Question 361: What visual distortion is frequent in AMD? a) Wavy lines b) Peripheral blur c) Flashing spots d) Double vision\n",
      "Response: a\n",
      "\n",
      "Question 362: Is AMD a bacterial infection? a) Yes b) No c) Sometimes d) Only wet AMD\n",
      "Response: b\n",
      "\n",
      "Question 363: Which spatial ability does AMD affect? a) Depth perception b) Sound direction c) Smell intensity d) Touch accuracy\n",
      "Response: A\n",
      "\n",
      "Question 364: Can AMD occur in toddlers? a) Yes b) No c) Rarely d) Only genetically\n",
      "Response: a) Yes\n",
      "\n",
      "Question 365: Does AMD commonly require visual assistance? a) Yes b) No c) Sometimes d) Never\n",
      "Response: a) Yes\n",
      "\n",
      "Question 366: What environmental exposure is tied to AMD risk? a) Noise b) UV light c) Cold air d) Dust\n",
      "Response: d\n",
      "\n",
      "Question 367: Can exercise alone stop AMD progression? a) Yes b) No c) Partially d) Only early stages\n",
      "Response: b\n",
      "\n",
      "Question 368: Which vision type is most intact in AMD? a) Central b) Peripheral c) Night d) Color\n",
      "Response: d) Color\n",
      "\n",
      "Question 369: What clinical exam detects AMD? a) Blood test b) Dilated eye exam c) Hearing test d) Skin test\n",
      "Response: b\n",
      "\n",
      "Question 370: Does low-light reading cause AMD? a) Yes b) No c) Sometimes d) Only prolonged\n",
      "Response: b)\n",
      "\n",
      "Question 371: Which identification task does AMD hinder? a) Face recognition b) Sound identification c) Smell identification d) Taste identification\n",
      "Response: A\n",
      "\n",
      "Question 372: Are antibiotics effective for AMD treatment? a) Yes b) No c) Sometimes d) Only for wet AMD\n",
      "Response: b\n",
      "\n",
      "Question 373: What demographic factor most drives AMD? a) Age b) Height c) Weight d) Hair color\n",
      "Response: a) Age\n",
      "\n",
      "Question 374: Which retinal process defines wet AMD? a) Drusen increase b) Neovascularization c) Optic nerve thinning d) Lens hardening\n",
      "Response: B\n",
      "\n",
      "Question 375: Can avoiding sunlight entirely prevent AMD? a) Yes b) No c) Partially d) Only with diet\n",
      "Response: b\n",
      "\n",
      "Question 376: Which vitamin is not in the AREDS formula? a) Vitamin C b) Vitamin E c) Vitamin D d) Zinc\n",
      "Response: d\n",
      "\n",
      "Question 377: What does fluorescein angiography reveal in wet AMD? a) Drusen density b) Vascular leakage c) Lens clarity d) Corneal thickness\n",
      "Response: B\n",
      "\n",
      "Question 378: Which areas have higher AMD rates? a) Rural tropics b) Developed urban c) Arctic zones d) Desert regions\n",
      "Response: c\n",
      "\n",
      "Question 379: Can wet AMD be completely reversed today? a) Yes b) No c) Sometimes d) Only early stages\n",
      "Response: b)\n",
      "\n",
      "Question 380: What retinal region does AMD target? a) Optic disc b) Macula c) Peripheral retina d) Ciliary body\n",
      "Response: b\n",
      "\n",
      "Question 381: Is poor sanitation a direct AMD cause? a) Yes b) No c) Sometimes d) Only severe cases\n",
      "Response: b\n",
      "\n",
      "Question 382: What aid helps AMD vision loss? a) Hearing aids b) Magnifiers c) Crutches d) Inhalers\n",
      "Response: b\n",
      "\n",
      "Question 383: Which daily task does AMD most affect? a) Driving b) Hearing c) Tasting d) Smelling\n",
      "Response: b\n",
      "\n",
      "Question 384: Does excessive caffeine directly cause AMD? a) Yes b) No c) Sometimes d) Only with smoking\n",
      "Response: b) No\n",
      "\n",
      "Question 385: What genetic factor boosts AMD risk? a) Eye color b) Family history c) Skin type d) Hair density\n",
      "Response: B\n",
      "\n",
      "Question 386: Which retinal event occurs in wet AMD? a) Drusen reduction b) Subretinal hemorrhage c) Optic atrophy d) Lens detachment\n",
      "Response: c\n",
      "\n",
      "Question 387: Is bright light exposure a direct AMD trigger? a) Yes b) No c) Sometimes d) Only prolonged\n",
      "Response: b\n",
      "\n",
      "Question 388: What screening detects AMD early? a) Blood test b) Eye exam c) Hearing test d) Skin check\n",
      "Response: b\n",
      "\n",
      "Question 389: Are floaters a primary AMD symptom? a) Yes b) No c) Sometimes d) Only late stages\n",
      "Response: b\n",
      "\n",
      "Question 390: Which eye trait may increase AMD risk? a) Dark eyes b) Light eyes c) Myopia d) Hyperopia\n",
      "Response: d\n",
      "\n",
      "Question 391: Can vitamin C alone stop AMD? a) Yes b) No c) Sometimes d) Only with zinc\n",
      "Response: b\n",
      "\n",
      "Question 392: What visual issue does AMD often create? a) Peripheral loss b) Central scotomas c) Flashing lights d) Double vision\n",
      "Response: c\n",
      "\n",
      "Question 393: Can AMD occur in toddlers? a) Yes b) No c) Rarely d) Only with genetics\n",
      "Response: a) Yes\n",
      "\n",
      "Question 394: Which retinal feature is an early indicator of AMD? a) Choroidal rupture b) Small drusen c) Optic disc swelling d) Corneal opacity\n",
      "Response: B\n",
      "\n",
      "Question 395: What symptom is most characteristic of wet AMD onset? a) Gradual peripheral blur b) Sudden central distortion c) Improved color vision d) Eye redness\n",
      "Response: d\n",
      "\n",
      "Question 396: What is the advanced stage of dry AMD progression? a) Retinal tear b) Geographic atrophy c) Macular edema d) Glaucoma\n",
      "Response: B\n",
      "\n",
      "Question 397: Which lifestyle factor significantly raises AMD risk? a) Smoking b) Jogging c) Drinking tea d) Writing\n",
      "Response: A\n",
      "\n",
      "Question 398: Which AMD type involves new blood vessel growth? a) Dry AMD b) Wet AMD c) Early AMD d) Intermediate AMD\n",
      "Response: B\n",
      "\n",
      "Question 399: Is there a complete cure for AMD as of March 2025? a) Yes b) No c) In trials d) Only for dry AMD\n",
      "Response: c\n",
      "\n",
      "Question 400: What treatment targets wet AMD’s vascular growth? a) Anti-VEGF injections b) Painkillers c) Eye drops d) Antihistamines\n",
      "Response: A)\n",
      "\n",
      "Question 401: Which vision aspect is least affected by AMD? a) Central vision b) Peripheral vision c) Depth perception d) Color vision\n",
      "Response: d\n",
      "\n",
      "Question 402: What inherited trait increases AMD risk? a) Family history b) Eye shape c) Skin tone d) Hair texture\n",
      "Response: A\n",
      "\n",
      "Question 403: Which diagnostic method is unrelated to AMD? a) OCT b) Amsler grid c) Liver function test d) Fundus photography\n",
      "Response: d\n",
      "\n",
      "Question 404: What simple tool tracks AMD-related vision changes? a) Thermometer b) Amsler grid c) Blood pressure monitor d) Heart rate tracker\n",
      "Response: b\n",
      "\n",
      "Question 405: Which AMD variant is most common? a) Wet AMD b) Dry AMD c) Both equally d) Neither\n",
      "Response: A\n",
      "\n",
      "Question 406: Can sunglasses completely eliminate AMD risk? a) Yes b) No c) Partially d) Only with diet\n",
      "Response: b)\n",
      "\n",
      "Question 407: Which metabolic condition is associated with higher AMD risk? a) Diabetes b) Allergies c) Asthma d) Thyroid issues\n",
      "Response: d\n",
      "\n",
      "Question 408: What is the primary focus of dry AMD treatment? a) Cure b) Slow progression c) Reverse vision loss d) Pain relief\n",
      "Response: c\n",
      "\n",
      "Question 409: What is the primary part of the eye affected by AMD? a) Cornea b) Macula c) Optic nerve d) Lens\n",
      "Response: b\n",
      "\n",
      "Question 410: Which type of AMD is characterized by the growth of abnormal blood vessels? a) Dry AMD b) Wet AMD c) Intermediate AMD d) Early AMD\n",
      "Response: B\n",
      "\n",
      "Question 411: What is the yellowish deposit commonly found in the retina of dry AMD patients? a) Hemorrhages b) Drusen c) Exudates d) Plaques\n",
      "Response: B\n",
      "\n",
      "Question 412: Which of the following is a leading cause of blindness in people over 60 in developed countries? a) Glaucoma b) Cataracts c) AMD d) Diabetic retinopathy\n",
      "Response: c\n",
      "\n",
      "Question 413: What is the most widely used treatment to stop blood vessel leakage in wet AMD? a) Anti-VEGF injections b) Antibiotics c) Steroid drops d) Vitamin supplements\n",
      "Response: A)\n",
      "\n",
      "Question 414: Which vitamin is included in the AREDS formula to help slow AMD progression? a) Vitamin K b) Vitamin E c) Vitamin B6 d) Vitamin D\n",
      "Response: B\n",
      "\n",
      "Question 415: What is the term for the wavy appearance of straight lines in wet AMD? a) Scotoma b) Metamorphopsia c) Photopsia d) Nyctalopia\n",
      "Response: c\n",
      "\n",
      "Question 416: Which imaging method provides a detailed cross-sectional view of the retina in AMD diagnosis? a) Fundus photography b) Optical Coherence Tomography (OCT) c) Fluorescein angiography d) Ultrasound\n",
      "Response: B\n",
      "\n",
      "Question 417: What percentage of AMD cases progress to the advanced stage within 10 years? a) 5-10% b) 15-20% c) 25-30% d) 40-50%\n",
      "Response: c\n",
      "\n",
      "Question 418: Which environmental factor is strongly associated with an increased risk of AMD? a) Smoking b) High altitude c) Cold weather d) Loud noise\n",
      "Response: a\n",
      "\n",
      "Question 419: What is the name of the advanced form of dry AMD that causes cell death in the retina? a) Choroidal neovascularization b) Geographic atrophy c) Macular edema d) Retinal detachment\n",
      "Response: A\n",
      "\n",
      "Question 420: Which mineral is part of the AREDS2 formula for AMD? a) Iron b) Zinc c) Calcium d) Magnesium\n",
      "Response: c\n",
      "\n",
      "Question 421: What is the typical first sign of wet AMD noticed by patients? a) Blurred peripheral vision b) Distorted central vision c) Flashing lights d) Double vision\n",
      "Response: c)\n",
      "\n",
      "Question 422: Which group has a higher risk of developing AMD? a) Men b) Women c) No significant gender difference d) Children\n",
      "Response: c\n",
      "\n",
      "Question 423: What is the purpose of fluorescein angiography in AMD diagnosis? a) To measure eye pressure b) To visualize blood vessel leakage c) To assess corneal thickness d) To evaluate lens clarity\n",
      "Response: B\n",
      "\n",
      "Question 424: Which antioxidant pigment in the retina may protect against AMD? a) Lutein b) Melanin c) Hemoglobin d) Chlorophyll\n",
      "Response: A\n",
      "\n",
      "Question 425: What is the name of the grid used to detect vision distortion in AMD? a) Snellen chart b) Amsler grid c) Ishihara plate d) Pelli-Robson chart\n",
      "Response: B\n",
      "\n",
      "Question 426: Which condition is a hallmark of wet AMD but not dry AMD? a) Drusen formation b) Choroidal neovascularization c) Retinal thinning d) Pigment clumping\n",
      "Response: c\n",
      "\n",
      "Question 427: What is the leading risk factor for AMD? a) Diabetes b) Aging c) High cholesterol d) Alcohol consumption\n",
      "Response: B\n",
      "\n",
      "Question 428: Which dietary component is linked to a lower risk of AMD progression? a) Saturated fats b) Omega-3 fatty acids c) Simple sugars d) Caffeine\n",
      "Response: b\n",
      "\n",
      "Question 429: What is the term for the central blind spot caused by advanced AMD? a) Scotoma b) Glaucoma c) Floaters d) Aura\n",
      "Response: A) Scotoma\n",
      "\n",
      "Question 430: Which type of light exposure may increase the risk of AMD? a) Infrared b) Ultraviolet (UV) c) Red light d) Green light\n",
      "Response: c\n",
      "\n",
      "Question 431: What is the name of the laser treatment used to destroy abnormal blood vessels in wet AMD? a) Photodynamic therapy b) LASIK c) PRK d) LASEK\n",
      "Response: a\n",
      "\n",
      "Question 432: Which of the following is a common early finding in dry AMD? a) Large drusen b) Retinal hemorrhage c) Macular edema d) Optic disc swelling\n",
      "Response: A\n",
      "\n",
      "Question 433: What is the primary goal of low vision rehabilitation for AMD patients? a) Restore full vision b) Prevent further vision loss c) Maximize remaining vision d) Cure the disease\n",
      "Response: c\n",
      "\n",
      "Question 434: Which ethnic group has the highest prevalence of AMD? a) Caucasians b) African Americans c) Asians d) Native Americans\n",
      "Response: c\n",
      "\n",
      "Question 435: What is the name of the fluid accumulation in the macula seen in wet AMD? a) Macular edema b) Vitreous hemorrhage c) Retinal detachment d) Choroidal effusion\n",
      "Response: A\n",
      "\n",
      "Question 436: Which of the following is a symptom of AMD rather than glaucoma? a) Loss of peripheral vision b) Loss of central vision c) Eye pain d) Halos around lights\n",
      "Response: b\n",
      "\n",
      "Question 437: What is the name of the protein targeted by anti-VEGF drugs in wet AMD? a) Collagen b) Vascular endothelial growth factor c) Keratin d) Elastin\n",
      "Response: b\n",
      "\n",
      "Question 438: Which lifestyle change is most effective in reducing AMD risk? a) Reducing salt intake b) Quitting smoking c) Drinking more coffee d) Increasing screen time\n",
      "Response: B\n",
      "\n",
      "Question 439: What is the typical frequency of anti-VEGF injections for wet AMD? a) Once a year b) Every 4-8 weeks c) Every 6 months d) Once every 2 years\n",
      "Response: b\n",
      "\n",
      "Question 440: Which part of the retina nourishes the macula and is implicated in wet AMD? a) Choroid b) Sclera c) Iris d) Ciliary body\n",
      "Response: a) Choroid\n",
      "\n",
      "Question 441: What is the name of the clinical trial that refined the AREDS formula? a) AREDS2 b) DRCR.net c) ETDRS d) VISTA\n",
      "Response: b\n",
      "\n",
      "Question 442: Which of the following is a rare complication of wet AMD? a) Retinal detachment b) Cataract formation c) Corneal abrasion d) Optic neuritis\n",
      "Response: d\n",
      "\n",
      "Question 443: What is the primary source of antioxidants in the AREDS formula? a) Fruits b) Vitamins C and E c) Fish oil d) Dairy\n",
      "Response: B\n",
      "\n",
      "Question 444: Which symptom is NOT typically associated with AMD? a) Difficulty recognizing faces b) Distorted vision c) Peripheral vision loss d) Trouble reading fine print\n",
      "Response: c\n",
      "\n",
      "Question 445: What is the name of the retinal layer that supports photoreceptors and is damaged in AMD? a) Retinal pigment epithelium b) Ganglion cell layer c) Inner nuclear layer d) Outer plexiform layer\n",
      "Response: A\n",
      "\n",
      "Question 446: Which of the following is a potential side effect of photodynamic therapy for AMD? a) Increased appetite b) Temporary light sensitivity c) Hair loss d) Joint pain\n",
      "Response: B\n",
      "\n",
      "Question 447: What is the estimated prevalence of AMD in people over 80? a) 5% b) 10% c) 25% d) 50%\n",
      "Response: d) 50%\n",
      "\n",
      "Question 448: Which nutrient was removed from the original AREDS formula in AREDS2? a) Beta-carotene b) Vitamin C c) Zinc d) Vitamin E\n",
      "Response: c\n",
      "\n",
      "Question 449: What is the term for the death of photoreceptors in advanced AMD? a) Photoreceptor degeneration b) Retinal necrosis c) Choroidal atrophy d) Optic atrophy\n",
      "Response: a\n",
      "\n",
      "Question 450: Which of the following is a common visual aid for AMD patients? a) Hearing aids b) Magnifiers c) Pacemakers d) Crutches\n",
      "Response: b\n",
      "\n",
      "Question 451: What is the name of the condition where scar tissue forms in the macula in wet AMD? a) Macular fibrosis b) Macular edema c) Macular hole d) Macular atrophy\n",
      "Response: A\n",
      "\n",
      "Question 452: Which cardiovascular condition is a risk factor for AMD? a) Hypertension b) Low blood pressure c) Anemia d) Thrombosis\n",
      "Response: d\n",
      "\n",
      "Question 453: What is the name of the procedure that uses light-sensitive drugs to treat wet AMD? a) Laser photocoagulation b) Photodynamic therapy c) Vitrectomy d) Scleral buckle\n",
      "Response: B\n",
      "\n",
      "Question 454: Which of the following is a hallmark of early dry AMD on examination? a) Small drusen b) Large hemorrhages c) Macular swelling d) Optic disc pallor\n",
      "Response: A\n",
      "\n",
      "Question 455: What is the name of the visual hallucination syndrome sometimes seen in AMD patients? a) Charles Bonnet syndrome b) Stargardt disease c) Leber's congenital amaurosis d) Retinitis pigmentosa\n",
      "Response: A\n",
      "\n",
      "Question 456: Which of the following is a recommended screening age for AMD? a) 30 b) 40 c) 50 d) 60\n",
      "Response: c\n",
      "\n",
      "Question 457: What is the name of the surgery occasionally used to move the macula in severe AMD? a) Macular translocation b) Corneal transplant c) Lens replacement d) Trabeculectomy\n",
      "Response: A\n",
      "\n",
      "Question 458: Which of the following is a common finding in intermediate AMD? a) Large drusen b) Retinal detachment c) Choroidal rupture d) Optic nerve swelling\n",
      "Response: A\n",
      "\n",
      "Question 459: What is the primary purpose of sunglasses in AMD prevention? a) Improve night vision b) Reduce UV exposure c) Enhance color perception d) Prevent dry eyes\n",
      "Response: b\n",
      "\n",
      "Question 460: Which gene mutation is most commonly linked to AMD risk? a) CFH b) BRCA2 c) TP53 d) LDLR\n",
      "Response: A\n",
      "\n",
      "Question 461: What is the name of the condition where the macula develops a hole, sometimes linked to AMD? a) Macular hole b) Macular pucker c) Macular edema d) Macular fibrosis\n",
      "Response: A\n",
      "\n",
      "Question 462: Which of the following is a potential psychological effect of AMD? a) Increased confidence b) Depression c) Improved memory d) Enhanced concentration\n",
      "Response: b\n",
      "\n",
      "Question 463: What is the name of the test that evaluates retinal function in AMD? a) Electroretinogram (ERG) b) Visual evoked potential (VEP) c) Tonometry d) Pachymetry\n",
      "Response: A\n",
      "\n",
      "Question 464: Which of the following is a common adaptive strategy for AMD patients? a) Using high-contrast materials b) Avoiding bright lights c) Reducing physical activity d) Limiting social interaction\n",
      "Response: c\n",
      "\n",
      "Question 465: What is the name of the condition where the retina wrinkles in AMD? a) Epiretinal membrane b) Retinal tear c) Choroidal rupture d) Vitreous detachment\n",
      "Response: A\n",
      "\n",
      "Question 466: Which nutrient in the AREDS2 formula helps filter blue light? a) Zeaxanthin b) Vitamin C c) Copper d) Zinc\n",
      "Response: d\n",
      "\n",
      "Question 467: What is the name of the condition where blood leaks into the retina in wet AMD? a) Macular hemorrhage b) Macular edema c) Macular atrophy d) Macular hole\n",
      "Response: B\n",
      "\n",
      "Question 468: Which of the following is a potential future therapy for dry AMD? a) Stem cell therapy b) Laser surgery c) Cataract removal d) Glaucoma drainage\n",
      "Response: A\n",
      "\n",
      "Question 469: What is the name of the retinal layer that degenerates in geographic atrophy? a) Retinal pigment epithelium b) Inner limiting membrane c) Outer nuclear layer d) Ganglion cell layer\n",
      "Response: A\n",
      "\n",
      "Question 470: Which of the following is a common mobility aid for AMD patients? a) White cane b) Wheelchair c) Hearing aid d) Prosthetic limb\n",
      "Response: a\n",
      "\n",
      "Question 471: What is the name of the condition where the macula thins in dry AMD? a) Geographic atrophy b) Macular edema c) Macular fibrosis d) Macular hemorrhage\n",
      "Response: c\n",
      "\n",
      "Question 472: Which occupational factor may increase AMD risk? a) Prolonged sun exposure b) Night shift work c) Heavy lifting d) Sedentary work\n",
      "Response: A\n",
      "\n",
      "Question 473: What is the name of the drug class used to reduce blood vessel growth in wet AMD? a) Anti-VEGF b) Antibiotics c) Antihistamines d) Analgesics\n",
      "Response: A\n",
      "\n",
      "Question 474: Which of the following is a common finding in wet AMD on OCT imaging? a) Subretinal fluid b) Optic disc drusen c) Corneal thinning d) Lens opacities\n",
      "Response: A\n",
      "\n",
      "Question 475: What is the name of the condition where the retina detaches in severe wet AMD? a) Retinal detachment b) Retinal tear c) Retinal schisis d) Retinal hole\n",
      "Response: c\n",
      "\n",
      "Question 476: Which dietary habit is linked to a higher risk of AMD? a) High fat intake b) High fiber intake c) High protein intake d) High carbohydrate intake\n",
      "Response: d\n",
      "\n",
      "Question 477: What is the name of the test that assesses color vision, sometimes affected in AMD? a) Ishihara test b) Amsler grid c) Snellen chart d) Visual field test\n",
      "Response: A\n",
      "\n",
      "Question 478: Which of the following is a potential complication of untreated dry AMD? a) Progression to geographic atrophy b) Corneal ulcer c) Optic nerve damage d) Lens dislocation\n",
      "Response: A\n",
      "\n",
      "Question 479: What is the name of the condition where the retina's blood vessels occlude in AMD? a) Retinal vascular occlusion b) Choroidal neovascularization c) Retinal hemorrhage d) Macular edema\n",
      "Response: A\n",
      "\n",
      "Question 480: Which of the following is a common reading aid for AMD patients? a) Large-print books b) Ear plugs c) Walking sticks d) Compression socks\n",
      "Response: A\n",
      "\n",
      "Question 481: What is the name of the condition where the macula swells in wet AMD? a) Macular edema b) Macular atrophy c) Macular hole d) Macular pucker\n",
      "Response: A\n",
      "\n",
      "Question 482: Which of the following is a potential benefit of regular eye exams for AMD? a) Early detection b) Complete cure c) Vision restoration d) Disease reversal\n",
      "Response: A\n",
      "\n",
      "Question 483: What is the name of the condition where the retina's pigment clumps in dry AMD? a) Pigment epithelial detachment b) Retinal pigment epithelium clumping c) Choroidal atrophy d) Photoreceptor loss\n",
      "Response: b\n",
      "\n",
      "Question 484: Which of the following is a common adaptive technology for AMD patients? a) Screen readers b) Pacemakers c) Insulin pumps d) Hearing aids\n",
      "Response: A\n",
      "\n",
      "Question 485: What is the name of the condition where the retina tears in severe AMD? a) Retinal tear b) Retinal detachment c) Retinal schisis d) Retinal hole\n",
      "Response: c\n",
      "\n",
      "Question 486: Which of the following is a potential benefit of exercise for AMD? a) Improved retinal blood flow b) Increased drusen formation c) Higher UV exposure d) Reduced antioxidant levels\n",
      "Response: A\n",
      "\n",
      "Question 487: What is the name of the condition where the macula puckers in AMD? a) Macular pucker b) Macular edema c) Macular hole d) Macular fibrosis\n",
      "Response: d)\n",
      "\n",
      "Question 488: Which of the following is a potential future diagnostic tool for AMD? a) Artificial intelligence b) Blood pressure monitoring c) Pulse oximetry d) EEG\n",
      "Response: a)\n",
      "\n",
      "Question 489: What is the name of the condition where the retina's blood vessels dilate in AMD? a) Retinal vascular dilation b) Choroidal neovascularization c) Retinal hemorrhage d) Macular edema\n",
      "Response: B\n",
      "\n",
      "Question 490: Which of the following is a common cooking aid for AMD patients? a) High-contrast cutting boards b) Noise-canceling headphones c) Orthopedic shoes d) Blood glucose monitors\n",
      "Response: d\n",
      "\n",
      "Question 491: What is the name of the condition where the retina's photoreceptors disorganize in AMD? a) Photoreceptor disarray b) Retinal pigment epithelium atrophy c) Choroidal atrophy d) Macular edema\n",
      "Response: A\n",
      "\n",
      "Question 492: Which of the following is a potential benefit of quitting smoking for AMD? a) Reduced oxidative stress b) Increased drusen c) Higher blood pressure d) Worsened vision\n",
      "Response: A\n",
      "The best answer is A.\n",
      "\n",
      "Question 493: What is the name of the condition where the retina's blood leaks in wet AMD? a) Retinal hemorrhage b) Macular edema c) Choroidal rupture d) Vitreous detachment\n",
      "Response: c\n",
      "\n",
      "Question 494: Which of the following is a common driving aid for AMD patients? a) Bioptic telescopes b) Glucose meters c) Oxygen tanks d) Knee braces\n",
      "Response: A\n",
      "\n",
      "Question 495: What is the name of the condition where the retina's pigment overgrows in dry AMD? a) Retinal pigment epithelium hyperplasia b) Choroidal atrophy c) Photoreceptor degeneration d) Macular edema\n",
      "Response: A\n",
      "\n",
      "The correct answer is: a) Retinal pigment epithelium hyperplasia\n",
      "\n",
      "Question 496: Which of the following is a potential benefit of leafy greens for AMD? a) Increased antioxidants b) Higher cholesterol c) Reduced blood flow d) Increased UV damage\n",
      "Response: A\n",
      "\n",
      "Question 497: What is the name of the condition where the retina's layers fold in AMD? a) Retinal fold b) Macular pucker c) Epiretinal membrane d) All of the above\n",
      "Response: d\n",
      "\n",
      "Question 498: Which of the following is a potential future treatment for wet AMD? a) Gene therapy b) Antibiotic therapy c) Chemotherapy d) Radiation therapy\n",
      "Response: A\n",
      "\n",
      "Question 499: What is the name of the condition where the retina's blood vessels leak fluid in AMD? a) Retinal vascular leakage b) Choroidal neovascularization c) Retinal tear d) Macular atrophy\n",
      "Response: A\n",
      "\n",
      "Question 500: Which of the following is a common occupational therapy goal for AMD patients? a) Adapting to vision loss b) Increasing muscle strength c) Improving lung capacity d) Enhancing taste perception\n",
      "Response: A\n",
      "\n"
     ]
    }
   ],
   "source": [
    "# Loop through questions and generate answers without context\n",
    "without_context_responses = []\n",
    "\n",
    "print(\"Processing questions without context...\")\n",
    "for index, row in df.iterrows():\n",
    "    # Generate answer without context\n",
    "    response = generate_answer_without_context(row[\"question\"], \"llama3.2\")\n",
    "    response = remove_think_tags(response)\n",
    "    without_context_responses.append(response)\n",
    "    \n",
    "    print(f\"Question {index+1}: {row['question']}\")\n",
    "    print(f\"Response: {response}\\n\")\n",
    "\n",
    "# Add to dataframe\n",
    "df['without_context_answer'] = without_context_responses"
   ]
  },
  {
   "cell_type": "code",
   "execution_count": 9,
   "id": "a1e6469a-7750-412c-bd52-7f7e5bf0e5e2",
   "metadata": {},
   "outputs": [
    {
     "name": "stdout",
     "output_type": "stream",
     "text": [
      "Parsed Results:\n",
      "Question 1: Which retinal layer is most affected by AMD? a) Ganglion cell layer b) Macula c) Outer plexiform layer d) Choroid\n",
      "Ground Truth: B (from 'b) Macula')\n",
      "With Context: C\n",
      "Without Context: B\n",
      "\n",
      "Question 2: What is the primary visual symptom of wet AMD? a) Peripheral vision loss b) Sudden central vision distortion c) Color blindness d) Night blindness\n",
      "Ground Truth: B (from 'b) Sudden central vision distortion')\n",
      "With Context: B\n",
      "Without Context: C\n",
      "\n",
      "Question 3: Which condition is dry AMD most likely to progress to? a) Glaucoma b) Geographic atrophy c) Cataracts d) Retinal detachment\n",
      "Ground Truth: B (from 'b) Geographic atrophy')\n",
      "With Context: B\n",
      "Without Context: C\n",
      "\n",
      "Question 4: What is a key environmental risk factor for AMD? a) High altitude b) Smoking c) Cold weather d) Noise exposure\n",
      "Ground Truth: B (from 'b) Smoking')\n",
      "With Context: B\n",
      "Without Context: B\n",
      "\n",
      "Question 5: Which type of AMD typically progresses more rapidly? a) Dry AMD b) Wet AMD c) Early AMD d) Intermediate AMD\n",
      "Ground Truth: B (from 'b) Wet AMD')\n",
      "With Context: D\n",
      "Without Context: C\n",
      "\n",
      "Question 6: What is the current status of a cure for advanced AMD? a) Fully curable b) Partially curable c) No cure exists d) Cure in trials\n",
      "Ground Truth: C (from 'c) No cure exists')\n",
      "With Context: C\n",
      "Without Context: D\n",
      "\n",
      "Question 7: Which therapy is commonly used for wet AMD? a) Anti-VEGF injections b) Topical steroids c) Acupuncture d) Hearing aids\n",
      "Ground Truth: A (from 'a) Anti-VEGF injections')\n",
      "With Context: A\n",
      "Without Context: A\n",
      "\n",
      "Question 8: Which vision type is least affected by AMD? a) Central vision b) Peripheral vision c) Depth perception d) Color vision\n",
      "Ground Truth: B (from 'b) Peripheral vision')\n",
      "With Context: B\n",
      "Without Context: D\n",
      "\n",
      "Question 9: What genetic factor increases AMD risk? a) Family history b) Hair color c) Blood type d) Height\n",
      "Ground Truth: A (from 'a) Family history')\n",
      "With Context: A\n",
      "Without Context: A\n",
      "\n",
      "Question 10: Which diagnostic method is ineffective for AMD? a) OCT b) Amsler grid c) Blood pressure test d) Fundus photography\n",
      "Ground Truth: C (from 'c) Blood pressure test')\n",
      "With Context: D\n",
      "Without Context: C\n",
      "\n",
      "Question 11: What tool is used to monitor AMD-related distortion? a) Stethoscope b) Amsler grid c) Thermometer d) ECG\n",
      "Ground Truth: B (from 'b) Amsler grid')\n",
      "With Context: B\n",
      "Without Context: B\n",
      "\n",
      "Question 12: Which AMD type is more prevalent? a) Wet AMD b) Dry AMD c) Both equally d) Neither\n",
      "Ground Truth: B (from 'b) Dry AMD')\n",
      "With Context: C\n",
      "Without Context: A\n",
      "\n",
      "Question 13: What is the effect of sunglasses on AMD prevention? a) Fully prevents b) Reduces risk c) No effect d) Increases risk\n",
      "Ground Truth: B (from 'b) Reduces risk')\n",
      "With Context: B\n",
      "Without Context: C\n",
      "\n",
      "Question 14: Which systemic condition heightens AMD risk? a) Asthma b) Diabetes c) Arthritis d) Migraines\n",
      "Ground Truth: B (from 'b) Diabetes')\n",
      "With Context: C\n",
      "Without Context: B\n",
      "\n",
      "Question 15: What is the primary treatment focus for dry AMD? a) Surgery b) Slowing progression c) Reversing damage d) Pain relief\n",
      "Ground Truth: B (from 'b) Slowing progression')\n",
      "With Context: B\n",
      "Without Context: C\n",
      "\n",
      "Question 16: What retinal feature is characteristic of dry AMD? a) Fluid leakage b) Drusen deposits c) Blood vessel rupture d) Corneal opacity\n",
      "Ground Truth: B (from 'b) Drusen deposits')\n",
      "With Context: B\n",
      "Without Context: A\n",
      "\n",
      "Question 17: At what age does AMD risk significantly increase? a) 30 b) 40 c) 50 d) 60\n",
      "Ground Truth: D (from 'd) 60')\n",
      "With Context: C\n",
      "Without Context: C\n",
      "\n",
      "Question 18: Which symptom is most associated with wet AMD? a) Gradual peripheral loss b) Sudden central blur c) Eye redness d) Floaters\n",
      "Ground Truth: B (from 'b) Sudden central blur')\n",
      "With Context: B\n",
      "Without Context: D\n",
      "\n",
      "Question 19: Is AMD transmissible between people? a) Yes, highly b) Yes, mildly c) No d) Only genetically\n",
      "Ground Truth: C (from 'c) No')\n",
      "With Context: C\n",
      "Without Context: C\n",
      "\n",
      "Question 20: Which lifestyle factor exacerbates AMD? a) Regular exercise b) Obesity c) Adequate sleep d) Hydration\n",
      "Ground Truth: B (from 'b) Obesity')\n",
      "With Context: B\n",
      "Without Context: C\n",
      "\n",
      "Question 21: Can surgery fully reverse AMD damage? a) Yes b) No c) Sometimes d) Only early stages\n",
      "Ground Truth: B (from 'b) No')\n",
      "With Context: B\n",
      "Without Context: B\n",
      "\n",
      "Question 22: What visual ability does AMD often impair? a) Color perception b) Hearing acuity c) Taste sensitivity d) Peripheral motion\n",
      "Ground Truth: A (from 'a) Color perception')\n",
      "With Context: D\n",
      "Without Context: D\n",
      "\n",
      "Question 23: Which is not a cause of AMD? a) Aging b) Genetics c) Screen time d) UV exposure\n",
      "Ground Truth: C (from 'c) Screen time')\n",
      "With Context: A\n",
      "Without Context: A\n",
      "\n",
      "Question 24: What imaging technique is critical for AMD diagnosis? a) X-ray b) MRI c) OCT d) Ultrasound\n",
      "Ground Truth: C (from 'c) OCT')\n",
      "With Context: C\n",
      "Without Context: C\n",
      "\n",
      "Question 25: What does wet AMD typically involve? a) Drusen reduction b) Fluid leakage c) Lens thickening d) Iris damage\n",
      "Ground Truth: B (from 'b) Fluid leakage')\n",
      "With Context: B\n",
      "Without Context: B\n",
      "\n",
      "Question 26: Which gender has a slightly higher AMD prevalence? a) Men b) Women c) Equal d) Unknown\n",
      "Ground Truth: B (from 'b) Women')\n",
      "With Context: C\n",
      "Without Context: C\n",
      "\n",
      "Question 27: Are over-the-counter eye drops effective for AMD? a) Yes b) No c) Sometimes d) Only early stages\n",
      "Ground Truth: B (from 'b) No')\n",
      "With Context: B\n",
      "Without Context: B\n",
      "\n",
      "Question 28: Which cardiovascular condition increases AMD risk? a) Low blood pressure b) Hypertension c) Arrhythmia d) Anemia\n",
      "Ground Truth: B (from 'b) Hypertension')\n",
      "With Context: B\n",
      "Without Context: C\n",
      "\n",
      "Question 29: What metabolic factor is linked to AMD? a) High cholesterol b) Low sodium c) High potassium d) Low glucose\n",
      "Ground Truth: A (from 'a) High cholesterol')\n",
      "With Context: A\n",
      "Without Context: C\n",
      "\n",
      "Question 30: Can dietary fish oil alone halt AMD? a) Yes b) No c) Sometimes d) Only with supplements\n",
      "Ground Truth: B (from 'b) No')\n",
      "With Context: B\n",
      "Without Context: B\n",
      "\n",
      "Question 31: Which eye structure remains unaffected by AMD? a) Macula b) Optic nerve c) Retinal pigment epithelium d) Choroid\n",
      "Ground Truth: B (from 'b) Optic nerve')\n",
      "With Context: C\n",
      "Without Context: D\n",
      "\n",
      "Question 32: What therapy targets blood vessels in wet AMD? a) Chemotherapy b) Photodynamic therapy c) Radiation d) Massage\n",
      "Ground Truth: B (from 'b) Photodynamic therapy')\n",
      "With Context: B\n",
      "Without Context: B\n",
      "\n",
      "Question 33: Does AMD increase physical risks in the elderly? a) Falls b) Hearing loss c) Muscle weakness d) Appetite loss\n",
      "Ground Truth: A (from 'a) Falls')\n",
      "With Context: C\n",
      "Without Context: C\n",
      "\n",
      "Question 34: Is AMD typically unilateral at onset? a) Yes b) No c) Always d) Rarely\n",
      "Ground Truth: B (from 'b) No')\n",
      "With Context: A\n",
      "Without Context: B\n",
      "\n",
      "Question 35: What supplement regimen slows dry AMD? a) AREDS b) Multivitamins c) Calcium pills d) Iron tablets\n",
      "Ground Truth: A (from 'a) AREDS')\n",
      "With Context: A\n",
      "Without Context: A\n",
      "\n",
      "Question 36: Which ethnicity has the highest AMD incidence? a) African Americans b) Caucasians c) Asians d) Hispanics\n",
      "Ground Truth: B (from 'b) Caucasians')\n",
      "With Context: C\n",
      "Without Context: A\n",
      "\n",
      "Question 37: Does wet AMD inevitably cause total blindness? a) Yes b) No c) Often d) Rarely\n",
      "Ground Truth: B (from 'b) No')\n",
      "With Context: B\n",
      "Without Context: B\n",
      "\n",
      "Question 38: What visual distortion is typical of AMD? a) Double vision b) Wavy lines c) Flashing lights d) Tunnel vision\n",
      "Ground Truth: B (from 'b) Wavy lines')\n",
      "With Context: B\n",
      "Without Context: C\n",
      "\n",
      "Question 39: Is AMD caused by infectious agents? a) Yes b) No c) Sometimes d) Unknown\n",
      "Ground Truth: B (from 'b) No')\n",
      "With Context: B\n",
      "Without Context: B\n",
      "\n",
      "Question 40: Which functional ability does AMD impair? a) Depth perception b) Hearing sensitivity c) Olfactory detection d) Tactile response\n",
      "Ground Truth: A (from 'a) Depth perception')\n",
      "With Context: C\n",
      "Without Context: D\n",
      "\n",
      "Question 41: Can AMD occur in young children? a) Yes b) No c) Rarely d) Only genetically\n",
      "Ground Truth: B (from 'b) No')\n",
      "With Context: A\n",
      "Without Context: A\n",
      "\n",
      "Question 42: Does AMD necessitate visual aids? a) Yes b) No c) Sometimes d) Never\n",
      "Ground Truth: A (from 'a) Yes')\n",
      "With Context: A\n",
      "Without Context: B\n",
      "\n",
      "Question 43: What environmental exposure is linked to AMD? a) Noise pollution b) UV light c) Air humidity d) Temperature extremes\n",
      "Ground Truth: B (from 'b) UV light')\n",
      "With Context: B\n",
      "Without Context: B\n",
      "\n",
      "Question 44: Can exercise alone reverse AMD? a) Yes b) No c) Partially d) Only early stages\n",
      "Ground Truth: B (from 'b) No')\n",
      "With Context: B\n",
      "Without Context: D\n",
      "\n",
      "Question 45: Which vision type is least impacted by AMD? a) Night vision b) Peripheral vision c) Central vision d) Contrast sensitivity\n",
      "Ground Truth: B (from 'b) Peripheral vision')\n",
      "With Context: D\n",
      "Without Context: D\n",
      "\n",
      "Question 46: What exam detects AMD? a) Blood draw b) Dilated eye exam c) Hearing test d) Skin biopsy\n",
      "Ground Truth: B (from 'b) Dilated eye exam')\n",
      "With Context: B\n",
      "Without Context: B\n",
      "\n",
      "Question 47: Is dim light reading a cause of AMD? a) Yes b) No c) Sometimes d) Unknown\n",
      "Ground Truth: B (from 'b) No')\n",
      "With Context: A\n",
      "Without Context: C\n",
      "\n",
      "Question 48: Which daily task does AMD most impair? a) Face recognition b) Hearing conversations c) Smelling food d) Tasting flavors\n",
      "Ground Truth: A (from 'a) Face recognition')\n",
      "With Context: A\n",
      "Without Context: A\n",
      "\n",
      "Question 49: Are antibiotics effective against AMD? a) Yes b) No c) Sometimes d) Only wet AMD\n",
      "Ground Truth: B (from 'b) No')\n",
      "With Context: B\n",
      "Without Context: B\n",
      "\n",
      "Question 50: What demographic factor most influences AMD? a) Age b) Height c) Weight d) Hair color\n",
      "Ground Truth: A (from 'a) Age')\n",
      "With Context: A\n",
      "Without Context: A\n",
      "\n",
      "Question 51: Which retinal change is specific to wet AMD? a) Drusen increase b) Choroidal neovascularization c) Optic disc swelling d) Lens opacity\n",
      "Ground Truth: B (from 'b) Choroidal neovascularization')\n",
      "With Context: B\n",
      "Without Context: B\n",
      "\n",
      "Question 52: What is the effect of avoiding sunlight on AMD? a) Prevents completely b) Reduces risk c) No impact d) Worsens condition\n",
      "Ground Truth: B (from 'b) Reduces risk')\n",
      "With Context: B\n",
      "Without Context: C\n",
      "\n",
      "Question 53: Which nutrient is not part of AREDS? a) Vitamin C b) Vitamin E c) Vitamin D d) Zinc\n",
      "Ground Truth: C (from 'c) Vitamin D')\n",
      "With Context: C\n",
      "Without Context: D\n",
      "\n",
      "Question 54: What diagnostic sign does fluorescein angiography reveal in wet AMD? a) Drusen size b) Fluid leakage c) Lens clarity d) Corneal thickness\n",
      "Ground Truth: B (from 'b) Fluid leakage')\n",
      "With Context: B\n",
      "Without Context: B\n",
      "\n",
      "Question 55: Which region has higher AMD prevalence? a) Developing countries b) Developed countries c) Tropical areas d) Polar regions\n",
      "Ground Truth: B (from 'b) Developed countries')\n",
      "With Context: C\n",
      "Without Context: C\n",
      "\n",
      "Question 56: Can wet AMD be fully reversed? a) Yes b) No c) Sometimes d) Only early stages\n",
      "Ground Truth: B (from 'b) No')\n",
      "With Context: D\n",
      "Without Context: D\n",
      "\n",
      "Question 57: What retinal structure is central to AMD pathology? a) Optic disc b) Macula c) Fovea d) Peripheral retina\n",
      "Ground Truth: B (from 'b) Macula')\n",
      "With Context: B\n",
      "Without Context: C\n",
      "\n",
      "Question 58: Is poor hygiene a cause of AMD? a) Yes b) No c) Sometimes d) Unknown\n",
      "Ground Truth: B (from 'b) No')\n",
      "With Context: B\n",
      "Without Context: B\n",
      "\n",
      "Question 59: What assistive device helps AMD patients? a) Hearing aids b) Low vision aids c) Wheelchairs d) Inhalers\n",
      "Ground Truth: B (from 'b) Low vision aids')\n",
      "With Context: B\n",
      "Without Context: B\n",
      "\n",
      "Question 60: Which daily activity is most affected by AMD? a) Driving b) Tasting food c) Hearing music d) Smelling flowers\n",
      "Ground Truth: A (from 'a) Driving')\n",
      "With Context: A\n",
      "Without Context: A\n",
      "\n",
      "Question 61: Does alcohol consumption directly cause AMD? a) Yes b) No c) Sometimes d) Only heavy use\n",
      "Ground Truth: B (from 'b) No')\n",
      "With Context: A\n",
      "Without Context: B\n",
      "\n",
      "Question 62: What hereditary factor contributes to AMD? a) Eye color b) Genetic predisposition c) Skin tone d) Hair texture\n",
      "Ground Truth: B (from 'b) Genetic predisposition')\n",
      "With Context: B\n",
      "Without Context: B\n",
      "\n",
      "Question 63: Which retinal event occurs in wet AMD? a) Drusen dissolution b) Subretinal hemorrhage c) Optic nerve atrophy d) Lens detachment\n",
      "Ground Truth: B (from 'b) Subretinal hemorrhage')\n",
      "With Context: B\n",
      "Without Context: B\n",
      "\n",
      "Question 64: Is staring at bright lights a direct cause of AMD? a) Yes b) No c) Sometimes d) Unknown\n",
      "Ground Truth: B (from 'b) No')\n",
      "With Context: B\n",
      "Without Context: B\n",
      "\n",
      "Question 65: What screening method identifies AMD early? a) Blood test b) Eye exam c) Hearing test d) Skin scan\n",
      "Ground Truth: B (from 'b) Eye exam')\n",
      "With Context: B\n",
      "Without Context: B\n",
      "\n",
      "Question 66: Does AMD cause floaters as a primary symptom? a) Yes b) No c) Sometimes d) Only late stages\n",
      "Ground Truth: B (from 'b) No')\n",
      "With Context: A\n",
      "Without Context: A\n",
      "\n",
      "Question 67: Which eye trait may elevate AMD risk? a) Dark eyes b) Light eyes c) Myopia d) Astigmatism\n",
      "Ground Truth: B (from 'b) Light eyes')\n",
      "With Context: B\n",
      "Without Context: D\n",
      "\n",
      "Question 68: Can vitamin C alone cure AMD? a) Yes b) No c) Sometimes d) Only with zinc\n",
      "Ground Truth: B (from 'b) No')\n",
      "With Context: B\n",
      "Without Context: B\n",
      "\n",
      "Question 69: What visual defect does AMD often produce? a) Peripheral tunnel b) Central blind spots c) Flashing lights d) Double images\n",
      "Ground Truth: B (from 'b) Central blind spots')\n",
      "With Context: B\n",
      "Without Context: D\n",
      "\n",
      "Question 70: Is excessive sugar intake a direct AMD cause? a) Yes b) No c) Sometimes d) Unknown\n",
      "Ground Truth: B (from 'b) No')\n",
      "With Context: B\n",
      "Without Context: B\n",
      "\n",
      "Question 71: What lifestyle change reduces AMD risk? a) More screen time b) Smoking cessation c) Less exercise d) High-fat diet\n",
      "Ground Truth: B (from 'b) Smoking cessation')\n",
      "With Context: B\n",
      "Without Context: B\n",
      "\n",
      "Question 72: Does AMD exclusively impair night vision? a) Yes b) No c) Sometimes d) Only wet AMD\n",
      "Ground Truth: B (from 'b) No')\n",
      "With Context: B\n",
      "Without Context: B\n",
      "\n",
      "Question 73: What retinal scan detects AMD? a) CT scan b) Retina scan c) PET scan d) MRI\n",
      "Ground Truth: B (from 'b) Retina scan')\n",
      "With Context: D\n",
      "Without Context: B\n",
      "\n",
      "Question 74: Can diet alone manage wet AMD? a) Yes b) No c) Sometimes d) Only early stages\n",
      "Ground Truth: B (from 'b) No')\n",
      "With Context: B\n",
      "Without Context: B\n",
      "\n",
      "Question 75: Which adaptation does AMD affect? a) Low light vision b) Hearing acuity c) Taste sensitivity d) Balance control\n",
      "Ground Truth: A (from 'a) Low light vision')\n",
      "With Context: A\n",
      "Without Context: C\n",
      "\n",
      "Question 76: Is lack of sleep a primary AMD cause? a) Yes b) No c) Sometimes d) Unknown\n",
      "Ground Truth: B (from 'b) No')\n",
      "With Context: B\n",
      "Without Context: B\n",
      "\n",
      "Question 77: What routine check monitors AMD? a) Blood test b) Eye checkup c) Hearing exam d) Skin test\n",
      "Ground Truth: B (from 'b) Eye checkup')\n",
      "With Context: B\n",
      "Without Context: C\n",
      "\n",
      "Question 78: Does dry AMD cause retinal bleeding? a) Yes b) No c) Sometimes d) Only late stages\n",
      "Ground Truth: B (from 'b) No')\n",
      "With Context: C\n",
      "Without Context: C\n",
      "\n",
      "Question 79: Which group has lower AMD rates? a) Caucasians b) African Americans c) Asians d) Europeans\n",
      "Ground Truth: B (from 'b) African Americans')\n",
      "With Context: A\n",
      "Without Context: C\n",
      "\n",
      "Question 80: Can AMD cause hallucinations in late stages? a) Yes b) No c) Rarely d) Only wet AMD\n",
      "Ground Truth: A (from 'a) Yes')\n",
      "With Context: A\n",
      "Without Context: A\n",
      "\n",
      "Question 81: Is AMD exclusive to those over 80? a) Yes b) No c) Usually d) Rarely\n",
      "Ground Truth: B (from 'b) No')\n",
      "With Context: B\n",
      "Without Context: B\n",
      "\n",
      "Question 82: What cellular process is linked to AMD? a) Oxidative stress b) Bone growth c) Muscle repair d) Skin regeneration\n",
      "Ground Truth: A (from 'a) Oxidative stress')\n",
      "With Context: A\n",
      "Without Context: A\n",
      "\n",
      "Question 83: Is acupuncture a standard AMD treatment? a) Yes b) No c) Sometimes d) Only experimental\n",
      "Ground Truth: B (from 'b) No')\n",
      "With Context: B\n",
      "Without Context: D\n",
      "\n",
      "Question 84: Which mental health issue may AMD increase? a) Depression b) Anxiety c) Memory loss d) All of the above\n",
      "Ground Truth: A (from 'a) Depression')\n",
      "With Context: D\n",
      "Without Context: D\n",
      "\n",
      "Question 85: Do contact lenses cause AMD? a) Yes b) No c) Sometimes d) Only long-term use\n",
      "Ground Truth: B (from 'b) No')\n",
      "With Context: B\n",
      "Without Context: B\n",
      "\n",
      "Question 86: What photographic method aids AMD diagnosis? a) Fundus photography b) X-ray imaging c) Thermal imaging d) Ultrasound\n",
      "Ground Truth: A (from 'a) Fundus photography')\n",
      "With Context: B\n",
      "Without Context: A\n",
      "\n",
      "Question 87: Does wet AMD cause retinal scarring? a) Yes b) No c) Rarely d) Only early stages\n",
      "Ground Truth: A (from 'a) Yes')\n",
      "With Context: A\n",
      "Without Context: A\n",
      "\n",
      "Question 88: Is vitamin D deficiency a direct AMD cause? a) Yes b) No c) Sometimes d) Unknown\n",
      "Ground Truth: B (from 'b) No')\n",
      "With Context: B\n",
      "Without Context: B\n",
      "\n",
      "Question 89: Which spatial ability does AMD affect? a) Distance judgment b) Sound localization c) Taste distinction d) Smell detection\n",
      "Ground Truth: A (from 'a) Distance judgment')\n",
      "With Context: A\n",
      "Without Context: A\n",
      "\n",
      "Question 90: Does dry AMD always become wet AMD? a) Yes b) No c) Often d) Rarely\n",
      "Ground Truth: B (from 'b) No')\n",
      "With Context: B\n",
      "Without Context: B\n",
      "\n",
      "Question 91: What is the estimated U.S. AMD case count? a) 1 million b) 5 million c) 11 million d) 20 million\n",
      "Ground Truth: C (from 'c) 11 million')\n",
      "With Context: C\n",
      "Without Context: C\n",
      "\n",
      "Question 92: Can avoiding all fats prevent wet AMD? a) Yes b) No c) Sometimes d) Only with diet\n",
      "Ground Truth: B (from 'b) No')\n",
      "With Context: B\n",
      "Without Context: B\n",
      "\n",
      "Question 93: Which retinal feature is most indicative of early dry AMD? a) Fluid leakage b) Drusen deposits c) Retinal tears d) Optic disc swelling\n",
      "Ground Truth: B (from 'b) Drusen deposits')\n",
      "With Context: B\n",
      "Without Context: C\n",
      "\n",
      "Question 94: What is a hallmark symptom of wet AMD? a) Gradual peripheral loss b) Wavy central vision c) Improved contrast d) Eye redness\n",
      "Ground Truth: B (from 'b) Wavy central vision')\n",
      "With Context: A\n",
      "Without Context: A\n",
      "\n",
      "Question 95: Which stage of dry AMD precedes geographic atrophy? a) Early b) Intermediate c) Advanced d) Initial\n",
      "Ground Truth: B (from 'b) Intermediate')\n",
      "With Context: A\n",
      "Without Context: D\n",
      "\n",
      "Question 96: What habit significantly increases AMD risk? a) Drinking coffee b) Smoking c) Walking daily d) Reading books\n",
      "Ground Truth: B (from 'b) Smoking')\n",
      "With Context: B\n",
      "Without Context: C\n",
      "\n",
      "Question 97: Which form of AMD is characterized by neovascularization? a) Dry AMD b) Wet AMD c) Early AMD d) Late AMD\n",
      "Ground Truth: B (from 'b) Wet AMD')\n",
      "With Context: B\n",
      "Without Context: B\n",
      "\n",
      "Question 98: Is there a definitive cure for intermediate AMD? a) Yes b) No c) In development d) Only for wet AMD\n",
      "Ground Truth: B (from 'b) No')\n",
      "With Context: B\n",
      "Without Context: C\n",
      "\n",
      "Question 99: What injection targets wet AMD’s blood vessels? a) Insulin b) Anti-VEGF c) Steroids d) Antibiotics\n",
      "Ground Truth: B (from 'b) Anti-VEGF')\n",
      "With Context: B\n",
      "Without Context: B\n",
      "\n",
      "Question 100: Which vision aspect is preserved longest in AMD? a) Central acuity b) Peripheral vision c) Color distinction d) Depth perception\n",
      "Ground Truth: B (from 'b) Peripheral vision')\n",
      "With Context: B\n",
      "Without Context: B\n",
      "\n",
      "Question 101: What hereditary trait is linked to AMD? a) Family history b) Eye shape c) Hair length d) Skin color\n",
      "Ground Truth: A (from 'a) Family history')\n",
      "With Context: A\n",
      "Without Context: A\n",
      "\n",
      "Question 102: Which test is irrelevant for AMD diagnosis? a) OCT b) Skin biopsy c) Amsler grid d) Fluorescein angiography\n",
      "Ground Truth: B (from 'b) Skin biopsy')\n",
      "With Context: C\n",
      "Without Context: C\n",
      "\n",
      "Question 103: What home tool monitors AMD progression? a) Thermometer b) Amsler grid c) Blood pressure cuff d) Pulse oximeter\n",
      "Ground Truth: B (from 'b) Amsler grid')\n",
      "With Context: B\n",
      "Without Context: B\n",
      "\n",
      "Question 104: Which AMD type affects the majority of patients? a) Wet AMD b) Dry AMD c) Mixed AMD d) Neither\n",
      "Ground Truth: B (from 'b) Dry AMD')\n",
      "With Context: B\n",
      "Without Context: B\n",
      "\n",
      "Question 105: Can UV-blocking sunglasses eliminate AMD risk? a) Yes b) No c) Partially d) Only with diet\n",
      "Ground Truth: B (from 'b) No')\n",
      "With Context: B\n",
      "Without Context: B\n",
      "\n",
      "Question 106: Which chronic illness is associated with higher AMD risk? a) Diabetes b) Allergies c) Bronchitis d) Osteoporosis\n",
      "Ground Truth: A (from 'a) Diabetes')\n",
      "With Context: A\n",
      "Without Context: A\n",
      "\n",
      "Question 107: What is the main goal of dry AMD management? a) Cure b) Slow progression c) Reverse vision loss d) Reduce pain\n",
      "Ground Truth: B (from 'b) Slow progression')\n",
      "With Context: C\n",
      "Without Context: C\n",
      "\n",
      "Question 108: What accumulates in the retina in dry AMD? a) Blood clots b) Drusen c) Tears d) Calcium deposits\n",
      "Ground Truth: B (from 'b) Drusen')\n",
      "With Context: B\n",
      "Without Context: B\n",
      "\n",
      "Question 109: What age group is most susceptible to AMD onset? a) 20-30 b) 30-40 c) 50-60 d) 60+\n",
      "Ground Truth: D (from 'd) 60+')\n",
      "With Context: C\n",
      "Without Context: D\n",
      "\n",
      "Question 110: Which event is typical of wet AMD onset? a) Gradual drusen growth b) Sudden vision loss c) Peripheral blur d) Eye irritation\n",
      "Ground Truth: B (from 'b) Sudden vision loss')\n",
      "With Context: B\n",
      "Without Context: C\n",
      "\n",
      "Question 111: Can AMD spread through contact? a) Yes b) No c) Rarely d) Only genetically\n",
      "Ground Truth: B (from 'b) No')\n",
      "With Context: A\n",
      "Without Context: A\n",
      "\n",
      "Question 112: Which metabolic state increases AMD likelihood? a) Obesity b) Low BMI c) High hydration d) Low cholesterol\n",
      "Ground Truth: A (from 'a) Obesity')\n",
      "With Context: B\n",
      "Without Context: D\n",
      "\n",
      "Question 113: Is surgical intervention a cure for AMD? a) Yes b) No c) Partially d) Only wet AMD\n",
      "Ground Truth: B (from 'b) No')\n",
      "With Context: B\n",
      "Without Context: B\n",
      "\n",
      "Question 114: What visual function does AMD often alter? a) Color perception b) Auditory perception c) Taste sensitivity d) Peripheral speed\n",
      "Ground Truth: A (from 'a) Color perception')\n",
      "With Context: D\n",
      "Without Context: D\n",
      "\n",
      "Question 115: Does excessive computer use directly cause AMD? a) Yes b) No c) Sometimes d) Only prolonged use\n",
      "Ground Truth: B (from 'b) No')\n",
      "With Context: B\n",
      "Without Context: B\n",
      "\n",
      "Question 116: Which imaging method is essential for AMD evaluation? a) OCT b) CT scan c) MRI d) X-ray\n",
      "Ground Truth: A (from 'a) OCT')\n",
      "With Context: A\n",
      "Without Context: A\n",
      "\n",
      "Question 117: What does wet AMD frequently cause in the retina? a) Drusen shrinkage b) Subretinal fluid c) Lens clouding d) Optic nerve swelling\n",
      "Ground Truth: B (from 'b) Subretinal fluid')\n",
      "With Context: B\n",
      "Without Context: B\n",
      "\n",
      "Question 118: Which demographic shows a slight AMD prevalence edge? a) Men b) Women c) No difference d) Children\n",
      "Ground Truth: B (from 'b) Women')\n",
      "With Context: C\n",
      "Without Context: A\n",
      "\n",
      "Question 119: Are OTC eye drops a standard AMD treatment? a) Yes b) No c) Sometimes d) Only for dry AMD\n",
      "Ground Truth: B (from 'b) No')\n",
      "With Context: B\n",
      "Without Context: B\n",
      "\n",
      "Question 120: Which vascular condition is a known AMD risk factor? a) Hypotension b) Hypertension c) Varicose veins d) Anemia\n",
      "Ground Truth: B (from 'b) Hypertension')\n",
      "With Context: B\n",
      "Without Context: D\n",
      "\n",
      "Question 121: What lipid-related condition correlates with AMD? a) High cholesterol b) Low triglycerides c) High HDL d) Low LDL\n",
      "Ground Truth: A (from 'a) High cholesterol')\n",
      "With Context: C\n",
      "Without Context: D\n",
      "\n",
      "Question 122: Can omega-3 supplements alone prevent AMD? a) Yes b) No c) Partially d) Only with vitamins\n",
      "Ground Truth: B (from 'b) No')\n",
      "With Context: B\n",
      "Without Context: B\n",
      "\n",
      "Question 123: Which eye component is spared in AMD progression? a) Macula b) Optic nerve c) Retinal pigment epithelium d) Choroid\n",
      "Ground Truth: B (from 'b) Optic nerve')\n",
      "With Context: B\n",
      "Without Context: D\n",
      "\n",
      "Question 124: What laser-based therapy treats wet AMD? a) LASIK b) Photodynamic therapy c) PRK d) Cataract surgery\n",
      "Ground Truth: B (from 'b) Photodynamic therapy')\n",
      "With Context: B\n",
      "Without Context: B\n",
      "\n",
      "Question 125: Does AMD heighten accident risk in older adults? a) Falls b) Burns c) Cuts d) Bruises\n",
      "Ground Truth: A (from 'a) Falls')\n",
      "With Context: A\n",
      "Without Context: A\n",
      "\n",
      "Question 126: Is AMD typically confined to one eye initially? a) Yes b) No c) Always d) Rarely\n",
      "Ground Truth: B (from 'b) No')\n",
      "With Context: B\n",
      "Without Context: A\n",
      "\n",
      "Question 127: Which nutritional protocol aids dry AMD? a) AREDS b) Low-carb diet c) High-protein diet d) Vegan diet\n",
      "Ground Truth: A (from 'a) AREDS')\n",
      "With Context: C\n",
      "Without Context: A\n",
      "\n",
      "Question 128: Which racial group has elevated AMD rates? a) Caucasians b) African Americans c) Asians d) Native Americans\n",
      "Ground Truth: A (from 'a) Caucasians')\n",
      "With Context: B\n",
      "Without Context: B\n",
      "\n",
      "Question 129: Does wet AMD always result in complete blindness? a) Yes b) No c) Often d) Rarely\n",
      "Ground Truth: B (from 'b) No')\n",
      "With Context: B\n",
      "Without Context: B\n",
      "\n",
      "Question 130: What visual anomaly does AMD commonly produce? a) Straight lines appear wavy b) Peripheral darkening c) Flashing spots d) Double vision\n",
      "Ground Truth: A (from 'a) Straight lines appear wavy')\n",
      "With Context: B\n",
      "Without Context: C\n",
      "\n",
      "Question 131: Is AMD a bacterial condition? a) Yes b) No c) Sometimes d) Only wet AMD\n",
      "Ground Truth: B (from 'b) No')\n",
      "With Context: B\n",
      "Without Context: B\n",
      "\n",
      "Question 132: Which spatial skill does AMD disrupt? a) Depth perception b) Sound direction c) Smell intensity d) Touch sensitivity\n",
      "Ground Truth: A (from 'a) Depth perception')\n",
      "With Context: A\n",
      "Without Context: A\n",
      "\n",
      "Question 133: Can AMD affect preschool-aged children? a) Yes b) No c) Rarely d) Only with genetics\n",
      "Ground Truth: B (from 'b) No')\n",
      "With Context: A\n",
      "Without Context: A\n",
      "\n",
      "Question 134: Does AMD often require assistive devices? a) Yes b) No c) Sometimes d) Never\n",
      "Ground Truth: A (from 'a) Yes')\n",
      "With Context: A\n",
      "Without Context: B\n",
      "\n",
      "Question 135: What light exposure is an AMD risk factor? a) Blue light b) UV light c) Infrared light d) Visible light\n",
      "Ground Truth: B (from 'b) UV light')\n",
      "With Context: D\n",
      "Without Context: A\n",
      "\n",
      "Question 136: Can physical activity alone halt AMD? a) Yes b) No c) Partially d) Only early stages\n",
      "Ground Truth: B (from 'b) No')\n",
      "With Context: D\n",
      "Without Context: B\n",
      "\n",
      "Question 137: Which vision type is most preserved in AMD? a) Night vision b) Peripheral vision c) Central vision d) Contrast vision\n",
      "Ground Truth: B (from 'b) Peripheral vision')\n",
      "With Context: D\n",
      "Without Context: C\n",
      "\n",
      "Question 138: What clinical procedure diagnoses AMD? a) Blood test b) Dilated eye exam c) Urine analysis d) ECG\n",
      "Ground Truth: B (from 'b) Dilated eye exam')\n",
      "With Context: B\n",
      "Without Context: B\n",
      "\n",
      "Question 139: Does reading in low light cause AMD? a) Yes b) No c) Sometimes d) Only prolonged\n",
      "Ground Truth: B (from 'b) No')\n",
      "With Context: B\n",
      "Without Context: B\n",
      "\n",
      "Question 140: Which recognition task does AMD hinder? a) Face recognition b) Sound recognition c) Smell recognition d) Taste recognition\n",
      "Ground Truth: A (from 'a) Face recognition')\n",
      "With Context: A\n",
      "Without Context: A\n",
      "\n",
      "Question 141: Are antibiotics a viable AMD therapy? a) Yes b) No c) Sometimes d) Only for wet AMD\n",
      "Ground Truth: B (from 'b) No')\n",
      "With Context: B\n",
      "Without Context: B\n",
      "\n",
      "Question 142: What primary factor drives AMD prevalence? a) Age b) Diet c) Exercise d) Sleep\n",
      "Ground Truth: A (from 'a) Age')\n",
      "With Context: B\n",
      "Without Context: A\n",
      "\n",
      "Question 143: Which process underlies wet AMD? a) Drusen growth b) Neovascularization c) Lens hardening d) Optic nerve damage\n",
      "Ground Truth: B (from 'b) Neovascularization')\n",
      "With Context: B\n",
      "Without Context: B\n",
      "\n",
      "Question 144: Does avoiding all sunlight prevent AMD? a) Yes b) No c) Partially d) Only with sunglasses\n",
      "Ground Truth: B (from 'b) No')\n",
      "With Context: B\n",
      "Without Context: B\n",
      "\n",
      "Question 145: Which vitamin is excluded from AREDS formulation? a) Vitamin A b) Vitamin B12 c) Vitamin C d) Vitamin E\n",
      "Ground Truth: B (from 'b) Vitamin B12')\n",
      "With Context: C\n",
      "Without Context: C\n",
      "\n",
      "Question 146: What does fluorescein angiography highlight in wet AMD? a) Drusen density b) Vascular leakage c) Lens opacity d) Corneal thinning\n",
      "Ground Truth: B (from 'b) Vascular leakage')\n",
      "With Context: B\n",
      "Without Context: B\n",
      "\n",
      "Question 147: Which areas report higher AMD rates? a) Rural tropics b) Urban developed regions c) Arctic zones d) Desert climates\n",
      "Ground Truth: B (from 'b) Urban developed regions')\n",
      "With Context: D\n",
      "Without Context: B\n",
      "\n",
      "Question 148: Can wet AMD damage be completely undone? a) Yes b) No c) Sometimes d) Only early stages\n",
      "Ground Truth: B (from 'b) No')\n",
      "With Context: B\n",
      "Without Context: B\n",
      "\n",
      "Question 149: What retinal region is central to AMD? a) Optic disc b) Macula c) Peripheral retina d) Ciliary body\n",
      "Ground Truth: B (from 'b) Macula')\n",
      "With Context: B\n",
      "Without Context: B\n",
      "\n",
      "Question 150: Is sanitation a direct AMD trigger? a) Yes b) No c) Sometimes d) Only poor hygiene\n",
      "Ground Truth: B (from 'b) No')\n",
      "With Context: B\n",
      "Without Context: B\n",
      "\n",
      "Question 151: What vision aid benefits AMD patients? a) Hearing aids b) Magnifiers c) Crutches d) Inhalers\n",
      "Ground Truth: B (from 'b) Magnifiers')\n",
      "With Context: B\n",
      "Without Context: B\n",
      "\n",
      "Question 152: Which daily function does AMD most disrupt? a) Driving b) Hearing c) Tasting d) Smelling\n",
      "Ground Truth: A (from 'a) Driving')\n",
      "With Context: A\n",
      "Without Context: D\n",
      "\n",
      "Question 153: Does heavy drinking directly induce AMD? a) Yes b) No c) Sometimes d) Only with smoking\n",
      "Ground Truth: B (from 'b) No')\n",
      "With Context: B\n",
      "Without Context: B\n",
      "\n",
      "Question 154: What genetic link heightens AMD risk? a) Eye color b) Family history c) Skin type d) Hair density\n",
      "Ground Truth: B (from 'b) Family history')\n",
      "With Context: B\n",
      "Without Context: B\n",
      "\n",
      "Question 155: Which retinal complication occurs in wet AMD? a) Drusen reduction b) Subretinal hemorrhage c) Optic atrophy d) Lens detachment\n",
      "Ground Truth: B (from 'b) Subretinal hemorrhage')\n",
      "With Context: B\n",
      "Without Context: B\n",
      "\n",
      "Question 156: Is bright light exposure a primary AMD cause? a) Yes b) No c) Sometimes d) Only prolonged\n",
      "Ground Truth: B (from 'b) No')\n",
      "With Context: A\n",
      "Without Context: B\n",
      "\n",
      "Question 157: What routine screening detects AMD early? a) Blood test b) Eye exam c) Hearing test d) Skin check\n",
      "Ground Truth: B (from 'b) Eye exam')\n",
      "With Context: B\n",
      "Without Context: B\n",
      "\n",
      "Question 158: Are floaters a common AMD symptom? a) Yes b) No c) Sometimes d) Only late stages\n",
      "Ground Truth: B (from 'b) No')\n",
      "With Context: A\n",
      "Without Context: C\n",
      "\n",
      "Question 159: Which iris color may correlate with AMD risk? a) Brown b) Blue c) Green d) Hazel\n",
      "Ground Truth: B (from 'b) Blue')\n",
      "With Context: D\n",
      "Without Context: D\n",
      "\n",
      "Question 160: Can vitamin A alone reverse AMD? a) Yes b) No c) Sometimes d) Only with zinc\n",
      "Ground Truth: B (from 'b) No')\n",
      "With Context: B\n",
      "Without Context: B\n",
      "\n",
      "Question 161: What visual impairment does AMD frequently cause? a) Peripheral loss b) Central scotomas c) Flashing lights d) Double vision\n",
      "Ground Truth: B (from 'b) Central scotomas')\n",
      "With Context: B\n",
      "Without Context: C\n",
      "\n",
      "Question 162: Does high sugar consumption directly trigger AMD? a) Yes b) No c) Sometimes d) Only with obesity\n",
      "Ground Truth: B (from 'b) No')\n",
      "With Context: A\n",
      "Without Context: B\n",
      "\n",
      "Question 163: What behavioral change mitigates AMD risk? a) Increased smoking b) Quitting smoking c) Less sleep d) More screen time\n",
      "Ground Truth: B (from 'b) Quitting smoking')\n",
      "With Context: B\n",
      "Without Context: B\n",
      "\n",
      "Question 164: Is night vision the primary loss in AMD? a) Yes b) No c) Sometimes d) Only wet AMD\n",
      "Ground Truth: B (from 'b) No')\n",
      "With Context: A\n",
      "Without Context: B\n",
      "\n",
      "Question 165: What scan type is used for AMD detection? a) MRI b) Retina scan c) CT scan d) PET scan\n",
      "Ground Truth: B (from 'b) Retina scan')\n",
      "With Context: C\n",
      "Without Context: C\n",
      "\n",
      "Question 166: Can dietary changes alone control wet AMD? a) Yes b) No c) Sometimes d) Only early stages\n",
      "Ground Truth: B (from 'b) No')\n",
      "With Context: B\n",
      "Without Context: B\n",
      "\n",
      "Question 167: Which visual adaptation does AMD impair? a) Low-light adjustment b) Sound localization c) Taste acuity d) Balance control\n",
      "Ground Truth: A (from 'a) Low-light adjustment')\n",
      "With Context: A\n",
      "Without Context: A\n",
      "\n",
      "Question 168: Is insufficient sleep a direct AMD cause? a) Yes b) No c) Sometimes d) Only chronic\n",
      "Ground Truth: B (from 'b) No')\n",
      "With Context: B\n",
      "Without Context: B\n",
      "\n",
      "Question 169: What regular assessment tracks AMD? a) Blood test b) Eye checkup c) Hearing exam d) Skin test\n",
      "Ground Truth: B (from 'b) Eye checkup')\n",
      "With Context: B\n",
      "Without Context: B\n",
      "\n",
      "Question 170: Does dry AMD typically involve retinal hemorrhages? a) Yes b) No c) Sometimes d) Only late stages\n",
      "Ground Truth: B (from 'b) No')\n",
      "With Context: A\n",
      "Without Context: B\n",
      "\n",
      "Question 171: Which population has reduced AMD incidence? a) Caucasians b) African Americans c) Europeans d) Asians\n",
      "Ground Truth: B (from 'b) African Americans')\n",
      "With Context: C\n",
      "Without Context: D\n",
      "\n",
      "Question 172: Can late-stage AMD lead to visual hallucinations? a) Yes b) No c) Rarely d) Only wet AMD\n",
      "Ground Truth: A (from 'a) Yes')\n",
      "With Context: A\n",
      "Without Context: A\n",
      "\n",
      "Question 173: Is AMD restricted to those over 80? a) Yes b) No c) Usually d) Rarely\n",
      "Ground Truth: B (from 'b) No')\n",
      "With Context: B\n",
      "Without Context: B\n",
      "\n",
      "Question 174: What biological process contributes to AMD? a) Oxidative stress b) Bone remodeling c) Muscle growth d) Skin repair\n",
      "Ground Truth: A (from 'a) Oxidative stress')\n",
      "With Context: A\n",
      "Without Context: A\n",
      "\n",
      "Question 175: Is massage therapy a recognized AMD treatment? a) Yes b) No c) Sometimes d) Only experimental\n",
      "Ground Truth: B (from 'b) No')\n",
      "With Context: B\n",
      "Without Context: B\n",
      "\n",
      "Question 176: Which emotional condition may AMD exacerbate? a) Depression b) Euphoria c) Confidence d) Alertness\n",
      "Ground Truth: A (from 'a) Depression')\n",
      "With Context: A\n",
      "Without Context: A\n",
      "\n",
      "Question 177: Do glasses directly cause AMD? a) Yes b) No c) Sometimes d) Only long-term use\n",
      "Ground Truth: B (from 'b) No')\n",
      "With Context: B\n",
      "Without Context: B\n",
      "\n",
      "Question 178: What imaging technique supports AMD diagnosis? a) Fundus photography b) X-ray c) Thermal scan d) Ultrasound\n",
      "Ground Truth: A (from 'a) Fundus photography')\n",
      "With Context: D\n",
      "Without Context: A\n",
      "\n",
      "Question 179: Does wet AMD often result in retinal scarring? a) Yes b) No c) Rarely d) Only early stages\n",
      "Ground Truth: A (from 'a) Yes')\n",
      "With Context: A\n",
      "Without Context: A\n",
      "\n",
      "Question 180: Is calcium deficiency a primary AMD cause? a) Yes b) No c) Sometimes d) Unknown\n",
      "Ground Truth: B (from 'b) No')\n",
      "With Context: D\n",
      "Without Context: B\n",
      "\n",
      "Question 181: Which perceptual ability does AMD affect? a) Distance estimation b) Sound pitch c) Taste intensity d) Smell acuity\n",
      "Ground Truth: A (from 'a) Distance estimation')\n",
      "With Context: A\n",
      "Without Context: D\n",
      "\n",
      "Question 182: Does dry AMD inevitably progress to wet AMD? a) Yes b) No c) Often d) Rarely\n",
      "Ground Truth: B (from 'b) No')\n",
      "With Context: B\n",
      "Without Context: B\n",
      "\n",
      "Question 183: What is the approximate U.S. prevalence of AMD? a) 2 million b) 6 million c) 11 million d) 15 million\n",
      "Ground Truth: C (from 'c) 11 million')\n",
      "With Context: C\n",
      "Without Context: D\n",
      "\n",
      "Question 184: Can avoiding all dairy prevent wet AMD? a) Yes b) No c) Sometimes d) Only with diet\n",
      "Ground Truth: B (from 'b) No')\n",
      "With Context: B\n",
      "Without Context: D\n",
      "\n",
      "Question 185: What retinal change is a hallmark of early AMD? a) Neovascularization b) Drusen accumulation c) Optic nerve atrophy d) Corneal thinning\n",
      "Ground Truth: B (from 'b) Drusen accumulation')\n",
      "With Context: B\n",
      "Without Context: C\n",
      "\n",
      "Question 186: Which symptom distinguishes wet AMD from dry AMD? a) Gradual vision decline b) Sudden central distortion c) Peripheral haze d) Eye fatigue\n",
      "Ground Truth: B (from 'b) Sudden central distortion')\n",
      "With Context: B\n",
      "Without Context: C\n",
      "\n",
      "Question 187: What is the final stage of advanced dry AMD? a) Choroidal rupture b) Geographic atrophy c) Retinal detachment d) Macular edema\n",
      "Ground Truth: B (from 'b) Geographic atrophy')\n",
      "With Context: B\n",
      "Without Context: B\n",
      "\n",
      "Question 188: Which lifestyle choice is a significant AMD risk factor? a) Smoking b) Daily meditation c) Drinking tea d) Moderate exercise\n",
      "Ground Truth: A (from 'a) Smoking')\n",
      "With Context: A\n",
      "Without Context: A\n",
      "\n",
      "Question 189: Which AMD type involves abnormal blood vessel growth? a) Early AMD b) Wet AMD c) Dry AMD d) Intermediate AMD\n",
      "Ground Truth: B (from 'b) Wet AMD')\n",
      "With Context: D\n",
      "Without Context: B\n",
      "\n",
      "Question 190: Is there a complete cure for late-stage AMD? a) Yes b) No c) In trials d) Only for dry AMD\n",
      "Ground Truth: B (from 'b) No')\n",
      "With Context: B\n",
      "Without Context: C\n",
      "\n",
      "Question 191: What medication is a primary treatment for wet AMD? a) Anti-VEGF injections b) Painkillers c) Antihistamines d) Eye drops\n",
      "Ground Truth: A (from 'a) Anti-VEGF injections')\n",
      "With Context: A\n",
      "Without Context: A\n",
      "\n",
      "Question 192: Which vision component is least impacted by AMD? a) Central vision b) Peripheral vision c) Contrast sensitivity d) Color acuity\n",
      "Ground Truth: B (from 'b) Peripheral vision')\n",
      "With Context: B\n",
      "Without Context: C\n",
      "\n",
      "Question 193: What inherited factor raises AMD likelihood? a) Family history b) Eye size c) Hair type d) Skin texture\n",
      "Ground Truth: A (from 'a) Family history')\n",
      "With Context: A\n",
      "Without Context: A\n",
      "\n",
      "Question 194: Which diagnostic approach is useless for AMD? a) Amsler grid b) OCT c) Hearing test d) Fundus photography\n",
      "Ground Truth: C (from 'c) Hearing test')\n",
      "With Context: C\n",
      "Without Context: D\n",
      "\n",
      "Question 195: What simple test tracks AMD-related vision changes? a) Blood sugar test b) Amsler grid c) Reflex test d) Temperature check\n",
      "Ground Truth: B (from 'b) Amsler grid')\n",
      "With Context: B\n",
      "Without Context: B\n",
      "\n",
      "Question 196: Which AMD variant is most common among patients? a) Wet AMD b) Dry AMD c) Both equally d) Neither\n",
      "Ground Truth: B (from 'b) Dry AMD')\n",
      "With Context: B\n",
      "Without Context: A\n",
      "\n",
      "Question 197: Can wearing sunglasses fully prevent AMD onset? a) Yes b) No c) Sometimes d) Only with diet\n",
      "Ground Truth: B (from 'b) No')\n",
      "With Context: B\n",
      "Without Context: B\n",
      "\n",
      "Question 198: Which metabolic disorder is tied to increased AMD risk? a) Diabetes b) Thyroid disease c) Anemia d) Gout\n",
      "Ground Truth: A (from 'a) Diabetes')\n",
      "With Context: D\n",
      "Without Context: A\n",
      "\n",
      "Question 199: What is the focus of dry AMD therapy? a) Full reversal b) Slowing progression c) Pain management d) Surgical repair\n",
      "Ground Truth: B (from 'b) Slowing progression')\n",
      "With Context: B\n",
      "Without Context: B\n",
      "\n",
      "Question 200: What retinal deposit is typical in dry AMD? a) Blood clots b) Drusen c) Lipid plaques d) Calcium crystals\n",
      "Ground Truth: B (from 'b) Drusen')\n",
      "With Context: B\n",
      "Without Context: B\n",
      "\n",
      "Question 201: At what age does AMD typically become more prevalent? a) 40 b) 50 c) 60 d) 70\n",
      "Ground Truth: C (from 'c) 60')\n",
      "With Context: C\n",
      "Without Context: C\n",
      "\n",
      "Question 202: What marks the onset of wet AMD? a) Slow peripheral fade b) Rapid central blur c) Eye dryness d) Floaters\n",
      "Ground Truth: B (from 'b) Rapid central blur')\n",
      "With Context: B\n",
      "Without Context: C\n",
      "\n",
      "Question 203: Is AMD a contagious condition? a) Yes b) No c) Rarely d) Only through contact\n",
      "Ground Truth: B (from 'b) No')\n",
      "With Context: B\n",
      "Without Context: A\n",
      "\n",
      "Question 204: Which body condition elevates AMD risk? a) Obesity b) Low weight c) High fitness d) Normal cholesterol\n",
      "Ground Truth: A (from 'a) Obesity')\n",
      "With Context: A\n",
      "Without Context: A\n",
      "\n",
      "Question 205: Can surgery restore vision lost to AMD? a) Yes b) No c) Partially d) Only wet AMD\n",
      "Ground Truth: B (from 'b) No')\n",
      "With Context: C\n",
      "Without Context: D\n",
      "\n",
      "Question 206: What perceptual change does AMD often induce? a) Color distortion b) Sound muffling c) Taste alteration d) Peripheral narrowing\n",
      "Ground Truth: A (from 'a) Color distortion')\n",
      "With Context: D\n",
      "Without Context: D\n",
      "\n",
      "Question 207: Is prolonged screen exposure a proven AMD cause? a) Yes b) No c) Sometimes d) Only with UV\n",
      "Ground Truth: B (from 'b) No')\n",
      "With Context: B\n",
      "Without Context: B\n",
      "\n",
      "Question 208: What advanced imaging confirms AMD? a) OCT b) MRI c) X-ray d) Ultrasound\n",
      "Ground Truth: A (from 'a) OCT')\n",
      "With Context: A\n",
      "Without Context: A\n",
      "\n",
      "Question 209: What retinal effect does wet AMD produce? a) Drusen dissolution b) Fluid buildup c) Lens opacity d) Optic nerve damage\n",
      "Ground Truth: B (from 'b) Fluid buildup')\n",
      "With Context: B\n",
      "Without Context: A\n",
      "\n",
      "Question 210: Which sex has a marginally higher AMD rate? a) Men b) Women c) Equal d) Unknown\n",
      "Ground Truth: B (from 'b) Women')\n",
      "With Context: C\n",
      "Without Context: C\n",
      "\n",
      "Question 211: Are over-the-counter drops effective for AMD treatment? a) Yes b) No c) Sometimes d) Only dry AMD\n",
      "Ground Truth: B (from 'b) No')\n",
      "With Context: B\n",
      "Without Context: D\n",
      "\n",
      "Question 212: Which circulatory issue boosts AMD risk? a) Low pressure b) Hypertension c) Low pulse d) High oxygen\n",
      "Ground Truth: B (from 'b) Hypertension')\n",
      "With Context: B\n",
      "Without Context: B\n",
      "\n",
      "Question 213: What blood lipid level correlates with AMD? a) High cholesterol b) Low cholesterol c) High triglycerides d) Low HDL\n",
      "Ground Truth: A (from 'a) High cholesterol')\n",
      "With Context: D\n",
      "Without Context: A\n",
      "\n",
      "Question 214: Can fish oil alone stop AMD progression? a) Yes b) No c) Partially d) Only with AREDS\n",
      "Ground Truth: B (from 'b) No')\n",
      "With Context: B\n",
      "Without Context: B\n",
      "\n",
      "Question 215: Which eye part is unaffected by AMD? a) Macula b) Optic nerve c) Choroid d) Retina\n",
      "Ground Truth: B (from 'b) Optic nerve')\n",
      "With Context: D\n",
      "Without Context: D\n",
      "\n",
      "Question 216: What light-based treatment addresses wet AMD? a) LASIK b) Photodynamic therapy c) UV therapy d) Laser correction\n",
      "Ground Truth: B (from 'b) Photodynamic therapy')\n",
      "With Context: B\n",
      "Without Context: B\n",
      "\n",
      "Question 217: Does AMD elevate physical hazards for seniors? a) Falls b) Fractures c) Sprains d) Bruising\n",
      "Ground Truth: A (from 'a) Falls')\n",
      "With Context: A\n",
      "Without Context: C\n",
      "\n",
      "Question 218: Does AMD usually start in one eye only? a) Yes b) No c) Always d) Rarely\n",
      "Ground Truth: B (from 'b) No')\n",
      "With Context: A\n",
      "Without Context: A\n",
      "\n",
      "Question 219: What supplement formula helps manage dry AMD? a) AREDS b) High-dose calcium c) Iron supplements d) Protein shakes\n",
      "Ground Truth: A (from 'a) AREDS')\n",
      "With Context: A\n",
      "Without Context: A\n",
      "\n",
      "Question 220: Which population has the highest AMD prevalence? a) Caucasians b) African Americans c) Asians d) Latinos\n",
      "Ground Truth: A (from 'a) Caucasians')\n",
      "With Context: C\n",
      "Without Context: D\n",
      "\n",
      "Question 221: Does wet AMD guarantee total vision loss? a) Yes b) No c) Often d) Rarely\n",
      "Ground Truth: B (from 'b) No')\n",
      "With Context: B\n",
      "Without Context: B\n",
      "\n",
      "Question 222: What visual effect does AMD often cause? a) Wavy lines b) Peripheral loss c) Flickering lights d) Blurred edges\n",
      "Ground Truth: A (from 'a) Wavy lines')\n",
      "With Context: B\n",
      "Without Context: C\n",
      "\n",
      "Question 223: Is AMD a viral disease? a) Yes b) No c) Sometimes d) Only wet AMD\n",
      "Ground Truth: B (from 'b) No')\n",
      "With Context: B\n",
      "Without Context: B\n",
      "\n",
      "Question 224: Which spatial perception does AMD alter? a) Depth perception b) Sound location c) Smell direction d) Touch precision\n",
      "Ground Truth: A (from 'a) Depth perception')\n",
      "With Context: A\n",
      "Without Context: A\n",
      "\n",
      "Question 225: Can AMD occur in infants? a) Yes b) No c) Rarely d) Only genetically\n",
      "Ground Truth: B (from 'b) No')\n",
      "With Context: A\n",
      "Without Context: A\n",
      "\n",
      "Question 226: Does AMD typically require optical aids? a) Yes b) No c) Sometimes d) Never\n",
      "Ground Truth: A (from 'a) Yes')\n",
      "With Context: A\n",
      "Without Context: B\n",
      "\n",
      "Question 227: What environmental factor contributes to AMD? a) Noise b) UV light c) Humidity d) Cold\n",
      "Ground Truth: B (from 'b) UV light')\n",
      "With Context: C\n",
      "Without Context: B\n",
      "\n",
      "Question 228: Can exercise alone cure AMD? a) Yes b) No c) Partially d) Only early stages\n",
      "Ground Truth: B (from 'b) No')\n",
      "With Context: B\n",
      "Without Context: B\n",
      "\n",
      "Question 229: Which vision aspect remains most intact with AMD? a) Central vision b) Peripheral vision c) Night vision d) Color vision\n",
      "Ground Truth: B (from 'b) Peripheral vision')\n",
      "With Context: B\n",
      "Without Context: D\n",
      "\n",
      "Question 230: What exam confirms AMD presence? a) Blood test b) Dilated eye exam c) Hearing test d) Skin test\n",
      "Ground Truth: B (from 'b) Dilated eye exam')\n",
      "With Context: B\n",
      "Without Context: B\n",
      "\n",
      "Question 231: Does dim lighting directly cause AMD? a) Yes b) No c) Sometimes d) Only prolonged\n",
      "Ground Truth: B (from 'b) No')\n",
      "With Context: B\n",
      "Without Context: B\n",
      "\n",
      "Question 232: Which identification task does AMD complicate? a) Face recognition b) Sound identification c) Smell identification d) Taste identification\n",
      "Ground Truth: A (from 'a) Face recognition')\n",
      "With Context: A\n",
      "Without Context: A\n",
      "\n",
      "Question 233: Are antibiotics a standard AMD treatment? a) Yes b) No c) Sometimes d) Only for wet AMD\n",
      "Ground Truth: B (from 'b) No')\n",
      "With Context: B\n",
      "Without Context: B\n",
      "\n",
      "Question 234: What demographic trait most affects AMD risk? a) Age b) Height c) Weight d) Eye color\n",
      "Ground Truth: A (from 'a) Age')\n",
      "With Context: A\n",
      "Without Context: A\n",
      "\n",
      "Question 235: Which retinal event defines wet AMD? a) Drusen increase b) Neovascularization c) Optic nerve swelling d) Lens clouding\n",
      "Ground Truth: B (from 'b) Neovascularization')\n",
      "With Context: B\n",
      "Without Context: B\n",
      "\n",
      "Question 236: Can total sunlight avoidance prevent AMD? a) Yes b) No c) Partially d) Only with diet\n",
      "Ground Truth: B (from 'b) No')\n",
      "With Context: B\n",
      "Without Context: B\n",
      "\n",
      "Question 237: Which nutrient is absent from AREDS supplements? a) Vitamin C b) Vitamin E c) Vitamin K d) Zinc\n",
      "Ground Truth: C (from 'c) Vitamin K')\n",
      "With Context: C\n",
      "Without Context: D\n",
      "\n",
      "Question 238: What does fluorescein angiography detect in wet AMD? a) Drusen size b) Blood vessel leakage c) Lens clarity d) Corneal damage\n",
      "Ground Truth: B (from 'b) Blood vessel leakage')\n",
      "With Context: B\n",
      "Without Context: B\n",
      "\n",
      "Question 239: Which regions see higher AMD incidence? a) Tropical rural b) Developed urban c) Arctic rural d) Desert urban\n",
      "Ground Truth: B (from 'b) Developed urban')\n",
      "With Context: C\n",
      "Without Context: C\n",
      "\n",
      "Question 240: Can wet AMD be fully reversed with current treatments? a) Yes b) No c) Sometimes d) Only early stages\n",
      "Ground Truth: B (from 'b) No')\n",
      "With Context: B\n",
      "Without Context: B\n",
      "\n",
      "Question 241: What retinal area is primarily involved in AMD? a) Optic disc b) Macula c) Peripheral retina d) Iris\n",
      "Ground Truth: B (from 'b) Macula')\n",
      "With Context: B\n",
      "Without Context: B\n",
      "\n",
      "Question 242: Is poor hygiene a direct cause of AMD? a) Yes b) No c) Sometimes d) Only severe cases\n",
      "Ground Truth: B (from 'b) No')\n",
      "With Context: B\n",
      "Without Context: B\n",
      "\n",
      "Question 243: What device assists AMD-related vision loss? a) Hearing aids b) Low vision aids c) Braces d) Pacemakers\n",
      "Ground Truth: B (from 'b) Low vision aids')\n",
      "With Context: B\n",
      "Without Context: B\n",
      "\n",
      "Question 244: Which daily activity does AMD most impair? a) Driving b) Listening c) Tasting d) Smelling\n",
      "Ground Truth: A (from 'a) Driving')\n",
      "With Context: A\n",
      "Without Context: A\n",
      "\n",
      "Question 245: Does excessive alcohol directly trigger AMD? a) Yes b) No c) Sometimes d) Only with smoking\n",
      "Ground Truth: B (from 'b) No')\n",
      "With Context: B\n",
      "Without Context: B\n",
      "\n",
      "Question 246: What genetic predisposition increases AMD risk? a) Eye color b) Family history c) Skin pigmentation d) Hair thickness\n",
      "Ground Truth: B (from 'b) Family history')\n",
      "With Context: B\n",
      "Without Context: B\n",
      "\n",
      "Question 247: Which retinal issue is specific to wet AMD? a) Drusen growth b) Subretinal hemorrhage c) Optic nerve thinning d) Lens detachment\n",
      "Ground Truth: B (from 'b) Subretinal hemorrhage')\n",
      "With Context: B\n",
      "Without Context: C\n",
      "\n",
      "Question 248: Is staring at screens a primary AMD cause? a) Yes b) No c) Sometimes d) Only prolonged\n",
      "Ground Truth: B (from 'b) No')\n",
      "With Context: B\n",
      "Without Context: B\n",
      "\n",
      "Question 249: What regular checkup identifies AMD early? a) Blood test b) Eye exam c) Hearing test d) Skin exam\n",
      "Ground Truth: B (from 'b) Eye exam')\n",
      "With Context: B\n",
      "Without Context: C\n",
      "\n",
      "Question 250: Are floaters a typical AMD symptom? a) Yes b) No c) Sometimes d) Only late stages\n",
      "Ground Truth: B (from 'b) No')\n",
      "With Context: A\n",
      "Without Context: C\n",
      "\n",
      "Question 251: Which eye color may heighten AMD risk? a) Brown b) Blue c) Green d) Gray\n",
      "Ground Truth: B (from 'b) Blue')\n",
      "With Context: A\n",
      "Without Context: D\n",
      "\n",
      "Question 252: Can vitamin E alone cure AMD? a) Yes b) No c) Sometimes d) Only with zinc\n",
      "Ground Truth: B (from 'b) No')\n",
      "With Context: B\n",
      "Without Context: B\n",
      "\n",
      "Question 253: What vision defect is common in AMD? a) Peripheral blur b) Central blind spots c) Flashing lights d) Double images\n",
      "Ground Truth: B (from 'b) Central blind spots')\n",
      "With Context: B\n",
      "Without Context: C\n",
      "\n",
      "Question 254: Does high fat intake directly cause AMD? a) Yes b) No c) Sometimes d) Only with obesity\n",
      "Ground Truth: B (from 'b) No')\n",
      "With Context: A\n",
      "Without Context: B\n",
      "\n",
      "Question 255: What lifestyle adjustment lowers AMD risk? a) More smoking b) Quitting smoking c) Less exercise d) High sugar diet\n",
      "Ground Truth: B (from 'b) Quitting smoking')\n",
      "With Context: B\n",
      "Without Context: B\n",
      "\n",
      "Question 256: Is night vision loss the main AMD effect? a) Yes b) No c) Sometimes d) Only wet AMD\n",
      "Ground Truth: B (from 'b) No')\n",
      "With Context: A\n",
      "Without Context: B\n",
      "\n",
      "Question 257: What retinal imaging aids AMD diagnosis? a) CT scan b) Retina scan c) MRI d) PET scan\n",
      "Ground Truth: B (from 'b) Retina scan')\n",
      "With Context: C\n",
      "Without Context: B\n",
      "\n",
      "Question 258: Can diet alone reverse wet AMD? a) Yes b) No c) Sometimes d) Only early stages\n",
      "Ground Truth: B (from 'b) No')\n",
      "With Context: B\n",
      "Without Context: B\n",
      "\n",
      "Question 259: Which visual skill does AMD affect? a) Low-light vision b) Sound detection c) Taste perception d) Balance\n",
      "Ground Truth: A (from 'a) Low-light vision')\n",
      "With Context: D\n",
      "Without Context: A\n",
      "\n",
      "Question 260: Is sleep deprivation a direct AMD cause? a) Yes b) No c) Sometimes d) Only chronic\n",
      "Ground Truth: B (from 'b) No')\n",
      "With Context: B\n",
      "Without Context: A\n",
      "\n",
      "Question 261: What routine evaluation monitors AMD? a) Blood test b) Eye checkup c) Hearing exam d) Skin test\n",
      "Ground Truth: B (from 'b) Eye checkup')\n",
      "With Context: B\n",
      "Without Context: B\n",
      "\n",
      "Question 262: Does dry AMD typically cause retinal bleeding? a) Yes b) No c) Sometimes d) Only late stages\n",
      "Ground Truth: B (from 'b) No')\n",
      "With Context: B\n",
      "Without Context: B\n",
      "\n",
      "Question 263: Which group has lower AMD prevalence? a) Caucasians b) African Americans c) Asians d) Europeans\n",
      "Ground Truth: B (from 'b) African Americans')\n",
      "With Context: C\n",
      "Without Context: C\n",
      "\n",
      "Question 264: Can advanced AMD lead to visual hallucinations? a) Yes b) No c) Rarely d) Only wet AMD\n",
      "Ground Truth: A (from 'a) Yes')\n",
      "With Context: A\n",
      "Without Context: A\n",
      "\n",
      "Question 265: Is AMD limited to those over 80? a) Yes b) No c) Usually d) Rarely\n",
      "Ground Truth: B (from 'b) No')\n",
      "With Context: B\n",
      "Without Context: B\n",
      "\n",
      "Question 266: What cellular stress is linked to AMD? a) Oxidative stress b) Bone stress c) Muscle stress d) Skin stress\n",
      "Ground Truth: A (from 'a) Oxidative stress')\n",
      "With Context: A\n",
      "Without Context: A\n",
      "\n",
      "Question 267: Is herbal therapy a standard AMD cure? a) Yes b) No c) Sometimes d) Only experimental\n",
      "Ground Truth: B (from 'b) No')\n",
      "With Context: D\n",
      "Without Context: D\n",
      "\n",
      "Question 268: Which psychological issue may AMD worsen? a) Depression b) Happiness c) Focus d) Energy\n",
      "Ground Truth: A (from 'a) Depression')\n",
      "With Context: A\n",
      "Without Context: A\n",
      "\n",
      "Question 269: Do contact lenses directly induce AMD? a) Yes b) No c) Sometimes d) Only long-term\n",
      "Ground Truth: B (from 'b) No')\n",
      "With Context: B\n",
      "Without Context: B\n",
      "\n",
      "Question 270: What photographic technique assists AMD diagnosis? a) Fundus photography b) X-ray c) Infrared scan d) Ultrasound\n",
      "Ground Truth: A (from 'a) Fundus photography')\n",
      "With Context: A\n",
      "Without Context: A\n",
      "\n",
      "Question 271: Does wet AMD frequently cause retinal scarring? a) Yes b) No c) Rarely d) Only early stages\n",
      "Ground Truth: A (from 'a) Yes')\n",
      "With Context: A\n",
      "Without Context: A\n",
      "\n",
      "Question 272: Is vitamin B12 deficiency a direct AMD cause? a) Yes b) No c) Sometimes d) Unknown\n",
      "Ground Truth: B (from 'b) No')\n",
      "With Context: B\n",
      "Without Context: B\n",
      "\n",
      "Question 273: Which spatial skill does AMD disrupt? a) Distance judgment b) Sound direction c) Taste distinction d) Smell detection\n",
      "Ground Truth: A (from 'a) Distance judgment')\n",
      "With Context: A\n",
      "Without Context: A\n",
      "\n",
      "Question 274: Does dry AMD always progress to wet AMD? a) Yes b) No c) Often d) Rarely\n",
      "Ground Truth: B (from 'b) No')\n",
      "With Context: B\n",
      "Without Context: B\n",
      "\n",
      "Question 275: What is the estimated U.S. AMD prevalence? a) 3 million b) 7 million c) 11 million d) 18 million\n",
      "Ground Truth: C (from 'c) 11 million')\n",
      "With Context: C\n",
      "Without Context: D\n",
      "\n",
      "Question 276: Can avoiding all protein prevent wet AMD? a) Yes b) No c) Sometimes d) Only with diet\n",
      "Ground Truth: B (from 'b) No')\n",
      "With Context: B\n",
      "Without Context: B\n",
      "\n",
      "Question 277: Which retinal sign is most associated with intermediate AMD? a) Fluid buildup b) Large drusen c) Optic nerve damage d) Corneal haze\n",
      "Ground Truth: B (from 'b) Large drusen')\n",
      "With Context: A\n",
      "Without Context: B\n",
      "\n",
      "Question 278: What is a distinguishing feature of wet AMD onset? a) Slow peripheral loss b) Rapid central distortion c) Color enhancement d) Eye irritation\n",
      "Ground Truth: B (from 'b) Rapid central distortion')\n",
      "With Context: B\n",
      "Without Context: A\n",
      "\n",
      "Question 279: What advanced condition does dry AMD potentially lead to? a) Retinal tear b) Geographic atrophy c) Glaucoma d) Cataract\n",
      "Ground Truth: B (from 'b) Geographic atrophy')\n",
      "With Context: B\n",
      "Without Context: B\n",
      "\n",
      "Question 280: Which behavior is a well-established AMD risk? a) Smoking b) Yoga c) Drinking water d) Light exercise\n",
      "Ground Truth: A (from 'a) Smoking')\n",
      "With Context: A\n",
      "Without Context: A\n",
      "\n",
      "Question 281: Which AMD form features choroidal neovascularization? a) Dry AMD b) Wet AMD c) Early AMD d) Late dry AMD\n",
      "Ground Truth: B (from 'b) Wet AMD')\n",
      "With Context: B\n",
      "Without Context: B\n",
      "\n",
      "Question 282: Is there a definitive cure for AMD as of 2025? a) Yes b) No c) In trials d) Only wet AMD\n",
      "Ground Truth: B (from 'b) No')\n",
      "With Context: B\n",
      "Without Context: C\n",
      "\n",
      "Question 283: What drug class treats wet AMD by targeting blood vessels? a) Anti-VEGF b) Antibiotics c) Steroids d) Analgesics\n",
      "Ground Truth: A (from 'a) Anti-VEGF')\n",
      "With Context: A\n",
      "Without Context: A\n",
      "\n",
      "Question 284: Which visual field is most preserved in AMD? a) Central b) Peripheral c) Color d) Depth\n",
      "Ground Truth: B (from 'b) Peripheral')\n",
      "With Context: C\n",
      "Without Context: C\n",
      "\n",
      "Question 285: What familial trait heightens AMD risk? a) Family history b) Eye shape c) Skin tone d) Hair color\n",
      "Ground Truth: A (from 'a) Family history')\n",
      "With Context: B\n",
      "Without Context: A\n",
      "\n",
      "Question 286: Which method is not used to diagnose AMD? a) OCT b) Amsler grid c) Lung function test d) Fundus photography\n",
      "Ground Truth: C (from 'c) Lung function test')\n",
      "With Context: C\n",
      "Without Context: C\n",
      "\n",
      "Question 287: What patient tool monitors AMD symptoms at home? a) Blood pressure monitor b) Amsler grid c) Thermometer d) Glucose meter\n",
      "Ground Truth: B (from 'b) Amsler grid')\n",
      "With Context: B\n",
      "Without Context: B\n",
      "\n",
      "Question 288: Which AMD type dominates in prevalence? a) Wet AMD b) Dry AMD c) Both equally d) Neither\n",
      "Ground Truth: B (from 'b) Dry AMD')\n",
      "With Context: A\n",
      "Without Context: B\n",
      "\n",
      "Question 289: Can UV protection eliminate AMD risk entirely? a) Yes b) No c) Partially d) Only with diet\n",
      "Ground Truth: B (from 'b) No')\n",
      "With Context: C\n",
      "Without Context: B\n",
      "\n",
      "Question 290: Which systemic disease correlates with higher AMD risk? a) Diabetes b) Asthma c) Arthritis d) Flu\n",
      "Ground Truth: A (from 'a) Diabetes')\n",
      "With Context: A\n",
      "Without Context: C\n",
      "\n",
      "Question 291: What is the primary aim of dry AMD management? a) Cure b) Slow progression c) Reverse damage d) Relieve discomfort\n",
      "Ground Truth: B (from 'b) Slow progression')\n",
      "With Context: B\n",
      "Without Context: C\n",
      "\n",
      "Question 292: What retinal marker is prominent in dry AMD? a) Blood leakage b) Drusen c) Nerve swelling d) Lens opacity\n",
      "Ground Truth: B (from 'b) Drusen')\n",
      "With Context: B\n",
      "Without Context: B\n",
      "\n",
      "Question 293: Above what age does AMD risk sharply rise? a) 40 b) 50 c) 60 d) 70\n",
      "Ground Truth: C (from 'c) 60')\n",
      "With Context: C\n",
      "Without Context: D\n",
      "\n",
      "Question 294: What is a key indicator of wet AMD onset? a) Gradual blur b) Sudden vision drop c) Peripheral fade d) Eye redness\n",
      "Ground Truth: B (from 'b) Sudden vision drop')\n",
      "With Context: A\n",
      "Without Context: C\n",
      "\n",
      "Question 295: Is AMD communicable between individuals? a) Yes b) No c) Rarely d) Only genetically\n",
      "Ground Truth: B (from 'b) No')\n",
      "With Context: B\n",
      "Without Context: B\n",
      "\n",
      "Question 296: Which physical state increases AMD risk? a) Obesity b) Low weight c) High fitness d) Normal BMI\n",
      "Ground Truth: A (from 'a) Obesity')\n",
      "With Context: A\n",
      "Without Context: A\n",
      "\n",
      "Question 297: Can surgery fully correct AMD vision loss? a) Yes b) No c) Partially d) Only wet AMD\n",
      "Ground Truth: B (from 'b) No')\n",
      "With Context: B\n",
      "Without Context: B\n",
      "\n",
      "Question 298: What visual change is common with AMD? a) Color distortion b) Sound distortion c) Taste change d) Peripheral loss\n",
      "Ground Truth: A (from 'a) Color distortion')\n",
      "With Context: D\n",
      "Without Context: D\n",
      "\n",
      "Question 299: Does excessive TV watching directly cause AMD? a) Yes b) No c) Sometimes d) Only prolonged\n",
      "Ground Truth: B (from 'b) No')\n",
      "With Context: B\n",
      "Without Context: B\n",
      "\n",
      "Question 300: What imaging technology is vital for AMD detection? a) OCT b) X-ray c) MRI d) CT scan\n",
      "Ground Truth: A (from 'a) OCT')\n",
      "With Context: A\n",
      "Without Context: A\n",
      "\n",
      "Question 301: What does wet AMD often introduce to the retina? a) Drusen reduction b) Fluid leakage c) Lens thickening d) Optic nerve swelling\n",
      "Ground Truth: B (from 'b) Fluid leakage')\n",
      "With Context: B\n",
      "Without Context: B\n",
      "\n",
      "Question 302: Which gender shows a slight AMD prevalence increase? a) Men b) Women c) Equal d) Unknown\n",
      "Ground Truth: B (from 'b) Women')\n",
      "With Context: C\n",
      "Without Context: A\n",
      "\n",
      "Question 303: Are over-the-counter eye drops a cure for AMD? a) Yes b) No c) Sometimes d) Only dry AMD\n",
      "Ground Truth: B (from 'b) No')\n",
      "With Context: B\n",
      "Without Context: B\n",
      "\n",
      "Question 304: Which cardiovascular factor elevates AMD risk? a) Low pressure b) Hypertension c) Low heart rate d) High oxygen\n",
      "Ground Truth: B (from 'b) Hypertension')\n",
      "With Context: B\n",
      "Without Context: C\n",
      "\n",
      "Question 305: What lipid condition is linked to AMD risk? a) High cholesterol b) Low cholesterol c) High LDL d) Low triglycerides\n",
      "Ground Truth: A (from 'a) High cholesterol')\n",
      "With Context: B\n",
      "Without Context: A\n",
      "\n",
      "Question 306: Can dietary zinc alone prevent AMD? a) Yes b) No c) Partially d) Only with AREDS\n",
      "Ground Truth: B (from 'b) No')\n",
      "With Context: B\n",
      "Without Context: B\n",
      "\n",
      "Question 307: Which eye structure is typically spared in AMD? a) Macula b) Optic nerve c) Choroid d) Retina\n",
      "Ground Truth: B (from 'b) Optic nerve')\n",
      "With Context: C\n",
      "Without Context: C\n",
      "\n",
      "Question 308: What therapy uses light to treat wet AMD? a) LASIK b) Photodynamic therapy c) UV therapy d) Laser surgery\n",
      "Ground Truth: B (from 'b) Photodynamic therapy')\n",
      "With Context: B\n",
      "Without Context: B\n",
      "\n",
      "Question 309: Does AMD increase specific risks for the elderly? a) Falls b) Hearing loss c) Muscle strain d) Skin rash\n",
      "Ground Truth: A (from 'a) Falls')\n",
      "With Context: A\n",
      "Without Context: B\n",
      "\n",
      "Question 310: Is AMD usually unilateral at first? a) Yes b) No c) Always d) Rarely\n",
      "Ground Truth: B (from 'b) No')\n",
      "With Context: B\n",
      "Without Context: A\n",
      "\n",
      "Question 311: What supplement plan supports dry AMD management? a) AREDS b) High-dose vitamin D c) Calcium tablets d) Protein supplements\n",
      "Ground Truth: A (from 'a) AREDS')\n",
      "With Context: A\n",
      "Without Context: A\n",
      "\n",
      "Question 312: Which ethnic group has a higher AMD incidence? a) Caucasians b) African Americans c) Asians d) Hispanics\n",
      "Ground Truth: A (from 'a) Caucasians')\n",
      "With Context: C\n",
      "Without Context: C\n",
      "\n",
      "Question 313: Does wet AMD always lead to complete blindness? a) Yes b) No c) Often d) Rarely\n",
      "Ground Truth: B (from 'b) No')\n",
      "With Context: B\n",
      "Without Context: B\n",
      "\n",
      "Question 314: What visual alteration does AMD frequently cause? a) Wavy lines b) Peripheral tunnel c) Flashing lights d) Double vision\n",
      "Ground Truth: A (from 'a) Wavy lines')\n",
      "With Context: A\n",
      "Without Context: B\n",
      "\n",
      "Question 315: Is AMD caused by fungal infection? a) Yes b) No c) Sometimes d) Only wet AMD\n",
      "Ground Truth: B (from 'b) No')\n",
      "With Context: B\n",
      "Without Context: B\n",
      "\n",
      "Question 316: Which visual ability does AMD impair? a) Depth perception b) Sound perception c) Taste perception d) Smell perception\n",
      "Ground Truth: A (from 'a) Depth perception')\n",
      "With Context: A\n",
      "Without Context: A\n",
      "\n",
      "Question 317: Can AMD affect young children? a) Yes b) No c) Rarely d) Only with genetics\n",
      "Ground Truth: B (from 'b) No')\n",
      "With Context: A\n",
      "Without Context: A\n",
      "\n",
      "Question 318: Does AMD often necessitate vision aids? a) Yes b) No c) Sometimes d) Never\n",
      "Ground Truth: A (from 'a) Yes')\n",
      "With Context: A\n",
      "Without Context: B\n",
      "\n",
      "Question 319: What light exposure increases AMD risk? a) UV light b) Infrared light c) Blue light d) Visible light\n",
      "Ground Truth: A (from 'a) UV light')\n",
      "With Context: C\n",
      "Without Context: C\n",
      "\n",
      "Question 320: Can physical fitness alone reverse AMD? a) Yes b) No c) Partially d) Only early stages\n",
      "Ground Truth: B (from 'b) No')\n",
      "With Context: B\n",
      "Without Context: B\n",
      "\n",
      "Question 321: Which vision type is least altered by AMD? a) Central vision b) Peripheral vision c) Night vision d) Color vision\n",
      "Ground Truth: B (from 'b) Peripheral vision')\n",
      "With Context: B\n",
      "Without Context: D\n",
      "\n",
      "Question 322: What procedure is key to AMD diagnosis? a) Blood test b) Dilated eye exam c) Hearing test d) Skin biopsy\n",
      "Ground Truth: B (from 'b) Dilated eye exam')\n",
      "With Context: B\n",
      "Without Context: B\n",
      "\n",
      "Question 323: Does reading in dim light directly induce AMD? a) Yes b) No c) Sometimes d) Only prolonged\n",
      "Ground Truth: B (from 'b) No')\n",
      "With Context: B\n",
      "Without Context: B\n",
      "\n",
      "Question 324: Which recognition skill does AMD disrupt? a) Face recognition b) Sound recognition c) Smell recognition d) Taste recognition\n",
      "Ground Truth: A (from 'a) Face recognition')\n",
      "With Context: A\n",
      "Without Context: C\n",
      "\n",
      "Question 325: Which retinal layer shows early signs of AMD? a) Inner plexiform b) Retinal pigment epithelium c) Ganglion cell layer d) Cornea\n",
      "Ground Truth: B (from 'b) Retinal pigment epithelium')\n",
      "With Context: B\n",
      "Without Context: B\n",
      "\n",
      "Question 326: What is a primary visual clue of wet AMD? a) Peripheral shadow b) Central wavy lines c) Enhanced night vision d) Eye strain\n",
      "Ground Truth: B (from 'b) Central wavy lines')\n",
      "With Context: B\n",
      "Without Context: C\n",
      "\n",
      "Question 327: What is the end-stage outcome of severe dry AMD? a) Macular hole b) Geographic atrophy c) Retinal detachment d) Choroidal hemorrhage\n",
      "Ground Truth: B (from 'b) Geographic atrophy')\n",
      "With Context: B\n",
      "Without Context: B\n",
      "\n",
      "Question 328: Which habit is a proven AMD risk factor? a) Smoking b) Swimming c) Reading daily d) Drinking juice\n",
      "Ground Truth: A (from 'a) Smoking')\n",
      "With Context: A\n",
      "Without Context: C\n",
      "\n",
      "Question 329: Which AMD type is marked by blood vessel proliferation? a) Early AMD b) Wet AMD c) Dry AMD d) Intermediate AMD\n",
      "Ground Truth: B (from 'b) Wet AMD')\n",
      "With Context: B\n",
      "Without Context: B\n",
      "\n",
      "Question 330: Is there a known cure for advanced AMD today? a) Yes b) No c) Under testing d) Only for wet AMD\n",
      "Ground Truth: B (from 'b) No')\n",
      "With Context: B\n",
      "Without Context: B\n",
      "\n",
      "Question 331: What injection therapy is standard for wet AMD? a) Anti-VEGF b) Insulin c) Cortisone d) Antibiotics\n",
      "Ground Truth: A (from 'a) Anti-VEGF')\n",
      "With Context: A\n",
      "Without Context: A\n",
      "\n",
      "Question 332: Which vision area is typically spared in AMD? a) Central b) Peripheral c) Color d) Contrast\n",
      "Ground Truth: B (from 'b) Peripheral')\n",
      "With Context: D\n",
      "Without Context: C\n",
      "\n",
      "Question 333: What genetic element increases AMD likelihood? a) Family history b) Eye size c) Hair length d) Blood group\n",
      "Ground Truth: A (from 'a) Family history')\n",
      "With Context: A\n",
      "Without Context: A\n",
      "\n",
      "Question 334: Which test is irrelevant for AMD screening? a) OCT b) Bone density scan c) Amsler grid d) Fluorescein angiography\n",
      "Ground Truth: B (from 'b) Bone density scan')\n",
      "With Context: C\n",
      "Without Context: B\n",
      "\n",
      "Question 335: What self-test helps monitor AMD progression? a) Pulse check b) Amsler grid c) Blood sugar test d) Reflex test\n",
      "Ground Truth: B (from 'b) Amsler grid')\n",
      "With Context: B\n",
      "Without Context: B\n",
      "\n",
      "Question 336: Which AMD form is most widespread? a) Wet AMD b) Dry AMD c) Both equal d) Neither\n",
      "Ground Truth: B (from 'b) Dry AMD')\n",
      "With Context: A\n",
      "Without Context: B\n",
      "\n",
      "Question 337: Can UV-blocking glasses fully prevent AMD? a) Yes b) No c) Sometimes d) Only with diet\n",
      "Ground Truth: B (from 'b) No')\n",
      "With Context: B\n",
      "Without Context: B\n",
      "\n",
      "Question 338: Which chronic condition is linked to elevated AMD risk? a) Diabetes b) Eczema c) Migraines d) Sinusitis\n",
      "Ground Truth: A (from 'a) Diabetes')\n",
      "With Context: A\n",
      "Without Context: C\n",
      "\n",
      "Question 339: What is the main therapeutic goal for dry AMD? a) Full cure b) Slow progression c) Vision restoration d) Symptom relief\n",
      "Ground Truth: B (from 'b) Slow progression')\n",
      "With Context: B\n",
      "Without Context: B\n",
      "\n",
      "Question 340: What retinal deposit characterizes dry AMD? a) Blood clots b) Drusen c) Fatty plaques d) Calcium deposits\n",
      "Ground Truth: B (from 'b) Drusen')\n",
      "With Context: D\n",
      "Without Context: B\n",
      "\n",
      "Question 341: At what age does AMD risk significantly escalate? a) 30 b) 40 c) 50 d) 60\n",
      "Ground Truth: D (from 'd) 60')\n",
      "With Context: B\n",
      "Without Context: C\n",
      "\n",
      "Question 342: What signals the start of wet AMD? a) Gradual peripheral fade b) Sudden central blur c) Eye dryness d) Floaters\n",
      "Ground Truth: B (from 'b) Sudden central blur')\n",
      "With Context: B\n",
      "Without Context: A\n",
      "\n",
      "Question 343: Can AMD be transmitted person-to-person? a) Yes b) No c) Rarely d) Only genetically\n",
      "Ground Truth: B (from 'b) No')\n",
      "With Context: A\n",
      "Without Context: B\n",
      "\n",
      "Question 344: Which weight condition raises AMD risk? a) Obesity b) Underweight c) Normal weight d) High muscle mass\n",
      "Ground Truth: A (from 'a) Obesity')\n",
      "With Context: C\n",
      "Without Context: D\n",
      "\n",
      "Question 345: Can surgery fully reverse AMD effects? a) Yes b) No c) Partially d) Only wet AMD\n",
      "Ground Truth: B (from 'b) No')\n",
      "With Context: C\n",
      "Without Context: B\n",
      "\n",
      "Question 346: What visual skill does AMD often compromise? a) Color perception b) Hearing clarity c) Taste sensitivity d) Peripheral motion\n",
      "Ground Truth: A (from 'a) Color perception')\n",
      "With Context: A\n",
      "Without Context: D\n",
      "\n",
      "Question 347: Does heavy smartphone use directly trigger AMD? a) Yes b) No c) Sometimes d) Only prolonged\n",
      "Ground Truth: B (from 'b) No')\n",
      "With Context: B\n",
      "Without Context: B\n",
      "\n",
      "Question 348: What imaging tool is critical for AMD diagnosis? a) OCT b) MRI c) X-ray d) Ultrasound\n",
      "Ground Truth: A (from 'a) OCT')\n",
      "With Context: A\n",
      "Without Context: A\n",
      "\n",
      "Question 349: What does wet AMD typically cause in the retina? a) Drusen shrinkage b) Fluid leakage c) Lens opacity d) Optic nerve damage\n",
      "Ground Truth: B (from 'b) Fluid leakage')\n",
      "With Context: B\n",
      "Without Context: B\n",
      "\n",
      "Question 350: Which gender has a slightly higher AMD incidence? a) Men b) Women c) Equal d) Unknown\n",
      "Ground Truth: B (from 'b) Women')\n",
      "With Context: B\n",
      "Without Context: C\n",
      "\n",
      "Question 351: Are over-the-counter eye drops effective against AMD? a) Yes b) No c) Sometimes d) Only dry AMD\n",
      "Ground Truth: B (from 'b) No')\n",
      "With Context: B\n",
      "Without Context: B\n",
      "\n",
      "Question 352: Which vascular condition heightens AMD risk? a) Hypotension b) Hypertension c) Low pulse d) High oxygen\n",
      "Ground Truth: B (from 'b) Hypertension')\n",
      "With Context: B\n",
      "Without Context: B\n",
      "\n",
      "Question 353: What lipid profile is associated with AMD? a) High cholesterol b) Low cholesterol c) High HDL d) Low LDL\n",
      "Ground Truth: A (from 'a) High cholesterol')\n",
      "With Context: D\n",
      "Without Context: D\n",
      "\n",
      "Question 354: Can omega-3 intake alone halt AMD? a) Yes b) No c) Partially d) Only with vitamins\n",
      "Ground Truth: B (from 'b) No')\n",
      "With Context: B\n",
      "Without Context: B\n",
      "\n",
      "Question 355: Which eye structure is generally unaffected by AMD? a) Macula b) Optic nerve c) Choroid d) Retina\n",
      "Ground Truth: B (from 'b) Optic nerve')\n",
      "With Context: D\n",
      "Without Context: D\n",
      "\n",
      "Question 356: What light-activated therapy treats wet AMD? a) LASIK b) Photodynamic therapy c) UV exposure d) Laser correction\n",
      "Ground Truth: B (from 'b) Photodynamic therapy')\n",
      "With Context: B\n",
      "Without Context: B\n",
      "\n",
      "Question 357: Does AMD elevate accident risk in older adults? a) Falls b) Cuts c) Burns d) Sprains\n",
      "Ground Truth: A (from 'a) Falls')\n",
      "With Context: A\n",
      "Without Context: A\n",
      "\n",
      "Question 358: Is AMD typically limited to one eye at onset? a) Yes b) No c) Always d) Rarely\n",
      "Ground Truth: B (from 'b) No')\n",
      "With Context: B\n",
      "Without Context: B\n",
      "\n",
      "Question 359: What nutritional strategy aids dry AMD? a) AREDS b) High-carb diet c) Low-fat diet d) Vitamin B12\n",
      "Ground Truth: A (from 'a) AREDS')\n",
      "With Context: A\n",
      "Without Context: A\n",
      "\n",
      "Question 360: Which racial group faces higher AMD rates? a) Caucasians b) African Americans c) Asians d) Native Americans\n",
      "Ground Truth: A (from 'a) Caucasians')\n",
      "With Context: B\n",
      "Without Context: B\n",
      "\n",
      "Question 361: What visual distortion is frequent in AMD? a) Wavy lines b) Peripheral blur c) Flashing spots d) Double vision\n",
      "Ground Truth: A (from 'a) Wavy lines')\n",
      "With Context: B\n",
      "Without Context: A\n",
      "\n",
      "Question 362: Is AMD a bacterial infection? a) Yes b) No c) Sometimes d) Only wet AMD\n",
      "Ground Truth: B (from 'b) No')\n",
      "With Context: B\n",
      "Without Context: B\n",
      "\n",
      "Question 363: Which spatial ability does AMD affect? a) Depth perception b) Sound direction c) Smell intensity d) Touch accuracy\n",
      "Ground Truth: A (from 'a) Depth perception')\n",
      "With Context: A\n",
      "Without Context: A\n",
      "\n",
      "Question 364: Can AMD occur in toddlers? a) Yes b) No c) Rarely d) Only genetically\n",
      "Ground Truth: B (from 'b) No')\n",
      "With Context: A\n",
      "Without Context: A\n",
      "\n",
      "Question 365: Does AMD commonly require visual assistance? a) Yes b) No c) Sometimes d) Never\n",
      "Ground Truth: A (from 'a) Yes')\n",
      "With Context: A\n",
      "Without Context: A\n",
      "\n",
      "Question 366: What environmental exposure is tied to AMD risk? a) Noise b) UV light c) Cold air d) Dust\n",
      "Ground Truth: B (from 'b) UV light')\n",
      "With Context: B\n",
      "Without Context: D\n",
      "\n",
      "Question 367: Can exercise alone stop AMD progression? a) Yes b) No c) Partially d) Only early stages\n",
      "Ground Truth: B (from 'b) No')\n",
      "With Context: B\n",
      "Without Context: B\n",
      "\n",
      "Question 368: Which vision type is most intact in AMD? a) Central b) Peripheral c) Night d) Color\n",
      "Ground Truth: B (from 'b) Peripheral')\n",
      "With Context: C\n",
      "Without Context: D\n",
      "\n",
      "Question 369: What clinical exam detects AMD? a) Blood test b) Dilated eye exam c) Hearing test d) Skin test\n",
      "Ground Truth: B (from 'b) Dilated eye exam')\n",
      "With Context: B\n",
      "Without Context: B\n",
      "\n",
      "Question 370: Does low-light reading cause AMD? a) Yes b) No c) Sometimes d) Only prolonged\n",
      "Ground Truth: B (from 'b) No')\n",
      "With Context: B\n",
      "Without Context: B\n",
      "\n",
      "Question 371: Which identification task does AMD hinder? a) Face recognition b) Sound identification c) Smell identification d) Taste identification\n",
      "Ground Truth: A (from 'a) Face recognition')\n",
      "With Context: A\n",
      "Without Context: A\n",
      "\n",
      "Question 372: Are antibiotics effective for AMD treatment? a) Yes b) No c) Sometimes d) Only for wet AMD\n",
      "Ground Truth: B (from 'b) No')\n",
      "With Context: B\n",
      "Without Context: B\n",
      "\n",
      "Question 373: What demographic factor most drives AMD? a) Age b) Height c) Weight d) Hair color\n",
      "Ground Truth: A (from 'a) Age')\n",
      "With Context: A\n",
      "Without Context: A\n",
      "\n",
      "Question 374: Which retinal process defines wet AMD? a) Drusen increase b) Neovascularization c) Optic nerve thinning d) Lens hardening\n",
      "Ground Truth: B (from 'b) Neovascularization')\n",
      "With Context: B\n",
      "Without Context: B\n",
      "\n",
      "Question 375: Can avoiding sunlight entirely prevent AMD? a) Yes b) No c) Partially d) Only with diet\n",
      "Ground Truth: B (from 'b) No')\n",
      "With Context: D\n",
      "Without Context: B\n",
      "\n",
      "Question 376: Which vitamin is not in the AREDS formula? a) Vitamin C b) Vitamin E c) Vitamin D d) Zinc\n",
      "Ground Truth: C (from 'c) Vitamin D')\n",
      "With Context: D\n",
      "Without Context: D\n",
      "\n",
      "Question 377: What does fluorescein angiography reveal in wet AMD? a) Drusen density b) Vascular leakage c) Lens clarity d) Corneal thickness\n",
      "Ground Truth: B (from 'b) Vascular leakage')\n",
      "With Context: B\n",
      "Without Context: B\n",
      "\n",
      "Question 378: Which areas have higher AMD rates? a) Rural tropics b) Developed urban c) Arctic zones d) Desert regions\n",
      "Ground Truth: B (from 'b) Developed urban')\n",
      "With Context: D\n",
      "Without Context: C\n",
      "\n",
      "Question 379: Can wet AMD be completely reversed today? a) Yes b) No c) Sometimes d) Only early stages\n",
      "Ground Truth: B (from 'b) No')\n",
      "With Context: B\n",
      "Without Context: B\n",
      "\n",
      "Question 380: What retinal region does AMD target? a) Optic disc b) Macula c) Peripheral retina d) Ciliary body\n",
      "Ground Truth: B (from 'b) Macula')\n",
      "With Context: B\n",
      "Without Context: B\n",
      "\n",
      "Question 381: Is poor sanitation a direct AMD cause? a) Yes b) No c) Sometimes d) Only severe cases\n",
      "Ground Truth: B (from 'b) No')\n",
      "With Context: B\n",
      "Without Context: B\n",
      "\n",
      "Question 382: What aid helps AMD vision loss? a) Hearing aids b) Magnifiers c) Crutches d) Inhalers\n",
      "Ground Truth: B (from 'b) Magnifiers')\n",
      "With Context: B\n",
      "Without Context: B\n",
      "\n",
      "Question 383: Which daily task does AMD most affect? a) Driving b) Hearing c) Tasting d) Smelling\n",
      "Ground Truth: A (from 'a) Driving')\n",
      "With Context: A\n",
      "Without Context: B\n",
      "\n",
      "Question 384: Does excessive caffeine directly cause AMD? a) Yes b) No c) Sometimes d) Only with smoking\n",
      "Ground Truth: B (from 'b) No')\n",
      "With Context: B\n",
      "Without Context: B\n",
      "\n",
      "Question 385: What genetic factor boosts AMD risk? a) Eye color b) Family history c) Skin type d) Hair density\n",
      "Ground Truth: B (from 'b) Family history')\n",
      "With Context: B\n",
      "Without Context: B\n",
      "\n",
      "Question 386: Which retinal event occurs in wet AMD? a) Drusen reduction b) Subretinal hemorrhage c) Optic atrophy d) Lens detachment\n",
      "Ground Truth: B (from 'b) Subretinal hemorrhage')\n",
      "With Context: B\n",
      "Without Context: C\n",
      "\n",
      "Question 387: Is bright light exposure a direct AMD trigger? a) Yes b) No c) Sometimes d) Only prolonged\n",
      "Ground Truth: B (from 'b) No')\n",
      "With Context: A\n",
      "Without Context: B\n",
      "\n",
      "Question 388: What screening detects AMD early? a) Blood test b) Eye exam c) Hearing test d) Skin check\n",
      "Ground Truth: B (from 'b) Eye exam')\n",
      "With Context: B\n",
      "Without Context: B\n",
      "\n",
      "Question 389: Are floaters a primary AMD symptom? a) Yes b) No c) Sometimes d) Only late stages\n",
      "Ground Truth: B (from 'b) No')\n",
      "With Context: B\n",
      "Without Context: B\n",
      "\n",
      "Question 390: Which eye trait may increase AMD risk? a) Dark eyes b) Light eyes c) Myopia d) Hyperopia\n",
      "Ground Truth: B (from 'b) Light eyes')\n",
      "With Context: A\n",
      "Without Context: D\n",
      "\n",
      "Question 391: Can vitamin C alone stop AMD? a) Yes b) No c) Sometimes d) Only with zinc\n",
      "Ground Truth: B (from 'b) No')\n",
      "With Context: B\n",
      "Without Context: B\n",
      "\n",
      "Question 392: What visual issue does AMD often create? a) Peripheral loss b) Central scotomas c) Flashing lights d) Double vision\n",
      "Ground Truth: B (from 'b) Central scotomas')\n",
      "With Context: A\n",
      "Without Context: C\n",
      "\n",
      "Question 393: Can AMD occur in toddlers? a) Yes b) No c) Rarely d) Only with genetics\n",
      "Ground Truth: B (from 'b) No')\n",
      "With Context: A\n",
      "Without Context: A\n",
      "\n",
      "Question 394: Which retinal feature is an early indicator of AMD? a) Choroidal rupture b) Small drusen c) Optic disc swelling d) Corneal opacity\n",
      "Ground Truth: B (from 'b) Small drusen')\n",
      "With Context: B\n",
      "Without Context: B\n",
      "\n",
      "Question 395: What symptom is most characteristic of wet AMD onset? a) Gradual peripheral blur b) Sudden central distortion c) Improved color vision d) Eye redness\n",
      "Ground Truth: B (from 'b) Sudden central distortion')\n",
      "With Context: B\n",
      "Without Context: D\n",
      "\n",
      "Question 396: What is the advanced stage of dry AMD progression? a) Retinal tear b) Geographic atrophy c) Macular edema d) Glaucoma\n",
      "Ground Truth: B (from 'b) Geographic atrophy')\n",
      "With Context: B\n",
      "Without Context: B\n",
      "\n",
      "Question 397: Which lifestyle factor significantly raises AMD risk? a) Smoking b) Jogging c) Drinking tea d) Writing\n",
      "Ground Truth: A (from 'a) Smoking')\n",
      "With Context: A\n",
      "Without Context: A\n",
      "\n",
      "Question 398: Which AMD type involves new blood vessel growth? a) Dry AMD b) Wet AMD c) Early AMD d) Intermediate AMD\n",
      "Ground Truth: B (from 'b) Wet AMD')\n",
      "With Context: B\n",
      "Without Context: B\n",
      "\n",
      "Question 399: Is there a complete cure for AMD as of March 2025? a) Yes b) No c) In trials d) Only for dry AMD\n",
      "Ground Truth: B (from 'b) No')\n",
      "With Context: B\n",
      "Without Context: C\n",
      "\n",
      "Question 400: What treatment targets wet AMD’s vascular growth? a) Anti-VEGF injections b) Painkillers c) Eye drops d) Antihistamines\n",
      "Ground Truth: A (from 'a) Anti-VEGF injections')\n",
      "With Context: A\n",
      "Without Context: A\n",
      "\n",
      "Question 401: Which vision aspect is least affected by AMD? a) Central vision b) Peripheral vision c) Depth perception d) Color vision\n",
      "Ground Truth: B (from 'b) Peripheral vision')\n",
      "With Context: C\n",
      "Without Context: D\n",
      "\n",
      "Question 402: What inherited trait increases AMD risk? a) Family history b) Eye shape c) Skin tone d) Hair texture\n",
      "Ground Truth: A (from 'a) Family history')\n",
      "With Context: A\n",
      "Without Context: A\n",
      "\n",
      "Question 403: Which diagnostic method is unrelated to AMD? a) OCT b) Amsler grid c) Liver function test d) Fundus photography\n",
      "Ground Truth: C (from 'c) Liver function test')\n",
      "With Context: C\n",
      "Without Context: D\n",
      "\n",
      "Question 404: What simple tool tracks AMD-related vision changes? a) Thermometer b) Amsler grid c) Blood pressure monitor d) Heart rate tracker\n",
      "Ground Truth: B (from 'b) Amsler grid')\n",
      "With Context: B\n",
      "Without Context: B\n",
      "\n",
      "Question 405: Which AMD variant is most common? a) Wet AMD b) Dry AMD c) Both equally d) Neither\n",
      "Ground Truth: B (from 'b) Dry AMD')\n",
      "With Context: B\n",
      "Without Context: A\n",
      "\n",
      "Question 406: Can sunglasses completely eliminate AMD risk? a) Yes b) No c) Partially d) Only with diet\n",
      "Ground Truth: B (from 'b) No')\n",
      "With Context: B\n",
      "Without Context: B\n",
      "\n",
      "Question 407: Which metabolic condition is associated with higher AMD risk? a) Diabetes b) Allergies c) Asthma d) Thyroid issues\n",
      "Ground Truth: A (from 'a) Diabetes')\n",
      "With Context: B\n",
      "Without Context: D\n",
      "\n",
      "Question 408: What is the primary focus of dry AMD treatment? a) Cure b) Slow progression c) Reverse vision loss d) Pain relief\n",
      "Ground Truth: B (from 'b) Slow progression')\n",
      "With Context: B\n",
      "Without Context: C\n",
      "\n",
      "Question 409: What is the primary part of the eye affected by AMD? a) Cornea b) Macula c) Optic nerve d) Lens\n",
      "Ground Truth: B (from 'b) Macula')\n",
      "With Context: B\n",
      "Without Context: B\n",
      "\n",
      "Question 410: Which type of AMD is characterized by the growth of abnormal blood vessels? a) Dry AMD b) Wet AMD c) Intermediate AMD d) Early AMD\n",
      "Ground Truth: B (from 'b) Wet AMD')\n",
      "With Context: B\n",
      "Without Context: B\n",
      "\n",
      "Question 411: What is the yellowish deposit commonly found in the retina of dry AMD patients? a) Hemorrhages b) Drusen c) Exudates d) Plaques\n",
      "Ground Truth: B (from 'b) Drusen')\n",
      "With Context: B\n",
      "Without Context: B\n",
      "\n",
      "Question 412: Which of the following is a leading cause of blindness in people over 60 in developed countries? a) Glaucoma b) Cataracts c) AMD d) Diabetic retinopathy\n",
      "Ground Truth: C (from 'c) AMD')\n",
      "With Context: C\n",
      "Without Context: C\n",
      "\n",
      "Question 413: What is the most widely used treatment to stop blood vessel leakage in wet AMD? a) Anti-VEGF injections b) Antibiotics c) Steroid drops d) Vitamin supplements\n",
      "Ground Truth: A (from 'a) Anti-VEGF injections')\n",
      "With Context: A\n",
      "Without Context: A\n",
      "\n",
      "Question 414: Which vitamin is included in the AREDS formula to help slow AMD progression? a) Vitamin K b) Vitamin E c) Vitamin B6 d) Vitamin D\n",
      "Ground Truth: B (from 'b) Vitamin E')\n",
      "With Context: B\n",
      "Without Context: B\n",
      "\n",
      "Question 415: What is the term for the wavy appearance of straight lines in wet AMD? a) Scotoma b) Metamorphopsia c) Photopsia d) Nyctalopia\n",
      "Ground Truth: B (from 'b) Metamorphopsia')\n",
      "With Context: B\n",
      "Without Context: C\n",
      "\n",
      "Question 416: Which imaging method provides a detailed cross-sectional view of the retina in AMD diagnosis? a) Fundus photography b) Optical Coherence Tomography (OCT) c) Fluorescein angiography d) Ultrasound\n",
      "Ground Truth: B (from 'b) Optical Coherence Tomography (OCT)')\n",
      "With Context: B\n",
      "Without Context: B\n",
      "\n",
      "Question 417: What percentage of AMD cases progress to the advanced stage within 10 years? a) 5-10% b) 15-20% c) 25-30% d) 40-50%\n",
      "Ground Truth: B (from 'b) 15-20%')\n",
      "With Context: A\n",
      "Without Context: C\n",
      "\n",
      "Question 418: Which environmental factor is strongly associated with an increased risk of AMD? a) Smoking b) High altitude c) Cold weather d) Loud noise\n",
      "Ground Truth: A (from 'a) Smoking')\n",
      "With Context: A\n",
      "Without Context: A\n",
      "\n",
      "Question 419: What is the name of the advanced form of dry AMD that causes cell death in the retina? a) Choroidal neovascularization b) Geographic atrophy c) Macular edema d) Retinal detachment\n",
      "Ground Truth: B (from 'b) Geographic atrophy')\n",
      "With Context: B\n",
      "Without Context: A\n",
      "\n",
      "Question 420: Which mineral is part of the AREDS2 formula for AMD? a) Iron b) Zinc c) Calcium d) Magnesium\n",
      "Ground Truth: B (from 'b) Zinc')\n",
      "With Context: B\n",
      "Without Context: C\n",
      "\n",
      "Question 421: What is the typical first sign of wet AMD noticed by patients? a) Blurred peripheral vision b) Distorted central vision c) Flashing lights d) Double vision\n",
      "Ground Truth: B (from 'b) Distorted central vision')\n",
      "With Context: A\n",
      "Without Context: C\n",
      "\n",
      "Question 422: Which group has a higher risk of developing AMD? a) Men b) Women c) No significant gender difference d) Children\n",
      "Ground Truth: C (from 'c) No significant gender difference')\n",
      "With Context: C\n",
      "Without Context: C\n",
      "\n",
      "Question 423: What is the purpose of fluorescein angiography in AMD diagnosis? a) To measure eye pressure b) To visualize blood vessel leakage c) To assess corneal thickness d) To evaluate lens clarity\n",
      "Ground Truth: B (from 'b) To visualize blood vessel leakage')\n",
      "With Context: B\n",
      "Without Context: B\n",
      "\n",
      "Question 424: Which antioxidant pigment in the retina may protect against AMD? a) Lutein b) Melanin c) Hemoglobin d) Chlorophyll\n",
      "Ground Truth: A (from 'a) Lutein')\n",
      "With Context: A\n",
      "Without Context: A\n",
      "\n",
      "Question 425: What is the name of the grid used to detect vision distortion in AMD? a) Snellen chart b) Amsler grid c) Ishihara plate d) Pelli-Robson chart\n",
      "Ground Truth: B (from 'b) Amsler grid')\n",
      "With Context: B\n",
      "Without Context: B\n",
      "\n",
      "Question 426: Which condition is a hallmark of wet AMD but not dry AMD? a) Drusen formation b) Choroidal neovascularization c) Retinal thinning d) Pigment clumping\n",
      "Ground Truth: B (from 'b) Choroidal neovascularization')\n",
      "With Context: B\n",
      "Without Context: C\n",
      "\n",
      "Question 427: What is the leading risk factor for AMD? a) Diabetes b) Aging c) High cholesterol d) Alcohol consumption\n",
      "Ground Truth: B (from 'b) Aging')\n",
      "With Context: C\n",
      "Without Context: B\n",
      "\n",
      "Question 428: Which dietary component is linked to a lower risk of AMD progression? a) Saturated fats b) Omega-3 fatty acids c) Simple sugars d) Caffeine\n",
      "Ground Truth: B (from 'b) Omega-3 fatty acids')\n",
      "With Context: B\n",
      "Without Context: B\n",
      "\n",
      "Question 429: What is the term for the central blind spot caused by advanced AMD? a) Scotoma b) Glaucoma c) Floaters d) Aura\n",
      "Ground Truth: A (from 'a) Scotoma')\n",
      "With Context: A\n",
      "Without Context: A\n",
      "\n",
      "Question 430: Which type of light exposure may increase the risk of AMD? a) Infrared b) Ultraviolet (UV) c) Red light d) Green light\n",
      "Ground Truth: B (from 'b) Ultraviolet (UV)')\n",
      "With Context: B\n",
      "Without Context: C\n",
      "\n",
      "Question 431: What is the name of the laser treatment used to destroy abnormal blood vessels in wet AMD? a) Photodynamic therapy b) LASIK c) PRK d) LASEK\n",
      "Ground Truth: A (from 'a) Photodynamic therapy')\n",
      "With Context: A\n",
      "Without Context: A\n",
      "\n",
      "Question 432: Which of the following is a common early finding in dry AMD? a) Large drusen b) Retinal hemorrhage c) Macular edema d) Optic disc swelling\n",
      "Ground Truth: A (from 'a) Large drusen')\n",
      "With Context: A\n",
      "Without Context: A\n",
      "\n",
      "Question 433: What is the primary goal of low vision rehabilitation for AMD patients? a) Restore full vision b) Prevent further vision loss c) Maximize remaining vision d) Cure the disease\n",
      "Ground Truth: C (from 'c) Maximize remaining vision')\n",
      "With Context: C\n",
      "Without Context: C\n",
      "\n",
      "Question 434: Which ethnic group has the highest prevalence of AMD? a) Caucasians b) African Americans c) Asians d) Native Americans\n",
      "Ground Truth: A (from 'a) Caucasians')\n",
      "With Context: A\n",
      "Without Context: C\n",
      "\n",
      "Question 435: What is the name of the fluid accumulation in the macula seen in wet AMD? a) Macular edema b) Vitreous hemorrhage c) Retinal detachment d) Choroidal effusion\n",
      "Ground Truth: A (from 'a) Macular edema')\n",
      "With Context: A\n",
      "Without Context: A\n",
      "\n",
      "Question 436: Which of the following is a symptom of AMD rather than glaucoma? a) Loss of peripheral vision b) Loss of central vision c) Eye pain d) Halos around lights\n",
      "Ground Truth: B (from 'b) Loss of central vision')\n",
      "With Context: B\n",
      "Without Context: B\n",
      "\n",
      "Question 437: What is the name of the protein targeted by anti-VEGF drugs in wet AMD? a) Collagen b) Vascular endothelial growth factor c) Keratin d) Elastin\n",
      "Ground Truth: B (from 'b) Vascular endothelial growth factor')\n",
      "With Context: B\n",
      "Without Context: B\n",
      "\n",
      "Question 438: Which lifestyle change is most effective in reducing AMD risk? a) Reducing salt intake b) Quitting smoking c) Drinking more coffee d) Increasing screen time\n",
      "Ground Truth: B (from 'b) Quitting smoking')\n",
      "With Context: B\n",
      "Without Context: B\n",
      "\n",
      "Question 439: What is the typical frequency of anti-VEGF injections for wet AMD? a) Once a year b) Every 4-8 weeks c) Every 6 months d) Once every 2 years\n",
      "Ground Truth: B (from 'b) Every 4-8 weeks')\n",
      "With Context: B\n",
      "Without Context: B\n",
      "\n",
      "Question 440: Which part of the retina nourishes the macula and is implicated in wet AMD? a) Choroid b) Sclera c) Iris d) Ciliary body\n",
      "Ground Truth: A (from 'a) Choroid')\n",
      "With Context: A\n",
      "Without Context: A\n",
      "\n",
      "Question 441: What is the name of the clinical trial that refined the AREDS formula? a) AREDS2 b) DRCR.net c) ETDRS d) VISTA\n",
      "Ground Truth: A (from 'a) AREDS2')\n",
      "With Context: C\n",
      "Without Context: B\n",
      "\n",
      "Question 442: Which of the following is a rare complication of wet AMD? a) Retinal detachment b) Cataract formation c) Corneal abrasion d) Optic neuritis\n",
      "Ground Truth: A (from 'a) Retinal detachment')\n",
      "With Context: C\n",
      "Without Context: D\n",
      "\n",
      "Question 443: What is the primary source of antioxidants in the AREDS formula? a) Fruits b) Vitamins C and E c) Fish oil d) Dairy\n",
      "Ground Truth: B (from 'b) Vitamins C and E')\n",
      "With Context: B\n",
      "Without Context: B\n",
      "\n",
      "Question 444: Which symptom is NOT typically associated with AMD? a) Difficulty recognizing faces b) Distorted vision c) Peripheral vision loss d) Trouble reading fine print\n",
      "Ground Truth: C (from 'c) Peripheral vision loss')\n",
      "With Context: C\n",
      "Without Context: C\n",
      "\n",
      "Question 445: What is the name of the retinal layer that supports photoreceptors and is damaged in AMD? a) Retinal pigment epithelium b) Ganglion cell layer c) Inner nuclear layer d) Outer plexiform layer\n",
      "Ground Truth: A (from 'a) Retinal pigment epithelium')\n",
      "With Context: A\n",
      "Without Context: A\n",
      "\n",
      "Question 446: Which of the following is a potential side effect of photodynamic therapy for AMD? a) Increased appetite b) Temporary light sensitivity c) Hair loss d) Joint pain\n",
      "Ground Truth: B (from 'b) Temporary light sensitivity')\n",
      "With Context: B\n",
      "Without Context: B\n",
      "\n",
      "Question 447: What is the estimated prevalence of AMD in people over 80? a) 5% b) 10% c) 25% d) 50%\n",
      "Ground Truth: C (from 'c) 25%')\n",
      "With Context: C\n",
      "Without Context: D\n",
      "\n",
      "Question 448: Which nutrient was removed from the original AREDS formula in AREDS2? a) Beta-carotene b) Vitamin C c) Zinc d) Vitamin E\n",
      "Ground Truth: A (from 'a) Beta-carotene')\n",
      "With Context: A\n",
      "Without Context: C\n",
      "\n",
      "Question 449: What is the term for the death of photoreceptors in advanced AMD? a) Photoreceptor degeneration b) Retinal necrosis c) Choroidal atrophy d) Optic atrophy\n",
      "Ground Truth: A (from 'a) Photoreceptor degeneration')\n",
      "With Context: A\n",
      "Without Context: A\n",
      "\n",
      "Question 450: Which of the following is a common visual aid for AMD patients? a) Hearing aids b) Magnifiers c) Pacemakers d) Crutches\n",
      "Ground Truth: B (from 'b) Magnifiers')\n",
      "With Context: B\n",
      "Without Context: B\n",
      "\n",
      "Question 451: What is the name of the condition where scar tissue forms in the macula in wet AMD? a) Macular fibrosis b) Macular edema c) Macular hole d) Macular atrophy\n",
      "Ground Truth: A (from 'a) Macular fibrosis')\n",
      "With Context: A\n",
      "Without Context: A\n",
      "\n",
      "Question 452: Which cardiovascular condition is a risk factor for AMD? a) Hypertension b) Low blood pressure c) Anemia d) Thrombosis\n",
      "Ground Truth: A (from 'a) Hypertension')\n",
      "With Context: A\n",
      "Without Context: D\n",
      "\n",
      "Question 453: What is the name of the procedure that uses light-sensitive drugs to treat wet AMD? a) Laser photocoagulation b) Photodynamic therapy c) Vitrectomy d) Scleral buckle\n",
      "Ground Truth: B (from 'b) Photodynamic therapy')\n",
      "With Context: B\n",
      "Without Context: B\n",
      "\n",
      "Question 454: Which of the following is a hallmark of early dry AMD on examination? a) Small drusen b) Large hemorrhages c) Macular swelling d) Optic disc pallor\n",
      "Ground Truth: A (from 'a) Small drusen')\n",
      "With Context: A\n",
      "Without Context: A\n",
      "\n",
      "Question 455: What is the name of the visual hallucination syndrome sometimes seen in AMD patients? a) Charles Bonnet syndrome b) Stargardt disease c) Leber's congenital amaurosis d) Retinitis pigmentosa\n",
      "Ground Truth: A (from 'a) Charles Bonnet syndrome')\n",
      "With Context: A\n",
      "Without Context: A\n",
      "\n",
      "Question 456: Which of the following is a recommended screening age for AMD? a) 30 b) 40 c) 50 d) 60\n",
      "Ground Truth: C (from 'c) 50')\n",
      "With Context: C\n",
      "Without Context: C\n",
      "\n",
      "Question 457: What is the name of the surgery occasionally used to move the macula in severe AMD? a) Macular translocation b) Corneal transplant c) Lens replacement d) Trabeculectomy\n",
      "Ground Truth: A (from 'a) Macular translocation')\n",
      "With Context: A\n",
      "Without Context: A\n",
      "\n",
      "Question 458: Which of the following is a common finding in intermediate AMD? a) Large drusen b) Retinal detachment c) Choroidal rupture d) Optic nerve swelling\n",
      "Ground Truth: A (from 'a) Large drusen')\n",
      "With Context: A\n",
      "Without Context: A\n",
      "\n",
      "Question 459: What is the primary purpose of sunglasses in AMD prevention? a) Improve night vision b) Reduce UV exposure c) Enhance color perception d) Prevent dry eyes\n",
      "Ground Truth: B (from 'b) Reduce UV exposure')\n",
      "With Context: B\n",
      "Without Context: B\n",
      "\n",
      "Question 460: Which gene mutation is most commonly linked to AMD risk? a) CFH b) BRCA2 c) TP53 d) LDLR\n",
      "Ground Truth: A (from 'a) CFH')\n",
      "With Context: A\n",
      "Without Context: A\n",
      "\n",
      "Question 461: What is the name of the condition where the macula develops a hole, sometimes linked to AMD? a) Macular hole b) Macular pucker c) Macular edema d) Macular fibrosis\n",
      "Ground Truth: A (from 'a) Macular hole')\n",
      "With Context: A\n",
      "Without Context: A\n",
      "\n",
      "Question 462: Which of the following is a potential psychological effect of AMD? a) Increased confidence b) Depression c) Improved memory d) Enhanced concentration\n",
      "Ground Truth: B (from 'b) Depression')\n",
      "With Context: B\n",
      "Without Context: B\n",
      "\n",
      "Question 463: What is the name of the test that evaluates retinal function in AMD? a) Electroretinogram (ERG) b) Visual evoked potential (VEP) c) Tonometry d) Pachymetry\n",
      "Ground Truth: A (from 'a) Electroretinogram (ERG)')\n",
      "With Context: A\n",
      "Without Context: A\n",
      "\n",
      "Question 464: Which of the following is a common adaptive strategy for AMD patients? a) Using high-contrast materials b) Avoiding bright lights c) Reducing physical activity d) Limiting social interaction\n",
      "Ground Truth: A (from 'a) Using high-contrast materials')\n",
      "With Context: C\n",
      "Without Context: C\n",
      "\n",
      "Question 465: What is the name of the condition where the retina wrinkles in AMD? a) Epiretinal membrane b) Retinal tear c) Choroidal rupture d) Vitreous detachment\n",
      "Ground Truth: A (from 'a) Epiretinal membrane')\n",
      "With Context: A\n",
      "Without Context: A\n",
      "\n",
      "Question 466: Which nutrient in the AREDS2 formula helps filter blue light? a) Zeaxanthin b) Vitamin C c) Copper d) Zinc\n",
      "Ground Truth: A (from 'a) Zeaxanthin')\n",
      "With Context: A\n",
      "Without Context: D\n",
      "\n",
      "Question 467: What is the name of the condition where blood leaks into the retina in wet AMD? a) Macular hemorrhage b) Macular edema c) Macular atrophy d) Macular hole\n",
      "Ground Truth: A (from 'a) Macular hemorrhage')\n",
      "With Context: B\n",
      "Without Context: B\n",
      "\n",
      "Question 468: Which of the following is a potential future therapy for dry AMD? a) Stem cell therapy b) Laser surgery c) Cataract removal d) Glaucoma drainage\n",
      "Ground Truth: A (from 'a) Stem cell therapy')\n",
      "With Context: A\n",
      "Without Context: A\n",
      "\n",
      "Question 469: What is the name of the retinal layer that degenerates in geographic atrophy? a) Retinal pigment epithelium b) Inner limiting membrane c) Outer nuclear layer d) Ganglion cell layer\n",
      "Ground Truth: A (from 'a) Retinal pigment epithelium')\n",
      "With Context: A\n",
      "Without Context: A\n",
      "\n",
      "Question 470: Which of the following is a common mobility aid for AMD patients? a) White cane b) Wheelchair c) Hearing aid d) Prosthetic limb\n",
      "Ground Truth: A (from 'a) White cane')\n",
      "With Context: D\n",
      "Without Context: A\n",
      "\n",
      "Question 471: What is the name of the condition where the macula thins in dry AMD? a) Geographic atrophy b) Macular edema c) Macular fibrosis d) Macular hemorrhage\n",
      "Ground Truth: A (from 'a) Geographic atrophy')\n",
      "With Context: A\n",
      "Without Context: C\n",
      "\n",
      "Question 472: Which occupational factor may increase AMD risk? a) Prolonged sun exposure b) Night shift work c) Heavy lifting d) Sedentary work\n",
      "Ground Truth: A (from 'a) Prolonged sun exposure')\n",
      "With Context: A\n",
      "Without Context: A\n",
      "\n",
      "Question 473: What is the name of the drug class used to reduce blood vessel growth in wet AMD? a) Anti-VEGF b) Antibiotics c) Antihistamines d) Analgesics\n",
      "Ground Truth: A (from 'a) Anti-VEGF')\n",
      "With Context: A\n",
      "Without Context: A\n",
      "\n",
      "Question 474: Which of the following is a common finding in wet AMD on OCT imaging? a) Subretinal fluid b) Optic disc drusen c) Corneal thinning d) Lens opacities\n",
      "Ground Truth: A (from 'a) Subretinal fluid')\n",
      "With Context: A\n",
      "Without Context: A\n",
      "\n",
      "Question 475: What is the name of the condition where the retina detaches in severe wet AMD? a) Retinal detachment b) Retinal tear c) Retinal schisis d) Retinal hole\n",
      "Ground Truth: A (from 'a) Retinal detachment')\n",
      "With Context: A\n",
      "Without Context: C\n",
      "\n",
      "Question 476: Which dietary habit is linked to a higher risk of AMD? a) High fat intake b) High fiber intake c) High protein intake d) High carbohydrate intake\n",
      "Ground Truth: A (from 'a) High fat intake')\n",
      "With Context: A\n",
      "Without Context: D\n",
      "\n",
      "Question 477: What is the name of the test that assesses color vision, sometimes affected in AMD? a) Ishihara test b) Amsler grid c) Snellen chart d) Visual field test\n",
      "Ground Truth: A (from 'a) Ishihara test')\n",
      "With Context: A\n",
      "Without Context: A\n",
      "\n",
      "Question 478: Which of the following is a potential complication of untreated dry AMD? a) Progression to geographic atrophy b) Corneal ulcer c) Optic nerve damage d) Lens dislocation\n",
      "Ground Truth: A (from 'a) Progression to geographic atrophy')\n",
      "With Context: A\n",
      "Without Context: A\n",
      "\n",
      "Question 479: What is the name of the condition where the retina's blood vessels occlude in AMD? a) Retinal vascular occlusion b) Choroidal neovascularization c) Retinal hemorrhage d) Macular edema\n",
      "Ground Truth: A (from 'a) Retinal vascular occlusion')\n",
      "With Context: B\n",
      "Without Context: A\n",
      "\n",
      "Question 480: Which of the following is a common reading aid for AMD patients? a) Large-print books b) Ear plugs c) Walking sticks d) Compression socks\n",
      "Ground Truth: A (from 'a) Large-print books')\n",
      "With Context: A\n",
      "Without Context: A\n",
      "\n",
      "Question 481: What is the name of the condition where the macula swells in wet AMD? a) Macular edema b) Macular atrophy c) Macular hole d) Macular pucker\n",
      "Ground Truth: A (from 'a) Macular edema')\n",
      "With Context: A\n",
      "Without Context: A\n",
      "\n",
      "Question 482: Which of the following is a potential benefit of regular eye exams for AMD? a) Early detection b) Complete cure c) Vision restoration d) Disease reversal\n",
      "Ground Truth: A (from 'a) Early detection')\n",
      "With Context: A\n",
      "Without Context: A\n",
      "\n",
      "Question 483: What is the name of the condition where the retina's pigment clumps in dry AMD? a) Pigment epithelial detachment b) Retinal pigment epithelium clumping c) Choroidal atrophy d) Photoreceptor loss\n",
      "Ground Truth: B (from 'b) Retinal pigment epithelium clumping')\n",
      "With Context: B\n",
      "Without Context: B\n",
      "\n",
      "Question 484: Which of the following is a common adaptive technology for AMD patients? a) Screen readers b) Pacemakers c) Insulin pumps d) Hearing aids\n",
      "Ground Truth: A (from 'a) Screen readers')\n",
      "With Context: A\n",
      "Without Context: A\n",
      "\n",
      "Question 485: What is the name of the condition where the retina tears in severe AMD? a) Retinal tear b) Retinal detachment c) Retinal schisis d) Retinal hole\n",
      "Ground Truth: A (from 'a) Retinal tear')\n",
      "With Context: B\n",
      "Without Context: C\n",
      "\n",
      "Question 486: Which of the following is a potential benefit of exercise for AMD? a) Improved retinal blood flow b) Increased drusen formation c) Higher UV exposure d) Reduced antioxidant levels\n",
      "Ground Truth: A (from 'a) Improved retinal blood flow')\n",
      "With Context: A\n",
      "Without Context: A\n",
      "\n",
      "Question 487: What is the name of the condition where the macula puckers in AMD? a) Macular pucker b) Macular edema c) Macular hole d) Macular fibrosis\n",
      "Ground Truth: A (from 'a) Macular pucker')\n",
      "With Context: A\n",
      "Without Context: D\n",
      "\n",
      "Question 488: Which of the following is a potential future diagnostic tool for AMD? a) Artificial intelligence b) Blood pressure monitoring c) Pulse oximetry d) EEG\n",
      "Ground Truth: A (from 'a) Artificial intelligence')\n",
      "With Context: A\n",
      "Without Context: A\n",
      "\n",
      "Question 489: What is the name of the condition where the retina's blood vessels dilate in AMD? a) Retinal vascular dilation b) Choroidal neovascularization c) Retinal hemorrhage d) Macular edema\n",
      "Ground Truth: A (from 'a) Retinal vascular dilation')\n",
      "With Context: A\n",
      "Without Context: B\n",
      "\n",
      "Question 490: Which of the following is a common cooking aid for AMD patients? a) High-contrast cutting boards b) Noise-canceling headphones c) Orthopedic shoes d) Blood glucose monitors\n",
      "Ground Truth: A (from 'a) High-contrast cutting boards')\n",
      "With Context: A\n",
      "Without Context: D\n",
      "\n",
      "Question 491: What is the name of the condition where the retina's photoreceptors disorganize in AMD? a) Photoreceptor disarray b) Retinal pigment epithelium atrophy c) Choroidal atrophy d) Macular edema\n",
      "Ground Truth: A (from 'a) Photoreceptor disarray')\n",
      "With Context: A\n",
      "Without Context: A\n",
      "\n",
      "Question 492: Which of the following is a potential benefit of quitting smoking for AMD? a) Reduced oxidative stress b) Increased drusen c) Higher blood pressure d) Worsened vision\n",
      "Ground Truth: A (from 'a) Reduced oxidative stress')\n",
      "With Context: A\n",
      "Without Context: A\n",
      "\n",
      "Question 493: What is the name of the condition where the retina's blood leaks in wet AMD? a) Retinal hemorrhage b) Macular edema c) Choroidal rupture d) Vitreous detachment\n",
      "Ground Truth: A (from 'a) Retinal hemorrhage')\n",
      "With Context: B\n",
      "Without Context: C\n",
      "\n",
      "Question 494: Which of the following is a common driving aid for AMD patients? a) Bioptic telescopes b) Glucose meters c) Oxygen tanks d) Knee braces\n",
      "Ground Truth: A (from 'a) Bioptic telescopes')\n",
      "With Context: A\n",
      "Without Context: A\n",
      "\n",
      "Question 495: What is the name of the condition where the retina's pigment overgrows in dry AMD? a) Retinal pigment epithelium hyperplasia b) Choroidal atrophy c) Photoreceptor degeneration d) Macular edema\n",
      "Ground Truth: A (from 'a) Retinal pigment epithelium hyperplasia')\n",
      "With Context: A\n",
      "Without Context: A\n",
      "\n",
      "Question 496: Which of the following is a potential benefit of leafy greens for AMD? a) Increased antioxidants b) Higher cholesterol c) Reduced blood flow d) Increased UV damage\n",
      "Ground Truth: A (from 'a) Increased antioxidants')\n",
      "With Context: A\n",
      "Without Context: A\n",
      "\n",
      "Question 497: What is the name of the condition where the retina's layers fold in AMD? a) Retinal fold b) Macular pucker c) Epiretinal membrane d) All of the above\n",
      "Ground Truth: D (from 'd) All of the above')\n",
      "With Context: D\n",
      "Without Context: D\n",
      "\n",
      "Question 498: Which of the following is a potential future treatment for wet AMD? a) Gene therapy b) Antibiotic therapy c) Chemotherapy d) Radiation therapy\n",
      "Ground Truth: A (from 'a) Gene therapy')\n",
      "With Context: A\n",
      "Without Context: A\n",
      "\n",
      "Question 499: What is the name of the condition where the retina's blood vessels leak fluid in AMD? a) Retinal vascular leakage b) Choroidal neovascularization c) Retinal tear d) Macular atrophy\n",
      "Ground Truth: A (from 'a) Retinal vascular leakage')\n",
      "With Context: A\n",
      "Without Context: A\n",
      "\n",
      "Question 500: Which of the following is a common occupational therapy goal for AMD patients? a) Adapting to vision loss b) Increasing muscle strength c) Improving lung capacity d) Enhancing taste perception\n",
      "Ground Truth: A (from 'a) Adapting to vision loss')\n",
      "With Context: A\n",
      "Without Context: A\n",
      "\n",
      "With Context Accuracy: 75.20% (376/500)\n",
      "Without Context Accuracy: 64.40% (322/500)\n",
      "Improvement: 10.80%\n"
     ]
    }
   ],
   "source": [
    "# Parse responses to extract the selected multiple choice option\n",
    "def parse_mcq_answer(response):\n",
    "    \"\"\"\n",
    "    Extract the selected option (A, B, C, D, etc.) from an MCQ response,\n",
    "    handling various formats found in the dataset.\n",
    "    \"\"\"\n",
    "    if not response or not isinstance(response, str):\n",
    "        return None\n",
    "    \n",
    "    # First, normalize whitespace and convert to lowercase\n",
    "    response = response.lower().strip()\n",
    "    \n",
    "    # Check for standalone answer formats\n",
    "    if response in ['a', 'b', 'c', 'd']:\n",
    "        return response.upper()\n",
    "    \n",
    "    if response in ['a)', 'b)', 'c)', 'd)']:\n",
    "        return response[0].upper()\n",
    "    \n",
    "    # If the response starts with option followed by content (e.g., \"a) Yes\")\n",
    "    if re.match(r'^[a-d]\\)', response) or re.match(r'^[a-d]\\) ', response):\n",
    "        return response[0].upper()\n",
    "    \n",
    "    # Look for patterns like \"the best answer is A\"\n",
    "    best_answer_match = re.search(r'best answer is ([a-d])', response)\n",
    "    if best_answer_match:\n",
    "        return best_answer_match.group(1).upper()\n",
    "    \n",
    "    # Look for other common patterns\n",
    "    patterns = [\n",
    "        r'(?:the\\s+answer\\s+is\\s+)([a-d])',  # \"The answer is A\"\n",
    "        r'(?:option\\s+)([a-d])',              # \"Option A\"\n",
    "        r'(?:choice\\s+)([a-d])',              # \"Choice A\" \n",
    "        r'(?:select\\s+)([a-d])',              # \"Select A\"\n",
    "        r'(?:answer[:\\s]+)([a-d])',           # \"Answer: A\"\n",
    "        r'^([a-d])$',                         # Just \"A\" on a line\n",
    "        r'(?:answer\\s+is\\s+)([a-d])',         # \"Answer is A\"\n",
    "        r'(?:\\s+)([a-d])(?:\\s+is\\s+correct)', # \"A is correct\"\n",
    "    ]\n",
    "    \n",
    "    for pattern in patterns:\n",
    "        matches = re.findall(pattern, response)\n",
    "        if matches:\n",
    "            return matches[0].upper()\n",
    "            \n",
    "    # Check for capital letters A-D which are likely to be answers\n",
    "    capital_letters = re.findall(r'\\b([A-D])\\b', response)\n",
    "    if capital_letters:\n",
    "        return capital_letters[0]\n",
    "            \n",
    "    # If no match found with patterns, check for text like \" a \" or \" a.\" or \"a \"\n",
    "    for option in ['a', 'b', 'c', 'd']:\n",
    "        option_pattern = r'\\b{}\\b'.format(option)\n",
    "        if re.search(option_pattern, response):\n",
    "            return option.upper()\n",
    "    \n",
    "    # If still no match, check if there's any A, B, C, D in the text\n",
    "    for char in response:\n",
    "        if char.lower() in ['a', 'b', 'c', 'd']:\n",
    "            return char.upper()\n",
    "    \n",
    "    # No clear answer found\n",
    "    return None\n",
    "\n",
    "# Parse responses into MCQ answers\n",
    "df['with_context_parsed'] = df['with_context_answer'].apply(parse_mcq_answer)\n",
    "df['without_context_parsed'] = df['without_context_answer'].apply(parse_mcq_answer)\n",
    "\n",
    "# Convert reference answers to a standard format\n",
    "def standardize_reference_answer(answer):\n",
    "    \"\"\"\n",
    "    Standardize reference answers to a consistent format (just the letter A, B, C, or D)\n",
    "    \"\"\"\n",
    "    if not answer or not isinstance(answer, str):\n",
    "        return None\n",
    "        \n",
    "    answer = answer.strip().lower()\n",
    "    \n",
    "    # Handle \"A\", \"a\", \"A)\", \"a)\" formats\n",
    "    if answer in ['a', 'b', 'c', 'd']:\n",
    "        return answer.upper()\n",
    "    elif answer in ['a)', 'b)', 'c)', 'd)']:\n",
    "        return answer[0].upper()\n",
    "    \n",
    "    # If answer is \"a) Yes\", \"b) No\", etc.\n",
    "    if re.match(r'^[a-d]\\)', answer):\n",
    "        return answer[0].upper()\n",
    "    \n",
    "    # Try to extract any letter that might be the answer\n",
    "    for char in answer:\n",
    "        if char.lower() in ['a', 'b', 'c', 'd']:\n",
    "            return char.upper()\n",
    "            \n",
    "    return None\n",
    "\n",
    "# Standardize the reference answers\n",
    "df['standardized_answer'] = df['answer'].apply(standardize_reference_answer)\n",
    "\n",
    "# Display results\n",
    "print(\"Parsed Results:\")\n",
    "for index, row in df.iterrows():\n",
    "    print(f\"Question {index+1}: {row['question']}\")\n",
    "    print(f\"Ground Truth: {row['standardized_answer']} (from '{row['answer']}')\")\n",
    "    print(f\"With Context: {row['with_context_parsed']}\")\n",
    "    print(f\"Without Context: {row['without_context_parsed']}\\n\")\n",
    "\n",
    "# Prepare for evaluation using standardized answers\n",
    "references = df['standardized_answer'].tolist()\n",
    "with_context_responses = df['with_context_parsed'].tolist()\n",
    "without_context_responses = df['without_context_parsed'].tolist()\n",
    "\n",
    "# Calculate accuracy\n",
    "with_context_correct = sum(1 for ref, pred in zip(references, with_context_responses) \n",
    "                           if ref == pred and ref is not None)\n",
    "without_context_correct = sum(1 for ref, pred in zip(references, without_context_responses) \n",
    "                             if ref == pred and ref is not None)\n",
    "\n",
    "# Count valid references (non-None)\n",
    "valid_references = sum(1 for ref in references if ref is not None)\n",
    "\n",
    "# Calculate accuracy (if there are valid references)\n",
    "if valid_references > 0:\n",
    "    with_context_accuracy = with_context_correct / valid_references\n",
    "    without_context_accuracy = without_context_correct / valid_references\n",
    "    \n",
    "    print(f\"With Context Accuracy: {with_context_accuracy:.2%} ({with_context_correct}/{valid_references})\")\n",
    "    print(f\"Without Context Accuracy: {without_context_accuracy:.2%} ({without_context_correct}/{valid_references})\")\n",
    "    print(f\"Improvement: {(with_context_accuracy - without_context_accuracy):.2%}\")\n",
    "else:\n",
    "    print(\"No valid references found for evaluation.\")"
   ]
  },
  {
   "cell_type": "code",
   "execution_count": 11,
   "id": "baab9213-f964-4c34-8751-3e21fde46357",
   "metadata": {},
   "outputs": [
    {
     "ename": "NameError",
     "evalue": "name 'classification_report' is not defined",
     "output_type": "error",
     "traceback": [
      "\u001b[0;31m---------------------------------------------------------------------------\u001b[0m",
      "\u001b[0;31mNameError\u001b[0m                                 Traceback (most recent call last)",
      "Cell \u001b[0;32mIn[11], line 23\u001b[0m\n\u001b[1;32m     20\u001b[0m with_context_metrics[\u001b[38;5;124m'\u001b[39m\u001b[38;5;124mconfusion_matrix\u001b[39m\u001b[38;5;124m'\u001b[39m] \u001b[38;5;241m=\u001b[39m confusion_matrix(valid_refs, valid_preds, labels\u001b[38;5;241m=\u001b[39mlabels)\n\u001b[1;32m     22\u001b[0m \u001b[38;5;66;03m# Add classification report for per-class metrics\u001b[39;00m\n\u001b[0;32m---> 23\u001b[0m with_context_metrics[\u001b[38;5;124m'\u001b[39m\u001b[38;5;124mclassification_report\u001b[39m\u001b[38;5;124m'\u001b[39m] \u001b[38;5;241m=\u001b[39m \u001b[43mclassification_report\u001b[49m(valid_refs, valid_preds, labels\u001b[38;5;241m=\u001b[39mlabels)\n\u001b[1;32m     25\u001b[0m \u001b[38;5;66;03m# Print evaluation results\u001b[39;00m\n\u001b[1;32m     26\u001b[0m \u001b[38;5;28mprint\u001b[39m(\u001b[38;5;124m\"\u001b[39m\u001b[38;5;130;01m\\n\u001b[39;00m\u001b[38;5;124mWith Context - Evaluation Metrics:\u001b[39m\u001b[38;5;124m\"\u001b[39m)\n",
      "\u001b[0;31mNameError\u001b[0m: name 'classification_report' is not defined"
     ]
    }
   ],
   "source": [
    "# Calculate metrics for with-context responses\n",
    "with_context_metrics = {}\n",
    "\n",
    "# Filter out None values\n",
    "valid_indices = [i for i, x in enumerate(with_context_responses) if x is not None]\n",
    "valid_refs = [references[i] for i in valid_indices]\n",
    "valid_preds = [with_context_responses[i] for i in valid_indices]\n",
    "\n",
    "if valid_preds:\n",
    "    # Basic accuracy calculation\n",
    "    with_context_metrics['accuracy'] = accuracy_score(valid_refs, valid_preds)\n",
    "    \n",
    "    # For multi-class classification, we need to specify average method\n",
    "    with_context_metrics['precision'] = precision_score(valid_refs, valid_preds, average='macro', zero_division=0)\n",
    "    with_context_metrics['recall'] = recall_score(valid_refs, valid_preds, average='macro', zero_division=0)\n",
    "    with_context_metrics['f1'] = f1_score(valid_refs, valid_preds, average='macro', zero_division=0)\n",
    "    \n",
    "    # Generate confusion matrix with proper labels\n",
    "    labels = sorted(set(valid_refs + valid_preds))\n",
    "    with_context_metrics['confusion_matrix'] = confusion_matrix(valid_refs, valid_preds, labels=labels)\n",
    "    \n",
    "    # Add classification report for per-class metrics\n",
    "    with_context_metrics['classification_report'] = classification_report(valid_refs, valid_preds, labels=labels)\n",
    "    \n",
    "    # Print evaluation results\n",
    "    print(\"\\nWith Context - Evaluation Metrics:\")\n",
    "    print(f\"Accuracy: {with_context_metrics['accuracy']:.2f} ({with_context_metrics['accuracy'] * 100:.1f}%)\")\n",
    "    print(f\"Precision (macro): {with_context_metrics['precision']:.2f}\")\n",
    "    print(f\"Recall (macro): {with_context_metrics['recall']:.2f}\")\n",
    "    print(f\"F1-Score (macro): {with_context_metrics['f1']:.2f}\")\n",
    "    \n",
    "    # Pretty print confusion matrix with labels\n",
    "    cm = with_context_metrics['confusion_matrix']\n",
    "    print(\"\\nConfusion Matrix:\")\n",
    "    print(\"    \" + \" \".join(f\"{label:5s}\" for label in labels))\n",
    "    for i, label in enumerate(labels):\n",
    "        print(f\"{label}: {' '.join(f'{cm[i, j]:5d}' for j in range(len(labels)))}\")\n",
    "    \n",
    "    # Print classification report\n",
    "    print(\"\\nDetailed Classification Report:\")\n",
    "    print(with_context_metrics['classification_report'])\n",
    "else:\n",
    "    print(\"No valid predictions to evaluate for with-context responses\")"
   ]
  },
  {
   "cell_type": "code",
   "execution_count": 12,
   "id": "ccf7ccbf-5720-4b8a-ad8d-c6534b2d5b55",
   "metadata": {},
   "outputs": [
    {
     "ename": "NameError",
     "evalue": "name 'classification_report' is not defined",
     "output_type": "error",
     "traceback": [
      "\u001b[0;31m---------------------------------------------------------------------------\u001b[0m",
      "\u001b[0;31mNameError\u001b[0m                                 Traceback (most recent call last)",
      "Cell \u001b[0;32mIn[12], line 23\u001b[0m\n\u001b[1;32m     20\u001b[0m without_context_metrics[\u001b[38;5;124m'\u001b[39m\u001b[38;5;124mconfusion_matrix\u001b[39m\u001b[38;5;124m'\u001b[39m] \u001b[38;5;241m=\u001b[39m confusion_matrix(valid_refs, valid_preds, labels\u001b[38;5;241m=\u001b[39mlabels)\n\u001b[1;32m     22\u001b[0m \u001b[38;5;66;03m# Add classification report for per-class metrics\u001b[39;00m\n\u001b[0;32m---> 23\u001b[0m without_context_metrics[\u001b[38;5;124m'\u001b[39m\u001b[38;5;124mclassification_report\u001b[39m\u001b[38;5;124m'\u001b[39m] \u001b[38;5;241m=\u001b[39m \u001b[43mclassification_report\u001b[49m(valid_refs, valid_preds, labels\u001b[38;5;241m=\u001b[39mlabels)\n\u001b[1;32m     25\u001b[0m \u001b[38;5;66;03m# Print evaluation results\u001b[39;00m\n\u001b[1;32m     26\u001b[0m \u001b[38;5;28mprint\u001b[39m(\u001b[38;5;124m\"\u001b[39m\u001b[38;5;130;01m\\n\u001b[39;00m\u001b[38;5;124mWithout Context - Evaluation Metrics:\u001b[39m\u001b[38;5;124m\"\u001b[39m)\n",
      "\u001b[0;31mNameError\u001b[0m: name 'classification_report' is not defined"
     ]
    }
   ],
   "source": [
    "# Calculate metrics for without-context responses\n",
    "without_context_metrics = {}\n",
    "\n",
    "# Filter out None values\n",
    "valid_indices = [i for i, x in enumerate(without_context_responses) if x is not None]\n",
    "valid_refs = [references[i] for i in valid_indices]\n",
    "valid_preds = [without_context_responses[i] for i in valid_indices]\n",
    "\n",
    "if valid_preds:\n",
    "    # Basic accuracy calculation\n",
    "    without_context_metrics['accuracy'] = accuracy_score(valid_refs, valid_preds)\n",
    "    \n",
    "    # For multi-class classification, we need to specify average method\n",
    "    without_context_metrics['precision'] = precision_score(valid_refs, valid_preds, average='macro', zero_division=0)\n",
    "    without_context_metrics['recall'] = recall_score(valid_refs, valid_preds, average='macro', zero_division=0)\n",
    "    without_context_metrics['f1'] = f1_score(valid_refs, valid_preds, average='macro', zero_division=0)\n",
    "    \n",
    "    # Generate confusion matrix with proper labels\n",
    "    labels = sorted(set(valid_refs + valid_preds))\n",
    "    without_context_metrics['confusion_matrix'] = confusion_matrix(valid_refs, valid_preds, labels=labels)\n",
    "    \n",
    "    # Add classification report for per-class metrics\n",
    "    without_context_metrics['classification_report'] = classification_report(valid_refs, valid_preds, labels=labels)\n",
    "    \n",
    "    # Print evaluation results\n",
    "    print(\"\\nWithout Context - Evaluation Metrics:\")\n",
    "    print(f\"Accuracy: {without_context_metrics['accuracy']:.2f} ({without_context_metrics['accuracy'] * 100:.1f}%)\")\n",
    "    print(f\"Precision (macro): {without_context_metrics['precision']:.2f}\")\n",
    "    print(f\"Recall (macro): {without_context_metrics['recall']:.2f}\")\n",
    "    print(f\"F1-Score (macro): {without_context_metrics['f1']:.2f}\")\n",
    "    \n",
    "    # Pretty print confusion matrix with labels\n",
    "    cm = without_context_metrics['confusion_matrix']\n",
    "    print(\"\\nConfusion Matrix:\")\n",
    "    print(\"    \" + \" \".join(f\"{label:5s}\" for label in labels))\n",
    "    for i, label in enumerate(labels):\n",
    "        print(f\"{label}: {' '.join(f'{cm[i, j]:5d}' for j in range(len(labels)))}\")\n",
    "    \n",
    "    # Print classification report\n",
    "    print(\"\\nDetailed Classification Report:\")\n",
    "    print(without_context_metrics['classification_report'])\n",
    "else:\n",
    "    print(\"No valid predictions to evaluate for without-context responses\")"
   ]
  },
  {
   "cell_type": "code",
   "execution_count": 13,
   "id": "6936f18c-bb6b-4e9d-b74f-b195c584232a",
   "metadata": {},
   "outputs": [
    {
     "name": "stdout",
     "output_type": "stream",
     "text": [
      "\n",
      "Error Analysis:\n",
      "----------------------------------------------------------------------------------------------------\n",
      "Question                                           | Truth | With Ctx | Without Ctx | Notes\n",
      "----------------------------------------------------------------------------------------------------\n",
      "Which retinal layer is most affected by AMD? a)... | B     | C        | B          | Context misled\n",
      "What is the primary visual symptom of wet AMD? ... | B     | B        | C          | Context helped\n",
      "Which condition is dry AMD most likely to progr... | B     | B        | C          | Context helped\n",
      "Which type of AMD typically progresses more rap... | B     | D        | C          | Both incorrect\n",
      "What is the current status of a cure for advanc... | C     | C        | D          | Context helped\n",
      "Which vision type is least affected by AMD? a) ... | B     | B        | D          | Context helped\n",
      "Which diagnostic method is ineffective for AMD?... | C     | D        | C          | Context misled\n",
      "Which AMD type is more prevalent? a) Wet AMD b)... | B     | C        | A          | Both incorrect\n",
      "What is the effect of sunglasses on AMD prevent... | B     | B        | C          | Context helped\n",
      "Which systemic condition heightens AMD risk? a)... | B     | C        | B          | Context misled\n",
      "What is the primary treatment focus for dry AMD... | B     | B        | C          | Context helped\n",
      "What retinal feature is characteristic of dry A... | B     | B        | A          | Context helped\n",
      "At what age does AMD risk significantly increas... | D     | C        | C          | Both incorrect\n",
      "Which symptom is most associated with wet AMD? ... | B     | B        | D          | Context helped\n",
      "Which lifestyle factor exacerbates AMD? a) Regu... | B     | B        | C          | Context helped\n",
      "What visual ability does AMD often impair? a) C... | A     | D        | D          | Both incorrect\n",
      "Which is not a cause of AMD? a) Aging b) Geneti... | C     | A        | A          | Both incorrect\n",
      "Which gender has a slightly higher AMD prevalen... | B     | C        | C          | Both incorrect\n",
      "Which cardiovascular condition increases AMD ri... | B     | B        | C          | Context helped\n",
      "What metabolic factor is linked to AMD? a) High... | A     | A        | C          | Context helped\n",
      "Which eye structure remains unaffected by AMD? ... | B     | C        | D          | Both incorrect\n",
      "Does AMD increase physical risks in the elderly... | A     | C        | C          | Both incorrect\n",
      "Is AMD typically unilateral at onset? a) Yes b)... | B     | A        | B          | Context misled\n",
      "Which ethnicity has the highest AMD incidence? ... | B     | C        | A          | Both incorrect\n",
      "What visual distortion is typical of AMD? a) Do... | B     | B        | C          | Context helped\n",
      "Which functional ability does AMD impair? a) De... | A     | C        | D          | Both incorrect\n",
      "Can AMD occur in young children? a) Yes b) No c... | B     | A        | A          | Both incorrect\n",
      "Does AMD necessitate visual aids? a) Yes b) No ... | A     | A        | B          | Context helped\n",
      "Can exercise alone reverse AMD? a) Yes b) No c)... | B     | B        | D          | Context helped\n",
      "Which vision type is least impacted by AMD? a) ... | B     | D        | D          | Both incorrect\n",
      "Is dim light reading a cause of AMD? a) Yes b) ... | B     | A        | C          | Both incorrect\n",
      "What is the effect of avoiding sunlight on AMD?... | B     | B        | C          | Context helped\n",
      "Which nutrient is not part of AREDS? a) Vitamin... | C     | C        | D          | Context helped\n",
      "Which region has higher AMD prevalence? a) Deve... | B     | C        | C          | Both incorrect\n",
      "Can wet AMD be fully reversed? a) Yes b) No c) ... | B     | D        | D          | Both incorrect\n",
      "What retinal structure is central to AMD pathol... | B     | B        | C          | Context helped\n",
      "Does alcohol consumption directly cause AMD? a)... | B     | A        | B          | Context misled\n",
      "Does AMD cause floaters as a primary symptom? a... | B     | A        | A          | Both incorrect\n",
      "Which eye trait may elevate AMD risk? a) Dark e... | B     | B        | D          | Context helped\n",
      "What visual defect does AMD often produce? a) P... | B     | B        | D          | Context helped\n",
      "What retinal scan detects AMD? a) CT scan b) Re... | B     | D        | B          | Context misled\n",
      "Which adaptation does AMD affect? a) Low light ... | A     | A        | C          | Context helped\n",
      "What routine check monitors AMD? a) Blood test ... | B     | B        | C          | Context helped\n",
      "Does dry AMD cause retinal bleeding? a) Yes b) ... | B     | C        | C          | Both incorrect\n",
      "Which group has lower AMD rates? a) Caucasians ... | B     | A        | C          | Both incorrect\n",
      "Is acupuncture a standard AMD treatment? a) Yes... | B     | B        | D          | Context helped\n",
      "Which mental health issue may AMD increase? a) ... | A     | D        | D          | Both incorrect\n",
      "What photographic method aids AMD diagnosis? a)... | A     | B        | A          | Context misled\n",
      "Which retinal feature is most indicative of ear... | B     | B        | C          | Context helped\n",
      "What is a hallmark symptom of wet AMD? a) Gradu... | B     | A        | A          | Both incorrect\n",
      "Which stage of dry AMD precedes geographic atro... | B     | A        | D          | Both incorrect\n",
      "What habit significantly increases AMD risk? a)... | B     | B        | C          | Context helped\n",
      "Is there a definitive cure for intermediate AMD... | B     | B        | C          | Context helped\n",
      "Which test is irrelevant for AMD diagnosis? a) ... | B     | C        | C          | Both incorrect\n",
      "What is the main goal of dry AMD management? a)... | B     | C        | C          | Both incorrect\n",
      "What age group is most susceptible to AMD onset... | D     | C        | D          | Context misled\n",
      "Which event is typical of wet AMD onset? a) Gra... | B     | B        | C          | Context helped\n",
      "Can AMD spread through contact? a) Yes b) No c)... | B     | A        | A          | Both incorrect\n",
      "Which metabolic state increases AMD likelihood?... | A     | B        | D          | Both incorrect\n",
      "What visual function does AMD often alter? a) C... | A     | D        | D          | Both incorrect\n",
      "Which demographic shows a slight AMD prevalence... | B     | C        | A          | Both incorrect\n",
      "Which vascular condition is a known AMD risk fa... | B     | B        | D          | Context helped\n",
      "What lipid-related condition correlates with AM... | A     | C        | D          | Both incorrect\n",
      "Which eye component is spared in AMD progressio... | B     | B        | D          | Context helped\n",
      "Is AMD typically confined to one eye initially?... | B     | B        | A          | Context helped\n",
      "Which nutritional protocol aids dry AMD? a) ARE... | A     | C        | A          | Context misled\n",
      "Which racial group has elevated AMD rates? a) C... | A     | B        | B          | Both incorrect\n",
      "What visual anomaly does AMD commonly produce? ... | A     | B        | C          | Both incorrect\n",
      "Can AMD affect preschool-aged children? a) Yes ... | B     | A        | A          | Both incorrect\n",
      "Does AMD often require assistive devices? a) Ye... | A     | A        | B          | Context helped\n",
      "What light exposure is an AMD risk factor? a) B... | B     | D        | A          | Both incorrect\n",
      "Can physical activity alone halt AMD? a) Yes b)... | B     | D        | B          | Context misled\n",
      "Which vision type is most preserved in AMD? a) ... | B     | D        | C          | Both incorrect\n",
      "What primary factor drives AMD prevalence? a) A... | A     | B        | A          | Context misled\n",
      "Which vitamin is excluded from AREDS formulatio... | B     | C        | C          | Both incorrect\n",
      "Which areas report higher AMD rates? a) Rural t... | B     | D        | B          | Context misled\n",
      "Which daily function does AMD most disrupt? a) ... | A     | A        | D          | Context helped\n",
      "Is bright light exposure a primary AMD cause? a... | B     | A        | B          | Context misled\n",
      "Are floaters a common AMD symptom? a) Yes b) No... | B     | A        | C          | Both incorrect\n",
      "Which iris color may correlate with AMD risk? a... | B     | D        | D          | Both incorrect\n",
      "What visual impairment does AMD frequently caus... | B     | B        | C          | Context helped\n",
      "Does high sugar consumption directly trigger AM... | B     | A        | B          | Context misled\n",
      "Is night vision the primary loss in AMD? a) Yes... | B     | A        | B          | Context misled\n",
      "What scan type is used for AMD detection? a) MR... | B     | C        | C          | Both incorrect\n",
      "Does dry AMD typically involve retinal hemorrha... | B     | A        | B          | Context misled\n",
      "Which population has reduced AMD incidence? a) ... | B     | C        | D          | Both incorrect\n",
      "What imaging technique supports AMD diagnosis? ... | A     | D        | A          | Context misled\n",
      "Is calcium deficiency a primary AMD cause? a) Y... | B     | D        | B          | Context misled\n",
      "Which perceptual ability does AMD affect? a) Di... | A     | A        | D          | Context helped\n",
      "What is the approximate U.S. prevalence of AMD?... | C     | C        | D          | Context helped\n",
      "Can avoiding all dairy prevent wet AMD? a) Yes ... | B     | B        | D          | Context helped\n",
      "What retinal change is a hallmark of early AMD?... | B     | B        | C          | Context helped\n",
      "Which symptom distinguishes wet AMD from dry AM... | B     | B        | C          | Context helped\n",
      "Which AMD type involves abnormal blood vessel g... | B     | D        | B          | Context misled\n",
      "Is there a complete cure for late-stage AMD? a)... | B     | B        | C          | Context helped\n",
      "Which vision component is least impacted by AMD... | B     | B        | C          | Context helped\n",
      "Which diagnostic approach is useless for AMD? a... | C     | C        | D          | Context helped\n",
      "Which AMD variant is most common among patients... | B     | B        | A          | Context helped\n",
      "Which metabolic disorder is tied to increased A... | A     | D        | A          | Context misled\n",
      "What marks the onset of wet AMD? a) Slow periph... | B     | B        | C          | Context helped\n",
      "Is AMD a contagious condition? a) Yes b) No c) ... | B     | B        | A          | Context helped\n",
      "Can surgery restore vision lost to AMD? a) Yes ... | B     | C        | D          | Both incorrect\n",
      "What perceptual change does AMD often induce? a... | A     | D        | D          | Both incorrect\n",
      "What retinal effect does wet AMD produce? a) Dr... | B     | B        | A          | Context helped\n",
      "Which sex has a marginally higher AMD rate? a) ... | B     | C        | C          | Both incorrect\n",
      "Are over-the-counter drops effective for AMD tr... | B     | B        | D          | Context helped\n",
      "What blood lipid level correlates with AMD? a) ... | A     | D        | A          | Context misled\n",
      "Which eye part is unaffected by AMD? a) Macula ... | B     | D        | D          | Both incorrect\n",
      "Does AMD elevate physical hazards for seniors? ... | A     | A        | C          | Context helped\n",
      "Does AMD usually start in one eye only? a) Yes ... | B     | A        | A          | Both incorrect\n",
      "Which population has the highest AMD prevalence... | A     | C        | D          | Both incorrect\n",
      "What visual effect does AMD often cause? a) Wav... | A     | B        | C          | Both incorrect\n",
      "Can AMD occur in infants? a) Yes b) No c) Rarel... | B     | A        | A          | Both incorrect\n",
      "Does AMD typically require optical aids? a) Yes... | A     | A        | B          | Context helped\n",
      "What environmental factor contributes to AMD? a... | B     | C        | B          | Context misled\n",
      "Which vision aspect remains most intact with AM... | B     | B        | D          | Context helped\n",
      "Which nutrient is absent from AREDS supplements... | C     | C        | D          | Context helped\n",
      "Which regions see higher AMD incidence? a) Trop... | B     | C        | C          | Both incorrect\n",
      "Which retinal issue is specific to wet AMD? a) ... | B     | B        | C          | Context helped\n",
      "What regular checkup identifies AMD early? a) B... | B     | B        | C          | Context helped\n",
      "Are floaters a typical AMD symptom? a) Yes b) N... | B     | A        | C          | Both incorrect\n",
      "Which eye color may heighten AMD risk? a) Brown... | B     | A        | D          | Both incorrect\n",
      "What vision defect is common in AMD? a) Periphe... | B     | B        | C          | Context helped\n",
      "Does high fat intake directly cause AMD? a) Yes... | B     | A        | B          | Context misled\n",
      "Is night vision loss the main AMD effect? a) Ye... | B     | A        | B          | Context misled\n",
      "What retinal imaging aids AMD diagnosis? a) CT ... | B     | C        | B          | Context misled\n",
      "Which visual skill does AMD affect? a) Low-ligh... | A     | D        | A          | Context misled\n",
      "Is sleep deprivation a direct AMD cause? a) Yes... | B     | B        | A          | Context helped\n",
      "Which group has lower AMD prevalence? a) Caucas... | B     | C        | C          | Both incorrect\n",
      "Is herbal therapy a standard AMD cure? a) Yes b... | B     | D        | D          | Both incorrect\n",
      "What is the estimated U.S. AMD prevalence? a) 3... | C     | C        | D          | Context helped\n",
      "Which retinal sign is most associated with inte... | B     | A        | B          | Context misled\n",
      "What is a distinguishing feature of wet AMD ons... | B     | B        | A          | Context helped\n",
      "Is there a definitive cure for AMD as of 2025? ... | B     | B        | C          | Context helped\n",
      "Which visual field is most preserved in AMD? a)... | B     | C        | C          | Both incorrect\n",
      "What familial trait heightens AMD risk? a) Fami... | A     | B        | A          | Context misled\n",
      "Which AMD type dominates in prevalence? a) Wet ... | B     | A        | B          | Context misled\n",
      "Can UV protection eliminate AMD risk entirely? ... | B     | C        | B          | Context misled\n",
      "Which systemic disease correlates with higher A... | A     | A        | C          | Context helped\n",
      "What is the primary aim of dry AMD management? ... | B     | B        | C          | Context helped\n",
      "Above what age does AMD risk sharply rise? a) 4... | C     | C        | D          | Context helped\n",
      "What is a key indicator of wet AMD onset? a) Gr... | B     | A        | C          | Both incorrect\n",
      "What visual change is common with AMD? a) Color... | A     | D        | D          | Both incorrect\n",
      "Which gender shows a slight AMD prevalence incr... | B     | C        | A          | Both incorrect\n",
      "Which cardiovascular factor elevates AMD risk? ... | B     | B        | C          | Context helped\n",
      "What lipid condition is linked to AMD risk? a) ... | A     | B        | A          | Context misled\n",
      "Which eye structure is typically spared in AMD?... | B     | C        | C          | Both incorrect\n",
      "Does AMD increase specific risks for the elderl... | A     | A        | B          | Context helped\n",
      "Is AMD usually unilateral at first? a) Yes b) N... | B     | B        | A          | Context helped\n",
      "Which ethnic group has a higher AMD incidence? ... | A     | C        | C          | Both incorrect\n",
      "What visual alteration does AMD frequently caus... | A     | A        | B          | Context helped\n",
      "Can AMD affect young children? a) Yes b) No c) ... | B     | A        | A          | Both incorrect\n",
      "Does AMD often necessitate vision aids? a) Yes ... | A     | A        | B          | Context helped\n",
      "What light exposure increases AMD risk? a) UV l... | A     | C        | C          | Both incorrect\n",
      "Which vision type is least altered by AMD? a) C... | B     | B        | D          | Context helped\n",
      "Which recognition skill does AMD disrupt? a) Fa... | A     | A        | C          | Context helped\n",
      "What is a primary visual clue of wet AMD? a) Pe... | B     | B        | C          | Context helped\n",
      "Which habit is a proven AMD risk factor? a) Smo... | A     | A        | C          | Context helped\n",
      "Which vision area is typically spared in AMD? a... | B     | D        | C          | Both incorrect\n",
      "Which test is irrelevant for AMD screening? a) ... | B     | C        | B          | Context misled\n",
      "Which AMD form is most widespread? a) Wet AMD b... | B     | A        | B          | Context misled\n",
      "Which chronic condition is linked to elevated A... | A     | A        | C          | Context helped\n",
      "What retinal deposit characterizes dry AMD? a) ... | B     | D        | B          | Context misled\n",
      "At what age does AMD risk significantly escalat... | D     | B        | C          | Both incorrect\n",
      "What signals the start of wet AMD? a) Gradual p... | B     | B        | A          | Context helped\n",
      "Can AMD be transmitted person-to-person? a) Yes... | B     | A        | B          | Context misled\n",
      "Which weight condition raises AMD risk? a) Obes... | A     | C        | D          | Both incorrect\n",
      "Can surgery fully reverse AMD effects? a) Yes b... | B     | C        | B          | Context misled\n",
      "What visual skill does AMD often compromise? a)... | A     | A        | D          | Context helped\n",
      "Which gender has a slightly higher AMD incidenc... | B     | B        | C          | Context helped\n",
      "What lipid profile is associated with AMD? a) H... | A     | D        | D          | Both incorrect\n",
      "Which eye structure is generally unaffected by ... | B     | D        | D          | Both incorrect\n",
      "Which racial group faces higher AMD rates? a) C... | A     | B        | B          | Both incorrect\n",
      "What visual distortion is frequent in AMD? a) W... | A     | B        | A          | Context misled\n",
      "Can AMD occur in toddlers? a) Yes b) No c) Rare... | B     | A        | A          | Both incorrect\n",
      "What environmental exposure is tied to AMD risk... | B     | B        | D          | Context helped\n",
      "Which vision type is most intact in AMD? a) Cen... | B     | C        | D          | Both incorrect\n",
      "Can avoiding sunlight entirely prevent AMD? a) ... | B     | D        | B          | Context misled\n",
      "Which vitamin is not in the AREDS formula? a) V... | C     | D        | D          | Both incorrect\n",
      "Which areas have higher AMD rates? a) Rural tro... | B     | D        | C          | Both incorrect\n",
      "Which daily task does AMD most affect? a) Drivi... | A     | A        | B          | Context helped\n",
      "Which retinal event occurs in wet AMD? a) Druse... | B     | B        | C          | Context helped\n",
      "Is bright light exposure a direct AMD trigger? ... | B     | A        | B          | Context misled\n",
      "Which eye trait may increase AMD risk? a) Dark ... | B     | A        | D          | Both incorrect\n",
      "What visual issue does AMD often create? a) Per... | B     | A        | C          | Both incorrect\n",
      "Can AMD occur in toddlers? a) Yes b) No c) Rare... | B     | A        | A          | Both incorrect\n",
      "What symptom is most characteristic of wet AMD ... | B     | B        | D          | Context helped\n",
      "Is there a complete cure for AMD as of March 20... | B     | B        | C          | Context helped\n",
      "Which vision aspect is least affected by AMD? a... | B     | C        | D          | Both incorrect\n",
      "Which diagnostic method is unrelated to AMD? a)... | C     | C        | D          | Context helped\n",
      "Which AMD variant is most common? a) Wet AMD b)... | B     | B        | A          | Context helped\n",
      "Which metabolic condition is associated with hi... | A     | B        | D          | Both incorrect\n",
      "What is the primary focus of dry AMD treatment?... | B     | B        | C          | Context helped\n",
      "What is the term for the wavy appearance of str... | B     | B        | C          | Context helped\n",
      "What percentage of AMD cases progress to the ad... | B     | A        | C          | Both incorrect\n",
      "What is the name of the advanced form of dry AM... | B     | B        | A          | Context helped\n",
      "Which mineral is part of the AREDS2 formula for... | B     | B        | C          | Context helped\n",
      "What is the typical first sign of wet AMD notic... | B     | A        | C          | Both incorrect\n",
      "Which condition is a hallmark of wet AMD but no... | B     | B        | C          | Context helped\n",
      "What is the leading risk factor for AMD? a) Dia... | B     | C        | B          | Context misled\n",
      "Which type of light exposure may increase the r... | B     | B        | C          | Context helped\n",
      "Which ethnic group has the highest prevalence o... | A     | A        | C          | Context helped\n",
      "What is the name of the clinical trial that ref... | A     | C        | B          | Both incorrect\n",
      "Which of the following is a rare complication o... | A     | C        | D          | Both incorrect\n",
      "What is the estimated prevalence of AMD in peop... | C     | C        | D          | Context helped\n",
      "Which nutrient was removed from the original AR... | A     | A        | C          | Context helped\n",
      "Which cardiovascular condition is a risk factor... | A     | A        | D          | Context helped\n",
      "Which of the following is a common adaptive str... | A     | C        | C          | Both incorrect\n",
      "Which nutrient in the AREDS2 formula helps filt... | A     | A        | D          | Context helped\n",
      "What is the name of the condition where blood l... | A     | B        | B          | Both incorrect\n",
      "Which of the following is a common mobility aid... | A     | D        | A          | Context misled\n",
      "What is the name of the condition where the mac... | A     | A        | C          | Context helped\n",
      "What is the name of the condition where the ret... | A     | A        | C          | Context helped\n",
      "Which dietary habit is linked to a higher risk ... | A     | A        | D          | Context helped\n",
      "What is the name of the condition where the ret... | A     | B        | A          | Context misled\n",
      "What is the name of the condition where the ret... | A     | B        | C          | Both incorrect\n",
      "What is the name of the condition where the mac... | A     | A        | D          | Context helped\n",
      "What is the name of the condition where the ret... | A     | A        | B          | Context helped\n",
      "Which of the following is a common cooking aid ... | A     | A        | D          | Context helped\n",
      "What is the name of the condition where the ret... | A     | B        | C          | Both incorrect\n",
      "\n",
      "Summary Statistics:\n",
      "Total questions: 500\n",
      "Answerable questions (with valid ground truth): 500\n",
      "Both approaches correct: 280 (56.0% of answerable)\n",
      "Context helped: 96 (19.2% of answerable)\n",
      "Context misled: 42 (8.4% of answerable)\n",
      "Both approaches incorrect: 82 (16.4% of answerable)\n",
      "\n",
      "Net impact of context: +54 questions (10.8% of answerable)\n"
     ]
    }
   ],
   "source": [
    "# Compare errors between with-context and without-context approaches\n",
    "print(\"\\nError Analysis:\")\n",
    "print(\"-\" * 100)\n",
    "print(f\"{'Question':50} | {'Truth':5} | {'With Ctx':8} | {'Without Ctx':10} | {'Notes'}\")\n",
    "print(\"-\" * 100)\n",
    "\n",
    "# Count different error types\n",
    "context_helped_count = 0\n",
    "context_misled_count = 0\n",
    "both_incorrect_count = 0\n",
    "both_correct_count = 0\n",
    "\n",
    "for i, row in df.iterrows():\n",
    "    # Get standardized answers for comparison\n",
    "    ground_truth = row['standardized_answer']\n",
    "    with_context = row['with_context_parsed']\n",
    "    without_context = row['without_context_parsed']\n",
    "    \n",
    "    # Check if either prediction is incorrect (using standardized answers)\n",
    "    with_context_correct = (with_context == ground_truth) if (with_context is not None and ground_truth is not None) else False\n",
    "    without_context_correct = (without_context == ground_truth) if (without_context is not None and ground_truth is not None) else False\n",
    "    \n",
    "    # Track counts for summary\n",
    "    if with_context_correct and without_context_correct:\n",
    "        both_correct_count += 1\n",
    "    elif with_context_correct and not without_context_correct:\n",
    "        context_helped_count += 1\n",
    "    elif not with_context_correct and without_context_correct:\n",
    "        context_misled_count += 1\n",
    "    elif not with_context_correct and not without_context_correct:\n",
    "        both_incorrect_count += 1\n",
    "    \n",
    "    # Only show questions where at least one approach was incorrect\n",
    "    if not (with_context_correct and without_context_correct) and ground_truth is not None:\n",
    "        # Truncate question for display\n",
    "        question = row['question'][:47] + \"...\" if len(row['question']) > 47 else row['question'].ljust(47)\n",
    "        \n",
    "        # Format for display\n",
    "        truth_display = str(ground_truth).ljust(5) if ground_truth else \"None\".ljust(5)\n",
    "        with_ctx_display = str(with_context).ljust(8) if with_context else \"None\".ljust(8)\n",
    "        without_ctx_display = str(without_context).ljust(10) if without_context else \"None\".ljust(10)\n",
    "        \n",
    "        # Determine notes\n",
    "        if with_context_correct and not without_context_correct:\n",
    "            notes = \"Context helped\"\n",
    "        elif not with_context_correct and without_context_correct:\n",
    "            notes = \"Context misled\"\n",
    "        else:\n",
    "            notes = \"Both incorrect\"\n",
    "            \n",
    "        print(f\"{question} | {truth_display} | {with_ctx_display} | {without_ctx_display} | {notes}\")\n",
    "\n",
    "# Print summary statistics\n",
    "total_questions = len(df)\n",
    "answerable_questions = sum(1 for ans in df['standardized_answer'] if ans is not None)\n",
    "\n",
    "print(\"\\nSummary Statistics:\")\n",
    "print(f\"Total questions: {total_questions}\")\n",
    "print(f\"Answerable questions (with valid ground truth): {answerable_questions}\")\n",
    "print(f\"Both approaches correct: {both_correct_count} ({both_correct_count/answerable_questions*100:.1f}% of answerable)\")\n",
    "print(f\"Context helped: {context_helped_count} ({context_helped_count/answerable_questions*100:.1f}% of answerable)\")\n",
    "print(f\"Context misled: {context_misled_count} ({context_misled_count/answerable_questions*100:.1f}% of answerable)\")\n",
    "print(f\"Both approaches incorrect: {both_incorrect_count} ({both_incorrect_count/answerable_questions*100:.1f}% of answerable)\")\n",
    "\n",
    "# Net impact of context\n",
    "net_impact = context_helped_count - context_misled_count\n",
    "print(f\"\\nNet impact of context: {'+' if net_impact > 0 else ''}{net_impact} questions \" +\n",
    "      f\"({net_impact/answerable_questions*100:.1f}% of answerable)\")"
   ]
  },
  {
   "cell_type": "code",
   "execution_count": 14,
   "id": "5ea50826-2915-47ff-b9a9-c963c293638c",
   "metadata": {},
   "outputs": [
    {
     "data": {
      "image/png": "[encoded data removed]",
      "text/plain": [
       "<Figure size 1000x600 with 1 Axes>"
      ]
     },
     "metadata": {},
     "output_type": "display_data"
    },
    {
     "data": {
      "image/png": "[encoded data removed]",
      "text/plain": [
       "<Figure size 1400x600 with 4 Axes>"
      ]
     },
     "metadata": {},
     "output_type": "display_data"
    },
    {
     "ename": "NameError",
     "evalue": "name 'Counter' is not defined",
     "output_type": "error",
     "traceback": [
      "\u001b[0;31m---------------------------------------------------------------------------\u001b[0m",
      "\u001b[0;31mNameError\u001b[0m                                 Traceback (most recent call last)",
      "Cell \u001b[0;32mIn[14], line 76\u001b[0m\n\u001b[1;32m     74\u001b[0m \u001b[38;5;66;03m# Add class distribution visualization\u001b[39;00m\n\u001b[1;32m     75\u001b[0m plt\u001b[38;5;241m.\u001b[39mfigure(figsize\u001b[38;5;241m=\u001b[39m(\u001b[38;5;241m10\u001b[39m, \u001b[38;5;241m6\u001b[39m))\n\u001b[0;32m---> 76\u001b[0m class_counts \u001b[38;5;241m=\u001b[39m \u001b[43mCounter\u001b[49m(valid_refs)\n\u001b[1;32m     77\u001b[0m class_labels \u001b[38;5;241m=\u001b[39m \u001b[38;5;28msorted\u001b[39m(class_counts\u001b[38;5;241m.\u001b[39mkeys())\n\u001b[1;32m     78\u001b[0m class_values \u001b[38;5;241m=\u001b[39m [class_counts[label] \u001b[38;5;28;01mfor\u001b[39;00m label \u001b[38;5;129;01min\u001b[39;00m class_labels]\n",
      "\u001b[0;31mNameError\u001b[0m: name 'Counter' is not defined"
     ]
    },
    {
     "data": {
      "text/plain": [
       "<Figure size 1000x600 with 0 Axes>"
      ]
     },
     "metadata": {},
     "output_type": "display_data"
    }
   ],
   "source": [
    "# Visualize metrics comparison\n",
    "if with_context_metrics and without_context_metrics:\n",
    "    metrics = ['accuracy', 'precision', 'recall', 'f1']\n",
    "    with_context_values = [with_context_metrics[m] for m in metrics]\n",
    "    without_context_values = [without_context_metrics[m] for m in metrics]\n",
    "    \n",
    "    x = np.arange(len(metrics))\n",
    "    width = 0.35\n",
    "    \n",
    "    fig, ax = plt.subplots(figsize=(10, 6))\n",
    "    rects1 = ax.bar(x - width/2, with_context_values, width, label='With Context', color='#5DA5DA')\n",
    "    rects2 = ax.bar(x + width/2, without_context_values, width, label='Without Context', color='#FAA43A')\n",
    "    \n",
    "    # Add labels and title\n",
    "    ax.set_xlabel('Metrics', fontsize=12)\n",
    "    ax.set_ylabel('Scores', fontsize=12)\n",
    "    ax.set_title('Performance Comparison: With vs. Without Context', fontsize=14, fontweight='bold')\n",
    "    ax.set_xticks(x)\n",
    "    ax.set_xticklabels([m.capitalize() for m in metrics], fontsize=11)\n",
    "    ax.legend(fontsize=11)\n",
    "    ax.set_ylim(0, 1.1)\n",
    "    ax.grid(axis='y', linestyle='--', alpha=0.7)\n",
    "    \n",
    "    # Add value labels\n",
    "    def add_labels(rects):\n",
    "        for rect in rects:\n",
    "            height = rect.get_height()\n",
    "            ax.annotate(f'{height:.2f}',\n",
    "                        xy=(rect.get_x() + rect.get_width() / 2, height),\n",
    "                        xytext=(0, 3),  # 3 points vertical offset\n",
    "                        textcoords=\"offset points\",\n",
    "                        ha='center', va='bottom',\n",
    "                        fontsize=10, fontweight='bold')\n",
    "    \n",
    "    add_labels(rects1)\n",
    "    add_labels(rects2)\n",
    "    \n",
    "    # Add improvement percentages\n",
    "    for i, metric in enumerate(metrics):\n",
    "        improvement = with_context_values[i] - without_context_values[i]\n",
    "        if improvement != 0:\n",
    "            ax.annotate(f'{improvement:+.2f}',\n",
    "                       xy=(i, max(with_context_values[i], without_context_values[i]) + 0.05),\n",
    "                       ha='center',\n",
    "                       color='green' if improvement > 0 else 'red',\n",
    "                       fontweight='bold')\n",
    "    \n",
    "    plt.tight_layout()\n",
    "    plt.show()\n",
    "    \n",
    "    # Visualize confusion matrices for multi-class (MCQ)\n",
    "    fig, (ax1, ax2) = plt.subplots(1, 2, figsize=(14, 6))\n",
    "    \n",
    "    # Get labels from the confusion matrices\n",
    "    labels = sorted(set(valid_refs + valid_preds))\n",
    "    \n",
    "    # With context confusion matrix\n",
    "    sns.heatmap(with_context_metrics['confusion_matrix'], annot=True, fmt='d', cmap='Blues', ax=ax1,\n",
    "                xticklabels=labels, yticklabels=labels)\n",
    "    ax1.set_title('Confusion Matrix - With Context', fontsize=13, fontweight='bold')\n",
    "    ax1.set_xlabel('Predicted', fontsize=11)\n",
    "    ax1.set_ylabel('Actual', fontsize=11)\n",
    "    \n",
    "    # Without context confusion matrix\n",
    "    sns.heatmap(without_context_metrics['confusion_matrix'], annot=True, fmt='d', cmap='Blues', ax=ax2,\n",
    "                xticklabels=labels, yticklabels=labels)\n",
    "    ax2.set_title('Confusion Matrix - Without Context', fontsize=13, fontweight='bold')\n",
    "    ax2.set_xlabel('Predicted', fontsize=11)\n",
    "    ax2.set_ylabel('Actual', fontsize=11)\n",
    "    \n",
    "    plt.tight_layout()\n",
    "    plt.show()\n",
    "    \n",
    "    # Add class distribution visualization\n",
    "    plt.figure(figsize=(10, 6))\n",
    "    class_counts = Counter(valid_refs)\n",
    "    class_labels = sorted(class_counts.keys())\n",
    "    class_values = [class_counts[label] for label in class_labels]\n",
    "    \n",
    "    plt.bar(class_labels, class_values, color='#60BD68')\n",
    "    plt.title('Distribution of Answer Classes in Dataset', fontsize=14, fontweight='bold')\n",
    "    plt.xlabel('Answer Option', fontsize=12)\n",
    "    plt.ylabel('Count', fontsize=12)\n",
    "    plt.grid(axis='y', linestyle='--', alpha=0.7)\n",
    "    \n",
    "    # Add count labels\n",
    "    for i, v in enumerate(class_values):\n",
    "        plt.text(i, v + 0.5, str(v), ha='center', fontweight='bold')\n",
    "    \n",
    "    plt.tight_layout()\n",
    "    plt.show()\n",
    "    \n",
    "    # Add a per-class performance comparison\n",
    "    # Extract per-class metrics from classification reports\n",
    "    with_context_report = classification_report(valid_refs, valid_preds, labels=labels, output_dict=True)\n",
    "    without_context_report = classification_report(valid_refs, valid_preds, labels=labels, output_dict=True)\n",
    "    \n",
    "    # Prepare data for plotting\n",
    "    class_metrics = []\n",
    "    for label in labels:\n",
    "        if label in with_context_report and label in without_context_report:\n",
    "            with_f1 = with_context_report[label]['f1-score']\n",
    "            without_f1 = without_context_report[label]['f1-score']\n",
    "            class_metrics.append({\n",
    "                'class': label,\n",
    "                'with_context': with_f1,\n",
    "                'without_context': without_f1,\n",
    "                'improvement': with_f1 - without_f1\n",
    "            })\n",
    "    \n",
    "    if class_metrics:\n",
    "        # Create DataFrame for easier plotting\n",
    "        class_df = pd.DataFrame(class_metrics)\n",
    "        \n",
    "        # Plot per-class F1 scores\n",
    "        plt.figure(figsize=(10, 6))\n",
    "        \n",
    "        x = np.arange(len(class_df))\n",
    "        width = 0.35\n",
    "        \n",
    "        plt.bar(x - width/2, class_df['with_context'], width, label='With Context', color='#5DA5DA')\n",
    "        plt.bar(x + width/2, class_df['without_context'], width, label='Without Context', color='#FAA43A')\n",
    "        \n",
    "        plt.xlabel('Answer Option', fontsize=12)\n",
    "        plt.ylabel('F1 Score', fontsize=12)\n",
    "        plt.title('F1 Score Comparison by Answer Option', fontsize=14, fontweight='bold')\n",
    "        plt.xticks(x, class_df['class'])\n",
    "        plt.legend()\n",
    "        plt.grid(axis='y', linestyle='--', alpha=0.7)\n",
    "        \n",
    "        # Add improvement labels\n",
    "        for i, row in enumerate(class_metrics):\n",
    "            improvement = row['improvement']\n",
    "            if improvement != 0:\n",
    "                plt.annotate(f'{improvement:+.2f}',\n",
    "                           xy=(i, max(row['with_context'], row['without_context']) + 0.05),\n",
    "                           ha='center',\n",
    "                           color='green' if improvement > 0 else 'red',\n",
    "                           fontweight='bold')\n",
    "        \n",
    "        plt.tight_layout()\n",
    "        plt.show()\n",
    "else:\n",
    "    print(\"Not enough data to visualize comparison\")"
   ]
  },
  {
   "cell_type": "code",
   "execution_count": null,
   "id": "cf0ceb96-a5e8-44a9-a1b9-16db0927a61e",
   "metadata": {},
   "outputs": [],
   "source": [
    "# Analyze the impact of context on each question\n",
    "df['context_impact'] = None\n",
    "\n",
    "for i, row in df.iterrows():\n",
    "    # Get standardized answers for comparison\n",
    "    ground_truth = row['standardized_answer']\n",
    "    with_context = row['with_context_parsed']\n",
    "    without_context = row['without_context_parsed']\n",
    "    \n",
    "    # Skip if ground truth or either prediction is None\n",
    "    if ground_truth is None or with_context is None or without_context is None:\n",
    "        df.at[i, 'context_impact'] = 'Unknown'\n",
    "        continue\n",
    "        \n",
    "    with_correct = with_context == ground_truth\n",
    "    without_correct = without_context == ground_truth\n",
    "    \n",
    "    if with_correct and not without_correct:\n",
    "        df.at[i, 'context_impact'] = 'Positive'\n",
    "    elif not with_correct and without_correct:\n",
    "        df.at[i, 'context_impact'] = 'Negative'\n",
    "    elif with_correct and without_correct:\n",
    "        df.at[i, 'context_impact'] = 'Neutral'\n",
    "    else:  # both incorrect\n",
    "        df.at[i, 'context_impact'] = 'No Help'\n",
    "\n",
    "# Summarize context impact\n",
    "impact_counts = df['context_impact'].value_counts()\n",
    "print(\"\\nContext Impact Summary:\")\n",
    "for impact, count in impact_counts.items():\n",
    "    percentage = count/len(df)*100\n",
    "    print(f\"{impact}: {count} questions ({percentage:.1f}%)\")\n",
    "\n",
    "# Calculate net positive impact\n",
    "positive_count = impact_counts.get('Positive', 0)\n",
    "negative_count = impact_counts.get('Negative', 0)\n",
    "net_impact = positive_count - negative_count\n",
    "net_percentage = net_impact / len(df) * 100\n",
    "print(f\"\\nNet Positive Impact: {net_impact} questions ({net_percentage:.1f}%)\")\n",
    "\n",
    "# Visualize context impact with improved colors\n",
    "plt.figure(figsize=(10, 6))\n",
    "impact_order = ['Positive', 'Neutral', 'Negative', 'No Help', 'Unknown']\n",
    "impact_colors = {\n",
    "    'Positive': '#60BD68',  # Green\n",
    "    'Neutral': '#5DA5DA',   # Blue\n",
    "    'Negative': '#F15854',  # Red\n",
    "    'No Help': '#FAA43A',   # Orange\n",
    "    'Unknown': '#CCCCCC'    # Gray\n",
    "}\n",
    "\n",
    "# Reorder the data for consistent display\n",
    "ordered_counts = []\n",
    "ordered_labels = []\n",
    "for impact in impact_order:\n",
    "    if impact in impact_counts:\n",
    "        ordered_counts.append(impact_counts[impact])\n",
    "        ordered_labels.append(impact)\n",
    "\n",
    "# Create the bar chart\n",
    "bars = plt.bar(ordered_labels, ordered_counts, color=[impact_colors[impact] for impact in ordered_labels])\n",
    "plt.title('Impact of Context on Multiple Choice Questions', fontsize=14, fontweight='bold')\n",
    "plt.xlabel('Impact Type', fontsize=12)\n",
    "plt.ylabel('Number of Questions', fontsize=12)\n",
    "plt.grid(axis='y', linestyle='--', alpha=0.7)\n",
    "\n",
    "# Add count and percentage labels on top of bars\n",
    "for i, bar in enumerate(bars):\n",
    "    height = bar.get_height()\n",
    "    percentage = height/len(df)*100\n",
    "    plt.text(bar.get_x() + bar.get_width()/2., height + 0.5,\n",
    "            f'{int(height)}\\n({percentage:.1f}%)',\n",
    "            ha='center', va='bottom', fontweight='bold')\n",
    "\n",
    "plt.tight_layout()\n",
    "plt.show()\n",
    "\n",
    "# Additional analysis: When does context help vs. hurt?\n",
    "# Create a function to extract key features from questions\n",
    "def extract_features(question):\n",
    "    features = {}\n",
    "    # Check for question types\n",
    "    features['is_cause_effect'] = 'cause' in question.lower() or 'because' in question.lower() or 'due to' in question.lower()\n",
    "    features['mentions_specific_condition'] = any(word in question.lower() for word in ['diabetes', 'hypertension', 'obesity', 'smoking'])\n",
    "    features['mentions_therapy'] = any(word in question.lower() for word in ['therapy', 'treatment', 'surgery', 'injection'])\n",
    "    features['about_disease_mechanism'] = 'mechanism' in question.lower() or 'pathway' in question.lower()\n",
    "    return features\n",
    "\n",
    "# Apply feature extraction\n",
    "for i, row in df.iterrows():\n",
    "    features = extract_features(row['question'])\n",
    "    for feature, value in features.items():\n",
    "        df.at[i, feature] = value\n",
    "\n",
    "# Analyze which features correlate with positive context impact\n",
    "print(\"\\nFeature Analysis for Context Impact:\")\n",
    "features = ['is_cause_effect', 'mentions_specific_condition', 'mentions_therapy', 'about_disease_mechanism']\n",
    "\n",
    "for feature in features:\n",
    "    positive_with_feature = df[(df['context_impact'] == 'Positive') & (df[feature] == True)].shape[0]\n",
    "    total_with_feature = df[df[feature] == True].shape[0]\n",
    "    \n",
    "    negative_with_feature = df[(df['context_impact'] == 'Negative') & (df[feature] == True)].shape[0]\n",
    "    \n",
    "    if total_with_feature > 0:\n",
    "        positive_rate = positive_with_feature / total_with_feature * 100\n",
    "        negative_rate = negative_with_feature / total_with_feature * 100\n",
    "        print(f\"\\nFeature: {feature}\")\n",
    "        print(f\"  Questions with this feature: {total_with_feature}\")\n",
    "        print(f\"  Positive impact rate: {positive_rate:.1f}%\")\n",
    "        print(f\"  Negative impact rate: {negative_rate:.1f}%\")\n",
    "        print(f\"  Net positive rate: {positive_rate - negative_rate:.1f}%\")\n",
    "\n",
    "# Visualize the feature analysis\n",
    "feature_data = []\n",
    "for feature in features:\n",
    "    positive_count = df[(df['context_impact'] == 'Positive') & (df[feature] == True)].shape[0]\n",
    "    negative_count = df[(df['context_impact'] == 'Negative') & (df[feature] == True)].shape[0]\n",
    "    total_count = df[df[feature] == True].shape[0]\n",
    "    \n",
    "    if total_count > 0:\n",
    "        feature_data.append({\n",
    "            'feature': feature.replace('_', ' ').title(),\n",
    "            'positive_rate': positive_count / total_count * 100,\n",
    "            'negative_rate': negative_count / total_count * 100,\n",
    "            'neutral_rate': (total_count - positive_count - negative_count) / total_count * 100\n",
    "        })\n",
    "\n",
    "if feature_data:\n",
    "    feature_df = pd.DataFrame(feature_data)\n",
    "    \n",
    "    # Plot the feature analysis\n",
    "    plt.figure(figsize=(12, 6))\n",
    "    \n",
    "    x = np.arange(len(feature_df))\n",
    "    width = 0.25\n",
    "    \n",
    "    plt.bar(x - width, feature_df['positive_rate'], width, label='Positive Impact', color='#60BD68')\n",
    "    plt.bar(x, feature_df['negative_rate'], width, label='Negative Impact', color='#F15854')\n",
    "    plt.bar(x + width, feature_df['neutral_rate'], width, label='Neutral/No Help', color='#5DA5DA')\n",
    "    \n",
    "    plt.xlabel('Question Features', fontsize=12)\n",
    "    plt.ylabel('Percentage of Questions', fontsize=12)\n",
    "    plt.title('Impact of Context by Question Feature', fontsize=14, fontweight='bold')\n",
    "    plt.xticks(x, feature_df['feature'])\n",
    "    plt.legend()\n",
    "    plt.grid(axis='y', linestyle='--', alpha=0.7)\n",
    "    \n",
    "    plt.tight_layout()\n",
    "    plt.show()"
   ]
  },
  {
   "cell_type": "code",
   "execution_count": null,
   "id": "6345d4e4-4a8e-4c14-a998-98afba006a33",
   "metadata": {},
   "outputs": [],
   "source": [
    "# Generate a summary report\n",
    "print(\"\\n\" + \"=\" * 80)\n",
    "print(\"EVALUATION SUMMARY REPORT - MULTIPLE CHOICE QUESTIONS\")\n",
    "print(\"=\" * 80)\n",
    "\n",
    "# Count valid questions and answers\n",
    "valid_questions = df['standardized_answer'].notna().sum()\n",
    "total_questions = len(df)\n",
    "\n",
    "print(f\"Total Questions: {total_questions}\")\n",
    "print(f\"Questions with Valid Ground Truth: {valid_questions} ({valid_questions/total_questions*100:.1f}%)\")\n",
    "\n",
    "# Count distribution of answers\n",
    "if valid_questions > 0:\n",
    "    answer_counts = df['standardized_answer'].value_counts()\n",
    "    print(\"\\nDistribution of Ground Truth Answers:\")\n",
    "    for answer, count in answer_counts.items():\n",
    "        print(f\"  Option {answer}: {count} questions ({count/valid_questions*100:.1f}%)\")\n",
    "\n",
    "# Performance metrics\n",
    "print(\"\\nPerformance Summary:\")\n",
    "if with_context_metrics and without_context_metrics:\n",
    "    print(f\"With Context Accuracy: {with_context_metrics['accuracy']:.2f} ({with_context_metrics['accuracy']*100:.1f}%)\")\n",
    "    print(f\"Without Context Accuracy: {without_context_metrics['accuracy']:.2f} ({without_context_metrics['accuracy']*100:.1f}%)\")\n",
    "    print(f\"With Context Macro F1: {with_context_metrics['f1']:.2f}\")\n",
    "    print(f\"Without Context Macro F1: {without_context_metrics['f1']:.2f}\")\n",
    "    \n",
    "    # Determine if context helped overall\n",
    "    if with_context_metrics['accuracy'] > without_context_metrics['accuracy']:\n",
    "        diff = with_context_metrics['accuracy'] - without_context_metrics['accuracy']\n",
    "        rel_improvement = diff / without_context_metrics['accuracy'] * 100\n",
    "        print(f\"\\nContext improved accuracy by {diff:.2f} ({diff*100:.1f}% absolute, {rel_improvement:.1f}% relative)\")\n",
    "    elif with_context_metrics['accuracy'] < without_context_metrics['accuracy']:\n",
    "        diff = without_context_metrics['accuracy'] - with_context_metrics['accuracy']\n",
    "        rel_decline = diff / with_context_metrics['accuracy'] * 100\n",
    "        print(f\"\\nContext decreased accuracy by {diff:.2f} ({diff*100:.1f}% absolute, {rel_decline:.1f}% relative)\")\n",
    "    else:\n",
    "        print(\"\\nContext had no overall impact on accuracy\")\n",
    "\n",
    "# Context impact summary\n",
    "print(\"\\nContext Impact Analysis:\")\n",
    "for impact, count in impact_counts.items():\n",
    "    print(f\"  {impact}: {count} questions ({count/total_questions*100:.1f}%)\")\n",
    "\n",
    "# Calculate net positive ratio\n",
    "positive_count = impact_counts.get('Positive', 0)\n",
    "negative_count = impact_counts.get('Negative', 0)\n",
    "if positive_count + negative_count > 0:\n",
    "    positive_ratio = positive_count / (positive_count + negative_count)\n",
    "    print(f\"\\nPositive-to-Negative Impact Ratio: {positive_ratio:.2f} ({positive_count}:{negative_count})\")\n",
    "\n",
    "# Per-option performance\n",
    "print(\"\\nPer-Option Performance (With Context):\")\n",
    "# Create a dictionary to store per-option accuracy\n",
    "option_metrics = {}\n",
    "\n",
    "# Identify options present in the dataset\n",
    "all_options = set(df['standardized_answer'].dropna())\n",
    "\n",
    "# Calculate metrics for each option\n",
    "for option in all_options:\n",
    "    option_indices = df[df['standardized_answer'] == option].index\n",
    "    correct_count = sum(1 for i in option_indices if df.loc[i, 'with_context_parsed'] == option)\n",
    "    total_count = len(option_indices)\n",
    "    if total_count > 0:\n",
    "        accuracy = correct_count / total_count\n",
    "        option_metrics[option] = {\n",
    "            'accuracy': accuracy,\n",
    "            'count': total_count,\n",
    "            'correct': correct_count\n",
    "        }\n",
    "\n",
    "# Display per-option metrics\n",
    "for option in sorted(option_metrics.keys()):\n",
    "    metrics = option_metrics[option]\n",
    "    print(f\"  Option {option}: {metrics['accuracy']:.2f} accuracy ({metrics['correct']}/{metrics['count']} correct)\")\n",
    "\n",
    "# List top 5 questions where context helped (max 5)\n",
    "helped_questions = df[df['context_impact'] == 'Positive'].head(5)\n",
    "if not helped_questions.empty:\n",
    "    print(\"\\nSample Questions Where Context Helped:\")\n",
    "    for i, row in helped_questions.iterrows():\n",
    "        print(f\"- Q{i}: {row['question']}\")\n",
    "        print(f\"  Ground Truth: {row['standardized_answer']}\")\n",
    "        print(f\"  With Context: {row['with_context_parsed']} | Without Context: {row['without_context_parsed']}\")\n",
    "\n",
    "# List top 5 questions where context was misleading (max 5)\n",
    "misled_questions = df[df['context_impact'] == 'Negative'].head(5)\n",
    "if not misled_questions.empty:\n",
    "    print(\"\\nSample Questions Where Context Was Misleading:\")\n",
    "    for i, row in misled_questions.iterrows():\n",
    "        print(f\"- Q{i}: {row['question']}\")\n",
    "        print(f\"  Ground Truth: {row['standardized_answer']}\")\n",
    "        print(f\"  With Context: {row['with_context_parsed']} | Without Context: {row['without_context_parsed']}\")\n",
    "\n",
    "# Conclusions\n",
    "print(\"\\nConclusions:\")\n",
    "print(\"1. Context retrieval\" + \n",
    "      (\" improved \" if with_context_metrics.get('accuracy', 0) > without_context_metrics.get('accuracy', 0) else \" did not improve \") + \n",
    "      \"overall accuracy for multiple choice questions.\")\n",
    "\n",
    "print(f\"2. {impact_counts.get('Positive', 0)} questions benefited from context, while {impact_counts.get('Negative', 0)} questions were negatively affected.\")\n",
    "\n",
    "# Per-option performance insights\n",
    "best_option = max(option_metrics.items(), key=lambda x: x[1]['accuracy'])[0] if option_metrics else None\n",
    "worst_option = min(option_metrics.items(), key=lambda x: x[1]['accuracy'])[0] if option_metrics else None\n",
    "\n",
    "if best_option and worst_option:\n",
    "    print(f\"3. Performance varied by answer option: Option {best_option} had the highest accuracy, while Option {worst_option} had the lowest.\")\n",
    "\n",
    "# Recommendations\n",
    "print(\"\\nRecommendations:\")\n",
    "if with_context_metrics.get('accuracy', 0) > without_context_metrics.get('accuracy', 0):\n",
    "    print(\"1. Continue using RAG for multiple choice questions, with focus on improving quality of retrieved contexts.\")\n",
    "    print(\"2. Consider a hybrid approach that evaluates context quality before deciding whether to use it.\")\n",
    "    print(f\"3. Pay special attention to questions where option {worst_option} is the correct answer, as these showed lower accuracy.\")\n",
    "else:\n",
    "    print(\"1. Review and improve context retrieval quality for multiple choice questions.\")\n",
    "    print(\"2. Consider limiting RAG to specific types of questions where context has shown to be helpful.\")\n",
    "    print(\"3. For questions with poor context performance, consider reverting to model-only answers.\")\n",
    "\n",
    "print(\"4. Expand the evaluation dataset to include more diverse multiple choice question types.\")\n",
    "print(\"5. Further analyze questions where context was misleading to identify patterns and potential improvements.\")"
   ]
  },
  {
   "cell_type": "code",
   "execution_count": null,
   "id": "0bfc2c83-9070-4a4c-a3e9-08b149589f76",
   "metadata": {},
   "outputs": [],
   "source": []
  }
 ],
 "metadata": {
  "kernelspec": {
   "display_name": "Python 3 (ipykernel)",
   "language": "python",
   "name": "python3"
  },
  "language_info": {
   "codemirror_mode": {
    "name": "ipython",
    "version": 3
   },
   "file_extension": ".py",
   "mimetype": "text/x-python",
   "name": "python",
   "nbconvert_exporter": "python",
   "pygments_lexer": "ipython3",
   "version": "3.10.16"
  }
 },
 "nbformat": 4,
 "nbformat_minor": 5
}
