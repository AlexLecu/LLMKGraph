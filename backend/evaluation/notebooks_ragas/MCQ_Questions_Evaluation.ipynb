{
 "cells": [
  {
   "cell_type": "markdown",
   "id": "2cc786c5-2e9b-43c8-bdd6-983eda4e2d8c",
   "metadata": {},
   "source": [
    "# MCQ_Questions_Evaluation"
   ]
  },
  {
   "cell_type": "code",
   "execution_count": 1,
   "id": "c638b757-2a81-42bb-82bb-6b4ca82aa6e4",
   "metadata": {},
   "outputs": [
    {
     "name": "stderr",
     "output_type": "stream",
     "text": [
      "/Users/alexlecu/PycharmProjects/LLMKGraph/.local/lib/python3.10/site-packages/tqdm/auto.py:21: TqdmWarning: IProgress not found. Please update jupyter and ipywidgets. See https://ipywidgets.readthedocs.io/en/stable/user_install.html\n",
      "  from .autonotebook import tqdm as notebook_tqdm\n",
      "INFO:datasets:PyTorch version 2.5.1 available.\n",
      "INFO:datasets:TensorFlow version 2.18.0 available.\n"
     ]
    }
   ],
   "source": [
    "import os\n",
    "import sys\n",
    "\n",
    "# Use the current working directory as the base\n",
    "sys.path.append(os.path.abspath(os.path.join(os.getcwd(), '..')))\n",
    "\n",
    "import json\n",
    "import pandas as pd\n",
    "from weaviate_rag.rag_system import KGRAGSystem\n",
    "import ollama\n",
    "from ragas import evaluate\n",
    "from ragas.metrics import Faithfulness, AnswerRelevancy, ContextRecall\n",
    "import re\n",
    "from ragas import EvaluationDataset"
   ]
  },
  {
   "cell_type": "code",
   "execution_count": 2,
   "id": "21846d8b-e014-4af1-8969-7c809be2c1ae",
   "metadata": {},
   "outputs": [],
   "source": [
    "# Load your JSON data\n",
    "with open('/Users/alexlecu/PycharmProjects/LLMKGraph/backend/evaluation/data/grok_evaluation_dataset_mini/MCQ_Questions_mini.json', 'r') as f:\n",
    "    data = json.load(f)\n",
    "\n",
    "# Convert to DataFrame for RAGAS\n",
    "df = pd.DataFrame(data)\n",
    "df = df[['question', 'answer']]\n",
    "\n",
    "# Later, add retrieved contexts and generated answers after querying your RAG\n",
    "df['contexts'] = None  # Will be filled with retrieved passages\n",
    "df['generated_answer'] = None  # Will be filled with RAG responses"
   ]
  },
  {
   "cell_type": "code",
   "execution_count": 3,
   "id": "ceb25475-a42b-4b6b-9012-376b4c9efba4",
   "metadata": {},
   "outputs": [],
   "source": [
    "def retrieve(user_input):\n",
    "    rag_system = KGRAGSystem()\n",
    "    kg_result = rag_system.query(user_input)\n",
    "\n",
    "    return [kg_result[\"context\"]]"
   ]
  },
  {
   "cell_type": "code",
   "execution_count": 28,
   "id": "dc4390ab-d7b1-4029-8d45-f86dc6f0d368",
   "metadata": {},
   "outputs": [],
   "source": [
    "def generate_answer(question, context, model):\n",
    "    system_prompt = f\"\"\"\n",
    "    You are a trusted medical research assistant specializing in age-related macular degeneration (AMD). Your task is to provide thorough, accurate, and detailed answers about AMD research based on the following additional relevant data:\n",
    "    \n",
    "    {context}\n",
    "    \n",
    "    Please adhere to these guidelines when formulating your response:\n",
    "    \n",
    "    1. Express Uncertainty Transparently:\n",
    "    If the available information is insufficient to answer confidently, acknowledge this and specify what additional data or details would be needed to provide a more complete response.\n",
    "    2. Maintain Accuracy and Integrity:\n",
    "    Base your answer solely on verified data and the provided context. Do not fabricate any information or references.\n",
    "    3. Communicate Professionally:\n",
    "    Present your response in a clear, well-organized, and professional manner, ensuring complex information is accessible and easy to understand.\n",
    "    \n",
    "    Important: Your response must consist of only the correct answer—nothing more. Do not include any additional explanation, commentary, or extraneous text\n",
    "    \"\"\"\n",
    "    \n",
    "    response = ollama.chat(\n",
    "        model=model,\n",
    "        messages=[\n",
    "            {\"role\": \"system\", \"content\": system_prompt},\n",
    "            {\"role\": \"user\", \"content\": question}\n",
    "        ],\n",
    "        stream=False\n",
    "    )\n",
    "    return response['message']['content']"
   ]
  },
  {
   "cell_type": "code",
   "execution_count": 29,
   "id": "c9366910-67ba-4ecc-af8f-528c5f2066fb",
   "metadata": {},
   "outputs": [],
   "source": [
    "def remove_think_tags(response):\n",
    "    cleaned_content = re.sub(r'<think>.*?</think>', '', response, flags=re.DOTALL)\n",
    "\n",
    "    return cleaned_content"
   ]
  },
  {
   "cell_type": "code",
   "execution_count": 30,
   "id": "1569a2aa-062b-4361-8d5d-cde95ef2ce66",
   "metadata": {},
   "outputs": [
    {
     "name": "stderr",
     "output_type": "stream",
     "text": [
      "INFO:httpx:HTTP Request: GET http://localhost:8080/v1/.well-known/openid-configuration \"HTTP/1.1 404 Not Found\"\n",
      "INFO:httpx:HTTP Request: GET http://localhost:8080/v1/meta \"HTTP/1.1 200 OK\"\n",
      "INFO:httpx:HTTP Request: GET https://pypi.org/pypi/weaviate-client/json \"HTTP/1.1 200 OK\"\n",
      "INFO:httpx:HTTP Request: GET http://localhost:8080/v1/schema \"HTTP/1.1 200 OK\"\n",
      "INFO:httpx:HTTP Request: GET http://localhost:8080/v1/.well-known/openid-configuration \"HTTP/1.1 404 Not Found\"\n",
      "INFO:httpx:HTTP Request: GET http://localhost:8080/v1/meta \"HTTP/1.1 200 OK\"\n",
      "INFO:httpx:HTTP Request: GET https://pypi.org/pypi/weaviate-client/json \"HTTP/1.1 200 OK\"\n",
      "INFO:KGRAG:Starting hybrid search for: What part of the eye does AMD primarily affect? a) Cornea b) Lens c) Macula d) Optic nerve\n",
      "INFO:httpx:HTTP Request: POST http://127.0.0.1:11434/api/chat \"HTTP/1.1 200 OK\"\n",
      "INFO:httpx:HTTP Request: GET http://localhost:8080/v1/.well-known/openid-configuration \"HTTP/1.1 404 Not Found\"\n",
      "INFO:httpx:HTTP Request: GET http://localhost:8080/v1/meta \"HTTP/1.1 200 OK\"\n",
      "INFO:httpx:HTTP Request: GET https://pypi.org/pypi/weaviate-client/json \"HTTP/1.1 200 OK\"\n",
      "INFO:httpx:HTTP Request: GET http://localhost:8080/v1/schema \"HTTP/1.1 200 OK\"\n",
      "INFO:httpx:HTTP Request: GET http://localhost:8080/v1/.well-known/openid-configuration \"HTTP/1.1 404 Not Found\"\n",
      "INFO:httpx:HTTP Request: GET http://localhost:8080/v1/meta \"HTTP/1.1 200 OK\"\n",
      "INFO:httpx:HTTP Request: GET https://pypi.org/pypi/weaviate-client/json \"HTTP/1.1 200 OK\"\n",
      "INFO:KGRAG:Starting hybrid search for: Which type of AMD is more common? a) Dry AMD b) Wet AMD c) Both equally d) Neither\n",
      "INFO:httpx:HTTP Request: POST http://127.0.0.1:11434/api/chat \"HTTP/1.1 200 OK\"\n",
      "INFO:httpx:HTTP Request: GET http://localhost:8080/v1/.well-known/openid-configuration \"HTTP/1.1 404 Not Found\"\n",
      "INFO:httpx:HTTP Request: GET http://localhost:8080/v1/meta \"HTTP/1.1 200 OK\"\n",
      "INFO:httpx:HTTP Request: GET https://pypi.org/pypi/weaviate-client/json \"HTTP/1.1 200 OK\"\n",
      "INFO:httpx:HTTP Request: GET http://localhost:8080/v1/schema \"HTTP/1.1 200 OK\"\n",
      "INFO:httpx:HTTP Request: GET http://localhost:8080/v1/.well-known/openid-configuration \"HTTP/1.1 404 Not Found\"\n",
      "INFO:httpx:HTTP Request: GET http://localhost:8080/v1/meta \"HTTP/1.1 200 OK\"\n",
      "INFO:httpx:HTTP Request: GET https://pypi.org/pypi/weaviate-client/json \"HTTP/1.1 200 OK\"\n",
      "INFO:KGRAG:Starting hybrid search for: What is a primary symptom of AMD? a) Eye pain b) Blurred central vision c) Improved night vision d) Double vision\n",
      "INFO:httpx:HTTP Request: POST http://127.0.0.1:11434/api/chat \"HTTP/1.1 200 OK\"\n",
      "INFO:httpx:HTTP Request: GET http://localhost:8080/v1/.well-known/openid-configuration \"HTTP/1.1 404 Not Found\"\n",
      "INFO:httpx:HTTP Request: GET http://localhost:8080/v1/meta \"HTTP/1.1 200 OK\"\n",
      "INFO:httpx:HTTP Request: GET https://pypi.org/pypi/weaviate-client/json \"HTTP/1.1 200 OK\"\n",
      "INFO:httpx:HTTP Request: GET http://localhost:8080/v1/schema \"HTTP/1.1 200 OK\"\n",
      "INFO:httpx:HTTP Request: GET http://localhost:8080/v1/.well-known/openid-configuration \"HTTP/1.1 404 Not Found\"\n",
      "INFO:httpx:HTTP Request: GET http://localhost:8080/v1/meta \"HTTP/1.1 200 OK\"\n",
      "INFO:httpx:HTTP Request: GET https://pypi.org/pypi/weaviate-client/json \"HTTP/1.1 200 OK\"\n",
      "INFO:KGRAG:Starting hybrid search for: Which is a major risk factor for AMD? a) Drinking water b) Exercising daily c) Smoking d) Wearing glasses\n",
      "INFO:httpx:HTTP Request: POST http://127.0.0.1:11434/api/chat \"HTTP/1.1 200 OK\"\n",
      "INFO:httpx:HTTP Request: GET http://localhost:8080/v1/.well-known/openid-configuration \"HTTP/1.1 404 Not Found\"\n",
      "INFO:httpx:HTTP Request: GET http://localhost:8080/v1/meta \"HTTP/1.1 200 OK\"\n",
      "INFO:httpx:HTTP Request: GET https://pypi.org/pypi/weaviate-client/json \"HTTP/1.1 200 OK\"\n",
      "INFO:httpx:HTTP Request: GET http://localhost:8080/v1/schema \"HTTP/1.1 200 OK\"\n",
      "INFO:httpx:HTTP Request: GET http://localhost:8080/v1/.well-known/openid-configuration \"HTTP/1.1 404 Not Found\"\n",
      "INFO:httpx:HTTP Request: GET http://localhost:8080/v1/meta \"HTTP/1.1 200 OK\"\n",
      "INFO:httpx:HTTP Request: GET https://pypi.org/pypi/weaviate-client/json \"HTTP/1.1 200 OK\"\n",
      "INFO:KGRAG:Starting hybrid search for: What is the leading cause of vision loss in older adults? a) Cataracts b) Glaucoma c) AMD d) Diabetic retinopathy\n",
      "INFO:httpx:HTTP Request: POST http://127.0.0.1:11434/api/chat \"HTTP/1.1 200 OK\"\n"
     ]
    }
   ],
   "source": [
    "dataset = []\n",
    "\n",
    "for index, row in df.iterrows():\n",
    "    context = retrieve(row[\"question\"])\n",
    "    response = remove_think_tags(generate_answer(row[\"question\"], context, \"deepseek-r1\"))\n",
    "\n",
    "    dataset.append(\n",
    "        {\n",
    "            \"user_input\":row[\"question\"],\n",
    "            \"retrieved_contexts\":context,\n",
    "            \"response\":response,\n",
    "            \"reference\":row[\"answer\"]\n",
    "        }\n",
    "    )"
   ]
  },
  {
   "cell_type": "code",
   "execution_count": 31,
   "id": "1591ed4e-1651-4a33-bd42-c2ef536de18b",
   "metadata": {},
   "outputs": [
    {
     "name": "stdout",
     "output_type": "stream",
     "text": [
      "[{'user_input': 'What part of the eye does AMD primarily affect? a) Cornea b) Lens c) Macula d) Optic nerve', 'retrieved_contexts': ['Bevacizumab (TREATMENT) affects Macular Area Of The Eye (BODY_PART). Ranibizumab (TREATMENT) affects Macular Area Of The Eye (BODY_PART). Side Effects (SYMPTOM) presents with Inflammation Of The Eye (SYMPTOM). Age Related Macular Degeneration (DISEASE) affects Retinal Pigment Epithelium (BODY_PART). Choroidal Neovascularization (DISEASE) can cause Retinal Pigment Epithelium (BODY_PART). Age Related Macular Degeneration (DISEASE) affects Retinal Pigment Epithelium (BODY_PART). Group 4 (DISEASE) affects Retinal Pigment Epithelium (BODY_PART). Choroidal Neovascular Membrane (BIOMARKER) affects Retinal Pigment Epithelium (BODY_PART). Clinical Morphological Examination (TEST) diagnoses Eye Sections (BODY_PART). Corticosteroid Injection (TREATMENT) affects Eye (BODY_PART). Age Related Macular Degeneration (DISEASE) presents with Eye (BODY_PART). Mp (BIOMARKER) affects Eye (BODY_PART). Age Related Eye Disorders (RISK_FACTOR) affects Eye (BODY_PART). Age Related Macular Degeneration (DISEASE) affects Eye (BODY_PART).'], 'response': '\\n\\nAMD primarily affects the Macula (option c).', 'reference': 'c) Macula'}, {'user_input': 'Which type of AMD is more common? a) Dry AMD b) Wet AMD c) Both equally d) Neither', 'retrieved_contexts': ['Dry Amd (DISEASE) can cause Legal Blindness (SYMPTOM). Dry Amd (DISEASE) presents with Drusen (BIOMARKER). Dry Amd (DISEASE) presents with Pigment Clumping (BIOMARKER). Dry Amd (DISEASE) presents with Retinal Pigment Epithelium Dropout (BIOMARKER). Dry Amd (DISEASE) presents with Geographic Atrophy (DISEASE). Copaxone (TREATMENT) treats Dry Amd (DISEASE). Copaxone (TREATMENT) prevents Dry Amd (DISEASE). Antioxidant Therapy (TREATMENT) treats Dry Amd (DISEASE). Ot 551 (TREATMENT) treats Dry Amd (DISEASE). Saffron Supplements (TREATMENT) treats Dry Amd (DISEASE). Exudative Amd (DISEASE) presents with Serous Or Hemorrhagic Detachment Of Retinal Pigment Epithelium (COMPLICATION). Exudative Amd (DISEASE) presents with Choroidal Neovascularization (DISEASE). Late Stage (DISEASE) affects Exudative Amd (DISEASE). Bevacizumab (TREATMENT) presents with Exudative Amd (DISEASE). Ranibizumab (TREATMENT) presents with Exudative Amd (DISEASE). Vitreomacular Adhesion (BIOMARKER) affects Exudative Amd (DISEASE). Posterior Vma (BIOMARKER) affects Exudative Amd (DISEASE). Rheopheresis (TREATMENT) treats Non Exudative Amd (DISEASE). Age Related Macular Degeneration (DISEASE) presents with Advanced Amd (SYMPTOM). Genetic Tests (TEST) diagnoses Late Amd (DISEASE).'], 'response': '\\n\\nd) Neither', 'reference': 'a) Dry AMD'}, {'user_input': 'What is a primary symptom of AMD? a) Eye pain b) Blurred central vision c) Improved night vision d) Double vision', 'retrieved_contexts': ['Choroidal Neovascularization (DISEASE) can cause Severe Visual Impairment (SYMPTOM). Age Related Macular Degeneration (DISEASE) affects Severe Visual Impairment (SYMPTOM). Age Related Macular Degeneration (DISEASE) can cause Severe Visual Impairment (SYMPTOM). Age Related Macular Degeneration (DISEASE) can cause Severe Visual Impairment (SYMPTOM). Age Related Macular Degeneration (DISEASE) can cause Severe Visual Impairment (SYMPTOM). Side Effects (SYMPTOM) presents with Eye Pain (SYMPTOM). Side Effects (SYMPTOM) presents with Inflammation Of The Eye (SYMPTOM). Age Related Macular Degeneration (DISEASE) can cause Severe Irreversible Central Vision Loss (SYMPTOM). Corticosteroid Injection (TREATMENT) prevents Severe Vision Loss (SYMPTOM). Wet Age Related Macular Degeneration (DISEASE) can cause Severe Vision Loss (SYMPTOM). Wet Age Related Macular Degeneration (DISEASE) aggravates Severe Vision Loss (SYMPTOM).'], 'response': '\\n\\nb) Blurred central vision', 'reference': 'b) Blurred central vision'}, {'user_input': 'Which is a major risk factor for AMD? a) Drinking water b) Exercising daily c) Smoking d) Wearing glasses', 'retrieved_contexts': ['History Of Coronary Artery Disease (RISK_FACTOR) aggravates Ranibizumab (TREATMENT). Apoe (GENE) affects Amd Risk (RISK_FACTOR). Cfh (GENE) affects Amd Risk (RISK_FACTOR). Amrs2 Htra 1 (GENE) affects Amd Risk (RISK_FACTOR). Cx3cr1 (GENE) affects Amd Risk (RISK_FACTOR). Age Related Eye Disorders (RISK_FACTOR) can cause Genetic Component (RISK_FACTOR). Age Related Eye Disorders (RISK_FACTOR) affects Eye (BODY_PART). Age Related Eye Disorders (RISK_FACTOR) affects Retina (BODY_PART). Age Related Eye Disorders (RISK_FACTOR) affects Macula (BODY_PART). Age Related Eye Disorders (RISK_FACTOR) affects Vision (SYMPTOM). Macular Degeneration (DISEASE) can cause Large Impact On A Patient S Quality Of Life And Independence (RISK_FACTOR). Age Related Macular Degeneration (DISEASE) affects Blood Vessel Proliferation (RISK_FACTOR).'], 'response': '\\n\\nc) Smoking', 'reference': 'c) Smoking'}, {'user_input': 'What is the leading cause of vision loss in older adults? a) Cataracts b) Glaucoma c) AMD d) Diabetic retinopathy', 'retrieved_contexts': ['Choroidal Neovascularization (DISEASE) can cause Severe Loss Of Vision (SYMPTOM). Wet Age Related Macular Degeneration (DISEASE) can cause Severe Loss Of Vision (SYMPTOM). Corticosteroid Injection (TREATMENT) prevents Severe Vision Loss (SYMPTOM). Wet Age Related Macular Degeneration (DISEASE) can cause Severe Vision Loss (SYMPTOM). Wet Age Related Macular Degeneration (DISEASE) aggravates Severe Vision Loss (SYMPTOM). Some Impairment Of Vision (DISEASE) presents with Vision Impairment (SYMPTOM). Age (RISK_FACTOR) affects Some Impairment Of Vision (DISEASE). Macular Degeneration (DISEASE) presents with Diabetic Retinal Oedema (DISEASE). Age Related Macular Degeneration (DISEASE) can cause Severe And Irreversible Loss Of Vision (SYMPTOM).'], 'response': '\\n\\nThe leading cause of vision loss in older adults among the listed options is AMD (Age-Related Macular Degeneration).\\n\\nAnswer: c) AMD', 'reference': 'c) AMD'}]\n"
     ]
    }
   ],
   "source": [
    "print(dataset)"
   ]
  },
  {
   "cell_type": "code",
   "execution_count": 46,
   "id": "31824033-e480-43ca-9b23-11091a3eb131",
   "metadata": {},
   "outputs": [],
   "source": [
    "responses = []\n",
    "references = []"
   ]
  },
  {
   "cell_type": "code",
   "execution_count": 47,
   "id": "bc7de93e-6405-4176-9597-b551f423a42a",
   "metadata": {},
   "outputs": [
    {
     "name": "stdout",
     "output_type": "stream",
     "text": [
      "AMD primarily affects the Macula (option c). c) Macula\n",
      "d) Neither a) Dry AMD\n",
      "b) Blurred central vision b) Blurred central vision\n",
      "c) Smoking c) Smoking\n",
      "The leading cause of vision loss in older adults among the listed options is AMD (Age-Related Macular Degeneration).Answer: c) AMD c) AMD\n"
     ]
    }
   ],
   "source": [
    "for entry in dataset:\n",
    "    match_response = re.search(r'[a-d]\\)', entry[\"response\"])\n",
    "    match_reference = re.search(r'[a-d]\\)', entry[\"reference\"])\n",
    "    responses.append(match_response.group(0).replace(\"\\n\\n\", \"\"))\n",
    "    references.append(match_reference.group(0))\n",
    "    print(entry[\"response\"].replace(\"\\n\\n\", \"\") + \" \" + str(entry[\"reference\"]))"
   ]
  },
  {
   "cell_type": "code",
   "execution_count": 48,
   "id": "b44cb227-f547-4772-a371-afda539fb2a4",
   "metadata": {},
   "outputs": [
    {
     "name": "stdout",
     "output_type": "stream",
     "text": [
      "['c)', 'd)', 'b)', 'c)', 'c)']\n",
      "['c)', 'a)', 'b)', 'c)', 'c)']\n",
      "<class 'str'>\n",
      "<class 'str'>\n"
     ]
    }
   ],
   "source": [
    "print(responses)\n",
    "print(references)\n",
    "\n",
    "print(type(responses[1]))\n",
    "print(type(references[1]))"
   ]
  },
  {
   "cell_type": "code",
   "execution_count": 50,
   "id": "72f86527-d6fb-4837-9286-c06132b69c2c",
   "metadata": {},
   "outputs": [],
   "source": [
    "from sklearn.metrics import accuracy_score\n",
    "accuracy = accuracy_score(references, responses)"
   ]
  },
  {
   "cell_type": "code",
   "execution_count": 51,
   "id": "bd7dd77d-6add-485f-b403-1f655acd0d9f",
   "metadata": {},
   "outputs": [
    {
     "name": "stdout",
     "output_type": "stream",
     "text": [
      "\n",
      "Evaluation Metrics:\n",
      "Accuracy: 0.80 (80.0%)\n"
     ]
    }
   ],
   "source": [
    "# Print evaluation results\n",
    "print(\"\\nEvaluation Metrics:\")\n",
    "print(f\"Accuracy: {accuracy:.2f} ({accuracy * 100:.1f}%)\")"
   ]
  },
  {
   "cell_type": "code",
   "execution_count": 52,
   "id": "8fcef6d5-59a8-4e19-8df1-41d625f5672a",
   "metadata": {},
   "outputs": [
    {
     "name": "stdout",
     "output_type": "stream",
     "text": [
      "\n",
      "Incorrect Answers:\n",
      "Question 2: Which type of AMD is more common? a) Dry AMD b) Wet AMD c) Both equally d) Neither\n",
      "Ground Truth: a), RAG Predicted: d)\n",
      "--------------------------------------------------\n"
     ]
    }
   ],
   "source": [
    "# Log incorrect answers for analysis\n",
    "print(\"\\nIncorrect Answers:\")\n",
    "for i, (reference, response, item) in enumerate(zip(references, responses, dataset)):\n",
    "    if response != reference:\n",
    "        print(f\"Question {i+1}: {item['user_input']}\")\n",
    "        print(f\"Ground Truth: {reference}, RAG Predicted: {response}\")\n",
    "        print(\"-\" * 50)"
   ]
  }
 ],
 "metadata": {
  "kernelspec": {
   "display_name": "Python 3 (ipykernel)",
   "language": "python",
   "name": "python3"
  },
  "language_info": {
   "codemirror_mode": {
    "name": "ipython",
    "version": 3
   },
   "file_extension": ".py",
   "mimetype": "text/x-python",
   "name": "python",
   "nbconvert_exporter": "python",
   "pygments_lexer": "ipython3",
   "version": "3.10.16"
  }
 },
 "nbformat": 4,
 "nbformat_minor": 5
}
