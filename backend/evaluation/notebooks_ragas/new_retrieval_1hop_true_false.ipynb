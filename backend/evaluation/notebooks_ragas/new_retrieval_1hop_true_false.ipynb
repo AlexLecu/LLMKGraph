{
 "cells": [
  {
   "cell_type": "code",
   "execution_count": 19,
   "id": "422b213b-559d-4040-8641-bb634983a3a6",
   "metadata": {},
   "outputs": [],
   "source": [
    "import os\n",
    "import sys\n",
    "\n",
    "# Use the current working directory as the base\n",
    "sys.path.append(os.path.abspath(os.path.join(os.getcwd(), '../..')))\n",
    "\n",
    "import json\n",
    "import pandas as pd\n",
    "import numpy as np\n",
    "import matplotlib.pyplot as plt\n",
    "import seaborn as sns\n",
    "from weaviate_rag.rag_system import GraphRAGSystem\n",
    "import ollama\n",
    "from ragas import evaluate\n",
    "from ragas.metrics import Faithfulness, AnswerRelevancy, ContextRecall\n",
    "import re\n",
    "from ragas import EvaluationDataset\n",
    "from sklearn.metrics import accuracy_score, precision_score, recall_score, f1_score, confusion_matrix"
   ]
  },
  {
   "cell_type": "code",
   "execution_count": 2,
   "id": "62ec414d-18b7-44c1-b38f-2e27724ca342",
   "metadata": {},
   "outputs": [],
   "source": [
    "# Load your JSON data\n",
    "# with open('/Users/alexlecu/PycharmProjects/LLMKGraph/backend/evaluation/data/grok_evaluation_dataset_mini/True_or_False_questions_mini.json', 'r') as f:\n",
    "with open('/Users/alexlecu/PycharmProjects/LLMKGraph/backend/evaluation/data/grok_evaluation_datasets/1_Hop_True_or_False_Questions.json', 'r') as f:\n",
    "    data = json.load(f)\n",
    "\n",
    "# Convert to DataFrame for analysis\n",
    "df = pd.DataFrame(data)\n",
    "df = df[['question', 'answer']]\n",
    "\n",
    "# Add columns for evaluation\n",
    "df['contexts'] = None  # Will be filled with retrieved passages\n",
    "df['with_context_answer'] = None  # Will be filled with RAG responses\n",
    "df['without_context_answer'] = None  # Will be filled with model-only responses"
   ]
  },
  {
   "cell_type": "code",
   "execution_count": 7,
   "id": "fc9579f4-e95f-4b25-ade0-6116bff74833",
   "metadata": {},
   "outputs": [],
   "source": [
    "def generate_answer_with_context(question, context, model=\"llama3.2\"):\n",
    "    \"\"\"Generate answer using the model with context - simplified prompt\"\"\"\n",
    "    # More direct prompt focused on true/false determination\n",
    "    system_prompt = f\"\"\"\n",
    "    Given this medical information, determine if the statement is TRUE or FALSE.\n",
    "    \n",
    "    INFORMATION:\n",
    "    {context}\n",
    "    \n",
    "    IMPORTANT: Respond with ONLY the word \"True\" or \"False\".\n",
    "    \"\"\"\n",
    "   \n",
    "    response = ollama.chat(\n",
    "        model=model,\n",
    "        messages=[\n",
    "            {\"role\": \"system\", \"content\": system_prompt},\n",
    "            {\"role\": \"user\", \"content\": question}\n",
    "        ],\n",
    "        stream=False\n",
    "    )\n",
    "    return response['message']['content']"
   ]
  },
  {
   "cell_type": "code",
   "execution_count": 8,
   "id": "6d1724aa-2cae-416b-ae98-851e74bdb9b8",
   "metadata": {},
   "outputs": [],
   "source": [
    "def generate_answer_without_context(question, model=\"llama3.2\"):\n",
    "    \"\"\"Generate answer using the model without context\"\"\"\n",
    "    system_prompt = \"\"\"\n",
    "    Determine if this medical statement is TRUE or FALSE based on your knowledge.\n",
    "    \n",
    "    IMPORTANT: Respond with ONLY the word \"True\" or \"False\".\n",
    "    \"\"\"\n",
    "    \n",
    "    response = ollama.chat(\n",
    "        model=model,\n",
    "        messages=[\n",
    "            {\"role\": \"system\", \"content\": system_prompt},\n",
    "            {\"role\": \"user\", \"content\": question}\n",
    "        ],\n",
    "        stream=False\n",
    "    )\n",
    "    return response['message']['content']"
   ]
  },
  {
   "cell_type": "code",
   "execution_count": 5,
   "id": "4f89e540-73bb-4a19-9335-847e56665550",
   "metadata": {},
   "outputs": [],
   "source": [
    "def remove_think_tags(response):\n",
    "    \"\"\"Remove any thinking tags from the response\"\"\"\n",
    "    if response is None:\n",
    "        return \"\"\n",
    "    cleaned_content = re.sub(r'<think>.*?</think>', '', response, flags=re.DOTALL)\n",
    "    return cleaned_content"
   ]
  },
  {
   "cell_type": "code",
   "execution_count": 6,
   "id": "7d604853-6ab1-4ed6-b3da-4a02eee6166c",
   "metadata": {},
   "outputs": [],
   "source": [
    "def parse_true_false(response):\n",
    "    \"\"\"Parse the response to extract True/False answer\"\"\"\n",
    "    if response is None:\n",
    "        return None\n",
    "        \n",
    "    # Clean up response\n",
    "    response = response.strip().lower()\n",
    "    \n",
    "    # Check for True/False keywords\n",
    "    if \"true\" in response:\n",
    "        return True\n",
    "    elif \"false\" in response:\n",
    "        return False\n",
    "    else:\n",
    "        print(f\"Warning: Could not parse true/false from: '{response}'\")\n",
    "        return None"
   ]
  },
  {
   "cell_type": "code",
   "execution_count": 10,
   "id": "27669b51-d110-4509-b0ed-146648e72766",
   "metadata": {},
   "outputs": [
    {
     "name": "stdout",
     "output_type": "stream",
     "text": [
      "Processing questions with context...\n"
     ]
    },
    {
     "name": "stderr",
     "output_type": "stream",
     "text": [
      "/Users/alexlecu/PycharmProjects/LLMKGraph/.local/lib/python3.10/site-packages/weaviate/warnings.py:314: ResourceWarning: Con004: The connection to Weaviate was not closed properly. This can lead to memory leaks.\n",
      "            Please make sure to close the connection using `client.close()`.\n",
      "  warnings.warn(\n"
     ]
    },
    {
     "name": "stdout",
     "output_type": "stream",
     "text": [
      "Question 1: Does AMD primarily affect the macula of the retina?\n",
      "Context: T...\n",
      "Response: True.\n",
      "\n"
     ]
    },
    {
     "name": "stderr",
     "output_type": "stream",
     "text": [
      "/var/folders/z3/zc5j75dj0qn_z2sp8qf47q340000gn/T/ipykernel_63108/652174667.py:8: ResourceWarning: unclosed <socket.socket fd=93, family=AddressFamily.AF_INET, type=SocketKind.SOCK_STREAM, proto=6, laddr=('127.0.0.1', 55209), raddr=('127.0.0.1', 11434)>\n",
      "  analyzer = GraphRAGSystem(row[\"question\"])\n",
      "ResourceWarning: Enable tracemalloc to get the object allocation traceback\n"
     ]
    },
    {
     "name": "stdout",
     "output_type": "stream",
     "text": [
      "Question 2: Is wet AMD characterized by abnormal blood vessel growth?\n",
      "Context: T...\n",
      "Response: True\n",
      "\n"
     ]
    },
    {
     "name": "stderr",
     "output_type": "stream",
     "text": [
      "/var/folders/z3/zc5j75dj0qn_z2sp8qf47q340000gn/T/ipykernel_63108/652174667.py:8: ResourceWarning: unclosed <socket.socket fd=92, family=AddressFamily.AF_INET, type=SocketKind.SOCK_STREAM, proto=6, laddr=('127.0.0.1', 55230), raddr=('127.0.0.1', 11434)>\n",
      "  analyzer = GraphRAGSystem(row[\"question\"])\n",
      "ResourceWarning: Enable tracemalloc to get the object allocation traceback\n"
     ]
    },
    {
     "name": "stdout",
     "output_type": "stream",
     "text": [
      "Question 3: Can dry AMD lead to complete blindness?\n",
      "Context: T...\n",
      "Response: True\n",
      "\n"
     ]
    },
    {
     "name": "stderr",
     "output_type": "stream",
     "text": [
      "/var/folders/z3/zc5j75dj0qn_z2sp8qf47q340000gn/T/ipykernel_63108/652174667.py:8: ResourceWarning: unclosed <socket.socket fd=92, family=AddressFamily.AF_INET, type=SocketKind.SOCK_STREAM, proto=6, laddr=('127.0.0.1', 55252), raddr=('127.0.0.1', 11434)>\n",
      "  analyzer = GraphRAGSystem(row[\"question\"])\n",
      "ResourceWarning: Enable tracemalloc to get the object allocation traceback\n"
     ]
    },
    {
     "name": "stdout",
     "output_type": "stream",
     "text": [
      "Question 4: Is smoking a known risk factor for AMD?\n",
      "Context: S...\n",
      "Response: True\n",
      "\n"
     ]
    },
    {
     "name": "stderr",
     "output_type": "stream",
     "text": [
      "/var/folders/z3/zc5j75dj0qn_z2sp8qf47q340000gn/T/ipykernel_63108/652174667.py:8: ResourceWarning: unclosed <socket.socket fd=92, family=AddressFamily.AF_INET, type=SocketKind.SOCK_STREAM, proto=6, laddr=('127.0.0.1', 55273), raddr=('127.0.0.1', 11434)>\n",
      "  analyzer = GraphRAGSystem(row[\"question\"])\n",
      "ResourceWarning: Enable tracemalloc to get the object allocation traceback\n"
     ]
    },
    {
     "name": "stdout",
     "output_type": "stream",
     "text": [
      "Question 5: Does wet AMD progress faster than dry AMD?\n",
      "Context: T...\n",
      "Response: False.\n",
      "\n"
     ]
    },
    {
     "name": "stderr",
     "output_type": "stream",
     "text": [
      "/var/folders/z3/zc5j75dj0qn_z2sp8qf47q340000gn/T/ipykernel_63108/652174667.py:8: ResourceWarning: unclosed <socket.socket fd=92, family=AddressFamily.AF_INET, type=SocketKind.SOCK_STREAM, proto=6, laddr=('127.0.0.1', 55297), raddr=('127.0.0.1', 11434)>\n",
      "  analyzer = GraphRAGSystem(row[\"question\"])\n",
      "ResourceWarning: Enable tracemalloc to get the object allocation traceback\n"
     ]
    },
    {
     "name": "stdout",
     "output_type": "stream",
     "text": [
      "Question 6: Is there a cure for advanced dry AMD?\n",
      "Context: T...\n",
      "Response: False.\n",
      "\n"
     ]
    },
    {
     "name": "stderr",
     "output_type": "stream",
     "text": [
      "/var/folders/z3/zc5j75dj0qn_z2sp8qf47q340000gn/T/ipykernel_63108/652174667.py:8: ResourceWarning: unclosed <socket.socket fd=92, family=AddressFamily.AF_INET, type=SocketKind.SOCK_STREAM, proto=6, laddr=('127.0.0.1', 55319), raddr=('127.0.0.1', 11434)>\n",
      "  analyzer = GraphRAGSystem(row[\"question\"])\n",
      "ResourceWarning: Enable tracemalloc to get the object allocation traceback\n"
     ]
    },
    {
     "name": "stdout",
     "output_type": "stream",
     "text": [
      "Question 7: Can anti-VEGF injections treat wet AMD?\n",
      "Context: T...\n",
      "Response: True\n",
      "\n"
     ]
    },
    {
     "name": "stderr",
     "output_type": "stream",
     "text": [
      "/var/folders/z3/zc5j75dj0qn_z2sp8qf47q340000gn/T/ipykernel_63108/652174667.py:8: ResourceWarning: unclosed <socket.socket fd=92, family=AddressFamily.AF_INET, type=SocketKind.SOCK_STREAM, proto=6, laddr=('127.0.0.1', 55346), raddr=('127.0.0.1', 11434)>\n",
      "  analyzer = GraphRAGSystem(row[\"question\"])\n",
      "ResourceWarning: Enable tracemalloc to get the object allocation traceback\n"
     ]
    },
    {
     "name": "stdout",
     "output_type": "stream",
     "text": [
      "Question 8: Does AMD affect peripheral vision more than central vision?\n",
      "Context: T...\n",
      "Response: FALSE\n",
      "\n"
     ]
    },
    {
     "name": "stderr",
     "output_type": "stream",
     "text": [
      "/var/folders/z3/zc5j75dj0qn_z2sp8qf47q340000gn/T/ipykernel_63108/652174667.py:8: ResourceWarning: unclosed <socket.socket fd=92, family=AddressFamily.AF_INET, type=SocketKind.SOCK_STREAM, proto=6, laddr=('127.0.0.1', 55368), raddr=('127.0.0.1', 11434)>\n",
      "  analyzer = GraphRAGSystem(row[\"question\"])\n",
      "ResourceWarning: Enable tracemalloc to get the object allocation traceback\n"
     ]
    },
    {
     "name": "stdout",
     "output_type": "stream",
     "text": [
      "Question 9: Is family history a risk factor for developing AMD?\n",
      "Context: T...\n",
      "Response: True\n",
      "\n"
     ]
    },
    {
     "name": "stderr",
     "output_type": "stream",
     "text": [
      "/var/folders/z3/zc5j75dj0qn_z2sp8qf47q340000gn/T/ipykernel_63108/652174667.py:8: ResourceWarning: unclosed <socket.socket fd=92, family=AddressFamily.AF_INET, type=SocketKind.SOCK_STREAM, proto=6, laddr=('127.0.0.1', 55390), raddr=('127.0.0.1', 11434)>\n",
      "  analyzer = GraphRAGSystem(row[\"question\"])\n",
      "ResourceWarning: Enable tracemalloc to get the object allocation traceback\n"
     ]
    },
    {
     "name": "stdout",
     "output_type": "stream",
     "text": [
      "Question 10: Can AMD be diagnosed with a blood test?\n",
      "Context: A...\n",
      "Response: FALSE.\n",
      "\n"
     ]
    },
    {
     "name": "stderr",
     "output_type": "stream",
     "text": [
      "/var/folders/z3/zc5j75dj0qn_z2sp8qf47q340000gn/T/ipykernel_63108/652174667.py:8: ResourceWarning: unclosed <socket.socket fd=92, family=AddressFamily.AF_INET, type=SocketKind.SOCK_STREAM, proto=6, laddr=('127.0.0.1', 55412), raddr=('127.0.0.1', 11434)>\n",
      "  analyzer = GraphRAGSystem(row[\"question\"])\n",
      "ResourceWarning: Enable tracemalloc to get the object allocation traceback\n"
     ]
    },
    {
     "name": "stdout",
     "output_type": "stream",
     "text": [
      "Question 11: Does the Amsler grid help detect AMD symptoms?\n",
      "Context: T...\n",
      "Response: True\n",
      "\n"
     ]
    },
    {
     "name": "stderr",
     "output_type": "stream",
     "text": [
      "/var/folders/z3/zc5j75dj0qn_z2sp8qf47q340000gn/T/ipykernel_63108/652174667.py:8: ResourceWarning: unclosed <socket.socket fd=92, family=AddressFamily.AF_INET, type=SocketKind.SOCK_STREAM, proto=6, laddr=('127.0.0.1', 55432), raddr=('127.0.0.1', 11434)>\n",
      "  analyzer = GraphRAGSystem(row[\"question\"])\n",
      "ResourceWarning: Enable tracemalloc to get the object allocation traceback\n"
     ]
    },
    {
     "name": "stdout",
     "output_type": "stream",
     "text": [
      "Question 12: Is dry AMD more common than wet AMD?\n",
      "Context: T...\n",
      "Response: False.\n",
      "\n"
     ]
    },
    {
     "name": "stderr",
     "output_type": "stream",
     "text": [
      "/var/folders/z3/zc5j75dj0qn_z2sp8qf47q340000gn/T/ipykernel_63108/652174667.py:8: ResourceWarning: unclosed <socket.socket fd=92, family=AddressFamily.AF_INET, type=SocketKind.SOCK_STREAM, proto=6, laddr=('127.0.0.1', 55454), raddr=('127.0.0.1', 11434)>\n",
      "  analyzer = GraphRAGSystem(row[\"question\"])\n",
      "ResourceWarning: Enable tracemalloc to get the object allocation traceback\n"
     ]
    },
    {
     "name": "stdout",
     "output_type": "stream",
     "text": [
      "Question 13: Can sunglasses completely prevent AMD?\n",
      "Context: T...\n",
      "Response: False.\n",
      "\n"
     ]
    },
    {
     "name": "stderr",
     "output_type": "stream",
     "text": [
      "/var/folders/z3/zc5j75dj0qn_z2sp8qf47q340000gn/T/ipykernel_63108/652174667.py:8: ResourceWarning: unclosed <socket.socket fd=92, family=AddressFamily.AF_INET, type=SocketKind.SOCK_STREAM, proto=6, laddr=('127.0.0.1', 55476), raddr=('127.0.0.1', 11434)>\n",
      "  analyzer = GraphRAGSystem(row[\"question\"])\n",
      "ResourceWarning: Enable tracemalloc to get the object allocation traceback\n"
     ]
    },
    {
     "name": "stdout",
     "output_type": "stream",
     "text": [
      "Question 14: Does diabetes increase the risk of AMD?\n",
      "Context: T...\n",
      "Response: True\n",
      "\n"
     ]
    },
    {
     "name": "stderr",
     "output_type": "stream",
     "text": [
      "/var/folders/z3/zc5j75dj0qn_z2sp8qf47q340000gn/T/ipykernel_63108/652174667.py:8: ResourceWarning: unclosed <socket.socket fd=92, family=AddressFamily.AF_INET, type=SocketKind.SOCK_STREAM, proto=6, laddr=('127.0.0.1', 55498), raddr=('127.0.0.1', 11434)>\n",
      "  analyzer = GraphRAGSystem(row[\"question\"])\n",
      "ResourceWarning: Enable tracemalloc to get the object allocation traceback\n"
     ]
    },
    {
     "name": "stdout",
     "output_type": "stream",
     "text": [
      "Question 15: Is laser therapy a standard treatment for dry AMD?\n",
      "Context: T...\n",
      "Response: False\n",
      "\n"
     ]
    },
    {
     "name": "stderr",
     "output_type": "stream",
     "text": [
      "/var/folders/z3/zc5j75dj0qn_z2sp8qf47q340000gn/T/ipykernel_63108/652174667.py:8: ResourceWarning: unclosed <socket.socket fd=92, family=AddressFamily.AF_INET, type=SocketKind.SOCK_STREAM, proto=6, laddr=('127.0.0.1', 55522), raddr=('127.0.0.1', 11434)>\n",
      "  analyzer = GraphRAGSystem(row[\"question\"])\n",
      "ResourceWarning: Enable tracemalloc to get the object allocation traceback\n"
     ]
    },
    {
     "name": "stdout",
     "output_type": "stream",
     "text": [
      "Question 16: Are drusen deposits associated with dry AMD?\n",
      "Context: T...\n",
      "Response: True\n",
      "\n"
     ]
    },
    {
     "name": "stderr",
     "output_type": "stream",
     "text": [
      "/var/folders/z3/zc5j75dj0qn_z2sp8qf47q340000gn/T/ipykernel_63108/652174667.py:8: ResourceWarning: unclosed <socket.socket fd=92, family=AddressFamily.AF_INET, type=SocketKind.SOCK_STREAM, proto=6, laddr=('127.0.0.1', 55542), raddr=('127.0.0.1', 11434)>\n",
      "  analyzer = GraphRAGSystem(row[\"question\"])\n",
      "ResourceWarning: Enable tracemalloc to get the object allocation traceback\n"
     ]
    },
    {
     "name": "stdout",
     "output_type": "stream",
     "text": [
      "Question 17: Does AMD primarily affect people over 50?\n",
      "Context: T...\n",
      "Response: False.\n",
      "\n"
     ]
    },
    {
     "name": "stderr",
     "output_type": "stream",
     "text": [
      "/var/folders/z3/zc5j75dj0qn_z2sp8qf47q340000gn/T/ipykernel_63108/652174667.py:8: ResourceWarning: unclosed <socket.socket fd=92, family=AddressFamily.AF_INET, type=SocketKind.SOCK_STREAM, proto=6, laddr=('127.0.0.1', 55565), raddr=('127.0.0.1', 11434)>\n",
      "  analyzer = GraphRAGSystem(row[\"question\"])\n",
      "ResourceWarning: Enable tracemalloc to get the object allocation traceback\n"
     ]
    },
    {
     "name": "stdout",
     "output_type": "stream",
     "text": [
      "Question 18: Can wet AMD cause sudden vision loss?\n",
      "Context: T...\n",
      "Response: True\n",
      "\n"
     ]
    },
    {
     "name": "stderr",
     "output_type": "stream",
     "text": [
      "/var/folders/z3/zc5j75dj0qn_z2sp8qf47q340000gn/T/ipykernel_63108/652174667.py:8: ResourceWarning: unclosed <socket.socket fd=92, family=AddressFamily.AF_INET, type=SocketKind.SOCK_STREAM, proto=6, laddr=('127.0.0.1', 55588), raddr=('127.0.0.1', 11434)>\n",
      "  analyzer = GraphRAGSystem(row[\"question\"])\n",
      "ResourceWarning: Enable tracemalloc to get the object allocation traceback\n"
     ]
    },
    {
     "name": "stdout",
     "output_type": "stream",
     "text": [
      "Question 19: Is AMD contagious between individuals?\n",
      "Context: T...\n",
      "Response: False\n",
      "\n"
     ]
    },
    {
     "name": "stderr",
     "output_type": "stream",
     "text": [
      "/var/folders/z3/zc5j75dj0qn_z2sp8qf47q340000gn/T/ipykernel_63108/652174667.py:8: ResourceWarning: unclosed <socket.socket fd=92, family=AddressFamily.AF_INET, type=SocketKind.SOCK_STREAM, proto=6, laddr=('127.0.0.1', 55612), raddr=('127.0.0.1', 11434)>\n",
      "  analyzer = GraphRAGSystem(row[\"question\"])\n",
      "ResourceWarning: Enable tracemalloc to get the object allocation traceback\n"
     ]
    },
    {
     "name": "stdout",
     "output_type": "stream",
     "text": [
      "Question 20: Does obesity increase the risk of AMD?\n",
      "Context: T...\n",
      "Response: True\n",
      "\n"
     ]
    },
    {
     "name": "stderr",
     "output_type": "stream",
     "text": [
      "/var/folders/z3/zc5j75dj0qn_z2sp8qf47q340000gn/T/ipykernel_63108/652174667.py:8: ResourceWarning: unclosed <socket.socket fd=92, family=AddressFamily.AF_INET, type=SocketKind.SOCK_STREAM, proto=6, laddr=('127.0.0.1', 55635), raddr=('127.0.0.1', 11434)>\n",
      "  analyzer = GraphRAGSystem(row[\"question\"])\n",
      "ResourceWarning: Enable tracemalloc to get the object allocation traceback\n"
     ]
    },
    {
     "name": "stdout",
     "output_type": "stream",
     "text": [
      "Question 21: Can AMD be reversed with surgery?\n",
      "Context: T...\n",
      "Response: False.\n",
      "\n"
     ]
    },
    {
     "name": "stderr",
     "output_type": "stream",
     "text": [
      "/var/folders/z3/zc5j75dj0qn_z2sp8qf47q340000gn/T/ipykernel_63108/652174667.py:8: ResourceWarning: unclosed <socket.socket fd=92, family=AddressFamily.AF_INET, type=SocketKind.SOCK_STREAM, proto=6, laddr=('127.0.0.1', 55657), raddr=('127.0.0.1', 11434)>\n",
      "  analyzer = GraphRAGSystem(row[\"question\"])\n",
      "ResourceWarning: Enable tracemalloc to get the object allocation traceback\n"
     ]
    },
    {
     "name": "stdout",
     "output_type": "stream",
     "text": [
      "Question 22: Does AMD affect color perception?\n",
      "Context: T...\n",
      "Response: True.\n",
      "\n"
     ]
    },
    {
     "name": "stderr",
     "output_type": "stream",
     "text": [
      "/var/folders/z3/zc5j75dj0qn_z2sp8qf47q340000gn/T/ipykernel_63108/652174667.py:8: ResourceWarning: unclosed <socket.socket fd=92, family=AddressFamily.AF_INET, type=SocketKind.SOCK_STREAM, proto=6, laddr=('127.0.0.1', 55681), raddr=('127.0.0.1', 11434)>\n",
      "  analyzer = GraphRAGSystem(row[\"question\"])\n",
      "ResourceWarning: Enable tracemalloc to get the object allocation traceback\n"
     ]
    },
    {
     "name": "stdout",
     "output_type": "stream",
     "text": [
      "Question 23: Is AMD caused by excessive screen time?\n",
      "Context: T...\n",
      "Response: FALSE\n",
      "\n"
     ]
    },
    {
     "name": "stderr",
     "output_type": "stream",
     "text": [
      "/var/folders/z3/zc5j75dj0qn_z2sp8qf47q340000gn/T/ipykernel_63108/652174667.py:8: ResourceWarning: unclosed <socket.socket fd=92, family=AddressFamily.AF_INET, type=SocketKind.SOCK_STREAM, proto=6, laddr=('127.0.0.1', 55703), raddr=('127.0.0.1', 11434)>\n",
      "  analyzer = GraphRAGSystem(row[\"question\"])\n",
      "ResourceWarning: Enable tracemalloc to get the object allocation traceback\n"
     ]
    },
    {
     "name": "stdout",
     "output_type": "stream",
     "text": [
      "Question 24: Can optical coherence tomography (OCT) detect AMD?\n",
      "Context: T...\n",
      "Response: True\n",
      "\n"
     ]
    },
    {
     "name": "stderr",
     "output_type": "stream",
     "text": [
      "/var/folders/z3/zc5j75dj0qn_z2sp8qf47q340000gn/T/ipykernel_63108/652174667.py:8: ResourceWarning: unclosed <socket.socket fd=92, family=AddressFamily.AF_INET, type=SocketKind.SOCK_STREAM, proto=6, laddr=('127.0.0.1', 55724), raddr=('127.0.0.1', 11434)>\n",
      "  analyzer = GraphRAGSystem(row[\"question\"])\n",
      "ResourceWarning: Enable tracemalloc to get the object allocation traceback\n"
     ]
    },
    {
     "name": "stdout",
     "output_type": "stream",
     "text": [
      "Question 25: Does wet AMD involve fluid leakage under the retina?\n",
      "Context: T...\n",
      "Response: True\n",
      "\n"
     ]
    },
    {
     "name": "stderr",
     "output_type": "stream",
     "text": [
      "/var/folders/z3/zc5j75dj0qn_z2sp8qf47q340000gn/T/ipykernel_63108/652174667.py:8: ResourceWarning: unclosed <socket.socket fd=92, family=AddressFamily.AF_INET, type=SocketKind.SOCK_STREAM, proto=6, laddr=('127.0.0.1', 55748), raddr=('127.0.0.1', 11434)>\n",
      "  analyzer = GraphRAGSystem(row[\"question\"])\n",
      "ResourceWarning: Enable tracemalloc to get the object allocation traceback\n"
     ]
    },
    {
     "name": "stdout",
     "output_type": "stream",
     "text": [
      "Question 26: Is AMD more prevalent in women than men?\n",
      "Context: T...\n",
      "Response: True\n",
      "\n"
     ]
    },
    {
     "name": "stderr",
     "output_type": "stream",
     "text": [
      "/var/folders/z3/zc5j75dj0qn_z2sp8qf47q340000gn/T/ipykernel_63108/652174667.py:8: ResourceWarning: unclosed <socket.socket fd=92, family=AddressFamily.AF_INET, type=SocketKind.SOCK_STREAM, proto=6, laddr=('127.0.0.1', 55768), raddr=('127.0.0.1', 11434)>\n",
      "  analyzer = GraphRAGSystem(row[\"question\"])\n",
      "ResourceWarning: Enable tracemalloc to get the object allocation traceback\n"
     ]
    },
    {
     "name": "stdout",
     "output_type": "stream",
     "text": [
      "Question 27: Can AMD be treated with over-the-counter eye drops?\n",
      "Context: T...\n",
      "Response: False\n",
      "\n"
     ]
    },
    {
     "name": "stderr",
     "output_type": "stream",
     "text": [
      "/var/folders/z3/zc5j75dj0qn_z2sp8qf47q340000gn/T/ipykernel_63108/652174667.py:8: ResourceWarning: unclosed <socket.socket fd=92, family=AddressFamily.AF_INET, type=SocketKind.SOCK_STREAM, proto=6, laddr=('127.0.0.1', 55791), raddr=('127.0.0.1', 11434)>\n",
      "  analyzer = GraphRAGSystem(row[\"question\"])\n",
      "ResourceWarning: Enable tracemalloc to get the object allocation traceback\n"
     ]
    },
    {
     "name": "stdout",
     "output_type": "stream",
     "text": [
      "Question 28: Does high blood pressure increase AMD risk?\n",
      "Context: H...\n",
      "Response: True\n",
      "\n"
     ]
    },
    {
     "name": "stderr",
     "output_type": "stream",
     "text": [
      "/var/folders/z3/zc5j75dj0qn_z2sp8qf47q340000gn/T/ipykernel_63108/652174667.py:8: ResourceWarning: unclosed <socket.socket fd=92, family=AddressFamily.AF_INET, type=SocketKind.SOCK_STREAM, proto=6, laddr=('127.0.0.1', 55812), raddr=('127.0.0.1', 11434)>\n",
      "  analyzer = GraphRAGSystem(row[\"question\"])\n",
      "ResourceWarning: Enable tracemalloc to get the object allocation traceback\n"
     ]
    },
    {
     "name": "stdout",
     "output_type": "stream",
     "text": [
      "Question 29: Is AMD linked to high cholesterol levels?\n",
      "Context: T...\n",
      "Response: True\n",
      "\n"
     ]
    },
    {
     "name": "stderr",
     "output_type": "stream",
     "text": [
      "/var/folders/z3/zc5j75dj0qn_z2sp8qf47q340000gn/T/ipykernel_63108/652174667.py:8: ResourceWarning: unclosed <socket.socket fd=92, family=AddressFamily.AF_INET, type=SocketKind.SOCK_STREAM, proto=6, laddr=('127.0.0.1', 55834), raddr=('127.0.0.1', 11434)>\n",
      "  analyzer = GraphRAGSystem(row[\"question\"])\n",
      "ResourceWarning: Enable tracemalloc to get the object allocation traceback\n"
     ]
    },
    {
     "name": "stdout",
     "output_type": "stream",
     "text": [
      "Question 30: Can fish oil supplements alone prevent AMD?\n",
      "Context: T...\n",
      "Response: False.\n",
      "\n"
     ]
    },
    {
     "name": "stderr",
     "output_type": "stream",
     "text": [
      "/var/folders/z3/zc5j75dj0qn_z2sp8qf47q340000gn/T/ipykernel_63108/652174667.py:8: ResourceWarning: unclosed <socket.socket fd=92, family=AddressFamily.AF_INET, type=SocketKind.SOCK_STREAM, proto=6, laddr=('127.0.0.1', 55857), raddr=('127.0.0.1', 11434)>\n",
      "  analyzer = GraphRAGSystem(row[\"question\"])\n",
      "ResourceWarning: Enable tracemalloc to get the object allocation traceback\n"
     ]
    },
    {
     "name": "stdout",
     "output_type": "stream",
     "text": [
      "Question 31: Does AMD affect the optic nerve directly?\n",
      "Context: T...\n",
      "Response: False.\n",
      "\n"
     ]
    },
    {
     "name": "stderr",
     "output_type": "stream",
     "text": [
      "/var/folders/z3/zc5j75dj0qn_z2sp8qf47q340000gn/T/ipykernel_63108/652174667.py:8: ResourceWarning: unclosed <socket.socket fd=92, family=AddressFamily.AF_INET, type=SocketKind.SOCK_STREAM, proto=6, laddr=('127.0.0.1', 55882), raddr=('127.0.0.1', 11434)>\n",
      "  analyzer = GraphRAGSystem(row[\"question\"])\n",
      "ResourceWarning: Enable tracemalloc to get the object allocation traceback\n"
     ]
    },
    {
     "name": "stdout",
     "output_type": "stream",
     "text": [
      "Question 32: Is photodynamic therapy used to treat wet AMD?\n",
      "Context: T...\n",
      "Response: True\n",
      "\n"
     ]
    },
    {
     "name": "stderr",
     "output_type": "stream",
     "text": [
      "/var/folders/z3/zc5j75dj0qn_z2sp8qf47q340000gn/T/ipykernel_63108/652174667.py:8: ResourceWarning: unclosed <socket.socket fd=92, family=AddressFamily.AF_INET, type=SocketKind.SOCK_STREAM, proto=6, laddr=('127.0.0.1', 55905), raddr=('127.0.0.1', 11434)>\n",
      "  analyzer = GraphRAGSystem(row[\"question\"])\n",
      "ResourceWarning: Enable tracemalloc to get the object allocation traceback\n"
     ]
    },
    {
     "name": "stdout",
     "output_type": "stream",
     "text": [
      "Question 33: Can AMD increase the risk of falls in older adults?\n",
      "Context: T...\n",
      "Response: TRUE\n",
      "\n"
     ]
    },
    {
     "name": "stderr",
     "output_type": "stream",
     "text": [
      "/var/folders/z3/zc5j75dj0qn_z2sp8qf47q340000gn/T/ipykernel_63108/652174667.py:8: ResourceWarning: unclosed <socket.socket fd=92, family=AddressFamily.AF_INET, type=SocketKind.SOCK_STREAM, proto=6, laddr=('127.0.0.1', 55926), raddr=('127.0.0.1', 11434)>\n",
      "  analyzer = GraphRAGSystem(row[\"question\"])\n",
      "ResourceWarning: Enable tracemalloc to get the object allocation traceback\n"
     ]
    },
    {
     "name": "stdout",
     "output_type": "stream",
     "text": [
      "Question 34: Does AMD only occur in one eye at a time?\n",
      "Context: T...\n",
      "Response: FALSE\n",
      "\n"
     ]
    },
    {
     "name": "stderr",
     "output_type": "stream",
     "text": [
      "/var/folders/z3/zc5j75dj0qn_z2sp8qf47q340000gn/T/ipykernel_63108/652174667.py:8: ResourceWarning: unclosed <socket.socket fd=92, family=AddressFamily.AF_INET, type=SocketKind.SOCK_STREAM, proto=6, laddr=('127.0.0.1', 55949), raddr=('127.0.0.1', 11434)>\n",
      "  analyzer = GraphRAGSystem(row[\"question\"])\n",
      "ResourceWarning: Enable tracemalloc to get the object allocation traceback\n"
     ]
    },
    {
     "name": "stdout",
     "output_type": "stream",
     "text": [
      "Question 35: Can AREDS supplements slow dry AMD progression?\n",
      "Context: T...\n",
      "Response: True\n",
      "\n"
     ]
    },
    {
     "name": "stderr",
     "output_type": "stream",
     "text": [
      "/var/folders/z3/zc5j75dj0qn_z2sp8qf47q340000gn/T/ipykernel_63108/652174667.py:8: ResourceWarning: unclosed <socket.socket fd=92, family=AddressFamily.AF_INET, type=SocketKind.SOCK_STREAM, proto=6, laddr=('127.0.0.1', 55974), raddr=('127.0.0.1', 11434)>\n",
      "  analyzer = GraphRAGSystem(row[\"question\"])\n",
      "ResourceWarning: Enable tracemalloc to get the object allocation traceback\n"
     ]
    },
    {
     "name": "stdout",
     "output_type": "stream",
     "text": [
      "Question 36: Is AMD more common in Caucasian populations?\n",
      "Context: T...\n",
      "Response: True.\n",
      "\n"
     ]
    },
    {
     "name": "stderr",
     "output_type": "stream",
     "text": [
      "/var/folders/z3/zc5j75dj0qn_z2sp8qf47q340000gn/T/ipykernel_63108/652174667.py:8: ResourceWarning: unclosed <socket.socket fd=92, family=AddressFamily.AF_INET, type=SocketKind.SOCK_STREAM, proto=6, laddr=('127.0.0.1', 55998), raddr=('127.0.0.1', 11434)>\n",
      "  analyzer = GraphRAGSystem(row[\"question\"])\n",
      "ResourceWarning: Enable tracemalloc to get the object allocation traceback\n"
     ]
    },
    {
     "name": "stdout",
     "output_type": "stream",
     "text": [
      "Question 37: Does wet AMD always lead to total blindness?\n",
      "Context: T...\n",
      "Response: False.\n",
      "\n"
     ]
    },
    {
     "name": "stderr",
     "output_type": "stream",
     "text": [
      "/var/folders/z3/zc5j75dj0qn_z2sp8qf47q340000gn/T/ipykernel_63108/652174667.py:8: ResourceWarning: unclosed <socket.socket fd=92, family=AddressFamily.AF_INET, type=SocketKind.SOCK_STREAM, proto=6, laddr=('127.0.0.1', 56021), raddr=('127.0.0.1', 11434)>\n",
      "  analyzer = GraphRAGSystem(row[\"question\"])\n",
      "ResourceWarning: Enable tracemalloc to get the object allocation traceback\n"
     ]
    },
    {
     "name": "stdout",
     "output_type": "stream",
     "text": [
      "Question 38: Can AMD cause straight lines to appear wavy?\n",
      "Context: T...\n",
      "Response: True\n",
      "\n"
     ]
    },
    {
     "name": "stderr",
     "output_type": "stream",
     "text": [
      "/var/folders/z3/zc5j75dj0qn_z2sp8qf47q340000gn/T/ipykernel_63108/652174667.py:8: ResourceWarning: unclosed <socket.socket fd=92, family=AddressFamily.AF_INET, type=SocketKind.SOCK_STREAM, proto=6, laddr=('127.0.0.1', 56046), raddr=('127.0.0.1', 11434)>\n",
      "  analyzer = GraphRAGSystem(row[\"question\"])\n",
      "ResourceWarning: Enable tracemalloc to get the object allocation traceback\n"
     ]
    },
    {
     "name": "stdout",
     "output_type": "stream",
     "text": [
      "Question 39: Is AMD caused by a bacterial infection?\n",
      "Context: T...\n",
      "Response: False.\n",
      "\n"
     ]
    },
    {
     "name": "stderr",
     "output_type": "stream",
     "text": [
      "/var/folders/z3/zc5j75dj0qn_z2sp8qf47q340000gn/T/ipykernel_63108/652174667.py:8: ResourceWarning: unclosed <socket.socket fd=92, family=AddressFamily.AF_INET, type=SocketKind.SOCK_STREAM, proto=6, laddr=('127.0.0.1', 56069), raddr=('127.0.0.1', 11434)>\n",
      "  analyzer = GraphRAGSystem(row[\"question\"])\n",
      "ResourceWarning: Enable tracemalloc to get the object allocation traceback\n"
     ]
    },
    {
     "name": "stdout",
     "output_type": "stream",
     "text": [
      "Question 40: Does AMD affect depth perception?\n",
      "Context: T...\n",
      "Response: True.\n",
      "\n"
     ]
    },
    {
     "name": "stderr",
     "output_type": "stream",
     "text": [
      "/var/folders/z3/zc5j75dj0qn_z2sp8qf47q340000gn/T/ipykernel_63108/652174667.py:8: ResourceWarning: unclosed <socket.socket fd=92, family=AddressFamily.AF_INET, type=SocketKind.SOCK_STREAM, proto=6, laddr=('127.0.0.1', 56092), raddr=('127.0.0.1', 11434)>\n",
      "  analyzer = GraphRAGSystem(row[\"question\"])\n",
      "ResourceWarning: Enable tracemalloc to get the object allocation traceback\n"
     ]
    },
    {
     "name": "stdout",
     "output_type": "stream",
     "text": [
      "Question 41: Can children develop AMD?\n",
      "Context: T...\n",
      "Response: FALSE\n",
      "\n"
     ]
    },
    {
     "name": "stderr",
     "output_type": "stream",
     "text": [
      "/var/folders/z3/zc5j75dj0qn_z2sp8qf47q340000gn/T/ipykernel_63108/652174667.py:8: ResourceWarning: unclosed <socket.socket fd=92, family=AddressFamily.AF_INET, type=SocketKind.SOCK_STREAM, proto=6, laddr=('127.0.0.1', 56115), raddr=('127.0.0.1', 11434)>\n",
      "  analyzer = GraphRAGSystem(row[\"question\"])\n",
      "ResourceWarning: Enable tracemalloc to get the object allocation traceback\n"
     ]
    },
    {
     "name": "stdout",
     "output_type": "stream",
     "text": [
      "Question 42: Does AMD increase the need for visual aids?\n",
      "Context: T...\n",
      "Response: True.\n",
      "\n"
     ]
    },
    {
     "name": "stderr",
     "output_type": "stream",
     "text": [
      "/var/folders/z3/zc5j75dj0qn_z2sp8qf47q340000gn/T/ipykernel_63108/652174667.py:8: ResourceWarning: unclosed <socket.socket fd=92, family=AddressFamily.AF_INET, type=SocketKind.SOCK_STREAM, proto=6, laddr=('127.0.0.1', 56136), raddr=('127.0.0.1', 11434)>\n",
      "  analyzer = GraphRAGSystem(row[\"question\"])\n",
      "ResourceWarning: Enable tracemalloc to get the object allocation traceback\n"
     ]
    },
    {
     "name": "stdout",
     "output_type": "stream",
     "text": [
      "Question 43: Is AMD linked to UV light exposure?\n",
      "Context: T...\n",
      "Response: True\n",
      "\n"
     ]
    },
    {
     "name": "stderr",
     "output_type": "stream",
     "text": [
      "/var/folders/z3/zc5j75dj0qn_z2sp8qf47q340000gn/T/ipykernel_63108/652174667.py:8: ResourceWarning: unclosed <socket.socket fd=92, family=AddressFamily.AF_INET, type=SocketKind.SOCK_STREAM, proto=6, laddr=('127.0.0.1', 56159), raddr=('127.0.0.1', 11434)>\n",
      "  analyzer = GraphRAGSystem(row[\"question\"])\n",
      "ResourceWarning: Enable tracemalloc to get the object allocation traceback\n"
     ]
    },
    {
     "name": "stdout",
     "output_type": "stream",
     "text": [
      "Question 44: Can AMD be reversed with exercise alone?\n",
      "Context: T...\n",
      "Response: False.\n",
      "\n"
     ]
    },
    {
     "name": "stderr",
     "output_type": "stream",
     "text": [
      "/var/folders/z3/zc5j75dj0qn_z2sp8qf47q340000gn/T/ipykernel_63108/652174667.py:8: ResourceWarning: unclosed <socket.socket fd=92, family=AddressFamily.AF_INET, type=SocketKind.SOCK_STREAM, proto=6, laddr=('127.0.0.1', 56182), raddr=('127.0.0.1', 11434)>\n",
      "  analyzer = GraphRAGSystem(row[\"question\"])\n",
      "ResourceWarning: Enable tracemalloc to get the object allocation traceback\n"
     ]
    },
    {
     "name": "stdout",
     "output_type": "stream",
     "text": [
      "Question 45: Does AMD affect night vision more than daytime vision?\n",
      "Context: T...\n",
      "Response: False\n",
      "\n"
     ]
    },
    {
     "name": "stderr",
     "output_type": "stream",
     "text": [
      "/var/folders/z3/zc5j75dj0qn_z2sp8qf47q340000gn/T/ipykernel_63108/652174667.py:8: ResourceWarning: unclosed <socket.socket fd=92, family=AddressFamily.AF_INET, type=SocketKind.SOCK_STREAM, proto=6, laddr=('127.0.0.1', 56207), raddr=('127.0.0.1', 11434)>\n",
      "  analyzer = GraphRAGSystem(row[\"question\"])\n",
      "ResourceWarning: Enable tracemalloc to get the object allocation traceback\n"
     ]
    },
    {
     "name": "stdout",
     "output_type": "stream",
     "text": [
      "Question 46: Can a dilated eye exam diagnose AMD?\n",
      "Context: A...\n",
      "Response: True\n",
      "\n"
     ]
    },
    {
     "name": "stderr",
     "output_type": "stream",
     "text": [
      "/var/folders/z3/zc5j75dj0qn_z2sp8qf47q340000gn/T/ipykernel_63108/652174667.py:8: ResourceWarning: unclosed <socket.socket fd=92, family=AddressFamily.AF_INET, type=SocketKind.SOCK_STREAM, proto=6, laddr=('127.0.0.1', 56228), raddr=('127.0.0.1', 11434)>\n",
      "  analyzer = GraphRAGSystem(row[\"question\"])\n",
      "ResourceWarning: Enable tracemalloc to get the object allocation traceback\n"
     ]
    },
    {
     "name": "stdout",
     "output_type": "stream",
     "text": [
      "Question 47: Is AMD caused by reading in dim light?\n",
      "Context: T...\n",
      "Response: False.\n",
      "\n"
     ]
    },
    {
     "name": "stderr",
     "output_type": "stream",
     "text": [
      "/var/folders/z3/zc5j75dj0qn_z2sp8qf47q340000gn/T/ipykernel_63108/652174667.py:8: ResourceWarning: unclosed <socket.socket fd=92, family=AddressFamily.AF_INET, type=SocketKind.SOCK_STREAM, proto=6, laddr=('127.0.0.1', 56251), raddr=('127.0.0.1', 11434)>\n",
      "  analyzer = GraphRAGSystem(row[\"question\"])\n",
      "ResourceWarning: Enable tracemalloc to get the object allocation traceback\n",
      "/opt/homebrew/Cellar/python@3.10/3.10.16/Frameworks/Python.framework/Versions/3.10/lib/python3.10/asyncio/selector_events.py:710: ResourceWarning: unclosed transport <_SelectorSocketTransport fd=84 read=idle write=<idle, bufsize=0>>\n",
      "  _warn(f\"unclosed transport {self!r}\", ResourceWarning, source=self)\n",
      "ResourceWarning: Enable tracemalloc to get the object allocation traceback\n"
     ]
    },
    {
     "name": "stdout",
     "output_type": "stream",
     "text": [
      "Question 48: Does AMD affect the ability to recognize faces?\n",
      "Context: T...\n",
      "Response: True\n",
      "\n"
     ]
    },
    {
     "name": "stderr",
     "output_type": "stream",
     "text": [
      "/var/folders/z3/zc5j75dj0qn_z2sp8qf47q340000gn/T/ipykernel_63108/652174667.py:8: ResourceWarning: unclosed <socket.socket fd=84, family=AddressFamily.AF_INET, type=SocketKind.SOCK_STREAM, proto=6, laddr=('127.0.0.1', 56271), raddr=('127.0.0.1', 11434)>\n",
      "  analyzer = GraphRAGSystem(row[\"question\"])\n",
      "ResourceWarning: Enable tracemalloc to get the object allocation traceback\n"
     ]
    },
    {
     "name": "stdout",
     "output_type": "stream",
     "text": [
      "Question 49: Can wet AMD be cured with antibiotics?\n",
      "Context: T...\n",
      "Response: False.\n",
      "\n"
     ]
    },
    {
     "name": "stderr",
     "output_type": "stream",
     "text": [
      "/var/folders/z3/zc5j75dj0qn_z2sp8qf47q340000gn/T/ipykernel_63108/652174667.py:8: ResourceWarning: unclosed <socket.socket fd=84, family=AddressFamily.AF_INET, type=SocketKind.SOCK_STREAM, proto=6, laddr=('127.0.0.1', 56293), raddr=('127.0.0.1', 11434)>\n",
      "  analyzer = GraphRAGSystem(row[\"question\"])\n",
      "ResourceWarning: Enable tracemalloc to get the object allocation traceback\n"
     ]
    },
    {
     "name": "stdout",
     "output_type": "stream",
     "text": [
      "Question 50: Does AMD risk increase with age?\n",
      "Context: T...\n",
      "Response: True.\n",
      "\n"
     ]
    },
    {
     "name": "stderr",
     "output_type": "stream",
     "text": [
      "/var/folders/z3/zc5j75dj0qn_z2sp8qf47q340000gn/T/ipykernel_63108/652174667.py:8: ResourceWarning: unclosed <socket.socket fd=84, family=AddressFamily.AF_INET, type=SocketKind.SOCK_STREAM, proto=6, laddr=('127.0.0.1', 56317), raddr=('127.0.0.1', 11434)>\n",
      "  analyzer = GraphRAGSystem(row[\"question\"])\n",
      "ResourceWarning: Enable tracemalloc to get the object allocation traceback\n"
     ]
    },
    {
     "name": "stdout",
     "output_type": "stream",
     "text": [
      "Question 51: Does AMD affect the central vision?\n",
      "Context: T...\n",
      "Response: True\n",
      "\n"
     ]
    },
    {
     "name": "stderr",
     "output_type": "stream",
     "text": [
      "/var/folders/z3/zc5j75dj0qn_z2sp8qf47q340000gn/T/ipykernel_63108/652174667.py:8: ResourceWarning: unclosed <socket.socket fd=84, family=AddressFamily.AF_INET, type=SocketKind.SOCK_STREAM, proto=6, laddr=('127.0.0.1', 56339), raddr=('127.0.0.1', 11434)>\n",
      "  analyzer = GraphRAGSystem(row[\"question\"])\n",
      "ResourceWarning: Enable tracemalloc to get the object allocation traceback\n"
     ]
    },
    {
     "name": "stdout",
     "output_type": "stream",
     "text": [
      "Question 52: Is wet AMD caused by bacterial infections?\n",
      "Context: T...\n",
      "Response: False\n",
      "\n"
     ]
    },
    {
     "name": "stderr",
     "output_type": "stream",
     "text": [
      "/var/folders/z3/zc5j75dj0qn_z2sp8qf47q340000gn/T/ipykernel_63108/652174667.py:8: ResourceWarning: unclosed <socket.socket fd=84, family=AddressFamily.AF_INET, type=SocketKind.SOCK_STREAM, proto=6, laddr=('127.0.0.1', 56366), raddr=('127.0.0.1', 11434)>\n",
      "  analyzer = GraphRAGSystem(row[\"question\"])\n",
      "ResourceWarning: Enable tracemalloc to get the object allocation traceback\n"
     ]
    },
    {
     "name": "stdout",
     "output_type": "stream",
     "text": [
      "Question 53: Can dry AMD progress to geographic atrophy?\n",
      "Context: T...\n",
      "Response: True\n",
      "\n"
     ]
    },
    {
     "name": "stderr",
     "output_type": "stream",
     "text": [
      "/var/folders/z3/zc5j75dj0qn_z2sp8qf47q340000gn/T/ipykernel_63108/652174667.py:8: ResourceWarning: unclosed <socket.socket fd=84, family=AddressFamily.AF_INET, type=SocketKind.SOCK_STREAM, proto=6, laddr=('127.0.0.1', 56387), raddr=('127.0.0.1', 11434)>\n",
      "  analyzer = GraphRAGSystem(row[\"question\"])\n",
      "ResourceWarning: Enable tracemalloc to get the object allocation traceback\n"
     ]
    },
    {
     "name": "stdout",
     "output_type": "stream",
     "text": [
      "Question 54: Is AMD treatable with antibiotics?\n",
      "Context: T...\n",
      "Response: False.\n",
      "\n"
     ]
    },
    {
     "name": "stderr",
     "output_type": "stream",
     "text": [
      "/var/folders/z3/zc5j75dj0qn_z2sp8qf47q340000gn/T/ipykernel_63108/652174667.py:8: ResourceWarning: unclosed <socket.socket fd=84, family=AddressFamily.AF_INET, type=SocketKind.SOCK_STREAM, proto=6, laddr=('127.0.0.1', 56409), raddr=('127.0.0.1', 11434)>\n",
      "  analyzer = GraphRAGSystem(row[\"question\"])\n",
      "ResourceWarning: Enable tracemalloc to get the object allocation traceback\n"
     ]
    },
    {
     "name": "stdout",
     "output_type": "stream",
     "text": [
      "Question 55: Does wet AMD involve choroidal neovascularization?\n",
      "Context: T...\n",
      "Response: True.\n",
      "\n"
     ]
    },
    {
     "name": "stderr",
     "output_type": "stream",
     "text": [
      "/var/folders/z3/zc5j75dj0qn_z2sp8qf47q340000gn/T/ipykernel_63108/652174667.py:8: ResourceWarning: unclosed <socket.socket fd=84, family=AddressFamily.AF_INET, type=SocketKind.SOCK_STREAM, proto=6, laddr=('127.0.0.1', 56431), raddr=('127.0.0.1', 11434)>\n",
      "  analyzer = GraphRAGSystem(row[\"question\"])\n",
      "ResourceWarning: Enable tracemalloc to get the object allocation traceback\n"
     ]
    },
    {
     "name": "stdout",
     "output_type": "stream",
     "text": [
      "Question 56: Can AMD be prevented by avoiding all sunlight?\n",
      "Context: T...\n",
      "Response: False.\n",
      "\n"
     ]
    },
    {
     "name": "stderr",
     "output_type": "stream",
     "text": [
      "/var/folders/z3/zc5j75dj0qn_z2sp8qf47q340000gn/T/ipykernel_63108/652174667.py:8: ResourceWarning: unclosed <socket.socket fd=84, family=AddressFamily.AF_INET, type=SocketKind.SOCK_STREAM, proto=6, laddr=('127.0.0.1', 56451), raddr=('127.0.0.1', 11434)>\n",
      "  analyzer = GraphRAGSystem(row[\"question\"])\n",
      "ResourceWarning: Enable tracemalloc to get the object allocation traceback\n"
     ]
    },
    {
     "name": "stdout",
     "output_type": "stream",
     "text": [
      "Question 57: Is smoking a risk factor for AMD?\n",
      "Context: T...\n",
      "Response: True\n",
      "\n"
     ]
    },
    {
     "name": "stderr",
     "output_type": "stream",
     "text": [
      "/var/folders/z3/zc5j75dj0qn_z2sp8qf47q340000gn/T/ipykernel_63108/652174667.py:8: ResourceWarning: unclosed <socket.socket fd=84, family=AddressFamily.AF_INET, type=SocketKind.SOCK_STREAM, proto=6, laddr=('127.0.0.1', 56473), raddr=('127.0.0.1', 11434)>\n",
      "  analyzer = GraphRAGSystem(row[\"question\"])\n",
      "ResourceWarning: Enable tracemalloc to get the object allocation traceback\n"
     ]
    },
    {
     "name": "stdout",
     "output_type": "stream",
     "text": [
      "Question 58: Does dry AMD cause rapid vision loss?\n",
      "Context: T...\n",
      "Response: True\n",
      "\n"
     ]
    },
    {
     "name": "stderr",
     "output_type": "stream",
     "text": [
      "/var/folders/z3/zc5j75dj0qn_z2sp8qf47q340000gn/T/ipykernel_63108/652174667.py:8: ResourceWarning: unclosed <socket.socket fd=84, family=AddressFamily.AF_INET, type=SocketKind.SOCK_STREAM, proto=6, laddr=('127.0.0.1', 56495), raddr=('127.0.0.1', 11434)>\n",
      "  analyzer = GraphRAGSystem(row[\"question\"])\n",
      "ResourceWarning: Enable tracemalloc to get the object allocation traceback\n"
     ]
    },
    {
     "name": "stdout",
     "output_type": "stream",
     "text": [
      "Question 59: Is AMD primarily a disease of the cornea?\n",
      "Context: T...\n",
      "Response: False.\n",
      "\n"
     ]
    },
    {
     "name": "stderr",
     "output_type": "stream",
     "text": [
      "/var/folders/z3/zc5j75dj0qn_z2sp8qf47q340000gn/T/ipykernel_63108/652174667.py:8: ResourceWarning: unclosed <socket.socket fd=84, family=AddressFamily.AF_INET, type=SocketKind.SOCK_STREAM, proto=6, laddr=('127.0.0.1', 56519), raddr=('127.0.0.1', 11434)>\n",
      "  analyzer = GraphRAGSystem(row[\"question\"])\n",
      "ResourceWarning: Enable tracemalloc to get the object allocation traceback\n"
     ]
    },
    {
     "name": "stdout",
     "output_type": "stream",
     "text": [
      "Question 60: Does family history increase AMD risk?\n",
      "Context: T...\n",
      "Response: True.\n",
      "\n"
     ]
    },
    {
     "name": "stderr",
     "output_type": "stream",
     "text": [
      "/var/folders/z3/zc5j75dj0qn_z2sp8qf47q340000gn/T/ipykernel_63108/652174667.py:8: ResourceWarning: unclosed <socket.socket fd=84, family=AddressFamily.AF_INET, type=SocketKind.SOCK_STREAM, proto=6, laddr=('127.0.0.1', 56541), raddr=('127.0.0.1', 11434)>\n",
      "  analyzer = GraphRAGSystem(row[\"question\"])\n",
      "ResourceWarning: Enable tracemalloc to get the object allocation traceback\n"
     ]
    },
    {
     "name": "stdout",
     "output_type": "stream",
     "text": [
      "Question 61: Can AMD be diagnosed with a urine test?\n",
      "Context: A...\n",
      "Response: False.\n",
      "\n"
     ]
    },
    {
     "name": "stderr",
     "output_type": "stream",
     "text": [
      "/var/folders/z3/zc5j75dj0qn_z2sp8qf47q340000gn/T/ipykernel_63108/652174667.py:8: ResourceWarning: unclosed <socket.socket fd=84, family=AddressFamily.AF_INET, type=SocketKind.SOCK_STREAM, proto=6, laddr=('127.0.0.1', 56563), raddr=('127.0.0.1', 11434)>\n",
      "  analyzer = GraphRAGSystem(row[\"question\"])\n",
      "ResourceWarning: Enable tracemalloc to get the object allocation traceback\n"
     ]
    },
    {
     "name": "stdout",
     "output_type": "stream",
     "text": [
      "Question 62: Is the Amsler grid used to monitor AMD symptoms?\n",
      "Context: T...\n",
      "Response: True\n",
      "\n"
     ]
    },
    {
     "name": "stderr",
     "output_type": "stream",
     "text": [
      "/var/folders/z3/zc5j75dj0qn_z2sp8qf47q340000gn/T/ipykernel_63108/652174667.py:8: ResourceWarning: unclosed <socket.socket fd=84, family=AddressFamily.AF_INET, type=SocketKind.SOCK_STREAM, proto=6, laddr=('127.0.0.1', 56587), raddr=('127.0.0.1', 11434)>\n",
      "  analyzer = GraphRAGSystem(row[\"question\"])\n",
      "ResourceWarning: Enable tracemalloc to get the object allocation traceback\n"
     ]
    },
    {
     "name": "stdout",
     "output_type": "stream",
     "text": [
      "Question 63: Does wet AMD cause sudden vision changes?\n",
      "Context: T...\n",
      "Response: False.\n",
      "\n"
     ]
    },
    {
     "name": "stderr",
     "output_type": "stream",
     "text": [
      "/var/folders/z3/zc5j75dj0qn_z2sp8qf47q340000gn/T/ipykernel_63108/652174667.py:8: ResourceWarning: unclosed <socket.socket fd=84, family=AddressFamily.AF_INET, type=SocketKind.SOCK_STREAM, proto=6, laddr=('127.0.0.1', 56607), raddr=('127.0.0.1', 11434)>\n",
      "  analyzer = GraphRAGSystem(row[\"question\"])\n",
      "ResourceWarning: Enable tracemalloc to get the object allocation traceback\n"
     ]
    },
    {
     "name": "stdout",
     "output_type": "stream",
     "text": [
      "Question 64: Is dry AMD more prevalent than wet AMD?\n",
      "Context: T...\n",
      "Response: False.\n",
      "\n"
     ]
    },
    {
     "name": "stderr",
     "output_type": "stream",
     "text": [
      "/var/folders/z3/zc5j75dj0qn_z2sp8qf47q340000gn/T/ipykernel_63108/652174667.py:8: ResourceWarning: unclosed <socket.socket fd=84, family=AddressFamily.AF_INET, type=SocketKind.SOCK_STREAM, proto=6, laddr=('127.0.0.1', 56629), raddr=('127.0.0.1', 11434)>\n",
      "  analyzer = GraphRAGSystem(row[\"question\"])\n",
      "ResourceWarning: Enable tracemalloc to get the object allocation traceback\n"
     ]
    },
    {
     "name": "stdout",
     "output_type": "stream",
     "text": [
      "Question 65: Can AMD be cured with dietary supplements alone?\n",
      "Context: T...\n",
      "Response: False\n",
      "\n"
     ]
    },
    {
     "name": "stderr",
     "output_type": "stream",
     "text": [
      "/var/folders/z3/zc5j75dj0qn_z2sp8qf47q340000gn/T/ipykernel_63108/652174667.py:8: ResourceWarning: unclosed <socket.socket fd=84, family=AddressFamily.AF_INET, type=SocketKind.SOCK_STREAM, proto=6, laddr=('127.0.0.1', 56650), raddr=('127.0.0.1', 11434)>\n",
      "  analyzer = GraphRAGSystem(row[\"question\"])\n",
      "ResourceWarning: Enable tracemalloc to get the object allocation traceback\n"
     ]
    },
    {
     "name": "stdout",
     "output_type": "stream",
     "text": [
      "Question 66: Is AMD contagious?\n",
      "Context: T...\n",
      "Response: False\n",
      "\n"
     ]
    },
    {
     "name": "stderr",
     "output_type": "stream",
     "text": [
      "/var/folders/z3/zc5j75dj0qn_z2sp8qf47q340000gn/T/ipykernel_63108/652174667.py:8: ResourceWarning: unclosed <socket.socket fd=84, family=AddressFamily.AF_INET, type=SocketKind.SOCK_STREAM, proto=6, laddr=('127.0.0.1', 56673), raddr=('127.0.0.1', 11434)>\n",
      "  analyzer = GraphRAGSystem(row[\"question\"])\n",
      "ResourceWarning: Enable tracemalloc to get the object allocation traceback\n"
     ]
    },
    {
     "name": "stdout",
     "output_type": "stream",
     "text": [
      "Question 67: Can optical coherence tomography detect AMD?\n",
      "Context: T...\n",
      "Response: True.\n",
      "\n"
     ]
    },
    {
     "name": "stderr",
     "output_type": "stream",
     "text": [
      "/var/folders/z3/zc5j75dj0qn_z2sp8qf47q340000gn/T/ipykernel_63108/652174667.py:8: ResourceWarning: unclosed <socket.socket fd=84, family=AddressFamily.AF_INET, type=SocketKind.SOCK_STREAM, proto=6, laddr=('127.0.0.1', 56694), raddr=('127.0.0.1', 11434)>\n",
      "  analyzer = GraphRAGSystem(row[\"question\"])\n",
      "ResourceWarning: Enable tracemalloc to get the object allocation traceback\n"
     ]
    },
    {
     "name": "stdout",
     "output_type": "stream",
     "text": [
      "Question 68: Is obesity a risk factor for AMD?\n",
      "Context: T...\n",
      "Response: False.\n",
      "\n"
     ]
    },
    {
     "name": "stderr",
     "output_type": "stream",
     "text": [
      "/var/folders/z3/zc5j75dj0qn_z2sp8qf47q340000gn/T/ipykernel_63108/652174667.py:8: ResourceWarning: unclosed <socket.socket fd=84, family=AddressFamily.AF_INET, type=SocketKind.SOCK_STREAM, proto=6, laddr=('127.0.0.1', 56718), raddr=('127.0.0.1', 11434)>\n",
      "  analyzer = GraphRAGSystem(row[\"question\"])\n",
      "ResourceWarning: Enable tracemalloc to get the object allocation traceback\n"
     ]
    },
    {
     "name": "stdout",
     "output_type": "stream",
     "text": [
      "Question 69: Can AMD be reversed with laser surgery?\n",
      "Context: A...\n",
      "Response: False.\n",
      "\n"
     ]
    },
    {
     "name": "stderr",
     "output_type": "stream",
     "text": [
      "/var/folders/z3/zc5j75dj0qn_z2sp8qf47q340000gn/T/ipykernel_63108/652174667.py:8: ResourceWarning: unclosed <socket.socket fd=84, family=AddressFamily.AF_INET, type=SocketKind.SOCK_STREAM, proto=6, laddr=('127.0.0.1', 56740), raddr=('127.0.0.1', 11434)>\n",
      "  analyzer = GraphRAGSystem(row[\"question\"])\n",
      "ResourceWarning: Enable tracemalloc to get the object allocation traceback\n"
     ]
    },
    {
     "name": "stdout",
     "output_type": "stream",
     "text": [
      "Question 70: Can diabetes increase the risk of AMD?\n",
      "Context: S...\n",
      "Response: True.\n",
      "\n"
     ]
    },
    {
     "name": "stderr",
     "output_type": "stream",
     "text": [
      "/var/folders/z3/zc5j75dj0qn_z2sp8qf47q340000gn/T/ipykernel_63108/652174667.py:8: ResourceWarning: unclosed <socket.socket fd=84, family=AddressFamily.AF_INET, type=SocketKind.SOCK_STREAM, proto=6, laddr=('127.0.0.1', 56764), raddr=('127.0.0.1', 11434)>\n",
      "  analyzer = GraphRAGSystem(row[\"question\"])\n",
      "ResourceWarning: Enable tracemalloc to get the object allocation traceback\n"
     ]
    },
    {
     "name": "stdout",
     "output_type": "stream",
     "text": [
      "Question 71: Does wet AMD involve fluid buildup under the retina?\n",
      "Context: T...\n",
      "Response: False.\n",
      "\n"
     ]
    },
    {
     "name": "stderr",
     "output_type": "stream",
     "text": [
      "/var/folders/z3/zc5j75dj0qn_z2sp8qf47q340000gn/T/ipykernel_63108/652174667.py:8: ResourceWarning: unclosed <socket.socket fd=84, family=AddressFamily.AF_INET, type=SocketKind.SOCK_STREAM, proto=6, laddr=('127.0.0.1', 56786), raddr=('127.0.0.1', 11434)>\n",
      "  analyzer = GraphRAGSystem(row[\"question\"])\n",
      "ResourceWarning: Enable tracemalloc to get the object allocation traceback\n"
     ]
    },
    {
     "name": "stdout",
     "output_type": "stream",
     "text": [
      "Question 72: Is AMD more common in women than men?\n",
      "Context: T...\n",
      "Response: True.\n",
      "\n"
     ]
    },
    {
     "name": "stderr",
     "output_type": "stream",
     "text": [
      "/var/folders/z3/zc5j75dj0qn_z2sp8qf47q340000gn/T/ipykernel_63108/652174667.py:8: ResourceWarning: unclosed <socket.socket fd=84, family=AddressFamily.AF_INET, type=SocketKind.SOCK_STREAM, proto=6, laddr=('127.0.0.1', 56808), raddr=('127.0.0.1', 11434)>\n",
      "  analyzer = GraphRAGSystem(row[\"question\"])\n",
      "ResourceWarning: Enable tracemalloc to get the object allocation traceback\n"
     ]
    },
    {
     "name": "stdout",
     "output_type": "stream",
     "text": [
      "Question 73: Does AMD increase the risk of falls in older adults?\n",
      "Context: T...\n",
      "Response: True\n",
      "\n"
     ]
    },
    {
     "name": "stderr",
     "output_type": "stream",
     "text": [
      "/var/folders/z3/zc5j75dj0qn_z2sp8qf47q340000gn/T/ipykernel_63108/652174667.py:8: ResourceWarning: unclosed <socket.socket fd=84, family=AddressFamily.AF_INET, type=SocketKind.SOCK_STREAM, proto=6, laddr=('127.0.0.1', 56828), raddr=('127.0.0.1', 11434)>\n",
      "  analyzer = GraphRAGSystem(row[\"question\"])\n",
      "ResourceWarning: Enable tracemalloc to get the object allocation traceback\n"
     ]
    },
    {
     "name": "stdout",
     "output_type": "stream",
     "text": [
      "Question 74: Is photodynamic therapy a treatment for wet AMD?\n",
      "Context: T...\n",
      "Response: True\n",
      "\n"
     ]
    },
    {
     "name": "stderr",
     "output_type": "stream",
     "text": [
      "/var/folders/z3/zc5j75dj0qn_z2sp8qf47q340000gn/T/ipykernel_63108/652174667.py:8: ResourceWarning: unclosed <socket.socket fd=84, family=AddressFamily.AF_INET, type=SocketKind.SOCK_STREAM, proto=6, laddr=('127.0.0.1', 56850), raddr=('127.0.0.1', 11434)>\n",
      "  analyzer = GraphRAGSystem(row[\"question\"])\n",
      "ResourceWarning: Enable tracemalloc to get the object allocation traceback\n"
     ]
    },
    {
     "name": "stdout",
     "output_type": "stream",
     "text": [
      "Question 75: Can AMD be prevented by wearing UV-protective sunglasses?\n",
      "Context: T...\n",
      "Response: False.\n",
      "\n"
     ]
    },
    {
     "name": "stderr",
     "output_type": "stream",
     "text": [
      "/var/folders/z3/zc5j75dj0qn_z2sp8qf47q340000gn/T/ipykernel_63108/652174667.py:8: ResourceWarning: unclosed <socket.socket fd=84, family=AddressFamily.AF_INET, type=SocketKind.SOCK_STREAM, proto=6, laddr=('127.0.0.1', 56872), raddr=('127.0.0.1', 11434)>\n",
      "  analyzer = GraphRAGSystem(row[\"question\"])\n",
      "ResourceWarning: Enable tracemalloc to get the object allocation traceback\n"
     ]
    },
    {
     "name": "stdout",
     "output_type": "stream",
     "text": [
      "Question 76: Is AMD caused by a viral infection?\n",
      "Context: T...\n",
      "Response: False\n",
      "\n"
     ]
    },
    {
     "name": "stderr",
     "output_type": "stream",
     "text": [
      "/var/folders/z3/zc5j75dj0qn_z2sp8qf47q340000gn/T/ipykernel_63108/652174667.py:8: ResourceWarning: unclosed <socket.socket fd=84, family=AddressFamily.AF_INET, type=SocketKind.SOCK_STREAM, proto=6, laddr=('127.0.0.1', 56894), raddr=('127.0.0.1', 11434)>\n",
      "  analyzer = GraphRAGSystem(row[\"question\"])\n",
      "ResourceWarning: Enable tracemalloc to get the object allocation traceback\n"
     ]
    },
    {
     "name": "stdout",
     "output_type": "stream",
     "text": [
      "Question 77: Does AMD primarily affect people over 60?\n",
      "Context: T...\n",
      "Response: False.\n",
      "\n"
     ]
    },
    {
     "name": "stderr",
     "output_type": "stream",
     "text": [
      "/var/folders/z3/zc5j75dj0qn_z2sp8qf47q340000gn/T/ipykernel_63108/652174667.py:8: ResourceWarning: unclosed <socket.socket fd=84, family=AddressFamily.AF_INET, type=SocketKind.SOCK_STREAM, proto=6, laddr=('127.0.0.1', 56916), raddr=('127.0.0.1', 11434)>\n",
      "  analyzer = GraphRAGSystem(row[\"question\"])\n",
      "ResourceWarning: Enable tracemalloc to get the object allocation traceback\n"
     ]
    },
    {
     "name": "stdout",
     "output_type": "stream",
     "text": [
      "Question 78: Is AMD reversible with current treatments?\n",
      "Context: T...\n",
      "Response: False.\n",
      "\n"
     ]
    },
    {
     "name": "stderr",
     "output_type": "stream",
     "text": [
      "/var/folders/z3/zc5j75dj0qn_z2sp8qf47q340000gn/T/ipykernel_63108/652174667.py:8: ResourceWarning: unclosed <socket.socket fd=84, family=AddressFamily.AF_INET, type=SocketKind.SOCK_STREAM, proto=6, laddr=('127.0.0.1', 56937), raddr=('127.0.0.1', 11434)>\n",
      "  analyzer = GraphRAGSystem(row[\"question\"])\n",
      "ResourceWarning: Enable tracemalloc to get the object allocation traceback\n"
     ]
    },
    {
     "name": "stdout",
     "output_type": "stream",
     "text": [
      "Question 79: Can wet AMD cause distorted vision?\n",
      "Context: T...\n",
      "Response: True\n",
      "\n"
     ]
    },
    {
     "name": "stderr",
     "output_type": "stream",
     "text": [
      "/var/folders/z3/zc5j75dj0qn_z2sp8qf47q340000gn/T/ipykernel_63108/652174667.py:8: ResourceWarning: unclosed <socket.socket fd=84, family=AddressFamily.AF_INET, type=SocketKind.SOCK_STREAM, proto=6, laddr=('127.0.0.1', 56960), raddr=('127.0.0.1', 11434)>\n",
      "  analyzer = GraphRAGSystem(row[\"question\"])\n",
      "ResourceWarning: Enable tracemalloc to get the object allocation traceback\n"
     ]
    },
    {
     "name": "stdout",
     "output_type": "stream",
     "text": [
      "Question 80: Is high cholesterol a risk factor for AMD?\n",
      "Context: H...\n",
      "Response: True\n",
      "\n"
     ]
    },
    {
     "name": "stderr",
     "output_type": "stream",
     "text": [
      "/var/folders/z3/zc5j75dj0qn_z2sp8qf47q340000gn/T/ipykernel_63108/652174667.py:8: ResourceWarning: unclosed <socket.socket fd=84, family=AddressFamily.AF_INET, type=SocketKind.SOCK_STREAM, proto=6, laddr=('127.0.0.1', 56983), raddr=('127.0.0.1', 11434)>\n",
      "  analyzer = GraphRAGSystem(row[\"question\"])\n",
      "ResourceWarning: Enable tracemalloc to get the object allocation traceback\n"
     ]
    },
    {
     "name": "stdout",
     "output_type": "stream",
     "text": [
      "Question 81: Does AMD cause straight lines to appear wavy?\n",
      "Context: T...\n",
      "Response: False.\n",
      "\n"
     ]
    },
    {
     "name": "stderr",
     "output_type": "stream",
     "text": [
      "/var/folders/z3/zc5j75dj0qn_z2sp8qf47q340000gn/T/ipykernel_63108/652174667.py:8: ResourceWarning: unclosed <socket.socket fd=84, family=AddressFamily.AF_INET, type=SocketKind.SOCK_STREAM, proto=6, laddr=('127.0.0.1', 57006), raddr=('127.0.0.1', 11434)>\n",
      "  analyzer = GraphRAGSystem(row[\"question\"])\n",
      "ResourceWarning: Enable tracemalloc to get the object allocation traceback\n"
     ]
    },
    {
     "name": "stdout",
     "output_type": "stream",
     "text": [
      "Question 82: Can AMD be cured with exercise alone?\n",
      "Context: T...\n",
      "Response: False.\n",
      "\n"
     ]
    },
    {
     "name": "stderr",
     "output_type": "stream",
     "text": [
      "/var/folders/z3/zc5j75dj0qn_z2sp8qf47q340000gn/T/ipykernel_63108/652174667.py:8: ResourceWarning: unclosed <socket.socket fd=84, family=AddressFamily.AF_INET, type=SocketKind.SOCK_STREAM, proto=6, laddr=('127.0.0.1', 57028), raddr=('127.0.0.1', 11434)>\n",
      "  analyzer = GraphRAGSystem(row[\"question\"])\n",
      "ResourceWarning: Enable tracemalloc to get the object allocation traceback\n"
     ]
    },
    {
     "name": "stdout",
     "output_type": "stream",
     "text": [
      "Question 83: Can a dilated eye exam detect AMD?\n",
      "Context: T...\n",
      "Response: True.\n",
      "\n"
     ]
    },
    {
     "name": "stderr",
     "output_type": "stream",
     "text": [
      "/var/folders/z3/zc5j75dj0qn_z2sp8qf47q340000gn/T/ipykernel_63108/652174667.py:8: ResourceWarning: unclosed <socket.socket fd=84, family=AddressFamily.AF_INET, type=SocketKind.SOCK_STREAM, proto=6, laddr=('127.0.0.1', 57051), raddr=('127.0.0.1', 11434)>\n",
      "  analyzer = GraphRAGSystem(row[\"question\"])\n",
      "ResourceWarning: Enable tracemalloc to get the object allocation traceback\n"
     ]
    },
    {
     "name": "stdout",
     "output_type": "stream",
     "text": [
      "Question 84: Can wet AMD be treated with antibiotics?\n",
      "Context: T...\n",
      "Response: False\n",
      "\n"
     ]
    },
    {
     "name": "stderr",
     "output_type": "stream",
     "text": [
      "/var/folders/z3/zc5j75dj0qn_z2sp8qf47q340000gn/T/ipykernel_63108/652174667.py:8: ResourceWarning: unclosed <socket.socket fd=84, family=AddressFamily.AF_INET, type=SocketKind.SOCK_STREAM, proto=6, laddr=('127.0.0.1', 57071), raddr=('127.0.0.1', 11434)>\n",
      "  analyzer = GraphRAGSystem(row[\"question\"])\n",
      "ResourceWarning: Enable tracemalloc to get the object allocation traceback\n"
     ]
    },
    {
     "name": "stdout",
     "output_type": "stream",
     "text": [
      "Question 85: Is dry AMD associated with drusen deposits?\n",
      "Context: T...\n",
      "Response: True\n",
      "\n"
     ]
    },
    {
     "name": "stderr",
     "output_type": "stream",
     "text": [
      "/var/folders/z3/zc5j75dj0qn_z2sp8qf47q340000gn/T/ipykernel_63108/652174667.py:8: ResourceWarning: unclosed <socket.socket fd=84, family=AddressFamily.AF_INET, type=SocketKind.SOCK_STREAM, proto=6, laddr=('127.0.0.1', 57093), raddr=('127.0.0.1', 11434)>\n",
      "  analyzer = GraphRAGSystem(row[\"question\"])\n",
      "ResourceWarning: Enable tracemalloc to get the object allocation traceback\n"
     ]
    },
    {
     "name": "stdout",
     "output_type": "stream",
     "text": [
      "Question 86: Can AMD be diagnosed with an MRI?\n",
      "Context: S...\n",
      "Response: FALSE\n",
      "\n"
     ]
    },
    {
     "name": "stderr",
     "output_type": "stream",
     "text": [
      "/var/folders/z3/zc5j75dj0qn_z2sp8qf47q340000gn/T/ipykernel_63108/652174667.py:8: ResourceWarning: unclosed <socket.socket fd=84, family=AddressFamily.AF_INET, type=SocketKind.SOCK_STREAM, proto=6, laddr=('127.0.0.1', 57115), raddr=('127.0.0.1', 11434)>\n",
      "  analyzer = GraphRAGSystem(row[\"question\"])\n",
      "ResourceWarning: Enable tracemalloc to get the object allocation traceback\n"
     ]
    },
    {
     "name": "stdout",
     "output_type": "stream",
     "text": [
      "Question 87: Does wet AMD cause fluid leakage in the eye?\n",
      "Context: T...\n",
      "Response: True\n",
      "\n"
     ]
    },
    {
     "name": "stderr",
     "output_type": "stream",
     "text": [
      "/var/folders/z3/zc5j75dj0qn_z2sp8qf47q340000gn/T/ipykernel_63108/652174667.py:8: ResourceWarning: unclosed <socket.socket fd=84, family=AddressFamily.AF_INET, type=SocketKind.SOCK_STREAM, proto=6, laddr=('127.0.0.1', 57139), raddr=('127.0.0.1', 11434)>\n",
      "  analyzer = GraphRAGSystem(row[\"question\"])\n",
      "ResourceWarning: Enable tracemalloc to get the object allocation traceback\n"
     ]
    },
    {
     "name": "stdout",
     "output_type": "stream",
     "text": [
      "Question 88: Is AMD linked to cardiovascular disease?\n",
      "Context: T...\n",
      "Response: True.\n",
      "\n"
     ]
    },
    {
     "name": "stderr",
     "output_type": "stream",
     "text": [
      "/var/folders/z3/zc5j75dj0qn_z2sp8qf47q340000gn/T/ipykernel_63108/652174667.py:8: ResourceWarning: unclosed <socket.socket fd=84, family=AddressFamily.AF_INET, type=SocketKind.SOCK_STREAM, proto=6, laddr=('127.0.0.1', 57162), raddr=('127.0.0.1', 11434)>\n",
      "  analyzer = GraphRAGSystem(row[\"question\"])\n",
      "ResourceWarning: Enable tracemalloc to get the object allocation traceback\n"
     ]
    },
    {
     "name": "stdout",
     "output_type": "stream",
     "text": [
      "Question 89: Can AMD be prevented with fish oil supplements alone?\n",
      "Context: S...\n",
      "Response: False.\n",
      "\n"
     ]
    },
    {
     "name": "stderr",
     "output_type": "stream",
     "text": [
      "/var/folders/z3/zc5j75dj0qn_z2sp8qf47q340000gn/T/ipykernel_63108/652174667.py:8: ResourceWarning: unclosed <socket.socket fd=84, family=AddressFamily.AF_INET, type=SocketKind.SOCK_STREAM, proto=6, laddr=('127.0.0.1', 57187), raddr=('127.0.0.1', 11434)>\n",
      "  analyzer = GraphRAGSystem(row[\"question\"])\n",
      "ResourceWarning: Enable tracemalloc to get the object allocation traceback\n"
     ]
    },
    {
     "name": "stdout",
     "output_type": "stream",
     "text": [
      "Question 90: Does AMD affect reading ability?\n",
      "Context: T...\n",
      "Response: True\n",
      "\n"
     ]
    },
    {
     "name": "stderr",
     "output_type": "stream",
     "text": [
      "/var/folders/z3/zc5j75dj0qn_z2sp8qf47q340000gn/T/ipykernel_63108/652174667.py:8: ResourceWarning: unclosed <socket.socket fd=84, family=AddressFamily.AF_INET, type=SocketKind.SOCK_STREAM, proto=6, laddr=('127.0.0.1', 57210), raddr=('127.0.0.1', 11434)>\n",
      "  analyzer = GraphRAGSystem(row[\"question\"])\n",
      "ResourceWarning: Enable tracemalloc to get the object allocation traceback\n"
     ]
    },
    {
     "name": "stdout",
     "output_type": "stream",
     "text": [
      "Question 91: Is AMD caused by excessive caffeine intake?\n",
      "Context: T...\n",
      "Response: FALSE\n",
      "\n"
     ]
    },
    {
     "name": "stderr",
     "output_type": "stream",
     "text": [
      "/var/folders/z3/zc5j75dj0qn_z2sp8qf47q340000gn/T/ipykernel_63108/652174667.py:8: ResourceWarning: unclosed <socket.socket fd=84, family=AddressFamily.AF_INET, type=SocketKind.SOCK_STREAM, proto=6, laddr=('127.0.0.1', 57233), raddr=('127.0.0.1', 11434)>\n",
      "  analyzer = GraphRAGSystem(row[\"question\"])\n",
      "ResourceWarning: Enable tracemalloc to get the object allocation traceback\n"
     ]
    },
    {
     "name": "stdout",
     "output_type": "stream",
     "text": [
      "Question 92: Can fluorescein angiography diagnose wet AMD?\n",
      "Context: T...\n",
      "Response: True.\n",
      "\n"
     ]
    },
    {
     "name": "stderr",
     "output_type": "stream",
     "text": [
      "/var/folders/z3/zc5j75dj0qn_z2sp8qf47q340000gn/T/ipykernel_63108/652174667.py:8: ResourceWarning: unclosed <socket.socket fd=84, family=AddressFamily.AF_INET, type=SocketKind.SOCK_STREAM, proto=6, laddr=('127.0.0.1', 57254), raddr=('127.0.0.1', 11434)>\n",
      "  analyzer = GraphRAGSystem(row[\"question\"])\n",
      "ResourceWarning: Enable tracemalloc to get the object allocation traceback\n"
     ]
    },
    {
     "name": "stdout",
     "output_type": "stream",
     "text": [
      "Question 93: Does AMD only affect one eye at a time?\n",
      "Context: T...\n",
      "Response: False.\n",
      "\n"
     ]
    },
    {
     "name": "stderr",
     "output_type": "stream",
     "text": [
      "/var/folders/z3/zc5j75dj0qn_z2sp8qf47q340000gn/T/ipykernel_63108/652174667.py:8: ResourceWarning: unclosed <socket.socket fd=84, family=AddressFamily.AF_INET, type=SocketKind.SOCK_STREAM, proto=6, laddr=('127.0.0.1', 57280), raddr=('127.0.0.1', 11434)>\n",
      "  analyzer = GraphRAGSystem(row[\"question\"])\n",
      "ResourceWarning: Enable tracemalloc to get the object allocation traceback\n"
     ]
    },
    {
     "name": "stdout",
     "output_type": "stream",
     "text": [
      "Question 94: Is AMD more prevalent in developed countries?\n",
      "Context: T...\n",
      "Response: False.\n",
      "\n"
     ]
    },
    {
     "name": "stderr",
     "output_type": "stream",
     "text": [
      "/var/folders/z3/zc5j75dj0qn_z2sp8qf47q340000gn/T/ipykernel_63108/652174667.py:8: ResourceWarning: unclosed <socket.socket fd=84, family=AddressFamily.AF_INET, type=SocketKind.SOCK_STREAM, proto=6, laddr=('127.0.0.1', 57301), raddr=('127.0.0.1', 11434)>\n",
      "  analyzer = GraphRAGSystem(row[\"question\"])\n",
      "ResourceWarning: Enable tracemalloc to get the object allocation traceback\n"
     ]
    },
    {
     "name": "stdout",
     "output_type": "stream",
     "text": [
      "Question 95: Can wet AMD be reversed completely?\n",
      "Context: T...\n",
      "Response: False.\n",
      "\n"
     ]
    },
    {
     "name": "stderr",
     "output_type": "stream",
     "text": [
      "/var/folders/z3/zc5j75dj0qn_z2sp8qf47q340000gn/T/ipykernel_63108/652174667.py:8: ResourceWarning: unclosed <socket.socket fd=84, family=AddressFamily.AF_INET, type=SocketKind.SOCK_STREAM, proto=6, laddr=('127.0.0.1', 57323), raddr=('127.0.0.1', 11434)>\n",
      "  analyzer = GraphRAGSystem(row[\"question\"])\n",
      "ResourceWarning: Enable tracemalloc to get the object allocation traceback\n"
     ]
    },
    {
     "name": "stdout",
     "output_type": "stream",
     "text": [
      "Question 96: Does AMD affect the macula?\n",
      "Context: T...\n",
      "Response: True.\n",
      "\n"
     ]
    },
    {
     "name": "stderr",
     "output_type": "stream",
     "text": [
      "/var/folders/z3/zc5j75dj0qn_z2sp8qf47q340000gn/T/ipykernel_63108/652174667.py:8: ResourceWarning: unclosed <socket.socket fd=84, family=AddressFamily.AF_INET, type=SocketKind.SOCK_STREAM, proto=6, laddr=('127.0.0.1', 57348), raddr=('127.0.0.1', 11434)>\n",
      "  analyzer = GraphRAGSystem(row[\"question\"])\n",
      "ResourceWarning: Enable tracemalloc to get the object allocation traceback\n"
     ]
    },
    {
     "name": "stdout",
     "output_type": "stream",
     "text": [
      "Question 97: Is AMD caused by poor hygiene?\n",
      "Context: T...\n",
      "Response: FALSE.\n",
      "\n"
     ]
    },
    {
     "name": "stderr",
     "output_type": "stream",
     "text": [
      "/var/folders/z3/zc5j75dj0qn_z2sp8qf47q340000gn/T/ipykernel_63108/652174667.py:8: ResourceWarning: unclosed <socket.socket fd=84, family=AddressFamily.AF_INET, type=SocketKind.SOCK_STREAM, proto=6, laddr=('127.0.0.1', 57369), raddr=('127.0.0.1', 11434)>\n",
      "  analyzer = GraphRAGSystem(row[\"question\"])\n",
      "ResourceWarning: Enable tracemalloc to get the object allocation traceback\n"
     ]
    },
    {
     "name": "stdout",
     "output_type": "stream",
     "text": [
      "Question 98: Can low vision aids help manage AMD symptoms?\n",
      "Context: L...\n",
      "Response: True\n",
      "\n"
     ]
    },
    {
     "name": "stderr",
     "output_type": "stream",
     "text": [
      "/var/folders/z3/zc5j75dj0qn_z2sp8qf47q340000gn/T/ipykernel_63108/652174667.py:8: ResourceWarning: unclosed <socket.socket fd=84, family=AddressFamily.AF_INET, type=SocketKind.SOCK_STREAM, proto=6, laddr=('127.0.0.1', 57393), raddr=('127.0.0.1', 11434)>\n",
      "  analyzer = GraphRAGSystem(row[\"question\"])\n",
      "ResourceWarning: Enable tracemalloc to get the object allocation traceback\n"
     ]
    },
    {
     "name": "stdout",
     "output_type": "stream",
     "text": [
      "Question 99: Does AMD affect driving ability?\n",
      "Context: S...\n",
      "Response: TRUE\n",
      "\n"
     ]
    },
    {
     "name": "stderr",
     "output_type": "stream",
     "text": [
      "/var/folders/z3/zc5j75dj0qn_z2sp8qf47q340000gn/T/ipykernel_63108/652174667.py:8: ResourceWarning: unclosed <socket.socket fd=84, family=AddressFamily.AF_INET, type=SocketKind.SOCK_STREAM, proto=6, laddr=('127.0.0.1', 57415), raddr=('127.0.0.1', 11434)>\n",
      "  analyzer = GraphRAGSystem(row[\"question\"])\n",
      "ResourceWarning: Enable tracemalloc to get the object allocation traceback\n"
     ]
    },
    {
     "name": "stdout",
     "output_type": "stream",
     "text": [
      "Question 100: Is AMD caused by excessive alcohol consumption?\n",
      "Context: T...\n",
      "Response: False.\n",
      "\n"
     ]
    },
    {
     "name": "stderr",
     "output_type": "stream",
     "text": [
      "/var/folders/z3/zc5j75dj0qn_z2sp8qf47q340000gn/T/ipykernel_63108/652174667.py:8: ResourceWarning: unclosed <socket.socket fd=84, family=AddressFamily.AF_INET, type=SocketKind.SOCK_STREAM, proto=6, laddr=('127.0.0.1', 57437), raddr=('127.0.0.1', 11434)>\n",
      "  analyzer = GraphRAGSystem(row[\"question\"])\n",
      "ResourceWarning: Enable tracemalloc to get the object allocation traceback\n"
     ]
    },
    {
     "name": "stdout",
     "output_type": "stream",
     "text": [
      "Question 101: Can AMD be inherited genetically?\n",
      "Context: T...\n",
      "Response: True\n",
      "\n"
     ]
    },
    {
     "name": "stderr",
     "output_type": "stream",
     "text": [
      "/var/folders/z3/zc5j75dj0qn_z2sp8qf47q340000gn/T/ipykernel_63108/652174667.py:8: ResourceWarning: unclosed <socket.socket fd=84, family=AddressFamily.AF_INET, type=SocketKind.SOCK_STREAM, proto=6, laddr=('127.0.0.1', 57461), raddr=('127.0.0.1', 11434)>\n",
      "  analyzer = GraphRAGSystem(row[\"question\"])\n",
      "ResourceWarning: Enable tracemalloc to get the object allocation traceback\n"
     ]
    },
    {
     "name": "stdout",
     "output_type": "stream",
     "text": [
      "Question 102: Does wet AMD cause hemorrhages under the retina?\n",
      "Context: S...\n",
      "Response: True\n",
      "\n"
     ]
    },
    {
     "name": "stderr",
     "output_type": "stream",
     "text": [
      "/var/folders/z3/zc5j75dj0qn_z2sp8qf47q340000gn/T/ipykernel_63108/652174667.py:8: ResourceWarning: unclosed <socket.socket fd=84, family=AddressFamily.AF_INET, type=SocketKind.SOCK_STREAM, proto=6, laddr=('127.0.0.1', 57485), raddr=('127.0.0.1', 11434)>\n",
      "  analyzer = GraphRAGSystem(row[\"question\"])\n",
      "ResourceWarning: Enable tracemalloc to get the object allocation traceback\n"
     ]
    },
    {
     "name": "stdout",
     "output_type": "stream",
     "text": [
      "Question 103: Is AMD caused by staring at bright lights?\n",
      "Context: T...\n",
      "Response: False\n",
      "\n"
     ]
    },
    {
     "name": "stderr",
     "output_type": "stream",
     "text": [
      "/var/folders/z3/zc5j75dj0qn_z2sp8qf47q340000gn/T/ipykernel_63108/652174667.py:8: ResourceWarning: unclosed <socket.socket fd=84, family=AddressFamily.AF_INET, type=SocketKind.SOCK_STREAM, proto=6, laddr=('127.0.0.1', 57506), raddr=('127.0.0.1', 11434)>\n",
      "  analyzer = GraphRAGSystem(row[\"question\"])\n",
      "ResourceWarning: Enable tracemalloc to get the object allocation traceback\n"
     ]
    },
    {
     "name": "stdout",
     "output_type": "stream",
     "text": [
      "Question 104: Can regular eye exams detect AMD early?\n",
      "Context: T...\n",
      "Response: True\n",
      "\n"
     ]
    },
    {
     "name": "stderr",
     "output_type": "stream",
     "text": [
      "/var/folders/z3/zc5j75dj0qn_z2sp8qf47q340000gn/T/ipykernel_63108/652174667.py:8: ResourceWarning: unclosed <socket.socket fd=84, family=AddressFamily.AF_INET, type=SocketKind.SOCK_STREAM, proto=6, laddr=('127.0.0.1', 57529), raddr=('127.0.0.1', 11434)>\n",
      "  analyzer = GraphRAGSystem(row[\"question\"])\n",
      "ResourceWarning: Enable tracemalloc to get the object allocation traceback\n"
     ]
    },
    {
     "name": "stdout",
     "output_type": "stream",
     "text": [
      "Question 105: Does AMD cause floaters in the eye?\n",
      "Context: T...\n",
      "Response: True\n",
      "\n"
     ]
    },
    {
     "name": "stderr",
     "output_type": "stream",
     "text": [
      "/var/folders/z3/zc5j75dj0qn_z2sp8qf47q340000gn/T/ipykernel_63108/652174667.py:8: ResourceWarning: unclosed <socket.socket fd=84, family=AddressFamily.AF_INET, type=SocketKind.SOCK_STREAM, proto=6, laddr=('127.0.0.1', 57553), raddr=('127.0.0.1', 11434)>\n",
      "  analyzer = GraphRAGSystem(row[\"question\"])\n",
      "ResourceWarning: Enable tracemalloc to get the object allocation traceback\n"
     ]
    },
    {
     "name": "stdout",
     "output_type": "stream",
     "text": [
      "Question 106: Is AMD linked to lighter eye color?\n",
      "Context: T...\n",
      "Response: True\n",
      "\n"
     ]
    },
    {
     "name": "stderr",
     "output_type": "stream",
     "text": [
      "/var/folders/z3/zc5j75dj0qn_z2sp8qf47q340000gn/T/ipykernel_63108/652174667.py:8: ResourceWarning: unclosed <socket.socket fd=84, family=AddressFamily.AF_INET, type=SocketKind.SOCK_STREAM, proto=6, laddr=('127.0.0.1', 57574), raddr=('127.0.0.1', 11434)>\n",
      "  analyzer = GraphRAGSystem(row[\"question\"])\n",
      "ResourceWarning: Enable tracemalloc to get the object allocation traceback\n"
     ]
    },
    {
     "name": "stdout",
     "output_type": "stream",
     "text": [
      "Question 107: Can AMD be cured with vitamin C alone?\n",
      "Context: T...\n",
      "Response: False.\n",
      "\n"
     ]
    },
    {
     "name": "stderr",
     "output_type": "stream",
     "text": [
      "/var/folders/z3/zc5j75dj0qn_z2sp8qf47q340000gn/T/ipykernel_63108/652174667.py:8: ResourceWarning: unclosed <socket.socket fd=84, family=AddressFamily.AF_INET, type=SocketKind.SOCK_STREAM, proto=6, laddr=('127.0.0.1', 57597), raddr=('127.0.0.1', 11434)>\n",
      "  analyzer = GraphRAGSystem(row[\"question\"])\n",
      "ResourceWarning: Enable tracemalloc to get the object allocation traceback\n"
     ]
    },
    {
     "name": "stdout",
     "output_type": "stream",
     "text": [
      "Question 108: Does AMD cause blind spots in central vision?\n",
      "Context: S...\n",
      "Response: False\n",
      "\n"
     ]
    },
    {
     "name": "stderr",
     "output_type": "stream",
     "text": [
      "/var/folders/z3/zc5j75dj0qn_z2sp8qf47q340000gn/T/ipykernel_63108/652174667.py:8: ResourceWarning: unclosed <socket.socket fd=84, family=AddressFamily.AF_INET, type=SocketKind.SOCK_STREAM, proto=6, laddr=('127.0.0.1', 57621), raddr=('127.0.0.1', 11434)>\n",
      "  analyzer = GraphRAGSystem(row[\"question\"])\n",
      "ResourceWarning: Enable tracemalloc to get the object allocation traceback\n"
     ]
    },
    {
     "name": "stdout",
     "output_type": "stream",
     "text": [
      "Question 109: Is AMD caused by excessive sugar intake?\n",
      "Context: T...\n",
      "Response: False.\n",
      "\n"
     ]
    },
    {
     "name": "stderr",
     "output_type": "stream",
     "text": [
      "/var/folders/z3/zc5j75dj0qn_z2sp8qf47q340000gn/T/ipykernel_63108/652174667.py:8: ResourceWarning: unclosed <socket.socket fd=84, family=AddressFamily.AF_INET, type=SocketKind.SOCK_STREAM, proto=6, laddr=('127.0.0.1', 57644), raddr=('127.0.0.1', 11434)>\n",
      "  analyzer = GraphRAGSystem(row[\"question\"])\n",
      "ResourceWarning: Enable tracemalloc to get the object allocation traceback\n"
     ]
    },
    {
     "name": "stdout",
     "output_type": "stream",
     "text": [
      "Question 110: Can smoking cessation reduce AMD risk?\n",
      "Context: T...\n",
      "Response: True\n",
      "\n"
     ]
    },
    {
     "name": "stderr",
     "output_type": "stream",
     "text": [
      "/var/folders/z3/zc5j75dj0qn_z2sp8qf47q340000gn/T/ipykernel_63108/652174667.py:8: ResourceWarning: unclosed <socket.socket fd=84, family=AddressFamily.AF_INET, type=SocketKind.SOCK_STREAM, proto=6, laddr=('127.0.0.1', 57668), raddr=('127.0.0.1', 11434)>\n",
      "  analyzer = GraphRAGSystem(row[\"question\"])\n",
      "ResourceWarning: Enable tracemalloc to get the object allocation traceback\n"
     ]
    },
    {
     "name": "stdout",
     "output_type": "stream",
     "text": [
      "Question 111: Does AMD affect night vision exclusively?\n",
      "Context: T...\n",
      "Response: False.\n",
      "\n"
     ]
    },
    {
     "name": "stderr",
     "output_type": "stream",
     "text": [
      "/var/folders/z3/zc5j75dj0qn_z2sp8qf47q340000gn/T/ipykernel_63108/652174667.py:8: ResourceWarning: unclosed <socket.socket fd=84, family=AddressFamily.AF_INET, type=SocketKind.SOCK_STREAM, proto=6, laddr=('127.0.0.1', 57690), raddr=('127.0.0.1', 11434)>\n",
      "  analyzer = GraphRAGSystem(row[\"question\"])\n",
      "ResourceWarning: Enable tracemalloc to get the object allocation traceback\n"
     ]
    },
    {
     "name": "stdout",
     "output_type": "stream",
     "text": [
      "Question 112: Is AMD detectable with a retina scan?\n",
      "Context: T...\n",
      "Response: True\n",
      "\n"
     ]
    },
    {
     "name": "stderr",
     "output_type": "stream",
     "text": [
      "/var/folders/z3/zc5j75dj0qn_z2sp8qf47q340000gn/T/ipykernel_63108/652174667.py:8: ResourceWarning: unclosed <socket.socket fd=84, family=AddressFamily.AF_INET, type=SocketKind.SOCK_STREAM, proto=6, laddr=('127.0.0.1', 57710), raddr=('127.0.0.1', 11434)>\n",
      "  analyzer = GraphRAGSystem(row[\"question\"])\n",
      "ResourceWarning: Enable tracemalloc to get the object allocation traceback\n"
     ]
    },
    {
     "name": "stdout",
     "output_type": "stream",
     "text": [
      "Question 113: Can wet AMD be managed with dietary changes alone?\n",
      "Context: T...\n",
      "Response: FALSE.\n",
      "\n"
     ]
    },
    {
     "name": "stderr",
     "output_type": "stream",
     "text": [
      "/var/folders/z3/zc5j75dj0qn_z2sp8qf47q340000gn/T/ipykernel_63108/652174667.py:8: ResourceWarning: unclosed <socket.socket fd=84, family=AddressFamily.AF_INET, type=SocketKind.SOCK_STREAM, proto=6, laddr=('127.0.0.1', 57732), raddr=('127.0.0.1', 11434)>\n",
      "  analyzer = GraphRAGSystem(row[\"question\"])\n",
      "ResourceWarning: Enable tracemalloc to get the object allocation traceback\n"
     ]
    },
    {
     "name": "stdout",
     "output_type": "stream",
     "text": [
      "Question 114: Does AMD cause difficulty adapting to low light?\n",
      "Context: A...\n",
      "Response: True\n",
      "\n"
     ]
    },
    {
     "name": "stderr",
     "output_type": "stream",
     "text": [
      "/var/folders/z3/zc5j75dj0qn_z2sp8qf47q340000gn/T/ipykernel_63108/652174667.py:8: ResourceWarning: unclosed <socket.socket fd=84, family=AddressFamily.AF_INET, type=SocketKind.SOCK_STREAM, proto=6, laddr=('127.0.0.1', 57754), raddr=('127.0.0.1', 11434)>\n",
      "  analyzer = GraphRAGSystem(row[\"question\"])\n",
      "ResourceWarning: Enable tracemalloc to get the object allocation traceback\n"
     ]
    },
    {
     "name": "stdout",
     "output_type": "stream",
     "text": [
      "Question 115: Is AMD caused by a lack of sleep?\n",
      "Context: T...\n",
      "Response: False.\n",
      "\n"
     ]
    },
    {
     "name": "stderr",
     "output_type": "stream",
     "text": [
      "/var/folders/z3/zc5j75dj0qn_z2sp8qf47q340000gn/T/ipykernel_63108/652174667.py:8: ResourceWarning: unclosed <socket.socket fd=84, family=AddressFamily.AF_INET, type=SocketKind.SOCK_STREAM, proto=6, laddr=('127.0.0.1', 57776), raddr=('127.0.0.1', 11434)>\n",
      "  analyzer = GraphRAGSystem(row[\"question\"])\n",
      "ResourceWarning: Enable tracemalloc to get the object allocation traceback\n"
     ]
    },
    {
     "name": "stdout",
     "output_type": "stream",
     "text": [
      "Question 116: Can AMD be monitored with regular eye checkups?\n",
      "Context: T...\n",
      "Response: True\n",
      "\n"
     ]
    },
    {
     "name": "stderr",
     "output_type": "stream",
     "text": [
      "/var/folders/z3/zc5j75dj0qn_z2sp8qf47q340000gn/T/ipykernel_63108/652174667.py:8: ResourceWarning: unclosed <socket.socket fd=84, family=AddressFamily.AF_INET, type=SocketKind.SOCK_STREAM, proto=6, laddr=('127.0.0.1', 57801), raddr=('127.0.0.1', 11434)>\n",
      "  analyzer = GraphRAGSystem(row[\"question\"])\n",
      "ResourceWarning: Enable tracemalloc to get the object allocation traceback\n"
     ]
    },
    {
     "name": "stdout",
     "output_type": "stream",
     "text": [
      "Question 117: Does dry AMD cause bleeding in the eye?\n",
      "Context: T...\n",
      "Response: FALSE\n",
      "\n"
     ]
    },
    {
     "name": "stderr",
     "output_type": "stream",
     "text": [
      "/var/folders/z3/zc5j75dj0qn_z2sp8qf47q340000gn/T/ipykernel_63108/652174667.py:8: ResourceWarning: unclosed <socket.socket fd=84, family=AddressFamily.AF_INET, type=SocketKind.SOCK_STREAM, proto=6, laddr=('127.0.0.1', 57827), raddr=('127.0.0.1', 11434)>\n",
      "  analyzer = GraphRAGSystem(row[\"question\"])\n",
      "ResourceWarning: Enable tracemalloc to get the object allocation traceback\n"
     ]
    },
    {
     "name": "stdout",
     "output_type": "stream",
     "text": [
      "Question 118: Is AMD more common in African Americans than Caucasians?\n",
      "Context: T...\n",
      "Response: True\n",
      "\n"
     ]
    },
    {
     "name": "stderr",
     "output_type": "stream",
     "text": [
      "/var/folders/z3/zc5j75dj0qn_z2sp8qf47q340000gn/T/ipykernel_63108/652174667.py:8: ResourceWarning: unclosed <socket.socket fd=84, family=AddressFamily.AF_INET, type=SocketKind.SOCK_STREAM, proto=6, laddr=('127.0.0.1', 57851), raddr=('127.0.0.1', 11434)>\n",
      "  analyzer = GraphRAGSystem(row[\"question\"])\n",
      "ResourceWarning: Enable tracemalloc to get the object allocation traceback\n"
     ]
    },
    {
     "name": "stdout",
     "output_type": "stream",
     "text": [
      "Question 119: Can AMD cause visual hallucinations in advanced stages?\n",
      "Context: T...\n",
      "Response: True.\n",
      "\n"
     ]
    },
    {
     "name": "stderr",
     "output_type": "stream",
     "text": [
      "/var/folders/z3/zc5j75dj0qn_z2sp8qf47q340000gn/T/ipykernel_63108/652174667.py:8: ResourceWarning: unclosed <socket.socket fd=84, family=AddressFamily.AF_INET, type=SocketKind.SOCK_STREAM, proto=6, laddr=('127.0.0.1', 57876), raddr=('127.0.0.1', 11434)>\n",
      "  analyzer = GraphRAGSystem(row[\"question\"])\n",
      "ResourceWarning: Enable tracemalloc to get the object allocation traceback\n"
     ]
    },
    {
     "name": "stdout",
     "output_type": "stream",
     "text": [
      "Question 120: Does AMD affect only the elderly over 80?\n",
      "Context: T...\n",
      "Response: False.\n",
      "\n"
     ]
    },
    {
     "name": "stderr",
     "output_type": "stream",
     "text": [
      "/var/folders/z3/zc5j75dj0qn_z2sp8qf47q340000gn/T/ipykernel_63108/652174667.py:8: ResourceWarning: unclosed <socket.socket fd=84, family=AddressFamily.AF_INET, type=SocketKind.SOCK_STREAM, proto=6, laddr=('127.0.0.1', 57898), raddr=('127.0.0.1', 11434)>\n",
      "  analyzer = GraphRAGSystem(row[\"question\"])\n",
      "ResourceWarning: Enable tracemalloc to get the object allocation traceback\n"
     ]
    },
    {
     "name": "stdout",
     "output_type": "stream",
     "text": [
      "Question 121: Is AMD linked to oxidative stress?\n",
      "Context: T...\n",
      "Response: True\n",
      "\n"
     ]
    },
    {
     "name": "stderr",
     "output_type": "stream",
     "text": [
      "/var/folders/z3/zc5j75dj0qn_z2sp8qf47q340000gn/T/ipykernel_63108/652174667.py:8: ResourceWarning: unclosed <socket.socket fd=84, family=AddressFamily.AF_INET, type=SocketKind.SOCK_STREAM, proto=6, laddr=('127.0.0.1', 57920), raddr=('127.0.0.1', 11434)>\n",
      "  analyzer = GraphRAGSystem(row[\"question\"])\n",
      "ResourceWarning: Enable tracemalloc to get the object allocation traceback\n"
     ]
    },
    {
     "name": "stdout",
     "output_type": "stream",
     "text": [
      "Question 122: Can AMD be treated with acupuncture?\n",
      "Context: A...\n",
      "Response: True\n",
      "\n"
     ]
    },
    {
     "name": "stderr",
     "output_type": "stream",
     "text": [
      "/var/folders/z3/zc5j75dj0qn_z2sp8qf47q340000gn/T/ipykernel_63108/652174667.py:8: ResourceWarning: unclosed <socket.socket fd=84, family=AddressFamily.AF_INET, type=SocketKind.SOCK_STREAM, proto=6, laddr=('127.0.0.1', 57944), raddr=('127.0.0.1', 11434)>\n",
      "  analyzer = GraphRAGSystem(row[\"question\"])\n",
      "ResourceWarning: Enable tracemalloc to get the object allocation traceback\n"
     ]
    },
    {
     "name": "stdout",
     "output_type": "stream",
     "text": [
      "Question 123: Does AMD increase the risk of depression?\n",
      "Context: T...\n",
      "Response: True\n",
      "\n"
     ]
    },
    {
     "name": "stderr",
     "output_type": "stream",
     "text": [
      "/var/folders/z3/zc5j75dj0qn_z2sp8qf47q340000gn/T/ipykernel_63108/652174667.py:8: ResourceWarning: unclosed <socket.socket fd=84, family=AddressFamily.AF_INET, type=SocketKind.SOCK_STREAM, proto=6, laddr=('127.0.0.1', 57966), raddr=('127.0.0.1', 11434)>\n",
      "  analyzer = GraphRAGSystem(row[\"question\"])\n",
      "ResourceWarning: Enable tracemalloc to get the object allocation traceback\n"
     ]
    },
    {
     "name": "stdout",
     "output_type": "stream",
     "text": [
      "Question 124: Is AMD caused by excessive use of contact lenses?\n",
      "Context: T...\n",
      "Response: False.\n",
      "\n"
     ]
    },
    {
     "name": "stderr",
     "output_type": "stream",
     "text": [
      "/var/folders/z3/zc5j75dj0qn_z2sp8qf47q340000gn/T/ipykernel_63108/652174667.py:8: ResourceWarning: unclosed <socket.socket fd=84, family=AddressFamily.AF_INET, type=SocketKind.SOCK_STREAM, proto=6, laddr=('127.0.0.1', 57988), raddr=('127.0.0.1', 11434)>\n",
      "  analyzer = GraphRAGSystem(row[\"question\"])\n",
      "ResourceWarning: Enable tracemalloc to get the object allocation traceback\n"
     ]
    },
    {
     "name": "stdout",
     "output_type": "stream",
     "text": [
      "Question 125: Can fundus photography help diagnose AMD?\n",
      "Context: T...\n",
      "Response: True\n",
      "\n"
     ]
    },
    {
     "name": "stderr",
     "output_type": "stream",
     "text": [
      "/var/folders/z3/zc5j75dj0qn_z2sp8qf47q340000gn/T/ipykernel_63108/652174667.py:8: ResourceWarning: unclosed <socket.socket fd=84, family=AddressFamily.AF_INET, type=SocketKind.SOCK_STREAM, proto=6, laddr=('127.0.0.1', 58010), raddr=('127.0.0.1', 11434)>\n",
      "  analyzer = GraphRAGSystem(row[\"question\"])\n",
      "ResourceWarning: Enable tracemalloc to get the object allocation traceback\n"
     ]
    },
    {
     "name": "stdout",
     "output_type": "stream",
     "text": [
      "Question 126: Does wet AMD cause scarring of the retina?\n",
      "Context: S...\n",
      "Response: False.\n",
      "\n"
     ]
    },
    {
     "name": "stderr",
     "output_type": "stream",
     "text": [
      "/var/folders/z3/zc5j75dj0qn_z2sp8qf47q340000gn/T/ipykernel_63108/652174667.py:8: ResourceWarning: unclosed <socket.socket fd=84, family=AddressFamily.AF_INET, type=SocketKind.SOCK_STREAM, proto=6, laddr=('127.0.0.1', 58034), raddr=('127.0.0.1', 11434)>\n",
      "  analyzer = GraphRAGSystem(row[\"question\"])\n",
      "ResourceWarning: Enable tracemalloc to get the object allocation traceback\n"
     ]
    },
    {
     "name": "stdout",
     "output_type": "stream",
     "text": [
      "Question 127: Is AMD caused by a lack of vitamin D?\n",
      "Context: T...\n",
      "Response: False.\n",
      "\n"
     ]
    },
    {
     "name": "stderr",
     "output_type": "stream",
     "text": [
      "/var/folders/z3/zc5j75dj0qn_z2sp8qf47q340000gn/T/ipykernel_63108/652174667.py:8: ResourceWarning: unclosed <socket.socket fd=84, family=AddressFamily.AF_INET, type=SocketKind.SOCK_STREAM, proto=6, laddr=('127.0.0.1', 58055), raddr=('127.0.0.1', 11434)>\n",
      "  analyzer = GraphRAGSystem(row[\"question\"])\n",
      "ResourceWarning: Enable tracemalloc to get the object allocation traceback\n"
     ]
    },
    {
     "name": "stdout",
     "output_type": "stream",
     "text": [
      "Question 128: Can AMD affect the ability to judge distances?\n",
      "Context: T...\n",
      "Response: True\n",
      "\n"
     ]
    },
    {
     "name": "stderr",
     "output_type": "stream",
     "text": [
      "/var/folders/z3/zc5j75dj0qn_z2sp8qf47q340000gn/T/ipykernel_63108/652174667.py:8: ResourceWarning: unclosed <socket.socket fd=84, family=AddressFamily.AF_INET, type=SocketKind.SOCK_STREAM, proto=6, laddr=('127.0.0.1', 58076), raddr=('127.0.0.1', 11434)>\n",
      "  analyzer = GraphRAGSystem(row[\"question\"])\n",
      "ResourceWarning: Enable tracemalloc to get the object allocation traceback\n"
     ]
    },
    {
     "name": "stdout",
     "output_type": "stream",
     "text": [
      "Question 129: Does dry AMD always progress to wet AMD?\n",
      "Context: S...\n",
      "Response: False.\n",
      "\n"
     ]
    },
    {
     "name": "stderr",
     "output_type": "stream",
     "text": [
      "/var/folders/z3/zc5j75dj0qn_z2sp8qf47q340000gn/T/ipykernel_63108/652174667.py:8: ResourceWarning: unclosed <socket.socket fd=84, family=AddressFamily.AF_INET, type=SocketKind.SOCK_STREAM, proto=6, laddr=('127.0.0.1', 58100), raddr=('127.0.0.1', 11434)>\n",
      "  analyzer = GraphRAGSystem(row[\"question\"])\n",
      "ResourceWarning: Enable tracemalloc to get the object allocation traceback\n"
     ]
    },
    {
     "name": "stdout",
     "output_type": "stream",
     "text": [
      "Question 130: Is AMD associated with about 11 million cases in the US?\n",
      "Context: T...\n",
      "Response: False.\n",
      "\n"
     ]
    },
    {
     "name": "stderr",
     "output_type": "stream",
     "text": [
      "/var/folders/z3/zc5j75dj0qn_z2sp8qf47q340000gn/T/ipykernel_63108/652174667.py:8: ResourceWarning: unclosed <socket.socket fd=84, family=AddressFamily.AF_INET, type=SocketKind.SOCK_STREAM, proto=6, laddr=('127.0.0.1', 58123), raddr=('127.0.0.1', 11434)>\n",
      "  analyzer = GraphRAGSystem(row[\"question\"])\n",
      "ResourceWarning: Enable tracemalloc to get the object allocation traceback\n"
     ]
    },
    {
     "name": "stdout",
     "output_type": "stream",
     "text": [
      "Question 131: Can wet AMD be prevented by avoiding all fats?\n",
      "Context: T...\n",
      "Response: False.\n",
      "\n"
     ]
    },
    {
     "name": "stderr",
     "output_type": "stream",
     "text": [
      "/var/folders/z3/zc5j75dj0qn_z2sp8qf47q340000gn/T/ipykernel_63108/652174667.py:8: ResourceWarning: unclosed <socket.socket fd=84, family=AddressFamily.AF_INET, type=SocketKind.SOCK_STREAM, proto=6, laddr=('127.0.0.1', 58145), raddr=('127.0.0.1', 11434)>\n",
      "  analyzer = GraphRAGSystem(row[\"question\"])\n",
      "ResourceWarning: Enable tracemalloc to get the object allocation traceback\n"
     ]
    },
    {
     "name": "stdout",
     "output_type": "stream",
     "text": [
      "Question 132: Does AMD cause blurred central vision?\n",
      "Context: T...\n",
      "Response: True\n",
      "\n"
     ]
    },
    {
     "name": "stderr",
     "output_type": "stream",
     "text": [
      "/var/folders/z3/zc5j75dj0qn_z2sp8qf47q340000gn/T/ipykernel_63108/652174667.py:8: ResourceWarning: unclosed <socket.socket fd=84, family=AddressFamily.AF_INET, type=SocketKind.SOCK_STREAM, proto=6, laddr=('127.0.0.1', 58167), raddr=('127.0.0.1', 11434)>\n",
      "  analyzer = GraphRAGSystem(row[\"question\"])\n",
      "ResourceWarning: Enable tracemalloc to get the object allocation traceback\n"
     ]
    },
    {
     "name": "stdout",
     "output_type": "stream",
     "text": [
      "Question 133: Is wet AMD caused by excessive tearing?\n",
      "Context: T...\n",
      "Response: False\n",
      "\n"
     ]
    },
    {
     "name": "stderr",
     "output_type": "stream",
     "text": [
      "/var/folders/z3/zc5j75dj0qn_z2sp8qf47q340000gn/T/ipykernel_63108/652174667.py:8: ResourceWarning: unclosed <socket.socket fd=84, family=AddressFamily.AF_INET, type=SocketKind.SOCK_STREAM, proto=6, laddr=('127.0.0.1', 58189), raddr=('127.0.0.1', 11434)>\n",
      "  analyzer = GraphRAGSystem(row[\"question\"])\n",
      "ResourceWarning: Enable tracemalloc to get the object allocation traceback\n"
     ]
    },
    {
     "name": "stdout",
     "output_type": "stream",
     "text": [
      "Question 134: Can dry AMD lead to thinning of the retina?\n",
      "Context: T...\n",
      "Response: TRUE\n",
      "\n"
     ]
    },
    {
     "name": "stderr",
     "output_type": "stream",
     "text": [
      "/var/folders/z3/zc5j75dj0qn_z2sp8qf47q340000gn/T/ipykernel_63108/652174667.py:8: ResourceWarning: unclosed <socket.socket fd=84, family=AddressFamily.AF_INET, type=SocketKind.SOCK_STREAM, proto=6, laddr=('127.0.0.1', 58213), raddr=('127.0.0.1', 11434)>\n",
      "  analyzer = GraphRAGSystem(row[\"question\"])\n",
      "ResourceWarning: Enable tracemalloc to get the object allocation traceback\n"
     ]
    },
    {
     "name": "stdout",
     "output_type": "stream",
     "text": [
      "Question 135: Is AMD treatable with hearing aids?\n",
      "Context: T...\n",
      "Response: False.\n",
      "\n"
     ]
    },
    {
     "name": "stderr",
     "output_type": "stream",
     "text": [
      "/var/folders/z3/zc5j75dj0qn_z2sp8qf47q340000gn/T/ipykernel_63108/652174667.py:8: ResourceWarning: unclosed <socket.socket fd=84, family=AddressFamily.AF_INET, type=SocketKind.SOCK_STREAM, proto=6, laddr=('127.0.0.1', 58238), raddr=('127.0.0.1', 11434)>\n",
      "  analyzer = GraphRAGSystem(row[\"question\"])\n",
      "ResourceWarning: Enable tracemalloc to get the object allocation traceback\n"
     ]
    },
    {
     "name": "stdout",
     "output_type": "stream",
     "text": [
      "Question 136: Does wet AMD cause rapid central vision loss?\n",
      "Context: T...\n",
      "Response: False\n",
      "\n"
     ]
    },
    {
     "name": "stderr",
     "output_type": "stream",
     "text": [
      "/var/folders/z3/zc5j75dj0qn_z2sp8qf47q340000gn/T/ipykernel_63108/652174667.py:8: ResourceWarning: unclosed <socket.socket fd=84, family=AddressFamily.AF_INET, type=SocketKind.SOCK_STREAM, proto=6, laddr=('127.0.0.1', 58261), raddr=('127.0.0.1', 11434)>\n",
      "  analyzer = GraphRAGSystem(row[\"question\"])\n",
      "ResourceWarning: Enable tracemalloc to get the object allocation traceback\n"
     ]
    },
    {
     "name": "stdout",
     "output_type": "stream",
     "text": [
      "Question 137: Can AMD be prevented by avoiding all exercise?\n",
      "Context: A...\n",
      "Response: False\n",
      "\n"
     ]
    },
    {
     "name": "stderr",
     "output_type": "stream",
     "text": [
      "/var/folders/z3/zc5j75dj0qn_z2sp8qf47q340000gn/T/ipykernel_63108/652174667.py:8: ResourceWarning: unclosed <socket.socket fd=84, family=AddressFamily.AF_INET, type=SocketKind.SOCK_STREAM, proto=6, laddr=('127.0.0.1', 58283), raddr=('127.0.0.1', 11434)>\n",
      "  analyzer = GraphRAGSystem(row[\"question\"])\n",
      "ResourceWarning: Enable tracemalloc to get the object allocation traceback\n"
     ]
    },
    {
     "name": "stdout",
     "output_type": "stream",
     "text": [
      "Question 138: Is hypertension a risk factor for AMD?\n",
      "Context: H...\n",
      "Response: True\n",
      "\n"
     ]
    },
    {
     "name": "stderr",
     "output_type": "stream",
     "text": [
      "/var/folders/z3/zc5j75dj0qn_z2sp8qf47q340000gn/T/ipykernel_63108/652174667.py:8: ResourceWarning: unclosed <socket.socket fd=84, family=AddressFamily.AF_INET, type=SocketKind.SOCK_STREAM, proto=6, laddr=('127.0.0.1', 58303), raddr=('127.0.0.1', 11434)>\n",
      "  analyzer = GraphRAGSystem(row[\"question\"])\n",
      "ResourceWarning: Enable tracemalloc to get the object allocation traceback\n"
     ]
    },
    {
     "name": "stdout",
     "output_type": "stream",
     "text": [
      "Question 139: Does dry AMD cause sudden vision changes?\n",
      "Context: T...\n",
      "Response: False.\n",
      "\n"
     ]
    },
    {
     "name": "stderr",
     "output_type": "stream",
     "text": [
      "/var/folders/z3/zc5j75dj0qn_z2sp8qf47q340000gn/T/ipykernel_63108/652174667.py:8: ResourceWarning: unclosed <socket.socket fd=84, family=AddressFamily.AF_INET, type=SocketKind.SOCK_STREAM, proto=6, laddr=('127.0.0.1', 58325), raddr=('127.0.0.1', 11434)>\n",
      "  analyzer = GraphRAGSystem(row[\"question\"])\n",
      "ResourceWarning: Enable tracemalloc to get the object allocation traceback\n"
     ]
    },
    {
     "name": "stdout",
     "output_type": "stream",
     "text": [
      "Question 140: Can photodynamic therapy treat wet AMD?\n",
      "Context: P...\n",
      "Response: True\n",
      "\n"
     ]
    },
    {
     "name": "stderr",
     "output_type": "stream",
     "text": [
      "/var/folders/z3/zc5j75dj0qn_z2sp8qf47q340000gn/T/ipykernel_63108/652174667.py:8: ResourceWarning: unclosed <socket.socket fd=84, family=AddressFamily.AF_INET, type=SocketKind.SOCK_STREAM, proto=6, laddr=('127.0.0.1', 58348), raddr=('127.0.0.1', 11434)>\n",
      "  analyzer = GraphRAGSystem(row[\"question\"])\n",
      "ResourceWarning: Enable tracemalloc to get the object allocation traceback\n"
     ]
    },
    {
     "name": "stdout",
     "output_type": "stream",
     "text": [
      "Question 141: Is AMD a disease of the iris?\n",
      "Context: T...\n",
      "Response: FALSE.\n",
      "\n"
     ]
    },
    {
     "name": "stderr",
     "output_type": "stream",
     "text": [
      "/var/folders/z3/zc5j75dj0qn_z2sp8qf47q340000gn/T/ipykernel_63108/652174667.py:8: ResourceWarning: unclosed <socket.socket fd=84, family=AddressFamily.AF_INET, type=SocketKind.SOCK_STREAM, proto=6, laddr=('127.0.0.1', 58372), raddr=('127.0.0.1', 11434)>\n",
      "  analyzer = GraphRAGSystem(row[\"question\"])\n",
      "ResourceWarning: Enable tracemalloc to get the object allocation traceback\n"
     ]
    },
    {
     "name": "stdout",
     "output_type": "stream",
     "text": [
      "Question 142: Does AMD increase the need for brighter lighting?\n",
      "Context: T...\n",
      "Response: True\n",
      "\n"
     ]
    },
    {
     "name": "stderr",
     "output_type": "stream",
     "text": [
      "/var/folders/z3/zc5j75dj0qn_z2sp8qf47q340000gn/T/ipykernel_63108/652174667.py:8: ResourceWarning: unclosed <socket.socket fd=84, family=AddressFamily.AF_INET, type=SocketKind.SOCK_STREAM, proto=6, laddr=('127.0.0.1', 58396), raddr=('127.0.0.1', 11434)>\n",
      "  analyzer = GraphRAGSystem(row[\"question\"])\n",
      "ResourceWarning: Enable tracemalloc to get the object allocation traceback\n"
     ]
    },
    {
     "name": "stdout",
     "output_type": "stream",
     "text": [
      "Question 143: Can AMD be diagnosed with a hearing test?\n",
      "Context: S...\n",
      "Response: False\n",
      "\n"
     ]
    },
    {
     "name": "stderr",
     "output_type": "stream",
     "text": [
      "/var/folders/z3/zc5j75dj0qn_z2sp8qf47q340000gn/T/ipykernel_63108/652174667.py:8: ResourceWarning: unclosed <socket.socket fd=84, family=AddressFamily.AF_INET, type=SocketKind.SOCK_STREAM, proto=6, laddr=('127.0.0.1', 58420), raddr=('127.0.0.1', 11434)>\n",
      "  analyzer = GraphRAGSystem(row[\"question\"])\n",
      "ResourceWarning: Enable tracemalloc to get the object allocation traceback\n"
     ]
    },
    {
     "name": "stdout",
     "output_type": "stream",
     "text": [
      "Question 144: Is fluorescein angiography used to detect wet AMD?\n",
      "Context: T...\n",
      "Response: True\n",
      "\n"
     ]
    },
    {
     "name": "stderr",
     "output_type": "stream",
     "text": [
      "/var/folders/z3/zc5j75dj0qn_z2sp8qf47q340000gn/T/ipykernel_63108/652174667.py:8: ResourceWarning: unclosed <socket.socket fd=84, family=AddressFamily.AF_INET, type=SocketKind.SOCK_STREAM, proto=6, laddr=('127.0.0.1', 58443), raddr=('127.0.0.1', 11434)>\n",
      "  analyzer = GraphRAGSystem(row[\"question\"])\n",
      "ResourceWarning: Enable tracemalloc to get the object allocation traceback\n"
     ]
    },
    {
     "name": "stdout",
     "output_type": "stream",
     "text": [
      "Question 145: Does wet AMD cause swelling beneath the retina?\n",
      "Context: T...\n",
      "Response: False.\n",
      "\n"
     ]
    },
    {
     "name": "stderr",
     "output_type": "stream",
     "text": [
      "/var/folders/z3/zc5j75dj0qn_z2sp8qf47q340000gn/T/ipykernel_63108/652174667.py:8: ResourceWarning: unclosed <socket.socket fd=84, family=AddressFamily.AF_INET, type=SocketKind.SOCK_STREAM, proto=6, laddr=('127.0.0.1', 58466), raddr=('127.0.0.1', 11434)>\n",
      "  analyzer = GraphRAGSystem(row[\"question\"])\n",
      "ResourceWarning: Enable tracemalloc to get the object allocation traceback\n"
     ]
    },
    {
     "name": "stdout",
     "output_type": "stream",
     "text": [
      "Question 146: Is early AMD often asymptomatic?\n",
      "Context: T...\n",
      "Response: True\n",
      "\n"
     ]
    },
    {
     "name": "stderr",
     "output_type": "stream",
     "text": [
      "/var/folders/z3/zc5j75dj0qn_z2sp8qf47q340000gn/T/ipykernel_63108/652174667.py:8: ResourceWarning: unclosed <socket.socket fd=84, family=AddressFamily.AF_INET, type=SocketKind.SOCK_STREAM, proto=6, laddr=('127.0.0.1', 58488), raddr=('127.0.0.1', 11434)>\n",
      "  analyzer = GraphRAGSystem(row[\"question\"])\n",
      "ResourceWarning: Enable tracemalloc to get the object allocation traceback\n"
     ]
    },
    {
     "name": "stdout",
     "output_type": "stream",
     "text": [
      "Question 147: Can AMD be cured with herbal remedies?\n",
      "Context: T...\n",
      "Response: False.\n",
      "\n"
     ]
    },
    {
     "name": "stderr",
     "output_type": "stream",
     "text": [
      "/var/folders/z3/zc5j75dj0qn_z2sp8qf47q340000gn/T/ipykernel_63108/652174667.py:8: ResourceWarning: unclosed <socket.socket fd=84, family=AddressFamily.AF_INET, type=SocketKind.SOCK_STREAM, proto=6, laddr=('127.0.0.1', 58513), raddr=('127.0.0.1', 11434)>\n",
      "  analyzer = GraphRAGSystem(row[\"question\"])\n",
      "ResourceWarning: Enable tracemalloc to get the object allocation traceback\n"
     ]
    },
    {
     "name": "stdout",
     "output_type": "stream",
     "text": [
      "Question 148: Does cardiovascular disease increase AMD risk?\n",
      "Context: T...\n",
      "Response: True.\n",
      "\n"
     ]
    },
    {
     "name": "stderr",
     "output_type": "stream",
     "text": [
      "/var/folders/z3/zc5j75dj0qn_z2sp8qf47q340000gn/T/ipykernel_63108/652174667.py:8: ResourceWarning: unclosed <socket.socket fd=84, family=AddressFamily.AF_INET, type=SocketKind.SOCK_STREAM, proto=6, laddr=('127.0.0.1', 58534), raddr=('127.0.0.1', 11434)>\n",
      "  analyzer = GraphRAGSystem(row[\"question\"])\n",
      "ResourceWarning: Enable tracemalloc to get the object allocation traceback\n"
     ]
    },
    {
     "name": "stdout",
     "output_type": "stream",
     "text": [
      "Question 149: Is AMD caused by loud noises?\n",
      "Context: T...\n",
      "Response: FALSE\n",
      "\n"
     ]
    },
    {
     "name": "stderr",
     "output_type": "stream",
     "text": [
      "/var/folders/z3/zc5j75dj0qn_z2sp8qf47q340000gn/T/ipykernel_63108/652174667.py:8: ResourceWarning: unclosed <socket.socket fd=84, family=AddressFamily.AF_INET, type=SocketKind.SOCK_STREAM, proto=6, laddr=('127.0.0.1', 58557), raddr=('127.0.0.1', 11434)>\n",
      "  analyzer = GraphRAGSystem(row[\"question\"])\n",
      "ResourceWarning: Enable tracemalloc to get the object allocation traceback\n"
     ]
    },
    {
     "name": "stdout",
     "output_type": "stream",
     "text": [
      "Question 150: Can fundus autofluorescence imaging detect AMD?\n",
      "Context: T...\n",
      "Response: True\n",
      "\n"
     ]
    },
    {
     "name": "stderr",
     "output_type": "stream",
     "text": [
      "/var/folders/z3/zc5j75dj0qn_z2sp8qf47q340000gn/T/ipykernel_63108/652174667.py:8: ResourceWarning: unclosed <socket.socket fd=84, family=AddressFamily.AF_INET, type=SocketKind.SOCK_STREAM, proto=6, laddr=('127.0.0.1', 58578), raddr=('127.0.0.1', 11434)>\n",
      "  analyzer = GraphRAGSystem(row[\"question\"])\n",
      "ResourceWarning: Enable tracemalloc to get the object allocation traceback\n"
     ]
    },
    {
     "name": "stdout",
     "output_type": "stream",
     "text": [
      "Question 151: Does AMD affect the sclera?\n",
      "Context: T...\n",
      "Response: False.\n",
      "\n"
     ]
    },
    {
     "name": "stderr",
     "output_type": "stream",
     "text": [
      "/var/folders/z3/zc5j75dj0qn_z2sp8qf47q340000gn/T/ipykernel_63108/652174667.py:8: ResourceWarning: unclosed <socket.socket fd=84, family=AddressFamily.AF_INET, type=SocketKind.SOCK_STREAM, proto=6, laddr=('127.0.0.1', 58601), raddr=('127.0.0.1', 11434)>\n",
      "  analyzer = GraphRAGSystem(row[\"question\"])\n",
      "ResourceWarning: Enable tracemalloc to get the object allocation traceback\n"
     ]
    },
    {
     "name": "stdout",
     "output_type": "stream",
     "text": [
      "Question 152: Is oxidative stress a factor in AMD development?\n",
      "Context: O...\n",
      "Response: True\n",
      "\n"
     ]
    },
    {
     "name": "stderr",
     "output_type": "stream",
     "text": [
      "/var/folders/z3/zc5j75dj0qn_z2sp8qf47q340000gn/T/ipykernel_63108/652174667.py:8: ResourceWarning: unclosed <socket.socket fd=84, family=AddressFamily.AF_INET, type=SocketKind.SOCK_STREAM, proto=6, laddr=('127.0.0.1', 58623), raddr=('127.0.0.1', 11434)>\n",
      "  analyzer = GraphRAGSystem(row[\"question\"])\n",
      "ResourceWarning: Enable tracemalloc to get the object allocation traceback\n"
     ]
    },
    {
     "name": "stdout",
     "output_type": "stream",
     "text": [
      "Question 153: Can AMD be reversed with meditation?\n",
      "Context: T...\n",
      "Response: False.\n",
      "\n"
     ]
    },
    {
     "name": "stderr",
     "output_type": "stream",
     "text": [
      "/var/folders/z3/zc5j75dj0qn_z2sp8qf47q340000gn/T/ipykernel_63108/652174667.py:8: ResourceWarning: unclosed <socket.socket fd=84, family=AddressFamily.AF_INET, type=SocketKind.SOCK_STREAM, proto=6, laddr=('127.0.0.1', 58645), raddr=('127.0.0.1', 11434)>\n",
      "  analyzer = GraphRAGSystem(row[\"question\"])\n",
      "ResourceWarning: Enable tracemalloc to get the object allocation traceback\n"
     ]
    },
    {
     "name": "stdout",
     "output_type": "stream",
     "text": [
      "Question 154: Does AMD impair the ability to see fine details?\n",
      "Context: S...\n",
      "Response: True\n",
      "\n"
     ]
    },
    {
     "name": "stderr",
     "output_type": "stream",
     "text": [
      "/var/folders/z3/zc5j75dj0qn_z2sp8qf47q340000gn/T/ipykernel_63108/652174667.py:8: ResourceWarning: unclosed <socket.socket fd=84, family=AddressFamily.AF_INET, type=SocketKind.SOCK_STREAM, proto=6, laddr=('127.0.0.1', 58666), raddr=('127.0.0.1', 11434)>\n",
      "  analyzer = GraphRAGSystem(row[\"question\"])\n",
      "ResourceWarning: Enable tracemalloc to get the object allocation traceback\n"
     ]
    },
    {
     "name": "stdout",
     "output_type": "stream",
     "text": [
      "Question 155: Is AMD caused by a lack of water intake?\n",
      "Context: T...\n",
      "Response: False.\n",
      "\n"
     ]
    },
    {
     "name": "stderr",
     "output_type": "stream",
     "text": [
      "/var/folders/z3/zc5j75dj0qn_z2sp8qf47q340000gn/T/ipykernel_63108/652174667.py:8: ResourceWarning: unclosed <socket.socket fd=84, family=AddressFamily.AF_INET, type=SocketKind.SOCK_STREAM, proto=6, laddr=('127.0.0.1', 58688), raddr=('127.0.0.1', 11434)>\n",
      "  analyzer = GraphRAGSystem(row[\"question\"])\n",
      "ResourceWarning: Enable tracemalloc to get the object allocation traceback\n"
     ]
    },
    {
     "name": "stdout",
     "output_type": "stream",
     "text": [
      "Question 156: Can late-stage AMD severely limit daily activities?\n",
      "Context: T...\n",
      "Response: True\n",
      "\n"
     ]
    },
    {
     "name": "stderr",
     "output_type": "stream",
     "text": [
      "/var/folders/z3/zc5j75dj0qn_z2sp8qf47q340000gn/T/ipykernel_63108/652174667.py:8: ResourceWarning: unclosed <socket.socket fd=84, family=AddressFamily.AF_INET, type=SocketKind.SOCK_STREAM, proto=6, laddr=('127.0.0.1', 58708), raddr=('127.0.0.1', 11434)>\n",
      "  analyzer = GraphRAGSystem(row[\"question\"])\n",
      "ResourceWarning: Enable tracemalloc to get the object allocation traceback\n"
     ]
    },
    {
     "name": "stdout",
     "output_type": "stream",
     "text": [
      "Question 157: Does wet AMD cause gradual vision improvement?\n",
      "Context: S...\n",
      "Response: False.\n",
      "\n"
     ]
    },
    {
     "name": "stderr",
     "output_type": "stream",
     "text": [
      "/var/folders/z3/zc5j75dj0qn_z2sp8qf47q340000gn/T/ipykernel_63108/652174667.py:8: ResourceWarning: unclosed <socket.socket fd=84, family=AddressFamily.AF_INET, type=SocketKind.SOCK_STREAM, proto=6, laddr=('127.0.0.1', 58730), raddr=('127.0.0.1', 11434)>\n",
      "  analyzer = GraphRAGSystem(row[\"question\"])\n",
      "ResourceWarning: Enable tracemalloc to get the object allocation traceback\n"
     ]
    },
    {
     "name": "stdout",
     "output_type": "stream",
     "text": [
      "Question 158: Is AMD more severe in one eye than the other in some cases?\n",
      "Context: T...\n",
      "Response: True\n",
      "\n"
     ]
    },
    {
     "name": "stderr",
     "output_type": "stream",
     "text": [
      "/var/folders/z3/zc5j75dj0qn_z2sp8qf47q340000gn/T/ipykernel_63108/652174667.py:8: ResourceWarning: unclosed <socket.socket fd=84, family=AddressFamily.AF_INET, type=SocketKind.SOCK_STREAM, proto=6, laddr=('127.0.0.1', 58752), raddr=('127.0.0.1', 11434)>\n",
      "  analyzer = GraphRAGSystem(row[\"question\"])\n",
      "ResourceWarning: Enable tracemalloc to get the object allocation traceback\n"
     ]
    },
    {
     "name": "stdout",
     "output_type": "stream",
     "text": [
      "Question 159: Can AMD be treated with skin creams?\n",
      "Context: S...\n",
      "Response: True.\n",
      "\n"
     ]
    },
    {
     "name": "stderr",
     "output_type": "stream",
     "text": [
      "/var/folders/z3/zc5j75dj0qn_z2sp8qf47q340000gn/T/ipykernel_63108/652174667.py:8: ResourceWarning: unclosed <socket.socket fd=84, family=AddressFamily.AF_INET, type=SocketKind.SOCK_STREAM, proto=6, laddr=('127.0.0.1', 58777), raddr=('127.0.0.1', 11434)>\n",
      "  analyzer = GraphRAGSystem(row[\"question\"])\n",
      "ResourceWarning: Enable tracemalloc to get the object allocation traceback\n"
     ]
    },
    {
     "name": "stdout",
     "output_type": "stream",
     "text": [
      "Question 160: Does AMD increase the risk of social isolation?\n",
      "Context: T...\n",
      "Response: True.\n",
      "\n"
     ]
    },
    {
     "name": "stderr",
     "output_type": "stream",
     "text": [
      "/var/folders/z3/zc5j75dj0qn_z2sp8qf47q340000gn/T/ipykernel_63108/652174667.py:8: ResourceWarning: unclosed <socket.socket fd=84, family=AddressFamily.AF_INET, type=SocketKind.SOCK_STREAM, proto=6, laddr=('127.0.0.1', 58803), raddr=('127.0.0.1', 11434)>\n",
      "  analyzer = GraphRAGSystem(row[\"question\"])\n",
      "ResourceWarning: Enable tracemalloc to get the object allocation traceback\n"
     ]
    },
    {
     "name": "stdout",
     "output_type": "stream",
     "text": [
      "Question 161: Is dry AMD treated with anti-VEGF injections?\n",
      "Context: T...\n",
      "Response: False.\n",
      "\n"
     ]
    },
    {
     "name": "stderr",
     "output_type": "stream",
     "text": [
      "/var/folders/z3/zc5j75dj0qn_z2sp8qf47q340000gn/T/ipykernel_63108/652174667.py:8: ResourceWarning: unclosed <socket.socket fd=84, family=AddressFamily.AF_INET, type=SocketKind.SOCK_STREAM, proto=6, laddr=('127.0.0.1', 58823), raddr=('127.0.0.1', 11434)>\n",
      "  analyzer = GraphRAGSystem(row[\"question\"])\n",
      "ResourceWarning: Enable tracemalloc to get the object allocation traceback\n"
     ]
    },
    {
     "name": "stdout",
     "output_type": "stream",
     "text": [
      "Question 162: Can smoking cessation reduce the progression of AMD?\n",
      "Context: T...\n",
      "Response: True\n",
      "\n"
     ]
    },
    {
     "name": "stderr",
     "output_type": "stream",
     "text": [
      "/var/folders/z3/zc5j75dj0qn_z2sp8qf47q340000gn/T/ipykernel_63108/652174667.py:8: ResourceWarning: unclosed <socket.socket fd=84, family=AddressFamily.AF_INET, type=SocketKind.SOCK_STREAM, proto=6, laddr=('127.0.0.1', 58845), raddr=('127.0.0.1', 11434)>\n",
      "  analyzer = GraphRAGSystem(row[\"question\"])\n",
      "ResourceWarning: Enable tracemalloc to get the object allocation traceback\n"
     ]
    },
    {
     "name": "stdout",
     "output_type": "stream",
     "text": [
      "Question 163: Does AMD cause pain in the eyes?\n",
      "Context: T...\n",
      "Response: True.\n",
      "\n"
     ]
    },
    {
     "name": "stderr",
     "output_type": "stream",
     "text": [
      "/var/folders/z3/zc5j75dj0qn_z2sp8qf47q340000gn/T/ipykernel_63108/652174667.py:8: ResourceWarning: unclosed <socket.socket fd=84, family=AddressFamily.AF_INET, type=SocketKind.SOCK_STREAM, proto=6, laddr=('127.0.0.1', 58868), raddr=('127.0.0.1', 11434)>\n",
      "  analyzer = GraphRAGSystem(row[\"question\"])\n",
      "ResourceWarning: Enable tracemalloc to get the object allocation traceback\n"
     ]
    },
    {
     "name": "stdout",
     "output_type": "stream",
     "text": [
      "Question 164: Is AMD linked to reduced contrast sensitivity?\n",
      "Context: T...\n",
      "Response: True\n",
      "\n"
     ]
    },
    {
     "name": "stderr",
     "output_type": "stream",
     "text": [
      "/var/folders/z3/zc5j75dj0qn_z2sp8qf47q340000gn/T/ipykernel_63108/652174667.py:8: ResourceWarning: unclosed <socket.socket fd=84, family=AddressFamily.AF_INET, type=SocketKind.SOCK_STREAM, proto=6, laddr=('127.0.0.1', 58890), raddr=('127.0.0.1', 11434)>\n",
      "  analyzer = GraphRAGSystem(row[\"question\"])\n",
      "ResourceWarning: Enable tracemalloc to get the object allocation traceback\n"
     ]
    },
    {
     "name": "stdout",
     "output_type": "stream",
     "text": [
      "Question 165: Can AMD be prevented by avoiding all carbohydrates?\n",
      "Context: T...\n",
      "Response: False.\n",
      "\n"
     ]
    },
    {
     "name": "stderr",
     "output_type": "stream",
     "text": [
      "/var/folders/z3/zc5j75dj0qn_z2sp8qf47q340000gn/T/ipykernel_63108/652174667.py:8: ResourceWarning: unclosed <socket.socket fd=84, family=AddressFamily.AF_INET, type=SocketKind.SOCK_STREAM, proto=6, laddr=('127.0.0.1', 58912), raddr=('127.0.0.1', 11434)>\n",
      "  analyzer = GraphRAGSystem(row[\"question\"])\n",
      "ResourceWarning: Enable tracemalloc to get the object allocation traceback\n"
     ]
    },
    {
     "name": "stdout",
     "output_type": "stream",
     "text": [
      "Question 166: Does wet AMD cause a gray spot in central vision?\n",
      "Context: T...\n",
      "Response: False.\n",
      "\n"
     ]
    },
    {
     "name": "stderr",
     "output_type": "stream",
     "text": [
      "/Users/alexlecu/PycharmProjects/LLMKGraph/.local/lib/python3.10/site-packages/weaviate/collections/queries/base.py:256: ResourceWarning: unclosed <socket.socket fd=84, family=AddressFamily.AF_INET, type=SocketKind.SOCK_STREAM, proto=6, laddr=('127.0.0.1', 58934), raddr=('127.0.0.1', 11434)>\n",
      "  return {\n",
      "ResourceWarning: Enable tracemalloc to get the object allocation traceback\n"
     ]
    },
    {
     "name": "stdout",
     "output_type": "stream",
     "text": [
      "Question 167: Is AMD caused by excessive blinking?\n",
      "Context: T...\n",
      "Response: False.\n",
      "\n"
     ]
    },
    {
     "name": "stderr",
     "output_type": "stream",
     "text": [
      "/var/folders/z3/zc5j75dj0qn_z2sp8qf47q340000gn/T/ipykernel_63108/652174667.py:8: ResourceWarning: unclosed <socket.socket fd=84, family=AddressFamily.AF_INET, type=SocketKind.SOCK_STREAM, proto=6, laddr=('127.0.0.1', 58960), raddr=('127.0.0.1', 11434)>\n",
      "  analyzer = GraphRAGSystem(row[\"question\"])\n",
      "ResourceWarning: Enable tracemalloc to get the object allocation traceback\n"
     ]
    },
    {
     "name": "stdout",
     "output_type": "stream",
     "text": [
      "Question 168: Can AMD affect the ability to see in low light?\n",
      "Context: T...\n",
      "Response: True\n",
      "\n"
     ]
    },
    {
     "name": "stderr",
     "output_type": "stream",
     "text": [
      "/var/folders/z3/zc5j75dj0qn_z2sp8qf47q340000gn/T/ipykernel_63108/652174667.py:8: ResourceWarning: unclosed <socket.socket fd=84, family=AddressFamily.AF_INET, type=SocketKind.SOCK_STREAM, proto=6, laddr=('127.0.0.1', 58982), raddr=('127.0.0.1', 11434)>\n",
      "  analyzer = GraphRAGSystem(row[\"question\"])\n",
      "ResourceWarning: Enable tracemalloc to get the object allocation traceback\n"
     ]
    },
    {
     "name": "stdout",
     "output_type": "stream",
     "text": [
      "Question 169: Does dry AMD cause retinal hemorrhages?\n",
      "Context: T...\n",
      "Response: True\n",
      "\n"
     ]
    },
    {
     "name": "stderr",
     "output_type": "stream",
     "text": [
      "/var/folders/z3/zc5j75dj0qn_z2sp8qf47q340000gn/T/ipykernel_63108/652174667.py:8: ResourceWarning: unclosed <socket.socket fd=84, family=AddressFamily.AF_INET, type=SocketKind.SOCK_STREAM, proto=6, laddr=('127.0.0.1', 59004), raddr=('127.0.0.1', 11434)>\n",
      "  analyzer = GraphRAGSystem(row[\"question\"])\n",
      "ResourceWarning: Enable tracemalloc to get the object allocation traceback\n"
     ]
    },
    {
     "name": "stdout",
     "output_type": "stream",
     "text": [
      "Question 170: Is AMD detectable before symptoms appear?\n",
      "Context: T...\n",
      "Response: True\n",
      "\n"
     ]
    },
    {
     "name": "stderr",
     "output_type": "stream",
     "text": [
      "/var/folders/z3/zc5j75dj0qn_z2sp8qf47q340000gn/T/ipykernel_63108/652174667.py:8: ResourceWarning: unclosed <socket.socket fd=84, family=AddressFamily.AF_INET, type=SocketKind.SOCK_STREAM, proto=6, laddr=('127.0.0.1', 59030), raddr=('127.0.0.1', 11434)>\n",
      "  analyzer = GraphRAGSystem(row[\"question\"])\n",
      "ResourceWarning: Enable tracemalloc to get the object allocation traceback\n"
     ]
    },
    {
     "name": "stdout",
     "output_type": "stream",
     "text": [
      "Question 171: Can AMD be cured with cold compresses?\n",
      "Context: T...\n",
      "Response: False.\n",
      "\n"
     ]
    },
    {
     "name": "stderr",
     "output_type": "stream",
     "text": [
      "/var/folders/z3/zc5j75dj0qn_z2sp8qf47q340000gn/T/ipykernel_63108/652174667.py:8: ResourceWarning: unclosed <socket.socket fd=84, family=AddressFamily.AF_INET, type=SocketKind.SOCK_STREAM, proto=6, laddr=('127.0.0.1', 59053), raddr=('127.0.0.1', 11434)>\n",
      "  analyzer = GraphRAGSystem(row[\"question\"])\n",
      "ResourceWarning: Enable tracemalloc to get the object allocation traceback\n"
     ]
    },
    {
     "name": "stdout",
     "output_type": "stream",
     "text": [
      "Question 172: Does AMD cause difficulty seeing in bright light?\n",
      "Context: T...\n",
      "Response: True\n",
      "\n"
     ]
    },
    {
     "name": "stderr",
     "output_type": "stream",
     "text": [
      "/var/folders/z3/zc5j75dj0qn_z2sp8qf47q340000gn/T/ipykernel_63108/652174667.py:8: ResourceWarning: unclosed <socket.socket fd=84, family=AddressFamily.AF_INET, type=SocketKind.SOCK_STREAM, proto=6, laddr=('127.0.0.1', 59079), raddr=('127.0.0.1', 11434)>\n",
      "  analyzer = GraphRAGSystem(row[\"question\"])\n",
      "ResourceWarning: Enable tracemalloc to get the object allocation traceback\n"
     ]
    },
    {
     "name": "stdout",
     "output_type": "stream",
     "text": [
      "Question 173: Is wet AMD caused by a vitamin deficiency?\n",
      "Context: T...\n",
      "Response: False.\n",
      "\n"
     ]
    },
    {
     "name": "stderr",
     "output_type": "stream",
     "text": [
      "/var/folders/z3/zc5j75dj0qn_z2sp8qf47q340000gn/T/ipykernel_63108/652174667.py:8: ResourceWarning: unclosed <socket.socket fd=84, family=AddressFamily.AF_INET, type=SocketKind.SOCK_STREAM, proto=6, laddr=('127.0.0.1', 59101), raddr=('127.0.0.1', 11434)>\n",
      "  analyzer = GraphRAGSystem(row[\"question\"])\n",
      "ResourceWarning: Enable tracemalloc to get the object allocation traceback\n"
     ]
    },
    {
     "name": "stdout",
     "output_type": "stream",
     "text": [
      "Question 174: Can AMD increase the need for magnifying devices?\n",
      "Context: T...\n",
      "Response: TRUE\n",
      "\n"
     ]
    },
    {
     "name": "stderr",
     "output_type": "stream",
     "text": [
      "/var/folders/z3/zc5j75dj0qn_z2sp8qf47q340000gn/T/ipykernel_63108/652174667.py:8: ResourceWarning: unclosed <socket.socket fd=84, family=AddressFamily.AF_INET, type=SocketKind.SOCK_STREAM, proto=6, laddr=('127.0.0.1', 59126), raddr=('127.0.0.1', 11434)>\n",
      "  analyzer = GraphRAGSystem(row[\"question\"])\n",
      "ResourceWarning: Enable tracemalloc to get the object allocation traceback\n"
     ]
    },
    {
     "name": "stdout",
     "output_type": "stream",
     "text": [
      "Question 175: Does AMD affect the lens of the eye?\n",
      "Context: T...\n",
      "Response: False.\n",
      "\n"
     ]
    },
    {
     "name": "stderr",
     "output_type": "stream",
     "text": [
      "/var/folders/z3/zc5j75dj0qn_z2sp8qf47q340000gn/T/ipykernel_63108/652174667.py:8: ResourceWarning: unclosed <socket.socket fd=84, family=AddressFamily.AF_INET, type=SocketKind.SOCK_STREAM, proto=6, laddr=('127.0.0.1', 59147), raddr=('127.0.0.1', 11434)>\n",
      "  analyzer = GraphRAGSystem(row[\"question\"])\n",
      "ResourceWarning: Enable tracemalloc to get the object allocation traceback\n"
     ]
    },
    {
     "name": "stdout",
     "output_type": "stream",
     "text": [
      "Question 176: Is AMD linked to chronic inflammation?\n",
      "Context: S...\n",
      "Response: True.\n",
      "\n"
     ]
    },
    {
     "name": "stderr",
     "output_type": "stream",
     "text": [
      "/var/folders/z3/zc5j75dj0qn_z2sp8qf47q340000gn/T/ipykernel_63108/652174667.py:8: ResourceWarning: unclosed <socket.socket fd=84, family=AddressFamily.AF_INET, type=SocketKind.SOCK_STREAM, proto=6, laddr=('127.0.0.1', 59170), raddr=('127.0.0.1', 11434)>\n",
      "  analyzer = GraphRAGSystem(row[\"question\"])\n",
      "ResourceWarning: Enable tracemalloc to get the object allocation traceback\n"
     ]
    },
    {
     "name": "stdout",
     "output_type": "stream",
     "text": [
      "Question 177: Can AMD be prevented by avoiding all dairy?\n",
      "Context: T...\n",
      "Response: False.\n",
      "\n"
     ]
    },
    {
     "name": "stderr",
     "output_type": "stream",
     "text": [
      "/var/folders/z3/zc5j75dj0qn_z2sp8qf47q340000gn/T/ipykernel_63108/652174667.py:8: ResourceWarning: unclosed <socket.socket fd=84, family=AddressFamily.AF_INET, type=SocketKind.SOCK_STREAM, proto=6, laddr=('127.0.0.1', 59191), raddr=('127.0.0.1', 11434)>\n",
      "  analyzer = GraphRAGSystem(row[\"question\"])\n",
      "ResourceWarning: Enable tracemalloc to get the object allocation traceback\n"
     ]
    },
    {
     "name": "stdout",
     "output_type": "stream",
     "text": [
      "Question 178: Does wet AMD cause a wavy appearance of objects?\n",
      "Context: T...\n",
      "Response: False\n",
      "\n"
     ]
    },
    {
     "name": "stderr",
     "output_type": "stream",
     "text": [
      "/var/folders/z3/zc5j75dj0qn_z2sp8qf47q340000gn/T/ipykernel_63108/652174667.py:8: ResourceWarning: unclosed <socket.socket fd=84, family=AddressFamily.AF_INET, type=SocketKind.SOCK_STREAM, proto=6, laddr=('127.0.0.1', 59215), raddr=('127.0.0.1', 11434)>\n",
      "  analyzer = GraphRAGSystem(row[\"question\"])\n",
      "ResourceWarning: Enable tracemalloc to get the object allocation traceback\n"
     ]
    },
    {
     "name": "stdout",
     "output_type": "stream",
     "text": [
      "Question 179: Is AMD caused by excessive hand washing?\n",
      "Context: T...\n",
      "Response: False.\n",
      "\n"
     ]
    },
    {
     "name": "stderr",
     "output_type": "stream",
     "text": [
      "/var/folders/z3/zc5j75dj0qn_z2sp8qf47q340000gn/T/ipykernel_63108/652174667.py:8: ResourceWarning: unclosed <socket.socket fd=84, family=AddressFamily.AF_INET, type=SocketKind.SOCK_STREAM, proto=6, laddr=('127.0.0.1', 59237), raddr=('127.0.0.1', 11434)>\n",
      "  analyzer = GraphRAGSystem(row[\"question\"])\n",
      "ResourceWarning: Enable tracemalloc to get the object allocation traceback\n"
     ]
    },
    {
     "name": "stdout",
     "output_type": "stream",
     "text": [
      "Question 180: Can AMD lead to legal blindness?\n",
      "Context: T...\n",
      "Response: True.\n",
      "\n"
     ]
    },
    {
     "name": "stderr",
     "output_type": "stream",
     "text": [
      "/var/folders/z3/zc5j75dj0qn_z2sp8qf47q340000gn/T/ipykernel_63108/652174667.py:8: ResourceWarning: unclosed <socket.socket fd=84, family=AddressFamily.AF_INET, type=SocketKind.SOCK_STREAM, proto=6, laddr=('127.0.0.1', 59258), raddr=('127.0.0.1', 11434)>\n",
      "  analyzer = GraphRAGSystem(row[\"question\"])\n",
      "ResourceWarning: Enable tracemalloc to get the object allocation traceback\n"
     ]
    },
    {
     "name": "stdout",
     "output_type": "stream",
     "text": [
      "Question 181: Does dry AMD cause inflammation of the eyelids?\n",
      "Context: T...\n",
      "Response: False\n",
      "\n"
     ]
    },
    {
     "name": "stderr",
     "output_type": "stream",
     "text": [
      "/var/folders/z3/zc5j75dj0qn_z2sp8qf47q340000gn/T/ipykernel_63108/652174667.py:8: ResourceWarning: unclosed <socket.socket fd=84, family=AddressFamily.AF_INET, type=SocketKind.SOCK_STREAM, proto=6, laddr=('127.0.0.1', 59282), raddr=('127.0.0.1', 11434)>\n",
      "  analyzer = GraphRAGSystem(row[\"question\"])\n",
      "ResourceWarning: Enable tracemalloc to get the object allocation traceback\n"
     ]
    },
    {
     "name": "stdout",
     "output_type": "stream",
     "text": [
      "Question 182: Is AMD associated with retinal pigment epithelial damage?\n",
      "Context: T...\n",
      "Response: True.\n",
      "\n"
     ]
    },
    {
     "name": "stderr",
     "output_type": "stream",
     "text": [
      "/var/folders/z3/zc5j75dj0qn_z2sp8qf47q340000gn/T/ipykernel_63108/652174667.py:8: ResourceWarning: unclosed <socket.socket fd=84, family=AddressFamily.AF_INET, type=SocketKind.SOCK_STREAM, proto=6, laddr=('127.0.0.1', 59305), raddr=('127.0.0.1', 11434)>\n",
      "  analyzer = GraphRAGSystem(row[\"question\"])\n",
      "ResourceWarning: Enable tracemalloc to get the object allocation traceback\n"
     ]
    },
    {
     "name": "stdout",
     "output_type": "stream",
     "text": [
      "Question 183: Can AMD be treated with nasal sprays?\n",
      "Context: T...\n",
      "Response: True\n",
      "\n"
     ]
    },
    {
     "name": "stderr",
     "output_type": "stream",
     "text": [
      "/var/folders/z3/zc5j75dj0qn_z2sp8qf47q340000gn/T/ipykernel_63108/652174667.py:8: ResourceWarning: unclosed <socket.socket fd=84, family=AddressFamily.AF_INET, type=SocketKind.SOCK_STREAM, proto=6, laddr=('127.0.0.1', 59327), raddr=('127.0.0.1', 11434)>\n",
      "  analyzer = GraphRAGSystem(row[\"question\"])\n",
      "ResourceWarning: Enable tracemalloc to get the object allocation traceback\n"
     ]
    },
    {
     "name": "stdout",
     "output_type": "stream",
     "text": [
      "Question 184: Does AMD affect the ability to see motion?\n",
      "Context: T...\n",
      "Response: True.\n",
      "\n"
     ]
    },
    {
     "name": "stderr",
     "output_type": "stream",
     "text": [
      "/var/folders/z3/zc5j75dj0qn_z2sp8qf47q340000gn/T/ipykernel_63108/652174667.py:8: ResourceWarning: unclosed <socket.socket fd=84, family=AddressFamily.AF_INET, type=SocketKind.SOCK_STREAM, proto=6, laddr=('127.0.0.1', 59348), raddr=('127.0.0.1', 11434)>\n",
      "  analyzer = GraphRAGSystem(row[\"question\"])\n",
      "ResourceWarning: Enable tracemalloc to get the object allocation traceback\n"
     ]
    },
    {
     "name": "stdout",
     "output_type": "stream",
     "text": [
      "Question 185: Is AMD caused by excessive use of perfume?\n",
      "Context: T...\n",
      "Response: False.\n",
      "\n"
     ]
    },
    {
     "name": "stderr",
     "output_type": "stream",
     "text": [
      "/var/folders/z3/zc5j75dj0qn_z2sp8qf47q340000gn/T/ipykernel_63108/652174667.py:8: ResourceWarning: unclosed <socket.socket fd=84, family=AddressFamily.AF_INET, type=SocketKind.SOCK_STREAM, proto=6, laddr=('127.0.0.1', 59374), raddr=('127.0.0.1', 11434)>\n",
      "  analyzer = GraphRAGSystem(row[\"question\"])\n",
      "ResourceWarning: Enable tracemalloc to get the object allocation traceback\n"
     ]
    },
    {
     "name": "stdout",
     "output_type": "stream",
     "text": [
      "Question 186: Can AMD increase difficulty navigating crowded spaces?\n",
      "Context: S...\n",
      "Response: True\n",
      "\n"
     ]
    },
    {
     "name": "stderr",
     "output_type": "stream",
     "text": [
      "/var/folders/z3/zc5j75dj0qn_z2sp8qf47q340000gn/T/ipykernel_63108/652174667.py:8: ResourceWarning: unclosed <socket.socket fd=84, family=AddressFamily.AF_INET, type=SocketKind.SOCK_STREAM, proto=6, laddr=('127.0.0.1', 59398), raddr=('127.0.0.1', 11434)>\n",
      "  analyzer = GraphRAGSystem(row[\"question\"])\n",
      "ResourceWarning: Enable tracemalloc to get the object allocation traceback\n"
     ]
    },
    {
     "name": "stdout",
     "output_type": "stream",
     "text": [
      "Question 187: Does wet AMD cause vision loss only in dim light?\n",
      "Context: T...\n",
      "Response: False\n",
      "\n"
     ]
    },
    {
     "name": "stderr",
     "output_type": "stream",
     "text": [
      "/var/folders/z3/zc5j75dj0qn_z2sp8qf47q340000gn/T/ipykernel_63108/652174667.py:8: ResourceWarning: unclosed <socket.socket fd=84, family=AddressFamily.AF_INET, type=SocketKind.SOCK_STREAM, proto=6, laddr=('127.0.0.1', 59420), raddr=('127.0.0.1', 11434)>\n",
      "  analyzer = GraphRAGSystem(row[\"question\"])\n",
      "ResourceWarning: Enable tracemalloc to get the object allocation traceback\n"
     ]
    },
    {
     "name": "stdout",
     "output_type": "stream",
     "text": [
      "Question 188: Is AMD linked to reduced visual acuity?\n",
      "Context: T...\n",
      "Response: True.\n",
      "\n"
     ]
    },
    {
     "name": "stderr",
     "output_type": "stream",
     "text": [
      "/var/folders/z3/zc5j75dj0qn_z2sp8qf47q340000gn/T/ipykernel_63108/652174667.py:8: ResourceWarning: unclosed <socket.socket fd=84, family=AddressFamily.AF_INET, type=SocketKind.SOCK_STREAM, proto=6, laddr=('127.0.0.1', 59442), raddr=('127.0.0.1', 11434)>\n",
      "  analyzer = GraphRAGSystem(row[\"question\"])\n",
      "ResourceWarning: Enable tracemalloc to get the object allocation traceback\n"
     ]
    },
    {
     "name": "stdout",
     "output_type": "stream",
     "text": [
      "Question 189: Can AMD be prevented by avoiding all protein?\n",
      "Context: T...\n",
      "Response: False\n",
      "\n"
     ]
    },
    {
     "name": "stderr",
     "output_type": "stream",
     "text": [
      "/var/folders/z3/zc5j75dj0qn_z2sp8qf47q340000gn/T/ipykernel_63108/652174667.py:8: ResourceWarning: unclosed <socket.socket fd=84, family=AddressFamily.AF_INET, type=SocketKind.SOCK_STREAM, proto=6, laddr=('127.0.0.1', 59465), raddr=('127.0.0.1', 11434)>\n",
      "  analyzer = GraphRAGSystem(row[\"question\"])\n",
      "ResourceWarning: Enable tracemalloc to get the object allocation traceback\n"
     ]
    },
    {
     "name": "stdout",
     "output_type": "stream",
     "text": [
      "Question 190: Does dry AMD cause small blind spots over time?\n",
      "Context: T...\n",
      "Response: False\n",
      "\n"
     ]
    },
    {
     "name": "stderr",
     "output_type": "stream",
     "text": [
      "/var/folders/z3/zc5j75dj0qn_z2sp8qf47q340000gn/T/ipykernel_63108/652174667.py:8: ResourceWarning: unclosed <socket.socket fd=84, family=AddressFamily.AF_INET, type=SocketKind.SOCK_STREAM, proto=6, laddr=('127.0.0.1', 59488), raddr=('127.0.0.1', 11434)>\n",
      "  analyzer = GraphRAGSystem(row[\"question\"])\n",
      "ResourceWarning: Enable tracemalloc to get the object allocation traceback\n"
     ]
    },
    {
     "name": "stdout",
     "output_type": "stream",
     "text": [
      "Question 191: Is AMD caused by excessive exposure to wind?\n",
      "Context: T...\n",
      "Response: False.\n",
      "\n"
     ]
    },
    {
     "name": "stderr",
     "output_type": "stream",
     "text": [
      "/var/folders/z3/zc5j75dj0qn_z2sp8qf47q340000gn/T/ipykernel_63108/652174667.py:8: ResourceWarning: unclosed <socket.socket fd=84, family=AddressFamily.AF_INET, type=SocketKind.SOCK_STREAM, proto=6, laddr=('127.0.0.1', 59510), raddr=('127.0.0.1', 11434)>\n",
      "  analyzer = GraphRAGSystem(row[\"question\"])\n",
      "ResourceWarning: Enable tracemalloc to get the object allocation traceback\n"
     ]
    },
    {
     "name": "stdout",
     "output_type": "stream",
     "text": [
      "Question 192: Can AMD affect the ability to sew or knit?\n",
      "Context: T...\n",
      "Response: True.\n",
      "\n"
     ]
    },
    {
     "name": "stderr",
     "output_type": "stream",
     "text": [
      "/var/folders/z3/zc5j75dj0qn_z2sp8qf47q340000gn/T/ipykernel_63108/652174667.py:8: ResourceWarning: unclosed <socket.socket fd=84, family=AddressFamily.AF_INET, type=SocketKind.SOCK_STREAM, proto=6, laddr=('127.0.0.1', 59532), raddr=('127.0.0.1', 11434)>\n",
      "  analyzer = GraphRAGSystem(row[\"question\"])\n",
      "ResourceWarning: Enable tracemalloc to get the object allocation traceback\n"
     ]
    },
    {
     "name": "stdout",
     "output_type": "stream",
     "text": [
      "Question 193: Does wet AMD cause inflammation of the iris?\n",
      "Context: T...\n",
      "Response: False.\n",
      "\n"
     ]
    },
    {
     "name": "stderr",
     "output_type": "stream",
     "text": [
      "/var/folders/z3/zc5j75dj0qn_z2sp8qf47q340000gn/T/ipykernel_63108/652174667.py:8: ResourceWarning: unclosed <socket.socket fd=84, family=AddressFamily.AF_INET, type=SocketKind.SOCK_STREAM, proto=6, laddr=('127.0.0.1', 59554), raddr=('127.0.0.1', 11434)>\n",
      "  analyzer = GraphRAGSystem(row[\"question\"])\n",
      "ResourceWarning: Enable tracemalloc to get the object allocation traceback\n"
     ]
    },
    {
     "name": "stdout",
     "output_type": "stream",
     "text": [
      "Question 194: Is AMD linked to difficulty seeing in fog?\n",
      "Context: T...\n",
      "Response: True\n",
      "\n"
     ]
    },
    {
     "name": "stderr",
     "output_type": "stream",
     "text": [
      "/var/folders/z3/zc5j75dj0qn_z2sp8qf47q340000gn/T/ipykernel_63108/652174667.py:8: ResourceWarning: unclosed <socket.socket fd=84, family=AddressFamily.AF_INET, type=SocketKind.SOCK_STREAM, proto=6, laddr=('127.0.0.1', 59576), raddr=('127.0.0.1', 11434)>\n",
      "  analyzer = GraphRAGSystem(row[\"question\"])\n",
      "ResourceWarning: Enable tracemalloc to get the object allocation traceback\n"
     ]
    },
    {
     "name": "stdout",
     "output_type": "stream",
     "text": [
      "Question 195: Can AMD be cured with aromatherapy?\n",
      "Context: T...\n",
      "Response: False\n",
      "\n"
     ]
    },
    {
     "name": "stderr",
     "output_type": "stream",
     "text": [
      "/var/folders/z3/zc5j75dj0qn_z2sp8qf47q340000gn/T/ipykernel_63108/652174667.py:8: ResourceWarning: unclosed <socket.socket fd=84, family=AddressFamily.AF_INET, type=SocketKind.SOCK_STREAM, proto=6, laddr=('127.0.0.1', 59598), raddr=('127.0.0.1', 11434)>\n",
      "  analyzer = GraphRAGSystem(row[\"question\"])\n",
      "ResourceWarning: Enable tracemalloc to get the object allocation traceback\n"
     ]
    },
    {
     "name": "stdout",
     "output_type": "stream",
     "text": [
      "Question 196: Does AMD cause challenges with recognizing patterns?\n",
      "Context: T...\n",
      "Response: True.\n",
      "\n"
     ]
    },
    {
     "name": "stderr",
     "output_type": "stream",
     "text": [
      "/var/folders/z3/zc5j75dj0qn_z2sp8qf47q340000gn/T/ipykernel_63108/652174667.py:8: ResourceWarning: unclosed <socket.socket fd=84, family=AddressFamily.AF_INET, type=SocketKind.SOCK_STREAM, proto=6, laddr=('127.0.0.1', 59623), raddr=('127.0.0.1', 11434)>\n",
      "  analyzer = GraphRAGSystem(row[\"question\"])\n",
      "ResourceWarning: Enable tracemalloc to get the object allocation traceback\n"
     ]
    },
    {
     "name": "stdout",
     "output_type": "stream",
     "text": [
      "Question 197: Is dry AMD caused by a fungal infection?\n",
      "Context: T...\n",
      "Response: False.\n",
      "\n"
     ]
    },
    {
     "name": "stderr",
     "output_type": "stream",
     "text": [
      "/var/folders/z3/zc5j75dj0qn_z2sp8qf47q340000gn/T/ipykernel_63108/652174667.py:8: ResourceWarning: unclosed <socket.socket fd=84, family=AddressFamily.AF_INET, type=SocketKind.SOCK_STREAM, proto=6, laddr=('127.0.0.1', 59647), raddr=('127.0.0.1', 11434)>\n",
      "  analyzer = GraphRAGSystem(row[\"question\"])\n",
      "ResourceWarning: Enable tracemalloc to get the object allocation traceback\n"
     ]
    },
    {
     "name": "stdout",
     "output_type": "stream",
     "text": [
      "Question 198: Can AMD increase difficulty with cooking tasks?\n",
      "Context: T...\n",
      "Response: True\n",
      "\n"
     ]
    },
    {
     "name": "stderr",
     "output_type": "stream",
     "text": [
      "/var/folders/z3/zc5j75dj0qn_z2sp8qf47q340000gn/T/ipykernel_63108/652174667.py:8: ResourceWarning: unclosed <socket.socket fd=84, family=AddressFamily.AF_INET, type=SocketKind.SOCK_STREAM, proto=6, laddr=('127.0.0.1', 59667), raddr=('127.0.0.1', 11434)>\n",
      "  analyzer = GraphRAGSystem(row[\"question\"])\n",
      "ResourceWarning: Enable tracemalloc to get the object allocation traceback\n"
     ]
    },
    {
     "name": "stdout",
     "output_type": "stream",
     "text": [
      "Question 199: Does AMD cause vision loss due to lens clouding?\n",
      "Context: S...\n",
      "Response: False\n",
      "\n"
     ]
    },
    {
     "name": "stderr",
     "output_type": "stream",
     "text": [
      "/var/folders/z3/zc5j75dj0qn_z2sp8qf47q340000gn/T/ipykernel_63108/652174667.py:8: ResourceWarning: unclosed <socket.socket fd=84, family=AddressFamily.AF_INET, type=SocketKind.SOCK_STREAM, proto=6, laddr=('127.0.0.1', 59693), raddr=('127.0.0.1', 11434)>\n",
      "  analyzer = GraphRAGSystem(row[\"question\"])\n",
      "ResourceWarning: Enable tracemalloc to get the object allocation traceback\n"
     ]
    },
    {
     "name": "stdout",
     "output_type": "stream",
     "text": [
      "Question 200: Is AMD linked to impaired ability to see small print?\n",
      "Context: T...\n",
      "Response: True\n",
      "\n"
     ]
    },
    {
     "name": "stderr",
     "output_type": "stream",
     "text": [
      "/var/folders/z3/zc5j75dj0qn_z2sp8qf47q340000gn/T/ipykernel_63108/652174667.py:8: ResourceWarning: unclosed <socket.socket fd=84, family=AddressFamily.AF_INET, type=SocketKind.SOCK_STREAM, proto=6, laddr=('127.0.0.1', 59718), raddr=('127.0.0.1', 11434)>\n",
      "  analyzer = GraphRAGSystem(row[\"question\"])\n",
      "ResourceWarning: Enable tracemalloc to get the object allocation traceback\n"
     ]
    },
    {
     "name": "stdout",
     "output_type": "stream",
     "text": [
      "Question 201: Can AMD be prevented by avoiding all grains?\n",
      "Context: T...\n",
      "Response: False.\n",
      "\n"
     ]
    },
    {
     "name": "stderr",
     "output_type": "stream",
     "text": [
      "/var/folders/z3/zc5j75dj0qn_z2sp8qf47q340000gn/T/ipykernel_63108/652174667.py:8: ResourceWarning: unclosed <socket.socket fd=84, family=AddressFamily.AF_INET, type=SocketKind.SOCK_STREAM, proto=6, laddr=('127.0.0.1', 59743), raddr=('127.0.0.1', 11434)>\n",
      "  analyzer = GraphRAGSystem(row[\"question\"])\n",
      "ResourceWarning: Enable tracemalloc to get the object allocation traceback\n"
     ]
    },
    {
     "name": "stdout",
     "output_type": "stream",
     "text": [
      "Question 202: Does wet AMD cause a ripple effect in vision?\n",
      "Context: T...\n",
      "Response: False.\n",
      "\n"
     ]
    },
    {
     "name": "stderr",
     "output_type": "stream",
     "text": [
      "/var/folders/z3/zc5j75dj0qn_z2sp8qf47q340000gn/T/ipykernel_63108/652174667.py:8: ResourceWarning: unclosed <socket.socket fd=84, family=AddressFamily.AF_INET, type=SocketKind.SOCK_STREAM, proto=6, laddr=('127.0.0.1', 59765), raddr=('127.0.0.1', 11434)>\n",
      "  analyzer = GraphRAGSystem(row[\"question\"])\n",
      "ResourceWarning: Enable tracemalloc to get the object allocation traceback\n"
     ]
    },
    {
     "name": "stdout",
     "output_type": "stream",
     "text": [
      "Question 203: Is AMD caused by excessive foot massages?\n",
      "Context: T...\n",
      "Response: False\n",
      "\n"
     ]
    },
    {
     "name": "stderr",
     "output_type": "stream",
     "text": [
      "/var/folders/z3/zc5j75dj0qn_z2sp8qf47q340000gn/T/ipykernel_63108/652174667.py:8: ResourceWarning: unclosed <socket.socket fd=84, family=AddressFamily.AF_INET, type=SocketKind.SOCK_STREAM, proto=6, laddr=('127.0.0.1', 59788), raddr=('127.0.0.1', 11434)>\n",
      "  analyzer = GraphRAGSystem(row[\"question\"])\n",
      "ResourceWarning: Enable tracemalloc to get the object allocation traceback\n"
     ]
    },
    {
     "name": "stdout",
     "output_type": "stream",
     "text": [
      "Question 204: Can AMD affect the ability to play card games?\n",
      "Context: T...\n",
      "Response: True\n",
      "\n"
     ]
    },
    {
     "name": "stderr",
     "output_type": "stream",
     "text": [
      "/var/folders/z3/zc5j75dj0qn_z2sp8qf47q340000gn/T/ipykernel_63108/652174667.py:8: ResourceWarning: unclosed <socket.socket fd=84, family=AddressFamily.AF_INET, type=SocketKind.SOCK_STREAM, proto=6, laddr=('127.0.0.1', 59812), raddr=('127.0.0.1', 11434)>\n",
      "  analyzer = GraphRAGSystem(row[\"question\"])\n",
      "ResourceWarning: Enable tracemalloc to get the object allocation traceback\n"
     ]
    },
    {
     "name": "stdout",
     "output_type": "stream",
     "text": [
      "Question 205: Does dry AMD cause rapid photoreceptor regeneration?\n",
      "Context: T...\n",
      "Response: False.\n",
      "\n"
     ]
    },
    {
     "name": "stderr",
     "output_type": "stream",
     "text": [
      "/var/folders/z3/zc5j75dj0qn_z2sp8qf47q340000gn/T/ipykernel_63108/652174667.py:8: ResourceWarning: unclosed <socket.socket fd=84, family=AddressFamily.AF_INET, type=SocketKind.SOCK_STREAM, proto=6, laddr=('127.0.0.1', 59833), raddr=('127.0.0.1', 11434)>\n",
      "  analyzer = GraphRAGSystem(row[\"question\"])\n",
      "ResourceWarning: Enable tracemalloc to get the object allocation traceback\n"
     ]
    },
    {
     "name": "stdout",
     "output_type": "stream",
     "text": [
      "Question 206: Is AMD linked to difficulty seeing traffic signs?\n",
      "Context: T...\n",
      "Response: True.\n",
      "\n"
     ]
    },
    {
     "name": "stderr",
     "output_type": "stream",
     "text": [
      "/var/folders/z3/zc5j75dj0qn_z2sp8qf47q340000gn/T/ipykernel_63108/652174667.py:8: ResourceWarning: unclosed <socket.socket fd=84, family=AddressFamily.AF_INET, type=SocketKind.SOCK_STREAM, proto=6, laddr=('127.0.0.1', 59856), raddr=('127.0.0.1', 11434)>\n",
      "  analyzer = GraphRAGSystem(row[\"question\"])\n",
      "ResourceWarning: Enable tracemalloc to get the object allocation traceback\n"
     ]
    },
    {
     "name": "stdout",
     "output_type": "stream",
     "text": [
      "Question 207: Can AMD be treated with throat lozenges?\n",
      "Context: T...\n",
      "Response: False\n",
      "\n"
     ]
    },
    {
     "name": "stderr",
     "output_type": "stream",
     "text": [
      "/var/folders/z3/zc5j75dj0qn_z2sp8qf47q340000gn/T/ipykernel_63108/652174667.py:8: ResourceWarning: unclosed <socket.socket fd=84, family=AddressFamily.AF_INET, type=SocketKind.SOCK_STREAM, proto=6, laddr=('127.0.0.1', 59877), raddr=('127.0.0.1', 11434)>\n",
      "  analyzer = GraphRAGSystem(row[\"question\"])\n",
      "ResourceWarning: Enable tracemalloc to get the object allocation traceback\n"
     ]
    },
    {
     "name": "stdout",
     "output_type": "stream",
     "text": [
      "Question 208: Does AMD cause trouble seeing in dimly lit rooms?\n",
      "Context: A...\n",
      "Response: True\n",
      "\n"
     ]
    },
    {
     "name": "stderr",
     "output_type": "stream",
     "text": [
      "/var/folders/z3/zc5j75dj0qn_z2sp8qf47q340000gn/T/ipykernel_63108/652174667.py:8: ResourceWarning: unclosed <socket.socket fd=84, family=AddressFamily.AF_INET, type=SocketKind.SOCK_STREAM, proto=6, laddr=('127.0.0.1', 59900), raddr=('127.0.0.1', 11434)>\n",
      "  analyzer = GraphRAGSystem(row[\"question\"])\n",
      "ResourceWarning: Enable tracemalloc to get the object allocation traceback\n"
     ]
    },
    {
     "name": "stdout",
     "output_type": "stream",
     "text": [
      "Question 209: Is wet AMD caused by excessive use of toothpaste?\n",
      "Context: T...\n",
      "Response: False.\n",
      "\n"
     ]
    },
    {
     "name": "stderr",
     "output_type": "stream",
     "text": [
      "/var/folders/z3/zc5j75dj0qn_z2sp8qf47q340000gn/T/ipykernel_63108/652174667.py:8: ResourceWarning: unclosed <socket.socket fd=84, family=AddressFamily.AF_INET, type=SocketKind.SOCK_STREAM, proto=6, laddr=('127.0.0.1', 59923), raddr=('127.0.0.1', 11434)>\n",
      "  analyzer = GraphRAGSystem(row[\"question\"])\n",
      "ResourceWarning: Enable tracemalloc to get the object allocation traceback\n"
     ]
    },
    {
     "name": "stdout",
     "output_type": "stream",
     "text": [
      "Question 210: Can AMD affect the ability to enjoy painting?\n",
      "Context: T...\n",
      "Response: True\n",
      "\n"
     ]
    },
    {
     "name": "stderr",
     "output_type": "stream",
     "text": [
      "/var/folders/z3/zc5j75dj0qn_z2sp8qf47q340000gn/T/ipykernel_63108/652174667.py:8: ResourceWarning: unclosed <socket.socket fd=84, family=AddressFamily.AF_INET, type=SocketKind.SOCK_STREAM, proto=6, laddr=('127.0.0.1', 59948), raddr=('127.0.0.1', 11434)>\n",
      "  analyzer = GraphRAGSystem(row[\"question\"])\n",
      "ResourceWarning: Enable tracemalloc to get the object allocation traceback\n"
     ]
    },
    {
     "name": "stdout",
     "output_type": "stream",
     "text": [
      "Question 211: Does AMD cause vision loss due to corneal scarring?\n",
      "Context: T...\n",
      "Response: FALSE.\n",
      "\n"
     ]
    },
    {
     "name": "stderr",
     "output_type": "stream",
     "text": [
      "/var/folders/z3/zc5j75dj0qn_z2sp8qf47q340000gn/T/ipykernel_63108/652174667.py:8: ResourceWarning: unclosed <socket.socket fd=84, family=AddressFamily.AF_INET, type=SocketKind.SOCK_STREAM, proto=6, laddr=('127.0.0.1', 59971), raddr=('127.0.0.1', 11434)>\n",
      "  analyzer = GraphRAGSystem(row[\"question\"])\n",
      "ResourceWarning: Enable tracemalloc to get the object allocation traceback\n"
     ]
    },
    {
     "name": "stdout",
     "output_type": "stream",
     "text": [
      "Question 212: Is AMD linked to difficulty identifying coins?\n",
      "Context: T...\n",
      "Response: True\n",
      "\n"
     ]
    },
    {
     "name": "stderr",
     "output_type": "stream",
     "text": [
      "/var/folders/z3/zc5j75dj0qn_z2sp8qf47q340000gn/T/ipykernel_63108/652174667.py:8: ResourceWarning: unclosed <socket.socket fd=84, family=AddressFamily.AF_INET, type=SocketKind.SOCK_STREAM, proto=6, laddr=('127.0.0.1', 59996), raddr=('127.0.0.1', 11434)>\n",
      "  analyzer = GraphRAGSystem(row[\"question\"])\n",
      "ResourceWarning: Enable tracemalloc to get the object allocation traceback\n"
     ]
    },
    {
     "name": "stdout",
     "output_type": "stream",
     "text": [
      "Question 213: Can AMD be prevented by avoiding all liquids?\n",
      "Context: T...\n",
      "Response: False\n",
      "\n"
     ]
    },
    {
     "name": "stderr",
     "output_type": "stream",
     "text": [
      "/var/folders/z3/zc5j75dj0qn_z2sp8qf47q340000gn/T/ipykernel_63108/652174667.py:8: ResourceWarning: unclosed <socket.socket fd=84, family=AddressFamily.AF_INET, type=SocketKind.SOCK_STREAM, proto=6, laddr=('127.0.0.1', 60022), raddr=('127.0.0.1', 11434)>\n",
      "  analyzer = GraphRAGSystem(row[\"question\"])\n",
      "ResourceWarning: Enable tracemalloc to get the object allocation traceback\n"
     ]
    },
    {
     "name": "stdout",
     "output_type": "stream",
     "text": [
      "Question 214: Does wet AMD cause a central haze in vision?\n",
      "Context: T...\n",
      "Response: True\n",
      "\n"
     ]
    },
    {
     "name": "stderr",
     "output_type": "stream",
     "text": [
      "/var/folders/z3/zc5j75dj0qn_z2sp8qf47q340000gn/T/ipykernel_63108/652174667.py:8: ResourceWarning: unclosed <socket.socket fd=84, family=AddressFamily.AF_INET, type=SocketKind.SOCK_STREAM, proto=6, laddr=('127.0.0.1', 60052), raddr=('127.0.0.1', 11434)>\n",
      "  analyzer = GraphRAGSystem(row[\"question\"])\n",
      "ResourceWarning: Enable tracemalloc to get the object allocation traceback\n"
     ]
    },
    {
     "name": "stdout",
     "output_type": "stream",
     "text": [
      "Question 215: Is AMD caused by excessive use of hair dye?\n",
      "Context: T...\n",
      "Response: False.\n",
      "\n"
     ]
    },
    {
     "name": "stderr",
     "output_type": "stream",
     "text": [
      "/var/folders/z3/zc5j75dj0qn_z2sp8qf47q340000gn/T/ipykernel_63108/652174667.py:8: ResourceWarning: unclosed <socket.socket fd=84, family=AddressFamily.AF_INET, type=SocketKind.SOCK_STREAM, proto=6, laddr=('127.0.0.1', 60080), raddr=('127.0.0.1', 11434)>\n",
      "  analyzer = GraphRAGSystem(row[\"question\"])\n",
      "ResourceWarning: Enable tracemalloc to get the object allocation traceback\n"
     ]
    },
    {
     "name": "stdout",
     "output_type": "stream",
     "text": [
      "Question 216: Can AMD affect the ability to watch television?\n",
      "Context: T...\n",
      "Response: True\n",
      "\n"
     ]
    },
    {
     "name": "stderr",
     "output_type": "stream",
     "text": [
      "/var/folders/z3/zc5j75dj0qn_z2sp8qf47q340000gn/T/ipykernel_63108/652174667.py:8: ResourceWarning: unclosed <socket.socket fd=84, family=AddressFamily.AF_INET, type=SocketKind.SOCK_STREAM, proto=6, laddr=('127.0.0.1', 60133), raddr=('127.0.0.1', 11434)>\n",
      "  analyzer = GraphRAGSystem(row[\"question\"])\n",
      "ResourceWarning: Enable tracemalloc to get the object allocation traceback\n"
     ]
    },
    {
     "name": "stdout",
     "output_type": "stream",
     "text": [
      "Question 217: Does dry AMD cause inflammation of the conjunctiva?\n",
      "Context: T...\n",
      "Response: False.\n",
      "\n"
     ]
    },
    {
     "name": "stderr",
     "output_type": "stream",
     "text": [
      "/var/folders/z3/zc5j75dj0qn_z2sp8qf47q340000gn/T/ipykernel_63108/652174667.py:8: ResourceWarning: unclosed <socket.socket fd=84, family=AddressFamily.AF_INET, type=SocketKind.SOCK_STREAM, proto=6, laddr=('127.0.0.1', 60156), raddr=('127.0.0.1', 11434)>\n",
      "  analyzer = GraphRAGSystem(row[\"question\"])\n",
      "ResourceWarning: Enable tracemalloc to get the object allocation traceback\n"
     ]
    },
    {
     "name": "stdout",
     "output_type": "stream",
     "text": [
      "Question 218: Is AMD linked to difficulty assembling puzzles?\n",
      "Context: A...\n",
      "Response: True.\n",
      "\n"
     ]
    },
    {
     "name": "stderr",
     "output_type": "stream",
     "text": [
      "/var/folders/z3/zc5j75dj0qn_z2sp8qf47q340000gn/T/ipykernel_63108/652174667.py:8: ResourceWarning: unclosed <socket.socket fd=84, family=AddressFamily.AF_INET, type=SocketKind.SOCK_STREAM, proto=6, laddr=('127.0.0.1', 60183), raddr=('127.0.0.1', 11434)>\n",
      "  analyzer = GraphRAGSystem(row[\"question\"])\n",
      "ResourceWarning: Enable tracemalloc to get the object allocation traceback\n"
     ]
    },
    {
     "name": "stdout",
     "output_type": "stream",
     "text": [
      "Question 219: Can AMD be cured with foot reflexology?\n",
      "Context: T...\n",
      "Response: False.\n",
      "\n"
     ]
    },
    {
     "name": "stderr",
     "output_type": "stream",
     "text": [
      "/var/folders/z3/zc5j75dj0qn_z2sp8qf47q340000gn/T/ipykernel_63108/652174667.py:8: ResourceWarning: unclosed <socket.socket fd=84, family=AddressFamily.AF_INET, type=SocketKind.SOCK_STREAM, proto=6, laddr=('127.0.0.1', 60207), raddr=('127.0.0.1', 11434)>\n",
      "  analyzer = GraphRAGSystem(row[\"question\"])\n",
      "ResourceWarning: Enable tracemalloc to get the object allocation traceback\n"
     ]
    },
    {
     "name": "stdout",
     "output_type": "stream",
     "text": [
      "Question 220: Does AMD cause challenges with writing by hand?\n",
      "Context: T...\n",
      "Response: TRUE\n",
      "\n"
     ]
    },
    {
     "name": "stderr",
     "output_type": "stream",
     "text": [
      "/var/folders/z3/zc5j75dj0qn_z2sp8qf47q340000gn/T/ipykernel_63108/652174667.py:8: ResourceWarning: unclosed <socket.socket fd=84, family=AddressFamily.AF_INET, type=SocketKind.SOCK_STREAM, proto=6, laddr=('127.0.0.1', 60233), raddr=('127.0.0.1', 11434)>\n",
      "  analyzer = GraphRAGSystem(row[\"question\"])\n",
      "ResourceWarning: Enable tracemalloc to get the object allocation traceback\n"
     ]
    },
    {
     "name": "stdout",
     "output_type": "stream",
     "text": [
      "Question 221: Is wet AMD caused by a lack of potassium?\n",
      "Context: T...\n",
      "Response: FALSE.\n",
      "\n"
     ]
    },
    {
     "name": "stderr",
     "output_type": "stream",
     "text": [
      "/var/folders/z3/zc5j75dj0qn_z2sp8qf47q340000gn/T/ipykernel_63108/652174667.py:8: ResourceWarning: unclosed <socket.socket fd=84, family=AddressFamily.AF_INET, type=SocketKind.SOCK_STREAM, proto=6, laddr=('127.0.0.1', 60257), raddr=('127.0.0.1', 11434)>\n",
      "  analyzer = GraphRAGSystem(row[\"question\"])\n",
      "ResourceWarning: Enable tracemalloc to get the object allocation traceback\n"
     ]
    },
    {
     "name": "stdout",
     "output_type": "stream",
     "text": [
      "Question 222: Can AMD affect the ability to use a smartphone?\n",
      "Context: T...\n",
      "Response: True\n",
      "\n"
     ]
    },
    {
     "name": "stderr",
     "output_type": "stream",
     "text": [
      "/var/folders/z3/zc5j75dj0qn_z2sp8qf47q340000gn/T/ipykernel_63108/652174667.py:8: ResourceWarning: unclosed <socket.socket fd=84, family=AddressFamily.AF_INET, type=SocketKind.SOCK_STREAM, proto=6, laddr=('127.0.0.1', 60285), raddr=('127.0.0.1', 11434)>\n",
      "  analyzer = GraphRAGSystem(row[\"question\"])\n",
      "ResourceWarning: Enable tracemalloc to get the object allocation traceback\n"
     ]
    },
    {
     "name": "stdout",
     "output_type": "stream",
     "text": [
      "Question 223: Does AMD cause vision loss due to pupil damage?\n",
      "Context: T...\n",
      "Response: FALSE\n",
      "\n"
     ]
    },
    {
     "name": "stderr",
     "output_type": "stream",
     "text": [
      "/var/folders/z3/zc5j75dj0qn_z2sp8qf47q340000gn/T/ipykernel_63108/652174667.py:8: ResourceWarning: unclosed <socket.socket fd=84, family=AddressFamily.AF_INET, type=SocketKind.SOCK_STREAM, proto=6, laddr=('127.0.0.1', 60310), raddr=('127.0.0.1', 11434)>\n",
      "  analyzer = GraphRAGSystem(row[\"question\"])\n",
      "ResourceWarning: Enable tracemalloc to get the object allocation traceback\n"
     ]
    },
    {
     "name": "stdout",
     "output_type": "stream",
     "text": [
      "Question 224: Is AMD linked to reduced independence in older adults?\n",
      "Context: T...\n",
      "Response: True.\n",
      "\n"
     ]
    },
    {
     "name": "stderr",
     "output_type": "stream",
     "text": [
      "/var/folders/z3/zc5j75dj0qn_z2sp8qf47q340000gn/T/ipykernel_63108/652174667.py:8: ResourceWarning: unclosed <socket.socket fd=84, family=AddressFamily.AF_INET, type=SocketKind.SOCK_STREAM, proto=6, laddr=('127.0.0.1', 60332), raddr=('127.0.0.1', 11434)>\n",
      "  analyzer = GraphRAGSystem(row[\"question\"])\n",
      "ResourceWarning: Enable tracemalloc to get the object allocation traceback\n"
     ]
    },
    {
     "name": "stdout",
     "output_type": "stream",
     "text": [
      "Question 225: Can AMD be prevented by avoiding all meats?\n",
      "Context: S...\n",
      "Response: False\n",
      "\n"
     ]
    },
    {
     "name": "stderr",
     "output_type": "stream",
     "text": [
      "/var/folders/z3/zc5j75dj0qn_z2sp8qf47q340000gn/T/ipykernel_63108/652174667.py:8: ResourceWarning: unclosed <socket.socket fd=84, family=AddressFamily.AF_INET, type=SocketKind.SOCK_STREAM, proto=6, laddr=('127.0.0.1', 60358), raddr=('127.0.0.1', 11434)>\n",
      "  analyzer = GraphRAGSystem(row[\"question\"])\n",
      "ResourceWarning: Enable tracemalloc to get the object allocation traceback\n"
     ]
    },
    {
     "name": "stdout",
     "output_type": "stream",
     "text": [
      "Question 226: Does wet AMD cause shadows in the visual field?\n",
      "Context: T...\n",
      "Response: True.\n",
      "\n"
     ]
    },
    {
     "name": "stderr",
     "output_type": "stream",
     "text": [
      "/var/folders/z3/zc5j75dj0qn_z2sp8qf47q340000gn/T/ipykernel_63108/652174667.py:8: ResourceWarning: unclosed <socket.socket fd=84, family=AddressFamily.AF_INET, type=SocketKind.SOCK_STREAM, proto=6, laddr=('127.0.0.1', 60381), raddr=('127.0.0.1', 11434)>\n",
      "  analyzer = GraphRAGSystem(row[\"question\"])\n",
      "ResourceWarning: Enable tracemalloc to get the object allocation traceback\n"
     ]
    },
    {
     "name": "stdout",
     "output_type": "stream",
     "text": [
      "Question 227: Is AMD caused by excessive nail polishing?\n",
      "Context: T...\n",
      "Response: FALSE\n",
      "\n"
     ]
    },
    {
     "name": "stderr",
     "output_type": "stream",
     "text": [
      "/var/folders/z3/zc5j75dj0qn_z2sp8qf47q340000gn/T/ipykernel_63108/652174667.py:8: ResourceWarning: unclosed <socket.socket fd=84, family=AddressFamily.AF_INET, type=SocketKind.SOCK_STREAM, proto=6, laddr=('127.0.0.1', 60412), raddr=('127.0.0.1', 11434)>\n",
      "  analyzer = GraphRAGSystem(row[\"question\"])\n",
      "ResourceWarning: Enable tracemalloc to get the object allocation traceback\n"
     ]
    },
    {
     "name": "stdout",
     "output_type": "stream",
     "text": [
      "Question 228: Can AMD affect the ability to see details on a map?\n",
      "Context: T...\n",
      "Response: True\n",
      "\n"
     ]
    },
    {
     "name": "stderr",
     "output_type": "stream",
     "text": [
      "/var/folders/z3/zc5j75dj0qn_z2sp8qf47q340000gn/T/ipykernel_63108/652174667.py:8: ResourceWarning: unclosed <socket.socket fd=84, family=AddressFamily.AF_INET, type=SocketKind.SOCK_STREAM, proto=6, laddr=('127.0.0.1', 60434), raddr=('127.0.0.1', 11434)>\n",
      "  analyzer = GraphRAGSystem(row[\"question\"])\n",
      "ResourceWarning: Enable tracemalloc to get the object allocation traceback\n"
     ]
    },
    {
     "name": "stdout",
     "output_type": "stream",
     "text": [
      "Question 229: Does dry AMD cause rapid vision improvement?\n",
      "Context: T...\n",
      "Response: False.\n",
      "\n"
     ]
    },
    {
     "name": "stderr",
     "output_type": "stream",
     "text": [
      "/var/folders/z3/zc5j75dj0qn_z2sp8qf47q340000gn/T/ipykernel_63108/652174667.py:8: ResourceWarning: unclosed <socket.socket fd=84, family=AddressFamily.AF_INET, type=SocketKind.SOCK_STREAM, proto=6, laddr=('127.0.0.1', 60462), raddr=('127.0.0.1', 11434)>\n",
      "  analyzer = GraphRAGSystem(row[\"question\"])\n",
      "ResourceWarning: Enable tracemalloc to get the object allocation traceback\n"
     ]
    },
    {
     "name": "stdout",
     "output_type": "stream",
     "text": [
      "Question 230: Does AMD cause difficulty seeing in low-contrast environments?\n",
      "Context: T...\n",
      "Response: True\n",
      "\n"
     ]
    },
    {
     "name": "stderr",
     "output_type": "stream",
     "text": [
      "/var/folders/z3/zc5j75dj0qn_z2sp8qf47q340000gn/T/ipykernel_63108/652174667.py:8: ResourceWarning: unclosed <socket.socket fd=84, family=AddressFamily.AF_INET, type=SocketKind.SOCK_STREAM, proto=6, laddr=('127.0.0.1', 60496), raddr=('127.0.0.1', 11434)>\n",
      "  analyzer = GraphRAGSystem(row[\"question\"])\n",
      "ResourceWarning: Enable tracemalloc to get the object allocation traceback\n"
     ]
    },
    {
     "name": "stdout",
     "output_type": "stream",
     "text": [
      "Question 231: Is wet AMD caused by excessive exposure to pollen?\n",
      "Context: T...\n",
      "Response: False.\n",
      "\n"
     ]
    },
    {
     "name": "stderr",
     "output_type": "stream",
     "text": [
      "/var/folders/z3/zc5j75dj0qn_z2sp8qf47q340000gn/T/ipykernel_63108/652174667.py:8: ResourceWarning: unclosed <socket.socket fd=84, family=AddressFamily.AF_INET, type=SocketKind.SOCK_STREAM, proto=6, laddr=('127.0.0.1', 60518), raddr=('127.0.0.1', 11434)>\n",
      "  analyzer = GraphRAGSystem(row[\"question\"])\n",
      "ResourceWarning: Enable tracemalloc to get the object allocation traceback\n"
     ]
    },
    {
     "name": "stdout",
     "output_type": "stream",
     "text": [
      "Question 232: Can dry AMD lead to photoreceptor loss?\n",
      "Context: T...\n",
      "Response: True.\n",
      "\n"
     ]
    },
    {
     "name": "stderr",
     "output_type": "stream",
     "text": [
      "/var/folders/z3/zc5j75dj0qn_z2sp8qf47q340000gn/T/ipykernel_63108/652174667.py:8: ResourceWarning: unclosed <socket.socket fd=84, family=AddressFamily.AF_INET, type=SocketKind.SOCK_STREAM, proto=6, laddr=('127.0.0.1', 60542), raddr=('127.0.0.1', 11434)>\n",
      "  analyzer = GraphRAGSystem(row[\"question\"])\n",
      "ResourceWarning: Enable tracemalloc to get the object allocation traceback\n"
     ]
    },
    {
     "name": "stdout",
     "output_type": "stream",
     "text": [
      "Question 233: Is AMD treatable with ear drops?\n",
      "Context: T...\n",
      "Response: False\n",
      "\n"
     ]
    },
    {
     "name": "stderr",
     "output_type": "stream",
     "text": [
      "/var/folders/z3/zc5j75dj0qn_z2sp8qf47q340000gn/T/ipykernel_63108/652174667.py:8: ResourceWarning: unclosed <socket.socket fd=84, family=AddressFamily.AF_INET, type=SocketKind.SOCK_STREAM, proto=6, laddr=('127.0.0.1', 60562), raddr=('127.0.0.1', 11434)>\n",
      "  analyzer = GraphRAGSystem(row[\"question\"])\n",
      "ResourceWarning: Enable tracemalloc to get the object allocation traceback\n"
     ]
    },
    {
     "name": "stdout",
     "output_type": "stream",
     "text": [
      "Question 234: Does wet AMD cause a blurred central spot?\n",
      "Context: T...\n",
      "Response: True\n",
      "\n"
     ]
    },
    {
     "name": "stderr",
     "output_type": "stream",
     "text": [
      "/var/folders/z3/zc5j75dj0qn_z2sp8qf47q340000gn/T/ipykernel_63108/652174667.py:8: ResourceWarning: unclosed <socket.socket fd=84, family=AddressFamily.AF_INET, type=SocketKind.SOCK_STREAM, proto=6, laddr=('127.0.0.1', 60588), raddr=('127.0.0.1', 11434)>\n",
      "  analyzer = GraphRAGSystem(row[\"question\"])\n",
      "ResourceWarning: Enable tracemalloc to get the object allocation traceback\n"
     ]
    },
    {
     "name": "stdout",
     "output_type": "stream",
     "text": [
      "Question 235: Can AMD be prevented by avoiding all vegetables?\n",
      "Context: T...\n",
      "Response: False\n",
      "\n"
     ]
    },
    {
     "name": "stderr",
     "output_type": "stream",
     "text": [
      "/var/folders/z3/zc5j75dj0qn_z2sp8qf47q340000gn/T/ipykernel_63108/652174667.py:8: ResourceWarning: unclosed <socket.socket fd=84, family=AddressFamily.AF_INET, type=SocketKind.SOCK_STREAM, proto=6, laddr=('127.0.0.1', 60612), raddr=('127.0.0.1', 11434)>\n",
      "  analyzer = GraphRAGSystem(row[\"question\"])\n",
      "ResourceWarning: Enable tracemalloc to get the object allocation traceback\n"
     ]
    },
    {
     "name": "stdout",
     "output_type": "stream",
     "text": [
      "Question 236: Is atherosclerosis a risk factor for AMD?\n",
      "Context: T...\n",
      "Response: True\n",
      "\n"
     ]
    },
    {
     "name": "stderr",
     "output_type": "stream",
     "text": [
      "/var/folders/z3/zc5j75dj0qn_z2sp8qf47q340000gn/T/ipykernel_63108/652174667.py:8: ResourceWarning: unclosed <socket.socket fd=84, family=AddressFamily.AF_INET, type=SocketKind.SOCK_STREAM, proto=6, laddr=('127.0.0.1', 60634), raddr=('127.0.0.1', 11434)>\n",
      "  analyzer = GraphRAGSystem(row[\"question\"])\n",
      "ResourceWarning: Enable tracemalloc to get the object allocation traceback\n"
     ]
    },
    {
     "name": "stdout",
     "output_type": "stream",
     "text": [
      "Question 237: Does dry AMD cause immediate vision loss?\n",
      "Context: T...\n",
      "Response: False.\n",
      "\n"
     ]
    },
    {
     "name": "stderr",
     "output_type": "stream",
     "text": [
      "/var/folders/z3/zc5j75dj0qn_z2sp8qf47q340000gn/T/ipykernel_63108/652174667.py:8: ResourceWarning: unclosed <socket.socket fd=84, family=AddressFamily.AF_INET, type=SocketKind.SOCK_STREAM, proto=6, laddr=('127.0.0.1', 60662), raddr=('127.0.0.1', 11434)>\n",
      "  analyzer = GraphRAGSystem(row[\"question\"])\n",
      "ResourceWarning: Enable tracemalloc to get the object allocation traceback\n"
     ]
    },
    {
     "name": "stdout",
     "output_type": "stream",
     "text": [
      "Question 238: Can optical coherence tomography angiography detect wet AMD?\n",
      "Context: O...\n",
      "Response: True\n",
      "\n"
     ]
    },
    {
     "name": "stderr",
     "output_type": "stream",
     "text": [
      "/var/folders/z3/zc5j75dj0qn_z2sp8qf47q340000gn/T/ipykernel_63108/652174667.py:8: ResourceWarning: unclosed <socket.socket fd=84, family=AddressFamily.AF_INET, type=SocketKind.SOCK_STREAM, proto=6, laddr=('127.0.0.1', 60688), raddr=('127.0.0.1', 11434)>\n",
      "  analyzer = GraphRAGSystem(row[\"question\"])\n",
      "ResourceWarning: Enable tracemalloc to get the object allocation traceback\n"
     ]
    },
    {
     "name": "stdout",
     "output_type": "stream",
     "text": [
      "Question 239: Is AMD a disease of the vitreous?\n",
      "Context: T...\n",
      "Response: False.\n",
      "\n"
     ]
    },
    {
     "name": "stderr",
     "output_type": "stream",
     "text": [
      "/var/folders/z3/zc5j75dj0qn_z2sp8qf47q340000gn/T/ipykernel_63108/652174667.py:8: ResourceWarning: unclosed <socket.socket fd=84, family=AddressFamily.AF_INET, type=SocketKind.SOCK_STREAM, proto=6, laddr=('127.0.0.1', 60712), raddr=('127.0.0.1', 11434)>\n",
      "  analyzer = GraphRAGSystem(row[\"question\"])\n",
      "ResourceWarning: Enable tracemalloc to get the object allocation traceback\n"
     ]
    },
    {
     "name": "stdout",
     "output_type": "stream",
     "text": [
      "Question 240: Does AMD impair the ability to see edges clearly?\n",
      "Context: T...\n",
      "Response: False.\n",
      "\n"
     ]
    },
    {
     "name": "stderr",
     "output_type": "stream",
     "text": [
      "/var/folders/z3/zc5j75dj0qn_z2sp8qf47q340000gn/T/ipykernel_63108/652174667.py:8: ResourceWarning: unclosed <socket.socket fd=84, family=AddressFamily.AF_INET, type=SocketKind.SOCK_STREAM, proto=6, laddr=('127.0.0.1', 60735), raddr=('127.0.0.1', 11434)>\n",
      "  analyzer = GraphRAGSystem(row[\"question\"])\n",
      "ResourceWarning: Enable tracemalloc to get the object allocation traceback\n"
     ]
    },
    {
     "name": "stdout",
     "output_type": "stream",
     "text": [
      "Question 241: Can AMD be diagnosed with a skin test?\n",
      "Context: T...\n",
      "Response: False.\n",
      "\n"
     ]
    },
    {
     "name": "stderr",
     "output_type": "stream",
     "text": [
      "/var/folders/z3/zc5j75dj0qn_z2sp8qf47q340000gn/T/ipykernel_63108/652174667.py:8: ResourceWarning: unclosed <socket.socket fd=84, family=AddressFamily.AF_INET, type=SocketKind.SOCK_STREAM, proto=6, laddr=('127.0.0.1', 60761), raddr=('127.0.0.1', 11434)>\n",
      "  analyzer = GraphRAGSystem(row[\"question\"])\n",
      "ResourceWarning: Enable tracemalloc to get the object allocation traceback\n"
     ]
    },
    {
     "name": "stdout",
     "output_type": "stream",
     "text": [
      "Question 242: Is home vision testing useful for monitoring AMD?\n",
      "Context: H...\n",
      "Response: True\n",
      "\n"
     ]
    },
    {
     "name": "stderr",
     "output_type": "stream",
     "text": [
      "/var/folders/z3/zc5j75dj0qn_z2sp8qf47q340000gn/T/ipykernel_63108/652174667.py:8: ResourceWarning: unclosed <socket.socket fd=84, family=AddressFamily.AF_INET, type=SocketKind.SOCK_STREAM, proto=6, laddr=('127.0.0.1', 60783), raddr=('127.0.0.1', 11434)>\n",
      "  analyzer = GraphRAGSystem(row[\"question\"])\n",
      "ResourceWarning: Enable tracemalloc to get the object allocation traceback\n"
     ]
    },
    {
     "name": "stdout",
     "output_type": "stream",
     "text": [
      "Question 243: Does wet AMD cause subretinal fluid accumulation?\n",
      "Context: T...\n",
      "Response: True.\n",
      "\n"
     ]
    },
    {
     "name": "stderr",
     "output_type": "stream",
     "text": [
      "/var/folders/z3/zc5j75dj0qn_z2sp8qf47q340000gn/T/ipykernel_63108/652174667.py:8: ResourceWarning: unclosed <socket.socket fd=84, family=AddressFamily.AF_INET, type=SocketKind.SOCK_STREAM, proto=6, laddr=('127.0.0.1', 60813), raddr=('127.0.0.1', 11434)>\n",
      "  analyzer = GraphRAGSystem(row[\"question\"])\n",
      "ResourceWarning: Enable tracemalloc to get the object allocation traceback\n"
     ]
    },
    {
     "name": "stdout",
     "output_type": "stream",
     "text": [
      "Question 244: Is intermediate AMD characterized by larger drusen?\n",
      "Context: T...\n",
      "Response: True\n",
      "\n"
     ]
    },
    {
     "name": "stderr",
     "output_type": "stream",
     "text": [
      "/var/folders/z3/zc5j75dj0qn_z2sp8qf47q340000gn/T/ipykernel_63108/652174667.py:8: ResourceWarning: unclosed <socket.socket fd=84, family=AddressFamily.AF_INET, type=SocketKind.SOCK_STREAM, proto=6, laddr=('127.0.0.1', 60842), raddr=('127.0.0.1', 11434)>\n",
      "  analyzer = GraphRAGSystem(row[\"question\"])\n",
      "ResourceWarning: Enable tracemalloc to get the object allocation traceback\n"
     ]
    },
    {
     "name": "stdout",
     "output_type": "stream",
     "text": [
      "Question 245: Can AMD be cured with over-the-counter painkillers?\n",
      "Context: T...\n",
      "Response: True\n",
      "\n"
     ]
    },
    {
     "name": "stderr",
     "output_type": "stream",
     "text": [
      "/var/folders/z3/zc5j75dj0qn_z2sp8qf47q340000gn/T/ipykernel_63108/652174667.py:8: ResourceWarning: unclosed <socket.socket fd=84, family=AddressFamily.AF_INET, type=SocketKind.SOCK_STREAM, proto=6, laddr=('127.0.0.1', 60866), raddr=('127.0.0.1', 11434)>\n",
      "  analyzer = GraphRAGSystem(row[\"question\"])\n",
      "ResourceWarning: Enable tracemalloc to get the object allocation traceback\n"
     ]
    },
    {
     "name": "stdout",
     "output_type": "stream",
     "text": [
      "Question 246: Does chronic inflammation increase AMD risk?\n",
      "Context: T...\n",
      "Response: True\n",
      "\n"
     ]
    },
    {
     "name": "stderr",
     "output_type": "stream",
     "text": [
      "/var/folders/z3/zc5j75dj0qn_z2sp8qf47q340000gn/T/ipykernel_63108/652174667.py:8: ResourceWarning: unclosed <socket.socket fd=84, family=AddressFamily.AF_INET, type=SocketKind.SOCK_STREAM, proto=6, laddr=('127.0.0.1', 60894), raddr=('127.0.0.1', 11434)>\n",
      "  analyzer = GraphRAGSystem(row[\"question\"])\n",
      "ResourceWarning: Enable tracemalloc to get the object allocation traceback\n"
     ]
    },
    {
     "name": "stdout",
     "output_type": "stream",
     "text": [
      "Question 247: Is AMD caused by excessive exposure to cold weather?\n",
      "Context: T...\n",
      "Response: False.\n",
      "\n"
     ]
    },
    {
     "name": "stderr",
     "output_type": "stream",
     "text": [
      "/var/folders/z3/zc5j75dj0qn_z2sp8qf47q340000gn/T/ipykernel_63108/652174667.py:8: ResourceWarning: unclosed <socket.socket fd=84, family=AddressFamily.AF_INET, type=SocketKind.SOCK_STREAM, proto=6, laddr=('127.0.0.1', 60917), raddr=('127.0.0.1', 11434)>\n",
      "  analyzer = GraphRAGSystem(row[\"question\"])\n",
      "ResourceWarning: Enable tracemalloc to get the object allocation traceback\n"
     ]
    },
    {
     "name": "stdout",
     "output_type": "stream",
     "text": [
      "Question 248: Can visual rehabilitation help manage AMD symptoms?\n",
      "Context: T...\n",
      "Response: True\n",
      "\n"
     ]
    },
    {
     "name": "stderr",
     "output_type": "stream",
     "text": [
      "/var/folders/z3/zc5j75dj0qn_z2sp8qf47q340000gn/T/ipykernel_63108/652174667.py:8: ResourceWarning: unclosed <socket.socket fd=84, family=AddressFamily.AF_INET, type=SocketKind.SOCK_STREAM, proto=6, laddr=('127.0.0.1', 60944), raddr=('127.0.0.1', 11434)>\n",
      "  analyzer = GraphRAGSystem(row[\"question\"])\n",
      "ResourceWarning: Enable tracemalloc to get the object allocation traceback\n"
     ]
    },
    {
     "name": "stdout",
     "output_type": "stream",
     "text": [
      "Question 249: Does AMD affect the pupil directly?\n",
      "Context: T...\n",
      "Response: False.\n",
      "\n"
     ]
    },
    {
     "name": "stderr",
     "output_type": "stream",
     "text": [
      "/var/folders/z3/zc5j75dj0qn_z2sp8qf47q340000gn/T/ipykernel_63108/652174667.py:8: ResourceWarning: unclosed <socket.socket fd=84, family=AddressFamily.AF_INET, type=SocketKind.SOCK_STREAM, proto=6, laddr=('127.0.0.1', 60970), raddr=('127.0.0.1', 11434)>\n",
      "  analyzer = GraphRAGSystem(row[\"question\"])\n",
      "ResourceWarning: Enable tracemalloc to get the object allocation traceback\n"
     ]
    },
    {
     "name": "stdout",
     "output_type": "stream",
     "text": [
      "Question 250: Is retinal hypoxia a factor in AMD progression?\n",
      "Context: R...\n",
      "Response: True\n",
      "\n"
     ]
    },
    {
     "name": "stderr",
     "output_type": "stream",
     "text": [
      "/var/folders/z3/zc5j75dj0qn_z2sp8qf47q340000gn/T/ipykernel_63108/652174667.py:8: ResourceWarning: unclosed <socket.socket fd=84, family=AddressFamily.AF_INET, type=SocketKind.SOCK_STREAM, proto=6, laddr=('127.0.0.1', 60992), raddr=('127.0.0.1', 11434)>\n",
      "  analyzer = GraphRAGSystem(row[\"question\"])\n",
      "ResourceWarning: Enable tracemalloc to get the object allocation traceback\n"
     ]
    },
    {
     "name": "stdout",
     "output_type": "stream",
     "text": [
      "Question 251: Can AMD be reversed with chiropractic care?\n",
      "Context: S...\n",
      "Response: False.\n",
      "\n"
     ]
    },
    {
     "name": "stderr",
     "output_type": "stream",
     "text": [
      "/var/folders/z3/zc5j75dj0qn_z2sp8qf47q340000gn/T/ipykernel_63108/652174667.py:8: ResourceWarning: unclosed <socket.socket fd=84, family=AddressFamily.AF_INET, type=SocketKind.SOCK_STREAM, proto=6, laddr=('127.0.0.1', 61022), raddr=('127.0.0.1', 11434)>\n",
      "  analyzer = GraphRAGSystem(row[\"question\"])\n",
      "ResourceWarning: Enable tracemalloc to get the object allocation traceback\n"
     ]
    },
    {
     "name": "stdout",
     "output_type": "stream",
     "text": [
      "Question 252: Does AMD cause difficulty threading a needle?\n",
      "Context: T...\n",
      "Response: TRUE\n",
      "\n"
     ]
    },
    {
     "name": "stderr",
     "output_type": "stream",
     "text": [
      "/var/folders/z3/zc5j75dj0qn_z2sp8qf47q340000gn/T/ipykernel_63108/652174667.py:8: ResourceWarning: unclosed <socket.socket fd=84, family=AddressFamily.AF_INET, type=SocketKind.SOCK_STREAM, proto=6, laddr=('127.0.0.1', 61045), raddr=('127.0.0.1', 11434)>\n",
      "  analyzer = GraphRAGSystem(row[\"question\"])\n",
      "ResourceWarning: Enable tracemalloc to get the object allocation traceback\n"
     ]
    },
    {
     "name": "stdout",
     "output_type": "stream",
     "text": [
      "Question 253: Is AMD caused by a lack of dietary protein?\n",
      "Context: T...\n",
      "Response: False\n",
      "\n"
     ]
    },
    {
     "name": "stderr",
     "output_type": "stream",
     "text": [
      "/var/folders/z3/zc5j75dj0qn_z2sp8qf47q340000gn/T/ipykernel_63108/652174667.py:8: ResourceWarning: unclosed <socket.socket fd=84, family=AddressFamily.AF_INET, type=SocketKind.SOCK_STREAM, proto=6, laddr=('127.0.0.1', 61071), raddr=('127.0.0.1', 11434)>\n",
      "  analyzer = GraphRAGSystem(row[\"question\"])\n",
      "ResourceWarning: Enable tracemalloc to get the object allocation traceback\n"
     ]
    },
    {
     "name": "stdout",
     "output_type": "stream",
     "text": [
      "Question 254: Can advanced AMD limit independence?\n",
      "Context: T...\n",
      "Response: True\n",
      "\n"
     ]
    },
    {
     "name": "stderr",
     "output_type": "stream",
     "text": [
      "/var/folders/z3/zc5j75dj0qn_z2sp8qf47q340000gn/T/ipykernel_63108/652174667.py:8: ResourceWarning: unclosed <socket.socket fd=84, family=AddressFamily.AF_INET, type=SocketKind.SOCK_STREAM, proto=6, laddr=('127.0.0.1', 61094), raddr=('127.0.0.1', 11434)>\n",
      "  analyzer = GraphRAGSystem(row[\"question\"])\n",
      "ResourceWarning: Enable tracemalloc to get the object allocation traceback\n"
     ]
    },
    {
     "name": "stdout",
     "output_type": "stream",
     "text": [
      "Question 255: Does wet AMD cause gradual central vision recovery?\n",
      "Context: S...\n",
      "Response: False.\n",
      "\n"
     ]
    },
    {
     "name": "stderr",
     "output_type": "stream",
     "text": [
      "/var/folders/z3/zc5j75dj0qn_z2sp8qf47q340000gn/T/ipykernel_63108/652174667.py:8: ResourceWarning: unclosed <socket.socket fd=84, family=AddressFamily.AF_INET, type=SocketKind.SOCK_STREAM, proto=6, laddr=('127.0.0.1', 61118), raddr=('127.0.0.1', 11434)>\n",
      "  analyzer = GraphRAGSystem(row[\"question\"])\n",
      "ResourceWarning: Enable tracemalloc to get the object allocation traceback\n"
     ]
    },
    {
     "name": "stdout",
     "output_type": "stream",
     "text": [
      "Question 256: Is AMD linked to difficulty seeing in crowded places?\n",
      "Context: T...\n",
      "Response: True\n",
      "\n"
     ]
    },
    {
     "name": "stderr",
     "output_type": "stream",
     "text": [
      "/var/folders/z3/zc5j75dj0qn_z2sp8qf47q340000gn/T/ipykernel_63108/652174667.py:8: ResourceWarning: unclosed <socket.socket fd=84, family=AddressFamily.AF_INET, type=SocketKind.SOCK_STREAM, proto=6, laddr=('127.0.0.1', 61141), raddr=('127.0.0.1', 11434)>\n",
      "  analyzer = GraphRAGSystem(row[\"question\"])\n",
      "ResourceWarning: Enable tracemalloc to get the object allocation traceback\n"
     ]
    },
    {
     "name": "stdout",
     "output_type": "stream",
     "text": [
      "Question 257: Can AMD be treated with dietary fat alone?\n",
      "Context: T...\n",
      "Response: False.\n",
      "\n"
     ]
    },
    {
     "name": "stderr",
     "output_type": "stream",
     "text": [
      "/var/folders/z3/zc5j75dj0qn_z2sp8qf47q340000gn/T/ipykernel_63108/652174667.py:8: ResourceWarning: unclosed <socket.socket fd=84, family=AddressFamily.AF_INET, type=SocketKind.SOCK_STREAM, proto=6, laddr=('127.0.0.1', 61165), raddr=('127.0.0.1', 11434)>\n",
      "  analyzer = GraphRAGSystem(row[\"question\"])\n",
      "ResourceWarning: Enable tracemalloc to get the object allocation traceback\n"
     ]
    },
    {
     "name": "stdout",
     "output_type": "stream",
     "text": [
      "Question 258: Does AMD increase the risk of tripping over objects?\n",
      "Context: T...\n",
      "Response: False\n",
      "\n"
     ]
    },
    {
     "name": "stderr",
     "output_type": "stream",
     "text": [
      "/var/folders/z3/zc5j75dj0qn_z2sp8qf47q340000gn/T/ipykernel_63108/652174667.py:8: ResourceWarning: unclosed <socket.socket fd=84, family=AddressFamily.AF_INET, type=SocketKind.SOCK_STREAM, proto=6, laddr=('127.0.0.1', 61193), raddr=('127.0.0.1', 11434)>\n",
      "  analyzer = GraphRAGSystem(row[\"question\"])\n",
      "ResourceWarning: Enable tracemalloc to get the object allocation traceback\n"
     ]
    },
    {
     "name": "stdout",
     "output_type": "stream",
     "text": [
      "Question 259: Is dry AMD treated with photodynamic therapy?\n",
      "Context: T...\n",
      "Response: False\n",
      "\n"
     ]
    },
    {
     "name": "stderr",
     "output_type": "stream",
     "text": [
      "/var/folders/z3/zc5j75dj0qn_z2sp8qf47q340000gn/T/ipykernel_63108/652174667.py:8: ResourceWarning: unclosed <socket.socket fd=84, family=AddressFamily.AF_INET, type=SocketKind.SOCK_STREAM, proto=6, laddr=('127.0.0.1', 61220), raddr=('127.0.0.1', 11434)>\n",
      "  analyzer = GraphRAGSystem(row[\"question\"])\n",
      "ResourceWarning: Enable tracemalloc to get the object allocation traceback\n"
     ]
    },
    {
     "name": "stdout",
     "output_type": "stream",
     "text": [
      "Question 260: Can quitting smoking slow AMD progression?\n",
      "Context: T...\n",
      "Response: True\n",
      "\n"
     ]
    },
    {
     "name": "stderr",
     "output_type": "stream",
     "text": [
      "/var/folders/z3/zc5j75dj0qn_z2sp8qf47q340000gn/T/ipykernel_63108/652174667.py:8: ResourceWarning: unclosed <socket.socket fd=84, family=AddressFamily.AF_INET, type=SocketKind.SOCK_STREAM, proto=6, laddr=('127.0.0.1', 61244), raddr=('127.0.0.1', 11434)>\n",
      "  analyzer = GraphRAGSystem(row[\"question\"])\n",
      "ResourceWarning: Enable tracemalloc to get the object allocation traceback\n"
     ]
    },
    {
     "name": "stdout",
     "output_type": "stream",
     "text": [
      "Question 261: Does AMD cause inflammation of the cornea?\n",
      "Context: T...\n",
      "Response: True\n",
      "\n"
     ]
    },
    {
     "name": "stderr",
     "output_type": "stream",
     "text": [
      "/var/folders/z3/zc5j75dj0qn_z2sp8qf47q340000gn/T/ipykernel_63108/652174667.py:8: ResourceWarning: unclosed <socket.socket fd=84, family=AddressFamily.AF_INET, type=SocketKind.SOCK_STREAM, proto=6, laddr=('127.0.0.1', 61268), raddr=('127.0.0.1', 11434)>\n",
      "  analyzer = GraphRAGSystem(row[\"question\"])\n",
      "ResourceWarning: Enable tracemalloc to get the object allocation traceback\n"
     ]
    },
    {
     "name": "stdout",
     "output_type": "stream",
     "text": [
      "Question 262: Is AMD associated with reduced ability to see details in art?\n",
      "Context: A...\n",
      "Response: True\n",
      "\n"
     ]
    },
    {
     "name": "stderr",
     "output_type": "stream",
     "text": [
      "/var/folders/z3/zc5j75dj0qn_z2sp8qf47q340000gn/T/ipykernel_63108/652174667.py:8: ResourceWarning: unclosed <socket.socket fd=84, family=AddressFamily.AF_INET, type=SocketKind.SOCK_STREAM, proto=6, laddr=('127.0.0.1', 61294), raddr=('127.0.0.1', 11434)>\n",
      "  analyzer = GraphRAGSystem(row[\"question\"])\n",
      "ResourceWarning: Enable tracemalloc to get the object allocation traceback\n"
     ]
    },
    {
     "name": "stdout",
     "output_type": "stream",
     "text": [
      "Question 263: Does wet AMD cause a dark central patch?\n",
      "Context: T...\n",
      "Response: True\n",
      "\n"
     ]
    },
    {
     "name": "stderr",
     "output_type": "stream",
     "text": [
      "/var/folders/z3/zc5j75dj0qn_z2sp8qf47q340000gn/T/ipykernel_63108/652174667.py:8: ResourceWarning: unclosed <socket.socket fd=84, family=AddressFamily.AF_INET, type=SocketKind.SOCK_STREAM, proto=6, laddr=('127.0.0.1', 61318), raddr=('127.0.0.1', 11434)>\n",
      "  analyzer = GraphRAGSystem(row[\"question\"])\n",
      "ResourceWarning: Enable tracemalloc to get the object allocation traceback\n"
     ]
    },
    {
     "name": "stdout",
     "output_type": "stream",
     "text": [
      "Question 264: Is AMD caused by excessive use of air conditioning?\n",
      "Context: T...\n",
      "Response: False\n",
      "\n"
     ]
    },
    {
     "name": "stderr",
     "output_type": "stream",
     "text": [
      "/var/folders/z3/zc5j75dj0qn_z2sp8qf47q340000gn/T/ipykernel_63108/652174667.py:8: ResourceWarning: unclosed <socket.socket fd=84, family=AddressFamily.AF_INET, type=SocketKind.SOCK_STREAM, proto=6, laddr=('127.0.0.1', 61347), raddr=('127.0.0.1', 11434)>\n",
      "  analyzer = GraphRAGSystem(row[\"question\"])\n",
      "ResourceWarning: Enable tracemalloc to get the object allocation traceback\n"
     ]
    },
    {
     "name": "stdout",
     "output_type": "stream",
     "text": [
      "Question 265: Can AMD affect the ability to enjoy birdwatching?\n",
      "Context: A...\n",
      "Response: True\n",
      "\n"
     ]
    },
    {
     "name": "stderr",
     "output_type": "stream",
     "text": [
      "/var/folders/z3/zc5j75dj0qn_z2sp8qf47q340000gn/T/ipykernel_63108/652174667.py:8: ResourceWarning: unclosed <socket.socket fd=84, family=AddressFamily.AF_INET, type=SocketKind.SOCK_STREAM, proto=6, laddr=('127.0.0.1', 61376), raddr=('127.0.0.1', 11434)>\n",
      "  analyzer = GraphRAGSystem(row[\"question\"])\n",
      "ResourceWarning: Enable tracemalloc to get the object allocation traceback\n"
     ]
    },
    {
     "name": "stdout",
     "output_type": "stream",
     "text": [
      "Question 266: Does dry AMD cause optic nerve swelling?\n",
      "Context: T...\n",
      "Response: False.\n",
      "\n"
     ]
    },
    {
     "name": "stderr",
     "output_type": "stream",
     "text": [
      "/var/folders/z3/zc5j75dj0qn_z2sp8qf47q340000gn/T/ipykernel_63108/652174667.py:8: ResourceWarning: unclosed <socket.socket fd=84, family=AddressFamily.AF_INET, type=SocketKind.SOCK_STREAM, proto=6, laddr=('127.0.0.1', 61402), raddr=('127.0.0.1', 11434)>\n",
      "  analyzer = GraphRAGSystem(row[\"question\"])\n",
      "ResourceWarning: Enable tracemalloc to get the object allocation traceback\n"
     ]
    },
    {
     "name": "stdout",
     "output_type": "stream",
     "text": [
      "Question 267: Is AMD detectable with regular vision screenings?\n",
      "Context: T...\n",
      "Response: False\n",
      "\n"
     ]
    },
    {
     "name": "stderr",
     "output_type": "stream",
     "text": [
      "/var/folders/z3/zc5j75dj0qn_z2sp8qf47q340000gn/T/ipykernel_63108/652174667.py:8: ResourceWarning: unclosed <socket.socket fd=84, family=AddressFamily.AF_INET, type=SocketKind.SOCK_STREAM, proto=6, laddr=('127.0.0.1', 61429), raddr=('127.0.0.1', 11434)>\n",
      "  analyzer = GraphRAGSystem(row[\"question\"])\n",
      "ResourceWarning: Enable tracemalloc to get the object allocation traceback\n"
     ]
    },
    {
     "name": "stdout",
     "output_type": "stream",
     "text": [
      "Question 268: Can AMD be cured with heat therapy?\n",
      "Context: H...\n",
      "Response: False.\n",
      "\n"
     ]
    },
    {
     "name": "stderr",
     "output_type": "stream",
     "text": [
      "/var/folders/z3/zc5j75dj0qn_z2sp8qf47q340000gn/T/ipykernel_63108/652174667.py:8: ResourceWarning: unclosed <socket.socket fd=84, family=AddressFamily.AF_INET, type=SocketKind.SOCK_STREAM, proto=6, laddr=('127.0.0.1', 61454), raddr=('127.0.0.1', 11434)>\n",
      "  analyzer = GraphRAGSystem(row[\"question\"])\n",
      "ResourceWarning: Enable tracemalloc to get the object allocation traceback\n"
     ]
    },
    {
     "name": "stdout",
     "output_type": "stream",
     "text": [
      "Question 269: Does AMD cause difficulty seeing in bright sunlight?\n",
      "Context: T...\n",
      "Response: TRUE\n",
      "\n"
     ]
    },
    {
     "name": "stderr",
     "output_type": "stream",
     "text": [
      "/var/folders/z3/zc5j75dj0qn_z2sp8qf47q340000gn/T/ipykernel_63108/652174667.py:8: ResourceWarning: unclosed <socket.socket fd=84, family=AddressFamily.AF_INET, type=SocketKind.SOCK_STREAM, proto=6, laddr=('127.0.0.1', 61480), raddr=('127.0.0.1', 11434)>\n",
      "  analyzer = GraphRAGSystem(row[\"question\"])\n",
      "ResourceWarning: Enable tracemalloc to get the object allocation traceback\n"
     ]
    },
    {
     "name": "stdout",
     "output_type": "stream",
     "text": [
      "Question 270: Is wet AMD caused by a lack of dietary fiber?\n",
      "Context: T...\n",
      "Response: False\n",
      "\n"
     ]
    },
    {
     "name": "stderr",
     "output_type": "stream",
     "text": [
      "/var/folders/z3/zc5j75dj0qn_z2sp8qf47q340000gn/T/ipykernel_63108/652174667.py:8: ResourceWarning: unclosed <socket.socket fd=84, family=AddressFamily.AF_INET, type=SocketKind.SOCK_STREAM, proto=6, laddr=('127.0.0.1', 61503), raddr=('127.0.0.1', 11434)>\n",
      "  analyzer = GraphRAGSystem(row[\"question\"])\n",
      "ResourceWarning: Enable tracemalloc to get the object allocation traceback\n"
     ]
    },
    {
     "name": "stdout",
     "output_type": "stream",
     "text": [
      "Question 271: Can AMD increase the need for reading glasses?\n",
      "Context: T...\n",
      "Response: True\n",
      "\n"
     ]
    },
    {
     "name": "stderr",
     "output_type": "stream",
     "text": [
      "/var/folders/z3/zc5j75dj0qn_z2sp8qf47q340000gn/T/ipykernel_63108/652174667.py:8: ResourceWarning: unclosed <socket.socket fd=84, family=AddressFamily.AF_INET, type=SocketKind.SOCK_STREAM, proto=6, laddr=('127.0.0.1', 61527), raddr=('127.0.0.1', 11434)>\n",
      "  analyzer = GraphRAGSystem(row[\"question\"])\n",
      "ResourceWarning: Enable tracemalloc to get the object allocation traceback\n"
     ]
    },
    {
     "name": "stdout",
     "output_type": "stream",
     "text": [
      "Question 272: Does AMD affect the choroid directly?\n",
      "Context: T...\n",
      "Response: True.\n",
      "\n"
     ]
    },
    {
     "name": "stderr",
     "output_type": "stream",
     "text": [
      "/var/folders/z3/zc5j75dj0qn_z2sp8qf47q340000gn/T/ipykernel_63108/652174667.py:8: ResourceWarning: unclosed <socket.socket fd=84, family=AddressFamily.AF_INET, type=SocketKind.SOCK_STREAM, proto=6, laddr=('127.0.0.1', 61555), raddr=('127.0.0.1', 11434)>\n",
      "  analyzer = GraphRAGSystem(row[\"question\"])\n",
      "ResourceWarning: Enable tracemalloc to get the object allocation traceback\n"
     ]
    },
    {
     "name": "stdout",
     "output_type": "stream",
     "text": [
      "Question 273: Is AMD linked to difficulty distinguishing similar colors?\n",
      "Context: T...\n",
      "Response: True\n",
      "\n"
     ]
    },
    {
     "name": "stderr",
     "output_type": "stream",
     "text": [
      "/var/folders/z3/zc5j75dj0qn_z2sp8qf47q340000gn/T/ipykernel_63108/652174667.py:8: ResourceWarning: unclosed <socket.socket fd=84, family=AddressFamily.AF_INET, type=SocketKind.SOCK_STREAM, proto=6, laddr=('127.0.0.1', 61582), raddr=('127.0.0.1', 11434)>\n",
      "  analyzer = GraphRAGSystem(row[\"question\"])\n",
      "ResourceWarning: Enable tracemalloc to get the object allocation traceback\n"
     ]
    },
    {
     "name": "stdout",
     "output_type": "stream",
     "text": [
      "Question 274: Can AMD be prevented by avoiding all dairy products?\n",
      "Context: T...\n",
      "Response: False\n",
      "\n"
     ]
    },
    {
     "name": "stderr",
     "output_type": "stream",
     "text": [
      "/var/folders/z3/zc5j75dj0qn_z2sp8qf47q340000gn/T/ipykernel_63108/652174667.py:8: ResourceWarning: unclosed <socket.socket fd=84, family=AddressFamily.AF_INET, type=SocketKind.SOCK_STREAM, proto=6, laddr=('127.0.0.1', 61607), raddr=('127.0.0.1', 11434)>\n",
      "  analyzer = GraphRAGSystem(row[\"question\"])\n",
      "ResourceWarning: Enable tracemalloc to get the object allocation traceback\n"
     ]
    },
    {
     "name": "stdout",
     "output_type": "stream",
     "text": [
      "Question 275: Does wet AMD cause vision to appear bent?\n",
      "Context: T...\n",
      "Response: True\n",
      "\n"
     ]
    },
    {
     "name": "stderr",
     "output_type": "stream",
     "text": [
      "/var/folders/z3/zc5j75dj0qn_z2sp8qf47q340000gn/T/ipykernel_63108/652174667.py:8: ResourceWarning: unclosed <socket.socket fd=84, family=AddressFamily.AF_INET, type=SocketKind.SOCK_STREAM, proto=6, laddr=('127.0.0.1', 61631), raddr=('127.0.0.1', 11434)>\n",
      "  analyzer = GraphRAGSystem(row[\"question\"])\n",
      "ResourceWarning: Enable tracemalloc to get the object allocation traceback\n"
     ]
    },
    {
     "name": "stdout",
     "output_type": "stream",
     "text": [
      "Question 276: Is AMD caused by excessive use of cleaning products?\n",
      "Context: T...\n",
      "Response: False\n",
      "\n"
     ]
    },
    {
     "name": "stderr",
     "output_type": "stream",
     "text": [
      "/var/folders/z3/zc5j75dj0qn_z2sp8qf47q340000gn/T/ipykernel_63108/652174667.py:8: ResourceWarning: unclosed <socket.socket fd=84, family=AddressFamily.AF_INET, type=SocketKind.SOCK_STREAM, proto=6, laddr=('127.0.0.1', 61655), raddr=('127.0.0.1', 11434)>\n",
      "  analyzer = GraphRAGSystem(row[\"question\"])\n",
      "ResourceWarning: Enable tracemalloc to get the object allocation traceback\n"
     ]
    },
    {
     "name": "stdout",
     "output_type": "stream",
     "text": [
      "Question 277: Can AMD lead to challenges with buttoning a shirt?\n",
      "Context: T...\n",
      "Response: TRUE\n",
      "\n"
     ]
    },
    {
     "name": "stderr",
     "output_type": "stream",
     "text": [
      "/var/folders/z3/zc5j75dj0qn_z2sp8qf47q340000gn/T/ipykernel_63108/652174667.py:8: ResourceWarning: unclosed <socket.socket fd=84, family=AddressFamily.AF_INET, type=SocketKind.SOCK_STREAM, proto=6, laddr=('127.0.0.1', 61680), raddr=('127.0.0.1', 11434)>\n",
      "  analyzer = GraphRAGSystem(row[\"question\"])\n",
      "ResourceWarning: Enable tracemalloc to get the object allocation traceback\n"
     ]
    },
    {
     "name": "stdout",
     "output_type": "stream",
     "text": [
      "Question 278: Does dry AMD cause retinal pigment regeneration?\n",
      "Context: T...\n",
      "Response: FALSE.\n",
      "\n"
     ]
    },
    {
     "name": "stderr",
     "output_type": "stream",
     "text": [
      "/var/folders/z3/zc5j75dj0qn_z2sp8qf47q340000gn/T/ipykernel_63108/652174667.py:8: ResourceWarning: unclosed <socket.socket fd=84, family=AddressFamily.AF_INET, type=SocketKind.SOCK_STREAM, proto=6, laddr=('127.0.0.1', 61701), raddr=('127.0.0.1', 11434)>\n",
      "  analyzer = GraphRAGSystem(row[\"question\"])\n",
      "ResourceWarning: Enable tracemalloc to get the object allocation traceback\n"
     ]
    },
    {
     "name": "stdout",
     "output_type": "stream",
     "text": [
      "Question 279: Is AMD associated with difficulty seeing clock faces?\n",
      "Context: S...\n",
      "Response: True\n",
      "\n"
     ]
    },
    {
     "name": "stderr",
     "output_type": "stream",
     "text": [
      "/var/folders/z3/zc5j75dj0qn_z2sp8qf47q340000gn/T/ipykernel_63108/652174667.py:8: ResourceWarning: unclosed <socket.socket fd=84, family=AddressFamily.AF_INET, type=SocketKind.SOCK_STREAM, proto=6, laddr=('127.0.0.1', 61730), raddr=('127.0.0.1', 11434)>\n",
      "  analyzer = GraphRAGSystem(row[\"question\"])\n",
      "ResourceWarning: Enable tracemalloc to get the object allocation traceback\n"
     ]
    },
    {
     "name": "stdout",
     "output_type": "stream",
     "text": [
      "Question 280: Can AMD be treated with herbal tea?\n",
      "Context: T...\n",
      "Response: False\n",
      "\n"
     ]
    },
    {
     "name": "stderr",
     "output_type": "stream",
     "text": [
      "/var/folders/z3/zc5j75dj0qn_z2sp8qf47q340000gn/T/ipykernel_63108/652174667.py:8: ResourceWarning: unclosed <socket.socket fd=84, family=AddressFamily.AF_INET, type=SocketKind.SOCK_STREAM, proto=6, laddr=('127.0.0.1', 61755), raddr=('127.0.0.1', 11434)>\n",
      "  analyzer = GraphRAGSystem(row[\"question\"])\n",
      "ResourceWarning: Enable tracemalloc to get the object allocation traceback\n"
     ]
    },
    {
     "name": "stdout",
     "output_type": "stream",
     "text": [
      "Question 281: Does AMD affect the ability to see fine print on labels?\n",
      "Context: T...\n",
      "Response: True\n",
      "\n"
     ]
    },
    {
     "name": "stderr",
     "output_type": "stream",
     "text": [
      "/var/folders/z3/zc5j75dj0qn_z2sp8qf47q340000gn/T/ipykernel_63108/652174667.py:8: ResourceWarning: unclosed <socket.socket fd=84, family=AddressFamily.AF_INET, type=SocketKind.SOCK_STREAM, proto=6, laddr=('127.0.0.1', 61778), raddr=('127.0.0.1', 11434)>\n",
      "  analyzer = GraphRAGSystem(row[\"question\"])\n",
      "ResourceWarning: Enable tracemalloc to get the object allocation traceback\n"
     ]
    },
    {
     "name": "stdout",
     "output_type": "stream",
     "text": [
      "Question 282: Is AMD caused by excessive exposure to rain?\n",
      "Context: T...\n",
      "Response: FALSE\n",
      "\n"
     ]
    },
    {
     "name": "stderr",
     "output_type": "stream",
     "text": [
      "/var/folders/z3/zc5j75dj0qn_z2sp8qf47q340000gn/T/ipykernel_63108/652174667.py:8: ResourceWarning: unclosed <socket.socket fd=84, family=AddressFamily.AF_INET, type=SocketKind.SOCK_STREAM, proto=6, laddr=('127.0.0.1', 61805), raddr=('127.0.0.1', 11434)>\n",
      "  analyzer = GraphRAGSystem(row[\"question\"])\n",
      "ResourceWarning: Enable tracemalloc to get the object allocation traceback\n"
     ]
    },
    {
     "name": "stdout",
     "output_type": "stream",
     "text": [
      "Question 283: Can AMD impair the ability to see numbers on a phone?\n",
      "Context: T...\n",
      "Response: False\n",
      "\n"
     ]
    },
    {
     "name": "stderr",
     "output_type": "stream",
     "text": [
      "/var/folders/z3/zc5j75dj0qn_z2sp8qf47q340000gn/T/ipykernel_63108/652174667.py:8: ResourceWarning: unclosed <socket.socket fd=84, family=AddressFamily.AF_INET, type=SocketKind.SOCK_STREAM, proto=6, laddr=('127.0.0.1', 61837), raddr=('127.0.0.1', 11434)>\n",
      "  analyzer = GraphRAGSystem(row[\"question\"])\n",
      "ResourceWarning: Enable tracemalloc to get the object allocation traceback\n"
     ]
    },
    {
     "name": "stdout",
     "output_type": "stream",
     "text": [
      "Question 284: Does wet AMD cause inflammation of the sclera?\n",
      "Context: A...\n",
      "Response: False.\n",
      "\n"
     ]
    },
    {
     "name": "stderr",
     "output_type": "stream",
     "text": [
      "/var/folders/z3/zc5j75dj0qn_z2sp8qf47q340000gn/T/ipykernel_63108/652174667.py:8: ResourceWarning: unclosed <socket.socket fd=84, family=AddressFamily.AF_INET, type=SocketKind.SOCK_STREAM, proto=6, laddr=('127.0.0.1', 61868), raddr=('127.0.0.1', 11434)>\n",
      "  analyzer = GraphRAGSystem(row[\"question\"])\n",
      "ResourceWarning: Enable tracemalloc to get the object allocation traceback\n"
     ]
    },
    {
     "name": "stdout",
     "output_type": "stream",
     "text": [
      "Question 285: Is AMD linked to difficulty seeing in hazy conditions?\n",
      "Context: T...\n",
      "Response: TRUE\n",
      "\n"
     ]
    },
    {
     "name": "stderr",
     "output_type": "stream",
     "text": [
      "/var/folders/z3/zc5j75dj0qn_z2sp8qf47q340000gn/T/ipykernel_63108/652174667.py:8: ResourceWarning: unclosed <socket.socket fd=84, family=AddressFamily.AF_INET, type=SocketKind.SOCK_STREAM, proto=6, laddr=('127.0.0.1', 61896), raddr=('127.0.0.1', 11434)>\n",
      "  analyzer = GraphRAGSystem(row[\"question\"])\n",
      "ResourceWarning: Enable tracemalloc to get the object allocation traceback\n"
     ]
    },
    {
     "name": "stdout",
     "output_type": "stream",
     "text": [
      "Question 286: Can AMD be cured with essential oils?\n",
      "Context: T...\n",
      "Response: False.\n",
      "\n"
     ]
    },
    {
     "name": "stderr",
     "output_type": "stream",
     "text": [
      "/var/folders/z3/zc5j75dj0qn_z2sp8qf47q340000gn/T/ipykernel_63108/652174667.py:8: ResourceWarning: unclosed <socket.socket fd=84, family=AddressFamily.AF_INET, type=SocketKind.SOCK_STREAM, proto=6, laddr=('127.0.0.1', 61925), raddr=('127.0.0.1', 11434)>\n",
      "  analyzer = GraphRAGSystem(row[\"question\"])\n",
      "ResourceWarning: Enable tracemalloc to get the object allocation traceback\n"
     ]
    },
    {
     "name": "stdout",
     "output_type": "stream",
     "text": [
      "Question 287: Does AMD cause challenges with recognizing textures?\n",
      "Context: T...\n",
      "Response: True\n",
      "\n"
     ]
    },
    {
     "name": "stderr",
     "output_type": "stream",
     "text": [
      "/var/folders/z3/zc5j75dj0qn_z2sp8qf47q340000gn/T/ipykernel_63108/652174667.py:8: ResourceWarning: unclosed <socket.socket fd=84, family=AddressFamily.AF_INET, type=SocketKind.SOCK_STREAM, proto=6, laddr=('127.0.0.1', 61948), raddr=('127.0.0.1', 11434)>\n",
      "  analyzer = GraphRAGSystem(row[\"question\"])\n",
      "ResourceWarning: Enable tracemalloc to get the object allocation traceback\n"
     ]
    },
    {
     "name": "stdout",
     "output_type": "stream",
     "text": [
      "Question 288: Is dry AMD caused by excessive exposure to chlorine?\n",
      "Context: T...\n",
      "Response: False\n",
      "\n"
     ]
    },
    {
     "name": "stderr",
     "output_type": "stream",
     "text": [
      "/var/folders/z3/zc5j75dj0qn_z2sp8qf47q340000gn/T/ipykernel_63108/652174667.py:8: ResourceWarning: unclosed <socket.socket fd=84, family=AddressFamily.AF_INET, type=SocketKind.SOCK_STREAM, proto=6, laddr=('127.0.0.1', 61970), raddr=('127.0.0.1', 11434)>\n",
      "  analyzer = GraphRAGSystem(row[\"question\"])\n",
      "ResourceWarning: Enable tracemalloc to get the object allocation traceback\n"
     ]
    },
    {
     "name": "stdout",
     "output_type": "stream",
     "text": [
      "Question 289: Can AMD affect the ability to enjoy photography?\n",
      "Context: T...\n",
      "Response: True\n",
      "\n"
     ]
    },
    {
     "name": "stderr",
     "output_type": "stream",
     "text": [
      "/var/folders/z3/zc5j75dj0qn_z2sp8qf47q340000gn/T/ipykernel_63108/652174667.py:8: ResourceWarning: unclosed <socket.socket fd=84, family=AddressFamily.AF_INET, type=SocketKind.SOCK_STREAM, proto=6, laddr=('127.0.0.1', 61992), raddr=('127.0.0.1', 11434)>\n",
      "  analyzer = GraphRAGSystem(row[\"question\"])\n",
      "ResourceWarning: Enable tracemalloc to get the object allocation traceback\n"
     ]
    },
    {
     "name": "stdout",
     "output_type": "stream",
     "text": [
      "Question 290: Does AMD cause vision loss due to iris damage?\n",
      "Context: T...\n",
      "Response: False\n",
      "\n"
     ]
    },
    {
     "name": "stderr",
     "output_type": "stream",
     "text": [
      "/var/folders/z3/zc5j75dj0qn_z2sp8qf47q340000gn/T/ipykernel_63108/652174667.py:8: ResourceWarning: unclosed <socket.socket fd=84, family=AddressFamily.AF_INET, type=SocketKind.SOCK_STREAM, proto=6, laddr=('127.0.0.1', 62016), raddr=('127.0.0.1', 11434)>\n",
      "  analyzer = GraphRAGSystem(row[\"question\"])\n",
      "ResourceWarning: Enable tracemalloc to get the object allocation traceback\n"
     ]
    },
    {
     "name": "stdout",
     "output_type": "stream",
     "text": [
      "Question 291: Is AMD linked to difficulty seeing details on a menu?\n",
      "Context: T...\n",
      "Response: True\n",
      "\n"
     ]
    },
    {
     "name": "stderr",
     "output_type": "stream",
     "text": [
      "/var/folders/z3/zc5j75dj0qn_z2sp8qf47q340000gn/T/ipykernel_63108/652174667.py:8: ResourceWarning: unclosed <socket.socket fd=84, family=AddressFamily.AF_INET, type=SocketKind.SOCK_STREAM, proto=6, laddr=('127.0.0.1', 62040), raddr=('127.0.0.1', 11434)>\n",
      "  analyzer = GraphRAGSystem(row[\"question\"])\n",
      "ResourceWarning: Enable tracemalloc to get the object allocation traceback\n"
     ]
    },
    {
     "name": "stdout",
     "output_type": "stream",
     "text": [
      "Question 292: Can AMD be prevented by avoiding all spices?\n",
      "Context: T...\n",
      "Response: False.\n",
      "\n"
     ]
    },
    {
     "name": "stderr",
     "output_type": "stream",
     "text": [
      "/var/folders/z3/zc5j75dj0qn_z2sp8qf47q340000gn/T/ipykernel_63108/652174667.py:8: ResourceWarning: unclosed <socket.socket fd=84, family=AddressFamily.AF_INET, type=SocketKind.SOCK_STREAM, proto=6, laddr=('127.0.0.1', 62062), raddr=('127.0.0.1', 11434)>\n",
      "  analyzer = GraphRAGSystem(row[\"question\"])\n",
      "ResourceWarning: Enable tracemalloc to get the object allocation traceback\n"
     ]
    },
    {
     "name": "stdout",
     "output_type": "stream",
     "text": [
      "Question 293: Does wet AMD cause a central shadow in bright light?\n",
      "Context: T...\n",
      "Response: True\n",
      "\n"
     ]
    },
    {
     "name": "stderr",
     "output_type": "stream",
     "text": [
      "/var/folders/z3/zc5j75dj0qn_z2sp8qf47q340000gn/T/ipykernel_63108/652174667.py:8: ResourceWarning: unclosed <socket.socket fd=84, family=AddressFamily.AF_INET, type=SocketKind.SOCK_STREAM, proto=6, laddr=('127.0.0.1', 62087), raddr=('127.0.0.1', 11434)>\n",
      "  analyzer = GraphRAGSystem(row[\"question\"])\n",
      "ResourceWarning: Enable tracemalloc to get the object allocation traceback\n"
     ]
    },
    {
     "name": "stdout",
     "output_type": "stream",
     "text": [
      "Question 294: Is AMD caused by excessive use of deodorant?\n",
      "Context: T...\n",
      "Response: False\n",
      "\n"
     ]
    },
    {
     "name": "stderr",
     "output_type": "stream",
     "text": [
      "/var/folders/z3/zc5j75dj0qn_z2sp8qf47q340000gn/T/ipykernel_63108/652174667.py:8: ResourceWarning: unclosed <socket.socket fd=84, family=AddressFamily.AF_INET, type=SocketKind.SOCK_STREAM, proto=6, laddr=('127.0.0.1', 62114), raddr=('127.0.0.1', 11434)>\n",
      "  analyzer = GraphRAGSystem(row[\"question\"])\n",
      "ResourceWarning: Enable tracemalloc to get the object allocation traceback\n"
     ]
    },
    {
     "name": "stdout",
     "output_type": "stream",
     "text": [
      "Question 295: Can AMD affect the ability to thread a sewing machine?\n",
      "Context: T...\n",
      "Response: TRUE\n",
      "\n"
     ]
    },
    {
     "name": "stderr",
     "output_type": "stream",
     "text": [
      "/var/folders/z3/zc5j75dj0qn_z2sp8qf47q340000gn/T/ipykernel_63108/652174667.py:8: ResourceWarning: unclosed <socket.socket fd=84, family=AddressFamily.AF_INET, type=SocketKind.SOCK_STREAM, proto=6, laddr=('127.0.0.1', 62140), raddr=('127.0.0.1', 11434)>\n",
      "  analyzer = GraphRAGSystem(row[\"question\"])\n",
      "ResourceWarning: Enable tracemalloc to get the object allocation traceback\n"
     ]
    },
    {
     "name": "stdout",
     "output_type": "stream",
     "text": [
      "Question 296: Does dry AMD cause rapid retinal regeneration?\n",
      "Context: T...\n",
      "Response: False.\n",
      "\n"
     ]
    },
    {
     "name": "stderr",
     "output_type": "stream",
     "text": [
      "/var/folders/z3/zc5j75dj0qn_z2sp8qf47q340000gn/T/ipykernel_63108/652174667.py:8: ResourceWarning: unclosed <socket.socket fd=84, family=AddressFamily.AF_INET, type=SocketKind.SOCK_STREAM, proto=6, laddr=('127.0.0.1', 62166), raddr=('127.0.0.1', 11434)>\n",
      "  analyzer = GraphRAGSystem(row[\"question\"])\n",
      "ResourceWarning: Enable tracemalloc to get the object allocation traceback\n"
     ]
    },
    {
     "name": "stdout",
     "output_type": "stream",
     "text": [
      "Question 297: Is AMD linked to difficulty seeing fine details in photographs?\n",
      "Context: T...\n",
      "Response: True\n",
      "\n"
     ]
    },
    {
     "name": "stderr",
     "output_type": "stream",
     "text": [
      "/var/folders/z3/zc5j75dj0qn_z2sp8qf47q340000gn/T/ipykernel_63108/652174667.py:8: ResourceWarning: unclosed <socket.socket fd=84, family=AddressFamily.AF_INET, type=SocketKind.SOCK_STREAM, proto=6, laddr=('127.0.0.1', 62188), raddr=('127.0.0.1', 11434)>\n",
      "  analyzer = GraphRAGSystem(row[\"question\"])\n",
      "ResourceWarning: Enable tracemalloc to get the object allocation traceback\n"
     ]
    },
    {
     "name": "stdout",
     "output_type": "stream",
     "text": [
      "Question 298: Can AMD be treated with mouthwash?\n",
      "Context: T...\n",
      "Response: False\n",
      "\n"
     ]
    },
    {
     "name": "stderr",
     "output_type": "stream",
     "text": [
      "/var/folders/z3/zc5j75dj0qn_z2sp8qf47q340000gn/T/ipykernel_63108/652174667.py:8: ResourceWarning: unclosed <socket.socket fd=84, family=AddressFamily.AF_INET, type=SocketKind.SOCK_STREAM, proto=6, laddr=('127.0.0.1', 62211), raddr=('127.0.0.1', 11434)>\n",
      "  analyzer = GraphRAGSystem(row[\"question\"])\n",
      "ResourceWarning: Enable tracemalloc to get the object allocation traceback\n"
     ]
    },
    {
     "name": "stdout",
     "output_type": "stream",
     "text": [
      "Question 299: Does AMD cause trouble seeing in low-light environments?\n",
      "Context: T...\n",
      "Response: True.\n",
      "\n"
     ]
    },
    {
     "name": "stderr",
     "output_type": "stream",
     "text": [
      "/var/folders/z3/zc5j75dj0qn_z2sp8qf47q340000gn/T/ipykernel_63108/652174667.py:8: ResourceWarning: unclosed <socket.socket fd=84, family=AddressFamily.AF_INET, type=SocketKind.SOCK_STREAM, proto=6, laddr=('127.0.0.1', 62237), raddr=('127.0.0.1', 11434)>\n",
      "  analyzer = GraphRAGSystem(row[\"question\"])\n",
      "ResourceWarning: Enable tracemalloc to get the object allocation traceback\n"
     ]
    },
    {
     "name": "stdout",
     "output_type": "stream",
     "text": [
      "Question 300: Is wet AMD caused by a lack of dietary calcium?\n",
      "Context: T...\n",
      "Response: False.\n",
      "\n"
     ]
    },
    {
     "name": "stderr",
     "output_type": "stream",
     "text": [
      "/var/folders/z3/zc5j75dj0qn_z2sp8qf47q340000gn/T/ipykernel_63108/652174667.py:8: ResourceWarning: unclosed <socket.socket fd=84, family=AddressFamily.AF_INET, type=SocketKind.SOCK_STREAM, proto=6, laddr=('127.0.0.1', 62279), raddr=('127.0.0.1', 11434)>\n",
      "  analyzer = GraphRAGSystem(row[\"question\"])\n",
      "ResourceWarning: Enable tracemalloc to get the object allocation traceback\n"
     ]
    },
    {
     "name": "stdout",
     "output_type": "stream",
     "text": [
      "Question 301: Can AMD affect the ability to enjoy hobbies like painting?\n",
      "Context: T...\n",
      "Response: True\n",
      "\n"
     ]
    },
    {
     "name": "stderr",
     "output_type": "stream",
     "text": [
      "/var/folders/z3/zc5j75dj0qn_z2sp8qf47q340000gn/T/ipykernel_63108/652174667.py:8: ResourceWarning: unclosed <socket.socket fd=84, family=AddressFamily.AF_INET, type=SocketKind.SOCK_STREAM, proto=6, laddr=('127.0.0.1', 62306), raddr=('127.0.0.1', 11434)>\n",
      "  analyzer = GraphRAGSystem(row[\"question\"])\n",
      "ResourceWarning: Enable tracemalloc to get the object allocation traceback\n"
     ]
    },
    {
     "name": "stdout",
     "output_type": "stream",
     "text": [
      "Question 302: Does AMD cause vision loss due to vitreous detachment?\n",
      "Context: T...\n",
      "Response: False.\n",
      "\n"
     ]
    },
    {
     "name": "stderr",
     "output_type": "stream",
     "text": [
      "/var/folders/z3/zc5j75dj0qn_z2sp8qf47q340000gn/T/ipykernel_63108/652174667.py:8: ResourceWarning: unclosed <socket.socket fd=84, family=AddressFamily.AF_INET, type=SocketKind.SOCK_STREAM, proto=6, laddr=('127.0.0.1', 62328), raddr=('127.0.0.1', 11434)>\n",
      "  analyzer = GraphRAGSystem(row[\"question\"])\n",
      "ResourceWarning: Enable tracemalloc to get the object allocation traceback\n"
     ]
    },
    {
     "name": "stdout",
     "output_type": "stream",
     "text": [
      "Question 303: Is AMD linked to difficulty identifying small objects?\n",
      "Context: T...\n",
      "Response: True\n",
      "\n"
     ]
    },
    {
     "name": "stderr",
     "output_type": "stream",
     "text": [
      "/var/folders/z3/zc5j75dj0qn_z2sp8qf47q340000gn/T/ipykernel_63108/652174667.py:8: ResourceWarning: unclosed <socket.socket fd=84, family=AddressFamily.AF_INET, type=SocketKind.SOCK_STREAM, proto=6, laddr=('127.0.0.1', 62351), raddr=('127.0.0.1', 11434)>\n",
      "  analyzer = GraphRAGSystem(row[\"question\"])\n",
      "ResourceWarning: Enable tracemalloc to get the object allocation traceback\n"
     ]
    },
    {
     "name": "stdout",
     "output_type": "stream",
     "text": [
      "Question 304: Can AMD be prevented by avoiding all fats?\n",
      "Context: T...\n",
      "Response: FALSE\n",
      "\n"
     ]
    },
    {
     "name": "stderr",
     "output_type": "stream",
     "text": [
      "/var/folders/z3/zc5j75dj0qn_z2sp8qf47q340000gn/T/ipykernel_63108/652174667.py:8: ResourceWarning: unclosed <socket.socket fd=84, family=AddressFamily.AF_INET, type=SocketKind.SOCK_STREAM, proto=6, laddr=('127.0.0.1', 62376), raddr=('127.0.0.1', 11434)>\n",
      "  analyzer = GraphRAGSystem(row[\"question\"])\n",
      "ResourceWarning: Enable tracemalloc to get the object allocation traceback\n"
     ]
    },
    {
     "name": "stdout",
     "output_type": "stream",
     "text": [
      "Question 305: Does wet AMD cause a distorted central field?\n",
      "Context: T...\n",
      "Response: True.\n",
      "\n"
     ]
    },
    {
     "name": "stderr",
     "output_type": "stream",
     "text": [
      "/var/folders/z3/zc5j75dj0qn_z2sp8qf47q340000gn/T/ipykernel_63108/652174667.py:8: ResourceWarning: unclosed <socket.socket fd=84, family=AddressFamily.AF_INET, type=SocketKind.SOCK_STREAM, proto=6, laddr=('127.0.0.1', 62401), raddr=('127.0.0.1', 11434)>\n",
      "  analyzer = GraphRAGSystem(row[\"question\"])\n",
      "ResourceWarning: Enable tracemalloc to get the object allocation traceback\n"
     ]
    },
    {
     "name": "stdout",
     "output_type": "stream",
     "text": [
      "Question 306: Is AMD caused by excessive use of hair gel?\n",
      "Context: T...\n",
      "Response: False.\n",
      "\n"
     ]
    },
    {
     "name": "stderr",
     "output_type": "stream",
     "text": [
      "/var/folders/z3/zc5j75dj0qn_z2sp8qf47q340000gn/T/ipykernel_63108/652174667.py:8: ResourceWarning: unclosed <socket.socket fd=84, family=AddressFamily.AF_INET, type=SocketKind.SOCK_STREAM, proto=6, laddr=('127.0.0.1', 62428), raddr=('127.0.0.1', 11434)>\n",
      "  analyzer = GraphRAGSystem(row[\"question\"])\n",
      "ResourceWarning: Enable tracemalloc to get the object allocation traceback\n"
     ]
    },
    {
     "name": "stdout",
     "output_type": "stream",
     "text": [
      "Question 307: Can AMD impair the ability to read small text on screens?\n",
      "Context: T...\n",
      "Response: True\n",
      "\n"
     ]
    },
    {
     "name": "stderr",
     "output_type": "stream",
     "text": [
      "/var/folders/z3/zc5j75dj0qn_z2sp8qf47q340000gn/T/ipykernel_63108/652174667.py:8: ResourceWarning: unclosed <socket.socket fd=84, family=AddressFamily.AF_INET, type=SocketKind.SOCK_STREAM, proto=6, laddr=('127.0.0.1', 62455), raddr=('127.0.0.1', 11434)>\n",
      "  analyzer = GraphRAGSystem(row[\"question\"])\n",
      "ResourceWarning: Enable tracemalloc to get the object allocation traceback\n"
     ]
    },
    {
     "name": "stdout",
     "output_type": "stream",
     "text": [
      "Question 308: Does dry AMD cause inflammation of the vitreous?\n",
      "Context: T...\n",
      "Response: False.\n",
      "\n"
     ]
    },
    {
     "name": "stderr",
     "output_type": "stream",
     "text": [
      "/var/folders/z3/zc5j75dj0qn_z2sp8qf47q340000gn/T/ipykernel_63108/652174667.py:8: ResourceWarning: unclosed <socket.socket fd=84, family=AddressFamily.AF_INET, type=SocketKind.SOCK_STREAM, proto=6, laddr=('127.0.0.1', 62478), raddr=('127.0.0.1', 11434)>\n",
      "  analyzer = GraphRAGSystem(row[\"question\"])\n",
      "ResourceWarning: Enable tracemalloc to get the object allocation traceback\n"
     ]
    },
    {
     "name": "stdout",
     "output_type": "stream",
     "text": [
      "Question 309: Is AMD linked to difficulty seeing in smoky environments?\n",
      "Context: A...\n",
      "Response: True\n",
      "\n"
     ]
    },
    {
     "name": "stderr",
     "output_type": "stream",
     "text": [
      "/var/folders/z3/zc5j75dj0qn_z2sp8qf47q340000gn/T/ipykernel_63108/652174667.py:8: ResourceWarning: unclosed <socket.socket fd=84, family=AddressFamily.AF_INET, type=SocketKind.SOCK_STREAM, proto=6, laddr=('127.0.0.1', 62501), raddr=('127.0.0.1', 11434)>\n",
      "  analyzer = GraphRAGSystem(row[\"question\"])\n",
      "ResourceWarning: Enable tracemalloc to get the object allocation traceback\n"
     ]
    },
    {
     "name": "stdout",
     "output_type": "stream",
     "text": [
      "Question 310: Can AMD be cured with ice packs?\n",
      "Context: T...\n",
      "Response: False.\n",
      "\n"
     ]
    },
    {
     "name": "stderr",
     "output_type": "stream",
     "text": [
      "/var/folders/z3/zc5j75dj0qn_z2sp8qf47q340000gn/T/ipykernel_63108/652174667.py:8: ResourceWarning: unclosed <socket.socket fd=84, family=AddressFamily.AF_INET, type=SocketKind.SOCK_STREAM, proto=6, laddr=('127.0.0.1', 62527), raddr=('127.0.0.1', 11434)>\n",
      "  analyzer = GraphRAGSystem(row[\"question\"])\n",
      "ResourceWarning: Enable tracemalloc to get the object allocation traceback\n"
     ]
    },
    {
     "name": "stdout",
     "output_type": "stream",
     "text": [
      "Question 311: Does AMD cause challenges with seeing details in nature?\n",
      "Context: S...\n",
      "Response: True\n",
      "\n"
     ]
    },
    {
     "name": "stderr",
     "output_type": "stream",
     "text": [
      "/var/folders/z3/zc5j75dj0qn_z2sp8qf47q340000gn/T/ipykernel_63108/652174667.py:8: ResourceWarning: unclosed <socket.socket fd=84, family=AddressFamily.AF_INET, type=SocketKind.SOCK_STREAM, proto=6, laddr=('127.0.0.1', 62553), raddr=('127.0.0.1', 11434)>\n",
      "  analyzer = GraphRAGSystem(row[\"question\"])\n",
      "ResourceWarning: Enable tracemalloc to get the object allocation traceback\n"
     ]
    },
    {
     "name": "stdout",
     "output_type": "stream",
     "text": [
      "Question 312: Is AMD caused by excessive pet dander exposure?\n",
      "Context: T...\n",
      "Response: False.\n",
      "\n"
     ]
    },
    {
     "name": "stderr",
     "output_type": "stream",
     "text": [
      "/var/folders/z3/zc5j75dj0qn_z2sp8qf47q340000gn/T/ipykernel_63108/652174667.py:8: ResourceWarning: unclosed <socket.socket fd=84, family=AddressFamily.AF_INET, type=SocketKind.SOCK_STREAM, proto=6, laddr=('127.0.0.1', 62576), raddr=('127.0.0.1', 11434)>\n",
      "  analyzer = GraphRAGSystem(row[\"question\"])\n",
      "ResourceWarning: Enable tracemalloc to get the object allocation traceback\n"
     ]
    },
    {
     "name": "stdout",
     "output_type": "stream",
     "text": [
      "Question 313: Can AMD affect the ability to see fine print on packaging?\n",
      "Context: S...\n",
      "Response: True.\n",
      "\n"
     ]
    },
    {
     "name": "stderr",
     "output_type": "stream",
     "text": [
      "/var/folders/z3/zc5j75dj0qn_z2sp8qf47q340000gn/T/ipykernel_63108/652174667.py:8: ResourceWarning: unclosed <socket.socket fd=84, family=AddressFamily.AF_INET, type=SocketKind.SOCK_STREAM, proto=6, laddr=('127.0.0.1', 62607), raddr=('127.0.0.1', 11434)>\n",
      "  analyzer = GraphRAGSystem(row[\"question\"])\n",
      "ResourceWarning: Enable tracemalloc to get the object allocation traceback\n"
     ]
    },
    {
     "name": "stdout",
     "output_type": "stream",
     "text": [
      "Question 314: Does wet AMD cause optic disc damage?\n",
      "Context: T...\n",
      "Response: True.\n",
      "\n"
     ]
    },
    {
     "name": "stderr",
     "output_type": "stream",
     "text": [
      "/var/folders/z3/zc5j75dj0qn_z2sp8qf47q340000gn/T/ipykernel_63108/652174667.py:8: ResourceWarning: unclosed <socket.socket fd=84, family=AddressFamily.AF_INET, type=SocketKind.SOCK_STREAM, proto=6, laddr=('127.0.0.1', 62634), raddr=('127.0.0.1', 11434)>\n",
      "  analyzer = GraphRAGSystem(row[\"question\"])\n",
      "ResourceWarning: Enable tracemalloc to get the object allocation traceback\n"
     ]
    },
    {
     "name": "stdout",
     "output_type": "stream",
     "text": [
      "Question 315: Is AMD linked to difficulty seeing in overcast weather?\n",
      "Context: T...\n",
      "Response: False.\n",
      "\n"
     ]
    },
    {
     "name": "stderr",
     "output_type": "stream",
     "text": [
      "/var/folders/z3/zc5j75dj0qn_z2sp8qf47q340000gn/T/ipykernel_63108/652174667.py:8: ResourceWarning: unclosed <socket.socket fd=84, family=AddressFamily.AF_INET, type=SocketKind.SOCK_STREAM, proto=6, laddr=('127.0.0.1', 62659), raddr=('127.0.0.1', 11434)>\n",
      "  analyzer = GraphRAGSystem(row[\"question\"])\n",
      "ResourceWarning: Enable tracemalloc to get the object allocation traceback\n"
     ]
    },
    {
     "name": "stdout",
     "output_type": "stream",
     "text": [
      "Question 316: Can AMD be prevented by avoiding all sugars?\n",
      "Context: T...\n",
      "Response: False\n",
      "\n"
     ]
    },
    {
     "name": "stderr",
     "output_type": "stream",
     "text": [
      "/var/folders/z3/zc5j75dj0qn_z2sp8qf47q340000gn/T/ipykernel_63108/652174667.py:8: ResourceWarning: unclosed <socket.socket fd=84, family=AddressFamily.AF_INET, type=SocketKind.SOCK_STREAM, proto=6, laddr=('127.0.0.1', 62679), raddr=('127.0.0.1', 11434)>\n",
      "  analyzer = GraphRAGSystem(row[\"question\"])\n",
      "ResourceWarning: Enable tracemalloc to get the object allocation traceback\n"
     ]
    },
    {
     "name": "stdout",
     "output_type": "stream",
     "text": [
      "Question 317: Does wet AMD cause a central blind spot?\n",
      "Context: T...\n",
      "Response: True.\n",
      "\n"
     ]
    },
    {
     "name": "stderr",
     "output_type": "stream",
     "text": [
      "/var/folders/z3/zc5j75dj0qn_z2sp8qf47q340000gn/T/ipykernel_63108/652174667.py:8: ResourceWarning: unclosed <socket.socket fd=84, family=AddressFamily.AF_INET, type=SocketKind.SOCK_STREAM, proto=6, laddr=('127.0.0.1', 62706), raddr=('127.0.0.1', 11434)>\n",
      "  analyzer = GraphRAGSystem(row[\"question\"])\n",
      "ResourceWarning: Enable tracemalloc to get the object allocation traceback\n"
     ]
    },
    {
     "name": "stdout",
     "output_type": "stream",
     "text": [
      "Question 318: Is AMD caused by excessive use of sunscreen?\n",
      "Context: T...\n",
      "Response: False\n",
      "\n"
     ]
    },
    {
     "name": "stderr",
     "output_type": "stream",
     "text": [
      "/var/folders/z3/zc5j75dj0qn_z2sp8qf47q340000gn/T/ipykernel_63108/652174667.py:8: ResourceWarning: unclosed <socket.socket fd=84, family=AddressFamily.AF_INET, type=SocketKind.SOCK_STREAM, proto=6, laddr=('127.0.0.1', 62729), raddr=('127.0.0.1', 11434)>\n",
      "  analyzer = GraphRAGSystem(row[\"question\"])\n",
      "ResourceWarning: Enable tracemalloc to get the object allocation traceback\n"
     ]
    },
    {
     "name": "stdout",
     "output_type": "stream",
     "text": [
      "Question 319: Can AMD affect the ability to see details on a computer?\n",
      "Context: T...\n",
      "Response: TRUE\n",
      "\n"
     ]
    },
    {
     "name": "stderr",
     "output_type": "stream",
     "text": [
      "/var/folders/z3/zc5j75dj0qn_z2sp8qf47q340000gn/T/ipykernel_63108/652174667.py:8: ResourceWarning: unclosed <socket.socket fd=84, family=AddressFamily.AF_INET, type=SocketKind.SOCK_STREAM, proto=6, laddr=('127.0.0.1', 62753), raddr=('127.0.0.1', 11434)>\n",
      "  analyzer = GraphRAGSystem(row[\"question\"])\n",
      "ResourceWarning: Enable tracemalloc to get the object allocation traceback\n"
     ]
    },
    {
     "name": "stdout",
     "output_type": "stream",
     "text": [
      "Question 320: Does dry AMD cause rapid retinal pigment epithelial repair?\n",
      "Context: T...\n",
      "Response: False.\n",
      "\n"
     ]
    },
    {
     "name": "stderr",
     "output_type": "stream",
     "text": [
      "/var/folders/z3/zc5j75dj0qn_z2sp8qf47q340000gn/T/ipykernel_63108/652174667.py:8: ResourceWarning: unclosed <socket.socket fd=84, family=AddressFamily.AF_INET, type=SocketKind.SOCK_STREAM, proto=6, laddr=('127.0.0.1', 62781), raddr=('127.0.0.1', 11434)>\n",
      "  analyzer = GraphRAGSystem(row[\"question\"])\n",
      "ResourceWarning: Enable tracemalloc to get the object allocation traceback\n"
     ]
    },
    {
     "name": "stdout",
     "output_type": "stream",
     "text": [
      "Question 321: Is AMD linked to difficulty seeing in twilight?\n",
      "Context: A...\n",
      "Response: True\n",
      "\n"
     ]
    },
    {
     "name": "stderr",
     "output_type": "stream",
     "text": [
      "/var/folders/z3/zc5j75dj0qn_z2sp8qf47q340000gn/T/ipykernel_63108/652174667.py:8: ResourceWarning: unclosed <socket.socket fd=84, family=AddressFamily.AF_INET, type=SocketKind.SOCK_STREAM, proto=6, laddr=('127.0.0.1', 62804), raddr=('127.0.0.1', 11434)>\n",
      "  analyzer = GraphRAGSystem(row[\"question\"])\n",
      "ResourceWarning: Enable tracemalloc to get the object allocation traceback\n"
     ]
    },
    {
     "name": "stdout",
     "output_type": "stream",
     "text": [
      "Question 322: Can AMD be treated with hand sanitizer?\n",
      "Context: T...\n",
      "Response: False.\n",
      "\n"
     ]
    },
    {
     "name": "stderr",
     "output_type": "stream",
     "text": [
      "/var/folders/z3/zc5j75dj0qn_z2sp8qf47q340000gn/T/ipykernel_63108/652174667.py:8: ResourceWarning: unclosed <socket.socket fd=84, family=AddressFamily.AF_INET, type=SocketKind.SOCK_STREAM, proto=6, laddr=('127.0.0.1', 62828), raddr=('127.0.0.1', 11434)>\n",
      "  analyzer = GraphRAGSystem(row[\"question\"])\n",
      "ResourceWarning: Enable tracemalloc to get the object allocation traceback\n"
     ]
    },
    {
     "name": "stdout",
     "output_type": "stream",
     "text": [
      "Question 323: Does AMD cause challenges with seeing fine details in books?\n",
      "Context: T...\n",
      "Response: True\n",
      "\n"
     ]
    },
    {
     "name": "stderr",
     "output_type": "stream",
     "text": [
      "/var/folders/z3/zc5j75dj0qn_z2sp8qf47q340000gn/T/ipykernel_63108/652174667.py:8: ResourceWarning: unclosed <socket.socket fd=84, family=AddressFamily.AF_INET, type=SocketKind.SOCK_STREAM, proto=6, laddr=('127.0.0.1', 62851), raddr=('127.0.0.1', 11434)>\n",
      "  analyzer = GraphRAGSystem(row[\"question\"])\n",
      "ResourceWarning: Enable tracemalloc to get the object allocation traceback\n"
     ]
    },
    {
     "name": "stdout",
     "output_type": "stream",
     "text": [
      "Question 324: Is AMD caused by excessive exposure to smoke detectors?\n",
      "Context: T...\n",
      "Response: False.\n",
      "\n"
     ]
    },
    {
     "name": "stderr",
     "output_type": "stream",
     "text": [
      "/var/folders/z3/zc5j75dj0qn_z2sp8qf47q340000gn/T/ipykernel_63108/652174667.py:8: ResourceWarning: unclosed <socket.socket fd=84, family=AddressFamily.AF_INET, type=SocketKind.SOCK_STREAM, proto=6, laddr=('127.0.0.1', 62874), raddr=('127.0.0.1', 11434)>\n",
      "  analyzer = GraphRAGSystem(row[\"question\"])\n",
      "ResourceWarning: Enable tracemalloc to get the object allocation traceback\n"
     ]
    },
    {
     "name": "stdout",
     "output_type": "stream",
     "text": [
      "Question 325: Does AMD cause difficulty distinguishing contrasts?\n",
      "Context: T...\n",
      "Response: True\n",
      "\n"
     ]
    },
    {
     "name": "stderr",
     "output_type": "stream",
     "text": [
      "/var/folders/z3/zc5j75dj0qn_z2sp8qf47q340000gn/T/ipykernel_63108/652174667.py:8: ResourceWarning: unclosed <socket.socket fd=84, family=AddressFamily.AF_INET, type=SocketKind.SOCK_STREAM, proto=6, laddr=('127.0.0.1', 62899), raddr=('127.0.0.1', 11434)>\n",
      "  analyzer = GraphRAGSystem(row[\"question\"])\n",
      "ResourceWarning: Enable tracemalloc to get the object allocation traceback\n"
     ]
    },
    {
     "name": "stdout",
     "output_type": "stream",
     "text": [
      "Question 326: Is wet AMD caused by excessive exposure to dust?\n",
      "Context: T...\n",
      "Response: FALSE.\n",
      "\n"
     ]
    },
    {
     "name": "stderr",
     "output_type": "stream",
     "text": [
      "/var/folders/z3/zc5j75dj0qn_z2sp8qf47q340000gn/T/ipykernel_63108/652174667.py:8: ResourceWarning: unclosed <socket.socket fd=84, family=AddressFamily.AF_INET, type=SocketKind.SOCK_STREAM, proto=6, laddr=('127.0.0.1', 62923), raddr=('127.0.0.1', 11434)>\n",
      "  analyzer = GraphRAGSystem(row[\"question\"])\n",
      "ResourceWarning: Enable tracemalloc to get the object allocation traceback\n"
     ]
    },
    {
     "name": "stdout",
     "output_type": "stream",
     "text": [
      "Question 327: Can dry AMD lead to retinal pigment epithelial atrophy?\n",
      "Context: T...\n",
      "Response: True.\n",
      "\n"
     ]
    },
    {
     "name": "stderr",
     "output_type": "stream",
     "text": [
      "/var/folders/z3/zc5j75dj0qn_z2sp8qf47q340000gn/T/ipykernel_63108/652174667.py:8: ResourceWarning: unclosed <socket.socket fd=84, family=AddressFamily.AF_INET, type=SocketKind.SOCK_STREAM, proto=6, laddr=('127.0.0.1', 62950), raddr=('127.0.0.1', 11434)>\n",
      "  analyzer = GraphRAGSystem(row[\"question\"])\n",
      "ResourceWarning: Enable tracemalloc to get the object allocation traceback\n"
     ]
    },
    {
     "name": "stdout",
     "output_type": "stream",
     "text": [
      "Question 328: Is AMD treatable with topical ointments?\n",
      "Context: T...\n",
      "Response: False.\n",
      "\n"
     ]
    },
    {
     "name": "stderr",
     "output_type": "stream",
     "text": [
      "/var/folders/z3/zc5j75dj0qn_z2sp8qf47q340000gn/T/ipykernel_63108/652174667.py:8: ResourceWarning: unclosed <socket.socket fd=84, family=AddressFamily.AF_INET, type=SocketKind.SOCK_STREAM, proto=6, laddr=('127.0.0.1', 62976), raddr=('127.0.0.1', 11434)>\n",
      "  analyzer = GraphRAGSystem(row[\"question\"])\n",
      "ResourceWarning: Enable tracemalloc to get the object allocation traceback\n"
     ]
    },
    {
     "name": "stdout",
     "output_type": "stream",
     "text": [
      "Question 329: Does wet AMD cause a sudden central blur?\n",
      "Context: T...\n",
      "Response: False\n",
      "\n"
     ]
    },
    {
     "name": "stderr",
     "output_type": "stream",
     "text": [
      "/var/folders/z3/zc5j75dj0qn_z2sp8qf47q340000gn/T/ipykernel_63108/652174667.py:8: ResourceWarning: unclosed <socket.socket fd=84, family=AddressFamily.AF_INET, type=SocketKind.SOCK_STREAM, proto=6, laddr=('127.0.0.1', 63000), raddr=('127.0.0.1', 11434)>\n",
      "  analyzer = GraphRAGSystem(row[\"question\"])\n",
      "ResourceWarning: Enable tracemalloc to get the object allocation traceback\n"
     ]
    },
    {
     "name": "stdout",
     "output_type": "stream",
     "text": [
      "Question 330: Is hyperlipidemia a risk factor for AMD?\n",
      "Context: T...\n",
      "Response: True\n",
      "\n"
     ]
    },
    {
     "name": "stderr",
     "output_type": "stream",
     "text": [
      "/var/folders/z3/zc5j75dj0qn_z2sp8qf47q340000gn/T/ipykernel_63108/652174667.py:8: ResourceWarning: unclosed <socket.socket fd=84, family=AddressFamily.AF_INET, type=SocketKind.SOCK_STREAM, proto=6, laddr=('127.0.0.1', 63026), raddr=('127.0.0.1', 11434)>\n",
      "  analyzer = GraphRAGSystem(row[\"question\"])\n",
      "ResourceWarning: Enable tracemalloc to get the object allocation traceback\n"
     ]
    },
    {
     "name": "stdout",
     "output_type": "stream",
     "text": [
      "Question 331: Does dry AMD cause abrupt vision deterioration?\n",
      "Context: T...\n",
      "Response: False.\n",
      "\n"
     ]
    },
    {
     "name": "stderr",
     "output_type": "stream",
     "text": [
      "/var/folders/z3/zc5j75dj0qn_z2sp8qf47q340000gn/T/ipykernel_63108/652174667.py:8: ResourceWarning: unclosed <socket.socket fd=84, family=AddressFamily.AF_INET, type=SocketKind.SOCK_STREAM, proto=6, laddr=('127.0.0.1', 63055), raddr=('127.0.0.1', 11434)>\n",
      "  analyzer = GraphRAGSystem(row[\"question\"])\n",
      "ResourceWarning: Enable tracemalloc to get the object allocation traceback\n"
     ]
    },
    {
     "name": "stdout",
     "output_type": "stream",
     "text": [
      "Question 332: Can fundus photography detect AMD changes?\n",
      "Context: T...\n",
      "Response: True\n",
      "\n"
     ]
    },
    {
     "name": "stderr",
     "output_type": "stream",
     "text": [
      "/var/folders/z3/zc5j75dj0qn_z2sp8qf47q340000gn/T/ipykernel_63108/652174667.py:8: ResourceWarning: unclosed <socket.socket fd=84, family=AddressFamily.AF_INET, type=SocketKind.SOCK_STREAM, proto=6, laddr=('127.0.0.1', 63080), raddr=('127.0.0.1', 11434)>\n",
      "  analyzer = GraphRAGSystem(row[\"question\"])\n",
      "ResourceWarning: Enable tracemalloc to get the object allocation traceback\n"
     ]
    },
    {
     "name": "stdout",
     "output_type": "stream",
     "text": [
      "Question 333: Is AMD a condition of the conjunctiva?\n",
      "Context: T...\n",
      "Response: False.\n",
      "\n"
     ]
    },
    {
     "name": "stderr",
     "output_type": "stream",
     "text": [
      "/var/folders/z3/zc5j75dj0qn_z2sp8qf47q340000gn/T/ipykernel_63108/652174667.py:8: ResourceWarning: unclosed <socket.socket fd=84, family=AddressFamily.AF_INET, type=SocketKind.SOCK_STREAM, proto=6, laddr=('127.0.0.1', 63106), raddr=('127.0.0.1', 11434)>\n",
      "  analyzer = GraphRAGSystem(row[\"question\"])\n",
      "ResourceWarning: Enable tracemalloc to get the object allocation traceback\n"
     ]
    },
    {
     "name": "stdout",
     "output_type": "stream",
     "text": [
      "Question 334: Does AMD impair the ability to see sharp outlines?\n",
      "Context: T...\n",
      "Response: True\n",
      "\n"
     ]
    },
    {
     "name": "stderr",
     "output_type": "stream",
     "text": [
      "/var/folders/z3/zc5j75dj0qn_z2sp8qf47q340000gn/T/ipykernel_63108/652174667.py:8: ResourceWarning: unclosed <socket.socket fd=84, family=AddressFamily.AF_INET, type=SocketKind.SOCK_STREAM, proto=6, laddr=('127.0.0.1', 63132), raddr=('127.0.0.1', 11434)>\n",
      "  analyzer = GraphRAGSystem(row[\"question\"])\n",
      "ResourceWarning: Enable tracemalloc to get the object allocation traceback\n"
     ]
    },
    {
     "name": "stdout",
     "output_type": "stream",
     "text": [
      "Question 335: Can AMD be diagnosed with a saliva test?\n",
      "Context: T...\n",
      "Response: False.\n",
      "\n"
     ]
    },
    {
     "name": "stderr",
     "output_type": "stream",
     "text": [
      "/var/folders/z3/zc5j75dj0qn_z2sp8qf47q340000gn/T/ipykernel_63108/652174667.py:8: ResourceWarning: unclosed <socket.socket fd=84, family=AddressFamily.AF_INET, type=SocketKind.SOCK_STREAM, proto=6, laddr=('127.0.0.1', 63157), raddr=('127.0.0.1', 11434)>\n",
      "  analyzer = GraphRAGSystem(row[\"question\"])\n",
      "ResourceWarning: Enable tracemalloc to get the object allocation traceback\n"
     ]
    },
    {
     "name": "stdout",
     "output_type": "stream",
     "text": [
      "Question 336: Is visual acuity testing useful for AMD detection?\n",
      "Context: T...\n",
      "Response: True.\n",
      "\n"
     ]
    },
    {
     "name": "stderr",
     "output_type": "stream",
     "text": [
      "/var/folders/z3/zc5j75dj0qn_z2sp8qf47q340000gn/T/ipykernel_63108/652174667.py:8: ResourceWarning: unclosed <socket.socket fd=84, family=AddressFamily.AF_INET, type=SocketKind.SOCK_STREAM, proto=6, laddr=('127.0.0.1', 63181), raddr=('127.0.0.1', 11434)>\n",
      "  analyzer = GraphRAGSystem(row[\"question\"])\n",
      "ResourceWarning: Enable tracemalloc to get the object allocation traceback\n"
     ]
    },
    {
     "name": "stdout",
     "output_type": "stream",
     "text": [
      "Question 337: Does wet AMD cause retinal pigment epithelial detachment?\n",
      "Context: T...\n",
      "Response: True\n",
      "\n"
     ]
    },
    {
     "name": "stderr",
     "output_type": "stream",
     "text": [
      "/var/folders/z3/zc5j75dj0qn_z2sp8qf47q340000gn/T/ipykernel_63108/652174667.py:8: ResourceWarning: unclosed <socket.socket fd=84, family=AddressFamily.AF_INET, type=SocketKind.SOCK_STREAM, proto=6, laddr=('127.0.0.1', 63204), raddr=('127.0.0.1', 11434)>\n",
      "  analyzer = GraphRAGSystem(row[\"question\"])\n",
      "ResourceWarning: Enable tracemalloc to get the object allocation traceback\n"
     ]
    },
    {
     "name": "stdout",
     "output_type": "stream",
     "text": [
      "Question 338: Is early AMD often unnoticed by patients?\n",
      "Context: T...\n",
      "Response: True.\n",
      "\n"
     ]
    },
    {
     "name": "stderr",
     "output_type": "stream",
     "text": [
      "/var/folders/z3/zc5j75dj0qn_z2sp8qf47q340000gn/T/ipykernel_63108/652174667.py:8: ResourceWarning: unclosed <socket.socket fd=84, family=AddressFamily.AF_INET, type=SocketKind.SOCK_STREAM, proto=6, laddr=('127.0.0.1', 63231), raddr=('127.0.0.1', 11434)>\n",
      "  analyzer = GraphRAGSystem(row[\"question\"])\n",
      "ResourceWarning: Enable tracemalloc to get the object allocation traceback\n"
     ]
    },
    {
     "name": "stdout",
     "output_type": "stream",
     "text": [
      "Question 339: Can AMD be cured with homeopathic remedies?\n",
      "Context: T...\n",
      "Response: False.\n",
      "\n"
     ]
    },
    {
     "name": "stderr",
     "output_type": "stream",
     "text": [
      "/var/folders/z3/zc5j75dj0qn_z2sp8qf47q340000gn/T/ipykernel_63108/652174667.py:8: ResourceWarning: unclosed <socket.socket fd=84, family=AddressFamily.AF_INET, type=SocketKind.SOCK_STREAM, proto=6, laddr=('127.0.0.1', 63254), raddr=('127.0.0.1', 11434)>\n",
      "  analyzer = GraphRAGSystem(row[\"question\"])\n",
      "ResourceWarning: Enable tracemalloc to get the object allocation traceback\n"
     ]
    },
    {
     "name": "stdout",
     "output_type": "stream",
     "text": [
      "Question 340: Does systemic inflammation increase AMD risk?\n",
      "Context: S...\n",
      "Response: True\n",
      "\n"
     ]
    },
    {
     "name": "stderr",
     "output_type": "stream",
     "text": [
      "/var/folders/z3/zc5j75dj0qn_z2sp8qf47q340000gn/T/ipykernel_63108/652174667.py:8: ResourceWarning: unclosed <socket.socket fd=84, family=AddressFamily.AF_INET, type=SocketKind.SOCK_STREAM, proto=6, laddr=('127.0.0.1', 63280), raddr=('127.0.0.1', 11434)>\n",
      "  analyzer = GraphRAGSystem(row[\"question\"])\n",
      "ResourceWarning: Enable tracemalloc to get the object allocation traceback\n"
     ]
    },
    {
     "name": "stdout",
     "output_type": "stream",
     "text": [
      "Question 341: Is AMD caused by excessive exposure to loud music?\n",
      "Context: A...\n",
      "Response: False\n",
      "\n"
     ]
    },
    {
     "name": "stderr",
     "output_type": "stream",
     "text": [
      "/var/folders/z3/zc5j75dj0qn_z2sp8qf47q340000gn/T/ipykernel_63108/652174667.py:8: ResourceWarning: unclosed <socket.socket fd=84, family=AddressFamily.AF_INET, type=SocketKind.SOCK_STREAM, proto=6, laddr=('127.0.0.1', 63306), raddr=('127.0.0.1', 11434)>\n",
      "  analyzer = GraphRAGSystem(row[\"question\"])\n",
      "ResourceWarning: Enable tracemalloc to get the object allocation traceback\n"
     ]
    },
    {
     "name": "stdout",
     "output_type": "stream",
     "text": [
      "Question 342: Can adaptive devices assist with AMD-related vision loss?\n",
      "Context: A...\n",
      "Response: True.\n",
      "\n"
     ]
    },
    {
     "name": "stderr",
     "output_type": "stream",
     "text": [
      "/var/folders/z3/zc5j75dj0qn_z2sp8qf47q340000gn/T/ipykernel_63108/652174667.py:8: ResourceWarning: unclosed <socket.socket fd=84, family=AddressFamily.AF_INET, type=SocketKind.SOCK_STREAM, proto=6, laddr=('127.0.0.1', 63331), raddr=('127.0.0.1', 11434)>\n",
      "  analyzer = GraphRAGSystem(row[\"question\"])\n",
      "ResourceWarning: Enable tracemalloc to get the object allocation traceback\n"
     ]
    },
    {
     "name": "stdout",
     "output_type": "stream",
     "text": [
      "Question 343: Does AMD affect the retina’s outer layers?\n",
      "Context: S...\n",
      "Response: True\n",
      "\n"
     ]
    },
    {
     "name": "stderr",
     "output_type": "stream",
     "text": [
      "/var/folders/z3/zc5j75dj0qn_z2sp8qf47q340000gn/T/ipykernel_63108/652174667.py:8: ResourceWarning: unclosed <socket.socket fd=84, family=AddressFamily.AF_INET, type=SocketKind.SOCK_STREAM, proto=6, laddr=('127.0.0.1', 63356), raddr=('127.0.0.1', 11434)>\n",
      "  analyzer = GraphRAGSystem(row[\"question\"])\n",
      "ResourceWarning: Enable tracemalloc to get the object allocation traceback\n"
     ]
    },
    {
     "name": "stdout",
     "output_type": "stream",
     "text": [
      "Question 344: Is lipid metabolism dysregulation linked to AMD?\n",
      "Context: T...\n",
      "Response: True\n",
      "\n"
     ]
    },
    {
     "name": "stderr",
     "output_type": "stream",
     "text": [
      "/var/folders/z3/zc5j75dj0qn_z2sp8qf47q340000gn/T/ipykernel_63108/652174667.py:8: ResourceWarning: unclosed <socket.socket fd=84, family=AddressFamily.AF_INET, type=SocketKind.SOCK_STREAM, proto=6, laddr=('127.0.0.1', 63382), raddr=('127.0.0.1', 11434)>\n",
      "  analyzer = GraphRAGSystem(row[\"question\"])\n",
      "ResourceWarning: Enable tracemalloc to get the object allocation traceback\n"
     ]
    },
    {
     "name": "stdout",
     "output_type": "stream",
     "text": [
      "Question 345: Can AMD be reversed with yoga?\n",
      "Context: T...\n",
      "Response: False.\n",
      "\n"
     ]
    },
    {
     "name": "stderr",
     "output_type": "stream",
     "text": [
      "/var/folders/z3/zc5j75dj0qn_z2sp8qf47q340000gn/T/ipykernel_63108/652174667.py:8: ResourceWarning: unclosed <socket.socket fd=84, family=AddressFamily.AF_INET, type=SocketKind.SOCK_STREAM, proto=6, laddr=('127.0.0.1', 63407), raddr=('127.0.0.1', 11434)>\n",
      "  analyzer = GraphRAGSystem(row[\"question\"])\n",
      "ResourceWarning: Enable tracemalloc to get the object allocation traceback\n"
     ]
    },
    {
     "name": "stdout",
     "output_type": "stream",
     "text": [
      "Question 346: Does AMD cause difficulty with precision tasks like sewing?\n",
      "Context: A...\n",
      "Response: True\n",
      "\n"
     ]
    },
    {
     "name": "stderr",
     "output_type": "stream",
     "text": [
      "/var/folders/z3/zc5j75dj0qn_z2sp8qf47q340000gn/T/ipykernel_63108/652174667.py:8: ResourceWarning: unclosed <socket.socket fd=84, family=AddressFamily.AF_INET, type=SocketKind.SOCK_STREAM, proto=6, laddr=('127.0.0.1', 63430), raddr=('127.0.0.1', 11434)>\n",
      "  analyzer = GraphRAGSystem(row[\"question\"])\n",
      "ResourceWarning: Enable tracemalloc to get the object allocation traceback\n"
     ]
    },
    {
     "name": "stdout",
     "output_type": "stream",
     "text": [
      "Question 347: Is AMD caused by a lack of dietary carbohydrates?\n",
      "Context: T...\n",
      "Response: False.\n",
      "\n"
     ]
    },
    {
     "name": "stderr",
     "output_type": "stream",
     "text": [
      "/var/folders/z3/zc5j75dj0qn_z2sp8qf47q340000gn/T/ipykernel_63108/652174667.py:8: ResourceWarning: unclosed <socket.socket fd=84, family=AddressFamily.AF_INET, type=SocketKind.SOCK_STREAM, proto=6, laddr=('127.0.0.1', 63455), raddr=('127.0.0.1', 11434)>\n",
      "  analyzer = GraphRAGSystem(row[\"question\"])\n",
      "ResourceWarning: Enable tracemalloc to get the object allocation traceback\n"
     ]
    },
    {
     "name": "stdout",
     "output_type": "stream",
     "text": [
      "Question 348: Can severe AMD restrict mobility?\n",
      "Context: T...\n",
      "Response: True\n",
      "\n"
     ]
    },
    {
     "name": "stderr",
     "output_type": "stream",
     "text": [
      "/var/folders/z3/zc5j75dj0qn_z2sp8qf47q340000gn/T/ipykernel_63108/652174667.py:8: ResourceWarning: unclosed <socket.socket fd=84, family=AddressFamily.AF_INET, type=SocketKind.SOCK_STREAM, proto=6, laddr=('127.0.0.1', 63481), raddr=('127.0.0.1', 11434)>\n",
      "  analyzer = GraphRAGSystem(row[\"question\"])\n",
      "ResourceWarning: Enable tracemalloc to get the object allocation traceback\n"
     ]
    },
    {
     "name": "stdout",
     "output_type": "stream",
     "text": [
      "Question 349: Does wet AMD cause gradual vision stabilization?\n",
      "Context: T...\n",
      "Response: False.\n",
      "\n"
     ]
    },
    {
     "name": "stderr",
     "output_type": "stream",
     "text": [
      "/var/folders/z3/zc5j75dj0qn_z2sp8qf47q340000gn/T/ipykernel_63108/652174667.py:8: ResourceWarning: unclosed <socket.socket fd=84, family=AddressFamily.AF_INET, type=SocketKind.SOCK_STREAM, proto=6, laddr=('127.0.0.1', 63504), raddr=('127.0.0.1', 11434)>\n",
      "  analyzer = GraphRAGSystem(row[\"question\"])\n",
      "ResourceWarning: Enable tracemalloc to get the object allocation traceback\n"
     ]
    },
    {
     "name": "stdout",
     "output_type": "stream",
     "text": [
      "Question 350: Is AMD linked to difficulty navigating busy environments?\n",
      "Context: T...\n",
      "Response: True\n",
      "\n"
     ]
    },
    {
     "name": "stderr",
     "output_type": "stream",
     "text": [
      "/var/folders/z3/zc5j75dj0qn_z2sp8qf47q340000gn/T/ipykernel_63108/652174667.py:8: ResourceWarning: unclosed <socket.socket fd=84, family=AddressFamily.AF_INET, type=SocketKind.SOCK_STREAM, proto=6, laddr=('127.0.0.1', 63527), raddr=('127.0.0.1', 11434)>\n",
      "  analyzer = GraphRAGSystem(row[\"question\"])\n",
      "ResourceWarning: Enable tracemalloc to get the object allocation traceback\n"
     ]
    },
    {
     "name": "stdout",
     "output_type": "stream",
     "text": [
      "Question 351: Can AMD be treated with sugar syrup?\n",
      "Context: T...\n",
      "Response: False\n",
      "\n"
     ]
    },
    {
     "name": "stderr",
     "output_type": "stream",
     "text": [
      "/var/folders/z3/zc5j75dj0qn_z2sp8qf47q340000gn/T/ipykernel_63108/652174667.py:8: ResourceWarning: unclosed <socket.socket fd=84, family=AddressFamily.AF_INET, type=SocketKind.SOCK_STREAM, proto=6, laddr=('127.0.0.1', 63548), raddr=('127.0.0.1', 11434)>\n",
      "  analyzer = GraphRAGSystem(row[\"question\"])\n",
      "ResourceWarning: Enable tracemalloc to get the object allocation traceback\n"
     ]
    },
    {
     "name": "stdout",
     "output_type": "stream",
     "text": [
      "Question 352: Does AMD increase the likelihood of stumbling?\n",
      "Context: T...\n",
      "Response: True\n",
      "\n"
     ]
    },
    {
     "name": "stderr",
     "output_type": "stream",
     "text": [
      "/var/folders/z3/zc5j75dj0qn_z2sp8qf47q340000gn/T/ipykernel_63108/652174667.py:8: ResourceWarning: unclosed <socket.socket fd=84, family=AddressFamily.AF_INET, type=SocketKind.SOCK_STREAM, proto=6, laddr=('127.0.0.1', 63585), raddr=('127.0.0.1', 11434)>\n",
      "  analyzer = GraphRAGSystem(row[\"question\"])\n",
      "ResourceWarning: Enable tracemalloc to get the object allocation traceback\n"
     ]
    },
    {
     "name": "stdout",
     "output_type": "stream",
     "text": [
      "Question 353: Is wet AMD treated with laser surgery as a first-line option?\n",
      "Context: T...\n",
      "Response: FALSE.\n",
      "\n"
     ]
    },
    {
     "name": "stderr",
     "output_type": "stream",
     "text": [
      "/var/folders/z3/zc5j75dj0qn_z2sp8qf47q340000gn/T/ipykernel_63108/652174667.py:8: ResourceWarning: unclosed <socket.socket fd=84, family=AddressFamily.AF_INET, type=SocketKind.SOCK_STREAM, proto=6, laddr=('127.0.0.1', 63609), raddr=('127.0.0.1', 11434)>\n",
      "  analyzer = GraphRAGSystem(row[\"question\"])\n",
      "ResourceWarning: Enable tracemalloc to get the object allocation traceback\n"
     ]
    },
    {
     "name": "stdout",
     "output_type": "stream",
     "text": [
      "Question 354: Can reducing smoking improve AMD outcomes?\n",
      "Context: R...\n",
      "Response: True\n",
      "\n"
     ]
    },
    {
     "name": "stderr",
     "output_type": "stream",
     "text": [
      "/var/folders/z3/zc5j75dj0qn_z2sp8qf47q340000gn/T/ipykernel_63108/652174667.py:8: ResourceWarning: unclosed <socket.socket fd=84, family=AddressFamily.AF_INET, type=SocketKind.SOCK_STREAM, proto=6, laddr=('127.0.0.1', 63631), raddr=('127.0.0.1', 11434)>\n",
      "  analyzer = GraphRAGSystem(row[\"question\"])\n",
      "ResourceWarning: Enable tracemalloc to get the object allocation traceback\n"
     ]
    },
    {
     "name": "stdout",
     "output_type": "stream",
     "text": [
      "Question 355: Does AMD cause swelling of the optic disc?\n",
      "Context: T...\n",
      "Response: True\n",
      "\n"
     ]
    },
    {
     "name": "stderr",
     "output_type": "stream",
     "text": [
      "/var/folders/z3/zc5j75dj0qn_z2sp8qf47q340000gn/T/ipykernel_63108/652174667.py:8: ResourceWarning: unclosed <socket.socket fd=84, family=AddressFamily.AF_INET, type=SocketKind.SOCK_STREAM, proto=6, laddr=('127.0.0.1', 63656), raddr=('127.0.0.1', 11434)>\n",
      "  analyzer = GraphRAGSystem(row[\"question\"])\n",
      "ResourceWarning: Enable tracemalloc to get the object allocation traceback\n"
     ]
    },
    {
     "name": "stdout",
     "output_type": "stream",
     "text": [
      "Question 356: Is AMD associated with trouble seeing intricate designs?\n",
      "Context: T...\n",
      "Response: False.\n",
      "\n"
     ]
    },
    {
     "name": "stderr",
     "output_type": "stream",
     "text": [
      "/var/folders/z3/zc5j75dj0qn_z2sp8qf47q340000gn/T/ipykernel_63108/652174667.py:8: ResourceWarning: unclosed <socket.socket fd=84, family=AddressFamily.AF_INET, type=SocketKind.SOCK_STREAM, proto=6, laddr=('127.0.0.1', 63687), raddr=('127.0.0.1', 11434)>\n",
      "  analyzer = GraphRAGSystem(row[\"question\"])\n",
      "ResourceWarning: Enable tracemalloc to get the object allocation traceback\n"
     ]
    },
    {
     "name": "stdout",
     "output_type": "stream",
     "text": [
      "Question 357: Can AMD be prevented by avoiding all proteins?\n",
      "Context: T...\n",
      "Response: False.\n",
      "\n"
     ]
    },
    {
     "name": "stderr",
     "output_type": "stream",
     "text": [
      "/var/folders/z3/zc5j75dj0qn_z2sp8qf47q340000gn/T/ipykernel_63108/652174667.py:8: ResourceWarning: unclosed <socket.socket fd=84, family=AddressFamily.AF_INET, type=SocketKind.SOCK_STREAM, proto=6, laddr=('127.0.0.1', 63709), raddr=('127.0.0.1', 11434)>\n",
      "  analyzer = GraphRAGSystem(row[\"question\"])\n",
      "ResourceWarning: Enable tracemalloc to get the object allocation traceback\n"
     ]
    },
    {
     "name": "stdout",
     "output_type": "stream",
     "text": [
      "Question 358: Does wet AMD cause a dark central shadow?\n",
      "Context: T...\n",
      "Response: True\n",
      "\n"
     ]
    },
    {
     "name": "stderr",
     "output_type": "stream",
     "text": [
      "/var/folders/z3/zc5j75dj0qn_z2sp8qf47q340000gn/T/ipykernel_63108/652174667.py:8: ResourceWarning: unclosed <socket.socket fd=84, family=AddressFamily.AF_INET, type=SocketKind.SOCK_STREAM, proto=6, laddr=('127.0.0.1', 63731), raddr=('127.0.0.1', 11434)>\n",
      "  analyzer = GraphRAGSystem(row[\"question\"])\n",
      "ResourceWarning: Enable tracemalloc to get the object allocation traceback\n"
     ]
    },
    {
     "name": "stdout",
     "output_type": "stream",
     "text": [
      "Question 359: Is AMD caused by excessive use of fans?\n",
      "Context: T...\n",
      "Response: False.\n",
      "\n"
     ]
    },
    {
     "name": "stderr",
     "output_type": "stream",
     "text": [
      "/var/folders/z3/zc5j75dj0qn_z2sp8qf47q340000gn/T/ipykernel_63108/652174667.py:8: ResourceWarning: unclosed <socket.socket fd=84, family=AddressFamily.AF_INET, type=SocketKind.SOCK_STREAM, proto=6, laddr=('127.0.0.1', 63756), raddr=('127.0.0.1', 11434)>\n",
      "  analyzer = GraphRAGSystem(row[\"question\"])\n",
      "ResourceWarning: Enable tracemalloc to get the object allocation traceback\n"
     ]
    },
    {
     "name": "stdout",
     "output_type": "stream",
     "text": [
      "Question 360: Can AMD affect the ability to spot wildlife?\n",
      "Context: S...\n",
      "Response: True.\n",
      "\n"
     ]
    },
    {
     "name": "stderr",
     "output_type": "stream",
     "text": [
      "/var/folders/z3/zc5j75dj0qn_z2sp8qf47q340000gn/T/ipykernel_63108/652174667.py:8: ResourceWarning: unclosed <socket.socket fd=84, family=AddressFamily.AF_INET, type=SocketKind.SOCK_STREAM, proto=6, laddr=('127.0.0.1', 63781), raddr=('127.0.0.1', 11434)>\n",
      "  analyzer = GraphRAGSystem(row[\"question\"])\n",
      "ResourceWarning: Enable tracemalloc to get the object allocation traceback\n"
     ]
    },
    {
     "name": "stdout",
     "output_type": "stream",
     "text": [
      "Question 361: Does dry AMD cause retinal vein occlusion?\n",
      "Context: T...\n",
      "Response: True.\n",
      "\n"
     ]
    },
    {
     "name": "stderr",
     "output_type": "stream",
     "text": [
      "/var/folders/z3/zc5j75dj0qn_z2sp8qf47q340000gn/T/ipykernel_63108/652174667.py:8: ResourceWarning: unclosed <socket.socket fd=84, family=AddressFamily.AF_INET, type=SocketKind.SOCK_STREAM, proto=6, laddr=('127.0.0.1', 63803), raddr=('127.0.0.1', 11434)>\n",
      "  analyzer = GraphRAGSystem(row[\"question\"])\n",
      "ResourceWarning: Enable tracemalloc to get the object allocation traceback\n"
     ]
    },
    {
     "name": "stdout",
     "output_type": "stream",
     "text": [
      "Question 362: Is AMD detectable with routine eye chart tests?\n",
      "Context: T...\n",
      "Response: FALSE\n",
      "\n"
     ]
    },
    {
     "name": "stderr",
     "output_type": "stream",
     "text": [
      "/var/folders/z3/zc5j75dj0qn_z2sp8qf47q340000gn/T/ipykernel_63108/652174667.py:8: ResourceWarning: unclosed <socket.socket fd=84, family=AddressFamily.AF_INET, type=SocketKind.SOCK_STREAM, proto=6, laddr=('127.0.0.1', 63828), raddr=('127.0.0.1', 11434)>\n",
      "  analyzer = GraphRAGSystem(row[\"question\"])\n",
      "ResourceWarning: Enable tracemalloc to get the object allocation traceback\n"
     ]
    },
    {
     "name": "stdout",
     "output_type": "stream",
     "text": [
      "Question 363: Can AMD be cured with salt water rinses?\n",
      "Context: T...\n",
      "Response: False.\n",
      "\n"
     ]
    },
    {
     "name": "stderr",
     "output_type": "stream",
     "text": [
      "/var/folders/z3/zc5j75dj0qn_z2sp8qf47q340000gn/T/ipykernel_63108/652174667.py:8: ResourceWarning: unclosed <socket.socket fd=84, family=AddressFamily.AF_INET, type=SocketKind.SOCK_STREAM, proto=6, laddr=('127.0.0.1', 63857), raddr=('127.0.0.1', 11434)>\n",
      "  analyzer = GraphRAGSystem(row[\"question\"])\n",
      "ResourceWarning: Enable tracemalloc to get the object allocation traceback\n"
     ]
    },
    {
     "name": "stdout",
     "output_type": "stream",
     "text": [
      "Question 364: Does AMD cause issues seeing in glaring conditions?\n",
      "Context: T...\n",
      "Response: True.\n",
      "\n"
     ]
    },
    {
     "name": "stderr",
     "output_type": "stream",
     "text": [
      "/var/folders/z3/zc5j75dj0qn_z2sp8qf47q340000gn/T/ipykernel_63108/652174667.py:8: ResourceWarning: unclosed <socket.socket fd=84, family=AddressFamily.AF_INET, type=SocketKind.SOCK_STREAM, proto=6, laddr=('127.0.0.1', 63881), raddr=('127.0.0.1', 11434)>\n",
      "  analyzer = GraphRAGSystem(row[\"question\"])\n",
      "ResourceWarning: Enable tracemalloc to get the object allocation traceback\n"
     ]
    },
    {
     "name": "stdout",
     "output_type": "stream",
     "text": [
      "Question 365: Is wet AMD caused by a lack of dietary fats?\n",
      "Context: T...\n",
      "Response: False.\n",
      "\n"
     ]
    },
    {
     "name": "stderr",
     "output_type": "stream",
     "text": [
      "/var/folders/z3/zc5j75dj0qn_z2sp8qf47q340000gn/T/ipykernel_63108/652174667.py:8: ResourceWarning: unclosed <socket.socket fd=84, family=AddressFamily.AF_INET, type=SocketKind.SOCK_STREAM, proto=6, laddr=('127.0.0.1', 63906), raddr=('127.0.0.1', 11434)>\n",
      "  analyzer = GraphRAGSystem(row[\"question\"])\n",
      "ResourceWarning: Enable tracemalloc to get the object allocation traceback\n"
     ]
    },
    {
     "name": "stdout",
     "output_type": "stream",
     "text": [
      "Question 366: Can AMD increase reliance on corrective lenses?\n",
      "Context: T...\n",
      "Response: True\n",
      "\n"
     ]
    },
    {
     "name": "stderr",
     "output_type": "stream",
     "text": [
      "/var/folders/z3/zc5j75dj0qn_z2sp8qf47q340000gn/T/ipykernel_63108/652174667.py:8: ResourceWarning: unclosed <socket.socket fd=84, family=AddressFamily.AF_INET, type=SocketKind.SOCK_STREAM, proto=6, laddr=('127.0.0.1', 63929), raddr=('127.0.0.1', 11434)>\n",
      "  analyzer = GraphRAGSystem(row[\"question\"])\n",
      "ResourceWarning: Enable tracemalloc to get the object allocation traceback\n"
     ]
    },
    {
     "name": "stdout",
     "output_type": "stream",
     "text": [
      "Question 367: Does AMD affect the retinal ganglion cells directly?\n",
      "Context: T...\n",
      "Response: False.\n",
      "\n"
     ]
    },
    {
     "name": "stderr",
     "output_type": "stream",
     "text": [
      "/var/folders/z3/zc5j75dj0qn_z2sp8qf47q340000gn/T/ipykernel_63108/652174667.py:8: ResourceWarning: unclosed <socket.socket fd=84, family=AddressFamily.AF_INET, type=SocketKind.SOCK_STREAM, proto=6, laddr=('127.0.0.1', 63949), raddr=('127.0.0.1', 11434)>\n",
      "  analyzer = GraphRAGSystem(row[\"question\"])\n",
      "ResourceWarning: Enable tracemalloc to get the object allocation traceback\n"
     ]
    },
    {
     "name": "stdout",
     "output_type": "stream",
     "text": [
      "Question 368: Is AMD linked to trouble discerning subtle hues?\n",
      "Context: T...\n",
      "Response: True\n",
      "\n"
     ]
    },
    {
     "name": "stderr",
     "output_type": "stream",
     "text": [
      "/var/folders/z3/zc5j75dj0qn_z2sp8qf47q340000gn/T/ipykernel_63108/652174667.py:8: ResourceWarning: unclosed <socket.socket fd=84, family=AddressFamily.AF_INET, type=SocketKind.SOCK_STREAM, proto=6, laddr=('127.0.0.1', 63976), raddr=('127.0.0.1', 11434)>\n",
      "  analyzer = GraphRAGSystem(row[\"question\"])\n",
      "ResourceWarning: Enable tracemalloc to get the object allocation traceback\n"
     ]
    },
    {
     "name": "stdout",
     "output_type": "stream",
     "text": [
      "Question 369: Does wet AMD cause objects to appear wavy?\n",
      "Context: T...\n",
      "Response: False.\n",
      "\n"
     ]
    },
    {
     "name": "stderr",
     "output_type": "stream",
     "text": [
      "/var/folders/z3/zc5j75dj0qn_z2sp8qf47q340000gn/T/ipykernel_63108/652174667.py:8: ResourceWarning: unclosed <socket.socket fd=84, family=AddressFamily.AF_INET, type=SocketKind.SOCK_STREAM, proto=6, laddr=('127.0.0.1', 64000), raddr=('127.0.0.1', 11434)>\n",
      "  analyzer = GraphRAGSystem(row[\"question\"])\n",
      "ResourceWarning: Enable tracemalloc to get the object allocation traceback\n"
     ]
    },
    {
     "name": "stdout",
     "output_type": "stream",
     "text": [
      "Question 370: Is AMD caused by excessive use of shampoo?\n",
      "Context: T...\n",
      "Response: False\n",
      "\n"
     ]
    },
    {
     "name": "stderr",
     "output_type": "stream",
     "text": [
      "/var/folders/z3/zc5j75dj0qn_z2sp8qf47q340000gn/T/ipykernel_63108/652174667.py:8: ResourceWarning: unclosed <socket.socket fd=84, family=AddressFamily.AF_INET, type=SocketKind.SOCK_STREAM, proto=6, laddr=('127.0.0.1', 64028), raddr=('127.0.0.1', 11434)>\n",
      "  analyzer = GraphRAGSystem(row[\"question\"])\n",
      "ResourceWarning: Enable tracemalloc to get the object allocation traceback\n"
     ]
    },
    {
     "name": "stdout",
     "output_type": "stream",
     "text": [
      "Question 371: Can AMD lead to difficulty with tasks like fastening buttons?\n",
      "Context: T...\n",
      "Response: True\n",
      "\n"
     ]
    },
    {
     "name": "stderr",
     "output_type": "stream",
     "text": [
      "/var/folders/z3/zc5j75dj0qn_z2sp8qf47q340000gn/T/ipykernel_63108/652174667.py:8: ResourceWarning: unclosed <socket.socket fd=84, family=AddressFamily.AF_INET, type=SocketKind.SOCK_STREAM, proto=6, laddr=('127.0.0.1', 64057), raddr=('127.0.0.1', 11434)>\n",
      "  analyzer = GraphRAGSystem(row[\"question\"])\n",
      "ResourceWarning: Enable tracemalloc to get the object allocation traceback\n"
     ]
    },
    {
     "name": "stdout",
     "output_type": "stream",
     "text": [
      "Question 372: Does dry AMD cause retinal artery occlusion?\n",
      "Context: T...\n",
      "Response: False.\n",
      "\n"
     ]
    },
    {
     "name": "stderr",
     "output_type": "stream",
     "text": [
      "/var/folders/z3/zc5j75dj0qn_z2sp8qf47q340000gn/T/ipykernel_63108/652174667.py:8: ResourceWarning: unclosed <socket.socket fd=84, family=AddressFamily.AF_INET, type=SocketKind.SOCK_STREAM, proto=6, laddr=('127.0.0.1', 64081), raddr=('127.0.0.1', 11434)>\n",
      "  analyzer = GraphRAGSystem(row[\"question\"])\n",
      "ResourceWarning: Enable tracemalloc to get the object allocation traceback\n"
     ]
    },
    {
     "name": "stdout",
     "output_type": "stream",
     "text": [
      "Question 373: Is AMD associated with trouble reading analog clocks?\n",
      "Context: T...\n",
      "Response: True\n",
      "\n"
     ]
    },
    {
     "name": "stderr",
     "output_type": "stream",
     "text": [
      "/var/folders/z3/zc5j75dj0qn_z2sp8qf47q340000gn/T/ipykernel_63108/652174667.py:8: ResourceWarning: unclosed <socket.socket fd=84, family=AddressFamily.AF_INET, type=SocketKind.SOCK_STREAM, proto=6, laddr=('127.0.0.1', 64105), raddr=('127.0.0.1', 11434)>\n",
      "  analyzer = GraphRAGSystem(row[\"question\"])\n",
      "ResourceWarning: Enable tracemalloc to get the object allocation traceback\n"
     ]
    },
    {
     "name": "stdout",
     "output_type": "stream",
     "text": [
      "Question 374: Can AMD be treated with cough syrup?\n",
      "Context: T...\n",
      "Response: False\n",
      "\n"
     ]
    },
    {
     "name": "stderr",
     "output_type": "stream",
     "text": [
      "/var/folders/z3/zc5j75dj0qn_z2sp8qf47q340000gn/T/ipykernel_63108/652174667.py:8: ResourceWarning: unclosed <socket.socket fd=84, family=AddressFamily.AF_INET, type=SocketKind.SOCK_STREAM, proto=6, laddr=('127.0.0.1', 64129), raddr=('127.0.0.1', 11434)>\n",
      "  analyzer = GraphRAGSystem(row[\"question\"])\n",
      "ResourceWarning: Enable tracemalloc to get the object allocation traceback\n"
     ]
    },
    {
     "name": "stdout",
     "output_type": "stream",
     "text": [
      "Question 375: Does AMD affect the ability to read product labels?\n",
      "Context: T...\n",
      "Response: True\n",
      "\n"
     ]
    },
    {
     "name": "stderr",
     "output_type": "stream",
     "text": [
      "/var/folders/z3/zc5j75dj0qn_z2sp8qf47q340000gn/T/ipykernel_63108/652174667.py:8: ResourceWarning: unclosed <socket.socket fd=84, family=AddressFamily.AF_INET, type=SocketKind.SOCK_STREAM, proto=6, laddr=('127.0.0.1', 64155), raddr=('127.0.0.1', 11434)>\n",
      "  analyzer = GraphRAGSystem(row[\"question\"])\n",
      "ResourceWarning: Enable tracemalloc to get the object allocation traceback\n"
     ]
    },
    {
     "name": "stdout",
     "output_type": "stream",
     "text": [
      "Question 376: Is AMD caused by excessive exposure to heat?\n",
      "Context: T...\n",
      "Response: False\n",
      "\n"
     ]
    },
    {
     "name": "stderr",
     "output_type": "stream",
     "text": [
      "/var/folders/z3/zc5j75dj0qn_z2sp8qf47q340000gn/T/ipykernel_63108/652174667.py:8: ResourceWarning: unclosed <socket.socket fd=84, family=AddressFamily.AF_INET, type=SocketKind.SOCK_STREAM, proto=6, laddr=('127.0.0.1', 64181), raddr=('127.0.0.1', 11434)>\n",
      "  analyzer = GraphRAGSystem(row[\"question\"])\n",
      "ResourceWarning: Enable tracemalloc to get the object allocation traceback\n"
     ]
    },
    {
     "name": "stdout",
     "output_type": "stream",
     "text": [
      "Question 377: Can AMD impair the ability to dial a phone?\n",
      "Context: T...\n",
      "Response: True\n",
      "\n"
     ]
    },
    {
     "name": "stderr",
     "output_type": "stream",
     "text": [
      "/var/folders/z3/zc5j75dj0qn_z2sp8qf47q340000gn/T/ipykernel_63108/652174667.py:8: ResourceWarning: unclosed <socket.socket fd=84, family=AddressFamily.AF_INET, type=SocketKind.SOCK_STREAM, proto=6, laddr=('127.0.0.1', 64204), raddr=('127.0.0.1', 11434)>\n",
      "  analyzer = GraphRAGSystem(row[\"question\"])\n",
      "ResourceWarning: Enable tracemalloc to get the object allocation traceback\n"
     ]
    },
    {
     "name": "stdout",
     "output_type": "stream",
     "text": [
      "Question 378: Does wet AMD cause inflammation of the pupil?\n",
      "Context: T...\n",
      "Response: False\n",
      "\n"
     ]
    },
    {
     "name": "stderr",
     "output_type": "stream",
     "text": [
      "/var/folders/z3/zc5j75dj0qn_z2sp8qf47q340000gn/T/ipykernel_63108/652174667.py:8: ResourceWarning: unclosed <socket.socket fd=84, family=AddressFamily.AF_INET, type=SocketKind.SOCK_STREAM, proto=6, laddr=('127.0.0.1', 64227), raddr=('127.0.0.1', 11434)>\n",
      "  analyzer = GraphRAGSystem(row[\"question\"])\n",
      "ResourceWarning: Enable tracemalloc to get the object allocation traceback\n"
     ]
    },
    {
     "name": "stdout",
     "output_type": "stream",
     "text": [
      "Question 379: Is AMD linked to difficulty seeing in foggy weather?\n",
      "Context: A...\n",
      "Response: False\n",
      "\n"
     ]
    },
    {
     "name": "stderr",
     "output_type": "stream",
     "text": [
      "/var/folders/z3/zc5j75dj0qn_z2sp8qf47q340000gn/T/ipykernel_63108/652174667.py:8: ResourceWarning: unclosed <socket.socket fd=84, family=AddressFamily.AF_INET, type=SocketKind.SOCK_STREAM, proto=6, laddr=('127.0.0.1', 64249), raddr=('127.0.0.1', 11434)>\n",
      "  analyzer = GraphRAGSystem(row[\"question\"])\n",
      "ResourceWarning: Enable tracemalloc to get the object allocation traceback\n"
     ]
    },
    {
     "name": "stdout",
     "output_type": "stream",
     "text": [
      "Question 380: Can AMD be cured with lemon extract?\n",
      "Context: T...\n",
      "Response: False.\n",
      "\n"
     ]
    },
    {
     "name": "stderr",
     "output_type": "stream",
     "text": [
      "/var/folders/z3/zc5j75dj0qn_z2sp8qf47q340000gn/T/ipykernel_63108/652174667.py:8: ResourceWarning: unclosed <socket.socket fd=84, family=AddressFamily.AF_INET, type=SocketKind.SOCK_STREAM, proto=6, laddr=('127.0.0.1', 64273), raddr=('127.0.0.1', 11434)>\n",
      "  analyzer = GraphRAGSystem(row[\"question\"])\n",
      "ResourceWarning: Enable tracemalloc to get the object allocation traceback\n"
     ]
    },
    {
     "name": "stdout",
     "output_type": "stream",
     "text": [
      "Question 381: Does AMD cause trouble identifying visual patterns?\n",
      "Context: T...\n",
      "Response: True\n",
      "\n"
     ]
    },
    {
     "name": "stderr",
     "output_type": "stream",
     "text": [
      "/var/folders/z3/zc5j75dj0qn_z2sp8qf47q340000gn/T/ipykernel_63108/652174667.py:8: ResourceWarning: unclosed <socket.socket fd=84, family=AddressFamily.AF_INET, type=SocketKind.SOCK_STREAM, proto=6, laddr=('127.0.0.1', 64301), raddr=('127.0.0.1', 11434)>\n",
      "  analyzer = GraphRAGSystem(row[\"question\"])\n",
      "ResourceWarning: Enable tracemalloc to get the object allocation traceback\n"
     ]
    },
    {
     "name": "stdout",
     "output_type": "stream",
     "text": [
      "Question 382: Is dry AMD caused by excessive exposure to mold?\n",
      "Context: T...\n",
      "Response: False.\n",
      "\n"
     ]
    },
    {
     "name": "stderr",
     "output_type": "stream",
     "text": [
      "/var/folders/z3/zc5j75dj0qn_z2sp8qf47q340000gn/T/ipykernel_63108/652174667.py:8: ResourceWarning: unclosed <socket.socket fd=84, family=AddressFamily.AF_INET, type=SocketKind.SOCK_STREAM, proto=6, laddr=('127.0.0.1', 64330), raddr=('127.0.0.1', 11434)>\n",
      "  analyzer = GraphRAGSystem(row[\"question\"])\n",
      "ResourceWarning: Enable tracemalloc to get the object allocation traceback\n"
     ]
    },
    {
     "name": "stdout",
     "output_type": "stream",
     "text": [
      "Question 383: Can AMD affect the ability to appreciate scenic views?\n",
      "Context: T...\n",
      "Response: TRUE\n",
      "\n"
     ]
    },
    {
     "name": "stderr",
     "output_type": "stream",
     "text": [
      "/var/folders/z3/zc5j75dj0qn_z2sp8qf47q340000gn/T/ipykernel_63108/652174667.py:8: ResourceWarning: unclosed <socket.socket fd=84, family=AddressFamily.AF_INET, type=SocketKind.SOCK_STREAM, proto=6, laddr=('127.0.0.1', 64372), raddr=('127.0.0.1', 11434)>\n",
      "  analyzer = GraphRAGSystem(row[\"question\"])\n",
      "ResourceWarning: Enable tracemalloc to get the object allocation traceback\n"
     ]
    },
    {
     "name": "stdout",
     "output_type": "stream",
     "text": [
      "Question 384: Does AMD cause vision loss due to lens detachment?\n",
      "Context: T...\n",
      "Response: True.\n",
      "\n"
     ]
    },
    {
     "name": "stderr",
     "output_type": "stream",
     "text": [
      "/var/folders/z3/zc5j75dj0qn_z2sp8qf47q340000gn/T/ipykernel_63108/652174667.py:8: ResourceWarning: unclosed <socket.socket fd=84, family=AddressFamily.AF_INET, type=SocketKind.SOCK_STREAM, proto=6, laddr=('127.0.0.1', 64396), raddr=('127.0.0.1', 11434)>\n",
      "  analyzer = GraphRAGSystem(row[\"question\"])\n",
      "ResourceWarning: Enable tracemalloc to get the object allocation traceback\n"
     ]
    },
    {
     "name": "stdout",
     "output_type": "stream",
     "text": [
      "Question 385: Is AMD linked to difficulty reading restaurant menus?\n",
      "Context: T...\n",
      "Response: False\n",
      "\n"
     ]
    },
    {
     "name": "stderr",
     "output_type": "stream",
     "text": [
      "/var/folders/z3/zc5j75dj0qn_z2sp8qf47q340000gn/T/ipykernel_63108/652174667.py:8: ResourceWarning: unclosed <socket.socket fd=84, family=AddressFamily.AF_INET, type=SocketKind.SOCK_STREAM, proto=6, laddr=('127.0.0.1', 64418), raddr=('127.0.0.1', 11434)>\n",
      "  analyzer = GraphRAGSystem(row[\"question\"])\n",
      "ResourceWarning: Enable tracemalloc to get the object allocation traceback\n"
     ]
    },
    {
     "name": "stdout",
     "output_type": "stream",
     "text": [
      "Question 386: Can AMD be prevented by avoiding all salt?\n",
      "Context: T...\n",
      "Response: False.\n",
      "\n"
     ]
    },
    {
     "name": "stderr",
     "output_type": "stream",
     "text": [
      "/var/folders/z3/zc5j75dj0qn_z2sp8qf47q340000gn/T/ipykernel_63108/652174667.py:8: ResourceWarning: unclosed <socket.socket fd=84, family=AddressFamily.AF_INET, type=SocketKind.SOCK_STREAM, proto=6, laddr=('127.0.0.1', 64444), raddr=('127.0.0.1', 11434)>\n",
      "  analyzer = GraphRAGSystem(row[\"question\"])\n",
      "ResourceWarning: Enable tracemalloc to get the object allocation traceback\n"
     ]
    },
    {
     "name": "stdout",
     "output_type": "stream",
     "text": [
      "Question 387: Does wet AMD cause a central visual haze?\n",
      "Context: T...\n",
      "Response: False.\n",
      "\n"
     ]
    },
    {
     "name": "stderr",
     "output_type": "stream",
     "text": [
      "/var/folders/z3/zc5j75dj0qn_z2sp8qf47q340000gn/T/ipykernel_63108/652174667.py:8: ResourceWarning: unclosed <socket.socket fd=84, family=AddressFamily.AF_INET, type=SocketKind.SOCK_STREAM, proto=6, laddr=('127.0.0.1', 64476), raddr=('127.0.0.1', 11434)>\n",
      "  analyzer = GraphRAGSystem(row[\"question\"])\n",
      "ResourceWarning: Enable tracemalloc to get the object allocation traceback\n"
     ]
    },
    {
     "name": "stdout",
     "output_type": "stream",
     "text": [
      "Question 388: Is AMD caused by excessive use of conditioner?\n",
      "Context: T...\n",
      "Response: FALSE.\n",
      "\n"
     ]
    },
    {
     "name": "stderr",
     "output_type": "stream",
     "text": [
      "/var/folders/z3/zc5j75dj0qn_z2sp8qf47q340000gn/T/ipykernel_63108/652174667.py:8: ResourceWarning: unclosed <socket.socket fd=84, family=AddressFamily.AF_INET, type=SocketKind.SOCK_STREAM, proto=6, laddr=('127.0.0.1', 64499), raddr=('127.0.0.1', 11434)>\n",
      "  analyzer = GraphRAGSystem(row[\"question\"])\n",
      "ResourceWarning: Enable tracemalloc to get the object allocation traceback\n"
     ]
    },
    {
     "name": "stdout",
     "output_type": "stream",
     "text": [
      "Question 389: Can AMD impair the ability to sew intricate patterns?\n",
      "Context: S...\n",
      "Response: False. The information provided does not mention sewing or any activities that require fine motor skills, but rather visual functions such as central vision and motion sensitivity.\n",
      "\n"
     ]
    },
    {
     "name": "stderr",
     "output_type": "stream",
     "text": [
      "/var/folders/z3/zc5j75dj0qn_z2sp8qf47q340000gn/T/ipykernel_63108/652174667.py:8: ResourceWarning: unclosed <socket.socket fd=84, family=AddressFamily.AF_INET, type=SocketKind.SOCK_STREAM, proto=6, laddr=('127.0.0.1', 64522), raddr=('127.0.0.1', 11434)>\n",
      "  analyzer = GraphRAGSystem(row[\"question\"])\n",
      "ResourceWarning: Enable tracemalloc to get the object allocation traceback\n"
     ]
    },
    {
     "name": "stdout",
     "output_type": "stream",
     "text": [
      "Question 390: Does dry AMD cause retinal pigment epithelial swelling?\n",
      "Context: T...\n",
      "Response: False.\n",
      "\n"
     ]
    },
    {
     "name": "stderr",
     "output_type": "stream",
     "text": [
      "/var/folders/z3/zc5j75dj0qn_z2sp8qf47q340000gn/T/ipykernel_63108/652174667.py:8: ResourceWarning: unclosed <socket.socket fd=84, family=AddressFamily.AF_INET, type=SocketKind.SOCK_STREAM, proto=6, laddr=('127.0.0.1', 64547), raddr=('127.0.0.1', 11434)>\n",
      "  analyzer = GraphRAGSystem(row[\"question\"])\n",
      "ResourceWarning: Enable tracemalloc to get the object allocation traceback\n"
     ]
    },
    {
     "name": "stdout",
     "output_type": "stream",
     "text": [
      "Question 391: Is AMD linked to difficulty seeing fine details in images?\n",
      "Context: T...\n",
      "Response: True\n",
      "\n"
     ]
    },
    {
     "name": "stderr",
     "output_type": "stream",
     "text": [
      "/var/folders/z3/zc5j75dj0qn_z2sp8qf47q340000gn/T/ipykernel_63108/652174667.py:8: ResourceWarning: unclosed <socket.socket fd=84, family=AddressFamily.AF_INET, type=SocketKind.SOCK_STREAM, proto=6, laddr=('127.0.0.1', 64569), raddr=('127.0.0.1', 11434)>\n",
      "  analyzer = GraphRAGSystem(row[\"question\"])\n",
      "ResourceWarning: Enable tracemalloc to get the object allocation traceback\n"
     ]
    },
    {
     "name": "stdout",
     "output_type": "stream",
     "text": [
      "Question 392: Can AMD be treated with nasal decongestants?\n",
      "Context: S...\n",
      "Response: False.\n",
      "\n"
     ]
    },
    {
     "name": "stderr",
     "output_type": "stream",
     "text": [
      "/var/folders/z3/zc5j75dj0qn_z2sp8qf47q340000gn/T/ipykernel_63108/652174667.py:8: ResourceWarning: unclosed <socket.socket fd=84, family=AddressFamily.AF_INET, type=SocketKind.SOCK_STREAM, proto=6, laddr=('127.0.0.1', 64590), raddr=('127.0.0.1', 11434)>\n",
      "  analyzer = GraphRAGSystem(row[\"question\"])\n",
      "ResourceWarning: Enable tracemalloc to get the object allocation traceback\n"
     ]
    },
    {
     "name": "stdout",
     "output_type": "stream",
     "text": [
      "Question 393: Does AMD affect the ability to read digital displays?\n",
      "Context: T...\n",
      "Response: True\n",
      "\n"
     ]
    },
    {
     "name": "stderr",
     "output_type": "stream",
     "text": [
      "/var/folders/z3/zc5j75dj0qn_z2sp8qf47q340000gn/T/ipykernel_63108/652174667.py:8: ResourceWarning: unclosed <socket.socket fd=84, family=AddressFamily.AF_INET, type=SocketKind.SOCK_STREAM, proto=6, laddr=('127.0.0.1', 64613), raddr=('127.0.0.1', 11434)>\n",
      "  analyzer = GraphRAGSystem(row[\"question\"])\n",
      "ResourceWarning: Enable tracemalloc to get the object allocation traceback\n"
     ]
    },
    {
     "name": "stdout",
     "output_type": "stream",
     "text": [
      "Question 394: Is AMD caused by excessive exposure to humidity?\n",
      "Context: T...\n",
      "Response: False.\n",
      "\n"
     ]
    },
    {
     "name": "stderr",
     "output_type": "stream",
     "text": [
      "/var/folders/z3/zc5j75dj0qn_z2sp8qf47q340000gn/T/ipykernel_63108/652174667.py:8: ResourceWarning: unclosed <socket.socket fd=84, family=AddressFamily.AF_INET, type=SocketKind.SOCK_STREAM, proto=6, laddr=('127.0.0.1', 64637), raddr=('127.0.0.1', 11434)>\n",
      "  analyzer = GraphRAGSystem(row[\"question\"])\n",
      "ResourceWarning: Enable tracemalloc to get the object allocation traceback\n"
     ]
    },
    {
     "name": "stdout",
     "output_type": "stream",
     "text": [
      "Question 395: Can AMD impair the ability to see in dawn light?\n",
      "Context: T...\n",
      "Response: True.\n",
      "\n"
     ]
    },
    {
     "name": "stderr",
     "output_type": "stream",
     "text": [
      "/var/folders/z3/zc5j75dj0qn_z2sp8qf47q340000gn/T/ipykernel_63108/652174667.py:8: ResourceWarning: unclosed <socket.socket fd=84, family=AddressFamily.AF_INET, type=SocketKind.SOCK_STREAM, proto=6, laddr=('127.0.0.1', 64664), raddr=('127.0.0.1', 11434)>\n",
      "  analyzer = GraphRAGSystem(row[\"question\"])\n",
      "ResourceWarning: Enable tracemalloc to get the object allocation traceback\n"
     ]
    },
    {
     "name": "stdout",
     "output_type": "stream",
     "text": [
      "Question 396: Does AMD cause inflammation of the lens?\n",
      "Context: T...\n",
      "Response: True\n",
      "\n"
     ]
    },
    {
     "name": "stderr",
     "output_type": "stream",
     "text": [
      "/var/folders/z3/zc5j75dj0qn_z2sp8qf47q340000gn/T/ipykernel_63108/652174667.py:8: ResourceWarning: unclosed <socket.socket fd=84, family=AddressFamily.AF_INET, type=SocketKind.SOCK_STREAM, proto=6, laddr=('127.0.0.1', 64690), raddr=('127.0.0.1', 11434)>\n",
      "  analyzer = GraphRAGSystem(row[\"question\"])\n",
      "ResourceWarning: Enable tracemalloc to get the object allocation traceback\n"
     ]
    },
    {
     "name": "stdout",
     "output_type": "stream",
     "text": [
      "Question 397: Is AMD linked to difficulty reading fine print in books?\n",
      "Context: T...\n",
      "Response: True\n",
      "\n"
     ]
    },
    {
     "name": "stderr",
     "output_type": "stream",
     "text": [
      "/var/folders/z3/zc5j75dj0qn_z2sp8qf47q340000gn/T/ipykernel_63108/652174667.py:8: ResourceWarning: unclosed <socket.socket fd=84, family=AddressFamily.AF_INET, type=SocketKind.SOCK_STREAM, proto=6, laddr=('127.0.0.1', 64716), raddr=('127.0.0.1', 11434)>\n",
      "  analyzer = GraphRAGSystem(row[\"question\"])\n",
      "ResourceWarning: Enable tracemalloc to get the object allocation traceback\n"
     ]
    },
    {
     "name": "stdout",
     "output_type": "stream",
     "text": [
      "Question 398: Does wet AMD cause a central visual distortion?\n",
      "Context: T...\n",
      "Response: True\n",
      "\n"
     ]
    },
    {
     "name": "stderr",
     "output_type": "stream",
     "text": [
      "/var/folders/z3/zc5j75dj0qn_z2sp8qf47q340000gn/T/ipykernel_63108/652174667.py:8: ResourceWarning: unclosed <socket.socket fd=84, family=AddressFamily.AF_INET, type=SocketKind.SOCK_STREAM, proto=6, laddr=('127.0.0.1', 64742), raddr=('127.0.0.1', 11434)>\n",
      "  analyzer = GraphRAGSystem(row[\"question\"])\n",
      "ResourceWarning: Enable tracemalloc to get the object allocation traceback\n"
     ]
    },
    {
     "name": "stdout",
     "output_type": "stream",
     "text": [
      "Question 399: Is AMD caused by excessive use of body lotion?\n",
      "Context: T...\n",
      "Response: False.\n",
      "\n"
     ]
    },
    {
     "name": "stderr",
     "output_type": "stream",
     "text": [
      "/var/folders/z3/zc5j75dj0qn_z2sp8qf47q340000gn/T/ipykernel_63108/652174667.py:8: ResourceWarning: unclosed <socket.socket fd=84, family=AddressFamily.AF_INET, type=SocketKind.SOCK_STREAM, proto=6, laddr=('127.0.0.1', 64764), raddr=('127.0.0.1', 11434)>\n",
      "  analyzer = GraphRAGSystem(row[\"question\"])\n",
      "ResourceWarning: Enable tracemalloc to get the object allocation traceback\n"
     ]
    },
    {
     "name": "stdout",
     "output_type": "stream",
     "text": [
      "Question 400: Can AMD affect the ability to see details on a tablet?\n",
      "Context: T...\n",
      "Response: True\n",
      "\n"
     ]
    },
    {
     "name": "stderr",
     "output_type": "stream",
     "text": [
      "/var/folders/z3/zc5j75dj0qn_z2sp8qf47q340000gn/T/ipykernel_63108/652174667.py:8: ResourceWarning: unclosed <socket.socket fd=84, family=AddressFamily.AF_INET, type=SocketKind.SOCK_STREAM, proto=6, laddr=('127.0.0.1', 64784), raddr=('127.0.0.1', 11434)>\n",
      "  analyzer = GraphRAGSystem(row[\"question\"])\n",
      "ResourceWarning: Enable tracemalloc to get the object allocation traceback\n"
     ]
    },
    {
     "name": "stdout",
     "output_type": "stream",
     "text": [
      "Question 401: Does dry AMD cause rapid retinal pigment epithelial regeneration?\n",
      "Context: T...\n",
      "Response: False.\n",
      "\n"
     ]
    },
    {
     "name": "stderr",
     "output_type": "stream",
     "text": [
      "/var/folders/z3/zc5j75dj0qn_z2sp8qf47q340000gn/T/ipykernel_63108/652174667.py:8: ResourceWarning: unclosed <socket.socket fd=84, family=AddressFamily.AF_INET, type=SocketKind.SOCK_STREAM, proto=6, laddr=('127.0.0.1', 64816), raddr=('127.0.0.1', 11434)>\n",
      "  analyzer = GraphRAGSystem(row[\"question\"])\n",
      "ResourceWarning: Enable tracemalloc to get the object allocation traceback\n"
     ]
    },
    {
     "name": "stdout",
     "output_type": "stream",
     "text": [
      "Question 402: Is AMD linked to difficulty seeing in dusk conditions?\n",
      "Context: T...\n",
      "Response: True\n",
      "\n"
     ]
    },
    {
     "name": "stderr",
     "output_type": "stream",
     "text": [
      "/var/folders/z3/zc5j75dj0qn_z2sp8qf47q340000gn/T/ipykernel_63108/652174667.py:8: ResourceWarning: unclosed <socket.socket fd=84, family=AddressFamily.AF_INET, type=SocketKind.SOCK_STREAM, proto=6, laddr=('127.0.0.1', 64845), raddr=('127.0.0.1', 11434)>\n",
      "  analyzer = GraphRAGSystem(row[\"question\"])\n",
      "ResourceWarning: Enable tracemalloc to get the object allocation traceback\n"
     ]
    },
    {
     "name": "stdout",
     "output_type": "stream",
     "text": [
      "Question 403: Can AMD be treated with lip balm?\n",
      "Context: T...\n",
      "Response: False\n",
      "\n"
     ]
    },
    {
     "name": "stderr",
     "output_type": "stream",
     "text": [
      "/var/folders/z3/zc5j75dj0qn_z2sp8qf47q340000gn/T/ipykernel_63108/652174667.py:8: ResourceWarning: unclosed <socket.socket fd=84, family=AddressFamily.AF_INET, type=SocketKind.SOCK_STREAM, proto=6, laddr=('127.0.0.1', 64867), raddr=('127.0.0.1', 11434)>\n",
      "  analyzer = GraphRAGSystem(row[\"question\"])\n",
      "ResourceWarning: Enable tracemalloc to get the object allocation traceback\n"
     ]
    },
    {
     "name": "stdout",
     "output_type": "stream",
     "text": [
      "Question 404: Does AMD cause trouble reading fine text on screens?\n",
      "Context: T...\n",
      "Response: True\n",
      "\n"
     ]
    },
    {
     "name": "stderr",
     "output_type": "stream",
     "text": [
      "/var/folders/z3/zc5j75dj0qn_z2sp8qf47q340000gn/T/ipykernel_63108/652174667.py:8: ResourceWarning: unclosed <socket.socket fd=84, family=AddressFamily.AF_INET, type=SocketKind.SOCK_STREAM, proto=6, laddr=('127.0.0.1', 64916), raddr=('127.0.0.1', 11434)>\n",
      "  analyzer = GraphRAGSystem(row[\"question\"])\n",
      "ResourceWarning: Enable tracemalloc to get the object allocation traceback\n"
     ]
    },
    {
     "name": "stdout",
     "output_type": "stream",
     "text": [
      "Question 405: Is AMD caused by excessive exposure to perfumes?\n",
      "Context: T...\n",
      "Response: False.\n",
      "\n"
     ]
    },
    {
     "name": "stderr",
     "output_type": "stream",
     "text": [
      "/var/folders/z3/zc5j75dj0qn_z2sp8qf47q340000gn/T/ipykernel_63108/652174667.py:8: ResourceWarning: unclosed <socket.socket fd=84, family=AddressFamily.AF_INET, type=SocketKind.SOCK_STREAM, proto=6, laddr=('127.0.0.1', 64989), raddr=('127.0.0.1', 11434)>\n",
      "  analyzer = GraphRAGSystem(row[\"question\"])\n",
      "ResourceWarning: Enable tracemalloc to get the object allocation traceback\n"
     ]
    },
    {
     "name": "stdout",
     "output_type": "stream",
     "text": [
      "Question 406: Can AMD affect the ability to see details in artwork?\n",
      "Context: T...\n",
      "Response: TRUE\n",
      "\n"
     ]
    },
    {
     "name": "stderr",
     "output_type": "stream",
     "text": [
      "/var/folders/z3/zc5j75dj0qn_z2sp8qf47q340000gn/T/ipykernel_63108/652174667.py:8: ResourceWarning: unclosed <socket.socket fd=84, family=AddressFamily.AF_INET, type=SocketKind.SOCK_STREAM, proto=6, laddr=('127.0.0.1', 65022), raddr=('127.0.0.1', 11434)>\n",
      "  analyzer = GraphRAGSystem(row[\"question\"])\n",
      "ResourceWarning: Enable tracemalloc to get the object allocation traceback\n"
     ]
    },
    {
     "name": "stdout",
     "output_type": "stream",
     "text": [
      "Question 407: Does wet AMD cause inflammation of the cornea?\n",
      "Context: W...\n",
      "Response: False.\n",
      "\n"
     ]
    },
    {
     "name": "stderr",
     "output_type": "stream",
     "text": [
      "/var/folders/z3/zc5j75dj0qn_z2sp8qf47q340000gn/T/ipykernel_63108/652174667.py:8: ResourceWarning: unclosed <socket.socket fd=84, family=AddressFamily.AF_INET, type=SocketKind.SOCK_STREAM, proto=6, laddr=('127.0.0.1', 65047), raddr=('127.0.0.1', 11434)>\n",
      "  analyzer = GraphRAGSystem(row[\"question\"])\n",
      "ResourceWarning: Enable tracemalloc to get the object allocation traceback\n"
     ]
    },
    {
     "name": "stdout",
     "output_type": "stream",
     "text": [
      "Question 408: Is AMD linked to difficulty seeing in cloudy weather?\n",
      "Context: T...\n",
      "Response: False.\n",
      "\n"
     ]
    },
    {
     "name": "stderr",
     "output_type": "stream",
     "text": [
      "/var/folders/z3/zc5j75dj0qn_z2sp8qf47q340000gn/T/ipykernel_63108/652174667.py:8: ResourceWarning: unclosed <socket.socket fd=84, family=AddressFamily.AF_INET, type=SocketKind.SOCK_STREAM, proto=6, laddr=('127.0.0.1', 65083), raddr=('127.0.0.1', 11434)>\n",
      "  analyzer = GraphRAGSystem(row[\"question\"])\n",
      "ResourceWarning: Enable tracemalloc to get the object allocation traceback\n"
     ]
    },
    {
     "name": "stdout",
     "output_type": "stream",
     "text": [
      "Question 409: Can AMD be cured with sugar pills?\n",
      "Context: T...\n",
      "Response: False.\n",
      "\n"
     ]
    },
    {
     "name": "stderr",
     "output_type": "stream",
     "text": [
      "/var/folders/z3/zc5j75dj0qn_z2sp8qf47q340000gn/T/ipykernel_63108/652174667.py:8: ResourceWarning: unclosed <socket.socket fd=84, family=AddressFamily.AF_INET, type=SocketKind.SOCK_STREAM, proto=6, laddr=('127.0.0.1', 65115), raddr=('127.0.0.1', 11434)>\n",
      "  analyzer = GraphRAGSystem(row[\"question\"])\n",
      "ResourceWarning: Enable tracemalloc to get the object allocation traceback\n"
     ]
    },
    {
     "name": "stdout",
     "output_type": "stream",
     "text": [
      "Question 410: Does AMD cause challenges with seeing fine details in crafts?\n",
      "Context: T...\n",
      "Response: True\n",
      "\n"
     ]
    },
    {
     "name": "stderr",
     "output_type": "stream",
     "text": [
      "/var/folders/z3/zc5j75dj0qn_z2sp8qf47q340000gn/T/ipykernel_63108/652174667.py:8: ResourceWarning: unclosed <socket.socket fd=84, family=AddressFamily.AF_INET, type=SocketKind.SOCK_STREAM, proto=6, laddr=('127.0.0.1', 65139), raddr=('127.0.0.1', 11434)>\n",
      "  analyzer = GraphRAGSystem(row[\"question\"])\n",
      "ResourceWarning: Enable tracemalloc to get the object allocation traceback\n"
     ]
    },
    {
     "name": "stdout",
     "output_type": "stream",
     "text": [
      "Question 411: Is AMD caused by excessive exposure to sand?\n",
      "Context: T...\n",
      "Response: False\n",
      "\n"
     ]
    },
    {
     "name": "stderr",
     "output_type": "stream",
     "text": [
      "/var/folders/z3/zc5j75dj0qn_z2sp8qf47q340000gn/T/ipykernel_63108/652174667.py:8: ResourceWarning: unclosed <socket.socket fd=84, family=AddressFamily.AF_INET, type=SocketKind.SOCK_STREAM, proto=6, laddr=('127.0.0.1', 65163), raddr=('127.0.0.1', 11434)>\n",
      "  analyzer = GraphRAGSystem(row[\"question\"])\n",
      "ResourceWarning: Enable tracemalloc to get the object allocation traceback\n"
     ]
    },
    {
     "name": "stdout",
     "output_type": "stream",
     "text": [
      "Question 412: Can AMD affect the ability to see fine details in landscapes?\n",
      "Context: T...\n",
      "Response: True\n",
      "\n"
     ]
    },
    {
     "name": "stderr",
     "output_type": "stream",
     "text": [
      "/var/folders/z3/zc5j75dj0qn_z2sp8qf47q340000gn/T/ipykernel_63108/652174667.py:8: ResourceWarning: unclosed <socket.socket fd=84, family=AddressFamily.AF_INET, type=SocketKind.SOCK_STREAM, proto=6, laddr=('127.0.0.1', 65190), raddr=('127.0.0.1', 11434)>\n",
      "  analyzer = GraphRAGSystem(row[\"question\"])\n",
      "ResourceWarning: Enable tracemalloc to get the object allocation traceback\n"
     ]
    },
    {
     "name": "stdout",
     "output_type": "stream",
     "text": [
      "Question 413: Does dry AMD cause rapid choroidal repair?\n",
      "Context: T...\n",
      "Response: False.\n",
      "\n"
     ]
    },
    {
     "name": "stderr",
     "output_type": "stream",
     "text": [
      "/var/folders/z3/zc5j75dj0qn_z2sp8qf47q340000gn/T/ipykernel_63108/652174667.py:8: ResourceWarning: unclosed <socket.socket fd=84, family=AddressFamily.AF_INET, type=SocketKind.SOCK_STREAM, proto=6, laddr=('127.0.0.1', 65213), raddr=('127.0.0.1', 11434)>\n",
      "  analyzer = GraphRAGSystem(row[\"question\"])\n",
      "ResourceWarning: Enable tracemalloc to get the object allocation traceback\n"
     ]
    },
    {
     "name": "stdout",
     "output_type": "stream",
     "text": [
      "Question 414: Does AMD cause trouble seeing subtle contrasts?\n",
      "Context: T...\n",
      "Response: True.\n",
      "\n"
     ]
    },
    {
     "name": "stderr",
     "output_type": "stream",
     "text": [
      "/var/folders/z3/zc5j75dj0qn_z2sp8qf47q340000gn/T/ipykernel_63108/652174667.py:8: ResourceWarning: unclosed <socket.socket fd=84, family=AddressFamily.AF_INET, type=SocketKind.SOCK_STREAM, proto=6, laddr=('127.0.0.1', 65241), raddr=('127.0.0.1', 11434)>\n",
      "  analyzer = GraphRAGSystem(row[\"question\"])\n",
      "ResourceWarning: Enable tracemalloc to get the object allocation traceback\n"
     ]
    },
    {
     "name": "stdout",
     "output_type": "stream",
     "text": [
      "Question 415: Is wet AMD caused by excessive exposure to smoke?\n",
      "Context: T...\n",
      "Response: False.\n",
      "\n"
     ]
    },
    {
     "name": "stderr",
     "output_type": "stream",
     "text": [
      "/var/folders/z3/zc5j75dj0qn_z2sp8qf47q340000gn/T/ipykernel_63108/652174667.py:8: ResourceWarning: unclosed <socket.socket fd=84, family=AddressFamily.AF_INET, type=SocketKind.SOCK_STREAM, proto=6, laddr=('127.0.0.1', 65269), raddr=('127.0.0.1', 11434)>\n",
      "  analyzer = GraphRAGSystem(row[\"question\"])\n",
      "ResourceWarning: Enable tracemalloc to get the object allocation traceback\n"
     ]
    },
    {
     "name": "stdout",
     "output_type": "stream",
     "text": [
      "Question 416: Can dry AMD lead to loss of retinal pigment?\n",
      "Context: T...\n",
      "Response: True\n",
      "\n"
     ]
    },
    {
     "name": "stderr",
     "output_type": "stream",
     "text": [
      "/var/folders/z3/zc5j75dj0qn_z2sp8qf47q340000gn/T/ipykernel_63108/652174667.py:8: ResourceWarning: unclosed <socket.socket fd=84, family=AddressFamily.AF_INET, type=SocketKind.SOCK_STREAM, proto=6, laddr=('127.0.0.1', 65296), raddr=('127.0.0.1', 11434)>\n",
      "  analyzer = GraphRAGSystem(row[\"question\"])\n",
      "ResourceWarning: Enable tracemalloc to get the object allocation traceback\n"
     ]
    },
    {
     "name": "stdout",
     "output_type": "stream",
     "text": [
      "Question 417: Is AMD treatable with antihistamines?\n",
      "Context: T...\n",
      "Response: FALSE\n",
      "\n"
     ]
    },
    {
     "name": "stderr",
     "output_type": "stream",
     "text": [
      "/var/folders/z3/zc5j75dj0qn_z2sp8qf47q340000gn/T/ipykernel_63108/652174667.py:8: ResourceWarning: unclosed <socket.socket fd=84, family=AddressFamily.AF_INET, type=SocketKind.SOCK_STREAM, proto=6, laddr=('127.0.0.1', 65320), raddr=('127.0.0.1', 11434)>\n",
      "  analyzer = GraphRAGSystem(row[\"question\"])\n",
      "ResourceWarning: Enable tracemalloc to get the object allocation traceback\n"
     ]
    },
    {
     "name": "stdout",
     "output_type": "stream",
     "text": [
      "Question 418: Does wet AMD cause a sudden central blind spot?\n",
      "Context: T...\n",
      "Response: True.\n",
      "\n"
     ]
    },
    {
     "name": "stderr",
     "output_type": "stream",
     "text": [
      "/var/folders/z3/zc5j75dj0qn_z2sp8qf47q340000gn/T/ipykernel_63108/652174667.py:8: ResourceWarning: unclosed <socket.socket fd=84, family=AddressFamily.AF_INET, type=SocketKind.SOCK_STREAM, proto=6, laddr=('127.0.0.1', 65342), raddr=('127.0.0.1', 11434)>\n",
      "  analyzer = GraphRAGSystem(row[\"question\"])\n",
      "ResourceWarning: Enable tracemalloc to get the object allocation traceback\n"
     ]
    },
    {
     "name": "stdout",
     "output_type": "stream",
     "text": [
      "Question 419: Can AMD be prevented by avoiding all fruits?\n",
      "Context: S...\n",
      "Response: False.\n",
      "\n"
     ]
    },
    {
     "name": "stderr",
     "output_type": "stream",
     "text": [
      "/var/folders/z3/zc5j75dj0qn_z2sp8qf47q340000gn/T/ipykernel_63108/652174667.py:8: ResourceWarning: unclosed <socket.socket fd=84, family=AddressFamily.AF_INET, type=SocketKind.SOCK_STREAM, proto=6, laddr=('127.0.0.1', 65367), raddr=('127.0.0.1', 11434)>\n",
      "  analyzer = GraphRAGSystem(row[\"question\"])\n",
      "ResourceWarning: Enable tracemalloc to get the object allocation traceback\n"
     ]
    },
    {
     "name": "stdout",
     "output_type": "stream",
     "text": [
      "Question 420: Is coronary artery disease a risk factor for AMD?\n",
      "Context: T...\n",
      "Response: True\n",
      "\n"
     ]
    },
    {
     "name": "stderr",
     "output_type": "stream",
     "text": [
      "/var/folders/z3/zc5j75dj0qn_z2sp8qf47q340000gn/T/ipykernel_63108/652174667.py:8: ResourceWarning: unclosed <socket.socket fd=84, family=AddressFamily.AF_INET, type=SocketKind.SOCK_STREAM, proto=6, laddr=('127.0.0.1', 65390), raddr=('127.0.0.1', 11434)>\n",
      "  analyzer = GraphRAGSystem(row[\"question\"])\n",
      "ResourceWarning: Enable tracemalloc to get the object allocation traceback\n"
     ]
    },
    {
     "name": "stdout",
     "output_type": "stream",
     "text": [
      "Question 421: Does dry AMD cause instant vision impairment?\n",
      "Context: T...\n",
      "Response: False.\n",
      "\n"
     ]
    },
    {
     "name": "stderr",
     "output_type": "stream",
     "text": [
      "/var/folders/z3/zc5j75dj0qn_z2sp8qf47q340000gn/T/ipykernel_63108/652174667.py:8: ResourceWarning: unclosed <socket.socket fd=84, family=AddressFamily.AF_INET, type=SocketKind.SOCK_STREAM, proto=6, laddr=('127.0.0.1', 65412), raddr=('127.0.0.1', 11434)>\n",
      "  analyzer = GraphRAGSystem(row[\"question\"])\n",
      "ResourceWarning: Enable tracemalloc to get the object allocation traceback\n"
     ]
    },
    {
     "name": "stdout",
     "output_type": "stream",
     "text": [
      "Question 422: Can perimetry testing detect AMD-related vision loss?\n",
      "Context: P...\n",
      "Response: False.\n",
      "\n"
     ]
    },
    {
     "name": "stderr",
     "output_type": "stream",
     "text": [
      "/var/folders/z3/zc5j75dj0qn_z2sp8qf47q340000gn/T/ipykernel_63108/652174667.py:8: ResourceWarning: unclosed <socket.socket fd=84, family=AddressFamily.AF_INET, type=SocketKind.SOCK_STREAM, proto=6, laddr=('127.0.0.1', 65435), raddr=('127.0.0.1', 11434)>\n",
      "  analyzer = GraphRAGSystem(row[\"question\"])\n",
      "ResourceWarning: Enable tracemalloc to get the object allocation traceback\n"
     ]
    },
    {
     "name": "stdout",
     "output_type": "stream",
     "text": [
      "Question 423: Is AMD a condition of the eyelids?\n",
      "Context: T...\n",
      "Response: False.\n",
      "\n"
     ]
    },
    {
     "name": "stderr",
     "output_type": "stream",
     "text": [
      "/var/folders/z3/zc5j75dj0qn_z2sp8qf47q340000gn/T/ipykernel_63108/652174667.py:8: ResourceWarning: unclosed <socket.socket fd=84, family=AddressFamily.AF_INET, type=SocketKind.SOCK_STREAM, proto=6, laddr=('127.0.0.1', 65461), raddr=('127.0.0.1', 11434)>\n",
      "  analyzer = GraphRAGSystem(row[\"question\"])\n",
      "ResourceWarning: Enable tracemalloc to get the object allocation traceback\n"
     ]
    },
    {
     "name": "stdout",
     "output_type": "stream",
     "text": [
      "Question 424: Does AMD impair the ability to see clear boundaries?\n",
      "Context: T...\n",
      "Response: True.\n",
      "\n"
     ]
    },
    {
     "name": "stderr",
     "output_type": "stream",
     "text": [
      "/var/folders/z3/zc5j75dj0qn_z2sp8qf47q340000gn/T/ipykernel_63108/652174667.py:8: ResourceWarning: unclosed <socket.socket fd=84, family=AddressFamily.AF_INET, type=SocketKind.SOCK_STREAM, proto=6, laddr=('127.0.0.1', 65485), raddr=('127.0.0.1', 11434)>\n",
      "  analyzer = GraphRAGSystem(row[\"question\"])\n",
      "ResourceWarning: Enable tracemalloc to get the object allocation traceback\n"
     ]
    },
    {
     "name": "stdout",
     "output_type": "stream",
     "text": [
      "Question 425: Can AMD be diagnosed with a breath test?\n",
      "Context: S...\n",
      "Response: FALSE.\n",
      "\n"
     ]
    },
    {
     "name": "stderr",
     "output_type": "stream",
     "text": [
      "/var/folders/z3/zc5j75dj0qn_z2sp8qf47q340000gn/T/ipykernel_63108/652174667.py:8: ResourceWarning: unclosed <socket.socket fd=84, family=AddressFamily.AF_INET, type=SocketKind.SOCK_STREAM, proto=6, laddr=('127.0.0.1', 65506), raddr=('127.0.0.1', 11434)>\n",
      "  analyzer = GraphRAGSystem(row[\"question\"])\n",
      "ResourceWarning: Enable tracemalloc to get the object allocation traceback\n"
     ]
    },
    {
     "name": "stdout",
     "output_type": "stream",
     "text": [
      "Question 426: Is contrast sensitivity testing useful for AMD monitoring?\n",
      "Context: C...\n",
      "Response: True\n",
      "\n"
     ]
    },
    {
     "name": "stderr",
     "output_type": "stream",
     "text": [
      "/var/folders/z3/zc5j75dj0qn_z2sp8qf47q340000gn/T/ipykernel_63108/652174667.py:8: ResourceWarning: unclosed <socket.socket fd=84, family=AddressFamily.AF_INET, type=SocketKind.SOCK_STREAM, proto=6, laddr=('127.0.0.1', 65532), raddr=('127.0.0.1', 11434)>\n",
      "  analyzer = GraphRAGSystem(row[\"question\"])\n",
      "ResourceWarning: Enable tracemalloc to get the object allocation traceback\n"
     ]
    },
    {
     "name": "stdout",
     "output_type": "stream",
     "text": [
      "Question 427: Does wet AMD cause subretinal hemorrhages?\n",
      "Context: T...\n",
      "Response: False.\n",
      "\n"
     ]
    },
    {
     "name": "stderr",
     "output_type": "stream",
     "text": [
      "/var/folders/z3/zc5j75dj0qn_z2sp8qf47q340000gn/T/ipykernel_63108/652174667.py:8: ResourceWarning: unclosed <socket.socket fd=84, family=AddressFamily.AF_INET, type=SocketKind.SOCK_STREAM, proto=6, laddr=('127.0.0.1', 49173), raddr=('127.0.0.1', 11434)>\n",
      "  analyzer = GraphRAGSystem(row[\"question\"])\n",
      "ResourceWarning: Enable tracemalloc to get the object allocation traceback\n"
     ]
    },
    {
     "name": "stdout",
     "output_type": "stream",
     "text": [
      "Question 428: Is early-stage AMD typically symptomatic?\n",
      "Context: T...\n",
      "Response: True\n",
      "\n"
     ]
    },
    {
     "name": "stderr",
     "output_type": "stream",
     "text": [
      "/var/folders/z3/zc5j75dj0qn_z2sp8qf47q340000gn/T/ipykernel_63108/652174667.py:8: ResourceWarning: unclosed <socket.socket fd=84, family=AddressFamily.AF_INET, type=SocketKind.SOCK_STREAM, proto=6, laddr=('127.0.0.1', 49198), raddr=('127.0.0.1', 11434)>\n",
      "  analyzer = GraphRAGSystem(row[\"question\"])\n",
      "ResourceWarning: Enable tracemalloc to get the object allocation traceback\n"
     ]
    },
    {
     "name": "stdout",
     "output_type": "stream",
     "text": [
      "Question 429: Does chronic systemic inflammation contribute to AMD?\n",
      "Context: C...\n",
      "Response: True\n",
      "\n"
     ]
    },
    {
     "name": "stderr",
     "output_type": "stream",
     "text": [
      "/var/folders/z3/zc5j75dj0qn_z2sp8qf47q340000gn/T/ipykernel_63108/652174667.py:8: ResourceWarning: unclosed <socket.socket fd=84, family=AddressFamily.AF_INET, type=SocketKind.SOCK_STREAM, proto=6, laddr=('127.0.0.1', 49222), raddr=('127.0.0.1', 11434)>\n",
      "  analyzer = GraphRAGSystem(row[\"question\"])\n",
      "ResourceWarning: Enable tracemalloc to get the object allocation traceback\n"
     ]
    },
    {
     "name": "stdout",
     "output_type": "stream",
     "text": [
      "Question 430: Is AMD caused by excessive exposure to silence?\n",
      "Context: T...\n",
      "Response: False.\n",
      "\n"
     ]
    },
    {
     "name": "stderr",
     "output_type": "stream",
     "text": [
      "/var/folders/z3/zc5j75dj0qn_z2sp8qf47q340000gn/T/ipykernel_63108/652174667.py:8: ResourceWarning: unclosed <socket.socket fd=84, family=AddressFamily.AF_INET, type=SocketKind.SOCK_STREAM, proto=6, laddr=('127.0.0.1', 49251), raddr=('127.0.0.1', 11434)>\n",
      "  analyzer = GraphRAGSystem(row[\"question\"])\n",
      "ResourceWarning: Enable tracemalloc to get the object allocation traceback\n"
     ]
    },
    {
     "name": "stdout",
     "output_type": "stream",
     "text": [
      "Question 431: Can magnifiers help with AMD-related vision difficulties?\n",
      "Context: T...\n",
      "Response: True\n",
      "\n"
     ]
    },
    {
     "name": "stderr",
     "output_type": "stream",
     "text": [
      "/var/folders/z3/zc5j75dj0qn_z2sp8qf47q340000gn/T/ipykernel_63108/652174667.py:8: ResourceWarning: unclosed <socket.socket fd=84, family=AddressFamily.AF_INET, type=SocketKind.SOCK_STREAM, proto=6, laddr=('127.0.0.1', 49276), raddr=('127.0.0.1', 11434)>\n",
      "  analyzer = GraphRAGSystem(row[\"question\"])\n",
      "ResourceWarning: Enable tracemalloc to get the object allocation traceback\n"
     ]
    },
    {
     "name": "stdout",
     "output_type": "stream",
     "text": [
      "Question 432: Does AMD affect the retinal inner layers directly?\n",
      "Context: T...\n",
      "Response: False.\n",
      "\n"
     ]
    },
    {
     "name": "stderr",
     "output_type": "stream",
     "text": [
      "/var/folders/z3/zc5j75dj0qn_z2sp8qf47q340000gn/T/ipykernel_63108/652174667.py:8: ResourceWarning: unclosed <socket.socket fd=84, family=AddressFamily.AF_INET, type=SocketKind.SOCK_STREAM, proto=6, laddr=('127.0.0.1', 49305), raddr=('127.0.0.1', 11434)>\n",
      "  analyzer = GraphRAGSystem(row[\"question\"])\n",
      "ResourceWarning: Enable tracemalloc to get the object allocation traceback\n"
     ]
    },
    {
     "name": "stdout",
     "output_type": "stream",
     "text": [
      "Question 433: Is impaired retinal metabolism a feature of AMD?\n",
      "Context: I...\n",
      "Response: True\n",
      "\n"
     ]
    },
    {
     "name": "stderr",
     "output_type": "stream",
     "text": [
      "/var/folders/z3/zc5j75dj0qn_z2sp8qf47q340000gn/T/ipykernel_63108/652174667.py:8: ResourceWarning: unclosed <socket.socket fd=84, family=AddressFamily.AF_INET, type=SocketKind.SOCK_STREAM, proto=6, laddr=('127.0.0.1', 49331), raddr=('127.0.0.1', 11434)>\n",
      "  analyzer = GraphRAGSystem(row[\"question\"])\n",
      "ResourceWarning: Enable tracemalloc to get the object allocation traceback\n"
     ]
    },
    {
     "name": "stdout",
     "output_type": "stream",
     "text": [
      "Question 434: Can AMD be reversed with sound therapy?\n",
      "Context: T...\n",
      "Response: False.\n",
      "\n"
     ]
    },
    {
     "name": "stderr",
     "output_type": "stream",
     "text": [
      "/var/folders/z3/zc5j75dj0qn_z2sp8qf47q340000gn/T/ipykernel_63108/652174667.py:8: ResourceWarning: unclosed <socket.socket fd=84, family=AddressFamily.AF_INET, type=SocketKind.SOCK_STREAM, proto=6, laddr=('127.0.0.1', 49352), raddr=('127.0.0.1', 11434)>\n",
      "  analyzer = GraphRAGSystem(row[\"question\"])\n",
      "ResourceWarning: Enable tracemalloc to get the object allocation traceback\n"
     ]
    },
    {
     "name": "stdout",
     "output_type": "stream",
     "text": [
      "Question 435: Does AMD cause difficulty with tasks requiring fine vision?\n",
      "Context: T...\n",
      "Response: True\n",
      "\n"
     ]
    },
    {
     "name": "stderr",
     "output_type": "stream",
     "text": [
      "/var/folders/z3/zc5j75dj0qn_z2sp8qf47q340000gn/T/ipykernel_63108/652174667.py:8: ResourceWarning: unclosed <socket.socket fd=84, family=AddressFamily.AF_INET, type=SocketKind.SOCK_STREAM, proto=6, laddr=('127.0.0.1', 49374), raddr=('127.0.0.1', 11434)>\n",
      "  analyzer = GraphRAGSystem(row[\"question\"])\n",
      "ResourceWarning: Enable tracemalloc to get the object allocation traceback\n"
     ]
    },
    {
     "name": "stdout",
     "output_type": "stream",
     "text": [
      "Question 436: Is AMD caused by a lack of dietary salt?\n",
      "Context: S...\n",
      "Response: False.\n",
      "\n"
     ]
    },
    {
     "name": "stderr",
     "output_type": "stream",
     "text": [
      "/var/folders/z3/zc5j75dj0qn_z2sp8qf47q340000gn/T/ipykernel_63108/652174667.py:8: ResourceWarning: unclosed <socket.socket fd=84, family=AddressFamily.AF_INET, type=SocketKind.SOCK_STREAM, proto=6, laddr=('127.0.0.1', 49398), raddr=('127.0.0.1', 11434)>\n",
      "  analyzer = GraphRAGSystem(row[\"question\"])\n",
      "ResourceWarning: Enable tracemalloc to get the object allocation traceback\n"
     ]
    },
    {
     "name": "stdout",
     "output_type": "stream",
     "text": [
      "Question 437: Can advanced AMD hinder daily functioning?\n",
      "Context: A...\n",
      "Response: True\n",
      "\n"
     ]
    },
    {
     "name": "stderr",
     "output_type": "stream",
     "text": [
      "/var/folders/z3/zc5j75dj0qn_z2sp8qf47q340000gn/T/ipykernel_63108/652174667.py:8: ResourceWarning: unclosed <socket.socket fd=84, family=AddressFamily.AF_INET, type=SocketKind.SOCK_STREAM, proto=6, laddr=('127.0.0.1', 49424), raddr=('127.0.0.1', 11434)>\n",
      "  analyzer = GraphRAGSystem(row[\"question\"])\n",
      "ResourceWarning: Enable tracemalloc to get the object allocation traceback\n"
     ]
    },
    {
     "name": "stdout",
     "output_type": "stream",
     "text": [
      "Question 438: Does wet AMD cause slow vision recovery?\n",
      "Context: T...\n",
      "Response: True.\n",
      "\n"
     ]
    },
    {
     "name": "stderr",
     "output_type": "stream",
     "text": [
      "/var/folders/z3/zc5j75dj0qn_z2sp8qf47q340000gn/T/ipykernel_63108/652174667.py:8: ResourceWarning: unclosed <socket.socket fd=84, family=AddressFamily.AF_INET, type=SocketKind.SOCK_STREAM, proto=6, laddr=('127.0.0.1', 49451), raddr=('127.0.0.1', 11434)>\n",
      "  analyzer = GraphRAGSystem(row[\"question\"])\n",
      "ResourceWarning: Enable tracemalloc to get the object allocation traceback\n"
     ]
    },
    {
     "name": "stdout",
     "output_type": "stream",
     "text": [
      "Question 439: Is AMD linked to difficulty in chaotic visual settings?\n",
      "Context: T...\n",
      "Response: False.\n",
      "\n"
     ]
    },
    {
     "name": "stderr",
     "output_type": "stream",
     "text": [
      "/var/folders/z3/zc5j75dj0qn_z2sp8qf47q340000gn/T/ipykernel_63108/652174667.py:8: ResourceWarning: unclosed <socket.socket fd=84, family=AddressFamily.AF_INET, type=SocketKind.SOCK_STREAM, proto=6, laddr=('127.0.0.1', 49474), raddr=('127.0.0.1', 11434)>\n",
      "  analyzer = GraphRAGSystem(row[\"question\"])\n",
      "ResourceWarning: Enable tracemalloc to get the object allocation traceback\n"
     ]
    },
    {
     "name": "stdout",
     "output_type": "stream",
     "text": [
      "Question 440: Can AMD be treated with honey?\n",
      "Context: T...\n",
      "Response: False.\n",
      "\n"
     ]
    },
    {
     "name": "stderr",
     "output_type": "stream",
     "text": [
      "/var/folders/z3/zc5j75dj0qn_z2sp8qf47q340000gn/T/ipykernel_63108/652174667.py:8: ResourceWarning: unclosed <socket.socket fd=84, family=AddressFamily.AF_INET, type=SocketKind.SOCK_STREAM, proto=6, laddr=('127.0.0.1', 49500), raddr=('127.0.0.1', 11434)>\n",
      "  analyzer = GraphRAGSystem(row[\"question\"])\n",
      "ResourceWarning: Enable tracemalloc to get the object allocation traceback\n"
     ]
    },
    {
     "name": "stdout",
     "output_type": "stream",
     "text": [
      "Question 441: Does AMD increase the risk of tripping in dim light?\n",
      "Context: T...\n",
      "Response: False.\n",
      "\n"
     ]
    },
    {
     "name": "stderr",
     "output_type": "stream",
     "text": [
      "/var/folders/z3/zc5j75dj0qn_z2sp8qf47q340000gn/T/ipykernel_63108/652174667.py:8: ResourceWarning: unclosed <socket.socket fd=84, family=AddressFamily.AF_INET, type=SocketKind.SOCK_STREAM, proto=6, laddr=('127.0.0.1', 49526), raddr=('127.0.0.1', 11434)>\n",
      "  analyzer = GraphRAGSystem(row[\"question\"])\n",
      "ResourceWarning: Enable tracemalloc to get the object allocation traceback\n"
     ]
    },
    {
     "name": "stdout",
     "output_type": "stream",
     "text": [
      "Question 442: Is dry AMD treated with steroid injections?\n",
      "Context: T...\n",
      "Response: False.\n",
      "\n"
     ]
    },
    {
     "name": "stderr",
     "output_type": "stream",
     "text": [
      "/var/folders/z3/zc5j75dj0qn_z2sp8qf47q340000gn/T/ipykernel_63108/652174667.py:8: ResourceWarning: unclosed <socket.socket fd=84, family=AddressFamily.AF_INET, type=SocketKind.SOCK_STREAM, proto=6, laddr=('127.0.0.1', 49548), raddr=('127.0.0.1', 11434)>\n",
      "  analyzer = GraphRAGSystem(row[\"question\"])\n",
      "ResourceWarning: Enable tracemalloc to get the object allocation traceback\n"
     ]
    },
    {
     "name": "stdout",
     "output_type": "stream",
     "text": [
      "Question 443: Can stopping smoking mitigate AMD progression?\n",
      "Context: T...\n",
      "Response: True\n",
      "\n"
     ]
    },
    {
     "name": "stderr",
     "output_type": "stream",
     "text": [
      "/var/folders/z3/zc5j75dj0qn_z2sp8qf47q340000gn/T/ipykernel_63108/652174667.py:8: ResourceWarning: unclosed <socket.socket fd=84, family=AddressFamily.AF_INET, type=SocketKind.SOCK_STREAM, proto=6, laddr=('127.0.0.1', 49570), raddr=('127.0.0.1', 11434)>\n",
      "  analyzer = GraphRAGSystem(row[\"question\"])\n",
      "ResourceWarning: Enable tracemalloc to get the object allocation traceback\n"
     ]
    },
    {
     "name": "stdout",
     "output_type": "stream",
     "text": [
      "Question 444: Does AMD cause swelling of the retina’s inner layers?\n",
      "Context: T...\n",
      "Response: True\n",
      "\n"
     ]
    },
    {
     "name": "stderr",
     "output_type": "stream",
     "text": [
      "/var/folders/z3/zc5j75dj0qn_z2sp8qf47q340000gn/T/ipykernel_63108/652174667.py:8: ResourceWarning: unclosed <socket.socket fd=84, family=AddressFamily.AF_INET, type=SocketKind.SOCK_STREAM, proto=6, laddr=('127.0.0.1', 49593), raddr=('127.0.0.1', 11434)>\n",
      "  analyzer = GraphRAGSystem(row[\"question\"])\n",
      "ResourceWarning: Enable tracemalloc to get the object allocation traceback\n"
     ]
    },
    {
     "name": "stdout",
     "output_type": "stream",
     "text": [
      "Question 445: Is AMD associated with trouble seeing detailed patterns?\n",
      "Context: T...\n",
      "Response: True\n",
      "\n"
     ]
    },
    {
     "name": "stderr",
     "output_type": "stream",
     "text": [
      "/var/folders/z3/zc5j75dj0qn_z2sp8qf47q340000gn/T/ipykernel_63108/652174667.py:8: ResourceWarning: unclosed <socket.socket fd=84, family=AddressFamily.AF_INET, type=SocketKind.SOCK_STREAM, proto=6, laddr=('127.0.0.1', 49618), raddr=('127.0.0.1', 11434)>\n",
      "  analyzer = GraphRAGSystem(row[\"question\"])\n",
      "ResourceWarning: Enable tracemalloc to get the object allocation traceback\n"
     ]
    },
    {
     "name": "stdout",
     "output_type": "stream",
     "text": [
      "Question 446: Does wet AMD cause a central gray area?\n",
      "Context: T...\n",
      "Response: False.\n",
      "\n"
     ]
    },
    {
     "name": "stderr",
     "output_type": "stream",
     "text": [
      "/var/folders/z3/zc5j75dj0qn_z2sp8qf47q340000gn/T/ipykernel_63108/652174667.py:8: ResourceWarning: unclosed <socket.socket fd=84, family=AddressFamily.AF_INET, type=SocketKind.SOCK_STREAM, proto=6, laddr=('127.0.0.1', 49639), raddr=('127.0.0.1', 11434)>\n",
      "  analyzer = GraphRAGSystem(row[\"question\"])\n",
      "ResourceWarning: Enable tracemalloc to get the object allocation traceback\n"
     ]
    },
    {
     "name": "stdout",
     "output_type": "stream",
     "text": [
      "Question 447: Is AMD caused by excessive exposure to dry air?\n",
      "Context: T...\n",
      "Response: False.\n",
      "\n"
     ]
    },
    {
     "name": "stderr",
     "output_type": "stream",
     "text": [
      "/var/folders/z3/zc5j75dj0qn_z2sp8qf47q340000gn/T/ipykernel_63108/652174667.py:8: ResourceWarning: unclosed <socket.socket fd=84, family=AddressFamily.AF_INET, type=SocketKind.SOCK_STREAM, proto=6, laddr=('127.0.0.1', 49661), raddr=('127.0.0.1', 11434)>\n",
      "  analyzer = GraphRAGSystem(row[\"question\"])\n",
      "ResourceWarning: Enable tracemalloc to get the object allocation traceback\n"
     ]
    },
    {
     "name": "stdout",
     "output_type": "stream",
     "text": [
      "Question 448: Can AMD affect the ability to identify distant objects?\n",
      "Context: T...\n",
      "Response: TRUE\n",
      "\n"
     ]
    },
    {
     "name": "stderr",
     "output_type": "stream",
     "text": [
      "/var/folders/z3/zc5j75dj0qn_z2sp8qf47q340000gn/T/ipykernel_63108/652174667.py:8: ResourceWarning: unclosed <socket.socket fd=84, family=AddressFamily.AF_INET, type=SocketKind.SOCK_STREAM, proto=6, laddr=('127.0.0.1', 49686), raddr=('127.0.0.1', 11434)>\n",
      "  analyzer = GraphRAGSystem(row[\"question\"])\n",
      "ResourceWarning: Enable tracemalloc to get the object allocation traceback\n"
     ]
    },
    {
     "name": "stdout",
     "output_type": "stream",
     "text": [
      "Question 449: Does dry AMD cause retinal detachment?\n",
      "Context: T...\n",
      "Response: True\n",
      "\n"
     ]
    },
    {
     "name": "stderr",
     "output_type": "stream",
     "text": [
      "/var/folders/z3/zc5j75dj0qn_z2sp8qf47q340000gn/T/ipykernel_63108/652174667.py:8: ResourceWarning: unclosed <socket.socket fd=84, family=AddressFamily.AF_INET, type=SocketKind.SOCK_STREAM, proto=6, laddr=('127.0.0.1', 49709), raddr=('127.0.0.1', 11434)>\n",
      "  analyzer = GraphRAGSystem(row[\"question\"])\n",
      "ResourceWarning: Enable tracemalloc to get the object allocation traceback\n"
     ]
    },
    {
     "name": "stdout",
     "output_type": "stream",
     "text": [
      "Question 450: Is AMD detectable with color vision tests?\n",
      "Context: T...\n",
      "Response: True\n",
      "\n"
     ]
    },
    {
     "name": "stderr",
     "output_type": "stream",
     "text": [
      "/var/folders/z3/zc5j75dj0qn_z2sp8qf47q340000gn/T/ipykernel_63108/652174667.py:8: ResourceWarning: unclosed <socket.socket fd=84, family=AddressFamily.AF_INET, type=SocketKind.SOCK_STREAM, proto=6, laddr=('127.0.0.1', 49731), raddr=('127.0.0.1', 11434)>\n",
      "  analyzer = GraphRAGSystem(row[\"question\"])\n",
      "ResourceWarning: Enable tracemalloc to get the object allocation traceback\n"
     ]
    },
    {
     "name": "stdout",
     "output_type": "stream",
     "text": [
      "Question 451: Can AMD be cured with vinegar?\n",
      "Context: T...\n",
      "Response: False.\n",
      "\n"
     ]
    },
    {
     "name": "stderr",
     "output_type": "stream",
     "text": [
      "/var/folders/z3/zc5j75dj0qn_z2sp8qf47q340000gn/T/ipykernel_63108/652174667.py:8: ResourceWarning: unclosed <socket.socket fd=84, family=AddressFamily.AF_INET, type=SocketKind.SOCK_STREAM, proto=6, laddr=('127.0.0.1', 49753), raddr=('127.0.0.1', 11434)>\n",
      "  analyzer = GraphRAGSystem(row[\"question\"])\n",
      "ResourceWarning: Enable tracemalloc to get the object allocation traceback\n"
     ]
    },
    {
     "name": "stdout",
     "output_type": "stream",
     "text": [
      "Question 452: Does AMD cause problems seeing in reflective light?\n",
      "Context: T...\n",
      "Response: False\n",
      "\n"
     ]
    },
    {
     "name": "stderr",
     "output_type": "stream",
     "text": [
      "/var/folders/z3/zc5j75dj0qn_z2sp8qf47q340000gn/T/ipykernel_63108/652174667.py:8: ResourceWarning: unclosed <socket.socket fd=84, family=AddressFamily.AF_INET, type=SocketKind.SOCK_STREAM, proto=6, laddr=('127.0.0.1', 49778), raddr=('127.0.0.1', 11434)>\n",
      "  analyzer = GraphRAGSystem(row[\"question\"])\n",
      "ResourceWarning: Enable tracemalloc to get the object allocation traceback\n"
     ]
    },
    {
     "name": "stdout",
     "output_type": "stream",
     "text": [
      "Question 453: Is wet AMD caused by a lack of dietary protein?\n",
      "Context: T...\n",
      "Response: False\n",
      "\n"
     ]
    },
    {
     "name": "stderr",
     "output_type": "stream",
     "text": [
      "/var/folders/z3/zc5j75dj0qn_z2sp8qf47q340000gn/T/ipykernel_63108/652174667.py:8: ResourceWarning: unclosed <socket.socket fd=84, family=AddressFamily.AF_INET, type=SocketKind.SOCK_STREAM, proto=6, laddr=('127.0.0.1', 49802), raddr=('127.0.0.1', 11434)>\n",
      "  analyzer = GraphRAGSystem(row[\"question\"])\n",
      "ResourceWarning: Enable tracemalloc to get the object allocation traceback\n"
     ]
    },
    {
     "name": "stdout",
     "output_type": "stream",
     "text": [
      "Question 454: Can AMD increase dependence on optical aids?\n",
      "Context: T...\n",
      "Response: True\n",
      "\n"
     ]
    },
    {
     "name": "stderr",
     "output_type": "stream",
     "text": [
      "/var/folders/z3/zc5j75dj0qn_z2sp8qf47q340000gn/T/ipykernel_63108/652174667.py:8: ResourceWarning: unclosed <socket.socket fd=84, family=AddressFamily.AF_INET, type=SocketKind.SOCK_STREAM, proto=6, laddr=('127.0.0.1', 49823), raddr=('127.0.0.1', 11434)>\n",
      "  analyzer = GraphRAGSystem(row[\"question\"])\n",
      "ResourceWarning: Enable tracemalloc to get the object allocation traceback\n"
     ]
    },
    {
     "name": "stdout",
     "output_type": "stream",
     "text": [
      "Question 455: Does AMD affect the retinal blood vessels directly?\n",
      "Context: T...\n",
      "Response: False.\n",
      "\n"
     ]
    },
    {
     "name": "stderr",
     "output_type": "stream",
     "text": [
      "/var/folders/z3/zc5j75dj0qn_z2sp8qf47q340000gn/T/ipykernel_63108/652174667.py:8: ResourceWarning: unclosed <socket.socket fd=84, family=AddressFamily.AF_INET, type=SocketKind.SOCK_STREAM, proto=6, laddr=('127.0.0.1', 49851), raddr=('127.0.0.1', 11434)>\n",
      "  analyzer = GraphRAGSystem(row[\"question\"])\n",
      "ResourceWarning: Enable tracemalloc to get the object allocation traceback\n"
     ]
    },
    {
     "name": "stdout",
     "output_type": "stream",
     "text": [
      "Question 456: Is AMD linked to difficulty perceiving faint colors?\n",
      "Context: T...\n",
      "Response: True\n",
      "\n"
     ]
    },
    {
     "name": "stderr",
     "output_type": "stream",
     "text": [
      "/var/folders/z3/zc5j75dj0qn_z2sp8qf47q340000gn/T/ipykernel_63108/652174667.py:8: ResourceWarning: unclosed <socket.socket fd=84, family=AddressFamily.AF_INET, type=SocketKind.SOCK_STREAM, proto=6, laddr=('127.0.0.1', 49876), raddr=('127.0.0.1', 11434)>\n",
      "  analyzer = GraphRAGSystem(row[\"question\"])\n",
      "ResourceWarning: Enable tracemalloc to get the object allocation traceback\n"
     ]
    },
    {
     "name": "stdout",
     "output_type": "stream",
     "text": [
      "Question 457: Does wet AMD cause lines to appear curved?\n",
      "Context: T...\n",
      "Response: True\n",
      "\n"
     ]
    },
    {
     "name": "stderr",
     "output_type": "stream",
     "text": [
      "/var/folders/z3/zc5j75dj0qn_z2sp8qf47q340000gn/T/ipykernel_63108/652174667.py:8: ResourceWarning: unclosed <socket.socket fd=84, family=AddressFamily.AF_INET, type=SocketKind.SOCK_STREAM, proto=6, laddr=('127.0.0.1', 49897), raddr=('127.0.0.1', 11434)>\n",
      "  analyzer = GraphRAGSystem(row[\"question\"])\n",
      "ResourceWarning: Enable tracemalloc to get the object allocation traceback\n"
     ]
    },
    {
     "name": "stdout",
     "output_type": "stream",
     "text": [
      "Question 458: Is AMD caused by excessive use of soap?\n",
      "Context: T...\n",
      "Response: False.\n",
      "\n"
     ]
    },
    {
     "name": "stderr",
     "output_type": "stream",
     "text": [
      "/var/folders/z3/zc5j75dj0qn_z2sp8qf47q340000gn/T/ipykernel_63108/652174667.py:8: ResourceWarning: unclosed <socket.socket fd=84, family=AddressFamily.AF_INET, type=SocketKind.SOCK_STREAM, proto=6, laddr=('127.0.0.1', 49919), raddr=('127.0.0.1', 11434)>\n",
      "  analyzer = GraphRAGSystem(row[\"question\"])\n",
      "ResourceWarning: Enable tracemalloc to get the object allocation traceback\n"
     ]
    },
    {
     "name": "stdout",
     "output_type": "stream",
     "text": [
      "Question 459: Can AMD lead to difficulty with tasks like tying knots?\n",
      "Context: T...\n",
      "Response: True.\n",
      "\n"
     ]
    },
    {
     "name": "stderr",
     "output_type": "stream",
     "text": [
      "/var/folders/z3/zc5j75dj0qn_z2sp8qf47q340000gn/T/ipykernel_63108/652174667.py:8: ResourceWarning: unclosed <socket.socket fd=84, family=AddressFamily.AF_INET, type=SocketKind.SOCK_STREAM, proto=6, laddr=('127.0.0.1', 49943), raddr=('127.0.0.1', 11434)>\n",
      "  analyzer = GraphRAGSystem(row[\"question\"])\n",
      "ResourceWarning: Enable tracemalloc to get the object allocation traceback\n"
     ]
    },
    {
     "name": "stdout",
     "output_type": "stream",
     "text": [
      "Question 460: Does dry AMD cause optic nerve inflammation?\n",
      "Context: T...\n",
      "Response: False.\n",
      "\n"
     ]
    },
    {
     "name": "stderr",
     "output_type": "stream",
     "text": [
      "/var/folders/z3/zc5j75dj0qn_z2sp8qf47q340000gn/T/ipykernel_63108/652174667.py:8: ResourceWarning: unclosed <socket.socket fd=84, family=AddressFamily.AF_INET, type=SocketKind.SOCK_STREAM, proto=6, laddr=('127.0.0.1', 49968), raddr=('127.0.0.1', 11434)>\n",
      "  analyzer = GraphRAGSystem(row[\"question\"])\n",
      "ResourceWarning: Enable tracemalloc to get the object allocation traceback\n"
     ]
    },
    {
     "name": "stdout",
     "output_type": "stream",
     "text": [
      "Question 461: Is AMD associated with trouble reading digital clocks?\n",
      "Context: T...\n",
      "Response: True\n",
      "\n"
     ]
    },
    {
     "name": "stderr",
     "output_type": "stream",
     "text": [
      "/var/folders/z3/zc5j75dj0qn_z2sp8qf47q340000gn/T/ipykernel_63108/652174667.py:8: ResourceWarning: unclosed <socket.socket fd=84, family=AddressFamily.AF_INET, type=SocketKind.SOCK_STREAM, proto=6, laddr=('127.0.0.1', 49991), raddr=('127.0.0.1', 11434)>\n",
      "  analyzer = GraphRAGSystem(row[\"question\"])\n",
      "ResourceWarning: Enable tracemalloc to get the object allocation traceback\n"
     ]
    },
    {
     "name": "stdout",
     "output_type": "stream",
     "text": [
      "Question 462: Can AMD be treated with antacids?\n",
      "Context: S...\n",
      "Response: False.\n",
      "\n"
     ]
    },
    {
     "name": "stderr",
     "output_type": "stream",
     "text": [
      "/var/folders/z3/zc5j75dj0qn_z2sp8qf47q340000gn/T/ipykernel_63108/652174667.py:8: ResourceWarning: unclosed <socket.socket fd=84, family=AddressFamily.AF_INET, type=SocketKind.SOCK_STREAM, proto=6, laddr=('127.0.0.1', 50014), raddr=('127.0.0.1', 11434)>\n",
      "  analyzer = GraphRAGSystem(row[\"question\"])\n",
      "ResourceWarning: Enable tracemalloc to get the object allocation traceback\n"
     ]
    },
    {
     "name": "stdout",
     "output_type": "stream",
     "text": [
      "Question 463: Does AMD affect the ability to read fine print on bottles?\n",
      "Context: T...\n",
      "Response: FALSE.\n",
      "\n"
     ]
    },
    {
     "name": "stderr",
     "output_type": "stream",
     "text": [
      "/var/folders/z3/zc5j75dj0qn_z2sp8qf47q340000gn/T/ipykernel_63108/652174667.py:8: ResourceWarning: unclosed <socket.socket fd=84, family=AddressFamily.AF_INET, type=SocketKind.SOCK_STREAM, proto=6, laddr=('127.0.0.1', 50041), raddr=('127.0.0.1', 11434)>\n",
      "  analyzer = GraphRAGSystem(row[\"question\"])\n",
      "ResourceWarning: Enable tracemalloc to get the object allocation traceback\n"
     ]
    },
    {
     "name": "stdout",
     "output_type": "stream",
     "text": [
      "Question 464: Is AMD caused by excessive exposure to fog?\n",
      "Context: S...\n",
      "Response: False\n",
      "\n"
     ]
    },
    {
     "name": "stderr",
     "output_type": "stream",
     "text": [
      "/var/folders/z3/zc5j75dj0qn_z2sp8qf47q340000gn/T/ipykernel_63108/652174667.py:8: ResourceWarning: unclosed <socket.socket fd=84, family=AddressFamily.AF_INET, type=SocketKind.SOCK_STREAM, proto=6, laddr=('127.0.0.1', 50065), raddr=('127.0.0.1', 11434)>\n",
      "  analyzer = GraphRAGSystem(row[\"question\"])\n",
      "ResourceWarning: Enable tracemalloc to get the object allocation traceback\n"
     ]
    },
    {
     "name": "stdout",
     "output_type": "stream",
     "text": [
      "Question 465: Can AMD impair the ability to use a keypad?\n",
      "Context: T...\n",
      "Response: True.\n",
      "\n"
     ]
    },
    {
     "name": "stderr",
     "output_type": "stream",
     "text": [
      "/var/folders/z3/zc5j75dj0qn_z2sp8qf47q340000gn/T/ipykernel_63108/652174667.py:8: ResourceWarning: unclosed <socket.socket fd=84, family=AddressFamily.AF_INET, type=SocketKind.SOCK_STREAM, proto=6, laddr=('127.0.0.1', 50088), raddr=('127.0.0.1', 11434)>\n",
      "  analyzer = GraphRAGSystem(row[\"question\"])\n",
      "ResourceWarning: Enable tracemalloc to get the object allocation traceback\n"
     ]
    },
    {
     "name": "stdout",
     "output_type": "stream",
     "text": [
      "Question 466: Does wet AMD cause inflammation of the optic nerve?\n",
      "Context: T...\n",
      "Response: True\n",
      "\n"
     ]
    },
    {
     "name": "stderr",
     "output_type": "stream",
     "text": [
      "/var/folders/z3/zc5j75dj0qn_z2sp8qf47q340000gn/T/ipykernel_63108/652174667.py:8: ResourceWarning: unclosed <socket.socket fd=84, family=AddressFamily.AF_INET, type=SocketKind.SOCK_STREAM, proto=6, laddr=('127.0.0.1', 50108), raddr=('127.0.0.1', 11434)>\n",
      "  analyzer = GraphRAGSystem(row[\"question\"])\n",
      "ResourceWarning: Enable tracemalloc to get the object allocation traceback\n"
     ]
    },
    {
     "name": "stdout",
     "output_type": "stream",
     "text": [
      "Question 467: Is AMD linked to difficulty seeing in misty conditions?\n",
      "Context: T...\n",
      "Response: TRUE\n",
      "\n"
     ]
    },
    {
     "name": "stderr",
     "output_type": "stream",
     "text": [
      "/var/folders/z3/zc5j75dj0qn_z2sp8qf47q340000gn/T/ipykernel_63108/652174667.py:8: ResourceWarning: unclosed <socket.socket fd=84, family=AddressFamily.AF_INET, type=SocketKind.SOCK_STREAM, proto=6, laddr=('127.0.0.1', 50131), raddr=('127.0.0.1', 11434)>\n",
      "  analyzer = GraphRAGSystem(row[\"question\"])\n",
      "ResourceWarning: Enable tracemalloc to get the object allocation traceback\n"
     ]
    },
    {
     "name": "stdout",
     "output_type": "stream",
     "text": [
      "Question 468: Can AMD be cured with garlic extract?\n",
      "Context: S...\n",
      "Response: False\n",
      "\n"
     ]
    },
    {
     "name": "stderr",
     "output_type": "stream",
     "text": [
      "/var/folders/z3/zc5j75dj0qn_z2sp8qf47q340000gn/T/ipykernel_63108/652174667.py:8: ResourceWarning: unclosed <socket.socket fd=84, family=AddressFamily.AF_INET, type=SocketKind.SOCK_STREAM, proto=6, laddr=('127.0.0.1', 50154), raddr=('127.0.0.1', 11434)>\n",
      "  analyzer = GraphRAGSystem(row[\"question\"])\n",
      "ResourceWarning: Enable tracemalloc to get the object allocation traceback\n"
     ]
    },
    {
     "name": "stdout",
     "output_type": "stream",
     "text": [
      "Question 469: Does AMD cause trouble identifying visual textures?\n",
      "Context: T...\n",
      "Response: True\n",
      "\n"
     ]
    },
    {
     "name": "stderr",
     "output_type": "stream",
     "text": [
      "/var/folders/z3/zc5j75dj0qn_z2sp8qf47q340000gn/T/ipykernel_63108/652174667.py:8: ResourceWarning: unclosed <socket.socket fd=84, family=AddressFamily.AF_INET, type=SocketKind.SOCK_STREAM, proto=6, laddr=('127.0.0.1', 50176), raddr=('127.0.0.1', 11434)>\n",
      "  analyzer = GraphRAGSystem(row[\"question\"])\n",
      "ResourceWarning: Enable tracemalloc to get the object allocation traceback\n"
     ]
    },
    {
     "name": "stdout",
     "output_type": "stream",
     "text": [
      "Question 470: Is dry AMD caused by excessive exposure to pollen?\n",
      "Context: T...\n",
      "Response: FALSE\n",
      "\n"
     ]
    },
    {
     "name": "stderr",
     "output_type": "stream",
     "text": [
      "/var/folders/z3/zc5j75dj0qn_z2sp8qf47q340000gn/T/ipykernel_63108/652174667.py:8: ResourceWarning: unclosed <socket.socket fd=84, family=AddressFamily.AF_INET, type=SocketKind.SOCK_STREAM, proto=6, laddr=('127.0.0.1', 50202), raddr=('127.0.0.1', 11434)>\n",
      "  analyzer = GraphRAGSystem(row[\"question\"])\n",
      "ResourceWarning: Enable tracemalloc to get the object allocation traceback\n"
     ]
    },
    {
     "name": "stdout",
     "output_type": "stream",
     "text": [
      "Question 471: Can AMD affect the ability to enjoy detailed scenery?\n",
      "Context: T...\n",
      "Response: False\n",
      "\n"
     ]
    },
    {
     "name": "stderr",
     "output_type": "stream",
     "text": [
      "/var/folders/z3/zc5j75dj0qn_z2sp8qf47q340000gn/T/ipykernel_63108/652174667.py:8: ResourceWarning: unclosed <socket.socket fd=84, family=AddressFamily.AF_INET, type=SocketKind.SOCK_STREAM, proto=6, laddr=('127.0.0.1', 50225), raddr=('127.0.0.1', 11434)>\n",
      "  analyzer = GraphRAGSystem(row[\"question\"])\n",
      "ResourceWarning: Enable tracemalloc to get the object allocation traceback\n"
     ]
    },
    {
     "name": "stdout",
     "output_type": "stream",
     "text": [
      "Question 472: Does AMD cause vision loss due to optic disc damage?\n",
      "Context: T...\n",
      "Response: False\n",
      "\n"
     ]
    },
    {
     "name": "stderr",
     "output_type": "stream",
     "text": [
      "/var/folders/z3/zc5j75dj0qn_z2sp8qf47q340000gn/T/ipykernel_63108/652174667.py:8: ResourceWarning: unclosed <socket.socket fd=84, family=AddressFamily.AF_INET, type=SocketKind.SOCK_STREAM, proto=6, laddr=('127.0.0.1', 50246), raddr=('127.0.0.1', 11434)>\n",
      "  analyzer = GraphRAGSystem(row[\"question\"])\n",
      "ResourceWarning: Enable tracemalloc to get the object allocation traceback\n"
     ]
    },
    {
     "name": "stdout",
     "output_type": "stream",
     "text": [
      "Question 473: Is AMD linked to difficulty reading price tags?\n",
      "Context: T...\n",
      "Response: False\n",
      "\n"
     ]
    },
    {
     "name": "stderr",
     "output_type": "stream",
     "text": [
      "/var/folders/z3/zc5j75dj0qn_z2sp8qf47q340000gn/T/ipykernel_63108/652174667.py:8: ResourceWarning: unclosed <socket.socket fd=84, family=AddressFamily.AF_INET, type=SocketKind.SOCK_STREAM, proto=6, laddr=('127.0.0.1', 50268), raddr=('127.0.0.1', 11434)>\n",
      "  analyzer = GraphRAGSystem(row[\"question\"])\n",
      "ResourceWarning: Enable tracemalloc to get the object allocation traceback\n"
     ]
    },
    {
     "name": "stdout",
     "output_type": "stream",
     "text": [
      "Question 474: Does wet AMD cause a central visual ripple?\n",
      "Context: T...\n",
      "Response: False.\n",
      "\n"
     ]
    },
    {
     "name": "stderr",
     "output_type": "stream",
     "text": [
      "/var/folders/z3/zc5j75dj0qn_z2sp8qf47q340000gn/T/ipykernel_63108/652174667.py:8: ResourceWarning: unclosed <socket.socket fd=84, family=AddressFamily.AF_INET, type=SocketKind.SOCK_STREAM, proto=6, laddr=('127.0.0.1', 50290), raddr=('127.0.0.1', 11434)>\n",
      "  analyzer = GraphRAGSystem(row[\"question\"])\n",
      "ResourceWarning: Enable tracemalloc to get the object allocation traceback\n"
     ]
    },
    {
     "name": "stdout",
     "output_type": "stream",
     "text": [
      "Question 475: Is AMD caused by excessive use of lotion?\n",
      "Context: T...\n",
      "Response: False.\n",
      "\n"
     ]
    },
    {
     "name": "stderr",
     "output_type": "stream",
     "text": [
      "/var/folders/z3/zc5j75dj0qn_z2sp8qf47q340000gn/T/ipykernel_63108/652174667.py:8: ResourceWarning: unclosed <socket.socket fd=84, family=AddressFamily.AF_INET, type=SocketKind.SOCK_STREAM, proto=6, laddr=('127.0.0.1', 50311), raddr=('127.0.0.1', 11434)>\n",
      "  analyzer = GraphRAGSystem(row[\"question\"])\n",
      "ResourceWarning: Enable tracemalloc to get the object allocation traceback\n"
     ]
    },
    {
     "name": "stdout",
     "output_type": "stream",
     "text": [
      "Question 476: Can AMD impair the ability to sew fine stitches?\n",
      "Context: T...\n",
      "Response: TRUE.\n",
      "\n"
     ]
    },
    {
     "name": "stderr",
     "output_type": "stream",
     "text": [
      "/var/folders/z3/zc5j75dj0qn_z2sp8qf47q340000gn/T/ipykernel_63108/652174667.py:8: ResourceWarning: unclosed <socket.socket fd=84, family=AddressFamily.AF_INET, type=SocketKind.SOCK_STREAM, proto=6, laddr=('127.0.0.1', 50334), raddr=('127.0.0.1', 11434)>\n",
      "  analyzer = GraphRAGSystem(row[\"question\"])\n",
      "ResourceWarning: Enable tracemalloc to get the object allocation traceback\n"
     ]
    },
    {
     "name": "stdout",
     "output_type": "stream",
     "text": [
      "Question 477: Does AMD cause difficulty seeing straight lines as straight?\n",
      "Context: T...\n",
      "Response: True\n",
      "\n"
     ]
    },
    {
     "name": "stderr",
     "output_type": "stream",
     "text": [
      "/var/folders/z3/zc5j75dj0qn_z2sp8qf47q340000gn/T/ipykernel_63108/652174667.py:8: ResourceWarning: unclosed <socket.socket fd=84, family=AddressFamily.AF_INET, type=SocketKind.SOCK_STREAM, proto=6, laddr=('127.0.0.1', 50358), raddr=('127.0.0.1', 11434)>\n",
      "  analyzer = GraphRAGSystem(row[\"question\"])\n",
      "ResourceWarning: Enable tracemalloc to get the object allocation traceback\n"
     ]
    },
    {
     "name": "stdout",
     "output_type": "stream",
     "text": [
      "Question 478: Is wet AMD caused by excessive exposure to blue light?\n",
      "Context: T...\n",
      "Response: False.\n",
      "\n"
     ]
    },
    {
     "name": "stderr",
     "output_type": "stream",
     "text": [
      "/var/folders/z3/zc5j75dj0qn_z2sp8qf47q340000gn/T/ipykernel_63108/652174667.py:8: ResourceWarning: unclosed <socket.socket fd=84, family=AddressFamily.AF_INET, type=SocketKind.SOCK_STREAM, proto=6, laddr=('127.0.0.1', 50382), raddr=('127.0.0.1', 11434)>\n",
      "  analyzer = GraphRAGSystem(row[\"question\"])\n",
      "ResourceWarning: Enable tracemalloc to get the object allocation traceback\n"
     ]
    },
    {
     "name": "stdout",
     "output_type": "stream",
     "text": [
      "Question 479: Can dry AMD lead to atrophy of the retinal pigment epithelium?\n",
      "Context: T...\n",
      "Response: True\n",
      "\n"
     ]
    },
    {
     "name": "stderr",
     "output_type": "stream",
     "text": [
      "/var/folders/z3/zc5j75dj0qn_z2sp8qf47q340000gn/T/ipykernel_63108/652174667.py:8: ResourceWarning: unclosed <socket.socket fd=84, family=AddressFamily.AF_INET, type=SocketKind.SOCK_STREAM, proto=6, laddr=('127.0.0.1', 50405), raddr=('127.0.0.1', 11434)>\n",
      "  analyzer = GraphRAGSystem(row[\"question\"])\n",
      "ResourceWarning: Enable tracemalloc to get the object allocation traceback\n"
     ]
    },
    {
     "name": "stdout",
     "output_type": "stream",
     "text": [
      "Question 480: Is AMD treatable with herbal eye washes?\n",
      "Context: T...\n",
      "Response: False\n",
      "\n"
     ]
    },
    {
     "name": "stderr",
     "output_type": "stream",
     "text": [
      "/var/folders/z3/zc5j75dj0qn_z2sp8qf47q340000gn/T/ipykernel_63108/652174667.py:8: ResourceWarning: unclosed <socket.socket fd=84, family=AddressFamily.AF_INET, type=SocketKind.SOCK_STREAM, proto=6, laddr=('127.0.0.1', 50427), raddr=('127.0.0.1', 11434)>\n",
      "  analyzer = GraphRAGSystem(row[\"question\"])\n",
      "ResourceWarning: Enable tracemalloc to get the object allocation traceback\n"
     ]
    },
    {
     "name": "stdout",
     "output_type": "stream",
     "text": [
      "Question 481: Does wet AMD cause leakage of blood into the retina?\n",
      "Context: A...\n",
      "Response: True\n",
      "\n"
     ]
    },
    {
     "name": "stderr",
     "output_type": "stream",
     "text": [
      "/var/folders/z3/zc5j75dj0qn_z2sp8qf47q340000gn/T/ipykernel_63108/652174667.py:8: ResourceWarning: unclosed <socket.socket fd=84, family=AddressFamily.AF_INET, type=SocketKind.SOCK_STREAM, proto=6, laddr=('127.0.0.1', 50451), raddr=('127.0.0.1', 11434)>\n",
      "  analyzer = GraphRAGSystem(row[\"question\"])\n",
      "ResourceWarning: Enable tracemalloc to get the object allocation traceback\n"
     ]
    },
    {
     "name": "stdout",
     "output_type": "stream",
     "text": [
      "Question 482: Can AMD be prevented by avoiding all artificial light?\n",
      "Context: A...\n",
      "Response: False.\n",
      "\n"
     ]
    },
    {
     "name": "stderr",
     "output_type": "stream",
     "text": [
      "/var/folders/z3/zc5j75dj0qn_z2sp8qf47q340000gn/T/ipykernel_63108/652174667.py:8: ResourceWarning: unclosed <socket.socket fd=84, family=AddressFamily.AF_INET, type=SocketKind.SOCK_STREAM, proto=6, laddr=('127.0.0.1', 50473), raddr=('127.0.0.1', 11434)>\n",
      "  analyzer = GraphRAGSystem(row[\"question\"])\n",
      "ResourceWarning: Enable tracemalloc to get the object allocation traceback\n"
     ]
    },
    {
     "name": "stdout",
     "output_type": "stream",
     "text": [
      "Question 483: Is a history of stroke a risk factor for AMD?\n",
      "Context: T...\n",
      "Response: True.\n",
      "\n"
     ]
    },
    {
     "name": "stderr",
     "output_type": "stream",
     "text": [
      "/var/folders/z3/zc5j75dj0qn_z2sp8qf47q340000gn/T/ipykernel_63108/652174667.py:8: ResourceWarning: unclosed <socket.socket fd=84, family=AddressFamily.AF_INET, type=SocketKind.SOCK_STREAM, proto=6, laddr=('127.0.0.1', 50494), raddr=('127.0.0.1', 11434)>\n",
      "  analyzer = GraphRAGSystem(row[\"question\"])\n",
      "ResourceWarning: Enable tracemalloc to get the object allocation traceback\n"
     ]
    },
    {
     "name": "stdout",
     "output_type": "stream",
     "text": [
      "Question 484: Does dry AMD cause immediate distortion of central vision?\n",
      "Context: T...\n",
      "Response: False.\n",
      "\n"
     ]
    },
    {
     "name": "stderr",
     "output_type": "stream",
     "text": [
      "/var/folders/z3/zc5j75dj0qn_z2sp8qf47q340000gn/T/ipykernel_63108/652174667.py:8: ResourceWarning: unclosed <socket.socket fd=84, family=AddressFamily.AF_INET, type=SocketKind.SOCK_STREAM, proto=6, laddr=('127.0.0.1', 50517), raddr=('127.0.0.1', 11434)>\n",
      "  analyzer = GraphRAGSystem(row[\"question\"])\n",
      "ResourceWarning: Enable tracemalloc to get the object allocation traceback\n"
     ]
    },
    {
     "name": "stdout",
     "output_type": "stream",
     "text": [
      "Question 485: Can dark adaptometry testing detect AMD-related vision changes?\n",
      "Context: T...\n",
      "Response: True.\n",
      "\n"
     ]
    },
    {
     "name": "stderr",
     "output_type": "stream",
     "text": [
      "/var/folders/z3/zc5j75dj0qn_z2sp8qf47q340000gn/T/ipykernel_63108/652174667.py:8: ResourceWarning: unclosed <socket.socket fd=84, family=AddressFamily.AF_INET, type=SocketKind.SOCK_STREAM, proto=6, laddr=('127.0.0.1', 50543), raddr=('127.0.0.1', 11434)>\n",
      "  analyzer = GraphRAGSystem(row[\"question\"])\n",
      "ResourceWarning: Enable tracemalloc to get the object allocation traceback\n"
     ]
    },
    {
     "name": "stdout",
     "output_type": "stream",
     "text": [
      "Question 486: Is AMD a condition affecting the tear ducts?\n",
      "Context: T...\n",
      "Response: False.\n",
      "\n"
     ]
    },
    {
     "name": "stderr",
     "output_type": "stream",
     "text": [
      "/var/folders/z3/zc5j75dj0qn_z2sp8qf47q340000gn/T/ipykernel_63108/652174667.py:8: ResourceWarning: unclosed <socket.socket fd=84, family=AddressFamily.AF_INET, type=SocketKind.SOCK_STREAM, proto=6, laddr=('127.0.0.1', 50568), raddr=('127.0.0.1', 11434)>\n",
      "  analyzer = GraphRAGSystem(row[\"question\"])\n",
      "ResourceWarning: Enable tracemalloc to get the object allocation traceback\n"
     ]
    },
    {
     "name": "stdout",
     "output_type": "stream",
     "text": [
      "Question 487: Does AMD impair the ability to see subtle gradients?\n",
      "Context: T...\n",
      "Response: True\n",
      "\n"
     ]
    },
    {
     "name": "stderr",
     "output_type": "stream",
     "text": [
      "/var/folders/z3/zc5j75dj0qn_z2sp8qf47q340000gn/T/ipykernel_63108/652174667.py:8: ResourceWarning: unclosed <socket.socket fd=84, family=AddressFamily.AF_INET, type=SocketKind.SOCK_STREAM, proto=6, laddr=('127.0.0.1', 50601), raddr=('127.0.0.1', 11434)>\n",
      "  analyzer = GraphRAGSystem(row[\"question\"])\n",
      "ResourceWarning: Enable tracemalloc to get the object allocation traceback\n"
     ]
    },
    {
     "name": "stdout",
     "output_type": "stream",
     "text": [
      "Question 488: Can AMD be diagnosed with an electrocardiogram?\n",
      "Context: T...\n",
      "Response: False.\n",
      "\n"
     ]
    },
    {
     "name": "stderr",
     "output_type": "stream",
     "text": [
      "/var/folders/z3/zc5j75dj0qn_z2sp8qf47q340000gn/T/ipykernel_63108/652174667.py:8: ResourceWarning: unclosed <socket.socket fd=84, family=AddressFamily.AF_INET, type=SocketKind.SOCK_STREAM, proto=6, laddr=('127.0.0.1', 50622), raddr=('127.0.0.1', 11434)>\n",
      "  analyzer = GraphRAGSystem(row[\"question\"])\n",
      "ResourceWarning: Enable tracemalloc to get the object allocation traceback\n"
     ]
    },
    {
     "name": "stdout",
     "output_type": "stream",
     "text": [
      "Question 489: Is microperimetry useful for assessing AMD progression?\n",
      "Context: T...\n",
      "Response: True\n",
      "\n"
     ]
    },
    {
     "name": "stderr",
     "output_type": "stream",
     "text": [
      "/var/folders/z3/zc5j75dj0qn_z2sp8qf47q340000gn/T/ipykernel_63108/652174667.py:8: ResourceWarning: unclosed <socket.socket fd=84, family=AddressFamily.AF_INET, type=SocketKind.SOCK_STREAM, proto=6, laddr=('127.0.0.1', 50645), raddr=('127.0.0.1', 11434)>\n",
      "  analyzer = GraphRAGSystem(row[\"question\"])\n",
      "ResourceWarning: Enable tracemalloc to get the object allocation traceback\n"
     ]
    },
    {
     "name": "stdout",
     "output_type": "stream",
     "text": [
      "Question 490: Does wet AMD cause abnormal growth of choroidal blood vessels?\n",
      "Context: T...\n",
      "Response: True.\n",
      "\n"
     ]
    },
    {
     "name": "stderr",
     "output_type": "stream",
     "text": [
      "/var/folders/z3/zc5j75dj0qn_z2sp8qf47q340000gn/T/ipykernel_63108/652174667.py:8: ResourceWarning: unclosed <socket.socket fd=84, family=AddressFamily.AF_INET, type=SocketKind.SOCK_STREAM, proto=6, laddr=('127.0.0.1', 50672), raddr=('127.0.0.1', 11434)>\n",
      "  analyzer = GraphRAGSystem(row[\"question\"])\n",
      "ResourceWarning: Enable tracemalloc to get the object allocation traceback\n"
     ]
    },
    {
     "name": "stdout",
     "output_type": "stream",
     "text": [
      "Question 491: Does wet AMD involve abnormal blood vessel growth?\n",
      "Context: S...\n",
      "Response: True.\n",
      "\n"
     ]
    },
    {
     "name": "stderr",
     "output_type": "stream",
     "text": [
      "/var/folders/z3/zc5j75dj0qn_z2sp8qf47q340000gn/T/ipykernel_63108/652174667.py:8: ResourceWarning: unclosed <socket.socket fd=84, family=AddressFamily.AF_INET, type=SocketKind.SOCK_STREAM, proto=6, laddr=('127.0.0.1', 50694), raddr=('127.0.0.1', 11434)>\n",
      "  analyzer = GraphRAGSystem(row[\"question\"])\n",
      "ResourceWarning: Enable tracemalloc to get the object allocation traceback\n"
     ]
    },
    {
     "name": "stdout",
     "output_type": "stream",
     "text": [
      "Question 492: Is AMD curable with current treatments?\n",
      "Context: T...\n",
      "Response: False.\n",
      "\n"
     ]
    },
    {
     "name": "stderr",
     "output_type": "stream",
     "text": [
      "/var/folders/z3/zc5j75dj0qn_z2sp8qf47q340000gn/T/ipykernel_63108/652174667.py:8: ResourceWarning: unclosed <socket.socket fd=84, family=AddressFamily.AF_INET, type=SocketKind.SOCK_STREAM, proto=6, laddr=('127.0.0.1', 50719), raddr=('127.0.0.1', 11434)>\n",
      "  analyzer = GraphRAGSystem(row[\"question\"])\n",
      "ResourceWarning: Enable tracemalloc to get the object allocation traceback\n"
     ]
    },
    {
     "name": "stdout",
     "output_type": "stream",
     "text": [
      "Question 493: Are drusen deposits a sign of early dry AMD?\n",
      "Context: T...\n",
      "Response: True.\n",
      "\n"
     ]
    },
    {
     "name": "stderr",
     "output_type": "stream",
     "text": [
      "/var/folders/z3/zc5j75dj0qn_z2sp8qf47q340000gn/T/ipykernel_63108/652174667.py:8: ResourceWarning: unclosed <socket.socket fd=84, family=AddressFamily.AF_INET, type=SocketKind.SOCK_STREAM, proto=6, laddr=('127.0.0.1', 50741), raddr=('127.0.0.1', 11434)>\n",
      "  analyzer = GraphRAGSystem(row[\"question\"])\n",
      "ResourceWarning: Enable tracemalloc to get the object allocation traceback\n"
     ]
    },
    {
     "name": "stdout",
     "output_type": "stream",
     "text": [
      "Question 494: Does AMD primarily affect peripheral vision?\n",
      "Context: S...\n",
      "Response: False\n",
      "\n"
     ]
    },
    {
     "name": "stderr",
     "output_type": "stream",
     "text": [
      "/var/folders/z3/zc5j75dj0qn_z2sp8qf47q340000gn/T/ipykernel_63108/652174667.py:8: ResourceWarning: unclosed <socket.socket fd=84, family=AddressFamily.AF_INET, type=SocketKind.SOCK_STREAM, proto=6, laddr=('127.0.0.1', 50766), raddr=('127.0.0.1', 11434)>\n",
      "  analyzer = GraphRAGSystem(row[\"question\"])\n",
      "ResourceWarning: Enable tracemalloc to get the object allocation traceback\n"
     ]
    },
    {
     "name": "stdout",
     "output_type": "stream",
     "text": [
      "Question 495: Can anti-VEGF injections slow wet AMD progression?\n",
      "Context: T...\n",
      "Response: True\n",
      "\n"
     ]
    },
    {
     "name": "stderr",
     "output_type": "stream",
     "text": [
      "/var/folders/z3/zc5j75dj0qn_z2sp8qf47q340000gn/T/ipykernel_63108/652174667.py:8: ResourceWarning: unclosed <socket.socket fd=84, family=AddressFamily.AF_INET, type=SocketKind.SOCK_STREAM, proto=6, laddr=('127.0.0.1', 50791), raddr=('127.0.0.1', 11434)>\n",
      "  analyzer = GraphRAGSystem(row[\"question\"])\n",
      "ResourceWarning: Enable tracemalloc to get the object allocation traceback\n"
     ]
    },
    {
     "name": "stdout",
     "output_type": "stream",
     "text": [
      "Question 496: Does AMD only occur in people under 50?\n",
      "Context: T...\n",
      "Response: False.\n",
      "\n"
     ]
    },
    {
     "name": "stderr",
     "output_type": "stream",
     "text": [
      "/var/folders/z3/zc5j75dj0qn_z2sp8qf47q340000gn/T/ipykernel_63108/652174667.py:8: ResourceWarning: unclosed <socket.socket fd=84, family=AddressFamily.AF_INET, type=SocketKind.SOCK_STREAM, proto=6, laddr=('127.0.0.1', 50818), raddr=('127.0.0.1', 11434)>\n",
      "  analyzer = GraphRAGSystem(row[\"question\"])\n",
      "ResourceWarning: Enable tracemalloc to get the object allocation traceback\n"
     ]
    },
    {
     "name": "stdout",
     "output_type": "stream",
     "text": [
      "Question 497: Is geographic atrophy an advanced form of dry AMD?\n",
      "Context: S...\n",
      "Response: True\n",
      "\n"
     ]
    },
    {
     "name": "stderr",
     "output_type": "stream",
     "text": [
      "/var/folders/z3/zc5j75dj0qn_z2sp8qf47q340000gn/T/ipykernel_63108/652174667.py:8: ResourceWarning: unclosed <socket.socket fd=84, family=AddressFamily.AF_INET, type=SocketKind.SOCK_STREAM, proto=6, laddr=('127.0.0.1', 50843), raddr=('127.0.0.1', 11434)>\n",
      "  analyzer = GraphRAGSystem(row[\"question\"])\n",
      "ResourceWarning: Enable tracemalloc to get the object allocation traceback\n"
     ]
    },
    {
     "name": "stdout",
     "output_type": "stream",
     "text": [
      "Question 498: Can AMD cause complete blindness in all cases?\n",
      "Context: T...\n",
      "Response: False.\n",
      "\n"
     ]
    },
    {
     "name": "stderr",
     "output_type": "stream",
     "text": [
      "/var/folders/z3/zc5j75dj0qn_z2sp8qf47q340000gn/T/ipykernel_63108/652174667.py:8: ResourceWarning: unclosed <socket.socket fd=84, family=AddressFamily.AF_INET, type=SocketKind.SOCK_STREAM, proto=6, laddr=('127.0.0.1', 50865), raddr=('127.0.0.1', 11434)>\n",
      "  analyzer = GraphRAGSystem(row[\"question\"])\n",
      "ResourceWarning: Enable tracemalloc to get the object allocation traceback\n"
     ]
    },
    {
     "name": "stdout",
     "output_type": "stream",
     "text": [
      "Question 499: Can the Amsler grid help detect vision changes in AMD?\n",
      "Context: T...\n",
      "Response: True\n",
      "\n"
     ]
    },
    {
     "name": "stderr",
     "output_type": "stream",
     "text": [
      "/var/folders/z3/zc5j75dj0qn_z2sp8qf47q340000gn/T/ipykernel_63108/652174667.py:8: ResourceWarning: unclosed <socket.socket fd=84, family=AddressFamily.AF_INET, type=SocketKind.SOCK_STREAM, proto=6, laddr=('127.0.0.1', 50890), raddr=('127.0.0.1', 11434)>\n",
      "  analyzer = GraphRAGSystem(row[\"question\"])\n",
      "ResourceWarning: Enable tracemalloc to get the object allocation traceback\n"
     ]
    },
    {
     "name": "stdout",
     "output_type": "stream",
     "text": [
      "Question 500: Is AMD caused by bacterial infection?\n",
      "Context: T...\n",
      "Response: False\n",
      "\n"
     ]
    }
   ],
   "source": [
    "# Loop through questions and generate answers with context\n",
    "contexts = []\n",
    "with_context_responses = []\n",
    "\n",
    "print(\"Processing questions with context...\")\n",
    "for index, row in df.iterrows():\n",
    "    # Retrieve context\n",
    "    analyzer = GraphRAGSystem(row[\"question\"])\n",
    "    context = analyzer.analyze()\n",
    "\n",
    "    contexts.append(context)\n",
    "    \n",
    "    # Generate answer with context\n",
    "    response = generate_answer_with_context(row[\"question\"], context, \"llama3.2\")\n",
    "    response = remove_think_tags(response)\n",
    "    with_context_responses.append(response)\n",
    "    \n",
    "    print(f\"Question {index+1}: {row['question']}\")\n",
    "    print(f\"Context: {context[0][:100]}...\")\n",
    "    print(f\"Response: {response}\\n\")\n",
    "\n",
    "# Add to dataframe\n",
    "df['contexts'] = contexts\n",
    "df['with_context_answer'] = with_context_responses"
   ]
  },
  {
   "cell_type": "code",
   "execution_count": 11,
   "id": "834c63bc-9592-45eb-ba29-91588e263cf5",
   "metadata": {},
   "outputs": [
    {
     "name": "stdout",
     "output_type": "stream",
     "text": [
      "Processing questions without context...\n",
      "Question 1: Does AMD primarily affect the macula of the retina?\n",
      "Response: True\n",
      "\n",
      "Question 2: Is wet AMD characterized by abnormal blood vessel growth?\n",
      "Response: True\n",
      "\n",
      "Question 3: Can dry AMD lead to complete blindness?\n",
      "Response: True\n",
      "\n",
      "Question 4: Is smoking a known risk factor for AMD?\n",
      "Response: True.\n",
      "\n",
      "Question 5: Does wet AMD progress faster than dry AMD?\n",
      "Response: False\n",
      "\n",
      "Question 6: Is there a cure for advanced dry AMD?\n",
      "Response: False\n",
      "\n",
      "Question 7: Can anti-VEGF injections treat wet AMD?\n",
      "Response: True\n",
      "\n",
      "Question 8: Does AMD affect peripheral vision more than central vision?\n",
      "Response: False\n",
      "\n",
      "Question 9: Is family history a risk factor for developing AMD?\n",
      "Response: False\n",
      "\n",
      "Question 10: Can AMD be diagnosed with a blood test?\n",
      "Response: False\n",
      "\n",
      "Question 11: Does the Amsler grid help detect AMD symptoms?\n",
      "Response: False\n",
      "\n",
      "Question 12: Is dry AMD more common than wet AMD?\n",
      "Response: False\n",
      "\n",
      "Question 13: Can sunglasses completely prevent AMD?\n",
      "Response: False\n",
      "\n",
      "Question 14: Does diabetes increase the risk of AMD?\n",
      "Response: True\n",
      "\n",
      "Question 15: Is laser therapy a standard treatment for dry AMD?\n",
      "Response: False\n",
      "\n",
      "Question 16: Are drusen deposits associated with dry AMD?\n",
      "Response: True\n",
      "\n",
      "Question 17: Does AMD primarily affect people over 50?\n",
      "Response: True\n",
      "\n",
      "Question 18: Can wet AMD cause sudden vision loss?\n",
      "Response: True\n",
      "\n",
      "Question 19: Is AMD contagious between individuals?\n",
      "Response: False\n",
      "\n",
      "Question 20: Does obesity increase the risk of AMD?\n",
      "Response: True\n",
      "\n",
      "Question 21: Can AMD be reversed with surgery?\n",
      "Response: False\n",
      "\n",
      "Question 22: Does AMD affect color perception?\n",
      "Response: False.\n",
      "\n",
      "Question 23: Is AMD caused by excessive screen time?\n",
      "Response: False\n",
      "\n",
      "Question 24: Can optical coherence tomography (OCT) detect AMD?\n",
      "Response: True.\n",
      "\n",
      "Question 25: Does wet AMD involve fluid leakage under the retina?\n",
      "Response: False\n",
      "\n",
      "Question 26: Is AMD more prevalent in women than men?\n",
      "Response: False.\n",
      "\n",
      "Question 27: Can AMD be treated with over-the-counter eye drops?\n",
      "Response: False\n",
      "\n",
      "Question 28: Does high blood pressure increase AMD risk?\n",
      "Response: True\n",
      "\n",
      "Question 29: Is AMD linked to high cholesterol levels?\n",
      "Response: False\n",
      "\n",
      "Question 30: Can fish oil supplements alone prevent AMD?\n",
      "Response: False\n",
      "\n",
      "Question 31: Does AMD affect the optic nerve directly?\n",
      "Response: False.\n",
      "\n",
      "Question 32: Is photodynamic therapy used to treat wet AMD?\n",
      "Response: True\n",
      "\n",
      "Question 33: Can AMD increase the risk of falls in older adults?\n",
      "Response: True.\n",
      "\n",
      "Question 34: Does AMD only occur in one eye at a time?\n",
      "Response: False\n",
      "\n",
      "Question 35: Can AREDS supplements slow dry AMD progression?\n",
      "Response: True\n",
      "\n",
      "Question 36: Is AMD more common in Caucasian populations?\n",
      "Response: True\n",
      "\n",
      "Question 37: Does wet AMD always lead to total blindness?\n",
      "Response: False.\n",
      "\n",
      "Question 38: Can AMD cause straight lines to appear wavy?\n",
      "Response: False.\n",
      "\n",
      "Question 39: Is AMD caused by a bacterial infection?\n",
      "Response: False\n",
      "\n",
      "Question 40: Does AMD affect depth perception?\n",
      "Response: True\n",
      "\n",
      "Question 41: Can children develop AMD?\n",
      "Response: False\n",
      "\n",
      "Question 42: Does AMD increase the need for visual aids?\n",
      "Response: True\n",
      "\n",
      "Question 43: Is AMD linked to UV light exposure?\n",
      "Response: False.\n",
      "\n",
      "Question 44: Can AMD be reversed with exercise alone?\n",
      "Response: False\n",
      "\n",
      "Question 45: Does AMD affect night vision more than daytime vision?\n",
      "Response: False\n",
      "\n",
      "Question 46: Can a dilated eye exam diagnose AMD?\n",
      "Response: False\n",
      "\n",
      "Question 47: Is AMD caused by reading in dim light?\n",
      "Response: False\n",
      "\n",
      "Question 48: Does AMD affect the ability to recognize faces?\n",
      "Response: False\n",
      "\n",
      "Question 49: Can wet AMD be cured with antibiotics?\n",
      "Response: False\n",
      "\n",
      "Question 50: Does AMD risk increase with age?\n",
      "Response: True\n",
      "\n",
      "Question 51: Does AMD affect the central vision?\n",
      "Response: False.\n",
      "\n",
      "Question 52: Is wet AMD caused by bacterial infections?\n",
      "Response: False\n",
      "\n",
      "Question 53: Can dry AMD progress to geographic atrophy?\n",
      "Response: True\n",
      "\n",
      "Question 54: Is AMD treatable with antibiotics?\n",
      "Response: False\n",
      "\n",
      "Question 55: Does wet AMD involve choroidal neovascularization?\n",
      "Response: False\n",
      "\n",
      "Question 56: Can AMD be prevented by avoiding all sunlight?\n",
      "Response: False\n",
      "\n",
      "Question 57: Is smoking a risk factor for AMD?\n",
      "Response: True\n",
      "\n",
      "Question 58: Does dry AMD cause rapid vision loss?\n",
      "Response: False\n",
      "\n",
      "Question 59: Is AMD primarily a disease of the cornea?\n",
      "Response: False\n",
      "\n",
      "Question 60: Does family history increase AMD risk?\n",
      "Response: True.\n",
      "\n",
      "Question 61: Can AMD be diagnosed with a urine test?\n",
      "Response: False\n",
      "\n",
      "Question 62: Is the Amsler grid used to monitor AMD symptoms?\n",
      "Response: True\n",
      "\n",
      "Question 63: Does wet AMD cause sudden vision changes?\n",
      "Response: False\n",
      "\n",
      "Question 64: Is dry AMD more prevalent than wet AMD?\n",
      "Response: False\n",
      "\n",
      "Question 65: Can AMD be cured with dietary supplements alone?\n",
      "Response: False\n",
      "\n",
      "Question 66: Is AMD contagious?\n",
      "Response: False\n",
      "\n",
      "Question 67: Can optical coherence tomography detect AMD?\n",
      "Response: True\n",
      "\n",
      "Question 68: Is obesity a risk factor for AMD?\n",
      "Response: True\n",
      "\n",
      "Question 69: Can AMD be reversed with laser surgery?\n",
      "Response: False\n",
      "\n",
      "Question 70: Can diabetes increase the risk of AMD?\n",
      "Response: True\n",
      "\n",
      "Question 71: Does wet AMD involve fluid buildup under the retina?\n",
      "Response: False.\n",
      "\n",
      "Question 72: Is AMD more common in women than men?\n",
      "Response: True\n",
      "\n",
      "Question 73: Does AMD increase the risk of falls in older adults?\n",
      "Response: True\n",
      "\n",
      "Question 74: Is photodynamic therapy a treatment for wet AMD?\n",
      "Response: True\n",
      "\n",
      "Question 75: Can AMD be prevented by wearing UV-protective sunglasses?\n",
      "Response: False\n",
      "\n",
      "Question 76: Is AMD caused by a viral infection?\n",
      "Response: False\n",
      "\n",
      "Question 77: Does AMD primarily affect people over 60?\n",
      "Response: False.\n",
      "\n",
      "Question 78: Is AMD reversible with current treatments?\n",
      "Response: False\n",
      "\n",
      "Question 79: Can wet AMD cause distorted vision?\n",
      "Response: True.\n",
      "\n",
      "Question 80: Is high cholesterol a risk factor for AMD?\n",
      "Response: False\n",
      "\n",
      "Question 81: Does AMD cause straight lines to appear wavy?\n",
      "Response: False\n",
      "\n",
      "Question 82: Can AMD be cured with exercise alone?\n",
      "Response: False\n",
      "\n",
      "Question 83: Can a dilated eye exam detect AMD?\n",
      "Response: False.\n",
      "\n",
      "Question 84: Can wet AMD be treated with antibiotics?\n",
      "Response: False\n",
      "\n",
      "Question 85: Is dry AMD associated with drusen deposits?\n",
      "Response: True\n",
      "\n",
      "Question 86: Can AMD be diagnosed with an MRI?\n",
      "Response: False\n",
      "\n",
      "Question 87: Does wet AMD cause fluid leakage in the eye?\n",
      "Response: True.\n",
      "\n",
      "Question 88: Is AMD linked to cardiovascular disease?\n",
      "Response: True\n",
      "\n",
      "Question 89: Can AMD be prevented with fish oil supplements alone?\n",
      "Response: False\n",
      "\n",
      "Question 90: Does AMD affect reading ability?\n",
      "Response: True\n",
      "\n",
      "Question 91: Is AMD caused by excessive caffeine intake?\n",
      "Response: False\n",
      "\n",
      "Question 92: Can fluorescein angiography diagnose wet AMD?\n",
      "Response: True.\n",
      "\n",
      "Question 93: Does AMD only affect one eye at a time?\n",
      "Response: False\n",
      "\n",
      "Question 94: Is AMD more prevalent in developed countries?\n",
      "Response: True\n",
      "\n",
      "Question 95: Can wet AMD be reversed completely?\n",
      "Response: False\n",
      "\n",
      "Question 96: Does AMD affect the macula?\n",
      "Response: True\n",
      "\n",
      "Question 97: Is AMD caused by poor hygiene?\n",
      "Response: False\n",
      "\n",
      "Question 98: Can low vision aids help manage AMD symptoms?\n",
      "Response: True\n",
      "\n",
      "Question 99: Does AMD affect driving ability?\n",
      "Response: False\n",
      "\n",
      "Question 100: Is AMD caused by excessive alcohol consumption?\n",
      "Response: False\n",
      "\n",
      "Question 101: Can AMD be inherited genetically?\n",
      "Response: True\n",
      "\n",
      "Question 102: Does wet AMD cause hemorrhages under the retina?\n",
      "Response: False.\n",
      "\n",
      "Question 103: Is AMD caused by staring at bright lights?\n",
      "Response: False\n",
      "\n",
      "Question 104: Can regular eye exams detect AMD early?\n",
      "Response: False\n",
      "\n",
      "Question 105: Does AMD cause floaters in the eye?\n",
      "Response: True.\n",
      "\n",
      "Question 106: Is AMD linked to lighter eye color?\n",
      "Response: False.\n",
      "\n",
      "Question 107: Can AMD be cured with vitamin C alone?\n",
      "Response: False\n",
      "\n",
      "Question 108: Does AMD cause blind spots in central vision?\n",
      "Response: False.\n",
      "\n",
      "Question 109: Is AMD caused by excessive sugar intake?\n",
      "Response: False\n",
      "\n",
      "Question 110: Can smoking cessation reduce AMD risk?\n",
      "Response: True\n",
      "\n",
      "Question 111: Does AMD affect night vision exclusively?\n",
      "Response: False.\n",
      "\n",
      "Question 112: Is AMD detectable with a retina scan?\n",
      "Response: True.\n",
      "\n",
      "Question 113: Can wet AMD be managed with dietary changes alone?\n",
      "Response: False\n",
      "\n",
      "Question 114: Does AMD cause difficulty adapting to low light?\n",
      "Response: True.\n",
      "\n",
      "Question 115: Is AMD caused by a lack of sleep?\n",
      "Response: False.\n",
      "\n",
      "Question 116: Can AMD be monitored with regular eye checkups?\n",
      "Response: True\n",
      "\n",
      "Question 117: Does dry AMD cause bleeding in the eye?\n",
      "Response: False\n",
      "\n",
      "Question 118: Is AMD more common in African Americans than Caucasians?\n",
      "Response: False\n",
      "\n",
      "Question 119: Can AMD cause visual hallucinations in advanced stages?\n",
      "Response: True\n",
      "\n",
      "Question 120: Does AMD affect only the elderly over 80?\n",
      "Response: False\n",
      "\n",
      "Question 121: Is AMD linked to oxidative stress?\n",
      "Response: True\n",
      "\n",
      "Question 122: Can AMD be treated with acupuncture?\n",
      "Response: False\n",
      "\n",
      "Question 123: Does AMD increase the risk of depression?\n",
      "Response: True\n",
      "\n",
      "Question 124: Is AMD caused by excessive use of contact lenses?\n",
      "Response: False\n",
      "\n",
      "Question 125: Can fundus photography help diagnose AMD?\n",
      "Response: True.\n",
      "\n",
      "Question 126: Does wet AMD cause scarring of the retina?\n",
      "Response: False\n",
      "\n",
      "Question 127: Is AMD caused by a lack of vitamin D?\n",
      "Response: False.\n",
      "\n",
      "Question 128: Can AMD affect the ability to judge distances?\n",
      "Response: True\n",
      "\n",
      "Question 129: Does dry AMD always progress to wet AMD?\n",
      "Response: False.\n",
      "\n",
      "Question 130: Is AMD associated with about 11 million cases in the US?\n",
      "Response: True\n",
      "\n",
      "Question 131: Can wet AMD be prevented by avoiding all fats?\n",
      "Response: False\n",
      "\n",
      "Question 132: Does AMD cause blurred central vision?\n",
      "Response: True.\n",
      "\n",
      "Question 133: Is wet AMD caused by excessive tearing?\n",
      "Response: False\n",
      "\n",
      "Question 134: Can dry AMD lead to thinning of the retina?\n",
      "Response: True\n",
      "\n",
      "Question 135: Is AMD treatable with hearing aids?\n",
      "Response: False\n",
      "\n",
      "Question 136: Does wet AMD cause rapid central vision loss?\n",
      "Response: True\n",
      "\n",
      "Question 137: Can AMD be prevented by avoiding all exercise?\n",
      "Response: False\n",
      "\n",
      "Question 138: Is hypertension a risk factor for AMD?\n",
      "Response: True.\n",
      "\n",
      "Question 139: Does dry AMD cause sudden vision changes?\n",
      "Response: False\n",
      "\n",
      "Question 140: Can photodynamic therapy treat wet AMD?\n",
      "Response: False\n",
      "\n",
      "Question 141: Is AMD a disease of the iris?\n",
      "Response: False\n",
      "\n",
      "Question 142: Does AMD increase the need for brighter lighting?\n",
      "Response: True\n",
      "\n",
      "Question 143: Can AMD be diagnosed with a hearing test?\n",
      "Response: False\n",
      "\n",
      "Question 144: Is fluorescein angiography used to detect wet AMD?\n",
      "Response: True\n",
      "\n",
      "Question 145: Does wet AMD cause swelling beneath the retina?\n",
      "Response: True\n",
      "\n",
      "Question 146: Is early AMD often asymptomatic?\n",
      "Response: True\n",
      "\n",
      "Question 147: Can AMD be cured with herbal remedies?\n",
      "Response: False\n",
      "\n",
      "Question 148: Does cardiovascular disease increase AMD risk?\n",
      "Response: True\n",
      "\n",
      "Question 149: Is AMD caused by loud noises?\n",
      "Response: False\n",
      "\n",
      "Question 150: Can fundus autofluorescence imaging detect AMD?\n",
      "Response: False\n",
      "\n",
      "Question 151: Does AMD affect the sclera?\n",
      "Response: False\n",
      "\n",
      "Question 152: Is oxidative stress a factor in AMD development?\n",
      "Response: True\n",
      "\n",
      "Question 153: Can AMD be reversed with meditation?\n",
      "Response: False\n",
      "\n",
      "Question 154: Does AMD impair the ability to see fine details?\n",
      "Response: True\n",
      "\n",
      "Question 155: Is AMD caused by a lack of water intake?\n",
      "Response: False\n",
      "\n",
      "Question 156: Can late-stage AMD severely limit daily activities?\n",
      "Response: True\n",
      "\n",
      "Question 157: Does wet AMD cause gradual vision improvement?\n",
      "Response: False\n",
      "\n",
      "Question 158: Is AMD more severe in one eye than the other in some cases?\n",
      "Response: True\n",
      "\n",
      "Question 159: Can AMD be treated with skin creams?\n",
      "Response: False\n",
      "\n",
      "Question 160: Does AMD increase the risk of social isolation?\n",
      "Response: True\n",
      "\n",
      "Question 161: Is dry AMD treated with anti-VEGF injections?\n",
      "Response: False\n",
      "\n",
      "Question 162: Can smoking cessation reduce the progression of AMD?\n",
      "Response: False\n",
      "\n",
      "Question 163: Does AMD cause pain in the eyes?\n",
      "Response: False\n",
      "\n",
      "Question 164: Is AMD linked to reduced contrast sensitivity?\n",
      "Response: True\n",
      "\n",
      "Question 165: Can AMD be prevented by avoiding all carbohydrates?\n",
      "Response: False\n",
      "\n",
      "Question 166: Does wet AMD cause a gray spot in central vision?\n",
      "Response: False.\n",
      "\n",
      "Question 167: Is AMD caused by excessive blinking?\n",
      "Response: False\n",
      "\n",
      "Question 168: Can AMD affect the ability to see in low light?\n",
      "Response: True.\n",
      "\n",
      "Question 169: Does dry AMD cause retinal hemorrhages?\n",
      "Response: False\n",
      "\n",
      "Question 170: Is AMD detectable before symptoms appear?\n",
      "Response: True.\n",
      "\n",
      "Question 171: Can AMD be cured with cold compresses?\n",
      "Response: False.\n",
      "\n",
      "Question 172: Does AMD cause difficulty seeing in bright light?\n",
      "Response: False\n",
      "\n",
      "Question 173: Is wet AMD caused by a vitamin deficiency?\n",
      "Response: False.\n",
      "\n",
      "Question 174: Can AMD increase the need for magnifying devices?\n",
      "Response: True\n",
      "\n",
      "Question 175: Does AMD affect the lens of the eye?\n",
      "Response: False.\n",
      "\n",
      "Question 176: Is AMD linked to chronic inflammation?\n",
      "Response: True\n",
      "\n",
      "Question 177: Can AMD be prevented by avoiding all dairy?\n",
      "Response: False\n",
      "\n",
      "Question 178: Does wet AMD cause a wavy appearance of objects?\n",
      "Response: False\n",
      "\n",
      "Question 179: Is AMD caused by excessive hand washing?\n",
      "Response: False\n",
      "\n",
      "Question 180: Can AMD lead to legal blindness?\n",
      "Response: True\n",
      "\n",
      "Question 181: Does dry AMD cause inflammation of the eyelids?\n",
      "Response: False\n",
      "\n",
      "Question 182: Is AMD associated with retinal pigment epithelial damage?\n",
      "Response: True\n",
      "\n",
      "Question 183: Can AMD be treated with nasal sprays?\n",
      "Response: False\n",
      "\n",
      "Question 184: Does AMD affect the ability to see motion?\n",
      "Response: False\n",
      "\n",
      "Question 185: Is AMD caused by excessive use of perfume?\n",
      "Response: False\n",
      "\n",
      "Question 186: Can AMD increase difficulty navigating crowded spaces?\n",
      "Response: True\n",
      "\n",
      "Question 187: Does wet AMD cause vision loss only in dim light?\n",
      "Response: False\n",
      "\n",
      "Question 188: Is AMD linked to reduced visual acuity?\n",
      "Response: True\n",
      "\n",
      "Question 189: Can AMD be prevented by avoiding all protein?\n",
      "Response: False\n",
      "\n",
      "Question 190: Does dry AMD cause small blind spots over time?\n",
      "Response: False\n",
      "\n",
      "Question 191: Is AMD caused by excessive exposure to wind?\n",
      "Response: False\n",
      "\n",
      "Question 192: Can AMD affect the ability to sew or knit?\n",
      "Response: False\n",
      "\n",
      "Question 193: Does wet AMD cause inflammation of the iris?\n",
      "Response: False\n",
      "\n",
      "Question 194: Is AMD linked to difficulty seeing in fog?\n",
      "Response: True.\n",
      "\n",
      "Question 195: Can AMD be cured with aromatherapy?\n",
      "Response: False\n",
      "\n",
      "Question 196: Does AMD cause challenges with recognizing patterns?\n",
      "Response: True.\n",
      "\n",
      "Question 197: Is dry AMD caused by a fungal infection?\n",
      "Response: False.\n",
      "\n",
      "Question 198: Can AMD increase difficulty with cooking tasks?\n",
      "Response: True.\n",
      "\n",
      "Question 199: Does AMD cause vision loss due to lens clouding?\n",
      "Response: False.\n",
      "\n",
      "Question 200: Is AMD linked to impaired ability to see small print?\n",
      "Response: True.\n",
      "\n",
      "Question 201: Can AMD be prevented by avoiding all grains?\n",
      "Response: False.\n",
      "\n",
      "Question 202: Does wet AMD cause a ripple effect in vision?\n",
      "Response: False\n",
      "\n",
      "Question 203: Is AMD caused by excessive foot massages?\n",
      "Response: False\n",
      "\n",
      "Question 204: Can AMD affect the ability to play card games?\n",
      "Response: False\n",
      "\n",
      "Question 205: Does dry AMD cause rapid photoreceptor regeneration?\n",
      "Response: False\n",
      "\n",
      "Question 206: Is AMD linked to difficulty seeing traffic signs?\n",
      "Response: True\n",
      "\n",
      "Question 207: Can AMD be treated with throat lozenges?\n",
      "Response: False\n",
      "\n",
      "Question 208: Does AMD cause trouble seeing in dimly lit rooms?\n",
      "Response: True\n",
      "\n",
      "Question 209: Is wet AMD caused by excessive use of toothpaste?\n",
      "Response: False\n",
      "\n",
      "Question 210: Can AMD affect the ability to enjoy painting?\n",
      "Response: True\n",
      "\n",
      "Question 211: Does AMD cause vision loss due to corneal scarring?\n",
      "Response: False.\n",
      "\n",
      "Question 212: Is AMD linked to difficulty identifying coins?\n",
      "Response: True.\n",
      "\n",
      "Question 213: Can AMD be prevented by avoiding all liquids?\n",
      "Response: False\n",
      "\n",
      "Question 214: Does wet AMD cause a central haze in vision?\n",
      "Response: False\n",
      "\n",
      "Question 215: Is AMD caused by excessive use of hair dye?\n",
      "Response: False\n",
      "\n",
      "Question 216: Can AMD affect the ability to watch television?\n",
      "Response: True\n",
      "\n",
      "Question 217: Does dry AMD cause inflammation of the conjunctiva?\n",
      "Response: False\n",
      "\n",
      "Question 218: Is AMD linked to difficulty assembling puzzles?\n",
      "Response: False\n",
      "\n",
      "Question 219: Can AMD be cured with foot reflexology?\n",
      "Response: False\n",
      "\n",
      "Question 220: Does AMD cause challenges with writing by hand?\n",
      "Response: False\n",
      "\n",
      "Question 221: Is wet AMD caused by a lack of potassium?\n",
      "Response: False.\n",
      "\n",
      "Question 222: Can AMD affect the ability to use a smartphone?\n",
      "Response: False\n",
      "\n",
      "Question 223: Does AMD cause vision loss due to pupil damage?\n",
      "Response: False.\n",
      "\n",
      "Question 224: Is AMD linked to reduced independence in older adults?\n",
      "Response: True\n",
      "\n",
      "Question 225: Can AMD be prevented by avoiding all meats?\n",
      "Response: False\n",
      "\n",
      "Question 226: Does wet AMD cause shadows in the visual field?\n",
      "Response: False\n",
      "\n",
      "Question 227: Is AMD caused by excessive nail polishing?\n",
      "Response: False\n",
      "\n",
      "Question 228: Can AMD affect the ability to see details on a map?\n",
      "Response: True.\n",
      "\n",
      "Question 229: Does dry AMD cause rapid vision improvement?\n",
      "Response: False\n",
      "\n",
      "Question 230: Does AMD cause difficulty seeing in low-contrast environments?\n",
      "Response: True.\n",
      "\n",
      "Question 231: Is wet AMD caused by excessive exposure to pollen?\n",
      "Response: False.\n",
      "\n",
      "Question 232: Can dry AMD lead to photoreceptor loss?\n",
      "Response: False\n",
      "\n",
      "Question 233: Is AMD treatable with ear drops?\n",
      "Response: False\n",
      "\n",
      "Question 234: Does wet AMD cause a blurred central spot?\n",
      "Response: True\n",
      "\n",
      "Question 235: Can AMD be prevented by avoiding all vegetables?\n",
      "Response: False\n",
      "\n",
      "Question 236: Is atherosclerosis a risk factor for AMD?\n",
      "Response: False.\n",
      "\n",
      "Question 237: Does dry AMD cause immediate vision loss?\n",
      "Response: False.\n",
      "\n",
      "Question 238: Can optical coherence tomography angiography detect wet AMD?\n",
      "Response: False\n",
      "\n",
      "Question 239: Is AMD a disease of the vitreous?\n",
      "Response: False\n",
      "\n",
      "Question 240: Does AMD impair the ability to see edges clearly?\n",
      "Response: True\n",
      "\n",
      "Question 241: Can AMD be diagnosed with a skin test?\n",
      "Response: False\n",
      "\n",
      "Question 242: Is home vision testing useful for monitoring AMD?\n",
      "Response: False\n",
      "\n",
      "Question 243: Does wet AMD cause subretinal fluid accumulation?\n",
      "Response: False\n",
      "\n",
      "Question 244: Is intermediate AMD characterized by larger drusen?\n",
      "Response: False\n",
      "\n",
      "Question 245: Can AMD be cured with over-the-counter painkillers?\n",
      "Response: False\n",
      "\n",
      "Question 246: Does chronic inflammation increase AMD risk?\n",
      "Response: True\n",
      "\n",
      "Question 247: Is AMD caused by excessive exposure to cold weather?\n",
      "Response: False\n",
      "\n",
      "Question 248: Can visual rehabilitation help manage AMD symptoms?\n",
      "Response: True\n",
      "\n",
      "Question 249: Does AMD affect the pupil directly?\n",
      "Response: False.\n",
      "\n",
      "Question 250: Is retinal hypoxia a factor in AMD progression?\n",
      "Response: True\n",
      "\n",
      "Question 251: Can AMD be reversed with chiropractic care?\n",
      "Response: False\n",
      "\n",
      "Question 252: Does AMD cause difficulty threading a needle?\n",
      "Response: False.\n",
      "\n",
      "Question 253: Is AMD caused by a lack of dietary protein?\n",
      "Response: False.\n",
      "\n",
      "Question 254: Can advanced AMD limit independence?\n",
      "Response: True\n",
      "\n",
      "Question 255: Does wet AMD cause gradual central vision recovery?\n",
      "Response: False\n",
      "\n",
      "Question 256: Is AMD linked to difficulty seeing in crowded places?\n",
      "Response: False\n",
      "\n",
      "Question 257: Can AMD be treated with dietary fat alone?\n",
      "Response: False\n",
      "\n",
      "Question 258: Does AMD increase the risk of tripping over objects?\n",
      "Response: False\n",
      "\n",
      "Question 259: Is dry AMD treated with photodynamic therapy?\n",
      "Response: False.\n",
      "\n",
      "Question 260: Can quitting smoking slow AMD progression?\n",
      "Response: False.\n",
      "\n",
      "Question 261: Does AMD cause inflammation of the cornea?\n",
      "Response: False\n",
      "\n",
      "Question 262: Is AMD associated with reduced ability to see details in art?\n",
      "Response: True.\n",
      "\n",
      "Question 263: Does wet AMD cause a dark central patch?\n",
      "Response: False\n",
      "\n",
      "Question 264: Is AMD caused by excessive use of air conditioning?\n",
      "Response: False\n",
      "\n",
      "Question 265: Can AMD affect the ability to enjoy birdwatching?\n",
      "Response: False\n",
      "\n",
      "Question 266: Does dry AMD cause optic nerve swelling?\n",
      "Response: False\n",
      "\n",
      "Question 267: Is AMD detectable with regular vision screenings?\n",
      "Response: False.\n",
      "\n",
      "Question 268: Can AMD be cured with heat therapy?\n",
      "Response: False\n",
      "\n",
      "Question 269: Does AMD cause difficulty seeing in bright sunlight?\n",
      "Response: True.\n",
      "\n",
      "Question 270: Is wet AMD caused by a lack of dietary fiber?\n",
      "Response: False\n",
      "\n",
      "Question 271: Can AMD increase the need for reading glasses?\n",
      "Response: True.\n",
      "\n",
      "Question 272: Does AMD affect the choroid directly?\n",
      "Response: False\n",
      "\n",
      "Question 273: Is AMD linked to difficulty distinguishing similar colors?\n",
      "Response: True.\n",
      "\n",
      "Question 274: Can AMD be prevented by avoiding all dairy products?\n",
      "Response: False\n",
      "\n",
      "Question 275: Does wet AMD cause vision to appear bent?\n",
      "Response: False\n",
      "\n",
      "Question 276: Is AMD caused by excessive use of cleaning products?\n",
      "Response: False\n",
      "\n",
      "Question 277: Can AMD lead to challenges with buttoning a shirt?\n",
      "Response: True.\n",
      "\n",
      "Question 278: Does dry AMD cause retinal pigment regeneration?\n",
      "Response: False.\n",
      "\n",
      "Question 279: Is AMD associated with difficulty seeing clock faces?\n",
      "Response: False\n",
      "\n",
      "Question 280: Can AMD be treated with herbal tea?\n",
      "Response: False\n",
      "\n",
      "Question 281: Does AMD affect the ability to see fine print on labels?\n",
      "Response: False.\n",
      "\n",
      "Question 282: Is AMD caused by excessive exposure to rain?\n",
      "Response: False.\n",
      "\n",
      "Question 283: Can AMD impair the ability to see numbers on a phone?\n",
      "Response: True\n",
      "\n",
      "Question 284: Does wet AMD cause inflammation of the sclera?\n",
      "Response: False.\n",
      "\n",
      "Question 285: Is AMD linked to difficulty seeing in hazy conditions?\n",
      "Response: True\n",
      "\n",
      "Question 286: Can AMD be cured with essential oils?\n",
      "Response: False\n",
      "\n",
      "Question 287: Does AMD cause challenges with recognizing textures?\n",
      "Response: True\n",
      "\n",
      "Question 288: Is dry AMD caused by excessive exposure to chlorine?\n",
      "Response: False\n",
      "\n",
      "Question 289: Can AMD affect the ability to enjoy photography?\n",
      "Response: True\n",
      "\n",
      "Question 290: Does AMD cause vision loss due to iris damage?\n",
      "Response: False.\n",
      "\n",
      "Question 291: Is AMD linked to difficulty seeing details on a menu?\n",
      "Response: False\n",
      "\n",
      "Question 292: Can AMD be prevented by avoiding all spices?\n",
      "Response: False\n",
      "\n",
      "Question 293: Does wet AMD cause a central shadow in bright light?\n",
      "Response: False.\n",
      "\n",
      "Question 294: Is AMD caused by excessive use of deodorant?\n",
      "Response: False\n",
      "\n",
      "Question 295: Can AMD affect the ability to thread a sewing machine?\n",
      "Response: False\n",
      "\n",
      "Question 296: Does dry AMD cause rapid retinal regeneration?\n",
      "Response: False.\n",
      "\n",
      "Question 297: Is AMD linked to difficulty seeing fine details in photographs?\n",
      "Response: True.\n",
      "\n",
      "Question 298: Can AMD be treated with mouthwash?\n",
      "Response: False\n",
      "\n",
      "Question 299: Does AMD cause trouble seeing in low-light environments?\n",
      "Response: True.\n",
      "\n",
      "Question 300: Is wet AMD caused by a lack of dietary calcium?\n",
      "Response: False\n",
      "\n",
      "Question 301: Can AMD affect the ability to enjoy hobbies like painting?\n",
      "Response: True.\n",
      "\n",
      "Question 302: Does AMD cause vision loss due to vitreous detachment?\n",
      "Response: True.\n",
      "\n",
      "Question 303: Is AMD linked to difficulty identifying small objects?\n",
      "Response: False\n",
      "\n",
      "Question 304: Can AMD be prevented by avoiding all fats?\n",
      "Response: False\n",
      "\n",
      "Question 305: Does wet AMD cause a distorted central field?\n",
      "Response: False\n",
      "\n",
      "Question 306: Is AMD caused by excessive use of hair gel?\n",
      "Response: False\n",
      "\n",
      "Question 307: Can AMD impair the ability to read small text on screens?\n",
      "Response: True\n",
      "\n",
      "Question 308: Does dry AMD cause inflammation of the vitreous?\n",
      "Response: False\n",
      "\n",
      "Question 309: Is AMD linked to difficulty seeing in smoky environments?\n",
      "Response: True\n",
      "\n",
      "Question 310: Can AMD be cured with ice packs?\n",
      "Response: False.\n",
      "\n",
      "Question 311: Does AMD cause challenges with seeing details in nature?\n",
      "Response: True\n",
      "\n",
      "Question 312: Is AMD caused by excessive pet dander exposure?\n",
      "Response: False\n",
      "\n",
      "Question 313: Can AMD affect the ability to see fine print on packaging?\n",
      "Response: True\n",
      "\n",
      "Question 314: Does wet AMD cause optic disc damage?\n",
      "Response: False\n",
      "\n",
      "Question 315: Is AMD linked to difficulty seeing in overcast weather?\n",
      "Response: False\n",
      "\n",
      "Question 316: Can AMD be prevented by avoiding all sugars?\n",
      "Response: False\n",
      "\n",
      "Question 317: Does wet AMD cause a central blind spot?\n",
      "Response: False\n",
      "\n",
      "Question 318: Is AMD caused by excessive use of sunscreen?\n",
      "Response: False\n",
      "\n",
      "Question 319: Can AMD affect the ability to see details on a computer?\n",
      "Response: True\n",
      "\n",
      "Question 320: Does dry AMD cause rapid retinal pigment epithelial repair?\n",
      "Response: False\n",
      "\n",
      "Question 321: Is AMD linked to difficulty seeing in twilight?\n",
      "Response: False.\n",
      "\n",
      "Question 322: Can AMD be treated with hand sanitizer?\n",
      "Response: False\n",
      "\n",
      "Question 323: Does AMD cause challenges with seeing fine details in books?\n",
      "Response: True\n",
      "\n",
      "Question 324: Is AMD caused by excessive exposure to smoke detectors?\n",
      "Response: False\n",
      "\n",
      "Question 325: Does AMD cause difficulty distinguishing contrasts?\n",
      "Response: False\n",
      "\n",
      "Question 326: Is wet AMD caused by excessive exposure to dust?\n",
      "Response: False\n",
      "\n",
      "Question 327: Can dry AMD lead to retinal pigment epithelial atrophy?\n",
      "Response: True.\n",
      "\n",
      "Question 328: Is AMD treatable with topical ointments?\n",
      "Response: False\n",
      "\n",
      "Question 329: Does wet AMD cause a sudden central blur?\n",
      "Response: True\n",
      "\n",
      "Question 330: Is hyperlipidemia a risk factor for AMD?\n",
      "Response: True\n",
      "\n",
      "Question 331: Does dry AMD cause abrupt vision deterioration?\n",
      "Response: False.\n",
      "\n",
      "Question 332: Can fundus photography detect AMD changes?\n",
      "Response: True\n",
      "\n",
      "Question 333: Is AMD a condition of the conjunctiva?\n",
      "Response: False.\n",
      "\n",
      "Question 334: Does AMD impair the ability to see sharp outlines?\n",
      "Response: True\n",
      "\n",
      "Question 335: Can AMD be diagnosed with a saliva test?\n",
      "Response: False\n",
      "\n",
      "Question 336: Is visual acuity testing useful for AMD detection?\n",
      "Response: False\n",
      "\n",
      "Question 337: Does wet AMD cause retinal pigment epithelial detachment?\n",
      "Response: False\n",
      "\n",
      "Question 338: Is early AMD often unnoticed by patients?\n",
      "Response: True\n",
      "\n",
      "Question 339: Can AMD be cured with homeopathic remedies?\n",
      "Response: False\n",
      "\n",
      "Question 340: Does systemic inflammation increase AMD risk?\n",
      "Response: True\n",
      "\n",
      "Question 341: Is AMD caused by excessive exposure to loud music?\n",
      "Response: False\n",
      "\n",
      "Question 342: Can adaptive devices assist with AMD-related vision loss?\n",
      "Response: True\n",
      "\n",
      "Question 343: Does AMD affect the retina’s outer layers?\n",
      "Response: True\n",
      "\n",
      "Question 344: Is lipid metabolism dysregulation linked to AMD?\n",
      "Response: True\n",
      "\n",
      "Question 345: Can AMD be reversed with yoga?\n",
      "Response: False\n",
      "\n",
      "Question 346: Does AMD cause difficulty with precision tasks like sewing?\n",
      "Response: False.\n",
      "\n",
      "Question 347: Is AMD caused by a lack of dietary carbohydrates?\n",
      "Response: False\n",
      "\n",
      "Question 348: Can severe AMD restrict mobility?\n",
      "Response: True\n",
      "\n",
      "Question 349: Does wet AMD cause gradual vision stabilization?\n",
      "Response: False.\n",
      "\n",
      "Question 350: Is AMD linked to difficulty navigating busy environments?\n",
      "Response: False\n",
      "\n",
      "Question 351: Can AMD be treated with sugar syrup?\n",
      "Response: False\n",
      "\n",
      "Question 352: Does AMD increase the likelihood of stumbling?\n",
      "Response: True.\n",
      "\n",
      "Question 353: Is wet AMD treated with laser surgery as a first-line option?\n",
      "Response: False\n",
      "\n",
      "Question 354: Can reducing smoking improve AMD outcomes?\n",
      "Response: True\n",
      "\n",
      "Question 355: Does AMD cause swelling of the optic disc?\n",
      "Response: True\n",
      "\n",
      "Question 356: Is AMD associated with trouble seeing intricate designs?\n",
      "Response: True\n",
      "\n",
      "Question 357: Can AMD be prevented by avoiding all proteins?\n",
      "Response: False\n",
      "\n",
      "Question 358: Does wet AMD cause a dark central shadow?\n",
      "Response: True\n",
      "\n",
      "Question 359: Is AMD caused by excessive use of fans?\n",
      "Response: False.\n",
      "\n",
      "Question 360: Can AMD affect the ability to spot wildlife?\n",
      "Response: False.\n",
      "\n",
      "Question 361: Does dry AMD cause retinal vein occlusion?\n",
      "Response: False\n",
      "\n",
      "Question 362: Is AMD detectable with routine eye chart tests?\n",
      "Response: False\n",
      "\n",
      "Question 363: Can AMD be cured with salt water rinses?\n",
      "Response: False\n",
      "\n",
      "Question 364: Does AMD cause issues seeing in glaring conditions?\n",
      "Response: True.\n",
      "\n",
      "Question 365: Is wet AMD caused by a lack of dietary fats?\n",
      "Response: False.\n",
      "\n",
      "Question 366: Can AMD increase reliance on corrective lenses?\n",
      "Response: True\n",
      "\n",
      "Question 367: Does AMD affect the retinal ganglion cells directly?\n",
      "Response: False\n",
      "\n",
      "Question 368: Is AMD linked to trouble discerning subtle hues?\n",
      "Response: True\n",
      "\n",
      "Question 369: Does wet AMD cause objects to appear wavy?\n",
      "Response: False.\n",
      "\n",
      "Question 370: Is AMD caused by excessive use of shampoo?\n",
      "Response: False.\n",
      "\n",
      "Question 371: Can AMD lead to difficulty with tasks like fastening buttons?\n",
      "Response: True.\n",
      "\n",
      "Question 372: Does dry AMD cause retinal artery occlusion?\n",
      "Response: False\n",
      "\n",
      "Question 373: Is AMD associated with trouble reading analog clocks?\n",
      "Response: False\n",
      "\n",
      "Question 374: Can AMD be treated with cough syrup?\n",
      "Response: False\n",
      "\n",
      "Question 375: Does AMD affect the ability to read product labels?\n",
      "Response: True\n",
      "\n",
      "Question 376: Is AMD caused by excessive exposure to heat?\n",
      "Response: False\n",
      "\n",
      "Question 377: Can AMD impair the ability to dial a phone?\n",
      "Response: True.\n",
      "\n",
      "Question 378: Does wet AMD cause inflammation of the pupil?\n",
      "Response: False.\n",
      "\n",
      "Question 379: Is AMD linked to difficulty seeing in foggy weather?\n",
      "Response: False\n",
      "\n",
      "Question 380: Can AMD be cured with lemon extract?\n",
      "Response: False\n",
      "\n",
      "Question 381: Does AMD cause trouble identifying visual patterns?\n",
      "Response: True\n",
      "\n",
      "Question 382: Is dry AMD caused by excessive exposure to mold?\n",
      "Response: False\n",
      "\n",
      "Question 383: Can AMD affect the ability to appreciate scenic views?\n",
      "Response: True\n",
      "\n",
      "Question 384: Does AMD cause vision loss due to lens detachment?\n",
      "Response: False\n",
      "\n",
      "Question 385: Is AMD linked to difficulty reading restaurant menus?\n",
      "Response: False\n",
      "\n",
      "Question 386: Can AMD be prevented by avoiding all salt?\n",
      "Response: False\n",
      "\n",
      "Question 387: Does wet AMD cause a central visual haze?\n",
      "Response: False\n",
      "\n",
      "Question 388: Is AMD caused by excessive use of conditioner?\n",
      "Response: False\n",
      "\n",
      "Question 389: Can AMD impair the ability to sew intricate patterns?\n",
      "Response: False\n",
      "\n",
      "Question 390: Does dry AMD cause retinal pigment epithelial swelling?\n",
      "Response: True.\n",
      "\n",
      "Question 391: Is AMD linked to difficulty seeing fine details in images?\n",
      "Response: True.\n",
      "\n",
      "Question 392: Can AMD be treated with nasal decongestants?\n",
      "Response: False\n",
      "\n",
      "Question 393: Does AMD affect the ability to read digital displays?\n",
      "Response: False\n",
      "\n",
      "Question 394: Is AMD caused by excessive exposure to humidity?\n",
      "Response: False\n",
      "\n",
      "Question 395: Can AMD impair the ability to see in dawn light?\n",
      "Response: True.\n",
      "\n",
      "Question 396: Does AMD cause inflammation of the lens?\n",
      "Response: True.\n",
      "\n",
      "Question 397: Is AMD linked to difficulty reading fine print in books?\n",
      "Response: True\n",
      "\n",
      "Question 398: Does wet AMD cause a central visual distortion?\n",
      "Response: False\n",
      "\n",
      "Question 399: Is AMD caused by excessive use of body lotion?\n",
      "Response: False\n",
      "\n",
      "Question 400: Can AMD affect the ability to see details on a tablet?\n",
      "Response: True.\n",
      "\n",
      "Question 401: Does dry AMD cause rapid retinal pigment epithelial regeneration?\n",
      "Response: False\n",
      "\n",
      "Question 402: Is AMD linked to difficulty seeing in dusk conditions?\n",
      "Response: True\n",
      "\n",
      "Question 403: Can AMD be treated with lip balm?\n",
      "Response: False\n",
      "\n",
      "Question 404: Does AMD cause trouble reading fine text on screens?\n",
      "Response: True\n",
      "\n",
      "Question 405: Is AMD caused by excessive exposure to perfumes?\n",
      "Response: False.\n",
      "\n",
      "Question 406: Can AMD affect the ability to see details in artwork?\n",
      "Response: True\n",
      "\n",
      "Question 407: Does wet AMD cause inflammation of the cornea?\n",
      "Response: False\n",
      "\n",
      "Question 408: Is AMD linked to difficulty seeing in cloudy weather?\n",
      "Response: False\n",
      "\n",
      "Question 409: Can AMD be cured with sugar pills?\n",
      "Response: False\n",
      "\n",
      "Question 410: Does AMD cause challenges with seeing fine details in crafts?\n",
      "Response: True.\n",
      "\n",
      "Question 411: Is AMD caused by excessive exposure to sand?\n",
      "Response: False\n",
      "\n",
      "Question 412: Can AMD affect the ability to see fine details in landscapes?\n",
      "Response: True\n",
      "\n",
      "Question 413: Does dry AMD cause rapid choroidal repair?\n",
      "Response: False\n",
      "\n",
      "Question 414: Does AMD cause trouble seeing subtle contrasts?\n",
      "Response: False\n",
      "\n",
      "Question 415: Is wet AMD caused by excessive exposure to smoke?\n",
      "Response: False\n",
      "\n",
      "Question 416: Can dry AMD lead to loss of retinal pigment?\n",
      "Response: False\n",
      "\n",
      "Question 417: Is AMD treatable with antihistamines?\n",
      "Response: False\n",
      "\n",
      "Question 418: Does wet AMD cause a sudden central blind spot?\n",
      "Response: True\n",
      "\n",
      "Question 419: Can AMD be prevented by avoiding all fruits?\n",
      "Response: False\n",
      "\n",
      "Question 420: Is coronary artery disease a risk factor for AMD?\n",
      "Response: False\n",
      "\n",
      "Question 421: Does dry AMD cause instant vision impairment?\n",
      "Response: False\n",
      "\n",
      "Question 422: Can perimetry testing detect AMD-related vision loss?\n",
      "Response: False\n",
      "\n",
      "Question 423: Is AMD a condition of the eyelids?\n",
      "Response: False\n",
      "\n",
      "Question 424: Does AMD impair the ability to see clear boundaries?\n",
      "Response: True\n",
      "\n",
      "Question 425: Can AMD be diagnosed with a breath test?\n",
      "Response: False\n",
      "\n",
      "Question 426: Is contrast sensitivity testing useful for AMD monitoring?\n",
      "Response: True\n",
      "\n",
      "Question 427: Does wet AMD cause subretinal hemorrhages?\n",
      "Response: False\n",
      "\n",
      "Question 428: Is early-stage AMD typically symptomatic?\n",
      "Response: False\n",
      "\n",
      "Question 429: Does chronic systemic inflammation contribute to AMD?\n",
      "Response: True\n",
      "\n",
      "Question 430: Is AMD caused by excessive exposure to silence?\n",
      "Response: False\n",
      "\n",
      "Question 431: Can magnifiers help with AMD-related vision difficulties?\n",
      "Response: True.\n",
      "\n",
      "Question 432: Does AMD affect the retinal inner layers directly?\n",
      "Response: False\n",
      "\n",
      "Question 433: Is impaired retinal metabolism a feature of AMD?\n",
      "Response: True\n",
      "\n",
      "Question 434: Can AMD be reversed with sound therapy?\n",
      "Response: False\n",
      "\n",
      "Question 435: Does AMD cause difficulty with tasks requiring fine vision?\n",
      "Response: True\n",
      "\n",
      "Question 436: Is AMD caused by a lack of dietary salt?\n",
      "Response: False\n",
      "\n",
      "Question 437: Can advanced AMD hinder daily functioning?\n",
      "Response: True\n",
      "\n",
      "Question 438: Does wet AMD cause slow vision recovery?\n",
      "Response: False.\n",
      "\n",
      "Question 439: Is AMD linked to difficulty in chaotic visual settings?\n",
      "Response: False.\n",
      "\n",
      "Question 440: Can AMD be treated with honey?\n",
      "Response: False\n",
      "\n",
      "Question 441: Does AMD increase the risk of tripping in dim light?\n",
      "Response: False.\n",
      "\n",
      "Question 442: Is dry AMD treated with steroid injections?\n",
      "Response: False\n",
      "\n",
      "Question 443: Can stopping smoking mitigate AMD progression?\n",
      "Response: True\n",
      "\n",
      "Question 444: Does AMD cause swelling of the retina’s inner layers?\n",
      "Response: False\n",
      "\n",
      "Question 445: Is AMD associated with trouble seeing detailed patterns?\n",
      "Response: True\n",
      "\n",
      "Question 446: Does wet AMD cause a central gray area?\n",
      "Response: False\n",
      "\n",
      "Question 447: Is AMD caused by excessive exposure to dry air?\n",
      "Response: False\n",
      "\n",
      "Question 448: Can AMD affect the ability to identify distant objects?\n",
      "Response: True\n",
      "\n",
      "Question 449: Does dry AMD cause retinal detachment?\n",
      "Response: False\n",
      "\n",
      "Question 450: Is AMD detectable with color vision tests?\n",
      "Response: False\n",
      "\n",
      "Question 451: Can AMD be cured with vinegar?\n",
      "Response: False\n",
      "\n",
      "Question 452: Does AMD cause problems seeing in reflective light?\n",
      "Response: True\n",
      "\n",
      "Question 453: Is wet AMD caused by a lack of dietary protein?\n",
      "Response: False\n",
      "\n",
      "Question 454: Can AMD increase dependence on optical aids?\n",
      "Response: True\n",
      "\n",
      "Question 455: Does AMD affect the retinal blood vessels directly?\n",
      "Response: False\n",
      "\n",
      "Question 456: Is AMD linked to difficulty perceiving faint colors?\n",
      "Response: True\n",
      "\n",
      "Question 457: Does wet AMD cause lines to appear curved?\n",
      "Response: False.\n",
      "\n",
      "Question 458: Is AMD caused by excessive use of soap?\n",
      "Response: False\n",
      "\n",
      "Question 459: Can AMD lead to difficulty with tasks like tying knots?\n",
      "Response: True\n",
      "\n",
      "Question 460: Does dry AMD cause optic nerve inflammation?\n",
      "Response: False\n",
      "\n",
      "Question 461: Is AMD associated with trouble reading digital clocks?\n",
      "Response: False.\n",
      "\n",
      "Question 462: Can AMD be treated with antacids?\n",
      "Response: False\n",
      "\n",
      "Question 463: Does AMD affect the ability to read fine print on bottles?\n",
      "Response: True.\n",
      "\n",
      "Question 464: Is AMD caused by excessive exposure to fog?\n",
      "Response: False\n",
      "\n",
      "Question 465: Can AMD impair the ability to use a keypad?\n",
      "Response: True.\n",
      "\n",
      "Question 466: Does wet AMD cause inflammation of the optic nerve?\n",
      "Response: False\n",
      "\n",
      "Question 467: Is AMD linked to difficulty seeing in misty conditions?\n",
      "Response: True.\n",
      "\n",
      "Question 468: Can AMD be cured with garlic extract?\n",
      "Response: False\n",
      "\n",
      "Question 469: Does AMD cause trouble identifying visual textures?\n",
      "Response: True.\n",
      "\n",
      "Question 470: Is dry AMD caused by excessive exposure to pollen?\n",
      "Response: False\n",
      "\n",
      "Question 471: Can AMD affect the ability to enjoy detailed scenery?\n",
      "Response: False.\n",
      "\n",
      "Question 472: Does AMD cause vision loss due to optic disc damage?\n",
      "Response: True\n",
      "\n",
      "Question 473: Is AMD linked to difficulty reading price tags?\n",
      "Response: False\n",
      "\n",
      "Question 474: Does wet AMD cause a central visual ripple?\n",
      "Response: False.\n",
      "\n",
      "Question 475: Is AMD caused by excessive use of lotion?\n",
      "Response: False\n",
      "\n",
      "Question 476: Can AMD impair the ability to sew fine stitches?\n",
      "Response: False\n",
      "\n",
      "Question 477: Does AMD cause difficulty seeing straight lines as straight?\n",
      "Response: True.\n",
      "\n",
      "Question 478: Is wet AMD caused by excessive exposure to blue light?\n",
      "Response: False\n",
      "\n",
      "Question 479: Can dry AMD lead to atrophy of the retinal pigment epithelium?\n",
      "Response: True\n",
      "\n",
      "Question 480: Is AMD treatable with herbal eye washes?\n",
      "Response: False.\n",
      "\n",
      "Question 481: Does wet AMD cause leakage of blood into the retina?\n",
      "Response: True\n",
      "\n",
      "Question 482: Can AMD be prevented by avoiding all artificial light?\n",
      "Response: False\n",
      "\n",
      "Question 483: Is a history of stroke a risk factor for AMD?\n",
      "Response: True.\n",
      "\n",
      "Question 484: Does dry AMD cause immediate distortion of central vision?\n",
      "Response: False.\n",
      "\n",
      "Question 485: Can dark adaptometry testing detect AMD-related vision changes?\n",
      "Response: False\n",
      "\n",
      "Question 486: Is AMD a condition affecting the tear ducts?\n",
      "Response: False\n",
      "\n",
      "Question 487: Does AMD impair the ability to see subtle gradients?\n",
      "Response: True.\n",
      "\n",
      "Question 488: Can AMD be diagnosed with an electrocardiogram?\n",
      "Response: False\n",
      "\n",
      "Question 489: Is microperimetry useful for assessing AMD progression?\n",
      "Response: True\n",
      "\n",
      "Question 490: Does wet AMD cause abnormal growth of choroidal blood vessels?\n",
      "Response: False\n",
      "\n",
      "Question 491: Does wet AMD involve abnormal blood vessel growth?\n",
      "Response: False\n",
      "\n",
      "Question 492: Is AMD curable with current treatments?\n",
      "Response: False\n",
      "\n",
      "Question 493: Are drusen deposits a sign of early dry AMD?\n",
      "Response: False.\n",
      "\n",
      "Question 494: Does AMD primarily affect peripheral vision?\n",
      "Response: False\n",
      "\n",
      "Question 495: Can anti-VEGF injections slow wet AMD progression?\n",
      "Response: True\n",
      "\n",
      "Question 496: Does AMD only occur in people under 50?\n",
      "Response: False\n",
      "\n",
      "Question 497: Is geographic atrophy an advanced form of dry AMD?\n",
      "Response: True\n",
      "\n",
      "Question 498: Can AMD cause complete blindness in all cases?\n",
      "Response: False\n",
      "\n",
      "Question 499: Can the Amsler grid help detect vision changes in AMD?\n",
      "Response: True\n",
      "\n",
      "Question 500: Is AMD caused by bacterial infection?\n",
      "Response: False\n",
      "\n"
     ]
    }
   ],
   "source": [
    "# Loop through questions and generate answers without context\n",
    "without_context_responses = []\n",
    "\n",
    "print(\"Processing questions without context...\")\n",
    "for index, row in df.iterrows():\n",
    "    # Generate answer without context\n",
    "    response = generate_answer_without_context(row[\"question\"], \"llama3.2\")\n",
    "    response = remove_think_tags(response)\n",
    "    without_context_responses.append(response)\n",
    "    \n",
    "    print(f\"Question {index+1}: {row['question']}\")\n",
    "    print(f\"Response: {response}\\n\")\n",
    "\n",
    "# Add to dataframe\n",
    "df['without_context_answer'] = without_context_responses"
   ]
  },
  {
   "cell_type": "code",
   "execution_count": 12,
   "id": "a1e6469a-7750-412c-bd52-7f7e5bf0e5e2",
   "metadata": {},
   "outputs": [
    {
     "name": "stdout",
     "output_type": "stream",
     "text": [
      "Parsed Results:\n",
      "Question 1: Does AMD primarily affect the macula of the retina?\n",
      "Ground Truth: True\n",
      "With Context: True\n",
      "Without Context: True\n",
      "\n",
      "Question 2: Is wet AMD characterized by abnormal blood vessel growth?\n",
      "Ground Truth: True\n",
      "With Context: True\n",
      "Without Context: True\n",
      "\n",
      "Question 3: Can dry AMD lead to complete blindness?\n",
      "Ground Truth: False\n",
      "With Context: True\n",
      "Without Context: True\n",
      "\n",
      "Question 4: Is smoking a known risk factor for AMD?\n",
      "Ground Truth: True\n",
      "With Context: True\n",
      "Without Context: True\n",
      "\n",
      "Question 5: Does wet AMD progress faster than dry AMD?\n",
      "Ground Truth: True\n",
      "With Context: False\n",
      "Without Context: False\n",
      "\n",
      "Question 6: Is there a cure for advanced dry AMD?\n",
      "Ground Truth: False\n",
      "With Context: False\n",
      "Without Context: False\n",
      "\n",
      "Question 7: Can anti-VEGF injections treat wet AMD?\n",
      "Ground Truth: True\n",
      "With Context: True\n",
      "Without Context: True\n",
      "\n",
      "Question 8: Does AMD affect peripheral vision more than central vision?\n",
      "Ground Truth: False\n",
      "With Context: False\n",
      "Without Context: False\n",
      "\n",
      "Question 9: Is family history a risk factor for developing AMD?\n",
      "Ground Truth: True\n",
      "With Context: True\n",
      "Without Context: False\n",
      "\n",
      "Question 10: Can AMD be diagnosed with a blood test?\n",
      "Ground Truth: False\n",
      "With Context: False\n",
      "Without Context: False\n",
      "\n",
      "Question 11: Does the Amsler grid help detect AMD symptoms?\n",
      "Ground Truth: True\n",
      "With Context: True\n",
      "Without Context: False\n",
      "\n",
      "Question 12: Is dry AMD more common than wet AMD?\n",
      "Ground Truth: True\n",
      "With Context: False\n",
      "Without Context: False\n",
      "\n",
      "Question 13: Can sunglasses completely prevent AMD?\n",
      "Ground Truth: False\n",
      "With Context: False\n",
      "Without Context: False\n",
      "\n",
      "Question 14: Does diabetes increase the risk of AMD?\n",
      "Ground Truth: True\n",
      "With Context: True\n",
      "Without Context: True\n",
      "\n",
      "Question 15: Is laser therapy a standard treatment for dry AMD?\n",
      "Ground Truth: False\n",
      "With Context: False\n",
      "Without Context: False\n",
      "\n",
      "Question 16: Are drusen deposits associated with dry AMD?\n",
      "Ground Truth: True\n",
      "With Context: True\n",
      "Without Context: True\n",
      "\n",
      "Question 17: Does AMD primarily affect people over 50?\n",
      "Ground Truth: True\n",
      "With Context: False\n",
      "Without Context: True\n",
      "\n",
      "Question 18: Can wet AMD cause sudden vision loss?\n",
      "Ground Truth: True\n",
      "With Context: True\n",
      "Without Context: True\n",
      "\n",
      "Question 19: Is AMD contagious between individuals?\n",
      "Ground Truth: False\n",
      "With Context: False\n",
      "Without Context: False\n",
      "\n",
      "Question 20: Does obesity increase the risk of AMD?\n",
      "Ground Truth: True\n",
      "With Context: True\n",
      "Without Context: True\n",
      "\n",
      "Question 21: Can AMD be reversed with surgery?\n",
      "Ground Truth: False\n",
      "With Context: False\n",
      "Without Context: False\n",
      "\n",
      "Question 22: Does AMD affect color perception?\n",
      "Ground Truth: True\n",
      "With Context: True\n",
      "Without Context: False\n",
      "\n",
      "Question 23: Is AMD caused by excessive screen time?\n",
      "Ground Truth: False\n",
      "With Context: False\n",
      "Without Context: False\n",
      "\n",
      "Question 24: Can optical coherence tomography (OCT) detect AMD?\n",
      "Ground Truth: True\n",
      "With Context: True\n",
      "Without Context: True\n",
      "\n",
      "Question 25: Does wet AMD involve fluid leakage under the retina?\n",
      "Ground Truth: True\n",
      "With Context: True\n",
      "Without Context: False\n",
      "\n",
      "Question 26: Is AMD more prevalent in women than men?\n",
      "Ground Truth: True\n",
      "With Context: True\n",
      "Without Context: False\n",
      "\n",
      "Question 27: Can AMD be treated with over-the-counter eye drops?\n",
      "Ground Truth: False\n",
      "With Context: False\n",
      "Without Context: False\n",
      "\n",
      "Question 28: Does high blood pressure increase AMD risk?\n",
      "Ground Truth: True\n",
      "With Context: True\n",
      "Without Context: True\n",
      "\n",
      "Question 29: Is AMD linked to high cholesterol levels?\n",
      "Ground Truth: True\n",
      "With Context: True\n",
      "Without Context: False\n",
      "\n",
      "Question 30: Can fish oil supplements alone prevent AMD?\n",
      "Ground Truth: False\n",
      "With Context: False\n",
      "Without Context: False\n",
      "\n",
      "Question 31: Does AMD affect the optic nerve directly?\n",
      "Ground Truth: False\n",
      "With Context: False\n",
      "Without Context: False\n",
      "\n",
      "Question 32: Is photodynamic therapy used to treat wet AMD?\n",
      "Ground Truth: True\n",
      "With Context: True\n",
      "Without Context: True\n",
      "\n",
      "Question 33: Can AMD increase the risk of falls in older adults?\n",
      "Ground Truth: True\n",
      "With Context: True\n",
      "Without Context: True\n",
      "\n",
      "Question 34: Does AMD only occur in one eye at a time?\n",
      "Ground Truth: False\n",
      "With Context: False\n",
      "Without Context: False\n",
      "\n",
      "Question 35: Can AREDS supplements slow dry AMD progression?\n",
      "Ground Truth: True\n",
      "With Context: True\n",
      "Without Context: True\n",
      "\n",
      "Question 36: Is AMD more common in Caucasian populations?\n",
      "Ground Truth: True\n",
      "With Context: True\n",
      "Without Context: True\n",
      "\n",
      "Question 37: Does wet AMD always lead to total blindness?\n",
      "Ground Truth: False\n",
      "With Context: False\n",
      "Without Context: False\n",
      "\n",
      "Question 38: Can AMD cause straight lines to appear wavy?\n",
      "Ground Truth: True\n",
      "With Context: True\n",
      "Without Context: False\n",
      "\n",
      "Question 39: Is AMD caused by a bacterial infection?\n",
      "Ground Truth: False\n",
      "With Context: False\n",
      "Without Context: False\n",
      "\n",
      "Question 40: Does AMD affect depth perception?\n",
      "Ground Truth: True\n",
      "With Context: True\n",
      "Without Context: True\n",
      "\n",
      "Question 41: Can children develop AMD?\n",
      "Ground Truth: False\n",
      "With Context: False\n",
      "Without Context: False\n",
      "\n",
      "Question 42: Does AMD increase the need for visual aids?\n",
      "Ground Truth: True\n",
      "With Context: True\n",
      "Without Context: True\n",
      "\n",
      "Question 43: Is AMD linked to UV light exposure?\n",
      "Ground Truth: True\n",
      "With Context: True\n",
      "Without Context: False\n",
      "\n",
      "Question 44: Can AMD be reversed with exercise alone?\n",
      "Ground Truth: False\n",
      "With Context: False\n",
      "Without Context: False\n",
      "\n",
      "Question 45: Does AMD affect night vision more than daytime vision?\n",
      "Ground Truth: False\n",
      "With Context: False\n",
      "Without Context: False\n",
      "\n",
      "Question 46: Can a dilated eye exam diagnose AMD?\n",
      "Ground Truth: True\n",
      "With Context: True\n",
      "Without Context: False\n",
      "\n",
      "Question 47: Is AMD caused by reading in dim light?\n",
      "Ground Truth: False\n",
      "With Context: False\n",
      "Without Context: False\n",
      "\n",
      "Question 48: Does AMD affect the ability to recognize faces?\n",
      "Ground Truth: True\n",
      "With Context: True\n",
      "Without Context: False\n",
      "\n",
      "Question 49: Can wet AMD be cured with antibiotics?\n",
      "Ground Truth: False\n",
      "With Context: False\n",
      "Without Context: False\n",
      "\n",
      "Question 50: Does AMD risk increase with age?\n",
      "Ground Truth: True\n",
      "With Context: True\n",
      "Without Context: True\n",
      "\n",
      "Question 51: Does AMD affect the central vision?\n",
      "Ground Truth: True\n",
      "With Context: True\n",
      "Without Context: False\n",
      "\n",
      "Question 52: Is wet AMD caused by bacterial infections?\n",
      "Ground Truth: False\n",
      "With Context: False\n",
      "Without Context: False\n",
      "\n",
      "Question 53: Can dry AMD progress to geographic atrophy?\n",
      "Ground Truth: True\n",
      "With Context: True\n",
      "Without Context: True\n",
      "\n",
      "Question 54: Is AMD treatable with antibiotics?\n",
      "Ground Truth: False\n",
      "With Context: False\n",
      "Without Context: False\n",
      "\n",
      "Question 55: Does wet AMD involve choroidal neovascularization?\n",
      "Ground Truth: True\n",
      "With Context: True\n",
      "Without Context: False\n",
      "\n",
      "Question 56: Can AMD be prevented by avoiding all sunlight?\n",
      "Ground Truth: False\n",
      "With Context: False\n",
      "Without Context: False\n",
      "\n",
      "Question 57: Is smoking a risk factor for AMD?\n",
      "Ground Truth: True\n",
      "With Context: True\n",
      "Without Context: True\n",
      "\n",
      "Question 58: Does dry AMD cause rapid vision loss?\n",
      "Ground Truth: False\n",
      "With Context: True\n",
      "Without Context: False\n",
      "\n",
      "Question 59: Is AMD primarily a disease of the cornea?\n",
      "Ground Truth: False\n",
      "With Context: False\n",
      "Without Context: False\n",
      "\n",
      "Question 60: Does family history increase AMD risk?\n",
      "Ground Truth: True\n",
      "With Context: True\n",
      "Without Context: True\n",
      "\n",
      "Question 61: Can AMD be diagnosed with a urine test?\n",
      "Ground Truth: False\n",
      "With Context: False\n",
      "Without Context: False\n",
      "\n",
      "Question 62: Is the Amsler grid used to monitor AMD symptoms?\n",
      "Ground Truth: True\n",
      "With Context: True\n",
      "Without Context: True\n",
      "\n",
      "Question 63: Does wet AMD cause sudden vision changes?\n",
      "Ground Truth: True\n",
      "With Context: False\n",
      "Without Context: False\n",
      "\n",
      "Question 64: Is dry AMD more prevalent than wet AMD?\n",
      "Ground Truth: True\n",
      "With Context: False\n",
      "Without Context: False\n",
      "\n",
      "Question 65: Can AMD be cured with dietary supplements alone?\n",
      "Ground Truth: False\n",
      "With Context: False\n",
      "Without Context: False\n",
      "\n",
      "Question 66: Is AMD contagious?\n",
      "Ground Truth: False\n",
      "With Context: False\n",
      "Without Context: False\n",
      "\n",
      "Question 67: Can optical coherence tomography detect AMD?\n",
      "Ground Truth: True\n",
      "With Context: True\n",
      "Without Context: True\n",
      "\n",
      "Question 68: Is obesity a risk factor for AMD?\n",
      "Ground Truth: True\n",
      "With Context: False\n",
      "Without Context: True\n",
      "\n",
      "Question 69: Can AMD be reversed with laser surgery?\n",
      "Ground Truth: False\n",
      "With Context: False\n",
      "Without Context: False\n",
      "\n",
      "Question 70: Can diabetes increase the risk of AMD?\n",
      "Ground Truth: True\n",
      "With Context: True\n",
      "Without Context: True\n",
      "\n",
      "Question 71: Does wet AMD involve fluid buildup under the retina?\n",
      "Ground Truth: True\n",
      "With Context: False\n",
      "Without Context: False\n",
      "\n",
      "Question 72: Is AMD more common in women than men?\n",
      "Ground Truth: True\n",
      "With Context: True\n",
      "Without Context: True\n",
      "\n",
      "Question 73: Does AMD increase the risk of falls in older adults?\n",
      "Ground Truth: True\n",
      "With Context: True\n",
      "Without Context: True\n",
      "\n",
      "Question 74: Is photodynamic therapy a treatment for wet AMD?\n",
      "Ground Truth: True\n",
      "With Context: True\n",
      "Without Context: True\n",
      "\n",
      "Question 75: Can AMD be prevented by wearing UV-protective sunglasses?\n",
      "Ground Truth: False\n",
      "With Context: False\n",
      "Without Context: False\n",
      "\n",
      "Question 76: Is AMD caused by a viral infection?\n",
      "Ground Truth: False\n",
      "With Context: False\n",
      "Without Context: False\n",
      "\n",
      "Question 77: Does AMD primarily affect people over 60?\n",
      "Ground Truth: True\n",
      "With Context: False\n",
      "Without Context: False\n",
      "\n",
      "Question 78: Is AMD reversible with current treatments?\n",
      "Ground Truth: False\n",
      "With Context: False\n",
      "Without Context: False\n",
      "\n",
      "Question 79: Can wet AMD cause distorted vision?\n",
      "Ground Truth: True\n",
      "With Context: True\n",
      "Without Context: True\n",
      "\n",
      "Question 80: Is high cholesterol a risk factor for AMD?\n",
      "Ground Truth: True\n",
      "With Context: True\n",
      "Without Context: False\n",
      "\n",
      "Question 81: Does AMD cause straight lines to appear wavy?\n",
      "Ground Truth: True\n",
      "With Context: False\n",
      "Without Context: False\n",
      "\n",
      "Question 82: Can AMD be cured with exercise alone?\n",
      "Ground Truth: False\n",
      "With Context: False\n",
      "Without Context: False\n",
      "\n",
      "Question 83: Can a dilated eye exam detect AMD?\n",
      "Ground Truth: True\n",
      "With Context: True\n",
      "Without Context: False\n",
      "\n",
      "Question 84: Can wet AMD be treated with antibiotics?\n",
      "Ground Truth: False\n",
      "With Context: False\n",
      "Without Context: False\n",
      "\n",
      "Question 85: Is dry AMD associated with drusen deposits?\n",
      "Ground Truth: True\n",
      "With Context: True\n",
      "Without Context: True\n",
      "\n",
      "Question 86: Can AMD be diagnosed with an MRI?\n",
      "Ground Truth: False\n",
      "With Context: False\n",
      "Without Context: False\n",
      "\n",
      "Question 87: Does wet AMD cause fluid leakage in the eye?\n",
      "Ground Truth: True\n",
      "With Context: True\n",
      "Without Context: True\n",
      "\n",
      "Question 88: Is AMD linked to cardiovascular disease?\n",
      "Ground Truth: True\n",
      "With Context: True\n",
      "Without Context: True\n",
      "\n",
      "Question 89: Can AMD be prevented with fish oil supplements alone?\n",
      "Ground Truth: False\n",
      "With Context: False\n",
      "Without Context: False\n",
      "\n",
      "Question 90: Does AMD affect reading ability?\n",
      "Ground Truth: True\n",
      "With Context: True\n",
      "Without Context: True\n",
      "\n",
      "Question 91: Is AMD caused by excessive caffeine intake?\n",
      "Ground Truth: False\n",
      "With Context: False\n",
      "Without Context: False\n",
      "\n",
      "Question 92: Can fluorescein angiography diagnose wet AMD?\n",
      "Ground Truth: True\n",
      "With Context: True\n",
      "Without Context: True\n",
      "\n",
      "Question 93: Does AMD only affect one eye at a time?\n",
      "Ground Truth: False\n",
      "With Context: False\n",
      "Without Context: False\n",
      "\n",
      "Question 94: Is AMD more prevalent in developed countries?\n",
      "Ground Truth: True\n",
      "With Context: False\n",
      "Without Context: True\n",
      "\n",
      "Question 95: Can wet AMD be reversed completely?\n",
      "Ground Truth: False\n",
      "With Context: False\n",
      "Without Context: False\n",
      "\n",
      "Question 96: Does AMD affect the macula?\n",
      "Ground Truth: True\n",
      "With Context: True\n",
      "Without Context: True\n",
      "\n",
      "Question 97: Is AMD caused by poor hygiene?\n",
      "Ground Truth: False\n",
      "With Context: False\n",
      "Without Context: False\n",
      "\n",
      "Question 98: Can low vision aids help manage AMD symptoms?\n",
      "Ground Truth: True\n",
      "With Context: True\n",
      "Without Context: True\n",
      "\n",
      "Question 99: Does AMD affect driving ability?\n",
      "Ground Truth: True\n",
      "With Context: True\n",
      "Without Context: False\n",
      "\n",
      "Question 100: Is AMD caused by excessive alcohol consumption?\n",
      "Ground Truth: False\n",
      "With Context: False\n",
      "Without Context: False\n",
      "\n",
      "Question 101: Can AMD be inherited genetically?\n",
      "Ground Truth: True\n",
      "With Context: True\n",
      "Without Context: True\n",
      "\n",
      "Question 102: Does wet AMD cause hemorrhages under the retina?\n",
      "Ground Truth: True\n",
      "With Context: True\n",
      "Without Context: False\n",
      "\n",
      "Question 103: Is AMD caused by staring at bright lights?\n",
      "Ground Truth: False\n",
      "With Context: False\n",
      "Without Context: False\n",
      "\n",
      "Question 104: Can regular eye exams detect AMD early?\n",
      "Ground Truth: True\n",
      "With Context: True\n",
      "Without Context: False\n",
      "\n",
      "Question 105: Does AMD cause floaters in the eye?\n",
      "Ground Truth: False\n",
      "With Context: True\n",
      "Without Context: True\n",
      "\n",
      "Question 106: Is AMD linked to lighter eye color?\n",
      "Ground Truth: True\n",
      "With Context: True\n",
      "Without Context: False\n",
      "\n",
      "Question 107: Can AMD be cured with vitamin C alone?\n",
      "Ground Truth: False\n",
      "With Context: False\n",
      "Without Context: False\n",
      "\n",
      "Question 108: Does AMD cause blind spots in central vision?\n",
      "Ground Truth: True\n",
      "With Context: False\n",
      "Without Context: False\n",
      "\n",
      "Question 109: Is AMD caused by excessive sugar intake?\n",
      "Ground Truth: False\n",
      "With Context: False\n",
      "Without Context: False\n",
      "\n",
      "Question 110: Can smoking cessation reduce AMD risk?\n",
      "Ground Truth: True\n",
      "With Context: True\n",
      "Without Context: True\n",
      "\n",
      "Question 111: Does AMD affect night vision exclusively?\n",
      "Ground Truth: False\n",
      "With Context: False\n",
      "Without Context: False\n",
      "\n",
      "Question 112: Is AMD detectable with a retina scan?\n",
      "Ground Truth: True\n",
      "With Context: True\n",
      "Without Context: True\n",
      "\n",
      "Question 113: Can wet AMD be managed with dietary changes alone?\n",
      "Ground Truth: False\n",
      "With Context: False\n",
      "Without Context: False\n",
      "\n",
      "Question 114: Does AMD cause difficulty adapting to low light?\n",
      "Ground Truth: True\n",
      "With Context: True\n",
      "Without Context: True\n",
      "\n",
      "Question 115: Is AMD caused by a lack of sleep?\n",
      "Ground Truth: False\n",
      "With Context: False\n",
      "Without Context: False\n",
      "\n",
      "Question 116: Can AMD be monitored with regular eye checkups?\n",
      "Ground Truth: True\n",
      "With Context: True\n",
      "Without Context: True\n",
      "\n",
      "Question 117: Does dry AMD cause bleeding in the eye?\n",
      "Ground Truth: False\n",
      "With Context: False\n",
      "Without Context: False\n",
      "\n",
      "Question 118: Is AMD more common in African Americans than Caucasians?\n",
      "Ground Truth: False\n",
      "With Context: True\n",
      "Without Context: False\n",
      "\n",
      "Question 119: Can AMD cause visual hallucinations in advanced stages?\n",
      "Ground Truth: True\n",
      "With Context: True\n",
      "Without Context: True\n",
      "\n",
      "Question 120: Does AMD affect only the elderly over 80?\n",
      "Ground Truth: False\n",
      "With Context: False\n",
      "Without Context: False\n",
      "\n",
      "Question 121: Is AMD linked to oxidative stress?\n",
      "Ground Truth: True\n",
      "With Context: True\n",
      "Without Context: True\n",
      "\n",
      "Question 122: Can AMD be treated with acupuncture?\n",
      "Ground Truth: False\n",
      "With Context: True\n",
      "Without Context: False\n",
      "\n",
      "Question 123: Does AMD increase the risk of depression?\n",
      "Ground Truth: True\n",
      "With Context: True\n",
      "Without Context: True\n",
      "\n",
      "Question 124: Is AMD caused by excessive use of contact lenses?\n",
      "Ground Truth: False\n",
      "With Context: False\n",
      "Without Context: False\n",
      "\n",
      "Question 125: Can fundus photography help diagnose AMD?\n",
      "Ground Truth: True\n",
      "With Context: True\n",
      "Without Context: True\n",
      "\n",
      "Question 126: Does wet AMD cause scarring of the retina?\n",
      "Ground Truth: True\n",
      "With Context: False\n",
      "Without Context: False\n",
      "\n",
      "Question 127: Is AMD caused by a lack of vitamin D?\n",
      "Ground Truth: False\n",
      "With Context: False\n",
      "Without Context: False\n",
      "\n",
      "Question 128: Can AMD affect the ability to judge distances?\n",
      "Ground Truth: True\n",
      "With Context: True\n",
      "Without Context: True\n",
      "\n",
      "Question 129: Does dry AMD always progress to wet AMD?\n",
      "Ground Truth: False\n",
      "With Context: False\n",
      "Without Context: False\n",
      "\n",
      "Question 130: Is AMD associated with about 11 million cases in the US?\n",
      "Ground Truth: True\n",
      "With Context: False\n",
      "Without Context: True\n",
      "\n",
      "Question 131: Can wet AMD be prevented by avoiding all fats?\n",
      "Ground Truth: False\n",
      "With Context: False\n",
      "Without Context: False\n",
      "\n",
      "Question 132: Does AMD cause blurred central vision?\n",
      "Ground Truth: True\n",
      "With Context: True\n",
      "Without Context: True\n",
      "\n",
      "Question 133: Is wet AMD caused by excessive tearing?\n",
      "Ground Truth: False\n",
      "With Context: False\n",
      "Without Context: False\n",
      "\n",
      "Question 134: Can dry AMD lead to thinning of the retina?\n",
      "Ground Truth: True\n",
      "With Context: True\n",
      "Without Context: True\n",
      "\n",
      "Question 135: Is AMD treatable with hearing aids?\n",
      "Ground Truth: False\n",
      "With Context: False\n",
      "Without Context: False\n",
      "\n",
      "Question 136: Does wet AMD cause rapid central vision loss?\n",
      "Ground Truth: True\n",
      "With Context: False\n",
      "Without Context: True\n",
      "\n",
      "Question 137: Can AMD be prevented by avoiding all exercise?\n",
      "Ground Truth: False\n",
      "With Context: False\n",
      "Without Context: False\n",
      "\n",
      "Question 138: Is hypertension a risk factor for AMD?\n",
      "Ground Truth: True\n",
      "With Context: True\n",
      "Without Context: True\n",
      "\n",
      "Question 139: Does dry AMD cause sudden vision changes?\n",
      "Ground Truth: False\n",
      "With Context: False\n",
      "Without Context: False\n",
      "\n",
      "Question 140: Can photodynamic therapy treat wet AMD?\n",
      "Ground Truth: True\n",
      "With Context: True\n",
      "Without Context: False\n",
      "\n",
      "Question 141: Is AMD a disease of the iris?\n",
      "Ground Truth: False\n",
      "With Context: False\n",
      "Without Context: False\n",
      "\n",
      "Question 142: Does AMD increase the need for brighter lighting?\n",
      "Ground Truth: True\n",
      "With Context: True\n",
      "Without Context: True\n",
      "\n",
      "Question 143: Can AMD be diagnosed with a hearing test?\n",
      "Ground Truth: False\n",
      "With Context: False\n",
      "Without Context: False\n",
      "\n",
      "Question 144: Is fluorescein angiography used to detect wet AMD?\n",
      "Ground Truth: True\n",
      "With Context: True\n",
      "Without Context: True\n",
      "\n",
      "Question 145: Does wet AMD cause swelling beneath the retina?\n",
      "Ground Truth: True\n",
      "With Context: False\n",
      "Without Context: True\n",
      "\n",
      "Question 146: Is early AMD often asymptomatic?\n",
      "Ground Truth: True\n",
      "With Context: True\n",
      "Without Context: True\n",
      "\n",
      "Question 147: Can AMD be cured with herbal remedies?\n",
      "Ground Truth: False\n",
      "With Context: False\n",
      "Without Context: False\n",
      "\n",
      "Question 148: Does cardiovascular disease increase AMD risk?\n",
      "Ground Truth: True\n",
      "With Context: True\n",
      "Without Context: True\n",
      "\n",
      "Question 149: Is AMD caused by loud noises?\n",
      "Ground Truth: False\n",
      "With Context: False\n",
      "Without Context: False\n",
      "\n",
      "Question 150: Can fundus autofluorescence imaging detect AMD?\n",
      "Ground Truth: True\n",
      "With Context: True\n",
      "Without Context: False\n",
      "\n",
      "Question 151: Does AMD affect the sclera?\n",
      "Ground Truth: False\n",
      "With Context: False\n",
      "Without Context: False\n",
      "\n",
      "Question 152: Is oxidative stress a factor in AMD development?\n",
      "Ground Truth: True\n",
      "With Context: True\n",
      "Without Context: True\n",
      "\n",
      "Question 153: Can AMD be reversed with meditation?\n",
      "Ground Truth: False\n",
      "With Context: False\n",
      "Without Context: False\n",
      "\n",
      "Question 154: Does AMD impair the ability to see fine details?\n",
      "Ground Truth: True\n",
      "With Context: True\n",
      "Without Context: True\n",
      "\n",
      "Question 155: Is AMD caused by a lack of water intake?\n",
      "Ground Truth: False\n",
      "With Context: False\n",
      "Without Context: False\n",
      "\n",
      "Question 156: Can late-stage AMD severely limit daily activities?\n",
      "Ground Truth: True\n",
      "With Context: True\n",
      "Without Context: True\n",
      "\n",
      "Question 157: Does wet AMD cause gradual vision improvement?\n",
      "Ground Truth: False\n",
      "With Context: False\n",
      "Without Context: False\n",
      "\n",
      "Question 158: Is AMD more severe in one eye than the other in some cases?\n",
      "Ground Truth: True\n",
      "With Context: True\n",
      "Without Context: True\n",
      "\n",
      "Question 159: Can AMD be treated with skin creams?\n",
      "Ground Truth: False\n",
      "With Context: True\n",
      "Without Context: False\n",
      "\n",
      "Question 160: Does AMD increase the risk of social isolation?\n",
      "Ground Truth: True\n",
      "With Context: True\n",
      "Without Context: True\n",
      "\n",
      "Question 161: Is dry AMD treated with anti-VEGF injections?\n",
      "Ground Truth: False\n",
      "With Context: False\n",
      "Without Context: False\n",
      "\n",
      "Question 162: Can smoking cessation reduce the progression of AMD?\n",
      "Ground Truth: True\n",
      "With Context: True\n",
      "Without Context: False\n",
      "\n",
      "Question 163: Does AMD cause pain in the eyes?\n",
      "Ground Truth: False\n",
      "With Context: True\n",
      "Without Context: False\n",
      "\n",
      "Question 164: Is AMD linked to reduced contrast sensitivity?\n",
      "Ground Truth: True\n",
      "With Context: True\n",
      "Without Context: True\n",
      "\n",
      "Question 165: Can AMD be prevented by avoiding all carbohydrates?\n",
      "Ground Truth: False\n",
      "With Context: False\n",
      "Without Context: False\n",
      "\n",
      "Question 166: Does wet AMD cause a gray spot in central vision?\n",
      "Ground Truth: True\n",
      "With Context: False\n",
      "Without Context: False\n",
      "\n",
      "Question 167: Is AMD caused by excessive blinking?\n",
      "Ground Truth: False\n",
      "With Context: False\n",
      "Without Context: False\n",
      "\n",
      "Question 168: Can AMD affect the ability to see in low light?\n",
      "Ground Truth: True\n",
      "With Context: True\n",
      "Without Context: True\n",
      "\n",
      "Question 169: Does dry AMD cause retinal hemorrhages?\n",
      "Ground Truth: False\n",
      "With Context: True\n",
      "Without Context: False\n",
      "\n",
      "Question 170: Is AMD detectable before symptoms appear?\n",
      "Ground Truth: True\n",
      "With Context: True\n",
      "Without Context: True\n",
      "\n",
      "Question 171: Can AMD be cured with cold compresses?\n",
      "Ground Truth: False\n",
      "With Context: False\n",
      "Without Context: False\n",
      "\n",
      "Question 172: Does AMD cause difficulty seeing in bright light?\n",
      "Ground Truth: True\n",
      "With Context: True\n",
      "Without Context: False\n",
      "\n",
      "Question 173: Is wet AMD caused by a vitamin deficiency?\n",
      "Ground Truth: False\n",
      "With Context: False\n",
      "Without Context: False\n",
      "\n",
      "Question 174: Can AMD increase the need for magnifying devices?\n",
      "Ground Truth: True\n",
      "With Context: True\n",
      "Without Context: True\n",
      "\n",
      "Question 175: Does AMD affect the lens of the eye?\n",
      "Ground Truth: False\n",
      "With Context: False\n",
      "Without Context: False\n",
      "\n",
      "Question 176: Is AMD linked to chronic inflammation?\n",
      "Ground Truth: True\n",
      "With Context: True\n",
      "Without Context: True\n",
      "\n",
      "Question 177: Can AMD be prevented by avoiding all dairy?\n",
      "Ground Truth: False\n",
      "With Context: False\n",
      "Without Context: False\n",
      "\n",
      "Question 178: Does wet AMD cause a wavy appearance of objects?\n",
      "Ground Truth: True\n",
      "With Context: False\n",
      "Without Context: False\n",
      "\n",
      "Question 179: Is AMD caused by excessive hand washing?\n",
      "Ground Truth: False\n",
      "With Context: False\n",
      "Without Context: False\n",
      "\n",
      "Question 180: Can AMD lead to legal blindness?\n",
      "Ground Truth: True\n",
      "With Context: True\n",
      "Without Context: True\n",
      "\n",
      "Question 181: Does dry AMD cause inflammation of the eyelids?\n",
      "Ground Truth: False\n",
      "With Context: False\n",
      "Without Context: False\n",
      "\n",
      "Question 182: Is AMD associated with retinal pigment epithelial damage?\n",
      "Ground Truth: True\n",
      "With Context: True\n",
      "Without Context: True\n",
      "\n",
      "Question 183: Can AMD be treated with nasal sprays?\n",
      "Ground Truth: False\n",
      "With Context: True\n",
      "Without Context: False\n",
      "\n",
      "Question 184: Does AMD affect the ability to see motion?\n",
      "Ground Truth: True\n",
      "With Context: True\n",
      "Without Context: False\n",
      "\n",
      "Question 185: Is AMD caused by excessive use of perfume?\n",
      "Ground Truth: False\n",
      "With Context: False\n",
      "Without Context: False\n",
      "\n",
      "Question 186: Can AMD increase difficulty navigating crowded spaces?\n",
      "Ground Truth: True\n",
      "With Context: True\n",
      "Without Context: True\n",
      "\n",
      "Question 187: Does wet AMD cause vision loss only in dim light?\n",
      "Ground Truth: False\n",
      "With Context: False\n",
      "Without Context: False\n",
      "\n",
      "Question 188: Is AMD linked to reduced visual acuity?\n",
      "Ground Truth: True\n",
      "With Context: True\n",
      "Without Context: True\n",
      "\n",
      "Question 189: Can AMD be prevented by avoiding all protein?\n",
      "Ground Truth: False\n",
      "With Context: False\n",
      "Without Context: False\n",
      "\n",
      "Question 190: Does dry AMD cause small blind spots over time?\n",
      "Ground Truth: True\n",
      "With Context: False\n",
      "Without Context: False\n",
      "\n",
      "Question 191: Is AMD caused by excessive exposure to wind?\n",
      "Ground Truth: False\n",
      "With Context: False\n",
      "Without Context: False\n",
      "\n",
      "Question 192: Can AMD affect the ability to sew or knit?\n",
      "Ground Truth: True\n",
      "With Context: True\n",
      "Without Context: False\n",
      "\n",
      "Question 193: Does wet AMD cause inflammation of the iris?\n",
      "Ground Truth: False\n",
      "With Context: False\n",
      "Without Context: False\n",
      "\n",
      "Question 194: Is AMD linked to difficulty seeing in fog?\n",
      "Ground Truth: True\n",
      "With Context: True\n",
      "Without Context: True\n",
      "\n",
      "Question 195: Can AMD be cured with aromatherapy?\n",
      "Ground Truth: False\n",
      "With Context: False\n",
      "Without Context: False\n",
      "\n",
      "Question 196: Does AMD cause challenges with recognizing patterns?\n",
      "Ground Truth: True\n",
      "With Context: True\n",
      "Without Context: True\n",
      "\n",
      "Question 197: Is dry AMD caused by a fungal infection?\n",
      "Ground Truth: False\n",
      "With Context: False\n",
      "Without Context: False\n",
      "\n",
      "Question 198: Can AMD increase difficulty with cooking tasks?\n",
      "Ground Truth: True\n",
      "With Context: True\n",
      "Without Context: True\n",
      "\n",
      "Question 199: Does AMD cause vision loss due to lens clouding?\n",
      "Ground Truth: False\n",
      "With Context: False\n",
      "Without Context: False\n",
      "\n",
      "Question 200: Is AMD linked to impaired ability to see small print?\n",
      "Ground Truth: True\n",
      "With Context: True\n",
      "Without Context: True\n",
      "\n",
      "Question 201: Can AMD be prevented by avoiding all grains?\n",
      "Ground Truth: False\n",
      "With Context: False\n",
      "Without Context: False\n",
      "\n",
      "Question 202: Does wet AMD cause a ripple effect in vision?\n",
      "Ground Truth: True\n",
      "With Context: False\n",
      "Without Context: False\n",
      "\n",
      "Question 203: Is AMD caused by excessive foot massages?\n",
      "Ground Truth: False\n",
      "With Context: False\n",
      "Without Context: False\n",
      "\n",
      "Question 204: Can AMD affect the ability to play card games?\n",
      "Ground Truth: True\n",
      "With Context: True\n",
      "Without Context: False\n",
      "\n",
      "Question 205: Does dry AMD cause rapid photoreceptor regeneration?\n",
      "Ground Truth: False\n",
      "With Context: False\n",
      "Without Context: False\n",
      "\n",
      "Question 206: Is AMD linked to difficulty seeing traffic signs?\n",
      "Ground Truth: True\n",
      "With Context: True\n",
      "Without Context: True\n",
      "\n",
      "Question 207: Can AMD be treated with throat lozenges?\n",
      "Ground Truth: False\n",
      "With Context: False\n",
      "Without Context: False\n",
      "\n",
      "Question 208: Does AMD cause trouble seeing in dimly lit rooms?\n",
      "Ground Truth: True\n",
      "With Context: True\n",
      "Without Context: True\n",
      "\n",
      "Question 209: Is wet AMD caused by excessive use of toothpaste?\n",
      "Ground Truth: False\n",
      "With Context: False\n",
      "Without Context: False\n",
      "\n",
      "Question 210: Can AMD affect the ability to enjoy painting?\n",
      "Ground Truth: True\n",
      "With Context: True\n",
      "Without Context: True\n",
      "\n",
      "Question 211: Does AMD cause vision loss due to corneal scarring?\n",
      "Ground Truth: False\n",
      "With Context: False\n",
      "Without Context: False\n",
      "\n",
      "Question 212: Is AMD linked to difficulty identifying coins?\n",
      "Ground Truth: True\n",
      "With Context: True\n",
      "Without Context: True\n",
      "\n",
      "Question 213: Can AMD be prevented by avoiding all liquids?\n",
      "Ground Truth: False\n",
      "With Context: False\n",
      "Without Context: False\n",
      "\n",
      "Question 214: Does wet AMD cause a central haze in vision?\n",
      "Ground Truth: True\n",
      "With Context: True\n",
      "Without Context: False\n",
      "\n",
      "Question 215: Is AMD caused by excessive use of hair dye?\n",
      "Ground Truth: False\n",
      "With Context: False\n",
      "Without Context: False\n",
      "\n",
      "Question 216: Can AMD affect the ability to watch television?\n",
      "Ground Truth: True\n",
      "With Context: True\n",
      "Without Context: True\n",
      "\n",
      "Question 217: Does dry AMD cause inflammation of the conjunctiva?\n",
      "Ground Truth: False\n",
      "With Context: False\n",
      "Without Context: False\n",
      "\n",
      "Question 218: Is AMD linked to difficulty assembling puzzles?\n",
      "Ground Truth: True\n",
      "With Context: True\n",
      "Without Context: False\n",
      "\n",
      "Question 219: Can AMD be cured with foot reflexology?\n",
      "Ground Truth: False\n",
      "With Context: False\n",
      "Without Context: False\n",
      "\n",
      "Question 220: Does AMD cause challenges with writing by hand?\n",
      "Ground Truth: True\n",
      "With Context: True\n",
      "Without Context: False\n",
      "\n",
      "Question 221: Is wet AMD caused by a lack of potassium?\n",
      "Ground Truth: False\n",
      "With Context: False\n",
      "Without Context: False\n",
      "\n",
      "Question 222: Can AMD affect the ability to use a smartphone?\n",
      "Ground Truth: True\n",
      "With Context: True\n",
      "Without Context: False\n",
      "\n",
      "Question 223: Does AMD cause vision loss due to pupil damage?\n",
      "Ground Truth: False\n",
      "With Context: False\n",
      "Without Context: False\n",
      "\n",
      "Question 224: Is AMD linked to reduced independence in older adults?\n",
      "Ground Truth: True\n",
      "With Context: True\n",
      "Without Context: True\n",
      "\n",
      "Question 225: Can AMD be prevented by avoiding all meats?\n",
      "Ground Truth: False\n",
      "With Context: False\n",
      "Without Context: False\n",
      "\n",
      "Question 226: Does wet AMD cause shadows in the visual field?\n",
      "Ground Truth: True\n",
      "With Context: True\n",
      "Without Context: False\n",
      "\n",
      "Question 227: Is AMD caused by excessive nail polishing?\n",
      "Ground Truth: False\n",
      "With Context: False\n",
      "Without Context: False\n",
      "\n",
      "Question 228: Can AMD affect the ability to see details on a map?\n",
      "Ground Truth: True\n",
      "With Context: True\n",
      "Without Context: True\n",
      "\n",
      "Question 229: Does dry AMD cause rapid vision improvement?\n",
      "Ground Truth: False\n",
      "With Context: False\n",
      "Without Context: False\n",
      "\n",
      "Question 230: Does AMD cause difficulty seeing in low-contrast environments?\n",
      "Ground Truth: True\n",
      "With Context: True\n",
      "Without Context: True\n",
      "\n",
      "Question 231: Is wet AMD caused by excessive exposure to pollen?\n",
      "Ground Truth: False\n",
      "With Context: False\n",
      "Without Context: False\n",
      "\n",
      "Question 232: Can dry AMD lead to photoreceptor loss?\n",
      "Ground Truth: True\n",
      "With Context: True\n",
      "Without Context: False\n",
      "\n",
      "Question 233: Is AMD treatable with ear drops?\n",
      "Ground Truth: False\n",
      "With Context: False\n",
      "Without Context: False\n",
      "\n",
      "Question 234: Does wet AMD cause a blurred central spot?\n",
      "Ground Truth: True\n",
      "With Context: True\n",
      "Without Context: True\n",
      "\n",
      "Question 235: Can AMD be prevented by avoiding all vegetables?\n",
      "Ground Truth: False\n",
      "With Context: False\n",
      "Without Context: False\n",
      "\n",
      "Question 236: Is atherosclerosis a risk factor for AMD?\n",
      "Ground Truth: True\n",
      "With Context: True\n",
      "Without Context: False\n",
      "\n",
      "Question 237: Does dry AMD cause immediate vision loss?\n",
      "Ground Truth: False\n",
      "With Context: False\n",
      "Without Context: False\n",
      "\n",
      "Question 238: Can optical coherence tomography angiography detect wet AMD?\n",
      "Ground Truth: True\n",
      "With Context: True\n",
      "Without Context: False\n",
      "\n",
      "Question 239: Is AMD a disease of the vitreous?\n",
      "Ground Truth: False\n",
      "With Context: False\n",
      "Without Context: False\n",
      "\n",
      "Question 240: Does AMD impair the ability to see edges clearly?\n",
      "Ground Truth: True\n",
      "With Context: False\n",
      "Without Context: True\n",
      "\n",
      "Question 241: Can AMD be diagnosed with a skin test?\n",
      "Ground Truth: False\n",
      "With Context: False\n",
      "Without Context: False\n",
      "\n",
      "Question 242: Is home vision testing useful for monitoring AMD?\n",
      "Ground Truth: True\n",
      "With Context: True\n",
      "Without Context: False\n",
      "\n",
      "Question 243: Does wet AMD cause subretinal fluid accumulation?\n",
      "Ground Truth: True\n",
      "With Context: True\n",
      "Without Context: False\n",
      "\n",
      "Question 244: Is intermediate AMD characterized by larger drusen?\n",
      "Ground Truth: True\n",
      "With Context: True\n",
      "Without Context: False\n",
      "\n",
      "Question 245: Can AMD be cured with over-the-counter painkillers?\n",
      "Ground Truth: False\n",
      "With Context: True\n",
      "Without Context: False\n",
      "\n",
      "Question 246: Does chronic inflammation increase AMD risk?\n",
      "Ground Truth: True\n",
      "With Context: True\n",
      "Without Context: True\n",
      "\n",
      "Question 247: Is AMD caused by excessive exposure to cold weather?\n",
      "Ground Truth: False\n",
      "With Context: False\n",
      "Without Context: False\n",
      "\n",
      "Question 248: Can visual rehabilitation help manage AMD symptoms?\n",
      "Ground Truth: True\n",
      "With Context: True\n",
      "Without Context: True\n",
      "\n",
      "Question 249: Does AMD affect the pupil directly?\n",
      "Ground Truth: False\n",
      "With Context: False\n",
      "Without Context: False\n",
      "\n",
      "Question 250: Is retinal hypoxia a factor in AMD progression?\n",
      "Ground Truth: True\n",
      "With Context: True\n",
      "Without Context: True\n",
      "\n",
      "Question 251: Can AMD be reversed with chiropractic care?\n",
      "Ground Truth: False\n",
      "With Context: False\n",
      "Without Context: False\n",
      "\n",
      "Question 252: Does AMD cause difficulty threading a needle?\n",
      "Ground Truth: True\n",
      "With Context: True\n",
      "Without Context: False\n",
      "\n",
      "Question 253: Is AMD caused by a lack of dietary protein?\n",
      "Ground Truth: False\n",
      "With Context: False\n",
      "Without Context: False\n",
      "\n",
      "Question 254: Can advanced AMD limit independence?\n",
      "Ground Truth: True\n",
      "With Context: True\n",
      "Without Context: True\n",
      "\n",
      "Question 255: Does wet AMD cause gradual central vision recovery?\n",
      "Ground Truth: False\n",
      "With Context: False\n",
      "Without Context: False\n",
      "\n",
      "Question 256: Is AMD linked to difficulty seeing in crowded places?\n",
      "Ground Truth: True\n",
      "With Context: True\n",
      "Without Context: False\n",
      "\n",
      "Question 257: Can AMD be treated with dietary fat alone?\n",
      "Ground Truth: False\n",
      "With Context: False\n",
      "Without Context: False\n",
      "\n",
      "Question 258: Does AMD increase the risk of tripping over objects?\n",
      "Ground Truth: True\n",
      "With Context: False\n",
      "Without Context: False\n",
      "\n",
      "Question 259: Is dry AMD treated with photodynamic therapy?\n",
      "Ground Truth: False\n",
      "With Context: False\n",
      "Without Context: False\n",
      "\n",
      "Question 260: Can quitting smoking slow AMD progression?\n",
      "Ground Truth: True\n",
      "With Context: True\n",
      "Without Context: False\n",
      "\n",
      "Question 261: Does AMD cause inflammation of the cornea?\n",
      "Ground Truth: False\n",
      "With Context: True\n",
      "Without Context: False\n",
      "\n",
      "Question 262: Is AMD associated with reduced ability to see details in art?\n",
      "Ground Truth: True\n",
      "With Context: True\n",
      "Without Context: True\n",
      "\n",
      "Question 263: Does wet AMD cause a dark central patch?\n",
      "Ground Truth: True\n",
      "With Context: True\n",
      "Without Context: False\n",
      "\n",
      "Question 264: Is AMD caused by excessive use of air conditioning?\n",
      "Ground Truth: False\n",
      "With Context: False\n",
      "Without Context: False\n",
      "\n",
      "Question 265: Can AMD affect the ability to enjoy birdwatching?\n",
      "Ground Truth: True\n",
      "With Context: True\n",
      "Without Context: False\n",
      "\n",
      "Question 266: Does dry AMD cause optic nerve swelling?\n",
      "Ground Truth: False\n",
      "With Context: False\n",
      "Without Context: False\n",
      "\n",
      "Question 267: Is AMD detectable with regular vision screenings?\n",
      "Ground Truth: True\n",
      "With Context: False\n",
      "Without Context: False\n",
      "\n",
      "Question 268: Can AMD be cured with heat therapy?\n",
      "Ground Truth: False\n",
      "With Context: False\n",
      "Without Context: False\n",
      "\n",
      "Question 269: Does AMD cause difficulty seeing in bright sunlight?\n",
      "Ground Truth: True\n",
      "With Context: True\n",
      "Without Context: True\n",
      "\n",
      "Question 270: Is wet AMD caused by a lack of dietary fiber?\n",
      "Ground Truth: False\n",
      "With Context: False\n",
      "Without Context: False\n",
      "\n",
      "Question 271: Can AMD increase the need for reading glasses?\n",
      "Ground Truth: True\n",
      "With Context: True\n",
      "Without Context: True\n",
      "\n",
      "Question 272: Does AMD affect the choroid directly?\n",
      "Ground Truth: False\n",
      "With Context: True\n",
      "Without Context: False\n",
      "\n",
      "Question 273: Is AMD linked to difficulty distinguishing similar colors?\n",
      "Ground Truth: True\n",
      "With Context: True\n",
      "Without Context: True\n",
      "\n",
      "Question 274: Can AMD be prevented by avoiding all dairy products?\n",
      "Ground Truth: False\n",
      "With Context: False\n",
      "Without Context: False\n",
      "\n",
      "Question 275: Does wet AMD cause vision to appear bent?\n",
      "Ground Truth: True\n",
      "With Context: True\n",
      "Without Context: False\n",
      "\n",
      "Question 276: Is AMD caused by excessive use of cleaning products?\n",
      "Ground Truth: False\n",
      "With Context: False\n",
      "Without Context: False\n",
      "\n",
      "Question 277: Can AMD lead to challenges with buttoning a shirt?\n",
      "Ground Truth: True\n",
      "With Context: True\n",
      "Without Context: True\n",
      "\n",
      "Question 278: Does dry AMD cause retinal pigment regeneration?\n",
      "Ground Truth: False\n",
      "With Context: False\n",
      "Without Context: False\n",
      "\n",
      "Question 279: Is AMD associated with difficulty seeing clock faces?\n",
      "Ground Truth: True\n",
      "With Context: True\n",
      "Without Context: False\n",
      "\n",
      "Question 280: Can AMD be treated with herbal tea?\n",
      "Ground Truth: False\n",
      "With Context: False\n",
      "Without Context: False\n",
      "\n",
      "Question 281: Does AMD affect the ability to see fine print on labels?\n",
      "Ground Truth: True\n",
      "With Context: True\n",
      "Without Context: False\n",
      "\n",
      "Question 282: Is AMD caused by excessive exposure to rain?\n",
      "Ground Truth: False\n",
      "With Context: False\n",
      "Without Context: False\n",
      "\n",
      "Question 283: Can AMD impair the ability to see numbers on a phone?\n",
      "Ground Truth: True\n",
      "With Context: False\n",
      "Without Context: True\n",
      "\n",
      "Question 284: Does wet AMD cause inflammation of the sclera?\n",
      "Ground Truth: False\n",
      "With Context: False\n",
      "Without Context: False\n",
      "\n",
      "Question 285: Is AMD linked to difficulty seeing in hazy conditions?\n",
      "Ground Truth: True\n",
      "With Context: True\n",
      "Without Context: True\n",
      "\n",
      "Question 286: Can AMD be cured with essential oils?\n",
      "Ground Truth: False\n",
      "With Context: False\n",
      "Without Context: False\n",
      "\n",
      "Question 287: Does AMD cause challenges with recognizing textures?\n",
      "Ground Truth: True\n",
      "With Context: True\n",
      "Without Context: True\n",
      "\n",
      "Question 288: Is dry AMD caused by excessive exposure to chlorine?\n",
      "Ground Truth: False\n",
      "With Context: False\n",
      "Without Context: False\n",
      "\n",
      "Question 289: Can AMD affect the ability to enjoy photography?\n",
      "Ground Truth: True\n",
      "With Context: True\n",
      "Without Context: True\n",
      "\n",
      "Question 290: Does AMD cause vision loss due to iris damage?\n",
      "Ground Truth: False\n",
      "With Context: False\n",
      "Without Context: False\n",
      "\n",
      "Question 291: Is AMD linked to difficulty seeing details on a menu?\n",
      "Ground Truth: True\n",
      "With Context: True\n",
      "Without Context: False\n",
      "\n",
      "Question 292: Can AMD be prevented by avoiding all spices?\n",
      "Ground Truth: False\n",
      "With Context: False\n",
      "Without Context: False\n",
      "\n",
      "Question 293: Does wet AMD cause a central shadow in bright light?\n",
      "Ground Truth: True\n",
      "With Context: True\n",
      "Without Context: False\n",
      "\n",
      "Question 294: Is AMD caused by excessive use of deodorant?\n",
      "Ground Truth: False\n",
      "With Context: False\n",
      "Without Context: False\n",
      "\n",
      "Question 295: Can AMD affect the ability to thread a sewing machine?\n",
      "Ground Truth: True\n",
      "With Context: True\n",
      "Without Context: False\n",
      "\n",
      "Question 296: Does dry AMD cause rapid retinal regeneration?\n",
      "Ground Truth: False\n",
      "With Context: False\n",
      "Without Context: False\n",
      "\n",
      "Question 297: Is AMD linked to difficulty seeing fine details in photographs?\n",
      "Ground Truth: True\n",
      "With Context: True\n",
      "Without Context: True\n",
      "\n",
      "Question 298: Can AMD be treated with mouthwash?\n",
      "Ground Truth: False\n",
      "With Context: False\n",
      "Without Context: False\n",
      "\n",
      "Question 299: Does AMD cause trouble seeing in low-light environments?\n",
      "Ground Truth: True\n",
      "With Context: True\n",
      "Without Context: True\n",
      "\n",
      "Question 300: Is wet AMD caused by a lack of dietary calcium?\n",
      "Ground Truth: False\n",
      "With Context: False\n",
      "Without Context: False\n",
      "\n",
      "Question 301: Can AMD affect the ability to enjoy hobbies like painting?\n",
      "Ground Truth: True\n",
      "With Context: True\n",
      "Without Context: True\n",
      "\n",
      "Question 302: Does AMD cause vision loss due to vitreous detachment?\n",
      "Ground Truth: False\n",
      "With Context: False\n",
      "Without Context: True\n",
      "\n",
      "Question 303: Is AMD linked to difficulty identifying small objects?\n",
      "Ground Truth: True\n",
      "With Context: True\n",
      "Without Context: False\n",
      "\n",
      "Question 304: Can AMD be prevented by avoiding all fats?\n",
      "Ground Truth: False\n",
      "With Context: False\n",
      "Without Context: False\n",
      "\n",
      "Question 305: Does wet AMD cause a distorted central field?\n",
      "Ground Truth: True\n",
      "With Context: True\n",
      "Without Context: False\n",
      "\n",
      "Question 306: Is AMD caused by excessive use of hair gel?\n",
      "Ground Truth: False\n",
      "With Context: False\n",
      "Without Context: False\n",
      "\n",
      "Question 307: Can AMD impair the ability to read small text on screens?\n",
      "Ground Truth: True\n",
      "With Context: True\n",
      "Without Context: True\n",
      "\n",
      "Question 308: Does dry AMD cause inflammation of the vitreous?\n",
      "Ground Truth: False\n",
      "With Context: False\n",
      "Without Context: False\n",
      "\n",
      "Question 309: Is AMD linked to difficulty seeing in smoky environments?\n",
      "Ground Truth: True\n",
      "With Context: True\n",
      "Without Context: True\n",
      "\n",
      "Question 310: Can AMD be cured with ice packs?\n",
      "Ground Truth: False\n",
      "With Context: False\n",
      "Without Context: False\n",
      "\n",
      "Question 311: Does AMD cause challenges with seeing details in nature?\n",
      "Ground Truth: True\n",
      "With Context: True\n",
      "Without Context: True\n",
      "\n",
      "Question 312: Is AMD caused by excessive pet dander exposure?\n",
      "Ground Truth: False\n",
      "With Context: False\n",
      "Without Context: False\n",
      "\n",
      "Question 313: Can AMD affect the ability to see fine print on packaging?\n",
      "Ground Truth: True\n",
      "With Context: True\n",
      "Without Context: True\n",
      "\n",
      "Question 314: Does wet AMD cause optic disc damage?\n",
      "Ground Truth: False\n",
      "With Context: True\n",
      "Without Context: False\n",
      "\n",
      "Question 315: Is AMD linked to difficulty seeing in overcast weather?\n",
      "Ground Truth: True\n",
      "With Context: False\n",
      "Without Context: False\n",
      "\n",
      "Question 316: Can AMD be prevented by avoiding all sugars?\n",
      "Ground Truth: False\n",
      "With Context: False\n",
      "Without Context: False\n",
      "\n",
      "Question 317: Does wet AMD cause a central blind spot?\n",
      "Ground Truth: True\n",
      "With Context: True\n",
      "Without Context: False\n",
      "\n",
      "Question 318: Is AMD caused by excessive use of sunscreen?\n",
      "Ground Truth: False\n",
      "With Context: False\n",
      "Without Context: False\n",
      "\n",
      "Question 319: Can AMD affect the ability to see details on a computer?\n",
      "Ground Truth: True\n",
      "With Context: True\n",
      "Without Context: True\n",
      "\n",
      "Question 320: Does dry AMD cause rapid retinal pigment epithelial repair?\n",
      "Ground Truth: False\n",
      "With Context: False\n",
      "Without Context: False\n",
      "\n",
      "Question 321: Is AMD linked to difficulty seeing in twilight?\n",
      "Ground Truth: True\n",
      "With Context: True\n",
      "Without Context: False\n",
      "\n",
      "Question 322: Can AMD be treated with hand sanitizer?\n",
      "Ground Truth: False\n",
      "With Context: False\n",
      "Without Context: False\n",
      "\n",
      "Question 323: Does AMD cause challenges with seeing fine details in books?\n",
      "Ground Truth: True\n",
      "With Context: True\n",
      "Without Context: True\n",
      "\n",
      "Question 324: Is AMD caused by excessive exposure to smoke detectors?\n",
      "Ground Truth: False\n",
      "With Context: False\n",
      "Without Context: False\n",
      "\n",
      "Question 325: Does AMD cause difficulty distinguishing contrasts?\n",
      "Ground Truth: True\n",
      "With Context: True\n",
      "Without Context: False\n",
      "\n",
      "Question 326: Is wet AMD caused by excessive exposure to dust?\n",
      "Ground Truth: False\n",
      "With Context: False\n",
      "Without Context: False\n",
      "\n",
      "Question 327: Can dry AMD lead to retinal pigment epithelial atrophy?\n",
      "Ground Truth: True\n",
      "With Context: True\n",
      "Without Context: True\n",
      "\n",
      "Question 328: Is AMD treatable with topical ointments?\n",
      "Ground Truth: False\n",
      "With Context: False\n",
      "Without Context: False\n",
      "\n",
      "Question 329: Does wet AMD cause a sudden central blur?\n",
      "Ground Truth: True\n",
      "With Context: False\n",
      "Without Context: True\n",
      "\n",
      "Question 330: Is hyperlipidemia a risk factor for AMD?\n",
      "Ground Truth: True\n",
      "With Context: True\n",
      "Without Context: True\n",
      "\n",
      "Question 331: Does dry AMD cause abrupt vision deterioration?\n",
      "Ground Truth: False\n",
      "With Context: False\n",
      "Without Context: False\n",
      "\n",
      "Question 332: Can fundus photography detect AMD changes?\n",
      "Ground Truth: True\n",
      "With Context: True\n",
      "Without Context: True\n",
      "\n",
      "Question 333: Is AMD a condition of the conjunctiva?\n",
      "Ground Truth: False\n",
      "With Context: False\n",
      "Without Context: False\n",
      "\n",
      "Question 334: Does AMD impair the ability to see sharp outlines?\n",
      "Ground Truth: True\n",
      "With Context: True\n",
      "Without Context: True\n",
      "\n",
      "Question 335: Can AMD be diagnosed with a saliva test?\n",
      "Ground Truth: False\n",
      "With Context: False\n",
      "Without Context: False\n",
      "\n",
      "Question 336: Is visual acuity testing useful for AMD detection?\n",
      "Ground Truth: True\n",
      "With Context: True\n",
      "Without Context: False\n",
      "\n",
      "Question 337: Does wet AMD cause retinal pigment epithelial detachment?\n",
      "Ground Truth: True\n",
      "With Context: True\n",
      "Without Context: False\n",
      "\n",
      "Question 338: Is early AMD often unnoticed by patients?\n",
      "Ground Truth: True\n",
      "With Context: True\n",
      "Without Context: True\n",
      "\n",
      "Question 339: Can AMD be cured with homeopathic remedies?\n",
      "Ground Truth: False\n",
      "With Context: False\n",
      "Without Context: False\n",
      "\n",
      "Question 340: Does systemic inflammation increase AMD risk?\n",
      "Ground Truth: True\n",
      "With Context: True\n",
      "Without Context: True\n",
      "\n",
      "Question 341: Is AMD caused by excessive exposure to loud music?\n",
      "Ground Truth: False\n",
      "With Context: False\n",
      "Without Context: False\n",
      "\n",
      "Question 342: Can adaptive devices assist with AMD-related vision loss?\n",
      "Ground Truth: True\n",
      "With Context: True\n",
      "Without Context: True\n",
      "\n",
      "Question 343: Does AMD affect the retina’s outer layers?\n",
      "Ground Truth: True\n",
      "With Context: True\n",
      "Without Context: True\n",
      "\n",
      "Question 344: Is lipid metabolism dysregulation linked to AMD?\n",
      "Ground Truth: True\n",
      "With Context: True\n",
      "Without Context: True\n",
      "\n",
      "Question 345: Can AMD be reversed with yoga?\n",
      "Ground Truth: False\n",
      "With Context: False\n",
      "Without Context: False\n",
      "\n",
      "Question 346: Does AMD cause difficulty with precision tasks like sewing?\n",
      "Ground Truth: True\n",
      "With Context: True\n",
      "Without Context: False\n",
      "\n",
      "Question 347: Is AMD caused by a lack of dietary carbohydrates?\n",
      "Ground Truth: False\n",
      "With Context: False\n",
      "Without Context: False\n",
      "\n",
      "Question 348: Can severe AMD restrict mobility?\n",
      "Ground Truth: True\n",
      "With Context: True\n",
      "Without Context: True\n",
      "\n",
      "Question 349: Does wet AMD cause gradual vision stabilization?\n",
      "Ground Truth: False\n",
      "With Context: False\n",
      "Without Context: False\n",
      "\n",
      "Question 350: Is AMD linked to difficulty navigating busy environments?\n",
      "Ground Truth: True\n",
      "With Context: True\n",
      "Without Context: False\n",
      "\n",
      "Question 351: Can AMD be treated with sugar syrup?\n",
      "Ground Truth: False\n",
      "With Context: False\n",
      "Without Context: False\n",
      "\n",
      "Question 352: Does AMD increase the likelihood of stumbling?\n",
      "Ground Truth: True\n",
      "With Context: True\n",
      "Without Context: True\n",
      "\n",
      "Question 353: Is wet AMD treated with laser surgery as a first-line option?\n",
      "Ground Truth: False\n",
      "With Context: False\n",
      "Without Context: False\n",
      "\n",
      "Question 354: Can reducing smoking improve AMD outcomes?\n",
      "Ground Truth: True\n",
      "With Context: True\n",
      "Without Context: True\n",
      "\n",
      "Question 355: Does AMD cause swelling of the optic disc?\n",
      "Ground Truth: False\n",
      "With Context: True\n",
      "Without Context: True\n",
      "\n",
      "Question 356: Is AMD associated with trouble seeing intricate designs?\n",
      "Ground Truth: True\n",
      "With Context: False\n",
      "Without Context: True\n",
      "\n",
      "Question 357: Can AMD be prevented by avoiding all proteins?\n",
      "Ground Truth: False\n",
      "With Context: False\n",
      "Without Context: False\n",
      "\n",
      "Question 358: Does wet AMD cause a dark central shadow?\n",
      "Ground Truth: True\n",
      "With Context: True\n",
      "Without Context: True\n",
      "\n",
      "Question 359: Is AMD caused by excessive use of fans?\n",
      "Ground Truth: False\n",
      "With Context: False\n",
      "Without Context: False\n",
      "\n",
      "Question 360: Can AMD affect the ability to spot wildlife?\n",
      "Ground Truth: True\n",
      "With Context: True\n",
      "Without Context: False\n",
      "\n",
      "Question 361: Does dry AMD cause retinal vein occlusion?\n",
      "Ground Truth: False\n",
      "With Context: True\n",
      "Without Context: False\n",
      "\n",
      "Question 362: Is AMD detectable with routine eye chart tests?\n",
      "Ground Truth: True\n",
      "With Context: False\n",
      "Without Context: False\n",
      "\n",
      "Question 363: Can AMD be cured with salt water rinses?\n",
      "Ground Truth: False\n",
      "With Context: False\n",
      "Without Context: False\n",
      "\n",
      "Question 364: Does AMD cause issues seeing in glaring conditions?\n",
      "Ground Truth: True\n",
      "With Context: True\n",
      "Without Context: True\n",
      "\n",
      "Question 365: Is wet AMD caused by a lack of dietary fats?\n",
      "Ground Truth: False\n",
      "With Context: False\n",
      "Without Context: False\n",
      "\n",
      "Question 366: Can AMD increase reliance on corrective lenses?\n",
      "Ground Truth: True\n",
      "With Context: True\n",
      "Without Context: True\n",
      "\n",
      "Question 367: Does AMD affect the retinal ganglion cells directly?\n",
      "Ground Truth: False\n",
      "With Context: False\n",
      "Without Context: False\n",
      "\n",
      "Question 368: Is AMD linked to trouble discerning subtle hues?\n",
      "Ground Truth: True\n",
      "With Context: True\n",
      "Without Context: True\n",
      "\n",
      "Question 369: Does wet AMD cause objects to appear wavy?\n",
      "Ground Truth: True\n",
      "With Context: False\n",
      "Without Context: False\n",
      "\n",
      "Question 370: Is AMD caused by excessive use of shampoo?\n",
      "Ground Truth: False\n",
      "With Context: False\n",
      "Without Context: False\n",
      "\n",
      "Question 371: Can AMD lead to difficulty with tasks like fastening buttons?\n",
      "Ground Truth: True\n",
      "With Context: True\n",
      "Without Context: True\n",
      "\n",
      "Question 372: Does dry AMD cause retinal artery occlusion?\n",
      "Ground Truth: False\n",
      "With Context: False\n",
      "Without Context: False\n",
      "\n",
      "Question 373: Is AMD associated with trouble reading analog clocks?\n",
      "Ground Truth: True\n",
      "With Context: True\n",
      "Without Context: False\n",
      "\n",
      "Question 374: Can AMD be treated with cough syrup?\n",
      "Ground Truth: False\n",
      "With Context: False\n",
      "Without Context: False\n",
      "\n",
      "Question 375: Does AMD affect the ability to read product labels?\n",
      "Ground Truth: True\n",
      "With Context: True\n",
      "Without Context: True\n",
      "\n",
      "Question 376: Is AMD caused by excessive exposure to heat?\n",
      "Ground Truth: False\n",
      "With Context: False\n",
      "Without Context: False\n",
      "\n",
      "Question 377: Can AMD impair the ability to dial a phone?\n",
      "Ground Truth: True\n",
      "With Context: True\n",
      "Without Context: True\n",
      "\n",
      "Question 378: Does wet AMD cause inflammation of the pupil?\n",
      "Ground Truth: False\n",
      "With Context: False\n",
      "Without Context: False\n",
      "\n",
      "Question 379: Is AMD linked to difficulty seeing in foggy weather?\n",
      "Ground Truth: True\n",
      "With Context: False\n",
      "Without Context: False\n",
      "\n",
      "Question 380: Can AMD be cured with lemon extract?\n",
      "Ground Truth: False\n",
      "With Context: False\n",
      "Without Context: False\n",
      "\n",
      "Question 381: Does AMD cause trouble identifying visual patterns?\n",
      "Ground Truth: True\n",
      "With Context: True\n",
      "Without Context: True\n",
      "\n",
      "Question 382: Is dry AMD caused by excessive exposure to mold?\n",
      "Ground Truth: False\n",
      "With Context: False\n",
      "Without Context: False\n",
      "\n",
      "Question 383: Can AMD affect the ability to appreciate scenic views?\n",
      "Ground Truth: True\n",
      "With Context: True\n",
      "Without Context: True\n",
      "\n",
      "Question 384: Does AMD cause vision loss due to lens detachment?\n",
      "Ground Truth: False\n",
      "With Context: True\n",
      "Without Context: False\n",
      "\n",
      "Question 385: Is AMD linked to difficulty reading restaurant menus?\n",
      "Ground Truth: True\n",
      "With Context: False\n",
      "Without Context: False\n",
      "\n",
      "Question 386: Can AMD be prevented by avoiding all salt?\n",
      "Ground Truth: False\n",
      "With Context: False\n",
      "Without Context: False\n",
      "\n",
      "Question 387: Does wet AMD cause a central visual haze?\n",
      "Ground Truth: True\n",
      "With Context: False\n",
      "Without Context: False\n",
      "\n",
      "Question 388: Is AMD caused by excessive use of conditioner?\n",
      "Ground Truth: False\n",
      "With Context: False\n",
      "Without Context: False\n",
      "\n",
      "Question 389: Can AMD impair the ability to sew intricate patterns?\n",
      "Ground Truth: True\n",
      "With Context: False\n",
      "Without Context: False\n",
      "\n",
      "Question 390: Does dry AMD cause retinal pigment epithelial swelling?\n",
      "Ground Truth: False\n",
      "With Context: False\n",
      "Without Context: True\n",
      "\n",
      "Question 391: Is AMD linked to difficulty seeing fine details in images?\n",
      "Ground Truth: True\n",
      "With Context: True\n",
      "Without Context: True\n",
      "\n",
      "Question 392: Can AMD be treated with nasal decongestants?\n",
      "Ground Truth: False\n",
      "With Context: False\n",
      "Without Context: False\n",
      "\n",
      "Question 393: Does AMD affect the ability to read digital displays?\n",
      "Ground Truth: True\n",
      "With Context: True\n",
      "Without Context: False\n",
      "\n",
      "Question 394: Is AMD caused by excessive exposure to humidity?\n",
      "Ground Truth: False\n",
      "With Context: False\n",
      "Without Context: False\n",
      "\n",
      "Question 395: Can AMD impair the ability to see in dawn light?\n",
      "Ground Truth: True\n",
      "With Context: True\n",
      "Without Context: True\n",
      "\n",
      "Question 396: Does AMD cause inflammation of the lens?\n",
      "Ground Truth: False\n",
      "With Context: True\n",
      "Without Context: True\n",
      "\n",
      "Question 397: Is AMD linked to difficulty reading fine print in books?\n",
      "Ground Truth: True\n",
      "With Context: True\n",
      "Without Context: True\n",
      "\n",
      "Question 398: Does wet AMD cause a central visual distortion?\n",
      "Ground Truth: True\n",
      "With Context: True\n",
      "Without Context: False\n",
      "\n",
      "Question 399: Is AMD caused by excessive use of body lotion?\n",
      "Ground Truth: False\n",
      "With Context: False\n",
      "Without Context: False\n",
      "\n",
      "Question 400: Can AMD affect the ability to see details on a tablet?\n",
      "Ground Truth: True\n",
      "With Context: True\n",
      "Without Context: True\n",
      "\n",
      "Question 401: Does dry AMD cause rapid retinal pigment epithelial regeneration?\n",
      "Ground Truth: False\n",
      "With Context: False\n",
      "Without Context: False\n",
      "\n",
      "Question 402: Is AMD linked to difficulty seeing in dusk conditions?\n",
      "Ground Truth: True\n",
      "With Context: True\n",
      "Without Context: True\n",
      "\n",
      "Question 403: Can AMD be treated with lip balm?\n",
      "Ground Truth: False\n",
      "With Context: False\n",
      "Without Context: False\n",
      "\n",
      "Question 404: Does AMD cause trouble reading fine text on screens?\n",
      "Ground Truth: True\n",
      "With Context: True\n",
      "Without Context: True\n",
      "\n",
      "Question 405: Is AMD caused by excessive exposure to perfumes?\n",
      "Ground Truth: False\n",
      "With Context: False\n",
      "Without Context: False\n",
      "\n",
      "Question 406: Can AMD affect the ability to see details in artwork?\n",
      "Ground Truth: True\n",
      "With Context: True\n",
      "Without Context: True\n",
      "\n",
      "Question 407: Does wet AMD cause inflammation of the cornea?\n",
      "Ground Truth: False\n",
      "With Context: False\n",
      "Without Context: False\n",
      "\n",
      "Question 408: Is AMD linked to difficulty seeing in cloudy weather?\n",
      "Ground Truth: True\n",
      "With Context: False\n",
      "Without Context: False\n",
      "\n",
      "Question 409: Can AMD be cured with sugar pills?\n",
      "Ground Truth: False\n",
      "With Context: False\n",
      "Without Context: False\n",
      "\n",
      "Question 410: Does AMD cause challenges with seeing fine details in crafts?\n",
      "Ground Truth: True\n",
      "With Context: True\n",
      "Without Context: True\n",
      "\n",
      "Question 411: Is AMD caused by excessive exposure to sand?\n",
      "Ground Truth: False\n",
      "With Context: False\n",
      "Without Context: False\n",
      "\n",
      "Question 412: Can AMD affect the ability to see fine details in landscapes?\n",
      "Ground Truth: True\n",
      "With Context: True\n",
      "Without Context: True\n",
      "\n",
      "Question 413: Does dry AMD cause rapid choroidal repair?\n",
      "Ground Truth: False\n",
      "With Context: False\n",
      "Without Context: False\n",
      "\n",
      "Question 414: Does AMD cause trouble seeing subtle contrasts?\n",
      "Ground Truth: True\n",
      "With Context: True\n",
      "Without Context: False\n",
      "\n",
      "Question 415: Is wet AMD caused by excessive exposure to smoke?\n",
      "Ground Truth: False\n",
      "With Context: False\n",
      "Without Context: False\n",
      "\n",
      "Question 416: Can dry AMD lead to loss of retinal pigment?\n",
      "Ground Truth: True\n",
      "With Context: True\n",
      "Without Context: False\n",
      "\n",
      "Question 417: Is AMD treatable with antihistamines?\n",
      "Ground Truth: False\n",
      "With Context: False\n",
      "Without Context: False\n",
      "\n",
      "Question 418: Does wet AMD cause a sudden central blind spot?\n",
      "Ground Truth: True\n",
      "With Context: True\n",
      "Without Context: True\n",
      "\n",
      "Question 419: Can AMD be prevented by avoiding all fruits?\n",
      "Ground Truth: False\n",
      "With Context: False\n",
      "Without Context: False\n",
      "\n",
      "Question 420: Is coronary artery disease a risk factor for AMD?\n",
      "Ground Truth: True\n",
      "With Context: True\n",
      "Without Context: False\n",
      "\n",
      "Question 421: Does dry AMD cause instant vision impairment?\n",
      "Ground Truth: False\n",
      "With Context: False\n",
      "Without Context: False\n",
      "\n",
      "Question 422: Can perimetry testing detect AMD-related vision loss?\n",
      "Ground Truth: True\n",
      "With Context: False\n",
      "Without Context: False\n",
      "\n",
      "Question 423: Is AMD a condition of the eyelids?\n",
      "Ground Truth: False\n",
      "With Context: False\n",
      "Without Context: False\n",
      "\n",
      "Question 424: Does AMD impair the ability to see clear boundaries?\n",
      "Ground Truth: True\n",
      "With Context: True\n",
      "Without Context: True\n",
      "\n",
      "Question 425: Can AMD be diagnosed with a breath test?\n",
      "Ground Truth: False\n",
      "With Context: False\n",
      "Without Context: False\n",
      "\n",
      "Question 426: Is contrast sensitivity testing useful for AMD monitoring?\n",
      "Ground Truth: True\n",
      "With Context: True\n",
      "Without Context: True\n",
      "\n",
      "Question 427: Does wet AMD cause subretinal hemorrhages?\n",
      "Ground Truth: True\n",
      "With Context: False\n",
      "Without Context: False\n",
      "\n",
      "Question 428: Is early-stage AMD typically symptomatic?\n",
      "Ground Truth: False\n",
      "With Context: True\n",
      "Without Context: False\n",
      "\n",
      "Question 429: Does chronic systemic inflammation contribute to AMD?\n",
      "Ground Truth: True\n",
      "With Context: True\n",
      "Without Context: True\n",
      "\n",
      "Question 430: Is AMD caused by excessive exposure to silence?\n",
      "Ground Truth: False\n",
      "With Context: False\n",
      "Without Context: False\n",
      "\n",
      "Question 431: Can magnifiers help with AMD-related vision difficulties?\n",
      "Ground Truth: True\n",
      "With Context: True\n",
      "Without Context: True\n",
      "\n",
      "Question 432: Does AMD affect the retinal inner layers directly?\n",
      "Ground Truth: False\n",
      "With Context: False\n",
      "Without Context: False\n",
      "\n",
      "Question 433: Is impaired retinal metabolism a feature of AMD?\n",
      "Ground Truth: True\n",
      "With Context: True\n",
      "Without Context: True\n",
      "\n",
      "Question 434: Can AMD be reversed with sound therapy?\n",
      "Ground Truth: False\n",
      "With Context: False\n",
      "Without Context: False\n",
      "\n",
      "Question 435: Does AMD cause difficulty with tasks requiring fine vision?\n",
      "Ground Truth: True\n",
      "With Context: True\n",
      "Without Context: True\n",
      "\n",
      "Question 436: Is AMD caused by a lack of dietary salt?\n",
      "Ground Truth: False\n",
      "With Context: False\n",
      "Without Context: False\n",
      "\n",
      "Question 437: Can advanced AMD hinder daily functioning?\n",
      "Ground Truth: True\n",
      "With Context: True\n",
      "Without Context: True\n",
      "\n",
      "Question 438: Does wet AMD cause slow vision recovery?\n",
      "Ground Truth: False\n",
      "With Context: True\n",
      "Without Context: False\n",
      "\n",
      "Question 439: Is AMD linked to difficulty in chaotic visual settings?\n",
      "Ground Truth: True\n",
      "With Context: False\n",
      "Without Context: False\n",
      "\n",
      "Question 440: Can AMD be treated with honey?\n",
      "Ground Truth: False\n",
      "With Context: False\n",
      "Without Context: False\n",
      "\n",
      "Question 441: Does AMD increase the risk of tripping in dim light?\n",
      "Ground Truth: True\n",
      "With Context: False\n",
      "Without Context: False\n",
      "\n",
      "Question 442: Is dry AMD treated with steroid injections?\n",
      "Ground Truth: False\n",
      "With Context: False\n",
      "Without Context: False\n",
      "\n",
      "Question 443: Can stopping smoking mitigate AMD progression?\n",
      "Ground Truth: True\n",
      "With Context: True\n",
      "Without Context: True\n",
      "\n",
      "Question 444: Does AMD cause swelling of the retina’s inner layers?\n",
      "Ground Truth: False\n",
      "With Context: True\n",
      "Without Context: False\n",
      "\n",
      "Question 445: Is AMD associated with trouble seeing detailed patterns?\n",
      "Ground Truth: True\n",
      "With Context: True\n",
      "Without Context: True\n",
      "\n",
      "Question 446: Does wet AMD cause a central gray area?\n",
      "Ground Truth: True\n",
      "With Context: False\n",
      "Without Context: False\n",
      "\n",
      "Question 447: Is AMD caused by excessive exposure to dry air?\n",
      "Ground Truth: False\n",
      "With Context: False\n",
      "Without Context: False\n",
      "\n",
      "Question 448: Can AMD affect the ability to identify distant objects?\n",
      "Ground Truth: True\n",
      "With Context: True\n",
      "Without Context: True\n",
      "\n",
      "Question 449: Does dry AMD cause retinal detachment?\n",
      "Ground Truth: False\n",
      "With Context: True\n",
      "Without Context: False\n",
      "\n",
      "Question 450: Is AMD detectable with color vision tests?\n",
      "Ground Truth: True\n",
      "With Context: True\n",
      "Without Context: False\n",
      "\n",
      "Question 451: Can AMD be cured with vinegar?\n",
      "Ground Truth: False\n",
      "With Context: False\n",
      "Without Context: False\n",
      "\n",
      "Question 452: Does AMD cause problems seeing in reflective light?\n",
      "Ground Truth: True\n",
      "With Context: False\n",
      "Without Context: True\n",
      "\n",
      "Question 453: Is wet AMD caused by a lack of dietary protein?\n",
      "Ground Truth: False\n",
      "With Context: False\n",
      "Without Context: False\n",
      "\n",
      "Question 454: Can AMD increase dependence on optical aids?\n",
      "Ground Truth: True\n",
      "With Context: True\n",
      "Without Context: True\n",
      "\n",
      "Question 455: Does AMD affect the retinal blood vessels directly?\n",
      "Ground Truth: False\n",
      "With Context: False\n",
      "Without Context: False\n",
      "\n",
      "Question 456: Is AMD linked to difficulty perceiving faint colors?\n",
      "Ground Truth: True\n",
      "With Context: True\n",
      "Without Context: True\n",
      "\n",
      "Question 457: Does wet AMD cause lines to appear curved?\n",
      "Ground Truth: True\n",
      "With Context: True\n",
      "Without Context: False\n",
      "\n",
      "Question 458: Is AMD caused by excessive use of soap?\n",
      "Ground Truth: False\n",
      "With Context: False\n",
      "Without Context: False\n",
      "\n",
      "Question 459: Can AMD lead to difficulty with tasks like tying knots?\n",
      "Ground Truth: True\n",
      "With Context: True\n",
      "Without Context: True\n",
      "\n",
      "Question 460: Does dry AMD cause optic nerve inflammation?\n",
      "Ground Truth: False\n",
      "With Context: False\n",
      "Without Context: False\n",
      "\n",
      "Question 461: Is AMD associated with trouble reading digital clocks?\n",
      "Ground Truth: True\n",
      "With Context: True\n",
      "Without Context: False\n",
      "\n",
      "Question 462: Can AMD be treated with antacids?\n",
      "Ground Truth: False\n",
      "With Context: False\n",
      "Without Context: False\n",
      "\n",
      "Question 463: Does AMD affect the ability to read fine print on bottles?\n",
      "Ground Truth: True\n",
      "With Context: False\n",
      "Without Context: True\n",
      "\n",
      "Question 464: Is AMD caused by excessive exposure to fog?\n",
      "Ground Truth: False\n",
      "With Context: False\n",
      "Without Context: False\n",
      "\n",
      "Question 465: Can AMD impair the ability to use a keypad?\n",
      "Ground Truth: True\n",
      "With Context: True\n",
      "Without Context: True\n",
      "\n",
      "Question 466: Does wet AMD cause inflammation of the optic nerve?\n",
      "Ground Truth: False\n",
      "With Context: True\n",
      "Without Context: False\n",
      "\n",
      "Question 467: Is AMD linked to difficulty seeing in misty conditions?\n",
      "Ground Truth: True\n",
      "With Context: True\n",
      "Without Context: True\n",
      "\n",
      "Question 468: Can AMD be cured with garlic extract?\n",
      "Ground Truth: False\n",
      "With Context: False\n",
      "Without Context: False\n",
      "\n",
      "Question 469: Does AMD cause trouble identifying visual textures?\n",
      "Ground Truth: True\n",
      "With Context: True\n",
      "Without Context: True\n",
      "\n",
      "Question 470: Is dry AMD caused by excessive exposure to pollen?\n",
      "Ground Truth: False\n",
      "With Context: False\n",
      "Without Context: False\n",
      "\n",
      "Question 471: Can AMD affect the ability to enjoy detailed scenery?\n",
      "Ground Truth: True\n",
      "With Context: False\n",
      "Without Context: False\n",
      "\n",
      "Question 472: Does AMD cause vision loss due to optic disc damage?\n",
      "Ground Truth: False\n",
      "With Context: False\n",
      "Without Context: True\n",
      "\n",
      "Question 473: Is AMD linked to difficulty reading price tags?\n",
      "Ground Truth: True\n",
      "With Context: False\n",
      "Without Context: False\n",
      "\n",
      "Question 474: Does wet AMD cause a central visual ripple?\n",
      "Ground Truth: True\n",
      "With Context: False\n",
      "Without Context: False\n",
      "\n",
      "Question 475: Is AMD caused by excessive use of lotion?\n",
      "Ground Truth: False\n",
      "With Context: False\n",
      "Without Context: False\n",
      "\n",
      "Question 476: Can AMD impair the ability to sew fine stitches?\n",
      "Ground Truth: True\n",
      "With Context: True\n",
      "Without Context: False\n",
      "\n",
      "Question 477: Does AMD cause difficulty seeing straight lines as straight?\n",
      "Ground Truth: True\n",
      "With Context: True\n",
      "Without Context: True\n",
      "\n",
      "Question 478: Is wet AMD caused by excessive exposure to blue light?\n",
      "Ground Truth: False\n",
      "With Context: False\n",
      "Without Context: False\n",
      "\n",
      "Question 479: Can dry AMD lead to atrophy of the retinal pigment epithelium?\n",
      "Ground Truth: True\n",
      "With Context: True\n",
      "Without Context: True\n",
      "\n",
      "Question 480: Is AMD treatable with herbal eye washes?\n",
      "Ground Truth: False\n",
      "With Context: False\n",
      "Without Context: False\n",
      "\n",
      "Question 481: Does wet AMD cause leakage of blood into the retina?\n",
      "Ground Truth: True\n",
      "With Context: True\n",
      "Without Context: True\n",
      "\n",
      "Question 482: Can AMD be prevented by avoiding all artificial light?\n",
      "Ground Truth: False\n",
      "With Context: False\n",
      "Without Context: False\n",
      "\n",
      "Question 483: Is a history of stroke a risk factor for AMD?\n",
      "Ground Truth: True\n",
      "With Context: True\n",
      "Without Context: True\n",
      "\n",
      "Question 484: Does dry AMD cause immediate distortion of central vision?\n",
      "Ground Truth: False\n",
      "With Context: False\n",
      "Without Context: False\n",
      "\n",
      "Question 485: Can dark adaptometry testing detect AMD-related vision changes?\n",
      "Ground Truth: True\n",
      "With Context: True\n",
      "Without Context: False\n",
      "\n",
      "Question 486: Is AMD a condition affecting the tear ducts?\n",
      "Ground Truth: False\n",
      "With Context: False\n",
      "Without Context: False\n",
      "\n",
      "Question 487: Does AMD impair the ability to see subtle gradients?\n",
      "Ground Truth: True\n",
      "With Context: True\n",
      "Without Context: True\n",
      "\n",
      "Question 488: Can AMD be diagnosed with an electrocardiogram?\n",
      "Ground Truth: False\n",
      "With Context: False\n",
      "Without Context: False\n",
      "\n",
      "Question 489: Is microperimetry useful for assessing AMD progression?\n",
      "Ground Truth: True\n",
      "With Context: True\n",
      "Without Context: True\n",
      "\n",
      "Question 490: Does wet AMD cause abnormal growth of choroidal blood vessels?\n",
      "Ground Truth: True\n",
      "With Context: True\n",
      "Without Context: False\n",
      "\n",
      "Question 491: Does wet AMD involve abnormal blood vessel growth?\n",
      "Ground Truth: True\n",
      "With Context: True\n",
      "Without Context: False\n",
      "\n",
      "Question 492: Is AMD curable with current treatments?\n",
      "Ground Truth: False\n",
      "With Context: False\n",
      "Without Context: False\n",
      "\n",
      "Question 493: Are drusen deposits a sign of early dry AMD?\n",
      "Ground Truth: True\n",
      "With Context: True\n",
      "Without Context: False\n",
      "\n",
      "Question 494: Does AMD primarily affect peripheral vision?\n",
      "Ground Truth: False\n",
      "With Context: False\n",
      "Without Context: False\n",
      "\n",
      "Question 495: Can anti-VEGF injections slow wet AMD progression?\n",
      "Ground Truth: True\n",
      "With Context: True\n",
      "Without Context: True\n",
      "\n",
      "Question 496: Does AMD only occur in people under 50?\n",
      "Ground Truth: False\n",
      "With Context: False\n",
      "Without Context: False\n",
      "\n",
      "Question 497: Is geographic atrophy an advanced form of dry AMD?\n",
      "Ground Truth: True\n",
      "With Context: True\n",
      "Without Context: True\n",
      "\n",
      "Question 498: Can AMD cause complete blindness in all cases?\n",
      "Ground Truth: False\n",
      "With Context: False\n",
      "Without Context: False\n",
      "\n",
      "Question 499: Can the Amsler grid help detect vision changes in AMD?\n",
      "Ground Truth: True\n",
      "With Context: True\n",
      "Without Context: True\n",
      "\n",
      "Question 500: Is AMD caused by bacterial infection?\n",
      "Ground Truth: False\n",
      "With Context: False\n",
      "Without Context: False\n",
      "\n"
     ]
    }
   ],
   "source": [
    "# Parse responses into boolean values\n",
    "df['with_context_parsed'] = df['with_context_answer'].apply(parse_true_false)\n",
    "df['without_context_parsed'] = df['without_context_answer'].apply(parse_true_false)\n",
    "\n",
    "# Display results\n",
    "print(\"Parsed Results:\")\n",
    "for index, row in df.iterrows():\n",
    "    print(f\"Question {index+1}: {row['question']}\")\n",
    "    print(f\"Ground Truth: {row['answer']}\")\n",
    "    print(f\"With Context: {row['with_context_parsed']}\")\n",
    "    print(f\"Without Context: {row['without_context_parsed']}\\n\")\n",
    "\n",
    "# Prepare for evaluation\n",
    "references = df['answer'].tolist()\n",
    "with_context_responses = df['with_context_parsed'].tolist()\n",
    "without_context_responses = df['without_context_parsed'].tolist()"
   ]
  },
  {
   "cell_type": "code",
   "execution_count": 13,
   "id": "e9a245f4-6883-4ff8-a888-ba8089685b77",
   "metadata": {},
   "outputs": [
    {
     "name": "stdout",
     "output_type": "stream",
     "text": [
      "\n",
      "With Context - Evaluation Metrics:\n",
      "Accuracy: 0.87 (87.0%)\n",
      "Precision: 0.91\n",
      "Recall: 0.84\n",
      "F1-Score: 0.87\n",
      "Confusion Matrix:\n",
      "[[209  22]\n",
      " [ 43 226]]\n"
     ]
    }
   ],
   "source": [
    "# Calculate metrics for with-context responses\n",
    "with_context_metrics = {}\n",
    "\n",
    "# Filter out None values\n",
    "valid_indices = [i for i, x in enumerate(with_context_responses) if x is not None]\n",
    "valid_refs = [references[i] for i in valid_indices]\n",
    "valid_preds = [with_context_responses[i] for i in valid_indices]\n",
    "\n",
    "if valid_preds:\n",
    "    with_context_metrics['accuracy'] = accuracy_score(valid_refs, valid_preds)\n",
    "    with_context_metrics['precision'] = precision_score(valid_refs, valid_preds)\n",
    "    with_context_metrics['recall'] = recall_score(valid_refs, valid_preds)\n",
    "    with_context_metrics['f1'] = f1_score(valid_refs, valid_preds)\n",
    "    with_context_metrics['confusion_matrix'] = confusion_matrix(valid_refs, valid_preds)\n",
    "    \n",
    "    # Print evaluation results\n",
    "    print(\"\\nWith Context - Evaluation Metrics:\")\n",
    "    print(f\"Accuracy: {with_context_metrics['accuracy']:.2f} ({with_context_metrics['accuracy'] * 100:.1f}%)\")\n",
    "    print(f\"Precision: {with_context_metrics['precision']:.2f}\")\n",
    "    print(f\"Recall: {with_context_metrics['recall']:.2f}\")\n",
    "    print(f\"F1-Score: {with_context_metrics['f1']:.2f}\")\n",
    "    print(f\"Confusion Matrix:\\n{with_context_metrics['confusion_matrix']}\")\n",
    "else:\n",
    "    print(\"No valid predictions to evaluate for with-context responses\")"
   ]
  },
  {
   "cell_type": "code",
   "execution_count": 14,
   "id": "baab9213-f964-4c34-8751-3e21fde46357",
   "metadata": {},
   "outputs": [
    {
     "name": "stdout",
     "output_type": "stream",
     "text": [
      "\n",
      "Without Context - Evaluation Metrics:\n",
      "Accuracy: 0.78 (78.2%)\n",
      "Precision: 0.96\n",
      "Recall: 0.62\n",
      "F1-Score: 0.75\n",
      "Confusion Matrix:\n",
      "[[224   7]\n",
      " [102 167]]\n"
     ]
    }
   ],
   "source": [
    "# Calculate metrics for without-context responses\n",
    "without_context_metrics = {}\n",
    "\n",
    "# Filter out None values\n",
    "valid_indices = [i for i, x in enumerate(without_context_responses) if x is not None]\n",
    "valid_refs = [references[i] for i in valid_indices]\n",
    "valid_preds = [without_context_responses[i] for i in valid_indices]\n",
    "\n",
    "if valid_preds:\n",
    "    without_context_metrics['accuracy'] = accuracy_score(valid_refs, valid_preds)\n",
    "    without_context_metrics['precision'] = precision_score(valid_refs, valid_preds)\n",
    "    without_context_metrics['recall'] = recall_score(valid_refs, valid_preds)\n",
    "    without_context_metrics['f1'] = f1_score(valid_refs, valid_preds)\n",
    "    without_context_metrics['confusion_matrix'] = confusion_matrix(valid_refs, valid_preds)\n",
    "    \n",
    "    # Print evaluation results\n",
    "    print(\"\\nWithout Context - Evaluation Metrics:\")\n",
    "    print(f\"Accuracy: {without_context_metrics['accuracy']:.2f} ({without_context_metrics['accuracy'] * 100:.1f}%)\")\n",
    "    print(f\"Precision: {without_context_metrics['precision']:.2f}\")\n",
    "    print(f\"Recall: {without_context_metrics['recall']:.2f}\")\n",
    "    print(f\"F1-Score: {without_context_metrics['f1']:.2f}\")\n",
    "    print(f\"Confusion Matrix:\\n{without_context_metrics['confusion_matrix']}\")\n",
    "else:\n",
    "    print(\"No valid predictions to evaluate for without-context responses\")"
   ]
  },
  {
   "cell_type": "code",
   "execution_count": 15,
   "id": "6936f18c-bb6b-4e9d-b74f-b195c584232a",
   "metadata": {},
   "outputs": [
    {
     "name": "stdout",
     "output_type": "stream",
     "text": [
      "\n",
      "Error Analysis:\n",
      "--------------------------------------------------------------------------------\n",
      "Question                                           | Ground Truth | With Context | Without Context | Notes\n",
      "--------------------------------------------------------------------------------\n",
      "Can dry AMD lead to complete blindness?            | False        | True         | True            | Both incorrect\n",
      "Does wet AMD progress faster than dry AMD?         | True         | False        | False           | Both incorrect\n",
      "Is family history a risk factor for developing ... | True         | True         | False           | Context helped\n",
      "Does the Amsler grid help detect AMD symptoms?     | True         | True         | False           | Context helped\n",
      "Is dry AMD more common than wet AMD?               | True         | False        | False           | Both incorrect\n",
      "Does AMD primarily affect people over 50?          | True         | False        | True            | Context misled\n",
      "Does AMD affect color perception?                  | True         | True         | False           | Context helped\n",
      "Does wet AMD involve fluid leakage under the re... | True         | True         | False           | Context helped\n",
      "Is AMD more prevalent in women than men?           | True         | True         | False           | Context helped\n",
      "Is AMD linked to high cholesterol levels?          | True         | True         | False           | Context helped\n",
      "Can AMD cause straight lines to appear wavy?       | True         | True         | False           | Context helped\n",
      "Is AMD linked to UV light exposure?                | True         | True         | False           | Context helped\n",
      "Can a dilated eye exam diagnose AMD?               | True         | True         | False           | Context helped\n",
      "Does AMD affect the ability to recognize faces?    | True         | True         | False           | Context helped\n",
      "Does AMD affect the central vision?                | True         | True         | False           | Context helped\n",
      "Does wet AMD involve choroidal neovascularization? | True         | True         | False           | Context helped\n",
      "Does dry AMD cause rapid vision loss?              | False        | True         | False           | Context misled\n",
      "Does wet AMD cause sudden vision changes?          | True         | False        | False           | Both incorrect\n",
      "Is dry AMD more prevalent than wet AMD?            | True         | False        | False           | Both incorrect\n",
      "Is obesity a risk factor for AMD?                  | True         | False        | True            | Context misled\n",
      "Does wet AMD involve fluid buildup under the re... | True         | False        | False           | Both incorrect\n",
      "Does AMD primarily affect people over 60?          | True         | False        | False           | Both incorrect\n",
      "Is high cholesterol a risk factor for AMD?         | True         | True         | False           | Context helped\n",
      "Does AMD cause straight lines to appear wavy?      | True         | False        | False           | Both incorrect\n",
      "Can a dilated eye exam detect AMD?                 | True         | True         | False           | Context helped\n",
      "Is AMD more prevalent in developed countries?      | True         | False        | True            | Context misled\n",
      "Does AMD affect driving ability?                   | True         | True         | False           | Context helped\n",
      "Does wet AMD cause hemorrhages under the retina?   | True         | True         | False           | Context helped\n",
      "Can regular eye exams detect AMD early?            | True         | True         | False           | Context helped\n",
      "Does AMD cause floaters in the eye?                | False        | True         | True            | Both incorrect\n",
      "Is AMD linked to lighter eye color?                | True         | True         | False           | Context helped\n",
      "Does AMD cause blind spots in central vision?      | True         | False        | False           | Both incorrect\n",
      "Is AMD more common in African Americans than Ca... | False        | True         | False           | Context misled\n",
      "Can AMD be treated with acupuncture?               | False        | True         | False           | Context misled\n",
      "Does wet AMD cause scarring of the retina?         | True         | False        | False           | Both incorrect\n",
      "Is AMD associated with about 11 million cases i... | True         | False        | True            | Context misled\n",
      "Does wet AMD cause rapid central vision loss?      | True         | False        | True            | Context misled\n",
      "Can photodynamic therapy treat wet AMD?            | True         | True         | False           | Context helped\n",
      "Does wet AMD cause swelling beneath the retina?    | True         | False        | True            | Context misled\n",
      "Can fundus autofluorescence imaging detect AMD?    | True         | True         | False           | Context helped\n",
      "Can AMD be treated with skin creams?               | False        | True         | False           | Context misled\n",
      "Can smoking cessation reduce the progression of... | True         | True         | False           | Context helped\n",
      "Does AMD cause pain in the eyes?                   | False        | True         | False           | Context misled\n",
      "Does wet AMD cause a gray spot in central vision?  | True         | False        | False           | Both incorrect\n",
      "Does dry AMD cause retinal hemorrhages?            | False        | True         | False           | Context misled\n",
      "Does AMD cause difficulty seeing in bright light?  | True         | True         | False           | Context helped\n",
      "Does wet AMD cause a wavy appearance of objects?   | True         | False        | False           | Both incorrect\n",
      "Can AMD be treated with nasal sprays?              | False        | True         | False           | Context misled\n",
      "Does AMD affect the ability to see motion?         | True         | True         | False           | Context helped\n",
      "Does dry AMD cause small blind spots over time?    | True         | False        | False           | Both incorrect\n",
      "Can AMD affect the ability to sew or knit?         | True         | True         | False           | Context helped\n",
      "Does wet AMD cause a ripple effect in vision?      | True         | False        | False           | Both incorrect\n",
      "Can AMD affect the ability to play card games?     | True         | True         | False           | Context helped\n",
      "Does wet AMD cause a central haze in vision?       | True         | True         | False           | Context helped\n",
      "Is AMD linked to difficulty assembling puzzles?    | True         | True         | False           | Context helped\n",
      "Does AMD cause challenges with writing by hand?    | True         | True         | False           | Context helped\n",
      "Can AMD affect the ability to use a smartphone?    | True         | True         | False           | Context helped\n",
      "Does wet AMD cause shadows in the visual field?    | True         | True         | False           | Context helped\n",
      "Can dry AMD lead to photoreceptor loss?            | True         | True         | False           | Context helped\n",
      "Is atherosclerosis a risk factor for AMD?          | True         | True         | False           | Context helped\n",
      "Can optical coherence tomography angiography de... | True         | True         | False           | Context helped\n",
      "Does AMD impair the ability to see edges clearly?  | True         | False        | True            | Context misled\n",
      "Is home vision testing useful for monitoring AMD?  | True         | True         | False           | Context helped\n",
      "Does wet AMD cause subretinal fluid accumulation?  | True         | True         | False           | Context helped\n",
      "Is intermediate AMD characterized by larger dru... | True         | True         | False           | Context helped\n",
      "Can AMD be cured with over-the-counter painkill... | False        | True         | False           | Context misled\n",
      "Does AMD cause difficulty threading a needle?      | True         | True         | False           | Context helped\n",
      "Is AMD linked to difficulty seeing in crowded p... | True         | True         | False           | Context helped\n",
      "Does AMD increase the risk of tripping over obj... | True         | False        | False           | Both incorrect\n",
      "Can quitting smoking slow AMD progression?         | True         | True         | False           | Context helped\n",
      "Does AMD cause inflammation of the cornea?         | False        | True         | False           | Context misled\n",
      "Does wet AMD cause a dark central patch?           | True         | True         | False           | Context helped\n",
      "Can AMD affect the ability to enjoy birdwatching?  | True         | True         | False           | Context helped\n",
      "Is AMD detectable with regular vision screenings?  | True         | False        | False           | Both incorrect\n",
      "Does AMD affect the choroid directly?              | False        | True         | False           | Context misled\n",
      "Does wet AMD cause vision to appear bent?          | True         | True         | False           | Context helped\n",
      "Is AMD associated with difficulty seeing clock ... | True         | True         | False           | Context helped\n",
      "Does AMD affect the ability to see fine print o... | True         | True         | False           | Context helped\n",
      "Can AMD impair the ability to see numbers on a ... | True         | False        | True            | Context misled\n",
      "Is AMD linked to difficulty seeing details on a... | True         | True         | False           | Context helped\n",
      "Does wet AMD cause a central shadow in bright l... | True         | True         | False           | Context helped\n",
      "Can AMD affect the ability to thread a sewing m... | True         | True         | False           | Context helped\n",
      "Does AMD cause vision loss due to vitreous deta... | False        | False        | True            | Context helped\n",
      "Is AMD linked to difficulty identifying small o... | True         | True         | False           | Context helped\n",
      "Does wet AMD cause a distorted central field?      | True         | True         | False           | Context helped\n",
      "Does wet AMD cause optic disc damage?              | False        | True         | False           | Context misled\n",
      "Is AMD linked to difficulty seeing in overcast ... | True         | False        | False           | Both incorrect\n",
      "Does wet AMD cause a central blind spot?           | True         | True         | False           | Context helped\n",
      "Is AMD linked to difficulty seeing in twilight?    | True         | True         | False           | Context helped\n",
      "Does AMD cause difficulty distinguishing contra... | True         | True         | False           | Context helped\n",
      "Does wet AMD cause a sudden central blur?          | True         | False        | True            | Context misled\n",
      "Is visual acuity testing useful for AMD detection? | True         | True         | False           | Context helped\n",
      "Does wet AMD cause retinal pigment epithelial d... | True         | True         | False           | Context helped\n",
      "Does AMD cause difficulty with precision tasks ... | True         | True         | False           | Context helped\n",
      "Is AMD linked to difficulty navigating busy env... | True         | True         | False           | Context helped\n",
      "Does AMD cause swelling of the optic disc?         | False        | True         | True            | Both incorrect\n",
      "Is AMD associated with trouble seeing intricate... | True         | False        | True            | Context misled\n",
      "Can AMD affect the ability to spot wildlife?       | True         | True         | False           | Context helped\n",
      "Does dry AMD cause retinal vein occlusion?         | False        | True         | False           | Context misled\n",
      "Is AMD detectable with routine eye chart tests?    | True         | False        | False           | Both incorrect\n",
      "Does wet AMD cause objects to appear wavy?         | True         | False        | False           | Both incorrect\n",
      "Is AMD associated with trouble reading analog c... | True         | True         | False           | Context helped\n",
      "Is AMD linked to difficulty seeing in foggy wea... | True         | False        | False           | Both incorrect\n",
      "Does AMD cause vision loss due to lens detachment? | False        | True         | False           | Context misled\n",
      "Is AMD linked to difficulty reading restaurant ... | True         | False        | False           | Both incorrect\n",
      "Does wet AMD cause a central visual haze?          | True         | False        | False           | Both incorrect\n",
      "Can AMD impair the ability to sew intricate pat... | True         | False        | False           | Both incorrect\n",
      "Does dry AMD cause retinal pigment epithelial s... | False        | False        | True            | Context helped\n",
      "Does AMD affect the ability to read digital dis... | True         | True         | False           | Context helped\n",
      "Does AMD cause inflammation of the lens?           | False        | True         | True            | Both incorrect\n",
      "Does wet AMD cause a central visual distortion?    | True         | True         | False           | Context helped\n",
      "Is AMD linked to difficulty seeing in cloudy we... | True         | False        | False           | Both incorrect\n",
      "Does AMD cause trouble seeing subtle contrasts?    | True         | True         | False           | Context helped\n",
      "Can dry AMD lead to loss of retinal pigment?       | True         | True         | False           | Context helped\n",
      "Is coronary artery disease a risk factor for AMD?  | True         | True         | False           | Context helped\n",
      "Can perimetry testing detect AMD-related vision... | True         | False        | False           | Both incorrect\n",
      "Does wet AMD cause subretinal hemorrhages?         | True         | False        | False           | Both incorrect\n",
      "Is early-stage AMD typically symptomatic?          | False        | True         | False           | Context misled\n",
      "Does wet AMD cause slow vision recovery?           | False        | True         | False           | Context misled\n",
      "Is AMD linked to difficulty in chaotic visual s... | True         | False        | False           | Both incorrect\n",
      "Does AMD increase the risk of tripping in dim l... | True         | False        | False           | Both incorrect\n",
      "Does AMD cause swelling of the retina’s inner l... | False        | True         | False           | Context misled\n",
      "Does wet AMD cause a central gray area?            | True         | False        | False           | Both incorrect\n",
      "Does dry AMD cause retinal detachment?             | False        | True         | False           | Context misled\n",
      "Is AMD detectable with color vision tests?         | True         | True         | False           | Context helped\n",
      "Does AMD cause problems seeing in reflective li... | True         | False        | True            | Context misled\n",
      "Does wet AMD cause lines to appear curved?         | True         | True         | False           | Context helped\n",
      "Is AMD associated with trouble reading digital ... | True         | True         | False           | Context helped\n",
      "Does AMD affect the ability to read fine print ... | True         | False        | True            | Context misled\n",
      "Does wet AMD cause inflammation of the optic ne... | False        | True         | False           | Context misled\n",
      "Can AMD affect the ability to enjoy detailed sc... | True         | False        | False           | Both incorrect\n",
      "Does AMD cause vision loss due to optic disc da... | False        | False        | True            | Context helped\n",
      "Is AMD linked to difficulty reading price tags?    | True         | False        | False           | Both incorrect\n",
      "Does wet AMD cause a central visual ripple?        | True         | False        | False           | Both incorrect\n",
      "Can AMD impair the ability to sew fine stitches?   | True         | True         | False           | Context helped\n",
      "Can dark adaptometry testing detect AMD-related... | True         | True         | False           | Context helped\n",
      "Does wet AMD cause abnormal growth of choroidal... | True         | True         | False           | Context helped\n",
      "Does wet AMD involve abnormal blood vessel growth? | True         | True         | False           | Context helped\n",
      "Are drusen deposits a sign of early dry AMD?       | True         | True         | False           | Context helped\n"
     ]
    }
   ],
   "source": [
    "# Compare errors between with-context and without-context approaches\n",
    "print(\"\\nError Analysis:\")\n",
    "print(\"-\" * 80)\n",
    "print(f\"{'Question':50} | {'Ground Truth':12} | {'With Context':12} | {'Without Context':15} | {'Notes'}\") \n",
    "print(\"-\" * 80)\n",
    "\n",
    "for i, row in df.iterrows():\n",
    "    # Check if either prediction is incorrect\n",
    "    with_context_correct = row['with_context_parsed'] == row['answer'] if row['with_context_parsed'] is not None else False\n",
    "    without_context_correct = row['without_context_parsed'] == row['answer'] if row['without_context_parsed'] is not None else False\n",
    "    \n",
    "    # Only show questions where at least one approach was incorrect\n",
    "    if not (with_context_correct and without_context_correct):\n",
    "        question = row['question'][:47] + \"...\" if len(row['question']) > 50 else row['question'].ljust(50)\n",
    "        ground_truth = str(row['answer']).ljust(12)\n",
    "        with_context = str(row['with_context_parsed']).ljust(12)\n",
    "        without_context = str(row['without_context_parsed']).ljust(15)\n",
    "        \n",
    "        # Determine notes\n",
    "        if with_context_correct and not without_context_correct:\n",
    "            notes = \"Context helped\"\n",
    "        elif not with_context_correct and without_context_correct:\n",
    "            notes = \"Context misled\"\n",
    "        else:\n",
    "            notes = \"Both incorrect\"\n",
    "            \n",
    "        print(f\"{question} | {ground_truth} | {with_context} | {without_context} | {notes}\")"
   ]
  },
  {
   "cell_type": "code",
   "execution_count": 16,
   "id": "5ea50826-2915-47ff-b9a9-c963c293638c",
   "metadata": {},
   "outputs": [
    {
     "data": {
      "image/png": "[encoded data removed]",
      "text/plain": [
       "<Figure size 1000x600 with 1 Axes>"
      ]
     },
     "metadata": {},
     "output_type": "display_data"
    },
    {
     "data": {
      "image/png": "[encoded data removed]",
      "text/plain": [
       "<Figure size 1200x500 with 4 Axes>"
      ]
     },
     "metadata": {},
     "output_type": "display_data"
    }
   ],
   "source": [
    "# Visualize metrics comparison\n",
    "if with_context_metrics and without_context_metrics:\n",
    "    metrics = ['accuracy', 'precision', 'recall', 'f1']\n",
    "    with_context_values = [with_context_metrics[m] for m in metrics]\n",
    "    without_context_values = [without_context_metrics[m] for m in metrics]\n",
    "    \n",
    "    x = np.arange(len(metrics))\n",
    "    width = 0.35\n",
    "    \n",
    "    fig, ax = plt.subplots(figsize=(10, 6))\n",
    "    rects1 = ax.bar(x - width/2, with_context_values, width, label='With Context')\n",
    "    rects2 = ax.bar(x + width/2, without_context_values, width, label='Without Context')\n",
    "    \n",
    "    # Add labels and title\n",
    "    ax.set_xlabel('Metrics')\n",
    "    ax.set_ylabel('Scores')\n",
    "    ax.set_title('Performance Comparison: With vs. Without Context')\n",
    "    ax.set_xticks(x)\n",
    "    ax.set_xticklabels(metrics)\n",
    "    ax.legend()\n",
    "    ax.set_ylim(0, 1.1)\n",
    "    \n",
    "    # Add value labels\n",
    "    def add_labels(rects):\n",
    "        for rect in rects:\n",
    "            height = rect.get_height()\n",
    "            ax.annotate(f'{height:.2f}',\n",
    "                        xy=(rect.get_x() + rect.get_width() / 2, height),\n",
    "                        xytext=(0, 3),  # 3 points vertical offset\n",
    "                        textcoords=\"offset points\",\n",
    "                        ha='center', va='bottom')\n",
    "    \n",
    "    add_labels(rects1)\n",
    "    add_labels(rects2)\n",
    "    \n",
    "    plt.tight_layout()\n",
    "    plt.show()\n",
    "    \n",
    "    # Visualize confusion matrices\n",
    "    fig, (ax1, ax2) = plt.subplots(1, 2, figsize=(12, 5))\n",
    "    \n",
    "    # With context confusion matrix\n",
    "    sns.heatmap(with_context_metrics['confusion_matrix'], annot=True, fmt='d', cmap='Blues', ax=ax1,\n",
    "                xticklabels=['Predicted False', 'Predicted True'],\n",
    "                yticklabels=['Actual False', 'Actual True'])\n",
    "    ax1.set_title('Confusion Matrix - With Context')\n",
    "    \n",
    "    # Without context confusion matrix\n",
    "    sns.heatmap(without_context_metrics['confusion_matrix'], annot=True, fmt='d', cmap='Blues', ax=ax2,\n",
    "                xticklabels=['Predicted False', 'Predicted True'],\n",
    "                yticklabels=['Actual False', 'Actual True'])\n",
    "    ax2.set_title('Confusion Matrix - Without Context')\n",
    "    \n",
    "    plt.tight_layout()\n",
    "    plt.show()\n",
    "else:\n",
    "    print(\"Not enough data to visualize comparison\")"
   ]
  },
  {
   "cell_type": "code",
   "execution_count": 17,
   "id": "bc2862bf-f6dc-4077-ace4-aead380082d0",
   "metadata": {},
   "outputs": [
    {
     "name": "stdout",
     "output_type": "stream",
     "text": [
      "\n",
      "Context Impact Summary:\n",
      "Neutral: 361 questions (72.2%)\n",
      "Positive: 74 questions (14.8%)\n",
      "No Help: 35 questions (7.0%)\n",
      "Negative: 30 questions (6.0%)\n"
     ]
    },
    {
     "data": {
      "image/png": "[encoded data removed]",
      "text/plain": [
       "<Figure size 1000x600 with 1 Axes>"
      ]
     },
     "metadata": {},
     "output_type": "display_data"
    }
   ],
   "source": [
    "# Analyze the impact of context on each question\n",
    "df['context_impact'] = None\n",
    "\n",
    "for i, row in df.iterrows():\n",
    "    # Skip if either prediction is None\n",
    "    if row['with_context_parsed'] is None or row['without_context_parsed'] is None:\n",
    "        df.at[i, 'context_impact'] = 'Unknown'\n",
    "        continue\n",
    "        \n",
    "    with_correct = row['with_context_parsed'] == row['answer']\n",
    "    without_correct = row['without_context_parsed'] == row['answer']\n",
    "    \n",
    "    if with_correct and not without_correct:\n",
    "        df.at[i, 'context_impact'] = 'Positive'\n",
    "    elif not with_correct and without_correct:\n",
    "        df.at[i, 'context_impact'] = 'Negative'\n",
    "    elif with_correct and without_correct:\n",
    "        df.at[i, 'context_impact'] = 'Neutral'\n",
    "    else:  # both incorrect\n",
    "        df.at[i, 'context_impact'] = 'No Help'\n",
    "\n",
    "# Summarize context impact\n",
    "impact_counts = df['context_impact'].value_counts()\n",
    "print(\"\\nContext Impact Summary:\")\n",
    "for impact, count in impact_counts.items():\n",
    "    print(f\"{impact}: {count} questions ({count/len(df)*100:.1f}%)\")\n",
    "\n",
    "# Visualize context impact\n",
    "plt.figure(figsize=(10, 6))\n",
    "ax = impact_counts.plot(kind='bar', color=['green', 'red', 'gray', 'orange'])\n",
    "plt.title('Impact of Context on True/False Questions')\n",
    "plt.xlabel('Impact Type')\n",
    "plt.ylabel('Number of Questions')\n",
    "\n",
    "# Add percentages on top of bars\n",
    "for i, v in enumerate(impact_counts):\n",
    "    ax.text(i, v + 0.1, f\"{v/len(df)*100:.1f}%\", ha='center')\n",
    "\n",
    "plt.tight_layout()\n",
    "plt.show()"
   ]
  },
  {
   "cell_type": "code",
   "execution_count": 18,
   "id": "cf0ceb96-a5e8-44a9-a1b9-16db0927a61e",
   "metadata": {},
   "outputs": [
    {
     "name": "stdout",
     "output_type": "stream",
     "text": [
      "\n",
      "================================================================================\n",
      "EVALUATION SUMMARY REPORT\n",
      "================================================================================\n",
      "Total Questions: 500\n",
      "True Answers: 269\n",
      "False Answers: 231\n",
      "\n",
      "Performance Summary:\n",
      "With Context Accuracy: 0.87 (87.0%)\n",
      "Without Context Accuracy: 0.78 (78.2%)\n",
      "\n",
      "Context improved accuracy by 0.09 (8.8%)\n",
      "\n",
      "Questions where context helped:\n",
      "- Is family history a risk factor for developing AMD?\n",
      "- Does the Amsler grid help detect AMD symptoms?\n",
      "- Does AMD affect color perception?\n",
      "- Does wet AMD involve fluid leakage under the retina?\n",
      "- Is AMD more prevalent in women than men?\n",
      "- Is AMD linked to high cholesterol levels?\n",
      "- Can AMD cause straight lines to appear wavy?\n",
      "- Is AMD linked to UV light exposure?\n",
      "- Can a dilated eye exam diagnose AMD?\n",
      "- Does AMD affect the ability to recognize faces?\n",
      "- Does AMD affect the central vision?\n",
      "- Does wet AMD involve choroidal neovascularization?\n",
      "- Is high cholesterol a risk factor for AMD?\n",
      "- Can a dilated eye exam detect AMD?\n",
      "- Does AMD affect driving ability?\n",
      "- Does wet AMD cause hemorrhages under the retina?\n",
      "- Can regular eye exams detect AMD early?\n",
      "- Is AMD linked to lighter eye color?\n",
      "- Can photodynamic therapy treat wet AMD?\n",
      "- Can fundus autofluorescence imaging detect AMD?\n",
      "- Can smoking cessation reduce the progression of AMD?\n",
      "- Does AMD cause difficulty seeing in bright light?\n",
      "- Does AMD affect the ability to see motion?\n",
      "- Can AMD affect the ability to sew or knit?\n",
      "- Can AMD affect the ability to play card games?\n",
      "- Does wet AMD cause a central haze in vision?\n",
      "- Is AMD linked to difficulty assembling puzzles?\n",
      "- Does AMD cause challenges with writing by hand?\n",
      "- Can AMD affect the ability to use a smartphone?\n",
      "- Does wet AMD cause shadows in the visual field?\n",
      "- Can dry AMD lead to photoreceptor loss?\n",
      "- Is atherosclerosis a risk factor for AMD?\n",
      "- Can optical coherence tomography angiography detect wet AMD?\n",
      "- Is home vision testing useful for monitoring AMD?\n",
      "- Does wet AMD cause subretinal fluid accumulation?\n",
      "- Is intermediate AMD characterized by larger drusen?\n",
      "- Does AMD cause difficulty threading a needle?\n",
      "- Is AMD linked to difficulty seeing in crowded places?\n",
      "- Can quitting smoking slow AMD progression?\n",
      "- Does wet AMD cause a dark central patch?\n",
      "- Can AMD affect the ability to enjoy birdwatching?\n",
      "- Does wet AMD cause vision to appear bent?\n",
      "- Is AMD associated with difficulty seeing clock faces?\n",
      "- Does AMD affect the ability to see fine print on labels?\n",
      "- Is AMD linked to difficulty seeing details on a menu?\n",
      "- Does wet AMD cause a central shadow in bright light?\n",
      "- Can AMD affect the ability to thread a sewing machine?\n",
      "- Does AMD cause vision loss due to vitreous detachment?\n",
      "- Is AMD linked to difficulty identifying small objects?\n",
      "- Does wet AMD cause a distorted central field?\n",
      "- Does wet AMD cause a central blind spot?\n",
      "- Is AMD linked to difficulty seeing in twilight?\n",
      "- Does AMD cause difficulty distinguishing contrasts?\n",
      "- Is visual acuity testing useful for AMD detection?\n",
      "- Does wet AMD cause retinal pigment epithelial detachment?\n",
      "- Does AMD cause difficulty with precision tasks like sewing?\n",
      "- Is AMD linked to difficulty navigating busy environments?\n",
      "- Can AMD affect the ability to spot wildlife?\n",
      "- Is AMD associated with trouble reading analog clocks?\n",
      "- Does dry AMD cause retinal pigment epithelial swelling?\n",
      "- Does AMD affect the ability to read digital displays?\n",
      "- Does wet AMD cause a central visual distortion?\n",
      "- Does AMD cause trouble seeing subtle contrasts?\n",
      "- Can dry AMD lead to loss of retinal pigment?\n",
      "- Is coronary artery disease a risk factor for AMD?\n",
      "- Is AMD detectable with color vision tests?\n",
      "- Does wet AMD cause lines to appear curved?\n",
      "- Is AMD associated with trouble reading digital clocks?\n",
      "- Does AMD cause vision loss due to optic disc damage?\n",
      "- Can AMD impair the ability to sew fine stitches?\n",
      "- Can dark adaptometry testing detect AMD-related vision changes?\n",
      "- Does wet AMD cause abnormal growth of choroidal blood vessels?\n",
      "- Does wet AMD involve abnormal blood vessel growth?\n",
      "- Are drusen deposits a sign of early dry AMD?\n",
      "\n",
      "Questions where context was misleading:\n",
      "- Does AMD primarily affect people over 50?\n",
      "- Does dry AMD cause rapid vision loss?\n",
      "- Is obesity a risk factor for AMD?\n",
      "- Is AMD more prevalent in developed countries?\n",
      "- Is AMD more common in African Americans than Caucasians?\n",
      "- Can AMD be treated with acupuncture?\n",
      "- Is AMD associated with about 11 million cases in the US?\n",
      "- Does wet AMD cause rapid central vision loss?\n",
      "- Does wet AMD cause swelling beneath the retina?\n",
      "- Can AMD be treated with skin creams?\n",
      "- Does AMD cause pain in the eyes?\n",
      "- Does dry AMD cause retinal hemorrhages?\n",
      "- Can AMD be treated with nasal sprays?\n",
      "- Does AMD impair the ability to see edges clearly?\n",
      "- Can AMD be cured with over-the-counter painkillers?\n",
      "- Does AMD cause inflammation of the cornea?\n",
      "- Does AMD affect the choroid directly?\n",
      "- Can AMD impair the ability to see numbers on a phone?\n",
      "- Does wet AMD cause optic disc damage?\n",
      "- Does wet AMD cause a sudden central blur?\n",
      "- Is AMD associated with trouble seeing intricate designs?\n",
      "- Does dry AMD cause retinal vein occlusion?\n",
      "- Does AMD cause vision loss due to lens detachment?\n",
      "- Is early-stage AMD typically symptomatic?\n",
      "- Does wet AMD cause slow vision recovery?\n",
      "- Does AMD cause swelling of the retina’s inner layers?\n",
      "- Does dry AMD cause retinal detachment?\n",
      "- Does AMD cause problems seeing in reflective light?\n",
      "- Does AMD affect the ability to read fine print on bottles?\n",
      "- Does wet AMD cause inflammation of the optic nerve?\n",
      "\n",
      "Conclusions:\n",
      "1. Context retrieval improved overall accuracy for true/false questions.\n",
      "2. 74 questions benefited from context, while 30 questions were negatively affected.\n",
      "3. Recommendations:\n",
      "   - Continue using RAG for true/false questions\n",
      "   - Consider a hybrid approach that evaluates context quality before deciding whether to use it\n",
      "   - Expand the evaluation dataset to include more diverse true/false questions\n"
     ]
    }
   ],
   "source": [
    "# Generate a summary report\n",
    "print(\"\\n\" + \"=\" * 80)\n",
    "print(\"EVALUATION SUMMARY REPORT\")\n",
    "print(\"=\" * 80)\n",
    "print(f\"Total Questions: {len(df)}\")\n",
    "print(f\"True Answers: {sum(df['answer'])}\")\n",
    "print(f\"False Answers: {len(df) - sum(df['answer'])}\")\n",
    "print(\"\\nPerformance Summary:\")\n",
    "\n",
    "if with_context_metrics and without_context_metrics:\n",
    "    print(f\"With Context Accuracy: {with_context_metrics['accuracy']:.2f} ({with_context_metrics['accuracy']*100:.1f}%)\")\n",
    "    print(f\"Without Context Accuracy: {without_context_metrics['accuracy']:.2f} ({without_context_metrics['accuracy']*100:.1f}%)\")\n",
    "    \n",
    "    # Determine if context helped overall\n",
    "    if with_context_metrics['accuracy'] > without_context_metrics['accuracy']:\n",
    "        diff = with_context_metrics['accuracy'] - without_context_metrics['accuracy']\n",
    "        print(f\"\\nContext improved accuracy by {diff:.2f} ({diff*100:.1f}%)\")\n",
    "    elif with_context_metrics['accuracy'] < without_context_metrics['accuracy']:\n",
    "        diff = without_context_metrics['accuracy'] - with_context_metrics['accuracy']\n",
    "        print(f\"\\nContext decreased accuracy by {diff:.2f} ({diff*100:.1f}%)\")\n",
    "    else:\n",
    "        print(\"\\nContext had no overall impact on accuracy\")\n",
    "\n",
    "# List questions where context helped\n",
    "helped_questions = df[df['context_impact'] == 'Positive']\n",
    "if not helped_questions.empty:\n",
    "    print(\"\\nQuestions where context helped:\")\n",
    "    for i, row in helped_questions.iterrows():\n",
    "        print(f\"- {row['question']}\")\n",
    "\n",
    "# List questions where context was misleading\n",
    "misled_questions = df[df['context_impact'] == 'Negative']\n",
    "if not misled_questions.empty:\n",
    "    print(\"\\nQuestions where context was misleading:\")\n",
    "    for i, row in misled_questions.iterrows():\n",
    "        print(f\"- {row['question']}\")\n",
    "\n",
    "print(\"\\nConclusions:\")\n",
    "print(\"1. Context retrieval\" + (\" improved \" if with_context_metrics.get('accuracy', 0) > without_context_metrics.get('accuracy', 0) else \" did not improve \") + \"overall accuracy for true/false questions.\")\n",
    "print(f\"2. {impact_counts.get('Positive', 0)} questions benefited from context, while {impact_counts.get('Negative', 0)} questions were negatively affected.\")\n",
    "print(\"3. Recommendations:\")\n",
    "print(\"   - \" + (\"Continue using RAG for true/false questions\" if with_context_metrics.get('accuracy', 0) > without_context_metrics.get('accuracy', 0) else \"Improve context retrieval or consider limiting RAG for true/false questions\"))\n",
    "print(\"   - Consider a hybrid approach that evaluates context quality before deciding whether to use it\")\n",
    "print(\"   - Expand the evaluation dataset to include more diverse true/false questions\")"
   ]
  },
  {
   "cell_type": "code",
   "execution_count": null,
   "id": "6345d4e4-4a8e-4c14-a998-98afba006a33",
   "metadata": {},
   "outputs": [],
   "source": []
  }
 ],
 "metadata": {
  "kernelspec": {
   "display_name": "Python 3 (ipykernel)",
   "language": "python",
   "name": "python3"
  },
  "language_info": {
   "codemirror_mode": {
    "name": "ipython",
    "version": 3
   },
   "file_extension": ".py",
   "mimetype": "text/x-python",
   "name": "python",
   "nbconvert_exporter": "python",
   "pygments_lexer": "ipython3",
   "version": "3.10.16"
  }
 },
 "nbformat": 4,
 "nbformat_minor": 5
}
