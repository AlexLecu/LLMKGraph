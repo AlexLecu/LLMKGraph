{
 "cells": [
  {
   "cell_type": "code",
   "execution_count": null,
   "id": "1baab38a-d436-42e1-a620-48ac468f704a",
   "metadata": {},
   "outputs": [],
   "source": [
    "import json\n",
    "from collections import defaultdict, Counter\n",
    "from sklearn.metrics import cohen_kappa_score\n",
    "\n",
    "def load_annotations(file_path):\n",
    "    annotations = defaultdict(list)\n",
    "    with open(file_path, 'r') as file:\n",
    "        for line in file:\n",
    "            data = json.loads(line)\n",
    "            key = (data['subject'], data['object'])\n",
    "            annotations[key].append(data['relation'])\n",
    "    return annotations\n",
    "\n",
    "annotations1 = load_annotations('../../data/Annotators/annotator1.jsonl')\n",
    "annotations2 = load_annotations('../../data/Annotators/annotator2.jsonl')\n",
    "\n",
    "common_keys = set(annotations1.keys()) & set(annotations2.keys())\n",
    "\n",
    "def select_relation(relations):\n",
    "    # Using the most common relation as the selected relation\n",
    "    relation_counter = Counter(relations)\n",
    "    most_common_relation, _ = relation_counter.most_common(1)[0]\n",
    "    return most_common_relation\n",
    "\n",
    "selected_relations1 = [select_relation(annotations1[key]) for key in common_keys]\n",
    "selected_relations2 = [select_relation(annotations2[key]) for key in common_keys]\n",
    "\n",
    "kappa_score = cohen_kappa_score(selected_relations1, selected_relations2)\n",
    "\n",
    "print(f\"Cohen's Kappa Score: {kappa_score}\")"
   ]
  },
  {
   "cell_type": "code",
   "execution_count": null,
   "id": "9bcb0bf4-6dab-4bdd-82db-6dc312a7faf6",
   "metadata": {},
   "outputs": [],
   "source": []
  }
 ],
 "metadata": {
  "kernelspec": {
   "display_name": ".local-llm",
   "language": "python",
   "name": ".local-llm"
  },
  "language_info": {
   "codemirror_mode": {
    "name": "ipython",
    "version": 3
   },
   "file_extension": ".py",
   "mimetype": "text/x-python",
   "name": "python",
   "nbconvert_exporter": "python",
   "pygments_lexer": "ipython3",
   "version": "3.10.13"
  }
 },
 "nbformat": 4,
 "nbformat_minor": 5
}
