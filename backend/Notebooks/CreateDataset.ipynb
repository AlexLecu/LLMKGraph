{
 "cells": [
  {
   "cell_type": "code",
   "execution_count": 1,
   "id": "f1d41bb0-9635-4daa-bfd8-88c728465341",
   "metadata": {},
   "outputs": [],
   "source": [
    "import jsonlines\n",
    "import json\n",
    "import csv"
   ]
  },
  {
   "cell_type": "code",
   "execution_count": 2,
   "id": "854b75c9-88c1-4d08-b795-5901daae61db",
   "metadata": {},
   "outputs": [],
   "source": [
    "clinical_trials_file = \"../../data/Dimensions/clinical_trials.jsonl\""
   ]
  },
  {
   "cell_type": "code",
   "execution_count": 3,
   "id": "5e568fe0-46ef-465f-83c5-18c3b21ed6e6",
   "metadata": {},
   "outputs": [],
   "source": [
    "AMD_list = []\n",
    "\n",
    "with jsonlines.open(clinical_trials_file) as reader:\n",
    "    publications_list = list(reader)\n",
    "\n",
    "for line in publications_list:\n",
    "    if \"Age-related macular degeneration\" in line[\"text\"]:\n",
    "        AMD_list.append({\n",
    "            \"id\": line[\"id\"],\n",
    "            \"text\": line[\"text\"]\n",
    "        })"
   ]
  },
  {
   "cell_type": "code",
   "execution_count": 4,
   "id": "9e45d38a-5a05-4437-acd2-41e783ce8f23",
   "metadata": {},
   "outputs": [],
   "source": [
    "result = []\n",
    "for i in range(100):\n",
    "    result.append(AMD_list[i])\n",
    "\n",
    "my_dict_list = [{\"id\": item[\"id\"], \"text\": item[\"text\"]} for item in result]\n",
    "\n",
    "with open(\"../../data/abstracts_with_id.json\", \"w\") as outfile:\n",
    "    json.dump(my_dict_list, outfile, indent=4)"
   ]
  }
 ],
 "metadata": {
  "kernelspec": {
   "display_name": ".local-llm",
   "language": "python",
   "name": ".local-llm"
  },
  "language_info": {
   "codemirror_mode": {
    "name": "ipython",
    "version": 3
   },
   "file_extension": ".py",
   "mimetype": "text/x-python",
   "name": "python",
   "nbconvert_exporter": "python",
   "pygments_lexer": "ipython3",
   "version": "3.10.14"
  }
 },
 "nbformat": 4,
 "nbformat_minor": 5
}
