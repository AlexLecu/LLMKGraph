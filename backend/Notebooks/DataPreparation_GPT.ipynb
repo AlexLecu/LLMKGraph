{
 "cells": [
  {
   "cell_type": "code",
   "execution_count": 1,
   "id": "8c0599ca-8f54-434b-bd90-bdf776310100",
   "metadata": {},
   "outputs": [],
   "source": [
    "import json"
   ]
  },
  {
   "cell_type": "code",
   "execution_count": 2,
   "id": "182cba90-87c2-40b3-a95e-ccd649be07ad",
   "metadata": {},
   "outputs": [],
   "source": [
    "mapping = {\"CAUSE\": 'cause', 'TREAT': 'treat', 'PRESENT': 'present', 'AGGRAVATE': 'aggravate', 'PREVENT': 'prevent', 'IMPROVE': 'improve', 'AFFECT': 'affect'}\n",
    "mapping_types = {'DISEASE': '<disease>', 'SYMPTOM': '<symptom>', 'TREATMENT': '<treatment>', 'RISK-FACTOR': '<risk-factor>',\n",
    "                 'TEST': '<test>', 'GENE': '<gene>', 'BIOMARKER': '<biomarker>', 'COMPLICATION': '<complication>',\n",
    "                 'PROGNOSIS': '<prognosis>', 'COMORBIDITY': '<comorbidity>',\n",
    "                 'PROGRESSION': '<progression>', 'BODY-PART': '<body-part>'}"
   ]
  },
  {
   "cell_type": "code",
   "execution_count": 3,
   "id": "055aa00c-2a63-4b24-92a3-8fada4a58f08",
   "metadata": {},
   "outputs": [],
   "source": [
    "ANNOTATED_ABSTRACTS = \"../../Data/annotated_abstracts.jsonl\"\n",
    "EXTRACTED_RELATIONS = \"../../Data/extracted_relations.jsonl\""
   ]
  },
  {
   "cell_type": "code",
   "execution_count": 4,
   "id": "780bce1e-cfde-4158-87a1-5acc8f37308c",
   "metadata": {},
   "outputs": [],
   "source": [
    "with open(ANNOTATED_ABSTRACTS) as json_file, open(EXTRACTED_RELATIONS, 'w') as outfile:\n",
    "    json_list = list(json_file)\n",
    "    for id_, x in enumerate(json_list):\n",
    "        triplets = \"\"\n",
    "        row = json.loads(x)\n",
    "        if 'relations' in row.keys():\n",
    "            for relation in row['relations']:\n",
    "                first_part = ' '.join([token['text'] for token in row['tokens'][relation['head_span']['token_start']:relation['head_span']['token_end'] + 1]])\n",
    "                second_part = ' '.join([token['text'] for token in row['tokens'][relation['child_span']['token_start']:relation['child_span']['token_end'] + 1]])\n",
    "                triplet = {\"subject\": first_part, \"relation\": mapping[relation[\"label\"]], \"object\": second_part}\n",
    "                json.dump(triplet, outfile)\n",
    "                outfile.write('\\n')"
   ]
  },
  {
   "cell_type": "code",
   "execution_count": 5,
   "id": "c43daffb-c74b-4933-acb9-26449eeb51f0",
   "metadata": {},
   "outputs": [],
   "source": [
    "ORIGINAL_FILE_TRAIN=\"../../Data/training_data.jsonl\"\n",
    "ORIGINAL_FILE_VALIDATION=\"../../Data/validation_data.jsonl\""
   ]
  },
  {
   "cell_type": "code",
   "execution_count": 6,
   "id": "2163f127-6657-4bde-9b4b-aa809abcd729",
   "metadata": {},
   "outputs": [],
   "source": [
    "def split_jsonl_file(input_file, training_file, validation_file, split_index=250):\n",
    "    with open(input_file, 'r') as infile:\n",
    "        lines = infile.readlines()\n",
    "\n",
    "    first_set = lines[:split_index]\n",
    "    second_set = lines[split_index:]\n",
    "\n",
    "    with open(training_file, 'w') as outfile1:\n",
    "        for line in first_set:\n",
    "            outfile1.write(line)\n",
    "\n",
    "    with open(validation_file, 'w') as outfile2:\n",
    "        for line in second_set:\n",
    "            outfile2.write(line)"
   ]
  },
  {
   "cell_type": "code",
   "execution_count": 7,
   "id": "3001cf88-82b6-413a-a08d-94df20cdd407",
   "metadata": {},
   "outputs": [],
   "source": [
    "split_jsonl_file(EXTRACTED_RELATIONS, ORIGINAL_FILE_TRAIN, ORIGINAL_FILE_VALIDATION)"
   ]
  },
  {
   "cell_type": "code",
   "execution_count": 8,
   "id": "edbf485b-d123-4df1-98f7-05850c773ca2",
   "metadata": {},
   "outputs": [],
   "source": [
    "def transform_to_chat_format(input_file_path, output_file_path):\n",
    "    transformed_data = []\n",
    "\n",
    "    with open(input_file_path, 'r') as input_file:\n",
    "        for line in input_file:\n",
    "            item = json.loads(line)\n",
    "            subject = item['subject']\n",
    "            relation = item['relation']\n",
    "            obj = item['object']\n",
    "            \n",
    "            if relation == \"cause\":\n",
    "                user_message = f\"What does {subject} cause?\"\n",
    "                assistant_message = f\"{subject} causes {obj}.\"\n",
    "            elif relation == \"aggravate\":\n",
    "                user_message = f\"What does {subject} aggravate?\"\n",
    "                assistant_message = f\"{subject} aggravates {obj}.\"\n",
    "            elif relation == \"treat\":\n",
    "                user_message = f\"How is {obj} treated?\"\n",
    "                assistant_message = f\"{obj} is treated with {subject}.\"\n",
    "            elif relation == \"prevent\":\n",
    "                user_message = f\"How can {obj} be prevented?\"\n",
    "                assistant_message = f\"{obj} can be prevented with {subject}.\"\n",
    "            elif relation == \"present\":\n",
    "                user_message = f\"Where is the {subject} present?\"\n",
    "                assistant_message = f\"{subject} is present in {obj}.\"\n",
    "            elif relation == \"improve\":\n",
    "                user_message = f\"How can {obj} be improved?\"\n",
    "                assistant_message = f\"{obj} can be improved with {subject}.\"\n",
    "            elif relation == \"affect\":\n",
    "                user_message = f\"What affects the {subject} ?\"\n",
    "                assistant_message = f\"{subject} affects {obj}.\"\n",
    "            else:  # Default template for other relations\n",
    "                user_message = f\"Tell me about {subject} and its relation to {obj}.\"\n",
    "                assistant_message = f\"{subject} and {obj} are related through {relation}.\"\n",
    "            \n",
    "            chat_entry = {\n",
    "                \"messages\": [\n",
    "                    {\"role\": \"system\", \"content\": \"You are a helpful assistant.\"},\n",
    "                    {\"role\": \"user\", \"content\": user_message},\n",
    "                    {\"role\": \"assistant\", \"content\": assistant_message}\n",
    "                ]\n",
    "            }\n",
    "            \n",
    "            transformed_data.append(chat_entry)\n",
    "\n",
    "    with open(output_file_path, 'w') as output_file:\n",
    "        for item in transformed_data:\n",
    "            output_file.write(json.dumps(item) + '\\n')"
   ]
  },
  {
   "cell_type": "code",
   "execution_count": 9,
   "id": "c4789621-11df-41a6-8abe-0d6d93106f04",
   "metadata": {},
   "outputs": [],
   "source": [
    "MESSAGE_FILE_TRAIN = '../../Data/chat_completion_format_training_data.jsonl'\n",
    "MESSAGE_FILE_VALIDATION = '../../Data/chat_completion_format_validation_data.jsonl'"
   ]
  },
  {
   "cell_type": "code",
   "execution_count": 10,
   "id": "913a8c32-0309-4aae-a27d-a05ca7edfb05",
   "metadata": {},
   "outputs": [
    {
     "name": "stdout",
     "output_type": "stream",
     "text": [
      "Data transformation complete. The transformed data is saved to ../../Data/chat_completion_format_training_data.jsonl\n"
     ]
    }
   ],
   "source": [
    "transform_to_chat_format(ORIGINAL_FILE_TRAIN, MESSAGE_FILE_TRAIN)\n",
    "\n",
    "print(\"Data transformation complete. The transformed data is saved to\", MESSAGE_FILE_TRAIN)"
   ]
  },
  {
   "cell_type": "code",
   "execution_count": 11,
   "id": "053674e3-ffd1-44ff-a77f-9cf7162a05ff",
   "metadata": {},
   "outputs": [
    {
     "name": "stdout",
     "output_type": "stream",
     "text": [
      "Data transformation complete. The transformed data is saved to ../../Data/chat_completion_format_validation_data.jsonl\n"
     ]
    }
   ],
   "source": [
    "transform_to_chat_format(ORIGINAL_FILE_VALIDATION, MESSAGE_FILE_VALIDATION)\n",
    "\n",
    "print(\"Data transformation complete. The transformed data is saved to\", MESSAGE_FILE_VALIDATION)"
   ]
  },
  {
   "cell_type": "code",
   "execution_count": null,
   "id": "32078db6-165a-4abb-9bcc-410d4e3a583e",
   "metadata": {},
   "outputs": [],
   "source": []
  }
 ],
 "metadata": {
  "kernelspec": {
   "display_name": "Python 3 (ipykernel)",
   "language": "python",
   "name": "python3"
  },
  "language_info": {
   "codemirror_mode": {
    "name": "ipython",
    "version": 3
   },
   "file_extension": ".py",
   "mimetype": "text/x-python",
   "name": "python",
   "nbconvert_exporter": "python",
   "pygments_lexer": "ipython3",
   "version": "3.8.19"
  }
 },
 "nbformat": 4,
 "nbformat_minor": 5
}
