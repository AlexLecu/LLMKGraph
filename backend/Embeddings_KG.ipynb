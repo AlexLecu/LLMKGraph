{
 "cells": [
  {
   "cell_type": "code",
   "execution_count": 1,
   "id": "17bcd82f-a640-4cec-8594-4f08a6b78a65",
   "metadata": {},
   "outputs": [
    {
     "name": "stderr",
     "output_type": "stream",
     "text": [
      "/tmp/ipykernel_502651/3245306763.py:3: TqdmExperimentalWarning: Using `tqdm.autonotebook.tqdm` in notebook mode. Use `tqdm.tqdm` instead to force console mode (e.g. in jupyter console)\n",
      "  from tqdm.autonotebook import tqdm, trange\n"
     ]
    }
   ],
   "source": [
    "from SPARQLWrapper import SPARQLWrapper, JSON\n",
    "from langchain_huggingface.embeddings import HuggingFaceEmbeddings\n",
    "from tqdm.autonotebook import tqdm, trange"
   ]
  },
  {
   "cell_type": "code",
   "execution_count": 2,
   "id": "52d41fc0-4621-4478-a29e-fc3997f62c1a",
   "metadata": {},
   "outputs": [],
   "source": [
    "import faiss\n",
    "import numpy as np"
   ]
  },
  {
   "cell_type": "code",
   "execution_count": 3,
   "id": "5d1873b3-60f1-428c-b072-69205ced9d06",
   "metadata": {},
   "outputs": [],
   "source": [
    "from transformers import AutoModelForCausalLM, AutoTokenizer"
   ]
  },
  {
   "cell_type": "code",
   "execution_count": 4,
   "id": "9d811542-918a-4bbb-b012-71e43ec0a1f6",
   "metadata": {},
   "outputs": [],
   "source": [
    "sparql = SPARQLWrapper(\"http://localhost:7200/repositories/amd_repo\")"
   ]
  },
  {
   "cell_type": "code",
   "execution_count": 5,
   "id": "0241222d-ffc6-43c7-aa5f-a25fb7f3bc1c",
   "metadata": {},
   "outputs": [],
   "source": [
    "sparql.setQuery(\"\"\"\n",
    "    SELECT ?subject ?predicate ?object\n",
    "    WHERE {\n",
    "        ?subject ?predicate ?object\n",
    "    }\n",
    "    LIMIT 1000\n",
    "\"\"\")"
   ]
  },
  {
   "cell_type": "code",
   "execution_count": 6,
   "id": "708946cb-ce00-41a0-aaa6-2225225611d7",
   "metadata": {},
   "outputs": [],
   "source": [
    "sparql.setReturnFormat(JSON)\n",
    "results = sparql.query().convert()"
   ]
  },
  {
   "cell_type": "code",
   "execution_count": 7,
   "id": "06d2c416-e0d3-4590-92b1-8d07676a603c",
   "metadata": {},
   "outputs": [],
   "source": [
    "kg_triples = []\n",
    "for result in results[\"results\"][\"bindings\"]:\n",
    "    subject = result[\"subject\"][\"value\"]\n",
    "    predicate = result[\"predicate\"][\"value\"]\n",
    "    object = result[\"object\"][\"value\"]\n",
    "    kg_triples.append(f\"{subject} {predicate} {object}\")"
   ]
  },
  {
   "cell_type": "code",
   "execution_count": 8,
   "id": "7350d603-a179-4a57-885b-a901be99e164",
   "metadata": {},
   "outputs": [],
   "source": [
    "embeddings = HuggingFaceEmbeddings()"
   ]
  },
  {
   "cell_type": "code",
   "execution_count": 9,
   "id": "5bc99aed-c88d-42d2-a440-d28daf22a935",
   "metadata": {},
   "outputs": [],
   "source": [
    "kg_embeddings = []\n",
    "for kg_triple in kg_triples:\n",
    "    emb = embeddings.embed_query(kg_triple)\n",
    "    kg_embeddings.append(emb)"
   ]
  },
  {
   "cell_type": "code",
   "execution_count": 10,
   "id": "c768c16a-4330-4870-b758-eec34993ce05",
   "metadata": {},
   "outputs": [],
   "source": [
    "kg_embeddings = np.array(kg_embeddings, dtype=np.float32)"
   ]
  },
  {
   "cell_type": "code",
   "execution_count": 11,
   "id": "b4f96636-390c-47ae-8866-c411fdaa9e4e",
   "metadata": {},
   "outputs": [],
   "source": [
    "d = kg_embeddings.shape[1]  # Dimension of embeddings\n",
    "index = faiss.IndexFlatL2(d)\n",
    "index.add(kg_embeddings)  # Add embeddings to the index\n",
    "\n",
    "# Save the index and mappings\n",
    "faiss.write_index(index, 'kg_index.faiss')\n",
    "np.save('kg_triples.npy', kg_triples)"
   ]
  },
  {
   "cell_type": "code",
   "execution_count": 12,
   "id": "e7f7648c-b2b7-4d67-99a3-ab4fda741720",
   "metadata": {},
   "outputs": [],
   "source": [
    "index = faiss.read_index('kg_index.faiss')\n",
    "kg_triples = np.load('kg_triples.npy', allow_pickle=True)"
   ]
  },
  {
   "cell_type": "code",
   "execution_count": 13,
   "id": "bbb70cdb-be6a-488c-a208-de2385012b31",
   "metadata": {},
   "outputs": [],
   "source": [
    "def search_kg(query, top_k=5):\n",
    "    query_embedding = embeddings.embed_query(query)\n",
    "    query_embedding = np.array(query_embedding, dtype=np.float32)\n",
    "    if len(query_embedding.shape) == 1:\n",
    "        query_embedding = np.expand_dims(query_embedding, axis=0)\n",
    "    \n",
    "    distances, indices = index.search(query_embedding, top_k)\n",
    "    return [kg_triples[i] for i in indices[0]]"
   ]
  },
  {
   "cell_type": "code",
   "execution_count": 14,
   "id": "986f66ea-49cc-400b-a928-0b08eee4c4ab",
   "metadata": {},
   "outputs": [],
   "source": [
    "query = \"How is AMD related to blindness?\"\n",
    "relevant_kg_elements = search_kg(query)"
   ]
  },
  {
   "cell_type": "code",
   "execution_count": 15,
   "id": "46ea19b3-3745-4994-91a9-ce855105a949",
   "metadata": {},
   "outputs": [
    {
     "data": {
      "text/plain": [
       "['http://www.semanticweb.org/lecualexandru/ontologies/2024/1/untitled-ontology-6#Age_-_related_macular_degeneration_(_AMD_) http://www.semanticweb.org/lecualexandru/ontologies/2024/1/untitled-ontology-6#cause http://www.semanticweb.org/lecualexandru/ontologies/2024/1/untitled-ontology-6#irreversible_severe_central_visual_loss',\n",
       " 'http://www.semanticweb.org/lecualexandru/ontologies/2024/1/untitled-ontology-6#Age_-_related_macular_degeneration_(_AMD_) http://www.semanticweb.org/lecualexandru/ontologies/2024/1/untitled-ontology-6#cause http://www.semanticweb.org/lecualexandru/ontologies/2024/1/untitled-ontology-6#permanent_loss_of_central_vision',\n",
       " 'http://www.semanticweb.org/lecualexandru/ontologies/2024/1/untitled-ontology-6#Age_-_related_macular_degeneration_(_AMD_) http://www.semanticweb.org/lecualexandru/ontologies/2024/1/untitled-ontology-6#cause http://www.semanticweb.org/lecualexandru/ontologies/2024/1/untitled-ontology-6#severe_vision_loss',\n",
       " 'http://www.semanticweb.org/lecualexandru/ontologies/2024/1/untitled-ontology-6#AMD http://www.semanticweb.org/lecualexandru/ontologies/2024/1/untitled-ontology-6#cause http://www.semanticweb.org/lecualexandru/ontologies/2024/1/untitled-ontology-6#irreversible_severe_central_visual_loss',\n",
       " 'http://www.semanticweb.org/lecualexandru/ontologies/2024/1/untitled-ontology-6#age_-_related_macular_degeneration http://www.semanticweb.org/lecualexandru/ontologies/2024/1/untitled-ontology-6#cause http://www.semanticweb.org/lecualexandru/ontologies/2024/1/untitled-ontology-6#irreversible_severe_central_visual_loss']"
      ]
     },
     "execution_count": 15,
     "metadata": {},
     "output_type": "execute_result"
    }
   ],
   "source": [
    "relevant_kg_elements"
   ]
  },
  {
   "cell_type": "code",
   "execution_count": 16,
   "id": "11c80af6-c03e-4d7e-b0b5-559262e0d975",
   "metadata": {},
   "outputs": [],
   "source": [
    "# Construct prompt\n",
    "prompt = f\"Query: {query}\\nRelevant Information: {', '.join(relevant_kg_elements)}\\nAnswer:\""
   ]
  },
  {
   "cell_type": "code",
   "execution_count": 17,
   "id": "16560d27-0ac6-484d-8361-c61e08005b61",
   "metadata": {},
   "outputs": [
    {
     "data": {
      "application/vnd.jupyter.widget-view+json": {
       "model_id": "aa311fc38c77497b8c50225283a689cc",
       "version_major": 2,
       "version_minor": 0
      },
      "text/plain": [
       "Loading checkpoint shards:   0%|          | 0/2 [00:00<?, ?it/s]"
      ]
     },
     "metadata": {},
     "output_type": "display_data"
    },
    {
     "name": "stderr",
     "output_type": "stream",
     "text": [
      "Some parameters are on the meta device device because they were offloaded to the cpu.\n"
     ]
    }
   ],
   "source": [
    "from transformers import AutoTokenizer, AutoModelForCausalLM\n",
    "\n",
    "falcon_tokenizer = AutoTokenizer.from_pretrained(\"tiiuae/falcon-7b-instruct\")\n",
    "falcon_model = AutoModelForCausalLM.from_pretrained(\"tiiuae/falcon-7b-instruct\", device_map=\"auto\")"
   ]
  },
  {
   "cell_type": "code",
   "execution_count": 18,
   "id": "2583a0ec-0c9e-49e6-a107-74c28d59d70f",
   "metadata": {},
   "outputs": [],
   "source": [
    "def generate_response(prompt, max_length=1000):\n",
    "    inputs = falcon_tokenizer(prompt, return_tensors=\"pt\")\n",
    "    outputs = falcon_model.generate(inputs.input_ids, max_length=max_length, num_return_sequences=1)\n",
    "    return falcon_tokenizer.decode(outputs[0], skip_special_tokens=True)"
   ]
  },
  {
   "cell_type": "code",
   "execution_count": 19,
   "id": "e724e41e-37d9-4ff3-bf42-4247439db4bc",
   "metadata": {},
   "outputs": [],
   "source": [
    "# Example query\n",
    "query = \"How is AMD related to blindness?\"\n",
    "relevant_kg_elements = search_kg(query)"
   ]
  },
  {
   "cell_type": "code",
   "execution_count": 20,
   "id": "c23fbb77-fda4-4813-ad91-c8aa915e8863",
   "metadata": {},
   "outputs": [
    {
     "name": "stderr",
     "output_type": "stream",
     "text": [
      "The attention mask and the pad token id were not set. As a consequence, you may observe unexpected behavior. Please pass your input's `attention_mask` to obtain reliable results.\n",
      "Setting `pad_token_id` to `eos_token_id`:11 for open-end generation.\n",
      "The attention mask is not set and cannot be inferred from input because pad token is same as eos token.As a consequence, you may observe unexpected behavior. Please pass your input's `attention_mask` to obtain reliable results.\n",
      "/home/alexlecu/PycharmProjects/LLMKGraph/.local-llmapp/lib/python3.10/site-packages/transformers/generation/utils.py:1797: UserWarning: You are calling .generate() with the `input_ids` being on a device type different than your model's device. `input_ids` is on cpu, whereas the model is on cuda. You may experience unexpected behaviors or slower generation. Please make sure that you have put `input_ids` to the correct device by calling for example input_ids = input_ids.to('cuda') before running `.generate()`.\n",
      "  warnings.warn(\n"
     ]
    },
    {
     "name": "stdout",
     "output_type": "stream",
     "text": [
      "Query: How is AMD related to blindness?\n",
      "Relevant Information: http://www.semanticweb.org/lecualexandru/ontologies/2024/1/untitled-ontology-6#Age_-_related_macular_degeneration_(_AMD_) http://www.semanticweb.org/lecualexandru/ontologies/2024/1/untitled-ontology-6#cause http://www.semanticweb.org/lecualexandru/ontologies/2024/1/untitled-ontology-6#irreversible_severe_central_visual_loss, http://www.semanticweb.org/lecualexandru/ontologies/2024/1/untitled-ontology-6#Age_-_related_macular_degeneration_(_AMD_) http://www.semanticweb.org/lecualexandru/ontologies/2024/1/untitled-ontology-6#cause http://www.semanticweb.org/lecualexandru/ontologies/2024/1/untitled-ontology-6#permanent_loss_of_central_vision, http://www.semanticweb.org/lecualexandru/ontologies/2024/1/untitled-ontology-6#Age_-_related_macular_degeneration_(_AMD_) http://www.semanticweb.org/lecualexandru/ontologies/2024/1/untitled-ontology-6#cause http://www.semanticweb.org/lecualexandru/ontologies/2024/1/untitled-ontology-6#severe_vision_loss, http://www.semanticweb.org/lecualexandru/ontologies/2024/1/untitled-ontology-6#AMD http://www.semanticweb.org/lecualexandru/ontologies/2024/1/untitled-ontology-6#cause http://www.semanticweb.org/lecualexandru/ontologies/2024/1/untitled-ontology-6#irreversible_severe_central_visual_loss, http://www.semanticweb.org/lecualexandru/ontologies/2024/1/untitled-ontology-6#age_-_related_macular_degeneration http://www.semanticweb.org/lecualexandru/ontologies/2024/1/untitled-ontology-6#cause http://www.semanticweb.org/lecualexandru/ontologies/2024/1/untitled-ontology-6#irreversible_severe_central_visual_loss\n",
      "Answer: AMD is related to blindness because it can cause irreversible central vision loss. AMD is a degenerative eye disease that affects the macula, which is responsible for central vision. The disease can cause permanent damage to the central vision, leading to blindness. AMD is a leading cause of vision loss in people over the age of 50.\n"
     ]
    }
   ],
   "source": [
    "response = generate_response(prompt)\n",
    "print(response)"
   ]
  },
  {
   "cell_type": "code",
   "execution_count": null,
   "id": "388876d0-0648-4791-bbdf-61a6901b96c2",
   "metadata": {},
   "outputs": [],
   "source": []
  }
 ],
 "metadata": {
  "kernelspec": {
   "display_name": ".local-llmapp",
   "language": "python",
   "name": ".local-llmapp"
  },
  "language_info": {
   "codemirror_mode": {
    "name": "ipython",
    "version": 3
   },
   "file_extension": ".py",
   "mimetype": "text/x-python",
   "name": "python",
   "nbconvert_exporter": "python",
   "pygments_lexer": "ipython3",
   "version": "3.10.13"
  }
 },
 "nbformat": 4,
 "nbformat_minor": 5
}
